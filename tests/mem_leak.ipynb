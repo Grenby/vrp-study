{
 "cells": [
  {
   "cell_type": "code",
   "outputs": [],
   "source": [
    "from dataclasses import dataclass, field\n",
    "import gc"
   ],
   "metadata": {
    "collapsed": false,
    "ExecuteTime": {
     "end_time": "2025-08-08T11:27:25.285830Z",
     "start_time": "2025-08-08T11:27:25.276548Z"
    }
   },
   "id": "407bc406e894ddc5",
   "execution_count": 2
  },
  {
   "cell_type": "code",
   "outputs": [],
   "source": [
    "@dataclass\n",
    "class A:\n",
    "    b_id: int = field(default=0)\n",
    "\n",
    "    def __del__(self):\n",
    "        print(\"delete A\")\n",
    "\n",
    "\n",
    "@dataclass\n",
    "class B:\n",
    "    id: int\n",
    "    a: A\n",
    "\n",
    "    def __del__(self):\n",
    "        print(\"delete B\")"
   ],
   "metadata": {
    "collapsed": false,
    "ExecuteTime": {
     "end_time": "2025-08-08T11:27:25.303755Z",
     "start_time": "2025-08-08T11:27:25.294690Z"
    }
   },
   "id": "1e1c611a7d5b0268",
   "execution_count": 3
  },
  {
   "cell_type": "code",
   "outputs": [],
   "source": [
    "def func():\n",
    "    array = [1, 2, 3, 4, 5, 6, 7, 8, 9, 10] * 12\n",
    "\n",
    "    a: A = A(b_id=len(array))\n",
    "    b: B = B(len(array), a)\n"
   ],
   "metadata": {
    "collapsed": false,
    "ExecuteTime": {
     "end_time": "2025-08-08T11:27:25.335484Z",
     "start_time": "2025-08-08T11:27:25.330802Z"
    }
   },
   "id": "60076ec00b5a8a1e",
   "execution_count": 4
  },
  {
   "cell_type": "code",
   "outputs": [
    {
     "name": "stdout",
     "output_type": "stream",
     "text": [
      "delete B\n",
      "delete A\n"
     ]
    },
    {
     "data": {
      "text/plain": "278"
     },
     "execution_count": 5,
     "metadata": {},
     "output_type": "execute_result"
    }
   ],
   "source": [
    "func()\n",
    "gc.collect()"
   ],
   "metadata": {
    "collapsed": false,
    "ExecuteTime": {
     "end_time": "2025-08-08T11:27:25.406060Z",
     "start_time": "2025-08-08T11:27:25.351808Z"
    }
   },
   "id": "75c86a38050e023c",
   "execution_count": 5
  },
  {
   "cell_type": "code",
   "outputs": [],
   "source": [
    "@dataclass\n",
    "class A1:\n",
    "    data: object\n",
    "    \n",
    "    def __del__(self):\n",
    "        print('delete A1')\n",
    "@dataclass\n",
    "class A2:\n",
    "    data: object\n",
    "    def __del__(self):\n",
    "        print('delete A2')\n",
    "def f():\n",
    "    a1=A1(None)\n",
    "    a2=A2(None)\n",
    "    a1.data = a2\n",
    "    a2.data = a1"
   ],
   "metadata": {
    "collapsed": false,
    "ExecuteTime": {
     "end_time": "2025-08-08T11:29:31.059737Z",
     "start_time": "2025-08-08T11:29:31.044255Z"
    }
   },
   "id": "e955afd03a77078b",
   "execution_count": 26
  },
  {
   "cell_type": "code",
   "outputs": [
    {
     "name": "stdout",
     "output_type": "stream",
     "text": [
      "delete A1\n",
      "delete A2\n"
     ]
    },
    {
     "data": {
      "text/plain": "38"
     },
     "execution_count": 27,
     "metadata": {},
     "output_type": "execute_result"
    }
   ],
   "source": [
    "f()\n",
    "gc.collect()"
   ],
   "metadata": {
    "collapsed": false,
    "ExecuteTime": {
     "end_time": "2025-08-08T11:29:31.309397Z",
     "start_time": "2025-08-08T11:29:31.258719Z"
    }
   },
   "id": "a3dc6241b48394f4",
   "execution_count": 27
  },
  {
   "cell_type": "code",
   "outputs": [
    {
     "name": "stdout",
     "output_type": "stream",
     "text": [
      "1\n",
      "1\n",
      "Unreachable objects collected: 9\n"
     ]
    }
   ],
   "source": [
    "import gc\n",
    "\n",
    "class Node:\n",
    "    def __init__(self):\n",
    "        self.other = None\n",
    "        \n",
    "    def __del__(self):\n",
    "        print(1)\n",
    "\n",
    "a = Node()\n",
    "b = Node()\n",
    "a.other = b\n",
    "b.other = a  # create cycle\n",
    "\n",
    "# Remove external references\n",
    "del a\n",
    "del b\n",
    "\n",
    "# Collect garbage\n",
    "unreachable = gc.collect()\n",
    "print(f\"Unreachable objects collected: {unreachable}\")\n"
   ],
   "metadata": {
    "collapsed": false,
    "ExecuteTime": {
     "end_time": "2025-08-08T11:32:14.389195Z",
     "start_time": "2025-08-08T11:32:14.354336Z"
    }
   },
   "id": "931789436ed1a980",
   "execution_count": 4
  },
  {
   "cell_type": "code",
   "outputs": [],
   "source": [],
   "metadata": {
    "collapsed": false
   },
   "id": "15d727adee1031be"
  }
 ],
 "metadata": {
  "kernelspec": {
   "display_name": "Python 3",
   "language": "python",
   "name": "python3"
  },
  "language_info": {
   "codemirror_mode": {
    "name": "ipython",
    "version": 2
   },
   "file_extension": ".py",
   "mimetype": "text/x-python",
   "name": "python",
   "nbconvert_exporter": "python",
   "pygments_lexer": "ipython2",
   "version": "2.7.6"
  }
 },
 "nbformat": 4,
 "nbformat_minor": 5
}
