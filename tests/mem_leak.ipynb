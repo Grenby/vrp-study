{
 "cells": [
  {
   "cell_type": "code",
   "outputs": [],
   "source": [
    "from dataclasses import dataclass, field\n",
    "import gc"
   ],
   "metadata": {
    "collapsed": false,
    "ExecuteTime": {
     "end_time": "2025-07-22T13:34:09.624700Z",
     "start_time": "2025-07-22T13:34:09.621015Z"
    }
   },
   "id": "407bc406e894ddc5",
   "execution_count": 91
  },
  {
   "cell_type": "code",
   "outputs": [],
   "source": [
    "@dataclass\n",
    "class A:\n",
    "    b_id: int = field(default=0)\n",
    "\n",
    "    def __del__(self):\n",
    "        print(\"delete A\")\n",
    "\n",
    "\n",
    "@dataclass\n",
    "class B:\n",
    "    id: int\n",
    "    a: A\n",
    "\n",
    "    def __del__(self):\n",
    "        print(\"delete B\")"
   ],
   "metadata": {
    "collapsed": false,
    "ExecuteTime": {
     "end_time": "2025-07-22T13:34:09.636399Z",
     "start_time": "2025-07-22T13:34:09.627815Z"
    }
   },
   "id": "1e1c611a7d5b0268",
   "execution_count": 92
  },
  {
   "cell_type": "code",
   "outputs": [],
   "source": [
    "def func():\n",
    "    array = [1, 2, 3, 4, 5, 6, 7, 8, 9, 10] * 12\n",
    "\n",
    "    a: A = A(b_id=len(array))\n",
    "    b: B = B(len(array), a)\n"
   ],
   "metadata": {
    "collapsed": false,
    "ExecuteTime": {
     "end_time": "2025-07-22T13:34:09.643615Z",
     "start_time": "2025-07-22T13:34:09.639274Z"
    }
   },
   "id": "60076ec00b5a8a1e",
   "execution_count": 93
  },
  {
   "cell_type": "code",
   "outputs": [
    {
     "name": "stdout",
     "output_type": "stream",
     "text": [
      "delete B\n",
      "delete A\n"
     ]
    },
    {
     "data": {
      "text/plain": "39"
     },
     "execution_count": 94,
     "metadata": {},
     "output_type": "execute_result"
    }
   ],
   "source": [
    "func()\n",
    "gc.collect()"
   ],
   "metadata": {
    "collapsed": false,
    "ExecuteTime": {
     "end_time": "2025-07-22T13:34:09.691585Z",
     "start_time": "2025-07-22T13:34:09.645500Z"
    }
   },
   "id": "75c86a38050e023c",
   "execution_count": 94
  },
  {
   "cell_type": "code",
   "outputs": [],
   "source": [],
   "metadata": {
    "collapsed": false,
    "ExecuteTime": {
     "end_time": "2025-07-22T13:34:09.696405Z",
     "start_time": "2025-07-22T13:34:09.693706Z"
    }
   },
   "id": "e955afd03a77078b",
   "execution_count": 94
  }
 ],
 "metadata": {
  "kernelspec": {
   "display_name": "Python 3",
   "language": "python",
   "name": "python3"
  },
  "language_info": {
   "codemirror_mode": {
    "name": "ipython",
    "version": 2
   },
   "file_extension": ".py",
   "mimetype": "text/x-python",
   "name": "python",
   "nbconvert_exporter": "python",
   "pygments_lexer": "ipython2",
   "version": "2.7.6"
  }
 },
 "nbformat": 4,
 "nbformat_minor": 5
}
