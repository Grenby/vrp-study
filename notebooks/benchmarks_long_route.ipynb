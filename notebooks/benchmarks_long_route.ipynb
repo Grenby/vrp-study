{
 "cells": [
  {
   "cell_type": "code",
   "execution_count": 1,
   "id": "initial_id",
   "metadata": {
    "collapsed": true,
    "ExecuteTime": {
     "end_time": "2025-08-11T08:56:44.106054Z",
     "start_time": "2025-08-11T08:56:43.375389Z"
    }
   },
   "outputs": [],
   "source": [
    "import numpy as np\n",
    "\n",
    "from src.vrp_study.data_model import Tariff, Cargo, Node\n",
    "from src.vrp_study.data_model import TariffCost\n",
    "from src.vrp_study.pdptw_model.pdptw_routing_manager_builder import PDRoutingManagerBuilder\n",
    "from ortools.sat.python.cp_model import CpSolver\n",
    "from src.vrp_study.pdptw_model.routing_model import find_optimal_paths"
   ]
  },
  {
   "cell_type": "code",
   "outputs": [],
   "source": [
    "PRINT_LOG = False"
   ],
   "metadata": {
    "collapsed": false,
    "ExecuteTime": {
     "end_time": "2025-08-11T08:56:44.112257Z",
     "start_time": "2025-08-11T08:56:44.108673Z"
    }
   },
   "id": "987a016da1cafee0",
   "execution_count": 2
  },
  {
   "cell_type": "code",
   "outputs": [],
   "source": [
    "best = {'preferred_variable_order': 2,\n",
    "        'clause_cleanup_protection': 1,\n",
    "        'max_presolve_iterations': 5,\n",
    "        'cp_model_probing_level': 1,\n",
    "        'presolve_probing_deterministic_time_limit': 1.0,\n",
    "        'search_branching': 2,\n",
    "        'feasibility_jump_linearization_level': 0,\n",
    "        'fp_rounding': 0,\n",
    "        'polish_lp_solution': True,\n",
    "        'linearization_level': 0,\n",
    "        'cut_level': 2,\n",
    "        'max_all_diff_cut_size': 128,\n",
    "        'symmetry_level': 0,\n",
    "        'num_workers': 4}\n",
    "\n",
    "\n",
    "def get_solver():\n",
    "    solver = CpSolver()\n",
    "\n",
    "    for k, v in best.items():\n",
    "        if isinstance(v, list):\n",
    "            for ss in v:\n",
    "                solver.parameters.ignore_subsolvers.append(ss)\n",
    "        else:\n",
    "            if 'ignore_subsolvers' in k:\n",
    "                if v:\n",
    "                    solver.parameters.ignore_subsolvers.append(k.split(':')[1])\n",
    "            else:\n",
    "                exec(f'solver.parameters.{k} = {v}')\n",
    "    # solver.parameters.use_lns = True\n",
    "    # solver.parameters.lns_num_threads = 4\n",
    "    solver.parameters.log_search_progress = PRINT_LOG\n",
    "    solver.parameters.max_time_in_seconds = 60.0 * 10\n",
    "\n",
    "    # packing_subsolver = sat_parameters_pb2.SatParameters()\n",
    "    # packing_subsolver.name = \"MyPackingSubsolver\"\n",
    "    # packing_subsolver.use_area_energetic_reasoning_in_no_overlap_2d = False\n",
    "    # packing_subsolver.use_energetic_reasoning_in_no_overlap_2d = False\n",
    "    # packing_subsolver.use_timetabling_in_no_overlap_2d = False\n",
    "    # packing_subsolver.max_pairs_pairwise_reasoning_in_no_overlap_2d = 5_000\n",
    "    # packing_subsolver.\n",
    "    # # Add the subsolver to the portfolio\n",
    "    # solver.parameters.subsolver_params.append(packing_subsolver)  # Define the subsolver\n",
    "    # solver.parameters.extra_subsolvers.append(\n",
    "    #     packing_subsolver.name\n",
    "    # )  # Activate the subsolver\n",
    "    return solver"
   ],
   "metadata": {
    "collapsed": false,
    "ExecuteTime": {
     "end_time": "2025-08-11T08:56:44.122523Z",
     "start_time": "2025-08-11T08:56:44.114080Z"
    }
   },
   "id": "676a3a496d3471cf",
   "execution_count": 3
  },
  {
   "cell_type": "code",
   "outputs": [],
   "source": [
    "benchmark_type = 'pdp_400'\n",
    "name = 'LC1_4_9.txt'"
   ],
   "metadata": {
    "collapsed": false,
    "ExecuteTime": {
     "end_time": "2025-08-11T08:56:44.130677Z",
     "start_time": "2025-08-11T08:56:44.123892Z"
    }
   },
   "id": "559f79286744de08",
   "execution_count": 4
  },
  {
   "cell_type": "code",
   "outputs": [],
   "source": [
    "from typing import Optional\n",
    "\n",
    "tariff = None\n",
    "cargos: list[Cargo] = []\n",
    "depo: Optional[Node] = None"
   ],
   "metadata": {
    "collapsed": false,
    "ExecuteTime": {
     "end_time": "2025-08-11T08:56:44.139677Z",
     "start_time": "2025-08-11T08:56:44.135523Z"
    }
   },
   "id": "991efc321c7b5ad9",
   "execution_count": 5
  },
  {
   "cell_type": "code",
   "outputs": [],
   "source": [
    "id2info = {}\n",
    "p2coordinates = {}\n",
    "with open(f'../data/Li & Lim benchmark/{benchmark_type}/{name}', 'r') as file:\n",
    "    for i, line in enumerate(file):\n",
    "        line = line.split('\\t')\n",
    "        if i == 0:\n",
    "            tariff = Tariff(\n",
    "                id='car',\n",
    "                capacity=int(line[1]),\n",
    "                max_count=int(line[0]),\n",
    "                cost_per_distance=[TariffCost(\n",
    "                    min_dst_km=0,\n",
    "                    max_dst_km=10000,\n",
    "                    cost_per_km=1,\n",
    "                    fixed_cost=0\n",
    "                )]\n",
    "            )\n",
    "        else:\n",
    "            c_id = int(line[0])\n",
    "            x = int(line[1])\n",
    "            y = int(line[2])\n",
    "\n",
    "            mass = int(line[3])\n",
    "\n",
    "            et = int(line[4])\n",
    "            lt = int(line[5])\n",
    "            st = int(line[6])\n",
    "\n",
    "            pick_up = int(line[7])\n",
    "            delivery = int(line[8])\n",
    "            if pick_up == delivery:\n",
    "                # print(12)\n",
    "                depo = Node(\n",
    "                    id=0,\n",
    "                    cargo_id=c_id,\n",
    "                    capacity=0,\n",
    "                    service_time=0,\n",
    "                    start_time=0,\n",
    "                    end_time=lt,\n",
    "                    coordinates=(x, y)\n",
    "                )\n",
    "                continue\n",
    "            if pick_up == 0:\n",
    "                if c_id not in id2info:\n",
    "                    id2info[c_id] = {}\n",
    "                id2info[c_id][0] = (x, y, mass, et, lt, st, c_id, delivery)\n",
    "            else:\n",
    "                delivery = c_id\n",
    "                c_id = pick_up\n",
    "                if c_id not in id2info:\n",
    "                    id2info[c_id] = {}\n",
    "                id2info[c_id][1] = (x, y, mass, et, lt, st, pick_up, delivery)\n"
   ],
   "metadata": {
    "collapsed": false,
    "ExecuteTime": {
     "end_time": "2025-08-11T08:56:44.157581Z",
     "start_time": "2025-08-11T08:56:44.141798Z"
    }
   },
   "id": "9a1a50b9550c425c",
   "execution_count": 6
  },
  {
   "cell_type": "code",
   "outputs": [
    {
     "data": {
      "text/plain": "Node(id=0, cargo_id=0, capacity=0, start_time=0, end_time=1501, service_time=0, coordinates=(100, 100))"
     },
     "execution_count": 7,
     "metadata": {},
     "output_type": "execute_result"
    }
   ],
   "source": [
    "depo"
   ],
   "metadata": {
    "collapsed": false,
    "ExecuteTime": {
     "end_time": "2025-08-11T08:56:44.172036Z",
     "start_time": "2025-08-11T08:56:44.159516Z"
    }
   },
   "id": "c2fb6bc413a17132",
   "execution_count": 7
  },
  {
   "cell_type": "code",
   "outputs": [],
   "source": [
    "\n",
    "for k, v in id2info.items():\n",
    "    cargos.append(\n",
    "        Cargo(\n",
    "            id=k,\n",
    "            nodes=[\n",
    "                Node(\n",
    "                    cargo_id=k,\n",
    "                    id=v[i][6] if i == 0 else v[i][7],\n",
    "                    capacity=v[i][2],\n",
    "                    service_time=v[i][5],\n",
    "                    start_time=v[i][3],\n",
    "                    end_time=v[i][4],\n",
    "                    coordinates=(v[i][0], v[i][1])\n",
    "                )\n",
    "                for i in range(2)\n",
    "            ]\n",
    "        )\n",
    "    )"
   ],
   "metadata": {
    "collapsed": false,
    "ExecuteTime": {
     "end_time": "2025-08-11T08:56:44.181930Z",
     "start_time": "2025-08-11T08:56:44.174004Z"
    }
   },
   "id": "f7bbc6862498a04e",
   "execution_count": 8
  },
  {
   "cell_type": "code",
   "outputs": [],
   "source": [
    "p2coordinates.update({\n",
    "    crg.nodes[i].id: crg.nodes[i].coordinates for crg in cargos for i in range(2)\n",
    "})\n",
    "p2coordinates[depo.id] = depo.coordinates\n",
    "distance_matrix = {(u, v): np.sqrt((du[0] - dv[0]) ** 2 + (du[1] - dv[1]) ** 2) for u, du in\n",
    "                   p2coordinates.items() for\n",
    "                   v, dv in p2coordinates.items()}\n",
    "time_matrix = {(u, v): np.sqrt((du[0] - dv[0]) ** 2 + (du[1] - dv[1]) ** 2) for u, du in p2coordinates.items() for\n",
    "               v, dv in p2coordinates.items()}"
   ],
   "metadata": {
    "collapsed": false,
    "ExecuteTime": {
     "end_time": "2025-08-11T08:56:45.329117Z",
     "start_time": "2025-08-11T08:56:44.184243Z"
    }
   },
   "id": "4239a4ae965983df",
   "execution_count": 9
  },
  {
   "cell_type": "code",
   "outputs": [
    {
     "data": {
      "text/plain": "209"
     },
     "execution_count": 10,
     "metadata": {},
     "output_type": "execute_result"
    }
   ],
   "source": [
    "len(cargos)"
   ],
   "metadata": {
    "collapsed": false,
    "ExecuteTime": {
     "end_time": "2025-08-11T08:56:45.335933Z",
     "start_time": "2025-08-11T08:56:45.330599Z"
    }
   },
   "id": "df63e4ca4f5fb1c8",
   "execution_count": 10
  },
  {
   "cell_type": "code",
   "outputs": [],
   "source": [
    "cargos = cargos[:5]"
   ],
   "metadata": {
    "collapsed": false,
    "ExecuteTime": {
     "end_time": "2025-08-11T08:57:42.582327Z",
     "start_time": "2025-08-11T08:57:42.571870Z"
    }
   },
   "id": "1b4a1ba0b27c32d3",
   "execution_count": 22
  },
  {
   "cell_type": "code",
   "outputs": [],
   "source": [
    "\n",
    "from src.vrp_study.configs import ModelConfig\n",
    "\n",
    "routing_manager = PDRoutingManagerBuilder(\n",
    "    distance_matrix=distance_matrix,\n",
    "    time_matrix=time_matrix,\n",
    "    model_config=ModelConfig(max_execution_time_minutes=1)\n",
    ")\n",
    "\n",
    "routing_manager.add_cargos(cargos)\n",
    "routing_manager.add_tariff(tariff)\n",
    "\n",
    "routing_manager.add_depo(depo)\n",
    "\n",
    "routing_manager = routing_manager.build()"
   ],
   "metadata": {
    "collapsed": false,
    "ExecuteTime": {
     "end_time": "2025-08-11T08:57:42.839170Z",
     "start_time": "2025-08-11T08:57:42.834723Z"
    }
   },
   "id": "6bd1e99727e05112",
   "execution_count": 23
  },
  {
   "cell_type": "code",
   "outputs": [],
   "source": [
    "from ortools.sat.python.cp_model import CpModel\n",
    "from vrp_study.routing_manager import RoutingManager\n",
    "\n",
    "\n",
    "class RoutingModel:\n",
    "    def __init__(self, routing_manager: RoutingManager):\n",
    "        self.N = 8\n",
    "        self.M = 1000_000\n",
    "        self.R = {}\n",
    "        self.T = {}\n",
    "        self.model = CpModel()\n",
    "        self.routing_manager = routing_manager\n",
    "        self.__init_model()\n",
    "\n",
    "    def __init_model(self):\n",
    "        N = self.N\n",
    "        M = self.M\n",
    "        R = self.R\n",
    "        T = self.T\n",
    "        model = self.model\n",
    "        routing_manager = self.routing_manager\n",
    "\n",
    "        for r in range(N):\n",
    "            for i, n in enumerate(routing_manager.nodes()):\n",
    "                R[r, i] = model.new_bool_var(f'r_{r, i}')\n",
    "\n",
    "        min_time = min(n.start_time for n in routing_manager.nodes())\n",
    "        max_time = max(n.end_time for n in routing_manager.nodes())\n",
    "\n",
    "        for r in range(N):\n",
    "            T[r] = model.new_int_var(lb=min_time, ub=max_time, name=f'time_{r}')\n",
    "\n",
    "        nodes = routing_manager.nodes()\n",
    "\n",
    "        for r in range(N):\n",
    "            model.add(sum(R[r, i] for i in range(len(nodes))) == 1)\n",
    "\n",
    "        for i, n in enumerate(nodes):\n",
    "            if n.is_transit:\n",
    "                model.add(sum(R[r, i] for r in range(N)) <= 1)\n",
    "\n",
    "        for r in range(N):\n",
    "            model.add(T[r] <= sum(R[r, i] * n.end_time for i, n in enumerate(nodes)))\n",
    "            model.add(T[r] >= sum(R[r, i] * n.start_time for i, n in enumerate(nodes)))\n",
    "\n",
    "        for r in range(N - 1):\n",
    "            for j, nj in enumerate(nodes):\n",
    "                model.add(T[r + 1] - T[r] >= sum(\n",
    "                    R[r, i] * int(ni.service_time + routing_manager.get_time(ni, nj)) for i, ni in enumerate(nodes)\n",
    "                ) - M * (1 - R[r + 1, j]))\n",
    "\n",
    "        for pdp in routing_manager.get_pick_up_and_delivery_nodes():\n",
    "            indices = sum([[R[r, i] for i in pdp] for r in range(N)], [])\n",
    "            transitions = [\n",
    "                (0, 0, 1),\n",
    "                (1, 0, 0),\n",
    "                (0, 1, 2),\n",
    "                (2, 0, 2),\n",
    "                (2, 1, 3),\n",
    "                (3, 0, 3)\n",
    "            ]\n",
    "            model.add_automaton(\n",
    "                transition_triples=transitions,\n",
    "                transition_expressions=indices,\n",
    "                starting_state=0,\n",
    "                final_states=[3, 0],\n",
    "            )\n",
    "            # indices = sum([[(r, i) for r in range(N)] for i in pdp], [])\n",
    "            # print(indices)\n",
    "            # print(transitions)\n",
    "\n",
    "        indices = sum([[R[r, 0] for r in range(1, N)]], [])\n",
    "        print(indices)\n",
    "        transitions = [\n",
    "            (0, 0, 0),\n",
    "            (0, 1, 1),\n",
    "            (1, 1, 1)\n",
    "        ]\n",
    "        model.add_automaton(\n",
    "            transition_triples=transitions,\n",
    "            transition_expressions=indices,\n",
    "            starting_state=0,\n",
    "            final_states=[1]\n",
    "        )\n",
    "\n",
    "        model.add(R[0, 0] == 1)\n",
    "        model.add(R[N - 1, 0] == 1)\n"
   ],
   "metadata": {
    "collapsed": false,
    "ExecuteTime": {
     "end_time": "2025-08-11T08:57:43.071216Z",
     "start_time": "2025-08-11T08:57:43.058413Z"
    }
   },
   "id": "f8e3471d624d43d9",
   "execution_count": 24
  },
  {
   "cell_type": "code",
   "outputs": [
    {
     "name": "stdout",
     "output_type": "stream",
     "text": [
      "[r_(1, 0)(0..1), r_(2, 0)(0..1), r_(3, 0)(0..1), r_(4, 0)(0..1), r_(5, 0)(0..1), r_(6, 0)(0..1), r_(7, 0)(0..1)]\n"
     ]
    }
   ],
   "source": [
    "model = RoutingModel(routing_manager)"
   ],
   "metadata": {
    "collapsed": false,
    "ExecuteTime": {
     "end_time": "2025-08-11T08:57:43.309503Z",
     "start_time": "2025-08-11T08:57:43.288779Z"
    }
   },
   "id": "100661ef13bea65c",
   "execution_count": 25
  },
  {
   "cell_type": "code",
   "outputs": [
    {
     "data": {
      "text/plain": "InnerNode(id=0, start_time=0, end_time=1501, service_time=0, demand=0, is_transit=False, pdp_id=-1, routing_node=Node(id=0, cargo_id=0, capacity=0, start_time=0, end_time=1501, service_time=0, coordinates=(100, 100)))"
     },
     "execution_count": 26,
     "metadata": {},
     "output_type": "execute_result"
    }
   ],
   "source": [
    "car = routing_manager.cars()[0]\n",
    "car.start_node"
   ],
   "metadata": {
    "collapsed": false,
    "ExecuteTime": {
     "end_time": "2025-08-11T08:57:43.543915Z",
     "start_time": "2025-08-11T08:57:43.537949Z"
    }
   },
   "id": "e9c13f82a6cd4dc0",
   "execution_count": 26
  },
  {
   "cell_type": "code",
   "outputs": [
    {
     "data": {
      "text/plain": "InnerNode(id=0, start_time=0, end_time=1501, service_time=0, demand=0, is_transit=False, pdp_id=-1, routing_node=Node(id=0, cargo_id=0, capacity=0, start_time=0, end_time=1501, service_time=0, coordinates=(100, 100)))"
     },
     "execution_count": 27,
     "metadata": {},
     "output_type": "execute_result"
    }
   ],
   "source": [
    "car.end_node"
   ],
   "metadata": {
    "collapsed": false,
    "ExecuteTime": {
     "end_time": "2025-08-11T08:57:43.755734Z",
     "start_time": "2025-08-11T08:57:43.750258Z"
    }
   },
   "id": "8a57442260eaa0dc",
   "execution_count": 27
  },
  {
   "cell_type": "code",
   "outputs": [],
   "source": [
    "model.model.maximize(\n",
    "    sum(model.R[r, i] for r in range(model.N) for i, n in enumerate(routing_manager.nodes()) if n.id > 0)\n",
    ")"
   ],
   "metadata": {
    "collapsed": false,
    "ExecuteTime": {
     "end_time": "2025-08-11T08:57:43.974894Z",
     "start_time": "2025-08-11T08:57:43.970793Z"
    }
   },
   "id": "fd9b88654f2b7546",
   "execution_count": 28
  },
  {
   "cell_type": "code",
   "outputs": [],
   "source": [
    "# solver = get_solver()\n",
    "# solver.solve(model.model)"
   ],
   "metadata": {
    "collapsed": false,
    "ExecuteTime": {
     "end_time": "2025-08-11T08:57:44.165619Z",
     "start_time": "2025-08-11T08:57:44.162722Z"
    }
   },
   "id": "6310e86ab9563850",
   "execution_count": 29
  },
  {
   "cell_type": "code",
   "outputs": [],
   "source": [
    "visited_nodes = set()"
   ],
   "metadata": {
    "collapsed": false,
    "ExecuteTime": {
     "end_time": "2025-08-11T08:57:44.378102Z",
     "start_time": "2025-08-11T08:57:44.374880Z"
    }
   },
   "id": "847d60a13343b191",
   "execution_count": 30
  },
  {
   "cell_type": "code",
   "outputs": [],
   "source": [
    "# for r in range(model.N):\n",
    "#     arr = [solver.value(model.R[r,i]) for i in range(len(routing_manager.nodes()))]\n",
    "#     visited_nodes.update({i for i,val in enumerate(arr) if i > 0 and val == 1 })\n",
    "#     for i in range(len(arr)):\n",
    "#         print(arr[i],end=' ')\n",
    "#         if i == 0 or i%2==0:\n",
    "#             if i == 0:\n",
    "#                 print('->',end='')\n",
    "#             print('| ',end='')            \n",
    "#     print('\\n')\n",
    "#     # print([solver.value(model.R[r,i]) for i in range(len(routing_manager.nodes()))])"
   ],
   "metadata": {
    "collapsed": false,
    "ExecuteTime": {
     "end_time": "2025-08-11T08:57:44.557143Z",
     "start_time": "2025-08-11T08:57:44.552979Z"
    }
   },
   "id": "b31970181797ba2f",
   "execution_count": 31
  },
  {
   "cell_type": "code",
   "outputs": [
    {
     "data": {
      "text/plain": "set()"
     },
     "execution_count": 32,
     "metadata": {},
     "output_type": "execute_result"
    }
   ],
   "source": [
    "visited_nodes"
   ],
   "metadata": {
    "collapsed": false,
    "ExecuteTime": {
     "end_time": "2025-08-11T08:57:44.750702Z",
     "start_time": "2025-08-11T08:57:44.745947Z"
    }
   },
   "id": "10f83c9158cbc14e",
   "execution_count": 32
  },
  {
   "cell_type": "code",
   "outputs": [],
   "source": [],
   "metadata": {
    "collapsed": false,
    "ExecuteTime": {
     "end_time": "2025-08-11T08:57:45.040517Z",
     "start_time": "2025-08-11T08:57:45.038342Z"
    }
   },
   "id": "d8984d1d9b91058f",
   "execution_count": 32
  },
  {
   "cell_type": "code",
   "outputs": [
    {
     "name": "stdout",
     "output_type": "stream",
     "text": [
      "1 ->| 0 0 | 0 0 | 0 0 | 0 0 | 0 0 | \n",
      "\n",
      "0 ->| 0 0 | 0 0 | 0 0 | 0 0 | 1 0 | \n",
      "\n",
      "0 ->| 0 0 | 1 0 | 0 0 | 0 0 | 0 0 | \n",
      "\n",
      "0 ->| 0 0 | 0 0 | 0 0 | 0 0 | 0 1 | \n",
      "\n",
      "0 ->| 0 0 | 0 0 | 1 0 | 0 0 | 0 0 | \n",
      "\n",
      "0 ->| 0 0 | 0 0 | 0 1 | 0 0 | 0 0 | \n",
      "\n",
      "0 ->| 0 0 | 0 1 | 0 0 | 0 0 | 0 0 | \n",
      "\n",
      "1 ->| 0 0 | 0 0 | 0 0 | 0 0 | 0 0 | \n",
      "\n",
      "6\n"
     ]
    }
   ],
   "source": [
    "while (len(visited_nodes) != len(cargos) * 2):\n",
    "    for r in range(model.N):\n",
    "        for node in visited_nodes:\n",
    "            model.model.add_assumption(model.R[r, node].Not())\n",
    "    solver = get_solver()\n",
    "    solver.solve(model.model)\n",
    "    for r in range(model.N):\n",
    "        arr = [solver.value(model.R[r, i]) for i in range(len(routing_manager.nodes()))]\n",
    "        visited_nodes.update({i for i, val in enumerate(arr) if i > 0 and val == 1})\n",
    "        for i in range(len(arr)):\n",
    "            print(arr[i], end=' ')\n",
    "            if i == 0 or i % 2 == 0:\n",
    "                if i == 0:\n",
    "                    print('->', end='')\n",
    "                print('| ', end='')\n",
    "        print('\\n')\n",
    "        # print([solver.value(model.R[r,i]) for i in range(len(routing_manager.nodes()))])\n",
    "    print(len(visited_nodes))\n",
    "    break"
   ],
   "metadata": {
    "collapsed": false,
    "ExecuteTime": {
     "end_time": "2025-08-11T08:57:45.496215Z",
     "start_time": "2025-08-11T08:57:45.439367Z"
    }
   },
   "id": "c002bddc8a9c492a",
   "execution_count": 33
  },
  {
   "cell_type": "code",
   "outputs": [
    {
     "data": {
      "text/plain": "200"
     },
     "execution_count": 23,
     "metadata": {},
     "output_type": "execute_result"
    }
   ],
   "source": [
    "len(cargos) * 2"
   ],
   "metadata": {
    "collapsed": false,
    "ExecuteTime": {
     "end_time": "2025-08-06T07:46:43.955922Z",
     "start_time": "2025-08-06T07:46:43.950876Z"
    }
   },
   "id": "ba2dbf69e43fec5a",
   "execution_count": 23
  },
  {
   "cell_type": "code",
   "outputs": [
    {
     "data": {
      "text/plain": "200"
     },
     "execution_count": 24,
     "metadata": {},
     "output_type": "execute_result"
    }
   ],
   "source": [
    "len(visited_nodes)"
   ],
   "metadata": {
    "collapsed": false,
    "ExecuteTime": {
     "end_time": "2025-08-06T07:46:43.964281Z",
     "start_time": "2025-08-06T07:46:43.957663Z"
    }
   },
   "id": "83e319c21ea095da",
   "execution_count": 24
  },
  {
   "cell_type": "code",
   "outputs": [
    {
     "data": {
      "text/plain": "100"
     },
     "execution_count": 25,
     "metadata": {},
     "output_type": "execute_result"
    }
   ],
   "source": [
    "len(cargos)"
   ],
   "metadata": {
    "collapsed": false,
    "ExecuteTime": {
     "end_time": "2025-08-06T07:46:43.969840Z",
     "start_time": "2025-08-06T07:46:43.965402Z"
    }
   },
   "id": "3a9f65c2bcfe2394",
   "execution_count": 25
  },
  {
   "cell_type": "code",
   "outputs": [],
   "source": [
    "# 9405"
   ],
   "metadata": {
    "collapsed": false,
    "ExecuteTime": {
     "end_time": "2025-08-06T07:46:43.974143Z",
     "start_time": "2025-08-06T07:46:43.971328Z"
    }
   },
   "id": "136a700c64c26d5",
   "execution_count": 26
  }
 ],
 "metadata": {
  "kernelspec": {
   "display_name": "Python 3",
   "language": "python",
   "name": "python3"
  },
  "language_info": {
   "codemirror_mode": {
    "name": "ipython",
    "version": 2
   },
   "file_extension": ".py",
   "mimetype": "text/x-python",
   "name": "python",
   "nbconvert_exporter": "python",
   "pygments_lexer": "ipython2",
   "version": "2.7.6"
  }
 },
 "nbformat": 4,
 "nbformat_minor": 5
}
