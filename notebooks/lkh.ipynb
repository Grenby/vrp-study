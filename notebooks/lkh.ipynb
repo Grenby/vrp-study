{
 "cells": [
  {
   "cell_type": "code",
   "outputs": [],
   "source": [
    "import sys\n",
    "\n",
    "import networkx as nx\n",
    "\n",
    "sys.path.append('../')"
   ],
   "metadata": {
    "collapsed": false,
    "ExecuteTime": {
     "end_time": "2025-06-24T07:59:31.756337Z",
     "start_time": "2025-06-24T07:59:31.668263Z"
    }
   },
   "id": "dc1627bd8a23d60e",
   "execution_count": 1
  },
  {
   "cell_type": "code",
   "outputs": [],
   "source": [
    "import numpy as np\n",
    "\n",
    "from vrp_study.data_model import Tariff, Cargo, Node\n",
    "from vrp_study.data_model import TariffCost\n",
    "from vrp_study.routing_manager import PDRoutingManager\n",
    "from vrp_study.ortools_routing_model.routing_model import find_optimal_paths"
   ],
   "metadata": {
    "collapsed": false,
    "ExecuteTime": {
     "end_time": "2025-06-24T07:59:32.226995Z",
     "start_time": "2025-06-24T07:59:31.953639Z"
    }
   },
   "id": "aced24c18967498",
   "execution_count": 2
  },
  {
   "cell_type": "code",
   "execution_count": 3,
   "id": "initial_id",
   "metadata": {
    "collapsed": true,
    "ExecuteTime": {
     "end_time": "2025-06-24T07:59:32.244076Z",
     "start_time": "2025-06-24T07:59:32.229082Z"
    }
   },
   "outputs": [],
   "source": [
    "import lkh"
   ]
  },
  {
   "cell_type": "code",
   "outputs": [],
   "source": [
    "name = 'lc101.pdptw'"
   ],
   "metadata": {
    "collapsed": false,
    "ExecuteTime": {
     "end_time": "2025-06-24T07:59:32.352094Z",
     "start_time": "2025-06-24T07:59:32.348594Z"
    }
   },
   "id": "5352591a0280d51d",
   "execution_count": 4
  },
  {
   "cell_type": "code",
   "outputs": [],
   "source": [
    "with open(f'../data/lkh_vrppdtw_ex/PDPTW/INSTANCES/Li/{name}', 'r', encoding='utf-8') as file:\n",
    "    problem_str = ''.join([l for l in file.read()])"
   ],
   "metadata": {
    "collapsed": false,
    "ExecuteTime": {
     "end_time": "2025-06-24T07:59:32.543411Z",
     "start_time": "2025-06-24T07:59:32.538490Z"
    }
   },
   "id": "24792db72140cb65",
   "execution_count": 5
  },
  {
   "cell_type": "code",
   "outputs": [],
   "source": [
    "problem = lkh.LKHProblem.parse(problem_str)\n",
    "problem.vehicles = 100"
   ],
   "metadata": {
    "collapsed": false,
    "ExecuteTime": {
     "end_time": "2025-06-24T07:59:32.725408Z",
     "start_time": "2025-06-24T07:59:32.717605Z"
    }
   },
   "id": "6b057de07045266a",
   "execution_count": 6
  },
  {
   "cell_type": "code",
   "outputs": [],
   "source": [
    "# solver_path = '../lkh/LKH-3.0.13/LKH'\n",
    "# sol = lkh.solve(solver_path, problem=problem, max_trials=100, runs=10)\n",
    "# g = problem.get_graph()\n",
    "# l = 0\n",
    "# for s in sol:\n",
    "#     l += sum(g.edges()[s[i], s[i + 1]]['weight'] for i in range(len(s) - 1)) + g.edges()[1, s[0]]['weight'] + \\\n",
    "#          g.edges()[s[-1], 1]['weight']\n",
    "# len(sol),l"
   ],
   "metadata": {
    "collapsed": false,
    "ExecuteTime": {
     "end_time": "2025-06-24T07:59:33.296190Z",
     "start_time": "2025-06-24T07:59:33.292679Z"
    }
   },
   "id": "da0d88776abcbee0",
   "execution_count": 7
  },
  {
   "cell_type": "code",
   "outputs": [],
   "source": [],
   "metadata": {
    "collapsed": false,
    "ExecuteTime": {
     "end_time": "2025-06-24T07:59:33.801821Z",
     "start_time": "2025-06-24T07:59:33.799348Z"
    }
   },
   "id": "791259b946658311",
   "execution_count": 7
  },
  {
   "cell_type": "code",
   "outputs": [],
   "source": [
    "data = problem.as_name_dict()"
   ],
   "metadata": {
    "collapsed": false,
    "ExecuteTime": {
     "end_time": "2025-06-24T07:59:33.999450Z",
     "start_time": "2025-06-24T07:59:33.995887Z"
    }
   },
   "id": "1f2f2c3e3fc2d37a",
   "execution_count": 8
  },
  {
   "cell_type": "code",
   "outputs": [],
   "source": [
    "tariff = Tariff(\n",
    "    id='car',\n",
    "    capacity=int(data['capacity']),\n",
    "    max_count=int(data['vehicles']),\n",
    "    cost_per_distance=[TariffCost(\n",
    "        min_dst_km=0,\n",
    "        max_dst_km=float('inf'),\n",
    "        cost_per_km=1,\n",
    "        fixed_cost=0\n",
    "    )]\n",
    ")"
   ],
   "metadata": {
    "collapsed": false,
    "ExecuteTime": {
     "end_time": "2025-06-24T07:59:34.324197Z",
     "start_time": "2025-06-24T07:59:34.317421Z"
    }
   },
   "id": "444fecbc9638e51e",
   "execution_count": 9
  },
  {
   "cell_type": "code",
   "outputs": [],
   "source": [
    "nodes: list[Node] = []\n",
    "for d in data['pickup_and_delivery_section']:\n",
    "    nodes.append(\n",
    "        Node(\n",
    "            id=d[0],\n",
    "            cargo_id=-1,\n",
    "            capacity=d[1],\n",
    "            service_time=d[4],\n",
    "            start_time=d[2],\n",
    "            end_time=d[3],\n",
    "            coordinates=data['node_coords'][d[0]]\n",
    "        )\n",
    "    )\n",
    "depo = nodes[0]"
   ],
   "metadata": {
    "collapsed": false,
    "ExecuteTime": {
     "end_time": "2025-06-24T07:59:34.525203Z",
     "start_time": "2025-06-24T07:59:34.519214Z"
    }
   },
   "id": "a449719628e674c9",
   "execution_count": 10
  },
  {
   "cell_type": "code",
   "outputs": [],
   "source": [
    "cargos: list[Cargo] = []\n",
    "for d in data['pickup_and_delivery_section'][1:]:\n",
    "    if d[1] <= 0:\n",
    "        continue\n",
    "    cargos.append(Cargo(\n",
    "        id=len(cargos),\n",
    "        nodes=[nodes[d[0] - 1], nodes[d[-1] - 1]]\n",
    "    ))"
   ],
   "metadata": {
    "collapsed": false,
    "ExecuteTime": {
     "end_time": "2025-06-24T07:59:34.716034Z",
     "start_time": "2025-06-24T07:59:34.712229Z"
    }
   },
   "id": "f08dbdfed2339ea0",
   "execution_count": 11
  },
  {
   "cell_type": "code",
   "outputs": [
    {
     "data": {
      "text/plain": "53"
     },
     "execution_count": 12,
     "metadata": {},
     "output_type": "execute_result"
    }
   ],
   "source": [
    "len(cargos)"
   ],
   "metadata": {
    "collapsed": false,
    "ExecuteTime": {
     "end_time": "2025-06-24T07:59:35.574950Z",
     "start_time": "2025-06-24T07:59:35.566027Z"
    }
   },
   "id": "22be0729c8ca611a",
   "execution_count": 12
  },
  {
   "cell_type": "code",
   "outputs": [],
   "source": [
    "p2coordinates = {}\n",
    "p2coordinates.update({\n",
    "    crg.nodes[i].id: crg.nodes[i].coordinates for crg in cargos for i in range(2)\n",
    "})\n",
    "p2coordinates[depo.id] = depo.coordinates\n",
    "distance_matrix = {(u, v): np.sqrt((du[0] - dv[0]) ** 2 + (du[1] - dv[1]) ** 2) for u, du in\n",
    "                   p2coordinates.items() for\n",
    "                   v, dv in p2coordinates.items()}\n",
    "time_matrix = {(u, v): np.sqrt((du[0] - dv[0]) ** 2 + (du[1] - dv[1]) ** 2) for u, du in p2coordinates.items() for\n",
    "               v, dv in p2coordinates.items()}"
   ],
   "metadata": {
    "collapsed": false,
    "ExecuteTime": {
     "end_time": "2025-06-24T07:59:35.943536Z",
     "start_time": "2025-06-24T07:59:35.854196Z"
    }
   },
   "id": "8a99f41d47d7d91d",
   "execution_count": 13
  },
  {
   "cell_type": "code",
   "outputs": [],
   "source": [
    "\n",
    "routing_manager = PDRoutingManager()\n",
    "\n",
    "routing_manager.add_cargos(cargos)\n",
    "routing_manager.add_tariff(tariff)\n",
    "\n",
    "routing_manager.add_depo(depo)\n",
    "\n",
    "routing_manager.distance_matrix = distance_matrix\n",
    "routing_manager.time_matrix = time_matrix\n",
    "\n",
    "routing_manager.max_time_minutes = 0.5\n",
    "\n",
    "routing_manager.build()"
   ],
   "metadata": {
    "collapsed": false,
    "ExecuteTime": {
     "end_time": "2025-06-23T19:44:10.818571Z",
     "start_time": "2025-06-23T19:44:10.783884Z"
    }
   },
   "id": "9be9932277a03bbe",
   "execution_count": 17
  },
  {
   "cell_type": "code",
   "outputs": [
    {
     "name": "stderr",
     "output_type": "stream",
     "text": [
      "\u001B[32m2025-06-23 18:25:36.360\u001B[0m | \u001B[1mINFO    \u001B[0m | \u001B[36mvrp_study.ortools_routing_model.routing_model\u001B[0m:\u001B[36mfind_optimal_paths\u001B[0m:\u001B[36m553\u001B[0m - \u001B[1mproblem size: 211\u001B[0m\n",
      "\u001B[32m2025-06-23 18:25:36.361\u001B[0m | \u001B[1mINFO    \u001B[0m | \u001B[36mvrp_study.ortools_routing_model.routing_model\u001B[0m:\u001B[36mcreate_model\u001B[0m:\u001B[36m539\u001B[0m - \u001B[1mНачало создания модели\u001B[0m\n",
      "\u001B[32m2025-06-23 18:25:36.363\u001B[0m | \u001B[1mINFO    \u001B[0m | \u001B[36mvrp_study.ortools_routing_model.routing_model\u001B[0m:\u001B[36madd_distance_dimension\u001B[0m:\u001B[36m400\u001B[0m - \u001B[1mДобавление размерности для расстояния\u001B[0m\n",
      "\u001B[32m2025-06-23 18:25:36.364\u001B[0m | \u001B[1mINFO    \u001B[0m | \u001B[36mvrp_study.ortools_routing_model.routing_model\u001B[0m:\u001B[36madd_pick_up_and_delivery\u001B[0m:\u001B[36m369\u001B[0m - \u001B[1mДобавление ограничения для порядка доставки\u001B[0m\n",
      "\u001B[32m2025-06-23 18:25:36.366\u001B[0m | \u001B[1mINFO    \u001B[0m | \u001B[36mvrp_study.ortools_routing_model.routing_model\u001B[0m:\u001B[36madd_time_window\u001B[0m:\u001B[36m288\u001B[0m - \u001B[1madd time\u001B[0m\n",
      "\u001B[32m2025-06-23 18:25:36.368\u001B[0m | \u001B[1mINFO    \u001B[0m | \u001B[36mvrp_study.ortools_routing_model.routing_model\u001B[0m:\u001B[36madd_mass_constraint\u001B[0m:\u001B[36m271\u001B[0m - \u001B[1mДобавление ограничений для массы\u001B[0m\n",
      "\u001B[32m2025-06-23 18:25:36.369\u001B[0m | \u001B[1mINFO    \u001B[0m | \u001B[36mvrp_study.ortools_routing_model.routing_model\u001B[0m:\u001B[36madd_fixed_vehicles_cost\u001B[0m:\u001B[36m352\u001B[0m - \u001B[1mДобавление стоимостей машин\u001B[0m\n",
      "\u001B[32m2025-06-23 18:25:36.379\u001B[0m | \u001B[1mINFO    \u001B[0m | \u001B[36mvrp_study.ortools_routing_model.routing_model\u001B[0m:\u001B[36m_solve\u001B[0m:\u001B[36m497\u001B[0m - \u001B[1mНачало решения\u001B[0m\n",
      "\u001B[32m2025-06-23 18:25:36.422\u001B[0m | \u001B[1mINFO    \u001B[0m | \u001B[36mvrp_study.ortools_routing_model.routing_model\u001B[0m:\u001B[36m__call__\u001B[0m:\u001B[36m47\u001B[0m - \u001B[1mfind new solution: 43, best solution: 43\u001B[0m\n",
      "\u001B[32m2025-06-23 18:25:36.429\u001B[0m | \u001B[1mINFO    \u001B[0m | \u001B[36mvrp_study.ortools_routing_model.routing_model\u001B[0m:\u001B[36m__call__\u001B[0m:\u001B[36m47\u001B[0m - \u001B[1mfind new solution: 42, best solution: 42\u001B[0m\n",
      "\u001B[32m2025-06-23 18:25:36.440\u001B[0m | \u001B[1mINFO    \u001B[0m | \u001B[36mvrp_study.ortools_routing_model.routing_model\u001B[0m:\u001B[36m__call__\u001B[0m:\u001B[36m47\u001B[0m - \u001B[1mfind new solution: 41, best solution: 41\u001B[0m\n",
      "\u001B[32m2025-06-23 18:25:36.506\u001B[0m | \u001B[1mINFO    \u001B[0m | \u001B[36mvrp_study.ortools_routing_model.routing_model\u001B[0m:\u001B[36m__call__\u001B[0m:\u001B[36m47\u001B[0m - \u001B[1mfind new solution: 40, best solution: 40\u001B[0m\n",
      "\u001B[32m2025-06-23 18:25:36.520\u001B[0m | \u001B[1mINFO    \u001B[0m | \u001B[36mvrp_study.ortools_routing_model.routing_model\u001B[0m:\u001B[36m__call__\u001B[0m:\u001B[36m47\u001B[0m - \u001B[1mfind new solution: 39, best solution: 39\u001B[0m\n",
      "\u001B[32m2025-06-23 18:25:36.834\u001B[0m | \u001B[1mINFO    \u001B[0m | \u001B[36mvrp_study.ortools_routing_model.routing_model\u001B[0m:\u001B[36m__call__\u001B[0m:\u001B[36m47\u001B[0m - \u001B[1mfind new solution: 38, best solution: 38\u001B[0m\n",
      "\u001B[32m2025-06-23 18:25:36.857\u001B[0m | \u001B[1mINFO    \u001B[0m | \u001B[36mvrp_study.ortools_routing_model.routing_model\u001B[0m:\u001B[36m__call__\u001B[0m:\u001B[36m47\u001B[0m - \u001B[1mfind new solution: 37, best solution: 37\u001B[0m\n",
      "\u001B[32m2025-06-23 18:25:36.898\u001B[0m | \u001B[1mINFO    \u001B[0m | \u001B[36mvrp_study.ortools_routing_model.routing_model\u001B[0m:\u001B[36m__call__\u001B[0m:\u001B[36m47\u001B[0m - \u001B[1mfind new solution: 36, best solution: 36\u001B[0m\n",
      "\u001B[32m2025-06-23 18:25:36.919\u001B[0m | \u001B[1mINFO    \u001B[0m | \u001B[36mvrp_study.ortools_routing_model.routing_model\u001B[0m:\u001B[36m__call__\u001B[0m:\u001B[36m47\u001B[0m - \u001B[1mfind new solution: 35, best solution: 35\u001B[0m\n",
      "\u001B[32m2025-06-23 18:25:36.968\u001B[0m | \u001B[1mINFO    \u001B[0m | \u001B[36mvrp_study.ortools_routing_model.routing_model\u001B[0m:\u001B[36m__call__\u001B[0m:\u001B[36m47\u001B[0m - \u001B[1mfind new solution: 34, best solution: 34\u001B[0m\n",
      "\u001B[32m2025-06-23 18:25:36.985\u001B[0m | \u001B[1mINFO    \u001B[0m | \u001B[36mvrp_study.ortools_routing_model.routing_model\u001B[0m:\u001B[36m__call__\u001B[0m:\u001B[36m47\u001B[0m - \u001B[1mfind new solution: 33, best solution: 33\u001B[0m\n",
      "\u001B[32m2025-06-23 18:25:37.030\u001B[0m | \u001B[1mINFO    \u001B[0m | \u001B[36mvrp_study.ortools_routing_model.routing_model\u001B[0m:\u001B[36m__call__\u001B[0m:\u001B[36m47\u001B[0m - \u001B[1mfind new solution: 32, best solution: 32\u001B[0m\n",
      "\u001B[32m2025-06-23 18:25:37.182\u001B[0m | \u001B[1mINFO    \u001B[0m | \u001B[36mvrp_study.ortools_routing_model.routing_model\u001B[0m:\u001B[36m__call__\u001B[0m:\u001B[36m47\u001B[0m - \u001B[1mfind new solution: 31, best solution: 31\u001B[0m\n",
      "\u001B[32m2025-06-23 18:25:37.203\u001B[0m | \u001B[1mINFO    \u001B[0m | \u001B[36mvrp_study.ortools_routing_model.routing_model\u001B[0m:\u001B[36m__call__\u001B[0m:\u001B[36m47\u001B[0m - \u001B[1mfind new solution: 30, best solution: 30\u001B[0m\n",
      "\u001B[32m2025-06-23 18:25:37.290\u001B[0m | \u001B[1mINFO    \u001B[0m | \u001B[36mvrp_study.ortools_routing_model.routing_model\u001B[0m:\u001B[36m__call__\u001B[0m:\u001B[36m47\u001B[0m - \u001B[1mfind new solution: 29, best solution: 29\u001B[0m\n",
      "\u001B[32m2025-06-23 18:25:40.151\u001B[0m | \u001B[1mINFO    \u001B[0m | \u001B[36mvrp_study.ortools_routing_model.routing_model\u001B[0m:\u001B[36m__call__\u001B[0m:\u001B[36m47\u001B[0m - \u001B[1mfind new solution: 29, best solution: 29\u001B[0m\n",
      "\u001B[32m2025-06-23 18:25:42.325\u001B[0m | \u001B[1mINFO    \u001B[0m | \u001B[36mvrp_study.ortools_routing_model.routing_model\u001B[0m:\u001B[36m__call__\u001B[0m:\u001B[36m47\u001B[0m - \u001B[1mfind new solution: 29, best solution: 29\u001B[0m\n",
      "\u001B[32m2025-06-23 18:25:44.954\u001B[0m | \u001B[1mINFO    \u001B[0m | \u001B[36mvrp_study.ortools_routing_model.routing_model\u001B[0m:\u001B[36m__call__\u001B[0m:\u001B[36m47\u001B[0m - \u001B[1mfind new solution: 29, best solution: 29\u001B[0m\n",
      "\u001B[32m2025-06-23 18:25:46.832\u001B[0m | \u001B[1mINFO    \u001B[0m | \u001B[36mvrp_study.ortools_routing_model.routing_model\u001B[0m:\u001B[36m__call__\u001B[0m:\u001B[36m47\u001B[0m - \u001B[1mfind new solution: 29, best solution: 29\u001B[0m\n",
      "\u001B[32m2025-06-23 18:25:46.891\u001B[0m | \u001B[1mINFO    \u001B[0m | \u001B[36mvrp_study.ortools_routing_model.routing_model\u001B[0m:\u001B[36m__call__\u001B[0m:\u001B[36m47\u001B[0m - \u001B[1mfind new solution: 28, best solution: 28\u001B[0m\n",
      "\u001B[32m2025-06-23 18:25:48.692\u001B[0m | \u001B[1mINFO    \u001B[0m | \u001B[36mvrp_study.ortools_routing_model.routing_model\u001B[0m:\u001B[36m__call__\u001B[0m:\u001B[36m47\u001B[0m - \u001B[1mfind new solution: 28, best solution: 28\u001B[0m\n",
      "\u001B[32m2025-06-23 18:25:50.475\u001B[0m | \u001B[1mINFO    \u001B[0m | \u001B[36mvrp_study.ortools_routing_model.routing_model\u001B[0m:\u001B[36m__call__\u001B[0m:\u001B[36m47\u001B[0m - \u001B[1mfind new solution: 28, best solution: 28\u001B[0m\n",
      "\u001B[32m2025-06-23 18:25:52.499\u001B[0m | \u001B[1mINFO    \u001B[0m | \u001B[36mvrp_study.ortools_routing_model.routing_model\u001B[0m:\u001B[36m__call__\u001B[0m:\u001B[36m47\u001B[0m - \u001B[1mfind new solution: 28, best solution: 28\u001B[0m\n",
      "\u001B[32m2025-06-23 18:25:54.906\u001B[0m | \u001B[1mINFO    \u001B[0m | \u001B[36mvrp_study.ortools_routing_model.routing_model\u001B[0m:\u001B[36m__call__\u001B[0m:\u001B[36m47\u001B[0m - \u001B[1mfind new solution: 28, best solution: 28\u001B[0m\n",
      "\u001B[32m2025-06-23 18:25:56.930\u001B[0m | \u001B[1mINFO    \u001B[0m | \u001B[36mvrp_study.ortools_routing_model.routing_model\u001B[0m:\u001B[36m__call__\u001B[0m:\u001B[36m47\u001B[0m - \u001B[1mfind new solution: 28, best solution: 28\u001B[0m\n",
      "\u001B[32m2025-06-23 18:25:58.966\u001B[0m | \u001B[1mINFO    \u001B[0m | \u001B[36mvrp_study.ortools_routing_model.routing_model\u001B[0m:\u001B[36m__call__\u001B[0m:\u001B[36m47\u001B[0m - \u001B[1mfind new solution: 28, best solution: 28\u001B[0m\n",
      "\u001B[32m2025-06-23 18:26:01.002\u001B[0m | \u001B[1mINFO    \u001B[0m | \u001B[36mvrp_study.ortools_routing_model.routing_model\u001B[0m:\u001B[36m__call__\u001B[0m:\u001B[36m47\u001B[0m - \u001B[1mfind new solution: 28, best solution: 28\u001B[0m\n",
      "\u001B[32m2025-06-23 18:26:02.963\u001B[0m | \u001B[1mINFO    \u001B[0m | \u001B[36mvrp_study.ortools_routing_model.routing_model\u001B[0m:\u001B[36m__call__\u001B[0m:\u001B[36m47\u001B[0m - \u001B[1mfind new solution: 28, best solution: 28\u001B[0m\n",
      "\u001B[32m2025-06-23 18:26:04.931\u001B[0m | \u001B[1mINFO    \u001B[0m | \u001B[36mvrp_study.ortools_routing_model.routing_model\u001B[0m:\u001B[36m__call__\u001B[0m:\u001B[36m47\u001B[0m - \u001B[1mfind new solution: 28, best solution: 28\u001B[0m\n",
      "\u001B[32m2025-06-23 18:26:06.170\u001B[0m | \u001B[1mINFO    \u001B[0m | \u001B[36mvrp_study.ortools_routing_model.routing_model\u001B[0m:\u001B[36m__call__\u001B[0m:\u001B[36m47\u001B[0m - \u001B[1mfind new solution: 28, best solution: 28\u001B[0m\n",
      "\u001B[32m2025-06-23 18:26:06.382\u001B[0m | \u001B[1mINFO    \u001B[0m | \u001B[36mvrp_study.ortools_routing_model.routing_model\u001B[0m:\u001B[36mdo_solve\u001B[0m:\u001B[36m465\u001B[0m - \u001B[1mfind solution with 28 cars\u001B[0m\n",
      "\u001B[32m2025-06-23 18:26:06.383\u001B[0m | \u001B[1mINFO    \u001B[0m | \u001B[36mvrp_study.ortools_routing_model.routing_model\u001B[0m:\u001B[36mcreate_model\u001B[0m:\u001B[36m539\u001B[0m - \u001B[1mНачало создания модели\u001B[0m\n",
      "\u001B[32m2025-06-23 18:26:06.384\u001B[0m | \u001B[1mINFO    \u001B[0m | \u001B[36mvrp_study.ortools_routing_model.routing_model\u001B[0m:\u001B[36madd_distance_dimension\u001B[0m:\u001B[36m400\u001B[0m - \u001B[1mДобавление размерности для расстояния\u001B[0m\n",
      "\u001B[32m2025-06-23 18:26:06.385\u001B[0m | \u001B[1mINFO    \u001B[0m | \u001B[36mvrp_study.ortools_routing_model.routing_model\u001B[0m:\u001B[36madd_pick_up_and_delivery\u001B[0m:\u001B[36m369\u001B[0m - \u001B[1mДобавление ограничения для порядка доставки\u001B[0m\n",
      "\u001B[32m2025-06-23 18:26:06.387\u001B[0m | \u001B[1mINFO    \u001B[0m | \u001B[36mvrp_study.ortools_routing_model.routing_model\u001B[0m:\u001B[36madd_time_window\u001B[0m:\u001B[36m288\u001B[0m - \u001B[1madd time\u001B[0m\n",
      "\u001B[32m2025-06-23 18:26:06.389\u001B[0m | \u001B[1mINFO    \u001B[0m | \u001B[36mvrp_study.ortools_routing_model.routing_model\u001B[0m:\u001B[36madd_mass_constraint\u001B[0m:\u001B[36m271\u001B[0m - \u001B[1mДобавление ограничений для массы\u001B[0m\n",
      "\u001B[32m2025-06-23 18:26:06.390\u001B[0m | \u001B[1mINFO    \u001B[0m | \u001B[36mvrp_study.ortools_routing_model.routing_model\u001B[0m:\u001B[36madd_vehicles_cost\u001B[0m:\u001B[36m335\u001B[0m - \u001B[1mДобавление стоимостей машин\u001B[0m\n",
      "\u001B[32m2025-06-23 18:26:06.397\u001B[0m | \u001B[1mINFO    \u001B[0m | \u001B[36mvrp_study.ortools_routing_model.routing_model\u001B[0m:\u001B[36m_solve\u001B[0m:\u001B[36m497\u001B[0m - \u001B[1mНачало решения\u001B[0m\n",
      "\u001B[32m2025-06-23 18:26:06.397\u001B[0m | \u001B[1mINFO    \u001B[0m | \u001B[36mvrp_study.ortools_routing_model.routing_model\u001B[0m:\u001B[36m_solve\u001B[0m:\u001B[36m500\u001B[0m - \u001B[1muse initial_solution: 28\u001B[0m\n",
      "\u001B[32m2025-06-23 18:26:06.403\u001B[0m | \u001B[1mINFO    \u001B[0m | \u001B[36mvrp_study.ortools_routing_model.routing_model\u001B[0m:\u001B[36m__call__\u001B[0m:\u001B[36m47\u001B[0m - \u001B[1mfind new solution: 984706, best solution: 984706\u001B[0m\n",
      "\u001B[32m2025-06-23 18:26:06.411\u001B[0m | \u001B[1mINFO    \u001B[0m | \u001B[36mvrp_study.ortools_routing_model.routing_model\u001B[0m:\u001B[36m__call__\u001B[0m:\u001B[36m47\u001B[0m - \u001B[1mfind new solution: 984706, best solution: 984706\u001B[0m\n",
      "\u001B[32m2025-06-23 18:26:06.418\u001B[0m | \u001B[1mINFO    \u001B[0m | \u001B[36mvrp_study.ortools_routing_model.routing_model\u001B[0m:\u001B[36m__call__\u001B[0m:\u001B[36m47\u001B[0m - \u001B[1mfind new solution: 984509, best solution: 984509\u001B[0m\n",
      "\u001B[32m2025-06-23 18:26:06.458\u001B[0m | \u001B[1mINFO    \u001B[0m | \u001B[36mvrp_study.ortools_routing_model.routing_model\u001B[0m:\u001B[36m__call__\u001B[0m:\u001B[36m47\u001B[0m - \u001B[1mfind new solution: 972875, best solution: 972875\u001B[0m\n",
      "\u001B[32m2025-06-23 18:26:06.474\u001B[0m | \u001B[1mINFO    \u001B[0m | \u001B[36mvrp_study.ortools_routing_model.routing_model\u001B[0m:\u001B[36m__call__\u001B[0m:\u001B[36m47\u001B[0m - \u001B[1mfind new solution: 969550, best solution: 969550\u001B[0m\n",
      "\u001B[32m2025-06-23 18:26:06.499\u001B[0m | \u001B[1mINFO    \u001B[0m | \u001B[36mvrp_study.ortools_routing_model.routing_model\u001B[0m:\u001B[36m__call__\u001B[0m:\u001B[36m47\u001B[0m - \u001B[1mfind new solution: 968585, best solution: 968585\u001B[0m\n",
      "\u001B[32m2025-06-23 18:26:06.506\u001B[0m | \u001B[1mINFO    \u001B[0m | \u001B[36mvrp_study.ortools_routing_model.routing_model\u001B[0m:\u001B[36m__call__\u001B[0m:\u001B[36m47\u001B[0m - \u001B[1mfind new solution: 966830, best solution: 966830\u001B[0m\n",
      "\u001B[32m2025-06-23 18:26:06.537\u001B[0m | \u001B[1mINFO    \u001B[0m | \u001B[36mvrp_study.ortools_routing_model.routing_model\u001B[0m:\u001B[36m__call__\u001B[0m:\u001B[36m47\u001B[0m - \u001B[1mfind new solution: 942996, best solution: 942996\u001B[0m\n",
      "\u001B[32m2025-06-23 18:26:06.540\u001B[0m | \u001B[1mINFO    \u001B[0m | \u001B[36mvrp_study.ortools_routing_model.routing_model\u001B[0m:\u001B[36m__call__\u001B[0m:\u001B[36m47\u001B[0m - \u001B[1mfind new solution: 940895, best solution: 940895\u001B[0m\n",
      "\u001B[32m2025-06-23 18:26:06.588\u001B[0m | \u001B[1mINFO    \u001B[0m | \u001B[36mvrp_study.ortools_routing_model.routing_model\u001B[0m:\u001B[36m__call__\u001B[0m:\u001B[36m47\u001B[0m - \u001B[1mfind new solution: 937022, best solution: 937022\u001B[0m\n",
      "\u001B[32m2025-06-23 18:26:06.597\u001B[0m | \u001B[1mINFO    \u001B[0m | \u001B[36mvrp_study.ortools_routing_model.routing_model\u001B[0m:\u001B[36m__call__\u001B[0m:\u001B[36m47\u001B[0m - \u001B[1mfind new solution: 935202, best solution: 935202\u001B[0m\n",
      "\u001B[32m2025-06-23 18:26:06.607\u001B[0m | \u001B[1mINFO    \u001B[0m | \u001B[36mvrp_study.ortools_routing_model.routing_model\u001B[0m:\u001B[36m__call__\u001B[0m:\u001B[36m47\u001B[0m - \u001B[1mfind new solution: 929760, best solution: 929760\u001B[0m\n",
      "\u001B[32m2025-06-23 18:26:06.613\u001B[0m | \u001B[1mINFO    \u001B[0m | \u001B[36mvrp_study.ortools_routing_model.routing_model\u001B[0m:\u001B[36m__call__\u001B[0m:\u001B[36m47\u001B[0m - \u001B[1mfind new solution: 927738, best solution: 927738\u001B[0m\n",
      "\u001B[32m2025-06-23 18:26:06.619\u001B[0m | \u001B[1mINFO    \u001B[0m | \u001B[36mvrp_study.ortools_routing_model.routing_model\u001B[0m:\u001B[36m__call__\u001B[0m:\u001B[36m47\u001B[0m - \u001B[1mfind new solution: 927632, best solution: 927632\u001B[0m\n",
      "\u001B[32m2025-06-23 18:26:06.645\u001B[0m | \u001B[1mINFO    \u001B[0m | \u001B[36mvrp_study.ortools_routing_model.routing_model\u001B[0m:\u001B[36m__call__\u001B[0m:\u001B[36m47\u001B[0m - \u001B[1mfind new solution: 923944, best solution: 923944\u001B[0m\n",
      "\u001B[32m2025-06-23 18:26:06.655\u001B[0m | \u001B[1mINFO    \u001B[0m | \u001B[36mvrp_study.ortools_routing_model.routing_model\u001B[0m:\u001B[36m__call__\u001B[0m:\u001B[36m47\u001B[0m - \u001B[1mfind new solution: 917031, best solution: 917031\u001B[0m\n",
      "\u001B[32m2025-06-23 18:26:06.661\u001B[0m | \u001B[1mINFO    \u001B[0m | \u001B[36mvrp_study.ortools_routing_model.routing_model\u001B[0m:\u001B[36m__call__\u001B[0m:\u001B[36m47\u001B[0m - \u001B[1mfind new solution: 901324, best solution: 901324\u001B[0m\n",
      "\u001B[32m2025-06-23 18:26:06.678\u001B[0m | \u001B[1mINFO    \u001B[0m | \u001B[36mvrp_study.ortools_routing_model.routing_model\u001B[0m:\u001B[36m__call__\u001B[0m:\u001B[36m47\u001B[0m - \u001B[1mfind new solution: 871093, best solution: 871093\u001B[0m\n",
      "\u001B[32m2025-06-23 18:26:06.716\u001B[0m | \u001B[1mINFO    \u001B[0m | \u001B[36mvrp_study.ortools_routing_model.routing_model\u001B[0m:\u001B[36m__call__\u001B[0m:\u001B[36m47\u001B[0m - \u001B[1mfind new solution: 869843, best solution: 869843\u001B[0m\n",
      "\u001B[32m2025-06-23 18:26:06.745\u001B[0m | \u001B[1mINFO    \u001B[0m | \u001B[36mvrp_study.ortools_routing_model.routing_model\u001B[0m:\u001B[36m__call__\u001B[0m:\u001B[36m47\u001B[0m - \u001B[1mfind new solution: 869280, best solution: 869280\u001B[0m\n",
      "\u001B[32m2025-06-23 18:26:06.762\u001B[0m | \u001B[1mINFO    \u001B[0m | \u001B[36mvrp_study.ortools_routing_model.routing_model\u001B[0m:\u001B[36m__call__\u001B[0m:\u001B[36m47\u001B[0m - \u001B[1mfind new solution: 862154, best solution: 862154\u001B[0m\n",
      "\u001B[32m2025-06-23 18:26:06.888\u001B[0m | \u001B[1mINFO    \u001B[0m | \u001B[36mvrp_study.ortools_routing_model.routing_model\u001B[0m:\u001B[36m__call__\u001B[0m:\u001B[36m47\u001B[0m - \u001B[1mfind new solution: 855071, best solution: 855071\u001B[0m\n",
      "\u001B[32m2025-06-23 18:26:06.919\u001B[0m | \u001B[1mINFO    \u001B[0m | \u001B[36mvrp_study.ortools_routing_model.routing_model\u001B[0m:\u001B[36m__call__\u001B[0m:\u001B[36m47\u001B[0m - \u001B[1mfind new solution: 852179, best solution: 852179\u001B[0m\n",
      "\u001B[32m2025-06-23 18:26:06.930\u001B[0m | \u001B[1mINFO    \u001B[0m | \u001B[36mvrp_study.ortools_routing_model.routing_model\u001B[0m:\u001B[36m__call__\u001B[0m:\u001B[36m47\u001B[0m - \u001B[1mfind new solution: 851024, best solution: 851024\u001B[0m\n",
      "\u001B[32m2025-06-23 18:26:07.000\u001B[0m | \u001B[1mINFO    \u001B[0m | \u001B[36mvrp_study.ortools_routing_model.routing_model\u001B[0m:\u001B[36m__call__\u001B[0m:\u001B[36m47\u001B[0m - \u001B[1mfind new solution: 850515, best solution: 850515\u001B[0m\n",
      "\u001B[32m2025-06-23 18:26:07.010\u001B[0m | \u001B[1mINFO    \u001B[0m | \u001B[36mvrp_study.ortools_routing_model.routing_model\u001B[0m:\u001B[36m__call__\u001B[0m:\u001B[36m47\u001B[0m - \u001B[1mfind new solution: 844622, best solution: 844622\u001B[0m\n",
      "\u001B[32m2025-06-23 18:26:07.028\u001B[0m | \u001B[1mINFO    \u001B[0m | \u001B[36mvrp_study.ortools_routing_model.routing_model\u001B[0m:\u001B[36m__call__\u001B[0m:\u001B[36m47\u001B[0m - \u001B[1mfind new solution: 816328, best solution: 816328\u001B[0m\n",
      "\u001B[32m2025-06-23 18:26:07.048\u001B[0m | \u001B[1mINFO    \u001B[0m | \u001B[36mvrp_study.ortools_routing_model.routing_model\u001B[0m:\u001B[36m__call__\u001B[0m:\u001B[36m47\u001B[0m - \u001B[1mfind new solution: 803623, best solution: 803623\u001B[0m\n",
      "\u001B[32m2025-06-23 18:26:07.057\u001B[0m | \u001B[1mINFO    \u001B[0m | \u001B[36mvrp_study.ortools_routing_model.routing_model\u001B[0m:\u001B[36m__call__\u001B[0m:\u001B[36m47\u001B[0m - \u001B[1mfind new solution: 799394, best solution: 799394\u001B[0m\n",
      "\u001B[32m2025-06-23 18:26:07.074\u001B[0m | \u001B[1mINFO    \u001B[0m | \u001B[36mvrp_study.ortools_routing_model.routing_model\u001B[0m:\u001B[36m__call__\u001B[0m:\u001B[36m47\u001B[0m - \u001B[1mfind new solution: 789716, best solution: 789716\u001B[0m\n",
      "\u001B[32m2025-06-23 18:26:07.105\u001B[0m | \u001B[1mINFO    \u001B[0m | \u001B[36mvrp_study.ortools_routing_model.routing_model\u001B[0m:\u001B[36m__call__\u001B[0m:\u001B[36m47\u001B[0m - \u001B[1mfind new solution: 789275, best solution: 789275\u001B[0m\n",
      "\u001B[32m2025-06-23 18:26:07.124\u001B[0m | \u001B[1mINFO    \u001B[0m | \u001B[36mvrp_study.ortools_routing_model.routing_model\u001B[0m:\u001B[36m__call__\u001B[0m:\u001B[36m47\u001B[0m - \u001B[1mfind new solution: 779178, best solution: 779178\u001B[0m\n",
      "\u001B[32m2025-06-23 18:26:07.129\u001B[0m | \u001B[1mINFO    \u001B[0m | \u001B[36mvrp_study.ortools_routing_model.routing_model\u001B[0m:\u001B[36m__call__\u001B[0m:\u001B[36m47\u001B[0m - \u001B[1mfind new solution: 775824, best solution: 775824\u001B[0m\n",
      "\u001B[32m2025-06-23 18:26:07.138\u001B[0m | \u001B[1mINFO    \u001B[0m | \u001B[36mvrp_study.ortools_routing_model.routing_model\u001B[0m:\u001B[36m__call__\u001B[0m:\u001B[36m47\u001B[0m - \u001B[1mfind new solution: 771586, best solution: 771586\u001B[0m\n",
      "\u001B[32m2025-06-23 18:26:07.160\u001B[0m | \u001B[1mINFO    \u001B[0m | \u001B[36mvrp_study.ortools_routing_model.routing_model\u001B[0m:\u001B[36m__call__\u001B[0m:\u001B[36m47\u001B[0m - \u001B[1mfind new solution: 770080, best solution: 770080\u001B[0m\n",
      "\u001B[32m2025-06-23 18:26:07.170\u001B[0m | \u001B[1mINFO    \u001B[0m | \u001B[36mvrp_study.ortools_routing_model.routing_model\u001B[0m:\u001B[36m__call__\u001B[0m:\u001B[36m47\u001B[0m - \u001B[1mfind new solution: 769821, best solution: 769821\u001B[0m\n",
      "\u001B[32m2025-06-23 18:26:07.188\u001B[0m | \u001B[1mINFO    \u001B[0m | \u001B[36mvrp_study.ortools_routing_model.routing_model\u001B[0m:\u001B[36m__call__\u001B[0m:\u001B[36m47\u001B[0m - \u001B[1mfind new solution: 769653, best solution: 769653\u001B[0m\n",
      "\u001B[32m2025-06-23 18:26:07.198\u001B[0m | \u001B[1mINFO    \u001B[0m | \u001B[36mvrp_study.ortools_routing_model.routing_model\u001B[0m:\u001B[36m__call__\u001B[0m:\u001B[36m47\u001B[0m - \u001B[1mfind new solution: 768512, best solution: 768512\u001B[0m\n",
      "\u001B[32m2025-06-23 18:26:07.226\u001B[0m | \u001B[1mINFO    \u001B[0m | \u001B[36mvrp_study.ortools_routing_model.routing_model\u001B[0m:\u001B[36m__call__\u001B[0m:\u001B[36m47\u001B[0m - \u001B[1mfind new solution: 767871, best solution: 767871\u001B[0m\n",
      "\u001B[32m2025-06-23 18:26:07.252\u001B[0m | \u001B[1mINFO    \u001B[0m | \u001B[36mvrp_study.ortools_routing_model.routing_model\u001B[0m:\u001B[36m__call__\u001B[0m:\u001B[36m47\u001B[0m - \u001B[1mfind new solution: 767097, best solution: 767097\u001B[0m\n",
      "\u001B[32m2025-06-23 18:26:07.259\u001B[0m | \u001B[1mINFO    \u001B[0m | \u001B[36mvrp_study.ortools_routing_model.routing_model\u001B[0m:\u001B[36m__call__\u001B[0m:\u001B[36m47\u001B[0m - \u001B[1mfind new solution: 766617, best solution: 766617\u001B[0m\n",
      "\u001B[32m2025-06-23 18:26:07.300\u001B[0m | \u001B[1mINFO    \u001B[0m | \u001B[36mvrp_study.ortools_routing_model.routing_model\u001B[0m:\u001B[36m__call__\u001B[0m:\u001B[36m47\u001B[0m - \u001B[1mfind new solution: 754465, best solution: 754465\u001B[0m\n",
      "\u001B[32m2025-06-23 18:26:07.343\u001B[0m | \u001B[1mINFO    \u001B[0m | \u001B[36mvrp_study.ortools_routing_model.routing_model\u001B[0m:\u001B[36m__call__\u001B[0m:\u001B[36m47\u001B[0m - \u001B[1mfind new solution: 748915, best solution: 748915\u001B[0m\n",
      "\u001B[32m2025-06-23 18:26:07.351\u001B[0m | \u001B[1mINFO    \u001B[0m | \u001B[36mvrp_study.ortools_routing_model.routing_model\u001B[0m:\u001B[36m__call__\u001B[0m:\u001B[36m47\u001B[0m - \u001B[1mfind new solution: 735226, best solution: 735226\u001B[0m\n",
      "\u001B[32m2025-06-23 18:26:07.374\u001B[0m | \u001B[1mINFO    \u001B[0m | \u001B[36mvrp_study.ortools_routing_model.routing_model\u001B[0m:\u001B[36m__call__\u001B[0m:\u001B[36m47\u001B[0m - \u001B[1mfind new solution: 730235, best solution: 730235\u001B[0m\n",
      "\u001B[32m2025-06-23 18:26:07.402\u001B[0m | \u001B[1mINFO    \u001B[0m | \u001B[36mvrp_study.ortools_routing_model.routing_model\u001B[0m:\u001B[36m__call__\u001B[0m:\u001B[36m47\u001B[0m - \u001B[1mfind new solution: 728603, best solution: 728603\u001B[0m\n",
      "\u001B[32m2025-06-23 18:26:07.410\u001B[0m | \u001B[1mINFO    \u001B[0m | \u001B[36mvrp_study.ortools_routing_model.routing_model\u001B[0m:\u001B[36m__call__\u001B[0m:\u001B[36m47\u001B[0m - \u001B[1mfind new solution: 727014, best solution: 727014\u001B[0m\n",
      "\u001B[32m2025-06-23 18:26:07.415\u001B[0m | \u001B[1mINFO    \u001B[0m | \u001B[36mvrp_study.ortools_routing_model.routing_model\u001B[0m:\u001B[36m__call__\u001B[0m:\u001B[36m47\u001B[0m - \u001B[1mfind new solution: 726007, best solution: 726007\u001B[0m\n",
      "\u001B[32m2025-06-23 18:26:07.427\u001B[0m | \u001B[1mINFO    \u001B[0m | \u001B[36mvrp_study.ortools_routing_model.routing_model\u001B[0m:\u001B[36m__call__\u001B[0m:\u001B[36m47\u001B[0m - \u001B[1mfind new solution: 724249, best solution: 724249\u001B[0m\n",
      "\u001B[32m2025-06-23 18:26:07.435\u001B[0m | \u001B[1mINFO    \u001B[0m | \u001B[36mvrp_study.ortools_routing_model.routing_model\u001B[0m:\u001B[36m__call__\u001B[0m:\u001B[36m47\u001B[0m - \u001B[1mfind new solution: 713019, best solution: 713019\u001B[0m\n",
      "\u001B[32m2025-06-23 18:26:07.441\u001B[0m | \u001B[1mINFO    \u001B[0m | \u001B[36mvrp_study.ortools_routing_model.routing_model\u001B[0m:\u001B[36m__call__\u001B[0m:\u001B[36m47\u001B[0m - \u001B[1mfind new solution: 708751, best solution: 708751\u001B[0m\n",
      "\u001B[32m2025-06-23 18:26:07.447\u001B[0m | \u001B[1mINFO    \u001B[0m | \u001B[36mvrp_study.ortools_routing_model.routing_model\u001B[0m:\u001B[36m__call__\u001B[0m:\u001B[36m47\u001B[0m - \u001B[1mfind new solution: 708244, best solution: 708244\u001B[0m\n",
      "\u001B[32m2025-06-23 18:26:07.451\u001B[0m | \u001B[1mINFO    \u001B[0m | \u001B[36mvrp_study.ortools_routing_model.routing_model\u001B[0m:\u001B[36m__call__\u001B[0m:\u001B[36m47\u001B[0m - \u001B[1mfind new solution: 704798, best solution: 704798\u001B[0m\n",
      "\u001B[32m2025-06-23 18:26:07.467\u001B[0m | \u001B[1mINFO    \u001B[0m | \u001B[36mvrp_study.ortools_routing_model.routing_model\u001B[0m:\u001B[36m__call__\u001B[0m:\u001B[36m47\u001B[0m - \u001B[1mfind new solution: 690594, best solution: 690594\u001B[0m\n",
      "\u001B[32m2025-06-23 18:26:07.538\u001B[0m | \u001B[1mINFO    \u001B[0m | \u001B[36mvrp_study.ortools_routing_model.routing_model\u001B[0m:\u001B[36m__call__\u001B[0m:\u001B[36m47\u001B[0m - \u001B[1mfind new solution: 690388, best solution: 690388\u001B[0m\n",
      "\u001B[32m2025-06-23 18:26:07.544\u001B[0m | \u001B[1mINFO    \u001B[0m | \u001B[36mvrp_study.ortools_routing_model.routing_model\u001B[0m:\u001B[36m__call__\u001B[0m:\u001B[36m47\u001B[0m - \u001B[1mfind new solution: 690121, best solution: 690121\u001B[0m\n",
      "\u001B[32m2025-06-23 18:26:07.549\u001B[0m | \u001B[1mINFO    \u001B[0m | \u001B[36mvrp_study.ortools_routing_model.routing_model\u001B[0m:\u001B[36m__call__\u001B[0m:\u001B[36m47\u001B[0m - \u001B[1mfind new solution: 690089, best solution: 690089\u001B[0m\n",
      "\u001B[32m2025-06-23 18:26:07.614\u001B[0m | \u001B[1mINFO    \u001B[0m | \u001B[36mvrp_study.ortools_routing_model.routing_model\u001B[0m:\u001B[36m__call__\u001B[0m:\u001B[36m47\u001B[0m - \u001B[1mfind new solution: 688818, best solution: 688818\u001B[0m\n",
      "\u001B[32m2025-06-23 18:26:07.636\u001B[0m | \u001B[1mINFO    \u001B[0m | \u001B[36mvrp_study.ortools_routing_model.routing_model\u001B[0m:\u001B[36m__call__\u001B[0m:\u001B[36m47\u001B[0m - \u001B[1mfind new solution: 688410, best solution: 688410\u001B[0m\n",
      "\u001B[32m2025-06-23 18:26:07.690\u001B[0m | \u001B[1mINFO    \u001B[0m | \u001B[36mvrp_study.ortools_routing_model.routing_model\u001B[0m:\u001B[36m__call__\u001B[0m:\u001B[36m47\u001B[0m - \u001B[1mfind new solution: 688262, best solution: 688262\u001B[0m\n",
      "\u001B[32m2025-06-23 18:26:07.768\u001B[0m | \u001B[1mINFO    \u001B[0m | \u001B[36mvrp_study.ortools_routing_model.routing_model\u001B[0m:\u001B[36m__call__\u001B[0m:\u001B[36m47\u001B[0m - \u001B[1mfind new solution: 683769, best solution: 683769\u001B[0m\n",
      "\u001B[32m2025-06-23 18:26:07.865\u001B[0m | \u001B[1mINFO    \u001B[0m | \u001B[36mvrp_study.ortools_routing_model.routing_model\u001B[0m:\u001B[36m__call__\u001B[0m:\u001B[36m47\u001B[0m - \u001B[1mfind new solution: 677316, best solution: 677316\u001B[0m\n",
      "\u001B[32m2025-06-23 18:26:07.921\u001B[0m | \u001B[1mINFO    \u001B[0m | \u001B[36mvrp_study.ortools_routing_model.routing_model\u001B[0m:\u001B[36m__call__\u001B[0m:\u001B[36m47\u001B[0m - \u001B[1mfind new solution: 674187, best solution: 674187\u001B[0m\n",
      "\u001B[32m2025-06-23 18:26:08.015\u001B[0m | \u001B[1mINFO    \u001B[0m | \u001B[36mvrp_study.ortools_routing_model.routing_model\u001B[0m:\u001B[36m__call__\u001B[0m:\u001B[36m47\u001B[0m - \u001B[1mfind new solution: 662608, best solution: 662608\u001B[0m\n",
      "\u001B[32m2025-06-23 18:26:08.025\u001B[0m | \u001B[1mINFO    \u001B[0m | \u001B[36mvrp_study.ortools_routing_model.routing_model\u001B[0m:\u001B[36m__call__\u001B[0m:\u001B[36m47\u001B[0m - \u001B[1mfind new solution: 661727, best solution: 661727\u001B[0m\n",
      "\u001B[32m2025-06-23 18:26:08.033\u001B[0m | \u001B[1mINFO    \u001B[0m | \u001B[36mvrp_study.ortools_routing_model.routing_model\u001B[0m:\u001B[36m__call__\u001B[0m:\u001B[36m47\u001B[0m - \u001B[1mfind new solution: 661044, best solution: 661044\u001B[0m\n",
      "\u001B[32m2025-06-23 18:26:08.039\u001B[0m | \u001B[1mINFO    \u001B[0m | \u001B[36mvrp_study.ortools_routing_model.routing_model\u001B[0m:\u001B[36m__call__\u001B[0m:\u001B[36m47\u001B[0m - \u001B[1mfind new solution: 660954, best solution: 660954\u001B[0m\n",
      "\u001B[32m2025-06-23 18:26:08.076\u001B[0m | \u001B[1mINFO    \u001B[0m | \u001B[36mvrp_study.ortools_routing_model.routing_model\u001B[0m:\u001B[36m__call__\u001B[0m:\u001B[36m47\u001B[0m - \u001B[1mfind new solution: 660695, best solution: 660695\u001B[0m\n",
      "\u001B[32m2025-06-23 18:26:08.145\u001B[0m | \u001B[1mINFO    \u001B[0m | \u001B[36mvrp_study.ortools_routing_model.routing_model\u001B[0m:\u001B[36m__call__\u001B[0m:\u001B[36m47\u001B[0m - \u001B[1mfind new solution: 657702, best solution: 657702\u001B[0m\n",
      "\u001B[32m2025-06-23 18:26:08.154\u001B[0m | \u001B[1mINFO    \u001B[0m | \u001B[36mvrp_study.ortools_routing_model.routing_model\u001B[0m:\u001B[36m__call__\u001B[0m:\u001B[36m47\u001B[0m - \u001B[1mfind new solution: 657686, best solution: 657686\u001B[0m\n",
      "\u001B[32m2025-06-23 18:26:08.169\u001B[0m | \u001B[1mINFO    \u001B[0m | \u001B[36mvrp_study.ortools_routing_model.routing_model\u001B[0m:\u001B[36m__call__\u001B[0m:\u001B[36m47\u001B[0m - \u001B[1mfind new solution: 645569, best solution: 645569\u001B[0m\n",
      "\u001B[32m2025-06-23 18:26:08.216\u001B[0m | \u001B[1mINFO    \u001B[0m | \u001B[36mvrp_study.ortools_routing_model.routing_model\u001B[0m:\u001B[36m__call__\u001B[0m:\u001B[36m47\u001B[0m - \u001B[1mfind new solution: 641687, best solution: 641687\u001B[0m\n",
      "\u001B[32m2025-06-23 18:26:08.231\u001B[0m | \u001B[1mINFO    \u001B[0m | \u001B[36mvrp_study.ortools_routing_model.routing_model\u001B[0m:\u001B[36m__call__\u001B[0m:\u001B[36m47\u001B[0m - \u001B[1mfind new solution: 631181, best solution: 631181\u001B[0m\n",
      "\u001B[32m2025-06-23 18:26:08.292\u001B[0m | \u001B[1mINFO    \u001B[0m | \u001B[36mvrp_study.ortools_routing_model.routing_model\u001B[0m:\u001B[36m__call__\u001B[0m:\u001B[36m47\u001B[0m - \u001B[1mfind new solution: 631173, best solution: 631173\u001B[0m\n",
      "\u001B[32m2025-06-23 18:26:08.300\u001B[0m | \u001B[1mINFO    \u001B[0m | \u001B[36mvrp_study.ortools_routing_model.routing_model\u001B[0m:\u001B[36m__call__\u001B[0m:\u001B[36m47\u001B[0m - \u001B[1mfind new solution: 630802, best solution: 630802\u001B[0m\n",
      "\u001B[32m2025-06-23 18:26:08.342\u001B[0m | \u001B[1mINFO    \u001B[0m | \u001B[36mvrp_study.ortools_routing_model.routing_model\u001B[0m:\u001B[36m__call__\u001B[0m:\u001B[36m47\u001B[0m - \u001B[1mfind new solution: 630478, best solution: 630478\u001B[0m\n",
      "\u001B[32m2025-06-23 18:26:08.406\u001B[0m | \u001B[1mINFO    \u001B[0m | \u001B[36mvrp_study.ortools_routing_model.routing_model\u001B[0m:\u001B[36m__call__\u001B[0m:\u001B[36m47\u001B[0m - \u001B[1mfind new solution: 628173, best solution: 628173\u001B[0m\n",
      "\u001B[32m2025-06-23 18:26:08.412\u001B[0m | \u001B[1mINFO    \u001B[0m | \u001B[36mvrp_study.ortools_routing_model.routing_model\u001B[0m:\u001B[36m__call__\u001B[0m:\u001B[36m47\u001B[0m - \u001B[1mfind new solution: 628116, best solution: 628116\u001B[0m\n",
      "\u001B[32m2025-06-23 18:26:08.441\u001B[0m | \u001B[1mINFO    \u001B[0m | \u001B[36mvrp_study.ortools_routing_model.routing_model\u001B[0m:\u001B[36m__call__\u001B[0m:\u001B[36m47\u001B[0m - \u001B[1mfind new solution: 627752, best solution: 627752\u001B[0m\n",
      "\u001B[32m2025-06-23 18:26:08.447\u001B[0m | \u001B[1mINFO    \u001B[0m | \u001B[36mvrp_study.ortools_routing_model.routing_model\u001B[0m:\u001B[36m__call__\u001B[0m:\u001B[36m47\u001B[0m - \u001B[1mfind new solution: 627615, best solution: 627615\u001B[0m\n",
      "\u001B[32m2025-06-23 18:26:08.467\u001B[0m | \u001B[1mINFO    \u001B[0m | \u001B[36mvrp_study.ortools_routing_model.routing_model\u001B[0m:\u001B[36m__call__\u001B[0m:\u001B[36m47\u001B[0m - \u001B[1mfind new solution: 617485, best solution: 617485\u001B[0m\n",
      "\u001B[32m2025-06-23 18:26:08.475\u001B[0m | \u001B[1mINFO    \u001B[0m | \u001B[36mvrp_study.ortools_routing_model.routing_model\u001B[0m:\u001B[36m__call__\u001B[0m:\u001B[36m47\u001B[0m - \u001B[1mfind new solution: 604716, best solution: 604716\u001B[0m\n",
      "\u001B[32m2025-06-23 18:26:08.480\u001B[0m | \u001B[1mINFO    \u001B[0m | \u001B[36mvrp_study.ortools_routing_model.routing_model\u001B[0m:\u001B[36m__call__\u001B[0m:\u001B[36m47\u001B[0m - \u001B[1mfind new solution: 604245, best solution: 604245\u001B[0m\n",
      "\u001B[32m2025-06-23 18:26:08.486\u001B[0m | \u001B[1mINFO    \u001B[0m | \u001B[36mvrp_study.ortools_routing_model.routing_model\u001B[0m:\u001B[36m__call__\u001B[0m:\u001B[36m47\u001B[0m - \u001B[1mfind new solution: 604191, best solution: 604191\u001B[0m\n",
      "\u001B[32m2025-06-23 18:26:08.491\u001B[0m | \u001B[1mINFO    \u001B[0m | \u001B[36mvrp_study.ortools_routing_model.routing_model\u001B[0m:\u001B[36m__call__\u001B[0m:\u001B[36m47\u001B[0m - \u001B[1mfind new solution: 603140, best solution: 603140\u001B[0m\n",
      "\u001B[32m2025-06-23 18:26:08.497\u001B[0m | \u001B[1mINFO    \u001B[0m | \u001B[36mvrp_study.ortools_routing_model.routing_model\u001B[0m:\u001B[36m__call__\u001B[0m:\u001B[36m47\u001B[0m - \u001B[1mfind new solution: 603059, best solution: 603059\u001B[0m\n",
      "\u001B[32m2025-06-23 18:26:08.509\u001B[0m | \u001B[1mINFO    \u001B[0m | \u001B[36mvrp_study.ortools_routing_model.routing_model\u001B[0m:\u001B[36m__call__\u001B[0m:\u001B[36m47\u001B[0m - \u001B[1mfind new solution: 597710, best solution: 597710\u001B[0m\n",
      "\u001B[32m2025-06-23 18:26:08.540\u001B[0m | \u001B[1mINFO    \u001B[0m | \u001B[36mvrp_study.ortools_routing_model.routing_model\u001B[0m:\u001B[36m__call__\u001B[0m:\u001B[36m47\u001B[0m - \u001B[1mfind new solution: 597088, best solution: 597088\u001B[0m\n",
      "\u001B[32m2025-06-23 18:26:08.594\u001B[0m | \u001B[1mINFO    \u001B[0m | \u001B[36mvrp_study.ortools_routing_model.routing_model\u001B[0m:\u001B[36m__call__\u001B[0m:\u001B[36m47\u001B[0m - \u001B[1mfind new solution: 594764, best solution: 594764\u001B[0m\n",
      "\u001B[32m2025-06-23 18:26:08.605\u001B[0m | \u001B[1mINFO    \u001B[0m | \u001B[36mvrp_study.ortools_routing_model.routing_model\u001B[0m:\u001B[36m__call__\u001B[0m:\u001B[36m47\u001B[0m - \u001B[1mfind new solution: 590522, best solution: 590522\u001B[0m\n",
      "\u001B[32m2025-06-23 18:26:08.625\u001B[0m | \u001B[1mINFO    \u001B[0m | \u001B[36mvrp_study.ortools_routing_model.routing_model\u001B[0m:\u001B[36m__call__\u001B[0m:\u001B[36m47\u001B[0m - \u001B[1mfind new solution: 589757, best solution: 589757\u001B[0m\n",
      "\u001B[32m2025-06-23 18:26:08.644\u001B[0m | \u001B[1mINFO    \u001B[0m | \u001B[36mvrp_study.ortools_routing_model.routing_model\u001B[0m:\u001B[36m__call__\u001B[0m:\u001B[36m47\u001B[0m - \u001B[1mfind new solution: 589412, best solution: 589412\u001B[0m\n",
      "\u001B[32m2025-06-23 18:26:08.653\u001B[0m | \u001B[1mINFO    \u001B[0m | \u001B[36mvrp_study.ortools_routing_model.routing_model\u001B[0m:\u001B[36m__call__\u001B[0m:\u001B[36m47\u001B[0m - \u001B[1mfind new solution: 587520, best solution: 587520\u001B[0m\n",
      "\u001B[32m2025-06-23 18:26:08.659\u001B[0m | \u001B[1mINFO    \u001B[0m | \u001B[36mvrp_study.ortools_routing_model.routing_model\u001B[0m:\u001B[36m__call__\u001B[0m:\u001B[36m47\u001B[0m - \u001B[1mfind new solution: 584935, best solution: 584935\u001B[0m\n",
      "\u001B[32m2025-06-23 18:26:08.673\u001B[0m | \u001B[1mINFO    \u001B[0m | \u001B[36mvrp_study.ortools_routing_model.routing_model\u001B[0m:\u001B[36m__call__\u001B[0m:\u001B[36m47\u001B[0m - \u001B[1mfind new solution: 579295, best solution: 579295\u001B[0m\n",
      "\u001B[32m2025-06-23 18:26:08.683\u001B[0m | \u001B[1mINFO    \u001B[0m | \u001B[36mvrp_study.ortools_routing_model.routing_model\u001B[0m:\u001B[36m__call__\u001B[0m:\u001B[36m47\u001B[0m - \u001B[1mfind new solution: 579200, best solution: 579200\u001B[0m\n",
      "\u001B[32m2025-06-23 18:26:08.687\u001B[0m | \u001B[1mINFO    \u001B[0m | \u001B[36mvrp_study.ortools_routing_model.routing_model\u001B[0m:\u001B[36m__call__\u001B[0m:\u001B[36m47\u001B[0m - \u001B[1mfind new solution: 579044, best solution: 579044\u001B[0m\n",
      "\u001B[32m2025-06-23 18:26:08.745\u001B[0m | \u001B[1mINFO    \u001B[0m | \u001B[36mvrp_study.ortools_routing_model.routing_model\u001B[0m:\u001B[36m__call__\u001B[0m:\u001B[36m47\u001B[0m - \u001B[1mfind new solution: 555754, best solution: 555754\u001B[0m\n",
      "\u001B[32m2025-06-23 18:26:08.751\u001B[0m | \u001B[1mINFO    \u001B[0m | \u001B[36mvrp_study.ortools_routing_model.routing_model\u001B[0m:\u001B[36m__call__\u001B[0m:\u001B[36m47\u001B[0m - \u001B[1mfind new solution: 555418, best solution: 555418\u001B[0m\n",
      "\u001B[32m2025-06-23 18:26:08.770\u001B[0m | \u001B[1mINFO    \u001B[0m | \u001B[36mvrp_study.ortools_routing_model.routing_model\u001B[0m:\u001B[36m__call__\u001B[0m:\u001B[36m47\u001B[0m - \u001B[1mfind new solution: 547511, best solution: 547511\u001B[0m\n",
      "\u001B[32m2025-06-23 18:26:08.850\u001B[0m | \u001B[1mINFO    \u001B[0m | \u001B[36mvrp_study.ortools_routing_model.routing_model\u001B[0m:\u001B[36m__call__\u001B[0m:\u001B[36m47\u001B[0m - \u001B[1mfind new solution: 542839, best solution: 542839\u001B[0m\n",
      "\u001B[32m2025-06-23 18:26:08.871\u001B[0m | \u001B[1mINFO    \u001B[0m | \u001B[36mvrp_study.ortools_routing_model.routing_model\u001B[0m:\u001B[36m__call__\u001B[0m:\u001B[36m47\u001B[0m - \u001B[1mfind new solution: 541479, best solution: 541479\u001B[0m\n",
      "\u001B[32m2025-06-23 18:26:08.883\u001B[0m | \u001B[1mINFO    \u001B[0m | \u001B[36mvrp_study.ortools_routing_model.routing_model\u001B[0m:\u001B[36m__call__\u001B[0m:\u001B[36m47\u001B[0m - \u001B[1mfind new solution: 530224, best solution: 530224\u001B[0m\n",
      "\u001B[32m2025-06-23 18:26:08.888\u001B[0m | \u001B[1mINFO    \u001B[0m | \u001B[36mvrp_study.ortools_routing_model.routing_model\u001B[0m:\u001B[36m__call__\u001B[0m:\u001B[36m47\u001B[0m - \u001B[1mfind new solution: 527521, best solution: 527521\u001B[0m\n",
      "\u001B[32m2025-06-23 18:26:08.894\u001B[0m | \u001B[1mINFO    \u001B[0m | \u001B[36mvrp_study.ortools_routing_model.routing_model\u001B[0m:\u001B[36m__call__\u001B[0m:\u001B[36m47\u001B[0m - \u001B[1mfind new solution: 527292, best solution: 527292\u001B[0m\n",
      "\u001B[32m2025-06-23 18:26:08.924\u001B[0m | \u001B[1mINFO    \u001B[0m | \u001B[36mvrp_study.ortools_routing_model.routing_model\u001B[0m:\u001B[36m__call__\u001B[0m:\u001B[36m47\u001B[0m - \u001B[1mfind new solution: 527214, best solution: 527214\u001B[0m\n",
      "\u001B[32m2025-06-23 18:26:08.950\u001B[0m | \u001B[1mINFO    \u001B[0m | \u001B[36mvrp_study.ortools_routing_model.routing_model\u001B[0m:\u001B[36m__call__\u001B[0m:\u001B[36m47\u001B[0m - \u001B[1mfind new solution: 526884, best solution: 526884\u001B[0m\n",
      "\u001B[32m2025-06-23 18:26:08.958\u001B[0m | \u001B[1mINFO    \u001B[0m | \u001B[36mvrp_study.ortools_routing_model.routing_model\u001B[0m:\u001B[36m__call__\u001B[0m:\u001B[36m47\u001B[0m - \u001B[1mfind new solution: 524424, best solution: 524424\u001B[0m\n",
      "\u001B[32m2025-06-23 18:26:08.963\u001B[0m | \u001B[1mINFO    \u001B[0m | \u001B[36mvrp_study.ortools_routing_model.routing_model\u001B[0m:\u001B[36m__call__\u001B[0m:\u001B[36m47\u001B[0m - \u001B[1mfind new solution: 524336, best solution: 524336\u001B[0m\n",
      "\u001B[32m2025-06-23 18:26:08.968\u001B[0m | \u001B[1mINFO    \u001B[0m | \u001B[36mvrp_study.ortools_routing_model.routing_model\u001B[0m:\u001B[36m__call__\u001B[0m:\u001B[36m47\u001B[0m - \u001B[1mfind new solution: 523576, best solution: 523576\u001B[0m\n",
      "\u001B[32m2025-06-23 18:26:08.991\u001B[0m | \u001B[1mINFO    \u001B[0m | \u001B[36mvrp_study.ortools_routing_model.routing_model\u001B[0m:\u001B[36m__call__\u001B[0m:\u001B[36m47\u001B[0m - \u001B[1mfind new solution: 522537, best solution: 522537\u001B[0m\n",
      "\u001B[32m2025-06-23 18:26:08.999\u001B[0m | \u001B[1mINFO    \u001B[0m | \u001B[36mvrp_study.ortools_routing_model.routing_model\u001B[0m:\u001B[36m__call__\u001B[0m:\u001B[36m47\u001B[0m - \u001B[1mfind new solution: 519969, best solution: 519969\u001B[0m\n",
      "\u001B[32m2025-06-23 18:26:09.012\u001B[0m | \u001B[1mINFO    \u001B[0m | \u001B[36mvrp_study.ortools_routing_model.routing_model\u001B[0m:\u001B[36m__call__\u001B[0m:\u001B[36m47\u001B[0m - \u001B[1mfind new solution: 518073, best solution: 518073\u001B[0m\n",
      "\u001B[32m2025-06-23 18:26:09.020\u001B[0m | \u001B[1mINFO    \u001B[0m | \u001B[36mvrp_study.ortools_routing_model.routing_model\u001B[0m:\u001B[36m__call__\u001B[0m:\u001B[36m47\u001B[0m - \u001B[1mfind new solution: 517966, best solution: 517966\u001B[0m\n",
      "\u001B[32m2025-06-23 18:26:09.040\u001B[0m | \u001B[1mINFO    \u001B[0m | \u001B[36mvrp_study.ortools_routing_model.routing_model\u001B[0m:\u001B[36m__call__\u001B[0m:\u001B[36m47\u001B[0m - \u001B[1mfind new solution: 517950, best solution: 517950\u001B[0m\n",
      "\u001B[32m2025-06-23 18:26:09.048\u001B[0m | \u001B[1mINFO    \u001B[0m | \u001B[36mvrp_study.ortools_routing_model.routing_model\u001B[0m:\u001B[36m__call__\u001B[0m:\u001B[36m47\u001B[0m - \u001B[1mfind new solution: 517844, best solution: 517844\u001B[0m\n",
      "\u001B[32m2025-06-23 18:26:09.056\u001B[0m | \u001B[1mINFO    \u001B[0m | \u001B[36mvrp_study.ortools_routing_model.routing_model\u001B[0m:\u001B[36m__call__\u001B[0m:\u001B[36m47\u001B[0m - \u001B[1mfind new solution: 517833, best solution: 517833\u001B[0m\n",
      "\u001B[32m2025-06-23 18:26:09.169\u001B[0m | \u001B[1mINFO    \u001B[0m | \u001B[36mvrp_study.ortools_routing_model.routing_model\u001B[0m:\u001B[36m__call__\u001B[0m:\u001B[36m47\u001B[0m - \u001B[1mfind new solution: 513639, best solution: 513639\u001B[0m\n",
      "\u001B[32m2025-06-23 18:26:09.175\u001B[0m | \u001B[1mINFO    \u001B[0m | \u001B[36mvrp_study.ortools_routing_model.routing_model\u001B[0m:\u001B[36m__call__\u001B[0m:\u001B[36m47\u001B[0m - \u001B[1mfind new solution: 513001, best solution: 513001\u001B[0m\n",
      "\u001B[32m2025-06-23 18:26:09.180\u001B[0m | \u001B[1mINFO    \u001B[0m | \u001B[36mvrp_study.ortools_routing_model.routing_model\u001B[0m:\u001B[36m__call__\u001B[0m:\u001B[36m47\u001B[0m - \u001B[1mfind new solution: 512892, best solution: 512892\u001B[0m\n",
      "\u001B[32m2025-06-23 18:26:09.187\u001B[0m | \u001B[1mINFO    \u001B[0m | \u001B[36mvrp_study.ortools_routing_model.routing_model\u001B[0m:\u001B[36m__call__\u001B[0m:\u001B[36m47\u001B[0m - \u001B[1mfind new solution: 512760, best solution: 512760\u001B[0m\n",
      "\u001B[32m2025-06-23 18:26:09.192\u001B[0m | \u001B[1mINFO    \u001B[0m | \u001B[36mvrp_study.ortools_routing_model.routing_model\u001B[0m:\u001B[36m__call__\u001B[0m:\u001B[36m47\u001B[0m - \u001B[1mfind new solution: 512711, best solution: 512711\u001B[0m\n",
      "\u001B[32m2025-06-23 18:26:09.211\u001B[0m | \u001B[1mINFO    \u001B[0m | \u001B[36mvrp_study.ortools_routing_model.routing_model\u001B[0m:\u001B[36m__call__\u001B[0m:\u001B[36m47\u001B[0m - \u001B[1mfind new solution: 510062, best solution: 510062\u001B[0m\n",
      "\u001B[32m2025-06-23 18:26:09.253\u001B[0m | \u001B[1mINFO    \u001B[0m | \u001B[36mvrp_study.ortools_routing_model.routing_model\u001B[0m:\u001B[36m__call__\u001B[0m:\u001B[36m47\u001B[0m - \u001B[1mfind new solution: 508281, best solution: 508281\u001B[0m\n",
      "\u001B[32m2025-06-23 18:26:09.258\u001B[0m | \u001B[1mINFO    \u001B[0m | \u001B[36mvrp_study.ortools_routing_model.routing_model\u001B[0m:\u001B[36m__call__\u001B[0m:\u001B[36m47\u001B[0m - \u001B[1mfind new solution: 507515, best solution: 507515\u001B[0m\n",
      "\u001B[32m2025-06-23 18:26:09.268\u001B[0m | \u001B[1mINFO    \u001B[0m | \u001B[36mvrp_study.ortools_routing_model.routing_model\u001B[0m:\u001B[36m__call__\u001B[0m:\u001B[36m47\u001B[0m - \u001B[1mfind new solution: 507437, best solution: 507437\u001B[0m\n",
      "\u001B[32m2025-06-23 18:26:09.281\u001B[0m | \u001B[1mINFO    \u001B[0m | \u001B[36mvrp_study.ortools_routing_model.routing_model\u001B[0m:\u001B[36m__call__\u001B[0m:\u001B[36m47\u001B[0m - \u001B[1mfind new solution: 507096, best solution: 507096\u001B[0m\n",
      "\u001B[32m2025-06-23 18:26:09.288\u001B[0m | \u001B[1mINFO    \u001B[0m | \u001B[36mvrp_study.ortools_routing_model.routing_model\u001B[0m:\u001B[36m__call__\u001B[0m:\u001B[36m47\u001B[0m - \u001B[1mfind new solution: 506405, best solution: 506405\u001B[0m\n",
      "\u001B[32m2025-06-23 18:26:09.293\u001B[0m | \u001B[1mINFO    \u001B[0m | \u001B[36mvrp_study.ortools_routing_model.routing_model\u001B[0m:\u001B[36m__call__\u001B[0m:\u001B[36m47\u001B[0m - \u001B[1mfind new solution: 506334, best solution: 506334\u001B[0m\n",
      "\u001B[32m2025-06-23 18:26:09.298\u001B[0m | \u001B[1mINFO    \u001B[0m | \u001B[36mvrp_study.ortools_routing_model.routing_model\u001B[0m:\u001B[36m__call__\u001B[0m:\u001B[36m47\u001B[0m - \u001B[1mfind new solution: 506118, best solution: 506118\u001B[0m\n",
      "\u001B[32m2025-06-23 18:26:09.318\u001B[0m | \u001B[1mINFO    \u001B[0m | \u001B[36mvrp_study.ortools_routing_model.routing_model\u001B[0m:\u001B[36m__call__\u001B[0m:\u001B[36m47\u001B[0m - \u001B[1mfind new solution: 493507, best solution: 493507\u001B[0m\n",
      "\u001B[32m2025-06-23 18:26:09.372\u001B[0m | \u001B[1mINFO    \u001B[0m | \u001B[36mvrp_study.ortools_routing_model.routing_model\u001B[0m:\u001B[36m__call__\u001B[0m:\u001B[36m47\u001B[0m - \u001B[1mfind new solution: 493490, best solution: 493490\u001B[0m\n",
      "\u001B[32m2025-06-23 18:26:09.460\u001B[0m | \u001B[1mINFO    \u001B[0m | \u001B[36mvrp_study.ortools_routing_model.routing_model\u001B[0m:\u001B[36m__call__\u001B[0m:\u001B[36m47\u001B[0m - \u001B[1mfind new solution: 489505, best solution: 489505\u001B[0m\n",
      "\u001B[32m2025-06-23 18:26:09.522\u001B[0m | \u001B[1mINFO    \u001B[0m | \u001B[36mvrp_study.ortools_routing_model.routing_model\u001B[0m:\u001B[36m__call__\u001B[0m:\u001B[36m47\u001B[0m - \u001B[1mfind new solution: 488685, best solution: 488685\u001B[0m\n",
      "\u001B[32m2025-06-23 18:26:09.594\u001B[0m | \u001B[1mINFO    \u001B[0m | \u001B[36mvrp_study.ortools_routing_model.routing_model\u001B[0m:\u001B[36m__call__\u001B[0m:\u001B[36m47\u001B[0m - \u001B[1mfind new solution: 488624, best solution: 488624\u001B[0m\n",
      "\u001B[32m2025-06-23 18:26:09.600\u001B[0m | \u001B[1mINFO    \u001B[0m | \u001B[36mvrp_study.ortools_routing_model.routing_model\u001B[0m:\u001B[36m__call__\u001B[0m:\u001B[36m47\u001B[0m - \u001B[1mfind new solution: 488244, best solution: 488244\u001B[0m\n",
      "\u001B[32m2025-06-23 18:26:09.609\u001B[0m | \u001B[1mINFO    \u001B[0m | \u001B[36mvrp_study.ortools_routing_model.routing_model\u001B[0m:\u001B[36m__call__\u001B[0m:\u001B[36m47\u001B[0m - \u001B[1mfind new solution: 487958, best solution: 487958\u001B[0m\n",
      "\u001B[32m2025-06-23 18:26:09.614\u001B[0m | \u001B[1mINFO    \u001B[0m | \u001B[36mvrp_study.ortools_routing_model.routing_model\u001B[0m:\u001B[36m__call__\u001B[0m:\u001B[36m47\u001B[0m - \u001B[1mfind new solution: 487578, best solution: 487578\u001B[0m\n",
      "\u001B[32m2025-06-23 18:26:09.625\u001B[0m | \u001B[1mINFO    \u001B[0m | \u001B[36mvrp_study.ortools_routing_model.routing_model\u001B[0m:\u001B[36m__call__\u001B[0m:\u001B[36m47\u001B[0m - \u001B[1mfind new solution: 487094, best solution: 487094\u001B[0m\n",
      "\u001B[32m2025-06-23 18:26:09.634\u001B[0m | \u001B[1mINFO    \u001B[0m | \u001B[36mvrp_study.ortools_routing_model.routing_model\u001B[0m:\u001B[36m__call__\u001B[0m:\u001B[36m47\u001B[0m - \u001B[1mfind new solution: 480980, best solution: 480980\u001B[0m\n",
      "\u001B[32m2025-06-23 18:26:09.643\u001B[0m | \u001B[1mINFO    \u001B[0m | \u001B[36mvrp_study.ortools_routing_model.routing_model\u001B[0m:\u001B[36m__call__\u001B[0m:\u001B[36m47\u001B[0m - \u001B[1mfind new solution: 479960, best solution: 479960\u001B[0m\n",
      "\u001B[32m2025-06-23 18:26:09.673\u001B[0m | \u001B[1mINFO    \u001B[0m | \u001B[36mvrp_study.ortools_routing_model.routing_model\u001B[0m:\u001B[36m__call__\u001B[0m:\u001B[36m47\u001B[0m - \u001B[1mfind new solution: 479494, best solution: 479494\u001B[0m\n",
      "\u001B[32m2025-06-23 18:26:09.710\u001B[0m | \u001B[1mINFO    \u001B[0m | \u001B[36mvrp_study.ortools_routing_model.routing_model\u001B[0m:\u001B[36m__call__\u001B[0m:\u001B[36m47\u001B[0m - \u001B[1mfind new solution: 477149, best solution: 477149\u001B[0m\n",
      "\u001B[32m2025-06-23 18:26:09.722\u001B[0m | \u001B[1mINFO    \u001B[0m | \u001B[36mvrp_study.ortools_routing_model.routing_model\u001B[0m:\u001B[36m__call__\u001B[0m:\u001B[36m47\u001B[0m - \u001B[1mfind new solution: 477019, best solution: 477019\u001B[0m\n",
      "\u001B[32m2025-06-23 18:26:09.770\u001B[0m | \u001B[1mINFO    \u001B[0m | \u001B[36mvrp_study.ortools_routing_model.routing_model\u001B[0m:\u001B[36m__call__\u001B[0m:\u001B[36m47\u001B[0m - \u001B[1mfind new solution: 472068, best solution: 472068\u001B[0m\n",
      "\u001B[32m2025-06-23 18:26:09.792\u001B[0m | \u001B[1mINFO    \u001B[0m | \u001B[36mvrp_study.ortools_routing_model.routing_model\u001B[0m:\u001B[36m__call__\u001B[0m:\u001B[36m47\u001B[0m - \u001B[1mfind new solution: 471180, best solution: 471180\u001B[0m\n",
      "\u001B[32m2025-06-23 18:26:09.804\u001B[0m | \u001B[1mINFO    \u001B[0m | \u001B[36mvrp_study.ortools_routing_model.routing_model\u001B[0m:\u001B[36m__call__\u001B[0m:\u001B[36m47\u001B[0m - \u001B[1mfind new solution: 468360, best solution: 468360\u001B[0m\n",
      "\u001B[32m2025-06-23 18:26:09.835\u001B[0m | \u001B[1mINFO    \u001B[0m | \u001B[36mvrp_study.ortools_routing_model.routing_model\u001B[0m:\u001B[36m__call__\u001B[0m:\u001B[36m47\u001B[0m - \u001B[1mfind new solution: 467975, best solution: 467975\u001B[0m\n",
      "\u001B[32m2025-06-23 18:26:09.887\u001B[0m | \u001B[1mINFO    \u001B[0m | \u001B[36mvrp_study.ortools_routing_model.routing_model\u001B[0m:\u001B[36m__call__\u001B[0m:\u001B[36m47\u001B[0m - \u001B[1mfind new solution: 465890, best solution: 465890\u001B[0m\n",
      "\u001B[32m2025-06-23 18:26:09.894\u001B[0m | \u001B[1mINFO    \u001B[0m | \u001B[36mvrp_study.ortools_routing_model.routing_model\u001B[0m:\u001B[36m__call__\u001B[0m:\u001B[36m47\u001B[0m - \u001B[1mfind new solution: 464603, best solution: 464603\u001B[0m\n",
      "\u001B[32m2025-06-23 18:26:09.901\u001B[0m | \u001B[1mINFO    \u001B[0m | \u001B[36mvrp_study.ortools_routing_model.routing_model\u001B[0m:\u001B[36m__call__\u001B[0m:\u001B[36m47\u001B[0m - \u001B[1mfind new solution: 462758, best solution: 462758\u001B[0m\n",
      "\u001B[32m2025-06-23 18:26:09.908\u001B[0m | \u001B[1mINFO    \u001B[0m | \u001B[36mvrp_study.ortools_routing_model.routing_model\u001B[0m:\u001B[36m__call__\u001B[0m:\u001B[36m47\u001B[0m - \u001B[1mfind new solution: 462753, best solution: 462753\u001B[0m\n",
      "\u001B[32m2025-06-23 18:26:09.912\u001B[0m | \u001B[1mINFO    \u001B[0m | \u001B[36mvrp_study.ortools_routing_model.routing_model\u001B[0m:\u001B[36m__call__\u001B[0m:\u001B[36m47\u001B[0m - \u001B[1mfind new solution: 462498, best solution: 462498\u001B[0m\n",
      "\u001B[32m2025-06-23 18:26:09.935\u001B[0m | \u001B[1mINFO    \u001B[0m | \u001B[36mvrp_study.ortools_routing_model.routing_model\u001B[0m:\u001B[36m__call__\u001B[0m:\u001B[36m47\u001B[0m - \u001B[1mfind new solution: 454423, best solution: 454423\u001B[0m\n",
      "\u001B[32m2025-06-23 18:26:09.957\u001B[0m | \u001B[1mINFO    \u001B[0m | \u001B[36mvrp_study.ortools_routing_model.routing_model\u001B[0m:\u001B[36m__call__\u001B[0m:\u001B[36m47\u001B[0m - \u001B[1mfind new solution: 446176, best solution: 446176\u001B[0m\n",
      "\u001B[32m2025-06-23 18:26:09.977\u001B[0m | \u001B[1mINFO    \u001B[0m | \u001B[36mvrp_study.ortools_routing_model.routing_model\u001B[0m:\u001B[36m__call__\u001B[0m:\u001B[36m47\u001B[0m - \u001B[1mfind new solution: 445347, best solution: 445347\u001B[0m\n",
      "\u001B[32m2025-06-23 18:26:09.990\u001B[0m | \u001B[1mINFO    \u001B[0m | \u001B[36mvrp_study.ortools_routing_model.routing_model\u001B[0m:\u001B[36m__call__\u001B[0m:\u001B[36m47\u001B[0m - \u001B[1mfind new solution: 440101, best solution: 440101\u001B[0m\n",
      "\u001B[32m2025-06-23 18:26:10.052\u001B[0m | \u001B[1mINFO    \u001B[0m | \u001B[36mvrp_study.ortools_routing_model.routing_model\u001B[0m:\u001B[36m__call__\u001B[0m:\u001B[36m47\u001B[0m - \u001B[1mfind new solution: 440066, best solution: 440066\u001B[0m\n",
      "\u001B[32m2025-06-23 18:26:10.057\u001B[0m | \u001B[1mINFO    \u001B[0m | \u001B[36mvrp_study.ortools_routing_model.routing_model\u001B[0m:\u001B[36m__call__\u001B[0m:\u001B[36m47\u001B[0m - \u001B[1mfind new solution: 436379, best solution: 436379\u001B[0m\n",
      "\u001B[32m2025-06-23 18:26:10.062\u001B[0m | \u001B[1mINFO    \u001B[0m | \u001B[36mvrp_study.ortools_routing_model.routing_model\u001B[0m:\u001B[36m__call__\u001B[0m:\u001B[36m47\u001B[0m - \u001B[1mfind new solution: 435975, best solution: 435975\u001B[0m\n",
      "\u001B[32m2025-06-23 18:26:10.068\u001B[0m | \u001B[1mINFO    \u001B[0m | \u001B[36mvrp_study.ortools_routing_model.routing_model\u001B[0m:\u001B[36m__call__\u001B[0m:\u001B[36m47\u001B[0m - \u001B[1mfind new solution: 435792, best solution: 435792\u001B[0m\n",
      "\u001B[32m2025-06-23 18:26:10.077\u001B[0m | \u001B[1mINFO    \u001B[0m | \u001B[36mvrp_study.ortools_routing_model.routing_model\u001B[0m:\u001B[36m__call__\u001B[0m:\u001B[36m47\u001B[0m - \u001B[1mfind new solution: 431340, best solution: 431340\u001B[0m\n",
      "\u001B[32m2025-06-23 18:26:10.085\u001B[0m | \u001B[1mINFO    \u001B[0m | \u001B[36mvrp_study.ortools_routing_model.routing_model\u001B[0m:\u001B[36m__call__\u001B[0m:\u001B[36m47\u001B[0m - \u001B[1mfind new solution: 429359, best solution: 429359\u001B[0m\n",
      "\u001B[32m2025-06-23 18:26:10.103\u001B[0m | \u001B[1mINFO    \u001B[0m | \u001B[36mvrp_study.ortools_routing_model.routing_model\u001B[0m:\u001B[36m__call__\u001B[0m:\u001B[36m47\u001B[0m - \u001B[1mfind new solution: 425012, best solution: 425012\u001B[0m\n",
      "\u001B[32m2025-06-23 18:26:10.170\u001B[0m | \u001B[1mINFO    \u001B[0m | \u001B[36mvrp_study.ortools_routing_model.routing_model\u001B[0m:\u001B[36m__call__\u001B[0m:\u001B[36m47\u001B[0m - \u001B[1mfind new solution: 424911, best solution: 424911\u001B[0m\n",
      "\u001B[32m2025-06-23 18:26:10.186\u001B[0m | \u001B[1mINFO    \u001B[0m | \u001B[36mvrp_study.ortools_routing_model.routing_model\u001B[0m:\u001B[36m__call__\u001B[0m:\u001B[36m47\u001B[0m - \u001B[1mfind new solution: 416672, best solution: 416672\u001B[0m\n",
      "\u001B[32m2025-06-23 18:26:10.229\u001B[0m | \u001B[1mINFO    \u001B[0m | \u001B[36mvrp_study.ortools_routing_model.routing_model\u001B[0m:\u001B[36m__call__\u001B[0m:\u001B[36m47\u001B[0m - \u001B[1mfind new solution: 410888, best solution: 410888\u001B[0m\n",
      "\u001B[32m2025-06-23 18:26:10.297\u001B[0m | \u001B[1mINFO    \u001B[0m | \u001B[36mvrp_study.ortools_routing_model.routing_model\u001B[0m:\u001B[36m__call__\u001B[0m:\u001B[36m47\u001B[0m - \u001B[1mfind new solution: 401960, best solution: 401960\u001B[0m\n",
      "\u001B[32m2025-06-23 18:26:10.302\u001B[0m | \u001B[1mINFO    \u001B[0m | \u001B[36mvrp_study.ortools_routing_model.routing_model\u001B[0m:\u001B[36m__call__\u001B[0m:\u001B[36m47\u001B[0m - \u001B[1mfind new solution: 389332, best solution: 389332\u001B[0m\n",
      "\u001B[32m2025-06-23 18:26:10.406\u001B[0m | \u001B[1mINFO    \u001B[0m | \u001B[36mvrp_study.ortools_routing_model.routing_model\u001B[0m:\u001B[36m__call__\u001B[0m:\u001B[36m47\u001B[0m - \u001B[1mfind new solution: 382078, best solution: 382078\u001B[0m\n",
      "\u001B[32m2025-06-23 18:26:10.419\u001B[0m | \u001B[1mINFO    \u001B[0m | \u001B[36mvrp_study.ortools_routing_model.routing_model\u001B[0m:\u001B[36m__call__\u001B[0m:\u001B[36m47\u001B[0m - \u001B[1mfind new solution: 381766, best solution: 381766\u001B[0m\n",
      "\u001B[32m2025-06-23 18:26:10.562\u001B[0m | \u001B[1mINFO    \u001B[0m | \u001B[36mvrp_study.ortools_routing_model.routing_model\u001B[0m:\u001B[36m__call__\u001B[0m:\u001B[36m47\u001B[0m - \u001B[1mfind new solution: 381730, best solution: 381730\u001B[0m\n",
      "\u001B[32m2025-06-23 18:26:10.571\u001B[0m | \u001B[1mINFO    \u001B[0m | \u001B[36mvrp_study.ortools_routing_model.routing_model\u001B[0m:\u001B[36m__call__\u001B[0m:\u001B[36m47\u001B[0m - \u001B[1mfind new solution: 377530, best solution: 377530\u001B[0m\n",
      "\u001B[32m2025-06-23 18:26:10.609\u001B[0m | \u001B[1mINFO    \u001B[0m | \u001B[36mvrp_study.ortools_routing_model.routing_model\u001B[0m:\u001B[36m__call__\u001B[0m:\u001B[36m47\u001B[0m - \u001B[1mfind new solution: 368585, best solution: 368585\u001B[0m\n",
      "\u001B[32m2025-06-23 18:26:10.615\u001B[0m | \u001B[1mINFO    \u001B[0m | \u001B[36mvrp_study.ortools_routing_model.routing_model\u001B[0m:\u001B[36m__call__\u001B[0m:\u001B[36m47\u001B[0m - \u001B[1mfind new solution: 365424, best solution: 365424\u001B[0m\n",
      "\u001B[32m2025-06-23 18:26:10.745\u001B[0m | \u001B[1mINFO    \u001B[0m | \u001B[36mvrp_study.ortools_routing_model.routing_model\u001B[0m:\u001B[36m__call__\u001B[0m:\u001B[36m47\u001B[0m - \u001B[1mfind new solution: 365383, best solution: 365383\u001B[0m\n",
      "\u001B[32m2025-06-23 18:26:10.777\u001B[0m | \u001B[1mINFO    \u001B[0m | \u001B[36mvrp_study.ortools_routing_model.routing_model\u001B[0m:\u001B[36m__call__\u001B[0m:\u001B[36m47\u001B[0m - \u001B[1mfind new solution: 364422, best solution: 364422\u001B[0m\n",
      "\u001B[32m2025-06-23 18:26:10.789\u001B[0m | \u001B[1mINFO    \u001B[0m | \u001B[36mvrp_study.ortools_routing_model.routing_model\u001B[0m:\u001B[36m__call__\u001B[0m:\u001B[36m47\u001B[0m - \u001B[1mfind new solution: 360117, best solution: 360117\u001B[0m\n",
      "\u001B[32m2025-06-23 18:26:10.794\u001B[0m | \u001B[1mINFO    \u001B[0m | \u001B[36mvrp_study.ortools_routing_model.routing_model\u001B[0m:\u001B[36m__call__\u001B[0m:\u001B[36m47\u001B[0m - \u001B[1mfind new solution: 359431, best solution: 359431\u001B[0m\n",
      "\u001B[32m2025-06-23 18:26:10.806\u001B[0m | \u001B[1mINFO    \u001B[0m | \u001B[36mvrp_study.ortools_routing_model.routing_model\u001B[0m:\u001B[36m__call__\u001B[0m:\u001B[36m47\u001B[0m - \u001B[1mfind new solution: 358859, best solution: 358859\u001B[0m\n",
      "\u001B[32m2025-06-23 18:26:10.812\u001B[0m | \u001B[1mINFO    \u001B[0m | \u001B[36mvrp_study.ortools_routing_model.routing_model\u001B[0m:\u001B[36m__call__\u001B[0m:\u001B[36m47\u001B[0m - \u001B[1mfind new solution: 358743, best solution: 358743\u001B[0m\n",
      "\u001B[32m2025-06-23 18:26:10.850\u001B[0m | \u001B[1mINFO    \u001B[0m | \u001B[36mvrp_study.ortools_routing_model.routing_model\u001B[0m:\u001B[36m__call__\u001B[0m:\u001B[36m47\u001B[0m - \u001B[1mfind new solution: 356309, best solution: 356309\u001B[0m\n",
      "\u001B[32m2025-06-23 18:26:10.864\u001B[0m | \u001B[1mINFO    \u001B[0m | \u001B[36mvrp_study.ortools_routing_model.routing_model\u001B[0m:\u001B[36m__call__\u001B[0m:\u001B[36m47\u001B[0m - \u001B[1mfind new solution: 344540, best solution: 344540\u001B[0m\n",
      "\u001B[32m2025-06-23 18:26:10.890\u001B[0m | \u001B[1mINFO    \u001B[0m | \u001B[36mvrp_study.ortools_routing_model.routing_model\u001B[0m:\u001B[36m__call__\u001B[0m:\u001B[36m47\u001B[0m - \u001B[1mfind new solution: 340586, best solution: 340586\u001B[0m\n",
      "\u001B[32m2025-06-23 18:26:10.901\u001B[0m | \u001B[1mINFO    \u001B[0m | \u001B[36mvrp_study.ortools_routing_model.routing_model\u001B[0m:\u001B[36m__call__\u001B[0m:\u001B[36m47\u001B[0m - \u001B[1mfind new solution: 337644, best solution: 337644\u001B[0m\n",
      "\u001B[32m2025-06-23 18:26:10.916\u001B[0m | \u001B[1mINFO    \u001B[0m | \u001B[36mvrp_study.ortools_routing_model.routing_model\u001B[0m:\u001B[36m__call__\u001B[0m:\u001B[36m47\u001B[0m - \u001B[1mfind new solution: 330449, best solution: 330449\u001B[0m\n",
      "\u001B[32m2025-06-23 18:26:10.958\u001B[0m | \u001B[1mINFO    \u001B[0m | \u001B[36mvrp_study.ortools_routing_model.routing_model\u001B[0m:\u001B[36m__call__\u001B[0m:\u001B[36m47\u001B[0m - \u001B[1mfind new solution: 330430, best solution: 330430\u001B[0m\n",
      "\u001B[32m2025-06-23 18:26:10.973\u001B[0m | \u001B[1mINFO    \u001B[0m | \u001B[36mvrp_study.ortools_routing_model.routing_model\u001B[0m:\u001B[36m__call__\u001B[0m:\u001B[36m47\u001B[0m - \u001B[1mfind new solution: 330414, best solution: 330414\u001B[0m\n",
      "\u001B[32m2025-06-23 18:26:11.300\u001B[0m | \u001B[1mINFO    \u001B[0m | \u001B[36mvrp_study.ortools_routing_model.routing_model\u001B[0m:\u001B[36m__call__\u001B[0m:\u001B[36m47\u001B[0m - \u001B[1mfind new solution: 322175, best solution: 322175\u001B[0m\n",
      "\u001B[32m2025-06-23 18:26:11.329\u001B[0m | \u001B[1mINFO    \u001B[0m | \u001B[36mvrp_study.ortools_routing_model.routing_model\u001B[0m:\u001B[36m__call__\u001B[0m:\u001B[36m47\u001B[0m - \u001B[1mfind new solution: 318321, best solution: 318321\u001B[0m\n",
      "\u001B[32m2025-06-23 18:26:11.412\u001B[0m | \u001B[1mINFO    \u001B[0m | \u001B[36mvrp_study.ortools_routing_model.routing_model\u001B[0m:\u001B[36m__call__\u001B[0m:\u001B[36m47\u001B[0m - \u001B[1mfind new solution: 315208, best solution: 315208\u001B[0m\n",
      "\u001B[32m2025-06-23 18:26:11.436\u001B[0m | \u001B[1mINFO    \u001B[0m | \u001B[36mvrp_study.ortools_routing_model.routing_model\u001B[0m:\u001B[36m__call__\u001B[0m:\u001B[36m47\u001B[0m - \u001B[1mfind new solution: 315186, best solution: 315186\u001B[0m\n",
      "\u001B[32m2025-06-23 18:26:11.443\u001B[0m | \u001B[1mINFO    \u001B[0m | \u001B[36mvrp_study.ortools_routing_model.routing_model\u001B[0m:\u001B[36m__call__\u001B[0m:\u001B[36m47\u001B[0m - \u001B[1mfind new solution: 315160, best solution: 315160\u001B[0m\n",
      "\u001B[32m2025-06-23 18:26:11.588\u001B[0m | \u001B[1mINFO    \u001B[0m | \u001B[36mvrp_study.ortools_routing_model.routing_model\u001B[0m:\u001B[36m__call__\u001B[0m:\u001B[36m47\u001B[0m - \u001B[1mfind new solution: 315125, best solution: 315125\u001B[0m\n",
      "\u001B[32m2025-06-23 18:26:11.955\u001B[0m | \u001B[1mINFO    \u001B[0m | \u001B[36mvrp_study.ortools_routing_model.routing_model\u001B[0m:\u001B[36m__call__\u001B[0m:\u001B[36m47\u001B[0m - \u001B[1mfind new solution: 315001, best solution: 315001\u001B[0m\n",
      "\u001B[32m2025-06-23 18:26:12.453\u001B[0m | \u001B[1mINFO    \u001B[0m | \u001B[36mvrp_study.ortools_routing_model.routing_model\u001B[0m:\u001B[36m__call__\u001B[0m:\u001B[36m47\u001B[0m - \u001B[1mfind new solution: 313020, best solution: 313020\u001B[0m\n",
      "\u001B[32m2025-06-23 18:26:12.477\u001B[0m | \u001B[1mINFO    \u001B[0m | \u001B[36mvrp_study.ortools_routing_model.routing_model\u001B[0m:\u001B[36m__call__\u001B[0m:\u001B[36m47\u001B[0m - \u001B[1mfind new solution: 312222, best solution: 312222\u001B[0m\n",
      "\u001B[32m2025-06-23 18:26:12.485\u001B[0m | \u001B[1mINFO    \u001B[0m | \u001B[36mvrp_study.ortools_routing_model.routing_model\u001B[0m:\u001B[36m__call__\u001B[0m:\u001B[36m47\u001B[0m - \u001B[1mfind new solution: 305551, best solution: 305551\u001B[0m\n",
      "\u001B[32m2025-06-23 18:26:12.635\u001B[0m | \u001B[1mINFO    \u001B[0m | \u001B[36mvrp_study.ortools_routing_model.routing_model\u001B[0m:\u001B[36m__call__\u001B[0m:\u001B[36m47\u001B[0m - \u001B[1mfind new solution: 304784, best solution: 304784\u001B[0m\n",
      "\u001B[32m2025-06-23 18:26:12.667\u001B[0m | \u001B[1mINFO    \u001B[0m | \u001B[36mvrp_study.ortools_routing_model.routing_model\u001B[0m:\u001B[36m__call__\u001B[0m:\u001B[36m47\u001B[0m - \u001B[1mfind new solution: 304041, best solution: 304041\u001B[0m\n",
      "\u001B[32m2025-06-23 18:26:13.185\u001B[0m | \u001B[1mINFO    \u001B[0m | \u001B[36mvrp_study.ortools_routing_model.routing_model\u001B[0m:\u001B[36m__call__\u001B[0m:\u001B[36m47\u001B[0m - \u001B[1mfind new solution: 303970, best solution: 303970\u001B[0m\n",
      "\u001B[32m2025-06-23 18:26:13.190\u001B[0m | \u001B[1mINFO    \u001B[0m | \u001B[36mvrp_study.ortools_routing_model.routing_model\u001B[0m:\u001B[36m__call__\u001B[0m:\u001B[36m47\u001B[0m - \u001B[1mfind new solution: 303943, best solution: 303943\u001B[0m\n",
      "\u001B[32m2025-06-23 18:26:13.227\u001B[0m | \u001B[1mINFO    \u001B[0m | \u001B[36mvrp_study.ortools_routing_model.routing_model\u001B[0m:\u001B[36m__call__\u001B[0m:\u001B[36m47\u001B[0m - \u001B[1mfind new solution: 303647, best solution: 303647\u001B[0m\n",
      "\u001B[32m2025-06-23 18:26:13.232\u001B[0m | \u001B[1mINFO    \u001B[0m | \u001B[36mvrp_study.ortools_routing_model.routing_model\u001B[0m:\u001B[36m__call__\u001B[0m:\u001B[36m47\u001B[0m - \u001B[1mfind new solution: 303279, best solution: 303279\u001B[0m\n",
      "\u001B[32m2025-06-23 18:26:13.235\u001B[0m | \u001B[1mINFO    \u001B[0m | \u001B[36mvrp_study.ortools_routing_model.routing_model\u001B[0m:\u001B[36m__call__\u001B[0m:\u001B[36m47\u001B[0m - \u001B[1mfind new solution: 303198, best solution: 303198\u001B[0m\n",
      "\u001B[32m2025-06-23 18:26:13.239\u001B[0m | \u001B[1mINFO    \u001B[0m | \u001B[36mvrp_study.ortools_routing_model.routing_model\u001B[0m:\u001B[36m__call__\u001B[0m:\u001B[36m47\u001B[0m - \u001B[1mfind new solution: 302975, best solution: 302975\u001B[0m\n",
      "\u001B[32m2025-06-23 18:26:13.815\u001B[0m | \u001B[1mINFO    \u001B[0m | \u001B[36mvrp_study.ortools_routing_model.routing_model\u001B[0m:\u001B[36m__call__\u001B[0m:\u001B[36m47\u001B[0m - \u001B[1mfind new solution: 301588, best solution: 301588\u001B[0m\n",
      "\u001B[32m2025-06-23 18:26:13.896\u001B[0m | \u001B[1mINFO    \u001B[0m | \u001B[36mvrp_study.ortools_routing_model.routing_model\u001B[0m:\u001B[36m__call__\u001B[0m:\u001B[36m47\u001B[0m - \u001B[1mfind new solution: 298263, best solution: 298263\u001B[0m\n",
      "\u001B[32m2025-06-23 18:26:14.444\u001B[0m | \u001B[1mINFO    \u001B[0m | \u001B[36mvrp_study.ortools_routing_model.routing_model\u001B[0m:\u001B[36m__call__\u001B[0m:\u001B[36m47\u001B[0m - \u001B[1mfind new solution: 298157, best solution: 298157\u001B[0m\n",
      "\u001B[32m2025-06-23 18:26:14.917\u001B[0m | \u001B[1mINFO    \u001B[0m | \u001B[36mvrp_study.ortools_routing_model.routing_model\u001B[0m:\u001B[36m__call__\u001B[0m:\u001B[36m47\u001B[0m - \u001B[1mfind new solution: 298152, best solution: 298152\u001B[0m\n",
      "\u001B[32m2025-06-23 18:26:14.920\u001B[0m | \u001B[1mINFO    \u001B[0m | \u001B[36mvrp_study.ortools_routing_model.routing_model\u001B[0m:\u001B[36m__call__\u001B[0m:\u001B[36m47\u001B[0m - \u001B[1mfind new solution: 291307, best solution: 291307\u001B[0m\n",
      "\u001B[32m2025-06-23 18:26:16.904\u001B[0m | \u001B[1mINFO    \u001B[0m | \u001B[36mvrp_study.ortools_routing_model.routing_model\u001B[0m:\u001B[36m__call__\u001B[0m:\u001B[36m47\u001B[0m - \u001B[1mfind new solution: 298152, best solution: 291307\u001B[0m\n",
      "\u001B[32m2025-06-23 18:26:16.909\u001B[0m | \u001B[1mINFO    \u001B[0m | \u001B[36mvrp_study.ortools_routing_model.routing_model\u001B[0m:\u001B[36m__call__\u001B[0m:\u001B[36m47\u001B[0m - \u001B[1mfind new solution: 291307, best solution: 291307\u001B[0m\n",
      "\u001B[32m2025-06-23 18:26:16.918\u001B[0m | \u001B[1mINFO    \u001B[0m | \u001B[36mvrp_study.ortools_routing_model.routing_model\u001B[0m:\u001B[36m__call__\u001B[0m:\u001B[36m47\u001B[0m - \u001B[1mfind new solution: 291307, best solution: 291307\u001B[0m\n",
      "\u001B[32m2025-06-23 18:26:19.225\u001B[0m | \u001B[1mINFO    \u001B[0m | \u001B[36mvrp_study.ortools_routing_model.routing_model\u001B[0m:\u001B[36m__call__\u001B[0m:\u001B[36m47\u001B[0m - \u001B[1mfind new solution: 291307, best solution: 291307\u001B[0m\n",
      "\u001B[32m2025-06-23 18:26:19.232\u001B[0m | \u001B[1mINFO    \u001B[0m | \u001B[36mvrp_study.ortools_routing_model.routing_model\u001B[0m:\u001B[36m__call__\u001B[0m:\u001B[36m47\u001B[0m - \u001B[1mfind new solution: 291307, best solution: 291307\u001B[0m\n",
      "\u001B[32m2025-06-23 18:26:21.559\u001B[0m | \u001B[1mINFO    \u001B[0m | \u001B[36mvrp_study.ortools_routing_model.routing_model\u001B[0m:\u001B[36m__call__\u001B[0m:\u001B[36m47\u001B[0m - \u001B[1mfind new solution: 291307, best solution: 291307\u001B[0m\n",
      "\u001B[32m2025-06-23 18:26:21.569\u001B[0m | \u001B[1mINFO    \u001B[0m | \u001B[36mvrp_study.ortools_routing_model.routing_model\u001B[0m:\u001B[36m__call__\u001B[0m:\u001B[36m47\u001B[0m - \u001B[1mfind new solution: 291307, best solution: 291307\u001B[0m\n",
      "\u001B[32m2025-06-23 18:26:23.886\u001B[0m | \u001B[1mINFO    \u001B[0m | \u001B[36mvrp_study.ortools_routing_model.routing_model\u001B[0m:\u001B[36m__call__\u001B[0m:\u001B[36m47\u001B[0m - \u001B[1mfind new solution: 291307, best solution: 291307\u001B[0m\n",
      "\u001B[32m2025-06-23 18:26:23.896\u001B[0m | \u001B[1mINFO    \u001B[0m | \u001B[36mvrp_study.ortools_routing_model.routing_model\u001B[0m:\u001B[36m__call__\u001B[0m:\u001B[36m47\u001B[0m - \u001B[1mfind new solution: 291307, best solution: 291307\u001B[0m\n",
      "\u001B[32m2025-06-23 18:26:26.212\u001B[0m | \u001B[1mINFO    \u001B[0m | \u001B[36mvrp_study.ortools_routing_model.routing_model\u001B[0m:\u001B[36m__call__\u001B[0m:\u001B[36m47\u001B[0m - \u001B[1mfind new solution: 291307, best solution: 291307\u001B[0m\n",
      "\u001B[32m2025-06-23 18:26:26.225\u001B[0m | \u001B[1mINFO    \u001B[0m | \u001B[36mvrp_study.ortools_routing_model.routing_model\u001B[0m:\u001B[36m__call__\u001B[0m:\u001B[36m47\u001B[0m - \u001B[1mfind new solution: 291307, best solution: 291307\u001B[0m\n",
      "\u001B[32m2025-06-23 18:26:28.563\u001B[0m | \u001B[1mINFO    \u001B[0m | \u001B[36mvrp_study.ortools_routing_model.routing_model\u001B[0m:\u001B[36m__call__\u001B[0m:\u001B[36m47\u001B[0m - \u001B[1mfind new solution: 291307, best solution: 291307\u001B[0m\n",
      "\u001B[32m2025-06-23 18:26:28.578\u001B[0m | \u001B[1mINFO    \u001B[0m | \u001B[36mvrp_study.ortools_routing_model.routing_model\u001B[0m:\u001B[36m__call__\u001B[0m:\u001B[36m47\u001B[0m - \u001B[1mfind new solution: 291307, best solution: 291307\u001B[0m\n",
      "\u001B[32m2025-06-23 18:26:30.897\u001B[0m | \u001B[1mINFO    \u001B[0m | \u001B[36mvrp_study.ortools_routing_model.routing_model\u001B[0m:\u001B[36m__call__\u001B[0m:\u001B[36m47\u001B[0m - \u001B[1mfind new solution: 291307, best solution: 291307\u001B[0m\n",
      "\u001B[32m2025-06-23 18:26:30.914\u001B[0m | \u001B[1mINFO    \u001B[0m | \u001B[36mvrp_study.ortools_routing_model.routing_model\u001B[0m:\u001B[36m__call__\u001B[0m:\u001B[36m47\u001B[0m - \u001B[1mfind new solution: 291307, best solution: 291307\u001B[0m\n",
      "\u001B[32m2025-06-23 18:26:33.211\u001B[0m | \u001B[1mINFO    \u001B[0m | \u001B[36mvrp_study.ortools_routing_model.routing_model\u001B[0m:\u001B[36m__call__\u001B[0m:\u001B[36m47\u001B[0m - \u001B[1mfind new solution: 291307, best solution: 291307\u001B[0m\n",
      "\u001B[32m2025-06-23 18:26:33.224\u001B[0m | \u001B[1mINFO    \u001B[0m | \u001B[36mvrp_study.ortools_routing_model.routing_model\u001B[0m:\u001B[36m__call__\u001B[0m:\u001B[36m47\u001B[0m - \u001B[1mfind new solution: 291307, best solution: 291307\u001B[0m\n",
      "\u001B[32m2025-06-23 18:26:35.496\u001B[0m | \u001B[1mINFO    \u001B[0m | \u001B[36mvrp_study.ortools_routing_model.routing_model\u001B[0m:\u001B[36m__call__\u001B[0m:\u001B[36m47\u001B[0m - \u001B[1mfind new solution: 291307, best solution: 291307\u001B[0m\n",
      "\u001B[32m2025-06-23 18:26:35.505\u001B[0m | \u001B[1mINFO    \u001B[0m | \u001B[36mvrp_study.ortools_routing_model.routing_model\u001B[0m:\u001B[36m__call__\u001B[0m:\u001B[36m47\u001B[0m - \u001B[1mfind new solution: 291307, best solution: 291307\u001B[0m\n",
      "\u001B[32m2025-06-23 18:26:36.432\u001B[0m | \u001B[1mINFO    \u001B[0m | \u001B[36mvrp_study.ortools_routing_model.routing_model\u001B[0m:\u001B[36mfind_optimal_paths\u001B[0m:\u001B[36m559\u001B[0m - \u001B[1mbest_score: 20\u001B[0m\n",
      "\u001B[32m2025-06-23 18:26:36.432\u001B[0m | \u001B[1mINFO    \u001B[0m | \u001B[36mvrp_study.ortools_routing_model.routing_model\u001B[0m:\u001B[36mfind_optimal_paths\u001B[0m:\u001B[36m561\u001B[0m - \u001B[1mbest_score: 2913.07\u001B[0m\n"
     ]
    }
   ],
   "source": [
    "sol = find_optimal_paths(routing_manager)"
   ],
   "metadata": {
    "collapsed": false,
    "ExecuteTime": {
     "end_time": "2025-06-23T15:26:36.434896Z",
     "start_time": "2025-06-23T15:25:36.358916Z"
    }
   },
   "id": "17c861ef9eeb9277",
   "execution_count": 54
  },
  {
   "cell_type": "code",
   "outputs": [
    {
     "data": {
      "text/plain": "(20, 2913.854044506088)"
     },
     "execution_count": 55,
     "metadata": {},
     "output_type": "execute_result"
    }
   ],
   "source": [
    "total_l = 0\n",
    "total_car = 0\n",
    "for s in sol[0]:\n",
    "    if len(s) > 0:\n",
    "        # print(s)\n",
    "        l = sum(routing_manager.get_distance(s[i], s[i + 1]) for i in range(len(s) - 1))\n",
    "        # print(s, l)\n",
    "        total_l += l\n",
    "        total_car += 1\n",
    "total_car, total_l"
   ],
   "metadata": {
    "collapsed": false,
    "ExecuteTime": {
     "end_time": "2025-06-23T15:26:36.443042Z",
     "start_time": "2025-06-23T15:26:36.436472Z"
    }
   },
   "id": "72ff82326e33a184",
   "execution_count": 55
  },
  {
   "cell_type": "code",
   "outputs": [],
   "source": [
    "for crg in cargos:\n",
    "    in1 = routing_manager._node_to_inner_node[crg.nodes[0]]\n",
    "    in2 = routing_manager._node_to_inner_node[crg.nodes[1]]\n",
    "\n",
    "    start = None\n",
    "    end = None\n",
    "    in_time = None\n",
    "    out_time = None\n",
    "\n",
    "    for i, s in enumerate(sol[0]):\n",
    "        s_time = sol[1][i]\n",
    "        if len(s) == 0:\n",
    "            continue\n",
    "\n",
    "        for order, i in enumerate(s):\n",
    "            if i == in1.id:\n",
    "                start = i\n",
    "                in_time = s_time[order]\n",
    "            if i == in2.id:\n",
    "                end = i\n",
    "                out_time = s_time[order]\n",
    "\n",
    "    assert start is not None and end is not None and start < end, (start, end)\n",
    "\n",
    "    if not (crg.nodes[0].start_time <= in_time[0] and crg.nodes[0].end_time >= in_time[1]):\n",
    "        print(in_time, crg.nodes[0].start_time, crg.nodes[0].end_time)\n",
    "    if not (crg.nodes[1].start_time <= out_time[0] and crg.nodes[1].end_time >= out_time[1]):\n",
    "        print(out_time, crg.nodes[0].start_time, crg.nodes[0].end_time)"
   ],
   "metadata": {
    "collapsed": false,
    "ExecuteTime": {
     "end_time": "2025-06-23T15:26:36.467050Z",
     "start_time": "2025-06-23T15:26:36.445266Z"
    }
   },
   "id": "82ccea38bdeb0a79",
   "execution_count": 56
  },
  {
   "cell_type": "code",
   "outputs": [],
   "source": [
    "import networkx as nx\n",
    "\n",
    "g = nx.Graph()\n",
    "for node in nodes:\n",
    "    color = 'green' if node.id == 1 else 'red' if node.capacity < 0 else 'blue'\n",
    "    g.add_node(node.id, x=node.coordinates[0], y=node.coordinates[1], coords=node.coordinates, color=color)\n",
    "for r in sol[0]:\n",
    "    if len(r) > 0:\n",
    "        for i in range(1, len(r) - 2):\n",
    "            n1 = routing_manager.nodes()[r[i]].routing_node\n",
    "            n2 = routing_manager.nodes()[r[i + 1]].routing_node\n",
    "            g.add_edge(n1.id, n2.id)\n",
    "    # print(r)"
   ],
   "metadata": {
    "collapsed": false,
    "ExecuteTime": {
     "end_time": "2025-06-23T15:26:53.109497Z",
     "start_time": "2025-06-23T15:26:53.100568Z"
    }
   },
   "id": "c2ce618d691b1e78",
   "execution_count": 61
  },
  {
   "cell_type": "code",
   "outputs": [
    {
     "data": {
      "text/plain": "<Figure size 640x480 with 1 Axes>",
      "image/png": "[encoded data removed]"
     },
     "metadata": {},
     "output_type": "display_data"
    }
   ],
   "source": [
    "nx.draw(g, pos={u: d for u, d in g.nodes(data='coords')}, node_color=[d for _, d in g.nodes(data='color')], node_size=5)"
   ],
   "metadata": {
    "collapsed": false,
    "ExecuteTime": {
     "end_time": "2025-06-23T15:26:53.727386Z",
     "start_time": "2025-06-23T15:26:53.657995Z"
    }
   },
   "id": "460e8232fe94f493",
   "execution_count": 62
  },
  {
   "cell_type": "code",
   "outputs": [],
   "source": [
    "from vrp_study.routing_manager import RoutingManager, PDRoutingManager\n",
    "from ortools.sat.python import cp_model\n",
    "from loguru import logger as log\n",
    "from tqdm.auto import tqdm, trange\n",
    "\n",
    "best = {'preferred_variable_order': 2,\n",
    "        'clause_cleanup_protection': 1,\n",
    "        'max_presolve_iterations': 5,\n",
    "        'cp_model_probing_level': 1,\n",
    "        'presolve_probing_deterministic_time_limit': 10.0,\n",
    "        'search_branching': 2,\n",
    "        'feasibility_jump_linearization_level': 0,\n",
    "        'fp_rounding': 0,\n",
    "        'polish_lp_solution': True,\n",
    "        'linearization_level': 0,\n",
    "        'cut_level': 2,\n",
    "        'max_all_diff_cut_size': 128,\n",
    "        'symmetry_level': 0,\n",
    "        'num_workers': 8}\n",
    "\n",
    "\n",
    "# \n",
    "# class CpROutingModel:\n",
    "#     def __init__(self):\n",
    "#         self.X = {}\n",
    "\n",
    "def get_solver():\n",
    "    solver = cp_model.CpSolver()\n",
    "\n",
    "    for k, v in best.items():\n",
    "        if isinstance(v, list):\n",
    "            for ss in v:\n",
    "                solver.parameters.ignore_subsolvers.append(ss)\n",
    "        else:\n",
    "            if 'ignore_subsolvers' in k:\n",
    "                if v:\n",
    "                    solver.parameters.ignore_subsolvers.append(k.split(':')[1])\n",
    "            else:\n",
    "                exec(f'solver.parameters.{k} = {v}')\n",
    "\n",
    "    solver.parameters.log_search_progress = True\n",
    "    solver.parameters.max_time_in_seconds = 60.0 * 30\n",
    "    return solver\n",
    "\n",
    "\n",
    "def find_optimal_paths(\n",
    "        routing_manager: PDRoutingManager,\n",
    "):\n",
    "    log.info(f'problem size: {len(routing_manager.nodes())}')\n",
    "\n",
    "    N = len(routing_manager.nodes())\n",
    "    P = len(routing_manager.cars())\n",
    "    M = 1_000_000\n",
    "\n",
    "    X = {}\n",
    "    T = {}\n",
    "    Q = {}\n",
    "\n",
    "    model = cp_model.CpModel()\n",
    "\n",
    "    for p in trange(P, leave=False, desc='create_X_{p,i,j}'):\n",
    "        for i in range(N):\n",
    "            for j in range(N):\n",
    "                if i == j:\n",
    "                    X[p, i, j] = model.new_constant(0)\n",
    "                else:\n",
    "                    X[p, i, j] = model.new_bool_var(f'x_{p, i, j}')\n",
    "\n",
    "    max_time = max(n.late_time for n in routing_manager.nodes())\n",
    "    max_mass = max(car.capacity for car in routing_manager.cars())\n",
    "\n",
    "    log.debug(f'max_time: {max_time}, max_mass: {max_mass}')\n",
    "    for i in range(N):\n",
    "        T[i] = model.new_int_var(lb=0, ub=max_time, name=f'time_{i}')\n",
    "        Q[i] = model.new_int_var(lb=0, ub=max_mass, name=f'mass_{i}')\n",
    "\n",
    "    for p, car in enumerate(routing_manager.cars()):\n",
    "        model.add(sum(X[p, i, car.start_node.id] for i in range(N)) == 0)\n",
    "        model.add(sum(X[p, car.end_node.id, i] for i in range(N)) == 0)\n",
    "\n",
    "        model.add(sum(X[p, car.start_node.id, i] for i in range(N)) == 1)\n",
    "        model.add(sum(X[p, i, car.end_node.id] for i in range(N)) == 1)\n",
    "\n",
    "    for i, node in enumerate(routing_manager.nodes()):\n",
    "        for p, car in enumerate(routing_manager.cars()):\n",
    "            if car.start_node.id != node.id and car.end_node.id != node.id:\n",
    "                model.add(\n",
    "                    sum(X[p, i, j] for j in range(N)) == sum(X[p, j, i] for j in range(N))\n",
    "                )\n",
    "\n",
    "            for j in range(N):\n",
    "                if i == j:\n",
    "                    continue\n",
    "                # log.debug(f'time_{i,j}:{routing_manager.get_time(i,j)} ')\n",
    "                model.add(\n",
    "                    T[i] + int(routing_manager.get_time(i, j) + routing_manager.nodes()[i].service_time) <=\n",
    "                    T[j] + M * (1 - X[p, i, j]))\n",
    "                \n",
    "                model.add(\n",
    "                    Q[i] + routing_manager.nodes()[i].demand <=\n",
    "                    Q[j] + M * (1 - X[p, i, j]))\n",
    "                \n",
    "                \n",
    "        if node.is_transit:\n",
    "            model.add(\n",
    "                sum(X[p, j, i] for p in range(P) for j in range(N)) == 1\n",
    "            )\n",
    "\n",
    "    for node_a, node_b in routing_manager.get_pick_up_and_delivery_nodes():\n",
    "        a, b = node_a.id, node_b.id\n",
    "        model.add(T[a] <= T[b])\n",
    "        for p in range(P):\n",
    "            model.add(sum(X[p, k, a] + X[p, k, b] for k in range(N)) == 2 * sum(X[p, k, a] for k in range(N)))\n",
    "\n",
    "    for i, node in enumerate(routing_manager.nodes()):\n",
    "        model.add(node.early_time <= T[i])\n",
    "        model.add(T[i] <= node.late_time)\n",
    "\n",
    "    \n",
    "    obj = sum(X[p,i,j] * int(routing_manager.get_distance(i,j)) for p in range(P) for i in range(N) for j in range(N))\n",
    "    model.minimize(obj)\n",
    "\n",
    "    solver = get_solver()\n",
    "    status = solver.solve(model)\n",
    "    log.info(f'status: {status}')\n",
    "\n",
    "    for p in range(P):\n",
    "        for k, v in X.items():\n",
    "            if k[0] == p and solver.value(v) == 1 and k != (p, 0, 1):\n",
    "                print(k)\n",
    "    \n",
    "    # todo тут я осознал что это уже не имеет смысла, тк в задаче на сто грузов уже 1.3 млн переменных."
   ],
   "metadata": {
    "collapsed": false,
    "ExecuteTime": {
     "end_time": "2025-06-24T08:14:36.313721Z",
     "start_time": "2025-06-24T08:14:36.289478Z"
    }
   },
   "id": "eea7875cf1237ca4",
   "execution_count": 59
  },
  {
   "cell_type": "code",
   "outputs": [],
   "source": [
    "routing_manager = PDRoutingManager()\n",
    "\n",
    "routing_manager.add_cargos(cargos[:3])\n",
    "routing_manager.add_tariff(tariff)\n",
    "\n",
    "routing_manager.add_depo(depo)\n",
    "\n",
    "routing_manager.distance_matrix = distance_matrix\n",
    "routing_manager.time_matrix = time_matrix\n",
    "\n",
    "routing_manager.max_time_minutes = 0.5\n",
    "\n",
    "routing_manager.build()"
   ],
   "metadata": {
    "collapsed": false,
    "ExecuteTime": {
     "end_time": "2025-06-24T08:14:36.652324Z",
     "start_time": "2025-06-24T08:14:36.643834Z"
    }
   },
   "id": "37fd36f5bf35a190",
   "execution_count": 60
  },
  {
   "cell_type": "code",
   "outputs": [
    {
     "name": "stderr",
     "output_type": "stream",
     "text": [
      "\u001B[32m2025-06-24 11:14:37.033\u001B[0m | \u001B[1mINFO    \u001B[0m | \u001B[36m__main__\u001B[0m:\u001B[36mfind_optimal_paths\u001B[0m:\u001B[36m49\u001B[0m - \u001B[1mproblem size: 8\u001B[0m\n"
     ]
    },
    {
     "data": {
      "text/plain": "create_X_{p,i,j}:   0%|          | 0/100 [00:00<?, ?it/s]",
      "application/vnd.jupyter.widget-view+json": {
       "version_major": 2,
       "version_minor": 0,
       "model_id": "c68f36bff89b4402805f5f1340b4f452"
      }
     },
     "metadata": {},
     "output_type": "display_data"
    },
    {
     "name": "stderr",
     "output_type": "stream",
     "text": [
      "\u001B[32m2025-06-24 11:14:37.127\u001B[0m | \u001B[34m\u001B[1mDEBUG   \u001B[0m | \u001B[36m__main__\u001B[0m:\u001B[36mfind_optimal_paths\u001B[0m:\u001B[36m72\u001B[0m - \u001B[34m\u001B[1mmax_time: 1236, max_mass: 200\u001B[0m\n"
     ]
    },
    {
     "name": "stdout",
     "output_type": "stream",
     "text": [
      "\n",
      "Starting CP-SAT solver v9.14.6206\n",
      "Parameters: preferred_variable_order: IN_RANDOM_ORDER max_time_in_seconds: 1800 log_search_progress: true presolve_probing_deterministic_time_limit: 10 clause_cleanup_protection: PROTECTION_ALWAYS search_branching: PORTFOLIO_SEARCH linearization_level: 0 cp_model_probing_level: 1 max_presolve_iterations: 5 max_all_diff_cut_size: 128 fp_rounding: NEAREST_INTEGER polish_lp_solution: true symmetry_level: 0 cut_level: 2 num_workers: 8 feasibility_jump_linearization_level: 0\n",
      "\n",
      "Initial optimization model '': (model_fingerprint: 0x47992fea0b4aeff6)\n",
      "#Variables: 5'617 (#bools: 5'400 in objective) (4'715 primary variables)\n",
      "  - 5'600 Booleans in [0,1]\n",
      "  - 8 in [0,200]\n",
      "  - 8 in [0,1236]\n",
      "  - 1 constants in {0} \n",
      "#kLinear1: 16\n",
      "#kLinear2: 3\n",
      "#kLinear3: 11'200\n",
      "#kLinearN: 1'306 (#terms: 20'006)\n",
      "\n",
      "Starting presolve at 0.02s\n",
      "  2.19e-03s  0.00e+00d  [DetectDominanceRelations] \n",
      "  1.01e-01s  0.00e+00d  [PresolveToFixPoint] #num_loops=10 #num_dual_strengthening=6 \n",
      "  3.87e-04s  0.00e+00d  [ExtractEncodingFromLinear] #potential_supersets=506 \n",
      "  1.70e-03s  0.00e+00d  [DetectDuplicateConstraintsWithDifferentEnforcements] \n",
      "  8.44e-01s  7.63e-01d  [Probe] #probed=4'500 #fixed_bools=1'200 #equiv=100 #new_binary_clauses=441'799 \n",
      "  1.80e-04s  0.00e+00d  [MaxClique] \n",
      "  2.06e-03s  0.00e+00d  [DetectDominanceRelations] \n",
      "  9.83e-03s  0.00e+00d  [PresolveToFixPoint] #num_loops=1 #num_dual_strengthening=1 \n",
      "  1.29e-03s  0.00e+00d  [ProcessAtMostOneAndLinear] \n",
      "  1.06e-03s  0.00e+00d  [DetectDuplicateConstraints] #duplicates=200 \n",
      "  5.41e-04s  0.00e+00d  [DetectDuplicateConstraintsWithDifferentEnforcements] \n",
      "  1.90e-04s  3.00e-06d  [DetectDominatedLinearConstraints] #relevant_constraints=200 \n",
      "  8.70e-05s  0.00e+00d  [DetectDifferentVariables] \n",
      "  5.78e-04s  1.25e-05d  [ProcessSetPPC] #relevant_constraints=806 \n",
      "  1.21e-04s  1.70e-06d  [FindAlmostIdenticalLinearConstraints] #num_tested_pairs=68 \n",
      "  4.41e-03s  2.77e-03d  [FindBigAtMostOneAndLinearOverlap] \n",
      "  4.18e-04s  5.05e-05d  [FindBigVerticalLinearOverlap] \n",
      "  3.47e-04s  5.00e-06d  [FindBigHorizontalLinearOverlap] #linears=200 \n",
      "  2.45e-04s  0.00e+00d  [MergeClauses] \n",
      "  1.99e-03s  0.00e+00d  [DetectDominanceRelations] \n",
      "  5.80e-03s  0.00e+00d  [PresolveToFixPoint] #num_loops=1 #num_dual_strengthening=1 \n",
      "  1.08e-03s  0.00e+00d  [DetectDominanceRelations] \n",
      "  3.15e-03s  0.00e+00d  [PresolveToFixPoint] #num_loops=1 #num_dual_strengthening=1 \n"
     ]
    },
    {
     "name": "stderr",
     "output_type": "stream",
     "text": [
      "\u001B[32m2025-06-24 11:14:39.039\u001B[0m | \u001B[1mINFO    \u001B[0m | \u001B[36m__main__\u001B[0m:\u001B[36mfind_optimal_paths\u001B[0m:\u001B[36m125\u001B[0m - \u001B[1mstatus: 4\u001B[0m\n"
     ]
    },
    {
     "name": "stdout",
     "output_type": "stream",
     "text": [
      "  8.15e-04s  0.00e+00d  [DetectDuplicateConstraintsWithDifferentEnforcements] \n",
      "  1.87e-01s  1.97e-01d  [Probe] #probed=3'200 #new_binary_clauses=41'600 \n",
      "  1.45e-04s  0.00e+00d  [MaxClique] \n",
      "  1.27e-03s  0.00e+00d  [DetectDominanceRelations] \n",
      "  3.68e-03s  0.00e+00d  [PresolveToFixPoint] #num_loops=1 #num_dual_strengthening=1 \n",
      "  7.55e-04s  0.00e+00d  [ProcessAtMostOneAndLinear] \n",
      "  5.56e-04s  0.00e+00d  [DetectDuplicateConstraints] \n",
      "  5.24e-04s  0.00e+00d  [DetectDuplicateConstraintsWithDifferentEnforcements] \n",
      "  1.60e-04s  3.00e-06d  [DetectDominatedLinearConstraints] #relevant_constraints=200 \n",
      "  7.62e-05s  0.00e+00d  [DetectDifferentVariables] \n",
      "  6.10e-04s  1.25e-05d  [ProcessSetPPC] #relevant_constraints=806 \n",
      "  1.36e-04s  1.90e-06d  [FindAlmostIdenticalLinearConstraints] #num_tested_pairs=76 \n",
      "  3.84e-03s  2.85e-03d  [FindBigAtMostOneAndLinearOverlap] \n",
      "  2.06e-04s  5.05e-05d  [FindBigVerticalLinearOverlap] \n",
      "  1.46e-04s  5.00e-06d  [FindBigHorizontalLinearOverlap] #linears=200 \n",
      "  1.52e-04s  0.00e+00d  [MergeClauses] \n",
      "  1.31e-03s  0.00e+00d  [DetectDominanceRelations] \n",
      "  3.50e-03s  0.00e+00d  [PresolveToFixPoint] #num_loops=1 #num_dual_strengthening=1 \n",
      "  3.56e-03s  0.00e+00d  [ExpandObjective] #entries=286'000 #tight_variables=3'500 #tight_constraints=606 \n",
      "\n",
      "Presolve summary:\n",
      "  - 100 affine relations were detected.\n",
      "  - rule 'TODO variables: only used in linear1.' was applied 1 time.\n",
      "  - rule 'affine: new relation' was applied 100 times.\n",
      "  - rule 'at_most_one: resolved two constraints with opposite literal' was applied 100 times.\n",
      "  - rule 'at_most_one: size one' was applied 2 times.\n",
      "  - rule 'deductions: 4300 stored' was applied 1 time.\n",
      "  - rule 'dual: fix variable' was applied 12 times.\n",
      "  - rule 'dual: fix variable with multiple choices' was applied 1 time.\n",
      "  - rule 'dual: reduced domain' was applied 9 times.\n",
      "  - rule 'duplicate: removed constraint' was applied 200 times.\n",
      "  - rule 'enforcement: false literal' was applied 2'600 times.\n",
      "  - rule 'exactly_one: removed literals' was applied 504 times.\n",
      "  - rule 'exactly_one: simplified objective' was applied 205 times.\n",
      "  - rule 'linear1: x in domain' was applied 12 times.\n",
      "  - rule 'linear: always true' was applied 6'707 times.\n",
      "  - rule 'linear: empty' was applied 200 times.\n",
      "  - rule 'linear: extracted enforcement literal' was applied 6'900 times.\n",
      "  - rule 'linear: fixed or dup variables' was applied 9'306 times.\n",
      "  - rule 'linear: negative equal one' was applied 400 times.\n",
      "  - rule 'linear: positive equal one' was applied 506 times.\n",
      "  - rule 'linear: reduced variable domains' was applied 1'700 times.\n",
      "  - rule 'linear: remapped using affine relations' was applied 200 times.\n",
      "  - rule 'linear: simplified rhs' was applied 1'500 times.\n",
      "  - rule 'new_bool: integer encoding' was applied 2 times.\n",
      "  - rule 'objective: shifted cost with exactly ones' was applied 101 times.\n",
      "  - rule 'objective: variable not used elsewhere' was applied 1'500 times.\n",
      "  - rule 'presolve: 4017 unused variables removed.' was applied 1 time.\n",
      "  - rule 'presolve: iteration' was applied 2 times.\n",
      "  - rule 'variables: add encoding constraint' was applied 2 times.\n",
      "  - rule 'variables: detect half reified value encoding' was applied 400 times.\n",
      "  - rule 'variables: only used in encoding' was applied 2 times.\n",
      "\n",
      "Presolved optimization model '': (model_fingerprint: 0x6bc85a155e68443)\n",
      "#Variables: 1'400 (#bools: 500 in objective) (797 primary variables)\n",
      "  - 1'400 Booleans in [0,1]\n",
      "#kExactlyOne: 606 (#literals: 3'500)\n",
      "#kLinearN: 200 (#terms: 1'000)\n",
      "\n",
      "Preloading model.\n",
      "#Bound   1.23s best:inf   next:[46,6746]  initial_domain\n",
      "#Model   1.24s var:1400/1400 constraints:806/806\n",
      "\n",
      "Starting search at 1.24s with 8 workers.\n",
      "6 full problem subsolvers: [core, default_lp, max_lp, no_lp, quick_restart, reduced_costs]\n",
      "2 first solution subsolvers: [fj, fs_random_no_lp]\n",
      "8 interleaved subsolvers: [graph_arc_lns, graph_cst_lns, graph_dec_lns, graph_var_lns, ls, rins/rens, rnd_cst_lns, rnd_var_lns]\n",
      "3 helper subsolvers: [neighborhood_helper, synchronization_agent, update_gap_integral]\n",
      "\n",
      "#1       1.24s best:82    next:[46,81]    fj_restart(batch:1 lin{mvs:106 evals:1'208} #w_updates:1 #perturb:0)\n",
      "#2       1.24s best:46    next:[]         no_lp\n",
      "#Done    1.24s no_lp\n",
      "\n",
      "Task timing                  n [     min,      max]      avg      dev     time         n [     min,      max]      avg      dev    dtime\n",
      "             'core':         1 [ 14.55ms,  14.55ms]  14.55ms   0.00ns  14.55ms         1 [ 10.76ms,  10.76ms]  10.76ms   0.00ns  10.76ms\n",
      "       'default_lp':         1 [ 10.89ms,  10.89ms]  10.89ms   0.00ns  10.89ms         0 [  0.00ns,   0.00ns]   0.00ns   0.00ns   0.00ns\n",
      "               'fj':         1 [  2.06ms,   2.06ms]   2.06ms   0.00ns   2.06ms         1 [324.30us, 324.30us] 324.30us   0.00ns 324.30us\n",
      "  'fs_random_no_lp':         1 [  4.45ms,   4.45ms]   4.45ms   0.00ns   4.45ms         0 [  0.00ns,   0.00ns]   0.00ns   0.00ns   0.00ns\n",
      "    'graph_arc_lns':         0 [  0.00ns,   0.00ns]   0.00ns   0.00ns   0.00ns         0 [  0.00ns,   0.00ns]   0.00ns   0.00ns   0.00ns\n",
      "    'graph_cst_lns':         0 [  0.00ns,   0.00ns]   0.00ns   0.00ns   0.00ns         0 [  0.00ns,   0.00ns]   0.00ns   0.00ns   0.00ns\n",
      "    'graph_dec_lns':         0 [  0.00ns,   0.00ns]   0.00ns   0.00ns   0.00ns         0 [  0.00ns,   0.00ns]   0.00ns   0.00ns   0.00ns\n",
      "    'graph_var_lns':         0 [  0.00ns,   0.00ns]   0.00ns   0.00ns   0.00ns         0 [  0.00ns,   0.00ns]   0.00ns   0.00ns   0.00ns\n",
      "               'ls':         0 [  0.00ns,   0.00ns]   0.00ns   0.00ns   0.00ns         0 [  0.00ns,   0.00ns]   0.00ns   0.00ns   0.00ns\n",
      "           'max_lp':         1 [ 12.52ms,  12.52ms]  12.52ms   0.00ns  12.52ms         0 [  0.00ns,   0.00ns]   0.00ns   0.00ns   0.00ns\n",
      "            'no_lp':         1 [  6.03ms,   6.03ms]   6.03ms   0.00ns   6.03ms         1 [354.06us, 354.06us] 354.06us   0.00ns 354.06us\n",
      "    'quick_restart':         1 [ 10.14ms,  10.14ms]  10.14ms   0.00ns  10.14ms         0 [  0.00ns,   0.00ns]   0.00ns   0.00ns   0.00ns\n",
      "    'reduced_costs':         1 [  9.93ms,   9.93ms]   9.93ms   0.00ns   9.93ms         0 [  0.00ns,   0.00ns]   0.00ns   0.00ns   0.00ns\n",
      "        'rins/rens':         0 [  0.00ns,   0.00ns]   0.00ns   0.00ns   0.00ns         0 [  0.00ns,   0.00ns]   0.00ns   0.00ns   0.00ns\n",
      "      'rnd_cst_lns':         0 [  0.00ns,   0.00ns]   0.00ns   0.00ns   0.00ns         0 [  0.00ns,   0.00ns]   0.00ns   0.00ns   0.00ns\n",
      "      'rnd_var_lns':         1 [  5.50ms,   5.50ms]   5.50ms   0.00ns   5.50ms         0 [  0.00ns,   0.00ns]   0.00ns   0.00ns   0.00ns\n",
      "\n",
      "Search stats          Bools  Conflicts  Branches  Restarts  BoolPropag  IntegerPropag\n",
      "             'core':  1'400         16       254         3      17'434          4'724\n",
      "       'default_lp':  1'400          0         0         0           0              1\n",
      "  'fs_random_no_lp':  1'400          0         0         0           0              0\n",
      "           'max_lp':  1'400          0         0         0           0              1\n",
      "            'no_lp':  1'400          0       100         1       1'300          1'002\n",
      "    'quick_restart':  1'400          0         0         0           0              1\n",
      "    'reduced_costs':  1'400          0         0         0           0              1\n",
      "\n",
      "SAT stats             ClassicMinim  LitRemoved  LitLearned  LitForgotten  Subsumed  MClauses  MDecisions  MLitTrue  MSubsumed  MLitRemoved  MReused\n",
      "             'core':             1           1          80             0         0         0           0         0          0            0        0\n",
      "       'default_lp':             0           0           0             0         0         0           0         0          0            0        0\n",
      "  'fs_random_no_lp':             0           0           0             0         0         0           0         0          0            0        0\n",
      "           'max_lp':             0           0           0             0         0         0           0         0          0            0        0\n",
      "            'no_lp':             0           0           0             0         0         0           0         0          0            0        0\n",
      "    'quick_restart':             0           0           0             0         0         0           0         0          0            0        0\n",
      "    'reduced_costs':             0           0           0             0         0         0           0         0          0            0        0\n",
      "\n",
      "Lp stats            Component  Iterations  AddedCuts  OPTIMAL  DUAL_F.  DUAL_U.\n",
      "     'default_lp':          1           0          0        0        0        0\n",
      "         'max_lp':          1           0          0        0        0        0\n",
      "  'reduced_costs':          1           0          0        1        0        0\n",
      "\n",
      "Lp dimension          Final dimension of first component\n",
      "     'default_lp':       0 rows, 1000 columns, 0 entries\n",
      "         'max_lp':  806 rows, 1400 columns, 4500 entries\n",
      "  'reduced_costs':      4 rows, 1400 columns, 16 entries\n",
      "\n",
      "Lp debug            CutPropag  CutEqPropag  Adjust  Overflow  Bad  BadScaling\n",
      "     'default_lp':          0            0       0         0    0           0\n",
      "         'max_lp':          0            0       0         0    0           0\n",
      "  'reduced_costs':          0            0       0         0    0           0\n",
      "\n",
      "Lp pool             Constraints  Updates  Simplif  Merged  Shortened  Split  Strenghtened  Cuts/Call\n",
      "     'default_lp':          804        0        0       0          0      0             0        0/0\n",
      "         'max_lp':          806        0        0       0          0      0             0        0/0\n",
      "  'reduced_costs':          806        0        0       0          0      0             0        0/0\n",
      "\n",
      "LNS stats           Improv/Calls  Closed  Difficulty  TimeLimit\n",
      "  'graph_arc_lns':           0/0      0%    5.00e-01       0.10\n",
      "  'graph_cst_lns':           0/0      0%    5.00e-01       0.10\n",
      "  'graph_dec_lns':           0/0      0%    5.00e-01       0.10\n",
      "  'graph_var_lns':           0/0      0%    5.00e-01       0.10\n",
      "      'rins/rens':           0/0      0%    5.00e-01       0.10\n",
      "    'rnd_cst_lns':           0/0      0%    5.00e-01       0.10\n",
      "    'rnd_var_lns':           0/0      0%    5.00e-01       0.10\n",
      "\n",
      "LS stats         Batches  Restarts/Perturbs  LinMoves  GenMoves  CompoundMoves  Bactracks  WeightUpdates  ScoreComputed\n",
      "  'fj_restart':        1                  1       106         0              0          0              1          1'208\n",
      "\n",
      "Solutions (2)    Num   Rank\n",
      "  'fj_restart':    1  [1,1]\n",
      "       'no_lp':    1  [2,2]\n",
      "\n",
      "Objective bounds     Num\n",
      "  'initial_domain':    1\n",
      "\n",
      "Solution repositories    Added  Queried  Synchro\n",
      "  'feasible solutions':      3        2        3\n",
      "   'fj solution hints':      0        0        0\n",
      "        'lp solutions':      0        0        0\n",
      "                'pump':      0        0\n",
      "\n",
      "CpSolverResponse summary:\n",
      "status: OPTIMAL\n",
      "objective: 46\n",
      "best_bound: 46\n",
      "integers: 1023\n",
      "booleans: 1400\n",
      "conflicts: 0\n",
      "branches: 100\n",
      "propagations: 1300\n",
      "integer_propagations: 1002\n",
      "restarts: 1\n",
      "lp_iterations: 0\n",
      "walltime: 1.25289\n",
      "usertime: 1.25289\n",
      "deterministic_time: 0.976847\n",
      "gap_integral: 0.00412587\n",
      "solution_fingerprint: 0xa68b8fd8880aaf42\n",
      "\n",
      "(99, 0, 4)\n",
      "(99, 2, 5)\n",
      "(99, 3, 1)\n",
      "(99, 4, 2)\n",
      "(99, 5, 6)\n",
      "(99, 6, 7)\n",
      "(99, 7, 3)\n"
     ]
    }
   ],
   "source": [
    "find_optimal_paths(routing_manager)"
   ],
   "metadata": {
    "collapsed": false,
    "ExecuteTime": {
     "end_time": "2025-06-24T08:14:39.144810Z",
     "start_time": "2025-06-24T08:14:37.031456Z"
    }
   },
   "id": "887ae5d1e634feb9",
   "execution_count": 61
  },
  {
   "cell_type": "code",
   "outputs": [
    {
     "name": "stdout",
     "output_type": "stream",
     "text": [
      "4 -> 76\n",
      "6 -> 8\n",
      "7 -> 3\n",
      "9 -> 11\n",
      "10 -> 5\n"
     ]
    }
   ],
   "source": [
    "for crg in cargos[:5]:\n",
    "    print(crg.nodes[0].id, '->', crg.nodes[1].id)"
   ],
   "metadata": {
    "collapsed": false,
    "ExecuteTime": {
     "end_time": "2025-06-24T08:14:43.219064Z",
     "start_time": "2025-06-24T08:14:43.214447Z"
    }
   },
   "id": "1ca6b2b57139893e",
   "execution_count": 62
  },
  {
   "cell_type": "code",
   "outputs": [
    {
     "data": {
      "text/plain": "(7, 3)"
     },
     "execution_count": 63,
     "metadata": {},
     "output_type": "execute_result"
    }
   ],
   "source": [
    "a, b = 6, 7\n",
    "routing_manager.nodes()[a].routing_node.id, routing_manager.nodes()[b].routing_node.id"
   ],
   "metadata": {
    "collapsed": false,
    "ExecuteTime": {
     "end_time": "2025-06-24T08:14:43.456810Z",
     "start_time": "2025-06-24T08:14:43.448931Z"
    }
   },
   "id": "5829cbf43efb5998",
   "execution_count": 63
  },
  {
   "cell_type": "code",
   "outputs": [],
   "source": [],
   "metadata": {
    "collapsed": false
   },
   "id": "55f6b97d67c25e8d"
  }
 ],
 "metadata": {
  "kernelspec": {
   "display_name": "Python 3",
   "language": "python",
   "name": "python3"
  },
  "language_info": {
   "codemirror_mode": {
    "name": "ipython",
    "version": 2
   },
   "file_extension": ".py",
   "mimetype": "text/x-python",
   "name": "python",
   "nbconvert_exporter": "python",
   "pygments_lexer": "ipython2",
   "version": "2.7.6"
  }
 },
 "nbformat": 4,
 "nbformat_minor": 5
}
