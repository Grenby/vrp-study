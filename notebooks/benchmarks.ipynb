{
 "cells": [
  {
   "cell_type": "code",
   "outputs": [],
   "source": [
    "from loguru import logger as log"
   ],
   "metadata": {
    "collapsed": false
   },
   "id": "db1d78be09bd5094",
   "execution_count": null
  },
  {
   "cell_type": "code",
   "execution_count": null,
   "id": "initial_id",
   "metadata": {
    "collapsed": true
   },
   "outputs": [],
   "source": [
    "import numpy as np\n",
    "from ortools.sat.python import cp_model\n",
    "\n",
    "from vrp_study.data_model import Tariff, Cargo, Node\n",
    "from vrp_study.data_model import TariffCost\n",
    "from vrp_study.ortools_routing_model_pdptw.pdptw_routing_manager_builder import PDRoutingManagerBuilder\n",
    "from vrp_study.ortools_routing_model_pdptw.routing_model import find_optimal_paths"
   ]
  },
  {
   "cell_type": "code",
   "outputs": [],
   "source": [
    "benchmark_type = 'pdp_400'\n",
    "name = 'LC1_4_9.txt'"
   ],
   "metadata": {
    "collapsed": false
   },
   "id": "559f79286744de08",
   "execution_count": null
  },
  {
   "cell_type": "code",
   "outputs": [],
   "source": [
    "from typing import Optional\n",
    "\n",
    "tariff = None\n",
    "cargos: list[Cargo] = []\n",
    "depo: Optional[Node] = None"
   ],
   "metadata": {
    "collapsed": false
   },
   "id": "991efc321c7b5ad9",
   "execution_count": null
  },
  {
   "cell_type": "code",
   "outputs": [],
   "source": [
    "id2info = {}\n",
    "p2coordinates = {}\n",
    "with open(f'../data/Li & Lim benchmark/{benchmark_type}/{name}', 'r') as file:\n",
    "    for i, line in enumerate(file):\n",
    "        line = line.split('\\t')\n",
    "        if i == 0:\n",
    "            tariff = Tariff(\n",
    "                id='car',\n",
    "                capacity=int(line[1]),\n",
    "                max_count=int(line[0]),\n",
    "                cost_per_distance=[TariffCost(\n",
    "                    min_dst_km=0,\n",
    "                    max_dst_km=10000,\n",
    "                    cost_per_km=1,\n",
    "                    fixed_cost=0\n",
    "                )]\n",
    "            )\n",
    "        else:\n",
    "            c_id = int(line[0])\n",
    "            x = int(line[1])\n",
    "            y = int(line[2])\n",
    "\n",
    "            mass = int(line[3])\n",
    "\n",
    "            et = int(line[4])\n",
    "            lt = int(line[5])\n",
    "            st = int(line[6])\n",
    "\n",
    "            pick_up = int(line[7])\n",
    "            delivery = int(line[8])\n",
    "            if pick_up == delivery:\n",
    "                # print(12)\n",
    "                depo = Node(\n",
    "                    id=0,\n",
    "                    cargo_id=c_id,\n",
    "                    capacity=0,\n",
    "                    service_time=0,\n",
    "                    start_time=0,\n",
    "                    end_time=lt,\n",
    "                    coordinates=(x, y)\n",
    "                )\n",
    "                continue\n",
    "            if pick_up == 0:\n",
    "                if c_id not in id2info:\n",
    "                    id2info[c_id] = {}\n",
    "                id2info[c_id][0] = (x, y, mass, et, lt, st, c_id, delivery)\n",
    "            else:\n",
    "                delivery = c_id\n",
    "                c_id = pick_up\n",
    "                if c_id not in id2info:\n",
    "                    id2info[c_id] = {}\n",
    "                id2info[c_id][1] = (x, y, mass, et, lt, st, pick_up, delivery)\n"
   ],
   "metadata": {
    "collapsed": false
   },
   "id": "9a1a50b9550c425c",
   "execution_count": null
  },
  {
   "cell_type": "code",
   "outputs": [],
   "source": [
    "depo"
   ],
   "metadata": {
    "collapsed": false
   },
   "id": "c2fb6bc413a17132",
   "execution_count": null
  },
  {
   "cell_type": "code",
   "outputs": [],
   "source": [
    "\n",
    "for k, v in id2info.items():\n",
    "    cargos.append(\n",
    "        Cargo(\n",
    "            id=k,\n",
    "            nodes=[\n",
    "                Node(\n",
    "                    cargo_id=k,\n",
    "                    id=v[i][6] if i == 0 else v[i][7],\n",
    "                    capacity=v[i][2],\n",
    "                    service_time=v[i][5],\n",
    "                    start_time=v[i][3],\n",
    "                    end_time=v[i][4],\n",
    "                    coordinates=(v[i][0], v[i][1])\n",
    "                )\n",
    "                for i in range(2)\n",
    "            ]\n",
    "        )\n",
    "    )"
   ],
   "metadata": {
    "collapsed": false
   },
   "id": "f7bbc6862498a04e",
   "execution_count": null
  },
  {
   "cell_type": "code",
   "outputs": [],
   "source": [
    "p2coordinates.update({\n",
    "    crg.nodes[i].id: crg.nodes[i].coordinates for crg in cargos for i in range(2)\n",
    "})\n",
    "p2coordinates[depo.id] = depo.coordinates\n",
    "distance_matrix = {(u, v): np.sqrt((du[0] - dv[0]) ** 2 + (du[1] - dv[1]) ** 2) for u, du in\n",
    "                   p2coordinates.items() for\n",
    "                   v, dv in p2coordinates.items()}\n",
    "time_matrix = {(u, v): np.sqrt((du[0] - dv[0]) ** 2 + (du[1] - dv[1]) ** 2) for u, du in p2coordinates.items() for\n",
    "               v, dv in p2coordinates.items()}"
   ],
   "metadata": {
    "collapsed": false
   },
   "id": "4239a4ae965983df",
   "execution_count": null
  },
  {
   "cell_type": "code",
   "outputs": [],
   "source": [
    "\n",
    "from vrp_study.configs import ModelConfig\n",
    "\n",
    "routing_manager = PDRoutingManagerBuilder(\n",
    "    distance_matrix = distance_matrix,\n",
    "    time_matrix = time_matrix,\n",
    "    model_config=ModelConfig(max_execution_time_minutes=1)\n",
    ")\n",
    "\n",
    "routing_manager.add_cargos(cargos)\n",
    "routing_manager.add_tariff(tariff)\n",
    "\n",
    "routing_manager.add_depo(depo)\n",
    "\n",
    "# routing_manager.distance_matrix = distance_matrix\n",
    "# routing_manager.time_matrix = time_matrix\n",
    "\n",
    "\n",
    "routing_manager = routing_manager.build()"
   ],
   "metadata": {
    "collapsed": false
   },
   "id": "6bd1e99727e05112",
   "execution_count": null
  },
  {
   "cell_type": "code",
   "outputs": [],
   "source": [
    "len(cargos)"
   ],
   "metadata": {
    "collapsed": false
   },
   "id": "3a9f65c2bcfe2394",
   "execution_count": null
  },
  {
   "cell_type": "code",
   "outputs": [],
   "source": [
    "from vrp_study.ortools_routing_model_pdptw.solution_builder import  SolutionBuilder\n",
    "\n",
    "sol = find_optimal_paths(routing_manager, SolutionBuilder())"
   ],
   "metadata": {
    "collapsed": false
   },
   "id": "b89ab99b84f7f518",
   "execution_count": null
  },
  {
   "cell_type": "code",
   "outputs": [],
   "source": [],
   "metadata": {
    "collapsed": false
   },
   "id": "f7859dcc4e2f55e2",
   "execution_count": null
  },
  {
   "cell_type": "code",
   "outputs": [],
   "source": [
    "len(cargos)"
   ],
   "metadata": {
    "collapsed": false
   },
   "id": "26cc4b2b4712073f",
   "execution_count": null
  },
  {
   "cell_type": "code",
   "outputs": [],
   "source": [
    "80 * 79"
   ],
   "metadata": {
    "collapsed": false
   },
   "id": "c7d7dd16de67f42d",
   "execution_count": null
  },
  {
   "cell_type": "code",
   "outputs": [],
   "source": [
    "#  best_score: 107\n",
    "# 2025-06-02 14:45:05,380 - routing_model [INFO] - best_score: 46228.27"
   ],
   "metadata": {
    "collapsed": false
   },
   "id": "33bc623d73fbab33",
   "execution_count": null
  },
  {
   "cell_type": "code",
   "outputs": [],
   "source": [
    "# est_score: 8\n",
    "# 2025-06-02 14:25:30,179 - routing_model [INFO] - best_score: 1979.21"
   ],
   "metadata": {
    "collapsed": false
   },
   "id": "6c8841a344403423",
   "execution_count": null
  },
  {
   "cell_type": "code",
   "outputs": [],
   "source": [
    "total_l = 0\n",
    "for s in sol[0]:\n",
    "    if len(s) > 0:\n",
    "        # print(s)\n",
    "        # a = routing_manager.nodes()[s[i]]\n",
    "        # b = routing_manager.nodes()[s[i+1]]\n",
    "        \n",
    "        l = sum(routing_manager.get_distance(routing_manager.nodes()[s[i]], routing_manager.nodes()[s[i + 1]]) for i in range(len(s) - 1))\n",
    "        # print(s, l)\n",
    "        total_l += l\n",
    "total_l"
   ],
   "metadata": {
    "collapsed": false
   },
   "id": "3dec13fea9c46a8c",
   "execution_count": null
  },
  {
   "cell_type": "code",
   "outputs": [],
   "source": [
    "for crg in cargos:\n",
    "    in1 = routing_manager._node_to_inner_node[crg.nodes[0]]\n",
    "    in2 = routing_manager._node_to_inner_node[crg.nodes[1]]\n",
    "\n",
    "    start = None\n",
    "    end = None\n",
    "    in_time = None\n",
    "    out_time = None\n",
    "\n",
    "    for i, s in enumerate(sol[0]):\n",
    "        s_time = sol[1][i]\n",
    "        if len(s) == 0:\n",
    "            continue\n",
    "\n",
    "        for order, i in enumerate(s):\n",
    "            if i == in1.id:\n",
    "                start = i\n",
    "                in_time = s_time[order]\n",
    "            if i == in2.id:\n",
    "                end = i\n",
    "                out_time = s_time[order]\n",
    "\n",
    "    assert start is not None and end is not None and start < end, (start, end)\n",
    "\n",
    "    if not (crg.nodes[0].start_time <= in_time[0] and crg.nodes[0].end_time >= in_time[1]):\n",
    "        print(in_time, crg.nodes[0].start_time, crg.nodes[0].end_time)\n",
    "    if not (crg.nodes[1].start_time <= out_time[0] and crg.nodes[1].end_time >= out_time[1]):\n",
    "        print(out_time, crg.nodes[0].start_time, crg.nodes[0].end_time)"
   ],
   "metadata": {
    "collapsed": false
   },
   "id": "2b3a47a4a6ce1eff",
   "execution_count": null
  },
  {
   "cell_type": "code",
   "outputs": [],
   "source": [],
   "metadata": {
    "collapsed": false
   },
   "id": "2661b09e310b799f",
   "execution_count": null
  }
 ],
 "metadata": {
  "kernelspec": {
   "display_name": "Python 3",
   "language": "python",
   "name": "python3"
  },
  "language_info": {
   "codemirror_mode": {
    "name": "ipython",
    "version": 2
   },
   "file_extension": ".py",
   "mimetype": "text/x-python",
   "name": "python",
   "nbconvert_exporter": "python",
   "pygments_lexer": "ipython2",
   "version": "2.7.6"
  }
 },
 "nbformat": 4,
 "nbformat_minor": 5
}
