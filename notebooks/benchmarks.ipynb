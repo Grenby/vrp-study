{
 "cells": [
  {
   "cell_type": "code",
   "outputs": [],
   "source": [
    "import sys\n",
    "sys.path.append('../')"
   ],
   "metadata": {
    "collapsed": false,
    "ExecuteTime": {
     "end_time": "2025-06-23T08:06:37.006168Z",
     "start_time": "2025-06-23T08:06:36.999741Z"
    }
   },
   "id": "6bc2e750d7451536",
   "execution_count": 1
  },
  {
   "cell_type": "code",
   "execution_count": 2,
   "id": "initial_id",
   "metadata": {
    "collapsed": true,
    "ExecuteTime": {
     "end_time": "2025-06-18T07:43:10.909860Z",
     "start_time": "2025-06-18T07:43:10.421186Z"
    }
   },
   "outputs": [],
   "source": [
    "import numpy as np\n",
    "\n",
    "from vrp_study.data_model import Tariff, Cargo, Node\n",
    "from vrp_study.data_model import TariffCost\n",
    "from vrp_study.routing_manager import PDRoutingManager\n",
    "from vrp_study.ortools_routing_model.routing_model import find_optimal_paths"
   ]
  },
  {
   "cell_type": "code",
   "outputs": [],
   "source": [
    "benchmark_type = 'pdp_100'\n",
    "name = 'lc101.txt'"
   ],
   "metadata": {
    "collapsed": false,
    "ExecuteTime": {
     "end_time": "2025-06-18T07:43:10.914650Z",
     "start_time": "2025-06-18T07:43:10.911798Z"
    }
   },
   "id": "559f79286744de08",
   "execution_count": 3
  },
  {
   "cell_type": "code",
   "outputs": [],
   "source": [
    "from typing import Optional\n",
    "\n",
    "tariff = None\n",
    "cargos: list[Cargo] = []\n",
    "depo: Optional[Node] = None"
   ],
   "metadata": {
    "collapsed": false,
    "ExecuteTime": {
     "end_time": "2025-06-18T07:43:10.919887Z",
     "start_time": "2025-06-18T07:43:10.916207Z"
    }
   },
   "id": "991efc321c7b5ad9",
   "execution_count": 4
  },
  {
   "cell_type": "code",
   "outputs": [
    {
     "name": "stdout",
     "output_type": "stream",
     "text": [
      "25\t200\t1\n",
      "\n",
      "0\t40\t50\t0\t0\t1236\t0\t0\t0\n",
      "\n",
      "1\t45\t68\t-10\t912\t967\t90\t11\t0\n",
      "\n",
      "2\t45\t70\t-20\t825\t870\t90\t6\t0\n",
      "\n",
      "3\t42\t66\t10\t65\t146\t90\t0\t75\n",
      "\n",
      "4\t42\t68\t-10\t727\t782\t90\t9\t0\n",
      "\n",
      "5\t42\t65\t10\t15\t67\t90\t0\t7\n",
      "\n",
      "6\t40\t69\t20\t621\t702\t90\t0\t2\n",
      "\n",
      "7\t40\t66\t-10\t170\t225\t90\t5\t0\n",
      "\n",
      "8\t38\t68\t20\t255\t324\t90\t0\t10\n",
      "\n",
      "9\t38\t70\t10\t534\t605\t90\t0\t4\n",
      "\n",
      "10\t35\t66\t-20\t357\t410\t90\t8\t0\n",
      "\n",
      "11\t35\t69\t10\t448\t505\t90\t0\t1\n",
      "\n",
      "12\t25\t85\t-20\t652\t721\t90\t18\t0\n",
      "\n",
      "13\t22\t75\t30\t30\t92\t90\t0\t17\n",
      "\n",
      "14\t22\t85\t-40\t567\t620\t90\t16\t0\n",
      "\n",
      "15\t20\t80\t-10\t384\t429\t90\t19\t0\n",
      "\n",
      "16\t20\t85\t40\t475\t528\t90\t0\t14\n",
      "\n",
      "17\t18\t75\t-30\t99\t148\t90\t13\t0\n",
      "\n",
      "18\t15\t75\t20\t179\t254\t90\t0\t12\n",
      "\n",
      "19\t15\t80\t10\t278\t345\t90\t0\t15\n",
      "\n",
      "20\t30\t50\t10\t10\t73\t90\t0\t24\n",
      "\n",
      "21\t30\t52\t-10\t914\t965\t90\t30\t0\n",
      "\n",
      "22\t28\t52\t-20\t812\t883\t90\t28\t0\n",
      "\n",
      "23\t28\t55\t10\t732\t777\t0\t0\t103\n",
      "\n",
      "24\t25\t50\t-10\t65\t144\t90\t20\t0\n",
      "\n",
      "25\t25\t52\t40\t169\t224\t90\t0\t27\n",
      "\n",
      "26\t25\t55\t-10\t622\t701\t90\t29\t0\n",
      "\n",
      "27\t23\t52\t-40\t261\t316\t90\t25\t0\n",
      "\n",
      "28\t23\t55\t20\t546\t593\t90\t0\t22\n",
      "\n",
      "29\t20\t50\t10\t358\t405\t90\t0\t26\n",
      "\n",
      "30\t20\t55\t10\t449\t504\t90\t0\t21\n",
      "\n",
      "31\t10\t35\t-30\t200\t237\t90\t32\t0\n",
      "\n",
      "32\t10\t40\t30\t31\t100\t90\t0\t31\n",
      "\n",
      "33\t8\t40\t40\t87\t158\t90\t0\t37\n",
      "\n",
      "34\t8\t45\t-30\t751\t816\t90\t38\t0\n",
      "\n",
      "35\t5\t35\t10\t283\t344\t90\t0\t39\n",
      "\n",
      "36\t5\t45\t10\t665\t716\t0\t0\t105\n",
      "\n",
      "37\t2\t40\t-40\t383\t434\t90\t33\t0\n",
      "\n",
      "38\t0\t40\t30\t479\t522\t90\t0\t34\n",
      "\n",
      "39\t0\t45\t-10\t567\t624\t90\t35\t0\n",
      "\n",
      "40\t35\t30\t-20\t264\t321\t90\t42\t0\n",
      "\n",
      "41\t35\t32\t-10\t166\t235\t90\t43\t0\n",
      "\n",
      "42\t33\t32\t20\t68\t149\t90\t0\t40\n",
      "\n",
      "43\t33\t35\t10\t16\t80\t90\t0\t41\n",
      "\n",
      "44\t32\t30\t10\t359\t412\t90\t0\t46\n",
      "\n",
      "45\t30\t30\t10\t541\t600\t90\t0\t48\n",
      "\n",
      "46\t30\t32\t-10\t448\t509\t90\t44\t0\n",
      "\n",
      "47\t30\t35\t-10\t1054\t1127\t90\t49\t0\n",
      "\n",
      "48\t28\t30\t-10\t632\t693\t90\t45\t0\n",
      "\n",
      "49\t28\t35\t10\t1001\t1066\t90\t0\t47\n",
      "\n",
      "50\t26\t32\t10\t815\t880\t90\t0\t52\n",
      "\n",
      "51\t25\t30\t10\t725\t786\t0\t0\t101\n",
      "\n",
      "52\t25\t35\t-10\t912\t969\t90\t50\t0\n",
      "\n",
      "53\t44\t5\t20\t286\t347\t90\t0\t58\n",
      "\n",
      "54\t42\t10\t40\t186\t257\t90\t0\t60\n",
      "\n",
      "55\t42\t15\t-40\t95\t158\t90\t57\t0\n",
      "\n",
      "56\t40\t5\t30\t385\t436\t90\t0\t59\n",
      "\n",
      "57\t40\t15\t40\t35\t87\t90\t0\t55\n",
      "\n",
      "58\t38\t5\t-20\t471\t534\t90\t53\t0\n",
      "\n",
      "59\t38\t15\t-30\t651\t740\t90\t56\t0\n",
      "\n",
      "60\t35\t5\t-40\t562\t629\t90\t54\t0\n",
      "\n",
      "61\t50\t30\t-10\t531\t610\t90\t67\t0\n",
      "\n",
      "62\t50\t35\t20\t262\t317\t90\t0\t68\n",
      "\n",
      "63\t50\t40\t50\t171\t218\t90\t0\t74\n",
      "\n",
      "64\t48\t30\t10\t632\t693\t0\t0\t102\n",
      "\n",
      "65\t48\t40\t10\t76\t129\t90\t0\t72\n",
      "\n",
      "66\t47\t35\t10\t826\t875\t90\t0\t69\n",
      "\n",
      "67\t47\t40\t10\t12\t77\t90\t0\t61\n",
      "\n",
      "68\t45\t30\t-20\t734\t777\t90\t62\t0\n",
      "\n",
      "69\t45\t35\t-10\t916\t969\t90\t66\t0\n",
      "\n",
      "70\t95\t30\t-30\t387\t456\t90\t81\t0\n",
      "\n",
      "71\t95\t35\t20\t293\t360\t90\t0\t77\n",
      "\n",
      "72\t53\t30\t-10\t450\t505\t90\t65\t0\n",
      "\n",
      "73\t92\t30\t-10\t478\t551\t90\t76\t0\n",
      "\n",
      "74\t53\t35\t-50\t353\t412\t90\t63\t0\n",
      "\n",
      "75\t45\t65\t-10\t997\t1068\t90\t3\t0\n",
      "\n",
      "76\t90\t35\t10\t203\t260\t90\t0\t73\n",
      "\n",
      "77\t88\t30\t-20\t574\t643\t90\t71\t0\n",
      "\n",
      "78\t88\t35\t20\t109\t170\t0\t0\t104\n",
      "\n",
      "79\t87\t30\t10\t668\t731\t90\t0\t80\n",
      "\n",
      "80\t85\t25\t-10\t769\t820\t90\t79\t0\n",
      "\n",
      "81\t85\t35\t30\t47\t124\t90\t0\t70\n",
      "\n",
      "82\t75\t55\t20\t369\t420\t90\t0\t85\n",
      "\n",
      "83\t72\t55\t-20\t265\t338\t90\t87\t0\n",
      "\n",
      "84\t70\t58\t20\t458\t523\t90\t0\t89\n",
      "\n",
      "85\t68\t60\t-20\t555\t612\t90\t82\t0\n",
      "\n",
      "86\t66\t55\t10\t173\t238\t90\t0\t91\n",
      "\n",
      "87\t65\t55\t20\t85\t144\t90\t0\t83\n",
      "\n",
      "88\t65\t60\t-10\t645\t708\t90\t90\t0\n",
      "\n",
      "89\t63\t58\t-20\t737\t802\t90\t84\t0\n",
      "\n",
      "90\t60\t55\t10\t20\t84\t90\t0\t88\n",
      "\n",
      "91\t60\t60\t-10\t836\t889\t90\t86\t0\n",
      "\n",
      "92\t67\t85\t20\t368\t441\t90\t0\t93\n",
      "\n",
      "93\t65\t85\t-20\t475\t518\t90\t92\t0\n",
      "\n",
      "94\t65\t82\t-10\t285\t336\t90\t96\t0\n",
      "\n",
      "95\t62\t80\t-20\t196\t239\t90\t98\t0\n",
      "\n",
      "96\t60\t80\t10\t95\t156\t90\t0\t94\n",
      "\n",
      "97\t60\t85\t30\t561\t622\t0\t0\t106\n",
      "\n",
      "98\t58\t75\t20\t30\t84\t90\t0\t95\n",
      "\n",
      "99\t55\t80\t-20\t743\t820\t90\t100\t0\n",
      "\n",
      "100\t55\t85\t20\t647\t726\t90\t0\t99\n",
      "\n",
      "101\t25\t30\t-10\t725\t786\t90\t51\t0\n",
      "\n",
      "102\t48\t30\t-10\t632\t693\t90\t64\t0\n",
      "\n",
      "103\t28\t55\t-10\t732\t777\t90\t23\t0\n",
      "\n",
      "104\t88\t35\t-20\t109\t170\t90\t78\t0\n",
      "\n",
      "105\t5\t45\t-10\t665\t716\t90\t36\t0\n",
      "\n",
      "106\t60\t85\t-30\t561\t622\t90\t97\t0\n"
     ]
    }
   ],
   "source": [
    "id2info = {}\n",
    "p2coordinates = {}\n",
    "with open(f'../data/Li & Lim benchmark/{benchmark_type}/{name}', 'r') as file:\n",
    "    for i, line in enumerate(file):\n",
    "        print(line)\n",
    "        line = line.split('\\t')\n",
    "        if i == 0:\n",
    "            tariff = Tariff(\n",
    "                id='car',\n",
    "                capacity=int(line[1]),\n",
    "                max_count=int(line[0]),\n",
    "                cost_per_distance=[TariffCost(\n",
    "                    min_dst_km=0,\n",
    "                    max_dst_km=10000,\n",
    "                    cost_per_km=1,\n",
    "                    fixed_cost=0\n",
    "                )]\n",
    "            )\n",
    "        else:\n",
    "            c_id = int(line[0])\n",
    "            x = int(line[1])\n",
    "            y = int(line[2])\n",
    "\n",
    "            mass = int(line[3])\n",
    "\n",
    "            et = int(line[4])\n",
    "            lt = int(line[5])\n",
    "            st = int(line[6])\n",
    "\n",
    "            pick_up = int(line[7])\n",
    "            delivery = int(line[8])\n",
    "            if pick_up == delivery:\n",
    "                # print(12)\n",
    "                depo = Node(\n",
    "                    id=0,\n",
    "                    cargo_id=c_id,\n",
    "                    capacity=0,\n",
    "                    service_time=0,\n",
    "                    start_time=0,\n",
    "                    end_time=lt,\n",
    "                    coordinates=(x, y)\n",
    "                )\n",
    "                continue\n",
    "            if pick_up == 0:\n",
    "                if c_id not in id2info:\n",
    "                    id2info[c_id] = {}\n",
    "                id2info[c_id][0] = (x, y, mass, et, lt, st, c_id, delivery)\n",
    "            else:\n",
    "                delivery = c_id\n",
    "                c_id = pick_up\n",
    "                if c_id not in id2info:\n",
    "                    id2info[c_id] = {}\n",
    "                id2info[c_id][1] = (x, y, mass, et, lt, st, pick_up, delivery)\n"
   ],
   "metadata": {
    "collapsed": false,
    "ExecuteTime": {
     "end_time": "2025-06-18T07:43:10.935027Z",
     "start_time": "2025-06-18T07:43:10.926287Z"
    }
   },
   "id": "9a1a50b9550c425c",
   "execution_count": 5
  },
  {
   "cell_type": "code",
   "outputs": [
    {
     "data": {
      "text/plain": "Node(id=0, cargo_id=0, capacity=0, start_time=0, end_time=1236, service_time=0, coordinates=(40, 50))"
     },
     "execution_count": 6,
     "metadata": {},
     "output_type": "execute_result"
    }
   ],
   "source": [
    "depo"
   ],
   "metadata": {
    "collapsed": false,
    "ExecuteTime": {
     "end_time": "2025-06-18T07:43:10.945632Z",
     "start_time": "2025-06-18T07:43:10.936938Z"
    }
   },
   "id": "c2fb6bc413a17132",
   "execution_count": 6
  },
  {
   "cell_type": "code",
   "outputs": [],
   "source": [
    "\n",
    "for k, v in id2info.items():\n",
    "    cargos.append(\n",
    "        Cargo(\n",
    "            id=k,\n",
    "            nodes=[\n",
    "                Node(\n",
    "                    cargo_id=k,\n",
    "                    id=v[i][6] if i == 0 else v[i][7],\n",
    "                    capacity=v[i][2],\n",
    "                    service_time=v[i][5],\n",
    "                    start_time=v[i][3],\n",
    "                    end_time=v[i][4],\n",
    "                    coordinates=(v[i][0], v[i][1])\n",
    "                )\n",
    "                for i in range(2)\n",
    "            ]\n",
    "        )\n",
    "    )"
   ],
   "metadata": {
    "collapsed": false,
    "ExecuteTime": {
     "end_time": "2025-06-18T07:43:10.954241Z",
     "start_time": "2025-06-18T07:43:10.947904Z"
    }
   },
   "id": "f7bbc6862498a04e",
   "execution_count": 7
  },
  {
   "cell_type": "code",
   "outputs": [
    {
     "data": {
      "text/plain": "Cargo(id=11, nodes=[Node(id=11, cargo_id=11, capacity=10, start_time=448, end_time=505, service_time=90, coordinates=(35, 69)), Node(id=1, cargo_id=11, capacity=-10, start_time=912, end_time=967, service_time=90, coordinates=(45, 68))])"
     },
     "execution_count": 8,
     "metadata": {},
     "output_type": "execute_result"
    }
   ],
   "source": [
    "cargos[0]"
   ],
   "metadata": {
    "collapsed": false,
    "ExecuteTime": {
     "end_time": "2025-06-18T07:43:10.964077Z",
     "start_time": "2025-06-18T07:43:10.955818Z"
    }
   },
   "id": "cd6444aeb6f55cbb",
   "execution_count": 8
  },
  {
   "cell_type": "code",
   "outputs": [
    {
     "data": {
      "text/plain": "Tariff(id='car', capacity=200, cost_per_distance=[TariffCost(min_dst_km=0, max_dst_km=10000, cost_per_km=1, fixed_cost=0)], max_count=25)"
     },
     "execution_count": 9,
     "metadata": {},
     "output_type": "execute_result"
    }
   ],
   "source": [
    "tariff"
   ],
   "metadata": {
    "collapsed": false,
    "ExecuteTime": {
     "end_time": "2025-06-18T07:43:10.970390Z",
     "start_time": "2025-06-18T07:43:10.965563Z"
    }
   },
   "id": "2f8f445a6a20daa9",
   "execution_count": 9
  },
  {
   "cell_type": "code",
   "outputs": [],
   "source": [
    "p2coordinates.update({\n",
    "    crg.nodes[i].id: crg.nodes[i].coordinates for crg in cargos for i in range(2)\n",
    "})\n",
    "p2coordinates[depo.id] = depo.coordinates\n",
    "distance_matrix = {(u, v): np.sqrt((du[0] - dv[0]) ** 2 + (du[1] - dv[1]) ** 2) for u, du in\n",
    "                   p2coordinates.items() for\n",
    "                   v, dv in p2coordinates.items()}\n",
    "time_matrix = {(u, v): np.sqrt((du[0] - dv[0]) ** 2 + (du[1] - dv[1]) ** 2) for u, du in p2coordinates.items() for\n",
    "               v, dv in p2coordinates.items()}"
   ],
   "metadata": {
    "collapsed": false,
    "ExecuteTime": {
     "end_time": "2025-06-18T07:43:11.030844Z",
     "start_time": "2025-06-18T07:43:10.973170Z"
    }
   },
   "id": "4239a4ae965983df",
   "execution_count": 10
  },
  {
   "cell_type": "code",
   "outputs": [],
   "source": [
    "\n",
    "routing_manager = PDRoutingManager()\n",
    "\n",
    "routing_manager.add_cargos(cargos)\n",
    "routing_manager.add_tariff(tariff)\n",
    "\n",
    "routing_manager.add_depo(depo)\n",
    "\n",
    "routing_manager.distance_matrix = distance_matrix\n",
    "routing_manager.time_matrix = time_matrix\n",
    "\n",
    "routing_manager.max_time_minutes = 1\n",
    "\n",
    "routing_manager.build()"
   ],
   "metadata": {
    "collapsed": false,
    "ExecuteTime": {
     "end_time": "2025-06-18T07:43:11.048017Z",
     "start_time": "2025-06-18T07:43:11.032073Z"
    }
   },
   "id": "6bd1e99727e05112",
   "execution_count": 11
  },
  {
   "cell_type": "code",
   "outputs": [
    {
     "name": "stdout",
     "output_type": "stream",
     "text": [
      "2025-06-18 10:43:11,052 - routing_model [INFO] - problem size: 107\n",
      "2025-06-18 10:43:11,053 - routing_model [INFO] - Начало создания модели\n",
      "2025-06-18 10:43:11,056 - routing_model [INFO] - Добавление размерности для расстояния\n",
      "2025-06-18 10:43:11,057 - routing_model [INFO] - Добавление размерности для расстояния\n",
      "2025-06-18 10:43:11,058 - routing_model [INFO] - Добавление ограничения для порядка доставки\n",
      "2025-06-18 10:43:11,059 - routing_model [INFO] - Добавление стоимостей машин\n",
      "2025-06-18 10:43:11,060 - routing_model [INFO] - add time\n",
      "2025-06-18 10:43:11,062 - routing_model [INFO] - Добавление ограничений для массы\n",
      "2025-06-18 10:43:11,070 - routing_model [INFO] - Начало решения\n",
      "2025-06-18 10:43:11,311 - routing_model [INFO] - find new solution: 82873, best solution: 82873\n",
      "2025-06-18 10:43:12,294 - routing_model [INFO] - find new solution: 85686, best solution: 82873\n",
      "2025-06-18 10:43:12,459 - routing_model [INFO] - find new solution: 82873, best solution: 82873\n",
      "2025-06-18 10:43:12,700 - routing_model [INFO] - find new solution: 82873, best solution: 82873\n",
      "2025-06-18 10:43:13,575 - routing_model [INFO] - find new solution: 85686, best solution: 82873\n",
      "2025-06-18 10:43:13,579 - routing_model [INFO] - find new solution: 85686, best solution: 82873\n",
      "2025-06-18 10:43:13,588 - routing_model [INFO] - find new solution: 82873, best solution: 82873\n",
      "2025-06-18 10:43:14,885 - routing_model [INFO] - find new solution: 85686, best solution: 82873\n",
      "2025-06-18 10:43:14,894 - routing_model [INFO] - find new solution: 82873, best solution: 82873\n",
      "2025-06-18 10:43:16,281 - routing_model [INFO] - find new solution: 85686, best solution: 82873\n",
      "2025-06-18 10:43:16,285 - routing_model [INFO] - find new solution: 85686, best solution: 82873\n",
      "2025-06-18 10:43:16,299 - routing_model [INFO] - find new solution: 82873, best solution: 82873\n",
      "2025-06-18 10:43:18,011 - routing_model [INFO] - find new solution: 85686, best solution: 82873\n",
      "2025-06-18 10:43:18,022 - routing_model [INFO] - find new solution: 82873, best solution: 82873\n",
      "2025-06-18 10:43:18,071 - routing_model [INFO] - find new solution: 82873, best solution: 82873\n",
      "2025-06-18 10:43:19,449 - routing_model [INFO] - find new solution: 93080, best solution: 82873\n",
      "2025-06-18 10:43:19,499 - routing_model [INFO] - find new solution: 82873, best solution: 82873\n",
      "2025-06-18 10:43:20,980 - routing_model [INFO] - find new solution: 93080, best solution: 82873\n",
      "2025-06-18 10:43:21,016 - routing_model [INFO] - find new solution: 93080, best solution: 82873\n",
      "2025-06-18 10:43:21,026 - routing_model [INFO] - find new solution: 93080, best solution: 82873\n",
      "2025-06-18 10:43:21,034 - routing_model [INFO] - find new solution: 82873, best solution: 82873\n"
     ]
    }
   ],
   "source": [
    "sol = find_optimal_paths(routing_manager)"
   ],
   "metadata": {
    "collapsed": false,
    "ExecuteTime": {
     "start_time": "2025-06-18T07:43:11.049483Z"
    }
   },
   "id": "b89ab99b84f7f518",
   "execution_count": null
  },
  {
   "cell_type": "code",
   "outputs": [],
   "source": [
    "#  best_score: 107\n",
    "# 2025-06-02 14:45:05,380 - routing_model [INFO] - best_score: 46228.27"
   ],
   "metadata": {
    "collapsed": false
   },
   "id": "33bc623d73fbab33",
   "execution_count": null
  },
  {
   "cell_type": "code",
   "outputs": [],
   "source": [
    "# est_score: 8\n",
    "# 2025-06-02 14:25:30,179 - routing_model [INFO] - best_score: 1979.21"
   ],
   "metadata": {
    "collapsed": false
   },
   "id": "6c8841a344403423",
   "execution_count": null
  },
  {
   "cell_type": "code",
   "outputs": [],
   "source": [
    "cargos[0]"
   ],
   "metadata": {
    "collapsed": false
   },
   "id": "8e3478bceb566844",
   "execution_count": null
  },
  {
   "cell_type": "code",
   "outputs": [],
   "source": [
    "total_l = 0\n",
    "for s in sol[0]:\n",
    "    if len(s) > 0:\n",
    "        # print(s)\n",
    "        l = sum(routing_manager.get_distance(s[i], s[i + 1]) for i in range(len(s) - 1))\n",
    "        # print(s, l)\n",
    "        total_l += l\n",
    "total_l"
   ],
   "metadata": {
    "collapsed": false
   },
   "id": "3dec13fea9c46a8c",
   "execution_count": null
  },
  {
   "cell_type": "code",
   "outputs": [],
   "source": [
    "for crg in cargos:\n",
    "    in1 = routing_manager._node_to_inner_node[crg.nodes[0]]\n",
    "    in2 = routing_manager._node_to_inner_node[crg.nodes[1]]\n",
    "\n",
    "    start = None\n",
    "    end = None\n",
    "    in_time = None\n",
    "    out_time = None\n",
    "\n",
    "    for i, s in enumerate(sol[0]):\n",
    "        s_time = sol[1][i]\n",
    "        if len(s) == 0:\n",
    "            continue\n",
    "\n",
    "        for order, i in enumerate(s):\n",
    "            if i == in1.id:\n",
    "                start = i\n",
    "                in_time = s_time[order]\n",
    "            if i == in2.id:\n",
    "                end = i\n",
    "                out_time = s_time[order]\n",
    "\n",
    "    assert start is not None and end is not None and start < end, (start, end)\n",
    "\n",
    "    if not (crg.nodes[0].start_time <= in_time[0] and crg.nodes[0].end_time >= in_time[1]):\n",
    "        print(in_time, crg.nodes[0].start_time, crg.nodes[0].end_time)\n",
    "    if not (crg.nodes[1].start_time <= out_time[0] and crg.nodes[1].end_time >= out_time[1]):\n",
    "        print(out_time, crg.nodes[0].start_time, crg.nodes[0].end_time)"
   ],
   "metadata": {
    "collapsed": false
   },
   "id": "2b3a47a4a6ce1eff",
   "execution_count": null
  },
  {
   "cell_type": "code",
   "outputs": [],
   "source": [],
   "metadata": {
    "collapsed": false
   },
   "id": "224d3d4074fae23c",
   "execution_count": null
  }
 ],
 "metadata": {
  "kernelspec": {
   "display_name": "Python 3",
   "language": "python",
   "name": "python3"
  },
  "language_info": {
   "codemirror_mode": {
    "name": "ipython",
    "version": 2
   },
   "file_extension": ".py",
   "mimetype": "text/x-python",
   "name": "python",
   "nbconvert_exporter": "python",
   "pygments_lexer": "ipython2",
   "version": "2.7.6"
  }
 },
 "nbformat": 4,
 "nbformat_minor": 5
}
