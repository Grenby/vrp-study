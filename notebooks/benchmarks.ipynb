{
 "cells": [
  {
   "cell_type": "code",
   "execution_count": 1,
   "id": "initial_id",
   "metadata": {
    "collapsed": true,
    "ExecuteTime": {
     "end_time": "2025-08-18T08:55:31.824360Z",
     "start_time": "2025-08-18T08:55:30.696371Z"
    }
   },
   "outputs": [],
   "source": [
    "import numpy as np\n",
    "\n",
    "from src.vrp_study.data_loader import parse_data\n",
    "from vrp_study.initial_solution.pdptw_solution_builder import PDPTWSolutionBuilder\n",
    "from vrp_study.managers.pdptw_routing_manager_builder import PDRoutingManagerBuilder\n",
    "from vrp_study.or_tools.model import *"
   ]
  },
  {
   "cell_type": "code",
   "outputs": [],
   "source": [],
   "metadata": {
    "collapsed": false,
    "ExecuteTime": {
     "end_time": "2025-08-18T08:55:31.836279Z",
     "start_time": "2025-08-18T08:55:31.829789Z"
    }
   },
   "id": "4cbcb9c586a3d508",
   "execution_count": 1
  },
  {
   "cell_type": "code",
   "outputs": [],
   "source": [
    "benchmark_type = 'pdp_400'\n",
    "name = 'LC1_4_9.txt'"
   ],
   "metadata": {
    "collapsed": false,
    "ExecuteTime": {
     "end_time": "2025-08-18T08:55:31.848533Z",
     "start_time": "2025-08-18T08:55:31.838079Z"
    }
   },
   "id": "559f79286744de08",
   "execution_count": 2
  },
  {
   "cell_type": "code",
   "outputs": [],
   "source": [
    "depo, cargos, tariff = parse_data(f'../data/Li & Lim benchmark/benchmarks/{benchmark_type}/{name}')"
   ],
   "metadata": {
    "collapsed": false,
    "ExecuteTime": {
     "end_time": "2025-08-18T08:55:31.862470Z",
     "start_time": "2025-08-18T08:55:31.851984Z"
    }
   },
   "id": "4f2205958d75d502",
   "execution_count": 3
  },
  {
   "cell_type": "code",
   "outputs": [],
   "source": [
    "p2coordinates = {}\n",
    "p2coordinates.update({\n",
    "    crg.nodes[i].id: crg.nodes[i].coordinates for crg in cargos for i in range(2)\n",
    "})\n",
    "p2coordinates[depo.id] = depo.coordinates\n",
    "distance_matrix = {(u, v): np.sqrt((du[0] - dv[0]) ** 2 + (du[1] - dv[1]) ** 2) for u, du in\n",
    "                   p2coordinates.items() for\n",
    "                   v, dv in p2coordinates.items()}\n",
    "time_matrix = {(u, v): np.sqrt((du[0] - dv[0]) ** 2 + (du[1] - dv[1]) ** 2) for u, du in p2coordinates.items() for\n",
    "               v, dv in p2coordinates.items()}"
   ],
   "metadata": {
    "collapsed": false,
    "ExecuteTime": {
     "end_time": "2025-08-18T08:55:32.762230Z",
     "start_time": "2025-08-18T08:55:31.864409Z"
    }
   },
   "id": "4239a4ae965983df",
   "execution_count": 4
  },
  {
   "cell_type": "code",
   "outputs": [
    {
     "data": {
      "text/plain": "209"
     },
     "execution_count": 5,
     "metadata": {},
     "output_type": "execute_result"
    }
   ],
   "source": [
    "len(cargos)"
   ],
   "metadata": {
    "collapsed": false,
    "ExecuteTime": {
     "end_time": "2025-08-18T08:55:32.771520Z",
     "start_time": "2025-08-18T08:55:32.763842Z"
    }
   },
   "id": "df63e4ca4f5fb1c8",
   "execution_count": 5
  },
  {
   "cell_type": "code",
   "outputs": [],
   "source": [
    "routing_manager = PDRoutingManagerBuilder(\n",
    "    distance_matrix=distance_matrix,\n",
    "    time_matrix=time_matrix,\n",
    ").with_tariffs(tariff).with_cargos(cargos).with_depo(depo).build()"
   ],
   "metadata": {
    "collapsed": false,
    "ExecuteTime": {
     "end_time": "2025-08-18T08:55:33.021532Z",
     "start_time": "2025-08-18T08:55:32.773254Z"
    }
   },
   "id": "6bd1e99727e05112",
   "execution_count": 6
  },
  {
   "cell_type": "code",
   "outputs": [],
   "source": [
    "model_factory = VRPModelFactory.get_pdptw_model_factory(routing_manager)"
   ],
   "metadata": {
    "collapsed": false,
    "ExecuteTime": {
     "end_time": "2025-08-18T08:55:33.026110Z",
     "start_time": "2025-08-18T08:55:33.022771Z"
    }
   },
   "id": "82cffb6c512eb389",
   "execution_count": 7
  },
  {
   "cell_type": "code",
   "outputs": [],
   "source": [
    "callback = SolutionCallback()"
   ],
   "metadata": {
    "collapsed": false,
    "ExecuteTime": {
     "end_time": "2025-08-18T08:55:33.032353Z",
     "start_time": "2025-08-18T08:55:33.028044Z"
    }
   },
   "id": "d7540c9efe9f27c5",
   "execution_count": 8
  },
  {
   "cell_type": "code",
   "outputs": [],
   "source": [
    "\n",
    "initial_solution_builder = PDPTWSolutionBuilder(\n",
    "    solver=VRPSolver(\n",
    "        model_config=ModelConfig(max_execution_time_minutes=1, max_solution_number=50)\n",
    "    ),\n",
    "    model_factory = model_factory\n",
    ")"
   ],
   "metadata": {
    "collapsed": false,
    "ExecuteTime": {
     "end_time": "2025-08-18T08:55:33.039078Z",
     "start_time": "2025-08-18T08:55:33.035818Z"
    }
   },
   "id": "b89ab99b84f7f518",
   "execution_count": 9
  },
  {
   "cell_type": "code",
   "outputs": [],
   "source": [
    "solver = VRPSolver(\n",
    "    model_config=ModelConfig(max_execution_time_minutes=0.1),\n",
    "    initial_solution_builder= initial_solution_builder,\n",
    "    callback=callback\n",
    ")"
   ],
   "metadata": {
    "collapsed": false,
    "ExecuteTime": {
     "end_time": "2025-08-18T08:55:33.045207Z",
     "start_time": "2025-08-18T08:55:33.040622Z"
    }
   },
   "id": "6b1117fb51a7300b",
   "execution_count": 10
  },
  {
   "cell_type": "code",
   "outputs": [
    {
     "name": "stderr",
     "output_type": "stream",
     "text": [
      "\u001B[32m2025-08-18 11:55:35.302\u001B[0m | \u001B[1mINFO    \u001B[0m | \u001B[36mvrp_study.initial_solution.pdptw_solution_builder\u001B[0m:\u001B[36mget_initial_solution\u001B[0m:\u001B[36m79\u001B[0m - \u001B[1m(1, 32.074999999999996)\u001B[0m\n",
      "\u001B[32m2025-08-18 11:55:35.343\u001B[0m | \u001B[1mINFO    \u001B[0m | \u001B[36mvrp_study.initial_solution.pdptw_solution_builder\u001B[0m:\u001B[36mget_initial_solution\u001B[0m:\u001B[36m79\u001B[0m - \u001B[1m(1, 16.0875)\u001B[0m\n",
      "\u001B[32m2025-08-18 11:55:35.397\u001B[0m | \u001B[1mINFO    \u001B[0m | \u001B[36mvrp_study.initial_solution.pdptw_solution_builder\u001B[0m:\u001B[36mget_initial_solution\u001B[0m:\u001B[36m79\u001B[0m - \u001B[1m(1, 8.09375)\u001B[0m\n",
      "\u001B[32m2025-08-18 11:55:35.443\u001B[0m | \u001B[1mINFO    \u001B[0m | \u001B[36mvrp_study.initial_solution.pdptw_solution_builder\u001B[0m:\u001B[36mget_initial_solution\u001B[0m:\u001B[36m79\u001B[0m - \u001B[1m(1, 4.096875)\u001B[0m\n",
      "\u001B[32m2025-08-18 11:55:35.493\u001B[0m | \u001B[1mINFO    \u001B[0m | \u001B[36mvrp_study.initial_solution.pdptw_solution_builder\u001B[0m:\u001B[36mget_initial_solution\u001B[0m:\u001B[36m79\u001B[0m - \u001B[1m(1, 2.0984374999999997)\u001B[0m\n",
      "\u001B[32m2025-08-18 11:55:35.618\u001B[0m | \u001B[1mINFO    \u001B[0m | \u001B[36mvrp_study.initial_solution.pdptw_solution_builder\u001B[0m:\u001B[36mget_initial_solution\u001B[0m:\u001B[36m79\u001B[0m - \u001B[1m(5, 1.09921875)\u001B[0m\n",
      "\u001B[32m2025-08-18 11:55:35.733\u001B[0m | \u001B[1mINFO    \u001B[0m | \u001B[36mvrp_study.initial_solution.pdptw_solution_builder\u001B[0m:\u001B[36mget_initial_solution\u001B[0m:\u001B[36m79\u001B[0m - \u001B[1m(14, 0.599609375)\u001B[0m\n",
      "\u001B[32m2025-08-18 11:55:35.818\u001B[0m | \u001B[1mINFO    \u001B[0m | \u001B[36mvrp_study.initial_solution.pdptw_solution_builder\u001B[0m:\u001B[36mget_initial_solution\u001B[0m:\u001B[36m79\u001B[0m - \u001B[1m(24, 0.3498046875)\u001B[0m\n",
      "\u001B[32m2025-08-18 11:55:38.226\u001B[0m | \u001B[34m\u001B[1mDEBUG   \u001B[0m | \u001B[36mvrp_study.or_tools.callback\u001B[0m:\u001B[36m__call__\u001B[0m:\u001B[36m36\u001B[0m - \u001B[34m\u001B[1mtime: 5.167; new solution (1): 1024506; best solution: 1024506\u001B[0m\n",
      "\u001B[32m2025-08-18 11:55:38.242\u001B[0m | \u001B[34m\u001B[1mDEBUG   \u001B[0m | \u001B[36mvrp_study.or_tools.callback\u001B[0m:\u001B[36m__call__\u001B[0m:\u001B[36m36\u001B[0m - \u001B[34m\u001B[1mtime: 5.183; new solution (2): 1024506; best solution: 1024506\u001B[0m\n",
      "\u001B[32m2025-08-18 11:55:38.352\u001B[0m | \u001B[34m\u001B[1mDEBUG   \u001B[0m | \u001B[36mvrp_study.or_tools.callback\u001B[0m:\u001B[36m__call__\u001B[0m:\u001B[36m36\u001B[0m - \u001B[34m\u001B[1mtime: 5.293; new solution (3): 1024499; best solution: 1024499\u001B[0m\n",
      "\u001B[32m2025-08-18 11:55:38.371\u001B[0m | \u001B[34m\u001B[1mDEBUG   \u001B[0m | \u001B[36mvrp_study.or_tools.callback\u001B[0m:\u001B[36m__call__\u001B[0m:\u001B[36m36\u001B[0m - \u001B[34m\u001B[1mtime: 5.312; new solution (4): 1024488; best solution: 1024488\u001B[0m\n",
      "\u001B[32m2025-08-18 11:55:38.422\u001B[0m | \u001B[34m\u001B[1mDEBUG   \u001B[0m | \u001B[36mvrp_study.or_tools.callback\u001B[0m:\u001B[36m__call__\u001B[0m:\u001B[36m36\u001B[0m - \u001B[34m\u001B[1mtime: 5.363; new solution (5): 1023129; best solution: 1023129\u001B[0m\n",
      "\u001B[32m2025-08-18 11:55:38.435\u001B[0m | \u001B[34m\u001B[1mDEBUG   \u001B[0m | \u001B[36mvrp_study.or_tools.callback\u001B[0m:\u001B[36m__call__\u001B[0m:\u001B[36m36\u001B[0m - \u001B[34m\u001B[1mtime: 5.376; new solution (6): 1023012; best solution: 1023012\u001B[0m\n",
      "\u001B[32m2025-08-18 11:55:38.447\u001B[0m | \u001B[34m\u001B[1mDEBUG   \u001B[0m | \u001B[36mvrp_study.or_tools.callback\u001B[0m:\u001B[36m__call__\u001B[0m:\u001B[36m36\u001B[0m - \u001B[34m\u001B[1mtime: 5.389; new solution (7): 1022240; best solution: 1022240\u001B[0m\n",
      "\u001B[32m2025-08-18 11:55:38.560\u001B[0m | \u001B[34m\u001B[1mDEBUG   \u001B[0m | \u001B[36mvrp_study.or_tools.callback\u001B[0m:\u001B[36m__call__\u001B[0m:\u001B[36m36\u001B[0m - \u001B[34m\u001B[1mtime: 5.501; new solution (8): 1022179; best solution: 1022179\u001B[0m\n",
      "\u001B[32m2025-08-18 11:55:38.672\u001B[0m | \u001B[34m\u001B[1mDEBUG   \u001B[0m | \u001B[36mvrp_study.or_tools.callback\u001B[0m:\u001B[36m__call__\u001B[0m:\u001B[36m36\u001B[0m - \u001B[34m\u001B[1mtime: 5.613; new solution (9): 1021716; best solution: 1021716\u001B[0m\n",
      "\u001B[32m2025-08-18 11:55:38.684\u001B[0m | \u001B[34m\u001B[1mDEBUG   \u001B[0m | \u001B[36mvrp_study.or_tools.callback\u001B[0m:\u001B[36m__call__\u001B[0m:\u001B[36m36\u001B[0m - \u001B[34m\u001B[1mtime: 5.626; new solution (10): 1021400; best solution: 1021400\u001B[0m\n",
      "\u001B[32m2025-08-18 11:55:38.699\u001B[0m | \u001B[34m\u001B[1mDEBUG   \u001B[0m | \u001B[36mvrp_study.or_tools.callback\u001B[0m:\u001B[36m__call__\u001B[0m:\u001B[36m36\u001B[0m - \u001B[34m\u001B[1mtime: 5.640; new solution (11): 1020893; best solution: 1020893\u001B[0m\n",
      "\u001B[32m2025-08-18 11:55:38.750\u001B[0m | \u001B[34m\u001B[1mDEBUG   \u001B[0m | \u001B[36mvrp_study.or_tools.callback\u001B[0m:\u001B[36m__call__\u001B[0m:\u001B[36m36\u001B[0m - \u001B[34m\u001B[1mtime: 5.691; new solution (12): 1017212; best solution: 1017212\u001B[0m\n",
      "\u001B[32m2025-08-18 11:55:38.767\u001B[0m | \u001B[34m\u001B[1mDEBUG   \u001B[0m | \u001B[36mvrp_study.or_tools.callback\u001B[0m:\u001B[36m__call__\u001B[0m:\u001B[36m36\u001B[0m - \u001B[34m\u001B[1mtime: 5.709; new solution (13): 1003277; best solution: 1003277\u001B[0m\n",
      "\u001B[32m2025-08-18 11:55:38.785\u001B[0m | \u001B[34m\u001B[1mDEBUG   \u001B[0m | \u001B[36mvrp_study.or_tools.callback\u001B[0m:\u001B[36m__call__\u001B[0m:\u001B[36m36\u001B[0m - \u001B[34m\u001B[1mtime: 5.726; new solution (14): 1002596; best solution: 1002596\u001B[0m\n",
      "\u001B[32m2025-08-18 11:55:38.796\u001B[0m | \u001B[34m\u001B[1mDEBUG   \u001B[0m | \u001B[36mvrp_study.or_tools.callback\u001B[0m:\u001B[36m__call__\u001B[0m:\u001B[36m36\u001B[0m - \u001B[34m\u001B[1mtime: 5.737; new solution (15): 1002574; best solution: 1002574\u001B[0m\n",
      "\u001B[32m2025-08-18 11:55:39.076\u001B[0m | \u001B[34m\u001B[1mDEBUG   \u001B[0m | \u001B[36mvrp_study.or_tools.callback\u001B[0m:\u001B[36m__call__\u001B[0m:\u001B[36m36\u001B[0m - \u001B[34m\u001B[1mtime: 6.017; new solution (16): 1001964; best solution: 1001964\u001B[0m\n",
      "\u001B[32m2025-08-18 11:55:39.085\u001B[0m | \u001B[34m\u001B[1mDEBUG   \u001B[0m | \u001B[36mvrp_study.or_tools.callback\u001B[0m:\u001B[36m__call__\u001B[0m:\u001B[36m36\u001B[0m - \u001B[34m\u001B[1mtime: 6.026; new solution (17): 1001877; best solution: 1001877\u001B[0m\n",
      "\u001B[32m2025-08-18 11:55:39.098\u001B[0m | \u001B[34m\u001B[1mDEBUG   \u001B[0m | \u001B[36mvrp_study.or_tools.callback\u001B[0m:\u001B[36m__call__\u001B[0m:\u001B[36m36\u001B[0m - \u001B[34m\u001B[1mtime: 6.039; new solution (18): 1001723; best solution: 1001723\u001B[0m\n",
      "\u001B[32m2025-08-18 11:55:39.113\u001B[0m | \u001B[34m\u001B[1mDEBUG   \u001B[0m | \u001B[36mvrp_study.or_tools.callback\u001B[0m:\u001B[36m__call__\u001B[0m:\u001B[36m36\u001B[0m - \u001B[34m\u001B[1mtime: 6.055; new solution (19): 1001680; best solution: 1001680\u001B[0m\n",
      "\u001B[32m2025-08-18 11:55:39.304\u001B[0m | \u001B[34m\u001B[1mDEBUG   \u001B[0m | \u001B[36mvrp_study.or_tools.callback\u001B[0m:\u001B[36m__call__\u001B[0m:\u001B[36m36\u001B[0m - \u001B[34m\u001B[1mtime: 6.245; new solution (20): 998114; best solution: 998114\u001B[0m\n",
      "\u001B[32m2025-08-18 11:55:39.318\u001B[0m | \u001B[34m\u001B[1mDEBUG   \u001B[0m | \u001B[36mvrp_study.or_tools.callback\u001B[0m:\u001B[36m__call__\u001B[0m:\u001B[36m36\u001B[0m - \u001B[34m\u001B[1mtime: 6.259; new solution (21): 996269; best solution: 996269\u001B[0m\n",
      "\u001B[32m2025-08-18 11:55:39.337\u001B[0m | \u001B[34m\u001B[1mDEBUG   \u001B[0m | \u001B[36mvrp_study.or_tools.callback\u001B[0m:\u001B[36m__call__\u001B[0m:\u001B[36m36\u001B[0m - \u001B[34m\u001B[1mtime: 6.278; new solution (22): 991020; best solution: 991020\u001B[0m\n",
      "\u001B[32m2025-08-18 11:55:39.349\u001B[0m | \u001B[34m\u001B[1mDEBUG   \u001B[0m | \u001B[36mvrp_study.or_tools.callback\u001B[0m:\u001B[36m__call__\u001B[0m:\u001B[36m36\u001B[0m - \u001B[34m\u001B[1mtime: 6.290; new solution (23): 987603; best solution: 987603\u001B[0m\n",
      "\u001B[32m2025-08-18 11:55:39.368\u001B[0m | \u001B[34m\u001B[1mDEBUG   \u001B[0m | \u001B[36mvrp_study.or_tools.callback\u001B[0m:\u001B[36m__call__\u001B[0m:\u001B[36m36\u001B[0m - \u001B[34m\u001B[1mtime: 6.309; new solution (24): 985048; best solution: 985048\u001B[0m\n",
      "\u001B[32m2025-08-18 11:55:39.381\u001B[0m | \u001B[34m\u001B[1mDEBUG   \u001B[0m | \u001B[36mvrp_study.or_tools.callback\u001B[0m:\u001B[36m__call__\u001B[0m:\u001B[36m36\u001B[0m - \u001B[34m\u001B[1mtime: 6.323; new solution (25): 984826; best solution: 984826\u001B[0m\n",
      "\u001B[32m2025-08-18 11:55:39.398\u001B[0m | \u001B[34m\u001B[1mDEBUG   \u001B[0m | \u001B[36mvrp_study.or_tools.callback\u001B[0m:\u001B[36m__call__\u001B[0m:\u001B[36m36\u001B[0m - \u001B[34m\u001B[1mtime: 6.340; new solution (26): 983076; best solution: 983076\u001B[0m\n",
      "\u001B[32m2025-08-18 11:55:39.443\u001B[0m | \u001B[34m\u001B[1mDEBUG   \u001B[0m | \u001B[36mvrp_study.or_tools.callback\u001B[0m:\u001B[36m__call__\u001B[0m:\u001B[36m36\u001B[0m - \u001B[34m\u001B[1mtime: 6.384; new solution (27): 979298; best solution: 979298\u001B[0m\n",
      "\u001B[32m2025-08-18 11:55:39.454\u001B[0m | \u001B[34m\u001B[1mDEBUG   \u001B[0m | \u001B[36mvrp_study.or_tools.callback\u001B[0m:\u001B[36m__call__\u001B[0m:\u001B[36m36\u001B[0m - \u001B[34m\u001B[1mtime: 6.395; new solution (28): 979100; best solution: 979100\u001B[0m\n",
      "\u001B[32m2025-08-18 11:55:39.472\u001B[0m | \u001B[34m\u001B[1mDEBUG   \u001B[0m | \u001B[36mvrp_study.or_tools.callback\u001B[0m:\u001B[36m__call__\u001B[0m:\u001B[36m36\u001B[0m - \u001B[34m\u001B[1mtime: 6.413; new solution (29): 978687; best solution: 978687\u001B[0m\n",
      "\u001B[32m2025-08-18 11:55:39.483\u001B[0m | \u001B[34m\u001B[1mDEBUG   \u001B[0m | \u001B[36mvrp_study.or_tools.callback\u001B[0m:\u001B[36m__call__\u001B[0m:\u001B[36m36\u001B[0m - \u001B[34m\u001B[1mtime: 6.424; new solution (30): 978144; best solution: 978144\u001B[0m\n",
      "\u001B[32m2025-08-18 11:55:39.730\u001B[0m | \u001B[34m\u001B[1mDEBUG   \u001B[0m | \u001B[36mvrp_study.or_tools.callback\u001B[0m:\u001B[36m__call__\u001B[0m:\u001B[36m36\u001B[0m - \u001B[34m\u001B[1mtime: 6.671; new solution (31): 977851; best solution: 977851\u001B[0m\n",
      "\u001B[32m2025-08-18 11:55:39.773\u001B[0m | \u001B[34m\u001B[1mDEBUG   \u001B[0m | \u001B[36mvrp_study.or_tools.callback\u001B[0m:\u001B[36m__call__\u001B[0m:\u001B[36m36\u001B[0m - \u001B[34m\u001B[1mtime: 6.714; new solution (32): 977780; best solution: 977780\u001B[0m\n",
      "\u001B[32m2025-08-18 11:55:39.897\u001B[0m | \u001B[34m\u001B[1mDEBUG   \u001B[0m | \u001B[36mvrp_study.or_tools.callback\u001B[0m:\u001B[36m__call__\u001B[0m:\u001B[36m36\u001B[0m - \u001B[34m\u001B[1mtime: 6.838; new solution (33): 977399; best solution: 977399\u001B[0m\n",
      "\u001B[32m2025-08-18 11:55:40.007\u001B[0m | \u001B[34m\u001B[1mDEBUG   \u001B[0m | \u001B[36mvrp_study.or_tools.callback\u001B[0m:\u001B[36m__call__\u001B[0m:\u001B[36m36\u001B[0m - \u001B[34m\u001B[1mtime: 6.948; new solution (34): 977258; best solution: 977258\u001B[0m\n",
      "\u001B[32m2025-08-18 11:55:40.018\u001B[0m | \u001B[34m\u001B[1mDEBUG   \u001B[0m | \u001B[36mvrp_study.or_tools.callback\u001B[0m:\u001B[36m__call__\u001B[0m:\u001B[36m36\u001B[0m - \u001B[34m\u001B[1mtime: 6.960; new solution (35): 977202; best solution: 977202\u001B[0m\n",
      "\u001B[32m2025-08-18 11:55:40.091\u001B[0m | \u001B[34m\u001B[1mDEBUG   \u001B[0m | \u001B[36mvrp_study.or_tools.callback\u001B[0m:\u001B[36m__call__\u001B[0m:\u001B[36m36\u001B[0m - \u001B[34m\u001B[1mtime: 7.032; new solution (36): 977170; best solution: 977170\u001B[0m\n",
      "\u001B[32m2025-08-18 11:55:40.167\u001B[0m | \u001B[34m\u001B[1mDEBUG   \u001B[0m | \u001B[36mvrp_study.or_tools.callback\u001B[0m:\u001B[36m__call__\u001B[0m:\u001B[36m36\u001B[0m - \u001B[34m\u001B[1mtime: 7.108; new solution (37): 976779; best solution: 976779\u001B[0m\n",
      "\u001B[32m2025-08-18 11:55:40.265\u001B[0m | \u001B[34m\u001B[1mDEBUG   \u001B[0m | \u001B[36mvrp_study.or_tools.callback\u001B[0m:\u001B[36m__call__\u001B[0m:\u001B[36m36\u001B[0m - \u001B[34m\u001B[1mtime: 7.207; new solution (38): 975113; best solution: 975113\u001B[0m\n",
      "\u001B[32m2025-08-18 11:55:40.322\u001B[0m | \u001B[34m\u001B[1mDEBUG   \u001B[0m | \u001B[36mvrp_study.or_tools.callback\u001B[0m:\u001B[36m__call__\u001B[0m:\u001B[36m36\u001B[0m - \u001B[34m\u001B[1mtime: 7.263; new solution (39): 975109; best solution: 975109\u001B[0m\n",
      "\u001B[32m2025-08-18 11:55:40.334\u001B[0m | \u001B[34m\u001B[1mDEBUG   \u001B[0m | \u001B[36mvrp_study.or_tools.callback\u001B[0m:\u001B[36m__call__\u001B[0m:\u001B[36m36\u001B[0m - \u001B[34m\u001B[1mtime: 7.275; new solution (40): 975108; best solution: 975108\u001B[0m\n",
      "\u001B[32m2025-08-18 11:55:40.345\u001B[0m | \u001B[34m\u001B[1mDEBUG   \u001B[0m | \u001B[36mvrp_study.or_tools.callback\u001B[0m:\u001B[36m__call__\u001B[0m:\u001B[36m36\u001B[0m - \u001B[34m\u001B[1mtime: 7.287; new solution (41): 974768; best solution: 974768\u001B[0m\n",
      "\u001B[32m2025-08-18 11:55:40.362\u001B[0m | \u001B[34m\u001B[1mDEBUG   \u001B[0m | \u001B[36mvrp_study.or_tools.callback\u001B[0m:\u001B[36m__call__\u001B[0m:\u001B[36m36\u001B[0m - \u001B[34m\u001B[1mtime: 7.303; new solution (42): 972728; best solution: 972728\u001B[0m\n",
      "\u001B[32m2025-08-18 11:55:40.377\u001B[0m | \u001B[34m\u001B[1mDEBUG   \u001B[0m | \u001B[36mvrp_study.or_tools.callback\u001B[0m:\u001B[36m__call__\u001B[0m:\u001B[36m36\u001B[0m - \u001B[34m\u001B[1mtime: 7.318; new solution (43): 967749; best solution: 967749\u001B[0m\n",
      "\u001B[32m2025-08-18 11:55:40.545\u001B[0m | \u001B[34m\u001B[1mDEBUG   \u001B[0m | \u001B[36mvrp_study.or_tools.callback\u001B[0m:\u001B[36m__call__\u001B[0m:\u001B[36m36\u001B[0m - \u001B[34m\u001B[1mtime: 7.486; new solution (44): 967264; best solution: 967264\u001B[0m\n",
      "\u001B[32m2025-08-18 11:55:40.555\u001B[0m | \u001B[34m\u001B[1mDEBUG   \u001B[0m | \u001B[36mvrp_study.or_tools.callback\u001B[0m:\u001B[36m__call__\u001B[0m:\u001B[36m36\u001B[0m - \u001B[34m\u001B[1mtime: 7.496; new solution (45): 964953; best solution: 964953\u001B[0m\n",
      "\u001B[32m2025-08-18 11:55:40.572\u001B[0m | \u001B[34m\u001B[1mDEBUG   \u001B[0m | \u001B[36mvrp_study.or_tools.callback\u001B[0m:\u001B[36m__call__\u001B[0m:\u001B[36m36\u001B[0m - \u001B[34m\u001B[1mtime: 7.513; new solution (46): 964328; best solution: 964328\u001B[0m\n",
      "\u001B[32m2025-08-18 11:55:40.646\u001B[0m | \u001B[34m\u001B[1mDEBUG   \u001B[0m | \u001B[36mvrp_study.or_tools.callback\u001B[0m:\u001B[36m__call__\u001B[0m:\u001B[36m36\u001B[0m - \u001B[34m\u001B[1mtime: 7.587; new solution (47): 963925; best solution: 963925\u001B[0m\n",
      "\u001B[32m2025-08-18 11:55:40.809\u001B[0m | \u001B[34m\u001B[1mDEBUG   \u001B[0m | \u001B[36mvrp_study.or_tools.callback\u001B[0m:\u001B[36m__call__\u001B[0m:\u001B[36m36\u001B[0m - \u001B[34m\u001B[1mtime: 7.750; new solution (48): 963890; best solution: 963890\u001B[0m\n",
      "\u001B[32m2025-08-18 11:55:40.892\u001B[0m | \u001B[34m\u001B[1mDEBUG   \u001B[0m | \u001B[36mvrp_study.or_tools.callback\u001B[0m:\u001B[36m__call__\u001B[0m:\u001B[36m36\u001B[0m - \u001B[34m\u001B[1mtime: 7.833; new solution (49): 959953; best solution: 959953\u001B[0m\n",
      "\u001B[32m2025-08-18 11:55:40.911\u001B[0m | \u001B[34m\u001B[1mDEBUG   \u001B[0m | \u001B[36mvrp_study.or_tools.callback\u001B[0m:\u001B[36m__call__\u001B[0m:\u001B[36m36\u001B[0m - \u001B[34m\u001B[1mtime: 7.852; new solution (50): 957918; best solution: 957918\u001B[0m\n",
      "\u001B[32m2025-08-18 11:55:40.923\u001B[0m | \u001B[34m\u001B[1mDEBUG   \u001B[0m | \u001B[36mvrp_study.or_tools.callback\u001B[0m:\u001B[36m__call__\u001B[0m:\u001B[36m36\u001B[0m - \u001B[34m\u001B[1mtime: 7.864; new solution (51): 957137; best solution: 957137\u001B[0m\n",
      "\u001B[32m2025-08-18 11:55:40.935\u001B[0m | \u001B[34m\u001B[1mDEBUG   \u001B[0m | \u001B[36mvrp_study.or_tools.callback\u001B[0m:\u001B[36m__call__\u001B[0m:\u001B[36m36\u001B[0m - \u001B[34m\u001B[1mtime: 7.876; new solution (52): 956757; best solution: 956757\u001B[0m\n",
      "\u001B[32m2025-08-18 11:55:40.947\u001B[0m | \u001B[34m\u001B[1mDEBUG   \u001B[0m | \u001B[36mvrp_study.or_tools.callback\u001B[0m:\u001B[36m__call__\u001B[0m:\u001B[36m36\u001B[0m - \u001B[34m\u001B[1mtime: 7.889; new solution (53): 950373; best solution: 950373\u001B[0m\n",
      "\u001B[32m2025-08-18 11:55:40.961\u001B[0m | \u001B[34m\u001B[1mDEBUG   \u001B[0m | \u001B[36mvrp_study.or_tools.callback\u001B[0m:\u001B[36m__call__\u001B[0m:\u001B[36m36\u001B[0m - \u001B[34m\u001B[1mtime: 7.902; new solution (54): 949690; best solution: 949690\u001B[0m\n",
      "\u001B[32m2025-08-18 11:55:40.973\u001B[0m | \u001B[34m\u001B[1mDEBUG   \u001B[0m | \u001B[36mvrp_study.or_tools.callback\u001B[0m:\u001B[36m__call__\u001B[0m:\u001B[36m36\u001B[0m - \u001B[34m\u001B[1mtime: 7.914; new solution (55): 948532; best solution: 948532\u001B[0m\n",
      "\u001B[32m2025-08-18 11:55:40.985\u001B[0m | \u001B[34m\u001B[1mDEBUG   \u001B[0m | \u001B[36mvrp_study.or_tools.callback\u001B[0m:\u001B[36m__call__\u001B[0m:\u001B[36m36\u001B[0m - \u001B[34m\u001B[1mtime: 7.926; new solution (56): 948033; best solution: 948033\u001B[0m\n",
      "\u001B[32m2025-08-18 11:55:40.997\u001B[0m | \u001B[34m\u001B[1mDEBUG   \u001B[0m | \u001B[36mvrp_study.or_tools.callback\u001B[0m:\u001B[36m__call__\u001B[0m:\u001B[36m36\u001B[0m - \u001B[34m\u001B[1mtime: 7.938; new solution (57): 947850; best solution: 947850\u001B[0m\n",
      "\u001B[32m2025-08-18 11:55:41.008\u001B[0m | \u001B[34m\u001B[1mDEBUG   \u001B[0m | \u001B[36mvrp_study.or_tools.callback\u001B[0m:\u001B[36m__call__\u001B[0m:\u001B[36m36\u001B[0m - \u001B[34m\u001B[1mtime: 7.949; new solution (58): 947835; best solution: 947835\u001B[0m\n",
      "\u001B[32m2025-08-18 11:55:41.021\u001B[0m | \u001B[34m\u001B[1mDEBUG   \u001B[0m | \u001B[36mvrp_study.or_tools.callback\u001B[0m:\u001B[36m__call__\u001B[0m:\u001B[36m36\u001B[0m - \u001B[34m\u001B[1mtime: 7.962; new solution (59): 947812; best solution: 947812\u001B[0m\n",
      "\u001B[32m2025-08-18 11:55:41.036\u001B[0m | \u001B[34m\u001B[1mDEBUG   \u001B[0m | \u001B[36mvrp_study.or_tools.callback\u001B[0m:\u001B[36m__call__\u001B[0m:\u001B[36m36\u001B[0m - \u001B[34m\u001B[1mtime: 7.977; new solution (60): 946773; best solution: 946773\u001B[0m\n",
      "\u001B[32m2025-08-18 11:55:41.052\u001B[0m | \u001B[34m\u001B[1mDEBUG   \u001B[0m | \u001B[36mvrp_study.or_tools.callback\u001B[0m:\u001B[36m__call__\u001B[0m:\u001B[36m36\u001B[0m - \u001B[34m\u001B[1mtime: 7.994; new solution (61): 946294; best solution: 946294\u001B[0m\n",
      "\u001B[32m2025-08-18 11:55:41.064\u001B[0m | \u001B[34m\u001B[1mDEBUG   \u001B[0m | \u001B[36mvrp_study.or_tools.callback\u001B[0m:\u001B[36m__call__\u001B[0m:\u001B[36m36\u001B[0m - \u001B[34m\u001B[1mtime: 8.005; new solution (62): 946226; best solution: 946226\u001B[0m\n",
      "\u001B[32m2025-08-18 11:55:41.079\u001B[0m | \u001B[34m\u001B[1mDEBUG   \u001B[0m | \u001B[36mvrp_study.or_tools.callback\u001B[0m:\u001B[36m__call__\u001B[0m:\u001B[36m36\u001B[0m - \u001B[34m\u001B[1mtime: 8.020; new solution (63): 945926; best solution: 945926\u001B[0m\n",
      "\u001B[32m2025-08-18 11:55:41.091\u001B[0m | \u001B[34m\u001B[1mDEBUG   \u001B[0m | \u001B[36mvrp_study.or_tools.callback\u001B[0m:\u001B[36m__call__\u001B[0m:\u001B[36m36\u001B[0m - \u001B[34m\u001B[1mtime: 8.032; new solution (64): 945641; best solution: 945641\u001B[0m\n",
      "\u001B[32m2025-08-18 11:55:41.110\u001B[0m | \u001B[34m\u001B[1mDEBUG   \u001B[0m | \u001B[36mvrp_study.or_tools.callback\u001B[0m:\u001B[36m__call__\u001B[0m:\u001B[36m36\u001B[0m - \u001B[34m\u001B[1mtime: 8.051; new solution (65): 945472; best solution: 945472\u001B[0m\n",
      "\u001B[32m2025-08-18 11:55:41.207\u001B[0m | \u001B[34m\u001B[1mDEBUG   \u001B[0m | \u001B[36mvrp_study.or_tools.callback\u001B[0m:\u001B[36m__call__\u001B[0m:\u001B[36m36\u001B[0m - \u001B[34m\u001B[1mtime: 8.148; new solution (66): 945352; best solution: 945352\u001B[0m\n",
      "\u001B[32m2025-08-18 11:55:41.318\u001B[0m | \u001B[34m\u001B[1mDEBUG   \u001B[0m | \u001B[36mvrp_study.or_tools.callback\u001B[0m:\u001B[36m__call__\u001B[0m:\u001B[36m36\u001B[0m - \u001B[34m\u001B[1mtime: 8.260; new solution (67): 945166; best solution: 945166\u001B[0m\n",
      "\u001B[32m2025-08-18 11:55:41.345\u001B[0m | \u001B[34m\u001B[1mDEBUG   \u001B[0m | \u001B[36mvrp_study.or_tools.callback\u001B[0m:\u001B[36m__call__\u001B[0m:\u001B[36m36\u001B[0m - \u001B[34m\u001B[1mtime: 8.286; new solution (68): 945160; best solution: 945160\u001B[0m\n",
      "\u001B[32m2025-08-18 11:55:41.356\u001B[0m | \u001B[34m\u001B[1mDEBUG   \u001B[0m | \u001B[36mvrp_study.or_tools.callback\u001B[0m:\u001B[36m__call__\u001B[0m:\u001B[36m36\u001B[0m - \u001B[34m\u001B[1mtime: 8.297; new solution (69): 945026; best solution: 945026\u001B[0m\n",
      "\u001B[32m2025-08-18 11:55:41.537\u001B[0m | \u001B[34m\u001B[1mDEBUG   \u001B[0m | \u001B[36mvrp_study.or_tools.callback\u001B[0m:\u001B[36m__call__\u001B[0m:\u001B[36m36\u001B[0m - \u001B[34m\u001B[1mtime: 8.478; new solution (70): 944550; best solution: 944550\u001B[0m\n",
      "\u001B[32m2025-08-18 11:55:41.559\u001B[0m | \u001B[34m\u001B[1mDEBUG   \u001B[0m | \u001B[36mvrp_study.or_tools.callback\u001B[0m:\u001B[36m__call__\u001B[0m:\u001B[36m36\u001B[0m - \u001B[34m\u001B[1mtime: 8.501; new solution (71): 944448; best solution: 944448\u001B[0m\n",
      "\u001B[32m2025-08-18 11:55:41.649\u001B[0m | \u001B[34m\u001B[1mDEBUG   \u001B[0m | \u001B[36mvrp_study.or_tools.callback\u001B[0m:\u001B[36m__call__\u001B[0m:\u001B[36m36\u001B[0m - \u001B[34m\u001B[1mtime: 8.590; new solution (72): 944292; best solution: 944292\u001B[0m\n",
      "\u001B[32m2025-08-18 11:55:41.657\u001B[0m | \u001B[34m\u001B[1mDEBUG   \u001B[0m | \u001B[36mvrp_study.or_tools.callback\u001B[0m:\u001B[36m__call__\u001B[0m:\u001B[36m36\u001B[0m - \u001B[34m\u001B[1mtime: 8.599; new solution (73): 938557; best solution: 938557\u001B[0m\n",
      "\u001B[32m2025-08-18 11:55:41.673\u001B[0m | \u001B[34m\u001B[1mDEBUG   \u001B[0m | \u001B[36mvrp_study.or_tools.callback\u001B[0m:\u001B[36m__call__\u001B[0m:\u001B[36m36\u001B[0m - \u001B[34m\u001B[1mtime: 8.614; new solution (74): 938148; best solution: 938148\u001B[0m\n",
      "\u001B[32m2025-08-18 11:55:41.781\u001B[0m | \u001B[34m\u001B[1mDEBUG   \u001B[0m | \u001B[36mvrp_study.or_tools.callback\u001B[0m:\u001B[36m__call__\u001B[0m:\u001B[36m36\u001B[0m - \u001B[34m\u001B[1mtime: 8.722; new solution (75): 938134; best solution: 938134\u001B[0m\n",
      "\u001B[32m2025-08-18 11:55:41.793\u001B[0m | \u001B[34m\u001B[1mDEBUG   \u001B[0m | \u001B[36mvrp_study.or_tools.callback\u001B[0m:\u001B[36m__call__\u001B[0m:\u001B[36m36\u001B[0m - \u001B[34m\u001B[1mtime: 8.734; new solution (76): 935114; best solution: 935114\u001B[0m\n",
      "\u001B[32m2025-08-18 11:55:41.805\u001B[0m | \u001B[34m\u001B[1mDEBUG   \u001B[0m | \u001B[36mvrp_study.or_tools.callback\u001B[0m:\u001B[36m__call__\u001B[0m:\u001B[36m36\u001B[0m - \u001B[34m\u001B[1mtime: 8.747; new solution (77): 934898; best solution: 934898\u001B[0m\n",
      "\u001B[32m2025-08-18 11:55:41.825\u001B[0m | \u001B[34m\u001B[1mDEBUG   \u001B[0m | \u001B[36mvrp_study.or_tools.callback\u001B[0m:\u001B[36m__call__\u001B[0m:\u001B[36m36\u001B[0m - \u001B[34m\u001B[1mtime: 8.767; new solution (78): 934837; best solution: 934837\u001B[0m\n",
      "\u001B[32m2025-08-18 11:55:41.848\u001B[0m | \u001B[34m\u001B[1mDEBUG   \u001B[0m | \u001B[36mvrp_study.or_tools.callback\u001B[0m:\u001B[36m__call__\u001B[0m:\u001B[36m36\u001B[0m - \u001B[34m\u001B[1mtime: 8.789; new solution (79): 934817; best solution: 934817\u001B[0m\n",
      "\u001B[32m2025-08-18 11:55:42.025\u001B[0m | \u001B[34m\u001B[1mDEBUG   \u001B[0m | \u001B[36mvrp_study.or_tools.callback\u001B[0m:\u001B[36m__call__\u001B[0m:\u001B[36m36\u001B[0m - \u001B[34m\u001B[1mtime: 8.966; new solution (80): 934627; best solution: 934627\u001B[0m\n",
      "\u001B[32m2025-08-18 11:55:42.223\u001B[0m | \u001B[34m\u001B[1mDEBUG   \u001B[0m | \u001B[36mvrp_study.or_tools.callback\u001B[0m:\u001B[36m__call__\u001B[0m:\u001B[36m36\u001B[0m - \u001B[34m\u001B[1mtime: 9.164; new solution (81): 934621; best solution: 934621\u001B[0m\n",
      "\u001B[32m2025-08-18 11:55:42.263\u001B[0m | \u001B[34m\u001B[1mDEBUG   \u001B[0m | \u001B[36mvrp_study.or_tools.callback\u001B[0m:\u001B[36m__call__\u001B[0m:\u001B[36m36\u001B[0m - \u001B[34m\u001B[1mtime: 9.204; new solution (82): 929043; best solution: 929043\u001B[0m\n",
      "\u001B[32m2025-08-18 11:55:42.345\u001B[0m | \u001B[34m\u001B[1mDEBUG   \u001B[0m | \u001B[36mvrp_study.or_tools.callback\u001B[0m:\u001B[36m__call__\u001B[0m:\u001B[36m36\u001B[0m - \u001B[34m\u001B[1mtime: 9.286; new solution (83): 928721; best solution: 928721\u001B[0m\n",
      "\u001B[32m2025-08-18 11:55:42.355\u001B[0m | \u001B[34m\u001B[1mDEBUG   \u001B[0m | \u001B[36mvrp_study.or_tools.callback\u001B[0m:\u001B[36m__call__\u001B[0m:\u001B[36m36\u001B[0m - \u001B[34m\u001B[1mtime: 9.296; new solution (84): 928591; best solution: 928591\u001B[0m\n",
      "\u001B[32m2025-08-18 11:55:42.366\u001B[0m | \u001B[34m\u001B[1mDEBUG   \u001B[0m | \u001B[36mvrp_study.or_tools.callback\u001B[0m:\u001B[36m__call__\u001B[0m:\u001B[36m36\u001B[0m - \u001B[34m\u001B[1mtime: 9.307; new solution (85): 928567; best solution: 928567\u001B[0m\n",
      "\u001B[32m2025-08-18 11:55:42.525\u001B[0m | \u001B[34m\u001B[1mDEBUG   \u001B[0m | \u001B[36mvrp_study.or_tools.callback\u001B[0m:\u001B[36m__call__\u001B[0m:\u001B[36m36\u001B[0m - \u001B[34m\u001B[1mtime: 9.466; new solution (86): 928554; best solution: 928554\u001B[0m\n",
      "\u001B[32m2025-08-18 11:55:42.598\u001B[0m | \u001B[34m\u001B[1mDEBUG   \u001B[0m | \u001B[36mvrp_study.or_tools.callback\u001B[0m:\u001B[36m__call__\u001B[0m:\u001B[36m36\u001B[0m - \u001B[34m\u001B[1mtime: 9.539; new solution (87): 924081; best solution: 924081\u001B[0m\n",
      "\u001B[32m2025-08-18 11:55:43.026\u001B[0m | \u001B[34m\u001B[1mDEBUG   \u001B[0m | \u001B[36mvrp_study.or_tools.callback\u001B[0m:\u001B[36m__call__\u001B[0m:\u001B[36m36\u001B[0m - \u001B[34m\u001B[1mtime: 9.968; new solution (88): 920981; best solution: 920981\u001B[0m\n",
      "\u001B[32m2025-08-18 11:55:43.604\u001B[0m | \u001B[34m\u001B[1mDEBUG   \u001B[0m | \u001B[36mvrp_study.or_tools.callback\u001B[0m:\u001B[36m__call__\u001B[0m:\u001B[36m36\u001B[0m - \u001B[34m\u001B[1mtime: 10.545; new solution (89): 920469; best solution: 920469\u001B[0m\n",
      "\u001B[32m2025-08-18 11:55:43.612\u001B[0m | \u001B[34m\u001B[1mDEBUG   \u001B[0m | \u001B[36mvrp_study.or_tools.callback\u001B[0m:\u001B[36m__call__\u001B[0m:\u001B[36m36\u001B[0m - \u001B[34m\u001B[1mtime: 10.553; new solution (90): 919822; best solution: 919822\u001B[0m\n",
      "\u001B[32m2025-08-18 11:55:43.626\u001B[0m | \u001B[34m\u001B[1mDEBUG   \u001B[0m | \u001B[36mvrp_study.or_tools.callback\u001B[0m:\u001B[36m__call__\u001B[0m:\u001B[36m36\u001B[0m - \u001B[34m\u001B[1mtime: 10.567; new solution (91): 918886; best solution: 918886\u001B[0m\n",
      "\u001B[32m2025-08-18 11:55:43.635\u001B[0m | \u001B[34m\u001B[1mDEBUG   \u001B[0m | \u001B[36mvrp_study.or_tools.callback\u001B[0m:\u001B[36m__call__\u001B[0m:\u001B[36m36\u001B[0m - \u001B[34m\u001B[1mtime: 10.576; new solution (92): 918469; best solution: 918469\u001B[0m\n",
      "\u001B[32m2025-08-18 11:55:43.658\u001B[0m | \u001B[34m\u001B[1mDEBUG   \u001B[0m | \u001B[36mvrp_study.or_tools.callback\u001B[0m:\u001B[36m__call__\u001B[0m:\u001B[36m36\u001B[0m - \u001B[34m\u001B[1mtime: 10.599; new solution (93): 916080; best solution: 916080\u001B[0m\n",
      "\u001B[32m2025-08-18 11:55:43.683\u001B[0m | \u001B[34m\u001B[1mDEBUG   \u001B[0m | \u001B[36mvrp_study.or_tools.callback\u001B[0m:\u001B[36m__call__\u001B[0m:\u001B[36m36\u001B[0m - \u001B[34m\u001B[1mtime: 10.624; new solution (94): 915207; best solution: 915207\u001B[0m\n",
      "\u001B[32m2025-08-18 11:55:43.696\u001B[0m | \u001B[34m\u001B[1mDEBUG   \u001B[0m | \u001B[36mvrp_study.or_tools.callback\u001B[0m:\u001B[36m__call__\u001B[0m:\u001B[36m36\u001B[0m - \u001B[34m\u001B[1mtime: 10.637; new solution (95): 911147; best solution: 911147\u001B[0m\n",
      "\u001B[32m2025-08-18 11:55:43.714\u001B[0m | \u001B[34m\u001B[1mDEBUG   \u001B[0m | \u001B[36mvrp_study.or_tools.callback\u001B[0m:\u001B[36m__call__\u001B[0m:\u001B[36m36\u001B[0m - \u001B[34m\u001B[1mtime: 10.655; new solution (96): 908393; best solution: 908393\u001B[0m\n",
      "\u001B[32m2025-08-18 11:55:43.732\u001B[0m | \u001B[34m\u001B[1mDEBUG   \u001B[0m | \u001B[36mvrp_study.or_tools.callback\u001B[0m:\u001B[36m__call__\u001B[0m:\u001B[36m36\u001B[0m - \u001B[34m\u001B[1mtime: 10.673; new solution (97): 905962; best solution: 905962\u001B[0m\n",
      "\u001B[32m2025-08-18 11:55:43.958\u001B[0m | \u001B[34m\u001B[1mDEBUG   \u001B[0m | \u001B[36mvrp_study.or_tools.callback\u001B[0m:\u001B[36m__call__\u001B[0m:\u001B[36m36\u001B[0m - \u001B[34m\u001B[1mtime: 10.899; new solution (98): 904812; best solution: 904812\u001B[0m\n",
      "\u001B[32m2025-08-18 11:55:44.201\u001B[0m | \u001B[34m\u001B[1mDEBUG   \u001B[0m | \u001B[36mvrp_study.or_tools.callback\u001B[0m:\u001B[36m__call__\u001B[0m:\u001B[36m36\u001B[0m - \u001B[34m\u001B[1mtime: 11.142; new solution (99): 904113; best solution: 904113\u001B[0m\n"
     ]
    }
   ],
   "source": [
    "sol = solver.solve(\n",
    "    model_factory.build_model(routing_manager)\n",
    ")"
   ],
   "metadata": {
    "collapsed": false,
    "ExecuteTime": {
     "end_time": "2025-08-18T08:55:44.233314Z",
     "start_time": "2025-08-18T08:55:33.047455Z"
    }
   },
   "id": "58ae91b8f2bcbb79",
   "execution_count": 11
  },
  {
   "cell_type": "code",
   "outputs": [],
   "source": [
    "# total_l = 0\n",
    "# for s in sol[0]:\n",
    "#     if len(s) > 0:\n",
    "#         # print(s)\n",
    "#         # a = routing_manager.nodes()[s[i]]\n",
    "#         # b = routing_manager.nodes()[s[i+1]]\n",
    "# \n",
    "#         l = sum(routing_manager.get_distance(routing_manager.nodes()[s[i]], routing_manager.nodes()[s[i + 1]]) for i in\n",
    "#                 range(len(s) - 1))\n",
    "#         # print(s, l)\n",
    "#         total_l += l\n",
    "# total_l"
   ],
   "metadata": {
    "collapsed": false,
    "ExecuteTime": {
     "end_time": "2025-08-18T08:55:44.237774Z",
     "start_time": "2025-08-18T08:55:44.234752Z"
    }
   },
   "id": "3dec13fea9c46a8c",
   "execution_count": 12
  },
  {
   "cell_type": "code",
   "outputs": [],
   "source": [],
   "metadata": {
    "collapsed": false
   },
   "id": "9566e14834ff0ee5"
  }
 ],
 "metadata": {
  "kernelspec": {
   "display_name": "Python 3",
   "language": "python",
   "name": "python3"
  },
  "language_info": {
   "codemirror_mode": {
    "name": "ipython",
    "version": 2
   },
   "file_extension": ".py",
   "mimetype": "text/x-python",
   "name": "python",
   "nbconvert_exporter": "python",
   "pygments_lexer": "ipython2",
   "version": "2.7.6"
  }
 },
 "nbformat": 4,
 "nbformat_minor": 5
}
