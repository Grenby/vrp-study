{
 "cells": [
  {
   "cell_type": "code",
   "execution_count": 1,
   "id": "initial_id",
   "metadata": {
    "ExecuteTime": {
     "end_time": "2025-07-22T14:07:37.403094Z",
     "start_time": "2025-07-22T14:07:37.179767Z"
    },
    "collapsed": true
   },
   "outputs": [],
   "source": [
    "import os, sys\n",
    "sys.path.append('../')\n",
    "sys.path.append('../src/')"
   ]
  },
  {
   "cell_type": "code",
   "execution_count": 2,
   "id": "ef240cbc",
   "metadata": {},
   "outputs": [
    {
     "name": "stdout",
     "output_type": "stream",
     "text": [
      "load c:\\Users\\Nikita\\anaconda3\\envs\\crossdocking\\Lib\\site-packages\\ortools\\.libs\\zlib1.dll...\n",
      "load c:\\Users\\Nikita\\anaconda3\\envs\\crossdocking\\Lib\\site-packages\\ortools\\.libs\\abseil_dll.dll...\n",
      "load c:\\Users\\Nikita\\anaconda3\\envs\\crossdocking\\Lib\\site-packages\\ortools\\.libs\\utf8_validity.dll...\n",
      "load c:\\Users\\Nikita\\anaconda3\\envs\\crossdocking\\Lib\\site-packages\\ortools\\.libs\\re2.dll...\n",
      "load c:\\Users\\Nikita\\anaconda3\\envs\\crossdocking\\Lib\\site-packages\\ortools\\.libs\\libprotobuf.dll...\n",
      "load c:\\Users\\Nikita\\anaconda3\\envs\\crossdocking\\Lib\\site-packages\\ortools\\.libs\\highs.dll...\n",
      "load c:\\Users\\Nikita\\anaconda3\\envs\\crossdocking\\Lib\\site-packages\\ortools\\.libs\\ortools.dll...\n"
     ]
    }
   ],
   "source": [
    "import numpy as np\n",
    "import src.vrp_study\n",
    "from src.vrp_study.data_model import Tariff, Cargo, Node\n",
    "from src.vrp_study.data_model import TariffCost\n",
    "from src.vrp_study.pdptw_model.pdptw_routing_manager_builder import PDRoutingManagerBuilder\n",
    "from src.vrp_study.pdptw_model.routing_model import find_optimal_paths"
   ]
  },
  {
   "cell_type": "code",
   "execution_count": null,
   "id": "b8142b43",
   "metadata": {},
   "outputs": [],
   "source": []
  },
  {
   "cell_type": "code",
   "execution_count": 3,
   "id": "559f79286744de08",
   "metadata": {
    "ExecuteTime": {
     "end_time": "2025-07-22T14:07:37.409166Z",
     "start_time": "2025-07-22T14:07:37.405589Z"
    },
    "collapsed": false
   },
   "outputs": [],
   "source": [
    "benchmark_type = 'pdp_400'\n",
    "name = 'LC1_4_5.txt'"
   ]
  },
  {
   "cell_type": "code",
   "execution_count": 4,
   "id": "991efc321c7b5ad9",
   "metadata": {
    "ExecuteTime": {
     "end_time": "2025-07-22T14:07:37.422040Z",
     "start_time": "2025-07-22T14:07:37.410650Z"
    },
    "collapsed": false
   },
   "outputs": [],
   "source": [
    "from typing import Optional\n",
    "\n",
    "tariff = None\n",
    "cargos: list[Cargo] = []\n",
    "depo: Optional[Node] = None"
   ]
  },
  {
   "cell_type": "code",
   "execution_count": 5,
   "id": "9a1a50b9550c425c",
   "metadata": {
    "ExecuteTime": {
     "end_time": "2025-07-22T14:07:37.437081Z",
     "start_time": "2025-07-22T14:07:37.423236Z"
    },
    "collapsed": false
   },
   "outputs": [],
   "source": [
    "id2info = {}\n",
    "p2coordinates = {}\n",
    "with open(f'../data/Li & Lim benchmark/{benchmark_type}/{name}', 'r') as file:\n",
    "    for i, line in enumerate(file):\n",
    "        line = line.split('\\t')\n",
    "        if i == 0:\n",
    "            tariff = Tariff(\n",
    "                id='car',\n",
    "                capacity=int(line[1]),\n",
    "                max_count=int(line[0]),\n",
    "                cost_per_distance=[TariffCost(\n",
    "                    min_dst_km=0,\n",
    "                    max_dst_km=10000,\n",
    "                    cost_per_km=1,\n",
    "                    fixed_cost=0\n",
    "                )]\n",
    "            )\n",
    "        else:\n",
    "            c_id = int(line[0])\n",
    "            x = int(line[1])\n",
    "            y = int(line[2])\n",
    "\n",
    "            mass = int(line[3])\n",
    "\n",
    "            et = int(line[4])\n",
    "            lt = int(line[5])\n",
    "            st = int(line[6])\n",
    "\n",
    "            pick_up = int(line[7])\n",
    "            delivery = int(line[8])\n",
    "            if pick_up == delivery:\n",
    "                # print(12)\n",
    "                depo = Node(\n",
    "                    id=0,\n",
    "                    cargo_id=c_id,\n",
    "                    capacity=0,\n",
    "                    service_time=0,\n",
    "                    start_time=0,\n",
    "                    end_time=lt,\n",
    "                    coordinates=(x, y)\n",
    "                )\n",
    "                continue\n",
    "            if pick_up == 0:\n",
    "                if c_id not in id2info:\n",
    "                    id2info[c_id] = {}\n",
    "                id2info[c_id][0] = (x, y, mass, et, lt, st, c_id, delivery)\n",
    "            else:\n",
    "                delivery = c_id\n",
    "                c_id = pick_up\n",
    "                if c_id not in id2info:\n",
    "                    id2info[c_id] = {}\n",
    "                id2info[c_id][1] = (x, y, mass, et, lt, st, pick_up, delivery)\n"
   ]
  },
  {
   "cell_type": "code",
   "execution_count": 6,
   "id": "c2fb6bc413a17132",
   "metadata": {
    "ExecuteTime": {
     "end_time": "2025-07-22T14:07:37.446665Z",
     "start_time": "2025-07-22T14:07:37.440089Z"
    },
    "collapsed": false
   },
   "outputs": [
    {
     "data": {
      "text/plain": [
       "Node(id=0, cargo_id=0, capacity=0, start_time=0, end_time=1501, service_time=0, coordinates=(100, 100))"
      ]
     },
     "execution_count": 6,
     "metadata": {},
     "output_type": "execute_result"
    }
   ],
   "source": [
    "depo"
   ]
  },
  {
   "cell_type": "code",
   "execution_count": 7,
   "id": "f7bbc6862498a04e",
   "metadata": {
    "ExecuteTime": {
     "end_time": "2025-07-22T14:07:37.456046Z",
     "start_time": "2025-07-22T14:07:37.448573Z"
    },
    "collapsed": false
   },
   "outputs": [],
   "source": [
    "\n",
    "for k, v in id2info.items():\n",
    "    cargos.append(\n",
    "        Cargo(\n",
    "            id=k,\n",
    "            nodes=[\n",
    "                Node(\n",
    "                    cargo_id=k,\n",
    "                    id=v[i][6] if i == 0 else v[i][7],\n",
    "                    capacity=v[i][2],\n",
    "                    service_time=v[i][5],\n",
    "                    start_time=v[i][3],\n",
    "                    end_time=v[i][4],\n",
    "                    coordinates=(v[i][0], v[i][1])\n",
    "                )\n",
    "                for i in range(2)\n",
    "            ]\n",
    "        )\n",
    "    )"
   ]
  },
  {
   "cell_type": "code",
   "execution_count": 8,
   "id": "4239a4ae965983df",
   "metadata": {
    "ExecuteTime": {
     "end_time": "2025-07-22T14:07:38.130528Z",
     "start_time": "2025-07-22T14:07:37.457684Z"
    },
    "collapsed": false
   },
   "outputs": [],
   "source": [
    "p2coordinates.update({\n",
    "    crg.nodes[i].id: crg.nodes[i].coordinates for crg in cargos for i in range(2)\n",
    "})\n",
    "p2coordinates[depo.id] = depo.coordinates\n",
    "distance_matrix = {(u, v): np.sqrt((du[0] - dv[0]) ** 2 + (du[1] - dv[1]) ** 2) for u, du in\n",
    "                   p2coordinates.items() for\n",
    "                   v, dv in p2coordinates.items()}\n",
    "time_matrix = {(u, v): np.sqrt((du[0] - dv[0]) ** 2 + (du[1] - dv[1]) ** 2) for u, du in p2coordinates.items() for\n",
    "               v, dv in p2coordinates.items()}"
   ]
  },
  {
   "cell_type": "code",
   "execution_count": 9,
   "id": "6bd1e99727e05112",
   "metadata": {
    "ExecuteTime": {
     "end_time": "2025-07-22T14:07:38.377381Z",
     "start_time": "2025-07-22T14:07:38.132197Z"
    },
    "collapsed": false
   },
   "outputs": [],
   "source": [
    "\n",
    "from src.vrp_study.configs import ModelConfig\n",
    "\n",
    "routing_manager = PDRoutingManagerBuilder(\n",
    "    distance_matrix = distance_matrix,\n",
    "    time_matrix = time_matrix,\n",
    "    model_config=ModelConfig(max_execution_time_minutes=1)\n",
    ")\n",
    "\n",
    "routing_manager.add_cargos(cargos)\n",
    "routing_manager.add_tariff(tariff)\n",
    "\n",
    "routing_manager.add_depo(depo)\n",
    "\n",
    "routing_manager = routing_manager.build()"
   ]
  },
  {
   "cell_type": "code",
   "execution_count": 10,
   "id": "3a9f65c2bcfe2394",
   "metadata": {
    "ExecuteTime": {
     "end_time": "2025-07-22T14:07:38.384795Z",
     "start_time": "2025-07-22T14:07:38.379359Z"
    },
    "collapsed": false
   },
   "outputs": [
    {
     "data": {
      "text/plain": [
       "211"
      ]
     },
     "execution_count": 10,
     "metadata": {},
     "output_type": "execute_result"
    }
   ],
   "source": [
    "len(cargos)"
   ]
  },
  {
   "cell_type": "code",
   "execution_count": 11,
   "id": "b89ab99b84f7f518",
   "metadata": {
    "ExecuteTime": {
     "start_time": "2025-07-22T14:07:38.386663Z"
    },
    "collapsed": false
   },
   "outputs": [
    {
     "name": "stderr",
     "output_type": "stream",
     "text": [
      "\u001b[32m2025-08-04 12:05:58.141\u001b[0m | \u001b[1mINFO    \u001b[0m | \u001b[36msrc.vrp_study.pdptw_model.solution_builder\u001b[0m:\u001b[36mget_initial_solution\u001b[0m:\u001b[36m118\u001b[0m - \u001b[1m(1, 32.074999999999996)\u001b[0m\n",
      "\u001b[32m2025-08-04 12:05:58.142\u001b[0m | \u001b[1mINFO    \u001b[0m | \u001b[36msrc.vrp_study.pdptw_model.solution_builder\u001b[0m:\u001b[36mget_initial_solution\u001b[0m:\u001b[36m118\u001b[0m - \u001b[1m(1, 16.0875)\u001b[0m\n",
      "\u001b[32m2025-08-04 12:05:58.142\u001b[0m | \u001b[1mINFO    \u001b[0m | \u001b[36msrc.vrp_study.pdptw_model.solution_builder\u001b[0m:\u001b[36mget_initial_solution\u001b[0m:\u001b[36m118\u001b[0m - \u001b[1m(1, 8.09375)\u001b[0m\n",
      "\u001b[32m2025-08-04 12:05:58.143\u001b[0m | \u001b[1mINFO    \u001b[0m | \u001b[36msrc.vrp_study.pdptw_model.solution_builder\u001b[0m:\u001b[36mget_initial_solution\u001b[0m:\u001b[36m118\u001b[0m - \u001b[1m(1, 4.096875)\u001b[0m\n",
      "\u001b[32m2025-08-04 12:05:58.144\u001b[0m | \u001b[1mINFO    \u001b[0m | \u001b[36msrc.vrp_study.pdptw_model.solution_builder\u001b[0m:\u001b[36mget_initial_solution\u001b[0m:\u001b[36m118\u001b[0m - \u001b[1m(1, 2.0984374999999997)\u001b[0m\n",
      "\u001b[32m2025-08-04 12:05:58.144\u001b[0m | \u001b[1mINFO    \u001b[0m | \u001b[36msrc.vrp_study.pdptw_model.solution_builder\u001b[0m:\u001b[36mget_initial_solution\u001b[0m:\u001b[36m118\u001b[0m - \u001b[1m(2, 1.09921875)\u001b[0m\n",
      "\u001b[32m2025-08-04 12:05:58.145\u001b[0m | \u001b[1mINFO    \u001b[0m | \u001b[36msrc.vrp_study.pdptw_model.solution_builder\u001b[0m:\u001b[36mget_initial_solution\u001b[0m:\u001b[36m118\u001b[0m - \u001b[1m(4, 0.599609375)\u001b[0m\n",
      "\u001b[32m2025-08-04 12:05:58.145\u001b[0m | \u001b[1mINFO    \u001b[0m | \u001b[36msrc.vrp_study.pdptw_model.solution_builder\u001b[0m:\u001b[36mget_initial_solution\u001b[0m:\u001b[36m118\u001b[0m - \u001b[1m(4, 0.3498046875)\u001b[0m\n",
      "\u001b[32m2025-08-04 12:05:58.146\u001b[0m | \u001b[1mINFO    \u001b[0m | \u001b[36msrc.vrp_study.pdptw_model.solution_builder\u001b[0m:\u001b[36mget_initial_solution\u001b[0m:\u001b[36m118\u001b[0m - \u001b[1m(4, 0.22490234375)\u001b[0m\n",
      "\u001b[32m2025-08-04 12:05:58.147\u001b[0m | \u001b[1mINFO    \u001b[0m | \u001b[36msrc.vrp_study.pdptw_model.solution_builder\u001b[0m:\u001b[36mget_initial_solution\u001b[0m:\u001b[36m118\u001b[0m - \u001b[1m(4, 0.16245117187500002)\u001b[0m\n"
     ]
    },
    {
     "data": {
      "application/vnd.jupyter.widget-view+json": {
       "model_id": "b4718faae5ab413d8309b1aaf62412f6",
       "version_major": 2,
       "version_minor": 0
      },
      "text/plain": [
       "  0%|          | 0/1 [00:00<?, ?it/s]"
      ]
     },
     "metadata": {},
     "output_type": "display_data"
    },
    {
     "name": "stderr",
     "output_type": "stream",
     "text": [
      "\u001b[32m2025-08-04 12:05:58.166\u001b[0m | \u001b[1mINFO    \u001b[0m | \u001b[36mvrp_study.pdptw_model.routing_model\u001b[0m:\u001b[36mfind_optimal_paths\u001b[0m:\u001b[36m443\u001b[0m - \u001b[1mproblem size: 9\u001b[0m\n",
      "\u001b[32m2025-08-04 12:05:58.167\u001b[0m | \u001b[1mINFO    \u001b[0m | \u001b[36mvrp_study.pdptw_model.routing_model\u001b[0m:\u001b[36mdo_solve\u001b[0m:\u001b[36m378\u001b[0m - \u001b[1mНачало создания модели\u001b[0m\n",
      "\u001b[32m2025-08-04 12:05:58.174\u001b[0m | \u001b[1mINFO    \u001b[0m | \u001b[36mvrp_study.pdptw_model.routing_model\u001b[0m:\u001b[36madd_distance_dimension\u001b[0m:\u001b[36m299\u001b[0m - \u001b[1mДобавление размерности для расстояния\u001b[0m\n",
      "\u001b[32m2025-08-04 12:05:58.175\u001b[0m | \u001b[1mINFO    \u001b[0m | \u001b[36mvrp_study.pdptw_model.routing_model\u001b[0m:\u001b[36madd_count_dimension\u001b[0m:\u001b[36m335\u001b[0m - \u001b[1mДобавление размерности для расстояния\u001b[0m\n",
      "\u001b[32m2025-08-04 12:05:58.177\u001b[0m | \u001b[1mINFO    \u001b[0m | \u001b[36mvrp_study.pdptw_model.routing_model\u001b[0m:\u001b[36madd_pick_up_and_delivery\u001b[0m:\u001b[36m269\u001b[0m - \u001b[1mДобавление ограничения для порядка доставки\u001b[0m\n",
      "\u001b[32m2025-08-04 12:05:58.178\u001b[0m | \u001b[1mINFO    \u001b[0m | \u001b[36mvrp_study.pdptw_model.routing_model\u001b[0m:\u001b[36madd_time_window\u001b[0m:\u001b[36m194\u001b[0m - \u001b[1madd time\u001b[0m\n",
      "\u001b[32m2025-08-04 12:05:58.179\u001b[0m | \u001b[1mINFO    \u001b[0m | \u001b[36mvrp_study.pdptw_model.routing_model\u001b[0m:\u001b[36madd_mass_constraint\u001b[0m:\u001b[36m177\u001b[0m - \u001b[1mДобавление ограничений для массы\u001b[0m\n",
      "\u001b[32m2025-08-04 12:05:58.210\u001b[0m | \u001b[1mINFO    \u001b[0m | \u001b[36mvrp_study.pdptw_model.routing_model\u001b[0m:\u001b[36mdo_solve\u001b[0m:\u001b[36m407\u001b[0m - \u001b[1mНачало решения\u001b[0m\n",
      "\u001b[32m2025-08-04 12:05:58.219\u001b[0m | \u001b[34m\u001b[1mDEBUG   \u001b[0m | \u001b[36mvrp_study.pdptw_model.routing_model\u001b[0m:\u001b[36m__call__\u001b[0m:\u001b[36m40\u001b[0m - \u001b[34m\u001b[1mtime: 0.016; new solution (1): 1; best solution: 1\u001b[0m\n",
      "\u001b[32m2025-08-04 12:05:58.232\u001b[0m | \u001b[1mINFO    \u001b[0m | \u001b[36mvrp_study.pdptw_model.routing_model\u001b[0m:\u001b[36mdo_solve\u001b[0m:\u001b[36m423\u001b[0m - \u001b[1mfind solution\u001b[0m\n",
      "\u001b[32m2025-08-04 12:05:58.233\u001b[0m | \u001b[1mINFO    \u001b[0m | \u001b[36mvrp_study.pdptw_model.routing_model\u001b[0m:\u001b[36mfind_optimal_paths\u001b[0m:\u001b[36m451\u001b[0m - \u001b[1mbest_score: 1\u001b[0m\n",
      "\u001b[32m2025-08-04 12:05:58.233\u001b[0m | \u001b[1mINFO    \u001b[0m | \u001b[36mvrp_study.pdptw_model.routing_model\u001b[0m:\u001b[36mdo_solve\u001b[0m:\u001b[36m378\u001b[0m - \u001b[1mНачало создания модели\u001b[0m\n",
      "\u001b[32m2025-08-04 12:05:58.236\u001b[0m | \u001b[1mINFO    \u001b[0m | \u001b[36mvrp_study.pdptw_model.routing_model\u001b[0m:\u001b[36madd_distance_dimension\u001b[0m:\u001b[36m299\u001b[0m - \u001b[1mДобавление размерности для расстояния\u001b[0m\n",
      "\u001b[32m2025-08-04 12:05:58.237\u001b[0m | \u001b[1mINFO    \u001b[0m | \u001b[36mvrp_study.pdptw_model.routing_model\u001b[0m:\u001b[36madd_count_dimension\u001b[0m:\u001b[36m335\u001b[0m - \u001b[1mДобавление размерности для расстояния\u001b[0m\n",
      "\u001b[32m2025-08-04 12:05:58.238\u001b[0m | \u001b[1mINFO    \u001b[0m | \u001b[36mvrp_study.pdptw_model.routing_model\u001b[0m:\u001b[36madd_pick_up_and_delivery\u001b[0m:\u001b[36m269\u001b[0m - \u001b[1mДобавление ограничения для порядка доставки\u001b[0m\n",
      "\u001b[32m2025-08-04 12:05:58.239\u001b[0m | \u001b[1mINFO    \u001b[0m | \u001b[36mvrp_study.pdptw_model.routing_model\u001b[0m:\u001b[36madd_vehicles_cost\u001b[0m:\u001b[36m243\u001b[0m - \u001b[1mДобавление стоимостей машин\u001b[0m\n",
      "\u001b[32m2025-08-04 12:05:58.240\u001b[0m | \u001b[1mINFO    \u001b[0m | \u001b[36mvrp_study.pdptw_model.routing_model\u001b[0m:\u001b[36madd_time_window\u001b[0m:\u001b[36m194\u001b[0m - \u001b[1madd time\u001b[0m\n",
      "\u001b[32m2025-08-04 12:05:58.240\u001b[0m | \u001b[1mINFO    \u001b[0m | \u001b[36mvrp_study.pdptw_model.routing_model\u001b[0m:\u001b[36madd_mass_constraint\u001b[0m:\u001b[36m177\u001b[0m - \u001b[1mДобавление ограничений для массы\u001b[0m\n",
      "\u001b[32m2025-08-04 12:05:58.242\u001b[0m | \u001b[1mINFO    \u001b[0m | \u001b[36mvrp_study.pdptw_model.routing_model\u001b[0m:\u001b[36mdo_solve\u001b[0m:\u001b[36m407\u001b[0m - \u001b[1mНачало решения\u001b[0m\n",
      "\u001b[32m2025-08-04 12:05:58.242\u001b[0m | \u001b[1mINFO    \u001b[0m | \u001b[36mvrp_study.pdptw_model.routing_model\u001b[0m:\u001b[36mdo_solve\u001b[0m:\u001b[36m410\u001b[0m - \u001b[1muse initial_solution: 1\u001b[0m\n",
      "\u001b[32m2025-08-04 12:05:58.243\u001b[0m | \u001b[34m\u001b[1mDEBUG   \u001b[0m | \u001b[36mvrp_study.pdptw_model.routing_model\u001b[0m:\u001b[36m__call__\u001b[0m:\u001b[36m40\u001b[0m - \u001b[34m\u001b[1mtime: 0.002; new solution (1): 22800; best solution: 22800\u001b[0m\n",
      "\u001b[32m2025-08-04 12:05:58.244\u001b[0m | \u001b[34m\u001b[1mDEBUG   \u001b[0m | \u001b[36mvrp_study.pdptw_model.routing_model\u001b[0m:\u001b[36m__call__\u001b[0m:\u001b[36m40\u001b[0m - \u001b[34m\u001b[1mtime: 0.003; new solution (2): 22800; best solution: 22800\u001b[0m\n",
      "\u001b[32m2025-08-04 12:05:58.249\u001b[0m | \u001b[1mINFO    \u001b[0m | \u001b[36mvrp_study.pdptw_model.routing_model\u001b[0m:\u001b[36mdo_solve\u001b[0m:\u001b[36m423\u001b[0m - \u001b[1mfind solution\u001b[0m\n",
      "\u001b[32m2025-08-04 12:05:58.250\u001b[0m | \u001b[1mINFO    \u001b[0m | \u001b[36mvrp_study.pdptw_model.routing_model\u001b[0m:\u001b[36mfind_optimal_paths\u001b[0m:\u001b[36m464\u001b[0m - \u001b[1mbest_score: 228.00\u001b[0m\n",
      "\u001b[32m2025-08-04 12:05:58.251\u001b[0m | \u001b[1mINFO    \u001b[0m | \u001b[36msrc.vrp_study.pdptw_model.solution_builder\u001b[0m:\u001b[36mget_initial_solution\u001b[0m:\u001b[36m138\u001b[0m - \u001b[1m[[0, 3, 5, 4, 7, 1, 8, 2, 6, 0], [], [], [], [], [], [], [], [], [], [], [], [], [], [], [], [], [], [], [], [], [], [], [], [], [], [], [], [], [], [], [], [], [], [], [], [], [], [], [], [], [], [], [], [], [], [], [], [], [], [], [], [], [], [], [], [], [], [], [], [], [], [], [], [], [], [], [], [], [], [], [], [], [], [], [], [], [], [], [], [], [], [], [], [], [], [], [], [], [], [], [], [], [], [], [], [], [], [], []]\u001b[0m\n",
      "\u001b[32m2025-08-04 12:05:58.254\u001b[0m | \u001b[1mINFO    \u001b[0m | \u001b[36msrc.vrp_study.pdptw_model.solution_builder\u001b[0m:\u001b[36mget_initial_solution\u001b[0m:\u001b[36m118\u001b[0m - \u001b[1m(1, 32.074999999999996)\u001b[0m\n",
      "\u001b[32m2025-08-04 12:05:58.256\u001b[0m | \u001b[1mINFO    \u001b[0m | \u001b[36msrc.vrp_study.pdptw_model.solution_builder\u001b[0m:\u001b[36mget_initial_solution\u001b[0m:\u001b[36m118\u001b[0m - \u001b[1m(1, 16.0875)\u001b[0m\n",
      "\u001b[32m2025-08-04 12:05:58.257\u001b[0m | \u001b[1mINFO    \u001b[0m | \u001b[36msrc.vrp_study.pdptw_model.solution_builder\u001b[0m:\u001b[36mget_initial_solution\u001b[0m:\u001b[36m118\u001b[0m - \u001b[1m(1, 8.09375)\u001b[0m\n",
      "\u001b[32m2025-08-04 12:05:58.258\u001b[0m | \u001b[1mINFO    \u001b[0m | \u001b[36msrc.vrp_study.pdptw_model.solution_builder\u001b[0m:\u001b[36mget_initial_solution\u001b[0m:\u001b[36m118\u001b[0m - \u001b[1m(1, 4.096875)\u001b[0m\n",
      "\u001b[32m2025-08-04 12:05:58.259\u001b[0m | \u001b[1mINFO    \u001b[0m | \u001b[36msrc.vrp_study.pdptw_model.solution_builder\u001b[0m:\u001b[36mget_initial_solution\u001b[0m:\u001b[36m118\u001b[0m - \u001b[1m(1, 2.0984374999999997)\u001b[0m\n",
      "\u001b[32m2025-08-04 12:05:58.259\u001b[0m | \u001b[1mINFO    \u001b[0m | \u001b[36msrc.vrp_study.pdptw_model.solution_builder\u001b[0m:\u001b[36mget_initial_solution\u001b[0m:\u001b[36m118\u001b[0m - \u001b[1m(2, 1.09921875)\u001b[0m\n",
      "\u001b[32m2025-08-04 12:05:58.261\u001b[0m | \u001b[1mINFO    \u001b[0m | \u001b[36msrc.vrp_study.pdptw_model.solution_builder\u001b[0m:\u001b[36mget_initial_solution\u001b[0m:\u001b[36m118\u001b[0m - \u001b[1m(4, 0.599609375)\u001b[0m\n",
      "\u001b[32m2025-08-04 12:05:58.261\u001b[0m | \u001b[1mINFO    \u001b[0m | \u001b[36msrc.vrp_study.pdptw_model.solution_builder\u001b[0m:\u001b[36mget_initial_solution\u001b[0m:\u001b[36m118\u001b[0m - \u001b[1m(6, 0.3498046875)\u001b[0m\n",
      "\u001b[32m2025-08-04 12:05:58.262\u001b[0m | \u001b[1mINFO    \u001b[0m | \u001b[36msrc.vrp_study.pdptw_model.solution_builder\u001b[0m:\u001b[36mget_initial_solution\u001b[0m:\u001b[36m118\u001b[0m - \u001b[1m(6, 0.22490234375)\u001b[0m\n",
      "\u001b[32m2025-08-04 12:05:58.263\u001b[0m | \u001b[1mINFO    \u001b[0m | \u001b[36msrc.vrp_study.pdptw_model.solution_builder\u001b[0m:\u001b[36mget_initial_solution\u001b[0m:\u001b[36m118\u001b[0m - \u001b[1m(6, 0.16245117187500002)\u001b[0m\n"
     ]
    },
    {
     "data": {
      "application/vnd.jupyter.widget-view+json": {
       "model_id": "a2e74e54feb04ea184d82766ca589a4e",
       "version_major": 2,
       "version_minor": 0
      },
      "text/plain": [
       "  0%|          | 0/1 [00:00<?, ?it/s]"
      ]
     },
     "metadata": {},
     "output_type": "display_data"
    },
    {
     "name": "stderr",
     "output_type": "stream",
     "text": [
      "\u001b[32m2025-08-04 12:05:58.274\u001b[0m | \u001b[1mINFO    \u001b[0m | \u001b[36mvrp_study.pdptw_model.routing_model\u001b[0m:\u001b[36mfind_optimal_paths\u001b[0m:\u001b[36m443\u001b[0m - \u001b[1mproblem size: 13\u001b[0m\n",
      "\u001b[32m2025-08-04 12:05:58.275\u001b[0m | \u001b[1mINFO    \u001b[0m | \u001b[36mvrp_study.pdptw_model.routing_model\u001b[0m:\u001b[36mdo_solve\u001b[0m:\u001b[36m378\u001b[0m - \u001b[1mНачало создания модели\u001b[0m\n",
      "\u001b[32m2025-08-04 12:05:58.278\u001b[0m | \u001b[1mINFO    \u001b[0m | \u001b[36mvrp_study.pdptw_model.routing_model\u001b[0m:\u001b[36madd_distance_dimension\u001b[0m:\u001b[36m299\u001b[0m - \u001b[1mДобавление размерности для расстояния\u001b[0m\n",
      "\u001b[32m2025-08-04 12:05:58.279\u001b[0m | \u001b[1mINFO    \u001b[0m | \u001b[36mvrp_study.pdptw_model.routing_model\u001b[0m:\u001b[36madd_count_dimension\u001b[0m:\u001b[36m335\u001b[0m - \u001b[1mДобавление размерности для расстояния\u001b[0m\n",
      "\u001b[32m2025-08-04 12:05:58.281\u001b[0m | \u001b[1mINFO    \u001b[0m | \u001b[36mvrp_study.pdptw_model.routing_model\u001b[0m:\u001b[36madd_pick_up_and_delivery\u001b[0m:\u001b[36m269\u001b[0m - \u001b[1mДобавление ограничения для порядка доставки\u001b[0m\n",
      "\u001b[32m2025-08-04 12:05:58.282\u001b[0m | \u001b[1mINFO    \u001b[0m | \u001b[36mvrp_study.pdptw_model.routing_model\u001b[0m:\u001b[36madd_time_window\u001b[0m:\u001b[36m194\u001b[0m - \u001b[1madd time\u001b[0m\n",
      "\u001b[32m2025-08-04 12:05:58.283\u001b[0m | \u001b[1mINFO    \u001b[0m | \u001b[36mvrp_study.pdptw_model.routing_model\u001b[0m:\u001b[36madd_mass_constraint\u001b[0m:\u001b[36m177\u001b[0m - \u001b[1mДобавление ограничений для массы\u001b[0m\n",
      "\u001b[32m2025-08-04 12:05:58.292\u001b[0m | \u001b[1mINFO    \u001b[0m | \u001b[36mvrp_study.pdptw_model.routing_model\u001b[0m:\u001b[36mdo_solve\u001b[0m:\u001b[36m407\u001b[0m - \u001b[1mНачало решения\u001b[0m\n",
      "\u001b[32m2025-08-04 12:05:58.305\u001b[0m | \u001b[34m\u001b[1mDEBUG   \u001b[0m | \u001b[36mvrp_study.pdptw_model.routing_model\u001b[0m:\u001b[36m__call__\u001b[0m:\u001b[36m40\u001b[0m - \u001b[34m\u001b[1mtime: 0.021; new solution (1): 1; best solution: 1\u001b[0m\n",
      "\u001b[32m2025-08-04 12:05:58.336\u001b[0m | \u001b[1mINFO    \u001b[0m | \u001b[36mvrp_study.pdptw_model.routing_model\u001b[0m:\u001b[36mdo_solve\u001b[0m:\u001b[36m423\u001b[0m - \u001b[1mfind solution\u001b[0m\n",
      "\u001b[32m2025-08-04 12:05:58.338\u001b[0m | \u001b[1mINFO    \u001b[0m | \u001b[36mvrp_study.pdptw_model.routing_model\u001b[0m:\u001b[36mfind_optimal_paths\u001b[0m:\u001b[36m451\u001b[0m - \u001b[1mbest_score: 1\u001b[0m\n",
      "\u001b[32m2025-08-04 12:05:58.338\u001b[0m | \u001b[1mINFO    \u001b[0m | \u001b[36mvrp_study.pdptw_model.routing_model\u001b[0m:\u001b[36mdo_solve\u001b[0m:\u001b[36m378\u001b[0m - \u001b[1mНачало создания модели\u001b[0m\n",
      "\u001b[32m2025-08-04 12:05:58.340\u001b[0m | \u001b[1mINFO    \u001b[0m | \u001b[36mvrp_study.pdptw_model.routing_model\u001b[0m:\u001b[36madd_distance_dimension\u001b[0m:\u001b[36m299\u001b[0m - \u001b[1mДобавление размерности для расстояния\u001b[0m\n",
      "\u001b[32m2025-08-04 12:05:58.341\u001b[0m | \u001b[1mINFO    \u001b[0m | \u001b[36mvrp_study.pdptw_model.routing_model\u001b[0m:\u001b[36madd_count_dimension\u001b[0m:\u001b[36m335\u001b[0m - \u001b[1mДобавление размерности для расстояния\u001b[0m\n",
      "\u001b[32m2025-08-04 12:05:58.341\u001b[0m | \u001b[1mINFO    \u001b[0m | \u001b[36mvrp_study.pdptw_model.routing_model\u001b[0m:\u001b[36madd_pick_up_and_delivery\u001b[0m:\u001b[36m269\u001b[0m - \u001b[1mДобавление ограничения для порядка доставки\u001b[0m\n",
      "\u001b[32m2025-08-04 12:05:58.342\u001b[0m | \u001b[1mINFO    \u001b[0m | \u001b[36mvrp_study.pdptw_model.routing_model\u001b[0m:\u001b[36madd_vehicles_cost\u001b[0m:\u001b[36m243\u001b[0m - \u001b[1mДобавление стоимостей машин\u001b[0m\n",
      "\u001b[32m2025-08-04 12:05:58.342\u001b[0m | \u001b[1mINFO    \u001b[0m | \u001b[36mvrp_study.pdptw_model.routing_model\u001b[0m:\u001b[36madd_time_window\u001b[0m:\u001b[36m194\u001b[0m - \u001b[1madd time\u001b[0m\n",
      "\u001b[32m2025-08-04 12:05:58.343\u001b[0m | \u001b[1mINFO    \u001b[0m | \u001b[36mvrp_study.pdptw_model.routing_model\u001b[0m:\u001b[36madd_mass_constraint\u001b[0m:\u001b[36m177\u001b[0m - \u001b[1mДобавление ограничений для массы\u001b[0m\n",
      "\u001b[32m2025-08-04 12:05:58.345\u001b[0m | \u001b[1mINFO    \u001b[0m | \u001b[36mvrp_study.pdptw_model.routing_model\u001b[0m:\u001b[36mdo_solve\u001b[0m:\u001b[36m407\u001b[0m - \u001b[1mНачало решения\u001b[0m\n",
      "\u001b[32m2025-08-04 12:05:58.346\u001b[0m | \u001b[1mINFO    \u001b[0m | \u001b[36mvrp_study.pdptw_model.routing_model\u001b[0m:\u001b[36mdo_solve\u001b[0m:\u001b[36m410\u001b[0m - \u001b[1muse initial_solution: 1\u001b[0m\n",
      "\u001b[32m2025-08-04 12:05:58.347\u001b[0m | \u001b[34m\u001b[1mDEBUG   \u001b[0m | \u001b[36mvrp_study.pdptw_model.routing_model\u001b[0m:\u001b[36m__call__\u001b[0m:\u001b[36m40\u001b[0m - \u001b[34m\u001b[1mtime: 0.003; new solution (1): 20114; best solution: 20114\u001b[0m\n",
      "\u001b[32m2025-08-04 12:05:58.348\u001b[0m | \u001b[34m\u001b[1mDEBUG   \u001b[0m | \u001b[36mvrp_study.pdptw_model.routing_model\u001b[0m:\u001b[36m__call__\u001b[0m:\u001b[36m40\u001b[0m - \u001b[34m\u001b[1mtime: 0.004; new solution (2): 20114; best solution: 20114\u001b[0m\n",
      "\u001b[32m2025-08-04 12:05:58.349\u001b[0m | \u001b[34m\u001b[1mDEBUG   \u001b[0m | \u001b[36mvrp_study.pdptw_model.routing_model\u001b[0m:\u001b[36m__call__\u001b[0m:\u001b[36m40\u001b[0m - \u001b[34m\u001b[1mtime: 0.005; new solution (3): 19668; best solution: 19668\u001b[0m\n",
      "\u001b[32m2025-08-04 12:05:58.362\u001b[0m | \u001b[1mINFO    \u001b[0m | \u001b[36mvrp_study.pdptw_model.routing_model\u001b[0m:\u001b[36mdo_solve\u001b[0m:\u001b[36m423\u001b[0m - \u001b[1mfind solution\u001b[0m\n",
      "\u001b[32m2025-08-04 12:05:58.363\u001b[0m | \u001b[1mINFO    \u001b[0m | \u001b[36mvrp_study.pdptw_model.routing_model\u001b[0m:\u001b[36mfind_optimal_paths\u001b[0m:\u001b[36m464\u001b[0m - \u001b[1mbest_score: 196.68\u001b[0m\n",
      "\u001b[32m2025-08-04 12:05:58.365\u001b[0m | \u001b[1mINFO    \u001b[0m | \u001b[36msrc.vrp_study.pdptw_model.solution_builder\u001b[0m:\u001b[36mget_initial_solution\u001b[0m:\u001b[36m138\u001b[0m - \u001b[1m[[0, 9, 1, 11, 12, 2, 7, 8, 5, 10, 3, 4, 6, 0], [], [], [], [], [], [], [], [], [], [], [], [], [], [], [], [], [], [], [], [], [], [], [], [], [], [], [], [], [], [], [], [], [], [], [], [], [], [], [], [], [], [], [], [], [], [], [], [], [], [], [], [], [], [], [], [], [], [], [], [], [], [], [], [], [], [], [], [], [], [], [], [], [], [], [], [], [], [], [], [], [], [], [], [], [], [], [], [], [], [], [], [], [], [], [], [], [], []]\u001b[0m\n"
     ]
    },
    {
     "data": {
      "application/vnd.jupyter.widget-view+json": {
       "model_id": "46aa9d7dd75e4d1c9548b794db6826a5",
       "version_major": 2,
       "version_minor": 0
      },
      "text/plain": [
       "  0%|          | 0/1 [00:00<?, ?it/s]"
      ]
     },
     "metadata": {},
     "output_type": "display_data"
    },
    {
     "name": "stderr",
     "output_type": "stream",
     "text": [
      "\u001b[32m2025-08-04 12:05:58.371\u001b[0m | \u001b[1mINFO    \u001b[0m | \u001b[36mvrp_study.pdptw_model.routing_model\u001b[0m:\u001b[36mfind_optimal_paths\u001b[0m:\u001b[36m443\u001b[0m - \u001b[1mproblem size: 3\u001b[0m\n",
      "\u001b[32m2025-08-04 12:05:58.371\u001b[0m | \u001b[1mINFO    \u001b[0m | \u001b[36mvrp_study.pdptw_model.routing_model\u001b[0m:\u001b[36mdo_solve\u001b[0m:\u001b[36m378\u001b[0m - \u001b[1mНачало создания модели\u001b[0m\n",
      "\u001b[32m2025-08-04 12:05:58.373\u001b[0m | \u001b[1mINFO    \u001b[0m | \u001b[36mvrp_study.pdptw_model.routing_model\u001b[0m:\u001b[36madd_distance_dimension\u001b[0m:\u001b[36m299\u001b[0m - \u001b[1mДобавление размерности для расстояния\u001b[0m\n",
      "\u001b[32m2025-08-04 12:05:58.374\u001b[0m | \u001b[1mINFO    \u001b[0m | \u001b[36mvrp_study.pdptw_model.routing_model\u001b[0m:\u001b[36madd_count_dimension\u001b[0m:\u001b[36m335\u001b[0m - \u001b[1mДобавление размерности для расстояния\u001b[0m\n",
      "\u001b[32m2025-08-04 12:05:58.375\u001b[0m | \u001b[1mINFO    \u001b[0m | \u001b[36mvrp_study.pdptw_model.routing_model\u001b[0m:\u001b[36madd_pick_up_and_delivery\u001b[0m:\u001b[36m269\u001b[0m - \u001b[1mДобавление ограничения для порядка доставки\u001b[0m\n",
      "\u001b[32m2025-08-04 12:05:58.376\u001b[0m | \u001b[1mINFO    \u001b[0m | \u001b[36mvrp_study.pdptw_model.routing_model\u001b[0m:\u001b[36madd_time_window\u001b[0m:\u001b[36m194\u001b[0m - \u001b[1madd time\u001b[0m\n",
      "\u001b[32m2025-08-04 12:05:58.378\u001b[0m | \u001b[1mINFO    \u001b[0m | \u001b[36mvrp_study.pdptw_model.routing_model\u001b[0m:\u001b[36madd_mass_constraint\u001b[0m:\u001b[36m177\u001b[0m - \u001b[1mДобавление ограничений для массы\u001b[0m\n",
      "\u001b[32m2025-08-04 12:05:58.385\u001b[0m | \u001b[1mINFO    \u001b[0m | \u001b[36mvrp_study.pdptw_model.routing_model\u001b[0m:\u001b[36mdo_solve\u001b[0m:\u001b[36m407\u001b[0m - \u001b[1mНачало решения\u001b[0m\n",
      "\u001b[32m2025-08-04 12:05:58.391\u001b[0m | \u001b[34m\u001b[1mDEBUG   \u001b[0m | \u001b[36mvrp_study.pdptw_model.routing_model\u001b[0m:\u001b[36m__call__\u001b[0m:\u001b[36m40\u001b[0m - \u001b[34m\u001b[1mtime: 0.011; new solution (1): 1; best solution: 1\u001b[0m\n",
      "\u001b[32m2025-08-04 12:05:58.396\u001b[0m | \u001b[1mINFO    \u001b[0m | \u001b[36mvrp_study.pdptw_model.routing_model\u001b[0m:\u001b[36mdo_solve\u001b[0m:\u001b[36m423\u001b[0m - \u001b[1mfind solution\u001b[0m\n",
      "\u001b[32m2025-08-04 12:05:58.397\u001b[0m | \u001b[1mINFO    \u001b[0m | \u001b[36mvrp_study.pdptw_model.routing_model\u001b[0m:\u001b[36mfind_optimal_paths\u001b[0m:\u001b[36m451\u001b[0m - \u001b[1mbest_score: 1\u001b[0m\n",
      "\u001b[32m2025-08-04 12:05:58.398\u001b[0m | \u001b[1mINFO    \u001b[0m | \u001b[36mvrp_study.pdptw_model.routing_model\u001b[0m:\u001b[36mdo_solve\u001b[0m:\u001b[36m378\u001b[0m - \u001b[1mНачало создания модели\u001b[0m\n",
      "\u001b[32m2025-08-04 12:05:58.400\u001b[0m | \u001b[1mINFO    \u001b[0m | \u001b[36mvrp_study.pdptw_model.routing_model\u001b[0m:\u001b[36madd_distance_dimension\u001b[0m:\u001b[36m299\u001b[0m - \u001b[1mДобавление размерности для расстояния\u001b[0m\n",
      "\u001b[32m2025-08-04 12:05:58.401\u001b[0m | \u001b[1mINFO    \u001b[0m | \u001b[36mvrp_study.pdptw_model.routing_model\u001b[0m:\u001b[36madd_count_dimension\u001b[0m:\u001b[36m335\u001b[0m - \u001b[1mДобавление размерности для расстояния\u001b[0m\n",
      "\u001b[32m2025-08-04 12:05:58.401\u001b[0m | \u001b[1mINFO    \u001b[0m | \u001b[36mvrp_study.pdptw_model.routing_model\u001b[0m:\u001b[36madd_pick_up_and_delivery\u001b[0m:\u001b[36m269\u001b[0m - \u001b[1mДобавление ограничения для порядка доставки\u001b[0m\n",
      "\u001b[32m2025-08-04 12:05:58.402\u001b[0m | \u001b[1mINFO    \u001b[0m | \u001b[36mvrp_study.pdptw_model.routing_model\u001b[0m:\u001b[36madd_vehicles_cost\u001b[0m:\u001b[36m243\u001b[0m - \u001b[1mДобавление стоимостей машин\u001b[0m\n",
      "\u001b[32m2025-08-04 12:05:58.403\u001b[0m | \u001b[1mINFO    \u001b[0m | \u001b[36mvrp_study.pdptw_model.routing_model\u001b[0m:\u001b[36madd_time_window\u001b[0m:\u001b[36m194\u001b[0m - \u001b[1madd time\u001b[0m\n",
      "\u001b[32m2025-08-04 12:05:58.403\u001b[0m | \u001b[1mINFO    \u001b[0m | \u001b[36mvrp_study.pdptw_model.routing_model\u001b[0m:\u001b[36madd_mass_constraint\u001b[0m:\u001b[36m177\u001b[0m - \u001b[1mДобавление ограничений для массы\u001b[0m\n",
      "\u001b[32m2025-08-04 12:05:58.404\u001b[0m | \u001b[1mINFO    \u001b[0m | \u001b[36mvrp_study.pdptw_model.routing_model\u001b[0m:\u001b[36mdo_solve\u001b[0m:\u001b[36m407\u001b[0m - \u001b[1mНачало решения\u001b[0m\n",
      "\u001b[32m2025-08-04 12:05:58.404\u001b[0m | \u001b[1mINFO    \u001b[0m | \u001b[36mvrp_study.pdptw_model.routing_model\u001b[0m:\u001b[36mdo_solve\u001b[0m:\u001b[36m410\u001b[0m - \u001b[1muse initial_solution: 1\u001b[0m\n",
      "\u001b[32m2025-08-04 12:05:58.405\u001b[0m | \u001b[34m\u001b[1mDEBUG   \u001b[0m | \u001b[36mvrp_study.pdptw_model.routing_model\u001b[0m:\u001b[36m__call__\u001b[0m:\u001b[36m40\u001b[0m - \u001b[34m\u001b[1mtime: 0.002; new solution (1): 4752; best solution: 4752\u001b[0m\n",
      "\u001b[32m2025-08-04 12:05:58.406\u001b[0m | \u001b[34m\u001b[1mDEBUG   \u001b[0m | \u001b[36mvrp_study.pdptw_model.routing_model\u001b[0m:\u001b[36m__call__\u001b[0m:\u001b[36m40\u001b[0m - \u001b[34m\u001b[1mtime: 0.003; new solution (2): 4752; best solution: 4752\u001b[0m\n",
      "\u001b[32m2025-08-04 12:05:58.408\u001b[0m | \u001b[1mINFO    \u001b[0m | \u001b[36mvrp_study.pdptw_model.routing_model\u001b[0m:\u001b[36mdo_solve\u001b[0m:\u001b[36m423\u001b[0m - \u001b[1mfind solution\u001b[0m\n",
      "\u001b[32m2025-08-04 12:05:58.409\u001b[0m | \u001b[1mINFO    \u001b[0m | \u001b[36mvrp_study.pdptw_model.routing_model\u001b[0m:\u001b[36mfind_optimal_paths\u001b[0m:\u001b[36m464\u001b[0m - \u001b[1mbest_score: 47.52\u001b[0m\n",
      "\u001b[32m2025-08-04 12:05:58.411\u001b[0m | \u001b[1mINFO    \u001b[0m | \u001b[36msrc.vrp_study.pdptw_model.solution_builder\u001b[0m:\u001b[36mget_initial_solution\u001b[0m:\u001b[36m138\u001b[0m - \u001b[1m[[0, 1, 2, 0], [], [], [], [], [], [], [], [], [], [], [], [], [], [], [], [], [], [], [], [], [], [], [], [], [], [], [], [], [], [], [], [], [], [], [], [], [], [], [], [], [], [], [], [], [], [], [], [], [], [], [], [], [], [], [], [], [], [], [], [], [], [], [], [], [], [], [], [], [], [], [], [], [], [], [], [], [], [], [], [], [], [], [], [], [], [], [], [], [], [], [], [], [], [], [], [], []]\u001b[0m\n",
      "\u001b[32m2025-08-04 12:05:58.412\u001b[0m | \u001b[1mINFO    \u001b[0m | \u001b[36msrc.vrp_study.pdptw_model.solution_builder\u001b[0m:\u001b[36mget_initial_solution\u001b[0m:\u001b[36m118\u001b[0m - \u001b[1m(1, 32.074999999999996)\u001b[0m\n",
      "\u001b[32m2025-08-04 12:05:58.414\u001b[0m | \u001b[1mINFO    \u001b[0m | \u001b[36msrc.vrp_study.pdptw_model.solution_builder\u001b[0m:\u001b[36mget_initial_solution\u001b[0m:\u001b[36m118\u001b[0m - \u001b[1m(1, 16.0875)\u001b[0m\n",
      "\u001b[32m2025-08-04 12:05:58.414\u001b[0m | \u001b[1mINFO    \u001b[0m | \u001b[36msrc.vrp_study.pdptw_model.solution_builder\u001b[0m:\u001b[36mget_initial_solution\u001b[0m:\u001b[36m118\u001b[0m - \u001b[1m(1, 8.09375)\u001b[0m\n",
      "\u001b[32m2025-08-04 12:05:58.415\u001b[0m | \u001b[1mINFO    \u001b[0m | \u001b[36msrc.vrp_study.pdptw_model.solution_builder\u001b[0m:\u001b[36mget_initial_solution\u001b[0m:\u001b[36m118\u001b[0m - \u001b[1m(1, 4.096875)\u001b[0m\n",
      "\u001b[32m2025-08-04 12:05:58.416\u001b[0m | \u001b[1mINFO    \u001b[0m | \u001b[36msrc.vrp_study.pdptw_model.solution_builder\u001b[0m:\u001b[36mget_initial_solution\u001b[0m:\u001b[36m118\u001b[0m - \u001b[1m(1, 2.0984374999999997)\u001b[0m\n",
      "\u001b[32m2025-08-04 12:05:58.416\u001b[0m | \u001b[1mINFO    \u001b[0m | \u001b[36msrc.vrp_study.pdptw_model.solution_builder\u001b[0m:\u001b[36mget_initial_solution\u001b[0m:\u001b[36m118\u001b[0m - \u001b[1m(2, 1.09921875)\u001b[0m\n",
      "\u001b[32m2025-08-04 12:05:58.417\u001b[0m | \u001b[1mINFO    \u001b[0m | \u001b[36msrc.vrp_study.pdptw_model.solution_builder\u001b[0m:\u001b[36mget_initial_solution\u001b[0m:\u001b[36m118\u001b[0m - \u001b[1m(5, 0.599609375)\u001b[0m\n",
      "\u001b[32m2025-08-04 12:05:58.418\u001b[0m | \u001b[1mINFO    \u001b[0m | \u001b[36msrc.vrp_study.pdptw_model.solution_builder\u001b[0m:\u001b[36mget_initial_solution\u001b[0m:\u001b[36m118\u001b[0m - \u001b[1m(6, 0.3498046875)\u001b[0m\n",
      "\u001b[32m2025-08-04 12:05:58.419\u001b[0m | \u001b[1mINFO    \u001b[0m | \u001b[36msrc.vrp_study.pdptw_model.solution_builder\u001b[0m:\u001b[36mget_initial_solution\u001b[0m:\u001b[36m118\u001b[0m - \u001b[1m(6, 0.22490234375)\u001b[0m\n",
      "\u001b[32m2025-08-04 12:05:58.420\u001b[0m | \u001b[1mINFO    \u001b[0m | \u001b[36msrc.vrp_study.pdptw_model.solution_builder\u001b[0m:\u001b[36mget_initial_solution\u001b[0m:\u001b[36m118\u001b[0m - \u001b[1m(6, 0.16245117187500002)\u001b[0m\n"
     ]
    },
    {
     "data": {
      "application/vnd.jupyter.widget-view+json": {
       "model_id": "3dad865d021f4eddb7d32d8231824a5f",
       "version_major": 2,
       "version_minor": 0
      },
      "text/plain": [
       "  0%|          | 0/2 [00:00<?, ?it/s]"
      ]
     },
     "metadata": {},
     "output_type": "display_data"
    },
    {
     "name": "stderr",
     "output_type": "stream",
     "text": [
      "\u001b[32m2025-08-04 12:05:58.426\u001b[0m | \u001b[1mINFO    \u001b[0m | \u001b[36mvrp_study.pdptw_model.routing_model\u001b[0m:\u001b[36mfind_optimal_paths\u001b[0m:\u001b[36m443\u001b[0m - \u001b[1mproblem size: 13\u001b[0m\n",
      "\u001b[32m2025-08-04 12:05:58.427\u001b[0m | \u001b[1mINFO    \u001b[0m | \u001b[36mvrp_study.pdptw_model.routing_model\u001b[0m:\u001b[36mdo_solve\u001b[0m:\u001b[36m378\u001b[0m - \u001b[1mНачало создания модели\u001b[0m\n",
      "\u001b[32m2025-08-04 12:05:58.430\u001b[0m | \u001b[1mINFO    \u001b[0m | \u001b[36mvrp_study.pdptw_model.routing_model\u001b[0m:\u001b[36madd_distance_dimension\u001b[0m:\u001b[36m299\u001b[0m - \u001b[1mДобавление размерности для расстояния\u001b[0m\n",
      "\u001b[32m2025-08-04 12:05:58.431\u001b[0m | \u001b[1mINFO    \u001b[0m | \u001b[36mvrp_study.pdptw_model.routing_model\u001b[0m:\u001b[36madd_count_dimension\u001b[0m:\u001b[36m335\u001b[0m - \u001b[1mДобавление размерности для расстояния\u001b[0m\n",
      "\u001b[32m2025-08-04 12:05:58.433\u001b[0m | \u001b[1mINFO    \u001b[0m | \u001b[36mvrp_study.pdptw_model.routing_model\u001b[0m:\u001b[36madd_pick_up_and_delivery\u001b[0m:\u001b[36m269\u001b[0m - \u001b[1mДобавление ограничения для порядка доставки\u001b[0m\n",
      "\u001b[32m2025-08-04 12:05:58.434\u001b[0m | \u001b[1mINFO    \u001b[0m | \u001b[36mvrp_study.pdptw_model.routing_model\u001b[0m:\u001b[36madd_time_window\u001b[0m:\u001b[36m194\u001b[0m - \u001b[1madd time\u001b[0m\n",
      "\u001b[32m2025-08-04 12:05:58.435\u001b[0m | \u001b[1mINFO    \u001b[0m | \u001b[36mvrp_study.pdptw_model.routing_model\u001b[0m:\u001b[36madd_mass_constraint\u001b[0m:\u001b[36m177\u001b[0m - \u001b[1mДобавление ограничений для массы\u001b[0m\n",
      "\u001b[32m2025-08-04 12:05:58.446\u001b[0m | \u001b[1mINFO    \u001b[0m | \u001b[36mvrp_study.pdptw_model.routing_model\u001b[0m:\u001b[36mdo_solve\u001b[0m:\u001b[36m407\u001b[0m - \u001b[1mНачало решения\u001b[0m\n",
      "\u001b[32m2025-08-04 12:05:58.453\u001b[0m | \u001b[34m\u001b[1mDEBUG   \u001b[0m | \u001b[36mvrp_study.pdptw_model.routing_model\u001b[0m:\u001b[36m__call__\u001b[0m:\u001b[36m40\u001b[0m - \u001b[34m\u001b[1mtime: 0.017; new solution (1): 1; best solution: 1\u001b[0m\n",
      "\u001b[32m2025-08-04 12:05:58.483\u001b[0m | \u001b[1mINFO    \u001b[0m | \u001b[36mvrp_study.pdptw_model.routing_model\u001b[0m:\u001b[36mdo_solve\u001b[0m:\u001b[36m423\u001b[0m - \u001b[1mfind solution\u001b[0m\n",
      "\u001b[32m2025-08-04 12:05:58.484\u001b[0m | \u001b[1mINFO    \u001b[0m | \u001b[36mvrp_study.pdptw_model.routing_model\u001b[0m:\u001b[36mfind_optimal_paths\u001b[0m:\u001b[36m451\u001b[0m - \u001b[1mbest_score: 1\u001b[0m\n",
      "\u001b[32m2025-08-04 12:05:58.486\u001b[0m | \u001b[1mINFO    \u001b[0m | \u001b[36mvrp_study.pdptw_model.routing_model\u001b[0m:\u001b[36mdo_solve\u001b[0m:\u001b[36m378\u001b[0m - \u001b[1mНачало создания модели\u001b[0m\n",
      "\u001b[32m2025-08-04 12:05:58.487\u001b[0m | \u001b[1mINFO    \u001b[0m | \u001b[36mvrp_study.pdptw_model.routing_model\u001b[0m:\u001b[36madd_distance_dimension\u001b[0m:\u001b[36m299\u001b[0m - \u001b[1mДобавление размерности для расстояния\u001b[0m\n",
      "\u001b[32m2025-08-04 12:05:58.488\u001b[0m | \u001b[1mINFO    \u001b[0m | \u001b[36mvrp_study.pdptw_model.routing_model\u001b[0m:\u001b[36madd_count_dimension\u001b[0m:\u001b[36m335\u001b[0m - \u001b[1mДобавление размерности для расстояния\u001b[0m\n",
      "\u001b[32m2025-08-04 12:05:58.489\u001b[0m | \u001b[1mINFO    \u001b[0m | \u001b[36mvrp_study.pdptw_model.routing_model\u001b[0m:\u001b[36madd_pick_up_and_delivery\u001b[0m:\u001b[36m269\u001b[0m - \u001b[1mДобавление ограничения для порядка доставки\u001b[0m\n",
      "\u001b[32m2025-08-04 12:05:58.490\u001b[0m | \u001b[1mINFO    \u001b[0m | \u001b[36mvrp_study.pdptw_model.routing_model\u001b[0m:\u001b[36madd_vehicles_cost\u001b[0m:\u001b[36m243\u001b[0m - \u001b[1mДобавление стоимостей машин\u001b[0m\n",
      "\u001b[32m2025-08-04 12:05:58.491\u001b[0m | \u001b[1mINFO    \u001b[0m | \u001b[36mvrp_study.pdptw_model.routing_model\u001b[0m:\u001b[36madd_time_window\u001b[0m:\u001b[36m194\u001b[0m - \u001b[1madd time\u001b[0m\n",
      "\u001b[32m2025-08-04 12:05:58.492\u001b[0m | \u001b[1mINFO    \u001b[0m | \u001b[36mvrp_study.pdptw_model.routing_model\u001b[0m:\u001b[36madd_mass_constraint\u001b[0m:\u001b[36m177\u001b[0m - \u001b[1mДобавление ограничений для массы\u001b[0m\n",
      "\u001b[32m2025-08-04 12:05:58.494\u001b[0m | \u001b[1mINFO    \u001b[0m | \u001b[36mvrp_study.pdptw_model.routing_model\u001b[0m:\u001b[36mdo_solve\u001b[0m:\u001b[36m407\u001b[0m - \u001b[1mНачало решения\u001b[0m\n",
      "\u001b[32m2025-08-04 12:05:58.495\u001b[0m | \u001b[1mINFO    \u001b[0m | \u001b[36mvrp_study.pdptw_model.routing_model\u001b[0m:\u001b[36mdo_solve\u001b[0m:\u001b[36m410\u001b[0m - \u001b[1muse initial_solution: 1\u001b[0m\n",
      "\u001b[32m2025-08-04 12:05:58.497\u001b[0m | \u001b[34m\u001b[1mDEBUG   \u001b[0m | \u001b[36mvrp_study.pdptw_model.routing_model\u001b[0m:\u001b[36m__call__\u001b[0m:\u001b[36m40\u001b[0m - \u001b[34m\u001b[1mtime: 0.003; new solution (1): 22888; best solution: 22888\u001b[0m\n",
      "\u001b[32m2025-08-04 12:05:58.498\u001b[0m | \u001b[34m\u001b[1mDEBUG   \u001b[0m | \u001b[36mvrp_study.pdptw_model.routing_model\u001b[0m:\u001b[36m__call__\u001b[0m:\u001b[36m40\u001b[0m - \u001b[34m\u001b[1mtime: 0.005; new solution (2): 22888; best solution: 22888\u001b[0m\n",
      "\u001b[32m2025-08-04 12:05:58.511\u001b[0m | \u001b[1mINFO    \u001b[0m | \u001b[36mvrp_study.pdptw_model.routing_model\u001b[0m:\u001b[36mdo_solve\u001b[0m:\u001b[36m423\u001b[0m - \u001b[1mfind solution\u001b[0m\n",
      "\u001b[32m2025-08-04 12:05:58.512\u001b[0m | \u001b[1mINFO    \u001b[0m | \u001b[36mvrp_study.pdptw_model.routing_model\u001b[0m:\u001b[36mfind_optimal_paths\u001b[0m:\u001b[36m464\u001b[0m - \u001b[1mbest_score: 228.88\u001b[0m\n",
      "\u001b[32m2025-08-04 12:05:58.513\u001b[0m | \u001b[1mINFO    \u001b[0m | \u001b[36msrc.vrp_study.pdptw_model.solution_builder\u001b[0m:\u001b[36mget_initial_solution\u001b[0m:\u001b[36m138\u001b[0m - \u001b[1m[[0, 7, 9, 10, 11, 1, 12, 3, 4, 8, 5, 6, 2, 0], [], [], [], [], [], [], [], [], [], [], [], [], [], [], [], [], [], [], [], [], [], [], [], [], [], [], [], [], [], [], [], [], [], [], [], [], [], [], [], [], [], [], [], [], [], [], [], [], [], [], [], [], [], [], [], [], [], [], [], [], [], [], [], [], [], [], [], [], [], [], [], [], [], [], [], [], [], [], [], [], [], [], [], [], [], [], [], [], [], [], [], [], [], [], [], []]\u001b[0m\n",
      "\u001b[32m2025-08-04 12:05:58.514\u001b[0m | \u001b[1mINFO    \u001b[0m | \u001b[36mvrp_study.pdptw_model.routing_model\u001b[0m:\u001b[36mfind_optimal_paths\u001b[0m:\u001b[36m443\u001b[0m - \u001b[1mproblem size: 9\u001b[0m\n",
      "\u001b[32m2025-08-04 12:05:58.515\u001b[0m | \u001b[1mINFO    \u001b[0m | \u001b[36mvrp_study.pdptw_model.routing_model\u001b[0m:\u001b[36mdo_solve\u001b[0m:\u001b[36m378\u001b[0m - \u001b[1mНачало создания модели\u001b[0m\n",
      "\u001b[32m2025-08-04 12:05:58.516\u001b[0m | \u001b[1mINFO    \u001b[0m | \u001b[36mvrp_study.pdptw_model.routing_model\u001b[0m:\u001b[36madd_distance_dimension\u001b[0m:\u001b[36m299\u001b[0m - \u001b[1mДобавление размерности для расстояния\u001b[0m\n",
      "\u001b[32m2025-08-04 12:05:58.518\u001b[0m | \u001b[1mINFO    \u001b[0m | \u001b[36mvrp_study.pdptw_model.routing_model\u001b[0m:\u001b[36madd_count_dimension\u001b[0m:\u001b[36m335\u001b[0m - \u001b[1mДобавление размерности для расстояния\u001b[0m\n",
      "\u001b[32m2025-08-04 12:05:58.518\u001b[0m | \u001b[1mINFO    \u001b[0m | \u001b[36mvrp_study.pdptw_model.routing_model\u001b[0m:\u001b[36madd_pick_up_and_delivery\u001b[0m:\u001b[36m269\u001b[0m - \u001b[1mДобавление ограничения для порядка доставки\u001b[0m\n",
      "\u001b[32m2025-08-04 12:05:58.519\u001b[0m | \u001b[1mINFO    \u001b[0m | \u001b[36mvrp_study.pdptw_model.routing_model\u001b[0m:\u001b[36madd_time_window\u001b[0m:\u001b[36m194\u001b[0m - \u001b[1madd time\u001b[0m\n",
      "\u001b[32m2025-08-04 12:05:58.521\u001b[0m | \u001b[1mINFO    \u001b[0m | \u001b[36mvrp_study.pdptw_model.routing_model\u001b[0m:\u001b[36madd_mass_constraint\u001b[0m:\u001b[36m177\u001b[0m - \u001b[1mДобавление ограничений для массы\u001b[0m\n",
      "\u001b[32m2025-08-04 12:05:58.529\u001b[0m | \u001b[1mINFO    \u001b[0m | \u001b[36mvrp_study.pdptw_model.routing_model\u001b[0m:\u001b[36mdo_solve\u001b[0m:\u001b[36m407\u001b[0m - \u001b[1mНачало решения\u001b[0m\n",
      "\u001b[32m2025-08-04 12:05:58.541\u001b[0m | \u001b[34m\u001b[1mDEBUG   \u001b[0m | \u001b[36mvrp_study.pdptw_model.routing_model\u001b[0m:\u001b[36m__call__\u001b[0m:\u001b[36m40\u001b[0m - \u001b[34m\u001b[1mtime: 0.020; new solution (1): 1; best solution: 1\u001b[0m\n",
      "\u001b[32m2025-08-04 12:05:58.560\u001b[0m | \u001b[1mINFO    \u001b[0m | \u001b[36mvrp_study.pdptw_model.routing_model\u001b[0m:\u001b[36mdo_solve\u001b[0m:\u001b[36m423\u001b[0m - \u001b[1mfind solution\u001b[0m\n",
      "\u001b[32m2025-08-04 12:05:58.561\u001b[0m | \u001b[1mINFO    \u001b[0m | \u001b[36mvrp_study.pdptw_model.routing_model\u001b[0m:\u001b[36mfind_optimal_paths\u001b[0m:\u001b[36m451\u001b[0m - \u001b[1mbest_score: 1\u001b[0m\n",
      "\u001b[32m2025-08-04 12:05:58.562\u001b[0m | \u001b[1mINFO    \u001b[0m | \u001b[36mvrp_study.pdptw_model.routing_model\u001b[0m:\u001b[36mdo_solve\u001b[0m:\u001b[36m378\u001b[0m - \u001b[1mНачало создания модели\u001b[0m\n",
      "\u001b[32m2025-08-04 12:05:58.564\u001b[0m | \u001b[1mINFO    \u001b[0m | \u001b[36mvrp_study.pdptw_model.routing_model\u001b[0m:\u001b[36madd_distance_dimension\u001b[0m:\u001b[36m299\u001b[0m - \u001b[1mДобавление размерности для расстояния\u001b[0m\n",
      "\u001b[32m2025-08-04 12:05:58.565\u001b[0m | \u001b[1mINFO    \u001b[0m | \u001b[36mvrp_study.pdptw_model.routing_model\u001b[0m:\u001b[36madd_count_dimension\u001b[0m:\u001b[36m335\u001b[0m - \u001b[1mДобавление размерности для расстояния\u001b[0m\n",
      "\u001b[32m2025-08-04 12:05:58.566\u001b[0m | \u001b[1mINFO    \u001b[0m | \u001b[36mvrp_study.pdptw_model.routing_model\u001b[0m:\u001b[36madd_pick_up_and_delivery\u001b[0m:\u001b[36m269\u001b[0m - \u001b[1mДобавление ограничения для порядка доставки\u001b[0m\n",
      "\u001b[32m2025-08-04 12:05:58.567\u001b[0m | \u001b[1mINFO    \u001b[0m | \u001b[36mvrp_study.pdptw_model.routing_model\u001b[0m:\u001b[36madd_vehicles_cost\u001b[0m:\u001b[36m243\u001b[0m - \u001b[1mДобавление стоимостей машин\u001b[0m\n",
      "\u001b[32m2025-08-04 12:05:58.568\u001b[0m | \u001b[1mINFO    \u001b[0m | \u001b[36mvrp_study.pdptw_model.routing_model\u001b[0m:\u001b[36madd_time_window\u001b[0m:\u001b[36m194\u001b[0m - \u001b[1madd time\u001b[0m\n",
      "\u001b[32m2025-08-04 12:05:58.569\u001b[0m | \u001b[1mINFO    \u001b[0m | \u001b[36mvrp_study.pdptw_model.routing_model\u001b[0m:\u001b[36madd_mass_constraint\u001b[0m:\u001b[36m177\u001b[0m - \u001b[1mДобавление ограничений для массы\u001b[0m\n",
      "\u001b[32m2025-08-04 12:05:58.571\u001b[0m | \u001b[1mINFO    \u001b[0m | \u001b[36mvrp_study.pdptw_model.routing_model\u001b[0m:\u001b[36mdo_solve\u001b[0m:\u001b[36m407\u001b[0m - \u001b[1mНачало решения\u001b[0m\n",
      "\u001b[32m2025-08-04 12:05:58.573\u001b[0m | \u001b[1mINFO    \u001b[0m | \u001b[36mvrp_study.pdptw_model.routing_model\u001b[0m:\u001b[36mdo_solve\u001b[0m:\u001b[36m410\u001b[0m - \u001b[1muse initial_solution: 1\u001b[0m\n",
      "\u001b[32m2025-08-04 12:05:58.575\u001b[0m | \u001b[34m\u001b[1mDEBUG   \u001b[0m | \u001b[36mvrp_study.pdptw_model.routing_model\u001b[0m:\u001b[36m__call__\u001b[0m:\u001b[36m40\u001b[0m - \u001b[34m\u001b[1mtime: 0.005; new solution (1): 19057; best solution: 19057\u001b[0m\n",
      "\u001b[32m2025-08-04 12:05:58.577\u001b[0m | \u001b[34m\u001b[1mDEBUG   \u001b[0m | \u001b[36mvrp_study.pdptw_model.routing_model\u001b[0m:\u001b[36m__call__\u001b[0m:\u001b[36m40\u001b[0m - \u001b[34m\u001b[1mtime: 0.007; new solution (2): 19057; best solution: 19057\u001b[0m\n",
      "\u001b[32m2025-08-04 12:05:58.584\u001b[0m | \u001b[1mINFO    \u001b[0m | \u001b[36mvrp_study.pdptw_model.routing_model\u001b[0m:\u001b[36mdo_solve\u001b[0m:\u001b[36m423\u001b[0m - \u001b[1mfind solution\u001b[0m\n",
      "\u001b[32m2025-08-04 12:05:58.585\u001b[0m | \u001b[1mINFO    \u001b[0m | \u001b[36mvrp_study.pdptw_model.routing_model\u001b[0m:\u001b[36mfind_optimal_paths\u001b[0m:\u001b[36m464\u001b[0m - \u001b[1mbest_score: 190.57\u001b[0m\n",
      "\u001b[32m2025-08-04 12:05:58.586\u001b[0m | \u001b[1mINFO    \u001b[0m | \u001b[36msrc.vrp_study.pdptw_model.solution_builder\u001b[0m:\u001b[36mget_initial_solution\u001b[0m:\u001b[36m138\u001b[0m - \u001b[1m[[0, 7, 1, 5, 6, 2, 3, 4, 8, 0], [], [], [], [], [], [], [], [], [], [], [], [], [], [], [], [], [], [], [], [], [], [], [], [], [], [], [], [], [], [], [], [], [], [], [], [], [], [], [], [], [], [], [], [], [], [], [], [], [], [], [], [], [], [], [], [], [], [], [], [], [], [], [], [], [], [], [], [], [], [], [], [], [], [], [], [], [], [], [], [], [], [], [], [], [], [], [], [], [], [], [], [], [], [], []]\u001b[0m\n",
      "\u001b[32m2025-08-04 12:05:58.589\u001b[0m | \u001b[1mINFO    \u001b[0m | \u001b[36msrc.vrp_study.pdptw_model.solution_builder\u001b[0m:\u001b[36mget_initial_solution\u001b[0m:\u001b[36m118\u001b[0m - \u001b[1m(1, 32.074999999999996)\u001b[0m\n",
      "\u001b[32m2025-08-04 12:05:58.590\u001b[0m | \u001b[1mINFO    \u001b[0m | \u001b[36msrc.vrp_study.pdptw_model.solution_builder\u001b[0m:\u001b[36mget_initial_solution\u001b[0m:\u001b[36m118\u001b[0m - \u001b[1m(1, 16.0875)\u001b[0m\n",
      "\u001b[32m2025-08-04 12:05:58.590\u001b[0m | \u001b[1mINFO    \u001b[0m | \u001b[36msrc.vrp_study.pdptw_model.solution_builder\u001b[0m:\u001b[36mget_initial_solution\u001b[0m:\u001b[36m118\u001b[0m - \u001b[1m(1, 8.09375)\u001b[0m\n",
      "\u001b[32m2025-08-04 12:05:58.591\u001b[0m | \u001b[1mINFO    \u001b[0m | \u001b[36msrc.vrp_study.pdptw_model.solution_builder\u001b[0m:\u001b[36mget_initial_solution\u001b[0m:\u001b[36m118\u001b[0m - \u001b[1m(1, 4.096875)\u001b[0m\n",
      "\u001b[32m2025-08-04 12:05:58.592\u001b[0m | \u001b[1mINFO    \u001b[0m | \u001b[36msrc.vrp_study.pdptw_model.solution_builder\u001b[0m:\u001b[36mget_initial_solution\u001b[0m:\u001b[36m118\u001b[0m - \u001b[1m(1, 2.0984374999999997)\u001b[0m\n",
      "\u001b[32m2025-08-04 12:05:58.593\u001b[0m | \u001b[1mINFO    \u001b[0m | \u001b[36msrc.vrp_study.pdptw_model.solution_builder\u001b[0m:\u001b[36mget_initial_solution\u001b[0m:\u001b[36m118\u001b[0m - \u001b[1m(2, 1.09921875)\u001b[0m\n",
      "\u001b[32m2025-08-04 12:05:58.593\u001b[0m | \u001b[1mINFO    \u001b[0m | \u001b[36msrc.vrp_study.pdptw_model.solution_builder\u001b[0m:\u001b[36mget_initial_solution\u001b[0m:\u001b[36m118\u001b[0m - \u001b[1m(5, 0.599609375)\u001b[0m\n",
      "\u001b[32m2025-08-04 12:05:58.594\u001b[0m | \u001b[1mINFO    \u001b[0m | \u001b[36msrc.vrp_study.pdptw_model.solution_builder\u001b[0m:\u001b[36mget_initial_solution\u001b[0m:\u001b[36m118\u001b[0m - \u001b[1m(6, 0.3498046875)\u001b[0m\n",
      "\u001b[32m2025-08-04 12:05:58.594\u001b[0m | \u001b[1mINFO    \u001b[0m | \u001b[36msrc.vrp_study.pdptw_model.solution_builder\u001b[0m:\u001b[36mget_initial_solution\u001b[0m:\u001b[36m118\u001b[0m - \u001b[1m(6, 0.22490234375)\u001b[0m\n",
      "\u001b[32m2025-08-04 12:05:58.595\u001b[0m | \u001b[1mINFO    \u001b[0m | \u001b[36msrc.vrp_study.pdptw_model.solution_builder\u001b[0m:\u001b[36mget_initial_solution\u001b[0m:\u001b[36m118\u001b[0m - \u001b[1m(6, 0.16245117187500002)\u001b[0m\n"
     ]
    },
    {
     "data": {
      "application/vnd.jupyter.widget-view+json": {
       "model_id": "a3258d5df3ad43bcab42a908cc581869",
       "version_major": 2,
       "version_minor": 0
      },
      "text/plain": [
       "  0%|          | 0/1 [00:00<?, ?it/s]"
      ]
     },
     "metadata": {},
     "output_type": "display_data"
    },
    {
     "name": "stderr",
     "output_type": "stream",
     "text": [
      "\u001b[32m2025-08-04 12:05:58.606\u001b[0m | \u001b[1mINFO    \u001b[0m | \u001b[36mvrp_study.pdptw_model.routing_model\u001b[0m:\u001b[36mfind_optimal_paths\u001b[0m:\u001b[36m443\u001b[0m - \u001b[1mproblem size: 13\u001b[0m\n",
      "\u001b[32m2025-08-04 12:05:58.607\u001b[0m | \u001b[1mINFO    \u001b[0m | \u001b[36mvrp_study.pdptw_model.routing_model\u001b[0m:\u001b[36mdo_solve\u001b[0m:\u001b[36m378\u001b[0m - \u001b[1mНачало создания модели\u001b[0m\n",
      "\u001b[32m2025-08-04 12:05:58.608\u001b[0m | \u001b[1mINFO    \u001b[0m | \u001b[36mvrp_study.pdptw_model.routing_model\u001b[0m:\u001b[36madd_distance_dimension\u001b[0m:\u001b[36m299\u001b[0m - \u001b[1mДобавление размерности для расстояния\u001b[0m\n",
      "\u001b[32m2025-08-04 12:05:58.609\u001b[0m | \u001b[1mINFO    \u001b[0m | \u001b[36mvrp_study.pdptw_model.routing_model\u001b[0m:\u001b[36madd_count_dimension\u001b[0m:\u001b[36m335\u001b[0m - \u001b[1mДобавление размерности для расстояния\u001b[0m\n",
      "\u001b[32m2025-08-04 12:05:58.610\u001b[0m | \u001b[1mINFO    \u001b[0m | \u001b[36mvrp_study.pdptw_model.routing_model\u001b[0m:\u001b[36madd_pick_up_and_delivery\u001b[0m:\u001b[36m269\u001b[0m - \u001b[1mДобавление ограничения для порядка доставки\u001b[0m\n",
      "\u001b[32m2025-08-04 12:05:58.611\u001b[0m | \u001b[1mINFO    \u001b[0m | \u001b[36mvrp_study.pdptw_model.routing_model\u001b[0m:\u001b[36madd_time_window\u001b[0m:\u001b[36m194\u001b[0m - \u001b[1madd time\u001b[0m\n",
      "\u001b[32m2025-08-04 12:05:58.612\u001b[0m | \u001b[1mINFO    \u001b[0m | \u001b[36mvrp_study.pdptw_model.routing_model\u001b[0m:\u001b[36madd_mass_constraint\u001b[0m:\u001b[36m177\u001b[0m - \u001b[1mДобавление ограничений для массы\u001b[0m\n",
      "\u001b[32m2025-08-04 12:05:58.619\u001b[0m | \u001b[1mINFO    \u001b[0m | \u001b[36mvrp_study.pdptw_model.routing_model\u001b[0m:\u001b[36mdo_solve\u001b[0m:\u001b[36m407\u001b[0m - \u001b[1mНачало решения\u001b[0m\n",
      "\u001b[32m2025-08-04 12:05:58.626\u001b[0m | \u001b[34m\u001b[1mDEBUG   \u001b[0m | \u001b[36mvrp_study.pdptw_model.routing_model\u001b[0m:\u001b[36m__call__\u001b[0m:\u001b[36m40\u001b[0m - \u001b[34m\u001b[1mtime: 0.013; new solution (1): 1; best solution: 1\u001b[0m\n",
      "\u001b[32m2025-08-04 12:05:58.647\u001b[0m | \u001b[1mINFO    \u001b[0m | \u001b[36mvrp_study.pdptw_model.routing_model\u001b[0m:\u001b[36mdo_solve\u001b[0m:\u001b[36m423\u001b[0m - \u001b[1mfind solution\u001b[0m\n",
      "\u001b[32m2025-08-04 12:05:58.648\u001b[0m | \u001b[1mINFO    \u001b[0m | \u001b[36mvrp_study.pdptw_model.routing_model\u001b[0m:\u001b[36mfind_optimal_paths\u001b[0m:\u001b[36m451\u001b[0m - \u001b[1mbest_score: 1\u001b[0m\n",
      "\u001b[32m2025-08-04 12:05:58.649\u001b[0m | \u001b[1mINFO    \u001b[0m | \u001b[36mvrp_study.pdptw_model.routing_model\u001b[0m:\u001b[36mdo_solve\u001b[0m:\u001b[36m378\u001b[0m - \u001b[1mНачало создания модели\u001b[0m\n",
      "\u001b[32m2025-08-04 12:05:58.650\u001b[0m | \u001b[1mINFO    \u001b[0m | \u001b[36mvrp_study.pdptw_model.routing_model\u001b[0m:\u001b[36madd_distance_dimension\u001b[0m:\u001b[36m299\u001b[0m - \u001b[1mДобавление размерности для расстояния\u001b[0m\n",
      "\u001b[32m2025-08-04 12:05:58.652\u001b[0m | \u001b[1mINFO    \u001b[0m | \u001b[36mvrp_study.pdptw_model.routing_model\u001b[0m:\u001b[36madd_count_dimension\u001b[0m:\u001b[36m335\u001b[0m - \u001b[1mДобавление размерности для расстояния\u001b[0m\n",
      "\u001b[32m2025-08-04 12:05:58.654\u001b[0m | \u001b[1mINFO    \u001b[0m | \u001b[36mvrp_study.pdptw_model.routing_model\u001b[0m:\u001b[36madd_pick_up_and_delivery\u001b[0m:\u001b[36m269\u001b[0m - \u001b[1mДобавление ограничения для порядка доставки\u001b[0m\n",
      "\u001b[32m2025-08-04 12:05:58.655\u001b[0m | \u001b[1mINFO    \u001b[0m | \u001b[36mvrp_study.pdptw_model.routing_model\u001b[0m:\u001b[36madd_vehicles_cost\u001b[0m:\u001b[36m243\u001b[0m - \u001b[1mДобавление стоимостей машин\u001b[0m\n",
      "\u001b[32m2025-08-04 12:05:58.656\u001b[0m | \u001b[1mINFO    \u001b[0m | \u001b[36mvrp_study.pdptw_model.routing_model\u001b[0m:\u001b[36madd_time_window\u001b[0m:\u001b[36m194\u001b[0m - \u001b[1madd time\u001b[0m\n",
      "\u001b[32m2025-08-04 12:05:58.657\u001b[0m | \u001b[1mINFO    \u001b[0m | \u001b[36mvrp_study.pdptw_model.routing_model\u001b[0m:\u001b[36madd_mass_constraint\u001b[0m:\u001b[36m177\u001b[0m - \u001b[1mДобавление ограничений для массы\u001b[0m\n",
      "\u001b[32m2025-08-04 12:05:58.658\u001b[0m | \u001b[1mINFO    \u001b[0m | \u001b[36mvrp_study.pdptw_model.routing_model\u001b[0m:\u001b[36mdo_solve\u001b[0m:\u001b[36m407\u001b[0m - \u001b[1mНачало решения\u001b[0m\n",
      "\u001b[32m2025-08-04 12:05:58.659\u001b[0m | \u001b[1mINFO    \u001b[0m | \u001b[36mvrp_study.pdptw_model.routing_model\u001b[0m:\u001b[36mdo_solve\u001b[0m:\u001b[36m410\u001b[0m - \u001b[1muse initial_solution: 1\u001b[0m\n",
      "\u001b[32m2025-08-04 12:05:58.660\u001b[0m | \u001b[34m\u001b[1mDEBUG   \u001b[0m | \u001b[36mvrp_study.pdptw_model.routing_model\u001b[0m:\u001b[36m__call__\u001b[0m:\u001b[36m40\u001b[0m - \u001b[34m\u001b[1mtime: 0.002; new solution (1): 26006; best solution: 26006\u001b[0m\n",
      "\u001b[32m2025-08-04 12:05:58.661\u001b[0m | \u001b[34m\u001b[1mDEBUG   \u001b[0m | \u001b[36mvrp_study.pdptw_model.routing_model\u001b[0m:\u001b[36m__call__\u001b[0m:\u001b[36m40\u001b[0m - \u001b[34m\u001b[1mtime: 0.003; new solution (2): 26006; best solution: 26006\u001b[0m\n",
      "\u001b[32m2025-08-04 12:05:58.663\u001b[0m | \u001b[34m\u001b[1mDEBUG   \u001b[0m | \u001b[36mvrp_study.pdptw_model.routing_model\u001b[0m:\u001b[36m__call__\u001b[0m:\u001b[36m40\u001b[0m - \u001b[34m\u001b[1mtime: 0.005; new solution (3): 25806; best solution: 25806\u001b[0m\n",
      "\u001b[32m2025-08-04 12:05:58.677\u001b[0m | \u001b[1mINFO    \u001b[0m | \u001b[36mvrp_study.pdptw_model.routing_model\u001b[0m:\u001b[36mdo_solve\u001b[0m:\u001b[36m423\u001b[0m - \u001b[1mfind solution\u001b[0m\n",
      "\u001b[32m2025-08-04 12:05:58.678\u001b[0m | \u001b[1mINFO    \u001b[0m | \u001b[36mvrp_study.pdptw_model.routing_model\u001b[0m:\u001b[36mfind_optimal_paths\u001b[0m:\u001b[36m464\u001b[0m - \u001b[1mbest_score: 258.06\u001b[0m\n",
      "\u001b[32m2025-08-04 12:05:58.679\u001b[0m | \u001b[1mINFO    \u001b[0m | \u001b[36msrc.vrp_study.pdptw_model.solution_builder\u001b[0m:\u001b[36mget_initial_solution\u001b[0m:\u001b[36m138\u001b[0m - \u001b[1m[[0, 1, 3, 11, 4, 7, 12, 5, 2, 9, 6, 8, 10, 0], [], [], [], [], [], [], [], [], [], [], [], [], [], [], [], [], [], [], [], [], [], [], [], [], [], [], [], [], [], [], [], [], [], [], [], [], [], [], [], [], [], [], [], [], [], [], [], [], [], [], [], [], [], [], [], [], [], [], [], [], [], [], [], [], [], [], [], [], [], [], [], [], [], [], [], [], [], [], [], [], [], [], [], [], [], [], [], [], [], [], [], [], [], []]\u001b[0m\n",
      "\u001b[32m2025-08-04 12:05:58.681\u001b[0m | \u001b[1mINFO    \u001b[0m | \u001b[36msrc.vrp_study.pdptw_model.solution_builder\u001b[0m:\u001b[36mget_initial_solution\u001b[0m:\u001b[36m118\u001b[0m - \u001b[1m(1, 32.074999999999996)\u001b[0m\n",
      "\u001b[32m2025-08-04 12:05:58.682\u001b[0m | \u001b[1mINFO    \u001b[0m | \u001b[36msrc.vrp_study.pdptw_model.solution_builder\u001b[0m:\u001b[36mget_initial_solution\u001b[0m:\u001b[36m118\u001b[0m - \u001b[1m(1, 16.0875)\u001b[0m\n",
      "\u001b[32m2025-08-04 12:05:58.683\u001b[0m | \u001b[1mINFO    \u001b[0m | \u001b[36msrc.vrp_study.pdptw_model.solution_builder\u001b[0m:\u001b[36mget_initial_solution\u001b[0m:\u001b[36m118\u001b[0m - \u001b[1m(1, 8.09375)\u001b[0m\n",
      "\u001b[32m2025-08-04 12:05:58.684\u001b[0m | \u001b[1mINFO    \u001b[0m | \u001b[36msrc.vrp_study.pdptw_model.solution_builder\u001b[0m:\u001b[36mget_initial_solution\u001b[0m:\u001b[36m118\u001b[0m - \u001b[1m(1, 4.096875)\u001b[0m\n",
      "\u001b[32m2025-08-04 12:05:58.685\u001b[0m | \u001b[1mINFO    \u001b[0m | \u001b[36msrc.vrp_study.pdptw_model.solution_builder\u001b[0m:\u001b[36mget_initial_solution\u001b[0m:\u001b[36m118\u001b[0m - \u001b[1m(1, 2.0984374999999997)\u001b[0m\n",
      "\u001b[32m2025-08-04 12:05:58.686\u001b[0m | \u001b[1mINFO    \u001b[0m | \u001b[36msrc.vrp_study.pdptw_model.solution_builder\u001b[0m:\u001b[36mget_initial_solution\u001b[0m:\u001b[36m118\u001b[0m - \u001b[1m(1, 1.09921875)\u001b[0m\n",
      "\u001b[32m2025-08-04 12:05:58.687\u001b[0m | \u001b[1mINFO    \u001b[0m | \u001b[36msrc.vrp_study.pdptw_model.solution_builder\u001b[0m:\u001b[36mget_initial_solution\u001b[0m:\u001b[36m118\u001b[0m - \u001b[1m(2, 0.599609375)\u001b[0m\n",
      "\u001b[32m2025-08-04 12:05:58.688\u001b[0m | \u001b[1mINFO    \u001b[0m | \u001b[36msrc.vrp_study.pdptw_model.solution_builder\u001b[0m:\u001b[36mget_initial_solution\u001b[0m:\u001b[36m118\u001b[0m - \u001b[1m(3, 0.3498046875)\u001b[0m\n",
      "\u001b[32m2025-08-04 12:05:58.689\u001b[0m | \u001b[1mINFO    \u001b[0m | \u001b[36msrc.vrp_study.pdptw_model.solution_builder\u001b[0m:\u001b[36mget_initial_solution\u001b[0m:\u001b[36m118\u001b[0m - \u001b[1m(4, 0.22490234375)\u001b[0m\n",
      "\u001b[32m2025-08-04 12:05:58.690\u001b[0m | \u001b[1mINFO    \u001b[0m | \u001b[36msrc.vrp_study.pdptw_model.solution_builder\u001b[0m:\u001b[36mget_initial_solution\u001b[0m:\u001b[36m118\u001b[0m - \u001b[1m(5, 0.16245117187500002)\u001b[0m\n"
     ]
    },
    {
     "data": {
      "application/vnd.jupyter.widget-view+json": {
       "model_id": "763fbf672ac74640ab23e83f6ce7b395",
       "version_major": 2,
       "version_minor": 0
      },
      "text/plain": [
       "  0%|          | 0/1 [00:00<?, ?it/s]"
      ]
     },
     "metadata": {},
     "output_type": "display_data"
    },
    {
     "name": "stderr",
     "output_type": "stream",
     "text": [
      "\u001b[32m2025-08-04 12:05:58.697\u001b[0m | \u001b[1mINFO    \u001b[0m | \u001b[36mvrp_study.pdptw_model.routing_model\u001b[0m:\u001b[36mfind_optimal_paths\u001b[0m:\u001b[36m443\u001b[0m - \u001b[1mproblem size: 11\u001b[0m\n",
      "\u001b[32m2025-08-04 12:05:58.699\u001b[0m | \u001b[1mINFO    \u001b[0m | \u001b[36mvrp_study.pdptw_model.routing_model\u001b[0m:\u001b[36mdo_solve\u001b[0m:\u001b[36m378\u001b[0m - \u001b[1mНачало создания модели\u001b[0m\n",
      "\u001b[32m2025-08-04 12:05:58.700\u001b[0m | \u001b[1mINFO    \u001b[0m | \u001b[36mvrp_study.pdptw_model.routing_model\u001b[0m:\u001b[36madd_distance_dimension\u001b[0m:\u001b[36m299\u001b[0m - \u001b[1mДобавление размерности для расстояния\u001b[0m\n",
      "\u001b[32m2025-08-04 12:05:58.702\u001b[0m | \u001b[1mINFO    \u001b[0m | \u001b[36mvrp_study.pdptw_model.routing_model\u001b[0m:\u001b[36madd_count_dimension\u001b[0m:\u001b[36m335\u001b[0m - \u001b[1mДобавление размерности для расстояния\u001b[0m\n",
      "\u001b[32m2025-08-04 12:05:58.703\u001b[0m | \u001b[1mINFO    \u001b[0m | \u001b[36mvrp_study.pdptw_model.routing_model\u001b[0m:\u001b[36madd_pick_up_and_delivery\u001b[0m:\u001b[36m269\u001b[0m - \u001b[1mДобавление ограничения для порядка доставки\u001b[0m\n",
      "\u001b[32m2025-08-04 12:05:58.704\u001b[0m | \u001b[1mINFO    \u001b[0m | \u001b[36mvrp_study.pdptw_model.routing_model\u001b[0m:\u001b[36madd_time_window\u001b[0m:\u001b[36m194\u001b[0m - \u001b[1madd time\u001b[0m\n",
      "\u001b[32m2025-08-04 12:05:58.706\u001b[0m | \u001b[1mINFO    \u001b[0m | \u001b[36mvrp_study.pdptw_model.routing_model\u001b[0m:\u001b[36madd_mass_constraint\u001b[0m:\u001b[36m177\u001b[0m - \u001b[1mДобавление ограничений для массы\u001b[0m\n",
      "\u001b[32m2025-08-04 12:05:58.713\u001b[0m | \u001b[1mINFO    \u001b[0m | \u001b[36mvrp_study.pdptw_model.routing_model\u001b[0m:\u001b[36mdo_solve\u001b[0m:\u001b[36m407\u001b[0m - \u001b[1mНачало решения\u001b[0m\n",
      "\u001b[32m2025-08-04 12:05:58.722\u001b[0m | \u001b[34m\u001b[1mDEBUG   \u001b[0m | \u001b[36mvrp_study.pdptw_model.routing_model\u001b[0m:\u001b[36m__call__\u001b[0m:\u001b[36m40\u001b[0m - \u001b[34m\u001b[1mtime: 0.015; new solution (1): 1; best solution: 1\u001b[0m\n",
      "\u001b[32m2025-08-04 12:05:58.745\u001b[0m | \u001b[1mINFO    \u001b[0m | \u001b[36mvrp_study.pdptw_model.routing_model\u001b[0m:\u001b[36mdo_solve\u001b[0m:\u001b[36m423\u001b[0m - \u001b[1mfind solution\u001b[0m\n",
      "\u001b[32m2025-08-04 12:05:58.747\u001b[0m | \u001b[1mINFO    \u001b[0m | \u001b[36mvrp_study.pdptw_model.routing_model\u001b[0m:\u001b[36mfind_optimal_paths\u001b[0m:\u001b[36m451\u001b[0m - \u001b[1mbest_score: 1\u001b[0m\n",
      "\u001b[32m2025-08-04 12:05:58.748\u001b[0m | \u001b[1mINFO    \u001b[0m | \u001b[36mvrp_study.pdptw_model.routing_model\u001b[0m:\u001b[36mdo_solve\u001b[0m:\u001b[36m378\u001b[0m - \u001b[1mНачало создания модели\u001b[0m\n",
      "\u001b[32m2025-08-04 12:05:58.749\u001b[0m | \u001b[1mINFO    \u001b[0m | \u001b[36mvrp_study.pdptw_model.routing_model\u001b[0m:\u001b[36madd_distance_dimension\u001b[0m:\u001b[36m299\u001b[0m - \u001b[1mДобавление размерности для расстояния\u001b[0m\n",
      "\u001b[32m2025-08-04 12:05:58.751\u001b[0m | \u001b[1mINFO    \u001b[0m | \u001b[36mvrp_study.pdptw_model.routing_model\u001b[0m:\u001b[36madd_count_dimension\u001b[0m:\u001b[36m335\u001b[0m - \u001b[1mДобавление размерности для расстояния\u001b[0m\n",
      "\u001b[32m2025-08-04 12:05:58.752\u001b[0m | \u001b[1mINFO    \u001b[0m | \u001b[36mvrp_study.pdptw_model.routing_model\u001b[0m:\u001b[36madd_pick_up_and_delivery\u001b[0m:\u001b[36m269\u001b[0m - \u001b[1mДобавление ограничения для порядка доставки\u001b[0m\n",
      "\u001b[32m2025-08-04 12:05:58.753\u001b[0m | \u001b[1mINFO    \u001b[0m | \u001b[36mvrp_study.pdptw_model.routing_model\u001b[0m:\u001b[36madd_vehicles_cost\u001b[0m:\u001b[36m243\u001b[0m - \u001b[1mДобавление стоимостей машин\u001b[0m\n",
      "\u001b[32m2025-08-04 12:05:58.754\u001b[0m | \u001b[1mINFO    \u001b[0m | \u001b[36mvrp_study.pdptw_model.routing_model\u001b[0m:\u001b[36madd_time_window\u001b[0m:\u001b[36m194\u001b[0m - \u001b[1madd time\u001b[0m\n",
      "\u001b[32m2025-08-04 12:05:58.755\u001b[0m | \u001b[1mINFO    \u001b[0m | \u001b[36mvrp_study.pdptw_model.routing_model\u001b[0m:\u001b[36madd_mass_constraint\u001b[0m:\u001b[36m177\u001b[0m - \u001b[1mДобавление ограничений для массы\u001b[0m\n",
      "\u001b[32m2025-08-04 12:05:58.757\u001b[0m | \u001b[1mINFO    \u001b[0m | \u001b[36mvrp_study.pdptw_model.routing_model\u001b[0m:\u001b[36mdo_solve\u001b[0m:\u001b[36m407\u001b[0m - \u001b[1mНачало решения\u001b[0m\n",
      "\u001b[32m2025-08-04 12:05:58.757\u001b[0m | \u001b[1mINFO    \u001b[0m | \u001b[36mvrp_study.pdptw_model.routing_model\u001b[0m:\u001b[36mdo_solve\u001b[0m:\u001b[36m410\u001b[0m - \u001b[1muse initial_solution: 1\u001b[0m\n",
      "\u001b[32m2025-08-04 12:05:58.758\u001b[0m | \u001b[34m\u001b[1mDEBUG   \u001b[0m | \u001b[36mvrp_study.pdptw_model.routing_model\u001b[0m:\u001b[36m__call__\u001b[0m:\u001b[36m40\u001b[0m - \u001b[34m\u001b[1mtime: 0.002; new solution (1): 21685; best solution: 21685\u001b[0m\n",
      "\u001b[32m2025-08-04 12:05:58.759\u001b[0m | \u001b[34m\u001b[1mDEBUG   \u001b[0m | \u001b[36mvrp_study.pdptw_model.routing_model\u001b[0m:\u001b[36m__call__\u001b[0m:\u001b[36m40\u001b[0m - \u001b[34m\u001b[1mtime: 0.003; new solution (2): 21685; best solution: 21685\u001b[0m\n",
      "\u001b[32m2025-08-04 12:05:58.766\u001b[0m | \u001b[1mINFO    \u001b[0m | \u001b[36mvrp_study.pdptw_model.routing_model\u001b[0m:\u001b[36mdo_solve\u001b[0m:\u001b[36m423\u001b[0m - \u001b[1mfind solution\u001b[0m\n",
      "\u001b[32m2025-08-04 12:05:58.768\u001b[0m | \u001b[1mINFO    \u001b[0m | \u001b[36mvrp_study.pdptw_model.routing_model\u001b[0m:\u001b[36mfind_optimal_paths\u001b[0m:\u001b[36m464\u001b[0m - \u001b[1mbest_score: 216.85\u001b[0m\n",
      "\u001b[32m2025-08-04 12:05:58.769\u001b[0m | \u001b[1mINFO    \u001b[0m | \u001b[36msrc.vrp_study.pdptw_model.solution_builder\u001b[0m:\u001b[36mget_initial_solution\u001b[0m:\u001b[36m138\u001b[0m - \u001b[1m[[0, 7, 5, 9, 1, 10, 3, 4, 8, 2, 6, 0], [], [], [], [], [], [], [], [], [], [], [], [], [], [], [], [], [], [], [], [], [], [], [], [], [], [], [], [], [], [], [], [], [], [], [], [], [], [], [], [], [], [], [], [], [], [], [], [], [], [], [], [], [], [], [], [], [], [], [], [], [], [], [], [], [], [], [], [], [], [], [], [], [], [], [], [], [], [], [], [], [], [], [], [], [], [], [], [], [], [], [], [], []]\u001b[0m\n",
      "\u001b[32m2025-08-04 12:05:58.770\u001b[0m | \u001b[1mINFO    \u001b[0m | \u001b[36msrc.vrp_study.pdptw_model.solution_builder\u001b[0m:\u001b[36mget_initial_solution\u001b[0m:\u001b[36m118\u001b[0m - \u001b[1m(1, 32.074999999999996)\u001b[0m\n",
      "\u001b[32m2025-08-04 12:05:58.772\u001b[0m | \u001b[1mINFO    \u001b[0m | \u001b[36msrc.vrp_study.pdptw_model.solution_builder\u001b[0m:\u001b[36mget_initial_solution\u001b[0m:\u001b[36m118\u001b[0m - \u001b[1m(1, 16.0875)\u001b[0m\n",
      "\u001b[32m2025-08-04 12:05:58.773\u001b[0m | \u001b[1mINFO    \u001b[0m | \u001b[36msrc.vrp_study.pdptw_model.solution_builder\u001b[0m:\u001b[36mget_initial_solution\u001b[0m:\u001b[36m118\u001b[0m - \u001b[1m(1, 8.09375)\u001b[0m\n",
      "\u001b[32m2025-08-04 12:05:58.774\u001b[0m | \u001b[1mINFO    \u001b[0m | \u001b[36msrc.vrp_study.pdptw_model.solution_builder\u001b[0m:\u001b[36mget_initial_solution\u001b[0m:\u001b[36m118\u001b[0m - \u001b[1m(1, 4.096875)\u001b[0m\n",
      "\u001b[32m2025-08-04 12:05:58.775\u001b[0m | \u001b[1mINFO    \u001b[0m | \u001b[36msrc.vrp_study.pdptw_model.solution_builder\u001b[0m:\u001b[36mget_initial_solution\u001b[0m:\u001b[36m118\u001b[0m - \u001b[1m(1, 2.0984374999999997)\u001b[0m\n",
      "\u001b[32m2025-08-04 12:05:58.776\u001b[0m | \u001b[1mINFO    \u001b[0m | \u001b[36msrc.vrp_study.pdptw_model.solution_builder\u001b[0m:\u001b[36mget_initial_solution\u001b[0m:\u001b[36m118\u001b[0m - \u001b[1m(2, 1.09921875)\u001b[0m\n",
      "\u001b[32m2025-08-04 12:05:58.777\u001b[0m | \u001b[1mINFO    \u001b[0m | \u001b[36msrc.vrp_study.pdptw_model.solution_builder\u001b[0m:\u001b[36mget_initial_solution\u001b[0m:\u001b[36m118\u001b[0m - \u001b[1m(3, 0.599609375)\u001b[0m\n",
      "\u001b[32m2025-08-04 12:05:58.777\u001b[0m | \u001b[1mINFO    \u001b[0m | \u001b[36msrc.vrp_study.pdptw_model.solution_builder\u001b[0m:\u001b[36mget_initial_solution\u001b[0m:\u001b[36m118\u001b[0m - \u001b[1m(4, 0.3498046875)\u001b[0m\n",
      "\u001b[32m2025-08-04 12:05:58.779\u001b[0m | \u001b[1mINFO    \u001b[0m | \u001b[36msrc.vrp_study.pdptw_model.solution_builder\u001b[0m:\u001b[36mget_initial_solution\u001b[0m:\u001b[36m118\u001b[0m - \u001b[1m(4, 0.22490234375)\u001b[0m\n",
      "\u001b[32m2025-08-04 12:05:58.779\u001b[0m | \u001b[1mINFO    \u001b[0m | \u001b[36msrc.vrp_study.pdptw_model.solution_builder\u001b[0m:\u001b[36mget_initial_solution\u001b[0m:\u001b[36m118\u001b[0m - \u001b[1m(5, 0.16245117187500002)\u001b[0m\n"
     ]
    },
    {
     "data": {
      "application/vnd.jupyter.widget-view+json": {
       "model_id": "dbc87a0071554828b2356faff440046e",
       "version_major": 2,
       "version_minor": 0
      },
      "text/plain": [
       "  0%|          | 0/2 [00:00<?, ?it/s]"
      ]
     },
     "metadata": {},
     "output_type": "display_data"
    },
    {
     "name": "stderr",
     "output_type": "stream",
     "text": [
      "\u001b[32m2025-08-04 12:05:58.787\u001b[0m | \u001b[1mINFO    \u001b[0m | \u001b[36mvrp_study.pdptw_model.routing_model\u001b[0m:\u001b[36mfind_optimal_paths\u001b[0m:\u001b[36m443\u001b[0m - \u001b[1mproblem size: 11\u001b[0m\n",
      "\u001b[32m2025-08-04 12:05:58.788\u001b[0m | \u001b[1mINFO    \u001b[0m | \u001b[36mvrp_study.pdptw_model.routing_model\u001b[0m:\u001b[36mdo_solve\u001b[0m:\u001b[36m378\u001b[0m - \u001b[1mНачало создания модели\u001b[0m\n",
      "\u001b[32m2025-08-04 12:05:58.790\u001b[0m | \u001b[1mINFO    \u001b[0m | \u001b[36mvrp_study.pdptw_model.routing_model\u001b[0m:\u001b[36madd_distance_dimension\u001b[0m:\u001b[36m299\u001b[0m - \u001b[1mДобавление размерности для расстояния\u001b[0m\n",
      "\u001b[32m2025-08-04 12:05:58.791\u001b[0m | \u001b[1mINFO    \u001b[0m | \u001b[36mvrp_study.pdptw_model.routing_model\u001b[0m:\u001b[36madd_count_dimension\u001b[0m:\u001b[36m335\u001b[0m - \u001b[1mДобавление размерности для расстояния\u001b[0m\n",
      "\u001b[32m2025-08-04 12:05:58.792\u001b[0m | \u001b[1mINFO    \u001b[0m | \u001b[36mvrp_study.pdptw_model.routing_model\u001b[0m:\u001b[36madd_pick_up_and_delivery\u001b[0m:\u001b[36m269\u001b[0m - \u001b[1mДобавление ограничения для порядка доставки\u001b[0m\n",
      "\u001b[32m2025-08-04 12:05:58.793\u001b[0m | \u001b[1mINFO    \u001b[0m | \u001b[36mvrp_study.pdptw_model.routing_model\u001b[0m:\u001b[36madd_time_window\u001b[0m:\u001b[36m194\u001b[0m - \u001b[1madd time\u001b[0m\n",
      "\u001b[32m2025-08-04 12:05:58.794\u001b[0m | \u001b[1mINFO    \u001b[0m | \u001b[36mvrp_study.pdptw_model.routing_model\u001b[0m:\u001b[36madd_mass_constraint\u001b[0m:\u001b[36m177\u001b[0m - \u001b[1mДобавление ограничений для массы\u001b[0m\n",
      "\u001b[32m2025-08-04 12:05:58.800\u001b[0m | \u001b[1mINFO    \u001b[0m | \u001b[36mvrp_study.pdptw_model.routing_model\u001b[0m:\u001b[36mdo_solve\u001b[0m:\u001b[36m407\u001b[0m - \u001b[1mНачало решения\u001b[0m\n",
      "\u001b[32m2025-08-04 12:05:58.809\u001b[0m | \u001b[34m\u001b[1mDEBUG   \u001b[0m | \u001b[36mvrp_study.pdptw_model.routing_model\u001b[0m:\u001b[36m__call__\u001b[0m:\u001b[36m40\u001b[0m - \u001b[34m\u001b[1mtime: 0.014; new solution (1): 1; best solution: 1\u001b[0m\n",
      "\u001b[32m2025-08-04 12:05:58.830\u001b[0m | \u001b[1mINFO    \u001b[0m | \u001b[36mvrp_study.pdptw_model.routing_model\u001b[0m:\u001b[36mdo_solve\u001b[0m:\u001b[36m423\u001b[0m - \u001b[1mfind solution\u001b[0m\n",
      "\u001b[32m2025-08-04 12:05:58.831\u001b[0m | \u001b[1mINFO    \u001b[0m | \u001b[36mvrp_study.pdptw_model.routing_model\u001b[0m:\u001b[36mfind_optimal_paths\u001b[0m:\u001b[36m451\u001b[0m - \u001b[1mbest_score: 1\u001b[0m\n",
      "\u001b[32m2025-08-04 12:05:58.832\u001b[0m | \u001b[1mINFO    \u001b[0m | \u001b[36mvrp_study.pdptw_model.routing_model\u001b[0m:\u001b[36mdo_solve\u001b[0m:\u001b[36m378\u001b[0m - \u001b[1mНачало создания модели\u001b[0m\n",
      "\u001b[32m2025-08-04 12:05:58.833\u001b[0m | \u001b[1mINFO    \u001b[0m | \u001b[36mvrp_study.pdptw_model.routing_model\u001b[0m:\u001b[36madd_distance_dimension\u001b[0m:\u001b[36m299\u001b[0m - \u001b[1mДобавление размерности для расстояния\u001b[0m\n",
      "\u001b[32m2025-08-04 12:05:58.835\u001b[0m | \u001b[1mINFO    \u001b[0m | \u001b[36mvrp_study.pdptw_model.routing_model\u001b[0m:\u001b[36madd_count_dimension\u001b[0m:\u001b[36m335\u001b[0m - \u001b[1mДобавление размерности для расстояния\u001b[0m\n",
      "\u001b[32m2025-08-04 12:05:58.837\u001b[0m | \u001b[1mINFO    \u001b[0m | \u001b[36mvrp_study.pdptw_model.routing_model\u001b[0m:\u001b[36madd_pick_up_and_delivery\u001b[0m:\u001b[36m269\u001b[0m - \u001b[1mДобавление ограничения для порядка доставки\u001b[0m\n",
      "\u001b[32m2025-08-04 12:05:58.837\u001b[0m | \u001b[1mINFO    \u001b[0m | \u001b[36mvrp_study.pdptw_model.routing_model\u001b[0m:\u001b[36madd_vehicles_cost\u001b[0m:\u001b[36m243\u001b[0m - \u001b[1mДобавление стоимостей машин\u001b[0m\n",
      "\u001b[32m2025-08-04 12:05:58.838\u001b[0m | \u001b[1mINFO    \u001b[0m | \u001b[36mvrp_study.pdptw_model.routing_model\u001b[0m:\u001b[36madd_time_window\u001b[0m:\u001b[36m194\u001b[0m - \u001b[1madd time\u001b[0m\n",
      "\u001b[32m2025-08-04 12:05:58.840\u001b[0m | \u001b[1mINFO    \u001b[0m | \u001b[36mvrp_study.pdptw_model.routing_model\u001b[0m:\u001b[36madd_mass_constraint\u001b[0m:\u001b[36m177\u001b[0m - \u001b[1mДобавление ограничений для массы\u001b[0m\n",
      "\u001b[32m2025-08-04 12:05:58.841\u001b[0m | \u001b[1mINFO    \u001b[0m | \u001b[36mvrp_study.pdptw_model.routing_model\u001b[0m:\u001b[36mdo_solve\u001b[0m:\u001b[36m407\u001b[0m - \u001b[1mНачало решения\u001b[0m\n",
      "\u001b[32m2025-08-04 12:05:58.842\u001b[0m | \u001b[1mINFO    \u001b[0m | \u001b[36mvrp_study.pdptw_model.routing_model\u001b[0m:\u001b[36mdo_solve\u001b[0m:\u001b[36m410\u001b[0m - \u001b[1muse initial_solution: 1\u001b[0m\n",
      "\u001b[32m2025-08-04 12:05:58.843\u001b[0m | \u001b[34m\u001b[1mDEBUG   \u001b[0m | \u001b[36mvrp_study.pdptw_model.routing_model\u001b[0m:\u001b[36m__call__\u001b[0m:\u001b[36m40\u001b[0m - \u001b[34m\u001b[1mtime: 0.004; new solution (1): 7703; best solution: 7703\u001b[0m\n",
      "\u001b[32m2025-08-04 12:05:58.846\u001b[0m | \u001b[34m\u001b[1mDEBUG   \u001b[0m | \u001b[36mvrp_study.pdptw_model.routing_model\u001b[0m:\u001b[36m__call__\u001b[0m:\u001b[36m40\u001b[0m - \u001b[34m\u001b[1mtime: 0.007; new solution (2): 7703; best solution: 7703\u001b[0m\n",
      "\u001b[32m2025-08-04 12:05:58.848\u001b[0m | \u001b[34m\u001b[1mDEBUG   \u001b[0m | \u001b[36mvrp_study.pdptw_model.routing_model\u001b[0m:\u001b[36m__call__\u001b[0m:\u001b[36m40\u001b[0m - \u001b[34m\u001b[1mtime: 0.009; new solution (3): 7459; best solution: 7459\u001b[0m\n",
      "\u001b[32m2025-08-04 12:05:58.861\u001b[0m | \u001b[1mINFO    \u001b[0m | \u001b[36mvrp_study.pdptw_model.routing_model\u001b[0m:\u001b[36mdo_solve\u001b[0m:\u001b[36m423\u001b[0m - \u001b[1mfind solution\u001b[0m\n",
      "\u001b[32m2025-08-04 12:05:58.862\u001b[0m | \u001b[1mINFO    \u001b[0m | \u001b[36mvrp_study.pdptw_model.routing_model\u001b[0m:\u001b[36mfind_optimal_paths\u001b[0m:\u001b[36m464\u001b[0m - \u001b[1mbest_score: 74.59\u001b[0m\n",
      "\u001b[32m2025-08-04 12:05:58.862\u001b[0m | \u001b[1mINFO    \u001b[0m | \u001b[36msrc.vrp_study.pdptw_model.solution_builder\u001b[0m:\u001b[36mget_initial_solution\u001b[0m:\u001b[36m138\u001b[0m - \u001b[1m[[0, 5, 6, 7, 3, 9, 4, 1, 2, 8, 10, 0], [], [], [], [], [], [], [], [], [], [], [], [], [], [], [], [], [], [], [], [], [], [], [], [], [], [], [], [], [], [], [], [], [], [], [], [], [], [], [], [], [], [], [], [], [], [], [], [], [], [], [], [], [], [], [], [], [], [], [], [], [], [], [], [], [], [], [], [], [], [], [], [], [], [], [], [], [], [], [], [], [], [], [], [], [], [], [], [], [], [], [], []]\u001b[0m\n",
      "\u001b[32m2025-08-04 12:05:58.863\u001b[0m | \u001b[1mINFO    \u001b[0m | \u001b[36mvrp_study.pdptw_model.routing_model\u001b[0m:\u001b[36mfind_optimal_paths\u001b[0m:\u001b[36m443\u001b[0m - \u001b[1mproblem size: 5\u001b[0m\n",
      "\u001b[32m2025-08-04 12:05:58.864\u001b[0m | \u001b[1mINFO    \u001b[0m | \u001b[36mvrp_study.pdptw_model.routing_model\u001b[0m:\u001b[36mdo_solve\u001b[0m:\u001b[36m378\u001b[0m - \u001b[1mНачало создания модели\u001b[0m\n",
      "\u001b[32m2025-08-04 12:05:58.866\u001b[0m | \u001b[1mINFO    \u001b[0m | \u001b[36mvrp_study.pdptw_model.routing_model\u001b[0m:\u001b[36madd_distance_dimension\u001b[0m:\u001b[36m299\u001b[0m - \u001b[1mДобавление размерности для расстояния\u001b[0m\n",
      "\u001b[32m2025-08-04 12:05:58.867\u001b[0m | \u001b[1mINFO    \u001b[0m | \u001b[36mvrp_study.pdptw_model.routing_model\u001b[0m:\u001b[36madd_count_dimension\u001b[0m:\u001b[36m335\u001b[0m - \u001b[1mДобавление размерности для расстояния\u001b[0m\n",
      "\u001b[32m2025-08-04 12:05:58.869\u001b[0m | \u001b[1mINFO    \u001b[0m | \u001b[36mvrp_study.pdptw_model.routing_model\u001b[0m:\u001b[36madd_pick_up_and_delivery\u001b[0m:\u001b[36m269\u001b[0m - \u001b[1mДобавление ограничения для порядка доставки\u001b[0m\n",
      "\u001b[32m2025-08-04 12:05:58.870\u001b[0m | \u001b[1mINFO    \u001b[0m | \u001b[36mvrp_study.pdptw_model.routing_model\u001b[0m:\u001b[36madd_time_window\u001b[0m:\u001b[36m194\u001b[0m - \u001b[1madd time\u001b[0m\n",
      "\u001b[32m2025-08-04 12:05:58.871\u001b[0m | \u001b[1mINFO    \u001b[0m | \u001b[36mvrp_study.pdptw_model.routing_model\u001b[0m:\u001b[36madd_mass_constraint\u001b[0m:\u001b[36m177\u001b[0m - \u001b[1mДобавление ограничений для массы\u001b[0m\n",
      "\u001b[32m2025-08-04 12:05:58.879\u001b[0m | \u001b[1mINFO    \u001b[0m | \u001b[36mvrp_study.pdptw_model.routing_model\u001b[0m:\u001b[36mdo_solve\u001b[0m:\u001b[36m407\u001b[0m - \u001b[1mНачало решения\u001b[0m\n",
      "\u001b[32m2025-08-04 12:05:58.884\u001b[0m | \u001b[34m\u001b[1mDEBUG   \u001b[0m | \u001b[36mvrp_study.pdptw_model.routing_model\u001b[0m:\u001b[36m__call__\u001b[0m:\u001b[36m40\u001b[0m - \u001b[34m\u001b[1mtime: 0.012; new solution (1): 1; best solution: 1\u001b[0m\n",
      "\u001b[32m2025-08-04 12:05:58.890\u001b[0m | \u001b[1mINFO    \u001b[0m | \u001b[36mvrp_study.pdptw_model.routing_model\u001b[0m:\u001b[36mdo_solve\u001b[0m:\u001b[36m423\u001b[0m - \u001b[1mfind solution\u001b[0m\n",
      "\u001b[32m2025-08-04 12:05:58.891\u001b[0m | \u001b[1mINFO    \u001b[0m | \u001b[36mvrp_study.pdptw_model.routing_model\u001b[0m:\u001b[36mfind_optimal_paths\u001b[0m:\u001b[36m451\u001b[0m - \u001b[1mbest_score: 1\u001b[0m\n",
      "\u001b[32m2025-08-04 12:05:58.892\u001b[0m | \u001b[1mINFO    \u001b[0m | \u001b[36mvrp_study.pdptw_model.routing_model\u001b[0m:\u001b[36mdo_solve\u001b[0m:\u001b[36m378\u001b[0m - \u001b[1mНачало создания модели\u001b[0m\n",
      "\u001b[32m2025-08-04 12:05:58.893\u001b[0m | \u001b[1mINFO    \u001b[0m | \u001b[36mvrp_study.pdptw_model.routing_model\u001b[0m:\u001b[36madd_distance_dimension\u001b[0m:\u001b[36m299\u001b[0m - \u001b[1mДобавление размерности для расстояния\u001b[0m\n",
      "\u001b[32m2025-08-04 12:05:58.895\u001b[0m | \u001b[1mINFO    \u001b[0m | \u001b[36mvrp_study.pdptw_model.routing_model\u001b[0m:\u001b[36madd_count_dimension\u001b[0m:\u001b[36m335\u001b[0m - \u001b[1mДобавление размерности для расстояния\u001b[0m\n",
      "\u001b[32m2025-08-04 12:05:58.897\u001b[0m | \u001b[1mINFO    \u001b[0m | \u001b[36mvrp_study.pdptw_model.routing_model\u001b[0m:\u001b[36madd_pick_up_and_delivery\u001b[0m:\u001b[36m269\u001b[0m - \u001b[1mДобавление ограничения для порядка доставки\u001b[0m\n",
      "\u001b[32m2025-08-04 12:05:58.898\u001b[0m | \u001b[1mINFO    \u001b[0m | \u001b[36mvrp_study.pdptw_model.routing_model\u001b[0m:\u001b[36madd_vehicles_cost\u001b[0m:\u001b[36m243\u001b[0m - \u001b[1mДобавление стоимостей машин\u001b[0m\n",
      "\u001b[32m2025-08-04 12:05:58.898\u001b[0m | \u001b[1mINFO    \u001b[0m | \u001b[36mvrp_study.pdptw_model.routing_model\u001b[0m:\u001b[36madd_time_window\u001b[0m:\u001b[36m194\u001b[0m - \u001b[1madd time\u001b[0m\n",
      "\u001b[32m2025-08-04 12:05:58.899\u001b[0m | \u001b[1mINFO    \u001b[0m | \u001b[36mvrp_study.pdptw_model.routing_model\u001b[0m:\u001b[36madd_mass_constraint\u001b[0m:\u001b[36m177\u001b[0m - \u001b[1mДобавление ограничений для массы\u001b[0m\n",
      "\u001b[32m2025-08-04 12:05:58.900\u001b[0m | \u001b[1mINFO    \u001b[0m | \u001b[36mvrp_study.pdptw_model.routing_model\u001b[0m:\u001b[36mdo_solve\u001b[0m:\u001b[36m407\u001b[0m - \u001b[1mНачало решения\u001b[0m\n",
      "\u001b[32m2025-08-04 12:05:58.901\u001b[0m | \u001b[1mINFO    \u001b[0m | \u001b[36mvrp_study.pdptw_model.routing_model\u001b[0m:\u001b[36mdo_solve\u001b[0m:\u001b[36m410\u001b[0m - \u001b[1muse initial_solution: 1\u001b[0m\n",
      "\u001b[32m2025-08-04 12:05:58.902\u001b[0m | \u001b[34m\u001b[1mDEBUG   \u001b[0m | \u001b[36mvrp_study.pdptw_model.routing_model\u001b[0m:\u001b[36m__call__\u001b[0m:\u001b[36m40\u001b[0m - \u001b[34m\u001b[1mtime: 0.002; new solution (1): 4850; best solution: 4850\u001b[0m\n",
      "\u001b[32m2025-08-04 12:05:58.903\u001b[0m | \u001b[34m\u001b[1mDEBUG   \u001b[0m | \u001b[36mvrp_study.pdptw_model.routing_model\u001b[0m:\u001b[36m__call__\u001b[0m:\u001b[36m40\u001b[0m - \u001b[34m\u001b[1mtime: 0.003; new solution (2): 4850; best solution: 4850\u001b[0m\n",
      "\u001b[32m2025-08-04 12:05:58.905\u001b[0m | \u001b[1mINFO    \u001b[0m | \u001b[36mvrp_study.pdptw_model.routing_model\u001b[0m:\u001b[36mdo_solve\u001b[0m:\u001b[36m423\u001b[0m - \u001b[1mfind solution\u001b[0m\n",
      "\u001b[32m2025-08-04 12:05:58.906\u001b[0m | \u001b[1mINFO    \u001b[0m | \u001b[36mvrp_study.pdptw_model.routing_model\u001b[0m:\u001b[36mfind_optimal_paths\u001b[0m:\u001b[36m464\u001b[0m - \u001b[1mbest_score: 48.50\u001b[0m\n",
      "\u001b[32m2025-08-04 12:05:58.906\u001b[0m | \u001b[1mINFO    \u001b[0m | \u001b[36msrc.vrp_study.pdptw_model.solution_builder\u001b[0m:\u001b[36mget_initial_solution\u001b[0m:\u001b[36m138\u001b[0m - \u001b[1m[[0, 3, 1, 2, 4, 0], [], [], [], [], [], [], [], [], [], [], [], [], [], [], [], [], [], [], [], [], [], [], [], [], [], [], [], [], [], [], [], [], [], [], [], [], [], [], [], [], [], [], [], [], [], [], [], [], [], [], [], [], [], [], [], [], [], [], [], [], [], [], [], [], [], [], [], [], [], [], [], [], [], [], [], [], [], [], [], [], [], [], [], [], [], [], [], [], [], [], []]\u001b[0m\n",
      "\u001b[32m2025-08-04 12:05:58.909\u001b[0m | \u001b[1mINFO    \u001b[0m | \u001b[36msrc.vrp_study.pdptw_model.solution_builder\u001b[0m:\u001b[36mget_initial_solution\u001b[0m:\u001b[36m118\u001b[0m - \u001b[1m(1, 32.074999999999996)\u001b[0m\n",
      "\u001b[32m2025-08-04 12:05:58.910\u001b[0m | \u001b[1mINFO    \u001b[0m | \u001b[36msrc.vrp_study.pdptw_model.solution_builder\u001b[0m:\u001b[36mget_initial_solution\u001b[0m:\u001b[36m118\u001b[0m - \u001b[1m(1, 16.0875)\u001b[0m\n",
      "\u001b[32m2025-08-04 12:05:58.911\u001b[0m | \u001b[1mINFO    \u001b[0m | \u001b[36msrc.vrp_study.pdptw_model.solution_builder\u001b[0m:\u001b[36mget_initial_solution\u001b[0m:\u001b[36m118\u001b[0m - \u001b[1m(1, 8.09375)\u001b[0m\n",
      "\u001b[32m2025-08-04 12:05:58.911\u001b[0m | \u001b[1mINFO    \u001b[0m | \u001b[36msrc.vrp_study.pdptw_model.solution_builder\u001b[0m:\u001b[36mget_initial_solution\u001b[0m:\u001b[36m118\u001b[0m - \u001b[1m(1, 4.096875)\u001b[0m\n",
      "\u001b[32m2025-08-04 12:05:58.912\u001b[0m | \u001b[1mINFO    \u001b[0m | \u001b[36msrc.vrp_study.pdptw_model.solution_builder\u001b[0m:\u001b[36mget_initial_solution\u001b[0m:\u001b[36m118\u001b[0m - \u001b[1m(1, 2.0984374999999997)\u001b[0m\n",
      "\u001b[32m2025-08-04 12:05:58.913\u001b[0m | \u001b[1mINFO    \u001b[0m | \u001b[36msrc.vrp_study.pdptw_model.solution_builder\u001b[0m:\u001b[36mget_initial_solution\u001b[0m:\u001b[36m118\u001b[0m - \u001b[1m(2, 1.09921875)\u001b[0m\n",
      "\u001b[32m2025-08-04 12:05:58.914\u001b[0m | \u001b[1mINFO    \u001b[0m | \u001b[36msrc.vrp_study.pdptw_model.solution_builder\u001b[0m:\u001b[36mget_initial_solution\u001b[0m:\u001b[36m118\u001b[0m - \u001b[1m(3, 0.599609375)\u001b[0m\n",
      "\u001b[32m2025-08-04 12:05:58.915\u001b[0m | \u001b[1mINFO    \u001b[0m | \u001b[36msrc.vrp_study.pdptw_model.solution_builder\u001b[0m:\u001b[36mget_initial_solution\u001b[0m:\u001b[36m118\u001b[0m - \u001b[1m(5, 0.3498046875)\u001b[0m\n",
      "\u001b[32m2025-08-04 12:05:58.915\u001b[0m | \u001b[1mINFO    \u001b[0m | \u001b[36msrc.vrp_study.pdptw_model.solution_builder\u001b[0m:\u001b[36mget_initial_solution\u001b[0m:\u001b[36m118\u001b[0m - \u001b[1m(5, 0.22490234375)\u001b[0m\n",
      "\u001b[32m2025-08-04 12:05:58.916\u001b[0m | \u001b[1mINFO    \u001b[0m | \u001b[36msrc.vrp_study.pdptw_model.solution_builder\u001b[0m:\u001b[36mget_initial_solution\u001b[0m:\u001b[36m118\u001b[0m - \u001b[1m(6, 0.16245117187500002)\u001b[0m\n"
     ]
    },
    {
     "data": {
      "application/vnd.jupyter.widget-view+json": {
       "model_id": "45498a515c7f4262a5a5128fd589a71e",
       "version_major": 2,
       "version_minor": 0
      },
      "text/plain": [
       "  0%|          | 0/3 [00:00<?, ?it/s]"
      ]
     },
     "metadata": {},
     "output_type": "display_data"
    },
    {
     "name": "stderr",
     "output_type": "stream",
     "text": [
      "\u001b[32m2025-08-04 12:05:58.923\u001b[0m | \u001b[1mINFO    \u001b[0m | \u001b[36mvrp_study.pdptw_model.routing_model\u001b[0m:\u001b[36mfind_optimal_paths\u001b[0m:\u001b[36m443\u001b[0m - \u001b[1mproblem size: 13\u001b[0m\n",
      "\u001b[32m2025-08-04 12:05:58.923\u001b[0m | \u001b[1mINFO    \u001b[0m | \u001b[36mvrp_study.pdptw_model.routing_model\u001b[0m:\u001b[36mdo_solve\u001b[0m:\u001b[36m378\u001b[0m - \u001b[1mНачало создания модели\u001b[0m\n",
      "\u001b[32m2025-08-04 12:05:58.925\u001b[0m | \u001b[1mINFO    \u001b[0m | \u001b[36mvrp_study.pdptw_model.routing_model\u001b[0m:\u001b[36madd_distance_dimension\u001b[0m:\u001b[36m299\u001b[0m - \u001b[1mДобавление размерности для расстояния\u001b[0m\n",
      "\u001b[32m2025-08-04 12:05:58.927\u001b[0m | \u001b[1mINFO    \u001b[0m | \u001b[36mvrp_study.pdptw_model.routing_model\u001b[0m:\u001b[36madd_count_dimension\u001b[0m:\u001b[36m335\u001b[0m - \u001b[1mДобавление размерности для расстояния\u001b[0m\n",
      "\u001b[32m2025-08-04 12:05:58.928\u001b[0m | \u001b[1mINFO    \u001b[0m | \u001b[36mvrp_study.pdptw_model.routing_model\u001b[0m:\u001b[36madd_pick_up_and_delivery\u001b[0m:\u001b[36m269\u001b[0m - \u001b[1mДобавление ограничения для порядка доставки\u001b[0m\n",
      "\u001b[32m2025-08-04 12:05:58.930\u001b[0m | \u001b[1mINFO    \u001b[0m | \u001b[36mvrp_study.pdptw_model.routing_model\u001b[0m:\u001b[36madd_time_window\u001b[0m:\u001b[36m194\u001b[0m - \u001b[1madd time\u001b[0m\n",
      "\u001b[32m2025-08-04 12:05:58.931\u001b[0m | \u001b[1mINFO    \u001b[0m | \u001b[36mvrp_study.pdptw_model.routing_model\u001b[0m:\u001b[36madd_mass_constraint\u001b[0m:\u001b[36m177\u001b[0m - \u001b[1mДобавление ограничений для массы\u001b[0m\n",
      "\u001b[32m2025-08-04 12:05:58.937\u001b[0m | \u001b[1mINFO    \u001b[0m | \u001b[36mvrp_study.pdptw_model.routing_model\u001b[0m:\u001b[36mdo_solve\u001b[0m:\u001b[36m407\u001b[0m - \u001b[1mНачало решения\u001b[0m\n",
      "\u001b[32m2025-08-04 12:05:58.944\u001b[0m | \u001b[34m\u001b[1mDEBUG   \u001b[0m | \u001b[36mvrp_study.pdptw_model.routing_model\u001b[0m:\u001b[36m__call__\u001b[0m:\u001b[36m40\u001b[0m - \u001b[34m\u001b[1mtime: 0.012; new solution (1): 1; best solution: 1\u001b[0m\n",
      "\u001b[32m2025-08-04 12:05:58.968\u001b[0m | \u001b[1mINFO    \u001b[0m | \u001b[36mvrp_study.pdptw_model.routing_model\u001b[0m:\u001b[36mdo_solve\u001b[0m:\u001b[36m423\u001b[0m - \u001b[1mfind solution\u001b[0m\n",
      "\u001b[32m2025-08-04 12:05:58.969\u001b[0m | \u001b[1mINFO    \u001b[0m | \u001b[36mvrp_study.pdptw_model.routing_model\u001b[0m:\u001b[36mfind_optimal_paths\u001b[0m:\u001b[36m451\u001b[0m - \u001b[1mbest_score: 1\u001b[0m\n",
      "\u001b[32m2025-08-04 12:05:58.970\u001b[0m | \u001b[1mINFO    \u001b[0m | \u001b[36mvrp_study.pdptw_model.routing_model\u001b[0m:\u001b[36mdo_solve\u001b[0m:\u001b[36m378\u001b[0m - \u001b[1mНачало создания модели\u001b[0m\n",
      "\u001b[32m2025-08-04 12:05:58.971\u001b[0m | \u001b[1mINFO    \u001b[0m | \u001b[36mvrp_study.pdptw_model.routing_model\u001b[0m:\u001b[36madd_distance_dimension\u001b[0m:\u001b[36m299\u001b[0m - \u001b[1mДобавление размерности для расстояния\u001b[0m\n",
      "\u001b[32m2025-08-04 12:05:58.972\u001b[0m | \u001b[1mINFO    \u001b[0m | \u001b[36mvrp_study.pdptw_model.routing_model\u001b[0m:\u001b[36madd_count_dimension\u001b[0m:\u001b[36m335\u001b[0m - \u001b[1mДобавление размерности для расстояния\u001b[0m\n",
      "\u001b[32m2025-08-04 12:05:58.973\u001b[0m | \u001b[1mINFO    \u001b[0m | \u001b[36mvrp_study.pdptw_model.routing_model\u001b[0m:\u001b[36madd_pick_up_and_delivery\u001b[0m:\u001b[36m269\u001b[0m - \u001b[1mДобавление ограничения для порядка доставки\u001b[0m\n",
      "\u001b[32m2025-08-04 12:05:58.973\u001b[0m | \u001b[1mINFO    \u001b[0m | \u001b[36mvrp_study.pdptw_model.routing_model\u001b[0m:\u001b[36madd_vehicles_cost\u001b[0m:\u001b[36m243\u001b[0m - \u001b[1mДобавление стоимостей машин\u001b[0m\n",
      "\u001b[32m2025-08-04 12:05:58.973\u001b[0m | \u001b[1mINFO    \u001b[0m | \u001b[36mvrp_study.pdptw_model.routing_model\u001b[0m:\u001b[36madd_time_window\u001b[0m:\u001b[36m194\u001b[0m - \u001b[1madd time\u001b[0m\n",
      "\u001b[32m2025-08-04 12:05:58.976\u001b[0m | \u001b[1mINFO    \u001b[0m | \u001b[36mvrp_study.pdptw_model.routing_model\u001b[0m:\u001b[36madd_mass_constraint\u001b[0m:\u001b[36m177\u001b[0m - \u001b[1mДобавление ограничений для массы\u001b[0m\n",
      "\u001b[32m2025-08-04 12:05:58.978\u001b[0m | \u001b[1mINFO    \u001b[0m | \u001b[36mvrp_study.pdptw_model.routing_model\u001b[0m:\u001b[36mdo_solve\u001b[0m:\u001b[36m407\u001b[0m - \u001b[1mНачало решения\u001b[0m\n",
      "\u001b[32m2025-08-04 12:05:58.979\u001b[0m | \u001b[1mINFO    \u001b[0m | \u001b[36mvrp_study.pdptw_model.routing_model\u001b[0m:\u001b[36mdo_solve\u001b[0m:\u001b[36m410\u001b[0m - \u001b[1muse initial_solution: 1\u001b[0m\n",
      "\u001b[32m2025-08-04 12:05:58.980\u001b[0m | \u001b[34m\u001b[1mDEBUG   \u001b[0m | \u001b[36mvrp_study.pdptw_model.routing_model\u001b[0m:\u001b[36m__call__\u001b[0m:\u001b[36m40\u001b[0m - \u001b[34m\u001b[1mtime: 0.003; new solution (1): 14446; best solution: 14446\u001b[0m\n",
      "\u001b[32m2025-08-04 12:05:58.981\u001b[0m | \u001b[34m\u001b[1mDEBUG   \u001b[0m | \u001b[36mvrp_study.pdptw_model.routing_model\u001b[0m:\u001b[36m__call__\u001b[0m:\u001b[36m40\u001b[0m - \u001b[34m\u001b[1mtime: 0.004; new solution (2): 14446; best solution: 14446\u001b[0m\n",
      "\u001b[32m2025-08-04 12:05:58.994\u001b[0m | \u001b[1mINFO    \u001b[0m | \u001b[36mvrp_study.pdptw_model.routing_model\u001b[0m:\u001b[36mdo_solve\u001b[0m:\u001b[36m423\u001b[0m - \u001b[1mfind solution\u001b[0m\n",
      "\u001b[32m2025-08-04 12:05:58.995\u001b[0m | \u001b[1mINFO    \u001b[0m | \u001b[36mvrp_study.pdptw_model.routing_model\u001b[0m:\u001b[36mfind_optimal_paths\u001b[0m:\u001b[36m464\u001b[0m - \u001b[1mbest_score: 144.46\u001b[0m\n",
      "\u001b[32m2025-08-04 12:05:58.996\u001b[0m | \u001b[1mINFO    \u001b[0m | \u001b[36msrc.vrp_study.pdptw_model.solution_builder\u001b[0m:\u001b[36mget_initial_solution\u001b[0m:\u001b[36m138\u001b[0m - \u001b[1m[[0, 11, 3, 12, 4, 1, 7, 8, 9, 2, 5, 10, 6, 0], [], [], [], [], [], [], [], [], [], [], [], [], [], [], [], [], [], [], [], [], [], [], [], [], [], [], [], [], [], [], [], [], [], [], [], [], [], [], [], [], [], [], [], [], [], [], [], [], [], [], [], [], [], [], [], [], [], [], [], [], [], [], [], [], [], [], [], [], [], [], [], [], [], [], [], [], [], [], [], [], [], [], [], [], [], [], [], [], [], []]\u001b[0m\n",
      "\u001b[32m2025-08-04 12:05:58.996\u001b[0m | \u001b[1mINFO    \u001b[0m | \u001b[36mvrp_study.pdptw_model.routing_model\u001b[0m:\u001b[36mfind_optimal_paths\u001b[0m:\u001b[36m443\u001b[0m - \u001b[1mproblem size: 11\u001b[0m\n",
      "\u001b[32m2025-08-04 12:05:58.997\u001b[0m | \u001b[1mINFO    \u001b[0m | \u001b[36mvrp_study.pdptw_model.routing_model\u001b[0m:\u001b[36mdo_solve\u001b[0m:\u001b[36m378\u001b[0m - \u001b[1mНачало создания модели\u001b[0m\n",
      "\u001b[32m2025-08-04 12:05:58.999\u001b[0m | \u001b[1mINFO    \u001b[0m | \u001b[36mvrp_study.pdptw_model.routing_model\u001b[0m:\u001b[36madd_distance_dimension\u001b[0m:\u001b[36m299\u001b[0m - \u001b[1mДобавление размерности для расстояния\u001b[0m\n",
      "\u001b[32m2025-08-04 12:05:59.000\u001b[0m | \u001b[1mINFO    \u001b[0m | \u001b[36mvrp_study.pdptw_model.routing_model\u001b[0m:\u001b[36madd_count_dimension\u001b[0m:\u001b[36m335\u001b[0m - \u001b[1mДобавление размерности для расстояния\u001b[0m\n",
      "\u001b[32m2025-08-04 12:05:59.001\u001b[0m | \u001b[1mINFO    \u001b[0m | \u001b[36mvrp_study.pdptw_model.routing_model\u001b[0m:\u001b[36madd_pick_up_and_delivery\u001b[0m:\u001b[36m269\u001b[0m - \u001b[1mДобавление ограничения для порядка доставки\u001b[0m\n",
      "\u001b[32m2025-08-04 12:05:59.001\u001b[0m | \u001b[1mINFO    \u001b[0m | \u001b[36mvrp_study.pdptw_model.routing_model\u001b[0m:\u001b[36madd_time_window\u001b[0m:\u001b[36m194\u001b[0m - \u001b[1madd time\u001b[0m\n",
      "\u001b[32m2025-08-04 12:05:59.002\u001b[0m | \u001b[1mINFO    \u001b[0m | \u001b[36mvrp_study.pdptw_model.routing_model\u001b[0m:\u001b[36madd_mass_constraint\u001b[0m:\u001b[36m177\u001b[0m - \u001b[1mДобавление ограничений для массы\u001b[0m\n",
      "\u001b[32m2025-08-04 12:05:59.010\u001b[0m | \u001b[1mINFO    \u001b[0m | \u001b[36mvrp_study.pdptw_model.routing_model\u001b[0m:\u001b[36mdo_solve\u001b[0m:\u001b[36m407\u001b[0m - \u001b[1mНачало решения\u001b[0m\n",
      "\u001b[32m2025-08-04 12:05:59.018\u001b[0m | \u001b[34m\u001b[1mDEBUG   \u001b[0m | \u001b[36mvrp_study.pdptw_model.routing_model\u001b[0m:\u001b[36m__call__\u001b[0m:\u001b[36m40\u001b[0m - \u001b[34m\u001b[1mtime: 0.014; new solution (1): 1; best solution: 1\u001b[0m\n",
      "\u001b[32m2025-08-04 12:05:59.037\u001b[0m | \u001b[1mINFO    \u001b[0m | \u001b[36mvrp_study.pdptw_model.routing_model\u001b[0m:\u001b[36mdo_solve\u001b[0m:\u001b[36m423\u001b[0m - \u001b[1mfind solution\u001b[0m\n",
      "\u001b[32m2025-08-04 12:05:59.038\u001b[0m | \u001b[1mINFO    \u001b[0m | \u001b[36mvrp_study.pdptw_model.routing_model\u001b[0m:\u001b[36mfind_optimal_paths\u001b[0m:\u001b[36m451\u001b[0m - \u001b[1mbest_score: 1\u001b[0m\n",
      "\u001b[32m2025-08-04 12:05:59.039\u001b[0m | \u001b[1mINFO    \u001b[0m | \u001b[36mvrp_study.pdptw_model.routing_model\u001b[0m:\u001b[36mdo_solve\u001b[0m:\u001b[36m378\u001b[0m - \u001b[1mНачало создания модели\u001b[0m\n",
      "\u001b[32m2025-08-04 12:05:59.041\u001b[0m | \u001b[1mINFO    \u001b[0m | \u001b[36mvrp_study.pdptw_model.routing_model\u001b[0m:\u001b[36madd_distance_dimension\u001b[0m:\u001b[36m299\u001b[0m - \u001b[1mДобавление размерности для расстояния\u001b[0m\n",
      "\u001b[32m2025-08-04 12:05:59.041\u001b[0m | \u001b[1mINFO    \u001b[0m | \u001b[36mvrp_study.pdptw_model.routing_model\u001b[0m:\u001b[36madd_count_dimension\u001b[0m:\u001b[36m335\u001b[0m - \u001b[1mДобавление размерности для расстояния\u001b[0m\n",
      "\u001b[32m2025-08-04 12:05:59.042\u001b[0m | \u001b[1mINFO    \u001b[0m | \u001b[36mvrp_study.pdptw_model.routing_model\u001b[0m:\u001b[36madd_pick_up_and_delivery\u001b[0m:\u001b[36m269\u001b[0m - \u001b[1mДобавление ограничения для порядка доставки\u001b[0m\n",
      "\u001b[32m2025-08-04 12:05:59.043\u001b[0m | \u001b[1mINFO    \u001b[0m | \u001b[36mvrp_study.pdptw_model.routing_model\u001b[0m:\u001b[36madd_vehicles_cost\u001b[0m:\u001b[36m243\u001b[0m - \u001b[1mДобавление стоимостей машин\u001b[0m\n",
      "\u001b[32m2025-08-04 12:05:59.045\u001b[0m | \u001b[1mINFO    \u001b[0m | \u001b[36mvrp_study.pdptw_model.routing_model\u001b[0m:\u001b[36madd_time_window\u001b[0m:\u001b[36m194\u001b[0m - \u001b[1madd time\u001b[0m\n",
      "\u001b[32m2025-08-04 12:05:59.047\u001b[0m | \u001b[1mINFO    \u001b[0m | \u001b[36mvrp_study.pdptw_model.routing_model\u001b[0m:\u001b[36madd_mass_constraint\u001b[0m:\u001b[36m177\u001b[0m - \u001b[1mДобавление ограничений для массы\u001b[0m\n",
      "\u001b[32m2025-08-04 12:05:59.048\u001b[0m | \u001b[1mINFO    \u001b[0m | \u001b[36mvrp_study.pdptw_model.routing_model\u001b[0m:\u001b[36mdo_solve\u001b[0m:\u001b[36m407\u001b[0m - \u001b[1mНачало решения\u001b[0m\n",
      "\u001b[32m2025-08-04 12:05:59.049\u001b[0m | \u001b[1mINFO    \u001b[0m | \u001b[36mvrp_study.pdptw_model.routing_model\u001b[0m:\u001b[36mdo_solve\u001b[0m:\u001b[36m410\u001b[0m - \u001b[1muse initial_solution: 1\u001b[0m\n",
      "\u001b[32m2025-08-04 12:05:59.050\u001b[0m | \u001b[34m\u001b[1mDEBUG   \u001b[0m | \u001b[36mvrp_study.pdptw_model.routing_model\u001b[0m:\u001b[36m__call__\u001b[0m:\u001b[36m40\u001b[0m - \u001b[34m\u001b[1mtime: 0.002; new solution (1): 19141; best solution: 19141\u001b[0m\n",
      "\u001b[32m2025-08-04 12:05:59.051\u001b[0m | \u001b[34m\u001b[1mDEBUG   \u001b[0m | \u001b[36mvrp_study.pdptw_model.routing_model\u001b[0m:\u001b[36m__call__\u001b[0m:\u001b[36m40\u001b[0m - \u001b[34m\u001b[1mtime: 0.003; new solution (2): 19141; best solution: 19141\u001b[0m\n",
      "\u001b[32m2025-08-04 12:05:59.060\u001b[0m | \u001b[1mINFO    \u001b[0m | \u001b[36mvrp_study.pdptw_model.routing_model\u001b[0m:\u001b[36mdo_solve\u001b[0m:\u001b[36m423\u001b[0m - \u001b[1mfind solution\u001b[0m\n",
      "\u001b[32m2025-08-04 12:05:59.061\u001b[0m | \u001b[1mINFO    \u001b[0m | \u001b[36mvrp_study.pdptw_model.routing_model\u001b[0m:\u001b[36mfind_optimal_paths\u001b[0m:\u001b[36m464\u001b[0m - \u001b[1mbest_score: 191.41\u001b[0m\n",
      "\u001b[32m2025-08-04 12:05:59.063\u001b[0m | \u001b[1mINFO    \u001b[0m | \u001b[36msrc.vrp_study.pdptw_model.solution_builder\u001b[0m:\u001b[36mget_initial_solution\u001b[0m:\u001b[36m138\u001b[0m - \u001b[1m[[0, 9, 7, 5, 8, 6, 10, 3, 1, 2, 4, 0], [], [], [], [], [], [], [], [], [], [], [], [], [], [], [], [], [], [], [], [], [], [], [], [], [], [], [], [], [], [], [], [], [], [], [], [], [], [], [], [], [], [], [], [], [], [], [], [], [], [], [], [], [], [], [], [], [], [], [], [], [], [], [], [], [], [], [], [], [], [], [], [], [], [], [], [], [], [], [], [], [], [], [], [], [], [], [], [], []]\u001b[0m\n",
      "\u001b[32m2025-08-04 12:05:59.064\u001b[0m | \u001b[1mINFO    \u001b[0m | \u001b[36mvrp_study.pdptw_model.routing_model\u001b[0m:\u001b[36mfind_optimal_paths\u001b[0m:\u001b[36m443\u001b[0m - \u001b[1mproblem size: 9\u001b[0m\n",
      "\u001b[32m2025-08-04 12:05:59.065\u001b[0m | \u001b[1mINFO    \u001b[0m | \u001b[36mvrp_study.pdptw_model.routing_model\u001b[0m:\u001b[36mdo_solve\u001b[0m:\u001b[36m378\u001b[0m - \u001b[1mНачало создания модели\u001b[0m\n",
      "\u001b[32m2025-08-04 12:05:59.068\u001b[0m | \u001b[1mINFO    \u001b[0m | \u001b[36mvrp_study.pdptw_model.routing_model\u001b[0m:\u001b[36madd_distance_dimension\u001b[0m:\u001b[36m299\u001b[0m - \u001b[1mДобавление размерности для расстояния\u001b[0m\n",
      "\u001b[32m2025-08-04 12:05:59.069\u001b[0m | \u001b[1mINFO    \u001b[0m | \u001b[36mvrp_study.pdptw_model.routing_model\u001b[0m:\u001b[36madd_count_dimension\u001b[0m:\u001b[36m335\u001b[0m - \u001b[1mДобавление размерности для расстояния\u001b[0m\n",
      "\u001b[32m2025-08-04 12:05:59.070\u001b[0m | \u001b[1mINFO    \u001b[0m | \u001b[36mvrp_study.pdptw_model.routing_model\u001b[0m:\u001b[36madd_pick_up_and_delivery\u001b[0m:\u001b[36m269\u001b[0m - \u001b[1mДобавление ограничения для порядка доставки\u001b[0m\n",
      "\u001b[32m2025-08-04 12:05:59.071\u001b[0m | \u001b[1mINFO    \u001b[0m | \u001b[36mvrp_study.pdptw_model.routing_model\u001b[0m:\u001b[36madd_time_window\u001b[0m:\u001b[36m194\u001b[0m - \u001b[1madd time\u001b[0m\n",
      "\u001b[32m2025-08-04 12:05:59.072\u001b[0m | \u001b[1mINFO    \u001b[0m | \u001b[36mvrp_study.pdptw_model.routing_model\u001b[0m:\u001b[36madd_mass_constraint\u001b[0m:\u001b[36m177\u001b[0m - \u001b[1mДобавление ограничений для массы\u001b[0m\n",
      "\u001b[32m2025-08-04 12:05:59.079\u001b[0m | \u001b[1mINFO    \u001b[0m | \u001b[36mvrp_study.pdptw_model.routing_model\u001b[0m:\u001b[36mdo_solve\u001b[0m:\u001b[36m407\u001b[0m - \u001b[1mНачало решения\u001b[0m\n",
      "\u001b[32m2025-08-04 12:05:59.086\u001b[0m | \u001b[34m\u001b[1mDEBUG   \u001b[0m | \u001b[36mvrp_study.pdptw_model.routing_model\u001b[0m:\u001b[36m__call__\u001b[0m:\u001b[36m40\u001b[0m - \u001b[34m\u001b[1mtime: 0.013; new solution (1): 1; best solution: 1\u001b[0m\n",
      "\u001b[32m2025-08-04 12:05:59.098\u001b[0m | \u001b[1mINFO    \u001b[0m | \u001b[36mvrp_study.pdptw_model.routing_model\u001b[0m:\u001b[36mdo_solve\u001b[0m:\u001b[36m423\u001b[0m - \u001b[1mfind solution\u001b[0m\n",
      "\u001b[32m2025-08-04 12:05:59.099\u001b[0m | \u001b[1mINFO    \u001b[0m | \u001b[36mvrp_study.pdptw_model.routing_model\u001b[0m:\u001b[36mfind_optimal_paths\u001b[0m:\u001b[36m451\u001b[0m - \u001b[1mbest_score: 1\u001b[0m\n",
      "\u001b[32m2025-08-04 12:05:59.100\u001b[0m | \u001b[1mINFO    \u001b[0m | \u001b[36mvrp_study.pdptw_model.routing_model\u001b[0m:\u001b[36mdo_solve\u001b[0m:\u001b[36m378\u001b[0m - \u001b[1mНачало создания модели\u001b[0m\n",
      "\u001b[32m2025-08-04 12:05:59.101\u001b[0m | \u001b[1mINFO    \u001b[0m | \u001b[36mvrp_study.pdptw_model.routing_model\u001b[0m:\u001b[36madd_distance_dimension\u001b[0m:\u001b[36m299\u001b[0m - \u001b[1mДобавление размерности для расстояния\u001b[0m\n",
      "\u001b[32m2025-08-04 12:05:59.102\u001b[0m | \u001b[1mINFO    \u001b[0m | \u001b[36mvrp_study.pdptw_model.routing_model\u001b[0m:\u001b[36madd_count_dimension\u001b[0m:\u001b[36m335\u001b[0m - \u001b[1mДобавление размерности для расстояния\u001b[0m\n",
      "\u001b[32m2025-08-04 12:05:59.102\u001b[0m | \u001b[1mINFO    \u001b[0m | \u001b[36mvrp_study.pdptw_model.routing_model\u001b[0m:\u001b[36madd_pick_up_and_delivery\u001b[0m:\u001b[36m269\u001b[0m - \u001b[1mДобавление ограничения для порядка доставки\u001b[0m\n",
      "\u001b[32m2025-08-04 12:05:59.104\u001b[0m | \u001b[1mINFO    \u001b[0m | \u001b[36mvrp_study.pdptw_model.routing_model\u001b[0m:\u001b[36madd_vehicles_cost\u001b[0m:\u001b[36m243\u001b[0m - \u001b[1mДобавление стоимостей машин\u001b[0m\n",
      "\u001b[32m2025-08-04 12:05:59.104\u001b[0m | \u001b[1mINFO    \u001b[0m | \u001b[36mvrp_study.pdptw_model.routing_model\u001b[0m:\u001b[36madd_time_window\u001b[0m:\u001b[36m194\u001b[0m - \u001b[1madd time\u001b[0m\n",
      "\u001b[32m2025-08-04 12:05:59.105\u001b[0m | \u001b[1mINFO    \u001b[0m | \u001b[36mvrp_study.pdptw_model.routing_model\u001b[0m:\u001b[36madd_mass_constraint\u001b[0m:\u001b[36m177\u001b[0m - \u001b[1mДобавление ограничений для массы\u001b[0m\n",
      "\u001b[32m2025-08-04 12:05:59.106\u001b[0m | \u001b[1mINFO    \u001b[0m | \u001b[36mvrp_study.pdptw_model.routing_model\u001b[0m:\u001b[36mdo_solve\u001b[0m:\u001b[36m407\u001b[0m - \u001b[1mНачало решения\u001b[0m\n",
      "\u001b[32m2025-08-04 12:05:59.107\u001b[0m | \u001b[1mINFO    \u001b[0m | \u001b[36mvrp_study.pdptw_model.routing_model\u001b[0m:\u001b[36mdo_solve\u001b[0m:\u001b[36m410\u001b[0m - \u001b[1muse initial_solution: 1\u001b[0m\n",
      "\u001b[32m2025-08-04 12:05:59.108\u001b[0m | \u001b[34m\u001b[1mDEBUG   \u001b[0m | \u001b[36mvrp_study.pdptw_model.routing_model\u001b[0m:\u001b[36m__call__\u001b[0m:\u001b[36m40\u001b[0m - \u001b[34m\u001b[1mtime: 0.002; new solution (1): 14590; best solution: 14590\u001b[0m\n",
      "\u001b[32m2025-08-04 12:05:59.109\u001b[0m | \u001b[34m\u001b[1mDEBUG   \u001b[0m | \u001b[36mvrp_study.pdptw_model.routing_model\u001b[0m:\u001b[36m__call__\u001b[0m:\u001b[36m40\u001b[0m - \u001b[34m\u001b[1mtime: 0.003; new solution (2): 14590; best solution: 14590\u001b[0m\n",
      "\u001b[32m2025-08-04 12:05:59.111\u001b[0m | \u001b[34m\u001b[1mDEBUG   \u001b[0m | \u001b[36mvrp_study.pdptw_model.routing_model\u001b[0m:\u001b[36m__call__\u001b[0m:\u001b[36m40\u001b[0m - \u001b[34m\u001b[1mtime: 0.005; new solution (3): 13697; best solution: 13697\u001b[0m\n",
      "\u001b[32m2025-08-04 12:05:59.117\u001b[0m | \u001b[1mINFO    \u001b[0m | \u001b[36mvrp_study.pdptw_model.routing_model\u001b[0m:\u001b[36mdo_solve\u001b[0m:\u001b[36m423\u001b[0m - \u001b[1mfind solution\u001b[0m\n",
      "\u001b[32m2025-08-04 12:05:59.118\u001b[0m | \u001b[1mINFO    \u001b[0m | \u001b[36mvrp_study.pdptw_model.routing_model\u001b[0m:\u001b[36mfind_optimal_paths\u001b[0m:\u001b[36m464\u001b[0m - \u001b[1mbest_score: 136.97\u001b[0m\n",
      "\u001b[32m2025-08-04 12:05:59.118\u001b[0m | \u001b[1mINFO    \u001b[0m | \u001b[36msrc.vrp_study.pdptw_model.solution_builder\u001b[0m:\u001b[36mget_initial_solution\u001b[0m:\u001b[36m138\u001b[0m - \u001b[1m[[0, 3, 7, 5, 8, 4, 1, 2, 6, 0], [], [], [], [], [], [], [], [], [], [], [], [], [], [], [], [], [], [], [], [], [], [], [], [], [], [], [], [], [], [], [], [], [], [], [], [], [], [], [], [], [], [], [], [], [], [], [], [], [], [], [], [], [], [], [], [], [], [], [], [], [], [], [], [], [], [], [], [], [], [], [], [], [], [], [], [], [], [], [], [], [], [], [], [], [], [], [], []]\u001b[0m\n",
      "\u001b[32m2025-08-04 12:05:59.120\u001b[0m | \u001b[1mINFO    \u001b[0m | \u001b[36msrc.vrp_study.pdptw_model.solution_builder\u001b[0m:\u001b[36mget_initial_solution\u001b[0m:\u001b[36m118\u001b[0m - \u001b[1m(1, 32.074999999999996)\u001b[0m\n",
      "\u001b[32m2025-08-04 12:05:59.120\u001b[0m | \u001b[1mINFO    \u001b[0m | \u001b[36msrc.vrp_study.pdptw_model.solution_builder\u001b[0m:\u001b[36mget_initial_solution\u001b[0m:\u001b[36m118\u001b[0m - \u001b[1m(1, 16.0875)\u001b[0m\n",
      "\u001b[32m2025-08-04 12:05:59.121\u001b[0m | \u001b[1mINFO    \u001b[0m | \u001b[36msrc.vrp_study.pdptw_model.solution_builder\u001b[0m:\u001b[36mget_initial_solution\u001b[0m:\u001b[36m118\u001b[0m - \u001b[1m(1, 8.09375)\u001b[0m\n",
      "\u001b[32m2025-08-04 12:05:59.121\u001b[0m | \u001b[1mINFO    \u001b[0m | \u001b[36msrc.vrp_study.pdptw_model.solution_builder\u001b[0m:\u001b[36mget_initial_solution\u001b[0m:\u001b[36m118\u001b[0m - \u001b[1m(1, 4.096875)\u001b[0m\n",
      "\u001b[32m2025-08-04 12:05:59.122\u001b[0m | \u001b[1mINFO    \u001b[0m | \u001b[36msrc.vrp_study.pdptw_model.solution_builder\u001b[0m:\u001b[36mget_initial_solution\u001b[0m:\u001b[36m118\u001b[0m - \u001b[1m(1, 2.0984374999999997)\u001b[0m\n",
      "\u001b[32m2025-08-04 12:05:59.122\u001b[0m | \u001b[1mINFO    \u001b[0m | \u001b[36msrc.vrp_study.pdptw_model.solution_builder\u001b[0m:\u001b[36mget_initial_solution\u001b[0m:\u001b[36m118\u001b[0m - \u001b[1m(2, 1.09921875)\u001b[0m\n",
      "\u001b[32m2025-08-04 12:05:59.123\u001b[0m | \u001b[1mINFO    \u001b[0m | \u001b[36msrc.vrp_study.pdptw_model.solution_builder\u001b[0m:\u001b[36mget_initial_solution\u001b[0m:\u001b[36m118\u001b[0m - \u001b[1m(3, 0.599609375)\u001b[0m\n",
      "\u001b[32m2025-08-04 12:05:59.124\u001b[0m | \u001b[1mINFO    \u001b[0m | \u001b[36msrc.vrp_study.pdptw_model.solution_builder\u001b[0m:\u001b[36mget_initial_solution\u001b[0m:\u001b[36m118\u001b[0m - \u001b[1m(4, 0.3498046875)\u001b[0m\n",
      "\u001b[32m2025-08-04 12:05:59.125\u001b[0m | \u001b[1mINFO    \u001b[0m | \u001b[36msrc.vrp_study.pdptw_model.solution_builder\u001b[0m:\u001b[36mget_initial_solution\u001b[0m:\u001b[36m118\u001b[0m - \u001b[1m(4, 0.22490234375)\u001b[0m\n",
      "\u001b[32m2025-08-04 12:05:59.125\u001b[0m | \u001b[1mINFO    \u001b[0m | \u001b[36msrc.vrp_study.pdptw_model.solution_builder\u001b[0m:\u001b[36mget_initial_solution\u001b[0m:\u001b[36m118\u001b[0m - \u001b[1m(5, 0.16245117187500002)\u001b[0m\n"
     ]
    },
    {
     "data": {
      "application/vnd.jupyter.widget-view+json": {
       "model_id": "e94a5c1b2f384aa48429f2f49ecbdad7",
       "version_major": 2,
       "version_minor": 0
      },
      "text/plain": [
       "  0%|          | 0/1 [00:00<?, ?it/s]"
      ]
     },
     "metadata": {},
     "output_type": "display_data"
    },
    {
     "name": "stderr",
     "output_type": "stream",
     "text": [
      "\u001b[32m2025-08-04 12:05:59.133\u001b[0m | \u001b[1mINFO    \u001b[0m | \u001b[36mvrp_study.pdptw_model.routing_model\u001b[0m:\u001b[36mfind_optimal_paths\u001b[0m:\u001b[36m443\u001b[0m - \u001b[1mproblem size: 11\u001b[0m\n",
      "\u001b[32m2025-08-04 12:05:59.134\u001b[0m | \u001b[1mINFO    \u001b[0m | \u001b[36mvrp_study.pdptw_model.routing_model\u001b[0m:\u001b[36mdo_solve\u001b[0m:\u001b[36m378\u001b[0m - \u001b[1mНачало создания модели\u001b[0m\n",
      "\u001b[32m2025-08-04 12:05:59.135\u001b[0m | \u001b[1mINFO    \u001b[0m | \u001b[36mvrp_study.pdptw_model.routing_model\u001b[0m:\u001b[36madd_distance_dimension\u001b[0m:\u001b[36m299\u001b[0m - \u001b[1mДобавление размерности для расстояния\u001b[0m\n",
      "\u001b[32m2025-08-04 12:05:59.136\u001b[0m | \u001b[1mINFO    \u001b[0m | \u001b[36mvrp_study.pdptw_model.routing_model\u001b[0m:\u001b[36madd_count_dimension\u001b[0m:\u001b[36m335\u001b[0m - \u001b[1mДобавление размерности для расстояния\u001b[0m\n",
      "\u001b[32m2025-08-04 12:05:59.137\u001b[0m | \u001b[1mINFO    \u001b[0m | \u001b[36mvrp_study.pdptw_model.routing_model\u001b[0m:\u001b[36madd_pick_up_and_delivery\u001b[0m:\u001b[36m269\u001b[0m - \u001b[1mДобавление ограничения для порядка доставки\u001b[0m\n",
      "\u001b[32m2025-08-04 12:05:59.138\u001b[0m | \u001b[1mINFO    \u001b[0m | \u001b[36mvrp_study.pdptw_model.routing_model\u001b[0m:\u001b[36madd_time_window\u001b[0m:\u001b[36m194\u001b[0m - \u001b[1madd time\u001b[0m\n",
      "\u001b[32m2025-08-04 12:05:59.139\u001b[0m | \u001b[1mINFO    \u001b[0m | \u001b[36mvrp_study.pdptw_model.routing_model\u001b[0m:\u001b[36madd_mass_constraint\u001b[0m:\u001b[36m177\u001b[0m - \u001b[1mДобавление ограничений для массы\u001b[0m\n",
      "\u001b[32m2025-08-04 12:05:59.144\u001b[0m | \u001b[1mINFO    \u001b[0m | \u001b[36mvrp_study.pdptw_model.routing_model\u001b[0m:\u001b[36mdo_solve\u001b[0m:\u001b[36m407\u001b[0m - \u001b[1mНачало решения\u001b[0m\n",
      "\u001b[32m2025-08-04 12:05:59.150\u001b[0m | \u001b[34m\u001b[1mDEBUG   \u001b[0m | \u001b[36mvrp_study.pdptw_model.routing_model\u001b[0m:\u001b[36m__call__\u001b[0m:\u001b[36m40\u001b[0m - \u001b[34m\u001b[1mtime: 0.010; new solution (1): 1; best solution: 1\u001b[0m\n",
      "\u001b[32m2025-08-04 12:05:59.165\u001b[0m | \u001b[1mINFO    \u001b[0m | \u001b[36mvrp_study.pdptw_model.routing_model\u001b[0m:\u001b[36mdo_solve\u001b[0m:\u001b[36m423\u001b[0m - \u001b[1mfind solution\u001b[0m\n",
      "\u001b[32m2025-08-04 12:05:59.166\u001b[0m | \u001b[1mINFO    \u001b[0m | \u001b[36mvrp_study.pdptw_model.routing_model\u001b[0m:\u001b[36mfind_optimal_paths\u001b[0m:\u001b[36m451\u001b[0m - \u001b[1mbest_score: 1\u001b[0m\n",
      "\u001b[32m2025-08-04 12:05:59.166\u001b[0m | \u001b[1mINFO    \u001b[0m | \u001b[36mvrp_study.pdptw_model.routing_model\u001b[0m:\u001b[36mdo_solve\u001b[0m:\u001b[36m378\u001b[0m - \u001b[1mНачало создания модели\u001b[0m\n",
      "\u001b[32m2025-08-04 12:05:59.167\u001b[0m | \u001b[1mINFO    \u001b[0m | \u001b[36mvrp_study.pdptw_model.routing_model\u001b[0m:\u001b[36madd_distance_dimension\u001b[0m:\u001b[36m299\u001b[0m - \u001b[1mДобавление размерности для расстояния\u001b[0m\n",
      "\u001b[32m2025-08-04 12:05:59.168\u001b[0m | \u001b[1mINFO    \u001b[0m | \u001b[36mvrp_study.pdptw_model.routing_model\u001b[0m:\u001b[36madd_count_dimension\u001b[0m:\u001b[36m335\u001b[0m - \u001b[1mДобавление размерности для расстояния\u001b[0m\n",
      "\u001b[32m2025-08-04 12:05:59.169\u001b[0m | \u001b[1mINFO    \u001b[0m | \u001b[36mvrp_study.pdptw_model.routing_model\u001b[0m:\u001b[36madd_pick_up_and_delivery\u001b[0m:\u001b[36m269\u001b[0m - \u001b[1mДобавление ограничения для порядка доставки\u001b[0m\n",
      "\u001b[32m2025-08-04 12:05:59.169\u001b[0m | \u001b[1mINFO    \u001b[0m | \u001b[36mvrp_study.pdptw_model.routing_model\u001b[0m:\u001b[36madd_vehicles_cost\u001b[0m:\u001b[36m243\u001b[0m - \u001b[1mДобавление стоимостей машин\u001b[0m\n",
      "\u001b[32m2025-08-04 12:05:59.169\u001b[0m | \u001b[1mINFO    \u001b[0m | \u001b[36mvrp_study.pdptw_model.routing_model\u001b[0m:\u001b[36madd_time_window\u001b[0m:\u001b[36m194\u001b[0m - \u001b[1madd time\u001b[0m\n",
      "\u001b[32m2025-08-04 12:05:59.170\u001b[0m | \u001b[1mINFO    \u001b[0m | \u001b[36mvrp_study.pdptw_model.routing_model\u001b[0m:\u001b[36madd_mass_constraint\u001b[0m:\u001b[36m177\u001b[0m - \u001b[1mДобавление ограничений для массы\u001b[0m\n",
      "\u001b[32m2025-08-04 12:05:59.171\u001b[0m | \u001b[1mINFO    \u001b[0m | \u001b[36mvrp_study.pdptw_model.routing_model\u001b[0m:\u001b[36mdo_solve\u001b[0m:\u001b[36m407\u001b[0m - \u001b[1mНачало решения\u001b[0m\n",
      "\u001b[32m2025-08-04 12:05:59.172\u001b[0m | \u001b[1mINFO    \u001b[0m | \u001b[36mvrp_study.pdptw_model.routing_model\u001b[0m:\u001b[36mdo_solve\u001b[0m:\u001b[36m410\u001b[0m - \u001b[1muse initial_solution: 1\u001b[0m\n",
      "\u001b[32m2025-08-04 12:05:59.173\u001b[0m | \u001b[34m\u001b[1mDEBUG   \u001b[0m | \u001b[36mvrp_study.pdptw_model.routing_model\u001b[0m:\u001b[36m__call__\u001b[0m:\u001b[36m40\u001b[0m - \u001b[34m\u001b[1mtime: 0.002; new solution (1): 16773; best solution: 16773\u001b[0m\n",
      "\u001b[32m2025-08-04 12:05:59.173\u001b[0m | \u001b[34m\u001b[1mDEBUG   \u001b[0m | \u001b[36mvrp_study.pdptw_model.routing_model\u001b[0m:\u001b[36m__call__\u001b[0m:\u001b[36m40\u001b[0m - \u001b[34m\u001b[1mtime: 0.002; new solution (2): 16773; best solution: 16773\u001b[0m\n",
      "\u001b[32m2025-08-04 12:05:59.175\u001b[0m | \u001b[34m\u001b[1mDEBUG   \u001b[0m | \u001b[36mvrp_study.pdptw_model.routing_model\u001b[0m:\u001b[36m__call__\u001b[0m:\u001b[36m40\u001b[0m - \u001b[34m\u001b[1mtime: 0.005; new solution (3): 15374; best solution: 15374\u001b[0m\n",
      "\u001b[32m2025-08-04 12:05:59.185\u001b[0m | \u001b[1mINFO    \u001b[0m | \u001b[36mvrp_study.pdptw_model.routing_model\u001b[0m:\u001b[36mdo_solve\u001b[0m:\u001b[36m423\u001b[0m - \u001b[1mfind solution\u001b[0m\n",
      "\u001b[32m2025-08-04 12:05:59.186\u001b[0m | \u001b[1mINFO    \u001b[0m | \u001b[36mvrp_study.pdptw_model.routing_model\u001b[0m:\u001b[36mfind_optimal_paths\u001b[0m:\u001b[36m464\u001b[0m - \u001b[1mbest_score: 153.74\u001b[0m\n",
      "\u001b[32m2025-08-04 12:05:59.186\u001b[0m | \u001b[1mINFO    \u001b[0m | \u001b[36msrc.vrp_study.pdptw_model.solution_builder\u001b[0m:\u001b[36mget_initial_solution\u001b[0m:\u001b[36m138\u001b[0m - \u001b[1m[[0, 5, 3, 9, 6, 7, 4, 8, 1, 2, 10, 0], [], [], [], [], [], [], [], [], [], [], [], [], [], [], [], [], [], [], [], [], [], [], [], [], [], [], [], [], [], [], [], [], [], [], [], [], [], [], [], [], [], [], [], [], [], [], [], [], [], [], [], [], [], [], [], [], [], [], [], [], [], [], [], [], [], [], [], [], [], [], [], [], [], [], [], [], [], [], [], [], [], [], [], [], [], [], []]\u001b[0m\n",
      "\u001b[32m2025-08-04 12:05:59.188\u001b[0m | \u001b[1mINFO    \u001b[0m | \u001b[36msrc.vrp_study.pdptw_model.solution_builder\u001b[0m:\u001b[36mget_initial_solution\u001b[0m:\u001b[36m118\u001b[0m - \u001b[1m(1, 32.074999999999996)\u001b[0m\n",
      "\u001b[32m2025-08-04 12:05:59.189\u001b[0m | \u001b[1mINFO    \u001b[0m | \u001b[36msrc.vrp_study.pdptw_model.solution_builder\u001b[0m:\u001b[36mget_initial_solution\u001b[0m:\u001b[36m118\u001b[0m - \u001b[1m(1, 16.0875)\u001b[0m\n",
      "\u001b[32m2025-08-04 12:05:59.189\u001b[0m | \u001b[1mINFO    \u001b[0m | \u001b[36msrc.vrp_study.pdptw_model.solution_builder\u001b[0m:\u001b[36mget_initial_solution\u001b[0m:\u001b[36m118\u001b[0m - \u001b[1m(1, 8.09375)\u001b[0m\n",
      "\u001b[32m2025-08-04 12:05:59.190\u001b[0m | \u001b[1mINFO    \u001b[0m | \u001b[36msrc.vrp_study.pdptw_model.solution_builder\u001b[0m:\u001b[36mget_initial_solution\u001b[0m:\u001b[36m118\u001b[0m - \u001b[1m(1, 4.096875)\u001b[0m\n",
      "\u001b[32m2025-08-04 12:05:59.190\u001b[0m | \u001b[1mINFO    \u001b[0m | \u001b[36msrc.vrp_study.pdptw_model.solution_builder\u001b[0m:\u001b[36mget_initial_solution\u001b[0m:\u001b[36m118\u001b[0m - \u001b[1m(1, 2.0984374999999997)\u001b[0m\n",
      "\u001b[32m2025-08-04 12:05:59.191\u001b[0m | \u001b[1mINFO    \u001b[0m | \u001b[36msrc.vrp_study.pdptw_model.solution_builder\u001b[0m:\u001b[36mget_initial_solution\u001b[0m:\u001b[36m118\u001b[0m - \u001b[1m(2, 1.09921875)\u001b[0m\n",
      "\u001b[32m2025-08-04 12:05:59.191\u001b[0m | \u001b[1mINFO    \u001b[0m | \u001b[36msrc.vrp_study.pdptw_model.solution_builder\u001b[0m:\u001b[36mget_initial_solution\u001b[0m:\u001b[36m118\u001b[0m - \u001b[1m(2, 0.599609375)\u001b[0m\n",
      "\u001b[32m2025-08-04 12:05:59.192\u001b[0m | \u001b[1mINFO    \u001b[0m | \u001b[36msrc.vrp_study.pdptw_model.solution_builder\u001b[0m:\u001b[36mget_initial_solution\u001b[0m:\u001b[36m118\u001b[0m - \u001b[1m(2, 0.3498046875)\u001b[0m\n",
      "\u001b[32m2025-08-04 12:05:59.193\u001b[0m | \u001b[1mINFO    \u001b[0m | \u001b[36msrc.vrp_study.pdptw_model.solution_builder\u001b[0m:\u001b[36mget_initial_solution\u001b[0m:\u001b[36m118\u001b[0m - \u001b[1m(2, 0.22490234375)\u001b[0m\n",
      "\u001b[32m2025-08-04 12:05:59.194\u001b[0m | \u001b[1mINFO    \u001b[0m | \u001b[36msrc.vrp_study.pdptw_model.solution_builder\u001b[0m:\u001b[36mget_initial_solution\u001b[0m:\u001b[36m118\u001b[0m - \u001b[1m(2, 0.16245117187500002)\u001b[0m\n"
     ]
    },
    {
     "data": {
      "application/vnd.jupyter.widget-view+json": {
       "model_id": "a0d6d30ffd644a1889aa24e7fc6a456c",
       "version_major": 2,
       "version_minor": 0
      },
      "text/plain": [
       "  0%|          | 0/1 [00:00<?, ?it/s]"
      ]
     },
     "metadata": {},
     "output_type": "display_data"
    },
    {
     "name": "stderr",
     "output_type": "stream",
     "text": [
      "\u001b[32m2025-08-04 12:05:59.199\u001b[0m | \u001b[1mINFO    \u001b[0m | \u001b[36mvrp_study.pdptw_model.routing_model\u001b[0m:\u001b[36mfind_optimal_paths\u001b[0m:\u001b[36m443\u001b[0m - \u001b[1mproblem size: 5\u001b[0m\n",
      "\u001b[32m2025-08-04 12:05:59.200\u001b[0m | \u001b[1mINFO    \u001b[0m | \u001b[36mvrp_study.pdptw_model.routing_model\u001b[0m:\u001b[36mdo_solve\u001b[0m:\u001b[36m378\u001b[0m - \u001b[1mНачало создания модели\u001b[0m\n",
      "\u001b[32m2025-08-04 12:05:59.202\u001b[0m | \u001b[1mINFO    \u001b[0m | \u001b[36mvrp_study.pdptw_model.routing_model\u001b[0m:\u001b[36madd_distance_dimension\u001b[0m:\u001b[36m299\u001b[0m - \u001b[1mДобавление размерности для расстояния\u001b[0m\n",
      "\u001b[32m2025-08-04 12:05:59.202\u001b[0m | \u001b[1mINFO    \u001b[0m | \u001b[36mvrp_study.pdptw_model.routing_model\u001b[0m:\u001b[36madd_count_dimension\u001b[0m:\u001b[36m335\u001b[0m - \u001b[1mДобавление размерности для расстояния\u001b[0m\n",
      "\u001b[32m2025-08-04 12:05:59.203\u001b[0m | \u001b[1mINFO    \u001b[0m | \u001b[36mvrp_study.pdptw_model.routing_model\u001b[0m:\u001b[36madd_pick_up_and_delivery\u001b[0m:\u001b[36m269\u001b[0m - \u001b[1mДобавление ограничения для порядка доставки\u001b[0m\n",
      "\u001b[32m2025-08-04 12:05:59.204\u001b[0m | \u001b[1mINFO    \u001b[0m | \u001b[36mvrp_study.pdptw_model.routing_model\u001b[0m:\u001b[36madd_time_window\u001b[0m:\u001b[36m194\u001b[0m - \u001b[1madd time\u001b[0m\n",
      "\u001b[32m2025-08-04 12:05:59.205\u001b[0m | \u001b[1mINFO    \u001b[0m | \u001b[36mvrp_study.pdptw_model.routing_model\u001b[0m:\u001b[36madd_mass_constraint\u001b[0m:\u001b[36m177\u001b[0m - \u001b[1mДобавление ограничений для массы\u001b[0m\n",
      "\u001b[32m2025-08-04 12:05:59.211\u001b[0m | \u001b[1mINFO    \u001b[0m | \u001b[36mvrp_study.pdptw_model.routing_model\u001b[0m:\u001b[36mdo_solve\u001b[0m:\u001b[36m407\u001b[0m - \u001b[1mНачало решения\u001b[0m\n",
      "\u001b[32m2025-08-04 12:05:59.219\u001b[0m | \u001b[34m\u001b[1mDEBUG   \u001b[0m | \u001b[36mvrp_study.pdptw_model.routing_model\u001b[0m:\u001b[36m__call__\u001b[0m:\u001b[36m40\u001b[0m - \u001b[34m\u001b[1mtime: 0.013; new solution (1): 1; best solution: 1\u001b[0m\n",
      "\u001b[32m2025-08-04 12:05:59.226\u001b[0m | \u001b[1mINFO    \u001b[0m | \u001b[36mvrp_study.pdptw_model.routing_model\u001b[0m:\u001b[36mdo_solve\u001b[0m:\u001b[36m423\u001b[0m - \u001b[1mfind solution\u001b[0m\n",
      "\u001b[32m2025-08-04 12:05:59.227\u001b[0m | \u001b[1mINFO    \u001b[0m | \u001b[36mvrp_study.pdptw_model.routing_model\u001b[0m:\u001b[36mfind_optimal_paths\u001b[0m:\u001b[36m451\u001b[0m - \u001b[1mbest_score: 1\u001b[0m\n",
      "\u001b[32m2025-08-04 12:05:59.229\u001b[0m | \u001b[1mINFO    \u001b[0m | \u001b[36mvrp_study.pdptw_model.routing_model\u001b[0m:\u001b[36mdo_solve\u001b[0m:\u001b[36m378\u001b[0m - \u001b[1mНачало создания модели\u001b[0m\n",
      "\u001b[32m2025-08-04 12:05:59.230\u001b[0m | \u001b[1mINFO    \u001b[0m | \u001b[36mvrp_study.pdptw_model.routing_model\u001b[0m:\u001b[36madd_distance_dimension\u001b[0m:\u001b[36m299\u001b[0m - \u001b[1mДобавление размерности для расстояния\u001b[0m\n",
      "\u001b[32m2025-08-04 12:05:59.231\u001b[0m | \u001b[1mINFO    \u001b[0m | \u001b[36mvrp_study.pdptw_model.routing_model\u001b[0m:\u001b[36madd_count_dimension\u001b[0m:\u001b[36m335\u001b[0m - \u001b[1mДобавление размерности для расстояния\u001b[0m\n",
      "\u001b[32m2025-08-04 12:05:59.232\u001b[0m | \u001b[1mINFO    \u001b[0m | \u001b[36mvrp_study.pdptw_model.routing_model\u001b[0m:\u001b[36madd_pick_up_and_delivery\u001b[0m:\u001b[36m269\u001b[0m - \u001b[1mДобавление ограничения для порядка доставки\u001b[0m\n",
      "\u001b[32m2025-08-04 12:05:59.233\u001b[0m | \u001b[1mINFO    \u001b[0m | \u001b[36mvrp_study.pdptw_model.routing_model\u001b[0m:\u001b[36madd_vehicles_cost\u001b[0m:\u001b[36m243\u001b[0m - \u001b[1mДобавление стоимостей машин\u001b[0m\n",
      "\u001b[32m2025-08-04 12:05:59.233\u001b[0m | \u001b[1mINFO    \u001b[0m | \u001b[36mvrp_study.pdptw_model.routing_model\u001b[0m:\u001b[36madd_time_window\u001b[0m:\u001b[36m194\u001b[0m - \u001b[1madd time\u001b[0m\n",
      "\u001b[32m2025-08-04 12:05:59.234\u001b[0m | \u001b[1mINFO    \u001b[0m | \u001b[36mvrp_study.pdptw_model.routing_model\u001b[0m:\u001b[36madd_mass_constraint\u001b[0m:\u001b[36m177\u001b[0m - \u001b[1mДобавление ограничений для массы\u001b[0m\n",
      "\u001b[32m2025-08-04 12:05:59.235\u001b[0m | \u001b[1mINFO    \u001b[0m | \u001b[36mvrp_study.pdptw_model.routing_model\u001b[0m:\u001b[36mdo_solve\u001b[0m:\u001b[36m407\u001b[0m - \u001b[1mНачало решения\u001b[0m\n",
      "\u001b[32m2025-08-04 12:05:59.236\u001b[0m | \u001b[1mINFO    \u001b[0m | \u001b[36mvrp_study.pdptw_model.routing_model\u001b[0m:\u001b[36mdo_solve\u001b[0m:\u001b[36m410\u001b[0m - \u001b[1muse initial_solution: 1\u001b[0m\n",
      "\u001b[32m2025-08-04 12:05:59.236\u001b[0m | \u001b[34m\u001b[1mDEBUG   \u001b[0m | \u001b[36mvrp_study.pdptw_model.routing_model\u001b[0m:\u001b[36m__call__\u001b[0m:\u001b[36m40\u001b[0m - \u001b[34m\u001b[1mtime: 0.001; new solution (1): 4637; best solution: 4637\u001b[0m\n",
      "\u001b[32m2025-08-04 12:05:59.237\u001b[0m | \u001b[34m\u001b[1mDEBUG   \u001b[0m | \u001b[36mvrp_study.pdptw_model.routing_model\u001b[0m:\u001b[36m__call__\u001b[0m:\u001b[36m40\u001b[0m - \u001b[34m\u001b[1mtime: 0.002; new solution (2): 4637; best solution: 4637\u001b[0m\n",
      "\u001b[32m2025-08-04 12:05:59.239\u001b[0m | \u001b[1mINFO    \u001b[0m | \u001b[36mvrp_study.pdptw_model.routing_model\u001b[0m:\u001b[36mdo_solve\u001b[0m:\u001b[36m423\u001b[0m - \u001b[1mfind solution\u001b[0m\n",
      "\u001b[32m2025-08-04 12:05:59.240\u001b[0m | \u001b[1mINFO    \u001b[0m | \u001b[36mvrp_study.pdptw_model.routing_model\u001b[0m:\u001b[36mfind_optimal_paths\u001b[0m:\u001b[36m464\u001b[0m - \u001b[1mbest_score: 46.37\u001b[0m\n",
      "\u001b[32m2025-08-04 12:05:59.240\u001b[0m | \u001b[1mINFO    \u001b[0m | \u001b[36msrc.vrp_study.pdptw_model.solution_builder\u001b[0m:\u001b[36mget_initial_solution\u001b[0m:\u001b[36m138\u001b[0m - \u001b[1m[[0, 3, 1, 2, 4, 0], [], [], [], [], [], [], [], [], [], [], [], [], [], [], [], [], [], [], [], [], [], [], [], [], [], [], [], [], [], [], [], [], [], [], [], [], [], [], [], [], [], [], [], [], [], [], [], [], [], [], [], [], [], [], [], [], [], [], [], [], [], [], [], [], [], [], [], [], [], [], [], [], [], [], [], [], [], [], [], [], [], [], [], [], [], []]\u001b[0m\n",
      "\u001b[32m2025-08-04 12:05:59.242\u001b[0m | \u001b[1mINFO    \u001b[0m | \u001b[36msrc.vrp_study.pdptw_model.solution_builder\u001b[0m:\u001b[36mget_initial_solution\u001b[0m:\u001b[36m118\u001b[0m - \u001b[1m(1, 32.074999999999996)\u001b[0m\n",
      "\u001b[32m2025-08-04 12:05:59.244\u001b[0m | \u001b[1mINFO    \u001b[0m | \u001b[36msrc.vrp_study.pdptw_model.solution_builder\u001b[0m:\u001b[36mget_initial_solution\u001b[0m:\u001b[36m118\u001b[0m - \u001b[1m(1, 16.0875)\u001b[0m\n",
      "\u001b[32m2025-08-04 12:05:59.245\u001b[0m | \u001b[1mINFO    \u001b[0m | \u001b[36msrc.vrp_study.pdptw_model.solution_builder\u001b[0m:\u001b[36mget_initial_solution\u001b[0m:\u001b[36m118\u001b[0m - \u001b[1m(1, 8.09375)\u001b[0m\n",
      "\u001b[32m2025-08-04 12:05:59.246\u001b[0m | \u001b[1mINFO    \u001b[0m | \u001b[36msrc.vrp_study.pdptw_model.solution_builder\u001b[0m:\u001b[36mget_initial_solution\u001b[0m:\u001b[36m118\u001b[0m - \u001b[1m(1, 4.096875)\u001b[0m\n",
      "\u001b[32m2025-08-04 12:05:59.246\u001b[0m | \u001b[1mINFO    \u001b[0m | \u001b[36msrc.vrp_study.pdptw_model.solution_builder\u001b[0m:\u001b[36mget_initial_solution\u001b[0m:\u001b[36m118\u001b[0m - \u001b[1m(1, 2.0984374999999997)\u001b[0m\n",
      "\u001b[32m2025-08-04 12:05:59.247\u001b[0m | \u001b[1mINFO    \u001b[0m | \u001b[36msrc.vrp_study.pdptw_model.solution_builder\u001b[0m:\u001b[36mget_initial_solution\u001b[0m:\u001b[36m118\u001b[0m - \u001b[1m(1, 1.09921875)\u001b[0m\n",
      "\u001b[32m2025-08-04 12:05:59.247\u001b[0m | \u001b[1mINFO    \u001b[0m | \u001b[36msrc.vrp_study.pdptw_model.solution_builder\u001b[0m:\u001b[36mget_initial_solution\u001b[0m:\u001b[36m118\u001b[0m - \u001b[1m(3, 0.599609375)\u001b[0m\n",
      "\u001b[32m2025-08-04 12:05:59.248\u001b[0m | \u001b[1mINFO    \u001b[0m | \u001b[36msrc.vrp_study.pdptw_model.solution_builder\u001b[0m:\u001b[36mget_initial_solution\u001b[0m:\u001b[36m118\u001b[0m - \u001b[1m(3, 0.3498046875)\u001b[0m\n",
      "\u001b[32m2025-08-04 12:05:59.248\u001b[0m | \u001b[1mINFO    \u001b[0m | \u001b[36msrc.vrp_study.pdptw_model.solution_builder\u001b[0m:\u001b[36mget_initial_solution\u001b[0m:\u001b[36m118\u001b[0m - \u001b[1m(4, 0.22490234375)\u001b[0m\n",
      "\u001b[32m2025-08-04 12:05:59.249\u001b[0m | \u001b[1mINFO    \u001b[0m | \u001b[36msrc.vrp_study.pdptw_model.solution_builder\u001b[0m:\u001b[36mget_initial_solution\u001b[0m:\u001b[36m118\u001b[0m - \u001b[1m(4, 0.16245117187500002)\u001b[0m\n"
     ]
    },
    {
     "data": {
      "application/vnd.jupyter.widget-view+json": {
       "model_id": "7d33d7064c8e48cb8a79020211906be2",
       "version_major": 2,
       "version_minor": 0
      },
      "text/plain": [
       "  0%|          | 0/1 [00:00<?, ?it/s]"
      ]
     },
     "metadata": {},
     "output_type": "display_data"
    },
    {
     "name": "stderr",
     "output_type": "stream",
     "text": [
      "\u001b[32m2025-08-04 12:05:59.256\u001b[0m | \u001b[1mINFO    \u001b[0m | \u001b[36mvrp_study.pdptw_model.routing_model\u001b[0m:\u001b[36mfind_optimal_paths\u001b[0m:\u001b[36m443\u001b[0m - \u001b[1mproblem size: 9\u001b[0m\n",
      "\u001b[32m2025-08-04 12:05:59.257\u001b[0m | \u001b[1mINFO    \u001b[0m | \u001b[36mvrp_study.pdptw_model.routing_model\u001b[0m:\u001b[36mdo_solve\u001b[0m:\u001b[36m378\u001b[0m - \u001b[1mНачало создания модели\u001b[0m\n",
      "\u001b[32m2025-08-04 12:05:59.259\u001b[0m | \u001b[1mINFO    \u001b[0m | \u001b[36mvrp_study.pdptw_model.routing_model\u001b[0m:\u001b[36madd_distance_dimension\u001b[0m:\u001b[36m299\u001b[0m - \u001b[1mДобавление размерности для расстояния\u001b[0m\n",
      "\u001b[32m2025-08-04 12:05:59.261\u001b[0m | \u001b[1mINFO    \u001b[0m | \u001b[36mvrp_study.pdptw_model.routing_model\u001b[0m:\u001b[36madd_count_dimension\u001b[0m:\u001b[36m335\u001b[0m - \u001b[1mДобавление размерности для расстояния\u001b[0m\n",
      "\u001b[32m2025-08-04 12:05:59.262\u001b[0m | \u001b[1mINFO    \u001b[0m | \u001b[36mvrp_study.pdptw_model.routing_model\u001b[0m:\u001b[36madd_pick_up_and_delivery\u001b[0m:\u001b[36m269\u001b[0m - \u001b[1mДобавление ограничения для порядка доставки\u001b[0m\n",
      "\u001b[32m2025-08-04 12:05:59.263\u001b[0m | \u001b[1mINFO    \u001b[0m | \u001b[36mvrp_study.pdptw_model.routing_model\u001b[0m:\u001b[36madd_time_window\u001b[0m:\u001b[36m194\u001b[0m - \u001b[1madd time\u001b[0m\n",
      "\u001b[32m2025-08-04 12:05:59.264\u001b[0m | \u001b[1mINFO    \u001b[0m | \u001b[36mvrp_study.pdptw_model.routing_model\u001b[0m:\u001b[36madd_mass_constraint\u001b[0m:\u001b[36m177\u001b[0m - \u001b[1mДобавление ограничений для массы\u001b[0m\n",
      "\u001b[32m2025-08-04 12:05:59.270\u001b[0m | \u001b[1mINFO    \u001b[0m | \u001b[36mvrp_study.pdptw_model.routing_model\u001b[0m:\u001b[36mdo_solve\u001b[0m:\u001b[36m407\u001b[0m - \u001b[1mНачало решения\u001b[0m\n",
      "\u001b[32m2025-08-04 12:05:59.276\u001b[0m | \u001b[34m\u001b[1mDEBUG   \u001b[0m | \u001b[36mvrp_study.pdptw_model.routing_model\u001b[0m:\u001b[36m__call__\u001b[0m:\u001b[36m40\u001b[0m - \u001b[34m\u001b[1mtime: 0.011; new solution (1): 1; best solution: 1\u001b[0m\n",
      "\u001b[32m2025-08-04 12:05:59.290\u001b[0m | \u001b[1mINFO    \u001b[0m | \u001b[36mvrp_study.pdptw_model.routing_model\u001b[0m:\u001b[36mdo_solve\u001b[0m:\u001b[36m423\u001b[0m - \u001b[1mfind solution\u001b[0m\n",
      "\u001b[32m2025-08-04 12:05:59.291\u001b[0m | \u001b[1mINFO    \u001b[0m | \u001b[36mvrp_study.pdptw_model.routing_model\u001b[0m:\u001b[36mfind_optimal_paths\u001b[0m:\u001b[36m451\u001b[0m - \u001b[1mbest_score: 1\u001b[0m\n",
      "\u001b[32m2025-08-04 12:05:59.292\u001b[0m | \u001b[1mINFO    \u001b[0m | \u001b[36mvrp_study.pdptw_model.routing_model\u001b[0m:\u001b[36mdo_solve\u001b[0m:\u001b[36m378\u001b[0m - \u001b[1mНачало создания модели\u001b[0m\n",
      "\u001b[32m2025-08-04 12:05:59.295\u001b[0m | \u001b[1mINFO    \u001b[0m | \u001b[36mvrp_study.pdptw_model.routing_model\u001b[0m:\u001b[36madd_distance_dimension\u001b[0m:\u001b[36m299\u001b[0m - \u001b[1mДобавление размерности для расстояния\u001b[0m\n",
      "\u001b[32m2025-08-04 12:05:59.296\u001b[0m | \u001b[1mINFO    \u001b[0m | \u001b[36mvrp_study.pdptw_model.routing_model\u001b[0m:\u001b[36madd_count_dimension\u001b[0m:\u001b[36m335\u001b[0m - \u001b[1mДобавление размерности для расстояния\u001b[0m\n",
      "\u001b[32m2025-08-04 12:05:59.297\u001b[0m | \u001b[1mINFO    \u001b[0m | \u001b[36mvrp_study.pdptw_model.routing_model\u001b[0m:\u001b[36madd_pick_up_and_delivery\u001b[0m:\u001b[36m269\u001b[0m - \u001b[1mДобавление ограничения для порядка доставки\u001b[0m\n",
      "\u001b[32m2025-08-04 12:05:59.298\u001b[0m | \u001b[1mINFO    \u001b[0m | \u001b[36mvrp_study.pdptw_model.routing_model\u001b[0m:\u001b[36madd_vehicles_cost\u001b[0m:\u001b[36m243\u001b[0m - \u001b[1mДобавление стоимостей машин\u001b[0m\n",
      "\u001b[32m2025-08-04 12:05:59.299\u001b[0m | \u001b[1mINFO    \u001b[0m | \u001b[36mvrp_study.pdptw_model.routing_model\u001b[0m:\u001b[36madd_time_window\u001b[0m:\u001b[36m194\u001b[0m - \u001b[1madd time\u001b[0m\n",
      "\u001b[32m2025-08-04 12:05:59.299\u001b[0m | \u001b[1mINFO    \u001b[0m | \u001b[36mvrp_study.pdptw_model.routing_model\u001b[0m:\u001b[36madd_mass_constraint\u001b[0m:\u001b[36m177\u001b[0m - \u001b[1mДобавление ограничений для массы\u001b[0m\n",
      "\u001b[32m2025-08-04 12:05:59.300\u001b[0m | \u001b[1mINFO    \u001b[0m | \u001b[36mvrp_study.pdptw_model.routing_model\u001b[0m:\u001b[36mdo_solve\u001b[0m:\u001b[36m407\u001b[0m - \u001b[1mНачало решения\u001b[0m\n",
      "\u001b[32m2025-08-04 12:05:59.301\u001b[0m | \u001b[1mINFO    \u001b[0m | \u001b[36mvrp_study.pdptw_model.routing_model\u001b[0m:\u001b[36mdo_solve\u001b[0m:\u001b[36m410\u001b[0m - \u001b[1muse initial_solution: 1\u001b[0m\n",
      "\u001b[32m2025-08-04 12:05:59.301\u001b[0m | \u001b[34m\u001b[1mDEBUG   \u001b[0m | \u001b[36mvrp_study.pdptw_model.routing_model\u001b[0m:\u001b[36m__call__\u001b[0m:\u001b[36m40\u001b[0m - \u001b[34m\u001b[1mtime: 0.001; new solution (1): 20973; best solution: 20973\u001b[0m\n",
      "\u001b[32m2025-08-04 12:05:59.302\u001b[0m | \u001b[34m\u001b[1mDEBUG   \u001b[0m | \u001b[36mvrp_study.pdptw_model.routing_model\u001b[0m:\u001b[36m__call__\u001b[0m:\u001b[36m40\u001b[0m - \u001b[34m\u001b[1mtime: 0.002; new solution (2): 20973; best solution: 20973\u001b[0m\n",
      "\u001b[32m2025-08-04 12:05:59.307\u001b[0m | \u001b[1mINFO    \u001b[0m | \u001b[36mvrp_study.pdptw_model.routing_model\u001b[0m:\u001b[36mdo_solve\u001b[0m:\u001b[36m423\u001b[0m - \u001b[1mfind solution\u001b[0m\n",
      "\u001b[32m2025-08-04 12:05:59.309\u001b[0m | \u001b[1mINFO    \u001b[0m | \u001b[36mvrp_study.pdptw_model.routing_model\u001b[0m:\u001b[36mfind_optimal_paths\u001b[0m:\u001b[36m464\u001b[0m - \u001b[1mbest_score: 209.73\u001b[0m\n",
      "\u001b[32m2025-08-04 12:05:59.310\u001b[0m | \u001b[1mINFO    \u001b[0m | \u001b[36msrc.vrp_study.pdptw_model.solution_builder\u001b[0m:\u001b[36mget_initial_solution\u001b[0m:\u001b[36m138\u001b[0m - \u001b[1m[[0, 5, 6, 7, 3, 1, 8, 4, 2, 0], [], [], [], [], [], [], [], [], [], [], [], [], [], [], [], [], [], [], [], [], [], [], [], [], [], [], [], [], [], [], [], [], [], [], [], [], [], [], [], [], [], [], [], [], [], [], [], [], [], [], [], [], [], [], [], [], [], [], [], [], [], [], [], [], [], [], [], [], [], [], [], [], [], [], [], [], [], [], [], [], [], [], [], [], []]\u001b[0m\n",
      "\u001b[32m2025-08-04 12:05:59.312\u001b[0m | \u001b[1mINFO    \u001b[0m | \u001b[36msrc.vrp_study.pdptw_model.solution_builder\u001b[0m:\u001b[36mget_initial_solution\u001b[0m:\u001b[36m118\u001b[0m - \u001b[1m(1, 32.074999999999996)\u001b[0m\n",
      "\u001b[32m2025-08-04 12:05:59.313\u001b[0m | \u001b[1mINFO    \u001b[0m | \u001b[36msrc.vrp_study.pdptw_model.solution_builder\u001b[0m:\u001b[36mget_initial_solution\u001b[0m:\u001b[36m118\u001b[0m - \u001b[1m(1, 16.0875)\u001b[0m\n",
      "\u001b[32m2025-08-04 12:05:59.314\u001b[0m | \u001b[1mINFO    \u001b[0m | \u001b[36msrc.vrp_study.pdptw_model.solution_builder\u001b[0m:\u001b[36mget_initial_solution\u001b[0m:\u001b[36m118\u001b[0m - \u001b[1m(1, 8.09375)\u001b[0m\n",
      "\u001b[32m2025-08-04 12:05:59.314\u001b[0m | \u001b[1mINFO    \u001b[0m | \u001b[36msrc.vrp_study.pdptw_model.solution_builder\u001b[0m:\u001b[36mget_initial_solution\u001b[0m:\u001b[36m118\u001b[0m - \u001b[1m(1, 4.096875)\u001b[0m\n",
      "\u001b[32m2025-08-04 12:05:59.315\u001b[0m | \u001b[1mINFO    \u001b[0m | \u001b[36msrc.vrp_study.pdptw_model.solution_builder\u001b[0m:\u001b[36mget_initial_solution\u001b[0m:\u001b[36m118\u001b[0m - \u001b[1m(1, 2.0984374999999997)\u001b[0m\n",
      "\u001b[32m2025-08-04 12:05:59.316\u001b[0m | \u001b[1mINFO    \u001b[0m | \u001b[36msrc.vrp_study.pdptw_model.solution_builder\u001b[0m:\u001b[36mget_initial_solution\u001b[0m:\u001b[36m118\u001b[0m - \u001b[1m(2, 1.09921875)\u001b[0m\n",
      "\u001b[32m2025-08-04 12:05:59.316\u001b[0m | \u001b[1mINFO    \u001b[0m | \u001b[36msrc.vrp_study.pdptw_model.solution_builder\u001b[0m:\u001b[36mget_initial_solution\u001b[0m:\u001b[36m118\u001b[0m - \u001b[1m(6, 0.599609375)\u001b[0m\n",
      "\u001b[32m2025-08-04 12:05:59.317\u001b[0m | \u001b[1mINFO    \u001b[0m | \u001b[36msrc.vrp_study.pdptw_model.solution_builder\u001b[0m:\u001b[36mget_initial_solution\u001b[0m:\u001b[36m118\u001b[0m - \u001b[1m(6, 0.3498046875)\u001b[0m\n",
      "\u001b[32m2025-08-04 12:05:59.317\u001b[0m | \u001b[1mINFO    \u001b[0m | \u001b[36msrc.vrp_study.pdptw_model.solution_builder\u001b[0m:\u001b[36mget_initial_solution\u001b[0m:\u001b[36m118\u001b[0m - \u001b[1m(6, 0.22490234375)\u001b[0m\n",
      "\u001b[32m2025-08-04 12:05:59.319\u001b[0m | \u001b[1mINFO    \u001b[0m | \u001b[36msrc.vrp_study.pdptw_model.solution_builder\u001b[0m:\u001b[36mget_initial_solution\u001b[0m:\u001b[36m118\u001b[0m - \u001b[1m(6, 0.16245117187500002)\u001b[0m\n"
     ]
    },
    {
     "data": {
      "application/vnd.jupyter.widget-view+json": {
       "model_id": "fac56aa8b0b54d28a7073418f517c37f",
       "version_major": 2,
       "version_minor": 0
      },
      "text/plain": [
       "  0%|          | 0/3 [00:00<?, ?it/s]"
      ]
     },
     "metadata": {},
     "output_type": "display_data"
    },
    {
     "name": "stderr",
     "output_type": "stream",
     "text": [
      "\u001b[32m2025-08-04 12:05:59.325\u001b[0m | \u001b[1mINFO    \u001b[0m | \u001b[36mvrp_study.pdptw_model.routing_model\u001b[0m:\u001b[36mfind_optimal_paths\u001b[0m:\u001b[36m443\u001b[0m - \u001b[1mproblem size: 13\u001b[0m\n",
      "\u001b[32m2025-08-04 12:05:59.326\u001b[0m | \u001b[1mINFO    \u001b[0m | \u001b[36mvrp_study.pdptw_model.routing_model\u001b[0m:\u001b[36mdo_solve\u001b[0m:\u001b[36m378\u001b[0m - \u001b[1mНачало создания модели\u001b[0m\n",
      "\u001b[32m2025-08-04 12:05:59.329\u001b[0m | \u001b[1mINFO    \u001b[0m | \u001b[36mvrp_study.pdptw_model.routing_model\u001b[0m:\u001b[36madd_distance_dimension\u001b[0m:\u001b[36m299\u001b[0m - \u001b[1mДобавление размерности для расстояния\u001b[0m\n",
      "\u001b[32m2025-08-04 12:05:59.330\u001b[0m | \u001b[1mINFO    \u001b[0m | \u001b[36mvrp_study.pdptw_model.routing_model\u001b[0m:\u001b[36madd_count_dimension\u001b[0m:\u001b[36m335\u001b[0m - \u001b[1mДобавление размерности для расстояния\u001b[0m\n",
      "\u001b[32m2025-08-04 12:05:59.331\u001b[0m | \u001b[1mINFO    \u001b[0m | \u001b[36mvrp_study.pdptw_model.routing_model\u001b[0m:\u001b[36madd_pick_up_and_delivery\u001b[0m:\u001b[36m269\u001b[0m - \u001b[1mДобавление ограничения для порядка доставки\u001b[0m\n",
      "\u001b[32m2025-08-04 12:05:59.332\u001b[0m | \u001b[1mINFO    \u001b[0m | \u001b[36mvrp_study.pdptw_model.routing_model\u001b[0m:\u001b[36madd_time_window\u001b[0m:\u001b[36m194\u001b[0m - \u001b[1madd time\u001b[0m\n",
      "\u001b[32m2025-08-04 12:05:59.333\u001b[0m | \u001b[1mINFO    \u001b[0m | \u001b[36mvrp_study.pdptw_model.routing_model\u001b[0m:\u001b[36madd_mass_constraint\u001b[0m:\u001b[36m177\u001b[0m - \u001b[1mДобавление ограничений для массы\u001b[0m\n",
      "\u001b[32m2025-08-04 12:05:59.339\u001b[0m | \u001b[1mINFO    \u001b[0m | \u001b[36mvrp_study.pdptw_model.routing_model\u001b[0m:\u001b[36mdo_solve\u001b[0m:\u001b[36m407\u001b[0m - \u001b[1mНачало решения\u001b[0m\n",
      "\u001b[32m2025-08-04 12:05:59.347\u001b[0m | \u001b[34m\u001b[1mDEBUG   \u001b[0m | \u001b[36mvrp_study.pdptw_model.routing_model\u001b[0m:\u001b[36m__call__\u001b[0m:\u001b[36m40\u001b[0m - \u001b[34m\u001b[1mtime: 0.013; new solution (1): 1; best solution: 1\u001b[0m\n",
      "\u001b[32m2025-08-04 12:05:59.368\u001b[0m | \u001b[1mINFO    \u001b[0m | \u001b[36mvrp_study.pdptw_model.routing_model\u001b[0m:\u001b[36mdo_solve\u001b[0m:\u001b[36m423\u001b[0m - \u001b[1mfind solution\u001b[0m\n",
      "\u001b[32m2025-08-04 12:05:59.369\u001b[0m | \u001b[1mINFO    \u001b[0m | \u001b[36mvrp_study.pdptw_model.routing_model\u001b[0m:\u001b[36mfind_optimal_paths\u001b[0m:\u001b[36m451\u001b[0m - \u001b[1mbest_score: 1\u001b[0m\n",
      "\u001b[32m2025-08-04 12:05:59.369\u001b[0m | \u001b[1mINFO    \u001b[0m | \u001b[36mvrp_study.pdptw_model.routing_model\u001b[0m:\u001b[36mdo_solve\u001b[0m:\u001b[36m378\u001b[0m - \u001b[1mНачало создания модели\u001b[0m\n",
      "\u001b[32m2025-08-04 12:05:59.371\u001b[0m | \u001b[1mINFO    \u001b[0m | \u001b[36mvrp_study.pdptw_model.routing_model\u001b[0m:\u001b[36madd_distance_dimension\u001b[0m:\u001b[36m299\u001b[0m - \u001b[1mДобавление размерности для расстояния\u001b[0m\n",
      "\u001b[32m2025-08-04 12:05:59.372\u001b[0m | \u001b[1mINFO    \u001b[0m | \u001b[36mvrp_study.pdptw_model.routing_model\u001b[0m:\u001b[36madd_count_dimension\u001b[0m:\u001b[36m335\u001b[0m - \u001b[1mДобавление размерности для расстояния\u001b[0m\n",
      "\u001b[32m2025-08-04 12:05:59.373\u001b[0m | \u001b[1mINFO    \u001b[0m | \u001b[36mvrp_study.pdptw_model.routing_model\u001b[0m:\u001b[36madd_pick_up_and_delivery\u001b[0m:\u001b[36m269\u001b[0m - \u001b[1mДобавление ограничения для порядка доставки\u001b[0m\n",
      "\u001b[32m2025-08-04 12:05:59.373\u001b[0m | \u001b[1mINFO    \u001b[0m | \u001b[36mvrp_study.pdptw_model.routing_model\u001b[0m:\u001b[36madd_vehicles_cost\u001b[0m:\u001b[36m243\u001b[0m - \u001b[1mДобавление стоимостей машин\u001b[0m\n",
      "\u001b[32m2025-08-04 12:05:59.374\u001b[0m | \u001b[1mINFO    \u001b[0m | \u001b[36mvrp_study.pdptw_model.routing_model\u001b[0m:\u001b[36madd_time_window\u001b[0m:\u001b[36m194\u001b[0m - \u001b[1madd time\u001b[0m\n",
      "\u001b[32m2025-08-04 12:05:59.375\u001b[0m | \u001b[1mINFO    \u001b[0m | \u001b[36mvrp_study.pdptw_model.routing_model\u001b[0m:\u001b[36madd_mass_constraint\u001b[0m:\u001b[36m177\u001b[0m - \u001b[1mДобавление ограничений для массы\u001b[0m\n",
      "\u001b[32m2025-08-04 12:05:59.377\u001b[0m | \u001b[1mINFO    \u001b[0m | \u001b[36mvrp_study.pdptw_model.routing_model\u001b[0m:\u001b[36mdo_solve\u001b[0m:\u001b[36m407\u001b[0m - \u001b[1mНачало решения\u001b[0m\n",
      "\u001b[32m2025-08-04 12:05:59.378\u001b[0m | \u001b[1mINFO    \u001b[0m | \u001b[36mvrp_study.pdptw_model.routing_model\u001b[0m:\u001b[36mdo_solve\u001b[0m:\u001b[36m410\u001b[0m - \u001b[1muse initial_solution: 1\u001b[0m\n",
      "\u001b[32m2025-08-04 12:05:59.379\u001b[0m | \u001b[34m\u001b[1mDEBUG   \u001b[0m | \u001b[36mvrp_study.pdptw_model.routing_model\u001b[0m:\u001b[36m__call__\u001b[0m:\u001b[36m40\u001b[0m - \u001b[34m\u001b[1mtime: 0.004; new solution (1): 22847; best solution: 22847\u001b[0m\n",
      "\u001b[32m2025-08-04 12:05:59.380\u001b[0m | \u001b[34m\u001b[1mDEBUG   \u001b[0m | \u001b[36mvrp_study.pdptw_model.routing_model\u001b[0m:\u001b[36m__call__\u001b[0m:\u001b[36m40\u001b[0m - \u001b[34m\u001b[1mtime: 0.005; new solution (2): 22847; best solution: 22847\u001b[0m\n",
      "\u001b[32m2025-08-04 12:05:59.396\u001b[0m | \u001b[1mINFO    \u001b[0m | \u001b[36mvrp_study.pdptw_model.routing_model\u001b[0m:\u001b[36mdo_solve\u001b[0m:\u001b[36m423\u001b[0m - \u001b[1mfind solution\u001b[0m\n",
      "\u001b[32m2025-08-04 12:05:59.397\u001b[0m | \u001b[1mINFO    \u001b[0m | \u001b[36mvrp_study.pdptw_model.routing_model\u001b[0m:\u001b[36mfind_optimal_paths\u001b[0m:\u001b[36m464\u001b[0m - \u001b[1mbest_score: 228.47\u001b[0m\n",
      "\u001b[32m2025-08-04 12:05:59.399\u001b[0m | \u001b[1mINFO    \u001b[0m | \u001b[36msrc.vrp_study.pdptw_model.solution_builder\u001b[0m:\u001b[36mget_initial_solution\u001b[0m:\u001b[36m138\u001b[0m - \u001b[1m[[0, 9, 3, 11, 10, 7, 4, 1, 5, 8, 12, 2, 6, 0], [], [], [], [], [], [], [], [], [], [], [], [], [], [], [], [], [], [], [], [], [], [], [], [], [], [], [], [], [], [], [], [], [], [], [], [], [], [], [], [], [], [], [], [], [], [], [], [], [], [], [], [], [], [], [], [], [], [], [], [], [], [], [], [], [], [], [], [], [], [], [], [], [], [], [], [], [], [], [], [], [], [], [], []]\u001b[0m\n",
      "\u001b[32m2025-08-04 12:05:59.399\u001b[0m | \u001b[1mINFO    \u001b[0m | \u001b[36mvrp_study.pdptw_model.routing_model\u001b[0m:\u001b[36mfind_optimal_paths\u001b[0m:\u001b[36m443\u001b[0m - \u001b[1mproblem size: 3\u001b[0m\n",
      "\u001b[32m2025-08-04 12:05:59.401\u001b[0m | \u001b[1mINFO    \u001b[0m | \u001b[36mvrp_study.pdptw_model.routing_model\u001b[0m:\u001b[36mdo_solve\u001b[0m:\u001b[36m378\u001b[0m - \u001b[1mНачало создания модели\u001b[0m\n",
      "\u001b[32m2025-08-04 12:05:59.404\u001b[0m | \u001b[1mINFO    \u001b[0m | \u001b[36mvrp_study.pdptw_model.routing_model\u001b[0m:\u001b[36madd_distance_dimension\u001b[0m:\u001b[36m299\u001b[0m - \u001b[1mДобавление размерности для расстояния\u001b[0m\n",
      "\u001b[32m2025-08-04 12:05:59.405\u001b[0m | \u001b[1mINFO    \u001b[0m | \u001b[36mvrp_study.pdptw_model.routing_model\u001b[0m:\u001b[36madd_count_dimension\u001b[0m:\u001b[36m335\u001b[0m - \u001b[1mДобавление размерности для расстояния\u001b[0m\n",
      "\u001b[32m2025-08-04 12:05:59.407\u001b[0m | \u001b[1mINFO    \u001b[0m | \u001b[36mvrp_study.pdptw_model.routing_model\u001b[0m:\u001b[36madd_pick_up_and_delivery\u001b[0m:\u001b[36m269\u001b[0m - \u001b[1mДобавление ограничения для порядка доставки\u001b[0m\n",
      "\u001b[32m2025-08-04 12:05:59.408\u001b[0m | \u001b[1mINFO    \u001b[0m | \u001b[36mvrp_study.pdptw_model.routing_model\u001b[0m:\u001b[36madd_time_window\u001b[0m:\u001b[36m194\u001b[0m - \u001b[1madd time\u001b[0m\n",
      "\u001b[32m2025-08-04 12:05:59.410\u001b[0m | \u001b[1mINFO    \u001b[0m | \u001b[36mvrp_study.pdptw_model.routing_model\u001b[0m:\u001b[36madd_mass_constraint\u001b[0m:\u001b[36m177\u001b[0m - \u001b[1mДобавление ограничений для массы\u001b[0m\n",
      "\u001b[32m2025-08-04 12:05:59.420\u001b[0m | \u001b[1mINFO    \u001b[0m | \u001b[36mvrp_study.pdptw_model.routing_model\u001b[0m:\u001b[36mdo_solve\u001b[0m:\u001b[36m407\u001b[0m - \u001b[1mНачало решения\u001b[0m\n",
      "\u001b[32m2025-08-04 12:05:59.428\u001b[0m | \u001b[34m\u001b[1mDEBUG   \u001b[0m | \u001b[36mvrp_study.pdptw_model.routing_model\u001b[0m:\u001b[36m__call__\u001b[0m:\u001b[36m40\u001b[0m - \u001b[34m\u001b[1mtime: 0.016; new solution (1): 1; best solution: 1\u001b[0m\n",
      "\u001b[32m2025-08-04 12:05:59.434\u001b[0m | \u001b[1mINFO    \u001b[0m | \u001b[36mvrp_study.pdptw_model.routing_model\u001b[0m:\u001b[36mdo_solve\u001b[0m:\u001b[36m423\u001b[0m - \u001b[1mfind solution\u001b[0m\n",
      "\u001b[32m2025-08-04 12:05:59.435\u001b[0m | \u001b[1mINFO    \u001b[0m | \u001b[36mvrp_study.pdptw_model.routing_model\u001b[0m:\u001b[36mfind_optimal_paths\u001b[0m:\u001b[36m451\u001b[0m - \u001b[1mbest_score: 1\u001b[0m\n",
      "\u001b[32m2025-08-04 12:05:59.435\u001b[0m | \u001b[1mINFO    \u001b[0m | \u001b[36mvrp_study.pdptw_model.routing_model\u001b[0m:\u001b[36mdo_solve\u001b[0m:\u001b[36m378\u001b[0m - \u001b[1mНачало создания модели\u001b[0m\n",
      "\u001b[32m2025-08-04 12:05:59.437\u001b[0m | \u001b[1mINFO    \u001b[0m | \u001b[36mvrp_study.pdptw_model.routing_model\u001b[0m:\u001b[36madd_distance_dimension\u001b[0m:\u001b[36m299\u001b[0m - \u001b[1mДобавление размерности для расстояния\u001b[0m\n",
      "\u001b[32m2025-08-04 12:05:59.438\u001b[0m | \u001b[1mINFO    \u001b[0m | \u001b[36mvrp_study.pdptw_model.routing_model\u001b[0m:\u001b[36madd_count_dimension\u001b[0m:\u001b[36m335\u001b[0m - \u001b[1mДобавление размерности для расстояния\u001b[0m\n",
      "\u001b[32m2025-08-04 12:05:59.439\u001b[0m | \u001b[1mINFO    \u001b[0m | \u001b[36mvrp_study.pdptw_model.routing_model\u001b[0m:\u001b[36madd_pick_up_and_delivery\u001b[0m:\u001b[36m269\u001b[0m - \u001b[1mДобавление ограничения для порядка доставки\u001b[0m\n",
      "\u001b[32m2025-08-04 12:05:59.441\u001b[0m | \u001b[1mINFO    \u001b[0m | \u001b[36mvrp_study.pdptw_model.routing_model\u001b[0m:\u001b[36madd_vehicles_cost\u001b[0m:\u001b[36m243\u001b[0m - \u001b[1mДобавление стоимостей машин\u001b[0m\n",
      "\u001b[32m2025-08-04 12:05:59.443\u001b[0m | \u001b[1mINFO    \u001b[0m | \u001b[36mvrp_study.pdptw_model.routing_model\u001b[0m:\u001b[36madd_time_window\u001b[0m:\u001b[36m194\u001b[0m - \u001b[1madd time\u001b[0m\n",
      "\u001b[32m2025-08-04 12:05:59.444\u001b[0m | \u001b[1mINFO    \u001b[0m | \u001b[36mvrp_study.pdptw_model.routing_model\u001b[0m:\u001b[36madd_mass_constraint\u001b[0m:\u001b[36m177\u001b[0m - \u001b[1mДобавление ограничений для массы\u001b[0m\n",
      "\u001b[32m2025-08-04 12:05:59.447\u001b[0m | \u001b[1mINFO    \u001b[0m | \u001b[36mvrp_study.pdptw_model.routing_model\u001b[0m:\u001b[36mdo_solve\u001b[0m:\u001b[36m407\u001b[0m - \u001b[1mНачало решения\u001b[0m\n",
      "\u001b[32m2025-08-04 12:05:59.448\u001b[0m | \u001b[1mINFO    \u001b[0m | \u001b[36mvrp_study.pdptw_model.routing_model\u001b[0m:\u001b[36mdo_solve\u001b[0m:\u001b[36m410\u001b[0m - \u001b[1muse initial_solution: 1\u001b[0m\n",
      "\u001b[32m2025-08-04 12:05:59.449\u001b[0m | \u001b[34m\u001b[1mDEBUG   \u001b[0m | \u001b[36mvrp_study.pdptw_model.routing_model\u001b[0m:\u001b[36m__call__\u001b[0m:\u001b[36m40\u001b[0m - \u001b[34m\u001b[1mtime: 0.003; new solution (1): 20392; best solution: 20392\u001b[0m\n",
      "\u001b[32m2025-08-04 12:05:59.450\u001b[0m | \u001b[34m\u001b[1mDEBUG   \u001b[0m | \u001b[36mvrp_study.pdptw_model.routing_model\u001b[0m:\u001b[36m__call__\u001b[0m:\u001b[36m40\u001b[0m - \u001b[34m\u001b[1mtime: 0.004; new solution (2): 20392; best solution: 20392\u001b[0m\n",
      "\u001b[32m2025-08-04 12:05:59.452\u001b[0m | \u001b[1mINFO    \u001b[0m | \u001b[36mvrp_study.pdptw_model.routing_model\u001b[0m:\u001b[36mdo_solve\u001b[0m:\u001b[36m423\u001b[0m - \u001b[1mfind solution\u001b[0m\n",
      "\u001b[32m2025-08-04 12:05:59.453\u001b[0m | \u001b[1mINFO    \u001b[0m | \u001b[36mvrp_study.pdptw_model.routing_model\u001b[0m:\u001b[36mfind_optimal_paths\u001b[0m:\u001b[36m464\u001b[0m - \u001b[1mbest_score: 203.92\u001b[0m\n",
      "\u001b[32m2025-08-04 12:05:59.454\u001b[0m | \u001b[1mINFO    \u001b[0m | \u001b[36msrc.vrp_study.pdptw_model.solution_builder\u001b[0m:\u001b[36mget_initial_solution\u001b[0m:\u001b[36m138\u001b[0m - \u001b[1m[[0, 1, 2, 0], [], [], [], [], [], [], [], [], [], [], [], [], [], [], [], [], [], [], [], [], [], [], [], [], [], [], [], [], [], [], [], [], [], [], [], [], [], [], [], [], [], [], [], [], [], [], [], [], [], [], [], [], [], [], [], [], [], [], [], [], [], [], [], [], [], [], [], [], [], [], [], [], [], [], [], [], [], [], [], [], [], [], []]\u001b[0m\n",
      "\u001b[32m2025-08-04 12:05:59.458\u001b[0m | \u001b[1mINFO    \u001b[0m | \u001b[36mvrp_study.pdptw_model.routing_model\u001b[0m:\u001b[36mfind_optimal_paths\u001b[0m:\u001b[36m443\u001b[0m - \u001b[1mproblem size: 3\u001b[0m\n",
      "\u001b[32m2025-08-04 12:05:59.459\u001b[0m | \u001b[1mINFO    \u001b[0m | \u001b[36mvrp_study.pdptw_model.routing_model\u001b[0m:\u001b[36mdo_solve\u001b[0m:\u001b[36m378\u001b[0m - \u001b[1mНачало создания модели\u001b[0m\n",
      "\u001b[32m2025-08-04 12:05:59.463\u001b[0m | \u001b[1mINFO    \u001b[0m | \u001b[36mvrp_study.pdptw_model.routing_model\u001b[0m:\u001b[36madd_distance_dimension\u001b[0m:\u001b[36m299\u001b[0m - \u001b[1mДобавление размерности для расстояния\u001b[0m\n",
      "\u001b[32m2025-08-04 12:05:59.464\u001b[0m | \u001b[1mINFO    \u001b[0m | \u001b[36mvrp_study.pdptw_model.routing_model\u001b[0m:\u001b[36madd_count_dimension\u001b[0m:\u001b[36m335\u001b[0m - \u001b[1mДобавление размерности для расстояния\u001b[0m\n",
      "\u001b[32m2025-08-04 12:05:59.465\u001b[0m | \u001b[1mINFO    \u001b[0m | \u001b[36mvrp_study.pdptw_model.routing_model\u001b[0m:\u001b[36madd_pick_up_and_delivery\u001b[0m:\u001b[36m269\u001b[0m - \u001b[1mДобавление ограничения для порядка доставки\u001b[0m\n",
      "\u001b[32m2025-08-04 12:05:59.466\u001b[0m | \u001b[1mINFO    \u001b[0m | \u001b[36mvrp_study.pdptw_model.routing_model\u001b[0m:\u001b[36madd_time_window\u001b[0m:\u001b[36m194\u001b[0m - \u001b[1madd time\u001b[0m\n",
      "\u001b[32m2025-08-04 12:05:59.468\u001b[0m | \u001b[1mINFO    \u001b[0m | \u001b[36mvrp_study.pdptw_model.routing_model\u001b[0m:\u001b[36madd_mass_constraint\u001b[0m:\u001b[36m177\u001b[0m - \u001b[1mДобавление ограничений для массы\u001b[0m\n",
      "\u001b[32m2025-08-04 12:05:59.475\u001b[0m | \u001b[1mINFO    \u001b[0m | \u001b[36mvrp_study.pdptw_model.routing_model\u001b[0m:\u001b[36mdo_solve\u001b[0m:\u001b[36m407\u001b[0m - \u001b[1mНачало решения\u001b[0m\n",
      "\u001b[32m2025-08-04 12:05:59.483\u001b[0m | \u001b[34m\u001b[1mDEBUG   \u001b[0m | \u001b[36mvrp_study.pdptw_model.routing_model\u001b[0m:\u001b[36m__call__\u001b[0m:\u001b[36m40\u001b[0m - \u001b[34m\u001b[1mtime: 0.015; new solution (1): 1; best solution: 1\u001b[0m\n",
      "\u001b[32m2025-08-04 12:05:59.486\u001b[0m | \u001b[1mINFO    \u001b[0m | \u001b[36mvrp_study.pdptw_model.routing_model\u001b[0m:\u001b[36mdo_solve\u001b[0m:\u001b[36m423\u001b[0m - \u001b[1mfind solution\u001b[0m\n",
      "\u001b[32m2025-08-04 12:05:59.487\u001b[0m | \u001b[1mINFO    \u001b[0m | \u001b[36mvrp_study.pdptw_model.routing_model\u001b[0m:\u001b[36mfind_optimal_paths\u001b[0m:\u001b[36m451\u001b[0m - \u001b[1mbest_score: 1\u001b[0m\n",
      "\u001b[32m2025-08-04 12:05:59.489\u001b[0m | \u001b[1mINFO    \u001b[0m | \u001b[36mvrp_study.pdptw_model.routing_model\u001b[0m:\u001b[36mdo_solve\u001b[0m:\u001b[36m378\u001b[0m - \u001b[1mНачало создания модели\u001b[0m\n",
      "\u001b[32m2025-08-04 12:05:59.490\u001b[0m | \u001b[1mINFO    \u001b[0m | \u001b[36mvrp_study.pdptw_model.routing_model\u001b[0m:\u001b[36madd_distance_dimension\u001b[0m:\u001b[36m299\u001b[0m - \u001b[1mДобавление размерности для расстояния\u001b[0m\n",
      "\u001b[32m2025-08-04 12:05:59.491\u001b[0m | \u001b[1mINFO    \u001b[0m | \u001b[36mvrp_study.pdptw_model.routing_model\u001b[0m:\u001b[36madd_count_dimension\u001b[0m:\u001b[36m335\u001b[0m - \u001b[1mДобавление размерности для расстояния\u001b[0m\n",
      "\u001b[32m2025-08-04 12:05:59.492\u001b[0m | \u001b[1mINFO    \u001b[0m | \u001b[36mvrp_study.pdptw_model.routing_model\u001b[0m:\u001b[36madd_pick_up_and_delivery\u001b[0m:\u001b[36m269\u001b[0m - \u001b[1mДобавление ограничения для порядка доставки\u001b[0m\n",
      "\u001b[32m2025-08-04 12:05:59.493\u001b[0m | \u001b[1mINFO    \u001b[0m | \u001b[36mvrp_study.pdptw_model.routing_model\u001b[0m:\u001b[36madd_vehicles_cost\u001b[0m:\u001b[36m243\u001b[0m - \u001b[1mДобавление стоимостей машин\u001b[0m\n",
      "\u001b[32m2025-08-04 12:05:59.494\u001b[0m | \u001b[1mINFO    \u001b[0m | \u001b[36mvrp_study.pdptw_model.routing_model\u001b[0m:\u001b[36madd_time_window\u001b[0m:\u001b[36m194\u001b[0m - \u001b[1madd time\u001b[0m\n",
      "\u001b[32m2025-08-04 12:05:59.495\u001b[0m | \u001b[1mINFO    \u001b[0m | \u001b[36mvrp_study.pdptw_model.routing_model\u001b[0m:\u001b[36madd_mass_constraint\u001b[0m:\u001b[36m177\u001b[0m - \u001b[1mДобавление ограничений для массы\u001b[0m\n",
      "\u001b[32m2025-08-04 12:05:59.497\u001b[0m | \u001b[1mINFO    \u001b[0m | \u001b[36mvrp_study.pdptw_model.routing_model\u001b[0m:\u001b[36mdo_solve\u001b[0m:\u001b[36m407\u001b[0m - \u001b[1mНачало решения\u001b[0m\n",
      "\u001b[32m2025-08-04 12:05:59.498\u001b[0m | \u001b[1mINFO    \u001b[0m | \u001b[36mvrp_study.pdptw_model.routing_model\u001b[0m:\u001b[36mdo_solve\u001b[0m:\u001b[36m410\u001b[0m - \u001b[1muse initial_solution: 1\u001b[0m\n",
      "\u001b[32m2025-08-04 12:05:59.500\u001b[0m | \u001b[34m\u001b[1mDEBUG   \u001b[0m | \u001b[36mvrp_study.pdptw_model.routing_model\u001b[0m:\u001b[36m__call__\u001b[0m:\u001b[36m40\u001b[0m - \u001b[34m\u001b[1mtime: 0.004; new solution (1): 21025; best solution: 21025\u001b[0m\n",
      "\u001b[32m2025-08-04 12:05:59.501\u001b[0m | \u001b[34m\u001b[1mDEBUG   \u001b[0m | \u001b[36mvrp_study.pdptw_model.routing_model\u001b[0m:\u001b[36m__call__\u001b[0m:\u001b[36m40\u001b[0m - \u001b[34m\u001b[1mtime: 0.005; new solution (2): 21025; best solution: 21025\u001b[0m\n",
      "\u001b[32m2025-08-04 12:05:59.502\u001b[0m | \u001b[1mINFO    \u001b[0m | \u001b[36mvrp_study.pdptw_model.routing_model\u001b[0m:\u001b[36mdo_solve\u001b[0m:\u001b[36m423\u001b[0m - \u001b[1mfind solution\u001b[0m\n",
      "\u001b[32m2025-08-04 12:05:59.503\u001b[0m | \u001b[1mINFO    \u001b[0m | \u001b[36mvrp_study.pdptw_model.routing_model\u001b[0m:\u001b[36mfind_optimal_paths\u001b[0m:\u001b[36m464\u001b[0m - \u001b[1mbest_score: 210.25\u001b[0m\n",
      "\u001b[32m2025-08-04 12:05:59.505\u001b[0m | \u001b[1mINFO    \u001b[0m | \u001b[36msrc.vrp_study.pdptw_model.solution_builder\u001b[0m:\u001b[36mget_initial_solution\u001b[0m:\u001b[36m138\u001b[0m - \u001b[1m[[0, 1, 2, 0], [], [], [], [], [], [], [], [], [], [], [], [], [], [], [], [], [], [], [], [], [], [], [], [], [], [], [], [], [], [], [], [], [], [], [], [], [], [], [], [], [], [], [], [], [], [], [], [], [], [], [], [], [], [], [], [], [], [], [], [], [], [], [], [], [], [], [], [], [], [], [], [], [], [], [], [], [], [], [], [], [], []]\u001b[0m\n",
      "\u001b[32m2025-08-04 12:05:59.507\u001b[0m | \u001b[1mINFO    \u001b[0m | \u001b[36msrc.vrp_study.pdptw_model.solution_builder\u001b[0m:\u001b[36mget_initial_solution\u001b[0m:\u001b[36m118\u001b[0m - \u001b[1m(1, 32.074999999999996)\u001b[0m\n",
      "\u001b[32m2025-08-04 12:05:59.508\u001b[0m | \u001b[1mINFO    \u001b[0m | \u001b[36msrc.vrp_study.pdptw_model.solution_builder\u001b[0m:\u001b[36mget_initial_solution\u001b[0m:\u001b[36m118\u001b[0m - \u001b[1m(1, 16.0875)\u001b[0m\n",
      "\u001b[32m2025-08-04 12:05:59.509\u001b[0m | \u001b[1mINFO    \u001b[0m | \u001b[36msrc.vrp_study.pdptw_model.solution_builder\u001b[0m:\u001b[36mget_initial_solution\u001b[0m:\u001b[36m118\u001b[0m - \u001b[1m(1, 8.09375)\u001b[0m\n",
      "\u001b[32m2025-08-04 12:05:59.511\u001b[0m | \u001b[1mINFO    \u001b[0m | \u001b[36msrc.vrp_study.pdptw_model.solution_builder\u001b[0m:\u001b[36mget_initial_solution\u001b[0m:\u001b[36m118\u001b[0m - \u001b[1m(1, 4.096875)\u001b[0m\n",
      "\u001b[32m2025-08-04 12:05:59.513\u001b[0m | \u001b[1mINFO    \u001b[0m | \u001b[36msrc.vrp_study.pdptw_model.solution_builder\u001b[0m:\u001b[36mget_initial_solution\u001b[0m:\u001b[36m118\u001b[0m - \u001b[1m(1, 2.0984374999999997)\u001b[0m\n",
      "\u001b[32m2025-08-04 12:05:59.514\u001b[0m | \u001b[1mINFO    \u001b[0m | \u001b[36msrc.vrp_study.pdptw_model.solution_builder\u001b[0m:\u001b[36mget_initial_solution\u001b[0m:\u001b[36m118\u001b[0m - \u001b[1m(2, 1.09921875)\u001b[0m\n",
      "\u001b[32m2025-08-04 12:05:59.515\u001b[0m | \u001b[1mINFO    \u001b[0m | \u001b[36msrc.vrp_study.pdptw_model.solution_builder\u001b[0m:\u001b[36mget_initial_solution\u001b[0m:\u001b[36m118\u001b[0m - \u001b[1m(5, 0.599609375)\u001b[0m\n",
      "\u001b[32m2025-08-04 12:05:59.515\u001b[0m | \u001b[1mINFO    \u001b[0m | \u001b[36msrc.vrp_study.pdptw_model.solution_builder\u001b[0m:\u001b[36mget_initial_solution\u001b[0m:\u001b[36m118\u001b[0m - \u001b[1m(6, 0.3498046875)\u001b[0m\n",
      "\u001b[32m2025-08-04 12:05:59.516\u001b[0m | \u001b[1mINFO    \u001b[0m | \u001b[36msrc.vrp_study.pdptw_model.solution_builder\u001b[0m:\u001b[36mget_initial_solution\u001b[0m:\u001b[36m118\u001b[0m - \u001b[1m(6, 0.22490234375)\u001b[0m\n",
      "\u001b[32m2025-08-04 12:05:59.518\u001b[0m | \u001b[1mINFO    \u001b[0m | \u001b[36msrc.vrp_study.pdptw_model.solution_builder\u001b[0m:\u001b[36mget_initial_solution\u001b[0m:\u001b[36m118\u001b[0m - \u001b[1m(6, 0.16245117187500002)\u001b[0m\n"
     ]
    },
    {
     "data": {
      "application/vnd.jupyter.widget-view+json": {
       "model_id": "68d55aa2449144d7b1a9302357dfc0ba",
       "version_major": 2,
       "version_minor": 0
      },
      "text/plain": [
       "  0%|          | 0/4 [00:00<?, ?it/s]"
      ]
     },
     "metadata": {},
     "output_type": "display_data"
    },
    {
     "name": "stderr",
     "output_type": "stream",
     "text": [
      "\u001b[32m2025-08-04 12:05:59.524\u001b[0m | \u001b[1mINFO    \u001b[0m | \u001b[36mvrp_study.pdptw_model.routing_model\u001b[0m:\u001b[36mfind_optimal_paths\u001b[0m:\u001b[36m443\u001b[0m - \u001b[1mproblem size: 13\u001b[0m\n",
      "\u001b[32m2025-08-04 12:05:59.525\u001b[0m | \u001b[1mINFO    \u001b[0m | \u001b[36mvrp_study.pdptw_model.routing_model\u001b[0m:\u001b[36mdo_solve\u001b[0m:\u001b[36m378\u001b[0m - \u001b[1mНачало создания модели\u001b[0m\n",
      "\u001b[32m2025-08-04 12:05:59.528\u001b[0m | \u001b[1mINFO    \u001b[0m | \u001b[36mvrp_study.pdptw_model.routing_model\u001b[0m:\u001b[36madd_distance_dimension\u001b[0m:\u001b[36m299\u001b[0m - \u001b[1mДобавление размерности для расстояния\u001b[0m\n",
      "\u001b[32m2025-08-04 12:05:59.530\u001b[0m | \u001b[1mINFO    \u001b[0m | \u001b[36mvrp_study.pdptw_model.routing_model\u001b[0m:\u001b[36madd_count_dimension\u001b[0m:\u001b[36m335\u001b[0m - \u001b[1mДобавление размерности для расстояния\u001b[0m\n",
      "\u001b[32m2025-08-04 12:05:59.531\u001b[0m | \u001b[1mINFO    \u001b[0m | \u001b[36mvrp_study.pdptw_model.routing_model\u001b[0m:\u001b[36madd_pick_up_and_delivery\u001b[0m:\u001b[36m269\u001b[0m - \u001b[1mДобавление ограничения для порядка доставки\u001b[0m\n",
      "\u001b[32m2025-08-04 12:05:59.532\u001b[0m | \u001b[1mINFO    \u001b[0m | \u001b[36mvrp_study.pdptw_model.routing_model\u001b[0m:\u001b[36madd_time_window\u001b[0m:\u001b[36m194\u001b[0m - \u001b[1madd time\u001b[0m\n",
      "\u001b[32m2025-08-04 12:05:59.533\u001b[0m | \u001b[1mINFO    \u001b[0m | \u001b[36mvrp_study.pdptw_model.routing_model\u001b[0m:\u001b[36madd_mass_constraint\u001b[0m:\u001b[36m177\u001b[0m - \u001b[1mДобавление ограничений для массы\u001b[0m\n",
      "\u001b[32m2025-08-04 12:05:59.538\u001b[0m | \u001b[1mINFO    \u001b[0m | \u001b[36mvrp_study.pdptw_model.routing_model\u001b[0m:\u001b[36mdo_solve\u001b[0m:\u001b[36m407\u001b[0m - \u001b[1mНачало решения\u001b[0m\n",
      "\u001b[32m2025-08-04 12:05:59.545\u001b[0m | \u001b[34m\u001b[1mDEBUG   \u001b[0m | \u001b[36mvrp_study.pdptw_model.routing_model\u001b[0m:\u001b[36m__call__\u001b[0m:\u001b[36m40\u001b[0m - \u001b[34m\u001b[1mtime: 0.011; new solution (1): 1; best solution: 1\u001b[0m\n",
      "\u001b[32m2025-08-04 12:05:59.567\u001b[0m | \u001b[1mINFO    \u001b[0m | \u001b[36mvrp_study.pdptw_model.routing_model\u001b[0m:\u001b[36mdo_solve\u001b[0m:\u001b[36m423\u001b[0m - \u001b[1mfind solution\u001b[0m\n",
      "\u001b[32m2025-08-04 12:05:59.568\u001b[0m | \u001b[1mINFO    \u001b[0m | \u001b[36mvrp_study.pdptw_model.routing_model\u001b[0m:\u001b[36mfind_optimal_paths\u001b[0m:\u001b[36m451\u001b[0m - \u001b[1mbest_score: 1\u001b[0m\n",
      "\u001b[32m2025-08-04 12:05:59.568\u001b[0m | \u001b[1mINFO    \u001b[0m | \u001b[36mvrp_study.pdptw_model.routing_model\u001b[0m:\u001b[36mdo_solve\u001b[0m:\u001b[36m378\u001b[0m - \u001b[1mНачало создания модели\u001b[0m\n",
      "\u001b[32m2025-08-04 12:05:59.570\u001b[0m | \u001b[1mINFO    \u001b[0m | \u001b[36mvrp_study.pdptw_model.routing_model\u001b[0m:\u001b[36madd_distance_dimension\u001b[0m:\u001b[36m299\u001b[0m - \u001b[1mДобавление размерности для расстояния\u001b[0m\n",
      "\u001b[32m2025-08-04 12:05:59.571\u001b[0m | \u001b[1mINFO    \u001b[0m | \u001b[36mvrp_study.pdptw_model.routing_model\u001b[0m:\u001b[36madd_count_dimension\u001b[0m:\u001b[36m335\u001b[0m - \u001b[1mДобавление размерности для расстояния\u001b[0m\n",
      "\u001b[32m2025-08-04 12:05:59.572\u001b[0m | \u001b[1mINFO    \u001b[0m | \u001b[36mvrp_study.pdptw_model.routing_model\u001b[0m:\u001b[36madd_pick_up_and_delivery\u001b[0m:\u001b[36m269\u001b[0m - \u001b[1mДобавление ограничения для порядка доставки\u001b[0m\n",
      "\u001b[32m2025-08-04 12:05:59.573\u001b[0m | \u001b[1mINFO    \u001b[0m | \u001b[36mvrp_study.pdptw_model.routing_model\u001b[0m:\u001b[36madd_vehicles_cost\u001b[0m:\u001b[36m243\u001b[0m - \u001b[1mДобавление стоимостей машин\u001b[0m\n",
      "\u001b[32m2025-08-04 12:05:59.574\u001b[0m | \u001b[1mINFO    \u001b[0m | \u001b[36mvrp_study.pdptw_model.routing_model\u001b[0m:\u001b[36madd_time_window\u001b[0m:\u001b[36m194\u001b[0m - \u001b[1madd time\u001b[0m\n",
      "\u001b[32m2025-08-04 12:05:59.574\u001b[0m | \u001b[1mINFO    \u001b[0m | \u001b[36mvrp_study.pdptw_model.routing_model\u001b[0m:\u001b[36madd_mass_constraint\u001b[0m:\u001b[36m177\u001b[0m - \u001b[1mДобавление ограничений для массы\u001b[0m\n",
      "\u001b[32m2025-08-04 12:05:59.577\u001b[0m | \u001b[1mINFO    \u001b[0m | \u001b[36mvrp_study.pdptw_model.routing_model\u001b[0m:\u001b[36mdo_solve\u001b[0m:\u001b[36m407\u001b[0m - \u001b[1mНачало решения\u001b[0m\n",
      "\u001b[32m2025-08-04 12:05:59.578\u001b[0m | \u001b[1mINFO    \u001b[0m | \u001b[36mvrp_study.pdptw_model.routing_model\u001b[0m:\u001b[36mdo_solve\u001b[0m:\u001b[36m410\u001b[0m - \u001b[1muse initial_solution: 1\u001b[0m\n",
      "\u001b[32m2025-08-04 12:05:59.579\u001b[0m | \u001b[34m\u001b[1mDEBUG   \u001b[0m | \u001b[36mvrp_study.pdptw_model.routing_model\u001b[0m:\u001b[36m__call__\u001b[0m:\u001b[36m40\u001b[0m - \u001b[34m\u001b[1mtime: 0.004; new solution (1): 19845; best solution: 19845\u001b[0m\n",
      "\u001b[32m2025-08-04 12:05:59.581\u001b[0m | \u001b[34m\u001b[1mDEBUG   \u001b[0m | \u001b[36mvrp_study.pdptw_model.routing_model\u001b[0m:\u001b[36m__call__\u001b[0m:\u001b[36m40\u001b[0m - \u001b[34m\u001b[1mtime: 0.006; new solution (2): 19845; best solution: 19845\u001b[0m\n",
      "\u001b[32m2025-08-04 12:05:59.596\u001b[0m | \u001b[1mINFO    \u001b[0m | \u001b[36mvrp_study.pdptw_model.routing_model\u001b[0m:\u001b[36mdo_solve\u001b[0m:\u001b[36m423\u001b[0m - \u001b[1mfind solution\u001b[0m\n",
      "\u001b[32m2025-08-04 12:05:59.597\u001b[0m | \u001b[1mINFO    \u001b[0m | \u001b[36mvrp_study.pdptw_model.routing_model\u001b[0m:\u001b[36mfind_optimal_paths\u001b[0m:\u001b[36m464\u001b[0m - \u001b[1mbest_score: 198.45\u001b[0m\n",
      "\u001b[32m2025-08-04 12:05:59.597\u001b[0m | \u001b[1mINFO    \u001b[0m | \u001b[36msrc.vrp_study.pdptw_model.solution_builder\u001b[0m:\u001b[36mget_initial_solution\u001b[0m:\u001b[36m138\u001b[0m - \u001b[1m[[0, 9, 3, 10, 4, 11, 1, 2, 12, 7, 8, 5, 6, 0], [], [], [], [], [], [], [], [], [], [], [], [], [], [], [], [], [], [], [], [], [], [], [], [], [], [], [], [], [], [], [], [], [], [], [], [], [], [], [], [], [], [], [], [], [], [], [], [], [], [], [], [], [], [], [], [], [], [], [], [], [], [], [], [], [], [], [], [], [], [], [], [], [], [], [], [], [], [], [], [], []]\u001b[0m\n",
      "\u001b[32m2025-08-04 12:05:59.598\u001b[0m | \u001b[1mINFO    \u001b[0m | \u001b[36mvrp_study.pdptw_model.routing_model\u001b[0m:\u001b[36mfind_optimal_paths\u001b[0m:\u001b[36m443\u001b[0m - \u001b[1mproblem size: 13\u001b[0m\n",
      "\u001b[32m2025-08-04 12:05:59.599\u001b[0m | \u001b[1mINFO    \u001b[0m | \u001b[36mvrp_study.pdptw_model.routing_model\u001b[0m:\u001b[36mdo_solve\u001b[0m:\u001b[36m378\u001b[0m - \u001b[1mНачало создания модели\u001b[0m\n",
      "\u001b[32m2025-08-04 12:05:59.601\u001b[0m | \u001b[1mINFO    \u001b[0m | \u001b[36mvrp_study.pdptw_model.routing_model\u001b[0m:\u001b[36madd_distance_dimension\u001b[0m:\u001b[36m299\u001b[0m - \u001b[1mДобавление размерности для расстояния\u001b[0m\n",
      "\u001b[32m2025-08-04 12:05:59.602\u001b[0m | \u001b[1mINFO    \u001b[0m | \u001b[36mvrp_study.pdptw_model.routing_model\u001b[0m:\u001b[36madd_count_dimension\u001b[0m:\u001b[36m335\u001b[0m - \u001b[1mДобавление размерности для расстояния\u001b[0m\n",
      "\u001b[32m2025-08-04 12:05:59.604\u001b[0m | \u001b[1mINFO    \u001b[0m | \u001b[36mvrp_study.pdptw_model.routing_model\u001b[0m:\u001b[36madd_pick_up_and_delivery\u001b[0m:\u001b[36m269\u001b[0m - \u001b[1mДобавление ограничения для порядка доставки\u001b[0m\n",
      "\u001b[32m2025-08-04 12:05:59.605\u001b[0m | \u001b[1mINFO    \u001b[0m | \u001b[36mvrp_study.pdptw_model.routing_model\u001b[0m:\u001b[36madd_time_window\u001b[0m:\u001b[36m194\u001b[0m - \u001b[1madd time\u001b[0m\n",
      "\u001b[32m2025-08-04 12:05:59.606\u001b[0m | \u001b[1mINFO    \u001b[0m | \u001b[36mvrp_study.pdptw_model.routing_model\u001b[0m:\u001b[36madd_mass_constraint\u001b[0m:\u001b[36m177\u001b[0m - \u001b[1mДобавление ограничений для массы\u001b[0m\n",
      "\u001b[32m2025-08-04 12:05:59.613\u001b[0m | \u001b[1mINFO    \u001b[0m | \u001b[36mvrp_study.pdptw_model.routing_model\u001b[0m:\u001b[36mdo_solve\u001b[0m:\u001b[36m407\u001b[0m - \u001b[1mНачало решения\u001b[0m\n",
      "\u001b[32m2025-08-04 12:05:59.620\u001b[0m | \u001b[34m\u001b[1mDEBUG   \u001b[0m | \u001b[36mvrp_study.pdptw_model.routing_model\u001b[0m:\u001b[36m__call__\u001b[0m:\u001b[36m40\u001b[0m - \u001b[34m\u001b[1mtime: 0.013; new solution (1): 1; best solution: 1\u001b[0m\n",
      "\u001b[32m2025-08-04 12:05:59.640\u001b[0m | \u001b[1mINFO    \u001b[0m | \u001b[36mvrp_study.pdptw_model.routing_model\u001b[0m:\u001b[36mdo_solve\u001b[0m:\u001b[36m423\u001b[0m - \u001b[1mfind solution\u001b[0m\n",
      "\u001b[32m2025-08-04 12:05:59.641\u001b[0m | \u001b[1mINFO    \u001b[0m | \u001b[36mvrp_study.pdptw_model.routing_model\u001b[0m:\u001b[36mfind_optimal_paths\u001b[0m:\u001b[36m451\u001b[0m - \u001b[1mbest_score: 1\u001b[0m\n",
      "\u001b[32m2025-08-04 12:05:59.642\u001b[0m | \u001b[1mINFO    \u001b[0m | \u001b[36mvrp_study.pdptw_model.routing_model\u001b[0m:\u001b[36mdo_solve\u001b[0m:\u001b[36m378\u001b[0m - \u001b[1mНачало создания модели\u001b[0m\n",
      "\u001b[32m2025-08-04 12:05:59.644\u001b[0m | \u001b[1mINFO    \u001b[0m | \u001b[36mvrp_study.pdptw_model.routing_model\u001b[0m:\u001b[36madd_distance_dimension\u001b[0m:\u001b[36m299\u001b[0m - \u001b[1mДобавление размерности для расстояния\u001b[0m\n",
      "\u001b[32m2025-08-04 12:05:59.645\u001b[0m | \u001b[1mINFO    \u001b[0m | \u001b[36mvrp_study.pdptw_model.routing_model\u001b[0m:\u001b[36madd_count_dimension\u001b[0m:\u001b[36m335\u001b[0m - \u001b[1mДобавление размерности для расстояния\u001b[0m\n",
      "\u001b[32m2025-08-04 12:05:59.647\u001b[0m | \u001b[1mINFO    \u001b[0m | \u001b[36mvrp_study.pdptw_model.routing_model\u001b[0m:\u001b[36madd_pick_up_and_delivery\u001b[0m:\u001b[36m269\u001b[0m - \u001b[1mДобавление ограничения для порядка доставки\u001b[0m\n",
      "\u001b[32m2025-08-04 12:05:59.648\u001b[0m | \u001b[1mINFO    \u001b[0m | \u001b[36mvrp_study.pdptw_model.routing_model\u001b[0m:\u001b[36madd_vehicles_cost\u001b[0m:\u001b[36m243\u001b[0m - \u001b[1mДобавление стоимостей машин\u001b[0m\n",
      "\u001b[32m2025-08-04 12:05:59.648\u001b[0m | \u001b[1mINFO    \u001b[0m | \u001b[36mvrp_study.pdptw_model.routing_model\u001b[0m:\u001b[36madd_time_window\u001b[0m:\u001b[36m194\u001b[0m - \u001b[1madd time\u001b[0m\n",
      "\u001b[32m2025-08-04 12:05:59.649\u001b[0m | \u001b[1mINFO    \u001b[0m | \u001b[36mvrp_study.pdptw_model.routing_model\u001b[0m:\u001b[36madd_mass_constraint\u001b[0m:\u001b[36m177\u001b[0m - \u001b[1mДобавление ограничений для массы\u001b[0m\n",
      "\u001b[32m2025-08-04 12:05:59.651\u001b[0m | \u001b[1mINFO    \u001b[0m | \u001b[36mvrp_study.pdptw_model.routing_model\u001b[0m:\u001b[36mdo_solve\u001b[0m:\u001b[36m407\u001b[0m - \u001b[1mНачало решения\u001b[0m\n",
      "\u001b[32m2025-08-04 12:05:59.651\u001b[0m | \u001b[1mINFO    \u001b[0m | \u001b[36mvrp_study.pdptw_model.routing_model\u001b[0m:\u001b[36mdo_solve\u001b[0m:\u001b[36m410\u001b[0m - \u001b[1muse initial_solution: 1\u001b[0m\n",
      "\u001b[32m2025-08-04 12:05:59.652\u001b[0m | \u001b[34m\u001b[1mDEBUG   \u001b[0m | \u001b[36mvrp_study.pdptw_model.routing_model\u001b[0m:\u001b[36m__call__\u001b[0m:\u001b[36m40\u001b[0m - \u001b[34m\u001b[1mtime: 0.002; new solution (1): 22023; best solution: 22023\u001b[0m\n",
      "\u001b[32m2025-08-04 12:05:59.653\u001b[0m | \u001b[34m\u001b[1mDEBUG   \u001b[0m | \u001b[36mvrp_study.pdptw_model.routing_model\u001b[0m:\u001b[36m__call__\u001b[0m:\u001b[36m40\u001b[0m - \u001b[34m\u001b[1mtime: 0.003; new solution (2): 22023; best solution: 22023\u001b[0m\n",
      "\u001b[32m2025-08-04 12:05:59.668\u001b[0m | \u001b[1mINFO    \u001b[0m | \u001b[36mvrp_study.pdptw_model.routing_model\u001b[0m:\u001b[36mdo_solve\u001b[0m:\u001b[36m423\u001b[0m - \u001b[1mfind solution\u001b[0m\n",
      "\u001b[32m2025-08-04 12:05:59.669\u001b[0m | \u001b[1mINFO    \u001b[0m | \u001b[36mvrp_study.pdptw_model.routing_model\u001b[0m:\u001b[36mfind_optimal_paths\u001b[0m:\u001b[36m464\u001b[0m - \u001b[1mbest_score: 220.23\u001b[0m\n",
      "\u001b[32m2025-08-04 12:05:59.669\u001b[0m | \u001b[1mINFO    \u001b[0m | \u001b[36msrc.vrp_study.pdptw_model.solution_builder\u001b[0m:\u001b[36mget_initial_solution\u001b[0m:\u001b[36m138\u001b[0m - \u001b[1m[[0, 5, 1, 7, 3, 2, 9, 8, 11, 6, 12, 10, 4, 0], [], [], [], [], [], [], [], [], [], [], [], [], [], [], [], [], [], [], [], [], [], [], [], [], [], [], [], [], [], [], [], [], [], [], [], [], [], [], [], [], [], [], [], [], [], [], [], [], [], [], [], [], [], [], [], [], [], [], [], [], [], [], [], [], [], [], [], [], [], [], [], [], [], [], [], [], [], [], [], []]\u001b[0m\n",
      "\u001b[32m2025-08-04 12:05:59.670\u001b[0m | \u001b[1mINFO    \u001b[0m | \u001b[36mvrp_study.pdptw_model.routing_model\u001b[0m:\u001b[36mfind_optimal_paths\u001b[0m:\u001b[36m443\u001b[0m - \u001b[1mproblem size: 7\u001b[0m\n",
      "\u001b[32m2025-08-04 12:05:59.671\u001b[0m | \u001b[1mINFO    \u001b[0m | \u001b[36mvrp_study.pdptw_model.routing_model\u001b[0m:\u001b[36mdo_solve\u001b[0m:\u001b[36m378\u001b[0m - \u001b[1mНачало создания модели\u001b[0m\n",
      "\u001b[32m2025-08-04 12:05:59.675\u001b[0m | \u001b[1mINFO    \u001b[0m | \u001b[36mvrp_study.pdptw_model.routing_model\u001b[0m:\u001b[36madd_distance_dimension\u001b[0m:\u001b[36m299\u001b[0m - \u001b[1mДобавление размерности для расстояния\u001b[0m\n",
      "\u001b[32m2025-08-04 12:05:59.676\u001b[0m | \u001b[1mINFO    \u001b[0m | \u001b[36mvrp_study.pdptw_model.routing_model\u001b[0m:\u001b[36madd_count_dimension\u001b[0m:\u001b[36m335\u001b[0m - \u001b[1mДобавление размерности для расстояния\u001b[0m\n",
      "\u001b[32m2025-08-04 12:05:59.678\u001b[0m | \u001b[1mINFO    \u001b[0m | \u001b[36mvrp_study.pdptw_model.routing_model\u001b[0m:\u001b[36madd_pick_up_and_delivery\u001b[0m:\u001b[36m269\u001b[0m - \u001b[1mДобавление ограничения для порядка доставки\u001b[0m\n",
      "\u001b[32m2025-08-04 12:05:59.679\u001b[0m | \u001b[1mINFO    \u001b[0m | \u001b[36mvrp_study.pdptw_model.routing_model\u001b[0m:\u001b[36madd_time_window\u001b[0m:\u001b[36m194\u001b[0m - \u001b[1madd time\u001b[0m\n",
      "\u001b[32m2025-08-04 12:05:59.681\u001b[0m | \u001b[1mINFO    \u001b[0m | \u001b[36mvrp_study.pdptw_model.routing_model\u001b[0m:\u001b[36madd_mass_constraint\u001b[0m:\u001b[36m177\u001b[0m - \u001b[1mДобавление ограничений для массы\u001b[0m\n",
      "\u001b[32m2025-08-04 12:05:59.686\u001b[0m | \u001b[1mINFO    \u001b[0m | \u001b[36mvrp_study.pdptw_model.routing_model\u001b[0m:\u001b[36mdo_solve\u001b[0m:\u001b[36m407\u001b[0m - \u001b[1mНачало решения\u001b[0m\n",
      "\u001b[32m2025-08-04 12:05:59.692\u001b[0m | \u001b[34m\u001b[1mDEBUG   \u001b[0m | \u001b[36mvrp_study.pdptw_model.routing_model\u001b[0m:\u001b[36m__call__\u001b[0m:\u001b[36m40\u001b[0m - \u001b[34m\u001b[1mtime: 0.010; new solution (1): 1; best solution: 1\u001b[0m\n",
      "\u001b[32m2025-08-04 12:05:59.706\u001b[0m | \u001b[1mINFO    \u001b[0m | \u001b[36mvrp_study.pdptw_model.routing_model\u001b[0m:\u001b[36mdo_solve\u001b[0m:\u001b[36m423\u001b[0m - \u001b[1mfind solution\u001b[0m\n",
      "\u001b[32m2025-08-04 12:05:59.707\u001b[0m | \u001b[1mINFO    \u001b[0m | \u001b[36mvrp_study.pdptw_model.routing_model\u001b[0m:\u001b[36mfind_optimal_paths\u001b[0m:\u001b[36m451\u001b[0m - \u001b[1mbest_score: 1\u001b[0m\n",
      "\u001b[32m2025-08-04 12:05:59.708\u001b[0m | \u001b[1mINFO    \u001b[0m | \u001b[36mvrp_study.pdptw_model.routing_model\u001b[0m:\u001b[36mdo_solve\u001b[0m:\u001b[36m378\u001b[0m - \u001b[1mНачало создания модели\u001b[0m\n",
      "\u001b[32m2025-08-04 12:05:59.711\u001b[0m | \u001b[1mINFO    \u001b[0m | \u001b[36mvrp_study.pdptw_model.routing_model\u001b[0m:\u001b[36madd_distance_dimension\u001b[0m:\u001b[36m299\u001b[0m - \u001b[1mДобавление размерности для расстояния\u001b[0m\n",
      "\u001b[32m2025-08-04 12:05:59.712\u001b[0m | \u001b[1mINFO    \u001b[0m | \u001b[36mvrp_study.pdptw_model.routing_model\u001b[0m:\u001b[36madd_count_dimension\u001b[0m:\u001b[36m335\u001b[0m - \u001b[1mДобавление размерности для расстояния\u001b[0m\n",
      "\u001b[32m2025-08-04 12:05:59.714\u001b[0m | \u001b[1mINFO    \u001b[0m | \u001b[36mvrp_study.pdptw_model.routing_model\u001b[0m:\u001b[36madd_pick_up_and_delivery\u001b[0m:\u001b[36m269\u001b[0m - \u001b[1mДобавление ограничения для порядка доставки\u001b[0m\n",
      "\u001b[32m2025-08-04 12:05:59.715\u001b[0m | \u001b[1mINFO    \u001b[0m | \u001b[36mvrp_study.pdptw_model.routing_model\u001b[0m:\u001b[36madd_vehicles_cost\u001b[0m:\u001b[36m243\u001b[0m - \u001b[1mДобавление стоимостей машин\u001b[0m\n",
      "\u001b[32m2025-08-04 12:05:59.716\u001b[0m | \u001b[1mINFO    \u001b[0m | \u001b[36mvrp_study.pdptw_model.routing_model\u001b[0m:\u001b[36madd_time_window\u001b[0m:\u001b[36m194\u001b[0m - \u001b[1madd time\u001b[0m\n",
      "\u001b[32m2025-08-04 12:05:59.716\u001b[0m | \u001b[1mINFO    \u001b[0m | \u001b[36mvrp_study.pdptw_model.routing_model\u001b[0m:\u001b[36madd_mass_constraint\u001b[0m:\u001b[36m177\u001b[0m - \u001b[1mДобавление ограничений для массы\u001b[0m\n",
      "\u001b[32m2025-08-04 12:05:59.718\u001b[0m | \u001b[1mINFO    \u001b[0m | \u001b[36mvrp_study.pdptw_model.routing_model\u001b[0m:\u001b[36mdo_solve\u001b[0m:\u001b[36m407\u001b[0m - \u001b[1mНачало решения\u001b[0m\n",
      "\u001b[32m2025-08-04 12:05:59.719\u001b[0m | \u001b[1mINFO    \u001b[0m | \u001b[36mvrp_study.pdptw_model.routing_model\u001b[0m:\u001b[36mdo_solve\u001b[0m:\u001b[36m410\u001b[0m - \u001b[1muse initial_solution: 1\u001b[0m\n",
      "\u001b[32m2025-08-04 12:05:59.720\u001b[0m | \u001b[34m\u001b[1mDEBUG   \u001b[0m | \u001b[36mvrp_study.pdptw_model.routing_model\u001b[0m:\u001b[36m__call__\u001b[0m:\u001b[36m40\u001b[0m - \u001b[34m\u001b[1mtime: 0.003; new solution (1): 14742; best solution: 14742\u001b[0m\n",
      "\u001b[32m2025-08-04 12:05:59.721\u001b[0m | \u001b[34m\u001b[1mDEBUG   \u001b[0m | \u001b[36mvrp_study.pdptw_model.routing_model\u001b[0m:\u001b[36m__call__\u001b[0m:\u001b[36m40\u001b[0m - \u001b[34m\u001b[1mtime: 0.004; new solution (2): 14742; best solution: 14742\u001b[0m\n",
      "\u001b[32m2025-08-04 12:05:59.725\u001b[0m | \u001b[1mINFO    \u001b[0m | \u001b[36mvrp_study.pdptw_model.routing_model\u001b[0m:\u001b[36mdo_solve\u001b[0m:\u001b[36m423\u001b[0m - \u001b[1mfind solution\u001b[0m\n",
      "\u001b[32m2025-08-04 12:05:59.726\u001b[0m | \u001b[1mINFO    \u001b[0m | \u001b[36mvrp_study.pdptw_model.routing_model\u001b[0m:\u001b[36mfind_optimal_paths\u001b[0m:\u001b[36m464\u001b[0m - \u001b[1mbest_score: 147.42\u001b[0m\n",
      "\u001b[32m2025-08-04 12:05:59.727\u001b[0m | \u001b[1mINFO    \u001b[0m | \u001b[36msrc.vrp_study.pdptw_model.solution_builder\u001b[0m:\u001b[36mget_initial_solution\u001b[0m:\u001b[36m138\u001b[0m - \u001b[1m[[0, 5, 6, 3, 4, 1, 2, 0], [], [], [], [], [], [], [], [], [], [], [], [], [], [], [], [], [], [], [], [], [], [], [], [], [], [], [], [], [], [], [], [], [], [], [], [], [], [], [], [], [], [], [], [], [], [], [], [], [], [], [], [], [], [], [], [], [], [], [], [], [], [], [], [], [], [], [], [], [], [], [], [], [], [], [], [], [], [], []]\u001b[0m\n",
      "\u001b[32m2025-08-04 12:05:59.728\u001b[0m | \u001b[1mINFO    \u001b[0m | \u001b[36mvrp_study.pdptw_model.routing_model\u001b[0m:\u001b[36mfind_optimal_paths\u001b[0m:\u001b[36m443\u001b[0m - \u001b[1mproblem size: 5\u001b[0m\n",
      "\u001b[32m2025-08-04 12:05:59.729\u001b[0m | \u001b[1mINFO    \u001b[0m | \u001b[36mvrp_study.pdptw_model.routing_model\u001b[0m:\u001b[36mdo_solve\u001b[0m:\u001b[36m378\u001b[0m - \u001b[1mНачало создания модели\u001b[0m\n",
      "\u001b[32m2025-08-04 12:05:59.732\u001b[0m | \u001b[1mINFO    \u001b[0m | \u001b[36mvrp_study.pdptw_model.routing_model\u001b[0m:\u001b[36madd_distance_dimension\u001b[0m:\u001b[36m299\u001b[0m - \u001b[1mДобавление размерности для расстояния\u001b[0m\n",
      "\u001b[32m2025-08-04 12:05:59.733\u001b[0m | \u001b[1mINFO    \u001b[0m | \u001b[36mvrp_study.pdptw_model.routing_model\u001b[0m:\u001b[36madd_count_dimension\u001b[0m:\u001b[36m335\u001b[0m - \u001b[1mДобавление размерности для расстояния\u001b[0m\n",
      "\u001b[32m2025-08-04 12:05:59.734\u001b[0m | \u001b[1mINFO    \u001b[0m | \u001b[36mvrp_study.pdptw_model.routing_model\u001b[0m:\u001b[36madd_pick_up_and_delivery\u001b[0m:\u001b[36m269\u001b[0m - \u001b[1mДобавление ограничения для порядка доставки\u001b[0m\n",
      "\u001b[32m2025-08-04 12:05:59.734\u001b[0m | \u001b[1mINFO    \u001b[0m | \u001b[36mvrp_study.pdptw_model.routing_model\u001b[0m:\u001b[36madd_time_window\u001b[0m:\u001b[36m194\u001b[0m - \u001b[1madd time\u001b[0m\n",
      "\u001b[32m2025-08-04 12:05:59.735\u001b[0m | \u001b[1mINFO    \u001b[0m | \u001b[36mvrp_study.pdptw_model.routing_model\u001b[0m:\u001b[36madd_mass_constraint\u001b[0m:\u001b[36m177\u001b[0m - \u001b[1mДобавление ограничений для массы\u001b[0m\n",
      "\u001b[32m2025-08-04 12:05:59.743\u001b[0m | \u001b[1mINFO    \u001b[0m | \u001b[36mvrp_study.pdptw_model.routing_model\u001b[0m:\u001b[36mdo_solve\u001b[0m:\u001b[36m407\u001b[0m - \u001b[1mНачало решения\u001b[0m\n",
      "\u001b[32m2025-08-04 12:05:59.749\u001b[0m | \u001b[34m\u001b[1mDEBUG   \u001b[0m | \u001b[36mvrp_study.pdptw_model.routing_model\u001b[0m:\u001b[36m__call__\u001b[0m:\u001b[36m40\u001b[0m - \u001b[34m\u001b[1mtime: 0.013; new solution (1): 1; best solution: 1\u001b[0m\n",
      "\u001b[32m2025-08-04 12:05:59.753\u001b[0m | \u001b[1mINFO    \u001b[0m | \u001b[36mvrp_study.pdptw_model.routing_model\u001b[0m:\u001b[36mdo_solve\u001b[0m:\u001b[36m423\u001b[0m - \u001b[1mfind solution\u001b[0m\n",
      "\u001b[32m2025-08-04 12:05:59.755\u001b[0m | \u001b[1mINFO    \u001b[0m | \u001b[36mvrp_study.pdptw_model.routing_model\u001b[0m:\u001b[36mfind_optimal_paths\u001b[0m:\u001b[36m451\u001b[0m - \u001b[1mbest_score: 1\u001b[0m\n",
      "\u001b[32m2025-08-04 12:05:59.755\u001b[0m | \u001b[1mINFO    \u001b[0m | \u001b[36mvrp_study.pdptw_model.routing_model\u001b[0m:\u001b[36mdo_solve\u001b[0m:\u001b[36m378\u001b[0m - \u001b[1mНачало создания модели\u001b[0m\n",
      "\u001b[32m2025-08-04 12:05:59.757\u001b[0m | \u001b[1mINFO    \u001b[0m | \u001b[36mvrp_study.pdptw_model.routing_model\u001b[0m:\u001b[36madd_distance_dimension\u001b[0m:\u001b[36m299\u001b[0m - \u001b[1mДобавление размерности для расстояния\u001b[0m\n",
      "\u001b[32m2025-08-04 12:05:59.757\u001b[0m | \u001b[1mINFO    \u001b[0m | \u001b[36mvrp_study.pdptw_model.routing_model\u001b[0m:\u001b[36madd_count_dimension\u001b[0m:\u001b[36m335\u001b[0m - \u001b[1mДобавление размерности для расстояния\u001b[0m\n",
      "\u001b[32m2025-08-04 12:05:59.758\u001b[0m | \u001b[1mINFO    \u001b[0m | \u001b[36mvrp_study.pdptw_model.routing_model\u001b[0m:\u001b[36madd_pick_up_and_delivery\u001b[0m:\u001b[36m269\u001b[0m - \u001b[1mДобавление ограничения для порядка доставки\u001b[0m\n",
      "\u001b[32m2025-08-04 12:05:59.758\u001b[0m | \u001b[1mINFO    \u001b[0m | \u001b[36mvrp_study.pdptw_model.routing_model\u001b[0m:\u001b[36madd_vehicles_cost\u001b[0m:\u001b[36m243\u001b[0m - \u001b[1mДобавление стоимостей машин\u001b[0m\n",
      "\u001b[32m2025-08-04 12:05:59.758\u001b[0m | \u001b[1mINFO    \u001b[0m | \u001b[36mvrp_study.pdptw_model.routing_model\u001b[0m:\u001b[36madd_time_window\u001b[0m:\u001b[36m194\u001b[0m - \u001b[1madd time\u001b[0m\n",
      "\u001b[32m2025-08-04 12:05:59.759\u001b[0m | \u001b[1mINFO    \u001b[0m | \u001b[36mvrp_study.pdptw_model.routing_model\u001b[0m:\u001b[36madd_mass_constraint\u001b[0m:\u001b[36m177\u001b[0m - \u001b[1mДобавление ограничений для массы\u001b[0m\n",
      "\u001b[32m2025-08-04 12:05:59.760\u001b[0m | \u001b[1mINFO    \u001b[0m | \u001b[36mvrp_study.pdptw_model.routing_model\u001b[0m:\u001b[36mdo_solve\u001b[0m:\u001b[36m407\u001b[0m - \u001b[1mНачало решения\u001b[0m\n",
      "\u001b[32m2025-08-04 12:05:59.761\u001b[0m | \u001b[1mINFO    \u001b[0m | \u001b[36mvrp_study.pdptw_model.routing_model\u001b[0m:\u001b[36mdo_solve\u001b[0m:\u001b[36m410\u001b[0m - \u001b[1muse initial_solution: 1\u001b[0m\n",
      "\u001b[32m2025-08-04 12:05:59.762\u001b[0m | \u001b[34m\u001b[1mDEBUG   \u001b[0m | \u001b[36mvrp_study.pdptw_model.routing_model\u001b[0m:\u001b[36m__call__\u001b[0m:\u001b[36m40\u001b[0m - \u001b[34m\u001b[1mtime: 0.002; new solution (1): 14573; best solution: 14573\u001b[0m\n",
      "\u001b[32m2025-08-04 12:05:59.763\u001b[0m | \u001b[34m\u001b[1mDEBUG   \u001b[0m | \u001b[36mvrp_study.pdptw_model.routing_model\u001b[0m:\u001b[36m__call__\u001b[0m:\u001b[36m40\u001b[0m - \u001b[34m\u001b[1mtime: 0.003; new solution (2): 14573; best solution: 14573\u001b[0m\n",
      "\u001b[32m2025-08-04 12:05:59.765\u001b[0m | \u001b[1mINFO    \u001b[0m | \u001b[36mvrp_study.pdptw_model.routing_model\u001b[0m:\u001b[36mdo_solve\u001b[0m:\u001b[36m423\u001b[0m - \u001b[1mfind solution\u001b[0m\n",
      "\u001b[32m2025-08-04 12:05:59.765\u001b[0m | \u001b[1mINFO    \u001b[0m | \u001b[36mvrp_study.pdptw_model.routing_model\u001b[0m:\u001b[36mfind_optimal_paths\u001b[0m:\u001b[36m464\u001b[0m - \u001b[1mbest_score: 145.73\u001b[0m\n",
      "\u001b[32m2025-08-04 12:05:59.766\u001b[0m | \u001b[1mINFO    \u001b[0m | \u001b[36msrc.vrp_study.pdptw_model.solution_builder\u001b[0m:\u001b[36mget_initial_solution\u001b[0m:\u001b[36m138\u001b[0m - \u001b[1m[[0, 3, 4, 1, 2, 0], [], [], [], [], [], [], [], [], [], [], [], [], [], [], [], [], [], [], [], [], [], [], [], [], [], [], [], [], [], [], [], [], [], [], [], [], [], [], [], [], [], [], [], [], [], [], [], [], [], [], [], [], [], [], [], [], [], [], [], [], [], [], [], [], [], [], [], [], [], [], [], [], [], [], [], [], [], []]\u001b[0m\n",
      "\u001b[32m2025-08-04 12:05:59.766\u001b[0m | \u001b[1mINFO    \u001b[0m | \u001b[36mvrp_study.pdptw_model.routing_model\u001b[0m:\u001b[36mfind_optimal_paths\u001b[0m:\u001b[36m443\u001b[0m - \u001b[1mproblem size: 181\u001b[0m\n",
      "\u001b[32m2025-08-04 12:05:59.767\u001b[0m | \u001b[1mINFO    \u001b[0m | \u001b[36mvrp_study.pdptw_model.routing_model\u001b[0m:\u001b[36mdo_solve\u001b[0m:\u001b[36m378\u001b[0m - \u001b[1mНачало создания модели\u001b[0m\n",
      "\u001b[32m2025-08-04 12:05:59.770\u001b[0m | \u001b[1mINFO    \u001b[0m | \u001b[36mvrp_study.pdptw_model.routing_model\u001b[0m:\u001b[36madd_distance_dimension\u001b[0m:\u001b[36m299\u001b[0m - \u001b[1mДобавление размерности для расстояния\u001b[0m\n",
      "\u001b[32m2025-08-04 12:05:59.771\u001b[0m | \u001b[1mINFO    \u001b[0m | \u001b[36mvrp_study.pdptw_model.routing_model\u001b[0m:\u001b[36madd_count_dimension\u001b[0m:\u001b[36m335\u001b[0m - \u001b[1mДобавление размерности для расстояния\u001b[0m\n",
      "\u001b[32m2025-08-04 12:05:59.771\u001b[0m | \u001b[1mINFO    \u001b[0m | \u001b[36mvrp_study.pdptw_model.routing_model\u001b[0m:\u001b[36madd_pick_up_and_delivery\u001b[0m:\u001b[36m269\u001b[0m - \u001b[1mДобавление ограничения для порядка доставки\u001b[0m\n",
      "\u001b[32m2025-08-04 12:05:59.773\u001b[0m | \u001b[1mINFO    \u001b[0m | \u001b[36mvrp_study.pdptw_model.routing_model\u001b[0m:\u001b[36madd_time_window\u001b[0m:\u001b[36m194\u001b[0m - \u001b[1madd time\u001b[0m\n",
      "\u001b[32m2025-08-04 12:05:59.774\u001b[0m | \u001b[1mINFO    \u001b[0m | \u001b[36mvrp_study.pdptw_model.routing_model\u001b[0m:\u001b[36madd_mass_constraint\u001b[0m:\u001b[36m177\u001b[0m - \u001b[1mДобавление ограничений для массы\u001b[0m\n",
      "\u001b[32m2025-08-04 12:05:59.780\u001b[0m | \u001b[1mINFO    \u001b[0m | \u001b[36mvrp_study.pdptw_model.routing_model\u001b[0m:\u001b[36mdo_solve\u001b[0m:\u001b[36m407\u001b[0m - \u001b[1mНачало решения\u001b[0m\n",
      "\u001b[32m2025-08-04 12:05:59.780\u001b[0m | \u001b[1mINFO    \u001b[0m | \u001b[36mvrp_study.pdptw_model.routing_model\u001b[0m:\u001b[36mdo_solve\u001b[0m:\u001b[36m410\u001b[0m - \u001b[1muse initial_solution: 22\u001b[0m\n",
      "\u001b[32m2025-08-04 12:05:59.785\u001b[0m | \u001b[34m\u001b[1mDEBUG   \u001b[0m | \u001b[36mvrp_study.pdptw_model.routing_model\u001b[0m:\u001b[36m__call__\u001b[0m:\u001b[36m40\u001b[0m - \u001b[34m\u001b[1mtime: 0.010; new solution (1): 22; best solution: 22\u001b[0m\n",
      "\u001b[32m2025-08-04 12:05:59.792\u001b[0m | \u001b[34m\u001b[1mDEBUG   \u001b[0m | \u001b[36mvrp_study.pdptw_model.routing_model\u001b[0m:\u001b[36m__call__\u001b[0m:\u001b[36m40\u001b[0m - \u001b[34m\u001b[1mtime: 0.017; new solution (2): 22; best solution: 22\u001b[0m\n",
      "\u001b[32m2025-08-04 12:05:59.807\u001b[0m | \u001b[34m\u001b[1mDEBUG   \u001b[0m | \u001b[36mvrp_study.pdptw_model.routing_model\u001b[0m:\u001b[36m__call__\u001b[0m:\u001b[36m40\u001b[0m - \u001b[34m\u001b[1mtime: 0.031; new solution (3): 21; best solution: 21\u001b[0m\n",
      "\u001b[32m2025-08-04 12:05:59.838\u001b[0m | \u001b[34m\u001b[1mDEBUG   \u001b[0m | \u001b[36mvrp_study.pdptw_model.routing_model\u001b[0m:\u001b[36m__call__\u001b[0m:\u001b[36m40\u001b[0m - \u001b[34m\u001b[1mtime: 0.062; new solution (4): 20; best solution: 20\u001b[0m\n",
      "\u001b[32m2025-08-04 12:05:59.862\u001b[0m | \u001b[34m\u001b[1mDEBUG   \u001b[0m | \u001b[36mvrp_study.pdptw_model.routing_model\u001b[0m:\u001b[36m__call__\u001b[0m:\u001b[36m40\u001b[0m - \u001b[34m\u001b[1mtime: 0.087; new solution (5): 19; best solution: 19\u001b[0m\n",
      "\u001b[32m2025-08-04 12:05:59.978\u001b[0m | \u001b[34m\u001b[1mDEBUG   \u001b[0m | \u001b[36mvrp_study.pdptw_model.routing_model\u001b[0m:\u001b[36m__call__\u001b[0m:\u001b[36m40\u001b[0m - \u001b[34m\u001b[1mtime: 0.203; new solution (6): 18; best solution: 18\u001b[0m\n",
      "\u001b[32m2025-08-04 12:06:01.132\u001b[0m | \u001b[1mINFO    \u001b[0m | \u001b[36mvrp_study.pdptw_model.routing_model\u001b[0m:\u001b[36mdo_solve\u001b[0m:\u001b[36m423\u001b[0m - \u001b[1mfind solution\u001b[0m\n",
      "\u001b[32m2025-08-04 12:06:01.133\u001b[0m | \u001b[1mINFO    \u001b[0m | \u001b[36mvrp_study.pdptw_model.routing_model\u001b[0m:\u001b[36mfind_optimal_paths\u001b[0m:\u001b[36m451\u001b[0m - \u001b[1mbest_score: 18\u001b[0m\n",
      "\u001b[32m2025-08-04 12:06:01.134\u001b[0m | \u001b[1mINFO    \u001b[0m | \u001b[36mvrp_study.pdptw_model.routing_model\u001b[0m:\u001b[36mdo_solve\u001b[0m:\u001b[36m378\u001b[0m - \u001b[1mНачало создания модели\u001b[0m\n",
      "\u001b[32m2025-08-04 12:06:01.135\u001b[0m | \u001b[1mINFO    \u001b[0m | \u001b[36mvrp_study.pdptw_model.routing_model\u001b[0m:\u001b[36madd_distance_dimension\u001b[0m:\u001b[36m299\u001b[0m - \u001b[1mДобавление размерности для расстояния\u001b[0m\n",
      "\u001b[32m2025-08-04 12:06:01.136\u001b[0m | \u001b[1mINFO    \u001b[0m | \u001b[36mvrp_study.pdptw_model.routing_model\u001b[0m:\u001b[36madd_count_dimension\u001b[0m:\u001b[36m335\u001b[0m - \u001b[1mДобавление размерности для расстояния\u001b[0m\n",
      "\u001b[32m2025-08-04 12:06:01.137\u001b[0m | \u001b[1mINFO    \u001b[0m | \u001b[36mvrp_study.pdptw_model.routing_model\u001b[0m:\u001b[36madd_pick_up_and_delivery\u001b[0m:\u001b[36m269\u001b[0m - \u001b[1mДобавление ограничения для порядка доставки\u001b[0m\n",
      "\u001b[32m2025-08-04 12:06:01.138\u001b[0m | \u001b[1mINFO    \u001b[0m | \u001b[36mvrp_study.pdptw_model.routing_model\u001b[0m:\u001b[36madd_vehicles_cost\u001b[0m:\u001b[36m243\u001b[0m - \u001b[1mДобавление стоимостей машин\u001b[0m\n",
      "\u001b[32m2025-08-04 12:06:01.138\u001b[0m | \u001b[1mINFO    \u001b[0m | \u001b[36mvrp_study.pdptw_model.routing_model\u001b[0m:\u001b[36madd_time_window\u001b[0m:\u001b[36m194\u001b[0m - \u001b[1madd time\u001b[0m\n",
      "\u001b[32m2025-08-04 12:06:01.139\u001b[0m | \u001b[1mINFO    \u001b[0m | \u001b[36mvrp_study.pdptw_model.routing_model\u001b[0m:\u001b[36madd_mass_constraint\u001b[0m:\u001b[36m177\u001b[0m - \u001b[1mДобавление ограничений для массы\u001b[0m\n",
      "\u001b[32m2025-08-04 12:06:01.144\u001b[0m | \u001b[1mINFO    \u001b[0m | \u001b[36mvrp_study.pdptw_model.routing_model\u001b[0m:\u001b[36mdo_solve\u001b[0m:\u001b[36m407\u001b[0m - \u001b[1mНачало решения\u001b[0m\n",
      "\u001b[32m2025-08-04 12:06:01.145\u001b[0m | \u001b[1mINFO    \u001b[0m | \u001b[36mvrp_study.pdptw_model.routing_model\u001b[0m:\u001b[36mdo_solve\u001b[0m:\u001b[36m410\u001b[0m - \u001b[1muse initial_solution: 18\u001b[0m\n",
      "\u001b[32m2025-08-04 12:06:01.149\u001b[0m | \u001b[34m\u001b[1mDEBUG   \u001b[0m | \u001b[36mvrp_study.pdptw_model.routing_model\u001b[0m:\u001b[36m__call__\u001b[0m:\u001b[36m40\u001b[0m - \u001b[34m\u001b[1mtime: 0.009; new solution (1): 334200; best solution: 334200\u001b[0m\n",
      "\u001b[32m2025-08-04 12:06:01.158\u001b[0m | \u001b[34m\u001b[1mDEBUG   \u001b[0m | \u001b[36mvrp_study.pdptw_model.routing_model\u001b[0m:\u001b[36m__call__\u001b[0m:\u001b[36m40\u001b[0m - \u001b[34m\u001b[1mtime: 0.018; new solution (2): 334200; best solution: 334200\u001b[0m\n",
      "\u001b[32m2025-08-04 12:06:01.260\u001b[0m | \u001b[34m\u001b[1mDEBUG   \u001b[0m | \u001b[36mvrp_study.pdptw_model.routing_model\u001b[0m:\u001b[36m__call__\u001b[0m:\u001b[36m40\u001b[0m - \u001b[34m\u001b[1mtime: 0.120; new solution (3): 334077; best solution: 334077\u001b[0m\n",
      "\u001b[32m2025-08-04 12:06:01.441\u001b[0m | \u001b[34m\u001b[1mDEBUG   \u001b[0m | \u001b[36mvrp_study.pdptw_model.routing_model\u001b[0m:\u001b[36m__call__\u001b[0m:\u001b[36m40\u001b[0m - \u001b[34m\u001b[1mtime: 0.300; new solution (4): 333903; best solution: 333903\u001b[0m\n",
      "\u001b[32m2025-08-04 12:06:01.454\u001b[0m | \u001b[34m\u001b[1mDEBUG   \u001b[0m | \u001b[36mvrp_study.pdptw_model.routing_model\u001b[0m:\u001b[36m__call__\u001b[0m:\u001b[36m40\u001b[0m - \u001b[34m\u001b[1mtime: 0.314; new solution (5): 333830; best solution: 333830\u001b[0m\n",
      "\u001b[32m2025-08-04 12:06:01.614\u001b[0m | \u001b[34m\u001b[1mDEBUG   \u001b[0m | \u001b[36mvrp_study.pdptw_model.routing_model\u001b[0m:\u001b[36m__call__\u001b[0m:\u001b[36m40\u001b[0m - \u001b[34m\u001b[1mtime: 0.473; new solution (6): 332145; best solution: 332145\u001b[0m\n",
      "\u001b[32m2025-08-04 12:06:01.624\u001b[0m | \u001b[34m\u001b[1mDEBUG   \u001b[0m | \u001b[36mvrp_study.pdptw_model.routing_model\u001b[0m:\u001b[36m__call__\u001b[0m:\u001b[36m40\u001b[0m - \u001b[34m\u001b[1mtime: 0.483; new solution (7): 331441; best solution: 331441\u001b[0m\n",
      "\u001b[32m2025-08-04 12:06:01.633\u001b[0m | \u001b[34m\u001b[1mDEBUG   \u001b[0m | \u001b[36mvrp_study.pdptw_model.routing_model\u001b[0m:\u001b[36m__call__\u001b[0m:\u001b[36m40\u001b[0m - \u001b[34m\u001b[1mtime: 0.492; new solution (8): 331364; best solution: 331364\u001b[0m\n",
      "\u001b[32m2025-08-04 12:06:03.565\u001b[0m | \u001b[1mINFO    \u001b[0m | \u001b[36mvrp_study.pdptw_model.routing_model\u001b[0m:\u001b[36mdo_solve\u001b[0m:\u001b[36m423\u001b[0m - \u001b[1mfind solution\u001b[0m\n",
      "\u001b[32m2025-08-04 12:06:03.566\u001b[0m | \u001b[1mINFO    \u001b[0m | \u001b[36mvrp_study.pdptw_model.routing_model\u001b[0m:\u001b[36mfind_optimal_paths\u001b[0m:\u001b[36m464\u001b[0m - \u001b[1mbest_score: 3313.64\u001b[0m\n",
      "\u001b[32m2025-08-04 12:06:03.568\u001b[0m | \u001b[1mINFO    \u001b[0m | \u001b[36msrc.vrp_study.pdptw_model.solution_builder\u001b[0m:\u001b[36mget_initial_solution\u001b[0m:\u001b[36m118\u001b[0m - \u001b[1m(1, 32.074999999999996)\u001b[0m\n",
      "\u001b[32m2025-08-04 12:06:03.569\u001b[0m | \u001b[1mINFO    \u001b[0m | \u001b[36msrc.vrp_study.pdptw_model.solution_builder\u001b[0m:\u001b[36mget_initial_solution\u001b[0m:\u001b[36m118\u001b[0m - \u001b[1m(1, 16.0875)\u001b[0m\n",
      "\u001b[32m2025-08-04 12:06:03.570\u001b[0m | \u001b[1mINFO    \u001b[0m | \u001b[36msrc.vrp_study.pdptw_model.solution_builder\u001b[0m:\u001b[36mget_initial_solution\u001b[0m:\u001b[36m118\u001b[0m - \u001b[1m(1, 8.09375)\u001b[0m\n",
      "\u001b[32m2025-08-04 12:06:03.571\u001b[0m | \u001b[1mINFO    \u001b[0m | \u001b[36msrc.vrp_study.pdptw_model.solution_builder\u001b[0m:\u001b[36mget_initial_solution\u001b[0m:\u001b[36m118\u001b[0m - \u001b[1m(1, 4.096875)\u001b[0m\n",
      "\u001b[32m2025-08-04 12:06:03.572\u001b[0m | \u001b[1mINFO    \u001b[0m | \u001b[36msrc.vrp_study.pdptw_model.solution_builder\u001b[0m:\u001b[36mget_initial_solution\u001b[0m:\u001b[36m118\u001b[0m - \u001b[1m(1, 2.0984374999999997)\u001b[0m\n",
      "\u001b[32m2025-08-04 12:06:03.572\u001b[0m | \u001b[1mINFO    \u001b[0m | \u001b[36msrc.vrp_study.pdptw_model.solution_builder\u001b[0m:\u001b[36mget_initial_solution\u001b[0m:\u001b[36m118\u001b[0m - \u001b[1m(1, 1.09921875)\u001b[0m\n",
      "\u001b[32m2025-08-04 12:06:03.573\u001b[0m | \u001b[1mINFO    \u001b[0m | \u001b[36msrc.vrp_study.pdptw_model.solution_builder\u001b[0m:\u001b[36mget_initial_solution\u001b[0m:\u001b[36m118\u001b[0m - \u001b[1m(3, 0.599609375)\u001b[0m\n",
      "\u001b[32m2025-08-04 12:06:03.574\u001b[0m | \u001b[1mINFO    \u001b[0m | \u001b[36msrc.vrp_study.pdptw_model.solution_builder\u001b[0m:\u001b[36mget_initial_solution\u001b[0m:\u001b[36m118\u001b[0m - \u001b[1m(4, 0.3498046875)\u001b[0m\n",
      "\u001b[32m2025-08-04 12:06:03.575\u001b[0m | \u001b[1mINFO    \u001b[0m | \u001b[36msrc.vrp_study.pdptw_model.solution_builder\u001b[0m:\u001b[36mget_initial_solution\u001b[0m:\u001b[36m118\u001b[0m - \u001b[1m(4, 0.22490234375)\u001b[0m\n",
      "\u001b[32m2025-08-04 12:06:03.575\u001b[0m | \u001b[1mINFO    \u001b[0m | \u001b[36msrc.vrp_study.pdptw_model.solution_builder\u001b[0m:\u001b[36mget_initial_solution\u001b[0m:\u001b[36m118\u001b[0m - \u001b[1m(4, 0.16245117187500002)\u001b[0m\n"
     ]
    },
    {
     "data": {
      "application/vnd.jupyter.widget-view+json": {
       "model_id": "b2d32eed62884a328532ff5f8b54b468",
       "version_major": 2,
       "version_minor": 0
      },
      "text/plain": [
       "  0%|          | 0/1 [00:00<?, ?it/s]"
      ]
     },
     "metadata": {},
     "output_type": "display_data"
    },
    {
     "name": "stderr",
     "output_type": "stream",
     "text": [
      "\u001b[32m2025-08-04 12:06:03.582\u001b[0m | \u001b[1mINFO    \u001b[0m | \u001b[36mvrp_study.pdptw_model.routing_model\u001b[0m:\u001b[36mfind_optimal_paths\u001b[0m:\u001b[36m443\u001b[0m - \u001b[1mproblem size: 9\u001b[0m\n",
      "\u001b[32m2025-08-04 12:06:03.582\u001b[0m | \u001b[1mINFO    \u001b[0m | \u001b[36mvrp_study.pdptw_model.routing_model\u001b[0m:\u001b[36mdo_solve\u001b[0m:\u001b[36m378\u001b[0m - \u001b[1mНачало создания модели\u001b[0m\n",
      "\u001b[32m2025-08-04 12:06:03.584\u001b[0m | \u001b[1mINFO    \u001b[0m | \u001b[36mvrp_study.pdptw_model.routing_model\u001b[0m:\u001b[36madd_distance_dimension\u001b[0m:\u001b[36m299\u001b[0m - \u001b[1mДобавление размерности для расстояния\u001b[0m\n",
      "\u001b[32m2025-08-04 12:06:03.585\u001b[0m | \u001b[1mINFO    \u001b[0m | \u001b[36mvrp_study.pdptw_model.routing_model\u001b[0m:\u001b[36madd_count_dimension\u001b[0m:\u001b[36m335\u001b[0m - \u001b[1mДобавление размерности для расстояния\u001b[0m\n",
      "\u001b[32m2025-08-04 12:06:03.585\u001b[0m | \u001b[1mINFO    \u001b[0m | \u001b[36mvrp_study.pdptw_model.routing_model\u001b[0m:\u001b[36madd_pick_up_and_delivery\u001b[0m:\u001b[36m269\u001b[0m - \u001b[1mДобавление ограничения для порядка доставки\u001b[0m\n",
      "\u001b[32m2025-08-04 12:06:03.586\u001b[0m | \u001b[1mINFO    \u001b[0m | \u001b[36mvrp_study.pdptw_model.routing_model\u001b[0m:\u001b[36madd_time_window\u001b[0m:\u001b[36m194\u001b[0m - \u001b[1madd time\u001b[0m\n",
      "\u001b[32m2025-08-04 12:06:03.588\u001b[0m | \u001b[1mINFO    \u001b[0m | \u001b[36mvrp_study.pdptw_model.routing_model\u001b[0m:\u001b[36madd_mass_constraint\u001b[0m:\u001b[36m177\u001b[0m - \u001b[1mДобавление ограничений для массы\u001b[0m\n",
      "\u001b[32m2025-08-04 12:06:03.593\u001b[0m | \u001b[1mINFO    \u001b[0m | \u001b[36mvrp_study.pdptw_model.routing_model\u001b[0m:\u001b[36mdo_solve\u001b[0m:\u001b[36m407\u001b[0m - \u001b[1mНачало решения\u001b[0m\n",
      "\u001b[32m2025-08-04 12:06:03.598\u001b[0m | \u001b[34m\u001b[1mDEBUG   \u001b[0m | \u001b[36mvrp_study.pdptw_model.routing_model\u001b[0m:\u001b[36m__call__\u001b[0m:\u001b[36m40\u001b[0m - \u001b[34m\u001b[1mtime: 0.009; new solution (1): 1; best solution: 1\u001b[0m\n",
      "\u001b[32m2025-08-04 12:06:03.609\u001b[0m | \u001b[1mINFO    \u001b[0m | \u001b[36mvrp_study.pdptw_model.routing_model\u001b[0m:\u001b[36mdo_solve\u001b[0m:\u001b[36m423\u001b[0m - \u001b[1mfind solution\u001b[0m\n",
      "\u001b[32m2025-08-04 12:06:03.610\u001b[0m | \u001b[1mINFO    \u001b[0m | \u001b[36mvrp_study.pdptw_model.routing_model\u001b[0m:\u001b[36mfind_optimal_paths\u001b[0m:\u001b[36m451\u001b[0m - \u001b[1mbest_score: 1\u001b[0m\n",
      "\u001b[32m2025-08-04 12:06:03.610\u001b[0m | \u001b[1mINFO    \u001b[0m | \u001b[36mvrp_study.pdptw_model.routing_model\u001b[0m:\u001b[36mdo_solve\u001b[0m:\u001b[36m378\u001b[0m - \u001b[1mНачало создания модели\u001b[0m\n",
      "\u001b[32m2025-08-04 12:06:03.611\u001b[0m | \u001b[1mINFO    \u001b[0m | \u001b[36mvrp_study.pdptw_model.routing_model\u001b[0m:\u001b[36madd_distance_dimension\u001b[0m:\u001b[36m299\u001b[0m - \u001b[1mДобавление размерности для расстояния\u001b[0m\n",
      "\u001b[32m2025-08-04 12:06:03.612\u001b[0m | \u001b[1mINFO    \u001b[0m | \u001b[36mvrp_study.pdptw_model.routing_model\u001b[0m:\u001b[36madd_count_dimension\u001b[0m:\u001b[36m335\u001b[0m - \u001b[1mДобавление размерности для расстояния\u001b[0m\n",
      "\u001b[32m2025-08-04 12:06:03.612\u001b[0m | \u001b[1mINFO    \u001b[0m | \u001b[36mvrp_study.pdptw_model.routing_model\u001b[0m:\u001b[36madd_pick_up_and_delivery\u001b[0m:\u001b[36m269\u001b[0m - \u001b[1mДобавление ограничения для порядка доставки\u001b[0m\n",
      "\u001b[32m2025-08-04 12:06:03.612\u001b[0m | \u001b[1mINFO    \u001b[0m | \u001b[36mvrp_study.pdptw_model.routing_model\u001b[0m:\u001b[36madd_vehicles_cost\u001b[0m:\u001b[36m243\u001b[0m - \u001b[1mДобавление стоимостей машин\u001b[0m\n",
      "\u001b[32m2025-08-04 12:06:03.613\u001b[0m | \u001b[1mINFO    \u001b[0m | \u001b[36mvrp_study.pdptw_model.routing_model\u001b[0m:\u001b[36madd_time_window\u001b[0m:\u001b[36m194\u001b[0m - \u001b[1madd time\u001b[0m\n",
      "\u001b[32m2025-08-04 12:06:03.613\u001b[0m | \u001b[1mINFO    \u001b[0m | \u001b[36mvrp_study.pdptw_model.routing_model\u001b[0m:\u001b[36madd_mass_constraint\u001b[0m:\u001b[36m177\u001b[0m - \u001b[1mДобавление ограничений для массы\u001b[0m\n",
      "\u001b[32m2025-08-04 12:06:03.615\u001b[0m | \u001b[1mINFO    \u001b[0m | \u001b[36mvrp_study.pdptw_model.routing_model\u001b[0m:\u001b[36mdo_solve\u001b[0m:\u001b[36m407\u001b[0m - \u001b[1mНачало решения\u001b[0m\n",
      "\u001b[32m2025-08-04 12:06:03.615\u001b[0m | \u001b[1mINFO    \u001b[0m | \u001b[36mvrp_study.pdptw_model.routing_model\u001b[0m:\u001b[36mdo_solve\u001b[0m:\u001b[36m410\u001b[0m - \u001b[1muse initial_solution: 1\u001b[0m\n",
      "\u001b[32m2025-08-04 12:06:03.617\u001b[0m | \u001b[34m\u001b[1mDEBUG   \u001b[0m | \u001b[36mvrp_study.pdptw_model.routing_model\u001b[0m:\u001b[36m__call__\u001b[0m:\u001b[36m40\u001b[0m - \u001b[34m\u001b[1mtime: 0.003; new solution (1): 19332; best solution: 19332\u001b[0m\n",
      "\u001b[32m2025-08-04 12:06:03.618\u001b[0m | \u001b[34m\u001b[1mDEBUG   \u001b[0m | \u001b[36mvrp_study.pdptw_model.routing_model\u001b[0m:\u001b[36m__call__\u001b[0m:\u001b[36m40\u001b[0m - \u001b[34m\u001b[1mtime: 0.004; new solution (2): 19332; best solution: 19332\u001b[0m\n",
      "\u001b[32m2025-08-04 12:06:03.623\u001b[0m | \u001b[1mINFO    \u001b[0m | \u001b[36mvrp_study.pdptw_model.routing_model\u001b[0m:\u001b[36mdo_solve\u001b[0m:\u001b[36m423\u001b[0m - \u001b[1mfind solution\u001b[0m\n",
      "\u001b[32m2025-08-04 12:06:03.624\u001b[0m | \u001b[1mINFO    \u001b[0m | \u001b[36mvrp_study.pdptw_model.routing_model\u001b[0m:\u001b[36mfind_optimal_paths\u001b[0m:\u001b[36m464\u001b[0m - \u001b[1mbest_score: 193.32\u001b[0m\n",
      "\u001b[32m2025-08-04 12:06:03.624\u001b[0m | \u001b[1mINFO    \u001b[0m | \u001b[36msrc.vrp_study.pdptw_model.solution_builder\u001b[0m:\u001b[36mget_initial_solution\u001b[0m:\u001b[36m138\u001b[0m - \u001b[1m[[0, 5, 1, 7, 3, 4, 6, 2, 8, 0], [], [], [], [], [], [], [], [], [], [], [], [], [], [], [], [], [], [], [], [], [], [], [], [], [], [], [], [], [], [], [], [], [], [], [], [], [], [], [], [], [], [], [], [], [], [], [], [], [], [], [], [], [], [], [], [], [], [], [], [], [], [], [], [], [], [], [], [], [], [], [], [], [], [], [], [], [], [], [], [], []]\u001b[0m\n",
      "\u001b[32m2025-08-04 12:06:03.625\u001b[0m | \u001b[1mINFO    \u001b[0m | \u001b[36msrc.vrp_study.pdptw_model.solution_builder\u001b[0m:\u001b[36mget_initial_solution\u001b[0m:\u001b[36m118\u001b[0m - \u001b[1m(1, 32.074999999999996)\u001b[0m\n",
      "\u001b[32m2025-08-04 12:06:03.626\u001b[0m | \u001b[1mINFO    \u001b[0m | \u001b[36msrc.vrp_study.pdptw_model.solution_builder\u001b[0m:\u001b[36mget_initial_solution\u001b[0m:\u001b[36m118\u001b[0m - \u001b[1m(1, 16.0875)\u001b[0m\n",
      "\u001b[32m2025-08-04 12:06:03.627\u001b[0m | \u001b[1mINFO    \u001b[0m | \u001b[36msrc.vrp_study.pdptw_model.solution_builder\u001b[0m:\u001b[36mget_initial_solution\u001b[0m:\u001b[36m118\u001b[0m - \u001b[1m(1, 8.09375)\u001b[0m\n",
      "\u001b[32m2025-08-04 12:06:03.627\u001b[0m | \u001b[1mINFO    \u001b[0m | \u001b[36msrc.vrp_study.pdptw_model.solution_builder\u001b[0m:\u001b[36mget_initial_solution\u001b[0m:\u001b[36m118\u001b[0m - \u001b[1m(1, 4.096875)\u001b[0m\n",
      "\u001b[32m2025-08-04 12:06:03.628\u001b[0m | \u001b[1mINFO    \u001b[0m | \u001b[36msrc.vrp_study.pdptw_model.solution_builder\u001b[0m:\u001b[36mget_initial_solution\u001b[0m:\u001b[36m118\u001b[0m - \u001b[1m(1, 2.0984374999999997)\u001b[0m\n",
      "\u001b[32m2025-08-04 12:06:03.628\u001b[0m | \u001b[1mINFO    \u001b[0m | \u001b[36msrc.vrp_study.pdptw_model.solution_builder\u001b[0m:\u001b[36mget_initial_solution\u001b[0m:\u001b[36m118\u001b[0m - \u001b[1m(2, 1.09921875)\u001b[0m\n",
      "\u001b[32m2025-08-04 12:06:03.629\u001b[0m | \u001b[1mINFO    \u001b[0m | \u001b[36msrc.vrp_study.pdptw_model.solution_builder\u001b[0m:\u001b[36mget_initial_solution\u001b[0m:\u001b[36m118\u001b[0m - \u001b[1m(2, 0.599609375)\u001b[0m\n",
      "\u001b[32m2025-08-04 12:06:03.629\u001b[0m | \u001b[1mINFO    \u001b[0m | \u001b[36msrc.vrp_study.pdptw_model.solution_builder\u001b[0m:\u001b[36mget_initial_solution\u001b[0m:\u001b[36m118\u001b[0m - \u001b[1m(3, 0.3498046875)\u001b[0m\n",
      "\u001b[32m2025-08-04 12:06:03.629\u001b[0m | \u001b[1mINFO    \u001b[0m | \u001b[36msrc.vrp_study.pdptw_model.solution_builder\u001b[0m:\u001b[36mget_initial_solution\u001b[0m:\u001b[36m118\u001b[0m - \u001b[1m(4, 0.22490234375)\u001b[0m\n",
      "\u001b[32m2025-08-04 12:06:03.630\u001b[0m | \u001b[1mINFO    \u001b[0m | \u001b[36msrc.vrp_study.pdptw_model.solution_builder\u001b[0m:\u001b[36mget_initial_solution\u001b[0m:\u001b[36m118\u001b[0m - \u001b[1m(4, 0.16245117187500002)\u001b[0m\n"
     ]
    },
    {
     "data": {
      "application/vnd.jupyter.widget-view+json": {
       "model_id": "2a7e9dcea2b047169f145b1cd49377b3",
       "version_major": 2,
       "version_minor": 0
      },
      "text/plain": [
       "  0%|          | 0/1 [00:00<?, ?it/s]"
      ]
     },
     "metadata": {},
     "output_type": "display_data"
    },
    {
     "name": "stderr",
     "output_type": "stream",
     "text": [
      "\u001b[32m2025-08-04 12:06:03.637\u001b[0m | \u001b[1mINFO    \u001b[0m | \u001b[36mvrp_study.pdptw_model.routing_model\u001b[0m:\u001b[36mfind_optimal_paths\u001b[0m:\u001b[36m443\u001b[0m - \u001b[1mproblem size: 9\u001b[0m\n",
      "\u001b[32m2025-08-04 12:06:03.638\u001b[0m | \u001b[1mINFO    \u001b[0m | \u001b[36mvrp_study.pdptw_model.routing_model\u001b[0m:\u001b[36mdo_solve\u001b[0m:\u001b[36m378\u001b[0m - \u001b[1mНачало создания модели\u001b[0m\n",
      "\u001b[32m2025-08-04 12:06:03.639\u001b[0m | \u001b[1mINFO    \u001b[0m | \u001b[36mvrp_study.pdptw_model.routing_model\u001b[0m:\u001b[36madd_distance_dimension\u001b[0m:\u001b[36m299\u001b[0m - \u001b[1mДобавление размерности для расстояния\u001b[0m\n",
      "\u001b[32m2025-08-04 12:06:03.640\u001b[0m | \u001b[1mINFO    \u001b[0m | \u001b[36mvrp_study.pdptw_model.routing_model\u001b[0m:\u001b[36madd_count_dimension\u001b[0m:\u001b[36m335\u001b[0m - \u001b[1mДобавление размерности для расстояния\u001b[0m\n",
      "\u001b[32m2025-08-04 12:06:03.641\u001b[0m | \u001b[1mINFO    \u001b[0m | \u001b[36mvrp_study.pdptw_model.routing_model\u001b[0m:\u001b[36madd_pick_up_and_delivery\u001b[0m:\u001b[36m269\u001b[0m - \u001b[1mДобавление ограничения для порядка доставки\u001b[0m\n",
      "\u001b[32m2025-08-04 12:06:03.642\u001b[0m | \u001b[1mINFO    \u001b[0m | \u001b[36mvrp_study.pdptw_model.routing_model\u001b[0m:\u001b[36madd_time_window\u001b[0m:\u001b[36m194\u001b[0m - \u001b[1madd time\u001b[0m\n",
      "\u001b[32m2025-08-04 12:06:03.642\u001b[0m | \u001b[1mINFO    \u001b[0m | \u001b[36mvrp_study.pdptw_model.routing_model\u001b[0m:\u001b[36madd_mass_constraint\u001b[0m:\u001b[36m177\u001b[0m - \u001b[1mДобавление ограничений для массы\u001b[0m\n",
      "\u001b[32m2025-08-04 12:06:03.647\u001b[0m | \u001b[1mINFO    \u001b[0m | \u001b[36mvrp_study.pdptw_model.routing_model\u001b[0m:\u001b[36mdo_solve\u001b[0m:\u001b[36m407\u001b[0m - \u001b[1mНачало решения\u001b[0m\n",
      "\u001b[32m2025-08-04 12:06:03.652\u001b[0m | \u001b[34m\u001b[1mDEBUG   \u001b[0m | \u001b[36mvrp_study.pdptw_model.routing_model\u001b[0m:\u001b[36m__call__\u001b[0m:\u001b[36m40\u001b[0m - \u001b[34m\u001b[1mtime: 0.008; new solution (1): 1; best solution: 1\u001b[0m\n",
      "\u001b[32m2025-08-04 12:06:03.662\u001b[0m | \u001b[1mINFO    \u001b[0m | \u001b[36mvrp_study.pdptw_model.routing_model\u001b[0m:\u001b[36mdo_solve\u001b[0m:\u001b[36m423\u001b[0m - \u001b[1mfind solution\u001b[0m\n",
      "\u001b[32m2025-08-04 12:06:03.663\u001b[0m | \u001b[1mINFO    \u001b[0m | \u001b[36mvrp_study.pdptw_model.routing_model\u001b[0m:\u001b[36mfind_optimal_paths\u001b[0m:\u001b[36m451\u001b[0m - \u001b[1mbest_score: 1\u001b[0m\n",
      "\u001b[32m2025-08-04 12:06:03.664\u001b[0m | \u001b[1mINFO    \u001b[0m | \u001b[36mvrp_study.pdptw_model.routing_model\u001b[0m:\u001b[36mdo_solve\u001b[0m:\u001b[36m378\u001b[0m - \u001b[1mНачало создания модели\u001b[0m\n",
      "\u001b[32m2025-08-04 12:06:03.665\u001b[0m | \u001b[1mINFO    \u001b[0m | \u001b[36mvrp_study.pdptw_model.routing_model\u001b[0m:\u001b[36madd_distance_dimension\u001b[0m:\u001b[36m299\u001b[0m - \u001b[1mДобавление размерности для расстояния\u001b[0m\n",
      "\u001b[32m2025-08-04 12:06:03.666\u001b[0m | \u001b[1mINFO    \u001b[0m | \u001b[36mvrp_study.pdptw_model.routing_model\u001b[0m:\u001b[36madd_count_dimension\u001b[0m:\u001b[36m335\u001b[0m - \u001b[1mДобавление размерности для расстояния\u001b[0m\n",
      "\u001b[32m2025-08-04 12:06:03.666\u001b[0m | \u001b[1mINFO    \u001b[0m | \u001b[36mvrp_study.pdptw_model.routing_model\u001b[0m:\u001b[36madd_pick_up_and_delivery\u001b[0m:\u001b[36m269\u001b[0m - \u001b[1mДобавление ограничения для порядка доставки\u001b[0m\n",
      "\u001b[32m2025-08-04 12:06:03.667\u001b[0m | \u001b[1mINFO    \u001b[0m | \u001b[36mvrp_study.pdptw_model.routing_model\u001b[0m:\u001b[36madd_vehicles_cost\u001b[0m:\u001b[36m243\u001b[0m - \u001b[1mДобавление стоимостей машин\u001b[0m\n",
      "\u001b[32m2025-08-04 12:06:03.667\u001b[0m | \u001b[1mINFO    \u001b[0m | \u001b[36mvrp_study.pdptw_model.routing_model\u001b[0m:\u001b[36madd_time_window\u001b[0m:\u001b[36m194\u001b[0m - \u001b[1madd time\u001b[0m\n",
      "\u001b[32m2025-08-04 12:06:03.668\u001b[0m | \u001b[1mINFO    \u001b[0m | \u001b[36mvrp_study.pdptw_model.routing_model\u001b[0m:\u001b[36madd_mass_constraint\u001b[0m:\u001b[36m177\u001b[0m - \u001b[1mДобавление ограничений для массы\u001b[0m\n",
      "\u001b[32m2025-08-04 12:06:03.670\u001b[0m | \u001b[1mINFO    \u001b[0m | \u001b[36mvrp_study.pdptw_model.routing_model\u001b[0m:\u001b[36mdo_solve\u001b[0m:\u001b[36m407\u001b[0m - \u001b[1mНачало решения\u001b[0m\n",
      "\u001b[32m2025-08-04 12:06:03.671\u001b[0m | \u001b[1mINFO    \u001b[0m | \u001b[36mvrp_study.pdptw_model.routing_model\u001b[0m:\u001b[36mdo_solve\u001b[0m:\u001b[36m410\u001b[0m - \u001b[1muse initial_solution: 1\u001b[0m\n",
      "\u001b[32m2025-08-04 12:06:03.672\u001b[0m | \u001b[34m\u001b[1mDEBUG   \u001b[0m | \u001b[36mvrp_study.pdptw_model.routing_model\u001b[0m:\u001b[36m__call__\u001b[0m:\u001b[36m40\u001b[0m - \u001b[34m\u001b[1mtime: 0.003; new solution (1): 6341; best solution: 6341\u001b[0m\n",
      "\u001b[32m2025-08-04 12:06:03.673\u001b[0m | \u001b[34m\u001b[1mDEBUG   \u001b[0m | \u001b[36mvrp_study.pdptw_model.routing_model\u001b[0m:\u001b[36m__call__\u001b[0m:\u001b[36m40\u001b[0m - \u001b[34m\u001b[1mtime: 0.004; new solution (2): 6341; best solution: 6341\u001b[0m\n",
      "\u001b[32m2025-08-04 12:06:03.677\u001b[0m | \u001b[1mINFO    \u001b[0m | \u001b[36mvrp_study.pdptw_model.routing_model\u001b[0m:\u001b[36mdo_solve\u001b[0m:\u001b[36m423\u001b[0m - \u001b[1mfind solution\u001b[0m\n",
      "\u001b[32m2025-08-04 12:06:03.678\u001b[0m | \u001b[1mINFO    \u001b[0m | \u001b[36mvrp_study.pdptw_model.routing_model\u001b[0m:\u001b[36mfind_optimal_paths\u001b[0m:\u001b[36m464\u001b[0m - \u001b[1mbest_score: 63.41\u001b[0m\n",
      "\u001b[32m2025-08-04 12:06:03.678\u001b[0m | \u001b[1mINFO    \u001b[0m | \u001b[36msrc.vrp_study.pdptw_model.solution_builder\u001b[0m:\u001b[36mget_initial_solution\u001b[0m:\u001b[36m138\u001b[0m - \u001b[1m[[0, 3, 4, 5, 1, 2, 6, 7, 8, 0], [], [], [], [], [], [], [], [], [], [], [], [], [], [], [], [], [], [], [], [], [], [], [], [], [], [], [], [], [], [], [], [], [], [], [], [], [], [], [], [], [], [], [], [], [], [], [], [], [], [], [], [], [], [], [], [], [], [], [], [], [], [], [], [], [], [], [], [], [], [], [], [], [], [], [], [], [], [], [], []]\u001b[0m\n",
      "\u001b[32m2025-08-04 12:06:03.680\u001b[0m | \u001b[1mINFO    \u001b[0m | \u001b[36msrc.vrp_study.pdptw_model.solution_builder\u001b[0m:\u001b[36mget_initial_solution\u001b[0m:\u001b[36m118\u001b[0m - \u001b[1m(1, 32.074999999999996)\u001b[0m\n",
      "\u001b[32m2025-08-04 12:06:03.681\u001b[0m | \u001b[1mINFO    \u001b[0m | \u001b[36msrc.vrp_study.pdptw_model.solution_builder\u001b[0m:\u001b[36mget_initial_solution\u001b[0m:\u001b[36m118\u001b[0m - \u001b[1m(1, 16.0875)\u001b[0m\n",
      "\u001b[32m2025-08-04 12:06:03.681\u001b[0m | \u001b[1mINFO    \u001b[0m | \u001b[36msrc.vrp_study.pdptw_model.solution_builder\u001b[0m:\u001b[36mget_initial_solution\u001b[0m:\u001b[36m118\u001b[0m - \u001b[1m(1, 8.09375)\u001b[0m\n",
      "\u001b[32m2025-08-04 12:06:03.682\u001b[0m | \u001b[1mINFO    \u001b[0m | \u001b[36msrc.vrp_study.pdptw_model.solution_builder\u001b[0m:\u001b[36mget_initial_solution\u001b[0m:\u001b[36m118\u001b[0m - \u001b[1m(1, 4.096875)\u001b[0m\n",
      "\u001b[32m2025-08-04 12:06:03.682\u001b[0m | \u001b[1mINFO    \u001b[0m | \u001b[36msrc.vrp_study.pdptw_model.solution_builder\u001b[0m:\u001b[36mget_initial_solution\u001b[0m:\u001b[36m118\u001b[0m - \u001b[1m(1, 2.0984374999999997)\u001b[0m\n",
      "\u001b[32m2025-08-04 12:06:03.683\u001b[0m | \u001b[1mINFO    \u001b[0m | \u001b[36msrc.vrp_study.pdptw_model.solution_builder\u001b[0m:\u001b[36mget_initial_solution\u001b[0m:\u001b[36m118\u001b[0m - \u001b[1m(2, 1.09921875)\u001b[0m\n",
      "\u001b[32m2025-08-04 12:06:03.684\u001b[0m | \u001b[1mINFO    \u001b[0m | \u001b[36msrc.vrp_study.pdptw_model.solution_builder\u001b[0m:\u001b[36mget_initial_solution\u001b[0m:\u001b[36m118\u001b[0m - \u001b[1m(5, 0.599609375)\u001b[0m\n",
      "\u001b[32m2025-08-04 12:06:03.684\u001b[0m | \u001b[1mINFO    \u001b[0m | \u001b[36msrc.vrp_study.pdptw_model.solution_builder\u001b[0m:\u001b[36mget_initial_solution\u001b[0m:\u001b[36m118\u001b[0m - \u001b[1m(6, 0.3498046875)\u001b[0m\n",
      "\u001b[32m2025-08-04 12:06:03.685\u001b[0m | \u001b[1mINFO    \u001b[0m | \u001b[36msrc.vrp_study.pdptw_model.solution_builder\u001b[0m:\u001b[36mget_initial_solution\u001b[0m:\u001b[36m118\u001b[0m - \u001b[1m(6, 0.22490234375)\u001b[0m\n",
      "\u001b[32m2025-08-04 12:06:03.685\u001b[0m | \u001b[1mINFO    \u001b[0m | \u001b[36msrc.vrp_study.pdptw_model.solution_builder\u001b[0m:\u001b[36mget_initial_solution\u001b[0m:\u001b[36m118\u001b[0m - \u001b[1m(6, 0.16245117187500002)\u001b[0m\n"
     ]
    },
    {
     "data": {
      "application/vnd.jupyter.widget-view+json": {
       "model_id": "5b7f64b2e9a94e6bb6e3f75953a34a5f",
       "version_major": 2,
       "version_minor": 0
      },
      "text/plain": [
       "  0%|          | 0/2 [00:00<?, ?it/s]"
      ]
     },
     "metadata": {},
     "output_type": "display_data"
    },
    {
     "name": "stderr",
     "output_type": "stream",
     "text": [
      "\u001b[32m2025-08-04 12:06:03.692\u001b[0m | \u001b[1mINFO    \u001b[0m | \u001b[36mvrp_study.pdptw_model.routing_model\u001b[0m:\u001b[36mfind_optimal_paths\u001b[0m:\u001b[36m443\u001b[0m - \u001b[1mproblem size: 13\u001b[0m\n",
      "\u001b[32m2025-08-04 12:06:03.693\u001b[0m | \u001b[1mINFO    \u001b[0m | \u001b[36mvrp_study.pdptw_model.routing_model\u001b[0m:\u001b[36mdo_solve\u001b[0m:\u001b[36m378\u001b[0m - \u001b[1mНачало создания модели\u001b[0m\n",
      "\u001b[32m2025-08-04 12:06:03.693\u001b[0m | \u001b[1mINFO    \u001b[0m | \u001b[36mvrp_study.pdptw_model.routing_model\u001b[0m:\u001b[36madd_distance_dimension\u001b[0m:\u001b[36m299\u001b[0m - \u001b[1mДобавление размерности для расстояния\u001b[0m\n",
      "\u001b[32m2025-08-04 12:06:03.694\u001b[0m | \u001b[1mINFO    \u001b[0m | \u001b[36mvrp_study.pdptw_model.routing_model\u001b[0m:\u001b[36madd_count_dimension\u001b[0m:\u001b[36m335\u001b[0m - \u001b[1mДобавление размерности для расстояния\u001b[0m\n",
      "\u001b[32m2025-08-04 12:06:03.695\u001b[0m | \u001b[1mINFO    \u001b[0m | \u001b[36mvrp_study.pdptw_model.routing_model\u001b[0m:\u001b[36madd_pick_up_and_delivery\u001b[0m:\u001b[36m269\u001b[0m - \u001b[1mДобавление ограничения для порядка доставки\u001b[0m\n",
      "\u001b[32m2025-08-04 12:06:03.695\u001b[0m | \u001b[1mINFO    \u001b[0m | \u001b[36mvrp_study.pdptw_model.routing_model\u001b[0m:\u001b[36madd_time_window\u001b[0m:\u001b[36m194\u001b[0m - \u001b[1madd time\u001b[0m\n",
      "\u001b[32m2025-08-04 12:06:03.696\u001b[0m | \u001b[1mINFO    \u001b[0m | \u001b[36mvrp_study.pdptw_model.routing_model\u001b[0m:\u001b[36madd_mass_constraint\u001b[0m:\u001b[36m177\u001b[0m - \u001b[1mДобавление ограничений для массы\u001b[0m\n",
      "\u001b[32m2025-08-04 12:06:03.702\u001b[0m | \u001b[1mINFO    \u001b[0m | \u001b[36mvrp_study.pdptw_model.routing_model\u001b[0m:\u001b[36mdo_solve\u001b[0m:\u001b[36m407\u001b[0m - \u001b[1mНачало решения\u001b[0m\n",
      "\u001b[32m2025-08-04 12:06:03.708\u001b[0m | \u001b[34m\u001b[1mDEBUG   \u001b[0m | \u001b[36mvrp_study.pdptw_model.routing_model\u001b[0m:\u001b[36m__call__\u001b[0m:\u001b[36m40\u001b[0m - \u001b[34m\u001b[1mtime: 0.010; new solution (1): 1; best solution: 1\u001b[0m\n",
      "\u001b[32m2025-08-04 12:06:03.726\u001b[0m | \u001b[1mINFO    \u001b[0m | \u001b[36mvrp_study.pdptw_model.routing_model\u001b[0m:\u001b[36mdo_solve\u001b[0m:\u001b[36m423\u001b[0m - \u001b[1mfind solution\u001b[0m\n",
      "\u001b[32m2025-08-04 12:06:03.727\u001b[0m | \u001b[1mINFO    \u001b[0m | \u001b[36mvrp_study.pdptw_model.routing_model\u001b[0m:\u001b[36mfind_optimal_paths\u001b[0m:\u001b[36m451\u001b[0m - \u001b[1mbest_score: 1\u001b[0m\n",
      "\u001b[32m2025-08-04 12:06:03.727\u001b[0m | \u001b[1mINFO    \u001b[0m | \u001b[36mvrp_study.pdptw_model.routing_model\u001b[0m:\u001b[36mdo_solve\u001b[0m:\u001b[36m378\u001b[0m - \u001b[1mНачало создания модели\u001b[0m\n",
      "\u001b[32m2025-08-04 12:06:03.728\u001b[0m | \u001b[1mINFO    \u001b[0m | \u001b[36mvrp_study.pdptw_model.routing_model\u001b[0m:\u001b[36madd_distance_dimension\u001b[0m:\u001b[36m299\u001b[0m - \u001b[1mДобавление размерности для расстояния\u001b[0m\n",
      "\u001b[32m2025-08-04 12:06:03.729\u001b[0m | \u001b[1mINFO    \u001b[0m | \u001b[36mvrp_study.pdptw_model.routing_model\u001b[0m:\u001b[36madd_count_dimension\u001b[0m:\u001b[36m335\u001b[0m - \u001b[1mДобавление размерности для расстояния\u001b[0m\n",
      "\u001b[32m2025-08-04 12:06:03.729\u001b[0m | \u001b[1mINFO    \u001b[0m | \u001b[36mvrp_study.pdptw_model.routing_model\u001b[0m:\u001b[36madd_pick_up_and_delivery\u001b[0m:\u001b[36m269\u001b[0m - \u001b[1mДобавление ограничения для порядка доставки\u001b[0m\n",
      "\u001b[32m2025-08-04 12:06:03.729\u001b[0m | \u001b[1mINFO    \u001b[0m | \u001b[36mvrp_study.pdptw_model.routing_model\u001b[0m:\u001b[36madd_vehicles_cost\u001b[0m:\u001b[36m243\u001b[0m - \u001b[1mДобавление стоимостей машин\u001b[0m\n",
      "\u001b[32m2025-08-04 12:06:03.731\u001b[0m | \u001b[1mINFO    \u001b[0m | \u001b[36mvrp_study.pdptw_model.routing_model\u001b[0m:\u001b[36madd_time_window\u001b[0m:\u001b[36m194\u001b[0m - \u001b[1madd time\u001b[0m\n",
      "\u001b[32m2025-08-04 12:06:03.731\u001b[0m | \u001b[1mINFO    \u001b[0m | \u001b[36mvrp_study.pdptw_model.routing_model\u001b[0m:\u001b[36madd_mass_constraint\u001b[0m:\u001b[36m177\u001b[0m - \u001b[1mДобавление ограничений для массы\u001b[0m\n",
      "\u001b[32m2025-08-04 12:06:03.732\u001b[0m | \u001b[1mINFO    \u001b[0m | \u001b[36mvrp_study.pdptw_model.routing_model\u001b[0m:\u001b[36mdo_solve\u001b[0m:\u001b[36m407\u001b[0m - \u001b[1mНачало решения\u001b[0m\n",
      "\u001b[32m2025-08-04 12:06:03.733\u001b[0m | \u001b[1mINFO    \u001b[0m | \u001b[36mvrp_study.pdptw_model.routing_model\u001b[0m:\u001b[36mdo_solve\u001b[0m:\u001b[36m410\u001b[0m - \u001b[1muse initial_solution: 1\u001b[0m\n",
      "\u001b[32m2025-08-04 12:06:03.734\u001b[0m | \u001b[34m\u001b[1mDEBUG   \u001b[0m | \u001b[36mvrp_study.pdptw_model.routing_model\u001b[0m:\u001b[36m__call__\u001b[0m:\u001b[36m40\u001b[0m - \u001b[34m\u001b[1mtime: 0.002; new solution (1): 20979; best solution: 20979\u001b[0m\n",
      "\u001b[32m2025-08-04 12:06:03.735\u001b[0m | \u001b[34m\u001b[1mDEBUG   \u001b[0m | \u001b[36mvrp_study.pdptw_model.routing_model\u001b[0m:\u001b[36m__call__\u001b[0m:\u001b[36m40\u001b[0m - \u001b[34m\u001b[1mtime: 0.003; new solution (2): 20979; best solution: 20979\u001b[0m\n",
      "\u001b[32m2025-08-04 12:06:03.736\u001b[0m | \u001b[34m\u001b[1mDEBUG   \u001b[0m | \u001b[36mvrp_study.pdptw_model.routing_model\u001b[0m:\u001b[36m__call__\u001b[0m:\u001b[36m40\u001b[0m - \u001b[34m\u001b[1mtime: 0.004; new solution (3): 20372; best solution: 20372\u001b[0m\n",
      "\u001b[32m2025-08-04 12:06:03.746\u001b[0m | \u001b[1mINFO    \u001b[0m | \u001b[36mvrp_study.pdptw_model.routing_model\u001b[0m:\u001b[36mdo_solve\u001b[0m:\u001b[36m423\u001b[0m - \u001b[1mfind solution\u001b[0m\n",
      "\u001b[32m2025-08-04 12:06:03.747\u001b[0m | \u001b[1mINFO    \u001b[0m | \u001b[36mvrp_study.pdptw_model.routing_model\u001b[0m:\u001b[36mfind_optimal_paths\u001b[0m:\u001b[36m464\u001b[0m - \u001b[1mbest_score: 203.72\u001b[0m\n",
      "\u001b[32m2025-08-04 12:06:03.748\u001b[0m | \u001b[1mINFO    \u001b[0m | \u001b[36msrc.vrp_study.pdptw_model.solution_builder\u001b[0m:\u001b[36mget_initial_solution\u001b[0m:\u001b[36m138\u001b[0m - \u001b[1m[[0, 3, 5, 4, 9, 1, 2, 7, 10, 11, 6, 12, 8, 0], [], [], [], [], [], [], [], [], [], [], [], [], [], [], [], [], [], [], [], [], [], [], [], [], [], [], [], [], [], [], [], [], [], [], [], [], [], [], [], [], [], [], [], [], [], [], [], [], [], [], [], [], [], [], [], [], [], [], [], [], [], [], [], [], [], [], [], [], [], [], [], [], [], [], [], [], [], [], []]\u001b[0m\n",
      "\u001b[32m2025-08-04 12:06:03.748\u001b[0m | \u001b[1mINFO    \u001b[0m | \u001b[36mvrp_study.pdptw_model.routing_model\u001b[0m:\u001b[36mfind_optimal_paths\u001b[0m:\u001b[36m443\u001b[0m - \u001b[1mproblem size: 9\u001b[0m\n",
      "\u001b[32m2025-08-04 12:06:03.749\u001b[0m | \u001b[1mINFO    \u001b[0m | \u001b[36mvrp_study.pdptw_model.routing_model\u001b[0m:\u001b[36mdo_solve\u001b[0m:\u001b[36m378\u001b[0m - \u001b[1mНачало создания модели\u001b[0m\n",
      "\u001b[32m2025-08-04 12:06:03.750\u001b[0m | \u001b[1mINFO    \u001b[0m | \u001b[36mvrp_study.pdptw_model.routing_model\u001b[0m:\u001b[36madd_distance_dimension\u001b[0m:\u001b[36m299\u001b[0m - \u001b[1mДобавление размерности для расстояния\u001b[0m\n",
      "\u001b[32m2025-08-04 12:06:03.751\u001b[0m | \u001b[1mINFO    \u001b[0m | \u001b[36mvrp_study.pdptw_model.routing_model\u001b[0m:\u001b[36madd_count_dimension\u001b[0m:\u001b[36m335\u001b[0m - \u001b[1mДобавление размерности для расстояния\u001b[0m\n",
      "\u001b[32m2025-08-04 12:06:03.751\u001b[0m | \u001b[1mINFO    \u001b[0m | \u001b[36mvrp_study.pdptw_model.routing_model\u001b[0m:\u001b[36madd_pick_up_and_delivery\u001b[0m:\u001b[36m269\u001b[0m - \u001b[1mДобавление ограничения для порядка доставки\u001b[0m\n",
      "\u001b[32m2025-08-04 12:06:03.752\u001b[0m | \u001b[1mINFO    \u001b[0m | \u001b[36mvrp_study.pdptw_model.routing_model\u001b[0m:\u001b[36madd_time_window\u001b[0m:\u001b[36m194\u001b[0m - \u001b[1madd time\u001b[0m\n",
      "\u001b[32m2025-08-04 12:06:03.753\u001b[0m | \u001b[1mINFO    \u001b[0m | \u001b[36mvrp_study.pdptw_model.routing_model\u001b[0m:\u001b[36madd_mass_constraint\u001b[0m:\u001b[36m177\u001b[0m - \u001b[1mДобавление ограничений для массы\u001b[0m\n",
      "\u001b[32m2025-08-04 12:06:03.756\u001b[0m | \u001b[1mINFO    \u001b[0m | \u001b[36mvrp_study.pdptw_model.routing_model\u001b[0m:\u001b[36mdo_solve\u001b[0m:\u001b[36m407\u001b[0m - \u001b[1mНачало решения\u001b[0m\n",
      "\u001b[32m2025-08-04 12:06:03.761\u001b[0m | \u001b[34m\u001b[1mDEBUG   \u001b[0m | \u001b[36mvrp_study.pdptw_model.routing_model\u001b[0m:\u001b[36m__call__\u001b[0m:\u001b[36m40\u001b[0m - \u001b[34m\u001b[1mtime: 0.008; new solution (1): 1; best solution: 1\u001b[0m\n",
      "\u001b[32m2025-08-04 12:06:03.771\u001b[0m | \u001b[1mINFO    \u001b[0m | \u001b[36mvrp_study.pdptw_model.routing_model\u001b[0m:\u001b[36mdo_solve\u001b[0m:\u001b[36m423\u001b[0m - \u001b[1mfind solution\u001b[0m\n",
      "\u001b[32m2025-08-04 12:06:03.772\u001b[0m | \u001b[1mINFO    \u001b[0m | \u001b[36mvrp_study.pdptw_model.routing_model\u001b[0m:\u001b[36mfind_optimal_paths\u001b[0m:\u001b[36m451\u001b[0m - \u001b[1mbest_score: 1\u001b[0m\n",
      "\u001b[32m2025-08-04 12:06:03.773\u001b[0m | \u001b[1mINFO    \u001b[0m | \u001b[36mvrp_study.pdptw_model.routing_model\u001b[0m:\u001b[36mdo_solve\u001b[0m:\u001b[36m378\u001b[0m - \u001b[1mНачало создания модели\u001b[0m\n",
      "\u001b[32m2025-08-04 12:06:03.774\u001b[0m | \u001b[1mINFO    \u001b[0m | \u001b[36mvrp_study.pdptw_model.routing_model\u001b[0m:\u001b[36madd_distance_dimension\u001b[0m:\u001b[36m299\u001b[0m - \u001b[1mДобавление размерности для расстояния\u001b[0m\n",
      "\u001b[32m2025-08-04 12:06:03.774\u001b[0m | \u001b[1mINFO    \u001b[0m | \u001b[36mvrp_study.pdptw_model.routing_model\u001b[0m:\u001b[36madd_count_dimension\u001b[0m:\u001b[36m335\u001b[0m - \u001b[1mДобавление размерности для расстояния\u001b[0m\n",
      "\u001b[32m2025-08-04 12:06:03.775\u001b[0m | \u001b[1mINFO    \u001b[0m | \u001b[36mvrp_study.pdptw_model.routing_model\u001b[0m:\u001b[36madd_pick_up_and_delivery\u001b[0m:\u001b[36m269\u001b[0m - \u001b[1mДобавление ограничения для порядка доставки\u001b[0m\n",
      "\u001b[32m2025-08-04 12:06:03.776\u001b[0m | \u001b[1mINFO    \u001b[0m | \u001b[36mvrp_study.pdptw_model.routing_model\u001b[0m:\u001b[36madd_vehicles_cost\u001b[0m:\u001b[36m243\u001b[0m - \u001b[1mДобавление стоимостей машин\u001b[0m\n",
      "\u001b[32m2025-08-04 12:06:03.776\u001b[0m | \u001b[1mINFO    \u001b[0m | \u001b[36mvrp_study.pdptw_model.routing_model\u001b[0m:\u001b[36madd_time_window\u001b[0m:\u001b[36m194\u001b[0m - \u001b[1madd time\u001b[0m\n",
      "\u001b[32m2025-08-04 12:06:03.778\u001b[0m | \u001b[1mINFO    \u001b[0m | \u001b[36mvrp_study.pdptw_model.routing_model\u001b[0m:\u001b[36madd_mass_constraint\u001b[0m:\u001b[36m177\u001b[0m - \u001b[1mДобавление ограничений для массы\u001b[0m\n",
      "\u001b[32m2025-08-04 12:06:03.780\u001b[0m | \u001b[1mINFO    \u001b[0m | \u001b[36mvrp_study.pdptw_model.routing_model\u001b[0m:\u001b[36mdo_solve\u001b[0m:\u001b[36m407\u001b[0m - \u001b[1mНачало решения\u001b[0m\n",
      "\u001b[32m2025-08-04 12:06:03.780\u001b[0m | \u001b[1mINFO    \u001b[0m | \u001b[36mvrp_study.pdptw_model.routing_model\u001b[0m:\u001b[36mdo_solve\u001b[0m:\u001b[36m410\u001b[0m - \u001b[1muse initial_solution: 1\u001b[0m\n",
      "\u001b[32m2025-08-04 12:06:03.781\u001b[0m | \u001b[34m\u001b[1mDEBUG   \u001b[0m | \u001b[36mvrp_study.pdptw_model.routing_model\u001b[0m:\u001b[36m__call__\u001b[0m:\u001b[36m40\u001b[0m - \u001b[34m\u001b[1mtime: 0.002; new solution (1): 23245; best solution: 23245\u001b[0m\n",
      "\u001b[32m2025-08-04 12:06:03.782\u001b[0m | \u001b[34m\u001b[1mDEBUG   \u001b[0m | \u001b[36mvrp_study.pdptw_model.routing_model\u001b[0m:\u001b[36m__call__\u001b[0m:\u001b[36m40\u001b[0m - \u001b[34m\u001b[1mtime: 0.003; new solution (2): 23245; best solution: 23245\u001b[0m\n",
      "\u001b[32m2025-08-04 12:06:03.786\u001b[0m | \u001b[1mINFO    \u001b[0m | \u001b[36mvrp_study.pdptw_model.routing_model\u001b[0m:\u001b[36mdo_solve\u001b[0m:\u001b[36m423\u001b[0m - \u001b[1mfind solution\u001b[0m\n",
      "\u001b[32m2025-08-04 12:06:03.787\u001b[0m | \u001b[1mINFO    \u001b[0m | \u001b[36mvrp_study.pdptw_model.routing_model\u001b[0m:\u001b[36mfind_optimal_paths\u001b[0m:\u001b[36m464\u001b[0m - \u001b[1mbest_score: 232.45\u001b[0m\n",
      "\u001b[32m2025-08-04 12:06:03.787\u001b[0m | \u001b[1mINFO    \u001b[0m | \u001b[36msrc.vrp_study.pdptw_model.solution_builder\u001b[0m:\u001b[36mget_initial_solution\u001b[0m:\u001b[36m138\u001b[0m - \u001b[1m[[0, 3, 1, 7, 5, 6, 2, 4, 8, 0], [], [], [], [], [], [], [], [], [], [], [], [], [], [], [], [], [], [], [], [], [], [], [], [], [], [], [], [], [], [], [], [], [], [], [], [], [], [], [], [], [], [], [], [], [], [], [], [], [], [], [], [], [], [], [], [], [], [], [], [], [], [], [], [], [], [], [], [], [], [], [], [], [], [], [], [], [], []]\u001b[0m\n",
      "\u001b[32m2025-08-04 12:06:03.789\u001b[0m | \u001b[1mINFO    \u001b[0m | \u001b[36msrc.vrp_study.pdptw_model.solution_builder\u001b[0m:\u001b[36mget_initial_solution\u001b[0m:\u001b[36m118\u001b[0m - \u001b[1m(1, 32.074999999999996)\u001b[0m\n",
      "\u001b[32m2025-08-04 12:06:03.790\u001b[0m | \u001b[1mINFO    \u001b[0m | \u001b[36msrc.vrp_study.pdptw_model.solution_builder\u001b[0m:\u001b[36mget_initial_solution\u001b[0m:\u001b[36m118\u001b[0m - \u001b[1m(1, 16.0875)\u001b[0m\n",
      "\u001b[32m2025-08-04 12:06:03.791\u001b[0m | \u001b[1mINFO    \u001b[0m | \u001b[36msrc.vrp_study.pdptw_model.solution_builder\u001b[0m:\u001b[36mget_initial_solution\u001b[0m:\u001b[36m118\u001b[0m - \u001b[1m(1, 8.09375)\u001b[0m\n",
      "\u001b[32m2025-08-04 12:06:03.791\u001b[0m | \u001b[1mINFO    \u001b[0m | \u001b[36msrc.vrp_study.pdptw_model.solution_builder\u001b[0m:\u001b[36mget_initial_solution\u001b[0m:\u001b[36m118\u001b[0m - \u001b[1m(1, 4.096875)\u001b[0m\n",
      "\u001b[32m2025-08-04 12:06:03.792\u001b[0m | \u001b[1mINFO    \u001b[0m | \u001b[36msrc.vrp_study.pdptw_model.solution_builder\u001b[0m:\u001b[36mget_initial_solution\u001b[0m:\u001b[36m118\u001b[0m - \u001b[1m(1, 2.0984374999999997)\u001b[0m\n",
      "\u001b[32m2025-08-04 12:06:03.792\u001b[0m | \u001b[1mINFO    \u001b[0m | \u001b[36msrc.vrp_study.pdptw_model.solution_builder\u001b[0m:\u001b[36mget_initial_solution\u001b[0m:\u001b[36m118\u001b[0m - \u001b[1m(2, 1.09921875)\u001b[0m\n",
      "\u001b[32m2025-08-04 12:06:03.793\u001b[0m | \u001b[1mINFO    \u001b[0m | \u001b[36msrc.vrp_study.pdptw_model.solution_builder\u001b[0m:\u001b[36mget_initial_solution\u001b[0m:\u001b[36m118\u001b[0m - \u001b[1m(5, 0.599609375)\u001b[0m\n",
      "\u001b[32m2025-08-04 12:06:03.793\u001b[0m | \u001b[1mINFO    \u001b[0m | \u001b[36msrc.vrp_study.pdptw_model.solution_builder\u001b[0m:\u001b[36mget_initial_solution\u001b[0m:\u001b[36m118\u001b[0m - \u001b[1m(5, 0.3498046875)\u001b[0m\n",
      "\u001b[32m2025-08-04 12:06:03.794\u001b[0m | \u001b[1mINFO    \u001b[0m | \u001b[36msrc.vrp_study.pdptw_model.solution_builder\u001b[0m:\u001b[36mget_initial_solution\u001b[0m:\u001b[36m118\u001b[0m - \u001b[1m(5, 0.22490234375)\u001b[0m\n",
      "\u001b[32m2025-08-04 12:06:03.796\u001b[0m | \u001b[1mINFO    \u001b[0m | \u001b[36msrc.vrp_study.pdptw_model.solution_builder\u001b[0m:\u001b[36mget_initial_solution\u001b[0m:\u001b[36m118\u001b[0m - \u001b[1m(5, 0.16245117187500002)\u001b[0m\n"
     ]
    },
    {
     "data": {
      "application/vnd.jupyter.widget-view+json": {
       "model_id": "8c24708c86f24ab2895439280cc9df03",
       "version_major": 2,
       "version_minor": 0
      },
      "text/plain": [
       "  0%|          | 0/1 [00:00<?, ?it/s]"
      ]
     },
     "metadata": {},
     "output_type": "display_data"
    },
    {
     "name": "stderr",
     "output_type": "stream",
     "text": [
      "\u001b[32m2025-08-04 12:06:03.801\u001b[0m | \u001b[1mINFO    \u001b[0m | \u001b[36mvrp_study.pdptw_model.routing_model\u001b[0m:\u001b[36mfind_optimal_paths\u001b[0m:\u001b[36m443\u001b[0m - \u001b[1mproblem size: 11\u001b[0m\n",
      "\u001b[32m2025-08-04 12:06:03.801\u001b[0m | \u001b[1mINFO    \u001b[0m | \u001b[36mvrp_study.pdptw_model.routing_model\u001b[0m:\u001b[36mdo_solve\u001b[0m:\u001b[36m378\u001b[0m - \u001b[1mНачало создания модели\u001b[0m\n",
      "\u001b[32m2025-08-04 12:06:03.803\u001b[0m | \u001b[1mINFO    \u001b[0m | \u001b[36mvrp_study.pdptw_model.routing_model\u001b[0m:\u001b[36madd_distance_dimension\u001b[0m:\u001b[36m299\u001b[0m - \u001b[1mДобавление размерности для расстояния\u001b[0m\n",
      "\u001b[32m2025-08-04 12:06:03.804\u001b[0m | \u001b[1mINFO    \u001b[0m | \u001b[36mvrp_study.pdptw_model.routing_model\u001b[0m:\u001b[36madd_count_dimension\u001b[0m:\u001b[36m335\u001b[0m - \u001b[1mДобавление размерности для расстояния\u001b[0m\n",
      "\u001b[32m2025-08-04 12:06:03.805\u001b[0m | \u001b[1mINFO    \u001b[0m | \u001b[36mvrp_study.pdptw_model.routing_model\u001b[0m:\u001b[36madd_pick_up_and_delivery\u001b[0m:\u001b[36m269\u001b[0m - \u001b[1mДобавление ограничения для порядка доставки\u001b[0m\n",
      "\u001b[32m2025-08-04 12:06:03.805\u001b[0m | \u001b[1mINFO    \u001b[0m | \u001b[36mvrp_study.pdptw_model.routing_model\u001b[0m:\u001b[36madd_time_window\u001b[0m:\u001b[36m194\u001b[0m - \u001b[1madd time\u001b[0m\n",
      "\u001b[32m2025-08-04 12:06:03.806\u001b[0m | \u001b[1mINFO    \u001b[0m | \u001b[36mvrp_study.pdptw_model.routing_model\u001b[0m:\u001b[36madd_mass_constraint\u001b[0m:\u001b[36m177\u001b[0m - \u001b[1mДобавление ограничений для массы\u001b[0m\n",
      "\u001b[32m2025-08-04 12:06:03.812\u001b[0m | \u001b[1mINFO    \u001b[0m | \u001b[36mvrp_study.pdptw_model.routing_model\u001b[0m:\u001b[36mdo_solve\u001b[0m:\u001b[36m407\u001b[0m - \u001b[1mНачало решения\u001b[0m\n",
      "\u001b[32m2025-08-04 12:06:03.817\u001b[0m | \u001b[34m\u001b[1mDEBUG   \u001b[0m | \u001b[36mvrp_study.pdptw_model.routing_model\u001b[0m:\u001b[36m__call__\u001b[0m:\u001b[36m40\u001b[0m - \u001b[34m\u001b[1mtime: 0.009; new solution (1): 1; best solution: 1\u001b[0m\n",
      "\u001b[32m2025-08-04 12:06:03.830\u001b[0m | \u001b[1mINFO    \u001b[0m | \u001b[36mvrp_study.pdptw_model.routing_model\u001b[0m:\u001b[36mdo_solve\u001b[0m:\u001b[36m423\u001b[0m - \u001b[1mfind solution\u001b[0m\n",
      "\u001b[32m2025-08-04 12:06:03.831\u001b[0m | \u001b[1mINFO    \u001b[0m | \u001b[36mvrp_study.pdptw_model.routing_model\u001b[0m:\u001b[36mfind_optimal_paths\u001b[0m:\u001b[36m451\u001b[0m - \u001b[1mbest_score: 1\u001b[0m\n",
      "\u001b[32m2025-08-04 12:06:03.832\u001b[0m | \u001b[1mINFO    \u001b[0m | \u001b[36mvrp_study.pdptw_model.routing_model\u001b[0m:\u001b[36mdo_solve\u001b[0m:\u001b[36m378\u001b[0m - \u001b[1mНачало создания модели\u001b[0m\n",
      "\u001b[32m2025-08-04 12:06:03.833\u001b[0m | \u001b[1mINFO    \u001b[0m | \u001b[36mvrp_study.pdptw_model.routing_model\u001b[0m:\u001b[36madd_distance_dimension\u001b[0m:\u001b[36m299\u001b[0m - \u001b[1mДобавление размерности для расстояния\u001b[0m\n",
      "\u001b[32m2025-08-04 12:06:03.834\u001b[0m | \u001b[1mINFO    \u001b[0m | \u001b[36mvrp_study.pdptw_model.routing_model\u001b[0m:\u001b[36madd_count_dimension\u001b[0m:\u001b[36m335\u001b[0m - \u001b[1mДобавление размерности для расстояния\u001b[0m\n",
      "\u001b[32m2025-08-04 12:06:03.834\u001b[0m | \u001b[1mINFO    \u001b[0m | \u001b[36mvrp_study.pdptw_model.routing_model\u001b[0m:\u001b[36madd_pick_up_and_delivery\u001b[0m:\u001b[36m269\u001b[0m - \u001b[1mДобавление ограничения для порядка доставки\u001b[0m\n",
      "\u001b[32m2025-08-04 12:06:03.835\u001b[0m | \u001b[1mINFO    \u001b[0m | \u001b[36mvrp_study.pdptw_model.routing_model\u001b[0m:\u001b[36madd_vehicles_cost\u001b[0m:\u001b[36m243\u001b[0m - \u001b[1mДобавление стоимостей машин\u001b[0m\n",
      "\u001b[32m2025-08-04 12:06:03.835\u001b[0m | \u001b[1mINFO    \u001b[0m | \u001b[36mvrp_study.pdptw_model.routing_model\u001b[0m:\u001b[36madd_time_window\u001b[0m:\u001b[36m194\u001b[0m - \u001b[1madd time\u001b[0m\n",
      "\u001b[32m2025-08-04 12:06:03.836\u001b[0m | \u001b[1mINFO    \u001b[0m | \u001b[36mvrp_study.pdptw_model.routing_model\u001b[0m:\u001b[36madd_mass_constraint\u001b[0m:\u001b[36m177\u001b[0m - \u001b[1mДобавление ограничений для массы\u001b[0m\n",
      "\u001b[32m2025-08-04 12:06:03.837\u001b[0m | \u001b[1mINFO    \u001b[0m | \u001b[36mvrp_study.pdptw_model.routing_model\u001b[0m:\u001b[36mdo_solve\u001b[0m:\u001b[36m407\u001b[0m - \u001b[1mНачало решения\u001b[0m\n",
      "\u001b[32m2025-08-04 12:06:03.838\u001b[0m | \u001b[1mINFO    \u001b[0m | \u001b[36mvrp_study.pdptw_model.routing_model\u001b[0m:\u001b[36mdo_solve\u001b[0m:\u001b[36m410\u001b[0m - \u001b[1muse initial_solution: 1\u001b[0m\n",
      "\u001b[32m2025-08-04 12:06:03.839\u001b[0m | \u001b[34m\u001b[1mDEBUG   \u001b[0m | \u001b[36mvrp_study.pdptw_model.routing_model\u001b[0m:\u001b[36m__call__\u001b[0m:\u001b[36m40\u001b[0m - \u001b[34m\u001b[1mtime: 0.003; new solution (1): 20933; best solution: 20933\u001b[0m\n",
      "\u001b[32m2025-08-04 12:06:03.840\u001b[0m | \u001b[34m\u001b[1mDEBUG   \u001b[0m | \u001b[36mvrp_study.pdptw_model.routing_model\u001b[0m:\u001b[36m__call__\u001b[0m:\u001b[36m40\u001b[0m - \u001b[34m\u001b[1mtime: 0.004; new solution (2): 20933; best solution: 20933\u001b[0m\n",
      "\u001b[32m2025-08-04 12:06:03.852\u001b[0m | \u001b[1mINFO    \u001b[0m | \u001b[36mvrp_study.pdptw_model.routing_model\u001b[0m:\u001b[36mdo_solve\u001b[0m:\u001b[36m423\u001b[0m - \u001b[1mfind solution\u001b[0m\n",
      "\u001b[32m2025-08-04 12:06:03.853\u001b[0m | \u001b[1mINFO    \u001b[0m | \u001b[36mvrp_study.pdptw_model.routing_model\u001b[0m:\u001b[36mfind_optimal_paths\u001b[0m:\u001b[36m464\u001b[0m - \u001b[1mbest_score: 209.33\u001b[0m\n",
      "\u001b[32m2025-08-04 12:06:03.854\u001b[0m | \u001b[1mINFO    \u001b[0m | \u001b[36msrc.vrp_study.pdptw_model.solution_builder\u001b[0m:\u001b[36mget_initial_solution\u001b[0m:\u001b[36m138\u001b[0m - \u001b[1m[[0, 9, 1, 3, 2, 5, 7, 4, 6, 8, 10, 0], [], [], [], [], [], [], [], [], [], [], [], [], [], [], [], [], [], [], [], [], [], [], [], [], [], [], [], [], [], [], [], [], [], [], [], [], [], [], [], [], [], [], [], [], [], [], [], [], [], [], [], [], [], [], [], [], [], [], [], [], [], [], [], [], [], [], [], [], [], [], [], [], [], [], [], [], []]\u001b[0m\n",
      "\u001b[32m2025-08-04 12:06:03.855\u001b[0m | \u001b[1mINFO    \u001b[0m | \u001b[36msrc.vrp_study.pdptw_model.solution_builder\u001b[0m:\u001b[36mget_initial_solution\u001b[0m:\u001b[36m118\u001b[0m - \u001b[1m(1, 32.074999999999996)\u001b[0m\n",
      "\u001b[32m2025-08-04 12:06:03.856\u001b[0m | \u001b[1mINFO    \u001b[0m | \u001b[36msrc.vrp_study.pdptw_model.solution_builder\u001b[0m:\u001b[36mget_initial_solution\u001b[0m:\u001b[36m118\u001b[0m - \u001b[1m(1, 16.0875)\u001b[0m\n",
      "\u001b[32m2025-08-04 12:06:03.856\u001b[0m | \u001b[1mINFO    \u001b[0m | \u001b[36msrc.vrp_study.pdptw_model.solution_builder\u001b[0m:\u001b[36mget_initial_solution\u001b[0m:\u001b[36m118\u001b[0m - \u001b[1m(1, 8.09375)\u001b[0m\n",
      "\u001b[32m2025-08-04 12:06:03.857\u001b[0m | \u001b[1mINFO    \u001b[0m | \u001b[36msrc.vrp_study.pdptw_model.solution_builder\u001b[0m:\u001b[36mget_initial_solution\u001b[0m:\u001b[36m118\u001b[0m - \u001b[1m(1, 4.096875)\u001b[0m\n",
      "\u001b[32m2025-08-04 12:06:03.857\u001b[0m | \u001b[1mINFO    \u001b[0m | \u001b[36msrc.vrp_study.pdptw_model.solution_builder\u001b[0m:\u001b[36mget_initial_solution\u001b[0m:\u001b[36m118\u001b[0m - \u001b[1m(1, 2.0984374999999997)\u001b[0m\n",
      "\u001b[32m2025-08-04 12:06:03.858\u001b[0m | \u001b[1mINFO    \u001b[0m | \u001b[36msrc.vrp_study.pdptw_model.solution_builder\u001b[0m:\u001b[36mget_initial_solution\u001b[0m:\u001b[36m118\u001b[0m - \u001b[1m(1, 1.09921875)\u001b[0m\n",
      "\u001b[32m2025-08-04 12:06:03.859\u001b[0m | \u001b[1mINFO    \u001b[0m | \u001b[36msrc.vrp_study.pdptw_model.solution_builder\u001b[0m:\u001b[36mget_initial_solution\u001b[0m:\u001b[36m118\u001b[0m - \u001b[1m(3, 0.599609375)\u001b[0m\n",
      "\u001b[32m2025-08-04 12:06:03.859\u001b[0m | \u001b[1mINFO    \u001b[0m | \u001b[36msrc.vrp_study.pdptw_model.solution_builder\u001b[0m:\u001b[36mget_initial_solution\u001b[0m:\u001b[36m118\u001b[0m - \u001b[1m(4, 0.3498046875)\u001b[0m\n",
      "\u001b[32m2025-08-04 12:06:03.860\u001b[0m | \u001b[1mINFO    \u001b[0m | \u001b[36msrc.vrp_study.pdptw_model.solution_builder\u001b[0m:\u001b[36mget_initial_solution\u001b[0m:\u001b[36m118\u001b[0m - \u001b[1m(4, 0.22490234375)\u001b[0m\n",
      "\u001b[32m2025-08-04 12:06:03.860\u001b[0m | \u001b[1mINFO    \u001b[0m | \u001b[36msrc.vrp_study.pdptw_model.solution_builder\u001b[0m:\u001b[36mget_initial_solution\u001b[0m:\u001b[36m118\u001b[0m - \u001b[1m(5, 0.16245117187500002)\u001b[0m\n"
     ]
    },
    {
     "data": {
      "application/vnd.jupyter.widget-view+json": {
       "model_id": "eb94db6cfc3342718fcb471ea5e6d403",
       "version_major": 2,
       "version_minor": 0
      },
      "text/plain": [
       "  0%|          | 0/1 [00:00<?, ?it/s]"
      ]
     },
     "metadata": {},
     "output_type": "display_data"
    },
    {
     "name": "stderr",
     "output_type": "stream",
     "text": [
      "\u001b[32m2025-08-04 12:06:03.866\u001b[0m | \u001b[1mINFO    \u001b[0m | \u001b[36mvrp_study.pdptw_model.routing_model\u001b[0m:\u001b[36mfind_optimal_paths\u001b[0m:\u001b[36m443\u001b[0m - \u001b[1mproblem size: 11\u001b[0m\n",
      "\u001b[32m2025-08-04 12:06:03.867\u001b[0m | \u001b[1mINFO    \u001b[0m | \u001b[36mvrp_study.pdptw_model.routing_model\u001b[0m:\u001b[36mdo_solve\u001b[0m:\u001b[36m378\u001b[0m - \u001b[1mНачало создания модели\u001b[0m\n",
      "\u001b[32m2025-08-04 12:06:03.868\u001b[0m | \u001b[1mINFO    \u001b[0m | \u001b[36mvrp_study.pdptw_model.routing_model\u001b[0m:\u001b[36madd_distance_dimension\u001b[0m:\u001b[36m299\u001b[0m - \u001b[1mДобавление размерности для расстояния\u001b[0m\n",
      "\u001b[32m2025-08-04 12:06:03.869\u001b[0m | \u001b[1mINFO    \u001b[0m | \u001b[36mvrp_study.pdptw_model.routing_model\u001b[0m:\u001b[36madd_count_dimension\u001b[0m:\u001b[36m335\u001b[0m - \u001b[1mДобавление размерности для расстояния\u001b[0m\n",
      "\u001b[32m2025-08-04 12:06:03.871\u001b[0m | \u001b[1mINFO    \u001b[0m | \u001b[36mvrp_study.pdptw_model.routing_model\u001b[0m:\u001b[36madd_pick_up_and_delivery\u001b[0m:\u001b[36m269\u001b[0m - \u001b[1mДобавление ограничения для порядка доставки\u001b[0m\n",
      "\u001b[32m2025-08-04 12:06:03.872\u001b[0m | \u001b[1mINFO    \u001b[0m | \u001b[36mvrp_study.pdptw_model.routing_model\u001b[0m:\u001b[36madd_time_window\u001b[0m:\u001b[36m194\u001b[0m - \u001b[1madd time\u001b[0m\n",
      "\u001b[32m2025-08-04 12:06:03.873\u001b[0m | \u001b[1mINFO    \u001b[0m | \u001b[36mvrp_study.pdptw_model.routing_model\u001b[0m:\u001b[36madd_mass_constraint\u001b[0m:\u001b[36m177\u001b[0m - \u001b[1mДобавление ограничений для массы\u001b[0m\n",
      "\u001b[32m2025-08-04 12:06:03.876\u001b[0m | \u001b[1mINFO    \u001b[0m | \u001b[36mvrp_study.pdptw_model.routing_model\u001b[0m:\u001b[36mdo_solve\u001b[0m:\u001b[36m407\u001b[0m - \u001b[1mНачало решения\u001b[0m\n",
      "\u001b[32m2025-08-04 12:06:03.881\u001b[0m | \u001b[34m\u001b[1mDEBUG   \u001b[0m | \u001b[36mvrp_study.pdptw_model.routing_model\u001b[0m:\u001b[36m__call__\u001b[0m:\u001b[36m40\u001b[0m - \u001b[34m\u001b[1mtime: 0.008; new solution (1): 1; best solution: 1\u001b[0m\n",
      "\u001b[32m2025-08-04 12:06:03.894\u001b[0m | \u001b[1mINFO    \u001b[0m | \u001b[36mvrp_study.pdptw_model.routing_model\u001b[0m:\u001b[36mdo_solve\u001b[0m:\u001b[36m423\u001b[0m - \u001b[1mfind solution\u001b[0m\n",
      "\u001b[32m2025-08-04 12:06:03.895\u001b[0m | \u001b[1mINFO    \u001b[0m | \u001b[36mvrp_study.pdptw_model.routing_model\u001b[0m:\u001b[36mfind_optimal_paths\u001b[0m:\u001b[36m451\u001b[0m - \u001b[1mbest_score: 1\u001b[0m\n",
      "\u001b[32m2025-08-04 12:06:03.896\u001b[0m | \u001b[1mINFO    \u001b[0m | \u001b[36mvrp_study.pdptw_model.routing_model\u001b[0m:\u001b[36mdo_solve\u001b[0m:\u001b[36m378\u001b[0m - \u001b[1mНачало создания модели\u001b[0m\n",
      "\u001b[32m2025-08-04 12:06:03.897\u001b[0m | \u001b[1mINFO    \u001b[0m | \u001b[36mvrp_study.pdptw_model.routing_model\u001b[0m:\u001b[36madd_distance_dimension\u001b[0m:\u001b[36m299\u001b[0m - \u001b[1mДобавление размерности для расстояния\u001b[0m\n",
      "\u001b[32m2025-08-04 12:06:03.898\u001b[0m | \u001b[1mINFO    \u001b[0m | \u001b[36mvrp_study.pdptw_model.routing_model\u001b[0m:\u001b[36madd_count_dimension\u001b[0m:\u001b[36m335\u001b[0m - \u001b[1mДобавление размерности для расстояния\u001b[0m\n",
      "\u001b[32m2025-08-04 12:06:03.898\u001b[0m | \u001b[1mINFO    \u001b[0m | \u001b[36mvrp_study.pdptw_model.routing_model\u001b[0m:\u001b[36madd_pick_up_and_delivery\u001b[0m:\u001b[36m269\u001b[0m - \u001b[1mДобавление ограничения для порядка доставки\u001b[0m\n",
      "\u001b[32m2025-08-04 12:06:03.898\u001b[0m | \u001b[1mINFO    \u001b[0m | \u001b[36mvrp_study.pdptw_model.routing_model\u001b[0m:\u001b[36madd_vehicles_cost\u001b[0m:\u001b[36m243\u001b[0m - \u001b[1mДобавление стоимостей машин\u001b[0m\n",
      "\u001b[32m2025-08-04 12:06:03.899\u001b[0m | \u001b[1mINFO    \u001b[0m | \u001b[36mvrp_study.pdptw_model.routing_model\u001b[0m:\u001b[36madd_time_window\u001b[0m:\u001b[36m194\u001b[0m - \u001b[1madd time\u001b[0m\n",
      "\u001b[32m2025-08-04 12:06:03.899\u001b[0m | \u001b[1mINFO    \u001b[0m | \u001b[36mvrp_study.pdptw_model.routing_model\u001b[0m:\u001b[36madd_mass_constraint\u001b[0m:\u001b[36m177\u001b[0m - \u001b[1mДобавление ограничений для массы\u001b[0m\n",
      "\u001b[32m2025-08-04 12:06:03.900\u001b[0m | \u001b[1mINFO    \u001b[0m | \u001b[36mvrp_study.pdptw_model.routing_model\u001b[0m:\u001b[36mdo_solve\u001b[0m:\u001b[36m407\u001b[0m - \u001b[1mНачало решения\u001b[0m\n",
      "\u001b[32m2025-08-04 12:06:03.901\u001b[0m | \u001b[1mINFO    \u001b[0m | \u001b[36mvrp_study.pdptw_model.routing_model\u001b[0m:\u001b[36mdo_solve\u001b[0m:\u001b[36m410\u001b[0m - \u001b[1muse initial_solution: 1\u001b[0m\n",
      "\u001b[32m2025-08-04 12:06:03.901\u001b[0m | \u001b[34m\u001b[1mDEBUG   \u001b[0m | \u001b[36mvrp_study.pdptw_model.routing_model\u001b[0m:\u001b[36m__call__\u001b[0m:\u001b[36m40\u001b[0m - \u001b[34m\u001b[1mtime: 0.001; new solution (1): 20609; best solution: 20609\u001b[0m\n",
      "\u001b[32m2025-08-04 12:06:03.902\u001b[0m | \u001b[34m\u001b[1mDEBUG   \u001b[0m | \u001b[36mvrp_study.pdptw_model.routing_model\u001b[0m:\u001b[36m__call__\u001b[0m:\u001b[36m40\u001b[0m - \u001b[34m\u001b[1mtime: 0.002; new solution (2): 20609; best solution: 20609\u001b[0m\n",
      "\u001b[32m2025-08-04 12:06:03.909\u001b[0m | \u001b[1mINFO    \u001b[0m | \u001b[36mvrp_study.pdptw_model.routing_model\u001b[0m:\u001b[36mdo_solve\u001b[0m:\u001b[36m423\u001b[0m - \u001b[1mfind solution\u001b[0m\n",
      "\u001b[32m2025-08-04 12:06:03.910\u001b[0m | \u001b[1mINFO    \u001b[0m | \u001b[36mvrp_study.pdptw_model.routing_model\u001b[0m:\u001b[36mfind_optimal_paths\u001b[0m:\u001b[36m464\u001b[0m - \u001b[1mbest_score: 206.09\u001b[0m\n",
      "\u001b[32m2025-08-04 12:06:03.911\u001b[0m | \u001b[1mINFO    \u001b[0m | \u001b[36msrc.vrp_study.pdptw_model.solution_builder\u001b[0m:\u001b[36mget_initial_solution\u001b[0m:\u001b[36m138\u001b[0m - \u001b[1m[[0, 5, 9, 7, 10, 8, 6, 3, 1, 2, 4, 0], [], [], [], [], [], [], [], [], [], [], [], [], [], [], [], [], [], [], [], [], [], [], [], [], [], [], [], [], [], [], [], [], [], [], [], [], [], [], [], [], [], [], [], [], [], [], [], [], [], [], [], [], [], [], [], [], [], [], [], [], [], [], [], [], [], [], [], [], [], [], [], [], [], [], [], []]\u001b[0m\n"
     ]
    },
    {
     "data": {
      "application/vnd.jupyter.widget-view+json": {
       "model_id": "d08c4c39a4c34d5780394c471102f52c",
       "version_major": 2,
       "version_minor": 0
      },
      "text/plain": [
       "  0%|          | 0/1 [00:00<?, ?it/s]"
      ]
     },
     "metadata": {},
     "output_type": "display_data"
    },
    {
     "name": "stderr",
     "output_type": "stream",
     "text": [
      "\u001b[32m2025-08-04 12:06:03.917\u001b[0m | \u001b[1mINFO    \u001b[0m | \u001b[36mvrp_study.pdptw_model.routing_model\u001b[0m:\u001b[36mfind_optimal_paths\u001b[0m:\u001b[36m443\u001b[0m - \u001b[1mproblem size: 3\u001b[0m\n",
      "\u001b[32m2025-08-04 12:06:03.917\u001b[0m | \u001b[1mINFO    \u001b[0m | \u001b[36mvrp_study.pdptw_model.routing_model\u001b[0m:\u001b[36mdo_solve\u001b[0m:\u001b[36m378\u001b[0m - \u001b[1mНачало создания модели\u001b[0m\n",
      "\u001b[32m2025-08-04 12:06:03.920\u001b[0m | \u001b[1mINFO    \u001b[0m | \u001b[36mvrp_study.pdptw_model.routing_model\u001b[0m:\u001b[36madd_distance_dimension\u001b[0m:\u001b[36m299\u001b[0m - \u001b[1mДобавление размерности для расстояния\u001b[0m\n",
      "\u001b[32m2025-08-04 12:06:03.922\u001b[0m | \u001b[1mINFO    \u001b[0m | \u001b[36mvrp_study.pdptw_model.routing_model\u001b[0m:\u001b[36madd_count_dimension\u001b[0m:\u001b[36m335\u001b[0m - \u001b[1mДобавление размерности для расстояния\u001b[0m\n",
      "\u001b[32m2025-08-04 12:06:03.923\u001b[0m | \u001b[1mINFO    \u001b[0m | \u001b[36mvrp_study.pdptw_model.routing_model\u001b[0m:\u001b[36madd_pick_up_and_delivery\u001b[0m:\u001b[36m269\u001b[0m - \u001b[1mДобавление ограничения для порядка доставки\u001b[0m\n",
      "\u001b[32m2025-08-04 12:06:03.923\u001b[0m | \u001b[1mINFO    \u001b[0m | \u001b[36mvrp_study.pdptw_model.routing_model\u001b[0m:\u001b[36madd_time_window\u001b[0m:\u001b[36m194\u001b[0m - \u001b[1madd time\u001b[0m\n",
      "\u001b[32m2025-08-04 12:06:03.924\u001b[0m | \u001b[1mINFO    \u001b[0m | \u001b[36mvrp_study.pdptw_model.routing_model\u001b[0m:\u001b[36madd_mass_constraint\u001b[0m:\u001b[36m177\u001b[0m - \u001b[1mДобавление ограничений для массы\u001b[0m\n",
      "\u001b[32m2025-08-04 12:06:03.928\u001b[0m | \u001b[1mINFO    \u001b[0m | \u001b[36mvrp_study.pdptw_model.routing_model\u001b[0m:\u001b[36mdo_solve\u001b[0m:\u001b[36m407\u001b[0m - \u001b[1mНачало решения\u001b[0m\n",
      "\u001b[32m2025-08-04 12:06:03.932\u001b[0m | \u001b[34m\u001b[1mDEBUG   \u001b[0m | \u001b[36mvrp_study.pdptw_model.routing_model\u001b[0m:\u001b[36m__call__\u001b[0m:\u001b[36m40\u001b[0m - \u001b[34m\u001b[1mtime: 0.007; new solution (1): 1; best solution: 1\u001b[0m\n",
      "\u001b[32m2025-08-04 12:06:03.935\u001b[0m | \u001b[1mINFO    \u001b[0m | \u001b[36mvrp_study.pdptw_model.routing_model\u001b[0m:\u001b[36mdo_solve\u001b[0m:\u001b[36m423\u001b[0m - \u001b[1mfind solution\u001b[0m\n",
      "\u001b[32m2025-08-04 12:06:03.936\u001b[0m | \u001b[1mINFO    \u001b[0m | \u001b[36mvrp_study.pdptw_model.routing_model\u001b[0m:\u001b[36mfind_optimal_paths\u001b[0m:\u001b[36m451\u001b[0m - \u001b[1mbest_score: 1\u001b[0m\n",
      "\u001b[32m2025-08-04 12:06:03.936\u001b[0m | \u001b[1mINFO    \u001b[0m | \u001b[36mvrp_study.pdptw_model.routing_model\u001b[0m:\u001b[36mdo_solve\u001b[0m:\u001b[36m378\u001b[0m - \u001b[1mНачало создания модели\u001b[0m\n",
      "\u001b[32m2025-08-04 12:06:03.938\u001b[0m | \u001b[1mINFO    \u001b[0m | \u001b[36mvrp_study.pdptw_model.routing_model\u001b[0m:\u001b[36madd_distance_dimension\u001b[0m:\u001b[36m299\u001b[0m - \u001b[1mДобавление размерности для расстояния\u001b[0m\n",
      "\u001b[32m2025-08-04 12:06:03.938\u001b[0m | \u001b[1mINFO    \u001b[0m | \u001b[36mvrp_study.pdptw_model.routing_model\u001b[0m:\u001b[36madd_count_dimension\u001b[0m:\u001b[36m335\u001b[0m - \u001b[1mДобавление размерности для расстояния\u001b[0m\n",
      "\u001b[32m2025-08-04 12:06:03.939\u001b[0m | \u001b[1mINFO    \u001b[0m | \u001b[36mvrp_study.pdptw_model.routing_model\u001b[0m:\u001b[36madd_pick_up_and_delivery\u001b[0m:\u001b[36m269\u001b[0m - \u001b[1mДобавление ограничения для порядка доставки\u001b[0m\n",
      "\u001b[32m2025-08-04 12:06:03.939\u001b[0m | \u001b[1mINFO    \u001b[0m | \u001b[36mvrp_study.pdptw_model.routing_model\u001b[0m:\u001b[36madd_vehicles_cost\u001b[0m:\u001b[36m243\u001b[0m - \u001b[1mДобавление стоимостей машин\u001b[0m\n",
      "\u001b[32m2025-08-04 12:06:03.940\u001b[0m | \u001b[1mINFO    \u001b[0m | \u001b[36mvrp_study.pdptw_model.routing_model\u001b[0m:\u001b[36madd_time_window\u001b[0m:\u001b[36m194\u001b[0m - \u001b[1madd time\u001b[0m\n",
      "\u001b[32m2025-08-04 12:06:03.940\u001b[0m | \u001b[1mINFO    \u001b[0m | \u001b[36mvrp_study.pdptw_model.routing_model\u001b[0m:\u001b[36madd_mass_constraint\u001b[0m:\u001b[36m177\u001b[0m - \u001b[1mДобавление ограничений для массы\u001b[0m\n",
      "\u001b[32m2025-08-04 12:06:03.942\u001b[0m | \u001b[1mINFO    \u001b[0m | \u001b[36mvrp_study.pdptw_model.routing_model\u001b[0m:\u001b[36mdo_solve\u001b[0m:\u001b[36m407\u001b[0m - \u001b[1mНачало решения\u001b[0m\n",
      "\u001b[32m2025-08-04 12:06:03.942\u001b[0m | \u001b[1mINFO    \u001b[0m | \u001b[36mvrp_study.pdptw_model.routing_model\u001b[0m:\u001b[36mdo_solve\u001b[0m:\u001b[36m410\u001b[0m - \u001b[1muse initial_solution: 1\u001b[0m\n",
      "\u001b[32m2025-08-04 12:06:03.943\u001b[0m | \u001b[34m\u001b[1mDEBUG   \u001b[0m | \u001b[36mvrp_study.pdptw_model.routing_model\u001b[0m:\u001b[36m__call__\u001b[0m:\u001b[36m40\u001b[0m - \u001b[34m\u001b[1mtime: 0.002; new solution (1): 17366; best solution: 17366\u001b[0m\n",
      "\u001b[32m2025-08-04 12:06:03.943\u001b[0m | \u001b[34m\u001b[1mDEBUG   \u001b[0m | \u001b[36mvrp_study.pdptw_model.routing_model\u001b[0m:\u001b[36m__call__\u001b[0m:\u001b[36m40\u001b[0m - \u001b[34m\u001b[1mtime: 0.002; new solution (2): 17366; best solution: 17366\u001b[0m\n",
      "\u001b[32m2025-08-04 12:06:03.944\u001b[0m | \u001b[1mINFO    \u001b[0m | \u001b[36mvrp_study.pdptw_model.routing_model\u001b[0m:\u001b[36mdo_solve\u001b[0m:\u001b[36m423\u001b[0m - \u001b[1mfind solution\u001b[0m\n",
      "\u001b[32m2025-08-04 12:06:03.945\u001b[0m | \u001b[1mINFO    \u001b[0m | \u001b[36mvrp_study.pdptw_model.routing_model\u001b[0m:\u001b[36mfind_optimal_paths\u001b[0m:\u001b[36m464\u001b[0m - \u001b[1mbest_score: 173.66\u001b[0m\n",
      "\u001b[32m2025-08-04 12:06:03.945\u001b[0m | \u001b[1mINFO    \u001b[0m | \u001b[36msrc.vrp_study.pdptw_model.solution_builder\u001b[0m:\u001b[36mget_initial_solution\u001b[0m:\u001b[36m138\u001b[0m - \u001b[1m[[0, 1, 2, 0], [], [], [], [], [], [], [], [], [], [], [], [], [], [], [], [], [], [], [], [], [], [], [], [], [], [], [], [], [], [], [], [], [], [], [], [], [], [], [], [], [], [], [], [], [], [], [], [], [], [], [], [], [], [], [], [], [], [], [], [], [], [], [], [], [], [], [], [], [], [], [], [], [], [], []]\u001b[0m\n",
      "\u001b[32m2025-08-04 12:06:03.947\u001b[0m | \u001b[1mINFO    \u001b[0m | \u001b[36msrc.vrp_study.pdptw_model.solution_builder\u001b[0m:\u001b[36mget_initial_solution\u001b[0m:\u001b[36m118\u001b[0m - \u001b[1m(1, 32.074999999999996)\u001b[0m\n",
      "\u001b[32m2025-08-04 12:06:03.947\u001b[0m | \u001b[1mINFO    \u001b[0m | \u001b[36msrc.vrp_study.pdptw_model.solution_builder\u001b[0m:\u001b[36mget_initial_solution\u001b[0m:\u001b[36m118\u001b[0m - \u001b[1m(1, 16.0875)\u001b[0m\n",
      "\u001b[32m2025-08-04 12:06:03.948\u001b[0m | \u001b[1mINFO    \u001b[0m | \u001b[36msrc.vrp_study.pdptw_model.solution_builder\u001b[0m:\u001b[36mget_initial_solution\u001b[0m:\u001b[36m118\u001b[0m - \u001b[1m(1, 8.09375)\u001b[0m\n",
      "\u001b[32m2025-08-04 12:06:03.948\u001b[0m | \u001b[1mINFO    \u001b[0m | \u001b[36msrc.vrp_study.pdptw_model.solution_builder\u001b[0m:\u001b[36mget_initial_solution\u001b[0m:\u001b[36m118\u001b[0m - \u001b[1m(1, 4.096875)\u001b[0m\n",
      "\u001b[32m2025-08-04 12:06:03.949\u001b[0m | \u001b[1mINFO    \u001b[0m | \u001b[36msrc.vrp_study.pdptw_model.solution_builder\u001b[0m:\u001b[36mget_initial_solution\u001b[0m:\u001b[36m118\u001b[0m - \u001b[1m(1, 2.0984374999999997)\u001b[0m\n",
      "\u001b[32m2025-08-04 12:06:03.949\u001b[0m | \u001b[1mINFO    \u001b[0m | \u001b[36msrc.vrp_study.pdptw_model.solution_builder\u001b[0m:\u001b[36mget_initial_solution\u001b[0m:\u001b[36m118\u001b[0m - \u001b[1m(1, 1.09921875)\u001b[0m\n",
      "\u001b[32m2025-08-04 12:06:03.950\u001b[0m | \u001b[1mINFO    \u001b[0m | \u001b[36msrc.vrp_study.pdptw_model.solution_builder\u001b[0m:\u001b[36mget_initial_solution\u001b[0m:\u001b[36m118\u001b[0m - \u001b[1m(4, 0.599609375)\u001b[0m\n",
      "\u001b[32m2025-08-04 12:06:03.950\u001b[0m | \u001b[1mINFO    \u001b[0m | \u001b[36msrc.vrp_study.pdptw_model.solution_builder\u001b[0m:\u001b[36mget_initial_solution\u001b[0m:\u001b[36m118\u001b[0m - \u001b[1m(4, 0.3498046875)\u001b[0m\n",
      "\u001b[32m2025-08-04 12:06:03.951\u001b[0m | \u001b[1mINFO    \u001b[0m | \u001b[36msrc.vrp_study.pdptw_model.solution_builder\u001b[0m:\u001b[36mget_initial_solution\u001b[0m:\u001b[36m118\u001b[0m - \u001b[1m(4, 0.22490234375)\u001b[0m\n",
      "\u001b[32m2025-08-04 12:06:03.951\u001b[0m | \u001b[1mINFO    \u001b[0m | \u001b[36msrc.vrp_study.pdptw_model.solution_builder\u001b[0m:\u001b[36mget_initial_solution\u001b[0m:\u001b[36m118\u001b[0m - \u001b[1m(4, 0.16245117187500002)\u001b[0m\n"
     ]
    },
    {
     "data": {
      "application/vnd.jupyter.widget-view+json": {
       "model_id": "1c85db8440934f94865c43394c6017ce",
       "version_major": 2,
       "version_minor": 0
      },
      "text/plain": [
       "  0%|          | 0/1 [00:00<?, ?it/s]"
      ]
     },
     "metadata": {},
     "output_type": "display_data"
    },
    {
     "name": "stderr",
     "output_type": "stream",
     "text": [
      "\u001b[32m2025-08-04 12:06:03.956\u001b[0m | \u001b[1mINFO    \u001b[0m | \u001b[36mvrp_study.pdptw_model.routing_model\u001b[0m:\u001b[36mfind_optimal_paths\u001b[0m:\u001b[36m443\u001b[0m - \u001b[1mproblem size: 9\u001b[0m\n",
      "\u001b[32m2025-08-04 12:06:03.957\u001b[0m | \u001b[1mINFO    \u001b[0m | \u001b[36mvrp_study.pdptw_model.routing_model\u001b[0m:\u001b[36mdo_solve\u001b[0m:\u001b[36m378\u001b[0m - \u001b[1mНачало создания модели\u001b[0m\n",
      "\u001b[32m2025-08-04 12:06:03.958\u001b[0m | \u001b[1mINFO    \u001b[0m | \u001b[36mvrp_study.pdptw_model.routing_model\u001b[0m:\u001b[36madd_distance_dimension\u001b[0m:\u001b[36m299\u001b[0m - \u001b[1mДобавление размерности для расстояния\u001b[0m\n",
      "\u001b[32m2025-08-04 12:06:03.959\u001b[0m | \u001b[1mINFO    \u001b[0m | \u001b[36mvrp_study.pdptw_model.routing_model\u001b[0m:\u001b[36madd_count_dimension\u001b[0m:\u001b[36m335\u001b[0m - \u001b[1mДобавление размерности для расстояния\u001b[0m\n",
      "\u001b[32m2025-08-04 12:06:03.959\u001b[0m | \u001b[1mINFO    \u001b[0m | \u001b[36mvrp_study.pdptw_model.routing_model\u001b[0m:\u001b[36madd_pick_up_and_delivery\u001b[0m:\u001b[36m269\u001b[0m - \u001b[1mДобавление ограничения для порядка доставки\u001b[0m\n",
      "\u001b[32m2025-08-04 12:06:03.960\u001b[0m | \u001b[1mINFO    \u001b[0m | \u001b[36mvrp_study.pdptw_model.routing_model\u001b[0m:\u001b[36madd_time_window\u001b[0m:\u001b[36m194\u001b[0m - \u001b[1madd time\u001b[0m\n",
      "\u001b[32m2025-08-04 12:06:03.960\u001b[0m | \u001b[1mINFO    \u001b[0m | \u001b[36mvrp_study.pdptw_model.routing_model\u001b[0m:\u001b[36madd_mass_constraint\u001b[0m:\u001b[36m177\u001b[0m - \u001b[1mДобавление ограничений для массы\u001b[0m\n",
      "\u001b[32m2025-08-04 12:06:03.965\u001b[0m | \u001b[1mINFO    \u001b[0m | \u001b[36mvrp_study.pdptw_model.routing_model\u001b[0m:\u001b[36mdo_solve\u001b[0m:\u001b[36m407\u001b[0m - \u001b[1mНачало решения\u001b[0m\n",
      "\u001b[32m2025-08-04 12:06:03.970\u001b[0m | \u001b[34m\u001b[1mDEBUG   \u001b[0m | \u001b[36mvrp_study.pdptw_model.routing_model\u001b[0m:\u001b[36m__call__\u001b[0m:\u001b[36m40\u001b[0m - \u001b[34m\u001b[1mtime: 0.009; new solution (1): 1; best solution: 1\u001b[0m\n",
      "\u001b[32m2025-08-04 12:06:03.982\u001b[0m | \u001b[1mINFO    \u001b[0m | \u001b[36mvrp_study.pdptw_model.routing_model\u001b[0m:\u001b[36mdo_solve\u001b[0m:\u001b[36m423\u001b[0m - \u001b[1mfind solution\u001b[0m\n",
      "\u001b[32m2025-08-04 12:06:03.984\u001b[0m | \u001b[1mINFO    \u001b[0m | \u001b[36mvrp_study.pdptw_model.routing_model\u001b[0m:\u001b[36mfind_optimal_paths\u001b[0m:\u001b[36m451\u001b[0m - \u001b[1mbest_score: 1\u001b[0m\n",
      "\u001b[32m2025-08-04 12:06:03.984\u001b[0m | \u001b[1mINFO    \u001b[0m | \u001b[36mvrp_study.pdptw_model.routing_model\u001b[0m:\u001b[36mdo_solve\u001b[0m:\u001b[36m378\u001b[0m - \u001b[1mНачало создания модели\u001b[0m\n",
      "\u001b[32m2025-08-04 12:06:03.986\u001b[0m | \u001b[1mINFO    \u001b[0m | \u001b[36mvrp_study.pdptw_model.routing_model\u001b[0m:\u001b[36madd_distance_dimension\u001b[0m:\u001b[36m299\u001b[0m - \u001b[1mДобавление размерности для расстояния\u001b[0m\n",
      "\u001b[32m2025-08-04 12:06:03.987\u001b[0m | \u001b[1mINFO    \u001b[0m | \u001b[36mvrp_study.pdptw_model.routing_model\u001b[0m:\u001b[36madd_count_dimension\u001b[0m:\u001b[36m335\u001b[0m - \u001b[1mДобавление размерности для расстояния\u001b[0m\n",
      "\u001b[32m2025-08-04 12:06:03.987\u001b[0m | \u001b[1mINFO    \u001b[0m | \u001b[36mvrp_study.pdptw_model.routing_model\u001b[0m:\u001b[36madd_pick_up_and_delivery\u001b[0m:\u001b[36m269\u001b[0m - \u001b[1mДобавление ограничения для порядка доставки\u001b[0m\n",
      "\u001b[32m2025-08-04 12:06:03.988\u001b[0m | \u001b[1mINFO    \u001b[0m | \u001b[36mvrp_study.pdptw_model.routing_model\u001b[0m:\u001b[36madd_vehicles_cost\u001b[0m:\u001b[36m243\u001b[0m - \u001b[1mДобавление стоимостей машин\u001b[0m\n",
      "\u001b[32m2025-08-04 12:06:03.988\u001b[0m | \u001b[1mINFO    \u001b[0m | \u001b[36mvrp_study.pdptw_model.routing_model\u001b[0m:\u001b[36madd_time_window\u001b[0m:\u001b[36m194\u001b[0m - \u001b[1madd time\u001b[0m\n",
      "\u001b[32m2025-08-04 12:06:03.989\u001b[0m | \u001b[1mINFO    \u001b[0m | \u001b[36mvrp_study.pdptw_model.routing_model\u001b[0m:\u001b[36madd_mass_constraint\u001b[0m:\u001b[36m177\u001b[0m - \u001b[1mДобавление ограничений для массы\u001b[0m\n",
      "\u001b[32m2025-08-04 12:06:03.990\u001b[0m | \u001b[1mINFO    \u001b[0m | \u001b[36mvrp_study.pdptw_model.routing_model\u001b[0m:\u001b[36mdo_solve\u001b[0m:\u001b[36m407\u001b[0m - \u001b[1mНачало решения\u001b[0m\n",
      "\u001b[32m2025-08-04 12:06:03.990\u001b[0m | \u001b[1mINFO    \u001b[0m | \u001b[36mvrp_study.pdptw_model.routing_model\u001b[0m:\u001b[36mdo_solve\u001b[0m:\u001b[36m410\u001b[0m - \u001b[1muse initial_solution: 1\u001b[0m\n",
      "\u001b[32m2025-08-04 12:06:03.991\u001b[0m | \u001b[34m\u001b[1mDEBUG   \u001b[0m | \u001b[36mvrp_study.pdptw_model.routing_model\u001b[0m:\u001b[36m__call__\u001b[0m:\u001b[36m40\u001b[0m - \u001b[34m\u001b[1mtime: 0.002; new solution (1): 11408; best solution: 11408\u001b[0m\n",
      "\u001b[32m2025-08-04 12:06:03.992\u001b[0m | \u001b[34m\u001b[1mDEBUG   \u001b[0m | \u001b[36mvrp_study.pdptw_model.routing_model\u001b[0m:\u001b[36m__call__\u001b[0m:\u001b[36m40\u001b[0m - \u001b[34m\u001b[1mtime: 0.003; new solution (2): 11408; best solution: 11408\u001b[0m\n",
      "\u001b[32m2025-08-04 12:06:03.996\u001b[0m | \u001b[1mINFO    \u001b[0m | \u001b[36mvrp_study.pdptw_model.routing_model\u001b[0m:\u001b[36mdo_solve\u001b[0m:\u001b[36m423\u001b[0m - \u001b[1mfind solution\u001b[0m\n",
      "\u001b[32m2025-08-04 12:06:03.997\u001b[0m | \u001b[1mINFO    \u001b[0m | \u001b[36mvrp_study.pdptw_model.routing_model\u001b[0m:\u001b[36mfind_optimal_paths\u001b[0m:\u001b[36m464\u001b[0m - \u001b[1mbest_score: 114.08\u001b[0m\n",
      "\u001b[32m2025-08-04 12:06:03.998\u001b[0m | \u001b[1mINFO    \u001b[0m | \u001b[36msrc.vrp_study.pdptw_model.solution_builder\u001b[0m:\u001b[36mget_initial_solution\u001b[0m:\u001b[36m138\u001b[0m - \u001b[1m[[0, 7, 3, 1, 5, 2, 4, 6, 8, 0], [], [], [], [], [], [], [], [], [], [], [], [], [], [], [], [], [], [], [], [], [], [], [], [], [], [], [], [], [], [], [], [], [], [], [], [], [], [], [], [], [], [], [], [], [], [], [], [], [], [], [], [], [], [], [], [], [], [], [], [], [], [], [], [], [], [], [], [], [], [], [], [], [], []]\u001b[0m\n",
      "\u001b[32m2025-08-04 12:06:03.999\u001b[0m | \u001b[1mINFO    \u001b[0m | \u001b[36msrc.vrp_study.pdptw_model.solution_builder\u001b[0m:\u001b[36mget_initial_solution\u001b[0m:\u001b[36m118\u001b[0m - \u001b[1m(1, 32.074999999999996)\u001b[0m\n",
      "\u001b[32m2025-08-04 12:06:03.999\u001b[0m | \u001b[1mINFO    \u001b[0m | \u001b[36msrc.vrp_study.pdptw_model.solution_builder\u001b[0m:\u001b[36mget_initial_solution\u001b[0m:\u001b[36m118\u001b[0m - \u001b[1m(1, 16.0875)\u001b[0m\n",
      "\u001b[32m2025-08-04 12:06:04.000\u001b[0m | \u001b[1mINFO    \u001b[0m | \u001b[36msrc.vrp_study.pdptw_model.solution_builder\u001b[0m:\u001b[36mget_initial_solution\u001b[0m:\u001b[36m118\u001b[0m - \u001b[1m(1, 8.09375)\u001b[0m\n",
      "\u001b[32m2025-08-04 12:06:04.001\u001b[0m | \u001b[1mINFO    \u001b[0m | \u001b[36msrc.vrp_study.pdptw_model.solution_builder\u001b[0m:\u001b[36mget_initial_solution\u001b[0m:\u001b[36m118\u001b[0m - \u001b[1m(1, 4.096875)\u001b[0m\n",
      "\u001b[32m2025-08-04 12:06:04.002\u001b[0m | \u001b[1mINFO    \u001b[0m | \u001b[36msrc.vrp_study.pdptw_model.solution_builder\u001b[0m:\u001b[36mget_initial_solution\u001b[0m:\u001b[36m118\u001b[0m - \u001b[1m(1, 2.0984374999999997)\u001b[0m\n",
      "\u001b[32m2025-08-04 12:06:04.002\u001b[0m | \u001b[1mINFO    \u001b[0m | \u001b[36msrc.vrp_study.pdptw_model.solution_builder\u001b[0m:\u001b[36mget_initial_solution\u001b[0m:\u001b[36m118\u001b[0m - \u001b[1m(1, 1.09921875)\u001b[0m\n",
      "\u001b[32m2025-08-04 12:06:04.003\u001b[0m | \u001b[1mINFO    \u001b[0m | \u001b[36msrc.vrp_study.pdptw_model.solution_builder\u001b[0m:\u001b[36mget_initial_solution\u001b[0m:\u001b[36m118\u001b[0m - \u001b[1m(3, 0.599609375)\u001b[0m\n",
      "\u001b[32m2025-08-04 12:06:04.003\u001b[0m | \u001b[1mINFO    \u001b[0m | \u001b[36msrc.vrp_study.pdptw_model.solution_builder\u001b[0m:\u001b[36mget_initial_solution\u001b[0m:\u001b[36m118\u001b[0m - \u001b[1m(3, 0.3498046875)\u001b[0m\n",
      "\u001b[32m2025-08-04 12:06:04.004\u001b[0m | \u001b[1mINFO    \u001b[0m | \u001b[36msrc.vrp_study.pdptw_model.solution_builder\u001b[0m:\u001b[36mget_initial_solution\u001b[0m:\u001b[36m118\u001b[0m - \u001b[1m(4, 0.22490234375)\u001b[0m\n",
      "\u001b[32m2025-08-04 12:06:04.004\u001b[0m | \u001b[1mINFO    \u001b[0m | \u001b[36msrc.vrp_study.pdptw_model.solution_builder\u001b[0m:\u001b[36mget_initial_solution\u001b[0m:\u001b[36m118\u001b[0m - \u001b[1m(4, 0.16245117187500002)\u001b[0m\n"
     ]
    },
    {
     "data": {
      "application/vnd.jupyter.widget-view+json": {
       "model_id": "46fde249ffc04da4a1bccbb92608e6d7",
       "version_major": 2,
       "version_minor": 0
      },
      "text/plain": [
       "  0%|          | 0/1 [00:00<?, ?it/s]"
      ]
     },
     "metadata": {},
     "output_type": "display_data"
    },
    {
     "name": "stderr",
     "output_type": "stream",
     "text": [
      "\u001b[32m2025-08-04 12:06:04.010\u001b[0m | \u001b[1mINFO    \u001b[0m | \u001b[36mvrp_study.pdptw_model.routing_model\u001b[0m:\u001b[36mfind_optimal_paths\u001b[0m:\u001b[36m443\u001b[0m - \u001b[1mproblem size: 9\u001b[0m\n",
      "\u001b[32m2025-08-04 12:06:04.010\u001b[0m | \u001b[1mINFO    \u001b[0m | \u001b[36mvrp_study.pdptw_model.routing_model\u001b[0m:\u001b[36mdo_solve\u001b[0m:\u001b[36m378\u001b[0m - \u001b[1mНачало создания модели\u001b[0m\n",
      "\u001b[32m2025-08-04 12:06:04.013\u001b[0m | \u001b[1mINFO    \u001b[0m | \u001b[36mvrp_study.pdptw_model.routing_model\u001b[0m:\u001b[36madd_distance_dimension\u001b[0m:\u001b[36m299\u001b[0m - \u001b[1mДобавление размерности для расстояния\u001b[0m\n",
      "\u001b[32m2025-08-04 12:06:04.014\u001b[0m | \u001b[1mINFO    \u001b[0m | \u001b[36mvrp_study.pdptw_model.routing_model\u001b[0m:\u001b[36madd_count_dimension\u001b[0m:\u001b[36m335\u001b[0m - \u001b[1mДобавление размерности для расстояния\u001b[0m\n",
      "\u001b[32m2025-08-04 12:06:04.014\u001b[0m | \u001b[1mINFO    \u001b[0m | \u001b[36mvrp_study.pdptw_model.routing_model\u001b[0m:\u001b[36madd_pick_up_and_delivery\u001b[0m:\u001b[36m269\u001b[0m - \u001b[1mДобавление ограничения для порядка доставки\u001b[0m\n",
      "\u001b[32m2025-08-04 12:06:04.015\u001b[0m | \u001b[1mINFO    \u001b[0m | \u001b[36mvrp_study.pdptw_model.routing_model\u001b[0m:\u001b[36madd_time_window\u001b[0m:\u001b[36m194\u001b[0m - \u001b[1madd time\u001b[0m\n",
      "\u001b[32m2025-08-04 12:06:04.015\u001b[0m | \u001b[1mINFO    \u001b[0m | \u001b[36mvrp_study.pdptw_model.routing_model\u001b[0m:\u001b[36madd_mass_constraint\u001b[0m:\u001b[36m177\u001b[0m - \u001b[1mДобавление ограничений для массы\u001b[0m\n",
      "\u001b[32m2025-08-04 12:06:04.021\u001b[0m | \u001b[1mINFO    \u001b[0m | \u001b[36mvrp_study.pdptw_model.routing_model\u001b[0m:\u001b[36mdo_solve\u001b[0m:\u001b[36m407\u001b[0m - \u001b[1mНачало решения\u001b[0m\n",
      "\u001b[32m2025-08-04 12:06:04.025\u001b[0m | \u001b[34m\u001b[1mDEBUG   \u001b[0m | \u001b[36mvrp_study.pdptw_model.routing_model\u001b[0m:\u001b[36m__call__\u001b[0m:\u001b[36m40\u001b[0m - \u001b[34m\u001b[1mtime: 0.009; new solution (1): 1; best solution: 1\u001b[0m\n",
      "\u001b[32m2025-08-04 12:06:04.035\u001b[0m | \u001b[1mINFO    \u001b[0m | \u001b[36mvrp_study.pdptw_model.routing_model\u001b[0m:\u001b[36mdo_solve\u001b[0m:\u001b[36m423\u001b[0m - \u001b[1mfind solution\u001b[0m\n",
      "\u001b[32m2025-08-04 12:06:04.036\u001b[0m | \u001b[1mINFO    \u001b[0m | \u001b[36mvrp_study.pdptw_model.routing_model\u001b[0m:\u001b[36mfind_optimal_paths\u001b[0m:\u001b[36m451\u001b[0m - \u001b[1mbest_score: 1\u001b[0m\n",
      "\u001b[32m2025-08-04 12:06:04.036\u001b[0m | \u001b[1mINFO    \u001b[0m | \u001b[36mvrp_study.pdptw_model.routing_model\u001b[0m:\u001b[36mdo_solve\u001b[0m:\u001b[36m378\u001b[0m - \u001b[1mНачало создания модели\u001b[0m\n",
      "\u001b[32m2025-08-04 12:06:04.039\u001b[0m | \u001b[1mINFO    \u001b[0m | \u001b[36mvrp_study.pdptw_model.routing_model\u001b[0m:\u001b[36madd_distance_dimension\u001b[0m:\u001b[36m299\u001b[0m - \u001b[1mДобавление размерности для расстояния\u001b[0m\n",
      "\u001b[32m2025-08-04 12:06:04.039\u001b[0m | \u001b[1mINFO    \u001b[0m | \u001b[36mvrp_study.pdptw_model.routing_model\u001b[0m:\u001b[36madd_count_dimension\u001b[0m:\u001b[36m335\u001b[0m - \u001b[1mДобавление размерности для расстояния\u001b[0m\n",
      "\u001b[32m2025-08-04 12:06:04.040\u001b[0m | \u001b[1mINFO    \u001b[0m | \u001b[36mvrp_study.pdptw_model.routing_model\u001b[0m:\u001b[36madd_pick_up_and_delivery\u001b[0m:\u001b[36m269\u001b[0m - \u001b[1mДобавление ограничения для порядка доставки\u001b[0m\n",
      "\u001b[32m2025-08-04 12:06:04.040\u001b[0m | \u001b[1mINFO    \u001b[0m | \u001b[36mvrp_study.pdptw_model.routing_model\u001b[0m:\u001b[36madd_vehicles_cost\u001b[0m:\u001b[36m243\u001b[0m - \u001b[1mДобавление стоимостей машин\u001b[0m\n",
      "\u001b[32m2025-08-04 12:06:04.041\u001b[0m | \u001b[1mINFO    \u001b[0m | \u001b[36mvrp_study.pdptw_model.routing_model\u001b[0m:\u001b[36madd_time_window\u001b[0m:\u001b[36m194\u001b[0m - \u001b[1madd time\u001b[0m\n",
      "\u001b[32m2025-08-04 12:06:04.042\u001b[0m | \u001b[1mINFO    \u001b[0m | \u001b[36mvrp_study.pdptw_model.routing_model\u001b[0m:\u001b[36madd_mass_constraint\u001b[0m:\u001b[36m177\u001b[0m - \u001b[1mДобавление ограничений для массы\u001b[0m\n",
      "\u001b[32m2025-08-04 12:06:04.044\u001b[0m | \u001b[1mINFO    \u001b[0m | \u001b[36mvrp_study.pdptw_model.routing_model\u001b[0m:\u001b[36mdo_solve\u001b[0m:\u001b[36m407\u001b[0m - \u001b[1mНачало решения\u001b[0m\n",
      "\u001b[32m2025-08-04 12:06:04.045\u001b[0m | \u001b[1mINFO    \u001b[0m | \u001b[36mvrp_study.pdptw_model.routing_model\u001b[0m:\u001b[36mdo_solve\u001b[0m:\u001b[36m410\u001b[0m - \u001b[1muse initial_solution: 1\u001b[0m\n",
      "\u001b[32m2025-08-04 12:06:04.045\u001b[0m | \u001b[34m\u001b[1mDEBUG   \u001b[0m | \u001b[36mvrp_study.pdptw_model.routing_model\u001b[0m:\u001b[36m__call__\u001b[0m:\u001b[36m40\u001b[0m - \u001b[34m\u001b[1mtime: 0.002; new solution (1): 21400; best solution: 21400\u001b[0m\n",
      "\u001b[32m2025-08-04 12:06:04.046\u001b[0m | \u001b[34m\u001b[1mDEBUG   \u001b[0m | \u001b[36mvrp_study.pdptw_model.routing_model\u001b[0m:\u001b[36m__call__\u001b[0m:\u001b[36m40\u001b[0m - \u001b[34m\u001b[1mtime: 0.003; new solution (2): 21400; best solution: 21400\u001b[0m\n",
      "\u001b[32m2025-08-04 12:06:04.050\u001b[0m | \u001b[1mINFO    \u001b[0m | \u001b[36mvrp_study.pdptw_model.routing_model\u001b[0m:\u001b[36mdo_solve\u001b[0m:\u001b[36m423\u001b[0m - \u001b[1mfind solution\u001b[0m\n",
      "\u001b[32m2025-08-04 12:06:04.051\u001b[0m | \u001b[1mINFO    \u001b[0m | \u001b[36mvrp_study.pdptw_model.routing_model\u001b[0m:\u001b[36mfind_optimal_paths\u001b[0m:\u001b[36m464\u001b[0m - \u001b[1mbest_score: 214.00\u001b[0m\n",
      "\u001b[32m2025-08-04 12:06:04.052\u001b[0m | \u001b[1mINFO    \u001b[0m | \u001b[36msrc.vrp_study.pdptw_model.solution_builder\u001b[0m:\u001b[36mget_initial_solution\u001b[0m:\u001b[36m138\u001b[0m - \u001b[1m[[0, 7, 5, 6, 1, 3, 2, 4, 8, 0], [], [], [], [], [], [], [], [], [], [], [], [], [], [], [], [], [], [], [], [], [], [], [], [], [], [], [], [], [], [], [], [], [], [], [], [], [], [], [], [], [], [], [], [], [], [], [], [], [], [], [], [], [], [], [], [], [], [], [], [], [], [], [], [], [], [], [], [], [], [], [], [], []]\u001b[0m\n",
      "\u001b[32m2025-08-04 12:06:04.053\u001b[0m | \u001b[1mINFO    \u001b[0m | \u001b[36msrc.vrp_study.pdptw_model.solution_builder\u001b[0m:\u001b[36mget_initial_solution\u001b[0m:\u001b[36m118\u001b[0m - \u001b[1m(1, 32.074999999999996)\u001b[0m\n",
      "\u001b[32m2025-08-04 12:06:04.053\u001b[0m | \u001b[1mINFO    \u001b[0m | \u001b[36msrc.vrp_study.pdptw_model.solution_builder\u001b[0m:\u001b[36mget_initial_solution\u001b[0m:\u001b[36m118\u001b[0m - \u001b[1m(1, 16.0875)\u001b[0m\n",
      "\u001b[32m2025-08-04 12:06:04.054\u001b[0m | \u001b[1mINFO    \u001b[0m | \u001b[36msrc.vrp_study.pdptw_model.solution_builder\u001b[0m:\u001b[36mget_initial_solution\u001b[0m:\u001b[36m118\u001b[0m - \u001b[1m(1, 8.09375)\u001b[0m\n",
      "\u001b[32m2025-08-04 12:06:04.054\u001b[0m | \u001b[1mINFO    \u001b[0m | \u001b[36msrc.vrp_study.pdptw_model.solution_builder\u001b[0m:\u001b[36mget_initial_solution\u001b[0m:\u001b[36m118\u001b[0m - \u001b[1m(1, 4.096875)\u001b[0m\n",
      "\u001b[32m2025-08-04 12:06:04.055\u001b[0m | \u001b[1mINFO    \u001b[0m | \u001b[36msrc.vrp_study.pdptw_model.solution_builder\u001b[0m:\u001b[36mget_initial_solution\u001b[0m:\u001b[36m118\u001b[0m - \u001b[1m(1, 2.0984374999999997)\u001b[0m\n",
      "\u001b[32m2025-08-04 12:06:04.055\u001b[0m | \u001b[1mINFO    \u001b[0m | \u001b[36msrc.vrp_study.pdptw_model.solution_builder\u001b[0m:\u001b[36mget_initial_solution\u001b[0m:\u001b[36m118\u001b[0m - \u001b[1m(2, 1.09921875)\u001b[0m\n",
      "\u001b[32m2025-08-04 12:06:04.056\u001b[0m | \u001b[1mINFO    \u001b[0m | \u001b[36msrc.vrp_study.pdptw_model.solution_builder\u001b[0m:\u001b[36mget_initial_solution\u001b[0m:\u001b[36m118\u001b[0m - \u001b[1m(3, 0.599609375)\u001b[0m\n",
      "\u001b[32m2025-08-04 12:06:04.056\u001b[0m | \u001b[1mINFO    \u001b[0m | \u001b[36msrc.vrp_study.pdptw_model.solution_builder\u001b[0m:\u001b[36mget_initial_solution\u001b[0m:\u001b[36m118\u001b[0m - \u001b[1m(4, 0.3498046875)\u001b[0m\n",
      "\u001b[32m2025-08-04 12:06:04.056\u001b[0m | \u001b[1mINFO    \u001b[0m | \u001b[36msrc.vrp_study.pdptw_model.solution_builder\u001b[0m:\u001b[36mget_initial_solution\u001b[0m:\u001b[36m118\u001b[0m - \u001b[1m(4, 0.22490234375)\u001b[0m\n",
      "\u001b[32m2025-08-04 12:06:04.057\u001b[0m | \u001b[1mINFO    \u001b[0m | \u001b[36msrc.vrp_study.pdptw_model.solution_builder\u001b[0m:\u001b[36mget_initial_solution\u001b[0m:\u001b[36m118\u001b[0m - \u001b[1m(4, 0.16245117187500002)\u001b[0m\n"
     ]
    },
    {
     "data": {
      "application/vnd.jupyter.widget-view+json": {
       "model_id": "d58a006f04cc45a18d8d1151591db04a",
       "version_major": 2,
       "version_minor": 0
      },
      "text/plain": [
       "  0%|          | 0/1 [00:00<?, ?it/s]"
      ]
     },
     "metadata": {},
     "output_type": "display_data"
    },
    {
     "name": "stderr",
     "output_type": "stream",
     "text": [
      "\u001b[32m2025-08-04 12:06:04.064\u001b[0m | \u001b[1mINFO    \u001b[0m | \u001b[36mvrp_study.pdptw_model.routing_model\u001b[0m:\u001b[36mfind_optimal_paths\u001b[0m:\u001b[36m443\u001b[0m - \u001b[1mproblem size: 9\u001b[0m\n",
      "\u001b[32m2025-08-04 12:06:04.064\u001b[0m | \u001b[1mINFO    \u001b[0m | \u001b[36mvrp_study.pdptw_model.routing_model\u001b[0m:\u001b[36mdo_solve\u001b[0m:\u001b[36m378\u001b[0m - \u001b[1mНачало создания модели\u001b[0m\n",
      "\u001b[32m2025-08-04 12:06:04.065\u001b[0m | \u001b[1mINFO    \u001b[0m | \u001b[36mvrp_study.pdptw_model.routing_model\u001b[0m:\u001b[36madd_distance_dimension\u001b[0m:\u001b[36m299\u001b[0m - \u001b[1mДобавление размерности для расстояния\u001b[0m\n",
      "\u001b[32m2025-08-04 12:06:04.066\u001b[0m | \u001b[1mINFO    \u001b[0m | \u001b[36mvrp_study.pdptw_model.routing_model\u001b[0m:\u001b[36madd_count_dimension\u001b[0m:\u001b[36m335\u001b[0m - \u001b[1mДобавление размерности для расстояния\u001b[0m\n",
      "\u001b[32m2025-08-04 12:06:04.067\u001b[0m | \u001b[1mINFO    \u001b[0m | \u001b[36mvrp_study.pdptw_model.routing_model\u001b[0m:\u001b[36madd_pick_up_and_delivery\u001b[0m:\u001b[36m269\u001b[0m - \u001b[1mДобавление ограничения для порядка доставки\u001b[0m\n",
      "\u001b[32m2025-08-04 12:06:04.067\u001b[0m | \u001b[1mINFO    \u001b[0m | \u001b[36mvrp_study.pdptw_model.routing_model\u001b[0m:\u001b[36madd_time_window\u001b[0m:\u001b[36m194\u001b[0m - \u001b[1madd time\u001b[0m\n",
      "\u001b[32m2025-08-04 12:06:04.068\u001b[0m | \u001b[1mINFO    \u001b[0m | \u001b[36mvrp_study.pdptw_model.routing_model\u001b[0m:\u001b[36madd_mass_constraint\u001b[0m:\u001b[36m177\u001b[0m - \u001b[1mДобавление ограничений для массы\u001b[0m\n",
      "\u001b[32m2025-08-04 12:06:04.075\u001b[0m | \u001b[1mINFO    \u001b[0m | \u001b[36mvrp_study.pdptw_model.routing_model\u001b[0m:\u001b[36mdo_solve\u001b[0m:\u001b[36m407\u001b[0m - \u001b[1mНачало решения\u001b[0m\n",
      "\u001b[32m2025-08-04 12:06:04.084\u001b[0m | \u001b[34m\u001b[1mDEBUG   \u001b[0m | \u001b[36mvrp_study.pdptw_model.routing_model\u001b[0m:\u001b[36m__call__\u001b[0m:\u001b[36m40\u001b[0m - \u001b[34m\u001b[1mtime: 0.015; new solution (1): 1; best solution: 1\u001b[0m\n",
      "\u001b[32m2025-08-04 12:06:04.098\u001b[0m | \u001b[1mINFO    \u001b[0m | \u001b[36mvrp_study.pdptw_model.routing_model\u001b[0m:\u001b[36mdo_solve\u001b[0m:\u001b[36m423\u001b[0m - \u001b[1mfind solution\u001b[0m\n",
      "\u001b[32m2025-08-04 12:06:04.099\u001b[0m | \u001b[1mINFO    \u001b[0m | \u001b[36mvrp_study.pdptw_model.routing_model\u001b[0m:\u001b[36mfind_optimal_paths\u001b[0m:\u001b[36m451\u001b[0m - \u001b[1mbest_score: 1\u001b[0m\n",
      "\u001b[32m2025-08-04 12:06:04.099\u001b[0m | \u001b[1mINFO    \u001b[0m | \u001b[36mvrp_study.pdptw_model.routing_model\u001b[0m:\u001b[36mdo_solve\u001b[0m:\u001b[36m378\u001b[0m - \u001b[1mНачало создания модели\u001b[0m\n",
      "\u001b[32m2025-08-04 12:06:04.101\u001b[0m | \u001b[1mINFO    \u001b[0m | \u001b[36mvrp_study.pdptw_model.routing_model\u001b[0m:\u001b[36madd_distance_dimension\u001b[0m:\u001b[36m299\u001b[0m - \u001b[1mДобавление размерности для расстояния\u001b[0m\n",
      "\u001b[32m2025-08-04 12:06:04.102\u001b[0m | \u001b[1mINFO    \u001b[0m | \u001b[36mvrp_study.pdptw_model.routing_model\u001b[0m:\u001b[36madd_count_dimension\u001b[0m:\u001b[36m335\u001b[0m - \u001b[1mДобавление размерности для расстояния\u001b[0m\n",
      "\u001b[32m2025-08-04 12:06:04.103\u001b[0m | \u001b[1mINFO    \u001b[0m | \u001b[36mvrp_study.pdptw_model.routing_model\u001b[0m:\u001b[36madd_pick_up_and_delivery\u001b[0m:\u001b[36m269\u001b[0m - \u001b[1mДобавление ограничения для порядка доставки\u001b[0m\n",
      "\u001b[32m2025-08-04 12:06:04.103\u001b[0m | \u001b[1mINFO    \u001b[0m | \u001b[36mvrp_study.pdptw_model.routing_model\u001b[0m:\u001b[36madd_vehicles_cost\u001b[0m:\u001b[36m243\u001b[0m - \u001b[1mДобавление стоимостей машин\u001b[0m\n",
      "\u001b[32m2025-08-04 12:06:04.104\u001b[0m | \u001b[1mINFO    \u001b[0m | \u001b[36mvrp_study.pdptw_model.routing_model\u001b[0m:\u001b[36madd_time_window\u001b[0m:\u001b[36m194\u001b[0m - \u001b[1madd time\u001b[0m\n",
      "\u001b[32m2025-08-04 12:06:04.105\u001b[0m | \u001b[1mINFO    \u001b[0m | \u001b[36mvrp_study.pdptw_model.routing_model\u001b[0m:\u001b[36madd_mass_constraint\u001b[0m:\u001b[36m177\u001b[0m - \u001b[1mДобавление ограничений для массы\u001b[0m\n",
      "\u001b[32m2025-08-04 12:06:04.106\u001b[0m | \u001b[1mINFO    \u001b[0m | \u001b[36mvrp_study.pdptw_model.routing_model\u001b[0m:\u001b[36mdo_solve\u001b[0m:\u001b[36m407\u001b[0m - \u001b[1mНачало решения\u001b[0m\n",
      "\u001b[32m2025-08-04 12:06:04.106\u001b[0m | \u001b[1mINFO    \u001b[0m | \u001b[36mvrp_study.pdptw_model.routing_model\u001b[0m:\u001b[36mdo_solve\u001b[0m:\u001b[36m410\u001b[0m - \u001b[1muse initial_solution: 1\u001b[0m\n",
      "\u001b[32m2025-08-04 12:06:04.107\u001b[0m | \u001b[34m\u001b[1mDEBUG   \u001b[0m | \u001b[36mvrp_study.pdptw_model.routing_model\u001b[0m:\u001b[36m__call__\u001b[0m:\u001b[36m40\u001b[0m - \u001b[34m\u001b[1mtime: 0.002; new solution (1): 20921; best solution: 20921\u001b[0m\n",
      "\u001b[32m2025-08-04 12:06:04.108\u001b[0m | \u001b[34m\u001b[1mDEBUG   \u001b[0m | \u001b[36mvrp_study.pdptw_model.routing_model\u001b[0m:\u001b[36m__call__\u001b[0m:\u001b[36m40\u001b[0m - \u001b[34m\u001b[1mtime: 0.003; new solution (2): 20921; best solution: 20921\u001b[0m\n",
      "\u001b[32m2025-08-04 12:06:04.109\u001b[0m | \u001b[34m\u001b[1mDEBUG   \u001b[0m | \u001b[36mvrp_study.pdptw_model.routing_model\u001b[0m:\u001b[36m__call__\u001b[0m:\u001b[36m40\u001b[0m - \u001b[34m\u001b[1mtime: 0.004; new solution (3): 20467; best solution: 20467\u001b[0m\n",
      "\u001b[32m2025-08-04 12:06:04.113\u001b[0m | \u001b[1mINFO    \u001b[0m | \u001b[36mvrp_study.pdptw_model.routing_model\u001b[0m:\u001b[36mdo_solve\u001b[0m:\u001b[36m423\u001b[0m - \u001b[1mfind solution\u001b[0m\n",
      "\u001b[32m2025-08-04 12:06:04.114\u001b[0m | \u001b[1mINFO    \u001b[0m | \u001b[36mvrp_study.pdptw_model.routing_model\u001b[0m:\u001b[36mfind_optimal_paths\u001b[0m:\u001b[36m464\u001b[0m - \u001b[1mbest_score: 204.67\u001b[0m\n",
      "\u001b[32m2025-08-04 12:06:04.114\u001b[0m | \u001b[1mINFO    \u001b[0m | \u001b[36msrc.vrp_study.pdptw_model.solution_builder\u001b[0m:\u001b[36mget_initial_solution\u001b[0m:\u001b[36m138\u001b[0m - \u001b[1m[[0, 1, 3, 2, 5, 4, 6, 7, 8, 0], [], [], [], [], [], [], [], [], [], [], [], [], [], [], [], [], [], [], [], [], [], [], [], [], [], [], [], [], [], [], [], [], [], [], [], [], [], [], [], [], [], [], [], [], [], [], [], [], [], [], [], [], [], [], [], [], [], [], [], [], [], [], [], [], [], [], [], [], [], [], [], []]\u001b[0m\n",
      "\u001b[32m2025-08-04 12:06:04.116\u001b[0m | \u001b[1mINFO    \u001b[0m | \u001b[36msrc.vrp_study.pdptw_model.solution_builder\u001b[0m:\u001b[36mget_initial_solution\u001b[0m:\u001b[36m118\u001b[0m - \u001b[1m(1, 32.074999999999996)\u001b[0m\n",
      "\u001b[32m2025-08-04 12:06:04.116\u001b[0m | \u001b[1mINFO    \u001b[0m | \u001b[36msrc.vrp_study.pdptw_model.solution_builder\u001b[0m:\u001b[36mget_initial_solution\u001b[0m:\u001b[36m118\u001b[0m - \u001b[1m(1, 16.0875)\u001b[0m\n",
      "\u001b[32m2025-08-04 12:06:04.117\u001b[0m | \u001b[1mINFO    \u001b[0m | \u001b[36msrc.vrp_study.pdptw_model.solution_builder\u001b[0m:\u001b[36mget_initial_solution\u001b[0m:\u001b[36m118\u001b[0m - \u001b[1m(1, 8.09375)\u001b[0m\n",
      "\u001b[32m2025-08-04 12:06:04.118\u001b[0m | \u001b[1mINFO    \u001b[0m | \u001b[36msrc.vrp_study.pdptw_model.solution_builder\u001b[0m:\u001b[36mget_initial_solution\u001b[0m:\u001b[36m118\u001b[0m - \u001b[1m(1, 4.096875)\u001b[0m\n",
      "\u001b[32m2025-08-04 12:06:04.118\u001b[0m | \u001b[1mINFO    \u001b[0m | \u001b[36msrc.vrp_study.pdptw_model.solution_builder\u001b[0m:\u001b[36mget_initial_solution\u001b[0m:\u001b[36m118\u001b[0m - \u001b[1m(1, 2.0984374999999997)\u001b[0m\n",
      "\u001b[32m2025-08-04 12:06:04.119\u001b[0m | \u001b[1mINFO    \u001b[0m | \u001b[36msrc.vrp_study.pdptw_model.solution_builder\u001b[0m:\u001b[36mget_initial_solution\u001b[0m:\u001b[36m118\u001b[0m - \u001b[1m(2, 1.09921875)\u001b[0m\n",
      "\u001b[32m2025-08-04 12:06:04.119\u001b[0m | \u001b[1mINFO    \u001b[0m | \u001b[36msrc.vrp_study.pdptw_model.solution_builder\u001b[0m:\u001b[36mget_initial_solution\u001b[0m:\u001b[36m118\u001b[0m - \u001b[1m(4, 0.599609375)\u001b[0m\n",
      "\u001b[32m2025-08-04 12:06:04.120\u001b[0m | \u001b[1mINFO    \u001b[0m | \u001b[36msrc.vrp_study.pdptw_model.solution_builder\u001b[0m:\u001b[36mget_initial_solution\u001b[0m:\u001b[36m118\u001b[0m - \u001b[1m(5, 0.3498046875)\u001b[0m\n",
      "\u001b[32m2025-08-04 12:06:04.120\u001b[0m | \u001b[1mINFO    \u001b[0m | \u001b[36msrc.vrp_study.pdptw_model.solution_builder\u001b[0m:\u001b[36mget_initial_solution\u001b[0m:\u001b[36m118\u001b[0m - \u001b[1m(5, 0.22490234375)\u001b[0m\n",
      "\u001b[32m2025-08-04 12:06:04.121\u001b[0m | \u001b[1mINFO    \u001b[0m | \u001b[36msrc.vrp_study.pdptw_model.solution_builder\u001b[0m:\u001b[36mget_initial_solution\u001b[0m:\u001b[36m118\u001b[0m - \u001b[1m(5, 0.16245117187500002)\u001b[0m\n"
     ]
    },
    {
     "data": {
      "application/vnd.jupyter.widget-view+json": {
       "model_id": "d34945642b134cb6b7dfb008171d8510",
       "version_major": 2,
       "version_minor": 0
      },
      "text/plain": [
       "  0%|          | 0/2 [00:00<?, ?it/s]"
      ]
     },
     "metadata": {},
     "output_type": "display_data"
    },
    {
     "name": "stderr",
     "output_type": "stream",
     "text": [
      "\u001b[32m2025-08-04 12:06:04.128\u001b[0m | \u001b[1mINFO    \u001b[0m | \u001b[36mvrp_study.pdptw_model.routing_model\u001b[0m:\u001b[36mfind_optimal_paths\u001b[0m:\u001b[36m443\u001b[0m - \u001b[1mproblem size: 11\u001b[0m\n",
      "\u001b[32m2025-08-04 12:06:04.129\u001b[0m | \u001b[1mINFO    \u001b[0m | \u001b[36mvrp_study.pdptw_model.routing_model\u001b[0m:\u001b[36mdo_solve\u001b[0m:\u001b[36m378\u001b[0m - \u001b[1mНачало создания модели\u001b[0m\n",
      "\u001b[32m2025-08-04 12:06:04.130\u001b[0m | \u001b[1mINFO    \u001b[0m | \u001b[36mvrp_study.pdptw_model.routing_model\u001b[0m:\u001b[36madd_distance_dimension\u001b[0m:\u001b[36m299\u001b[0m - \u001b[1mДобавление размерности для расстояния\u001b[0m\n",
      "\u001b[32m2025-08-04 12:06:04.131\u001b[0m | \u001b[1mINFO    \u001b[0m | \u001b[36mvrp_study.pdptw_model.routing_model\u001b[0m:\u001b[36madd_count_dimension\u001b[0m:\u001b[36m335\u001b[0m - \u001b[1mДобавление размерности для расстояния\u001b[0m\n",
      "\u001b[32m2025-08-04 12:06:04.131\u001b[0m | \u001b[1mINFO    \u001b[0m | \u001b[36mvrp_study.pdptw_model.routing_model\u001b[0m:\u001b[36madd_pick_up_and_delivery\u001b[0m:\u001b[36m269\u001b[0m - \u001b[1mДобавление ограничения для порядка доставки\u001b[0m\n",
      "\u001b[32m2025-08-04 12:06:04.132\u001b[0m | \u001b[1mINFO    \u001b[0m | \u001b[36mvrp_study.pdptw_model.routing_model\u001b[0m:\u001b[36madd_time_window\u001b[0m:\u001b[36m194\u001b[0m - \u001b[1madd time\u001b[0m\n",
      "\u001b[32m2025-08-04 12:06:04.133\u001b[0m | \u001b[1mINFO    \u001b[0m | \u001b[36mvrp_study.pdptw_model.routing_model\u001b[0m:\u001b[36madd_mass_constraint\u001b[0m:\u001b[36m177\u001b[0m - \u001b[1mДобавление ограничений для массы\u001b[0m\n",
      "\u001b[32m2025-08-04 12:06:04.137\u001b[0m | \u001b[1mINFO    \u001b[0m | \u001b[36mvrp_study.pdptw_model.routing_model\u001b[0m:\u001b[36mdo_solve\u001b[0m:\u001b[36m407\u001b[0m - \u001b[1mНачало решения\u001b[0m\n",
      "\u001b[32m2025-08-04 12:06:04.143\u001b[0m | \u001b[34m\u001b[1mDEBUG   \u001b[0m | \u001b[36mvrp_study.pdptw_model.routing_model\u001b[0m:\u001b[36m__call__\u001b[0m:\u001b[36m40\u001b[0m - \u001b[34m\u001b[1mtime: 0.009; new solution (1): 1; best solution: 1\u001b[0m\n",
      "\u001b[32m2025-08-04 12:06:04.157\u001b[0m | \u001b[1mINFO    \u001b[0m | \u001b[36mvrp_study.pdptw_model.routing_model\u001b[0m:\u001b[36mdo_solve\u001b[0m:\u001b[36m423\u001b[0m - \u001b[1mfind solution\u001b[0m\n",
      "\u001b[32m2025-08-04 12:06:04.158\u001b[0m | \u001b[1mINFO    \u001b[0m | \u001b[36mvrp_study.pdptw_model.routing_model\u001b[0m:\u001b[36mfind_optimal_paths\u001b[0m:\u001b[36m451\u001b[0m - \u001b[1mbest_score: 1\u001b[0m\n",
      "\u001b[32m2025-08-04 12:06:04.158\u001b[0m | \u001b[1mINFO    \u001b[0m | \u001b[36mvrp_study.pdptw_model.routing_model\u001b[0m:\u001b[36mdo_solve\u001b[0m:\u001b[36m378\u001b[0m - \u001b[1mНачало создания модели\u001b[0m\n",
      "\u001b[32m2025-08-04 12:06:04.159\u001b[0m | \u001b[1mINFO    \u001b[0m | \u001b[36mvrp_study.pdptw_model.routing_model\u001b[0m:\u001b[36madd_distance_dimension\u001b[0m:\u001b[36m299\u001b[0m - \u001b[1mДобавление размерности для расстояния\u001b[0m\n",
      "\u001b[32m2025-08-04 12:06:04.160\u001b[0m | \u001b[1mINFO    \u001b[0m | \u001b[36mvrp_study.pdptw_model.routing_model\u001b[0m:\u001b[36madd_count_dimension\u001b[0m:\u001b[36m335\u001b[0m - \u001b[1mДобавление размерности для расстояния\u001b[0m\n",
      "\u001b[32m2025-08-04 12:06:04.160\u001b[0m | \u001b[1mINFO    \u001b[0m | \u001b[36mvrp_study.pdptw_model.routing_model\u001b[0m:\u001b[36madd_pick_up_and_delivery\u001b[0m:\u001b[36m269\u001b[0m - \u001b[1mДобавление ограничения для порядка доставки\u001b[0m\n",
      "\u001b[32m2025-08-04 12:06:04.161\u001b[0m | \u001b[1mINFO    \u001b[0m | \u001b[36mvrp_study.pdptw_model.routing_model\u001b[0m:\u001b[36madd_vehicles_cost\u001b[0m:\u001b[36m243\u001b[0m - \u001b[1mДобавление стоимостей машин\u001b[0m\n",
      "\u001b[32m2025-08-04 12:06:04.162\u001b[0m | \u001b[1mINFO    \u001b[0m | \u001b[36mvrp_study.pdptw_model.routing_model\u001b[0m:\u001b[36madd_time_window\u001b[0m:\u001b[36m194\u001b[0m - \u001b[1madd time\u001b[0m\n",
      "\u001b[32m2025-08-04 12:06:04.162\u001b[0m | \u001b[1mINFO    \u001b[0m | \u001b[36mvrp_study.pdptw_model.routing_model\u001b[0m:\u001b[36madd_mass_constraint\u001b[0m:\u001b[36m177\u001b[0m - \u001b[1mДобавление ограничений для массы\u001b[0m\n",
      "\u001b[32m2025-08-04 12:06:04.163\u001b[0m | \u001b[1mINFO    \u001b[0m | \u001b[36mvrp_study.pdptw_model.routing_model\u001b[0m:\u001b[36mdo_solve\u001b[0m:\u001b[36m407\u001b[0m - \u001b[1mНачало решения\u001b[0m\n",
      "\u001b[32m2025-08-04 12:06:04.164\u001b[0m | \u001b[1mINFO    \u001b[0m | \u001b[36mvrp_study.pdptw_model.routing_model\u001b[0m:\u001b[36mdo_solve\u001b[0m:\u001b[36m410\u001b[0m - \u001b[1muse initial_solution: 1\u001b[0m\n",
      "\u001b[32m2025-08-04 12:06:04.164\u001b[0m | \u001b[34m\u001b[1mDEBUG   \u001b[0m | \u001b[36mvrp_study.pdptw_model.routing_model\u001b[0m:\u001b[36m__call__\u001b[0m:\u001b[36m40\u001b[0m - \u001b[34m\u001b[1mtime: 0.001; new solution (1): 10841; best solution: 10841\u001b[0m\n",
      "\u001b[32m2025-08-04 12:06:04.166\u001b[0m | \u001b[34m\u001b[1mDEBUG   \u001b[0m | \u001b[36mvrp_study.pdptw_model.routing_model\u001b[0m:\u001b[36m__call__\u001b[0m:\u001b[36m40\u001b[0m - \u001b[34m\u001b[1mtime: 0.003; new solution (2): 10841; best solution: 10841\u001b[0m\n",
      "\u001b[32m2025-08-04 12:06:04.172\u001b[0m | \u001b[1mINFO    \u001b[0m | \u001b[36mvrp_study.pdptw_model.routing_model\u001b[0m:\u001b[36mdo_solve\u001b[0m:\u001b[36m423\u001b[0m - \u001b[1mfind solution\u001b[0m\n",
      "\u001b[32m2025-08-04 12:06:04.173\u001b[0m | \u001b[1mINFO    \u001b[0m | \u001b[36mvrp_study.pdptw_model.routing_model\u001b[0m:\u001b[36mfind_optimal_paths\u001b[0m:\u001b[36m464\u001b[0m - \u001b[1mbest_score: 108.41\u001b[0m\n",
      "\u001b[32m2025-08-04 12:06:04.174\u001b[0m | \u001b[1mINFO    \u001b[0m | \u001b[36msrc.vrp_study.pdptw_model.solution_builder\u001b[0m:\u001b[36mget_initial_solution\u001b[0m:\u001b[36m138\u001b[0m - \u001b[1m[[0, 5, 7, 8, 9, 1, 6, 10, 2, 3, 4, 0], [], [], [], [], [], [], [], [], [], [], [], [], [], [], [], [], [], [], [], [], [], [], [], [], [], [], [], [], [], [], [], [], [], [], [], [], [], [], [], [], [], [], [], [], [], [], [], [], [], [], [], [], [], [], [], [], [], [], [], [], [], [], [], [], [], [], [], [], [], [], []]\u001b[0m\n",
      "\u001b[32m2025-08-04 12:06:04.174\u001b[0m | \u001b[1mINFO    \u001b[0m | \u001b[36mvrp_study.pdptw_model.routing_model\u001b[0m:\u001b[36mfind_optimal_paths\u001b[0m:\u001b[36m443\u001b[0m - \u001b[1mproblem size: 3\u001b[0m\n",
      "\u001b[32m2025-08-04 12:06:04.175\u001b[0m | \u001b[1mINFO    \u001b[0m | \u001b[36mvrp_study.pdptw_model.routing_model\u001b[0m:\u001b[36mdo_solve\u001b[0m:\u001b[36m378\u001b[0m - \u001b[1mНачало создания модели\u001b[0m\n",
      "\u001b[32m2025-08-04 12:06:04.176\u001b[0m | \u001b[1mINFO    \u001b[0m | \u001b[36mvrp_study.pdptw_model.routing_model\u001b[0m:\u001b[36madd_distance_dimension\u001b[0m:\u001b[36m299\u001b[0m - \u001b[1mДобавление размерности для расстояния\u001b[0m\n",
      "\u001b[32m2025-08-04 12:06:04.177\u001b[0m | \u001b[1mINFO    \u001b[0m | \u001b[36mvrp_study.pdptw_model.routing_model\u001b[0m:\u001b[36madd_count_dimension\u001b[0m:\u001b[36m335\u001b[0m - \u001b[1mДобавление размерности для расстояния\u001b[0m\n",
      "\u001b[32m2025-08-04 12:06:04.177\u001b[0m | \u001b[1mINFO    \u001b[0m | \u001b[36mvrp_study.pdptw_model.routing_model\u001b[0m:\u001b[36madd_pick_up_and_delivery\u001b[0m:\u001b[36m269\u001b[0m - \u001b[1mДобавление ограничения для порядка доставки\u001b[0m\n",
      "\u001b[32m2025-08-04 12:06:04.178\u001b[0m | \u001b[1mINFO    \u001b[0m | \u001b[36mvrp_study.pdptw_model.routing_model\u001b[0m:\u001b[36madd_time_window\u001b[0m:\u001b[36m194\u001b[0m - \u001b[1madd time\u001b[0m\n",
      "\u001b[32m2025-08-04 12:06:04.179\u001b[0m | \u001b[1mINFO    \u001b[0m | \u001b[36mvrp_study.pdptw_model.routing_model\u001b[0m:\u001b[36madd_mass_constraint\u001b[0m:\u001b[36m177\u001b[0m - \u001b[1mДобавление ограничений для массы\u001b[0m\n",
      "\u001b[32m2025-08-04 12:06:04.182\u001b[0m | \u001b[1mINFO    \u001b[0m | \u001b[36mvrp_study.pdptw_model.routing_model\u001b[0m:\u001b[36mdo_solve\u001b[0m:\u001b[36m407\u001b[0m - \u001b[1mНачало решения\u001b[0m\n",
      "\u001b[32m2025-08-04 12:06:04.185\u001b[0m | \u001b[34m\u001b[1mDEBUG   \u001b[0m | \u001b[36mvrp_study.pdptw_model.routing_model\u001b[0m:\u001b[36m__call__\u001b[0m:\u001b[36m40\u001b[0m - \u001b[34m\u001b[1mtime: 0.006; new solution (1): 1; best solution: 1\u001b[0m\n",
      "\u001b[32m2025-08-04 12:06:04.189\u001b[0m | \u001b[1mINFO    \u001b[0m | \u001b[36mvrp_study.pdptw_model.routing_model\u001b[0m:\u001b[36mdo_solve\u001b[0m:\u001b[36m423\u001b[0m - \u001b[1mfind solution\u001b[0m\n",
      "\u001b[32m2025-08-04 12:06:04.191\u001b[0m | \u001b[1mINFO    \u001b[0m | \u001b[36mvrp_study.pdptw_model.routing_model\u001b[0m:\u001b[36mfind_optimal_paths\u001b[0m:\u001b[36m451\u001b[0m - \u001b[1mbest_score: 1\u001b[0m\n",
      "\u001b[32m2025-08-04 12:06:04.192\u001b[0m | \u001b[1mINFO    \u001b[0m | \u001b[36mvrp_study.pdptw_model.routing_model\u001b[0m:\u001b[36mdo_solve\u001b[0m:\u001b[36m378\u001b[0m - \u001b[1mНачало создания модели\u001b[0m\n",
      "\u001b[32m2025-08-04 12:06:04.195\u001b[0m | \u001b[1mINFO    \u001b[0m | \u001b[36mvrp_study.pdptw_model.routing_model\u001b[0m:\u001b[36madd_distance_dimension\u001b[0m:\u001b[36m299\u001b[0m - \u001b[1mДобавление размерности для расстояния\u001b[0m\n",
      "\u001b[32m2025-08-04 12:06:04.198\u001b[0m | \u001b[1mINFO    \u001b[0m | \u001b[36mvrp_study.pdptw_model.routing_model\u001b[0m:\u001b[36madd_count_dimension\u001b[0m:\u001b[36m335\u001b[0m - \u001b[1mДобавление размерности для расстояния\u001b[0m\n",
      "\u001b[32m2025-08-04 12:06:04.199\u001b[0m | \u001b[1mINFO    \u001b[0m | \u001b[36mvrp_study.pdptw_model.routing_model\u001b[0m:\u001b[36madd_pick_up_and_delivery\u001b[0m:\u001b[36m269\u001b[0m - \u001b[1mДобавление ограничения для порядка доставки\u001b[0m\n",
      "\u001b[32m2025-08-04 12:06:04.201\u001b[0m | \u001b[1mINFO    \u001b[0m | \u001b[36mvrp_study.pdptw_model.routing_model\u001b[0m:\u001b[36madd_vehicles_cost\u001b[0m:\u001b[36m243\u001b[0m - \u001b[1mДобавление стоимостей машин\u001b[0m\n",
      "\u001b[32m2025-08-04 12:06:04.202\u001b[0m | \u001b[1mINFO    \u001b[0m | \u001b[36mvrp_study.pdptw_model.routing_model\u001b[0m:\u001b[36madd_time_window\u001b[0m:\u001b[36m194\u001b[0m - \u001b[1madd time\u001b[0m\n",
      "\u001b[32m2025-08-04 12:06:04.204\u001b[0m | \u001b[1mINFO    \u001b[0m | \u001b[36mvrp_study.pdptw_model.routing_model\u001b[0m:\u001b[36madd_mass_constraint\u001b[0m:\u001b[36m177\u001b[0m - \u001b[1mДобавление ограничений для массы\u001b[0m\n",
      "\u001b[32m2025-08-04 12:06:04.205\u001b[0m | \u001b[1mINFO    \u001b[0m | \u001b[36mvrp_study.pdptw_model.routing_model\u001b[0m:\u001b[36mdo_solve\u001b[0m:\u001b[36m407\u001b[0m - \u001b[1mНачало решения\u001b[0m\n",
      "\u001b[32m2025-08-04 12:06:04.206\u001b[0m | \u001b[1mINFO    \u001b[0m | \u001b[36mvrp_study.pdptw_model.routing_model\u001b[0m:\u001b[36mdo_solve\u001b[0m:\u001b[36m410\u001b[0m - \u001b[1muse initial_solution: 1\u001b[0m\n",
      "\u001b[32m2025-08-04 12:06:04.207\u001b[0m | \u001b[34m\u001b[1mDEBUG   \u001b[0m | \u001b[36mvrp_study.pdptw_model.routing_model\u001b[0m:\u001b[36m__call__\u001b[0m:\u001b[36m40\u001b[0m - \u001b[34m\u001b[1mtime: 0.003; new solution (1): 10200; best solution: 10200\u001b[0m\n",
      "\u001b[32m2025-08-04 12:06:04.208\u001b[0m | \u001b[34m\u001b[1mDEBUG   \u001b[0m | \u001b[36mvrp_study.pdptw_model.routing_model\u001b[0m:\u001b[36m__call__\u001b[0m:\u001b[36m40\u001b[0m - \u001b[34m\u001b[1mtime: 0.004; new solution (2): 10200; best solution: 10200\u001b[0m\n",
      "\u001b[32m2025-08-04 12:06:04.209\u001b[0m | \u001b[1mINFO    \u001b[0m | \u001b[36mvrp_study.pdptw_model.routing_model\u001b[0m:\u001b[36mdo_solve\u001b[0m:\u001b[36m423\u001b[0m - \u001b[1mfind solution\u001b[0m\n",
      "\u001b[32m2025-08-04 12:06:04.211\u001b[0m | \u001b[1mINFO    \u001b[0m | \u001b[36mvrp_study.pdptw_model.routing_model\u001b[0m:\u001b[36mfind_optimal_paths\u001b[0m:\u001b[36m464\u001b[0m - \u001b[1mbest_score: 102.00\u001b[0m\n",
      "\u001b[32m2025-08-04 12:06:04.212\u001b[0m | \u001b[1mINFO    \u001b[0m | \u001b[36msrc.vrp_study.pdptw_model.solution_builder\u001b[0m:\u001b[36mget_initial_solution\u001b[0m:\u001b[36m138\u001b[0m - \u001b[1m[[0, 1, 2, 0], [], [], [], [], [], [], [], [], [], [], [], [], [], [], [], [], [], [], [], [], [], [], [], [], [], [], [], [], [], [], [], [], [], [], [], [], [], [], [], [], [], [], [], [], [], [], [], [], [], [], [], [], [], [], [], [], [], [], [], [], [], [], [], [], [], [], [], [], [], []]\u001b[0m\n"
     ]
    },
    {
     "data": {
      "application/vnd.jupyter.widget-view+json": {
       "model_id": "9b5b0a1a84074ed1b91da9c80f7da560",
       "version_major": 2,
       "version_minor": 0
      },
      "text/plain": [
       "  0%|          | 0/1 [00:00<?, ?it/s]"
      ]
     },
     "metadata": {},
     "output_type": "display_data"
    },
    {
     "name": "stderr",
     "output_type": "stream",
     "text": [
      "\u001b[32m2025-08-04 12:06:04.220\u001b[0m | \u001b[1mINFO    \u001b[0m | \u001b[36mvrp_study.pdptw_model.routing_model\u001b[0m:\u001b[36mfind_optimal_paths\u001b[0m:\u001b[36m443\u001b[0m - \u001b[1mproblem size: 3\u001b[0m\n",
      "\u001b[32m2025-08-04 12:06:04.221\u001b[0m | \u001b[1mINFO    \u001b[0m | \u001b[36mvrp_study.pdptw_model.routing_model\u001b[0m:\u001b[36mdo_solve\u001b[0m:\u001b[36m378\u001b[0m - \u001b[1mНачало создания модели\u001b[0m\n",
      "\u001b[32m2025-08-04 12:06:04.223\u001b[0m | \u001b[1mINFO    \u001b[0m | \u001b[36mvrp_study.pdptw_model.routing_model\u001b[0m:\u001b[36madd_distance_dimension\u001b[0m:\u001b[36m299\u001b[0m - \u001b[1mДобавление размерности для расстояния\u001b[0m\n",
      "\u001b[32m2025-08-04 12:06:04.225\u001b[0m | \u001b[1mINFO    \u001b[0m | \u001b[36mvrp_study.pdptw_model.routing_model\u001b[0m:\u001b[36madd_count_dimension\u001b[0m:\u001b[36m335\u001b[0m - \u001b[1mДобавление размерности для расстояния\u001b[0m\n",
      "\u001b[32m2025-08-04 12:06:04.226\u001b[0m | \u001b[1mINFO    \u001b[0m | \u001b[36mvrp_study.pdptw_model.routing_model\u001b[0m:\u001b[36madd_pick_up_and_delivery\u001b[0m:\u001b[36m269\u001b[0m - \u001b[1mДобавление ограничения для порядка доставки\u001b[0m\n",
      "\u001b[32m2025-08-04 12:06:04.227\u001b[0m | \u001b[1mINFO    \u001b[0m | \u001b[36mvrp_study.pdptw_model.routing_model\u001b[0m:\u001b[36madd_time_window\u001b[0m:\u001b[36m194\u001b[0m - \u001b[1madd time\u001b[0m\n",
      "\u001b[32m2025-08-04 12:06:04.228\u001b[0m | \u001b[1mINFO    \u001b[0m | \u001b[36mvrp_study.pdptw_model.routing_model\u001b[0m:\u001b[36madd_mass_constraint\u001b[0m:\u001b[36m177\u001b[0m - \u001b[1mДобавление ограничений для массы\u001b[0m\n",
      "\u001b[32m2025-08-04 12:06:04.233\u001b[0m | \u001b[1mINFO    \u001b[0m | \u001b[36mvrp_study.pdptw_model.routing_model\u001b[0m:\u001b[36mdo_solve\u001b[0m:\u001b[36m407\u001b[0m - \u001b[1mНачало решения\u001b[0m\n",
      "\u001b[32m2025-08-04 12:06:04.237\u001b[0m | \u001b[34m\u001b[1mDEBUG   \u001b[0m | \u001b[36mvrp_study.pdptw_model.routing_model\u001b[0m:\u001b[36m__call__\u001b[0m:\u001b[36m40\u001b[0m - \u001b[34m\u001b[1mtime: 0.008; new solution (1): 1; best solution: 1\u001b[0m\n",
      "\u001b[32m2025-08-04 12:06:04.241\u001b[0m | \u001b[1mINFO    \u001b[0m | \u001b[36mvrp_study.pdptw_model.routing_model\u001b[0m:\u001b[36mdo_solve\u001b[0m:\u001b[36m423\u001b[0m - \u001b[1mfind solution\u001b[0m\n",
      "\u001b[32m2025-08-04 12:06:04.242\u001b[0m | \u001b[1mINFO    \u001b[0m | \u001b[36mvrp_study.pdptw_model.routing_model\u001b[0m:\u001b[36mfind_optimal_paths\u001b[0m:\u001b[36m451\u001b[0m - \u001b[1mbest_score: 1\u001b[0m\n",
      "\u001b[32m2025-08-04 12:06:04.243\u001b[0m | \u001b[1mINFO    \u001b[0m | \u001b[36mvrp_study.pdptw_model.routing_model\u001b[0m:\u001b[36mdo_solve\u001b[0m:\u001b[36m378\u001b[0m - \u001b[1mНачало создания модели\u001b[0m\n",
      "\u001b[32m2025-08-04 12:06:04.246\u001b[0m | \u001b[1mINFO    \u001b[0m | \u001b[36mvrp_study.pdptw_model.routing_model\u001b[0m:\u001b[36madd_distance_dimension\u001b[0m:\u001b[36m299\u001b[0m - \u001b[1mДобавление размерности для расстояния\u001b[0m\n",
      "\u001b[32m2025-08-04 12:06:04.247\u001b[0m | \u001b[1mINFO    \u001b[0m | \u001b[36mvrp_study.pdptw_model.routing_model\u001b[0m:\u001b[36madd_count_dimension\u001b[0m:\u001b[36m335\u001b[0m - \u001b[1mДобавление размерности для расстояния\u001b[0m\n",
      "\u001b[32m2025-08-04 12:06:04.248\u001b[0m | \u001b[1mINFO    \u001b[0m | \u001b[36mvrp_study.pdptw_model.routing_model\u001b[0m:\u001b[36madd_pick_up_and_delivery\u001b[0m:\u001b[36m269\u001b[0m - \u001b[1mДобавление ограничения для порядка доставки\u001b[0m\n",
      "\u001b[32m2025-08-04 12:06:04.248\u001b[0m | \u001b[1mINFO    \u001b[0m | \u001b[36mvrp_study.pdptw_model.routing_model\u001b[0m:\u001b[36madd_vehicles_cost\u001b[0m:\u001b[36m243\u001b[0m - \u001b[1mДобавление стоимостей машин\u001b[0m\n",
      "\u001b[32m2025-08-04 12:06:04.249\u001b[0m | \u001b[1mINFO    \u001b[0m | \u001b[36mvrp_study.pdptw_model.routing_model\u001b[0m:\u001b[36madd_time_window\u001b[0m:\u001b[36m194\u001b[0m - \u001b[1madd time\u001b[0m\n",
      "\u001b[32m2025-08-04 12:06:04.250\u001b[0m | \u001b[1mINFO    \u001b[0m | \u001b[36mvrp_study.pdptw_model.routing_model\u001b[0m:\u001b[36madd_mass_constraint\u001b[0m:\u001b[36m177\u001b[0m - \u001b[1mДобавление ограничений для массы\u001b[0m\n",
      "\u001b[32m2025-08-04 12:06:04.251\u001b[0m | \u001b[1mINFO    \u001b[0m | \u001b[36mvrp_study.pdptw_model.routing_model\u001b[0m:\u001b[36mdo_solve\u001b[0m:\u001b[36m407\u001b[0m - \u001b[1mНачало решения\u001b[0m\n",
      "\u001b[32m2025-08-04 12:06:04.251\u001b[0m | \u001b[1mINFO    \u001b[0m | \u001b[36mvrp_study.pdptw_model.routing_model\u001b[0m:\u001b[36mdo_solve\u001b[0m:\u001b[36m410\u001b[0m - \u001b[1muse initial_solution: 1\u001b[0m\n",
      "\u001b[32m2025-08-04 12:06:04.252\u001b[0m | \u001b[34m\u001b[1mDEBUG   \u001b[0m | \u001b[36mvrp_study.pdptw_model.routing_model\u001b[0m:\u001b[36m__call__\u001b[0m:\u001b[36m40\u001b[0m - \u001b[34m\u001b[1mtime: 0.002; new solution (1): 21770; best solution: 21770\u001b[0m\n",
      "\u001b[32m2025-08-04 12:06:04.253\u001b[0m | \u001b[34m\u001b[1mDEBUG   \u001b[0m | \u001b[36mvrp_study.pdptw_model.routing_model\u001b[0m:\u001b[36m__call__\u001b[0m:\u001b[36m40\u001b[0m - \u001b[34m\u001b[1mtime: 0.003; new solution (2): 21770; best solution: 21770\u001b[0m\n",
      "\u001b[32m2025-08-04 12:06:04.254\u001b[0m | \u001b[1mINFO    \u001b[0m | \u001b[36mvrp_study.pdptw_model.routing_model\u001b[0m:\u001b[36mdo_solve\u001b[0m:\u001b[36m423\u001b[0m - \u001b[1mfind solution\u001b[0m\n",
      "\u001b[32m2025-08-04 12:06:04.255\u001b[0m | \u001b[1mINFO    \u001b[0m | \u001b[36mvrp_study.pdptw_model.routing_model\u001b[0m:\u001b[36mfind_optimal_paths\u001b[0m:\u001b[36m464\u001b[0m - \u001b[1mbest_score: 217.70\u001b[0m\n",
      "\u001b[32m2025-08-04 12:06:04.255\u001b[0m | \u001b[1mINFO    \u001b[0m | \u001b[36msrc.vrp_study.pdptw_model.solution_builder\u001b[0m:\u001b[36mget_initial_solution\u001b[0m:\u001b[36m138\u001b[0m - \u001b[1m[[0, 1, 2, 0], [], [], [], [], [], [], [], [], [], [], [], [], [], [], [], [], [], [], [], [], [], [], [], [], [], [], [], [], [], [], [], [], [], [], [], [], [], [], [], [], [], [], [], [], [], [], [], [], [], [], [], [], [], [], [], [], [], [], [], [], [], [], [], [], [], [], [], [], []]\u001b[0m\n",
      "\u001b[32m2025-08-04 12:06:04.257\u001b[0m | \u001b[1mINFO    \u001b[0m | \u001b[36msrc.vrp_study.pdptw_model.solution_builder\u001b[0m:\u001b[36mget_initial_solution\u001b[0m:\u001b[36m118\u001b[0m - \u001b[1m(1, 32.074999999999996)\u001b[0m\n",
      "\u001b[32m2025-08-04 12:06:04.258\u001b[0m | \u001b[1mINFO    \u001b[0m | \u001b[36msrc.vrp_study.pdptw_model.solution_builder\u001b[0m:\u001b[36mget_initial_solution\u001b[0m:\u001b[36m118\u001b[0m - \u001b[1m(1, 16.0875)\u001b[0m\n",
      "\u001b[32m2025-08-04 12:06:04.258\u001b[0m | \u001b[1mINFO    \u001b[0m | \u001b[36msrc.vrp_study.pdptw_model.solution_builder\u001b[0m:\u001b[36mget_initial_solution\u001b[0m:\u001b[36m118\u001b[0m - \u001b[1m(1, 8.09375)\u001b[0m\n",
      "\u001b[32m2025-08-04 12:06:04.258\u001b[0m | \u001b[1mINFO    \u001b[0m | \u001b[36msrc.vrp_study.pdptw_model.solution_builder\u001b[0m:\u001b[36mget_initial_solution\u001b[0m:\u001b[36m118\u001b[0m - \u001b[1m(1, 4.096875)\u001b[0m\n",
      "\u001b[32m2025-08-04 12:06:04.259\u001b[0m | \u001b[1mINFO    \u001b[0m | \u001b[36msrc.vrp_study.pdptw_model.solution_builder\u001b[0m:\u001b[36mget_initial_solution\u001b[0m:\u001b[36m118\u001b[0m - \u001b[1m(1, 2.0984374999999997)\u001b[0m\n",
      "\u001b[32m2025-08-04 12:06:04.259\u001b[0m | \u001b[1mINFO    \u001b[0m | \u001b[36msrc.vrp_study.pdptw_model.solution_builder\u001b[0m:\u001b[36mget_initial_solution\u001b[0m:\u001b[36m118\u001b[0m - \u001b[1m(1, 1.09921875)\u001b[0m\n",
      "\u001b[32m2025-08-04 12:06:04.260\u001b[0m | \u001b[1mINFO    \u001b[0m | \u001b[36msrc.vrp_study.pdptw_model.solution_builder\u001b[0m:\u001b[36mget_initial_solution\u001b[0m:\u001b[36m118\u001b[0m - \u001b[1m(2, 0.599609375)\u001b[0m\n",
      "\u001b[32m2025-08-04 12:06:04.260\u001b[0m | \u001b[1mINFO    \u001b[0m | \u001b[36msrc.vrp_study.pdptw_model.solution_builder\u001b[0m:\u001b[36mget_initial_solution\u001b[0m:\u001b[36m118\u001b[0m - \u001b[1m(3, 0.3498046875)\u001b[0m\n",
      "\u001b[32m2025-08-04 12:06:04.262\u001b[0m | \u001b[1mINFO    \u001b[0m | \u001b[36msrc.vrp_study.pdptw_model.solution_builder\u001b[0m:\u001b[36mget_initial_solution\u001b[0m:\u001b[36m118\u001b[0m - \u001b[1m(4, 0.22490234375)\u001b[0m\n",
      "\u001b[32m2025-08-04 12:06:04.263\u001b[0m | \u001b[1mINFO    \u001b[0m | \u001b[36msrc.vrp_study.pdptw_model.solution_builder\u001b[0m:\u001b[36mget_initial_solution\u001b[0m:\u001b[36m118\u001b[0m - \u001b[1m(4, 0.16245117187500002)\u001b[0m\n"
     ]
    },
    {
     "data": {
      "application/vnd.jupyter.widget-view+json": {
       "model_id": "319deb218f104e6983f4d9c0de8b67c8",
       "version_major": 2,
       "version_minor": 0
      },
      "text/plain": [
       "  0%|          | 0/2 [00:00<?, ?it/s]"
      ]
     },
     "metadata": {},
     "output_type": "display_data"
    },
    {
     "name": "stderr",
     "output_type": "stream",
     "text": [
      "\u001b[32m2025-08-04 12:06:04.269\u001b[0m | \u001b[1mINFO    \u001b[0m | \u001b[36mvrp_study.pdptw_model.routing_model\u001b[0m:\u001b[36mfind_optimal_paths\u001b[0m:\u001b[36m443\u001b[0m - \u001b[1mproblem size: 9\u001b[0m\n",
      "\u001b[32m2025-08-04 12:06:04.269\u001b[0m | \u001b[1mINFO    \u001b[0m | \u001b[36mvrp_study.pdptw_model.routing_model\u001b[0m:\u001b[36mdo_solve\u001b[0m:\u001b[36m378\u001b[0m - \u001b[1mНачало создания модели\u001b[0m\n",
      "\u001b[32m2025-08-04 12:06:04.270\u001b[0m | \u001b[1mINFO    \u001b[0m | \u001b[36mvrp_study.pdptw_model.routing_model\u001b[0m:\u001b[36madd_distance_dimension\u001b[0m:\u001b[36m299\u001b[0m - \u001b[1mДобавление размерности для расстояния\u001b[0m\n",
      "\u001b[32m2025-08-04 12:06:04.272\u001b[0m | \u001b[1mINFO    \u001b[0m | \u001b[36mvrp_study.pdptw_model.routing_model\u001b[0m:\u001b[36madd_count_dimension\u001b[0m:\u001b[36m335\u001b[0m - \u001b[1mДобавление размерности для расстояния\u001b[0m\n",
      "\u001b[32m2025-08-04 12:06:04.273\u001b[0m | \u001b[1mINFO    \u001b[0m | \u001b[36mvrp_study.pdptw_model.routing_model\u001b[0m:\u001b[36madd_pick_up_and_delivery\u001b[0m:\u001b[36m269\u001b[0m - \u001b[1mДобавление ограничения для порядка доставки\u001b[0m\n",
      "\u001b[32m2025-08-04 12:06:04.273\u001b[0m | \u001b[1mINFO    \u001b[0m | \u001b[36mvrp_study.pdptw_model.routing_model\u001b[0m:\u001b[36madd_time_window\u001b[0m:\u001b[36m194\u001b[0m - \u001b[1madd time\u001b[0m\n",
      "\u001b[32m2025-08-04 12:06:04.274\u001b[0m | \u001b[1mINFO    \u001b[0m | \u001b[36mvrp_study.pdptw_model.routing_model\u001b[0m:\u001b[36madd_mass_constraint\u001b[0m:\u001b[36m177\u001b[0m - \u001b[1mДобавление ограничений для массы\u001b[0m\n",
      "\u001b[32m2025-08-04 12:06:04.279\u001b[0m | \u001b[1mINFO    \u001b[0m | \u001b[36mvrp_study.pdptw_model.routing_model\u001b[0m:\u001b[36mdo_solve\u001b[0m:\u001b[36m407\u001b[0m - \u001b[1mНачало решения\u001b[0m\n",
      "\u001b[32m2025-08-04 12:06:04.284\u001b[0m | \u001b[34m\u001b[1mDEBUG   \u001b[0m | \u001b[36mvrp_study.pdptw_model.routing_model\u001b[0m:\u001b[36m__call__\u001b[0m:\u001b[36m40\u001b[0m - \u001b[34m\u001b[1mtime: 0.010; new solution (1): 1; best solution: 1\u001b[0m\n",
      "\u001b[32m2025-08-04 12:06:04.294\u001b[0m | \u001b[1mINFO    \u001b[0m | \u001b[36mvrp_study.pdptw_model.routing_model\u001b[0m:\u001b[36mdo_solve\u001b[0m:\u001b[36m423\u001b[0m - \u001b[1mfind solution\u001b[0m\n",
      "\u001b[32m2025-08-04 12:06:04.295\u001b[0m | \u001b[1mINFO    \u001b[0m | \u001b[36mvrp_study.pdptw_model.routing_model\u001b[0m:\u001b[36mfind_optimal_paths\u001b[0m:\u001b[36m451\u001b[0m - \u001b[1mbest_score: 1\u001b[0m\n",
      "\u001b[32m2025-08-04 12:06:04.296\u001b[0m | \u001b[1mINFO    \u001b[0m | \u001b[36mvrp_study.pdptw_model.routing_model\u001b[0m:\u001b[36mdo_solve\u001b[0m:\u001b[36m378\u001b[0m - \u001b[1mНачало создания модели\u001b[0m\n",
      "\u001b[32m2025-08-04 12:06:04.297\u001b[0m | \u001b[1mINFO    \u001b[0m | \u001b[36mvrp_study.pdptw_model.routing_model\u001b[0m:\u001b[36madd_distance_dimension\u001b[0m:\u001b[36m299\u001b[0m - \u001b[1mДобавление размерности для расстояния\u001b[0m\n",
      "\u001b[32m2025-08-04 12:06:04.298\u001b[0m | \u001b[1mINFO    \u001b[0m | \u001b[36mvrp_study.pdptw_model.routing_model\u001b[0m:\u001b[36madd_count_dimension\u001b[0m:\u001b[36m335\u001b[0m - \u001b[1mДобавление размерности для расстояния\u001b[0m\n",
      "\u001b[32m2025-08-04 12:06:04.299\u001b[0m | \u001b[1mINFO    \u001b[0m | \u001b[36mvrp_study.pdptw_model.routing_model\u001b[0m:\u001b[36madd_pick_up_and_delivery\u001b[0m:\u001b[36m269\u001b[0m - \u001b[1mДобавление ограничения для порядка доставки\u001b[0m\n",
      "\u001b[32m2025-08-04 12:06:04.299\u001b[0m | \u001b[1mINFO    \u001b[0m | \u001b[36mvrp_study.pdptw_model.routing_model\u001b[0m:\u001b[36madd_vehicles_cost\u001b[0m:\u001b[36m243\u001b[0m - \u001b[1mДобавление стоимостей машин\u001b[0m\n",
      "\u001b[32m2025-08-04 12:06:04.300\u001b[0m | \u001b[1mINFO    \u001b[0m | \u001b[36mvrp_study.pdptw_model.routing_model\u001b[0m:\u001b[36madd_time_window\u001b[0m:\u001b[36m194\u001b[0m - \u001b[1madd time\u001b[0m\n",
      "\u001b[32m2025-08-04 12:06:04.300\u001b[0m | \u001b[1mINFO    \u001b[0m | \u001b[36mvrp_study.pdptw_model.routing_model\u001b[0m:\u001b[36madd_mass_constraint\u001b[0m:\u001b[36m177\u001b[0m - \u001b[1mДобавление ограничений для массы\u001b[0m\n",
      "\u001b[32m2025-08-04 12:06:04.301\u001b[0m | \u001b[1mINFO    \u001b[0m | \u001b[36mvrp_study.pdptw_model.routing_model\u001b[0m:\u001b[36mdo_solve\u001b[0m:\u001b[36m407\u001b[0m - \u001b[1mНачало решения\u001b[0m\n",
      "\u001b[32m2025-08-04 12:06:04.302\u001b[0m | \u001b[1mINFO    \u001b[0m | \u001b[36mvrp_study.pdptw_model.routing_model\u001b[0m:\u001b[36mdo_solve\u001b[0m:\u001b[36m410\u001b[0m - \u001b[1muse initial_solution: 1\u001b[0m\n",
      "\u001b[32m2025-08-04 12:06:04.303\u001b[0m | \u001b[34m\u001b[1mDEBUG   \u001b[0m | \u001b[36mvrp_study.pdptw_model.routing_model\u001b[0m:\u001b[36m__call__\u001b[0m:\u001b[36m40\u001b[0m - \u001b[34m\u001b[1mtime: 0.002; new solution (1): 19517; best solution: 19517\u001b[0m\n",
      "\u001b[32m2025-08-04 12:06:04.303\u001b[0m | \u001b[34m\u001b[1mDEBUG   \u001b[0m | \u001b[36mvrp_study.pdptw_model.routing_model\u001b[0m:\u001b[36m__call__\u001b[0m:\u001b[36m40\u001b[0m - \u001b[34m\u001b[1mtime: 0.002; new solution (2): 19517; best solution: 19517\u001b[0m\n",
      "\u001b[32m2025-08-04 12:06:04.308\u001b[0m | \u001b[1mINFO    \u001b[0m | \u001b[36mvrp_study.pdptw_model.routing_model\u001b[0m:\u001b[36mdo_solve\u001b[0m:\u001b[36m423\u001b[0m - \u001b[1mfind solution\u001b[0m\n",
      "\u001b[32m2025-08-04 12:06:04.309\u001b[0m | \u001b[1mINFO    \u001b[0m | \u001b[36mvrp_study.pdptw_model.routing_model\u001b[0m:\u001b[36mfind_optimal_paths\u001b[0m:\u001b[36m464\u001b[0m - \u001b[1mbest_score: 195.17\u001b[0m\n",
      "\u001b[32m2025-08-04 12:06:04.310\u001b[0m | \u001b[1mINFO    \u001b[0m | \u001b[36msrc.vrp_study.pdptw_model.solution_builder\u001b[0m:\u001b[36mget_initial_solution\u001b[0m:\u001b[36m138\u001b[0m - \u001b[1m[[0, 3, 7, 4, 8, 5, 1, 2, 6, 0], [], [], [], [], [], [], [], [], [], [], [], [], [], [], [], [], [], [], [], [], [], [], [], [], [], [], [], [], [], [], [], [], [], [], [], [], [], [], [], [], [], [], [], [], [], [], [], [], [], [], [], [], [], [], [], [], [], [], [], [], [], [], [], [], [], [], [], []]\u001b[0m\n",
      "\u001b[32m2025-08-04 12:06:04.310\u001b[0m | \u001b[1mINFO    \u001b[0m | \u001b[36mvrp_study.pdptw_model.routing_model\u001b[0m:\u001b[36mfind_optimal_paths\u001b[0m:\u001b[36m443\u001b[0m - \u001b[1mproblem size: 5\u001b[0m\n",
      "\u001b[32m2025-08-04 12:06:04.311\u001b[0m | \u001b[1mINFO    \u001b[0m | \u001b[36mvrp_study.pdptw_model.routing_model\u001b[0m:\u001b[36mdo_solve\u001b[0m:\u001b[36m378\u001b[0m - \u001b[1mНачало создания модели\u001b[0m\n",
      "\u001b[32m2025-08-04 12:06:04.312\u001b[0m | \u001b[1mINFO    \u001b[0m | \u001b[36mvrp_study.pdptw_model.routing_model\u001b[0m:\u001b[36madd_distance_dimension\u001b[0m:\u001b[36m299\u001b[0m - \u001b[1mДобавление размерности для расстояния\u001b[0m\n",
      "\u001b[32m2025-08-04 12:06:04.313\u001b[0m | \u001b[1mINFO    \u001b[0m | \u001b[36mvrp_study.pdptw_model.routing_model\u001b[0m:\u001b[36madd_count_dimension\u001b[0m:\u001b[36m335\u001b[0m - \u001b[1mДобавление размерности для расстояния\u001b[0m\n",
      "\u001b[32m2025-08-04 12:06:04.314\u001b[0m | \u001b[1mINFO    \u001b[0m | \u001b[36mvrp_study.pdptw_model.routing_model\u001b[0m:\u001b[36madd_pick_up_and_delivery\u001b[0m:\u001b[36m269\u001b[0m - \u001b[1mДобавление ограничения для порядка доставки\u001b[0m\n",
      "\u001b[32m2025-08-04 12:06:04.314\u001b[0m | \u001b[1mINFO    \u001b[0m | \u001b[36mvrp_study.pdptw_model.routing_model\u001b[0m:\u001b[36madd_time_window\u001b[0m:\u001b[36m194\u001b[0m - \u001b[1madd time\u001b[0m\n",
      "\u001b[32m2025-08-04 12:06:04.315\u001b[0m | \u001b[1mINFO    \u001b[0m | \u001b[36mvrp_study.pdptw_model.routing_model\u001b[0m:\u001b[36madd_mass_constraint\u001b[0m:\u001b[36m177\u001b[0m - \u001b[1mДобавление ограничений для массы\u001b[0m\n",
      "\u001b[32m2025-08-04 12:06:04.318\u001b[0m | \u001b[1mINFO    \u001b[0m | \u001b[36mvrp_study.pdptw_model.routing_model\u001b[0m:\u001b[36mdo_solve\u001b[0m:\u001b[36m407\u001b[0m - \u001b[1mНачало решения\u001b[0m\n",
      "\u001b[32m2025-08-04 12:06:04.322\u001b[0m | \u001b[34m\u001b[1mDEBUG   \u001b[0m | \u001b[36mvrp_study.pdptw_model.routing_model\u001b[0m:\u001b[36m__call__\u001b[0m:\u001b[36m40\u001b[0m - \u001b[34m\u001b[1mtime: 0.006; new solution (1): 1; best solution: 1\u001b[0m\n",
      "\u001b[32m2025-08-04 12:06:04.326\u001b[0m | \u001b[1mINFO    \u001b[0m | \u001b[36mvrp_study.pdptw_model.routing_model\u001b[0m:\u001b[36mdo_solve\u001b[0m:\u001b[36m423\u001b[0m - \u001b[1mfind solution\u001b[0m\n",
      "\u001b[32m2025-08-04 12:06:04.327\u001b[0m | \u001b[1mINFO    \u001b[0m | \u001b[36mvrp_study.pdptw_model.routing_model\u001b[0m:\u001b[36mfind_optimal_paths\u001b[0m:\u001b[36m451\u001b[0m - \u001b[1mbest_score: 1\u001b[0m\n",
      "\u001b[32m2025-08-04 12:06:04.327\u001b[0m | \u001b[1mINFO    \u001b[0m | \u001b[36mvrp_study.pdptw_model.routing_model\u001b[0m:\u001b[36mdo_solve\u001b[0m:\u001b[36m378\u001b[0m - \u001b[1mНачало создания модели\u001b[0m\n",
      "\u001b[32m2025-08-04 12:06:04.328\u001b[0m | \u001b[1mINFO    \u001b[0m | \u001b[36mvrp_study.pdptw_model.routing_model\u001b[0m:\u001b[36madd_distance_dimension\u001b[0m:\u001b[36m299\u001b[0m - \u001b[1mДобавление размерности для расстояния\u001b[0m\n",
      "\u001b[32m2025-08-04 12:06:04.329\u001b[0m | \u001b[1mINFO    \u001b[0m | \u001b[36mvrp_study.pdptw_model.routing_model\u001b[0m:\u001b[36madd_count_dimension\u001b[0m:\u001b[36m335\u001b[0m - \u001b[1mДобавление размерности для расстояния\u001b[0m\n",
      "\u001b[32m2025-08-04 12:06:04.329\u001b[0m | \u001b[1mINFO    \u001b[0m | \u001b[36mvrp_study.pdptw_model.routing_model\u001b[0m:\u001b[36madd_pick_up_and_delivery\u001b[0m:\u001b[36m269\u001b[0m - \u001b[1mДобавление ограничения для порядка доставки\u001b[0m\n",
      "\u001b[32m2025-08-04 12:06:04.330\u001b[0m | \u001b[1mINFO    \u001b[0m | \u001b[36mvrp_study.pdptw_model.routing_model\u001b[0m:\u001b[36madd_vehicles_cost\u001b[0m:\u001b[36m243\u001b[0m - \u001b[1mДобавление стоимостей машин\u001b[0m\n",
      "\u001b[32m2025-08-04 12:06:04.330\u001b[0m | \u001b[1mINFO    \u001b[0m | \u001b[36mvrp_study.pdptw_model.routing_model\u001b[0m:\u001b[36madd_time_window\u001b[0m:\u001b[36m194\u001b[0m - \u001b[1madd time\u001b[0m\n",
      "\u001b[32m2025-08-04 12:06:04.330\u001b[0m | \u001b[1mINFO    \u001b[0m | \u001b[36mvrp_study.pdptw_model.routing_model\u001b[0m:\u001b[36madd_mass_constraint\u001b[0m:\u001b[36m177\u001b[0m - \u001b[1mДобавление ограничений для массы\u001b[0m\n",
      "\u001b[32m2025-08-04 12:06:04.331\u001b[0m | \u001b[1mINFO    \u001b[0m | \u001b[36mvrp_study.pdptw_model.routing_model\u001b[0m:\u001b[36mdo_solve\u001b[0m:\u001b[36m407\u001b[0m - \u001b[1mНачало решения\u001b[0m\n",
      "\u001b[32m2025-08-04 12:06:04.333\u001b[0m | \u001b[1mINFO    \u001b[0m | \u001b[36mvrp_study.pdptw_model.routing_model\u001b[0m:\u001b[36mdo_solve\u001b[0m:\u001b[36m410\u001b[0m - \u001b[1muse initial_solution: 1\u001b[0m\n",
      "\u001b[32m2025-08-04 12:06:04.333\u001b[0m | \u001b[34m\u001b[1mDEBUG   \u001b[0m | \u001b[36mvrp_study.pdptw_model.routing_model\u001b[0m:\u001b[36m__call__\u001b[0m:\u001b[36m40\u001b[0m - \u001b[34m\u001b[1mtime: 0.002; new solution (1): 20277; best solution: 20277\u001b[0m\n",
      "\u001b[32m2025-08-04 12:06:04.334\u001b[0m | \u001b[34m\u001b[1mDEBUG   \u001b[0m | \u001b[36mvrp_study.pdptw_model.routing_model\u001b[0m:\u001b[36m__call__\u001b[0m:\u001b[36m40\u001b[0m - \u001b[34m\u001b[1mtime: 0.003; new solution (2): 20277; best solution: 20277\u001b[0m\n",
      "\u001b[32m2025-08-04 12:06:04.335\u001b[0m | \u001b[34m\u001b[1mDEBUG   \u001b[0m | \u001b[36mvrp_study.pdptw_model.routing_model\u001b[0m:\u001b[36m__call__\u001b[0m:\u001b[36m40\u001b[0m - \u001b[34m\u001b[1mtime: 0.004; new solution (3): 19649; best solution: 19649\u001b[0m\n",
      "\u001b[32m2025-08-04 12:06:04.337\u001b[0m | \u001b[1mINFO    \u001b[0m | \u001b[36mvrp_study.pdptw_model.routing_model\u001b[0m:\u001b[36mdo_solve\u001b[0m:\u001b[36m423\u001b[0m - \u001b[1mfind solution\u001b[0m\n",
      "\u001b[32m2025-08-04 12:06:04.337\u001b[0m | \u001b[1mINFO    \u001b[0m | \u001b[36mvrp_study.pdptw_model.routing_model\u001b[0m:\u001b[36mfind_optimal_paths\u001b[0m:\u001b[36m464\u001b[0m - \u001b[1mbest_score: 196.49\u001b[0m\n",
      "\u001b[32m2025-08-04 12:06:04.338\u001b[0m | \u001b[1mINFO    \u001b[0m | \u001b[36msrc.vrp_study.pdptw_model.solution_builder\u001b[0m:\u001b[36mget_initial_solution\u001b[0m:\u001b[36m138\u001b[0m - \u001b[1m[[0, 1, 2, 3, 4, 0], [], [], [], [], [], [], [], [], [], [], [], [], [], [], [], [], [], [], [], [], [], [], [], [], [], [], [], [], [], [], [], [], [], [], [], [], [], [], [], [], [], [], [], [], [], [], [], [], [], [], [], [], [], [], [], [], [], [], [], [], [], [], [], [], [], [], []]\u001b[0m\n",
      "\u001b[32m2025-08-04 12:06:04.339\u001b[0m | \u001b[1mINFO    \u001b[0m | \u001b[36msrc.vrp_study.pdptw_model.solution_builder\u001b[0m:\u001b[36mget_initial_solution\u001b[0m:\u001b[36m118\u001b[0m - \u001b[1m(1, 32.074999999999996)\u001b[0m\n",
      "\u001b[32m2025-08-04 12:06:04.340\u001b[0m | \u001b[1mINFO    \u001b[0m | \u001b[36msrc.vrp_study.pdptw_model.solution_builder\u001b[0m:\u001b[36mget_initial_solution\u001b[0m:\u001b[36m118\u001b[0m - \u001b[1m(1, 16.0875)\u001b[0m\n",
      "\u001b[32m2025-08-04 12:06:04.340\u001b[0m | \u001b[1mINFO    \u001b[0m | \u001b[36msrc.vrp_study.pdptw_model.solution_builder\u001b[0m:\u001b[36mget_initial_solution\u001b[0m:\u001b[36m118\u001b[0m - \u001b[1m(1, 8.09375)\u001b[0m\n",
      "\u001b[32m2025-08-04 12:06:04.341\u001b[0m | \u001b[1mINFO    \u001b[0m | \u001b[36msrc.vrp_study.pdptw_model.solution_builder\u001b[0m:\u001b[36mget_initial_solution\u001b[0m:\u001b[36m118\u001b[0m - \u001b[1m(1, 4.096875)\u001b[0m\n",
      "\u001b[32m2025-08-04 12:06:04.342\u001b[0m | \u001b[1mINFO    \u001b[0m | \u001b[36msrc.vrp_study.pdptw_model.solution_builder\u001b[0m:\u001b[36mget_initial_solution\u001b[0m:\u001b[36m118\u001b[0m - \u001b[1m(1, 2.0984374999999997)\u001b[0m\n",
      "\u001b[32m2025-08-04 12:06:04.342\u001b[0m | \u001b[1mINFO    \u001b[0m | \u001b[36msrc.vrp_study.pdptw_model.solution_builder\u001b[0m:\u001b[36mget_initial_solution\u001b[0m:\u001b[36m118\u001b[0m - \u001b[1m(2, 1.09921875)\u001b[0m\n",
      "\u001b[32m2025-08-04 12:06:04.342\u001b[0m | \u001b[1mINFO    \u001b[0m | \u001b[36msrc.vrp_study.pdptw_model.solution_builder\u001b[0m:\u001b[36mget_initial_solution\u001b[0m:\u001b[36m118\u001b[0m - \u001b[1m(3, 0.599609375)\u001b[0m\n",
      "\u001b[32m2025-08-04 12:06:04.343\u001b[0m | \u001b[1mINFO    \u001b[0m | \u001b[36msrc.vrp_study.pdptw_model.solution_builder\u001b[0m:\u001b[36mget_initial_solution\u001b[0m:\u001b[36m118\u001b[0m - \u001b[1m(5, 0.3498046875)\u001b[0m\n",
      "\u001b[32m2025-08-04 12:06:04.343\u001b[0m | \u001b[1mINFO    \u001b[0m | \u001b[36msrc.vrp_study.pdptw_model.solution_builder\u001b[0m:\u001b[36mget_initial_solution\u001b[0m:\u001b[36m118\u001b[0m - \u001b[1m(6, 0.22490234375)\u001b[0m\n",
      "\u001b[32m2025-08-04 12:06:04.344\u001b[0m | \u001b[1mINFO    \u001b[0m | \u001b[36msrc.vrp_study.pdptw_model.solution_builder\u001b[0m:\u001b[36mget_initial_solution\u001b[0m:\u001b[36m118\u001b[0m - \u001b[1m(6, 0.16245117187500002)\u001b[0m\n"
     ]
    },
    {
     "data": {
      "application/vnd.jupyter.widget-view+json": {
       "model_id": "cb175ca2e4884338bc2bccfebdab1c13",
       "version_major": 2,
       "version_minor": 0
      },
      "text/plain": [
       "  0%|          | 0/1 [00:00<?, ?it/s]"
      ]
     },
     "metadata": {},
     "output_type": "display_data"
    },
    {
     "name": "stderr",
     "output_type": "stream",
     "text": [
      "\u001b[32m2025-08-04 12:06:04.349\u001b[0m | \u001b[1mINFO    \u001b[0m | \u001b[36mvrp_study.pdptw_model.routing_model\u001b[0m:\u001b[36mfind_optimal_paths\u001b[0m:\u001b[36m443\u001b[0m - \u001b[1mproblem size: 13\u001b[0m\n",
      "\u001b[32m2025-08-04 12:06:04.349\u001b[0m | \u001b[1mINFO    \u001b[0m | \u001b[36mvrp_study.pdptw_model.routing_model\u001b[0m:\u001b[36mdo_solve\u001b[0m:\u001b[36m378\u001b[0m - \u001b[1mНачало создания модели\u001b[0m\n",
      "\u001b[32m2025-08-04 12:06:04.350\u001b[0m | \u001b[1mINFO    \u001b[0m | \u001b[36mvrp_study.pdptw_model.routing_model\u001b[0m:\u001b[36madd_distance_dimension\u001b[0m:\u001b[36m299\u001b[0m - \u001b[1mДобавление размерности для расстояния\u001b[0m\n",
      "\u001b[32m2025-08-04 12:06:04.350\u001b[0m | \u001b[1mINFO    \u001b[0m | \u001b[36mvrp_study.pdptw_model.routing_model\u001b[0m:\u001b[36madd_count_dimension\u001b[0m:\u001b[36m335\u001b[0m - \u001b[1mДобавление размерности для расстояния\u001b[0m\n",
      "\u001b[32m2025-08-04 12:06:04.352\u001b[0m | \u001b[1mINFO    \u001b[0m | \u001b[36mvrp_study.pdptw_model.routing_model\u001b[0m:\u001b[36madd_pick_up_and_delivery\u001b[0m:\u001b[36m269\u001b[0m - \u001b[1mДобавление ограничения для порядка доставки\u001b[0m\n",
      "\u001b[32m2025-08-04 12:06:04.353\u001b[0m | \u001b[1mINFO    \u001b[0m | \u001b[36mvrp_study.pdptw_model.routing_model\u001b[0m:\u001b[36madd_time_window\u001b[0m:\u001b[36m194\u001b[0m - \u001b[1madd time\u001b[0m\n",
      "\u001b[32m2025-08-04 12:06:04.353\u001b[0m | \u001b[1mINFO    \u001b[0m | \u001b[36mvrp_study.pdptw_model.routing_model\u001b[0m:\u001b[36madd_mass_constraint\u001b[0m:\u001b[36m177\u001b[0m - \u001b[1mДобавление ограничений для массы\u001b[0m\n",
      "\u001b[32m2025-08-04 12:06:04.357\u001b[0m | \u001b[1mINFO    \u001b[0m | \u001b[36mvrp_study.pdptw_model.routing_model\u001b[0m:\u001b[36mdo_solve\u001b[0m:\u001b[36m407\u001b[0m - \u001b[1mНачало решения\u001b[0m\n",
      "\u001b[32m2025-08-04 12:06:04.362\u001b[0m | \u001b[34m\u001b[1mDEBUG   \u001b[0m | \u001b[36mvrp_study.pdptw_model.routing_model\u001b[0m:\u001b[36m__call__\u001b[0m:\u001b[36m40\u001b[0m - \u001b[34m\u001b[1mtime: 0.008; new solution (1): 1; best solution: 1\u001b[0m\n",
      "\u001b[32m2025-08-04 12:06:04.378\u001b[0m | \u001b[1mINFO    \u001b[0m | \u001b[36mvrp_study.pdptw_model.routing_model\u001b[0m:\u001b[36mdo_solve\u001b[0m:\u001b[36m423\u001b[0m - \u001b[1mfind solution\u001b[0m\n",
      "\u001b[32m2025-08-04 12:06:04.378\u001b[0m | \u001b[1mINFO    \u001b[0m | \u001b[36mvrp_study.pdptw_model.routing_model\u001b[0m:\u001b[36mfind_optimal_paths\u001b[0m:\u001b[36m451\u001b[0m - \u001b[1mbest_score: 1\u001b[0m\n",
      "\u001b[32m2025-08-04 12:06:04.379\u001b[0m | \u001b[1mINFO    \u001b[0m | \u001b[36mvrp_study.pdptw_model.routing_model\u001b[0m:\u001b[36mdo_solve\u001b[0m:\u001b[36m378\u001b[0m - \u001b[1mНачало создания модели\u001b[0m\n",
      "\u001b[32m2025-08-04 12:06:04.380\u001b[0m | \u001b[1mINFO    \u001b[0m | \u001b[36mvrp_study.pdptw_model.routing_model\u001b[0m:\u001b[36madd_distance_dimension\u001b[0m:\u001b[36m299\u001b[0m - \u001b[1mДобавление размерности для расстояния\u001b[0m\n",
      "\u001b[32m2025-08-04 12:06:04.380\u001b[0m | \u001b[1mINFO    \u001b[0m | \u001b[36mvrp_study.pdptw_model.routing_model\u001b[0m:\u001b[36madd_count_dimension\u001b[0m:\u001b[36m335\u001b[0m - \u001b[1mДобавление размерности для расстояния\u001b[0m\n",
      "\u001b[32m2025-08-04 12:06:04.381\u001b[0m | \u001b[1mINFO    \u001b[0m | \u001b[36mvrp_study.pdptw_model.routing_model\u001b[0m:\u001b[36madd_pick_up_and_delivery\u001b[0m:\u001b[36m269\u001b[0m - \u001b[1mДобавление ограничения для порядка доставки\u001b[0m\n",
      "\u001b[32m2025-08-04 12:06:04.382\u001b[0m | \u001b[1mINFO    \u001b[0m | \u001b[36mvrp_study.pdptw_model.routing_model\u001b[0m:\u001b[36madd_vehicles_cost\u001b[0m:\u001b[36m243\u001b[0m - \u001b[1mДобавление стоимостей машин\u001b[0m\n",
      "\u001b[32m2025-08-04 12:06:04.382\u001b[0m | \u001b[1mINFO    \u001b[0m | \u001b[36mvrp_study.pdptw_model.routing_model\u001b[0m:\u001b[36madd_time_window\u001b[0m:\u001b[36m194\u001b[0m - \u001b[1madd time\u001b[0m\n",
      "\u001b[32m2025-08-04 12:06:04.383\u001b[0m | \u001b[1mINFO    \u001b[0m | \u001b[36mvrp_study.pdptw_model.routing_model\u001b[0m:\u001b[36madd_mass_constraint\u001b[0m:\u001b[36m177\u001b[0m - \u001b[1mДобавление ограничений для массы\u001b[0m\n",
      "\u001b[32m2025-08-04 12:06:04.384\u001b[0m | \u001b[1mINFO    \u001b[0m | \u001b[36mvrp_study.pdptw_model.routing_model\u001b[0m:\u001b[36mdo_solve\u001b[0m:\u001b[36m407\u001b[0m - \u001b[1mНачало решения\u001b[0m\n",
      "\u001b[32m2025-08-04 12:06:04.384\u001b[0m | \u001b[1mINFO    \u001b[0m | \u001b[36mvrp_study.pdptw_model.routing_model\u001b[0m:\u001b[36mdo_solve\u001b[0m:\u001b[36m410\u001b[0m - \u001b[1muse initial_solution: 1\u001b[0m\n",
      "\u001b[32m2025-08-04 12:06:04.385\u001b[0m | \u001b[34m\u001b[1mDEBUG   \u001b[0m | \u001b[36mvrp_study.pdptw_model.routing_model\u001b[0m:\u001b[36m__call__\u001b[0m:\u001b[36m40\u001b[0m - \u001b[34m\u001b[1mtime: 0.002; new solution (1): 25079; best solution: 25079\u001b[0m\n",
      "\u001b[32m2025-08-04 12:06:04.386\u001b[0m | \u001b[34m\u001b[1mDEBUG   \u001b[0m | \u001b[36mvrp_study.pdptw_model.routing_model\u001b[0m:\u001b[36m__call__\u001b[0m:\u001b[36m40\u001b[0m - \u001b[34m\u001b[1mtime: 0.003; new solution (2): 25079; best solution: 25079\u001b[0m\n",
      "\u001b[32m2025-08-04 12:06:04.387\u001b[0m | \u001b[34m\u001b[1mDEBUG   \u001b[0m | \u001b[36mvrp_study.pdptw_model.routing_model\u001b[0m:\u001b[36m__call__\u001b[0m:\u001b[36m40\u001b[0m - \u001b[34m\u001b[1mtime: 0.004; new solution (3): 24956; best solution: 24956\u001b[0m\n",
      "\u001b[32m2025-08-04 12:06:04.388\u001b[0m | \u001b[34m\u001b[1mDEBUG   \u001b[0m | \u001b[36mvrp_study.pdptw_model.routing_model\u001b[0m:\u001b[36m__call__\u001b[0m:\u001b[36m40\u001b[0m - \u001b[34m\u001b[1mtime: 0.005; new solution (4): 24728; best solution: 24728\u001b[0m\n",
      "\u001b[32m2025-08-04 12:06:04.397\u001b[0m | \u001b[1mINFO    \u001b[0m | \u001b[36mvrp_study.pdptw_model.routing_model\u001b[0m:\u001b[36mdo_solve\u001b[0m:\u001b[36m423\u001b[0m - \u001b[1mfind solution\u001b[0m\n",
      "\u001b[32m2025-08-04 12:06:04.398\u001b[0m | \u001b[1mINFO    \u001b[0m | \u001b[36mvrp_study.pdptw_model.routing_model\u001b[0m:\u001b[36mfind_optimal_paths\u001b[0m:\u001b[36m464\u001b[0m - \u001b[1mbest_score: 247.28\u001b[0m\n",
      "\u001b[32m2025-08-04 12:06:04.398\u001b[0m | \u001b[1mINFO    \u001b[0m | \u001b[36msrc.vrp_study.pdptw_model.solution_builder\u001b[0m:\u001b[36mget_initial_solution\u001b[0m:\u001b[36m138\u001b[0m - \u001b[1m[[0, 1, 9, 11, 2, 10, 3, 4, 7, 5, 8, 12, 6, 0], [], [], [], [], [], [], [], [], [], [], [], [], [], [], [], [], [], [], [], [], [], [], [], [], [], [], [], [], [], [], [], [], [], [], [], [], [], [], [], [], [], [], [], [], [], [], [], [], [], [], [], [], [], [], [], [], [], [], [], [], [], [], [], [], [], []]\u001b[0m\n",
      "\u001b[32m2025-08-04 12:06:04.399\u001b[0m | \u001b[1mINFO    \u001b[0m | \u001b[36msrc.vrp_study.pdptw_model.solution_builder\u001b[0m:\u001b[36mget_initial_solution\u001b[0m:\u001b[36m118\u001b[0m - \u001b[1m(1, 32.074999999999996)\u001b[0m\n",
      "\u001b[32m2025-08-04 12:06:04.400\u001b[0m | \u001b[1mINFO    \u001b[0m | \u001b[36msrc.vrp_study.pdptw_model.solution_builder\u001b[0m:\u001b[36mget_initial_solution\u001b[0m:\u001b[36m118\u001b[0m - \u001b[1m(1, 16.0875)\u001b[0m\n",
      "\u001b[32m2025-08-04 12:06:04.400\u001b[0m | \u001b[1mINFO    \u001b[0m | \u001b[36msrc.vrp_study.pdptw_model.solution_builder\u001b[0m:\u001b[36mget_initial_solution\u001b[0m:\u001b[36m118\u001b[0m - \u001b[1m(1, 8.09375)\u001b[0m\n",
      "\u001b[32m2025-08-04 12:06:04.401\u001b[0m | \u001b[1mINFO    \u001b[0m | \u001b[36msrc.vrp_study.pdptw_model.solution_builder\u001b[0m:\u001b[36mget_initial_solution\u001b[0m:\u001b[36m118\u001b[0m - \u001b[1m(1, 4.096875)\u001b[0m\n",
      "\u001b[32m2025-08-04 12:06:04.401\u001b[0m | \u001b[1mINFO    \u001b[0m | \u001b[36msrc.vrp_study.pdptw_model.solution_builder\u001b[0m:\u001b[36mget_initial_solution\u001b[0m:\u001b[36m118\u001b[0m - \u001b[1m(1, 2.0984374999999997)\u001b[0m\n",
      "\u001b[32m2025-08-04 12:06:04.402\u001b[0m | \u001b[1mINFO    \u001b[0m | \u001b[36msrc.vrp_study.pdptw_model.solution_builder\u001b[0m:\u001b[36mget_initial_solution\u001b[0m:\u001b[36m118\u001b[0m - \u001b[1m(2, 1.09921875)\u001b[0m\n",
      "\u001b[32m2025-08-04 12:06:04.402\u001b[0m | \u001b[1mINFO    \u001b[0m | \u001b[36msrc.vrp_study.pdptw_model.solution_builder\u001b[0m:\u001b[36mget_initial_solution\u001b[0m:\u001b[36m118\u001b[0m - \u001b[1m(5, 0.599609375)\u001b[0m\n",
      "\u001b[32m2025-08-04 12:06:04.404\u001b[0m | \u001b[1mINFO    \u001b[0m | \u001b[36msrc.vrp_study.pdptw_model.solution_builder\u001b[0m:\u001b[36mget_initial_solution\u001b[0m:\u001b[36m118\u001b[0m - \u001b[1m(5, 0.3498046875)\u001b[0m\n",
      "\u001b[32m2025-08-04 12:06:04.404\u001b[0m | \u001b[1mINFO    \u001b[0m | \u001b[36msrc.vrp_study.pdptw_model.solution_builder\u001b[0m:\u001b[36mget_initial_solution\u001b[0m:\u001b[36m118\u001b[0m - \u001b[1m(5, 0.22490234375)\u001b[0m\n",
      "\u001b[32m2025-08-04 12:06:04.405\u001b[0m | \u001b[1mINFO    \u001b[0m | \u001b[36msrc.vrp_study.pdptw_model.solution_builder\u001b[0m:\u001b[36mget_initial_solution\u001b[0m:\u001b[36m118\u001b[0m - \u001b[1m(5, 0.16245117187500002)\u001b[0m\n"
     ]
    },
    {
     "data": {
      "application/vnd.jupyter.widget-view+json": {
       "model_id": "655a4ecc3807438fae07e9d81ac6ea5b",
       "version_major": 2,
       "version_minor": 0
      },
      "text/plain": [
       "  0%|          | 0/1 [00:00<?, ?it/s]"
      ]
     },
     "metadata": {},
     "output_type": "display_data"
    },
    {
     "name": "stderr",
     "output_type": "stream",
     "text": [
      "\u001b[32m2025-08-04 12:06:04.410\u001b[0m | \u001b[1mINFO    \u001b[0m | \u001b[36mvrp_study.pdptw_model.routing_model\u001b[0m:\u001b[36mfind_optimal_paths\u001b[0m:\u001b[36m443\u001b[0m - \u001b[1mproblem size: 11\u001b[0m\n",
      "\u001b[32m2025-08-04 12:06:04.410\u001b[0m | \u001b[1mINFO    \u001b[0m | \u001b[36mvrp_study.pdptw_model.routing_model\u001b[0m:\u001b[36mdo_solve\u001b[0m:\u001b[36m378\u001b[0m - \u001b[1mНачало создания модели\u001b[0m\n",
      "\u001b[32m2025-08-04 12:06:04.412\u001b[0m | \u001b[1mINFO    \u001b[0m | \u001b[36mvrp_study.pdptw_model.routing_model\u001b[0m:\u001b[36madd_distance_dimension\u001b[0m:\u001b[36m299\u001b[0m - \u001b[1mДобавление размерности для расстояния\u001b[0m\n",
      "\u001b[32m2025-08-04 12:06:04.412\u001b[0m | \u001b[1mINFO    \u001b[0m | \u001b[36mvrp_study.pdptw_model.routing_model\u001b[0m:\u001b[36madd_count_dimension\u001b[0m:\u001b[36m335\u001b[0m - \u001b[1mДобавление размерности для расстояния\u001b[0m\n",
      "\u001b[32m2025-08-04 12:06:04.413\u001b[0m | \u001b[1mINFO    \u001b[0m | \u001b[36mvrp_study.pdptw_model.routing_model\u001b[0m:\u001b[36madd_pick_up_and_delivery\u001b[0m:\u001b[36m269\u001b[0m - \u001b[1mДобавление ограничения для порядка доставки\u001b[0m\n",
      "\u001b[32m2025-08-04 12:06:04.414\u001b[0m | \u001b[1mINFO    \u001b[0m | \u001b[36mvrp_study.pdptw_model.routing_model\u001b[0m:\u001b[36madd_time_window\u001b[0m:\u001b[36m194\u001b[0m - \u001b[1madd time\u001b[0m\n",
      "\u001b[32m2025-08-04 12:06:04.414\u001b[0m | \u001b[1mINFO    \u001b[0m | \u001b[36mvrp_study.pdptw_model.routing_model\u001b[0m:\u001b[36madd_mass_constraint\u001b[0m:\u001b[36m177\u001b[0m - \u001b[1mДобавление ограничений для массы\u001b[0m\n",
      "\u001b[32m2025-08-04 12:06:04.418\u001b[0m | \u001b[1mINFO    \u001b[0m | \u001b[36mvrp_study.pdptw_model.routing_model\u001b[0m:\u001b[36mdo_solve\u001b[0m:\u001b[36m407\u001b[0m - \u001b[1mНачало решения\u001b[0m\n",
      "\u001b[32m2025-08-04 12:06:04.422\u001b[0m | \u001b[34m\u001b[1mDEBUG   \u001b[0m | \u001b[36mvrp_study.pdptw_model.routing_model\u001b[0m:\u001b[36m__call__\u001b[0m:\u001b[36m40\u001b[0m - \u001b[34m\u001b[1mtime: 0.007; new solution (1): 1; best solution: 1\u001b[0m\n",
      "\u001b[32m2025-08-04 12:06:04.436\u001b[0m | \u001b[1mINFO    \u001b[0m | \u001b[36mvrp_study.pdptw_model.routing_model\u001b[0m:\u001b[36mdo_solve\u001b[0m:\u001b[36m423\u001b[0m - \u001b[1mfind solution\u001b[0m\n",
      "\u001b[32m2025-08-04 12:06:04.438\u001b[0m | \u001b[1mINFO    \u001b[0m | \u001b[36mvrp_study.pdptw_model.routing_model\u001b[0m:\u001b[36mfind_optimal_paths\u001b[0m:\u001b[36m451\u001b[0m - \u001b[1mbest_score: 1\u001b[0m\n",
      "\u001b[32m2025-08-04 12:06:04.438\u001b[0m | \u001b[1mINFO    \u001b[0m | \u001b[36mvrp_study.pdptw_model.routing_model\u001b[0m:\u001b[36mdo_solve\u001b[0m:\u001b[36m378\u001b[0m - \u001b[1mНачало создания модели\u001b[0m\n",
      "\u001b[32m2025-08-04 12:06:04.439\u001b[0m | \u001b[1mINFO    \u001b[0m | \u001b[36mvrp_study.pdptw_model.routing_model\u001b[0m:\u001b[36madd_distance_dimension\u001b[0m:\u001b[36m299\u001b[0m - \u001b[1mДобавление размерности для расстояния\u001b[0m\n",
      "\u001b[32m2025-08-04 12:06:04.440\u001b[0m | \u001b[1mINFO    \u001b[0m | \u001b[36mvrp_study.pdptw_model.routing_model\u001b[0m:\u001b[36madd_count_dimension\u001b[0m:\u001b[36m335\u001b[0m - \u001b[1mДобавление размерности для расстояния\u001b[0m\n",
      "\u001b[32m2025-08-04 12:06:04.440\u001b[0m | \u001b[1mINFO    \u001b[0m | \u001b[36mvrp_study.pdptw_model.routing_model\u001b[0m:\u001b[36madd_pick_up_and_delivery\u001b[0m:\u001b[36m269\u001b[0m - \u001b[1mДобавление ограничения для порядка доставки\u001b[0m\n",
      "\u001b[32m2025-08-04 12:06:04.441\u001b[0m | \u001b[1mINFO    \u001b[0m | \u001b[36mvrp_study.pdptw_model.routing_model\u001b[0m:\u001b[36madd_vehicles_cost\u001b[0m:\u001b[36m243\u001b[0m - \u001b[1mДобавление стоимостей машин\u001b[0m\n",
      "\u001b[32m2025-08-04 12:06:04.442\u001b[0m | \u001b[1mINFO    \u001b[0m | \u001b[36mvrp_study.pdptw_model.routing_model\u001b[0m:\u001b[36madd_time_window\u001b[0m:\u001b[36m194\u001b[0m - \u001b[1madd time\u001b[0m\n",
      "\u001b[32m2025-08-04 12:06:04.443\u001b[0m | \u001b[1mINFO    \u001b[0m | \u001b[36mvrp_study.pdptw_model.routing_model\u001b[0m:\u001b[36madd_mass_constraint\u001b[0m:\u001b[36m177\u001b[0m - \u001b[1mДобавление ограничений для массы\u001b[0m\n",
      "\u001b[32m2025-08-04 12:06:04.444\u001b[0m | \u001b[1mINFO    \u001b[0m | \u001b[36mvrp_study.pdptw_model.routing_model\u001b[0m:\u001b[36mdo_solve\u001b[0m:\u001b[36m407\u001b[0m - \u001b[1mНачало решения\u001b[0m\n",
      "\u001b[32m2025-08-04 12:06:04.445\u001b[0m | \u001b[1mINFO    \u001b[0m | \u001b[36mvrp_study.pdptw_model.routing_model\u001b[0m:\u001b[36mdo_solve\u001b[0m:\u001b[36m410\u001b[0m - \u001b[1muse initial_solution: 1\u001b[0m\n",
      "\u001b[32m2025-08-04 12:06:04.445\u001b[0m | \u001b[34m\u001b[1mDEBUG   \u001b[0m | \u001b[36mvrp_study.pdptw_model.routing_model\u001b[0m:\u001b[36m__call__\u001b[0m:\u001b[36m40\u001b[0m - \u001b[34m\u001b[1mtime: 0.002; new solution (1): 20362; best solution: 20362\u001b[0m\n",
      "\u001b[32m2025-08-04 12:06:04.446\u001b[0m | \u001b[34m\u001b[1mDEBUG   \u001b[0m | \u001b[36mvrp_study.pdptw_model.routing_model\u001b[0m:\u001b[36m__call__\u001b[0m:\u001b[36m40\u001b[0m - \u001b[34m\u001b[1mtime: 0.003; new solution (2): 20362; best solution: 20362\u001b[0m\n",
      "\u001b[32m2025-08-04 12:06:04.454\u001b[0m | \u001b[1mINFO    \u001b[0m | \u001b[36mvrp_study.pdptw_model.routing_model\u001b[0m:\u001b[36mdo_solve\u001b[0m:\u001b[36m423\u001b[0m - \u001b[1mfind solution\u001b[0m\n",
      "\u001b[32m2025-08-04 12:06:04.455\u001b[0m | \u001b[1mINFO    \u001b[0m | \u001b[36mvrp_study.pdptw_model.routing_model\u001b[0m:\u001b[36mfind_optimal_paths\u001b[0m:\u001b[36m464\u001b[0m - \u001b[1mbest_score: 203.62\u001b[0m\n",
      "\u001b[32m2025-08-04 12:06:04.456\u001b[0m | \u001b[1mINFO    \u001b[0m | \u001b[36msrc.vrp_study.pdptw_model.solution_builder\u001b[0m:\u001b[36mget_initial_solution\u001b[0m:\u001b[36m138\u001b[0m - \u001b[1m[[0, 5, 3, 7, 6, 9, 8, 1, 4, 10, 2, 0], [], [], [], [], [], [], [], [], [], [], [], [], [], [], [], [], [], [], [], [], [], [], [], [], [], [], [], [], [], [], [], [], [], [], [], [], [], [], [], [], [], [], [], [], [], [], [], [], [], [], [], [], [], [], [], [], [], [], [], [], [], [], [], [], []]\u001b[0m\n"
     ]
    },
    {
     "data": {
      "application/vnd.jupyter.widget-view+json": {
       "model_id": "68e008fea9be4493a7a3ffde47cce8a8",
       "version_major": 2,
       "version_minor": 0
      },
      "text/plain": [
       "  0%|          | 0/1 [00:00<?, ?it/s]"
      ]
     },
     "metadata": {},
     "output_type": "display_data"
    },
    {
     "name": "stderr",
     "output_type": "stream",
     "text": [
      "\u001b[32m2025-08-04 12:06:04.464\u001b[0m | \u001b[1mINFO    \u001b[0m | \u001b[36mvrp_study.pdptw_model.routing_model\u001b[0m:\u001b[36mfind_optimal_paths\u001b[0m:\u001b[36m443\u001b[0m - \u001b[1mproblem size: 3\u001b[0m\n",
      "\u001b[32m2025-08-04 12:06:04.465\u001b[0m | \u001b[1mINFO    \u001b[0m | \u001b[36mvrp_study.pdptw_model.routing_model\u001b[0m:\u001b[36mdo_solve\u001b[0m:\u001b[36m378\u001b[0m - \u001b[1mНачало создания модели\u001b[0m\n",
      "\u001b[32m2025-08-04 12:06:04.467\u001b[0m | \u001b[1mINFO    \u001b[0m | \u001b[36mvrp_study.pdptw_model.routing_model\u001b[0m:\u001b[36madd_distance_dimension\u001b[0m:\u001b[36m299\u001b[0m - \u001b[1mДобавление размерности для расстояния\u001b[0m\n",
      "\u001b[32m2025-08-04 12:06:04.468\u001b[0m | \u001b[1mINFO    \u001b[0m | \u001b[36mvrp_study.pdptw_model.routing_model\u001b[0m:\u001b[36madd_count_dimension\u001b[0m:\u001b[36m335\u001b[0m - \u001b[1mДобавление размерности для расстояния\u001b[0m\n",
      "\u001b[32m2025-08-04 12:06:04.469\u001b[0m | \u001b[1mINFO    \u001b[0m | \u001b[36mvrp_study.pdptw_model.routing_model\u001b[0m:\u001b[36madd_pick_up_and_delivery\u001b[0m:\u001b[36m269\u001b[0m - \u001b[1mДобавление ограничения для порядка доставки\u001b[0m\n",
      "\u001b[32m2025-08-04 12:06:04.470\u001b[0m | \u001b[1mINFO    \u001b[0m | \u001b[36mvrp_study.pdptw_model.routing_model\u001b[0m:\u001b[36madd_time_window\u001b[0m:\u001b[36m194\u001b[0m - \u001b[1madd time\u001b[0m\n",
      "\u001b[32m2025-08-04 12:06:04.471\u001b[0m | \u001b[1mINFO    \u001b[0m | \u001b[36mvrp_study.pdptw_model.routing_model\u001b[0m:\u001b[36madd_mass_constraint\u001b[0m:\u001b[36m177\u001b[0m - \u001b[1mДобавление ограничений для массы\u001b[0m\n",
      "\u001b[32m2025-08-04 12:06:04.476\u001b[0m | \u001b[1mINFO    \u001b[0m | \u001b[36mvrp_study.pdptw_model.routing_model\u001b[0m:\u001b[36mdo_solve\u001b[0m:\u001b[36m407\u001b[0m - \u001b[1mНачало решения\u001b[0m\n",
      "\u001b[32m2025-08-04 12:06:04.479\u001b[0m | \u001b[34m\u001b[1mDEBUG   \u001b[0m | \u001b[36mvrp_study.pdptw_model.routing_model\u001b[0m:\u001b[36m__call__\u001b[0m:\u001b[36m40\u001b[0m - \u001b[34m\u001b[1mtime: 0.008; new solution (1): 1; best solution: 1\u001b[0m\n",
      "\u001b[32m2025-08-04 12:06:04.482\u001b[0m | \u001b[1mINFO    \u001b[0m | \u001b[36mvrp_study.pdptw_model.routing_model\u001b[0m:\u001b[36mdo_solve\u001b[0m:\u001b[36m423\u001b[0m - \u001b[1mfind solution\u001b[0m\n",
      "\u001b[32m2025-08-04 12:06:04.484\u001b[0m | \u001b[1mINFO    \u001b[0m | \u001b[36mvrp_study.pdptw_model.routing_model\u001b[0m:\u001b[36mfind_optimal_paths\u001b[0m:\u001b[36m451\u001b[0m - \u001b[1mbest_score: 1\u001b[0m\n",
      "\u001b[32m2025-08-04 12:06:04.485\u001b[0m | \u001b[1mINFO    \u001b[0m | \u001b[36mvrp_study.pdptw_model.routing_model\u001b[0m:\u001b[36mdo_solve\u001b[0m:\u001b[36m378\u001b[0m - \u001b[1mНачало создания модели\u001b[0m\n",
      "\u001b[32m2025-08-04 12:06:04.486\u001b[0m | \u001b[1mINFO    \u001b[0m | \u001b[36mvrp_study.pdptw_model.routing_model\u001b[0m:\u001b[36madd_distance_dimension\u001b[0m:\u001b[36m299\u001b[0m - \u001b[1mДобавление размерности для расстояния\u001b[0m\n",
      "\u001b[32m2025-08-04 12:06:04.487\u001b[0m | \u001b[1mINFO    \u001b[0m | \u001b[36mvrp_study.pdptw_model.routing_model\u001b[0m:\u001b[36madd_count_dimension\u001b[0m:\u001b[36m335\u001b[0m - \u001b[1mДобавление размерности для расстояния\u001b[0m\n",
      "\u001b[32m2025-08-04 12:06:04.488\u001b[0m | \u001b[1mINFO    \u001b[0m | \u001b[36mvrp_study.pdptw_model.routing_model\u001b[0m:\u001b[36madd_pick_up_and_delivery\u001b[0m:\u001b[36m269\u001b[0m - \u001b[1mДобавление ограничения для порядка доставки\u001b[0m\n",
      "\u001b[32m2025-08-04 12:06:04.488\u001b[0m | \u001b[1mINFO    \u001b[0m | \u001b[36mvrp_study.pdptw_model.routing_model\u001b[0m:\u001b[36madd_vehicles_cost\u001b[0m:\u001b[36m243\u001b[0m - \u001b[1mДобавление стоимостей машин\u001b[0m\n",
      "\u001b[32m2025-08-04 12:06:04.489\u001b[0m | \u001b[1mINFO    \u001b[0m | \u001b[36mvrp_study.pdptw_model.routing_model\u001b[0m:\u001b[36madd_time_window\u001b[0m:\u001b[36m194\u001b[0m - \u001b[1madd time\u001b[0m\n",
      "\u001b[32m2025-08-04 12:06:04.490\u001b[0m | \u001b[1mINFO    \u001b[0m | \u001b[36mvrp_study.pdptw_model.routing_model\u001b[0m:\u001b[36madd_mass_constraint\u001b[0m:\u001b[36m177\u001b[0m - \u001b[1mДобавление ограничений для массы\u001b[0m\n",
      "\u001b[32m2025-08-04 12:06:04.491\u001b[0m | \u001b[1mINFO    \u001b[0m | \u001b[36mvrp_study.pdptw_model.routing_model\u001b[0m:\u001b[36mdo_solve\u001b[0m:\u001b[36m407\u001b[0m - \u001b[1mНачало решения\u001b[0m\n",
      "\u001b[32m2025-08-04 12:06:04.492\u001b[0m | \u001b[1mINFO    \u001b[0m | \u001b[36mvrp_study.pdptw_model.routing_model\u001b[0m:\u001b[36mdo_solve\u001b[0m:\u001b[36m410\u001b[0m - \u001b[1muse initial_solution: 1\u001b[0m\n",
      "\u001b[32m2025-08-04 12:06:04.492\u001b[0m | \u001b[34m\u001b[1mDEBUG   \u001b[0m | \u001b[36mvrp_study.pdptw_model.routing_model\u001b[0m:\u001b[36m__call__\u001b[0m:\u001b[36m40\u001b[0m - \u001b[34m\u001b[1mtime: 0.001; new solution (1): 21076; best solution: 21076\u001b[0m\n",
      "\u001b[32m2025-08-04 12:06:04.493\u001b[0m | \u001b[34m\u001b[1mDEBUG   \u001b[0m | \u001b[36mvrp_study.pdptw_model.routing_model\u001b[0m:\u001b[36m__call__\u001b[0m:\u001b[36m40\u001b[0m - \u001b[34m\u001b[1mtime: 0.002; new solution (2): 21076; best solution: 21076\u001b[0m\n",
      "\u001b[32m2025-08-04 12:06:04.493\u001b[0m | \u001b[1mINFO    \u001b[0m | \u001b[36mvrp_study.pdptw_model.routing_model\u001b[0m:\u001b[36mdo_solve\u001b[0m:\u001b[36m423\u001b[0m - \u001b[1mfind solution\u001b[0m\n",
      "\u001b[32m2025-08-04 12:06:04.494\u001b[0m | \u001b[1mINFO    \u001b[0m | \u001b[36mvrp_study.pdptw_model.routing_model\u001b[0m:\u001b[36mfind_optimal_paths\u001b[0m:\u001b[36m464\u001b[0m - \u001b[1mbest_score: 210.76\u001b[0m\n",
      "\u001b[32m2025-08-04 12:06:04.495\u001b[0m | \u001b[1mINFO    \u001b[0m | \u001b[36msrc.vrp_study.pdptw_model.solution_builder\u001b[0m:\u001b[36mget_initial_solution\u001b[0m:\u001b[36m138\u001b[0m - \u001b[1m[[0, 1, 2, 0], [], [], [], [], [], [], [], [], [], [], [], [], [], [], [], [], [], [], [], [], [], [], [], [], [], [], [], [], [], [], [], [], [], [], [], [], [], [], [], [], [], [], [], [], [], [], [], [], [], [], [], [], [], [], [], [], [], [], [], [], [], [], [], []]\u001b[0m\n",
      "\u001b[32m2025-08-04 12:06:04.497\u001b[0m | \u001b[1mINFO    \u001b[0m | \u001b[36msrc.vrp_study.pdptw_model.solution_builder\u001b[0m:\u001b[36mget_initial_solution\u001b[0m:\u001b[36m118\u001b[0m - \u001b[1m(1, 32.074999999999996)\u001b[0m\n",
      "\u001b[32m2025-08-04 12:06:04.498\u001b[0m | \u001b[1mINFO    \u001b[0m | \u001b[36msrc.vrp_study.pdptw_model.solution_builder\u001b[0m:\u001b[36mget_initial_solution\u001b[0m:\u001b[36m118\u001b[0m - \u001b[1m(1, 16.0875)\u001b[0m\n",
      "\u001b[32m2025-08-04 12:06:04.499\u001b[0m | \u001b[1mINFO    \u001b[0m | \u001b[36msrc.vrp_study.pdptw_model.solution_builder\u001b[0m:\u001b[36mget_initial_solution\u001b[0m:\u001b[36m118\u001b[0m - \u001b[1m(1, 8.09375)\u001b[0m\n",
      "\u001b[32m2025-08-04 12:06:04.500\u001b[0m | \u001b[1mINFO    \u001b[0m | \u001b[36msrc.vrp_study.pdptw_model.solution_builder\u001b[0m:\u001b[36mget_initial_solution\u001b[0m:\u001b[36m118\u001b[0m - \u001b[1m(1, 4.096875)\u001b[0m\n",
      "\u001b[32m2025-08-04 12:06:04.501\u001b[0m | \u001b[1mINFO    \u001b[0m | \u001b[36msrc.vrp_study.pdptw_model.solution_builder\u001b[0m:\u001b[36mget_initial_solution\u001b[0m:\u001b[36m118\u001b[0m - \u001b[1m(1, 2.0984374999999997)\u001b[0m\n",
      "\u001b[32m2025-08-04 12:06:04.502\u001b[0m | \u001b[1mINFO    \u001b[0m | \u001b[36msrc.vrp_study.pdptw_model.solution_builder\u001b[0m:\u001b[36mget_initial_solution\u001b[0m:\u001b[36m118\u001b[0m - \u001b[1m(2, 1.09921875)\u001b[0m\n",
      "\u001b[32m2025-08-04 12:06:04.503\u001b[0m | \u001b[1mINFO    \u001b[0m | \u001b[36msrc.vrp_study.pdptw_model.solution_builder\u001b[0m:\u001b[36mget_initial_solution\u001b[0m:\u001b[36m118\u001b[0m - \u001b[1m(6, 0.599609375)\u001b[0m\n",
      "\u001b[32m2025-08-04 12:06:04.504\u001b[0m | \u001b[1mINFO    \u001b[0m | \u001b[36msrc.vrp_study.pdptw_model.solution_builder\u001b[0m:\u001b[36mget_initial_solution\u001b[0m:\u001b[36m118\u001b[0m - \u001b[1m(6, 0.3498046875)\u001b[0m\n",
      "\u001b[32m2025-08-04 12:06:04.505\u001b[0m | \u001b[1mINFO    \u001b[0m | \u001b[36msrc.vrp_study.pdptw_model.solution_builder\u001b[0m:\u001b[36mget_initial_solution\u001b[0m:\u001b[36m118\u001b[0m - \u001b[1m(6, 0.22490234375)\u001b[0m\n",
      "\u001b[32m2025-08-04 12:06:04.505\u001b[0m | \u001b[1mINFO    \u001b[0m | \u001b[36msrc.vrp_study.pdptw_model.solution_builder\u001b[0m:\u001b[36mget_initial_solution\u001b[0m:\u001b[36m118\u001b[0m - \u001b[1m(6, 0.16245117187500002)\u001b[0m\n"
     ]
    },
    {
     "data": {
      "application/vnd.jupyter.widget-view+json": {
       "model_id": "a24634a1dc5143b8a33da724bd3ffaf5",
       "version_major": 2,
       "version_minor": 0
      },
      "text/plain": [
       "  0%|          | 0/1 [00:00<?, ?it/s]"
      ]
     },
     "metadata": {},
     "output_type": "display_data"
    },
    {
     "name": "stderr",
     "output_type": "stream",
     "text": [
      "\u001b[32m2025-08-04 12:06:04.511\u001b[0m | \u001b[1mINFO    \u001b[0m | \u001b[36mvrp_study.pdptw_model.routing_model\u001b[0m:\u001b[36mfind_optimal_paths\u001b[0m:\u001b[36m443\u001b[0m - \u001b[1mproblem size: 13\u001b[0m\n",
      "\u001b[32m2025-08-04 12:06:04.512\u001b[0m | \u001b[1mINFO    \u001b[0m | \u001b[36mvrp_study.pdptw_model.routing_model\u001b[0m:\u001b[36mdo_solve\u001b[0m:\u001b[36m378\u001b[0m - \u001b[1mНачало создания модели\u001b[0m\n",
      "\u001b[32m2025-08-04 12:06:04.513\u001b[0m | \u001b[1mINFO    \u001b[0m | \u001b[36mvrp_study.pdptw_model.routing_model\u001b[0m:\u001b[36madd_distance_dimension\u001b[0m:\u001b[36m299\u001b[0m - \u001b[1mДобавление размерности для расстояния\u001b[0m\n",
      "\u001b[32m2025-08-04 12:06:04.514\u001b[0m | \u001b[1mINFO    \u001b[0m | \u001b[36mvrp_study.pdptw_model.routing_model\u001b[0m:\u001b[36madd_count_dimension\u001b[0m:\u001b[36m335\u001b[0m - \u001b[1mДобавление размерности для расстояния\u001b[0m\n",
      "\u001b[32m2025-08-04 12:06:04.516\u001b[0m | \u001b[1mINFO    \u001b[0m | \u001b[36mvrp_study.pdptw_model.routing_model\u001b[0m:\u001b[36madd_pick_up_and_delivery\u001b[0m:\u001b[36m269\u001b[0m - \u001b[1mДобавление ограничения для порядка доставки\u001b[0m\n",
      "\u001b[32m2025-08-04 12:06:04.516\u001b[0m | \u001b[1mINFO    \u001b[0m | \u001b[36mvrp_study.pdptw_model.routing_model\u001b[0m:\u001b[36madd_time_window\u001b[0m:\u001b[36m194\u001b[0m - \u001b[1madd time\u001b[0m\n",
      "\u001b[32m2025-08-04 12:06:04.517\u001b[0m | \u001b[1mINFO    \u001b[0m | \u001b[36mvrp_study.pdptw_model.routing_model\u001b[0m:\u001b[36madd_mass_constraint\u001b[0m:\u001b[36m177\u001b[0m - \u001b[1mДобавление ограничений для массы\u001b[0m\n",
      "\u001b[32m2025-08-04 12:06:04.520\u001b[0m | \u001b[1mINFO    \u001b[0m | \u001b[36mvrp_study.pdptw_model.routing_model\u001b[0m:\u001b[36mdo_solve\u001b[0m:\u001b[36m407\u001b[0m - \u001b[1mНачало решения\u001b[0m\n",
      "\u001b[32m2025-08-04 12:06:04.526\u001b[0m | \u001b[34m\u001b[1mDEBUG   \u001b[0m | \u001b[36mvrp_study.pdptw_model.routing_model\u001b[0m:\u001b[36m__call__\u001b[0m:\u001b[36m40\u001b[0m - \u001b[34m\u001b[1mtime: 0.008; new solution (1): 1; best solution: 1\u001b[0m\n",
      "\u001b[32m2025-08-04 12:06:04.542\u001b[0m | \u001b[1mINFO    \u001b[0m | \u001b[36mvrp_study.pdptw_model.routing_model\u001b[0m:\u001b[36mdo_solve\u001b[0m:\u001b[36m423\u001b[0m - \u001b[1mfind solution\u001b[0m\n",
      "\u001b[32m2025-08-04 12:06:04.543\u001b[0m | \u001b[1mINFO    \u001b[0m | \u001b[36mvrp_study.pdptw_model.routing_model\u001b[0m:\u001b[36mfind_optimal_paths\u001b[0m:\u001b[36m451\u001b[0m - \u001b[1mbest_score: 1\u001b[0m\n",
      "\u001b[32m2025-08-04 12:06:04.544\u001b[0m | \u001b[1mINFO    \u001b[0m | \u001b[36mvrp_study.pdptw_model.routing_model\u001b[0m:\u001b[36mdo_solve\u001b[0m:\u001b[36m378\u001b[0m - \u001b[1mНачало создания модели\u001b[0m\n",
      "\u001b[32m2025-08-04 12:06:04.545\u001b[0m | \u001b[1mINFO    \u001b[0m | \u001b[36mvrp_study.pdptw_model.routing_model\u001b[0m:\u001b[36madd_distance_dimension\u001b[0m:\u001b[36m299\u001b[0m - \u001b[1mДобавление размерности для расстояния\u001b[0m\n",
      "\u001b[32m2025-08-04 12:06:04.546\u001b[0m | \u001b[1mINFO    \u001b[0m | \u001b[36mvrp_study.pdptw_model.routing_model\u001b[0m:\u001b[36madd_count_dimension\u001b[0m:\u001b[36m335\u001b[0m - \u001b[1mДобавление размерности для расстояния\u001b[0m\n",
      "\u001b[32m2025-08-04 12:06:04.546\u001b[0m | \u001b[1mINFO    \u001b[0m | \u001b[36mvrp_study.pdptw_model.routing_model\u001b[0m:\u001b[36madd_pick_up_and_delivery\u001b[0m:\u001b[36m269\u001b[0m - \u001b[1mДобавление ограничения для порядка доставки\u001b[0m\n",
      "\u001b[32m2025-08-04 12:06:04.547\u001b[0m | \u001b[1mINFO    \u001b[0m | \u001b[36mvrp_study.pdptw_model.routing_model\u001b[0m:\u001b[36madd_vehicles_cost\u001b[0m:\u001b[36m243\u001b[0m - \u001b[1mДобавление стоимостей машин\u001b[0m\n",
      "\u001b[32m2025-08-04 12:06:04.548\u001b[0m | \u001b[1mINFO    \u001b[0m | \u001b[36mvrp_study.pdptw_model.routing_model\u001b[0m:\u001b[36madd_time_window\u001b[0m:\u001b[36m194\u001b[0m - \u001b[1madd time\u001b[0m\n",
      "\u001b[32m2025-08-04 12:06:04.550\u001b[0m | \u001b[1mINFO    \u001b[0m | \u001b[36mvrp_study.pdptw_model.routing_model\u001b[0m:\u001b[36madd_mass_constraint\u001b[0m:\u001b[36m177\u001b[0m - \u001b[1mДобавление ограничений для массы\u001b[0m\n",
      "\u001b[32m2025-08-04 12:06:04.551\u001b[0m | \u001b[1mINFO    \u001b[0m | \u001b[36mvrp_study.pdptw_model.routing_model\u001b[0m:\u001b[36mdo_solve\u001b[0m:\u001b[36m407\u001b[0m - \u001b[1mНачало решения\u001b[0m\n",
      "\u001b[32m2025-08-04 12:06:04.552\u001b[0m | \u001b[1mINFO    \u001b[0m | \u001b[36mvrp_study.pdptw_model.routing_model\u001b[0m:\u001b[36mdo_solve\u001b[0m:\u001b[36m410\u001b[0m - \u001b[1muse initial_solution: 1\u001b[0m\n",
      "\u001b[32m2025-08-04 12:06:04.553\u001b[0m | \u001b[34m\u001b[1mDEBUG   \u001b[0m | \u001b[36mvrp_study.pdptw_model.routing_model\u001b[0m:\u001b[36m__call__\u001b[0m:\u001b[36m40\u001b[0m - \u001b[34m\u001b[1mtime: 0.002; new solution (1): 20207; best solution: 20207\u001b[0m\n",
      "\u001b[32m2025-08-04 12:06:04.553\u001b[0m | \u001b[34m\u001b[1mDEBUG   \u001b[0m | \u001b[36mvrp_study.pdptw_model.routing_model\u001b[0m:\u001b[36m__call__\u001b[0m:\u001b[36m40\u001b[0m - \u001b[34m\u001b[1mtime: 0.002; new solution (2): 20207; best solution: 20207\u001b[0m\n",
      "\u001b[32m2025-08-04 12:06:04.564\u001b[0m | \u001b[1mINFO    \u001b[0m | \u001b[36mvrp_study.pdptw_model.routing_model\u001b[0m:\u001b[36mdo_solve\u001b[0m:\u001b[36m423\u001b[0m - \u001b[1mfind solution\u001b[0m\n",
      "\u001b[32m2025-08-04 12:06:04.565\u001b[0m | \u001b[1mINFO    \u001b[0m | \u001b[36mvrp_study.pdptw_model.routing_model\u001b[0m:\u001b[36mfind_optimal_paths\u001b[0m:\u001b[36m464\u001b[0m - \u001b[1mbest_score: 202.07\u001b[0m\n",
      "\u001b[32m2025-08-04 12:06:04.565\u001b[0m | \u001b[1mINFO    \u001b[0m | \u001b[36msrc.vrp_study.pdptw_model.solution_builder\u001b[0m:\u001b[36mget_initial_solution\u001b[0m:\u001b[36m138\u001b[0m - \u001b[1m[[0, 3, 11, 5, 7, 4, 8, 12, 1, 6, 2, 9, 10, 0], [], [], [], [], [], [], [], [], [], [], [], [], [], [], [], [], [], [], [], [], [], [], [], [], [], [], [], [], [], [], [], [], [], [], [], [], [], [], [], [], [], [], [], [], [], [], [], [], [], [], [], [], [], [], [], [], [], [], [], [], [], [], []]\u001b[0m\n",
      "\u001b[32m2025-08-04 12:06:04.566\u001b[0m | \u001b[1mINFO    \u001b[0m | \u001b[36msrc.vrp_study.pdptw_model.solution_builder\u001b[0m:\u001b[36mget_initial_solution\u001b[0m:\u001b[36m118\u001b[0m - \u001b[1m(1, 32.074999999999996)\u001b[0m\n",
      "\u001b[32m2025-08-04 12:06:04.567\u001b[0m | \u001b[1mINFO    \u001b[0m | \u001b[36msrc.vrp_study.pdptw_model.solution_builder\u001b[0m:\u001b[36mget_initial_solution\u001b[0m:\u001b[36m118\u001b[0m - \u001b[1m(1, 16.0875)\u001b[0m\n",
      "\u001b[32m2025-08-04 12:06:04.568\u001b[0m | \u001b[1mINFO    \u001b[0m | \u001b[36msrc.vrp_study.pdptw_model.solution_builder\u001b[0m:\u001b[36mget_initial_solution\u001b[0m:\u001b[36m118\u001b[0m - \u001b[1m(1, 8.09375)\u001b[0m\n",
      "\u001b[32m2025-08-04 12:06:04.569\u001b[0m | \u001b[1mINFO    \u001b[0m | \u001b[36msrc.vrp_study.pdptw_model.solution_builder\u001b[0m:\u001b[36mget_initial_solution\u001b[0m:\u001b[36m118\u001b[0m - \u001b[1m(1, 4.096875)\u001b[0m\n",
      "\u001b[32m2025-08-04 12:06:04.569\u001b[0m | \u001b[1mINFO    \u001b[0m | \u001b[36msrc.vrp_study.pdptw_model.solution_builder\u001b[0m:\u001b[36mget_initial_solution\u001b[0m:\u001b[36m118\u001b[0m - \u001b[1m(1, 2.0984374999999997)\u001b[0m\n",
      "\u001b[32m2025-08-04 12:06:04.570\u001b[0m | \u001b[1mINFO    \u001b[0m | \u001b[36msrc.vrp_study.pdptw_model.solution_builder\u001b[0m:\u001b[36mget_initial_solution\u001b[0m:\u001b[36m118\u001b[0m - \u001b[1m(2, 1.09921875)\u001b[0m\n",
      "\u001b[32m2025-08-04 12:06:04.570\u001b[0m | \u001b[1mINFO    \u001b[0m | \u001b[36msrc.vrp_study.pdptw_model.solution_builder\u001b[0m:\u001b[36mget_initial_solution\u001b[0m:\u001b[36m118\u001b[0m - \u001b[1m(4, 0.599609375)\u001b[0m\n",
      "\u001b[32m2025-08-04 12:06:04.571\u001b[0m | \u001b[1mINFO    \u001b[0m | \u001b[36msrc.vrp_study.pdptw_model.solution_builder\u001b[0m:\u001b[36mget_initial_solution\u001b[0m:\u001b[36m118\u001b[0m - \u001b[1m(6, 0.3498046875)\u001b[0m\n",
      "\u001b[32m2025-08-04 12:06:04.571\u001b[0m | \u001b[1mINFO    \u001b[0m | \u001b[36msrc.vrp_study.pdptw_model.solution_builder\u001b[0m:\u001b[36mget_initial_solution\u001b[0m:\u001b[36m118\u001b[0m - \u001b[1m(6, 0.22490234375)\u001b[0m\n",
      "\u001b[32m2025-08-04 12:06:04.571\u001b[0m | \u001b[1mINFO    \u001b[0m | \u001b[36msrc.vrp_study.pdptw_model.solution_builder\u001b[0m:\u001b[36mget_initial_solution\u001b[0m:\u001b[36m118\u001b[0m - \u001b[1m(6, 0.16245117187500002)\u001b[0m\n"
     ]
    },
    {
     "data": {
      "application/vnd.jupyter.widget-view+json": {
       "model_id": "0afc9ea10c0b497aaeae608edca157a3",
       "version_major": 2,
       "version_minor": 0
      },
      "text/plain": [
       "  0%|          | 0/1 [00:00<?, ?it/s]"
      ]
     },
     "metadata": {},
     "output_type": "display_data"
    },
    {
     "name": "stderr",
     "output_type": "stream",
     "text": [
      "\u001b[32m2025-08-04 12:06:04.577\u001b[0m | \u001b[1mINFO    \u001b[0m | \u001b[36mvrp_study.pdptw_model.routing_model\u001b[0m:\u001b[36mfind_optimal_paths\u001b[0m:\u001b[36m443\u001b[0m - \u001b[1mproblem size: 13\u001b[0m\n",
      "\u001b[32m2025-08-04 12:06:04.578\u001b[0m | \u001b[1mINFO    \u001b[0m | \u001b[36mvrp_study.pdptw_model.routing_model\u001b[0m:\u001b[36mdo_solve\u001b[0m:\u001b[36m378\u001b[0m - \u001b[1mНачало создания модели\u001b[0m\n",
      "\u001b[32m2025-08-04 12:06:04.580\u001b[0m | \u001b[1mINFO    \u001b[0m | \u001b[36mvrp_study.pdptw_model.routing_model\u001b[0m:\u001b[36madd_distance_dimension\u001b[0m:\u001b[36m299\u001b[0m - \u001b[1mДобавление размерности для расстояния\u001b[0m\n",
      "\u001b[32m2025-08-04 12:06:04.581\u001b[0m | \u001b[1mINFO    \u001b[0m | \u001b[36mvrp_study.pdptw_model.routing_model\u001b[0m:\u001b[36madd_count_dimension\u001b[0m:\u001b[36m335\u001b[0m - \u001b[1mДобавление размерности для расстояния\u001b[0m\n",
      "\u001b[32m2025-08-04 12:06:04.581\u001b[0m | \u001b[1mINFO    \u001b[0m | \u001b[36mvrp_study.pdptw_model.routing_model\u001b[0m:\u001b[36madd_pick_up_and_delivery\u001b[0m:\u001b[36m269\u001b[0m - \u001b[1mДобавление ограничения для порядка доставки\u001b[0m\n",
      "\u001b[32m2025-08-04 12:06:04.582\u001b[0m | \u001b[1mINFO    \u001b[0m | \u001b[36mvrp_study.pdptw_model.routing_model\u001b[0m:\u001b[36madd_time_window\u001b[0m:\u001b[36m194\u001b[0m - \u001b[1madd time\u001b[0m\n",
      "\u001b[32m2025-08-04 12:06:04.583\u001b[0m | \u001b[1mINFO    \u001b[0m | \u001b[36mvrp_study.pdptw_model.routing_model\u001b[0m:\u001b[36madd_mass_constraint\u001b[0m:\u001b[36m177\u001b[0m - \u001b[1mДобавление ограничений для массы\u001b[0m\n",
      "\u001b[32m2025-08-04 12:06:04.586\u001b[0m | \u001b[1mINFO    \u001b[0m | \u001b[36mvrp_study.pdptw_model.routing_model\u001b[0m:\u001b[36mdo_solve\u001b[0m:\u001b[36m407\u001b[0m - \u001b[1mНачало решения\u001b[0m\n",
      "\u001b[32m2025-08-04 12:06:04.591\u001b[0m | \u001b[34m\u001b[1mDEBUG   \u001b[0m | \u001b[36mvrp_study.pdptw_model.routing_model\u001b[0m:\u001b[36m__call__\u001b[0m:\u001b[36m40\u001b[0m - \u001b[34m\u001b[1mtime: 0.007; new solution (1): 1; best solution: 1\u001b[0m\n",
      "\u001b[32m2025-08-04 12:06:04.607\u001b[0m | \u001b[1mINFO    \u001b[0m | \u001b[36mvrp_study.pdptw_model.routing_model\u001b[0m:\u001b[36mdo_solve\u001b[0m:\u001b[36m423\u001b[0m - \u001b[1mfind solution\u001b[0m\n",
      "\u001b[32m2025-08-04 12:06:04.608\u001b[0m | \u001b[1mINFO    \u001b[0m | \u001b[36mvrp_study.pdptw_model.routing_model\u001b[0m:\u001b[36mfind_optimal_paths\u001b[0m:\u001b[36m451\u001b[0m - \u001b[1mbest_score: 1\u001b[0m\n",
      "\u001b[32m2025-08-04 12:06:04.608\u001b[0m | \u001b[1mINFO    \u001b[0m | \u001b[36mvrp_study.pdptw_model.routing_model\u001b[0m:\u001b[36mdo_solve\u001b[0m:\u001b[36m378\u001b[0m - \u001b[1mНачало создания модели\u001b[0m\n",
      "\u001b[32m2025-08-04 12:06:04.610\u001b[0m | \u001b[1mINFO    \u001b[0m | \u001b[36mvrp_study.pdptw_model.routing_model\u001b[0m:\u001b[36madd_distance_dimension\u001b[0m:\u001b[36m299\u001b[0m - \u001b[1mДобавление размерности для расстояния\u001b[0m\n",
      "\u001b[32m2025-08-04 12:06:04.611\u001b[0m | \u001b[1mINFO    \u001b[0m | \u001b[36mvrp_study.pdptw_model.routing_model\u001b[0m:\u001b[36madd_count_dimension\u001b[0m:\u001b[36m335\u001b[0m - \u001b[1mДобавление размерности для расстояния\u001b[0m\n",
      "\u001b[32m2025-08-04 12:06:04.611\u001b[0m | \u001b[1mINFO    \u001b[0m | \u001b[36mvrp_study.pdptw_model.routing_model\u001b[0m:\u001b[36madd_pick_up_and_delivery\u001b[0m:\u001b[36m269\u001b[0m - \u001b[1mДобавление ограничения для порядка доставки\u001b[0m\n",
      "\u001b[32m2025-08-04 12:06:04.612\u001b[0m | \u001b[1mINFO    \u001b[0m | \u001b[36mvrp_study.pdptw_model.routing_model\u001b[0m:\u001b[36madd_vehicles_cost\u001b[0m:\u001b[36m243\u001b[0m - \u001b[1mДобавление стоимостей машин\u001b[0m\n",
      "\u001b[32m2025-08-04 12:06:04.613\u001b[0m | \u001b[1mINFO    \u001b[0m | \u001b[36mvrp_study.pdptw_model.routing_model\u001b[0m:\u001b[36madd_time_window\u001b[0m:\u001b[36m194\u001b[0m - \u001b[1madd time\u001b[0m\n",
      "\u001b[32m2025-08-04 12:06:04.613\u001b[0m | \u001b[1mINFO    \u001b[0m | \u001b[36mvrp_study.pdptw_model.routing_model\u001b[0m:\u001b[36madd_mass_constraint\u001b[0m:\u001b[36m177\u001b[0m - \u001b[1mДобавление ограничений для массы\u001b[0m\n",
      "\u001b[32m2025-08-04 12:06:04.614\u001b[0m | \u001b[1mINFO    \u001b[0m | \u001b[36mvrp_study.pdptw_model.routing_model\u001b[0m:\u001b[36mdo_solve\u001b[0m:\u001b[36m407\u001b[0m - \u001b[1mНачало решения\u001b[0m\n",
      "\u001b[32m2025-08-04 12:06:04.615\u001b[0m | \u001b[1mINFO    \u001b[0m | \u001b[36mvrp_study.pdptw_model.routing_model\u001b[0m:\u001b[36mdo_solve\u001b[0m:\u001b[36m410\u001b[0m - \u001b[1muse initial_solution: 1\u001b[0m\n",
      "\u001b[32m2025-08-04 12:06:04.616\u001b[0m | \u001b[34m\u001b[1mDEBUG   \u001b[0m | \u001b[36mvrp_study.pdptw_model.routing_model\u001b[0m:\u001b[36m__call__\u001b[0m:\u001b[36m40\u001b[0m - \u001b[34m\u001b[1mtime: 0.002; new solution (1): 17332; best solution: 17332\u001b[0m\n",
      "\u001b[32m2025-08-04 12:06:04.616\u001b[0m | \u001b[34m\u001b[1mDEBUG   \u001b[0m | \u001b[36mvrp_study.pdptw_model.routing_model\u001b[0m:\u001b[36m__call__\u001b[0m:\u001b[36m40\u001b[0m - \u001b[34m\u001b[1mtime: 0.002; new solution (2): 17332; best solution: 17332\u001b[0m\n",
      "\u001b[32m2025-08-04 12:06:04.627\u001b[0m | \u001b[1mINFO    \u001b[0m | \u001b[36mvrp_study.pdptw_model.routing_model\u001b[0m:\u001b[36mdo_solve\u001b[0m:\u001b[36m423\u001b[0m - \u001b[1mfind solution\u001b[0m\n",
      "\u001b[32m2025-08-04 12:06:04.627\u001b[0m | \u001b[1mINFO    \u001b[0m | \u001b[36mvrp_study.pdptw_model.routing_model\u001b[0m:\u001b[36mfind_optimal_paths\u001b[0m:\u001b[36m464\u001b[0m - \u001b[1mbest_score: 173.32\u001b[0m\n",
      "\u001b[32m2025-08-04 12:06:04.628\u001b[0m | \u001b[1mINFO    \u001b[0m | \u001b[36msrc.vrp_study.pdptw_model.solution_builder\u001b[0m:\u001b[36mget_initial_solution\u001b[0m:\u001b[36m138\u001b[0m - \u001b[1m[[0, 5, 1, 3, 11, 4, 9, 7, 8, 6, 10, 2, 12, 0], [], [], [], [], [], [], [], [], [], [], [], [], [], [], [], [], [], [], [], [], [], [], [], [], [], [], [], [], [], [], [], [], [], [], [], [], [], [], [], [], [], [], [], [], [], [], [], [], [], [], [], [], [], [], [], [], [], [], [], [], [], []]\u001b[0m\n",
      "\u001b[32m2025-08-04 12:06:04.629\u001b[0m | \u001b[1mINFO    \u001b[0m | \u001b[36msrc.vrp_study.pdptw_model.solution_builder\u001b[0m:\u001b[36mget_initial_solution\u001b[0m:\u001b[36m118\u001b[0m - \u001b[1m(1, 32.074999999999996)\u001b[0m\n",
      "\u001b[32m2025-08-04 12:06:04.630\u001b[0m | \u001b[1mINFO    \u001b[0m | \u001b[36msrc.vrp_study.pdptw_model.solution_builder\u001b[0m:\u001b[36mget_initial_solution\u001b[0m:\u001b[36m118\u001b[0m - \u001b[1m(1, 16.0875)\u001b[0m\n",
      "\u001b[32m2025-08-04 12:06:04.631\u001b[0m | \u001b[1mINFO    \u001b[0m | \u001b[36msrc.vrp_study.pdptw_model.solution_builder\u001b[0m:\u001b[36mget_initial_solution\u001b[0m:\u001b[36m118\u001b[0m - \u001b[1m(1, 8.09375)\u001b[0m\n",
      "\u001b[32m2025-08-04 12:06:04.631\u001b[0m | \u001b[1mINFO    \u001b[0m | \u001b[36msrc.vrp_study.pdptw_model.solution_builder\u001b[0m:\u001b[36mget_initial_solution\u001b[0m:\u001b[36m118\u001b[0m - \u001b[1m(1, 4.096875)\u001b[0m\n",
      "\u001b[32m2025-08-04 12:06:04.632\u001b[0m | \u001b[1mINFO    \u001b[0m | \u001b[36msrc.vrp_study.pdptw_model.solution_builder\u001b[0m:\u001b[36mget_initial_solution\u001b[0m:\u001b[36m118\u001b[0m - \u001b[1m(1, 2.0984374999999997)\u001b[0m\n",
      "\u001b[32m2025-08-04 12:06:04.632\u001b[0m | \u001b[1mINFO    \u001b[0m | \u001b[36msrc.vrp_study.pdptw_model.solution_builder\u001b[0m:\u001b[36mget_initial_solution\u001b[0m:\u001b[36m118\u001b[0m - \u001b[1m(2, 1.09921875)\u001b[0m\n",
      "\u001b[32m2025-08-04 12:06:04.632\u001b[0m | \u001b[1mINFO    \u001b[0m | \u001b[36msrc.vrp_study.pdptw_model.solution_builder\u001b[0m:\u001b[36mget_initial_solution\u001b[0m:\u001b[36m118\u001b[0m - \u001b[1m(3, 0.599609375)\u001b[0m\n",
      "\u001b[32m2025-08-04 12:06:04.633\u001b[0m | \u001b[1mINFO    \u001b[0m | \u001b[36msrc.vrp_study.pdptw_model.solution_builder\u001b[0m:\u001b[36mget_initial_solution\u001b[0m:\u001b[36m118\u001b[0m - \u001b[1m(3, 0.3498046875)\u001b[0m\n",
      "\u001b[32m2025-08-04 12:06:04.633\u001b[0m | \u001b[1mINFO    \u001b[0m | \u001b[36msrc.vrp_study.pdptw_model.solution_builder\u001b[0m:\u001b[36mget_initial_solution\u001b[0m:\u001b[36m118\u001b[0m - \u001b[1m(4, 0.22490234375)\u001b[0m\n",
      "\u001b[32m2025-08-04 12:06:04.634\u001b[0m | \u001b[1mINFO    \u001b[0m | \u001b[36msrc.vrp_study.pdptw_model.solution_builder\u001b[0m:\u001b[36mget_initial_solution\u001b[0m:\u001b[36m118\u001b[0m - \u001b[1m(4, 0.16245117187500002)\u001b[0m\n"
     ]
    },
    {
     "data": {
      "application/vnd.jupyter.widget-view+json": {
       "model_id": "8581079f093e4a688f4c090ba759990c",
       "version_major": 2,
       "version_minor": 0
      },
      "text/plain": [
       "  0%|          | 0/1 [00:00<?, ?it/s]"
      ]
     },
     "metadata": {},
     "output_type": "display_data"
    },
    {
     "name": "stderr",
     "output_type": "stream",
     "text": [
      "\u001b[32m2025-08-04 12:06:04.640\u001b[0m | \u001b[1mINFO    \u001b[0m | \u001b[36mvrp_study.pdptw_model.routing_model\u001b[0m:\u001b[36mfind_optimal_paths\u001b[0m:\u001b[36m443\u001b[0m - \u001b[1mproblem size: 9\u001b[0m\n",
      "\u001b[32m2025-08-04 12:06:04.641\u001b[0m | \u001b[1mINFO    \u001b[0m | \u001b[36mvrp_study.pdptw_model.routing_model\u001b[0m:\u001b[36mdo_solve\u001b[0m:\u001b[36m378\u001b[0m - \u001b[1mНачало создания модели\u001b[0m\n",
      "\u001b[32m2025-08-04 12:06:04.642\u001b[0m | \u001b[1mINFO    \u001b[0m | \u001b[36mvrp_study.pdptw_model.routing_model\u001b[0m:\u001b[36madd_distance_dimension\u001b[0m:\u001b[36m299\u001b[0m - \u001b[1mДобавление размерности для расстояния\u001b[0m\n",
      "\u001b[32m2025-08-04 12:06:04.642\u001b[0m | \u001b[1mINFO    \u001b[0m | \u001b[36mvrp_study.pdptw_model.routing_model\u001b[0m:\u001b[36madd_count_dimension\u001b[0m:\u001b[36m335\u001b[0m - \u001b[1mДобавление размерности для расстояния\u001b[0m\n",
      "\u001b[32m2025-08-04 12:06:04.643\u001b[0m | \u001b[1mINFO    \u001b[0m | \u001b[36mvrp_study.pdptw_model.routing_model\u001b[0m:\u001b[36madd_pick_up_and_delivery\u001b[0m:\u001b[36m269\u001b[0m - \u001b[1mДобавление ограничения для порядка доставки\u001b[0m\n",
      "\u001b[32m2025-08-04 12:06:04.644\u001b[0m | \u001b[1mINFO    \u001b[0m | \u001b[36mvrp_study.pdptw_model.routing_model\u001b[0m:\u001b[36madd_time_window\u001b[0m:\u001b[36m194\u001b[0m - \u001b[1madd time\u001b[0m\n",
      "\u001b[32m2025-08-04 12:06:04.645\u001b[0m | \u001b[1mINFO    \u001b[0m | \u001b[36mvrp_study.pdptw_model.routing_model\u001b[0m:\u001b[36madd_mass_constraint\u001b[0m:\u001b[36m177\u001b[0m - \u001b[1mДобавление ограничений для массы\u001b[0m\n",
      "\u001b[32m2025-08-04 12:06:04.648\u001b[0m | \u001b[1mINFO    \u001b[0m | \u001b[36mvrp_study.pdptw_model.routing_model\u001b[0m:\u001b[36mdo_solve\u001b[0m:\u001b[36m407\u001b[0m - \u001b[1mНачало решения\u001b[0m\n",
      "\u001b[32m2025-08-04 12:06:04.652\u001b[0m | \u001b[34m\u001b[1mDEBUG   \u001b[0m | \u001b[36mvrp_study.pdptw_model.routing_model\u001b[0m:\u001b[36m__call__\u001b[0m:\u001b[36m40\u001b[0m - \u001b[34m\u001b[1mtime: 0.007; new solution (1): 1; best solution: 1\u001b[0m\n",
      "\u001b[32m2025-08-04 12:06:04.661\u001b[0m | \u001b[1mINFO    \u001b[0m | \u001b[36mvrp_study.pdptw_model.routing_model\u001b[0m:\u001b[36mdo_solve\u001b[0m:\u001b[36m423\u001b[0m - \u001b[1mfind solution\u001b[0m\n",
      "\u001b[32m2025-08-04 12:06:04.662\u001b[0m | \u001b[1mINFO    \u001b[0m | \u001b[36mvrp_study.pdptw_model.routing_model\u001b[0m:\u001b[36mfind_optimal_paths\u001b[0m:\u001b[36m451\u001b[0m - \u001b[1mbest_score: 1\u001b[0m\n",
      "\u001b[32m2025-08-04 12:06:04.662\u001b[0m | \u001b[1mINFO    \u001b[0m | \u001b[36mvrp_study.pdptw_model.routing_model\u001b[0m:\u001b[36mdo_solve\u001b[0m:\u001b[36m378\u001b[0m - \u001b[1mНачало создания модели\u001b[0m\n",
      "\u001b[32m2025-08-04 12:06:04.664\u001b[0m | \u001b[1mINFO    \u001b[0m | \u001b[36mvrp_study.pdptw_model.routing_model\u001b[0m:\u001b[36madd_distance_dimension\u001b[0m:\u001b[36m299\u001b[0m - \u001b[1mДобавление размерности для расстояния\u001b[0m\n",
      "\u001b[32m2025-08-04 12:06:04.665\u001b[0m | \u001b[1mINFO    \u001b[0m | \u001b[36mvrp_study.pdptw_model.routing_model\u001b[0m:\u001b[36madd_count_dimension\u001b[0m:\u001b[36m335\u001b[0m - \u001b[1mДобавление размерности для расстояния\u001b[0m\n",
      "\u001b[32m2025-08-04 12:06:04.665\u001b[0m | \u001b[1mINFO    \u001b[0m | \u001b[36mvrp_study.pdptw_model.routing_model\u001b[0m:\u001b[36madd_pick_up_and_delivery\u001b[0m:\u001b[36m269\u001b[0m - \u001b[1mДобавление ограничения для порядка доставки\u001b[0m\n",
      "\u001b[32m2025-08-04 12:06:04.666\u001b[0m | \u001b[1mINFO    \u001b[0m | \u001b[36mvrp_study.pdptw_model.routing_model\u001b[0m:\u001b[36madd_vehicles_cost\u001b[0m:\u001b[36m243\u001b[0m - \u001b[1mДобавление стоимостей машин\u001b[0m\n",
      "\u001b[32m2025-08-04 12:06:04.666\u001b[0m | \u001b[1mINFO    \u001b[0m | \u001b[36mvrp_study.pdptw_model.routing_model\u001b[0m:\u001b[36madd_time_window\u001b[0m:\u001b[36m194\u001b[0m - \u001b[1madd time\u001b[0m\n",
      "\u001b[32m2025-08-04 12:06:04.667\u001b[0m | \u001b[1mINFO    \u001b[0m | \u001b[36mvrp_study.pdptw_model.routing_model\u001b[0m:\u001b[36madd_mass_constraint\u001b[0m:\u001b[36m177\u001b[0m - \u001b[1mДобавление ограничений для массы\u001b[0m\n",
      "\u001b[32m2025-08-04 12:06:04.668\u001b[0m | \u001b[1mINFO    \u001b[0m | \u001b[36mvrp_study.pdptw_model.routing_model\u001b[0m:\u001b[36mdo_solve\u001b[0m:\u001b[36m407\u001b[0m - \u001b[1mНачало решения\u001b[0m\n",
      "\u001b[32m2025-08-04 12:06:04.669\u001b[0m | \u001b[1mINFO    \u001b[0m | \u001b[36mvrp_study.pdptw_model.routing_model\u001b[0m:\u001b[36mdo_solve\u001b[0m:\u001b[36m410\u001b[0m - \u001b[1muse initial_solution: 1\u001b[0m\n",
      "\u001b[32m2025-08-04 12:06:04.670\u001b[0m | \u001b[34m\u001b[1mDEBUG   \u001b[0m | \u001b[36mvrp_study.pdptw_model.routing_model\u001b[0m:\u001b[36m__call__\u001b[0m:\u001b[36m40\u001b[0m - \u001b[34m\u001b[1mtime: 0.003; new solution (1): 15676; best solution: 15676\u001b[0m\n",
      "\u001b[32m2025-08-04 12:06:04.671\u001b[0m | \u001b[34m\u001b[1mDEBUG   \u001b[0m | \u001b[36mvrp_study.pdptw_model.routing_model\u001b[0m:\u001b[36m__call__\u001b[0m:\u001b[36m40\u001b[0m - \u001b[34m\u001b[1mtime: 0.004; new solution (2): 15676; best solution: 15676\u001b[0m\n",
      "\u001b[32m2025-08-04 12:06:04.675\u001b[0m | \u001b[1mINFO    \u001b[0m | \u001b[36mvrp_study.pdptw_model.routing_model\u001b[0m:\u001b[36mdo_solve\u001b[0m:\u001b[36m423\u001b[0m - \u001b[1mfind solution\u001b[0m\n",
      "\u001b[32m2025-08-04 12:06:04.676\u001b[0m | \u001b[1mINFO    \u001b[0m | \u001b[36mvrp_study.pdptw_model.routing_model\u001b[0m:\u001b[36mfind_optimal_paths\u001b[0m:\u001b[36m464\u001b[0m - \u001b[1mbest_score: 156.76\u001b[0m\n",
      "\u001b[32m2025-08-04 12:06:04.676\u001b[0m | \u001b[1mINFO    \u001b[0m | \u001b[36msrc.vrp_study.pdptw_model.solution_builder\u001b[0m:\u001b[36mget_initial_solution\u001b[0m:\u001b[36m138\u001b[0m - \u001b[1m[[0, 7, 5, 6, 8, 3, 1, 4, 2, 0], [], [], [], [], [], [], [], [], [], [], [], [], [], [], [], [], [], [], [], [], [], [], [], [], [], [], [], [], [], [], [], [], [], [], [], [], [], [], [], [], [], [], [], [], [], [], [], [], [], [], [], [], [], [], [], [], [], [], [], [], []]\u001b[0m\n",
      "\u001b[32m2025-08-04 12:06:04.678\u001b[0m | \u001b[1mINFO    \u001b[0m | \u001b[36msrc.vrp_study.pdptw_model.solution_builder\u001b[0m:\u001b[36mget_initial_solution\u001b[0m:\u001b[36m118\u001b[0m - \u001b[1m(1, 32.074999999999996)\u001b[0m\n",
      "\u001b[32m2025-08-04 12:06:04.679\u001b[0m | \u001b[1mINFO    \u001b[0m | \u001b[36msrc.vrp_study.pdptw_model.solution_builder\u001b[0m:\u001b[36mget_initial_solution\u001b[0m:\u001b[36m118\u001b[0m - \u001b[1m(1, 16.0875)\u001b[0m\n",
      "\u001b[32m2025-08-04 12:06:04.680\u001b[0m | \u001b[1mINFO    \u001b[0m | \u001b[36msrc.vrp_study.pdptw_model.solution_builder\u001b[0m:\u001b[36mget_initial_solution\u001b[0m:\u001b[36m118\u001b[0m - \u001b[1m(1, 8.09375)\u001b[0m\n",
      "\u001b[32m2025-08-04 12:06:04.681\u001b[0m | \u001b[1mINFO    \u001b[0m | \u001b[36msrc.vrp_study.pdptw_model.solution_builder\u001b[0m:\u001b[36mget_initial_solution\u001b[0m:\u001b[36m118\u001b[0m - \u001b[1m(1, 4.096875)\u001b[0m\n",
      "\u001b[32m2025-08-04 12:06:04.681\u001b[0m | \u001b[1mINFO    \u001b[0m | \u001b[36msrc.vrp_study.pdptw_model.solution_builder\u001b[0m:\u001b[36mget_initial_solution\u001b[0m:\u001b[36m118\u001b[0m - \u001b[1m(1, 2.0984374999999997)\u001b[0m\n",
      "\u001b[32m2025-08-04 12:06:04.682\u001b[0m | \u001b[1mINFO    \u001b[0m | \u001b[36msrc.vrp_study.pdptw_model.solution_builder\u001b[0m:\u001b[36mget_initial_solution\u001b[0m:\u001b[36m118\u001b[0m - \u001b[1m(2, 1.09921875)\u001b[0m\n",
      "\u001b[32m2025-08-04 12:06:04.682\u001b[0m | \u001b[1mINFO    \u001b[0m | \u001b[36msrc.vrp_study.pdptw_model.solution_builder\u001b[0m:\u001b[36mget_initial_solution\u001b[0m:\u001b[36m118\u001b[0m - \u001b[1m(3, 0.599609375)\u001b[0m\n",
      "\u001b[32m2025-08-04 12:06:04.683\u001b[0m | \u001b[1mINFO    \u001b[0m | \u001b[36msrc.vrp_study.pdptw_model.solution_builder\u001b[0m:\u001b[36mget_initial_solution\u001b[0m:\u001b[36m118\u001b[0m - \u001b[1m(3, 0.3498046875)\u001b[0m\n",
      "\u001b[32m2025-08-04 12:06:04.684\u001b[0m | \u001b[1mINFO    \u001b[0m | \u001b[36msrc.vrp_study.pdptw_model.solution_builder\u001b[0m:\u001b[36mget_initial_solution\u001b[0m:\u001b[36m118\u001b[0m - \u001b[1m(4, 0.22490234375)\u001b[0m\n",
      "\u001b[32m2025-08-04 12:06:04.684\u001b[0m | \u001b[1mINFO    \u001b[0m | \u001b[36msrc.vrp_study.pdptw_model.solution_builder\u001b[0m:\u001b[36mget_initial_solution\u001b[0m:\u001b[36m118\u001b[0m - \u001b[1m(5, 0.16245117187500002)\u001b[0m\n"
     ]
    },
    {
     "data": {
      "application/vnd.jupyter.widget-view+json": {
       "model_id": "96753ddf2d39434fbf23b98435c132f3",
       "version_major": 2,
       "version_minor": 0
      },
      "text/plain": [
       "  0%|          | 0/1 [00:00<?, ?it/s]"
      ]
     },
     "metadata": {},
     "output_type": "display_data"
    },
    {
     "name": "stderr",
     "output_type": "stream",
     "text": [
      "\u001b[32m2025-08-04 12:06:04.690\u001b[0m | \u001b[1mINFO    \u001b[0m | \u001b[36mvrp_study.pdptw_model.routing_model\u001b[0m:\u001b[36mfind_optimal_paths\u001b[0m:\u001b[36m443\u001b[0m - \u001b[1mproblem size: 11\u001b[0m\n",
      "\u001b[32m2025-08-04 12:06:04.691\u001b[0m | \u001b[1mINFO    \u001b[0m | \u001b[36mvrp_study.pdptw_model.routing_model\u001b[0m:\u001b[36mdo_solve\u001b[0m:\u001b[36m378\u001b[0m - \u001b[1mНачало создания модели\u001b[0m\n",
      "\u001b[32m2025-08-04 12:06:04.692\u001b[0m | \u001b[1mINFO    \u001b[0m | \u001b[36mvrp_study.pdptw_model.routing_model\u001b[0m:\u001b[36madd_distance_dimension\u001b[0m:\u001b[36m299\u001b[0m - \u001b[1mДобавление размерности для расстояния\u001b[0m\n",
      "\u001b[32m2025-08-04 12:06:04.693\u001b[0m | \u001b[1mINFO    \u001b[0m | \u001b[36mvrp_study.pdptw_model.routing_model\u001b[0m:\u001b[36madd_count_dimension\u001b[0m:\u001b[36m335\u001b[0m - \u001b[1mДобавление размерности для расстояния\u001b[0m\n",
      "\u001b[32m2025-08-04 12:06:04.693\u001b[0m | \u001b[1mINFO    \u001b[0m | \u001b[36mvrp_study.pdptw_model.routing_model\u001b[0m:\u001b[36madd_pick_up_and_delivery\u001b[0m:\u001b[36m269\u001b[0m - \u001b[1mДобавление ограничения для порядка доставки\u001b[0m\n",
      "\u001b[32m2025-08-04 12:06:04.694\u001b[0m | \u001b[1mINFO    \u001b[0m | \u001b[36mvrp_study.pdptw_model.routing_model\u001b[0m:\u001b[36madd_time_window\u001b[0m:\u001b[36m194\u001b[0m - \u001b[1madd time\u001b[0m\n",
      "\u001b[32m2025-08-04 12:06:04.695\u001b[0m | \u001b[1mINFO    \u001b[0m | \u001b[36mvrp_study.pdptw_model.routing_model\u001b[0m:\u001b[36madd_mass_constraint\u001b[0m:\u001b[36m177\u001b[0m - \u001b[1mДобавление ограничений для массы\u001b[0m\n",
      "\u001b[32m2025-08-04 12:06:04.699\u001b[0m | \u001b[1mINFO    \u001b[0m | \u001b[36mvrp_study.pdptw_model.routing_model\u001b[0m:\u001b[36mdo_solve\u001b[0m:\u001b[36m407\u001b[0m - \u001b[1mНачало решения\u001b[0m\n",
      "\u001b[32m2025-08-04 12:06:04.703\u001b[0m | \u001b[34m\u001b[1mDEBUG   \u001b[0m | \u001b[36mvrp_study.pdptw_model.routing_model\u001b[0m:\u001b[36m__call__\u001b[0m:\u001b[36m40\u001b[0m - \u001b[34m\u001b[1mtime: 0.007; new solution (1): 1; best solution: 1\u001b[0m\n",
      "\u001b[32m2025-08-04 12:06:04.715\u001b[0m | \u001b[1mINFO    \u001b[0m | \u001b[36mvrp_study.pdptw_model.routing_model\u001b[0m:\u001b[36mdo_solve\u001b[0m:\u001b[36m423\u001b[0m - \u001b[1mfind solution\u001b[0m\n",
      "\u001b[32m2025-08-04 12:06:04.717\u001b[0m | \u001b[1mINFO    \u001b[0m | \u001b[36mvrp_study.pdptw_model.routing_model\u001b[0m:\u001b[36mfind_optimal_paths\u001b[0m:\u001b[36m451\u001b[0m - \u001b[1mbest_score: 1\u001b[0m\n",
      "\u001b[32m2025-08-04 12:06:04.717\u001b[0m | \u001b[1mINFO    \u001b[0m | \u001b[36mvrp_study.pdptw_model.routing_model\u001b[0m:\u001b[36mdo_solve\u001b[0m:\u001b[36m378\u001b[0m - \u001b[1mНачало создания модели\u001b[0m\n",
      "\u001b[32m2025-08-04 12:06:04.719\u001b[0m | \u001b[1mINFO    \u001b[0m | \u001b[36mvrp_study.pdptw_model.routing_model\u001b[0m:\u001b[36madd_distance_dimension\u001b[0m:\u001b[36m299\u001b[0m - \u001b[1mДобавление размерности для расстояния\u001b[0m\n",
      "\u001b[32m2025-08-04 12:06:04.720\u001b[0m | \u001b[1mINFO    \u001b[0m | \u001b[36mvrp_study.pdptw_model.routing_model\u001b[0m:\u001b[36madd_count_dimension\u001b[0m:\u001b[36m335\u001b[0m - \u001b[1mДобавление размерности для расстояния\u001b[0m\n",
      "\u001b[32m2025-08-04 12:06:04.721\u001b[0m | \u001b[1mINFO    \u001b[0m | \u001b[36mvrp_study.pdptw_model.routing_model\u001b[0m:\u001b[36madd_pick_up_and_delivery\u001b[0m:\u001b[36m269\u001b[0m - \u001b[1mДобавление ограничения для порядка доставки\u001b[0m\n",
      "\u001b[32m2025-08-04 12:06:04.722\u001b[0m | \u001b[1mINFO    \u001b[0m | \u001b[36mvrp_study.pdptw_model.routing_model\u001b[0m:\u001b[36madd_vehicles_cost\u001b[0m:\u001b[36m243\u001b[0m - \u001b[1mДобавление стоимостей машин\u001b[0m\n",
      "\u001b[32m2025-08-04 12:06:04.723\u001b[0m | \u001b[1mINFO    \u001b[0m | \u001b[36mvrp_study.pdptw_model.routing_model\u001b[0m:\u001b[36madd_time_window\u001b[0m:\u001b[36m194\u001b[0m - \u001b[1madd time\u001b[0m\n",
      "\u001b[32m2025-08-04 12:06:04.723\u001b[0m | \u001b[1mINFO    \u001b[0m | \u001b[36mvrp_study.pdptw_model.routing_model\u001b[0m:\u001b[36madd_mass_constraint\u001b[0m:\u001b[36m177\u001b[0m - \u001b[1mДобавление ограничений для массы\u001b[0m\n",
      "\u001b[32m2025-08-04 12:06:04.724\u001b[0m | \u001b[1mINFO    \u001b[0m | \u001b[36mvrp_study.pdptw_model.routing_model\u001b[0m:\u001b[36mdo_solve\u001b[0m:\u001b[36m407\u001b[0m - \u001b[1mНачало решения\u001b[0m\n",
      "\u001b[32m2025-08-04 12:06:04.725\u001b[0m | \u001b[1mINFO    \u001b[0m | \u001b[36mvrp_study.pdptw_model.routing_model\u001b[0m:\u001b[36mdo_solve\u001b[0m:\u001b[36m410\u001b[0m - \u001b[1muse initial_solution: 1\u001b[0m\n",
      "\u001b[32m2025-08-04 12:06:04.725\u001b[0m | \u001b[34m\u001b[1mDEBUG   \u001b[0m | \u001b[36mvrp_study.pdptw_model.routing_model\u001b[0m:\u001b[36m__call__\u001b[0m:\u001b[36m40\u001b[0m - \u001b[34m\u001b[1mtime: 0.001; new solution (1): 19351; best solution: 19351\u001b[0m\n",
      "\u001b[32m2025-08-04 12:06:04.726\u001b[0m | \u001b[34m\u001b[1mDEBUG   \u001b[0m | \u001b[36mvrp_study.pdptw_model.routing_model\u001b[0m:\u001b[36m__call__\u001b[0m:\u001b[36m40\u001b[0m - \u001b[34m\u001b[1mtime: 0.002; new solution (2): 19351; best solution: 19351\u001b[0m\n",
      "\u001b[32m2025-08-04 12:06:04.733\u001b[0m | \u001b[1mINFO    \u001b[0m | \u001b[36mvrp_study.pdptw_model.routing_model\u001b[0m:\u001b[36mdo_solve\u001b[0m:\u001b[36m423\u001b[0m - \u001b[1mfind solution\u001b[0m\n",
      "\u001b[32m2025-08-04 12:06:04.734\u001b[0m | \u001b[1mINFO    \u001b[0m | \u001b[36mvrp_study.pdptw_model.routing_model\u001b[0m:\u001b[36mfind_optimal_paths\u001b[0m:\u001b[36m464\u001b[0m - \u001b[1mbest_score: 193.51\u001b[0m\n",
      "\u001b[32m2025-08-04 12:06:04.735\u001b[0m | \u001b[1mINFO    \u001b[0m | \u001b[36msrc.vrp_study.pdptw_model.solution_builder\u001b[0m:\u001b[36mget_initial_solution\u001b[0m:\u001b[36m138\u001b[0m - \u001b[1m[[0, 7, 9, 3, 10, 4, 1, 5, 2, 8, 6, 0], [], [], [], [], [], [], [], [], [], [], [], [], [], [], [], [], [], [], [], [], [], [], [], [], [], [], [], [], [], [], [], [], [], [], [], [], [], [], [], [], [], [], [], [], [], [], [], [], [], [], [], [], [], [], [], [], [], [], [], []]\u001b[0m\n",
      "\u001b[32m2025-08-04 12:06:04.737\u001b[0m | \u001b[1mINFO    \u001b[0m | \u001b[36msrc.vrp_study.pdptw_model.solution_builder\u001b[0m:\u001b[36mget_initial_solution\u001b[0m:\u001b[36m118\u001b[0m - \u001b[1m(1, 32.074999999999996)\u001b[0m\n",
      "\u001b[32m2025-08-04 12:06:04.738\u001b[0m | \u001b[1mINFO    \u001b[0m | \u001b[36msrc.vrp_study.pdptw_model.solution_builder\u001b[0m:\u001b[36mget_initial_solution\u001b[0m:\u001b[36m118\u001b[0m - \u001b[1m(1, 16.0875)\u001b[0m\n",
      "\u001b[32m2025-08-04 12:06:04.739\u001b[0m | \u001b[1mINFO    \u001b[0m | \u001b[36msrc.vrp_study.pdptw_model.solution_builder\u001b[0m:\u001b[36mget_initial_solution\u001b[0m:\u001b[36m118\u001b[0m - \u001b[1m(1, 8.09375)\u001b[0m\n",
      "\u001b[32m2025-08-04 12:06:04.739\u001b[0m | \u001b[1mINFO    \u001b[0m | \u001b[36msrc.vrp_study.pdptw_model.solution_builder\u001b[0m:\u001b[36mget_initial_solution\u001b[0m:\u001b[36m118\u001b[0m - \u001b[1m(1, 4.096875)\u001b[0m\n",
      "\u001b[32m2025-08-04 12:06:04.740\u001b[0m | \u001b[1mINFO    \u001b[0m | \u001b[36msrc.vrp_study.pdptw_model.solution_builder\u001b[0m:\u001b[36mget_initial_solution\u001b[0m:\u001b[36m118\u001b[0m - \u001b[1m(1, 2.0984374999999997)\u001b[0m\n",
      "\u001b[32m2025-08-04 12:06:04.740\u001b[0m | \u001b[1mINFO    \u001b[0m | \u001b[36msrc.vrp_study.pdptw_model.solution_builder\u001b[0m:\u001b[36mget_initial_solution\u001b[0m:\u001b[36m118\u001b[0m - \u001b[1m(2, 1.09921875)\u001b[0m\n",
      "\u001b[32m2025-08-04 12:06:04.741\u001b[0m | \u001b[1mINFO    \u001b[0m | \u001b[36msrc.vrp_study.pdptw_model.solution_builder\u001b[0m:\u001b[36mget_initial_solution\u001b[0m:\u001b[36m118\u001b[0m - \u001b[1m(3, 0.599609375)\u001b[0m\n",
      "\u001b[32m2025-08-04 12:06:04.741\u001b[0m | \u001b[1mINFO    \u001b[0m | \u001b[36msrc.vrp_study.pdptw_model.solution_builder\u001b[0m:\u001b[36mget_initial_solution\u001b[0m:\u001b[36m118\u001b[0m - \u001b[1m(3, 0.3498046875)\u001b[0m\n",
      "\u001b[32m2025-08-04 12:06:04.742\u001b[0m | \u001b[1mINFO    \u001b[0m | \u001b[36msrc.vrp_study.pdptw_model.solution_builder\u001b[0m:\u001b[36mget_initial_solution\u001b[0m:\u001b[36m118\u001b[0m - \u001b[1m(3, 0.22490234375)\u001b[0m\n",
      "\u001b[32m2025-08-04 12:06:04.742\u001b[0m | \u001b[1mINFO    \u001b[0m | \u001b[36msrc.vrp_study.pdptw_model.solution_builder\u001b[0m:\u001b[36mget_initial_solution\u001b[0m:\u001b[36m118\u001b[0m - \u001b[1m(3, 0.16245117187500002)\u001b[0m\n"
     ]
    },
    {
     "data": {
      "application/vnd.jupyter.widget-view+json": {
       "model_id": "999245b3944b4c828ccb3130c2c4597e",
       "version_major": 2,
       "version_minor": 0
      },
      "text/plain": [
       "  0%|          | 0/1 [00:00<?, ?it/s]"
      ]
     },
     "metadata": {},
     "output_type": "display_data"
    },
    {
     "name": "stderr",
     "output_type": "stream",
     "text": [
      "\u001b[32m2025-08-04 12:06:04.746\u001b[0m | \u001b[1mINFO    \u001b[0m | \u001b[36mvrp_study.pdptw_model.routing_model\u001b[0m:\u001b[36mfind_optimal_paths\u001b[0m:\u001b[36m443\u001b[0m - \u001b[1mproblem size: 7\u001b[0m\n",
      "\u001b[32m2025-08-04 12:06:04.747\u001b[0m | \u001b[1mINFO    \u001b[0m | \u001b[36mvrp_study.pdptw_model.routing_model\u001b[0m:\u001b[36mdo_solve\u001b[0m:\u001b[36m378\u001b[0m - \u001b[1mНачало создания модели\u001b[0m\n",
      "\u001b[32m2025-08-04 12:06:04.749\u001b[0m | \u001b[1mINFO    \u001b[0m | \u001b[36mvrp_study.pdptw_model.routing_model\u001b[0m:\u001b[36madd_distance_dimension\u001b[0m:\u001b[36m299\u001b[0m - \u001b[1mДобавление размерности для расстояния\u001b[0m\n",
      "\u001b[32m2025-08-04 12:06:04.749\u001b[0m | \u001b[1mINFO    \u001b[0m | \u001b[36mvrp_study.pdptw_model.routing_model\u001b[0m:\u001b[36madd_count_dimension\u001b[0m:\u001b[36m335\u001b[0m - \u001b[1mДобавление размерности для расстояния\u001b[0m\n",
      "\u001b[32m2025-08-04 12:06:04.750\u001b[0m | \u001b[1mINFO    \u001b[0m | \u001b[36mvrp_study.pdptw_model.routing_model\u001b[0m:\u001b[36madd_pick_up_and_delivery\u001b[0m:\u001b[36m269\u001b[0m - \u001b[1mДобавление ограничения для порядка доставки\u001b[0m\n",
      "\u001b[32m2025-08-04 12:06:04.751\u001b[0m | \u001b[1mINFO    \u001b[0m | \u001b[36mvrp_study.pdptw_model.routing_model\u001b[0m:\u001b[36madd_time_window\u001b[0m:\u001b[36m194\u001b[0m - \u001b[1madd time\u001b[0m\n",
      "\u001b[32m2025-08-04 12:06:04.753\u001b[0m | \u001b[1mINFO    \u001b[0m | \u001b[36mvrp_study.pdptw_model.routing_model\u001b[0m:\u001b[36madd_mass_constraint\u001b[0m:\u001b[36m177\u001b[0m - \u001b[1mДобавление ограничений для массы\u001b[0m\n",
      "\u001b[32m2025-08-04 12:06:04.757\u001b[0m | \u001b[1mINFO    \u001b[0m | \u001b[36mvrp_study.pdptw_model.routing_model\u001b[0m:\u001b[36mdo_solve\u001b[0m:\u001b[36m407\u001b[0m - \u001b[1mНачало решения\u001b[0m\n",
      "\u001b[32m2025-08-04 12:06:04.760\u001b[0m | \u001b[34m\u001b[1mDEBUG   \u001b[0m | \u001b[36mvrp_study.pdptw_model.routing_model\u001b[0m:\u001b[36m__call__\u001b[0m:\u001b[36m40\u001b[0m - \u001b[34m\u001b[1mtime: 0.006; new solution (1): 1; best solution: 1\u001b[0m\n",
      "\u001b[32m2025-08-04 12:06:04.766\u001b[0m | \u001b[1mINFO    \u001b[0m | \u001b[36mvrp_study.pdptw_model.routing_model\u001b[0m:\u001b[36mdo_solve\u001b[0m:\u001b[36m423\u001b[0m - \u001b[1mfind solution\u001b[0m\n",
      "\u001b[32m2025-08-04 12:06:04.766\u001b[0m | \u001b[1mINFO    \u001b[0m | \u001b[36mvrp_study.pdptw_model.routing_model\u001b[0m:\u001b[36mfind_optimal_paths\u001b[0m:\u001b[36m451\u001b[0m - \u001b[1mbest_score: 1\u001b[0m\n",
      "\u001b[32m2025-08-04 12:06:04.767\u001b[0m | \u001b[1mINFO    \u001b[0m | \u001b[36mvrp_study.pdptw_model.routing_model\u001b[0m:\u001b[36mdo_solve\u001b[0m:\u001b[36m378\u001b[0m - \u001b[1mНачало создания модели\u001b[0m\n",
      "\u001b[32m2025-08-04 12:06:04.769\u001b[0m | \u001b[1mINFO    \u001b[0m | \u001b[36mvrp_study.pdptw_model.routing_model\u001b[0m:\u001b[36madd_distance_dimension\u001b[0m:\u001b[36m299\u001b[0m - \u001b[1mДобавление размерности для расстояния\u001b[0m\n",
      "\u001b[32m2025-08-04 12:06:04.770\u001b[0m | \u001b[1mINFO    \u001b[0m | \u001b[36mvrp_study.pdptw_model.routing_model\u001b[0m:\u001b[36madd_count_dimension\u001b[0m:\u001b[36m335\u001b[0m - \u001b[1mДобавление размерности для расстояния\u001b[0m\n",
      "\u001b[32m2025-08-04 12:06:04.770\u001b[0m | \u001b[1mINFO    \u001b[0m | \u001b[36mvrp_study.pdptw_model.routing_model\u001b[0m:\u001b[36madd_pick_up_and_delivery\u001b[0m:\u001b[36m269\u001b[0m - \u001b[1mДобавление ограничения для порядка доставки\u001b[0m\n",
      "\u001b[32m2025-08-04 12:06:04.771\u001b[0m | \u001b[1mINFO    \u001b[0m | \u001b[36mvrp_study.pdptw_model.routing_model\u001b[0m:\u001b[36madd_vehicles_cost\u001b[0m:\u001b[36m243\u001b[0m - \u001b[1mДобавление стоимостей машин\u001b[0m\n",
      "\u001b[32m2025-08-04 12:06:04.772\u001b[0m | \u001b[1mINFO    \u001b[0m | \u001b[36mvrp_study.pdptw_model.routing_model\u001b[0m:\u001b[36madd_time_window\u001b[0m:\u001b[36m194\u001b[0m - \u001b[1madd time\u001b[0m\n",
      "\u001b[32m2025-08-04 12:06:04.772\u001b[0m | \u001b[1mINFO    \u001b[0m | \u001b[36mvrp_study.pdptw_model.routing_model\u001b[0m:\u001b[36madd_mass_constraint\u001b[0m:\u001b[36m177\u001b[0m - \u001b[1mДобавление ограничений для массы\u001b[0m\n",
      "\u001b[32m2025-08-04 12:06:04.774\u001b[0m | \u001b[1mINFO    \u001b[0m | \u001b[36mvrp_study.pdptw_model.routing_model\u001b[0m:\u001b[36mdo_solve\u001b[0m:\u001b[36m407\u001b[0m - \u001b[1mНачало решения\u001b[0m\n",
      "\u001b[32m2025-08-04 12:06:04.774\u001b[0m | \u001b[1mINFO    \u001b[0m | \u001b[36mvrp_study.pdptw_model.routing_model\u001b[0m:\u001b[36mdo_solve\u001b[0m:\u001b[36m410\u001b[0m - \u001b[1muse initial_solution: 1\u001b[0m\n",
      "\u001b[32m2025-08-04 12:06:04.775\u001b[0m | \u001b[34m\u001b[1mDEBUG   \u001b[0m | \u001b[36mvrp_study.pdptw_model.routing_model\u001b[0m:\u001b[36m__call__\u001b[0m:\u001b[36m40\u001b[0m - \u001b[34m\u001b[1mtime: 0.002; new solution (1): 7202; best solution: 7202\u001b[0m\n",
      "\u001b[32m2025-08-04 12:06:04.776\u001b[0m | \u001b[34m\u001b[1mDEBUG   \u001b[0m | \u001b[36mvrp_study.pdptw_model.routing_model\u001b[0m:\u001b[36m__call__\u001b[0m:\u001b[36m40\u001b[0m - \u001b[34m\u001b[1mtime: 0.003; new solution (2): 7202; best solution: 7202\u001b[0m\n",
      "\u001b[32m2025-08-04 12:06:04.779\u001b[0m | \u001b[1mINFO    \u001b[0m | \u001b[36mvrp_study.pdptw_model.routing_model\u001b[0m:\u001b[36mdo_solve\u001b[0m:\u001b[36m423\u001b[0m - \u001b[1mfind solution\u001b[0m\n",
      "\u001b[32m2025-08-04 12:06:04.779\u001b[0m | \u001b[1mINFO    \u001b[0m | \u001b[36mvrp_study.pdptw_model.routing_model\u001b[0m:\u001b[36mfind_optimal_paths\u001b[0m:\u001b[36m464\u001b[0m - \u001b[1mbest_score: 72.02\u001b[0m\n",
      "\u001b[32m2025-08-04 12:06:04.780\u001b[0m | \u001b[1mINFO    \u001b[0m | \u001b[36msrc.vrp_study.pdptw_model.solution_builder\u001b[0m:\u001b[36mget_initial_solution\u001b[0m:\u001b[36m138\u001b[0m - \u001b[1m[[0, 5, 3, 1, 6, 2, 4, 0], [], [], [], [], [], [], [], [], [], [], [], [], [], [], [], [], [], [], [], [], [], [], [], [], [], [], [], [], [], [], [], [], [], [], [], [], [], [], [], [], [], [], [], [], [], [], [], [], [], [], [], [], [], [], [], [], [], [], []]\u001b[0m\n",
      "\u001b[32m2025-08-04 12:06:04.781\u001b[0m | \u001b[1mINFO    \u001b[0m | \u001b[36msrc.vrp_study.pdptw_model.solution_builder\u001b[0m:\u001b[36mget_initial_solution\u001b[0m:\u001b[36m118\u001b[0m - \u001b[1m(1, 32.074999999999996)\u001b[0m\n",
      "\u001b[32m2025-08-04 12:06:04.782\u001b[0m | \u001b[1mINFO    \u001b[0m | \u001b[36msrc.vrp_study.pdptw_model.solution_builder\u001b[0m:\u001b[36mget_initial_solution\u001b[0m:\u001b[36m118\u001b[0m - \u001b[1m(1, 16.0875)\u001b[0m\n",
      "\u001b[32m2025-08-04 12:06:04.783\u001b[0m | \u001b[1mINFO    \u001b[0m | \u001b[36msrc.vrp_study.pdptw_model.solution_builder\u001b[0m:\u001b[36mget_initial_solution\u001b[0m:\u001b[36m118\u001b[0m - \u001b[1m(1, 8.09375)\u001b[0m\n",
      "\u001b[32m2025-08-04 12:06:04.783\u001b[0m | \u001b[1mINFO    \u001b[0m | \u001b[36msrc.vrp_study.pdptw_model.solution_builder\u001b[0m:\u001b[36mget_initial_solution\u001b[0m:\u001b[36m118\u001b[0m - \u001b[1m(1, 4.096875)\u001b[0m\n",
      "\u001b[32m2025-08-04 12:06:04.784\u001b[0m | \u001b[1mINFO    \u001b[0m | \u001b[36msrc.vrp_study.pdptw_model.solution_builder\u001b[0m:\u001b[36mget_initial_solution\u001b[0m:\u001b[36m118\u001b[0m - \u001b[1m(1, 2.0984374999999997)\u001b[0m\n",
      "\u001b[32m2025-08-04 12:06:04.784\u001b[0m | \u001b[1mINFO    \u001b[0m | \u001b[36msrc.vrp_study.pdptw_model.solution_builder\u001b[0m:\u001b[36mget_initial_solution\u001b[0m:\u001b[36m118\u001b[0m - \u001b[1m(2, 1.09921875)\u001b[0m\n",
      "\u001b[32m2025-08-04 12:06:04.785\u001b[0m | \u001b[1mINFO    \u001b[0m | \u001b[36msrc.vrp_study.pdptw_model.solution_builder\u001b[0m:\u001b[36mget_initial_solution\u001b[0m:\u001b[36m118\u001b[0m - \u001b[1m(3, 0.599609375)\u001b[0m\n",
      "\u001b[32m2025-08-04 12:06:04.785\u001b[0m | \u001b[1mINFO    \u001b[0m | \u001b[36msrc.vrp_study.pdptw_model.solution_builder\u001b[0m:\u001b[36mget_initial_solution\u001b[0m:\u001b[36m118\u001b[0m - \u001b[1m(3, 0.3498046875)\u001b[0m\n",
      "\u001b[32m2025-08-04 12:06:04.785\u001b[0m | \u001b[1mINFO    \u001b[0m | \u001b[36msrc.vrp_study.pdptw_model.solution_builder\u001b[0m:\u001b[36mget_initial_solution\u001b[0m:\u001b[36m118\u001b[0m - \u001b[1m(3, 0.22490234375)\u001b[0m\n",
      "\u001b[32m2025-08-04 12:06:04.786\u001b[0m | \u001b[1mINFO    \u001b[0m | \u001b[36msrc.vrp_study.pdptw_model.solution_builder\u001b[0m:\u001b[36mget_initial_solution\u001b[0m:\u001b[36m118\u001b[0m - \u001b[1m(4, 0.16245117187500002)\u001b[0m\n"
     ]
    },
    {
     "data": {
      "application/vnd.jupyter.widget-view+json": {
       "model_id": "aece07f6529f42d2b8424839e90219b9",
       "version_major": 2,
       "version_minor": 0
      },
      "text/plain": [
       "  0%|          | 0/1 [00:00<?, ?it/s]"
      ]
     },
     "metadata": {},
     "output_type": "display_data"
    },
    {
     "name": "stderr",
     "output_type": "stream",
     "text": [
      "\u001b[32m2025-08-04 12:06:04.793\u001b[0m | \u001b[1mINFO    \u001b[0m | \u001b[36mvrp_study.pdptw_model.routing_model\u001b[0m:\u001b[36mfind_optimal_paths\u001b[0m:\u001b[36m443\u001b[0m - \u001b[1mproblem size: 9\u001b[0m\n",
      "\u001b[32m2025-08-04 12:06:04.794\u001b[0m | \u001b[1mINFO    \u001b[0m | \u001b[36mvrp_study.pdptw_model.routing_model\u001b[0m:\u001b[36mdo_solve\u001b[0m:\u001b[36m378\u001b[0m - \u001b[1mНачало создания модели\u001b[0m\n",
      "\u001b[32m2025-08-04 12:06:04.795\u001b[0m | \u001b[1mINFO    \u001b[0m | \u001b[36mvrp_study.pdptw_model.routing_model\u001b[0m:\u001b[36madd_distance_dimension\u001b[0m:\u001b[36m299\u001b[0m - \u001b[1mДобавление размерности для расстояния\u001b[0m\n",
      "\u001b[32m2025-08-04 12:06:04.796\u001b[0m | \u001b[1mINFO    \u001b[0m | \u001b[36mvrp_study.pdptw_model.routing_model\u001b[0m:\u001b[36madd_count_dimension\u001b[0m:\u001b[36m335\u001b[0m - \u001b[1mДобавление размерности для расстояния\u001b[0m\n",
      "\u001b[32m2025-08-04 12:06:04.796\u001b[0m | \u001b[1mINFO    \u001b[0m | \u001b[36mvrp_study.pdptw_model.routing_model\u001b[0m:\u001b[36madd_pick_up_and_delivery\u001b[0m:\u001b[36m269\u001b[0m - \u001b[1mДобавление ограничения для порядка доставки\u001b[0m\n",
      "\u001b[32m2025-08-04 12:06:04.797\u001b[0m | \u001b[1mINFO    \u001b[0m | \u001b[36mvrp_study.pdptw_model.routing_model\u001b[0m:\u001b[36madd_time_window\u001b[0m:\u001b[36m194\u001b[0m - \u001b[1madd time\u001b[0m\n",
      "\u001b[32m2025-08-04 12:06:04.798\u001b[0m | \u001b[1mINFO    \u001b[0m | \u001b[36mvrp_study.pdptw_model.routing_model\u001b[0m:\u001b[36madd_mass_constraint\u001b[0m:\u001b[36m177\u001b[0m - \u001b[1mДобавление ограничений для массы\u001b[0m\n",
      "\u001b[32m2025-08-04 12:06:04.801\u001b[0m | \u001b[1mINFO    \u001b[0m | \u001b[36mvrp_study.pdptw_model.routing_model\u001b[0m:\u001b[36mdo_solve\u001b[0m:\u001b[36m407\u001b[0m - \u001b[1mНачало решения\u001b[0m\n",
      "\u001b[32m2025-08-04 12:06:04.806\u001b[0m | \u001b[34m\u001b[1mDEBUG   \u001b[0m | \u001b[36mvrp_study.pdptw_model.routing_model\u001b[0m:\u001b[36m__call__\u001b[0m:\u001b[36m40\u001b[0m - \u001b[34m\u001b[1mtime: 0.007; new solution (1): 1; best solution: 1\u001b[0m\n",
      "\u001b[32m2025-08-04 12:06:04.814\u001b[0m | \u001b[1mINFO    \u001b[0m | \u001b[36mvrp_study.pdptw_model.routing_model\u001b[0m:\u001b[36mdo_solve\u001b[0m:\u001b[36m423\u001b[0m - \u001b[1mfind solution\u001b[0m\n",
      "\u001b[32m2025-08-04 12:06:04.815\u001b[0m | \u001b[1mINFO    \u001b[0m | \u001b[36mvrp_study.pdptw_model.routing_model\u001b[0m:\u001b[36mfind_optimal_paths\u001b[0m:\u001b[36m451\u001b[0m - \u001b[1mbest_score: 1\u001b[0m\n",
      "\u001b[32m2025-08-04 12:06:04.816\u001b[0m | \u001b[1mINFO    \u001b[0m | \u001b[36mvrp_study.pdptw_model.routing_model\u001b[0m:\u001b[36mdo_solve\u001b[0m:\u001b[36m378\u001b[0m - \u001b[1mНачало создания модели\u001b[0m\n",
      "\u001b[32m2025-08-04 12:06:04.818\u001b[0m | \u001b[1mINFO    \u001b[0m | \u001b[36mvrp_study.pdptw_model.routing_model\u001b[0m:\u001b[36madd_distance_dimension\u001b[0m:\u001b[36m299\u001b[0m - \u001b[1mДобавление размерности для расстояния\u001b[0m\n",
      "\u001b[32m2025-08-04 12:06:04.818\u001b[0m | \u001b[1mINFO    \u001b[0m | \u001b[36mvrp_study.pdptw_model.routing_model\u001b[0m:\u001b[36madd_count_dimension\u001b[0m:\u001b[36m335\u001b[0m - \u001b[1mДобавление размерности для расстояния\u001b[0m\n",
      "\u001b[32m2025-08-04 12:06:04.819\u001b[0m | \u001b[1mINFO    \u001b[0m | \u001b[36mvrp_study.pdptw_model.routing_model\u001b[0m:\u001b[36madd_pick_up_and_delivery\u001b[0m:\u001b[36m269\u001b[0m - \u001b[1mДобавление ограничения для порядка доставки\u001b[0m\n",
      "\u001b[32m2025-08-04 12:06:04.820\u001b[0m | \u001b[1mINFO    \u001b[0m | \u001b[36mvrp_study.pdptw_model.routing_model\u001b[0m:\u001b[36madd_vehicles_cost\u001b[0m:\u001b[36m243\u001b[0m - \u001b[1mДобавление стоимостей машин\u001b[0m\n",
      "\u001b[32m2025-08-04 12:06:04.821\u001b[0m | \u001b[1mINFO    \u001b[0m | \u001b[36mvrp_study.pdptw_model.routing_model\u001b[0m:\u001b[36madd_time_window\u001b[0m:\u001b[36m194\u001b[0m - \u001b[1madd time\u001b[0m\n",
      "\u001b[32m2025-08-04 12:06:04.821\u001b[0m | \u001b[1mINFO    \u001b[0m | \u001b[36mvrp_study.pdptw_model.routing_model\u001b[0m:\u001b[36madd_mass_constraint\u001b[0m:\u001b[36m177\u001b[0m - \u001b[1mДобавление ограничений для массы\u001b[0m\n",
      "\u001b[32m2025-08-04 12:06:04.823\u001b[0m | \u001b[1mINFO    \u001b[0m | \u001b[36mvrp_study.pdptw_model.routing_model\u001b[0m:\u001b[36mdo_solve\u001b[0m:\u001b[36m407\u001b[0m - \u001b[1mНачало решения\u001b[0m\n",
      "\u001b[32m2025-08-04 12:06:04.823\u001b[0m | \u001b[1mINFO    \u001b[0m | \u001b[36mvrp_study.pdptw_model.routing_model\u001b[0m:\u001b[36mdo_solve\u001b[0m:\u001b[36m410\u001b[0m - \u001b[1muse initial_solution: 1\u001b[0m\n",
      "\u001b[32m2025-08-04 12:06:04.824\u001b[0m | \u001b[34m\u001b[1mDEBUG   \u001b[0m | \u001b[36mvrp_study.pdptw_model.routing_model\u001b[0m:\u001b[36m__call__\u001b[0m:\u001b[36m40\u001b[0m - \u001b[34m\u001b[1mtime: 0.002; new solution (1): 7394; best solution: 7394\u001b[0m\n",
      "\u001b[32m2025-08-04 12:06:04.825\u001b[0m | \u001b[34m\u001b[1mDEBUG   \u001b[0m | \u001b[36mvrp_study.pdptw_model.routing_model\u001b[0m:\u001b[36m__call__\u001b[0m:\u001b[36m40\u001b[0m - \u001b[34m\u001b[1mtime: 0.003; new solution (2): 7394; best solution: 7394\u001b[0m\n",
      "\u001b[32m2025-08-04 12:06:04.829\u001b[0m | \u001b[1mINFO    \u001b[0m | \u001b[36mvrp_study.pdptw_model.routing_model\u001b[0m:\u001b[36mdo_solve\u001b[0m:\u001b[36m423\u001b[0m - \u001b[1mfind solution\u001b[0m\n",
      "\u001b[32m2025-08-04 12:06:04.830\u001b[0m | \u001b[1mINFO    \u001b[0m | \u001b[36mvrp_study.pdptw_model.routing_model\u001b[0m:\u001b[36mfind_optimal_paths\u001b[0m:\u001b[36m464\u001b[0m - \u001b[1mbest_score: 73.94\u001b[0m\n",
      "\u001b[32m2025-08-04 12:06:04.830\u001b[0m | \u001b[1mINFO    \u001b[0m | \u001b[36msrc.vrp_study.pdptw_model.solution_builder\u001b[0m:\u001b[36mget_initial_solution\u001b[0m:\u001b[36m138\u001b[0m - \u001b[1m[[0, 1, 2, 5, 7, 8, 6, 3, 4, 0], [], [], [], [], [], [], [], [], [], [], [], [], [], [], [], [], [], [], [], [], [], [], [], [], [], [], [], [], [], [], [], [], [], [], [], [], [], [], [], [], [], [], [], [], [], [], [], [], [], [], [], [], [], [], [], [], [], []]\u001b[0m\n"
     ]
    },
    {
     "data": {
      "application/vnd.jupyter.widget-view+json": {
       "model_id": "866d460da4aa47e29f507df0292a5684",
       "version_major": 2,
       "version_minor": 0
      },
      "text/plain": [
       "  0%|          | 0/1 [00:00<?, ?it/s]"
      ]
     },
     "metadata": {},
     "output_type": "display_data"
    },
    {
     "name": "stderr",
     "output_type": "stream",
     "text": [
      "\u001b[32m2025-08-04 12:06:04.837\u001b[0m | \u001b[1mINFO    \u001b[0m | \u001b[36mvrp_study.pdptw_model.routing_model\u001b[0m:\u001b[36mfind_optimal_paths\u001b[0m:\u001b[36m443\u001b[0m - \u001b[1mproblem size: 3\u001b[0m\n",
      "\u001b[32m2025-08-04 12:06:04.838\u001b[0m | \u001b[1mINFO    \u001b[0m | \u001b[36mvrp_study.pdptw_model.routing_model\u001b[0m:\u001b[36mdo_solve\u001b[0m:\u001b[36m378\u001b[0m - \u001b[1mНачало создания модели\u001b[0m\n",
      "\u001b[32m2025-08-04 12:06:04.840\u001b[0m | \u001b[1mINFO    \u001b[0m | \u001b[36mvrp_study.pdptw_model.routing_model\u001b[0m:\u001b[36madd_distance_dimension\u001b[0m:\u001b[36m299\u001b[0m - \u001b[1mДобавление размерности для расстояния\u001b[0m\n",
      "\u001b[32m2025-08-04 12:06:04.849\u001b[0m | \u001b[1mINFO    \u001b[0m | \u001b[36mvrp_study.pdptw_model.routing_model\u001b[0m:\u001b[36madd_count_dimension\u001b[0m:\u001b[36m335\u001b[0m - \u001b[1mДобавление размерности для расстояния\u001b[0m\n",
      "\u001b[32m2025-08-04 12:06:04.850\u001b[0m | \u001b[1mINFO    \u001b[0m | \u001b[36mvrp_study.pdptw_model.routing_model\u001b[0m:\u001b[36madd_pick_up_and_delivery\u001b[0m:\u001b[36m269\u001b[0m - \u001b[1mДобавление ограничения для порядка доставки\u001b[0m\n",
      "\u001b[32m2025-08-04 12:06:04.851\u001b[0m | \u001b[1mINFO    \u001b[0m | \u001b[36mvrp_study.pdptw_model.routing_model\u001b[0m:\u001b[36madd_time_window\u001b[0m:\u001b[36m194\u001b[0m - \u001b[1madd time\u001b[0m\n",
      "\u001b[32m2025-08-04 12:06:04.853\u001b[0m | \u001b[1mINFO    \u001b[0m | \u001b[36mvrp_study.pdptw_model.routing_model\u001b[0m:\u001b[36madd_mass_constraint\u001b[0m:\u001b[36m177\u001b[0m - \u001b[1mДобавление ограничений для массы\u001b[0m\n",
      "\u001b[32m2025-08-04 12:06:04.859\u001b[0m | \u001b[1mINFO    \u001b[0m | \u001b[36mvrp_study.pdptw_model.routing_model\u001b[0m:\u001b[36mdo_solve\u001b[0m:\u001b[36m407\u001b[0m - \u001b[1mНачало решения\u001b[0m\n",
      "\u001b[32m2025-08-04 12:06:04.863\u001b[0m | \u001b[34m\u001b[1mDEBUG   \u001b[0m | \u001b[36mvrp_study.pdptw_model.routing_model\u001b[0m:\u001b[36m__call__\u001b[0m:\u001b[36m40\u001b[0m - \u001b[34m\u001b[1mtime: 0.008; new solution (1): 1; best solution: 1\u001b[0m\n",
      "\u001b[32m2025-08-04 12:06:04.867\u001b[0m | \u001b[1mINFO    \u001b[0m | \u001b[36mvrp_study.pdptw_model.routing_model\u001b[0m:\u001b[36mdo_solve\u001b[0m:\u001b[36m423\u001b[0m - \u001b[1mfind solution\u001b[0m\n",
      "\u001b[32m2025-08-04 12:06:04.868\u001b[0m | \u001b[1mINFO    \u001b[0m | \u001b[36mvrp_study.pdptw_model.routing_model\u001b[0m:\u001b[36mfind_optimal_paths\u001b[0m:\u001b[36m451\u001b[0m - \u001b[1mbest_score: 1\u001b[0m\n",
      "\u001b[32m2025-08-04 12:06:04.868\u001b[0m | \u001b[1mINFO    \u001b[0m | \u001b[36mvrp_study.pdptw_model.routing_model\u001b[0m:\u001b[36mdo_solve\u001b[0m:\u001b[36m378\u001b[0m - \u001b[1mНачало создания модели\u001b[0m\n",
      "\u001b[32m2025-08-04 12:06:04.871\u001b[0m | \u001b[1mINFO    \u001b[0m | \u001b[36mvrp_study.pdptw_model.routing_model\u001b[0m:\u001b[36madd_distance_dimension\u001b[0m:\u001b[36m299\u001b[0m - \u001b[1mДобавление размерности для расстояния\u001b[0m\n",
      "\u001b[32m2025-08-04 12:06:04.872\u001b[0m | \u001b[1mINFO    \u001b[0m | \u001b[36mvrp_study.pdptw_model.routing_model\u001b[0m:\u001b[36madd_count_dimension\u001b[0m:\u001b[36m335\u001b[0m - \u001b[1mДобавление размерности для расстояния\u001b[0m\n",
      "\u001b[32m2025-08-04 12:06:04.874\u001b[0m | \u001b[1mINFO    \u001b[0m | \u001b[36mvrp_study.pdptw_model.routing_model\u001b[0m:\u001b[36madd_pick_up_and_delivery\u001b[0m:\u001b[36m269\u001b[0m - \u001b[1mДобавление ограничения для порядка доставки\u001b[0m\n",
      "\u001b[32m2025-08-04 12:06:04.875\u001b[0m | \u001b[1mINFO    \u001b[0m | \u001b[36mvrp_study.pdptw_model.routing_model\u001b[0m:\u001b[36madd_vehicles_cost\u001b[0m:\u001b[36m243\u001b[0m - \u001b[1mДобавление стоимостей машин\u001b[0m\n",
      "\u001b[32m2025-08-04 12:06:04.876\u001b[0m | \u001b[1mINFO    \u001b[0m | \u001b[36mvrp_study.pdptw_model.routing_model\u001b[0m:\u001b[36madd_time_window\u001b[0m:\u001b[36m194\u001b[0m - \u001b[1madd time\u001b[0m\n",
      "\u001b[32m2025-08-04 12:06:04.876\u001b[0m | \u001b[1mINFO    \u001b[0m | \u001b[36mvrp_study.pdptw_model.routing_model\u001b[0m:\u001b[36madd_mass_constraint\u001b[0m:\u001b[36m177\u001b[0m - \u001b[1mДобавление ограничений для массы\u001b[0m\n",
      "\u001b[32m2025-08-04 12:06:04.877\u001b[0m | \u001b[1mINFO    \u001b[0m | \u001b[36mvrp_study.pdptw_model.routing_model\u001b[0m:\u001b[36mdo_solve\u001b[0m:\u001b[36m407\u001b[0m - \u001b[1mНачало решения\u001b[0m\n",
      "\u001b[32m2025-08-04 12:06:04.878\u001b[0m | \u001b[1mINFO    \u001b[0m | \u001b[36mvrp_study.pdptw_model.routing_model\u001b[0m:\u001b[36mdo_solve\u001b[0m:\u001b[36m410\u001b[0m - \u001b[1muse initial_solution: 1\u001b[0m\n",
      "\u001b[32m2025-08-04 12:06:04.879\u001b[0m | \u001b[34m\u001b[1mDEBUG   \u001b[0m | \u001b[36mvrp_study.pdptw_model.routing_model\u001b[0m:\u001b[36m__call__\u001b[0m:\u001b[36m40\u001b[0m - \u001b[34m\u001b[1mtime: 0.002; new solution (1): 3819; best solution: 3819\u001b[0m\n",
      "\u001b[32m2025-08-04 12:06:04.880\u001b[0m | \u001b[34m\u001b[1mDEBUG   \u001b[0m | \u001b[36mvrp_study.pdptw_model.routing_model\u001b[0m:\u001b[36m__call__\u001b[0m:\u001b[36m40\u001b[0m - \u001b[34m\u001b[1mtime: 0.003; new solution (2): 3819; best solution: 3819\u001b[0m\n",
      "\u001b[32m2025-08-04 12:06:04.881\u001b[0m | \u001b[1mINFO    \u001b[0m | \u001b[36mvrp_study.pdptw_model.routing_model\u001b[0m:\u001b[36mdo_solve\u001b[0m:\u001b[36m423\u001b[0m - \u001b[1mfind solution\u001b[0m\n",
      "\u001b[32m2025-08-04 12:06:04.881\u001b[0m | \u001b[1mINFO    \u001b[0m | \u001b[36mvrp_study.pdptw_model.routing_model\u001b[0m:\u001b[36mfind_optimal_paths\u001b[0m:\u001b[36m464\u001b[0m - \u001b[1mbest_score: 38.19\u001b[0m\n",
      "\u001b[32m2025-08-04 12:06:04.882\u001b[0m | \u001b[1mINFO    \u001b[0m | \u001b[36msrc.vrp_study.pdptw_model.solution_builder\u001b[0m:\u001b[36mget_initial_solution\u001b[0m:\u001b[36m138\u001b[0m - \u001b[1m[[0, 1, 2, 0], [], [], [], [], [], [], [], [], [], [], [], [], [], [], [], [], [], [], [], [], [], [], [], [], [], [], [], [], [], [], [], [], [], [], [], [], [], [], [], [], [], [], [], [], [], [], [], [], [], [], [], [], [], [], [], [], []]\u001b[0m\n",
      "\u001b[32m2025-08-04 12:06:04.884\u001b[0m | \u001b[1mINFO    \u001b[0m | \u001b[36msrc.vrp_study.pdptw_model.solution_builder\u001b[0m:\u001b[36mget_initial_solution\u001b[0m:\u001b[36m118\u001b[0m - \u001b[1m(1, 32.074999999999996)\u001b[0m\n",
      "\u001b[32m2025-08-04 12:06:04.884\u001b[0m | \u001b[1mINFO    \u001b[0m | \u001b[36msrc.vrp_study.pdptw_model.solution_builder\u001b[0m:\u001b[36mget_initial_solution\u001b[0m:\u001b[36m118\u001b[0m - \u001b[1m(1, 16.0875)\u001b[0m\n",
      "\u001b[32m2025-08-04 12:06:04.885\u001b[0m | \u001b[1mINFO    \u001b[0m | \u001b[36msrc.vrp_study.pdptw_model.solution_builder\u001b[0m:\u001b[36mget_initial_solution\u001b[0m:\u001b[36m118\u001b[0m - \u001b[1m(1, 8.09375)\u001b[0m\n",
      "\u001b[32m2025-08-04 12:06:04.885\u001b[0m | \u001b[1mINFO    \u001b[0m | \u001b[36msrc.vrp_study.pdptw_model.solution_builder\u001b[0m:\u001b[36mget_initial_solution\u001b[0m:\u001b[36m118\u001b[0m - \u001b[1m(1, 4.096875)\u001b[0m\n",
      "\u001b[32m2025-08-04 12:06:04.886\u001b[0m | \u001b[1mINFO    \u001b[0m | \u001b[36msrc.vrp_study.pdptw_model.solution_builder\u001b[0m:\u001b[36mget_initial_solution\u001b[0m:\u001b[36m118\u001b[0m - \u001b[1m(1, 2.0984374999999997)\u001b[0m\n",
      "\u001b[32m2025-08-04 12:06:04.887\u001b[0m | \u001b[1mINFO    \u001b[0m | \u001b[36msrc.vrp_study.pdptw_model.solution_builder\u001b[0m:\u001b[36mget_initial_solution\u001b[0m:\u001b[36m118\u001b[0m - \u001b[1m(1, 1.09921875)\u001b[0m\n",
      "\u001b[32m2025-08-04 12:06:04.888\u001b[0m | \u001b[1mINFO    \u001b[0m | \u001b[36msrc.vrp_study.pdptw_model.solution_builder\u001b[0m:\u001b[36mget_initial_solution\u001b[0m:\u001b[36m118\u001b[0m - \u001b[1m(2, 0.599609375)\u001b[0m\n",
      "\u001b[32m2025-08-04 12:06:04.889\u001b[0m | \u001b[1mINFO    \u001b[0m | \u001b[36msrc.vrp_study.pdptw_model.solution_builder\u001b[0m:\u001b[36mget_initial_solution\u001b[0m:\u001b[36m118\u001b[0m - \u001b[1m(2, 0.3498046875)\u001b[0m\n",
      "\u001b[32m2025-08-04 12:06:04.890\u001b[0m | \u001b[1mINFO    \u001b[0m | \u001b[36msrc.vrp_study.pdptw_model.solution_builder\u001b[0m:\u001b[36mget_initial_solution\u001b[0m:\u001b[36m118\u001b[0m - \u001b[1m(3, 0.22490234375)\u001b[0m\n",
      "\u001b[32m2025-08-04 12:06:04.890\u001b[0m | \u001b[1mINFO    \u001b[0m | \u001b[36msrc.vrp_study.pdptw_model.solution_builder\u001b[0m:\u001b[36mget_initial_solution\u001b[0m:\u001b[36m118\u001b[0m - \u001b[1m(3, 0.16245117187500002)\u001b[0m\n"
     ]
    },
    {
     "data": {
      "application/vnd.jupyter.widget-view+json": {
       "model_id": "6658f0aea3ed4d86823bbaf5ff0e0c7c",
       "version_major": 2,
       "version_minor": 0
      },
      "text/plain": [
       "  0%|          | 0/1 [00:00<?, ?it/s]"
      ]
     },
     "metadata": {},
     "output_type": "display_data"
    },
    {
     "name": "stderr",
     "output_type": "stream",
     "text": [
      "\u001b[32m2025-08-04 12:06:04.895\u001b[0m | \u001b[1mINFO    \u001b[0m | \u001b[36mvrp_study.pdptw_model.routing_model\u001b[0m:\u001b[36mfind_optimal_paths\u001b[0m:\u001b[36m443\u001b[0m - \u001b[1mproblem size: 7\u001b[0m\n",
      "\u001b[32m2025-08-04 12:06:04.896\u001b[0m | \u001b[1mINFO    \u001b[0m | \u001b[36mvrp_study.pdptw_model.routing_model\u001b[0m:\u001b[36mdo_solve\u001b[0m:\u001b[36m378\u001b[0m - \u001b[1mНачало создания модели\u001b[0m\n",
      "\u001b[32m2025-08-04 12:06:04.897\u001b[0m | \u001b[1mINFO    \u001b[0m | \u001b[36mvrp_study.pdptw_model.routing_model\u001b[0m:\u001b[36madd_distance_dimension\u001b[0m:\u001b[36m299\u001b[0m - \u001b[1mДобавление размерности для расстояния\u001b[0m\n",
      "\u001b[32m2025-08-04 12:06:04.898\u001b[0m | \u001b[1mINFO    \u001b[0m | \u001b[36mvrp_study.pdptw_model.routing_model\u001b[0m:\u001b[36madd_count_dimension\u001b[0m:\u001b[36m335\u001b[0m - \u001b[1mДобавление размерности для расстояния\u001b[0m\n",
      "\u001b[32m2025-08-04 12:06:04.899\u001b[0m | \u001b[1mINFO    \u001b[0m | \u001b[36mvrp_study.pdptw_model.routing_model\u001b[0m:\u001b[36madd_pick_up_and_delivery\u001b[0m:\u001b[36m269\u001b[0m - \u001b[1mДобавление ограничения для порядка доставки\u001b[0m\n",
      "\u001b[32m2025-08-04 12:06:04.899\u001b[0m | \u001b[1mINFO    \u001b[0m | \u001b[36mvrp_study.pdptw_model.routing_model\u001b[0m:\u001b[36madd_time_window\u001b[0m:\u001b[36m194\u001b[0m - \u001b[1madd time\u001b[0m\n",
      "\u001b[32m2025-08-04 12:06:04.900\u001b[0m | \u001b[1mINFO    \u001b[0m | \u001b[36mvrp_study.pdptw_model.routing_model\u001b[0m:\u001b[36madd_mass_constraint\u001b[0m:\u001b[36m177\u001b[0m - \u001b[1mДобавление ограничений для массы\u001b[0m\n",
      "\u001b[32m2025-08-04 12:06:04.905\u001b[0m | \u001b[1mINFO    \u001b[0m | \u001b[36mvrp_study.pdptw_model.routing_model\u001b[0m:\u001b[36mdo_solve\u001b[0m:\u001b[36m407\u001b[0m - \u001b[1mНачало решения\u001b[0m\n",
      "\u001b[32m2025-08-04 12:06:04.908\u001b[0m | \u001b[34m\u001b[1mDEBUG   \u001b[0m | \u001b[36mvrp_study.pdptw_model.routing_model\u001b[0m:\u001b[36m__call__\u001b[0m:\u001b[36m40\u001b[0m - \u001b[34m\u001b[1mtime: 0.007; new solution (1): 1; best solution: 1\u001b[0m\n",
      "\u001b[32m2025-08-04 12:06:04.913\u001b[0m | \u001b[1mINFO    \u001b[0m | \u001b[36mvrp_study.pdptw_model.routing_model\u001b[0m:\u001b[36mdo_solve\u001b[0m:\u001b[36m423\u001b[0m - \u001b[1mfind solution\u001b[0m\n",
      "\u001b[32m2025-08-04 12:06:04.914\u001b[0m | \u001b[1mINFO    \u001b[0m | \u001b[36mvrp_study.pdptw_model.routing_model\u001b[0m:\u001b[36mfind_optimal_paths\u001b[0m:\u001b[36m451\u001b[0m - \u001b[1mbest_score: 1\u001b[0m\n",
      "\u001b[32m2025-08-04 12:06:04.915\u001b[0m | \u001b[1mINFO    \u001b[0m | \u001b[36mvrp_study.pdptw_model.routing_model\u001b[0m:\u001b[36mdo_solve\u001b[0m:\u001b[36m378\u001b[0m - \u001b[1mНачало создания модели\u001b[0m\n",
      "\u001b[32m2025-08-04 12:06:04.916\u001b[0m | \u001b[1mINFO    \u001b[0m | \u001b[36mvrp_study.pdptw_model.routing_model\u001b[0m:\u001b[36madd_distance_dimension\u001b[0m:\u001b[36m299\u001b[0m - \u001b[1mДобавление размерности для расстояния\u001b[0m\n",
      "\u001b[32m2025-08-04 12:06:04.917\u001b[0m | \u001b[1mINFO    \u001b[0m | \u001b[36mvrp_study.pdptw_model.routing_model\u001b[0m:\u001b[36madd_count_dimension\u001b[0m:\u001b[36m335\u001b[0m - \u001b[1mДобавление размерности для расстояния\u001b[0m\n",
      "\u001b[32m2025-08-04 12:06:04.917\u001b[0m | \u001b[1mINFO    \u001b[0m | \u001b[36mvrp_study.pdptw_model.routing_model\u001b[0m:\u001b[36madd_pick_up_and_delivery\u001b[0m:\u001b[36m269\u001b[0m - \u001b[1mДобавление ограничения для порядка доставки\u001b[0m\n",
      "\u001b[32m2025-08-04 12:06:04.918\u001b[0m | \u001b[1mINFO    \u001b[0m | \u001b[36mvrp_study.pdptw_model.routing_model\u001b[0m:\u001b[36madd_vehicles_cost\u001b[0m:\u001b[36m243\u001b[0m - \u001b[1mДобавление стоимостей машин\u001b[0m\n",
      "\u001b[32m2025-08-04 12:06:04.920\u001b[0m | \u001b[1mINFO    \u001b[0m | \u001b[36mvrp_study.pdptw_model.routing_model\u001b[0m:\u001b[36madd_time_window\u001b[0m:\u001b[36m194\u001b[0m - \u001b[1madd time\u001b[0m\n",
      "\u001b[32m2025-08-04 12:06:04.921\u001b[0m | \u001b[1mINFO    \u001b[0m | \u001b[36mvrp_study.pdptw_model.routing_model\u001b[0m:\u001b[36madd_mass_constraint\u001b[0m:\u001b[36m177\u001b[0m - \u001b[1mДобавление ограничений для массы\u001b[0m\n",
      "\u001b[32m2025-08-04 12:06:04.922\u001b[0m | \u001b[1mINFO    \u001b[0m | \u001b[36mvrp_study.pdptw_model.routing_model\u001b[0m:\u001b[36mdo_solve\u001b[0m:\u001b[36m407\u001b[0m - \u001b[1mНачало решения\u001b[0m\n",
      "\u001b[32m2025-08-04 12:06:04.923\u001b[0m | \u001b[1mINFO    \u001b[0m | \u001b[36mvrp_study.pdptw_model.routing_model\u001b[0m:\u001b[36mdo_solve\u001b[0m:\u001b[36m410\u001b[0m - \u001b[1muse initial_solution: 1\u001b[0m\n",
      "\u001b[32m2025-08-04 12:06:04.923\u001b[0m | \u001b[34m\u001b[1mDEBUG   \u001b[0m | \u001b[36mvrp_study.pdptw_model.routing_model\u001b[0m:\u001b[36m__call__\u001b[0m:\u001b[36m40\u001b[0m - \u001b[34m\u001b[1mtime: 0.001; new solution (1): 15949; best solution: 15949\u001b[0m\n",
      "\u001b[32m2025-08-04 12:06:04.924\u001b[0m | \u001b[34m\u001b[1mDEBUG   \u001b[0m | \u001b[36mvrp_study.pdptw_model.routing_model\u001b[0m:\u001b[36m__call__\u001b[0m:\u001b[36m40\u001b[0m - \u001b[34m\u001b[1mtime: 0.002; new solution (2): 15949; best solution: 15949\u001b[0m\n",
      "\u001b[32m2025-08-04 12:06:04.926\u001b[0m | \u001b[1mINFO    \u001b[0m | \u001b[36mvrp_study.pdptw_model.routing_model\u001b[0m:\u001b[36mdo_solve\u001b[0m:\u001b[36m423\u001b[0m - \u001b[1mfind solution\u001b[0m\n",
      "\u001b[32m2025-08-04 12:06:04.927\u001b[0m | \u001b[1mINFO    \u001b[0m | \u001b[36mvrp_study.pdptw_model.routing_model\u001b[0m:\u001b[36mfind_optimal_paths\u001b[0m:\u001b[36m464\u001b[0m - \u001b[1mbest_score: 159.49\u001b[0m\n",
      "\u001b[32m2025-08-04 12:06:04.928\u001b[0m | \u001b[1mINFO    \u001b[0m | \u001b[36msrc.vrp_study.pdptw_model.solution_builder\u001b[0m:\u001b[36mget_initial_solution\u001b[0m:\u001b[36m138\u001b[0m - \u001b[1m[[0, 5, 6, 1, 3, 2, 4, 0], [], [], [], [], [], [], [], [], [], [], [], [], [], [], [], [], [], [], [], [], [], [], [], [], [], [], [], [], [], [], [], [], [], [], [], [], [], [], [], [], [], [], [], [], [], [], [], [], [], [], [], [], [], [], [], []]\u001b[0m\n",
      "\u001b[32m2025-08-04 12:06:04.929\u001b[0m | \u001b[1mINFO    \u001b[0m | \u001b[36msrc.vrp_study.pdptw_model.solution_builder\u001b[0m:\u001b[36mget_initial_solution\u001b[0m:\u001b[36m118\u001b[0m - \u001b[1m(1, 32.074999999999996)\u001b[0m\n",
      "\u001b[32m2025-08-04 12:06:04.930\u001b[0m | \u001b[1mINFO    \u001b[0m | \u001b[36msrc.vrp_study.pdptw_model.solution_builder\u001b[0m:\u001b[36mget_initial_solution\u001b[0m:\u001b[36m118\u001b[0m - \u001b[1m(1, 16.0875)\u001b[0m\n",
      "\u001b[32m2025-08-04 12:06:04.931\u001b[0m | \u001b[1mINFO    \u001b[0m | \u001b[36msrc.vrp_study.pdptw_model.solution_builder\u001b[0m:\u001b[36mget_initial_solution\u001b[0m:\u001b[36m118\u001b[0m - \u001b[1m(1, 8.09375)\u001b[0m\n",
      "\u001b[32m2025-08-04 12:06:04.932\u001b[0m | \u001b[1mINFO    \u001b[0m | \u001b[36msrc.vrp_study.pdptw_model.solution_builder\u001b[0m:\u001b[36mget_initial_solution\u001b[0m:\u001b[36m118\u001b[0m - \u001b[1m(1, 4.096875)\u001b[0m\n",
      "\u001b[32m2025-08-04 12:06:04.932\u001b[0m | \u001b[1mINFO    \u001b[0m | \u001b[36msrc.vrp_study.pdptw_model.solution_builder\u001b[0m:\u001b[36mget_initial_solution\u001b[0m:\u001b[36m118\u001b[0m - \u001b[1m(1, 2.0984374999999997)\u001b[0m\n",
      "\u001b[32m2025-08-04 12:06:04.932\u001b[0m | \u001b[1mINFO    \u001b[0m | \u001b[36msrc.vrp_study.pdptw_model.solution_builder\u001b[0m:\u001b[36mget_initial_solution\u001b[0m:\u001b[36m118\u001b[0m - \u001b[1m(1, 1.09921875)\u001b[0m\n",
      "\u001b[32m2025-08-04 12:06:04.934\u001b[0m | \u001b[1mINFO    \u001b[0m | \u001b[36msrc.vrp_study.pdptw_model.solution_builder\u001b[0m:\u001b[36mget_initial_solution\u001b[0m:\u001b[36m118\u001b[0m - \u001b[1m(2, 0.599609375)\u001b[0m\n",
      "\u001b[32m2025-08-04 12:06:04.934\u001b[0m | \u001b[1mINFO    \u001b[0m | \u001b[36msrc.vrp_study.pdptw_model.solution_builder\u001b[0m:\u001b[36mget_initial_solution\u001b[0m:\u001b[36m118\u001b[0m - \u001b[1m(4, 0.3498046875)\u001b[0m\n",
      "\u001b[32m2025-08-04 12:06:04.935\u001b[0m | \u001b[1mINFO    \u001b[0m | \u001b[36msrc.vrp_study.pdptw_model.solution_builder\u001b[0m:\u001b[36mget_initial_solution\u001b[0m:\u001b[36m118\u001b[0m - \u001b[1m(4, 0.22490234375)\u001b[0m\n",
      "\u001b[32m2025-08-04 12:06:04.935\u001b[0m | \u001b[1mINFO    \u001b[0m | \u001b[36msrc.vrp_study.pdptw_model.solution_builder\u001b[0m:\u001b[36mget_initial_solution\u001b[0m:\u001b[36m118\u001b[0m - \u001b[1m(4, 0.16245117187500002)\u001b[0m\n"
     ]
    },
    {
     "data": {
      "application/vnd.jupyter.widget-view+json": {
       "model_id": "ba7ba600df6d496db94013940c97027b",
       "version_major": 2,
       "version_minor": 0
      },
      "text/plain": [
       "  0%|          | 0/1 [00:00<?, ?it/s]"
      ]
     },
     "metadata": {},
     "output_type": "display_data"
    },
    {
     "name": "stderr",
     "output_type": "stream",
     "text": [
      "\u001b[32m2025-08-04 12:06:04.941\u001b[0m | \u001b[1mINFO    \u001b[0m | \u001b[36mvrp_study.pdptw_model.routing_model\u001b[0m:\u001b[36mfind_optimal_paths\u001b[0m:\u001b[36m443\u001b[0m - \u001b[1mproblem size: 9\u001b[0m\n",
      "\u001b[32m2025-08-04 12:06:04.942\u001b[0m | \u001b[1mINFO    \u001b[0m | \u001b[36mvrp_study.pdptw_model.routing_model\u001b[0m:\u001b[36mdo_solve\u001b[0m:\u001b[36m378\u001b[0m - \u001b[1mНачало создания модели\u001b[0m\n",
      "\u001b[32m2025-08-04 12:06:04.943\u001b[0m | \u001b[1mINFO    \u001b[0m | \u001b[36mvrp_study.pdptw_model.routing_model\u001b[0m:\u001b[36madd_distance_dimension\u001b[0m:\u001b[36m299\u001b[0m - \u001b[1mДобавление размерности для расстояния\u001b[0m\n",
      "\u001b[32m2025-08-04 12:06:04.944\u001b[0m | \u001b[1mINFO    \u001b[0m | \u001b[36mvrp_study.pdptw_model.routing_model\u001b[0m:\u001b[36madd_count_dimension\u001b[0m:\u001b[36m335\u001b[0m - \u001b[1mДобавление размерности для расстояния\u001b[0m\n",
      "\u001b[32m2025-08-04 12:06:04.944\u001b[0m | \u001b[1mINFO    \u001b[0m | \u001b[36mvrp_study.pdptw_model.routing_model\u001b[0m:\u001b[36madd_pick_up_and_delivery\u001b[0m:\u001b[36m269\u001b[0m - \u001b[1mДобавление ограничения для порядка доставки\u001b[0m\n",
      "\u001b[32m2025-08-04 12:06:04.945\u001b[0m | \u001b[1mINFO    \u001b[0m | \u001b[36mvrp_study.pdptw_model.routing_model\u001b[0m:\u001b[36madd_time_window\u001b[0m:\u001b[36m194\u001b[0m - \u001b[1madd time\u001b[0m\n",
      "\u001b[32m2025-08-04 12:06:04.946\u001b[0m | \u001b[1mINFO    \u001b[0m | \u001b[36mvrp_study.pdptw_model.routing_model\u001b[0m:\u001b[36madd_mass_constraint\u001b[0m:\u001b[36m177\u001b[0m - \u001b[1mДобавление ограничений для массы\u001b[0m\n",
      "\u001b[32m2025-08-04 12:06:04.949\u001b[0m | \u001b[1mINFO    \u001b[0m | \u001b[36mvrp_study.pdptw_model.routing_model\u001b[0m:\u001b[36mdo_solve\u001b[0m:\u001b[36m407\u001b[0m - \u001b[1mНачало решения\u001b[0m\n",
      "\u001b[32m2025-08-04 12:06:04.953\u001b[0m | \u001b[34m\u001b[1mDEBUG   \u001b[0m | \u001b[36mvrp_study.pdptw_model.routing_model\u001b[0m:\u001b[36m__call__\u001b[0m:\u001b[36m40\u001b[0m - \u001b[34m\u001b[1mtime: 0.007; new solution (1): 1; best solution: 1\u001b[0m\n",
      "\u001b[32m2025-08-04 12:06:04.963\u001b[0m | \u001b[1mINFO    \u001b[0m | \u001b[36mvrp_study.pdptw_model.routing_model\u001b[0m:\u001b[36mdo_solve\u001b[0m:\u001b[36m423\u001b[0m - \u001b[1mfind solution\u001b[0m\n",
      "\u001b[32m2025-08-04 12:06:04.964\u001b[0m | \u001b[1mINFO    \u001b[0m | \u001b[36mvrp_study.pdptw_model.routing_model\u001b[0m:\u001b[36mfind_optimal_paths\u001b[0m:\u001b[36m451\u001b[0m - \u001b[1mbest_score: 1\u001b[0m\n",
      "\u001b[32m2025-08-04 12:06:04.964\u001b[0m | \u001b[1mINFO    \u001b[0m | \u001b[36mvrp_study.pdptw_model.routing_model\u001b[0m:\u001b[36mdo_solve\u001b[0m:\u001b[36m378\u001b[0m - \u001b[1mНачало создания модели\u001b[0m\n",
      "\u001b[32m2025-08-04 12:06:04.965\u001b[0m | \u001b[1mINFO    \u001b[0m | \u001b[36mvrp_study.pdptw_model.routing_model\u001b[0m:\u001b[36madd_distance_dimension\u001b[0m:\u001b[36m299\u001b[0m - \u001b[1mДобавление размерности для расстояния\u001b[0m\n",
      "\u001b[32m2025-08-04 12:06:04.966\u001b[0m | \u001b[1mINFO    \u001b[0m | \u001b[36mvrp_study.pdptw_model.routing_model\u001b[0m:\u001b[36madd_count_dimension\u001b[0m:\u001b[36m335\u001b[0m - \u001b[1mДобавление размерности для расстояния\u001b[0m\n",
      "\u001b[32m2025-08-04 12:06:04.967\u001b[0m | \u001b[1mINFO    \u001b[0m | \u001b[36mvrp_study.pdptw_model.routing_model\u001b[0m:\u001b[36madd_pick_up_and_delivery\u001b[0m:\u001b[36m269\u001b[0m - \u001b[1mДобавление ограничения для порядка доставки\u001b[0m\n",
      "\u001b[32m2025-08-04 12:06:04.967\u001b[0m | \u001b[1mINFO    \u001b[0m | \u001b[36mvrp_study.pdptw_model.routing_model\u001b[0m:\u001b[36madd_vehicles_cost\u001b[0m:\u001b[36m243\u001b[0m - \u001b[1mДобавление стоимостей машин\u001b[0m\n",
      "\u001b[32m2025-08-04 12:06:04.968\u001b[0m | \u001b[1mINFO    \u001b[0m | \u001b[36mvrp_study.pdptw_model.routing_model\u001b[0m:\u001b[36madd_time_window\u001b[0m:\u001b[36m194\u001b[0m - \u001b[1madd time\u001b[0m\n",
      "\u001b[32m2025-08-04 12:06:04.969\u001b[0m | \u001b[1mINFO    \u001b[0m | \u001b[36mvrp_study.pdptw_model.routing_model\u001b[0m:\u001b[36madd_mass_constraint\u001b[0m:\u001b[36m177\u001b[0m - \u001b[1mДобавление ограничений для массы\u001b[0m\n",
      "\u001b[32m2025-08-04 12:06:04.971\u001b[0m | \u001b[1mINFO    \u001b[0m | \u001b[36mvrp_study.pdptw_model.routing_model\u001b[0m:\u001b[36mdo_solve\u001b[0m:\u001b[36m407\u001b[0m - \u001b[1mНачало решения\u001b[0m\n",
      "\u001b[32m2025-08-04 12:06:04.971\u001b[0m | \u001b[1mINFO    \u001b[0m | \u001b[36mvrp_study.pdptw_model.routing_model\u001b[0m:\u001b[36mdo_solve\u001b[0m:\u001b[36m410\u001b[0m - \u001b[1muse initial_solution: 1\u001b[0m\n",
      "\u001b[32m2025-08-04 12:06:04.972\u001b[0m | \u001b[34m\u001b[1mDEBUG   \u001b[0m | \u001b[36mvrp_study.pdptw_model.routing_model\u001b[0m:\u001b[36m__call__\u001b[0m:\u001b[36m40\u001b[0m - \u001b[34m\u001b[1mtime: 0.002; new solution (1): 23416; best solution: 23416\u001b[0m\n",
      "\u001b[32m2025-08-04 12:06:04.973\u001b[0m | \u001b[34m\u001b[1mDEBUG   \u001b[0m | \u001b[36mvrp_study.pdptw_model.routing_model\u001b[0m:\u001b[36m__call__\u001b[0m:\u001b[36m40\u001b[0m - \u001b[34m\u001b[1mtime: 0.003; new solution (2): 23416; best solution: 23416\u001b[0m\n",
      "\u001b[32m2025-08-04 12:06:04.978\u001b[0m | \u001b[1mINFO    \u001b[0m | \u001b[36mvrp_study.pdptw_model.routing_model\u001b[0m:\u001b[36mdo_solve\u001b[0m:\u001b[36m423\u001b[0m - \u001b[1mfind solution\u001b[0m\n",
      "\u001b[32m2025-08-04 12:06:04.979\u001b[0m | \u001b[1mINFO    \u001b[0m | \u001b[36mvrp_study.pdptw_model.routing_model\u001b[0m:\u001b[36mfind_optimal_paths\u001b[0m:\u001b[36m464\u001b[0m - \u001b[1mbest_score: 234.16\u001b[0m\n",
      "\u001b[32m2025-08-04 12:06:04.980\u001b[0m | \u001b[1mINFO    \u001b[0m | \u001b[36msrc.vrp_study.pdptw_model.solution_builder\u001b[0m:\u001b[36mget_initial_solution\u001b[0m:\u001b[36m138\u001b[0m - \u001b[1m[[0, 1, 2, 3, 4, 5, 7, 6, 8, 0], [], [], [], [], [], [], [], [], [], [], [], [], [], [], [], [], [], [], [], [], [], [], [], [], [], [], [], [], [], [], [], [], [], [], [], [], [], [], [], [], [], [], [], [], [], [], [], [], [], [], [], [], [], [], []]\u001b[0m\n"
     ]
    },
    {
     "data": {
      "application/vnd.jupyter.widget-view+json": {
       "model_id": "943bff40bdd84ba6a7400421540b81cc",
       "version_major": 2,
       "version_minor": 0
      },
      "text/plain": [
       "  0%|          | 0/1 [00:00<?, ?it/s]"
      ]
     },
     "metadata": {},
     "output_type": "display_data"
    },
    {
     "name": "stderr",
     "output_type": "stream",
     "text": [
      "\u001b[32m2025-08-04 12:06:04.987\u001b[0m | \u001b[1mINFO    \u001b[0m | \u001b[36mvrp_study.pdptw_model.routing_model\u001b[0m:\u001b[36mfind_optimal_paths\u001b[0m:\u001b[36m443\u001b[0m - \u001b[1mproblem size: 3\u001b[0m\n",
      "\u001b[32m2025-08-04 12:06:04.988\u001b[0m | \u001b[1mINFO    \u001b[0m | \u001b[36mvrp_study.pdptw_model.routing_model\u001b[0m:\u001b[36mdo_solve\u001b[0m:\u001b[36m378\u001b[0m - \u001b[1mНачало создания модели\u001b[0m\n",
      "\u001b[32m2025-08-04 12:06:04.990\u001b[0m | \u001b[1mINFO    \u001b[0m | \u001b[36mvrp_study.pdptw_model.routing_model\u001b[0m:\u001b[36madd_distance_dimension\u001b[0m:\u001b[36m299\u001b[0m - \u001b[1mДобавление размерности для расстояния\u001b[0m\n",
      "\u001b[32m2025-08-04 12:06:04.991\u001b[0m | \u001b[1mINFO    \u001b[0m | \u001b[36mvrp_study.pdptw_model.routing_model\u001b[0m:\u001b[36madd_count_dimension\u001b[0m:\u001b[36m335\u001b[0m - \u001b[1mДобавление размерности для расстояния\u001b[0m\n",
      "\u001b[32m2025-08-04 12:06:04.992\u001b[0m | \u001b[1mINFO    \u001b[0m | \u001b[36mvrp_study.pdptw_model.routing_model\u001b[0m:\u001b[36madd_pick_up_and_delivery\u001b[0m:\u001b[36m269\u001b[0m - \u001b[1mДобавление ограничения для порядка доставки\u001b[0m\n",
      "\u001b[32m2025-08-04 12:06:04.992\u001b[0m | \u001b[1mINFO    \u001b[0m | \u001b[36mvrp_study.pdptw_model.routing_model\u001b[0m:\u001b[36madd_time_window\u001b[0m:\u001b[36m194\u001b[0m - \u001b[1madd time\u001b[0m\n",
      "\u001b[32m2025-08-04 12:06:04.993\u001b[0m | \u001b[1mINFO    \u001b[0m | \u001b[36mvrp_study.pdptw_model.routing_model\u001b[0m:\u001b[36madd_mass_constraint\u001b[0m:\u001b[36m177\u001b[0m - \u001b[1mДобавление ограничений для массы\u001b[0m\n",
      "\u001b[32m2025-08-04 12:06:04.996\u001b[0m | \u001b[1mINFO    \u001b[0m | \u001b[36mvrp_study.pdptw_model.routing_model\u001b[0m:\u001b[36mdo_solve\u001b[0m:\u001b[36m407\u001b[0m - \u001b[1mНачало решения\u001b[0m\n",
      "\u001b[32m2025-08-04 12:06:05.000\u001b[0m | \u001b[34m\u001b[1mDEBUG   \u001b[0m | \u001b[36mvrp_study.pdptw_model.routing_model\u001b[0m:\u001b[36m__call__\u001b[0m:\u001b[36m40\u001b[0m - \u001b[34m\u001b[1mtime: 0.006; new solution (1): 1; best solution: 1\u001b[0m\n",
      "\u001b[32m2025-08-04 12:06:05.002\u001b[0m | \u001b[1mINFO    \u001b[0m | \u001b[36mvrp_study.pdptw_model.routing_model\u001b[0m:\u001b[36mdo_solve\u001b[0m:\u001b[36m423\u001b[0m - \u001b[1mfind solution\u001b[0m\n",
      "\u001b[32m2025-08-04 12:06:05.003\u001b[0m | \u001b[1mINFO    \u001b[0m | \u001b[36mvrp_study.pdptw_model.routing_model\u001b[0m:\u001b[36mfind_optimal_paths\u001b[0m:\u001b[36m451\u001b[0m - \u001b[1mbest_score: 1\u001b[0m\n",
      "\u001b[32m2025-08-04 12:06:05.004\u001b[0m | \u001b[1mINFO    \u001b[0m | \u001b[36mvrp_study.pdptw_model.routing_model\u001b[0m:\u001b[36mdo_solve\u001b[0m:\u001b[36m378\u001b[0m - \u001b[1mНачало создания модели\u001b[0m\n",
      "\u001b[32m2025-08-04 12:06:05.007\u001b[0m | \u001b[1mINFO    \u001b[0m | \u001b[36mvrp_study.pdptw_model.routing_model\u001b[0m:\u001b[36madd_distance_dimension\u001b[0m:\u001b[36m299\u001b[0m - \u001b[1mДобавление размерности для расстояния\u001b[0m\n",
      "\u001b[32m2025-08-04 12:06:05.008\u001b[0m | \u001b[1mINFO    \u001b[0m | \u001b[36mvrp_study.pdptw_model.routing_model\u001b[0m:\u001b[36madd_count_dimension\u001b[0m:\u001b[36m335\u001b[0m - \u001b[1mДобавление размерности для расстояния\u001b[0m\n",
      "\u001b[32m2025-08-04 12:06:05.009\u001b[0m | \u001b[1mINFO    \u001b[0m | \u001b[36mvrp_study.pdptw_model.routing_model\u001b[0m:\u001b[36madd_pick_up_and_delivery\u001b[0m:\u001b[36m269\u001b[0m - \u001b[1mДобавление ограничения для порядка доставки\u001b[0m\n",
      "\u001b[32m2025-08-04 12:06:05.010\u001b[0m | \u001b[1mINFO    \u001b[0m | \u001b[36mvrp_study.pdptw_model.routing_model\u001b[0m:\u001b[36madd_vehicles_cost\u001b[0m:\u001b[36m243\u001b[0m - \u001b[1mДобавление стоимостей машин\u001b[0m\n",
      "\u001b[32m2025-08-04 12:06:05.010\u001b[0m | \u001b[1mINFO    \u001b[0m | \u001b[36mvrp_study.pdptw_model.routing_model\u001b[0m:\u001b[36madd_time_window\u001b[0m:\u001b[36m194\u001b[0m - \u001b[1madd time\u001b[0m\n",
      "\u001b[32m2025-08-04 12:06:05.011\u001b[0m | \u001b[1mINFO    \u001b[0m | \u001b[36mvrp_study.pdptw_model.routing_model\u001b[0m:\u001b[36madd_mass_constraint\u001b[0m:\u001b[36m177\u001b[0m - \u001b[1mДобавление ограничений для массы\u001b[0m\n",
      "\u001b[32m2025-08-04 12:06:05.012\u001b[0m | \u001b[1mINFO    \u001b[0m | \u001b[36mvrp_study.pdptw_model.routing_model\u001b[0m:\u001b[36mdo_solve\u001b[0m:\u001b[36m407\u001b[0m - \u001b[1mНачало решения\u001b[0m\n",
      "\u001b[32m2025-08-04 12:06:05.012\u001b[0m | \u001b[1mINFO    \u001b[0m | \u001b[36mvrp_study.pdptw_model.routing_model\u001b[0m:\u001b[36mdo_solve\u001b[0m:\u001b[36m410\u001b[0m - \u001b[1muse initial_solution: 1\u001b[0m\n",
      "\u001b[32m2025-08-04 12:06:05.013\u001b[0m | \u001b[34m\u001b[1mDEBUG   \u001b[0m | \u001b[36mvrp_study.pdptw_model.routing_model\u001b[0m:\u001b[36m__call__\u001b[0m:\u001b[36m40\u001b[0m - \u001b[34m\u001b[1mtime: 0.002; new solution (1): 12524; best solution: 12524\u001b[0m\n",
      "\u001b[32m2025-08-04 12:06:05.014\u001b[0m | \u001b[34m\u001b[1mDEBUG   \u001b[0m | \u001b[36mvrp_study.pdptw_model.routing_model\u001b[0m:\u001b[36m__call__\u001b[0m:\u001b[36m40\u001b[0m - \u001b[34m\u001b[1mtime: 0.003; new solution (2): 12524; best solution: 12524\u001b[0m\n",
      "\u001b[32m2025-08-04 12:06:05.015\u001b[0m | \u001b[1mINFO    \u001b[0m | \u001b[36mvrp_study.pdptw_model.routing_model\u001b[0m:\u001b[36mdo_solve\u001b[0m:\u001b[36m423\u001b[0m - \u001b[1mfind solution\u001b[0m\n",
      "\u001b[32m2025-08-04 12:06:05.016\u001b[0m | \u001b[1mINFO    \u001b[0m | \u001b[36mvrp_study.pdptw_model.routing_model\u001b[0m:\u001b[36mfind_optimal_paths\u001b[0m:\u001b[36m464\u001b[0m - \u001b[1mbest_score: 125.24\u001b[0m\n",
      "\u001b[32m2025-08-04 12:06:05.016\u001b[0m | \u001b[1mINFO    \u001b[0m | \u001b[36msrc.vrp_study.pdptw_model.solution_builder\u001b[0m:\u001b[36mget_initial_solution\u001b[0m:\u001b[36m138\u001b[0m - \u001b[1m[[0, 1, 2, 0], [], [], [], [], [], [], [], [], [], [], [], [], [], [], [], [], [], [], [], [], [], [], [], [], [], [], [], [], [], [], [], [], [], [], [], [], [], [], [], [], [], [], [], [], [], [], [], [], [], [], [], [], [], []]\u001b[0m\n"
     ]
    },
    {
     "data": {
      "application/vnd.jupyter.widget-view+json": {
       "model_id": "4472ba8a3944419d8bfe92a51a8d26d3",
       "version_major": 2,
       "version_minor": 0
      },
      "text/plain": [
       "  0%|          | 0/1 [00:00<?, ?it/s]"
      ]
     },
     "metadata": {},
     "output_type": "display_data"
    },
    {
     "name": "stderr",
     "output_type": "stream",
     "text": [
      "\u001b[32m2025-08-04 12:06:05.023\u001b[0m | \u001b[1mINFO    \u001b[0m | \u001b[36mvrp_study.pdptw_model.routing_model\u001b[0m:\u001b[36mfind_optimal_paths\u001b[0m:\u001b[36m443\u001b[0m - \u001b[1mproblem size: 3\u001b[0m\n",
      "\u001b[32m2025-08-04 12:06:05.024\u001b[0m | \u001b[1mINFO    \u001b[0m | \u001b[36mvrp_study.pdptw_model.routing_model\u001b[0m:\u001b[36mdo_solve\u001b[0m:\u001b[36m378\u001b[0m - \u001b[1mНачало создания модели\u001b[0m\n",
      "\u001b[32m2025-08-04 12:06:05.025\u001b[0m | \u001b[1mINFO    \u001b[0m | \u001b[36mvrp_study.pdptw_model.routing_model\u001b[0m:\u001b[36madd_distance_dimension\u001b[0m:\u001b[36m299\u001b[0m - \u001b[1mДобавление размерности для расстояния\u001b[0m\n",
      "\u001b[32m2025-08-04 12:06:05.026\u001b[0m | \u001b[1mINFO    \u001b[0m | \u001b[36mvrp_study.pdptw_model.routing_model\u001b[0m:\u001b[36madd_count_dimension\u001b[0m:\u001b[36m335\u001b[0m - \u001b[1mДобавление размерности для расстояния\u001b[0m\n",
      "\u001b[32m2025-08-04 12:06:05.027\u001b[0m | \u001b[1mINFO    \u001b[0m | \u001b[36mvrp_study.pdptw_model.routing_model\u001b[0m:\u001b[36madd_pick_up_and_delivery\u001b[0m:\u001b[36m269\u001b[0m - \u001b[1mДобавление ограничения для порядка доставки\u001b[0m\n",
      "\u001b[32m2025-08-04 12:06:05.027\u001b[0m | \u001b[1mINFO    \u001b[0m | \u001b[36mvrp_study.pdptw_model.routing_model\u001b[0m:\u001b[36madd_time_window\u001b[0m:\u001b[36m194\u001b[0m - \u001b[1madd time\u001b[0m\n",
      "\u001b[32m2025-08-04 12:06:05.028\u001b[0m | \u001b[1mINFO    \u001b[0m | \u001b[36mvrp_study.pdptw_model.routing_model\u001b[0m:\u001b[36madd_mass_constraint\u001b[0m:\u001b[36m177\u001b[0m - \u001b[1mДобавление ограничений для массы\u001b[0m\n",
      "\u001b[32m2025-08-04 12:06:05.031\u001b[0m | \u001b[1mINFO    \u001b[0m | \u001b[36mvrp_study.pdptw_model.routing_model\u001b[0m:\u001b[36mdo_solve\u001b[0m:\u001b[36m407\u001b[0m - \u001b[1mНачало решения\u001b[0m\n",
      "\u001b[32m2025-08-04 12:06:05.035\u001b[0m | \u001b[34m\u001b[1mDEBUG   \u001b[0m | \u001b[36mvrp_study.pdptw_model.routing_model\u001b[0m:\u001b[36m__call__\u001b[0m:\u001b[36m40\u001b[0m - \u001b[34m\u001b[1mtime: 0.006; new solution (1): 1; best solution: 1\u001b[0m\n",
      "\u001b[32m2025-08-04 12:06:05.039\u001b[0m | \u001b[1mINFO    \u001b[0m | \u001b[36mvrp_study.pdptw_model.routing_model\u001b[0m:\u001b[36mdo_solve\u001b[0m:\u001b[36m423\u001b[0m - \u001b[1mfind solution\u001b[0m\n",
      "\u001b[32m2025-08-04 12:06:05.040\u001b[0m | \u001b[1mINFO    \u001b[0m | \u001b[36mvrp_study.pdptw_model.routing_model\u001b[0m:\u001b[36mfind_optimal_paths\u001b[0m:\u001b[36m451\u001b[0m - \u001b[1mbest_score: 1\u001b[0m\n",
      "\u001b[32m2025-08-04 12:06:05.041\u001b[0m | \u001b[1mINFO    \u001b[0m | \u001b[36mvrp_study.pdptw_model.routing_model\u001b[0m:\u001b[36mdo_solve\u001b[0m:\u001b[36m378\u001b[0m - \u001b[1mНачало создания модели\u001b[0m\n",
      "\u001b[32m2025-08-04 12:06:05.042\u001b[0m | \u001b[1mINFO    \u001b[0m | \u001b[36mvrp_study.pdptw_model.routing_model\u001b[0m:\u001b[36madd_distance_dimension\u001b[0m:\u001b[36m299\u001b[0m - \u001b[1mДобавление размерности для расстояния\u001b[0m\n",
      "\u001b[32m2025-08-04 12:06:05.042\u001b[0m | \u001b[1mINFO    \u001b[0m | \u001b[36mvrp_study.pdptw_model.routing_model\u001b[0m:\u001b[36madd_count_dimension\u001b[0m:\u001b[36m335\u001b[0m - \u001b[1mДобавление размерности для расстояния\u001b[0m\n",
      "\u001b[32m2025-08-04 12:06:05.043\u001b[0m | \u001b[1mINFO    \u001b[0m | \u001b[36mvrp_study.pdptw_model.routing_model\u001b[0m:\u001b[36madd_pick_up_and_delivery\u001b[0m:\u001b[36m269\u001b[0m - \u001b[1mДобавление ограничения для порядка доставки\u001b[0m\n",
      "\u001b[32m2025-08-04 12:06:05.043\u001b[0m | \u001b[1mINFO    \u001b[0m | \u001b[36mvrp_study.pdptw_model.routing_model\u001b[0m:\u001b[36madd_vehicles_cost\u001b[0m:\u001b[36m243\u001b[0m - \u001b[1mДобавление стоимостей машин\u001b[0m\n",
      "\u001b[32m2025-08-04 12:06:05.044\u001b[0m | \u001b[1mINFO    \u001b[0m | \u001b[36mvrp_study.pdptw_model.routing_model\u001b[0m:\u001b[36madd_time_window\u001b[0m:\u001b[36m194\u001b[0m - \u001b[1madd time\u001b[0m\n",
      "\u001b[32m2025-08-04 12:06:05.044\u001b[0m | \u001b[1mINFO    \u001b[0m | \u001b[36mvrp_study.pdptw_model.routing_model\u001b[0m:\u001b[36madd_mass_constraint\u001b[0m:\u001b[36m177\u001b[0m - \u001b[1mДобавление ограничений для массы\u001b[0m\n",
      "\u001b[32m2025-08-04 12:06:05.045\u001b[0m | \u001b[1mINFO    \u001b[0m | \u001b[36mvrp_study.pdptw_model.routing_model\u001b[0m:\u001b[36mdo_solve\u001b[0m:\u001b[36m407\u001b[0m - \u001b[1mНачало решения\u001b[0m\n",
      "\u001b[32m2025-08-04 12:06:05.046\u001b[0m | \u001b[1mINFO    \u001b[0m | \u001b[36mvrp_study.pdptw_model.routing_model\u001b[0m:\u001b[36mdo_solve\u001b[0m:\u001b[36m410\u001b[0m - \u001b[1muse initial_solution: 1\u001b[0m\n",
      "\u001b[32m2025-08-04 12:06:05.046\u001b[0m | \u001b[34m\u001b[1mDEBUG   \u001b[0m | \u001b[36mvrp_study.pdptw_model.routing_model\u001b[0m:\u001b[36m__call__\u001b[0m:\u001b[36m40\u001b[0m - \u001b[34m\u001b[1mtime: 0.001; new solution (1): 4494; best solution: 4494\u001b[0m\n",
      "\u001b[32m2025-08-04 12:06:05.047\u001b[0m | \u001b[34m\u001b[1mDEBUG   \u001b[0m | \u001b[36mvrp_study.pdptw_model.routing_model\u001b[0m:\u001b[36m__call__\u001b[0m:\u001b[36m40\u001b[0m - \u001b[34m\u001b[1mtime: 0.002; new solution (2): 4494; best solution: 4494\u001b[0m\n",
      "\u001b[32m2025-08-04 12:06:05.048\u001b[0m | \u001b[1mINFO    \u001b[0m | \u001b[36mvrp_study.pdptw_model.routing_model\u001b[0m:\u001b[36mdo_solve\u001b[0m:\u001b[36m423\u001b[0m - \u001b[1mfind solution\u001b[0m\n",
      "\u001b[32m2025-08-04 12:06:05.049\u001b[0m | \u001b[1mINFO    \u001b[0m | \u001b[36mvrp_study.pdptw_model.routing_model\u001b[0m:\u001b[36mfind_optimal_paths\u001b[0m:\u001b[36m464\u001b[0m - \u001b[1mbest_score: 44.94\u001b[0m\n",
      "\u001b[32m2025-08-04 12:06:05.050\u001b[0m | \u001b[1mINFO    \u001b[0m | \u001b[36msrc.vrp_study.pdptw_model.solution_builder\u001b[0m:\u001b[36mget_initial_solution\u001b[0m:\u001b[36m138\u001b[0m - \u001b[1m[[0, 1, 2, 0], [], [], [], [], [], [], [], [], [], [], [], [], [], [], [], [], [], [], [], [], [], [], [], [], [], [], [], [], [], [], [], [], [], [], [], [], [], [], [], [], [], [], [], [], [], [], [], [], [], [], [], [], []]\u001b[0m\n"
     ]
    },
    {
     "data": {
      "application/vnd.jupyter.widget-view+json": {
       "model_id": "ecb36a9e16234c82b255e9b71016c4b4",
       "version_major": 2,
       "version_minor": 0
      },
      "text/plain": [
       "  0%|          | 0/1 [00:00<?, ?it/s]"
      ]
     },
     "metadata": {},
     "output_type": "display_data"
    },
    {
     "name": "stderr",
     "output_type": "stream",
     "text": [
      "\u001b[32m2025-08-04 12:06:05.057\u001b[0m | \u001b[1mINFO    \u001b[0m | \u001b[36mvrp_study.pdptw_model.routing_model\u001b[0m:\u001b[36mfind_optimal_paths\u001b[0m:\u001b[36m443\u001b[0m - \u001b[1mproblem size: 3\u001b[0m\n",
      "\u001b[32m2025-08-04 12:06:05.058\u001b[0m | \u001b[1mINFO    \u001b[0m | \u001b[36mvrp_study.pdptw_model.routing_model\u001b[0m:\u001b[36mdo_solve\u001b[0m:\u001b[36m378\u001b[0m - \u001b[1mНачало создания модели\u001b[0m\n",
      "\u001b[32m2025-08-04 12:06:05.059\u001b[0m | \u001b[1mINFO    \u001b[0m | \u001b[36mvrp_study.pdptw_model.routing_model\u001b[0m:\u001b[36madd_distance_dimension\u001b[0m:\u001b[36m299\u001b[0m - \u001b[1mДобавление размерности для расстояния\u001b[0m\n",
      "\u001b[32m2025-08-04 12:06:05.060\u001b[0m | \u001b[1mINFO    \u001b[0m | \u001b[36mvrp_study.pdptw_model.routing_model\u001b[0m:\u001b[36madd_count_dimension\u001b[0m:\u001b[36m335\u001b[0m - \u001b[1mДобавление размерности для расстояния\u001b[0m\n",
      "\u001b[32m2025-08-04 12:06:05.061\u001b[0m | \u001b[1mINFO    \u001b[0m | \u001b[36mvrp_study.pdptw_model.routing_model\u001b[0m:\u001b[36madd_pick_up_and_delivery\u001b[0m:\u001b[36m269\u001b[0m - \u001b[1mДобавление ограничения для порядка доставки\u001b[0m\n",
      "\u001b[32m2025-08-04 12:06:05.062\u001b[0m | \u001b[1mINFO    \u001b[0m | \u001b[36mvrp_study.pdptw_model.routing_model\u001b[0m:\u001b[36madd_time_window\u001b[0m:\u001b[36m194\u001b[0m - \u001b[1madd time\u001b[0m\n",
      "\u001b[32m2025-08-04 12:06:05.062\u001b[0m | \u001b[1mINFO    \u001b[0m | \u001b[36mvrp_study.pdptw_model.routing_model\u001b[0m:\u001b[36madd_mass_constraint\u001b[0m:\u001b[36m177\u001b[0m - \u001b[1mДобавление ограничений для массы\u001b[0m\n",
      "\u001b[32m2025-08-04 12:06:05.065\u001b[0m | \u001b[1mINFO    \u001b[0m | \u001b[36mvrp_study.pdptw_model.routing_model\u001b[0m:\u001b[36mdo_solve\u001b[0m:\u001b[36m407\u001b[0m - \u001b[1mНачало решения\u001b[0m\n",
      "\u001b[32m2025-08-04 12:06:05.068\u001b[0m | \u001b[34m\u001b[1mDEBUG   \u001b[0m | \u001b[36mvrp_study.pdptw_model.routing_model\u001b[0m:\u001b[36m__call__\u001b[0m:\u001b[36m40\u001b[0m - \u001b[34m\u001b[1mtime: 0.005; new solution (1): 1; best solution: 1\u001b[0m\n",
      "\u001b[32m2025-08-04 12:06:05.071\u001b[0m | \u001b[1mINFO    \u001b[0m | \u001b[36mvrp_study.pdptw_model.routing_model\u001b[0m:\u001b[36mdo_solve\u001b[0m:\u001b[36m423\u001b[0m - \u001b[1mfind solution\u001b[0m\n",
      "\u001b[32m2025-08-04 12:06:05.072\u001b[0m | \u001b[1mINFO    \u001b[0m | \u001b[36mvrp_study.pdptw_model.routing_model\u001b[0m:\u001b[36mfind_optimal_paths\u001b[0m:\u001b[36m451\u001b[0m - \u001b[1mbest_score: 1\u001b[0m\n",
      "\u001b[32m2025-08-04 12:06:05.073\u001b[0m | \u001b[1mINFO    \u001b[0m | \u001b[36mvrp_study.pdptw_model.routing_model\u001b[0m:\u001b[36mdo_solve\u001b[0m:\u001b[36m378\u001b[0m - \u001b[1mНачало создания модели\u001b[0m\n",
      "\u001b[32m2025-08-04 12:06:05.074\u001b[0m | \u001b[1mINFO    \u001b[0m | \u001b[36mvrp_study.pdptw_model.routing_model\u001b[0m:\u001b[36madd_distance_dimension\u001b[0m:\u001b[36m299\u001b[0m - \u001b[1mДобавление размерности для расстояния\u001b[0m\n",
      "\u001b[32m2025-08-04 12:06:05.074\u001b[0m | \u001b[1mINFO    \u001b[0m | \u001b[36mvrp_study.pdptw_model.routing_model\u001b[0m:\u001b[36madd_count_dimension\u001b[0m:\u001b[36m335\u001b[0m - \u001b[1mДобавление размерности для расстояния\u001b[0m\n",
      "\u001b[32m2025-08-04 12:06:05.075\u001b[0m | \u001b[1mINFO    \u001b[0m | \u001b[36mvrp_study.pdptw_model.routing_model\u001b[0m:\u001b[36madd_pick_up_and_delivery\u001b[0m:\u001b[36m269\u001b[0m - \u001b[1mДобавление ограничения для порядка доставки\u001b[0m\n",
      "\u001b[32m2025-08-04 12:06:05.075\u001b[0m | \u001b[1mINFO    \u001b[0m | \u001b[36mvrp_study.pdptw_model.routing_model\u001b[0m:\u001b[36madd_vehicles_cost\u001b[0m:\u001b[36m243\u001b[0m - \u001b[1mДобавление стоимостей машин\u001b[0m\n",
      "\u001b[32m2025-08-04 12:06:05.076\u001b[0m | \u001b[1mINFO    \u001b[0m | \u001b[36mvrp_study.pdptw_model.routing_model\u001b[0m:\u001b[36madd_time_window\u001b[0m:\u001b[36m194\u001b[0m - \u001b[1madd time\u001b[0m\n",
      "\u001b[32m2025-08-04 12:06:05.077\u001b[0m | \u001b[1mINFO    \u001b[0m | \u001b[36mvrp_study.pdptw_model.routing_model\u001b[0m:\u001b[36madd_mass_constraint\u001b[0m:\u001b[36m177\u001b[0m - \u001b[1mДобавление ограничений для массы\u001b[0m\n",
      "\u001b[32m2025-08-04 12:06:05.078\u001b[0m | \u001b[1mINFO    \u001b[0m | \u001b[36mvrp_study.pdptw_model.routing_model\u001b[0m:\u001b[36mdo_solve\u001b[0m:\u001b[36m407\u001b[0m - \u001b[1mНачало решения\u001b[0m\n",
      "\u001b[32m2025-08-04 12:06:05.079\u001b[0m | \u001b[1mINFO    \u001b[0m | \u001b[36mvrp_study.pdptw_model.routing_model\u001b[0m:\u001b[36mdo_solve\u001b[0m:\u001b[36m410\u001b[0m - \u001b[1muse initial_solution: 1\u001b[0m\n",
      "\u001b[32m2025-08-04 12:06:05.080\u001b[0m | \u001b[34m\u001b[1mDEBUG   \u001b[0m | \u001b[36mvrp_study.pdptw_model.routing_model\u001b[0m:\u001b[36m__call__\u001b[0m:\u001b[36m40\u001b[0m - \u001b[34m\u001b[1mtime: 0.003; new solution (1): 18360; best solution: 18360\u001b[0m\n",
      "\u001b[32m2025-08-04 12:06:05.081\u001b[0m | \u001b[34m\u001b[1mDEBUG   \u001b[0m | \u001b[36mvrp_study.pdptw_model.routing_model\u001b[0m:\u001b[36m__call__\u001b[0m:\u001b[36m40\u001b[0m - \u001b[34m\u001b[1mtime: 0.004; new solution (2): 18360; best solution: 18360\u001b[0m\n",
      "\u001b[32m2025-08-04 12:06:05.083\u001b[0m | \u001b[1mINFO    \u001b[0m | \u001b[36mvrp_study.pdptw_model.routing_model\u001b[0m:\u001b[36mdo_solve\u001b[0m:\u001b[36m423\u001b[0m - \u001b[1mfind solution\u001b[0m\n",
      "\u001b[32m2025-08-04 12:06:05.084\u001b[0m | \u001b[1mINFO    \u001b[0m | \u001b[36mvrp_study.pdptw_model.routing_model\u001b[0m:\u001b[36mfind_optimal_paths\u001b[0m:\u001b[36m464\u001b[0m - \u001b[1mbest_score: 183.60\u001b[0m\n",
      "\u001b[32m2025-08-04 12:06:05.084\u001b[0m | \u001b[1mINFO    \u001b[0m | \u001b[36msrc.vrp_study.pdptw_model.solution_builder\u001b[0m:\u001b[36mget_initial_solution\u001b[0m:\u001b[36m138\u001b[0m - \u001b[1m[[0, 1, 2, 0], [], [], [], [], [], [], [], [], [], [], [], [], [], [], [], [], [], [], [], [], [], [], [], [], [], [], [], [], [], [], [], [], [], [], [], [], [], [], [], [], [], [], [], [], [], [], [], [], [], [], [], []]\u001b[0m\n",
      "\u001b[32m2025-08-04 12:06:05.085\u001b[0m | \u001b[1mINFO    \u001b[0m | \u001b[36msrc.vrp_study.pdptw_model.solution_builder\u001b[0m:\u001b[36mget_initial_solution\u001b[0m:\u001b[36m118\u001b[0m - \u001b[1m(1, 32.074999999999996)\u001b[0m\n",
      "\u001b[32m2025-08-04 12:06:05.086\u001b[0m | \u001b[1mINFO    \u001b[0m | \u001b[36msrc.vrp_study.pdptw_model.solution_builder\u001b[0m:\u001b[36mget_initial_solution\u001b[0m:\u001b[36m118\u001b[0m - \u001b[1m(1, 16.0875)\u001b[0m\n",
      "\u001b[32m2025-08-04 12:06:05.088\u001b[0m | \u001b[1mINFO    \u001b[0m | \u001b[36msrc.vrp_study.pdptw_model.solution_builder\u001b[0m:\u001b[36mget_initial_solution\u001b[0m:\u001b[36m118\u001b[0m - \u001b[1m(1, 8.09375)\u001b[0m\n",
      "\u001b[32m2025-08-04 12:06:05.088\u001b[0m | \u001b[1mINFO    \u001b[0m | \u001b[36msrc.vrp_study.pdptw_model.solution_builder\u001b[0m:\u001b[36mget_initial_solution\u001b[0m:\u001b[36m118\u001b[0m - \u001b[1m(1, 4.096875)\u001b[0m\n",
      "\u001b[32m2025-08-04 12:06:05.089\u001b[0m | \u001b[1mINFO    \u001b[0m | \u001b[36msrc.vrp_study.pdptw_model.solution_builder\u001b[0m:\u001b[36mget_initial_solution\u001b[0m:\u001b[36m118\u001b[0m - \u001b[1m(1, 2.0984374999999997)\u001b[0m\n",
      "\u001b[32m2025-08-04 12:06:05.090\u001b[0m | \u001b[1mINFO    \u001b[0m | \u001b[36msrc.vrp_study.pdptw_model.solution_builder\u001b[0m:\u001b[36mget_initial_solution\u001b[0m:\u001b[36m118\u001b[0m - \u001b[1m(2, 1.09921875)\u001b[0m\n",
      "\u001b[32m2025-08-04 12:06:05.091\u001b[0m | \u001b[1mINFO    \u001b[0m | \u001b[36msrc.vrp_study.pdptw_model.solution_builder\u001b[0m:\u001b[36mget_initial_solution\u001b[0m:\u001b[36m118\u001b[0m - \u001b[1m(3, 0.599609375)\u001b[0m\n",
      "\u001b[32m2025-08-04 12:06:05.091\u001b[0m | \u001b[1mINFO    \u001b[0m | \u001b[36msrc.vrp_study.pdptw_model.solution_builder\u001b[0m:\u001b[36mget_initial_solution\u001b[0m:\u001b[36m118\u001b[0m - \u001b[1m(4, 0.3498046875)\u001b[0m\n",
      "\u001b[32m2025-08-04 12:06:05.091\u001b[0m | \u001b[1mINFO    \u001b[0m | \u001b[36msrc.vrp_study.pdptw_model.solution_builder\u001b[0m:\u001b[36mget_initial_solution\u001b[0m:\u001b[36m118\u001b[0m - \u001b[1m(4, 0.22490234375)\u001b[0m\n",
      "\u001b[32m2025-08-04 12:06:05.092\u001b[0m | \u001b[1mINFO    \u001b[0m | \u001b[36msrc.vrp_study.pdptw_model.solution_builder\u001b[0m:\u001b[36mget_initial_solution\u001b[0m:\u001b[36m118\u001b[0m - \u001b[1m(4, 0.16245117187500002)\u001b[0m\n"
     ]
    },
    {
     "data": {
      "application/vnd.jupyter.widget-view+json": {
       "model_id": "8720bfafbaa143789af25b612681418d",
       "version_major": 2,
       "version_minor": 0
      },
      "text/plain": [
       "  0%|          | 0/1 [00:00<?, ?it/s]"
      ]
     },
     "metadata": {},
     "output_type": "display_data"
    },
    {
     "name": "stderr",
     "output_type": "stream",
     "text": [
      "\u001b[32m2025-08-04 12:06:05.098\u001b[0m | \u001b[1mINFO    \u001b[0m | \u001b[36mvrp_study.pdptw_model.routing_model\u001b[0m:\u001b[36mfind_optimal_paths\u001b[0m:\u001b[36m443\u001b[0m - \u001b[1mproblem size: 9\u001b[0m\n",
      "\u001b[32m2025-08-04 12:06:05.098\u001b[0m | \u001b[1mINFO    \u001b[0m | \u001b[36mvrp_study.pdptw_model.routing_model\u001b[0m:\u001b[36mdo_solve\u001b[0m:\u001b[36m378\u001b[0m - \u001b[1mНачало создания модели\u001b[0m\n",
      "\u001b[32m2025-08-04 12:06:05.100\u001b[0m | \u001b[1mINFO    \u001b[0m | \u001b[36mvrp_study.pdptw_model.routing_model\u001b[0m:\u001b[36madd_distance_dimension\u001b[0m:\u001b[36m299\u001b[0m - \u001b[1mДобавление размерности для расстояния\u001b[0m\n",
      "\u001b[32m2025-08-04 12:06:05.101\u001b[0m | \u001b[1mINFO    \u001b[0m | \u001b[36mvrp_study.pdptw_model.routing_model\u001b[0m:\u001b[36madd_count_dimension\u001b[0m:\u001b[36m335\u001b[0m - \u001b[1mДобавление размерности для расстояния\u001b[0m\n",
      "\u001b[32m2025-08-04 12:06:05.101\u001b[0m | \u001b[1mINFO    \u001b[0m | \u001b[36mvrp_study.pdptw_model.routing_model\u001b[0m:\u001b[36madd_pick_up_and_delivery\u001b[0m:\u001b[36m269\u001b[0m - \u001b[1mДобавление ограничения для порядка доставки\u001b[0m\n",
      "\u001b[32m2025-08-04 12:06:05.102\u001b[0m | \u001b[1mINFO    \u001b[0m | \u001b[36mvrp_study.pdptw_model.routing_model\u001b[0m:\u001b[36madd_time_window\u001b[0m:\u001b[36m194\u001b[0m - \u001b[1madd time\u001b[0m\n",
      "\u001b[32m2025-08-04 12:06:05.103\u001b[0m | \u001b[1mINFO    \u001b[0m | \u001b[36mvrp_study.pdptw_model.routing_model\u001b[0m:\u001b[36madd_mass_constraint\u001b[0m:\u001b[36m177\u001b[0m - \u001b[1mДобавление ограничений для массы\u001b[0m\n",
      "\u001b[32m2025-08-04 12:06:05.108\u001b[0m | \u001b[1mINFO    \u001b[0m | \u001b[36mvrp_study.pdptw_model.routing_model\u001b[0m:\u001b[36mdo_solve\u001b[0m:\u001b[36m407\u001b[0m - \u001b[1mНачало решения\u001b[0m\n",
      "\u001b[32m2025-08-04 12:06:05.111\u001b[0m | \u001b[34m\u001b[1mDEBUG   \u001b[0m | \u001b[36mvrp_study.pdptw_model.routing_model\u001b[0m:\u001b[36m__call__\u001b[0m:\u001b[36m40\u001b[0m - \u001b[34m\u001b[1mtime: 0.007; new solution (1): 1; best solution: 1\u001b[0m\n",
      "\u001b[32m2025-08-04 12:06:05.124\u001b[0m | \u001b[1mINFO    \u001b[0m | \u001b[36mvrp_study.pdptw_model.routing_model\u001b[0m:\u001b[36mdo_solve\u001b[0m:\u001b[36m423\u001b[0m - \u001b[1mfind solution\u001b[0m\n",
      "\u001b[32m2025-08-04 12:06:05.125\u001b[0m | \u001b[1mINFO    \u001b[0m | \u001b[36mvrp_study.pdptw_model.routing_model\u001b[0m:\u001b[36mfind_optimal_paths\u001b[0m:\u001b[36m451\u001b[0m - \u001b[1mbest_score: 1\u001b[0m\n",
      "\u001b[32m2025-08-04 12:06:05.125\u001b[0m | \u001b[1mINFO    \u001b[0m | \u001b[36mvrp_study.pdptw_model.routing_model\u001b[0m:\u001b[36mdo_solve\u001b[0m:\u001b[36m378\u001b[0m - \u001b[1mНачало создания модели\u001b[0m\n",
      "\u001b[32m2025-08-04 12:06:05.126\u001b[0m | \u001b[1mINFO    \u001b[0m | \u001b[36mvrp_study.pdptw_model.routing_model\u001b[0m:\u001b[36madd_distance_dimension\u001b[0m:\u001b[36m299\u001b[0m - \u001b[1mДобавление размерности для расстояния\u001b[0m\n",
      "\u001b[32m2025-08-04 12:06:05.127\u001b[0m | \u001b[1mINFO    \u001b[0m | \u001b[36mvrp_study.pdptw_model.routing_model\u001b[0m:\u001b[36madd_count_dimension\u001b[0m:\u001b[36m335\u001b[0m - \u001b[1mДобавление размерности для расстояния\u001b[0m\n",
      "\u001b[32m2025-08-04 12:06:05.127\u001b[0m | \u001b[1mINFO    \u001b[0m | \u001b[36mvrp_study.pdptw_model.routing_model\u001b[0m:\u001b[36madd_pick_up_and_delivery\u001b[0m:\u001b[36m269\u001b[0m - \u001b[1mДобавление ограничения для порядка доставки\u001b[0m\n",
      "\u001b[32m2025-08-04 12:06:05.128\u001b[0m | \u001b[1mINFO    \u001b[0m | \u001b[36mvrp_study.pdptw_model.routing_model\u001b[0m:\u001b[36madd_vehicles_cost\u001b[0m:\u001b[36m243\u001b[0m - \u001b[1mДобавление стоимостей машин\u001b[0m\n",
      "\u001b[32m2025-08-04 12:06:05.128\u001b[0m | \u001b[1mINFO    \u001b[0m | \u001b[36mvrp_study.pdptw_model.routing_model\u001b[0m:\u001b[36madd_time_window\u001b[0m:\u001b[36m194\u001b[0m - \u001b[1madd time\u001b[0m\n",
      "\u001b[32m2025-08-04 12:06:05.130\u001b[0m | \u001b[1mINFO    \u001b[0m | \u001b[36mvrp_study.pdptw_model.routing_model\u001b[0m:\u001b[36madd_mass_constraint\u001b[0m:\u001b[36m177\u001b[0m - \u001b[1mДобавление ограничений для массы\u001b[0m\n",
      "\u001b[32m2025-08-04 12:06:05.131\u001b[0m | \u001b[1mINFO    \u001b[0m | \u001b[36mvrp_study.pdptw_model.routing_model\u001b[0m:\u001b[36mdo_solve\u001b[0m:\u001b[36m407\u001b[0m - \u001b[1mНачало решения\u001b[0m\n",
      "\u001b[32m2025-08-04 12:06:05.131\u001b[0m | \u001b[1mINFO    \u001b[0m | \u001b[36mvrp_study.pdptw_model.routing_model\u001b[0m:\u001b[36mdo_solve\u001b[0m:\u001b[36m410\u001b[0m - \u001b[1muse initial_solution: 1\u001b[0m\n",
      "\u001b[32m2025-08-04 12:06:05.132\u001b[0m | \u001b[34m\u001b[1mDEBUG   \u001b[0m | \u001b[36mvrp_study.pdptw_model.routing_model\u001b[0m:\u001b[36m__call__\u001b[0m:\u001b[36m40\u001b[0m - \u001b[34m\u001b[1mtime: 0.002; new solution (1): 22162; best solution: 22162\u001b[0m\n",
      "\u001b[32m2025-08-04 12:06:05.133\u001b[0m | \u001b[34m\u001b[1mDEBUG   \u001b[0m | \u001b[36mvrp_study.pdptw_model.routing_model\u001b[0m:\u001b[36m__call__\u001b[0m:\u001b[36m40\u001b[0m - \u001b[34m\u001b[1mtime: 0.003; new solution (2): 22162; best solution: 22162\u001b[0m\n",
      "\u001b[32m2025-08-04 12:06:05.140\u001b[0m | \u001b[1mINFO    \u001b[0m | \u001b[36mvrp_study.pdptw_model.routing_model\u001b[0m:\u001b[36mdo_solve\u001b[0m:\u001b[36m423\u001b[0m - \u001b[1mfind solution\u001b[0m\n",
      "\u001b[32m2025-08-04 12:06:05.141\u001b[0m | \u001b[1mINFO    \u001b[0m | \u001b[36mvrp_study.pdptw_model.routing_model\u001b[0m:\u001b[36mfind_optimal_paths\u001b[0m:\u001b[36m464\u001b[0m - \u001b[1mbest_score: 221.62\u001b[0m\n",
      "\u001b[32m2025-08-04 12:06:05.142\u001b[0m | \u001b[1mINFO    \u001b[0m | \u001b[36msrc.vrp_study.pdptw_model.solution_builder\u001b[0m:\u001b[36mget_initial_solution\u001b[0m:\u001b[36m138\u001b[0m - \u001b[1m[[0, 3, 4, 7, 1, 2, 5, 6, 8, 0], [], [], [], [], [], [], [], [], [], [], [], [], [], [], [], [], [], [], [], [], [], [], [], [], [], [], [], [], [], [], [], [], [], [], [], [], [], [], [], [], [], [], [], [], [], [], [], [], [], [], []]\u001b[0m\n",
      "\u001b[32m2025-08-04 12:06:05.143\u001b[0m | \u001b[1mINFO    \u001b[0m | \u001b[36msrc.vrp_study.pdptw_model.solution_builder\u001b[0m:\u001b[36mget_initial_solution\u001b[0m:\u001b[36m118\u001b[0m - \u001b[1m(1, 32.074999999999996)\u001b[0m\n",
      "\u001b[32m2025-08-04 12:06:05.144\u001b[0m | \u001b[1mINFO    \u001b[0m | \u001b[36msrc.vrp_study.pdptw_model.solution_builder\u001b[0m:\u001b[36mget_initial_solution\u001b[0m:\u001b[36m118\u001b[0m - \u001b[1m(1, 16.0875)\u001b[0m\n",
      "\u001b[32m2025-08-04 12:06:05.145\u001b[0m | \u001b[1mINFO    \u001b[0m | \u001b[36msrc.vrp_study.pdptw_model.solution_builder\u001b[0m:\u001b[36mget_initial_solution\u001b[0m:\u001b[36m118\u001b[0m - \u001b[1m(1, 8.09375)\u001b[0m\n",
      "\u001b[32m2025-08-04 12:06:05.145\u001b[0m | \u001b[1mINFO    \u001b[0m | \u001b[36msrc.vrp_study.pdptw_model.solution_builder\u001b[0m:\u001b[36mget_initial_solution\u001b[0m:\u001b[36m118\u001b[0m - \u001b[1m(1, 4.096875)\u001b[0m\n",
      "\u001b[32m2025-08-04 12:06:05.147\u001b[0m | \u001b[1mINFO    \u001b[0m | \u001b[36msrc.vrp_study.pdptw_model.solution_builder\u001b[0m:\u001b[36mget_initial_solution\u001b[0m:\u001b[36m118\u001b[0m - \u001b[1m(1, 2.0984374999999997)\u001b[0m\n",
      "\u001b[32m2025-08-04 12:06:05.148\u001b[0m | \u001b[1mINFO    \u001b[0m | \u001b[36msrc.vrp_study.pdptw_model.solution_builder\u001b[0m:\u001b[36mget_initial_solution\u001b[0m:\u001b[36m118\u001b[0m - \u001b[1m(2, 1.09921875)\u001b[0m\n",
      "\u001b[32m2025-08-04 12:06:05.148\u001b[0m | \u001b[1mINFO    \u001b[0m | \u001b[36msrc.vrp_study.pdptw_model.solution_builder\u001b[0m:\u001b[36mget_initial_solution\u001b[0m:\u001b[36m118\u001b[0m - \u001b[1m(4, 0.599609375)\u001b[0m\n",
      "\u001b[32m2025-08-04 12:06:05.149\u001b[0m | \u001b[1mINFO    \u001b[0m | \u001b[36msrc.vrp_study.pdptw_model.solution_builder\u001b[0m:\u001b[36mget_initial_solution\u001b[0m:\u001b[36m118\u001b[0m - \u001b[1m(5, 0.3498046875)\u001b[0m\n",
      "\u001b[32m2025-08-04 12:06:05.150\u001b[0m | \u001b[1mINFO    \u001b[0m | \u001b[36msrc.vrp_study.pdptw_model.solution_builder\u001b[0m:\u001b[36mget_initial_solution\u001b[0m:\u001b[36m118\u001b[0m - \u001b[1m(5, 0.22490234375)\u001b[0m\n",
      "\u001b[32m2025-08-04 12:06:05.150\u001b[0m | \u001b[1mINFO    \u001b[0m | \u001b[36msrc.vrp_study.pdptw_model.solution_builder\u001b[0m:\u001b[36mget_initial_solution\u001b[0m:\u001b[36m118\u001b[0m - \u001b[1m(5, 0.16245117187500002)\u001b[0m\n"
     ]
    },
    {
     "data": {
      "application/vnd.jupyter.widget-view+json": {
       "model_id": "522605686ec4407cbba2b2bbf8f803c3",
       "version_major": 2,
       "version_minor": 0
      },
      "text/plain": [
       "  0%|          | 0/1 [00:00<?, ?it/s]"
      ]
     },
     "metadata": {},
     "output_type": "display_data"
    },
    {
     "name": "stderr",
     "output_type": "stream",
     "text": [
      "\u001b[32m2025-08-04 12:06:05.158\u001b[0m | \u001b[1mINFO    \u001b[0m | \u001b[36mvrp_study.pdptw_model.routing_model\u001b[0m:\u001b[36mfind_optimal_paths\u001b[0m:\u001b[36m443\u001b[0m - \u001b[1mproblem size: 11\u001b[0m\n",
      "\u001b[32m2025-08-04 12:06:05.158\u001b[0m | \u001b[1mINFO    \u001b[0m | \u001b[36mvrp_study.pdptw_model.routing_model\u001b[0m:\u001b[36mdo_solve\u001b[0m:\u001b[36m378\u001b[0m - \u001b[1mНачало создания модели\u001b[0m\n",
      "\u001b[32m2025-08-04 12:06:05.161\u001b[0m | \u001b[1mINFO    \u001b[0m | \u001b[36mvrp_study.pdptw_model.routing_model\u001b[0m:\u001b[36madd_distance_dimension\u001b[0m:\u001b[36m299\u001b[0m - \u001b[1mДобавление размерности для расстояния\u001b[0m\n",
      "\u001b[32m2025-08-04 12:06:05.161\u001b[0m | \u001b[1mINFO    \u001b[0m | \u001b[36mvrp_study.pdptw_model.routing_model\u001b[0m:\u001b[36madd_count_dimension\u001b[0m:\u001b[36m335\u001b[0m - \u001b[1mДобавление размерности для расстояния\u001b[0m\n",
      "\u001b[32m2025-08-04 12:06:05.162\u001b[0m | \u001b[1mINFO    \u001b[0m | \u001b[36mvrp_study.pdptw_model.routing_model\u001b[0m:\u001b[36madd_pick_up_and_delivery\u001b[0m:\u001b[36m269\u001b[0m - \u001b[1mДобавление ограничения для порядка доставки\u001b[0m\n",
      "\u001b[32m2025-08-04 12:06:05.162\u001b[0m | \u001b[1mINFO    \u001b[0m | \u001b[36mvrp_study.pdptw_model.routing_model\u001b[0m:\u001b[36madd_time_window\u001b[0m:\u001b[36m194\u001b[0m - \u001b[1madd time\u001b[0m\n",
      "\u001b[32m2025-08-04 12:06:05.163\u001b[0m | \u001b[1mINFO    \u001b[0m | \u001b[36mvrp_study.pdptw_model.routing_model\u001b[0m:\u001b[36madd_mass_constraint\u001b[0m:\u001b[36m177\u001b[0m - \u001b[1mДобавление ограничений для массы\u001b[0m\n",
      "\u001b[32m2025-08-04 12:06:05.168\u001b[0m | \u001b[1mINFO    \u001b[0m | \u001b[36mvrp_study.pdptw_model.routing_model\u001b[0m:\u001b[36mdo_solve\u001b[0m:\u001b[36m407\u001b[0m - \u001b[1mНачало решения\u001b[0m\n",
      "\u001b[32m2025-08-04 12:06:05.172\u001b[0m | \u001b[34m\u001b[1mDEBUG   \u001b[0m | \u001b[36mvrp_study.pdptw_model.routing_model\u001b[0m:\u001b[36m__call__\u001b[0m:\u001b[36m40\u001b[0m - \u001b[34m\u001b[1mtime: 0.008; new solution (1): 1; best solution: 1\u001b[0m\n",
      "\u001b[32m2025-08-04 12:06:05.184\u001b[0m | \u001b[1mINFO    \u001b[0m | \u001b[36mvrp_study.pdptw_model.routing_model\u001b[0m:\u001b[36mdo_solve\u001b[0m:\u001b[36m423\u001b[0m - \u001b[1mfind solution\u001b[0m\n",
      "\u001b[32m2025-08-04 12:06:05.185\u001b[0m | \u001b[1mINFO    \u001b[0m | \u001b[36mvrp_study.pdptw_model.routing_model\u001b[0m:\u001b[36mfind_optimal_paths\u001b[0m:\u001b[36m451\u001b[0m - \u001b[1mbest_score: 1\u001b[0m\n",
      "\u001b[32m2025-08-04 12:06:05.186\u001b[0m | \u001b[1mINFO    \u001b[0m | \u001b[36mvrp_study.pdptw_model.routing_model\u001b[0m:\u001b[36mdo_solve\u001b[0m:\u001b[36m378\u001b[0m - \u001b[1mНачало создания модели\u001b[0m\n",
      "\u001b[32m2025-08-04 12:06:05.187\u001b[0m | \u001b[1mINFO    \u001b[0m | \u001b[36mvrp_study.pdptw_model.routing_model\u001b[0m:\u001b[36madd_distance_dimension\u001b[0m:\u001b[36m299\u001b[0m - \u001b[1mДобавление размерности для расстояния\u001b[0m\n",
      "\u001b[32m2025-08-04 12:06:05.189\u001b[0m | \u001b[1mINFO    \u001b[0m | \u001b[36mvrp_study.pdptw_model.routing_model\u001b[0m:\u001b[36madd_count_dimension\u001b[0m:\u001b[36m335\u001b[0m - \u001b[1mДобавление размерности для расстояния\u001b[0m\n",
      "\u001b[32m2025-08-04 12:06:05.190\u001b[0m | \u001b[1mINFO    \u001b[0m | \u001b[36mvrp_study.pdptw_model.routing_model\u001b[0m:\u001b[36madd_pick_up_and_delivery\u001b[0m:\u001b[36m269\u001b[0m - \u001b[1mДобавление ограничения для порядка доставки\u001b[0m\n",
      "\u001b[32m2025-08-04 12:06:05.191\u001b[0m | \u001b[1mINFO    \u001b[0m | \u001b[36mvrp_study.pdptw_model.routing_model\u001b[0m:\u001b[36madd_vehicles_cost\u001b[0m:\u001b[36m243\u001b[0m - \u001b[1mДобавление стоимостей машин\u001b[0m\n",
      "\u001b[32m2025-08-04 12:06:05.193\u001b[0m | \u001b[1mINFO    \u001b[0m | \u001b[36mvrp_study.pdptw_model.routing_model\u001b[0m:\u001b[36madd_time_window\u001b[0m:\u001b[36m194\u001b[0m - \u001b[1madd time\u001b[0m\n",
      "\u001b[32m2025-08-04 12:06:05.195\u001b[0m | \u001b[1mINFO    \u001b[0m | \u001b[36mvrp_study.pdptw_model.routing_model\u001b[0m:\u001b[36madd_mass_constraint\u001b[0m:\u001b[36m177\u001b[0m - \u001b[1mДобавление ограничений для массы\u001b[0m\n",
      "\u001b[32m2025-08-04 12:06:05.196\u001b[0m | \u001b[1mINFO    \u001b[0m | \u001b[36mvrp_study.pdptw_model.routing_model\u001b[0m:\u001b[36mdo_solve\u001b[0m:\u001b[36m407\u001b[0m - \u001b[1mНачало решения\u001b[0m\n",
      "\u001b[32m2025-08-04 12:06:05.197\u001b[0m | \u001b[1mINFO    \u001b[0m | \u001b[36mvrp_study.pdptw_model.routing_model\u001b[0m:\u001b[36mdo_solve\u001b[0m:\u001b[36m410\u001b[0m - \u001b[1muse initial_solution: 1\u001b[0m\n",
      "\u001b[32m2025-08-04 12:06:05.198\u001b[0m | \u001b[34m\u001b[1mDEBUG   \u001b[0m | \u001b[36mvrp_study.pdptw_model.routing_model\u001b[0m:\u001b[36m__call__\u001b[0m:\u001b[36m40\u001b[0m - \u001b[34m\u001b[1mtime: 0.003; new solution (1): 13596; best solution: 13596\u001b[0m\n",
      "\u001b[32m2025-08-04 12:06:05.200\u001b[0m | \u001b[34m\u001b[1mDEBUG   \u001b[0m | \u001b[36mvrp_study.pdptw_model.routing_model\u001b[0m:\u001b[36m__call__\u001b[0m:\u001b[36m40\u001b[0m - \u001b[34m\u001b[1mtime: 0.005; new solution (2): 13596; best solution: 13596\u001b[0m\n",
      "\u001b[32m2025-08-04 12:06:05.209\u001b[0m | \u001b[1mINFO    \u001b[0m | \u001b[36mvrp_study.pdptw_model.routing_model\u001b[0m:\u001b[36mdo_solve\u001b[0m:\u001b[36m423\u001b[0m - \u001b[1mfind solution\u001b[0m\n",
      "\u001b[32m2025-08-04 12:06:05.209\u001b[0m | \u001b[1mINFO    \u001b[0m | \u001b[36mvrp_study.pdptw_model.routing_model\u001b[0m:\u001b[36mfind_optimal_paths\u001b[0m:\u001b[36m464\u001b[0m - \u001b[1mbest_score: 135.96\u001b[0m\n",
      "\u001b[32m2025-08-04 12:06:05.210\u001b[0m | \u001b[1mINFO    \u001b[0m | \u001b[36msrc.vrp_study.pdptw_model.solution_builder\u001b[0m:\u001b[36mget_initial_solution\u001b[0m:\u001b[36m138\u001b[0m - \u001b[1m[[0, 5, 9, 3, 6, 4, 7, 8, 1, 2, 10, 0], [], [], [], [], [], [], [], [], [], [], [], [], [], [], [], [], [], [], [], [], [], [], [], [], [], [], [], [], [], [], [], [], [], [], [], [], [], [], [], [], [], [], [], [], [], [], [], [], [], []]\u001b[0m\n"
     ]
    },
    {
     "data": {
      "application/vnd.jupyter.widget-view+json": {
       "model_id": "279db3e9a1074fbfa759a98dd7cd91e8",
       "version_major": 2,
       "version_minor": 0
      },
      "text/plain": [
       "  0%|          | 0/1 [00:00<?, ?it/s]"
      ]
     },
     "metadata": {},
     "output_type": "display_data"
    },
    {
     "name": "stderr",
     "output_type": "stream",
     "text": [
      "\u001b[32m2025-08-04 12:06:05.218\u001b[0m | \u001b[1mINFO    \u001b[0m | \u001b[36mvrp_study.pdptw_model.routing_model\u001b[0m:\u001b[36mfind_optimal_paths\u001b[0m:\u001b[36m443\u001b[0m - \u001b[1mproblem size: 3\u001b[0m\n",
      "\u001b[32m2025-08-04 12:06:05.219\u001b[0m | \u001b[1mINFO    \u001b[0m | \u001b[36mvrp_study.pdptw_model.routing_model\u001b[0m:\u001b[36mdo_solve\u001b[0m:\u001b[36m378\u001b[0m - \u001b[1mНачало создания модели\u001b[0m\n",
      "\u001b[32m2025-08-04 12:06:05.221\u001b[0m | \u001b[1mINFO    \u001b[0m | \u001b[36mvrp_study.pdptw_model.routing_model\u001b[0m:\u001b[36madd_distance_dimension\u001b[0m:\u001b[36m299\u001b[0m - \u001b[1mДобавление размерности для расстояния\u001b[0m\n",
      "\u001b[32m2025-08-04 12:06:05.222\u001b[0m | \u001b[1mINFO    \u001b[0m | \u001b[36mvrp_study.pdptw_model.routing_model\u001b[0m:\u001b[36madd_count_dimension\u001b[0m:\u001b[36m335\u001b[0m - \u001b[1mДобавление размерности для расстояния\u001b[0m\n",
      "\u001b[32m2025-08-04 12:06:05.223\u001b[0m | \u001b[1mINFO    \u001b[0m | \u001b[36mvrp_study.pdptw_model.routing_model\u001b[0m:\u001b[36madd_pick_up_and_delivery\u001b[0m:\u001b[36m269\u001b[0m - \u001b[1mДобавление ограничения для порядка доставки\u001b[0m\n",
      "\u001b[32m2025-08-04 12:06:05.224\u001b[0m | \u001b[1mINFO    \u001b[0m | \u001b[36mvrp_study.pdptw_model.routing_model\u001b[0m:\u001b[36madd_time_window\u001b[0m:\u001b[36m194\u001b[0m - \u001b[1madd time\u001b[0m\n",
      "\u001b[32m2025-08-04 12:06:05.225\u001b[0m | \u001b[1mINFO    \u001b[0m | \u001b[36mvrp_study.pdptw_model.routing_model\u001b[0m:\u001b[36madd_mass_constraint\u001b[0m:\u001b[36m177\u001b[0m - \u001b[1mДобавление ограничений для массы\u001b[0m\n",
      "\u001b[32m2025-08-04 12:06:05.228\u001b[0m | \u001b[1mINFO    \u001b[0m | \u001b[36mvrp_study.pdptw_model.routing_model\u001b[0m:\u001b[36mdo_solve\u001b[0m:\u001b[36m407\u001b[0m - \u001b[1mНачало решения\u001b[0m\n",
      "\u001b[32m2025-08-04 12:06:05.230\u001b[0m | \u001b[34m\u001b[1mDEBUG   \u001b[0m | \u001b[36mvrp_study.pdptw_model.routing_model\u001b[0m:\u001b[36m__call__\u001b[0m:\u001b[36m40\u001b[0m - \u001b[34m\u001b[1mtime: 0.004; new solution (1): 1; best solution: 1\u001b[0m\n",
      "\u001b[32m2025-08-04 12:06:05.233\u001b[0m | \u001b[1mINFO    \u001b[0m | \u001b[36mvrp_study.pdptw_model.routing_model\u001b[0m:\u001b[36mdo_solve\u001b[0m:\u001b[36m423\u001b[0m - \u001b[1mfind solution\u001b[0m\n",
      "\u001b[32m2025-08-04 12:06:05.234\u001b[0m | \u001b[1mINFO    \u001b[0m | \u001b[36mvrp_study.pdptw_model.routing_model\u001b[0m:\u001b[36mfind_optimal_paths\u001b[0m:\u001b[36m451\u001b[0m - \u001b[1mbest_score: 1\u001b[0m\n",
      "\u001b[32m2025-08-04 12:06:05.234\u001b[0m | \u001b[1mINFO    \u001b[0m | \u001b[36mvrp_study.pdptw_model.routing_model\u001b[0m:\u001b[36mdo_solve\u001b[0m:\u001b[36m378\u001b[0m - \u001b[1mНачало создания модели\u001b[0m\n",
      "\u001b[32m2025-08-04 12:06:05.236\u001b[0m | \u001b[1mINFO    \u001b[0m | \u001b[36mvrp_study.pdptw_model.routing_model\u001b[0m:\u001b[36madd_distance_dimension\u001b[0m:\u001b[36m299\u001b[0m - \u001b[1mДобавление размерности для расстояния\u001b[0m\n",
      "\u001b[32m2025-08-04 12:06:05.236\u001b[0m | \u001b[1mINFO    \u001b[0m | \u001b[36mvrp_study.pdptw_model.routing_model\u001b[0m:\u001b[36madd_count_dimension\u001b[0m:\u001b[36m335\u001b[0m - \u001b[1mДобавление размерности для расстояния\u001b[0m\n",
      "\u001b[32m2025-08-04 12:06:05.237\u001b[0m | \u001b[1mINFO    \u001b[0m | \u001b[36mvrp_study.pdptw_model.routing_model\u001b[0m:\u001b[36madd_pick_up_and_delivery\u001b[0m:\u001b[36m269\u001b[0m - \u001b[1mДобавление ограничения для порядка доставки\u001b[0m\n",
      "\u001b[32m2025-08-04 12:06:05.237\u001b[0m | \u001b[1mINFO    \u001b[0m | \u001b[36mvrp_study.pdptw_model.routing_model\u001b[0m:\u001b[36madd_vehicles_cost\u001b[0m:\u001b[36m243\u001b[0m - \u001b[1mДобавление стоимостей машин\u001b[0m\n",
      "\u001b[32m2025-08-04 12:06:05.238\u001b[0m | \u001b[1mINFO    \u001b[0m | \u001b[36mvrp_study.pdptw_model.routing_model\u001b[0m:\u001b[36madd_time_window\u001b[0m:\u001b[36m194\u001b[0m - \u001b[1madd time\u001b[0m\n",
      "\u001b[32m2025-08-04 12:06:05.240\u001b[0m | \u001b[1mINFO    \u001b[0m | \u001b[36mvrp_study.pdptw_model.routing_model\u001b[0m:\u001b[36madd_mass_constraint\u001b[0m:\u001b[36m177\u001b[0m - \u001b[1mДобавление ограничений для массы\u001b[0m\n",
      "\u001b[32m2025-08-04 12:06:05.241\u001b[0m | \u001b[1mINFO    \u001b[0m | \u001b[36mvrp_study.pdptw_model.routing_model\u001b[0m:\u001b[36mdo_solve\u001b[0m:\u001b[36m407\u001b[0m - \u001b[1mНачало решения\u001b[0m\n",
      "\u001b[32m2025-08-04 12:06:05.242\u001b[0m | \u001b[1mINFO    \u001b[0m | \u001b[36mvrp_study.pdptw_model.routing_model\u001b[0m:\u001b[36mdo_solve\u001b[0m:\u001b[36m410\u001b[0m - \u001b[1muse initial_solution: 1\u001b[0m\n",
      "\u001b[32m2025-08-04 12:06:05.242\u001b[0m | \u001b[34m\u001b[1mDEBUG   \u001b[0m | \u001b[36mvrp_study.pdptw_model.routing_model\u001b[0m:\u001b[36m__call__\u001b[0m:\u001b[36m40\u001b[0m - \u001b[34m\u001b[1mtime: 0.001; new solution (1): 21477; best solution: 21477\u001b[0m\n",
      "\u001b[32m2025-08-04 12:06:05.244\u001b[0m | \u001b[34m\u001b[1mDEBUG   \u001b[0m | \u001b[36mvrp_study.pdptw_model.routing_model\u001b[0m:\u001b[36m__call__\u001b[0m:\u001b[36m40\u001b[0m - \u001b[34m\u001b[1mtime: 0.003; new solution (2): 21477; best solution: 21477\u001b[0m\n",
      "\u001b[32m2025-08-04 12:06:05.245\u001b[0m | \u001b[1mINFO    \u001b[0m | \u001b[36mvrp_study.pdptw_model.routing_model\u001b[0m:\u001b[36mdo_solve\u001b[0m:\u001b[36m423\u001b[0m - \u001b[1mfind solution\u001b[0m\n",
      "\u001b[32m2025-08-04 12:06:05.245\u001b[0m | \u001b[1mINFO    \u001b[0m | \u001b[36mvrp_study.pdptw_model.routing_model\u001b[0m:\u001b[36mfind_optimal_paths\u001b[0m:\u001b[36m464\u001b[0m - \u001b[1mbest_score: 214.77\u001b[0m\n",
      "\u001b[32m2025-08-04 12:06:05.246\u001b[0m | \u001b[1mINFO    \u001b[0m | \u001b[36msrc.vrp_study.pdptw_model.solution_builder\u001b[0m:\u001b[36mget_initial_solution\u001b[0m:\u001b[36m138\u001b[0m - \u001b[1m[[0, 1, 2, 0], [], [], [], [], [], [], [], [], [], [], [], [], [], [], [], [], [], [], [], [], [], [], [], [], [], [], [], [], [], [], [], [], [], [], [], [], [], [], [], [], [], [], [], [], [], [], [], [], []]\u001b[0m\n"
     ]
    },
    {
     "data": {
      "application/vnd.jupyter.widget-view+json": {
       "model_id": "1539ddefc2a1435e83a85f4736173370",
       "version_major": 2,
       "version_minor": 0
      },
      "text/plain": [
       "  0%|          | 0/1 [00:00<?, ?it/s]"
      ]
     },
     "metadata": {},
     "output_type": "display_data"
    },
    {
     "name": "stderr",
     "output_type": "stream",
     "text": [
      "\u001b[32m2025-08-04 12:06:05.253\u001b[0m | \u001b[1mINFO    \u001b[0m | \u001b[36mvrp_study.pdptw_model.routing_model\u001b[0m:\u001b[36mfind_optimal_paths\u001b[0m:\u001b[36m443\u001b[0m - \u001b[1mproblem size: 3\u001b[0m\n",
      "\u001b[32m2025-08-04 12:06:05.254\u001b[0m | \u001b[1mINFO    \u001b[0m | \u001b[36mvrp_study.pdptw_model.routing_model\u001b[0m:\u001b[36mdo_solve\u001b[0m:\u001b[36m378\u001b[0m - \u001b[1mНачало создания модели\u001b[0m\n",
      "\u001b[32m2025-08-04 12:06:05.255\u001b[0m | \u001b[1mINFO    \u001b[0m | \u001b[36mvrp_study.pdptw_model.routing_model\u001b[0m:\u001b[36madd_distance_dimension\u001b[0m:\u001b[36m299\u001b[0m - \u001b[1mДобавление размерности для расстояния\u001b[0m\n",
      "\u001b[32m2025-08-04 12:06:05.257\u001b[0m | \u001b[1mINFO    \u001b[0m | \u001b[36mvrp_study.pdptw_model.routing_model\u001b[0m:\u001b[36madd_count_dimension\u001b[0m:\u001b[36m335\u001b[0m - \u001b[1mДобавление размерности для расстояния\u001b[0m\n",
      "\u001b[32m2025-08-04 12:06:05.258\u001b[0m | \u001b[1mINFO    \u001b[0m | \u001b[36mvrp_study.pdptw_model.routing_model\u001b[0m:\u001b[36madd_pick_up_and_delivery\u001b[0m:\u001b[36m269\u001b[0m - \u001b[1mДобавление ограничения для порядка доставки\u001b[0m\n",
      "\u001b[32m2025-08-04 12:06:05.259\u001b[0m | \u001b[1mINFO    \u001b[0m | \u001b[36mvrp_study.pdptw_model.routing_model\u001b[0m:\u001b[36madd_time_window\u001b[0m:\u001b[36m194\u001b[0m - \u001b[1madd time\u001b[0m\n",
      "\u001b[32m2025-08-04 12:06:05.259\u001b[0m | \u001b[1mINFO    \u001b[0m | \u001b[36mvrp_study.pdptw_model.routing_model\u001b[0m:\u001b[36madd_mass_constraint\u001b[0m:\u001b[36m177\u001b[0m - \u001b[1mДобавление ограничений для массы\u001b[0m\n",
      "\u001b[32m2025-08-04 12:06:05.262\u001b[0m | \u001b[1mINFO    \u001b[0m | \u001b[36mvrp_study.pdptw_model.routing_model\u001b[0m:\u001b[36mdo_solve\u001b[0m:\u001b[36m407\u001b[0m - \u001b[1mНачало решения\u001b[0m\n",
      "\u001b[32m2025-08-04 12:06:05.265\u001b[0m | \u001b[34m\u001b[1mDEBUG   \u001b[0m | \u001b[36mvrp_study.pdptw_model.routing_model\u001b[0m:\u001b[36m__call__\u001b[0m:\u001b[36m40\u001b[0m - \u001b[34m\u001b[1mtime: 0.005; new solution (1): 1; best solution: 1\u001b[0m\n",
      "\u001b[32m2025-08-04 12:06:05.267\u001b[0m | \u001b[1mINFO    \u001b[0m | \u001b[36mvrp_study.pdptw_model.routing_model\u001b[0m:\u001b[36mdo_solve\u001b[0m:\u001b[36m423\u001b[0m - \u001b[1mfind solution\u001b[0m\n",
      "\u001b[32m2025-08-04 12:06:05.268\u001b[0m | \u001b[1mINFO    \u001b[0m | \u001b[36mvrp_study.pdptw_model.routing_model\u001b[0m:\u001b[36mfind_optimal_paths\u001b[0m:\u001b[36m451\u001b[0m - \u001b[1mbest_score: 1\u001b[0m\n",
      "\u001b[32m2025-08-04 12:06:05.269\u001b[0m | \u001b[1mINFO    \u001b[0m | \u001b[36mvrp_study.pdptw_model.routing_model\u001b[0m:\u001b[36mdo_solve\u001b[0m:\u001b[36m378\u001b[0m - \u001b[1mНачало создания модели\u001b[0m\n",
      "\u001b[32m2025-08-04 12:06:05.270\u001b[0m | \u001b[1mINFO    \u001b[0m | \u001b[36mvrp_study.pdptw_model.routing_model\u001b[0m:\u001b[36madd_distance_dimension\u001b[0m:\u001b[36m299\u001b[0m - \u001b[1mДобавление размерности для расстояния\u001b[0m\n",
      "\u001b[32m2025-08-04 12:06:05.271\u001b[0m | \u001b[1mINFO    \u001b[0m | \u001b[36mvrp_study.pdptw_model.routing_model\u001b[0m:\u001b[36madd_count_dimension\u001b[0m:\u001b[36m335\u001b[0m - \u001b[1mДобавление размерности для расстояния\u001b[0m\n",
      "\u001b[32m2025-08-04 12:06:05.271\u001b[0m | \u001b[1mINFO    \u001b[0m | \u001b[36mvrp_study.pdptw_model.routing_model\u001b[0m:\u001b[36madd_pick_up_and_delivery\u001b[0m:\u001b[36m269\u001b[0m - \u001b[1mДобавление ограничения для порядка доставки\u001b[0m\n",
      "\u001b[32m2025-08-04 12:06:05.272\u001b[0m | \u001b[1mINFO    \u001b[0m | \u001b[36mvrp_study.pdptw_model.routing_model\u001b[0m:\u001b[36madd_vehicles_cost\u001b[0m:\u001b[36m243\u001b[0m - \u001b[1mДобавление стоимостей машин\u001b[0m\n",
      "\u001b[32m2025-08-04 12:06:05.273\u001b[0m | \u001b[1mINFO    \u001b[0m | \u001b[36mvrp_study.pdptw_model.routing_model\u001b[0m:\u001b[36madd_time_window\u001b[0m:\u001b[36m194\u001b[0m - \u001b[1madd time\u001b[0m\n",
      "\u001b[32m2025-08-04 12:06:05.273\u001b[0m | \u001b[1mINFO    \u001b[0m | \u001b[36mvrp_study.pdptw_model.routing_model\u001b[0m:\u001b[36madd_mass_constraint\u001b[0m:\u001b[36m177\u001b[0m - \u001b[1mДобавление ограничений для массы\u001b[0m\n",
      "\u001b[32m2025-08-04 12:06:05.274\u001b[0m | \u001b[1mINFO    \u001b[0m | \u001b[36mvrp_study.pdptw_model.routing_model\u001b[0m:\u001b[36mdo_solve\u001b[0m:\u001b[36m407\u001b[0m - \u001b[1mНачало решения\u001b[0m\n",
      "\u001b[32m2025-08-04 12:06:05.275\u001b[0m | \u001b[1mINFO    \u001b[0m | \u001b[36mvrp_study.pdptw_model.routing_model\u001b[0m:\u001b[36mdo_solve\u001b[0m:\u001b[36m410\u001b[0m - \u001b[1muse initial_solution: 1\u001b[0m\n",
      "\u001b[32m2025-08-04 12:06:05.275\u001b[0m | \u001b[34m\u001b[1mDEBUG   \u001b[0m | \u001b[36mvrp_study.pdptw_model.routing_model\u001b[0m:\u001b[36m__call__\u001b[0m:\u001b[36m40\u001b[0m - \u001b[34m\u001b[1mtime: 0.002; new solution (1): 19375; best solution: 19375\u001b[0m\n",
      "\u001b[32m2025-08-04 12:06:05.276\u001b[0m | \u001b[34m\u001b[1mDEBUG   \u001b[0m | \u001b[36mvrp_study.pdptw_model.routing_model\u001b[0m:\u001b[36m__call__\u001b[0m:\u001b[36m40\u001b[0m - \u001b[34m\u001b[1mtime: 0.003; new solution (2): 19375; best solution: 19375\u001b[0m\n",
      "\u001b[32m2025-08-04 12:06:05.277\u001b[0m | \u001b[1mINFO    \u001b[0m | \u001b[36mvrp_study.pdptw_model.routing_model\u001b[0m:\u001b[36mdo_solve\u001b[0m:\u001b[36m423\u001b[0m - \u001b[1mfind solution\u001b[0m\n",
      "\u001b[32m2025-08-04 12:06:05.278\u001b[0m | \u001b[1mINFO    \u001b[0m | \u001b[36mvrp_study.pdptw_model.routing_model\u001b[0m:\u001b[36mfind_optimal_paths\u001b[0m:\u001b[36m464\u001b[0m - \u001b[1mbest_score: 193.75\u001b[0m\n",
      "\u001b[32m2025-08-04 12:06:05.278\u001b[0m | \u001b[1mINFO    \u001b[0m | \u001b[36msrc.vrp_study.pdptw_model.solution_builder\u001b[0m:\u001b[36mget_initial_solution\u001b[0m:\u001b[36m138\u001b[0m - \u001b[1m[[0, 1, 2, 0], [], [], [], [], [], [], [], [], [], [], [], [], [], [], [], [], [], [], [], [], [], [], [], [], [], [], [], [], [], [], [], [], [], [], [], [], [], [], [], [], [], [], [], [], [], [], [], []]\u001b[0m\n"
     ]
    },
    {
     "data": {
      "application/vnd.jupyter.widget-view+json": {
       "model_id": "4eb8d776e3d34b0ba95cf29f871a0ec4",
       "version_major": 2,
       "version_minor": 0
      },
      "text/plain": [
       "  0%|          | 0/1 [00:00<?, ?it/s]"
      ]
     },
     "metadata": {},
     "output_type": "display_data"
    },
    {
     "name": "stderr",
     "output_type": "stream",
     "text": [
      "\u001b[32m2025-08-04 12:06:05.284\u001b[0m | \u001b[1mINFO    \u001b[0m | \u001b[36mvrp_study.pdptw_model.routing_model\u001b[0m:\u001b[36mfind_optimal_paths\u001b[0m:\u001b[36m443\u001b[0m - \u001b[1mproblem size: 3\u001b[0m\n",
      "\u001b[32m2025-08-04 12:06:05.285\u001b[0m | \u001b[1mINFO    \u001b[0m | \u001b[36mvrp_study.pdptw_model.routing_model\u001b[0m:\u001b[36mdo_solve\u001b[0m:\u001b[36m378\u001b[0m - \u001b[1mНачало создания модели\u001b[0m\n",
      "\u001b[32m2025-08-04 12:06:05.286\u001b[0m | \u001b[1mINFO    \u001b[0m | \u001b[36mvrp_study.pdptw_model.routing_model\u001b[0m:\u001b[36madd_distance_dimension\u001b[0m:\u001b[36m299\u001b[0m - \u001b[1mДобавление размерности для расстояния\u001b[0m\n",
      "\u001b[32m2025-08-04 12:06:05.287\u001b[0m | \u001b[1mINFO    \u001b[0m | \u001b[36mvrp_study.pdptw_model.routing_model\u001b[0m:\u001b[36madd_count_dimension\u001b[0m:\u001b[36m335\u001b[0m - \u001b[1mДобавление размерности для расстояния\u001b[0m\n",
      "\u001b[32m2025-08-04 12:06:05.288\u001b[0m | \u001b[1mINFO    \u001b[0m | \u001b[36mvrp_study.pdptw_model.routing_model\u001b[0m:\u001b[36madd_pick_up_and_delivery\u001b[0m:\u001b[36m269\u001b[0m - \u001b[1mДобавление ограничения для порядка доставки\u001b[0m\n",
      "\u001b[32m2025-08-04 12:06:05.288\u001b[0m | \u001b[1mINFO    \u001b[0m | \u001b[36mvrp_study.pdptw_model.routing_model\u001b[0m:\u001b[36madd_time_window\u001b[0m:\u001b[36m194\u001b[0m - \u001b[1madd time\u001b[0m\n",
      "\u001b[32m2025-08-04 12:06:05.289\u001b[0m | \u001b[1mINFO    \u001b[0m | \u001b[36mvrp_study.pdptw_model.routing_model\u001b[0m:\u001b[36madd_mass_constraint\u001b[0m:\u001b[36m177\u001b[0m - \u001b[1mДобавление ограничений для массы\u001b[0m\n",
      "\u001b[32m2025-08-04 12:06:05.292\u001b[0m | \u001b[1mINFO    \u001b[0m | \u001b[36mvrp_study.pdptw_model.routing_model\u001b[0m:\u001b[36mdo_solve\u001b[0m:\u001b[36m407\u001b[0m - \u001b[1mНачало решения\u001b[0m\n",
      "\u001b[32m2025-08-04 12:06:05.295\u001b[0m | \u001b[34m\u001b[1mDEBUG   \u001b[0m | \u001b[36mvrp_study.pdptw_model.routing_model\u001b[0m:\u001b[36m__call__\u001b[0m:\u001b[36m40\u001b[0m - \u001b[34m\u001b[1mtime: 0.005; new solution (1): 1; best solution: 1\u001b[0m\n",
      "\u001b[32m2025-08-04 12:06:05.299\u001b[0m | \u001b[1mINFO    \u001b[0m | \u001b[36mvrp_study.pdptw_model.routing_model\u001b[0m:\u001b[36mdo_solve\u001b[0m:\u001b[36m423\u001b[0m - \u001b[1mfind solution\u001b[0m\n",
      "\u001b[32m2025-08-04 12:06:05.299\u001b[0m | \u001b[1mINFO    \u001b[0m | \u001b[36mvrp_study.pdptw_model.routing_model\u001b[0m:\u001b[36mfind_optimal_paths\u001b[0m:\u001b[36m451\u001b[0m - \u001b[1mbest_score: 1\u001b[0m\n",
      "\u001b[32m2025-08-04 12:06:05.300\u001b[0m | \u001b[1mINFO    \u001b[0m | \u001b[36mvrp_study.pdptw_model.routing_model\u001b[0m:\u001b[36mdo_solve\u001b[0m:\u001b[36m378\u001b[0m - \u001b[1mНачало создания модели\u001b[0m\n",
      "\u001b[32m2025-08-04 12:06:05.301\u001b[0m | \u001b[1mINFO    \u001b[0m | \u001b[36mvrp_study.pdptw_model.routing_model\u001b[0m:\u001b[36madd_distance_dimension\u001b[0m:\u001b[36m299\u001b[0m - \u001b[1mДобавление размерности для расстояния\u001b[0m\n",
      "\u001b[32m2025-08-04 12:06:05.302\u001b[0m | \u001b[1mINFO    \u001b[0m | \u001b[36mvrp_study.pdptw_model.routing_model\u001b[0m:\u001b[36madd_count_dimension\u001b[0m:\u001b[36m335\u001b[0m - \u001b[1mДобавление размерности для расстояния\u001b[0m\n",
      "\u001b[32m2025-08-04 12:06:05.302\u001b[0m | \u001b[1mINFO    \u001b[0m | \u001b[36mvrp_study.pdptw_model.routing_model\u001b[0m:\u001b[36madd_pick_up_and_delivery\u001b[0m:\u001b[36m269\u001b[0m - \u001b[1mДобавление ограничения для порядка доставки\u001b[0m\n",
      "\u001b[32m2025-08-04 12:06:05.302\u001b[0m | \u001b[1mINFO    \u001b[0m | \u001b[36mvrp_study.pdptw_model.routing_model\u001b[0m:\u001b[36madd_vehicles_cost\u001b[0m:\u001b[36m243\u001b[0m - \u001b[1mДобавление стоимостей машин\u001b[0m\n",
      "\u001b[32m2025-08-04 12:06:05.303\u001b[0m | \u001b[1mINFO    \u001b[0m | \u001b[36mvrp_study.pdptw_model.routing_model\u001b[0m:\u001b[36madd_time_window\u001b[0m:\u001b[36m194\u001b[0m - \u001b[1madd time\u001b[0m\n",
      "\u001b[32m2025-08-04 12:06:05.305\u001b[0m | \u001b[1mINFO    \u001b[0m | \u001b[36mvrp_study.pdptw_model.routing_model\u001b[0m:\u001b[36madd_mass_constraint\u001b[0m:\u001b[36m177\u001b[0m - \u001b[1mДобавление ограничений для массы\u001b[0m\n",
      "\u001b[32m2025-08-04 12:06:05.306\u001b[0m | \u001b[1mINFO    \u001b[0m | \u001b[36mvrp_study.pdptw_model.routing_model\u001b[0m:\u001b[36mdo_solve\u001b[0m:\u001b[36m407\u001b[0m - \u001b[1mНачало решения\u001b[0m\n",
      "\u001b[32m2025-08-04 12:06:05.307\u001b[0m | \u001b[1mINFO    \u001b[0m | \u001b[36mvrp_study.pdptw_model.routing_model\u001b[0m:\u001b[36mdo_solve\u001b[0m:\u001b[36m410\u001b[0m - \u001b[1muse initial_solution: 1\u001b[0m\n",
      "\u001b[32m2025-08-04 12:06:05.307\u001b[0m | \u001b[34m\u001b[1mDEBUG   \u001b[0m | \u001b[36mvrp_study.pdptw_model.routing_model\u001b[0m:\u001b[36m__call__\u001b[0m:\u001b[36m40\u001b[0m - \u001b[34m\u001b[1mtime: 0.002; new solution (1): 13399; best solution: 13399\u001b[0m\n",
      "\u001b[32m2025-08-04 12:06:05.308\u001b[0m | \u001b[34m\u001b[1mDEBUG   \u001b[0m | \u001b[36mvrp_study.pdptw_model.routing_model\u001b[0m:\u001b[36m__call__\u001b[0m:\u001b[36m40\u001b[0m - \u001b[34m\u001b[1mtime: 0.003; new solution (2): 13399; best solution: 13399\u001b[0m\n",
      "\u001b[32m2025-08-04 12:06:05.310\u001b[0m | \u001b[1mINFO    \u001b[0m | \u001b[36mvrp_study.pdptw_model.routing_model\u001b[0m:\u001b[36mdo_solve\u001b[0m:\u001b[36m423\u001b[0m - \u001b[1mfind solution\u001b[0m\n",
      "\u001b[32m2025-08-04 12:06:05.310\u001b[0m | \u001b[1mINFO    \u001b[0m | \u001b[36mvrp_study.pdptw_model.routing_model\u001b[0m:\u001b[36mfind_optimal_paths\u001b[0m:\u001b[36m464\u001b[0m - \u001b[1mbest_score: 133.99\u001b[0m\n",
      "\u001b[32m2025-08-04 12:06:05.311\u001b[0m | \u001b[1mINFO    \u001b[0m | \u001b[36msrc.vrp_study.pdptw_model.solution_builder\u001b[0m:\u001b[36mget_initial_solution\u001b[0m:\u001b[36m138\u001b[0m - \u001b[1m[[0, 1, 2, 0], [], [], [], [], [], [], [], [], [], [], [], [], [], [], [], [], [], [], [], [], [], [], [], [], [], [], [], [], [], [], [], [], [], [], [], [], [], [], [], [], [], [], [], [], [], [], []]\u001b[0m\n"
     ]
    },
    {
     "data": {
      "application/vnd.jupyter.widget-view+json": {
       "model_id": "1eed36866d734ce6b359a5b0dff31c89",
       "version_major": 2,
       "version_minor": 0
      },
      "text/plain": [
       "  0%|          | 0/1 [00:00<?, ?it/s]"
      ]
     },
     "metadata": {},
     "output_type": "display_data"
    },
    {
     "name": "stderr",
     "output_type": "stream",
     "text": [
      "\u001b[32m2025-08-04 12:06:05.318\u001b[0m | \u001b[1mINFO    \u001b[0m | \u001b[36mvrp_study.pdptw_model.routing_model\u001b[0m:\u001b[36mfind_optimal_paths\u001b[0m:\u001b[36m443\u001b[0m - \u001b[1mproblem size: 3\u001b[0m\n",
      "\u001b[32m2025-08-04 12:06:05.319\u001b[0m | \u001b[1mINFO    \u001b[0m | \u001b[36mvrp_study.pdptw_model.routing_model\u001b[0m:\u001b[36mdo_solve\u001b[0m:\u001b[36m378\u001b[0m - \u001b[1mНачало создания модели\u001b[0m\n",
      "\u001b[32m2025-08-04 12:06:05.320\u001b[0m | \u001b[1mINFO    \u001b[0m | \u001b[36mvrp_study.pdptw_model.routing_model\u001b[0m:\u001b[36madd_distance_dimension\u001b[0m:\u001b[36m299\u001b[0m - \u001b[1mДобавление размерности для расстояния\u001b[0m\n",
      "\u001b[32m2025-08-04 12:06:05.321\u001b[0m | \u001b[1mINFO    \u001b[0m | \u001b[36mvrp_study.pdptw_model.routing_model\u001b[0m:\u001b[36madd_count_dimension\u001b[0m:\u001b[36m335\u001b[0m - \u001b[1mДобавление размерности для расстояния\u001b[0m\n",
      "\u001b[32m2025-08-04 12:06:05.322\u001b[0m | \u001b[1mINFO    \u001b[0m | \u001b[36mvrp_study.pdptw_model.routing_model\u001b[0m:\u001b[36madd_pick_up_and_delivery\u001b[0m:\u001b[36m269\u001b[0m - \u001b[1mДобавление ограничения для порядка доставки\u001b[0m\n",
      "\u001b[32m2025-08-04 12:06:05.322\u001b[0m | \u001b[1mINFO    \u001b[0m | \u001b[36mvrp_study.pdptw_model.routing_model\u001b[0m:\u001b[36madd_time_window\u001b[0m:\u001b[36m194\u001b[0m - \u001b[1madd time\u001b[0m\n",
      "\u001b[32m2025-08-04 12:06:05.323\u001b[0m | \u001b[1mINFO    \u001b[0m | \u001b[36mvrp_study.pdptw_model.routing_model\u001b[0m:\u001b[36madd_mass_constraint\u001b[0m:\u001b[36m177\u001b[0m - \u001b[1mДобавление ограничений для массы\u001b[0m\n",
      "\u001b[32m2025-08-04 12:06:05.329\u001b[0m | \u001b[1mINFO    \u001b[0m | \u001b[36mvrp_study.pdptw_model.routing_model\u001b[0m:\u001b[36mdo_solve\u001b[0m:\u001b[36m407\u001b[0m - \u001b[1mНачало решения\u001b[0m\n",
      "\u001b[32m2025-08-04 12:06:05.333\u001b[0m | \u001b[34m\u001b[1mDEBUG   \u001b[0m | \u001b[36mvrp_study.pdptw_model.routing_model\u001b[0m:\u001b[36m__call__\u001b[0m:\u001b[36m40\u001b[0m - \u001b[34m\u001b[1mtime: 0.007; new solution (1): 1; best solution: 1\u001b[0m\n",
      "\u001b[32m2025-08-04 12:06:05.335\u001b[0m | \u001b[1mINFO    \u001b[0m | \u001b[36mvrp_study.pdptw_model.routing_model\u001b[0m:\u001b[36mdo_solve\u001b[0m:\u001b[36m423\u001b[0m - \u001b[1mfind solution\u001b[0m\n",
      "\u001b[32m2025-08-04 12:06:05.336\u001b[0m | \u001b[1mINFO    \u001b[0m | \u001b[36mvrp_study.pdptw_model.routing_model\u001b[0m:\u001b[36mfind_optimal_paths\u001b[0m:\u001b[36m451\u001b[0m - \u001b[1mbest_score: 1\u001b[0m\n",
      "\u001b[32m2025-08-04 12:06:05.337\u001b[0m | \u001b[1mINFO    \u001b[0m | \u001b[36mvrp_study.pdptw_model.routing_model\u001b[0m:\u001b[36mdo_solve\u001b[0m:\u001b[36m378\u001b[0m - \u001b[1mНачало создания модели\u001b[0m\n",
      "\u001b[32m2025-08-04 12:06:05.338\u001b[0m | \u001b[1mINFO    \u001b[0m | \u001b[36mvrp_study.pdptw_model.routing_model\u001b[0m:\u001b[36madd_distance_dimension\u001b[0m:\u001b[36m299\u001b[0m - \u001b[1mДобавление размерности для расстояния\u001b[0m\n",
      "\u001b[32m2025-08-04 12:06:05.339\u001b[0m | \u001b[1mINFO    \u001b[0m | \u001b[36mvrp_study.pdptw_model.routing_model\u001b[0m:\u001b[36madd_count_dimension\u001b[0m:\u001b[36m335\u001b[0m - \u001b[1mДобавление размерности для расстояния\u001b[0m\n",
      "\u001b[32m2025-08-04 12:06:05.339\u001b[0m | \u001b[1mINFO    \u001b[0m | \u001b[36mvrp_study.pdptw_model.routing_model\u001b[0m:\u001b[36madd_pick_up_and_delivery\u001b[0m:\u001b[36m269\u001b[0m - \u001b[1mДобавление ограничения для порядка доставки\u001b[0m\n",
      "\u001b[32m2025-08-04 12:06:05.341\u001b[0m | \u001b[1mINFO    \u001b[0m | \u001b[36mvrp_study.pdptw_model.routing_model\u001b[0m:\u001b[36madd_vehicles_cost\u001b[0m:\u001b[36m243\u001b[0m - \u001b[1mДобавление стоимостей машин\u001b[0m\n",
      "\u001b[32m2025-08-04 12:06:05.341\u001b[0m | \u001b[1mINFO    \u001b[0m | \u001b[36mvrp_study.pdptw_model.routing_model\u001b[0m:\u001b[36madd_time_window\u001b[0m:\u001b[36m194\u001b[0m - \u001b[1madd time\u001b[0m\n",
      "\u001b[32m2025-08-04 12:06:05.342\u001b[0m | \u001b[1mINFO    \u001b[0m | \u001b[36mvrp_study.pdptw_model.routing_model\u001b[0m:\u001b[36madd_mass_constraint\u001b[0m:\u001b[36m177\u001b[0m - \u001b[1mДобавление ограничений для массы\u001b[0m\n",
      "\u001b[32m2025-08-04 12:06:05.343\u001b[0m | \u001b[1mINFO    \u001b[0m | \u001b[36mvrp_study.pdptw_model.routing_model\u001b[0m:\u001b[36mdo_solve\u001b[0m:\u001b[36m407\u001b[0m - \u001b[1mНачало решения\u001b[0m\n",
      "\u001b[32m2025-08-04 12:06:05.343\u001b[0m | \u001b[1mINFO    \u001b[0m | \u001b[36mvrp_study.pdptw_model.routing_model\u001b[0m:\u001b[36mdo_solve\u001b[0m:\u001b[36m410\u001b[0m - \u001b[1muse initial_solution: 1\u001b[0m\n",
      "\u001b[32m2025-08-04 12:06:05.344\u001b[0m | \u001b[34m\u001b[1mDEBUG   \u001b[0m | \u001b[36mvrp_study.pdptw_model.routing_model\u001b[0m:\u001b[36m__call__\u001b[0m:\u001b[36m40\u001b[0m - \u001b[34m\u001b[1mtime: 0.002; new solution (1): 17705; best solution: 17705\u001b[0m\n",
      "\u001b[32m2025-08-04 12:06:05.345\u001b[0m | \u001b[34m\u001b[1mDEBUG   \u001b[0m | \u001b[36mvrp_study.pdptw_model.routing_model\u001b[0m:\u001b[36m__call__\u001b[0m:\u001b[36m40\u001b[0m - \u001b[34m\u001b[1mtime: 0.003; new solution (2): 17705; best solution: 17705\u001b[0m\n",
      "\u001b[32m2025-08-04 12:06:05.347\u001b[0m | \u001b[1mINFO    \u001b[0m | \u001b[36mvrp_study.pdptw_model.routing_model\u001b[0m:\u001b[36mdo_solve\u001b[0m:\u001b[36m423\u001b[0m - \u001b[1mfind solution\u001b[0m\n",
      "\u001b[32m2025-08-04 12:06:05.347\u001b[0m | \u001b[1mINFO    \u001b[0m | \u001b[36mvrp_study.pdptw_model.routing_model\u001b[0m:\u001b[36mfind_optimal_paths\u001b[0m:\u001b[36m464\u001b[0m - \u001b[1mbest_score: 177.05\u001b[0m\n",
      "\u001b[32m2025-08-04 12:06:05.348\u001b[0m | \u001b[1mINFO    \u001b[0m | \u001b[36msrc.vrp_study.pdptw_model.solution_builder\u001b[0m:\u001b[36mget_initial_solution\u001b[0m:\u001b[36m138\u001b[0m - \u001b[1m[[0, 1, 2, 0], [], [], [], [], [], [], [], [], [], [], [], [], [], [], [], [], [], [], [], [], [], [], [], [], [], [], [], [], [], [], [], [], [], [], [], [], [], [], [], [], [], [], [], [], [], []]\u001b[0m\n"
     ]
    },
    {
     "data": {
      "application/vnd.jupyter.widget-view+json": {
       "model_id": "debe877dfe6648e2a0a3a99f9ca5b461",
       "version_major": 2,
       "version_minor": 0
      },
      "text/plain": [
       "  0%|          | 0/1 [00:00<?, ?it/s]"
      ]
     },
     "metadata": {},
     "output_type": "display_data"
    },
    {
     "name": "stderr",
     "output_type": "stream",
     "text": [
      "\u001b[32m2025-08-04 12:06:05.354\u001b[0m | \u001b[1mINFO    \u001b[0m | \u001b[36mvrp_study.pdptw_model.routing_model\u001b[0m:\u001b[36mfind_optimal_paths\u001b[0m:\u001b[36m443\u001b[0m - \u001b[1mproblem size: 3\u001b[0m\n",
      "\u001b[32m2025-08-04 12:06:05.354\u001b[0m | \u001b[1mINFO    \u001b[0m | \u001b[36mvrp_study.pdptw_model.routing_model\u001b[0m:\u001b[36mdo_solve\u001b[0m:\u001b[36m378\u001b[0m - \u001b[1mНачало создания модели\u001b[0m\n",
      "\u001b[32m2025-08-04 12:06:05.355\u001b[0m | \u001b[1mINFO    \u001b[0m | \u001b[36mvrp_study.pdptw_model.routing_model\u001b[0m:\u001b[36madd_distance_dimension\u001b[0m:\u001b[36m299\u001b[0m - \u001b[1mДобавление размерности для расстояния\u001b[0m\n",
      "\u001b[32m2025-08-04 12:06:05.356\u001b[0m | \u001b[1mINFO    \u001b[0m | \u001b[36mvrp_study.pdptw_model.routing_model\u001b[0m:\u001b[36madd_count_dimension\u001b[0m:\u001b[36m335\u001b[0m - \u001b[1mДобавление размерности для расстояния\u001b[0m\n",
      "\u001b[32m2025-08-04 12:06:05.357\u001b[0m | \u001b[1mINFO    \u001b[0m | \u001b[36mvrp_study.pdptw_model.routing_model\u001b[0m:\u001b[36madd_pick_up_and_delivery\u001b[0m:\u001b[36m269\u001b[0m - \u001b[1mДобавление ограничения для порядка доставки\u001b[0m\n",
      "\u001b[32m2025-08-04 12:06:05.358\u001b[0m | \u001b[1mINFO    \u001b[0m | \u001b[36mvrp_study.pdptw_model.routing_model\u001b[0m:\u001b[36madd_time_window\u001b[0m:\u001b[36m194\u001b[0m - \u001b[1madd time\u001b[0m\n",
      "\u001b[32m2025-08-04 12:06:05.359\u001b[0m | \u001b[1mINFO    \u001b[0m | \u001b[36mvrp_study.pdptw_model.routing_model\u001b[0m:\u001b[36madd_mass_constraint\u001b[0m:\u001b[36m177\u001b[0m - \u001b[1mДобавление ограничений для массы\u001b[0m\n",
      "\u001b[32m2025-08-04 12:06:05.362\u001b[0m | \u001b[1mINFO    \u001b[0m | \u001b[36mvrp_study.pdptw_model.routing_model\u001b[0m:\u001b[36mdo_solve\u001b[0m:\u001b[36m407\u001b[0m - \u001b[1mНачало решения\u001b[0m\n",
      "\u001b[32m2025-08-04 12:06:05.367\u001b[0m | \u001b[34m\u001b[1mDEBUG   \u001b[0m | \u001b[36mvrp_study.pdptw_model.routing_model\u001b[0m:\u001b[36m__call__\u001b[0m:\u001b[36m40\u001b[0m - \u001b[34m\u001b[1mtime: 0.007; new solution (1): 1; best solution: 1\u001b[0m\n",
      "\u001b[32m2025-08-04 12:06:05.369\u001b[0m | \u001b[1mINFO    \u001b[0m | \u001b[36mvrp_study.pdptw_model.routing_model\u001b[0m:\u001b[36mdo_solve\u001b[0m:\u001b[36m423\u001b[0m - \u001b[1mfind solution\u001b[0m\n",
      "\u001b[32m2025-08-04 12:06:05.370\u001b[0m | \u001b[1mINFO    \u001b[0m | \u001b[36mvrp_study.pdptw_model.routing_model\u001b[0m:\u001b[36mfind_optimal_paths\u001b[0m:\u001b[36m451\u001b[0m - \u001b[1mbest_score: 1\u001b[0m\n",
      "\u001b[32m2025-08-04 12:06:05.370\u001b[0m | \u001b[1mINFO    \u001b[0m | \u001b[36mvrp_study.pdptw_model.routing_model\u001b[0m:\u001b[36mdo_solve\u001b[0m:\u001b[36m378\u001b[0m - \u001b[1mНачало создания модели\u001b[0m\n",
      "\u001b[32m2025-08-04 12:06:05.372\u001b[0m | \u001b[1mINFO    \u001b[0m | \u001b[36mvrp_study.pdptw_model.routing_model\u001b[0m:\u001b[36madd_distance_dimension\u001b[0m:\u001b[36m299\u001b[0m - \u001b[1mДобавление размерности для расстояния\u001b[0m\n",
      "\u001b[32m2025-08-04 12:06:05.373\u001b[0m | \u001b[1mINFO    \u001b[0m | \u001b[36mvrp_study.pdptw_model.routing_model\u001b[0m:\u001b[36madd_count_dimension\u001b[0m:\u001b[36m335\u001b[0m - \u001b[1mДобавление размерности для расстояния\u001b[0m\n",
      "\u001b[32m2025-08-04 12:06:05.373\u001b[0m | \u001b[1mINFO    \u001b[0m | \u001b[36mvrp_study.pdptw_model.routing_model\u001b[0m:\u001b[36madd_pick_up_and_delivery\u001b[0m:\u001b[36m269\u001b[0m - \u001b[1mДобавление ограничения для порядка доставки\u001b[0m\n",
      "\u001b[32m2025-08-04 12:06:05.374\u001b[0m | \u001b[1mINFO    \u001b[0m | \u001b[36mvrp_study.pdptw_model.routing_model\u001b[0m:\u001b[36madd_vehicles_cost\u001b[0m:\u001b[36m243\u001b[0m - \u001b[1mДобавление стоимостей машин\u001b[0m\n",
      "\u001b[32m2025-08-04 12:06:05.375\u001b[0m | \u001b[1mINFO    \u001b[0m | \u001b[36mvrp_study.pdptw_model.routing_model\u001b[0m:\u001b[36madd_time_window\u001b[0m:\u001b[36m194\u001b[0m - \u001b[1madd time\u001b[0m\n",
      "\u001b[32m2025-08-04 12:06:05.375\u001b[0m | \u001b[1mINFO    \u001b[0m | \u001b[36mvrp_study.pdptw_model.routing_model\u001b[0m:\u001b[36madd_mass_constraint\u001b[0m:\u001b[36m177\u001b[0m - \u001b[1mДобавление ограничений для массы\u001b[0m\n",
      "\u001b[32m2025-08-04 12:06:05.377\u001b[0m | \u001b[1mINFO    \u001b[0m | \u001b[36mvrp_study.pdptw_model.routing_model\u001b[0m:\u001b[36mdo_solve\u001b[0m:\u001b[36m407\u001b[0m - \u001b[1mНачало решения\u001b[0m\n",
      "\u001b[32m2025-08-04 12:06:05.377\u001b[0m | \u001b[1mINFO    \u001b[0m | \u001b[36mvrp_study.pdptw_model.routing_model\u001b[0m:\u001b[36mdo_solve\u001b[0m:\u001b[36m410\u001b[0m - \u001b[1muse initial_solution: 1\u001b[0m\n",
      "\u001b[32m2025-08-04 12:06:05.378\u001b[0m | \u001b[34m\u001b[1mDEBUG   \u001b[0m | \u001b[36mvrp_study.pdptw_model.routing_model\u001b[0m:\u001b[36m__call__\u001b[0m:\u001b[36m40\u001b[0m - \u001b[34m\u001b[1mtime: 0.002; new solution (1): 19519; best solution: 19519\u001b[0m\n",
      "\u001b[32m2025-08-04 12:06:05.379\u001b[0m | \u001b[34m\u001b[1mDEBUG   \u001b[0m | \u001b[36mvrp_study.pdptw_model.routing_model\u001b[0m:\u001b[36m__call__\u001b[0m:\u001b[36m40\u001b[0m - \u001b[34m\u001b[1mtime: 0.003; new solution (2): 19519; best solution: 19519\u001b[0m\n",
      "\u001b[32m2025-08-04 12:06:05.380\u001b[0m | \u001b[1mINFO    \u001b[0m | \u001b[36mvrp_study.pdptw_model.routing_model\u001b[0m:\u001b[36mdo_solve\u001b[0m:\u001b[36m423\u001b[0m - \u001b[1mfind solution\u001b[0m\n",
      "\u001b[32m2025-08-04 12:06:05.381\u001b[0m | \u001b[1mINFO    \u001b[0m | \u001b[36mvrp_study.pdptw_model.routing_model\u001b[0m:\u001b[36mfind_optimal_paths\u001b[0m:\u001b[36m464\u001b[0m - \u001b[1mbest_score: 195.19\u001b[0m\n",
      "\u001b[32m2025-08-04 12:06:05.382\u001b[0m | \u001b[1mINFO    \u001b[0m | \u001b[36msrc.vrp_study.pdptw_model.solution_builder\u001b[0m:\u001b[36mget_initial_solution\u001b[0m:\u001b[36m138\u001b[0m - \u001b[1m[[0, 1, 2, 0], [], [], [], [], [], [], [], [], [], [], [], [], [], [], [], [], [], [], [], [], [], [], [], [], [], [], [], [], [], [], [], [], [], [], [], [], [], [], [], [], [], [], [], [], []]\u001b[0m\n"
     ]
    },
    {
     "data": {
      "application/vnd.jupyter.widget-view+json": {
       "model_id": "a1d1975b3dc44c56baa817f2c6f2f828",
       "version_major": 2,
       "version_minor": 0
      },
      "text/plain": [
       "  0%|          | 0/1 [00:00<?, ?it/s]"
      ]
     },
     "metadata": {},
     "output_type": "display_data"
    },
    {
     "name": "stderr",
     "output_type": "stream",
     "text": [
      "\u001b[32m2025-08-04 12:06:05.388\u001b[0m | \u001b[1mINFO    \u001b[0m | \u001b[36mvrp_study.pdptw_model.routing_model\u001b[0m:\u001b[36mfind_optimal_paths\u001b[0m:\u001b[36m443\u001b[0m - \u001b[1mproblem size: 3\u001b[0m\n",
      "\u001b[32m2025-08-04 12:06:05.388\u001b[0m | \u001b[1mINFO    \u001b[0m | \u001b[36mvrp_study.pdptw_model.routing_model\u001b[0m:\u001b[36mdo_solve\u001b[0m:\u001b[36m378\u001b[0m - \u001b[1mНачало создания модели\u001b[0m\n",
      "\u001b[32m2025-08-04 12:06:05.390\u001b[0m | \u001b[1mINFO    \u001b[0m | \u001b[36mvrp_study.pdptw_model.routing_model\u001b[0m:\u001b[36madd_distance_dimension\u001b[0m:\u001b[36m299\u001b[0m - \u001b[1mДобавление размерности для расстояния\u001b[0m\n",
      "\u001b[32m2025-08-04 12:06:05.391\u001b[0m | \u001b[1mINFO    \u001b[0m | \u001b[36mvrp_study.pdptw_model.routing_model\u001b[0m:\u001b[36madd_count_dimension\u001b[0m:\u001b[36m335\u001b[0m - \u001b[1mДобавление размерности для расстояния\u001b[0m\n",
      "\u001b[32m2025-08-04 12:06:05.391\u001b[0m | \u001b[1mINFO    \u001b[0m | \u001b[36mvrp_study.pdptw_model.routing_model\u001b[0m:\u001b[36madd_pick_up_and_delivery\u001b[0m:\u001b[36m269\u001b[0m - \u001b[1mДобавление ограничения для порядка доставки\u001b[0m\n",
      "\u001b[32m2025-08-04 12:06:05.392\u001b[0m | \u001b[1mINFO    \u001b[0m | \u001b[36mvrp_study.pdptw_model.routing_model\u001b[0m:\u001b[36madd_time_window\u001b[0m:\u001b[36m194\u001b[0m - \u001b[1madd time\u001b[0m\n",
      "\u001b[32m2025-08-04 12:06:05.393\u001b[0m | \u001b[1mINFO    \u001b[0m | \u001b[36mvrp_study.pdptw_model.routing_model\u001b[0m:\u001b[36madd_mass_constraint\u001b[0m:\u001b[36m177\u001b[0m - \u001b[1mДобавление ограничений для массы\u001b[0m\n",
      "\u001b[32m2025-08-04 12:06:05.397\u001b[0m | \u001b[1mINFO    \u001b[0m | \u001b[36mvrp_study.pdptw_model.routing_model\u001b[0m:\u001b[36mdo_solve\u001b[0m:\u001b[36m407\u001b[0m - \u001b[1mНачало решения\u001b[0m\n",
      "\u001b[32m2025-08-04 12:06:05.399\u001b[0m | \u001b[34m\u001b[1mDEBUG   \u001b[0m | \u001b[36mvrp_study.pdptw_model.routing_model\u001b[0m:\u001b[36m__call__\u001b[0m:\u001b[36m40\u001b[0m - \u001b[34m\u001b[1mtime: 0.005; new solution (1): 1; best solution: 1\u001b[0m\n",
      "\u001b[32m2025-08-04 12:06:05.402\u001b[0m | \u001b[1mINFO    \u001b[0m | \u001b[36mvrp_study.pdptw_model.routing_model\u001b[0m:\u001b[36mdo_solve\u001b[0m:\u001b[36m423\u001b[0m - \u001b[1mfind solution\u001b[0m\n",
      "\u001b[32m2025-08-04 12:06:05.403\u001b[0m | \u001b[1mINFO    \u001b[0m | \u001b[36mvrp_study.pdptw_model.routing_model\u001b[0m:\u001b[36mfind_optimal_paths\u001b[0m:\u001b[36m451\u001b[0m - \u001b[1mbest_score: 1\u001b[0m\n",
      "\u001b[32m2025-08-04 12:06:05.403\u001b[0m | \u001b[1mINFO    \u001b[0m | \u001b[36mvrp_study.pdptw_model.routing_model\u001b[0m:\u001b[36mdo_solve\u001b[0m:\u001b[36m378\u001b[0m - \u001b[1mНачало создания модели\u001b[0m\n",
      "\u001b[32m2025-08-04 12:06:05.404\u001b[0m | \u001b[1mINFO    \u001b[0m | \u001b[36mvrp_study.pdptw_model.routing_model\u001b[0m:\u001b[36madd_distance_dimension\u001b[0m:\u001b[36m299\u001b[0m - \u001b[1mДобавление размерности для расстояния\u001b[0m\n",
      "\u001b[32m2025-08-04 12:06:05.405\u001b[0m | \u001b[1mINFO    \u001b[0m | \u001b[36mvrp_study.pdptw_model.routing_model\u001b[0m:\u001b[36madd_count_dimension\u001b[0m:\u001b[36m335\u001b[0m - \u001b[1mДобавление размерности для расстояния\u001b[0m\n",
      "\u001b[32m2025-08-04 12:06:05.405\u001b[0m | \u001b[1mINFO    \u001b[0m | \u001b[36mvrp_study.pdptw_model.routing_model\u001b[0m:\u001b[36madd_pick_up_and_delivery\u001b[0m:\u001b[36m269\u001b[0m - \u001b[1mДобавление ограничения для порядка доставки\u001b[0m\n",
      "\u001b[32m2025-08-04 12:06:05.406\u001b[0m | \u001b[1mINFO    \u001b[0m | \u001b[36mvrp_study.pdptw_model.routing_model\u001b[0m:\u001b[36madd_vehicles_cost\u001b[0m:\u001b[36m243\u001b[0m - \u001b[1mДобавление стоимостей машин\u001b[0m\n",
      "\u001b[32m2025-08-04 12:06:05.406\u001b[0m | \u001b[1mINFO    \u001b[0m | \u001b[36mvrp_study.pdptw_model.routing_model\u001b[0m:\u001b[36madd_time_window\u001b[0m:\u001b[36m194\u001b[0m - \u001b[1madd time\u001b[0m\n",
      "\u001b[32m2025-08-04 12:06:05.408\u001b[0m | \u001b[1mINFO    \u001b[0m | \u001b[36mvrp_study.pdptw_model.routing_model\u001b[0m:\u001b[36madd_mass_constraint\u001b[0m:\u001b[36m177\u001b[0m - \u001b[1mДобавление ограничений для массы\u001b[0m\n",
      "\u001b[32m2025-08-04 12:06:05.409\u001b[0m | \u001b[1mINFO    \u001b[0m | \u001b[36mvrp_study.pdptw_model.routing_model\u001b[0m:\u001b[36mdo_solve\u001b[0m:\u001b[36m407\u001b[0m - \u001b[1mНачало решения\u001b[0m\n",
      "\u001b[32m2025-08-04 12:06:05.409\u001b[0m | \u001b[1mINFO    \u001b[0m | \u001b[36mvrp_study.pdptw_model.routing_model\u001b[0m:\u001b[36mdo_solve\u001b[0m:\u001b[36m410\u001b[0m - \u001b[1muse initial_solution: 1\u001b[0m\n",
      "\u001b[32m2025-08-04 12:06:05.410\u001b[0m | \u001b[34m\u001b[1mDEBUG   \u001b[0m | \u001b[36mvrp_study.pdptw_model.routing_model\u001b[0m:\u001b[36m__call__\u001b[0m:\u001b[36m40\u001b[0m - \u001b[34m\u001b[1mtime: 0.002; new solution (1): 6101; best solution: 6101\u001b[0m\n",
      "\u001b[32m2025-08-04 12:06:05.411\u001b[0m | \u001b[34m\u001b[1mDEBUG   \u001b[0m | \u001b[36mvrp_study.pdptw_model.routing_model\u001b[0m:\u001b[36m__call__\u001b[0m:\u001b[36m40\u001b[0m - \u001b[34m\u001b[1mtime: 0.003; new solution (2): 6101; best solution: 6101\u001b[0m\n",
      "\u001b[32m2025-08-04 12:06:05.412\u001b[0m | \u001b[1mINFO    \u001b[0m | \u001b[36mvrp_study.pdptw_model.routing_model\u001b[0m:\u001b[36mdo_solve\u001b[0m:\u001b[36m423\u001b[0m - \u001b[1mfind solution\u001b[0m\n",
      "\u001b[32m2025-08-04 12:06:05.413\u001b[0m | \u001b[1mINFO    \u001b[0m | \u001b[36mvrp_study.pdptw_model.routing_model\u001b[0m:\u001b[36mfind_optimal_paths\u001b[0m:\u001b[36m464\u001b[0m - \u001b[1mbest_score: 61.01\u001b[0m\n",
      "\u001b[32m2025-08-04 12:06:05.414\u001b[0m | \u001b[1mINFO    \u001b[0m | \u001b[36msrc.vrp_study.pdptw_model.solution_builder\u001b[0m:\u001b[36mget_initial_solution\u001b[0m:\u001b[36m138\u001b[0m - \u001b[1m[[0, 1, 2, 0], [], [], [], [], [], [], [], [], [], [], [], [], [], [], [], [], [], [], [], [], [], [], [], [], [], [], [], [], [], [], [], [], [], [], [], [], [], [], [], [], [], [], [], []]\u001b[0m\n"
     ]
    },
    {
     "data": {
      "application/vnd.jupyter.widget-view+json": {
       "model_id": "37064a3c9f654e2ab7090de8098004cd",
       "version_major": 2,
       "version_minor": 0
      },
      "text/plain": [
       "  0%|          | 0/1 [00:00<?, ?it/s]"
      ]
     },
     "metadata": {},
     "output_type": "display_data"
    },
    {
     "name": "stderr",
     "output_type": "stream",
     "text": [
      "\u001b[32m2025-08-04 12:06:05.421\u001b[0m | \u001b[1mINFO    \u001b[0m | \u001b[36mvrp_study.pdptw_model.routing_model\u001b[0m:\u001b[36mfind_optimal_paths\u001b[0m:\u001b[36m443\u001b[0m - \u001b[1mproblem size: 3\u001b[0m\n",
      "\u001b[32m2025-08-04 12:06:05.421\u001b[0m | \u001b[1mINFO    \u001b[0m | \u001b[36mvrp_study.pdptw_model.routing_model\u001b[0m:\u001b[36mdo_solve\u001b[0m:\u001b[36m378\u001b[0m - \u001b[1mНачало создания модели\u001b[0m\n",
      "\u001b[32m2025-08-04 12:06:05.423\u001b[0m | \u001b[1mINFO    \u001b[0m | \u001b[36mvrp_study.pdptw_model.routing_model\u001b[0m:\u001b[36madd_distance_dimension\u001b[0m:\u001b[36m299\u001b[0m - \u001b[1mДобавление размерности для расстояния\u001b[0m\n",
      "\u001b[32m2025-08-04 12:06:05.424\u001b[0m | \u001b[1mINFO    \u001b[0m | \u001b[36mvrp_study.pdptw_model.routing_model\u001b[0m:\u001b[36madd_count_dimension\u001b[0m:\u001b[36m335\u001b[0m - \u001b[1mДобавление размерности для расстояния\u001b[0m\n",
      "\u001b[32m2025-08-04 12:06:05.425\u001b[0m | \u001b[1mINFO    \u001b[0m | \u001b[36mvrp_study.pdptw_model.routing_model\u001b[0m:\u001b[36madd_pick_up_and_delivery\u001b[0m:\u001b[36m269\u001b[0m - \u001b[1mДобавление ограничения для порядка доставки\u001b[0m\n",
      "\u001b[32m2025-08-04 12:06:05.425\u001b[0m | \u001b[1mINFO    \u001b[0m | \u001b[36mvrp_study.pdptw_model.routing_model\u001b[0m:\u001b[36madd_time_window\u001b[0m:\u001b[36m194\u001b[0m - \u001b[1madd time\u001b[0m\n",
      "\u001b[32m2025-08-04 12:06:05.426\u001b[0m | \u001b[1mINFO    \u001b[0m | \u001b[36mvrp_study.pdptw_model.routing_model\u001b[0m:\u001b[36madd_mass_constraint\u001b[0m:\u001b[36m177\u001b[0m - \u001b[1mДобавление ограничений для массы\u001b[0m\n",
      "\u001b[32m2025-08-04 12:06:05.430\u001b[0m | \u001b[1mINFO    \u001b[0m | \u001b[36mvrp_study.pdptw_model.routing_model\u001b[0m:\u001b[36mdo_solve\u001b[0m:\u001b[36m407\u001b[0m - \u001b[1mНачало решения\u001b[0m\n",
      "\u001b[32m2025-08-04 12:06:05.433\u001b[0m | \u001b[34m\u001b[1mDEBUG   \u001b[0m | \u001b[36mvrp_study.pdptw_model.routing_model\u001b[0m:\u001b[36m__call__\u001b[0m:\u001b[36m40\u001b[0m - \u001b[34m\u001b[1mtime: 0.006; new solution (1): 1; best solution: 1\u001b[0m\n",
      "\u001b[32m2025-08-04 12:06:05.436\u001b[0m | \u001b[1mINFO    \u001b[0m | \u001b[36mvrp_study.pdptw_model.routing_model\u001b[0m:\u001b[36mdo_solve\u001b[0m:\u001b[36m423\u001b[0m - \u001b[1mfind solution\u001b[0m\n",
      "\u001b[32m2025-08-04 12:06:05.437\u001b[0m | \u001b[1mINFO    \u001b[0m | \u001b[36mvrp_study.pdptw_model.routing_model\u001b[0m:\u001b[36mfind_optimal_paths\u001b[0m:\u001b[36m451\u001b[0m - \u001b[1mbest_score: 1\u001b[0m\n",
      "\u001b[32m2025-08-04 12:06:05.438\u001b[0m | \u001b[1mINFO    \u001b[0m | \u001b[36mvrp_study.pdptw_model.routing_model\u001b[0m:\u001b[36mdo_solve\u001b[0m:\u001b[36m378\u001b[0m - \u001b[1mНачало создания модели\u001b[0m\n",
      "\u001b[32m2025-08-04 12:06:05.439\u001b[0m | \u001b[1mINFO    \u001b[0m | \u001b[36mvrp_study.pdptw_model.routing_model\u001b[0m:\u001b[36madd_distance_dimension\u001b[0m:\u001b[36m299\u001b[0m - \u001b[1mДобавление размерности для расстояния\u001b[0m\n",
      "\u001b[32m2025-08-04 12:06:05.440\u001b[0m | \u001b[1mINFO    \u001b[0m | \u001b[36mvrp_study.pdptw_model.routing_model\u001b[0m:\u001b[36madd_count_dimension\u001b[0m:\u001b[36m335\u001b[0m - \u001b[1mДобавление размерности для расстояния\u001b[0m\n",
      "\u001b[32m2025-08-04 12:06:05.441\u001b[0m | \u001b[1mINFO    \u001b[0m | \u001b[36mvrp_study.pdptw_model.routing_model\u001b[0m:\u001b[36madd_pick_up_and_delivery\u001b[0m:\u001b[36m269\u001b[0m - \u001b[1mДобавление ограничения для порядка доставки\u001b[0m\n",
      "\u001b[32m2025-08-04 12:06:05.441\u001b[0m | \u001b[1mINFO    \u001b[0m | \u001b[36mvrp_study.pdptw_model.routing_model\u001b[0m:\u001b[36madd_vehicles_cost\u001b[0m:\u001b[36m243\u001b[0m - \u001b[1mДобавление стоимостей машин\u001b[0m\n",
      "\u001b[32m2025-08-04 12:06:05.442\u001b[0m | \u001b[1mINFO    \u001b[0m | \u001b[36mvrp_study.pdptw_model.routing_model\u001b[0m:\u001b[36madd_time_window\u001b[0m:\u001b[36m194\u001b[0m - \u001b[1madd time\u001b[0m\n",
      "\u001b[32m2025-08-04 12:06:05.442\u001b[0m | \u001b[1mINFO    \u001b[0m | \u001b[36mvrp_study.pdptw_model.routing_model\u001b[0m:\u001b[36madd_mass_constraint\u001b[0m:\u001b[36m177\u001b[0m - \u001b[1mДобавление ограничений для массы\u001b[0m\n",
      "\u001b[32m2025-08-04 12:06:05.443\u001b[0m | \u001b[1mINFO    \u001b[0m | \u001b[36mvrp_study.pdptw_model.routing_model\u001b[0m:\u001b[36mdo_solve\u001b[0m:\u001b[36m407\u001b[0m - \u001b[1mНачало решения\u001b[0m\n",
      "\u001b[32m2025-08-04 12:06:05.444\u001b[0m | \u001b[1mINFO    \u001b[0m | \u001b[36mvrp_study.pdptw_model.routing_model\u001b[0m:\u001b[36mdo_solve\u001b[0m:\u001b[36m410\u001b[0m - \u001b[1muse initial_solution: 1\u001b[0m\n",
      "\u001b[32m2025-08-04 12:06:05.445\u001b[0m | \u001b[34m\u001b[1mDEBUG   \u001b[0m | \u001b[36mvrp_study.pdptw_model.routing_model\u001b[0m:\u001b[36m__call__\u001b[0m:\u001b[36m40\u001b[0m - \u001b[34m\u001b[1mtime: 0.002; new solution (1): 2957; best solution: 2957\u001b[0m\n",
      "\u001b[32m2025-08-04 12:06:05.446\u001b[0m | \u001b[34m\u001b[1mDEBUG   \u001b[0m | \u001b[36mvrp_study.pdptw_model.routing_model\u001b[0m:\u001b[36m__call__\u001b[0m:\u001b[36m40\u001b[0m - \u001b[34m\u001b[1mtime: 0.003; new solution (2): 2957; best solution: 2957\u001b[0m\n",
      "\u001b[32m2025-08-04 12:06:05.447\u001b[0m | \u001b[1mINFO    \u001b[0m | \u001b[36mvrp_study.pdptw_model.routing_model\u001b[0m:\u001b[36mdo_solve\u001b[0m:\u001b[36m423\u001b[0m - \u001b[1mfind solution\u001b[0m\n",
      "\u001b[32m2025-08-04 12:06:05.448\u001b[0m | \u001b[1mINFO    \u001b[0m | \u001b[36mvrp_study.pdptw_model.routing_model\u001b[0m:\u001b[36mfind_optimal_paths\u001b[0m:\u001b[36m464\u001b[0m - \u001b[1mbest_score: 29.57\u001b[0m\n",
      "\u001b[32m2025-08-04 12:06:05.449\u001b[0m | \u001b[1mINFO    \u001b[0m | \u001b[36msrc.vrp_study.pdptw_model.solution_builder\u001b[0m:\u001b[36mget_initial_solution\u001b[0m:\u001b[36m138\u001b[0m - \u001b[1m[[0, 1, 2, 0], [], [], [], [], [], [], [], [], [], [], [], [], [], [], [], [], [], [], [], [], [], [], [], [], [], [], [], [], [], [], [], [], [], [], [], [], [], [], [], [], [], [], []]\u001b[0m\n",
      "\u001b[32m2025-08-04 12:06:05.450\u001b[0m | \u001b[1mINFO    \u001b[0m | \u001b[36msrc.vrp_study.pdptw_model.routing_model\u001b[0m:\u001b[36mfind_optimal_paths\u001b[0m:\u001b[36m438\u001b[0m - \u001b[1muse initial_solution: 100\u001b[0m\n",
      "\u001b[32m2025-08-04 12:06:05.450\u001b[0m | \u001b[1mINFO    \u001b[0m | \u001b[36msrc.vrp_study.pdptw_model.routing_model\u001b[0m:\u001b[36mfind_optimal_paths\u001b[0m:\u001b[36m443\u001b[0m - \u001b[1mproblem size: 423\u001b[0m\n",
      "\u001b[32m2025-08-04 12:06:05.451\u001b[0m | \u001b[1mINFO    \u001b[0m | \u001b[36msrc.vrp_study.pdptw_model.routing_model\u001b[0m:\u001b[36mdo_solve\u001b[0m:\u001b[36m378\u001b[0m - \u001b[1mНачало создания модели\u001b[0m\n",
      "\u001b[32m2025-08-04 12:06:05.453\u001b[0m | \u001b[1mINFO    \u001b[0m | \u001b[36msrc.vrp_study.pdptw_model.routing_model\u001b[0m:\u001b[36madd_distance_dimension\u001b[0m:\u001b[36m299\u001b[0m - \u001b[1mДобавление размерности для расстояния\u001b[0m\n",
      "\u001b[32m2025-08-04 12:06:05.455\u001b[0m | \u001b[1mINFO    \u001b[0m | \u001b[36msrc.vrp_study.pdptw_model.routing_model\u001b[0m:\u001b[36madd_count_dimension\u001b[0m:\u001b[36m335\u001b[0m - \u001b[1mДобавление размерности для расстояния\u001b[0m\n",
      "\u001b[32m2025-08-04 12:06:05.456\u001b[0m | \u001b[1mINFO    \u001b[0m | \u001b[36msrc.vrp_study.pdptw_model.routing_model\u001b[0m:\u001b[36madd_pick_up_and_delivery\u001b[0m:\u001b[36m269\u001b[0m - \u001b[1mДобавление ограничения для порядка доставки\u001b[0m\n",
      "\u001b[32m2025-08-04 12:06:05.459\u001b[0m | \u001b[1mINFO    \u001b[0m | \u001b[36msrc.vrp_study.pdptw_model.routing_model\u001b[0m:\u001b[36madd_time_window\u001b[0m:\u001b[36m194\u001b[0m - \u001b[1madd time\u001b[0m\n",
      "\u001b[32m2025-08-04 12:06:05.462\u001b[0m | \u001b[1mINFO    \u001b[0m | \u001b[36msrc.vrp_study.pdptw_model.routing_model\u001b[0m:\u001b[36madd_mass_constraint\u001b[0m:\u001b[36m177\u001b[0m - \u001b[1mДобавление ограничений для массы\u001b[0m\n",
      "\u001b[32m2025-08-04 12:06:05.476\u001b[0m | \u001b[1mINFO    \u001b[0m | \u001b[36msrc.vrp_study.pdptw_model.routing_model\u001b[0m:\u001b[36mdo_solve\u001b[0m:\u001b[36m407\u001b[0m - \u001b[1mНачало решения\u001b[0m\n",
      "\u001b[32m2025-08-04 12:06:05.477\u001b[0m | \u001b[1mINFO    \u001b[0m | \u001b[36msrc.vrp_study.pdptw_model.routing_model\u001b[0m:\u001b[36mdo_solve\u001b[0m:\u001b[36m410\u001b[0m - \u001b[1muse initial_solution: 100\u001b[0m\n",
      "\u001b[32m2025-08-04 12:06:05.497\u001b[0m | \u001b[34m\u001b[1mDEBUG   \u001b[0m | \u001b[36msrc.vrp_study.pdptw_model.routing_model\u001b[0m:\u001b[36m__call__\u001b[0m:\u001b[36m40\u001b[0m - \u001b[34m\u001b[1mtime: 0.032; new solution (1): 57; best solution: 57\u001b[0m\n",
      "\u001b[32m2025-08-04 12:06:05.523\u001b[0m | \u001b[34m\u001b[1mDEBUG   \u001b[0m | \u001b[36msrc.vrp_study.pdptw_model.routing_model\u001b[0m:\u001b[36m__call__\u001b[0m:\u001b[36m40\u001b[0m - \u001b[34m\u001b[1mtime: 0.059; new solution (2): 57; best solution: 57\u001b[0m\n",
      "\u001b[32m2025-08-04 12:06:05.669\u001b[0m | \u001b[34m\u001b[1mDEBUG   \u001b[0m | \u001b[36msrc.vrp_study.pdptw_model.routing_model\u001b[0m:\u001b[36m__call__\u001b[0m:\u001b[36m40\u001b[0m - \u001b[34m\u001b[1mtime: 0.205; new solution (3): 56; best solution: 56\u001b[0m\n",
      "\u001b[32m2025-08-04 12:06:05.821\u001b[0m | \u001b[34m\u001b[1mDEBUG   \u001b[0m | \u001b[36msrc.vrp_study.pdptw_model.routing_model\u001b[0m:\u001b[36m__call__\u001b[0m:\u001b[36m40\u001b[0m - \u001b[34m\u001b[1mtime: 0.357; new solution (4): 55; best solution: 55\u001b[0m\n",
      "\u001b[32m2025-08-04 12:06:05.848\u001b[0m | \u001b[34m\u001b[1mDEBUG   \u001b[0m | \u001b[36msrc.vrp_study.pdptw_model.routing_model\u001b[0m:\u001b[36m__call__\u001b[0m:\u001b[36m40\u001b[0m - \u001b[34m\u001b[1mtime: 0.384; new solution (5): 54; best solution: 54\u001b[0m\n",
      "\u001b[32m2025-08-04 12:06:05.967\u001b[0m | \u001b[34m\u001b[1mDEBUG   \u001b[0m | \u001b[36msrc.vrp_study.pdptw_model.routing_model\u001b[0m:\u001b[36m__call__\u001b[0m:\u001b[36m40\u001b[0m - \u001b[34m\u001b[1mtime: 0.503; new solution (6): 53; best solution: 53\u001b[0m\n",
      "\u001b[32m2025-08-04 12:06:06.162\u001b[0m | \u001b[34m\u001b[1mDEBUG   \u001b[0m | \u001b[36msrc.vrp_study.pdptw_model.routing_model\u001b[0m:\u001b[36m__call__\u001b[0m:\u001b[36m40\u001b[0m - \u001b[34m\u001b[1mtime: 0.698; new solution (7): 52; best solution: 52\u001b[0m\n",
      "\u001b[32m2025-08-04 12:06:06.305\u001b[0m | \u001b[34m\u001b[1mDEBUG   \u001b[0m | \u001b[36msrc.vrp_study.pdptw_model.routing_model\u001b[0m:\u001b[36m__call__\u001b[0m:\u001b[36m40\u001b[0m - \u001b[34m\u001b[1mtime: 0.841; new solution (8): 51; best solution: 51\u001b[0m\n",
      "\u001b[32m2025-08-04 12:06:06.476\u001b[0m | \u001b[34m\u001b[1mDEBUG   \u001b[0m | \u001b[36msrc.vrp_study.pdptw_model.routing_model\u001b[0m:\u001b[36m__call__\u001b[0m:\u001b[36m40\u001b[0m - \u001b[34m\u001b[1mtime: 1.012; new solution (9): 50; best solution: 50\u001b[0m\n",
      "\u001b[32m2025-08-04 12:06:06.593\u001b[0m | \u001b[34m\u001b[1mDEBUG   \u001b[0m | \u001b[36msrc.vrp_study.pdptw_model.routing_model\u001b[0m:\u001b[36m__call__\u001b[0m:\u001b[36m40\u001b[0m - \u001b[34m\u001b[1mtime: 1.128; new solution (10): 49; best solution: 49\u001b[0m\n",
      "\u001b[32m2025-08-04 12:06:06.626\u001b[0m | \u001b[34m\u001b[1mDEBUG   \u001b[0m | \u001b[36msrc.vrp_study.pdptw_model.routing_model\u001b[0m:\u001b[36m__call__\u001b[0m:\u001b[36m40\u001b[0m - \u001b[34m\u001b[1mtime: 1.162; new solution (11): 48; best solution: 48\u001b[0m\n",
      "\u001b[32m2025-08-04 12:06:06.701\u001b[0m | \u001b[34m\u001b[1mDEBUG   \u001b[0m | \u001b[36msrc.vrp_study.pdptw_model.routing_model\u001b[0m:\u001b[36m__call__\u001b[0m:\u001b[36m40\u001b[0m - \u001b[34m\u001b[1mtime: 1.236; new solution (12): 47; best solution: 47\u001b[0m\n",
      "\u001b[32m2025-08-04 12:06:06.799\u001b[0m | \u001b[34m\u001b[1mDEBUG   \u001b[0m | \u001b[36msrc.vrp_study.pdptw_model.routing_model\u001b[0m:\u001b[36m__call__\u001b[0m:\u001b[36m40\u001b[0m - \u001b[34m\u001b[1mtime: 1.335; new solution (13): 46; best solution: 46\u001b[0m\n",
      "\u001b[32m2025-08-04 12:06:06.818\u001b[0m | \u001b[34m\u001b[1mDEBUG   \u001b[0m | \u001b[36msrc.vrp_study.pdptw_model.routing_model\u001b[0m:\u001b[36m__call__\u001b[0m:\u001b[36m40\u001b[0m - \u001b[34m\u001b[1mtime: 1.354; new solution (14): 45; best solution: 45\u001b[0m\n",
      "\u001b[32m2025-08-04 12:06:06.932\u001b[0m | \u001b[34m\u001b[1mDEBUG   \u001b[0m | \u001b[36msrc.vrp_study.pdptw_model.routing_model\u001b[0m:\u001b[36m__call__\u001b[0m:\u001b[36m40\u001b[0m - \u001b[34m\u001b[1mtime: 1.468; new solution (15): 44; best solution: 44\u001b[0m\n",
      "\u001b[32m2025-08-04 12:06:07.008\u001b[0m | \u001b[34m\u001b[1mDEBUG   \u001b[0m | \u001b[36msrc.vrp_study.pdptw_model.routing_model\u001b[0m:\u001b[36m__call__\u001b[0m:\u001b[36m40\u001b[0m - \u001b[34m\u001b[1mtime: 1.543; new solution (16): 43; best solution: 43\u001b[0m\n",
      "\u001b[32m2025-08-04 12:06:07.774\u001b[0m | \u001b[34m\u001b[1mDEBUG   \u001b[0m | \u001b[36msrc.vrp_study.pdptw_model.routing_model\u001b[0m:\u001b[36m__call__\u001b[0m:\u001b[36m40\u001b[0m - \u001b[34m\u001b[1mtime: 2.309; new solution (17): 42; best solution: 42\u001b[0m\n",
      "\u001b[32m2025-08-04 12:06:08.333\u001b[0m | \u001b[34m\u001b[1mDEBUG   \u001b[0m | \u001b[36msrc.vrp_study.pdptw_model.routing_model\u001b[0m:\u001b[36m__call__\u001b[0m:\u001b[36m40\u001b[0m - \u001b[34m\u001b[1mtime: 2.869; new solution (18): 41; best solution: 41\u001b[0m\n",
      "\u001b[32m2025-08-04 12:06:16.760\u001b[0m | \u001b[1mINFO    \u001b[0m | \u001b[36msrc.vrp_study.pdptw_model.routing_model\u001b[0m:\u001b[36mdo_solve\u001b[0m:\u001b[36m423\u001b[0m - \u001b[1mfind solution\u001b[0m\n",
      "\u001b[32m2025-08-04 12:06:16.762\u001b[0m | \u001b[1mINFO    \u001b[0m | \u001b[36msrc.vrp_study.pdptw_model.routing_model\u001b[0m:\u001b[36mfind_optimal_paths\u001b[0m:\u001b[36m451\u001b[0m - \u001b[1mbest_score: 41\u001b[0m\n",
      "\u001b[32m2025-08-04 12:06:16.764\u001b[0m | \u001b[1mINFO    \u001b[0m | \u001b[36msrc.vrp_study.pdptw_model.routing_model\u001b[0m:\u001b[36mdo_solve\u001b[0m:\u001b[36m378\u001b[0m - \u001b[1mНачало создания модели\u001b[0m\n",
      "\u001b[32m2025-08-04 12:06:16.765\u001b[0m | \u001b[1mINFO    \u001b[0m | \u001b[36msrc.vrp_study.pdptw_model.routing_model\u001b[0m:\u001b[36madd_distance_dimension\u001b[0m:\u001b[36m299\u001b[0m - \u001b[1mДобавление размерности для расстояния\u001b[0m\n",
      "\u001b[32m2025-08-04 12:06:16.766\u001b[0m | \u001b[1mINFO    \u001b[0m | \u001b[36msrc.vrp_study.pdptw_model.routing_model\u001b[0m:\u001b[36madd_count_dimension\u001b[0m:\u001b[36m335\u001b[0m - \u001b[1mДобавление размерности для расстояния\u001b[0m\n",
      "\u001b[32m2025-08-04 12:06:16.768\u001b[0m | \u001b[1mINFO    \u001b[0m | \u001b[36msrc.vrp_study.pdptw_model.routing_model\u001b[0m:\u001b[36madd_pick_up_and_delivery\u001b[0m:\u001b[36m269\u001b[0m - \u001b[1mДобавление ограничения для порядка доставки\u001b[0m\n",
      "\u001b[32m2025-08-04 12:06:16.769\u001b[0m | \u001b[1mINFO    \u001b[0m | \u001b[36msrc.vrp_study.pdptw_model.routing_model\u001b[0m:\u001b[36madd_vehicles_cost\u001b[0m:\u001b[36m243\u001b[0m - \u001b[1mДобавление стоимостей машин\u001b[0m\n",
      "\u001b[32m2025-08-04 12:06:16.770\u001b[0m | \u001b[1mINFO    \u001b[0m | \u001b[36msrc.vrp_study.pdptw_model.routing_model\u001b[0m:\u001b[36madd_time_window\u001b[0m:\u001b[36m194\u001b[0m - \u001b[1madd time\u001b[0m\n",
      "\u001b[32m2025-08-04 12:06:16.772\u001b[0m | \u001b[1mINFO    \u001b[0m | \u001b[36msrc.vrp_study.pdptw_model.routing_model\u001b[0m:\u001b[36madd_mass_constraint\u001b[0m:\u001b[36m177\u001b[0m - \u001b[1mДобавление ограничений для массы\u001b[0m\n",
      "\u001b[32m2025-08-04 12:06:16.780\u001b[0m | \u001b[1mINFO    \u001b[0m | \u001b[36msrc.vrp_study.pdptw_model.routing_model\u001b[0m:\u001b[36mdo_solve\u001b[0m:\u001b[36m407\u001b[0m - \u001b[1mНачало решения\u001b[0m\n",
      "\u001b[32m2025-08-04 12:06:16.781\u001b[0m | \u001b[1mINFO    \u001b[0m | \u001b[36msrc.vrp_study.pdptw_model.routing_model\u001b[0m:\u001b[36mdo_solve\u001b[0m:\u001b[36m410\u001b[0m - \u001b[1muse initial_solution: 41\u001b[0m\n",
      "\u001b[32m2025-08-04 12:06:16.799\u001b[0m | \u001b[34m\u001b[1mDEBUG   \u001b[0m | \u001b[36msrc.vrp_study.pdptw_model.routing_model\u001b[0m:\u001b[36m__call__\u001b[0m:\u001b[36m40\u001b[0m - \u001b[34m\u001b[1mtime: 0.027; new solution (1): 809773; best solution: 809773\u001b[0m\n",
      "\u001b[32m2025-08-04 12:06:16.822\u001b[0m | \u001b[34m\u001b[1mDEBUG   \u001b[0m | \u001b[36msrc.vrp_study.pdptw_model.routing_model\u001b[0m:\u001b[36m__call__\u001b[0m:\u001b[36m40\u001b[0m - \u001b[34m\u001b[1mtime: 0.050; new solution (2): 809773; best solution: 809773\u001b[0m\n",
      "\u001b[32m2025-08-04 12:06:16.844\u001b[0m | \u001b[34m\u001b[1mDEBUG   \u001b[0m | \u001b[36msrc.vrp_study.pdptw_model.routing_model\u001b[0m:\u001b[36m__call__\u001b[0m:\u001b[36m40\u001b[0m - \u001b[34m\u001b[1mtime: 0.072; new solution (3): 808372; best solution: 808372\u001b[0m\n",
      "\u001b[32m2025-08-04 12:06:16.874\u001b[0m | \u001b[34m\u001b[1mDEBUG   \u001b[0m | \u001b[36msrc.vrp_study.pdptw_model.routing_model\u001b[0m:\u001b[36m__call__\u001b[0m:\u001b[36m40\u001b[0m - \u001b[34m\u001b[1mtime: 0.102; new solution (4): 807298; best solution: 807298\u001b[0m\n",
      "\u001b[32m2025-08-04 12:06:16.890\u001b[0m | \u001b[34m\u001b[1mDEBUG   \u001b[0m | \u001b[36msrc.vrp_study.pdptw_model.routing_model\u001b[0m:\u001b[36m__call__\u001b[0m:\u001b[36m40\u001b[0m - \u001b[34m\u001b[1mtime: 0.118; new solution (5): 802785; best solution: 802785\u001b[0m\n",
      "\u001b[32m2025-08-04 12:06:16.905\u001b[0m | \u001b[34m\u001b[1mDEBUG   \u001b[0m | \u001b[36msrc.vrp_study.pdptw_model.routing_model\u001b[0m:\u001b[36m__call__\u001b[0m:\u001b[36m40\u001b[0m - \u001b[34m\u001b[1mtime: 0.133; new solution (6): 801119; best solution: 801119\u001b[0m\n",
      "\u001b[32m2025-08-04 12:06:16.959\u001b[0m | \u001b[34m\u001b[1mDEBUG   \u001b[0m | \u001b[36msrc.vrp_study.pdptw_model.routing_model\u001b[0m:\u001b[36m__call__\u001b[0m:\u001b[36m40\u001b[0m - \u001b[34m\u001b[1mtime: 0.187; new solution (7): 800978; best solution: 800978\u001b[0m\n",
      "\u001b[32m2025-08-04 12:06:17.231\u001b[0m | \u001b[34m\u001b[1mDEBUG   \u001b[0m | \u001b[36msrc.vrp_study.pdptw_model.routing_model\u001b[0m:\u001b[36m__call__\u001b[0m:\u001b[36m40\u001b[0m - \u001b[34m\u001b[1mtime: 0.459; new solution (8): 797250; best solution: 797250\u001b[0m\n",
      "\u001b[32m2025-08-04 12:06:17.254\u001b[0m | \u001b[34m\u001b[1mDEBUG   \u001b[0m | \u001b[36msrc.vrp_study.pdptw_model.routing_model\u001b[0m:\u001b[36m__call__\u001b[0m:\u001b[36m40\u001b[0m - \u001b[34m\u001b[1mtime: 0.482; new solution (9): 790969; best solution: 790969\u001b[0m\n",
      "\u001b[32m2025-08-04 12:06:17.274\u001b[0m | \u001b[34m\u001b[1mDEBUG   \u001b[0m | \u001b[36msrc.vrp_study.pdptw_model.routing_model\u001b[0m:\u001b[36m__call__\u001b[0m:\u001b[36m40\u001b[0m - \u001b[34m\u001b[1mtime: 0.502; new solution (10): 786277; best solution: 786277\u001b[0m\n",
      "\u001b[32m2025-08-04 12:06:18.000\u001b[0m | \u001b[34m\u001b[1mDEBUG   \u001b[0m | \u001b[36msrc.vrp_study.pdptw_model.routing_model\u001b[0m:\u001b[36m__call__\u001b[0m:\u001b[36m40\u001b[0m - \u001b[34m\u001b[1mtime: 1.228; new solution (11): 786097; best solution: 786097\u001b[0m\n",
      "\u001b[32m2025-08-04 12:06:18.015\u001b[0m | \u001b[34m\u001b[1mDEBUG   \u001b[0m | \u001b[36msrc.vrp_study.pdptw_model.routing_model\u001b[0m:\u001b[36m__call__\u001b[0m:\u001b[36m40\u001b[0m - \u001b[34m\u001b[1mtime: 1.243; new solution (12): 785567; best solution: 785567\u001b[0m\n",
      "\u001b[32m2025-08-04 12:06:18.051\u001b[0m | \u001b[34m\u001b[1mDEBUG   \u001b[0m | \u001b[36msrc.vrp_study.pdptw_model.routing_model\u001b[0m:\u001b[36m__call__\u001b[0m:\u001b[36m40\u001b[0m - \u001b[34m\u001b[1mtime: 1.279; new solution (13): 784639; best solution: 784639\u001b[0m\n",
      "\u001b[32m2025-08-04 12:06:18.359\u001b[0m | \u001b[34m\u001b[1mDEBUG   \u001b[0m | \u001b[36msrc.vrp_study.pdptw_model.routing_model\u001b[0m:\u001b[36m__call__\u001b[0m:\u001b[36m40\u001b[0m - \u001b[34m\u001b[1mtime: 1.587; new solution (14): 779636; best solution: 779636\u001b[0m\n",
      "\u001b[32m2025-08-04 12:06:18.390\u001b[0m | \u001b[34m\u001b[1mDEBUG   \u001b[0m | \u001b[36msrc.vrp_study.pdptw_model.routing_model\u001b[0m:\u001b[36m__call__\u001b[0m:\u001b[36m40\u001b[0m - \u001b[34m\u001b[1mtime: 1.618; new solution (15): 777275; best solution: 777275\u001b[0m\n",
      "\u001b[32m2025-08-04 12:06:18.404\u001b[0m | \u001b[34m\u001b[1mDEBUG   \u001b[0m | \u001b[36msrc.vrp_study.pdptw_model.routing_model\u001b[0m:\u001b[36m__call__\u001b[0m:\u001b[36m40\u001b[0m - \u001b[34m\u001b[1mtime: 1.632; new solution (16): 776432; best solution: 776432\u001b[0m\n",
      "\u001b[32m2025-08-04 12:06:18.419\u001b[0m | \u001b[34m\u001b[1mDEBUG   \u001b[0m | \u001b[36msrc.vrp_study.pdptw_model.routing_model\u001b[0m:\u001b[36m__call__\u001b[0m:\u001b[36m40\u001b[0m - \u001b[34m\u001b[1mtime: 1.647; new solution (17): 771903; best solution: 771903\u001b[0m\n",
      "\u001b[32m2025-08-04 12:06:18.440\u001b[0m | \u001b[34m\u001b[1mDEBUG   \u001b[0m | \u001b[36msrc.vrp_study.pdptw_model.routing_model\u001b[0m:\u001b[36m__call__\u001b[0m:\u001b[36m40\u001b[0m - \u001b[34m\u001b[1mtime: 1.668; new solution (18): 769747; best solution: 769747\u001b[0m\n",
      "\u001b[32m2025-08-04 12:06:18.460\u001b[0m | \u001b[34m\u001b[1mDEBUG   \u001b[0m | \u001b[36msrc.vrp_study.pdptw_model.routing_model\u001b[0m:\u001b[36m__call__\u001b[0m:\u001b[36m40\u001b[0m - \u001b[34m\u001b[1mtime: 1.688; new solution (19): 769677; best solution: 769677\u001b[0m\n",
      "\u001b[32m2025-08-04 12:06:18.608\u001b[0m | \u001b[34m\u001b[1mDEBUG   \u001b[0m | \u001b[36msrc.vrp_study.pdptw_model.routing_model\u001b[0m:\u001b[36m__call__\u001b[0m:\u001b[36m40\u001b[0m - \u001b[34m\u001b[1mtime: 1.836; new solution (20): 753595; best solution: 753595\u001b[0m\n",
      "\u001b[32m2025-08-04 12:06:18.872\u001b[0m | \u001b[34m\u001b[1mDEBUG   \u001b[0m | \u001b[36msrc.vrp_study.pdptw_model.routing_model\u001b[0m:\u001b[36m__call__\u001b[0m:\u001b[36m40\u001b[0m - \u001b[34m\u001b[1mtime: 2.100; new solution (21): 753558; best solution: 753558\u001b[0m\n",
      "\u001b[32m2025-08-04 12:06:19.310\u001b[0m | \u001b[34m\u001b[1mDEBUG   \u001b[0m | \u001b[36msrc.vrp_study.pdptw_model.routing_model\u001b[0m:\u001b[36m__call__\u001b[0m:\u001b[36m40\u001b[0m - \u001b[34m\u001b[1mtime: 2.538; new solution (22): 753484; best solution: 753484\u001b[0m\n",
      "\u001b[32m2025-08-04 12:06:20.523\u001b[0m | \u001b[34m\u001b[1mDEBUG   \u001b[0m | \u001b[36msrc.vrp_study.pdptw_model.routing_model\u001b[0m:\u001b[36m__call__\u001b[0m:\u001b[36m40\u001b[0m - \u001b[34m\u001b[1mtime: 3.751; new solution (23): 752192; best solution: 752192\u001b[0m\n",
      "\u001b[32m2025-08-04 12:06:20.819\u001b[0m | \u001b[34m\u001b[1mDEBUG   \u001b[0m | \u001b[36msrc.vrp_study.pdptw_model.routing_model\u001b[0m:\u001b[36m__call__\u001b[0m:\u001b[36m40\u001b[0m - \u001b[34m\u001b[1mtime: 4.046; new solution (24): 748753; best solution: 748753\u001b[0m\n",
      "\u001b[32m2025-08-04 12:06:20.849\u001b[0m | \u001b[34m\u001b[1mDEBUG   \u001b[0m | \u001b[36msrc.vrp_study.pdptw_model.routing_model\u001b[0m:\u001b[36m__call__\u001b[0m:\u001b[36m40\u001b[0m - \u001b[34m\u001b[1mtime: 4.077; new solution (25): 746392; best solution: 746392\u001b[0m\n",
      "\u001b[32m2025-08-04 12:06:20.864\u001b[0m | \u001b[34m\u001b[1mDEBUG   \u001b[0m | \u001b[36msrc.vrp_study.pdptw_model.routing_model\u001b[0m:\u001b[36m__call__\u001b[0m:\u001b[36m40\u001b[0m - \u001b[34m\u001b[1mtime: 4.092; new solution (26): 745549; best solution: 745549\u001b[0m\n",
      "\u001b[32m2025-08-04 12:06:20.883\u001b[0m | \u001b[34m\u001b[1mDEBUG   \u001b[0m | \u001b[36msrc.vrp_study.pdptw_model.routing_model\u001b[0m:\u001b[36m__call__\u001b[0m:\u001b[36m40\u001b[0m - \u001b[34m\u001b[1mtime: 4.111; new solution (27): 741020; best solution: 741020\u001b[0m\n",
      "\u001b[32m2025-08-04 12:06:20.906\u001b[0m | \u001b[34m\u001b[1mDEBUG   \u001b[0m | \u001b[36msrc.vrp_study.pdptw_model.routing_model\u001b[0m:\u001b[36m__call__\u001b[0m:\u001b[36m40\u001b[0m - \u001b[34m\u001b[1mtime: 4.134; new solution (28): 739422; best solution: 739422\u001b[0m\n",
      "\u001b[32m2025-08-04 12:06:20.921\u001b[0m | \u001b[34m\u001b[1mDEBUG   \u001b[0m | \u001b[36msrc.vrp_study.pdptw_model.routing_model\u001b[0m:\u001b[36m__call__\u001b[0m:\u001b[36m40\u001b[0m - \u001b[34m\u001b[1mtime: 4.149; new solution (29): 738794; best solution: 738794\u001b[0m\n",
      "\u001b[32m2025-08-04 12:06:21.351\u001b[0m | \u001b[34m\u001b[1mDEBUG   \u001b[0m | \u001b[36msrc.vrp_study.pdptw_model.routing_model\u001b[0m:\u001b[36m__call__\u001b[0m:\u001b[36m40\u001b[0m - \u001b[34m\u001b[1mtime: 4.579; new solution (30): 736680; best solution: 736680\u001b[0m\n",
      "\u001b[32m2025-08-04 12:06:33.877\u001b[0m | \u001b[1mINFO    \u001b[0m | \u001b[36msrc.vrp_study.pdptw_model.routing_model\u001b[0m:\u001b[36mdo_solve\u001b[0m:\u001b[36m423\u001b[0m - \u001b[1mfind solution\u001b[0m\n",
      "\u001b[32m2025-08-04 12:06:33.879\u001b[0m | \u001b[1mINFO    \u001b[0m | \u001b[36msrc.vrp_study.pdptw_model.routing_model\u001b[0m:\u001b[36mfind_optimal_paths\u001b[0m:\u001b[36m464\u001b[0m - \u001b[1mbest_score: 7366.80\u001b[0m\n"
     ]
    }
   ],
   "source": [
    "from src.vrp_study.pdptw_model.solution_builder import  SolutionBuilder\n",
    "\n",
    "sol = find_optimal_paths(routing_manager, SolutionBuilder())"
   ]
  },
  {
   "cell_type": "code",
   "execution_count": 14,
   "id": "3dec13fea9c46a8c",
   "metadata": {
    "collapsed": false
   },
   "outputs": [
    {
     "data": {
      "text/plain": [
       "7368.258150991886"
      ]
     },
     "execution_count": 14,
     "metadata": {},
     "output_type": "execute_result"
    }
   ],
   "source": [
    "total_l = 0\n",
    "for s in sol[0]:\n",
    "    if len(s) > 0:\n",
    "        # print(s)\n",
    "        # a = routing_manager.nodes()[s[i]]\n",
    "        # b = routing_manager.nodes()[s[i+1]]\n",
    "        \n",
    "        l = sum(routing_manager.get_distance(routing_manager.nodes()[s[i]], routing_manager.nodes()[s[i + 1]]) for i in range(len(s) - 1))\n",
    "        # print(s, l)\n",
    "        total_l += l\n",
    "total_l"
   ]
  },
  {
   "cell_type": "code",
   "execution_count": null,
   "id": "2b3a47a4a6ce1eff",
   "metadata": {
    "collapsed": false
   },
   "outputs": [
    {
     "ename": "NameError",
     "evalue": "name 'in1' is not defined",
     "output_type": "error",
     "traceback": [
      "\u001b[1;31m---------------------------------------------------------------------------\u001b[0m",
      "\u001b[1;31mNameError\u001b[0m                                 Traceback (most recent call last)",
      "Cell \u001b[1;32mIn[16], line 16\u001b[0m\n\u001b[0;32m     13\u001b[0m     \u001b[38;5;28;01mcontinue\u001b[39;00m\n\u001b[0;32m     15\u001b[0m \u001b[38;5;28;01mfor\u001b[39;00m order, i \u001b[38;5;129;01min\u001b[39;00m \u001b[38;5;28menumerate\u001b[39m(s):\n\u001b[1;32m---> 16\u001b[0m     \u001b[38;5;28;01mif\u001b[39;00m i \u001b[38;5;241m==\u001b[39m \u001b[43min1\u001b[49m\u001b[38;5;241m.\u001b[39mid:\n\u001b[0;32m     17\u001b[0m         start \u001b[38;5;241m=\u001b[39m i\n\u001b[0;32m     18\u001b[0m         in_time \u001b[38;5;241m=\u001b[39m s_time[order]\n",
      "\u001b[1;31mNameError\u001b[0m: name 'in1' is not defined"
     ]
    }
   ],
   "source": [
    "for crg in cargos:\n",
    "    in1 = routing_manager._node_to_inner_node[crg.nodes[0]]\n",
    "    in2 = routing_manager._node_to_inner_node[crg.nodes[1]]\n",
    "\n",
    "    start = None\n",
    "    end = None\n",
    "    in_time = None\n",
    "    out_time = None\n",
    "\n",
    "    for i, s in enumerate(sol[0]):\n",
    "        s_time = sol[1][i]\n",
    "        if len(s) == 0:\n",
    "            continue\n",
    "\n",
    "        for order, i in enumerate(s):\n",
    "            if i == in1.id:\n",
    "                start = i\n",
    "                in_time = s_time[order]\n",
    "            if i == in2.id:\n",
    "                end = i\n",
    "                out_time = s_time[order]\n",
    "\n",
    "    assert start is not None and end is not None and start < end, (start, end)\n",
    "\n",
    "    if not (crg.nodes[0].start_time <= in_time[0] and crg.nodes[0].end_time >= in_time[1]):\n",
    "        print(in_time, crg.nodes[0].start_time, crg.nodes[0].end_time)\n",
    "    if not (crg.nodes[1].start_time <= out_time[0] and crg.nodes[1].end_time >= out_time[1]):\n",
    "        print(out_time, crg.nodes[0].start_time, crg.nodes[0].end_time)"
   ]
  },
  {
   "cell_type": "code",
   "execution_count": null,
   "id": "2661b09e310b799f",
   "metadata": {
    "collapsed": false
   },
   "outputs": [],
   "source": []
  }
 ],
 "metadata": {
  "kernelspec": {
   "display_name": "crossdocking",
   "language": "python",
   "name": "python3"
  },
  "language_info": {
   "codemirror_mode": {
    "name": "ipython",
    "version": 3
   },
   "file_extension": ".py",
   "mimetype": "text/x-python",
   "name": "python",
   "nbconvert_exporter": "python",
   "pygments_lexer": "ipython3",
   "version": "3.12.7"
  }
 },
 "nbformat": 4,
 "nbformat_minor": 5
}
