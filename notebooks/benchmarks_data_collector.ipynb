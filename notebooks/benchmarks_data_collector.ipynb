{
 "cells": [
  {
   "cell_type": "code",
   "execution_count": 1,
   "id": "initial_id",
   "metadata": {
    "collapsed": true,
    "ExecuteTime": {
     "end_time": "2025-08-11T13:38:39.052970Z",
     "start_time": "2025-08-11T13:38:38.419660Z"
    }
   },
   "outputs": [],
   "source": [
    "import os\n",
    "from multiprocessing import Pool\n",
    "\n",
    "import numpy as np\n",
    "\n",
    "from src.vrp_study.pdptw_model.pdptw_routing_manager_builder import PDRoutingManagerBuilder\n",
    "from src.vrp_study.pdptw_model.routing_model import find_optimal_paths\n",
    "from src.vrp_study.data_loader import parse_data\n",
    "from src.vrp_study.configs import ModelConfig\n",
    "from vrp_study.data_model import Tariff, Cargo, Node\n",
    "from vrp_study.routing_manager import RoutingManager\n",
    "from src.vrp_study.pdptw_model.solution_builder import SolutionBuilder\n",
    "import pickle\n"
   ]
  },
  {
   "cell_type": "code",
   "outputs": [],
   "source": [
    "def func(du, dv):\n",
    "    return np.sqrt((du[0] - dv[0]) ** 2 + (du[1] - dv[1]) ** 2)\n",
    "\n",
    "\n",
    "def calc(data):\n",
    "    u, du, p2coordinate = data\n",
    "    return {(u, v): func(du, dv) for v, dv in p2coordinate.items()}\n",
    "\n",
    "\n",
    "def rm(\n",
    "        depo: Node,\n",
    "        cargos: list[Cargo],\n",
    "        tariff: Tariff,\n",
    "        p: Pool\n",
    ") -> RoutingManager:\n",
    "    p2coordinates = {}\n",
    "\n",
    "    p2coordinates.update({\n",
    "        crg.nodes[i].id: crg.nodes[i].coordinates for crg in cargos for i in range(2)\n",
    "    })\n",
    "    p2coordinates[depo.id] = depo.coordinates\n",
    "\n",
    "    res = list(p.imap_unordered(calc, [(u, du, p2coordinates) for u, du in p2coordinates.items()]))\n",
    "    distance_matrix = {}\n",
    "    time_matrix = {}\n",
    "    for r in res:\n",
    "        for k, v in r.items():\n",
    "            distance_matrix[k] = v\n",
    "            time_matrix[k] = v\n",
    "\n",
    "    routing_manager = PDRoutingManagerBuilder(\n",
    "        distance_matrix=distance_matrix,\n",
    "        time_matrix=time_matrix,\n",
    "        model_config=ModelConfig(max_execution_time_minutes=1)\n",
    "    )\n",
    "\n",
    "    routing_manager.add_cargos(cargos)\n",
    "    routing_manager.add_tariff(tariff)\n",
    "\n",
    "    routing_manager.add_depo(depo)\n",
    "\n",
    "    routing_manager = routing_manager.build()\n",
    "    return routing_manager"
   ],
   "metadata": {
    "collapsed": false,
    "ExecuteTime": {
     "end_time": "2025-08-11T13:38:39.063558Z",
     "start_time": "2025-08-11T13:38:39.055179Z"
    }
   },
   "id": "62bd96db0c1c9a3a",
   "execution_count": 2
  },
  {
   "cell_type": "code",
   "outputs": [],
   "source": [
    "def rms_calc(data):\n",
    "    routing_manager, benchmark_type, name = data\n",
    "    sol = find_optimal_paths(routing_manager, SolutionBuilder(\n",
    "        save_graph=True, name = f'{benchmark_type}_{name}'\n",
    "    ))\n",
    "\n",
    "    sols = []\n",
    "    for s in sol[0]:\n",
    "        if len(s) > 0:\n",
    "            sols.append([routing_manager.nodes()[i].routing_node.id for i in s[1:-1]])\n",
    "    with open(f'../data/results/{benchmark_type}_{name}.pkl', 'wb') as f:\n",
    "        pickle.dump(sols, f)\n",
    "    del routing_manager, benchmark_type, name, sol, sols\n"
   ],
   "metadata": {
    "collapsed": false,
    "ExecuteTime": {
     "end_time": "2025-08-11T13:38:39.070932Z",
     "start_time": "2025-08-11T13:38:39.065832Z"
    }
   },
   "id": "328de507b4033aad",
   "execution_count": 3
  },
  {
   "cell_type": "code",
   "outputs": [
    {
     "name": "stderr",
     "output_type": "stream",
     "text": [
      "100%|██████████| 56/56 [02:38<00:00,  2.82s/it]\n"
     ]
    }
   ],
   "source": [
    "from tqdm import tqdm\n",
    "from loguru import logger as log\n",
    "log.remove()\n",
    "NUM_WORKERS = 4\n",
    "MAX_SIZE = 10 # создаем столько менеджеров. потом в парралель NUM_WORKERS  решают\n",
    "\n",
    "with Pool(NUM_WORKERS ) as p:\n",
    "    for benchmark_type in ['pdp_100']:#os.listdir('../data/Li & Lim benchmark'):\n",
    "        rms = []\n",
    "        for name in tqdm(os.listdir(f'../data/Li & Lim benchmark/{benchmark_type}')):\n",
    "            depo, cargos, tariff = parse_data(f'../data/Li & Lim benchmark/{benchmark_type}/{name}')\n",
    "            rms.append((rm(depo, cargos, tariff, p), benchmark_type, name))\n",
    "            if len(rms) == MAX_SIZE:\n",
    "                rr = list(p.imap_unordered(rms_calc, rms))\n",
    "                rms = []\n",
    "        break\n",
    "    if len(rms) > 0:\n",
    "        rr = list(p.imap_unordered(rms_calc, rms))\n",
    "        rms = []"
   ],
   "metadata": {
    "collapsed": false,
    "ExecuteTime": {
     "end_time": "2025-08-11T13:41:41.528142Z",
     "start_time": "2025-08-11T13:38:39.073937Z"
    }
   },
   "id": "600ca32e892bdba0",
   "execution_count": 4
  },
  {
   "cell_type": "code",
   "outputs": [],
   "source": [],
   "metadata": {
    "collapsed": false,
    "ExecuteTime": {
     "end_time": "2025-08-11T13:41:41.532033Z",
     "start_time": "2025-08-11T13:41:41.529634Z"
    }
   },
   "id": "2661b09e310b799f",
   "execution_count": 4
  },
  {
   "cell_type": "code",
   "outputs": [],
   "source": [],
   "metadata": {
    "collapsed": false,
    "ExecuteTime": {
     "end_time": "2025-08-11T13:41:41.536382Z",
     "start_time": "2025-08-11T13:41:41.533727Z"
    }
   },
   "id": "f1093f7673b65dd8",
   "execution_count": 4
  }
 ],
 "metadata": {
  "kernelspec": {
   "display_name": "Python 3",
   "language": "python",
   "name": "python3"
  },
  "language_info": {
   "codemirror_mode": {
    "name": "ipython",
    "version": 2
   },
   "file_extension": ".py",
   "mimetype": "text/x-python",
   "name": "python",
   "nbconvert_exporter": "python",
   "pygments_lexer": "ipython2",
   "version": "2.7.6"
  }
 },
 "nbformat": 4,
 "nbformat_minor": 5
}
