{
 "cells": [
  {
   "cell_type": "code",
   "execution_count": 1,
   "id": "initial_id",
   "metadata": {
    "collapsed": true,
    "ExecuteTime": {
     "end_time": "2025-08-13T12:10:28.170772Z",
     "start_time": "2025-08-13T12:10:27.932065Z"
    }
   },
   "outputs": [],
   "source": [
    "import os\n",
    "from multiprocessing import Pool\n",
    "\n",
    "import networkx as nx\n",
    "import numpy as np\n",
    "from pprint import pprint\n",
    "\n",
    "from src.vrp_study.pdptw_model.pdptw_routing_manager_builder import PDRoutingManagerBuilder\n",
    "from src.vrp_study.pdptw_model.routing_model import find_optimal_paths\n",
    "from src.vrp_study.data_loader import parse_data\n",
    "from src.vrp_study.configs import ModelConfig\n",
    "from src.vrp_study.data_model import Tariff, Cargo, Node\n",
    "from src.vrp_study.routing_manager import RoutingManager\n",
    "from src.vrp_study.pdptw_model.solution_builder import SolutionBuilder\n",
    "import pickle"
   ]
  },
  {
   "cell_type": "code",
   "outputs": [],
   "source": [
    "def func(du, dv):\n",
    "    return np.sqrt((du[0] - dv[0]) ** 2 + (du[1] - dv[1]) ** 2)\n",
    "\n",
    "\n",
    "def calc(data):\n",
    "    u, du, p2coordinate = data\n",
    "    return {(u, v): func(du, dv) for v, dv in p2coordinate.items()}\n",
    "\n",
    "\n",
    "def build_routing_manager(\n",
    "        depo: Node,\n",
    "        cargos: list[Cargo],\n",
    "        tariff: Tariff,\n",
    "        p: Pool\n",
    ") -> RoutingManager:\n",
    "    p2coordinates = {}\n",
    "\n",
    "    p2coordinates.update({\n",
    "        crg.nodes[i].id: crg.nodes[i].coordinates for crg in cargos for i in range(2)\n",
    "    })\n",
    "    p2coordinates[depo.id] = depo.coordinates\n",
    "\n",
    "    res = list(p.imap_unordered(calc, [(u, du, p2coordinates) for u, du in p2coordinates.items()]))\n",
    "    distance_matrix = {}\n",
    "    time_matrix = {}\n",
    "    for r in res:\n",
    "        for k, v in r.items():\n",
    "            distance_matrix[k] = v\n",
    "            time_matrix[k] = v\n",
    "\n",
    "    routing_manager = PDRoutingManagerBuilder(\n",
    "        distance_matrix=distance_matrix,\n",
    "        time_matrix=time_matrix,\n",
    "        model_config=ModelConfig(max_execution_time_minutes=1)\n",
    "    )\n",
    "\n",
    "    routing_manager.add_cargos(cargos)\n",
    "    routing_manager.add_tariff(tariff)\n",
    "\n",
    "    routing_manager.add_depo(depo)\n",
    "\n",
    "    routing_manager = routing_manager.build()\n",
    "    return routing_manager"
   ],
   "metadata": {
    "collapsed": false,
    "ExecuteTime": {
     "end_time": "2025-08-13T12:10:28.177324Z",
     "start_time": "2025-08-13T12:10:28.171761Z"
    }
   },
   "id": "62bd96db0c1c9a3a",
   "execution_count": 2
  },
  {
   "cell_type": "code",
   "outputs": [],
   "source": [
    "def graph_to_real_node(g: nx.DiGraph, rm: RoutingManager) -> nx.DiGraph:\n",
    "    res = nx.DiGraph()\n",
    "    for u, v, d in g.edges(data=True):\n",
    "        a = rm.nodes()[u].routing_node.id\n",
    "        b = rm.nodes()[v].routing_node.id\n",
    "        res.add_edge(a, b, **d)\n",
    "    return res"
   ],
   "metadata": {
    "collapsed": false,
    "ExecuteTime": {
     "end_time": "2025-08-13T12:10:28.181775Z",
     "start_time": "2025-08-13T12:10:28.178028Z"
    }
   },
   "id": "960b1420ced5803",
   "execution_count": 3
  },
  {
   "cell_type": "code",
   "outputs": [],
   "source": [
    "import uuid\n",
    "def rms_calc(data):\n",
    "    routing_manager, benchmark_type, name = data\n",
    "    routing_manager: RoutingManager = routing_manager\n",
    "    sb = SolutionBuilder()\n",
    "    cg = sb.generate_full_graph(routing_manager)\n",
    "\n",
    "    with open(f'../data/Li & Lim benchmark/graphs/graph_{benchmark_type}_{name}.pkl', 'wb') as f:\n",
    "        pickle.dump(graph_to_real_node(cg, routing_manager), f)\n",
    "\n",
    "    sol = find_optimal_paths(routing_manager, sb)\n",
    "    sols = []\n",
    "    \n",
    "    for s in sol[0]:\n",
    "        if len(s) > 0:\n",
    "            sols.append([routing_manager.nodes()[i].routing_node.id for i in s[1:-1]])\n",
    "    with open(f'../data/Li & Lim benchmark/parsed_solutions/{benchmark_type}/{str(uuid.uuid4())}_{name}', 'wb') as f:\n",
    "        pickle.dump((sols, routing_manager), f)\n",
    "    del routing_manager, benchmark_type, name, sol, sols\n"
   ],
   "metadata": {
    "collapsed": false,
    "ExecuteTime": {
     "end_time": "2025-08-13T12:10:28.185523Z",
     "start_time": "2025-08-13T12:10:28.182387Z"
    }
   },
   "id": "328de507b4033aad",
   "execution_count": 4
  },
  {
   "cell_type": "code",
   "outputs": [
    {
     "name": "stderr",
     "output_type": "stream",
     "text": [
      "100%|██████████| 56/56 [00:49<00:00,  1.13it/s]\n"
     ]
    }
   ],
   "source": [
    "from tqdm import tqdm\n",
    "from loguru import logger as log\n",
    "\n",
    "log.remove()\n",
    "NUM_WORKERS = 20\n",
    "MAX_SIZE = max(10, NUM_WORKERS)  # создаем столько менеджеров. потом в парралель NUM_WORKERS  решают\n",
    "\n",
    "with Pool(NUM_WORKERS) as p:\n",
    "    for benchmark_type in ['pdp_100']:  #os.listdir('../data/Li & Lim benchmark'):\n",
    "        rms = []\n",
    "        for name in tqdm(os.listdir(f'../data/Li & Lim benchmark/benchmarks/{benchmark_type}')):\n",
    "            depo, cargos, tariff = parse_data(f'../data/Li & Lim benchmark/benchmarks/{benchmark_type}/{name}')\n",
    "            rms.append((build_routing_manager(depo, cargos, tariff, p), benchmark_type, name))\n",
    "            if len(rms) == MAX_SIZE:\n",
    "                rr = list(p.imap_unordered(rms_calc, rms))\n",
    "                rms = []\n",
    "        break\n",
    "    if len(rms) > 0:\n",
    "        rr = list(p.imap_unordered(rms_calc, rms))\n",
    "        rms = []"
   ],
   "metadata": {
    "collapsed": false,
    "ExecuteTime": {
     "end_time": "2025-08-13T12:11:23.577179Z",
     "start_time": "2025-08-13T12:10:28.186067Z"
    }
   },
   "id": "600ca32e892bdba0",
   "execution_count": 5
  },
  {
   "cell_type": "code",
   "outputs": [],
   "source": [
    "from src.vrp_study.pdptw_model.solution_checker import check_solution\n",
    "\n",
    "for file_name in os.listdir('../data/graphs'):\n",
    "    solution_name = file_name.replace('_cg', '')\n",
    "    with open(f'../data/results/{solution_name}', 'rb') as f:\n",
    "        res = pickle.load(f)\n",
    "    sols, rm = res\n",
    "    rm: RoutingManager = rm\n",
    "    assert check_solution(rm, sols)"
   ],
   "metadata": {
    "collapsed": false
   },
   "id": "2fcc647658089bea",
   "execution_count": null
  },
  {
   "cell_type": "code",
   "outputs": [],
   "source": [
    "\n",
    "for file_name in os.listdir('../data/graphs'):\n",
    "    solution_name = file_name.replace('_cg', '')\n",
    "    print(file_name, solution_name)\n",
    "    with open(f'../data/graphs/{file_name}', 'rb') as f:\n",
    "        cg = pickle.load(f)\n",
    "    with open(f'../data/results/{solution_name}', 'rb') as f:\n",
    "        res = pickle.load(f)\n",
    "    sols, rm = res\n",
    "    rm: RoutingManager = rm\n",
    "    cg: nx.DiGraph = cg\n",
    "    # print(cg.edges())\n",
    "\n",
    "    edges2remove = set()\n",
    "\n",
    "    for u, v, d in cg.edges(data='length'):\n",
    "        if d > 7:\n",
    "            edges2remove.add((u, v))\n",
    "    cg.remove_edges_from(edges2remove)\n",
    "\n",
    "    for sol in sols:\n",
    "        cargo_path_set = set()\n",
    "        cargo_path = []\n",
    "        for i in range(len(sol)):\n",
    "            pdp = rm.nodes()[sol[i]].pdp_id\n",
    "            if pdp not in cargo_path_set:\n",
    "                cargo_path_set.add(pdp)\n",
    "                cargo_path.append(pdp)\n",
    "        print(sol)\n",
    "        print(cargo_path)\n",
    "\n",
    "        for i in range(len(cargo_path) - 1):\n",
    "            p1 = cargo_path[i]\n",
    "            p2 = cargo_path[i + 1]\n",
    "            n1 = rm.get_pick_up_and_delivery_nodes()[p1][0]\n",
    "            n2 = rm.get_pick_up_and_delivery_nodes()[p2][0]\n",
    "            e = cg.edges()[n1, n2]\n",
    "            print(e)"
   ],
   "metadata": {
    "collapsed": false
   },
   "id": "2661b09e310b799f",
   "execution_count": null
  },
  {
   "cell_type": "code",
   "outputs": [],
   "source": [
    "cg"
   ],
   "metadata": {
    "collapsed": false
   },
   "id": "e6965731ccdec8a2",
   "execution_count": null
  },
  {
   "cell_type": "code",
   "outputs": [],
   "source": [
    "from matplotlib import pyplot as plt\n",
    "\n",
    "edge_values = np.array([d['length'] for u, v, d in cg.edges(data=True)])\n",
    "edge_values = edge_values[edge_values < 7]\n",
    "plt.hist(edge_values, bins=100)"
   ],
   "metadata": {
    "collapsed": false
   },
   "id": "6158c79b24c24b51",
   "execution_count": null
  },
  {
   "cell_type": "code",
   "outputs": [],
   "source": [
    "edge_values.min(), edge_values.max()"
   ],
   "metadata": {
    "collapsed": false
   },
   "id": "bba2d04fbe565852",
   "execution_count": null
  },
  {
   "cell_type": "code",
   "outputs": [],
   "source": [],
   "metadata": {
    "collapsed": false
   },
   "id": "e21ab2fe9587fbb3",
   "execution_count": 3
  }
 ],
 "metadata": {
  "kernelspec": {
   "display_name": "Python 3",
   "language": "python",
   "name": "python3"
  },
  "language_info": {
   "codemirror_mode": {
    "name": "ipython",
    "version": 2
   },
   "file_extension": ".py",
   "mimetype": "text/x-python",
   "name": "python",
   "nbconvert_exporter": "python",
   "pygments_lexer": "ipython2",
   "version": "2.7.6"
  }
 },
 "nbformat": 4,
 "nbformat_minor": 5
}
