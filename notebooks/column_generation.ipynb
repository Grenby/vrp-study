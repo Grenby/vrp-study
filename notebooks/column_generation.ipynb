{
 "cells": [
  {
   "cell_type": "code",
   "execution_count": 1,
   "id": "initial_id",
   "metadata": {
    "collapsed": true,
    "ExecuteTime": {
     "end_time": "2025-08-06T12:53:53.212980Z",
     "start_time": "2025-08-06T12:53:53.151795Z"
    }
   },
   "outputs": [],
   "source": [
    "from ortools.sat.cp_model_pb2 import CpSolverStatus\n",
    "from pulp import PULP_CBC_CMD\n",
    "from tqdm.notebook import tqdm, trange\n",
    "import uuid"
   ]
  },
  {
   "cell_type": "code",
   "outputs": [],
   "source": [
    "from loguru import logger as log"
   ],
   "metadata": {
    "collapsed": false,
    "ExecuteTime": {
     "end_time": "2025-08-06T12:53:53.224213Z",
     "start_time": "2025-08-06T12:53:53.213786Z"
    }
   },
   "id": "2672db95c0053ca4",
   "execution_count": 2
  },
  {
   "cell_type": "code",
   "outputs": [],
   "source": [
    "import numpy as np\n",
    "from src.vrp_study.data_model import Tariff, Cargo, Node\n",
    "from src.vrp_study.data_model import TariffCost\n",
    "from src.vrp_study.pdptw_model.pdptw_routing_manager_builder import PDRoutingManagerBuilder\n",
    "from src.vrp_study.configs import ModelConfig\n",
    "\n",
    "from src.vrp_study.pdptw_model.routing_model import find_optimal_paths\n",
    "from typing import Optional\n",
    "from dataclasses import dataclass"
   ],
   "metadata": {
    "collapsed": false,
    "ExecuteTime": {
     "end_time": "2025-08-06T12:53:53.335861Z",
     "start_time": "2025-08-06T12:53:53.226183Z"
    }
   },
   "id": "bb73d26d29a2755b",
   "execution_count": 3
  },
  {
   "cell_type": "code",
   "outputs": [],
   "source": [
    "from ortools.sat.python.cp_model import CpModel, CpSolver\n",
    "from ortools.sat import sat_parameters_pb2\n",
    "\n",
    "# from pyscipopt import Model, quicksum\n",
    "# import pyscipopt\n",
    "import pulp"
   ],
   "metadata": {
    "collapsed": false,
    "ExecuteTime": {
     "end_time": "2025-08-06T12:53:54.177353Z",
     "start_time": "2025-08-06T12:53:53.338973Z"
    }
   },
   "id": "bcb3c10994c17f75",
   "execution_count": 4
  },
  {
   "cell_type": "markdown",
   "source": [
    "# Подготовка данных"
   ],
   "metadata": {
    "collapsed": false
   },
   "id": "e4f5931367711da8"
  },
  {
   "cell_type": "code",
   "outputs": [],
   "source": [
    "benchmark_type = 'pdp_100'\n",
    "name = 'lc101.txt'"
   ],
   "metadata": {
    "collapsed": false,
    "ExecuteTime": {
     "end_time": "2025-08-06T12:53:54.179882Z",
     "start_time": "2025-08-06T12:53:54.178051Z"
    }
   },
   "id": "2fff3b944da4481b",
   "execution_count": 5
  },
  {
   "cell_type": "code",
   "outputs": [],
   "source": [
    "tariff = None\n",
    "cargos: list[Cargo] = []\n",
    "depo: Optional[Node] = None"
   ],
   "metadata": {
    "collapsed": false,
    "ExecuteTime": {
     "end_time": "2025-08-06T12:53:54.187773Z",
     "start_time": "2025-08-06T12:53:54.180723Z"
    }
   },
   "id": "31230f98dd3fad5d",
   "execution_count": 6
  },
  {
   "cell_type": "code",
   "outputs": [],
   "source": [
    "id2info = {}\n",
    "p2coordinates = {}\n",
    "with open(f'../data/Li & Lim benchmark/{benchmark_type}/{name}', 'r') as file:\n",
    "    for i, line in enumerate(file):\n",
    "        line = line.split('\\t')\n",
    "        if i == 0:\n",
    "            tariff = Tariff(\n",
    "                id='car',\n",
    "                capacity=int(line[1]),\n",
    "                max_count=int(line[0]),\n",
    "                cost_per_distance=[TariffCost(\n",
    "                    min_dst_km=0,\n",
    "                    max_dst_km=10000,\n",
    "                    cost_per_km=1,\n",
    "                    fixed_cost=0\n",
    "                )]\n",
    "            )\n",
    "        else:\n",
    "            c_id = int(line[0])\n",
    "            x = int(line[1])\n",
    "            y = int(line[2])\n",
    "\n",
    "            mass = int(line[3])\n",
    "\n",
    "            et = int(line[4])\n",
    "            lt = int(line[5])\n",
    "            st = int(line[6])\n",
    "\n",
    "            pick_up = int(line[7])\n",
    "            delivery = int(line[8])\n",
    "            if pick_up == delivery:\n",
    "                # print(12)\n",
    "                depo = Node(\n",
    "                    id=0,\n",
    "                    cargo_id=c_id,\n",
    "                    capacity=0,\n",
    "                    service_time=0,\n",
    "                    start_time=0,\n",
    "                    end_time=lt,\n",
    "                    coordinates=(x, y)\n",
    "                )\n",
    "                continue\n",
    "            if pick_up == 0:\n",
    "                if c_id not in id2info:\n",
    "                    id2info[c_id] = {}\n",
    "                id2info[c_id][0] = (x, y, mass, et, lt, st, c_id, delivery)\n",
    "            else:\n",
    "                delivery = c_id\n",
    "                c_id = pick_up\n",
    "                if c_id not in id2info:\n",
    "                    id2info[c_id] = {}\n",
    "                id2info[c_id][1] = (x, y, mass, et, lt, st, pick_up, delivery)\n"
   ],
   "metadata": {
    "collapsed": false,
    "ExecuteTime": {
     "end_time": "2025-08-06T12:53:54.192179Z",
     "start_time": "2025-08-06T12:53:54.188309Z"
    }
   },
   "id": "187c79fcb87c74b0",
   "execution_count": 7
  },
  {
   "cell_type": "code",
   "outputs": [
    {
     "data": {
      "text/plain": "Node(id=0, cargo_id=0, capacity=0, start_time=0, end_time=1236, service_time=0, coordinates=(40, 50))"
     },
     "execution_count": 8,
     "metadata": {},
     "output_type": "execute_result"
    }
   ],
   "source": [
    "depo"
   ],
   "metadata": {
    "collapsed": false,
    "ExecuteTime": {
     "end_time": "2025-08-06T12:53:54.199352Z",
     "start_time": "2025-08-06T12:53:54.192784Z"
    }
   },
   "id": "b809a58457c1cfc",
   "execution_count": 8
  },
  {
   "cell_type": "code",
   "outputs": [],
   "source": [
    "\n",
    "for k, v in id2info.items():\n",
    "    cargos.append(\n",
    "        Cargo(\n",
    "            id=k,\n",
    "            nodes=[\n",
    "                Node(\n",
    "                    cargo_id=k,\n",
    "                    id=v[i][6] if i == 0 else v[i][7],\n",
    "                    capacity=v[i][2],\n",
    "                    service_time=v[i][5],\n",
    "                    start_time=v[i][3],\n",
    "                    end_time=v[i][4],\n",
    "                    coordinates=(v[i][0], v[i][1])\n",
    "                )\n",
    "                for i in range(2)\n",
    "            ]\n",
    "        )\n",
    "    )"
   ],
   "metadata": {
    "collapsed": false,
    "ExecuteTime": {
     "end_time": "2025-08-06T12:53:54.203426Z",
     "start_time": "2025-08-06T12:53:54.200767Z"
    }
   },
   "id": "29705f90cfd83d36",
   "execution_count": 9
  },
  {
   "cell_type": "code",
   "outputs": [],
   "source": [
    "# cargos = cargos[:10]"
   ],
   "metadata": {
    "collapsed": false,
    "ExecuteTime": {
     "end_time": "2025-08-06T12:53:54.207294Z",
     "start_time": "2025-08-06T12:53:54.204753Z"
    }
   },
   "id": "c81c3a446e9f7ff4",
   "execution_count": 10
  },
  {
   "cell_type": "code",
   "outputs": [],
   "source": [
    "p2coordinates.update({\n",
    "    crg.nodes[i].id: crg.nodes[i].coordinates for crg in cargos for i in range(2)\n",
    "})\n",
    "p2coordinates[depo.id] = depo.coordinates\n",
    "distance_matrix = {(u, v): np.sqrt((du[0] - dv[0]) ** 2 + (du[1] - dv[1]) ** 2) for u, du in\n",
    "                   p2coordinates.items() for\n",
    "                   v, dv in p2coordinates.items()}\n",
    "time_matrix = {(u, v): np.sqrt((du[0] - dv[0]) ** 2 + (du[1] - dv[1]) ** 2) for u, du in p2coordinates.items() for\n",
    "               v, dv in p2coordinates.items()}"
   ],
   "metadata": {
    "collapsed": false,
    "ExecuteTime": {
     "end_time": "2025-08-06T12:53:54.229456Z",
     "start_time": "2025-08-06T12:53:54.207935Z"
    }
   },
   "id": "19e61fa36a51a2de",
   "execution_count": 11
  },
  {
   "cell_type": "code",
   "outputs": [],
   "source": [
    "\n",
    "\n",
    "routing_manager = PDRoutingManagerBuilder(\n",
    "    distance_matrix=distance_matrix,\n",
    "    time_matrix=time_matrix,\n",
    "    model_config=ModelConfig(max_execution_time_minutes=1)\n",
    ")\n",
    "\n",
    "routing_manager.add_cargos(cargos)\n",
    "routing_manager.add_tariff(tariff)\n",
    "\n",
    "routing_manager.add_depo(depo)\n",
    "\n",
    "# routing_manager.distance_matrix = distance_matrix\n",
    "# routing_manager.time_matrix = time_matrix\n",
    "\n",
    "\n",
    "routing_manager = routing_manager.build()"
   ],
   "metadata": {
    "collapsed": false,
    "ExecuteTime": {
     "end_time": "2025-08-06T12:53:54.239384Z",
     "start_time": "2025-08-06T12:53:54.230098Z"
    }
   },
   "id": "fe35819237497aa",
   "execution_count": 12
  },
  {
   "cell_type": "code",
   "outputs": [
    {
     "name": "stderr",
     "output_type": "stream",
     "text": [
      "/home/dmitry/.cache/pypoetry/virtualenvs/vrp-study-IoPtX21x-py3.12/lib/python3.12/site-packages/leidenalg/VertexPartition.py:388: SyntaxWarning: invalid escape sequence '\\m'\n",
      "  \"\"\" Implements modularity. This quality function is well-defined only for positive edge weights.\n",
      "/home/dmitry/.cache/pypoetry/virtualenvs/vrp-study-IoPtX21x-py3.12/lib/python3.12/site-packages/leidenalg/VertexPartition.py:761: SyntaxWarning: invalid escape sequence '\\m'\n",
      "  \"\"\" Implements Reichardt and Bornholdt's Potts model with a configuration null model.\n",
      "/home/dmitry/.cache/pypoetry/virtualenvs/vrp-study-IoPtX21x-py3.12/lib/python3.12/site-packages/leidenalg/Optimiser.py:7: SyntaxWarning: invalid escape sequence '\\g'\n",
      "  \"\"\" Class for doing community detection using the Leiden algorithm.\n",
      "/home/dmitry/.cache/pypoetry/virtualenvs/vrp-study-IoPtX21x-py3.12/lib/python3.12/site-packages/leidenalg/Optimiser.py:305: SyntaxWarning: invalid escape sequence '\\s'\n",
      "  \"\"\" Optimise the given partitions simultaneously.\n",
      "\u001B[32m2025-08-06 15:53:54.707\u001B[0m | \u001B[1mINFO    \u001B[0m | \u001B[36msrc.vrp_study.pdptw_model.solution_builder\u001B[0m:\u001B[36mget_initial_solution\u001B[0m:\u001B[36m118\u001B[0m - \u001B[1m(1, 32.074999999999996)\u001B[0m\n",
      "\u001B[32m2025-08-06 15:53:54.708\u001B[0m | \u001B[1mINFO    \u001B[0m | \u001B[36msrc.vrp_study.pdptw_model.solution_builder\u001B[0m:\u001B[36mget_initial_solution\u001B[0m:\u001B[36m118\u001B[0m - \u001B[1m(1, 16.0875)\u001B[0m\n",
      "\u001B[32m2025-08-06 15:53:54.708\u001B[0m | \u001B[1mINFO    \u001B[0m | \u001B[36msrc.vrp_study.pdptw_model.solution_builder\u001B[0m:\u001B[36mget_initial_solution\u001B[0m:\u001B[36m118\u001B[0m - \u001B[1m(1, 8.09375)\u001B[0m\n",
      "\u001B[32m2025-08-06 15:53:54.709\u001B[0m | \u001B[1mINFO    \u001B[0m | \u001B[36msrc.vrp_study.pdptw_model.solution_builder\u001B[0m:\u001B[36mget_initial_solution\u001B[0m:\u001B[36m118\u001B[0m - \u001B[1m(1, 4.096875)\u001B[0m\n",
      "\u001B[32m2025-08-06 15:53:54.709\u001B[0m | \u001B[1mINFO    \u001B[0m | \u001B[36msrc.vrp_study.pdptw_model.solution_builder\u001B[0m:\u001B[36mget_initial_solution\u001B[0m:\u001B[36m118\u001B[0m - \u001B[1m(1, 2.0984374999999997)\u001B[0m\n",
      "\u001B[32m2025-08-06 15:53:54.710\u001B[0m | \u001B[1mINFO    \u001B[0m | \u001B[36msrc.vrp_study.pdptw_model.solution_builder\u001B[0m:\u001B[36mget_initial_solution\u001B[0m:\u001B[36m118\u001B[0m - \u001B[1m(3, 1.09921875)\u001B[0m\n",
      "\u001B[32m2025-08-06 15:53:54.710\u001B[0m | \u001B[1mINFO    \u001B[0m | \u001B[36msrc.vrp_study.pdptw_model.solution_builder\u001B[0m:\u001B[36mget_initial_solution\u001B[0m:\u001B[36m118\u001B[0m - \u001B[1m(3, 0.599609375)\u001B[0m\n",
      "\u001B[32m2025-08-06 15:53:54.711\u001B[0m | \u001B[1mINFO    \u001B[0m | \u001B[36msrc.vrp_study.pdptw_model.solution_builder\u001B[0m:\u001B[36mget_initial_solution\u001B[0m:\u001B[36m118\u001B[0m - \u001B[1m(3, 0.3498046875)\u001B[0m\n",
      "\u001B[32m2025-08-06 15:53:54.711\u001B[0m | \u001B[1mINFO    \u001B[0m | \u001B[36msrc.vrp_study.pdptw_model.solution_builder\u001B[0m:\u001B[36mget_initial_solution\u001B[0m:\u001B[36m118\u001B[0m - \u001B[1m(4, 0.22490234375)\u001B[0m\n",
      "\u001B[32m2025-08-06 15:53:54.713\u001B[0m | \u001B[1mINFO    \u001B[0m | \u001B[36msrc.vrp_study.pdptw_model.solution_builder\u001B[0m:\u001B[36mget_initial_solution\u001B[0m:\u001B[36m118\u001B[0m - \u001B[1m(5, 0.16245117187500002)\u001B[0m\n"
     ]
    },
    {
     "data": {
      "text/plain": "  0%|          | 0/1 [00:00<?, ?it/s]",
      "application/vnd.jupyter.widget-view+json": {
       "version_major": 2,
       "version_minor": 0,
       "model_id": "2ef12c43ec9044308e84e2e76c62d429"
      }
     },
     "metadata": {},
     "output_type": "display_data"
    },
    {
     "name": "stderr",
     "output_type": "stream",
     "text": [
      "\u001B[32m2025-08-06 15:53:54.724\u001B[0m | \u001B[1mINFO    \u001B[0m | \u001B[36msrc.vrp_study.pdptw_model.routing_model\u001B[0m:\u001B[36mfind_optimal_paths\u001B[0m:\u001B[36m443\u001B[0m - \u001B[1mproblem size: 11\u001B[0m\n",
      "\u001B[32m2025-08-06 15:53:54.725\u001B[0m | \u001B[1mINFO    \u001B[0m | \u001B[36msrc.vrp_study.pdptw_model.routing_model\u001B[0m:\u001B[36mdo_solve\u001B[0m:\u001B[36m378\u001B[0m - \u001B[1mНачало создания модели\u001B[0m\n",
      "\u001B[32m2025-08-06 15:53:54.726\u001B[0m | \u001B[1mINFO    \u001B[0m | \u001B[36msrc.vrp_study.pdptw_model.routing_model\u001B[0m:\u001B[36madd_distance_dimension\u001B[0m:\u001B[36m299\u001B[0m - \u001B[1mДобавление размерности для расстояния\u001B[0m\n",
      "\u001B[32m2025-08-06 15:53:54.726\u001B[0m | \u001B[1mINFO    \u001B[0m | \u001B[36msrc.vrp_study.pdptw_model.routing_model\u001B[0m:\u001B[36madd_count_dimension\u001B[0m:\u001B[36m335\u001B[0m - \u001B[1mДобавление размерности для расстояния\u001B[0m\n",
      "\u001B[32m2025-08-06 15:53:54.727\u001B[0m | \u001B[1mINFO    \u001B[0m | \u001B[36msrc.vrp_study.pdptw_model.routing_model\u001B[0m:\u001B[36madd_pick_up_and_delivery\u001B[0m:\u001B[36m269\u001B[0m - \u001B[1mДобавление ограничения для порядка доставки\u001B[0m\n",
      "\u001B[32m2025-08-06 15:53:54.727\u001B[0m | \u001B[1mINFO    \u001B[0m | \u001B[36msrc.vrp_study.pdptw_model.routing_model\u001B[0m:\u001B[36madd_time_window\u001B[0m:\u001B[36m194\u001B[0m - \u001B[1madd time\u001B[0m\n",
      "\u001B[32m2025-08-06 15:53:54.727\u001B[0m | \u001B[1mINFO    \u001B[0m | \u001B[36msrc.vrp_study.pdptw_model.routing_model\u001B[0m:\u001B[36madd_mass_constraint\u001B[0m:\u001B[36m177\u001B[0m - \u001B[1mДобавление ограничений для массы\u001B[0m\n",
      "\u001B[32m2025-08-06 15:53:54.731\u001B[0m | \u001B[1mINFO    \u001B[0m | \u001B[36msrc.vrp_study.pdptw_model.routing_model\u001B[0m:\u001B[36mdo_solve\u001B[0m:\u001B[36m407\u001B[0m - \u001B[1mНачало решения\u001B[0m\n",
      "\u001B[32m2025-08-06 15:53:54.733\u001B[0m | \u001B[34m\u001B[1mDEBUG   \u001B[0m | \u001B[36msrc.vrp_study.pdptw_model.routing_model\u001B[0m:\u001B[36m__call__\u001B[0m:\u001B[36m40\u001B[0m - \u001B[34m\u001B[1mtime: 0.003; new solution (1): 1; best solution: 1\u001B[0m\n",
      "\u001B[32m2025-08-06 15:53:54.739\u001B[0m | \u001B[1mINFO    \u001B[0m | \u001B[36msrc.vrp_study.pdptw_model.routing_model\u001B[0m:\u001B[36mdo_solve\u001B[0m:\u001B[36m423\u001B[0m - \u001B[1mfind solution\u001B[0m\n",
      "\u001B[32m2025-08-06 15:53:54.740\u001B[0m | \u001B[1mINFO    \u001B[0m | \u001B[36msrc.vrp_study.pdptw_model.routing_model\u001B[0m:\u001B[36mfind_optimal_paths\u001B[0m:\u001B[36m451\u001B[0m - \u001B[1mbest_score: 1\u001B[0m\n",
      "\u001B[32m2025-08-06 15:53:54.741\u001B[0m | \u001B[1mINFO    \u001B[0m | \u001B[36msrc.vrp_study.pdptw_model.routing_model\u001B[0m:\u001B[36mdo_solve\u001B[0m:\u001B[36m378\u001B[0m - \u001B[1mНачало создания модели\u001B[0m\n",
      "\u001B[32m2025-08-06 15:53:54.742\u001B[0m | \u001B[1mINFO    \u001B[0m | \u001B[36msrc.vrp_study.pdptw_model.routing_model\u001B[0m:\u001B[36madd_distance_dimension\u001B[0m:\u001B[36m299\u001B[0m - \u001B[1mДобавление размерности для расстояния\u001B[0m\n",
      "\u001B[32m2025-08-06 15:53:54.743\u001B[0m | \u001B[1mINFO    \u001B[0m | \u001B[36msrc.vrp_study.pdptw_model.routing_model\u001B[0m:\u001B[36madd_count_dimension\u001B[0m:\u001B[36m335\u001B[0m - \u001B[1mДобавление размерности для расстояния\u001B[0m\n",
      "\u001B[32m2025-08-06 15:53:54.743\u001B[0m | \u001B[1mINFO    \u001B[0m | \u001B[36msrc.vrp_study.pdptw_model.routing_model\u001B[0m:\u001B[36madd_pick_up_and_delivery\u001B[0m:\u001B[36m269\u001B[0m - \u001B[1mДобавление ограничения для порядка доставки\u001B[0m\n",
      "\u001B[32m2025-08-06 15:53:54.743\u001B[0m | \u001B[1mINFO    \u001B[0m | \u001B[36msrc.vrp_study.pdptw_model.routing_model\u001B[0m:\u001B[36madd_vehicles_cost\u001B[0m:\u001B[36m243\u001B[0m - \u001B[1mДобавление стоимостей машин\u001B[0m\n",
      "\u001B[32m2025-08-06 15:53:54.744\u001B[0m | \u001B[1mINFO    \u001B[0m | \u001B[36msrc.vrp_study.pdptw_model.routing_model\u001B[0m:\u001B[36madd_time_window\u001B[0m:\u001B[36m194\u001B[0m - \u001B[1madd time\u001B[0m\n",
      "\u001B[32m2025-08-06 15:53:54.744\u001B[0m | \u001B[1mINFO    \u001B[0m | \u001B[36msrc.vrp_study.pdptw_model.routing_model\u001B[0m:\u001B[36madd_mass_constraint\u001B[0m:\u001B[36m177\u001B[0m - \u001B[1mДобавление ограничений для массы\u001B[0m\n",
      "\u001B[32m2025-08-06 15:53:54.745\u001B[0m | \u001B[1mINFO    \u001B[0m | \u001B[36msrc.vrp_study.pdptw_model.routing_model\u001B[0m:\u001B[36mdo_solve\u001B[0m:\u001B[36m407\u001B[0m - \u001B[1mНачало решения\u001B[0m\n",
      "\u001B[32m2025-08-06 15:53:54.745\u001B[0m | \u001B[1mINFO    \u001B[0m | \u001B[36msrc.vrp_study.pdptw_model.routing_model\u001B[0m:\u001B[36mdo_solve\u001B[0m:\u001B[36m410\u001B[0m - \u001B[1muse initial_solution: 1\u001B[0m\n",
      "\u001B[32m2025-08-06 15:53:54.746\u001B[0m | \u001B[34m\u001B[1mDEBUG   \u001B[0m | \u001B[36msrc.vrp_study.pdptw_model.routing_model\u001B[0m:\u001B[36m__call__\u001B[0m:\u001B[36m40\u001B[0m - \u001B[34m\u001B[1mtime: 0.001; new solution (1): 5868; best solution: 5868\u001B[0m\n",
      "\u001B[32m2025-08-06 15:53:54.747\u001B[0m | \u001B[34m\u001B[1mDEBUG   \u001B[0m | \u001B[36msrc.vrp_study.pdptw_model.routing_model\u001B[0m:\u001B[36m__call__\u001B[0m:\u001B[36m40\u001B[0m - \u001B[34m\u001B[1mtime: 0.003; new solution (2): 5868; best solution: 5868\u001B[0m\n",
      "\u001B[32m2025-08-06 15:53:54.757\u001B[0m | \u001B[1mINFO    \u001B[0m | \u001B[36msrc.vrp_study.pdptw_model.routing_model\u001B[0m:\u001B[36mdo_solve\u001B[0m:\u001B[36m423\u001B[0m - \u001B[1mfind solution\u001B[0m\n",
      "\u001B[32m2025-08-06 15:53:54.758\u001B[0m | \u001B[1mINFO    \u001B[0m | \u001B[36msrc.vrp_study.pdptw_model.routing_model\u001B[0m:\u001B[36mfind_optimal_paths\u001B[0m:\u001B[36m464\u001B[0m - \u001B[1mbest_score: 58.68\u001B[0m\n",
      "\u001B[32m2025-08-06 15:53:54.758\u001B[0m | \u001B[1mINFO    \u001B[0m | \u001B[36msrc.vrp_study.pdptw_model.solution_builder\u001B[0m:\u001B[36mget_initial_solution\u001B[0m:\u001B[36m138\u001B[0m - \u001B[1m[[0, 7, 8, 9, 10, 1, 5, 3, 6, 4, 2, 0], [], [], [], [], [], [], [], [], [], [], [], [], [], [], [], [], [], [], [], [], [], [], [], []]\u001B[0m\n"
     ]
    },
    {
     "data": {
      "text/plain": "  0%|          | 0/1 [00:00<?, ?it/s]",
      "application/vnd.jupyter.widget-view+json": {
       "version_major": 2,
       "version_minor": 0,
       "model_id": "ba6f6620b9e34eb79c3bc82913a21142"
      }
     },
     "metadata": {},
     "output_type": "display_data"
    },
    {
     "name": "stderr",
     "output_type": "stream",
     "text": [
      "\u001B[32m2025-08-06 15:53:54.763\u001B[0m | \u001B[1mINFO    \u001B[0m | \u001B[36msrc.vrp_study.pdptw_model.routing_model\u001B[0m:\u001B[36mfind_optimal_paths\u001B[0m:\u001B[36m443\u001B[0m - \u001B[1mproblem size: 3\u001B[0m\n",
      "\u001B[32m2025-08-06 15:53:54.763\u001B[0m | \u001B[1mINFO    \u001B[0m | \u001B[36msrc.vrp_study.pdptw_model.routing_model\u001B[0m:\u001B[36mdo_solve\u001B[0m:\u001B[36m378\u001B[0m - \u001B[1mНачало создания модели\u001B[0m\n",
      "\u001B[32m2025-08-06 15:53:54.764\u001B[0m | \u001B[1mINFO    \u001B[0m | \u001B[36msrc.vrp_study.pdptw_model.routing_model\u001B[0m:\u001B[36madd_distance_dimension\u001B[0m:\u001B[36m299\u001B[0m - \u001B[1mДобавление размерности для расстояния\u001B[0m\n",
      "\u001B[32m2025-08-06 15:53:54.764\u001B[0m | \u001B[1mINFO    \u001B[0m | \u001B[36msrc.vrp_study.pdptw_model.routing_model\u001B[0m:\u001B[36madd_count_dimension\u001B[0m:\u001B[36m335\u001B[0m - \u001B[1mДобавление размерности для расстояния\u001B[0m\n",
      "\u001B[32m2025-08-06 15:53:54.765\u001B[0m | \u001B[1mINFO    \u001B[0m | \u001B[36msrc.vrp_study.pdptw_model.routing_model\u001B[0m:\u001B[36madd_pick_up_and_delivery\u001B[0m:\u001B[36m269\u001B[0m - \u001B[1mДобавление ограничения для порядка доставки\u001B[0m\n",
      "\u001B[32m2025-08-06 15:53:54.766\u001B[0m | \u001B[1mINFO    \u001B[0m | \u001B[36msrc.vrp_study.pdptw_model.routing_model\u001B[0m:\u001B[36madd_time_window\u001B[0m:\u001B[36m194\u001B[0m - \u001B[1madd time\u001B[0m\n",
      "\u001B[32m2025-08-06 15:53:54.766\u001B[0m | \u001B[1mINFO    \u001B[0m | \u001B[36msrc.vrp_study.pdptw_model.routing_model\u001B[0m:\u001B[36madd_mass_constraint\u001B[0m:\u001B[36m177\u001B[0m - \u001B[1mДобавление ограничений для массы\u001B[0m\n",
      "\u001B[32m2025-08-06 15:53:54.768\u001B[0m | \u001B[1mINFO    \u001B[0m | \u001B[36msrc.vrp_study.pdptw_model.routing_model\u001B[0m:\u001B[36mdo_solve\u001B[0m:\u001B[36m407\u001B[0m - \u001B[1mНачало решения\u001B[0m\n",
      "\u001B[32m2025-08-06 15:53:54.770\u001B[0m | \u001B[34m\u001B[1mDEBUG   \u001B[0m | \u001B[36msrc.vrp_study.pdptw_model.routing_model\u001B[0m:\u001B[36m__call__\u001B[0m:\u001B[36m40\u001B[0m - \u001B[34m\u001B[1mtime: 0.004; new solution (1): 1; best solution: 1\u001B[0m\n",
      "\u001B[32m2025-08-06 15:53:54.772\u001B[0m | \u001B[1mINFO    \u001B[0m | \u001B[36msrc.vrp_study.pdptw_model.routing_model\u001B[0m:\u001B[36mdo_solve\u001B[0m:\u001B[36m423\u001B[0m - \u001B[1mfind solution\u001B[0m\n",
      "\u001B[32m2025-08-06 15:53:54.772\u001B[0m | \u001B[1mINFO    \u001B[0m | \u001B[36msrc.vrp_study.pdptw_model.routing_model\u001B[0m:\u001B[36mfind_optimal_paths\u001B[0m:\u001B[36m451\u001B[0m - \u001B[1mbest_score: 1\u001B[0m\n",
      "\u001B[32m2025-08-06 15:53:54.773\u001B[0m | \u001B[1mINFO    \u001B[0m | \u001B[36msrc.vrp_study.pdptw_model.routing_model\u001B[0m:\u001B[36mdo_solve\u001B[0m:\u001B[36m378\u001B[0m - \u001B[1mНачало создания модели\u001B[0m\n",
      "\u001B[32m2025-08-06 15:53:54.774\u001B[0m | \u001B[1mINFO    \u001B[0m | \u001B[36msrc.vrp_study.pdptw_model.routing_model\u001B[0m:\u001B[36madd_distance_dimension\u001B[0m:\u001B[36m299\u001B[0m - \u001B[1mДобавление размерности для расстояния\u001B[0m\n",
      "\u001B[32m2025-08-06 15:53:54.774\u001B[0m | \u001B[1mINFO    \u001B[0m | \u001B[36msrc.vrp_study.pdptw_model.routing_model\u001B[0m:\u001B[36madd_count_dimension\u001B[0m:\u001B[36m335\u001B[0m - \u001B[1mДобавление размерности для расстояния\u001B[0m\n",
      "\u001B[32m2025-08-06 15:53:54.774\u001B[0m | \u001B[1mINFO    \u001B[0m | \u001B[36msrc.vrp_study.pdptw_model.routing_model\u001B[0m:\u001B[36madd_pick_up_and_delivery\u001B[0m:\u001B[36m269\u001B[0m - \u001B[1mДобавление ограничения для порядка доставки\u001B[0m\n",
      "\u001B[32m2025-08-06 15:53:54.775\u001B[0m | \u001B[1mINFO    \u001B[0m | \u001B[36msrc.vrp_study.pdptw_model.routing_model\u001B[0m:\u001B[36madd_vehicles_cost\u001B[0m:\u001B[36m243\u001B[0m - \u001B[1mДобавление стоимостей машин\u001B[0m\n",
      "\u001B[32m2025-08-06 15:53:54.775\u001B[0m | \u001B[1mINFO    \u001B[0m | \u001B[36msrc.vrp_study.pdptw_model.routing_model\u001B[0m:\u001B[36madd_time_window\u001B[0m:\u001B[36m194\u001B[0m - \u001B[1madd time\u001B[0m\n",
      "\u001B[32m2025-08-06 15:53:54.775\u001B[0m | \u001B[1mINFO    \u001B[0m | \u001B[36msrc.vrp_study.pdptw_model.routing_model\u001B[0m:\u001B[36madd_mass_constraint\u001B[0m:\u001B[36m177\u001B[0m - \u001B[1mДобавление ограничений для массы\u001B[0m\n",
      "\u001B[32m2025-08-06 15:53:54.776\u001B[0m | \u001B[1mINFO    \u001B[0m | \u001B[36msrc.vrp_study.pdptw_model.routing_model\u001B[0m:\u001B[36mdo_solve\u001B[0m:\u001B[36m407\u001B[0m - \u001B[1mНачало решения\u001B[0m\n",
      "\u001B[32m2025-08-06 15:53:54.776\u001B[0m | \u001B[1mINFO    \u001B[0m | \u001B[36msrc.vrp_study.pdptw_model.routing_model\u001B[0m:\u001B[36mdo_solve\u001B[0m:\u001B[36m410\u001B[0m - \u001B[1muse initial_solution: 1\u001B[0m\n",
      "\u001B[32m2025-08-06 15:53:54.777\u001B[0m | \u001B[34m\u001B[1mDEBUG   \u001B[0m | \u001B[36msrc.vrp_study.pdptw_model.routing_model\u001B[0m:\u001B[36m__call__\u001B[0m:\u001B[36m40\u001B[0m - \u001B[34m\u001B[1mtime: 0.001; new solution (1): 3509; best solution: 3509\u001B[0m\n",
      "\u001B[32m2025-08-06 15:53:54.777\u001B[0m | \u001B[34m\u001B[1mDEBUG   \u001B[0m | \u001B[36msrc.vrp_study.pdptw_model.routing_model\u001B[0m:\u001B[36m__call__\u001B[0m:\u001B[36m40\u001B[0m - \u001B[34m\u001B[1mtime: 0.001; new solution (2): 3509; best solution: 3509\u001B[0m\n",
      "\u001B[32m2025-08-06 15:53:54.778\u001B[0m | \u001B[1mINFO    \u001B[0m | \u001B[36msrc.vrp_study.pdptw_model.routing_model\u001B[0m:\u001B[36mdo_solve\u001B[0m:\u001B[36m423\u001B[0m - \u001B[1mfind solution\u001B[0m\n",
      "\u001B[32m2025-08-06 15:53:54.778\u001B[0m | \u001B[1mINFO    \u001B[0m | \u001B[36msrc.vrp_study.pdptw_model.routing_model\u001B[0m:\u001B[36mfind_optimal_paths\u001B[0m:\u001B[36m464\u001B[0m - \u001B[1mbest_score: 35.09\u001B[0m\n",
      "\u001B[32m2025-08-06 15:53:54.778\u001B[0m | \u001B[1mINFO    \u001B[0m | \u001B[36msrc.vrp_study.pdptw_model.solution_builder\u001B[0m:\u001B[36mget_initial_solution\u001B[0m:\u001B[36m138\u001B[0m - \u001B[1m[[0, 1, 2, 0], [], [], [], [], [], [], [], [], [], [], [], [], [], [], [], [], [], [], [], [], [], [], []]\u001B[0m\n",
      "\u001B[32m2025-08-06 15:53:54.779\u001B[0m | \u001B[1mINFO    \u001B[0m | \u001B[36msrc.vrp_study.pdptw_model.solution_builder\u001B[0m:\u001B[36mget_initial_solution\u001B[0m:\u001B[36m118\u001B[0m - \u001B[1m(1, 32.074999999999996)\u001B[0m\n",
      "\u001B[32m2025-08-06 15:53:54.780\u001B[0m | \u001B[1mINFO    \u001B[0m | \u001B[36msrc.vrp_study.pdptw_model.solution_builder\u001B[0m:\u001B[36mget_initial_solution\u001B[0m:\u001B[36m118\u001B[0m - \u001B[1m(1, 16.0875)\u001B[0m\n",
      "\u001B[32m2025-08-06 15:53:54.780\u001B[0m | \u001B[1mINFO    \u001B[0m | \u001B[36msrc.vrp_study.pdptw_model.solution_builder\u001B[0m:\u001B[36mget_initial_solution\u001B[0m:\u001B[36m118\u001B[0m - \u001B[1m(1, 8.09375)\u001B[0m\n",
      "\u001B[32m2025-08-06 15:53:54.781\u001B[0m | \u001B[1mINFO    \u001B[0m | \u001B[36msrc.vrp_study.pdptw_model.solution_builder\u001B[0m:\u001B[36mget_initial_solution\u001B[0m:\u001B[36m118\u001B[0m - \u001B[1m(1, 4.096875)\u001B[0m\n",
      "\u001B[32m2025-08-06 15:53:54.782\u001B[0m | \u001B[1mINFO    \u001B[0m | \u001B[36msrc.vrp_study.pdptw_model.solution_builder\u001B[0m:\u001B[36mget_initial_solution\u001B[0m:\u001B[36m118\u001B[0m - \u001B[1m(1, 2.0984374999999997)\u001B[0m\n",
      "\u001B[32m2025-08-06 15:53:54.783\u001B[0m | \u001B[1mINFO    \u001B[0m | \u001B[36msrc.vrp_study.pdptw_model.solution_builder\u001B[0m:\u001B[36mget_initial_solution\u001B[0m:\u001B[36m118\u001B[0m - \u001B[1m(2, 1.09921875)\u001B[0m\n",
      "\u001B[32m2025-08-06 15:53:54.784\u001B[0m | \u001B[1mINFO    \u001B[0m | \u001B[36msrc.vrp_study.pdptw_model.solution_builder\u001B[0m:\u001B[36mget_initial_solution\u001B[0m:\u001B[36m118\u001B[0m - \u001B[1m(2, 0.599609375)\u001B[0m\n",
      "\u001B[32m2025-08-06 15:53:54.785\u001B[0m | \u001B[1mINFO    \u001B[0m | \u001B[36msrc.vrp_study.pdptw_model.solution_builder\u001B[0m:\u001B[36mget_initial_solution\u001B[0m:\u001B[36m118\u001B[0m - \u001B[1m(3, 0.3498046875)\u001B[0m\n",
      "\u001B[32m2025-08-06 15:53:54.786\u001B[0m | \u001B[1mINFO    \u001B[0m | \u001B[36msrc.vrp_study.pdptw_model.solution_builder\u001B[0m:\u001B[36mget_initial_solution\u001B[0m:\u001B[36m118\u001B[0m - \u001B[1m(4, 0.22490234375)\u001B[0m\n",
      "\u001B[32m2025-08-06 15:53:54.787\u001B[0m | \u001B[1mINFO    \u001B[0m | \u001B[36msrc.vrp_study.pdptw_model.solution_builder\u001B[0m:\u001B[36mget_initial_solution\u001B[0m:\u001B[36m118\u001B[0m - \u001B[1m(4, 0.16245117187500002)\u001B[0m\n"
     ]
    },
    {
     "data": {
      "text/plain": "  0%|          | 0/1 [00:00<?, ?it/s]",
      "application/vnd.jupyter.widget-view+json": {
       "version_major": 2,
       "version_minor": 0,
       "model_id": "9b4d7be711c64786ac57788bafe854ac"
      }
     },
     "metadata": {},
     "output_type": "display_data"
    },
    {
     "name": "stderr",
     "output_type": "stream",
     "text": [
      "\u001B[32m2025-08-06 15:53:54.831\u001B[0m | \u001B[1mINFO    \u001B[0m | \u001B[36msrc.vrp_study.pdptw_model.routing_model\u001B[0m:\u001B[36mfind_optimal_paths\u001B[0m:\u001B[36m443\u001B[0m - \u001B[1mproblem size: 9\u001B[0m\n",
      "\u001B[32m2025-08-06 15:53:54.831\u001B[0m | \u001B[1mINFO    \u001B[0m | \u001B[36msrc.vrp_study.pdptw_model.routing_model\u001B[0m:\u001B[36mdo_solve\u001B[0m:\u001B[36m378\u001B[0m - \u001B[1mНачало создания модели\u001B[0m\n",
      "\u001B[32m2025-08-06 15:53:54.832\u001B[0m | \u001B[1mINFO    \u001B[0m | \u001B[36msrc.vrp_study.pdptw_model.routing_model\u001B[0m:\u001B[36madd_distance_dimension\u001B[0m:\u001B[36m299\u001B[0m - \u001B[1mДобавление размерности для расстояния\u001B[0m\n",
      "\u001B[32m2025-08-06 15:53:54.833\u001B[0m | \u001B[1mINFO    \u001B[0m | \u001B[36msrc.vrp_study.pdptw_model.routing_model\u001B[0m:\u001B[36madd_count_dimension\u001B[0m:\u001B[36m335\u001B[0m - \u001B[1mДобавление размерности для расстояния\u001B[0m\n",
      "\u001B[32m2025-08-06 15:53:54.833\u001B[0m | \u001B[1mINFO    \u001B[0m | \u001B[36msrc.vrp_study.pdptw_model.routing_model\u001B[0m:\u001B[36madd_pick_up_and_delivery\u001B[0m:\u001B[36m269\u001B[0m - \u001B[1mДобавление ограничения для порядка доставки\u001B[0m\n",
      "\u001B[32m2025-08-06 15:53:54.834\u001B[0m | \u001B[1mINFO    \u001B[0m | \u001B[36msrc.vrp_study.pdptw_model.routing_model\u001B[0m:\u001B[36madd_time_window\u001B[0m:\u001B[36m194\u001B[0m - \u001B[1madd time\u001B[0m\n",
      "\u001B[32m2025-08-06 15:53:54.835\u001B[0m | \u001B[1mINFO    \u001B[0m | \u001B[36msrc.vrp_study.pdptw_model.routing_model\u001B[0m:\u001B[36madd_mass_constraint\u001B[0m:\u001B[36m177\u001B[0m - \u001B[1mДобавление ограничений для массы\u001B[0m\n",
      "\u001B[32m2025-08-06 15:53:54.836\u001B[0m | \u001B[1mINFO    \u001B[0m | \u001B[36msrc.vrp_study.pdptw_model.routing_model\u001B[0m:\u001B[36mdo_solve\u001B[0m:\u001B[36m407\u001B[0m - \u001B[1mНачало решения\u001B[0m\n",
      "\u001B[32m2025-08-06 15:53:54.838\u001B[0m | \u001B[34m\u001B[1mDEBUG   \u001B[0m | \u001B[36msrc.vrp_study.pdptw_model.routing_model\u001B[0m:\u001B[36m__call__\u001B[0m:\u001B[36m40\u001B[0m - \u001B[34m\u001B[1mtime: 0.002; new solution (1): 1; best solution: 1\u001B[0m\n",
      "\u001B[32m2025-08-06 15:53:54.841\u001B[0m | \u001B[1mINFO    \u001B[0m | \u001B[36msrc.vrp_study.pdptw_model.routing_model\u001B[0m:\u001B[36mdo_solve\u001B[0m:\u001B[36m423\u001B[0m - \u001B[1mfind solution\u001B[0m\n",
      "\u001B[32m2025-08-06 15:53:54.843\u001B[0m | \u001B[1mINFO    \u001B[0m | \u001B[36msrc.vrp_study.pdptw_model.routing_model\u001B[0m:\u001B[36mfind_optimal_paths\u001B[0m:\u001B[36m451\u001B[0m - \u001B[1mbest_score: 1\u001B[0m\n",
      "\u001B[32m2025-08-06 15:53:54.845\u001B[0m | \u001B[1mINFO    \u001B[0m | \u001B[36msrc.vrp_study.pdptw_model.routing_model\u001B[0m:\u001B[36mdo_solve\u001B[0m:\u001B[36m378\u001B[0m - \u001B[1mНачало создания модели\u001B[0m\n",
      "\u001B[32m2025-08-06 15:53:54.846\u001B[0m | \u001B[1mINFO    \u001B[0m | \u001B[36msrc.vrp_study.pdptw_model.routing_model\u001B[0m:\u001B[36madd_distance_dimension\u001B[0m:\u001B[36m299\u001B[0m - \u001B[1mДобавление размерности для расстояния\u001B[0m\n",
      "\u001B[32m2025-08-06 15:53:54.847\u001B[0m | \u001B[1mINFO    \u001B[0m | \u001B[36msrc.vrp_study.pdptw_model.routing_model\u001B[0m:\u001B[36madd_count_dimension\u001B[0m:\u001B[36m335\u001B[0m - \u001B[1mДобавление размерности для расстояния\u001B[0m\n",
      "\u001B[32m2025-08-06 15:53:54.847\u001B[0m | \u001B[1mINFO    \u001B[0m | \u001B[36msrc.vrp_study.pdptw_model.routing_model\u001B[0m:\u001B[36madd_pick_up_and_delivery\u001B[0m:\u001B[36m269\u001B[0m - \u001B[1mДобавление ограничения для порядка доставки\u001B[0m\n",
      "\u001B[32m2025-08-06 15:53:54.848\u001B[0m | \u001B[1mINFO    \u001B[0m | \u001B[36msrc.vrp_study.pdptw_model.routing_model\u001B[0m:\u001B[36madd_vehicles_cost\u001B[0m:\u001B[36m243\u001B[0m - \u001B[1mДобавление стоимостей машин\u001B[0m\n",
      "\u001B[32m2025-08-06 15:53:54.848\u001B[0m | \u001B[1mINFO    \u001B[0m | \u001B[36msrc.vrp_study.pdptw_model.routing_model\u001B[0m:\u001B[36madd_time_window\u001B[0m:\u001B[36m194\u001B[0m - \u001B[1madd time\u001B[0m\n",
      "\u001B[32m2025-08-06 15:53:54.848\u001B[0m | \u001B[1mINFO    \u001B[0m | \u001B[36msrc.vrp_study.pdptw_model.routing_model\u001B[0m:\u001B[36madd_mass_constraint\u001B[0m:\u001B[36m177\u001B[0m - \u001B[1mДобавление ограничений для массы\u001B[0m\n",
      "\u001B[32m2025-08-06 15:53:54.849\u001B[0m | \u001B[1mINFO    \u001B[0m | \u001B[36msrc.vrp_study.pdptw_model.routing_model\u001B[0m:\u001B[36mdo_solve\u001B[0m:\u001B[36m407\u001B[0m - \u001B[1mНачало решения\u001B[0m\n",
      "\u001B[32m2025-08-06 15:53:54.849\u001B[0m | \u001B[1mINFO    \u001B[0m | \u001B[36msrc.vrp_study.pdptw_model.routing_model\u001B[0m:\u001B[36mdo_solve\u001B[0m:\u001B[36m410\u001B[0m - \u001B[1muse initial_solution: 1\u001B[0m\n",
      "\u001B[32m2025-08-06 15:53:54.849\u001B[0m | \u001B[34m\u001B[1mDEBUG   \u001B[0m | \u001B[36msrc.vrp_study.pdptw_model.routing_model\u001B[0m:\u001B[36m__call__\u001B[0m:\u001B[36m40\u001B[0m - \u001B[34m\u001B[1mtime: 0.001; new solution (1): 9587; best solution: 9587\u001B[0m\n",
      "\u001B[32m2025-08-06 15:53:54.850\u001B[0m | \u001B[34m\u001B[1mDEBUG   \u001B[0m | \u001B[36msrc.vrp_study.pdptw_model.routing_model\u001B[0m:\u001B[36m__call__\u001B[0m:\u001B[36m40\u001B[0m - \u001B[34m\u001B[1mtime: 0.001; new solution (2): 9587; best solution: 9587\u001B[0m\n",
      "\u001B[32m2025-08-06 15:53:54.852\u001B[0m | \u001B[1mINFO    \u001B[0m | \u001B[36msrc.vrp_study.pdptw_model.routing_model\u001B[0m:\u001B[36mdo_solve\u001B[0m:\u001B[36m423\u001B[0m - \u001B[1mfind solution\u001B[0m\n",
      "\u001B[32m2025-08-06 15:53:54.853\u001B[0m | \u001B[1mINFO    \u001B[0m | \u001B[36msrc.vrp_study.pdptw_model.routing_model\u001B[0m:\u001B[36mfind_optimal_paths\u001B[0m:\u001B[36m464\u001B[0m - \u001B[1mbest_score: 95.87\u001B[0m\n",
      "\u001B[32m2025-08-06 15:53:54.853\u001B[0m | \u001B[1mINFO    \u001B[0m | \u001B[36msrc.vrp_study.pdptw_model.solution_builder\u001B[0m:\u001B[36mget_initial_solution\u001B[0m:\u001B[36m138\u001B[0m - \u001B[1m[[0, 7, 8, 5, 3, 4, 1, 2, 6, 0], [], [], [], [], [], [], [], [], [], [], [], [], [], [], [], [], [], [], [], [], [], []]\u001B[0m\n",
      "\u001B[32m2025-08-06 15:53:54.854\u001B[0m | \u001B[1mINFO    \u001B[0m | \u001B[36msrc.vrp_study.pdptw_model.solution_builder\u001B[0m:\u001B[36mget_initial_solution\u001B[0m:\u001B[36m118\u001B[0m - \u001B[1m(1, 32.074999999999996)\u001B[0m\n",
      "\u001B[32m2025-08-06 15:53:54.854\u001B[0m | \u001B[1mINFO    \u001B[0m | \u001B[36msrc.vrp_study.pdptw_model.solution_builder\u001B[0m:\u001B[36mget_initial_solution\u001B[0m:\u001B[36m118\u001B[0m - \u001B[1m(1, 16.0875)\u001B[0m\n",
      "\u001B[32m2025-08-06 15:53:54.854\u001B[0m | \u001B[1mINFO    \u001B[0m | \u001B[36msrc.vrp_study.pdptw_model.solution_builder\u001B[0m:\u001B[36mget_initial_solution\u001B[0m:\u001B[36m118\u001B[0m - \u001B[1m(1, 8.09375)\u001B[0m\n",
      "\u001B[32m2025-08-06 15:53:54.855\u001B[0m | \u001B[1mINFO    \u001B[0m | \u001B[36msrc.vrp_study.pdptw_model.solution_builder\u001B[0m:\u001B[36mget_initial_solution\u001B[0m:\u001B[36m118\u001B[0m - \u001B[1m(1, 4.096875)\u001B[0m\n",
      "\u001B[32m2025-08-06 15:53:54.855\u001B[0m | \u001B[1mINFO    \u001B[0m | \u001B[36msrc.vrp_study.pdptw_model.solution_builder\u001B[0m:\u001B[36mget_initial_solution\u001B[0m:\u001B[36m118\u001B[0m - \u001B[1m(1, 2.0984374999999997)\u001B[0m\n",
      "\u001B[32m2025-08-06 15:53:54.855\u001B[0m | \u001B[1mINFO    \u001B[0m | \u001B[36msrc.vrp_study.pdptw_model.solution_builder\u001B[0m:\u001B[36mget_initial_solution\u001B[0m:\u001B[36m118\u001B[0m - \u001B[1m(2, 1.09921875)\u001B[0m\n",
      "\u001B[32m2025-08-06 15:53:54.855\u001B[0m | \u001B[1mINFO    \u001B[0m | \u001B[36msrc.vrp_study.pdptw_model.solution_builder\u001B[0m:\u001B[36mget_initial_solution\u001B[0m:\u001B[36m118\u001B[0m - \u001B[1m(4, 0.599609375)\u001B[0m\n",
      "\u001B[32m2025-08-06 15:53:54.856\u001B[0m | \u001B[1mINFO    \u001B[0m | \u001B[36msrc.vrp_study.pdptw_model.solution_builder\u001B[0m:\u001B[36mget_initial_solution\u001B[0m:\u001B[36m118\u001B[0m - \u001B[1m(6, 0.3498046875)\u001B[0m\n",
      "\u001B[32m2025-08-06 15:53:54.856\u001B[0m | \u001B[1mINFO    \u001B[0m | \u001B[36msrc.vrp_study.pdptw_model.solution_builder\u001B[0m:\u001B[36mget_initial_solution\u001B[0m:\u001B[36m118\u001B[0m - \u001B[1m(6, 0.22490234375)\u001B[0m\n",
      "\u001B[32m2025-08-06 15:53:54.856\u001B[0m | \u001B[1mINFO    \u001B[0m | \u001B[36msrc.vrp_study.pdptw_model.solution_builder\u001B[0m:\u001B[36mget_initial_solution\u001B[0m:\u001B[36m118\u001B[0m - \u001B[1m(6, 0.16245117187500002)\u001B[0m\n"
     ]
    },
    {
     "data": {
      "text/plain": "  0%|          | 0/1 [00:00<?, ?it/s]",
      "application/vnd.jupyter.widget-view+json": {
       "version_major": 2,
       "version_minor": 0,
       "model_id": "ca10176d0a4d460c934203283c11afce"
      }
     },
     "metadata": {},
     "output_type": "display_data"
    },
    {
     "name": "stderr",
     "output_type": "stream",
     "text": [
      "\u001B[32m2025-08-06 15:53:54.862\u001B[0m | \u001B[1mINFO    \u001B[0m | \u001B[36msrc.vrp_study.pdptw_model.routing_model\u001B[0m:\u001B[36mfind_optimal_paths\u001B[0m:\u001B[36m443\u001B[0m - \u001B[1mproblem size: 13\u001B[0m\n",
      "\u001B[32m2025-08-06 15:53:54.863\u001B[0m | \u001B[1mINFO    \u001B[0m | \u001B[36msrc.vrp_study.pdptw_model.routing_model\u001B[0m:\u001B[36mdo_solve\u001B[0m:\u001B[36m378\u001B[0m - \u001B[1mНачало создания модели\u001B[0m\n",
      "\u001B[32m2025-08-06 15:53:54.864\u001B[0m | \u001B[1mINFO    \u001B[0m | \u001B[36msrc.vrp_study.pdptw_model.routing_model\u001B[0m:\u001B[36madd_distance_dimension\u001B[0m:\u001B[36m299\u001B[0m - \u001B[1mДобавление размерности для расстояния\u001B[0m\n",
      "\u001B[32m2025-08-06 15:53:54.865\u001B[0m | \u001B[1mINFO    \u001B[0m | \u001B[36msrc.vrp_study.pdptw_model.routing_model\u001B[0m:\u001B[36madd_count_dimension\u001B[0m:\u001B[36m335\u001B[0m - \u001B[1mДобавление размерности для расстояния\u001B[0m\n",
      "\u001B[32m2025-08-06 15:53:54.865\u001B[0m | \u001B[1mINFO    \u001B[0m | \u001B[36msrc.vrp_study.pdptw_model.routing_model\u001B[0m:\u001B[36madd_pick_up_and_delivery\u001B[0m:\u001B[36m269\u001B[0m - \u001B[1mДобавление ограничения для порядка доставки\u001B[0m\n",
      "\u001B[32m2025-08-06 15:53:54.865\u001B[0m | \u001B[1mINFO    \u001B[0m | \u001B[36msrc.vrp_study.pdptw_model.routing_model\u001B[0m:\u001B[36madd_time_window\u001B[0m:\u001B[36m194\u001B[0m - \u001B[1madd time\u001B[0m\n",
      "\u001B[32m2025-08-06 15:53:54.866\u001B[0m | \u001B[1mINFO    \u001B[0m | \u001B[36msrc.vrp_study.pdptw_model.routing_model\u001B[0m:\u001B[36madd_mass_constraint\u001B[0m:\u001B[36m177\u001B[0m - \u001B[1mДобавление ограничений для массы\u001B[0m\n",
      "\u001B[32m2025-08-06 15:53:54.867\u001B[0m | \u001B[1mINFO    \u001B[0m | \u001B[36msrc.vrp_study.pdptw_model.routing_model\u001B[0m:\u001B[36mdo_solve\u001B[0m:\u001B[36m407\u001B[0m - \u001B[1mНачало решения\u001B[0m\n",
      "\u001B[32m2025-08-06 15:53:54.871\u001B[0m | \u001B[34m\u001B[1mDEBUG   \u001B[0m | \u001B[36msrc.vrp_study.pdptw_model.routing_model\u001B[0m:\u001B[36m__call__\u001B[0m:\u001B[36m40\u001B[0m - \u001B[34m\u001B[1mtime: 0.005; new solution (1): 1; best solution: 1\u001B[0m\n",
      "\u001B[32m2025-08-06 15:53:54.881\u001B[0m | \u001B[1mINFO    \u001B[0m | \u001B[36msrc.vrp_study.pdptw_model.routing_model\u001B[0m:\u001B[36mdo_solve\u001B[0m:\u001B[36m423\u001B[0m - \u001B[1mfind solution\u001B[0m\n",
      "\u001B[32m2025-08-06 15:53:54.882\u001B[0m | \u001B[1mINFO    \u001B[0m | \u001B[36msrc.vrp_study.pdptw_model.routing_model\u001B[0m:\u001B[36mfind_optimal_paths\u001B[0m:\u001B[36m451\u001B[0m - \u001B[1mbest_score: 1\u001B[0m\n",
      "\u001B[32m2025-08-06 15:53:54.882\u001B[0m | \u001B[1mINFO    \u001B[0m | \u001B[36msrc.vrp_study.pdptw_model.routing_model\u001B[0m:\u001B[36mdo_solve\u001B[0m:\u001B[36m378\u001B[0m - \u001B[1mНачало создания модели\u001B[0m\n",
      "\u001B[32m2025-08-06 15:53:54.883\u001B[0m | \u001B[1mINFO    \u001B[0m | \u001B[36msrc.vrp_study.pdptw_model.routing_model\u001B[0m:\u001B[36madd_distance_dimension\u001B[0m:\u001B[36m299\u001B[0m - \u001B[1mДобавление размерности для расстояния\u001B[0m\n",
      "\u001B[32m2025-08-06 15:53:54.883\u001B[0m | \u001B[1mINFO    \u001B[0m | \u001B[36msrc.vrp_study.pdptw_model.routing_model\u001B[0m:\u001B[36madd_count_dimension\u001B[0m:\u001B[36m335\u001B[0m - \u001B[1mДобавление размерности для расстояния\u001B[0m\n",
      "\u001B[32m2025-08-06 15:53:54.883\u001B[0m | \u001B[1mINFO    \u001B[0m | \u001B[36msrc.vrp_study.pdptw_model.routing_model\u001B[0m:\u001B[36madd_pick_up_and_delivery\u001B[0m:\u001B[36m269\u001B[0m - \u001B[1mДобавление ограничения для порядка доставки\u001B[0m\n",
      "\u001B[32m2025-08-06 15:53:54.883\u001B[0m | \u001B[1mINFO    \u001B[0m | \u001B[36msrc.vrp_study.pdptw_model.routing_model\u001B[0m:\u001B[36madd_vehicles_cost\u001B[0m:\u001B[36m243\u001B[0m - \u001B[1mДобавление стоимостей машин\u001B[0m\n",
      "\u001B[32m2025-08-06 15:53:54.884\u001B[0m | \u001B[1mINFO    \u001B[0m | \u001B[36msrc.vrp_study.pdptw_model.routing_model\u001B[0m:\u001B[36madd_time_window\u001B[0m:\u001B[36m194\u001B[0m - \u001B[1madd time\u001B[0m\n",
      "\u001B[32m2025-08-06 15:53:54.884\u001B[0m | \u001B[1mINFO    \u001B[0m | \u001B[36msrc.vrp_study.pdptw_model.routing_model\u001B[0m:\u001B[36madd_mass_constraint\u001B[0m:\u001B[36m177\u001B[0m - \u001B[1mДобавление ограничений для массы\u001B[0m\n",
      "\u001B[32m2025-08-06 15:53:54.884\u001B[0m | \u001B[1mINFO    \u001B[0m | \u001B[36msrc.vrp_study.pdptw_model.routing_model\u001B[0m:\u001B[36mdo_solve\u001B[0m:\u001B[36m407\u001B[0m - \u001B[1mНачало решения\u001B[0m\n",
      "\u001B[32m2025-08-06 15:53:54.885\u001B[0m | \u001B[1mINFO    \u001B[0m | \u001B[36msrc.vrp_study.pdptw_model.routing_model\u001B[0m:\u001B[36mdo_solve\u001B[0m:\u001B[36m410\u001B[0m - \u001B[1muse initial_solution: 1\u001B[0m\n",
      "\u001B[32m2025-08-06 15:53:54.885\u001B[0m | \u001B[34m\u001B[1mDEBUG   \u001B[0m | \u001B[36msrc.vrp_study.pdptw_model.routing_model\u001B[0m:\u001B[36m__call__\u001B[0m:\u001B[36m40\u001B[0m - \u001B[34m\u001B[1mtime: 0.001; new solution (1): 5079; best solution: 5079\u001B[0m\n",
      "\u001B[32m2025-08-06 15:53:54.886\u001B[0m | \u001B[34m\u001B[1mDEBUG   \u001B[0m | \u001B[36msrc.vrp_study.pdptw_model.routing_model\u001B[0m:\u001B[36m__call__\u001B[0m:\u001B[36m40\u001B[0m - \u001B[34m\u001B[1mtime: 0.002; new solution (2): 5079; best solution: 5079\u001B[0m\n",
      "\u001B[32m2025-08-06 15:53:54.893\u001B[0m | \u001B[1mINFO    \u001B[0m | \u001B[36msrc.vrp_study.pdptw_model.routing_model\u001B[0m:\u001B[36mdo_solve\u001B[0m:\u001B[36m423\u001B[0m - \u001B[1mfind solution\u001B[0m\n",
      "\u001B[32m2025-08-06 15:53:54.894\u001B[0m | \u001B[1mINFO    \u001B[0m | \u001B[36msrc.vrp_study.pdptw_model.routing_model\u001B[0m:\u001B[36mfind_optimal_paths\u001B[0m:\u001B[36m464\u001B[0m - \u001B[1mbest_score: 50.79\u001B[0m\n",
      "\u001B[32m2025-08-06 15:53:54.894\u001B[0m | \u001B[1mINFO    \u001B[0m | \u001B[36msrc.vrp_study.pdptw_model.solution_builder\u001B[0m:\u001B[36mget_initial_solution\u001B[0m:\u001B[36m138\u001B[0m - \u001B[1m[[0, 1, 2, 9, 10, 11, 3, 5, 12, 7, 8, 6, 4, 0], [], [], [], [], [], [], [], [], [], [], [], [], [], [], [], [], [], [], [], [], []]\u001B[0m\n",
      "\u001B[32m2025-08-06 15:53:54.896\u001B[0m | \u001B[1mINFO    \u001B[0m | \u001B[36msrc.vrp_study.pdptw_model.solution_builder\u001B[0m:\u001B[36mget_initial_solution\u001B[0m:\u001B[36m118\u001B[0m - \u001B[1m(1, 32.074999999999996)\u001B[0m\n",
      "\u001B[32m2025-08-06 15:53:54.897\u001B[0m | \u001B[1mINFO    \u001B[0m | \u001B[36msrc.vrp_study.pdptw_model.solution_builder\u001B[0m:\u001B[36mget_initial_solution\u001B[0m:\u001B[36m118\u001B[0m - \u001B[1m(1, 16.0875)\u001B[0m\n",
      "\u001B[32m2025-08-06 15:53:54.897\u001B[0m | \u001B[1mINFO    \u001B[0m | \u001B[36msrc.vrp_study.pdptw_model.solution_builder\u001B[0m:\u001B[36mget_initial_solution\u001B[0m:\u001B[36m118\u001B[0m - \u001B[1m(1, 8.09375)\u001B[0m\n",
      "\u001B[32m2025-08-06 15:53:54.897\u001B[0m | \u001B[1mINFO    \u001B[0m | \u001B[36msrc.vrp_study.pdptw_model.solution_builder\u001B[0m:\u001B[36mget_initial_solution\u001B[0m:\u001B[36m118\u001B[0m - \u001B[1m(1, 4.096875)\u001B[0m\n",
      "\u001B[32m2025-08-06 15:53:54.898\u001B[0m | \u001B[1mINFO    \u001B[0m | \u001B[36msrc.vrp_study.pdptw_model.solution_builder\u001B[0m:\u001B[36mget_initial_solution\u001B[0m:\u001B[36m118\u001B[0m - \u001B[1m(1, 2.0984374999999997)\u001B[0m\n",
      "\u001B[32m2025-08-06 15:53:54.898\u001B[0m | \u001B[1mINFO    \u001B[0m | \u001B[36msrc.vrp_study.pdptw_model.solution_builder\u001B[0m:\u001B[36mget_initial_solution\u001B[0m:\u001B[36m118\u001B[0m - \u001B[1m(1, 1.09921875)\u001B[0m\n",
      "\u001B[32m2025-08-06 15:53:54.899\u001B[0m | \u001B[1mINFO    \u001B[0m | \u001B[36msrc.vrp_study.pdptw_model.solution_builder\u001B[0m:\u001B[36mget_initial_solution\u001B[0m:\u001B[36m118\u001B[0m - \u001B[1m(3, 0.599609375)\u001B[0m\n",
      "\u001B[32m2025-08-06 15:53:54.899\u001B[0m | \u001B[1mINFO    \u001B[0m | \u001B[36msrc.vrp_study.pdptw_model.solution_builder\u001B[0m:\u001B[36mget_initial_solution\u001B[0m:\u001B[36m118\u001B[0m - \u001B[1m(4, 0.3498046875)\u001B[0m\n",
      "\u001B[32m2025-08-06 15:53:54.900\u001B[0m | \u001B[1mINFO    \u001B[0m | \u001B[36msrc.vrp_study.pdptw_model.solution_builder\u001B[0m:\u001B[36mget_initial_solution\u001B[0m:\u001B[36m118\u001B[0m - \u001B[1m(4, 0.22490234375)\u001B[0m\n",
      "\u001B[32m2025-08-06 15:53:54.900\u001B[0m | \u001B[1mINFO    \u001B[0m | \u001B[36msrc.vrp_study.pdptw_model.solution_builder\u001B[0m:\u001B[36mget_initial_solution\u001B[0m:\u001B[36m118\u001B[0m - \u001B[1m(5, 0.16245117187500002)\u001B[0m\n"
     ]
    },
    {
     "data": {
      "text/plain": "  0%|          | 0/1 [00:00<?, ?it/s]",
      "application/vnd.jupyter.widget-view+json": {
       "version_major": 2,
       "version_minor": 0,
       "model_id": "e9ba05c57d28408d92d7f71dede38433"
      }
     },
     "metadata": {},
     "output_type": "display_data"
    },
    {
     "name": "stderr",
     "output_type": "stream",
     "text": [
      "\u001B[32m2025-08-06 15:53:54.905\u001B[0m | \u001B[1mINFO    \u001B[0m | \u001B[36msrc.vrp_study.pdptw_model.routing_model\u001B[0m:\u001B[36mfind_optimal_paths\u001B[0m:\u001B[36m443\u001B[0m - \u001B[1mproblem size: 11\u001B[0m\n",
      "\u001B[32m2025-08-06 15:53:54.906\u001B[0m | \u001B[1mINFO    \u001B[0m | \u001B[36msrc.vrp_study.pdptw_model.routing_model\u001B[0m:\u001B[36mdo_solve\u001B[0m:\u001B[36m378\u001B[0m - \u001B[1mНачало создания модели\u001B[0m\n",
      "\u001B[32m2025-08-06 15:53:54.908\u001B[0m | \u001B[1mINFO    \u001B[0m | \u001B[36msrc.vrp_study.pdptw_model.routing_model\u001B[0m:\u001B[36madd_distance_dimension\u001B[0m:\u001B[36m299\u001B[0m - \u001B[1mДобавление размерности для расстояния\u001B[0m\n",
      "\u001B[32m2025-08-06 15:53:54.909\u001B[0m | \u001B[1mINFO    \u001B[0m | \u001B[36msrc.vrp_study.pdptw_model.routing_model\u001B[0m:\u001B[36madd_count_dimension\u001B[0m:\u001B[36m335\u001B[0m - \u001B[1mДобавление размерности для расстояния\u001B[0m\n",
      "\u001B[32m2025-08-06 15:53:54.909\u001B[0m | \u001B[1mINFO    \u001B[0m | \u001B[36msrc.vrp_study.pdptw_model.routing_model\u001B[0m:\u001B[36madd_pick_up_and_delivery\u001B[0m:\u001B[36m269\u001B[0m - \u001B[1mДобавление ограничения для порядка доставки\u001B[0m\n",
      "\u001B[32m2025-08-06 15:53:54.910\u001B[0m | \u001B[1mINFO    \u001B[0m | \u001B[36msrc.vrp_study.pdptw_model.routing_model\u001B[0m:\u001B[36madd_time_window\u001B[0m:\u001B[36m194\u001B[0m - \u001B[1madd time\u001B[0m\n",
      "\u001B[32m2025-08-06 15:53:54.910\u001B[0m | \u001B[1mINFO    \u001B[0m | \u001B[36msrc.vrp_study.pdptw_model.routing_model\u001B[0m:\u001B[36madd_mass_constraint\u001B[0m:\u001B[36m177\u001B[0m - \u001B[1mДобавление ограничений для массы\u001B[0m\n",
      "\u001B[32m2025-08-06 15:53:54.912\u001B[0m | \u001B[1mINFO    \u001B[0m | \u001B[36msrc.vrp_study.pdptw_model.routing_model\u001B[0m:\u001B[36mdo_solve\u001B[0m:\u001B[36m407\u001B[0m - \u001B[1mНачало решения\u001B[0m\n",
      "\u001B[32m2025-08-06 15:53:54.913\u001B[0m | \u001B[34m\u001B[1mDEBUG   \u001B[0m | \u001B[36msrc.vrp_study.pdptw_model.routing_model\u001B[0m:\u001B[36m__call__\u001B[0m:\u001B[36m40\u001B[0m - \u001B[34m\u001B[1mtime: 0.002; new solution (1): 1; best solution: 1\u001B[0m\n",
      "\u001B[32m2025-08-06 15:53:54.918\u001B[0m | \u001B[1mINFO    \u001B[0m | \u001B[36msrc.vrp_study.pdptw_model.routing_model\u001B[0m:\u001B[36mdo_solve\u001B[0m:\u001B[36m423\u001B[0m - \u001B[1mfind solution\u001B[0m\n",
      "\u001B[32m2025-08-06 15:53:54.919\u001B[0m | \u001B[1mINFO    \u001B[0m | \u001B[36msrc.vrp_study.pdptw_model.routing_model\u001B[0m:\u001B[36mfind_optimal_paths\u001B[0m:\u001B[36m451\u001B[0m - \u001B[1mbest_score: 1\u001B[0m\n",
      "\u001B[32m2025-08-06 15:53:54.919\u001B[0m | \u001B[1mINFO    \u001B[0m | \u001B[36msrc.vrp_study.pdptw_model.routing_model\u001B[0m:\u001B[36mdo_solve\u001B[0m:\u001B[36m378\u001B[0m - \u001B[1mНачало создания модели\u001B[0m\n",
      "\u001B[32m2025-08-06 15:53:54.920\u001B[0m | \u001B[1mINFO    \u001B[0m | \u001B[36msrc.vrp_study.pdptw_model.routing_model\u001B[0m:\u001B[36madd_distance_dimension\u001B[0m:\u001B[36m299\u001B[0m - \u001B[1mДобавление размерности для расстояния\u001B[0m\n",
      "\u001B[32m2025-08-06 15:53:54.921\u001B[0m | \u001B[1mINFO    \u001B[0m | \u001B[36msrc.vrp_study.pdptw_model.routing_model\u001B[0m:\u001B[36madd_count_dimension\u001B[0m:\u001B[36m335\u001B[0m - \u001B[1mДобавление размерности для расстояния\u001B[0m\n",
      "\u001B[32m2025-08-06 15:53:54.922\u001B[0m | \u001B[1mINFO    \u001B[0m | \u001B[36msrc.vrp_study.pdptw_model.routing_model\u001B[0m:\u001B[36madd_pick_up_and_delivery\u001B[0m:\u001B[36m269\u001B[0m - \u001B[1mДобавление ограничения для порядка доставки\u001B[0m\n",
      "\u001B[32m2025-08-06 15:53:54.922\u001B[0m | \u001B[1mINFO    \u001B[0m | \u001B[36msrc.vrp_study.pdptw_model.routing_model\u001B[0m:\u001B[36madd_vehicles_cost\u001B[0m:\u001B[36m243\u001B[0m - \u001B[1mДобавление стоимостей машин\u001B[0m\n",
      "\u001B[32m2025-08-06 15:53:54.923\u001B[0m | \u001B[1mINFO    \u001B[0m | \u001B[36msrc.vrp_study.pdptw_model.routing_model\u001B[0m:\u001B[36madd_time_window\u001B[0m:\u001B[36m194\u001B[0m - \u001B[1madd time\u001B[0m\n",
      "\u001B[32m2025-08-06 15:53:54.924\u001B[0m | \u001B[1mINFO    \u001B[0m | \u001B[36msrc.vrp_study.pdptw_model.routing_model\u001B[0m:\u001B[36madd_mass_constraint\u001B[0m:\u001B[36m177\u001B[0m - \u001B[1mДобавление ограничений для массы\u001B[0m\n",
      "\u001B[32m2025-08-06 15:53:54.925\u001B[0m | \u001B[1mINFO    \u001B[0m | \u001B[36msrc.vrp_study.pdptw_model.routing_model\u001B[0m:\u001B[36mdo_solve\u001B[0m:\u001B[36m407\u001B[0m - \u001B[1mНачало решения\u001B[0m\n",
      "\u001B[32m2025-08-06 15:53:54.926\u001B[0m | \u001B[1mINFO    \u001B[0m | \u001B[36msrc.vrp_study.pdptw_model.routing_model\u001B[0m:\u001B[36mdo_solve\u001B[0m:\u001B[36m410\u001B[0m - \u001B[1muse initial_solution: 1\u001B[0m\n",
      "\u001B[32m2025-08-06 15:53:54.926\u001B[0m | \u001B[34m\u001B[1mDEBUG   \u001B[0m | \u001B[36msrc.vrp_study.pdptw_model.routing_model\u001B[0m:\u001B[36m__call__\u001B[0m:\u001B[36m40\u001B[0m - \u001B[34m\u001B[1mtime: 0.001; new solution (1): 9721; best solution: 9721\u001B[0m\n",
      "\u001B[32m2025-08-06 15:53:54.927\u001B[0m | \u001B[34m\u001B[1mDEBUG   \u001B[0m | \u001B[36msrc.vrp_study.pdptw_model.routing_model\u001B[0m:\u001B[36m__call__\u001B[0m:\u001B[36m40\u001B[0m - \u001B[34m\u001B[1mtime: 0.002; new solution (2): 9721; best solution: 9721\u001B[0m\n",
      "\u001B[32m2025-08-06 15:53:54.931\u001B[0m | \u001B[1mINFO    \u001B[0m | \u001B[36msrc.vrp_study.pdptw_model.routing_model\u001B[0m:\u001B[36mdo_solve\u001B[0m:\u001B[36m423\u001B[0m - \u001B[1mfind solution\u001B[0m\n",
      "\u001B[32m2025-08-06 15:53:54.932\u001B[0m | \u001B[1mINFO    \u001B[0m | \u001B[36msrc.vrp_study.pdptw_model.routing_model\u001B[0m:\u001B[36mfind_optimal_paths\u001B[0m:\u001B[36m464\u001B[0m - \u001B[1mbest_score: 97.21\u001B[0m\n",
      "\u001B[32m2025-08-06 15:53:54.932\u001B[0m | \u001B[1mINFO    \u001B[0m | \u001B[36msrc.vrp_study.pdptw_model.solution_builder\u001B[0m:\u001B[36mget_initial_solution\u001B[0m:\u001B[36m138\u001B[0m - \u001B[1m[[0, 1, 3, 2, 7, 4, 5, 8, 9, 10, 6, 0], [], [], [], [], [], [], [], [], [], [], [], [], [], [], [], [], [], [], [], []]\u001B[0m\n",
      "\u001B[32m2025-08-06 15:53:54.933\u001B[0m | \u001B[1mINFO    \u001B[0m | \u001B[36msrc.vrp_study.pdptw_model.solution_builder\u001B[0m:\u001B[36mget_initial_solution\u001B[0m:\u001B[36m118\u001B[0m - \u001B[1m(1, 32.074999999999996)\u001B[0m\n",
      "\u001B[32m2025-08-06 15:53:54.933\u001B[0m | \u001B[1mINFO    \u001B[0m | \u001B[36msrc.vrp_study.pdptw_model.solution_builder\u001B[0m:\u001B[36mget_initial_solution\u001B[0m:\u001B[36m118\u001B[0m - \u001B[1m(1, 16.0875)\u001B[0m\n",
      "\u001B[32m2025-08-06 15:53:54.933\u001B[0m | \u001B[1mINFO    \u001B[0m | \u001B[36msrc.vrp_study.pdptw_model.solution_builder\u001B[0m:\u001B[36mget_initial_solution\u001B[0m:\u001B[36m118\u001B[0m - \u001B[1m(1, 8.09375)\u001B[0m\n",
      "\u001B[32m2025-08-06 15:53:54.933\u001B[0m | \u001B[1mINFO    \u001B[0m | \u001B[36msrc.vrp_study.pdptw_model.solution_builder\u001B[0m:\u001B[36mget_initial_solution\u001B[0m:\u001B[36m118\u001B[0m - \u001B[1m(1, 4.096875)\u001B[0m\n",
      "\u001B[32m2025-08-06 15:53:54.934\u001B[0m | \u001B[1mINFO    \u001B[0m | \u001B[36msrc.vrp_study.pdptw_model.solution_builder\u001B[0m:\u001B[36mget_initial_solution\u001B[0m:\u001B[36m118\u001B[0m - \u001B[1m(1, 2.0984374999999997)\u001B[0m\n",
      "\u001B[32m2025-08-06 15:53:54.934\u001B[0m | \u001B[1mINFO    \u001B[0m | \u001B[36msrc.vrp_study.pdptw_model.solution_builder\u001B[0m:\u001B[36mget_initial_solution\u001B[0m:\u001B[36m118\u001B[0m - \u001B[1m(1, 1.09921875)\u001B[0m\n",
      "\u001B[32m2025-08-06 15:53:54.934\u001B[0m | \u001B[1mINFO    \u001B[0m | \u001B[36msrc.vrp_study.pdptw_model.solution_builder\u001B[0m:\u001B[36mget_initial_solution\u001B[0m:\u001B[36m118\u001B[0m - \u001B[1m(2, 0.599609375)\u001B[0m\n",
      "\u001B[32m2025-08-06 15:53:54.934\u001B[0m | \u001B[1mINFO    \u001B[0m | \u001B[36msrc.vrp_study.pdptw_model.solution_builder\u001B[0m:\u001B[36mget_initial_solution\u001B[0m:\u001B[36m118\u001B[0m - \u001B[1m(2, 0.3498046875)\u001B[0m\n",
      "\u001B[32m2025-08-06 15:53:54.935\u001B[0m | \u001B[1mINFO    \u001B[0m | \u001B[36msrc.vrp_study.pdptw_model.solution_builder\u001B[0m:\u001B[36mget_initial_solution\u001B[0m:\u001B[36m118\u001B[0m - \u001B[1m(2, 0.22490234375)\u001B[0m\n",
      "\u001B[32m2025-08-06 15:53:54.935\u001B[0m | \u001B[1mINFO    \u001B[0m | \u001B[36msrc.vrp_study.pdptw_model.solution_builder\u001B[0m:\u001B[36mget_initial_solution\u001B[0m:\u001B[36m118\u001B[0m - \u001B[1m(2, 0.16245117187500002)\u001B[0m\n"
     ]
    },
    {
     "data": {
      "text/plain": "  0%|          | 0/1 [00:00<?, ?it/s]",
      "application/vnd.jupyter.widget-view+json": {
       "version_major": 2,
       "version_minor": 0,
       "model_id": "34fe7a641c1346d08d90eb71b307379f"
      }
     },
     "metadata": {},
     "output_type": "display_data"
    },
    {
     "name": "stderr",
     "output_type": "stream",
     "text": [
      "\u001B[32m2025-08-06 15:53:54.940\u001B[0m | \u001B[1mINFO    \u001B[0m | \u001B[36msrc.vrp_study.pdptw_model.routing_model\u001B[0m:\u001B[36mfind_optimal_paths\u001B[0m:\u001B[36m443\u001B[0m - \u001B[1mproblem size: 5\u001B[0m\n",
      "\u001B[32m2025-08-06 15:53:54.941\u001B[0m | \u001B[1mINFO    \u001B[0m | \u001B[36msrc.vrp_study.pdptw_model.routing_model\u001B[0m:\u001B[36mdo_solve\u001B[0m:\u001B[36m378\u001B[0m - \u001B[1mНачало создания модели\u001B[0m\n",
      "\u001B[32m2025-08-06 15:53:54.941\u001B[0m | \u001B[1mINFO    \u001B[0m | \u001B[36msrc.vrp_study.pdptw_model.routing_model\u001B[0m:\u001B[36madd_distance_dimension\u001B[0m:\u001B[36m299\u001B[0m - \u001B[1mДобавление размерности для расстояния\u001B[0m\n",
      "\u001B[32m2025-08-06 15:53:54.942\u001B[0m | \u001B[1mINFO    \u001B[0m | \u001B[36msrc.vrp_study.pdptw_model.routing_model\u001B[0m:\u001B[36madd_count_dimension\u001B[0m:\u001B[36m335\u001B[0m - \u001B[1mДобавление размерности для расстояния\u001B[0m\n",
      "\u001B[32m2025-08-06 15:53:54.942\u001B[0m | \u001B[1mINFO    \u001B[0m | \u001B[36msrc.vrp_study.pdptw_model.routing_model\u001B[0m:\u001B[36madd_pick_up_and_delivery\u001B[0m:\u001B[36m269\u001B[0m - \u001B[1mДобавление ограничения для порядка доставки\u001B[0m\n",
      "\u001B[32m2025-08-06 15:53:54.942\u001B[0m | \u001B[1mINFO    \u001B[0m | \u001B[36msrc.vrp_study.pdptw_model.routing_model\u001B[0m:\u001B[36madd_time_window\u001B[0m:\u001B[36m194\u001B[0m - \u001B[1madd time\u001B[0m\n",
      "\u001B[32m2025-08-06 15:53:54.943\u001B[0m | \u001B[1mINFO    \u001B[0m | \u001B[36msrc.vrp_study.pdptw_model.routing_model\u001B[0m:\u001B[36madd_mass_constraint\u001B[0m:\u001B[36m177\u001B[0m - \u001B[1mДобавление ограничений для массы\u001B[0m\n",
      "\u001B[32m2025-08-06 15:53:54.944\u001B[0m | \u001B[1mINFO    \u001B[0m | \u001B[36msrc.vrp_study.pdptw_model.routing_model\u001B[0m:\u001B[36mdo_solve\u001B[0m:\u001B[36m407\u001B[0m - \u001B[1mНачало решения\u001B[0m\n",
      "\u001B[32m2025-08-06 15:53:54.945\u001B[0m | \u001B[34m\u001B[1mDEBUG   \u001B[0m | \u001B[36msrc.vrp_study.pdptw_model.routing_model\u001B[0m:\u001B[36m__call__\u001B[0m:\u001B[36m40\u001B[0m - \u001B[34m\u001B[1mtime: 0.002; new solution (1): 1; best solution: 1\u001B[0m\n",
      "\u001B[32m2025-08-06 15:53:54.947\u001B[0m | \u001B[1mINFO    \u001B[0m | \u001B[36msrc.vrp_study.pdptw_model.routing_model\u001B[0m:\u001B[36mdo_solve\u001B[0m:\u001B[36m423\u001B[0m - \u001B[1mfind solution\u001B[0m\n",
      "\u001B[32m2025-08-06 15:53:54.947\u001B[0m | \u001B[1mINFO    \u001B[0m | \u001B[36msrc.vrp_study.pdptw_model.routing_model\u001B[0m:\u001B[36mfind_optimal_paths\u001B[0m:\u001B[36m451\u001B[0m - \u001B[1mbest_score: 1\u001B[0m\n",
      "\u001B[32m2025-08-06 15:53:54.947\u001B[0m | \u001B[1mINFO    \u001B[0m | \u001B[36msrc.vrp_study.pdptw_model.routing_model\u001B[0m:\u001B[36mdo_solve\u001B[0m:\u001B[36m378\u001B[0m - \u001B[1mНачало создания модели\u001B[0m\n",
      "\u001B[32m2025-08-06 15:53:54.948\u001B[0m | \u001B[1mINFO    \u001B[0m | \u001B[36msrc.vrp_study.pdptw_model.routing_model\u001B[0m:\u001B[36madd_distance_dimension\u001B[0m:\u001B[36m299\u001B[0m - \u001B[1mДобавление размерности для расстояния\u001B[0m\n",
      "\u001B[32m2025-08-06 15:53:54.949\u001B[0m | \u001B[1mINFO    \u001B[0m | \u001B[36msrc.vrp_study.pdptw_model.routing_model\u001B[0m:\u001B[36madd_count_dimension\u001B[0m:\u001B[36m335\u001B[0m - \u001B[1mДобавление размерности для расстояния\u001B[0m\n",
      "\u001B[32m2025-08-06 15:53:54.949\u001B[0m | \u001B[1mINFO    \u001B[0m | \u001B[36msrc.vrp_study.pdptw_model.routing_model\u001B[0m:\u001B[36madd_pick_up_and_delivery\u001B[0m:\u001B[36m269\u001B[0m - \u001B[1mДобавление ограничения для порядка доставки\u001B[0m\n",
      "\u001B[32m2025-08-06 15:53:54.949\u001B[0m | \u001B[1mINFO    \u001B[0m | \u001B[36msrc.vrp_study.pdptw_model.routing_model\u001B[0m:\u001B[36madd_vehicles_cost\u001B[0m:\u001B[36m243\u001B[0m - \u001B[1mДобавление стоимостей машин\u001B[0m\n",
      "\u001B[32m2025-08-06 15:53:54.949\u001B[0m | \u001B[1mINFO    \u001B[0m | \u001B[36msrc.vrp_study.pdptw_model.routing_model\u001B[0m:\u001B[36madd_time_window\u001B[0m:\u001B[36m194\u001B[0m - \u001B[1madd time\u001B[0m\n",
      "\u001B[32m2025-08-06 15:53:54.950\u001B[0m | \u001B[1mINFO    \u001B[0m | \u001B[36msrc.vrp_study.pdptw_model.routing_model\u001B[0m:\u001B[36madd_mass_constraint\u001B[0m:\u001B[36m177\u001B[0m - \u001B[1mДобавление ограничений для массы\u001B[0m\n",
      "\u001B[32m2025-08-06 15:53:54.950\u001B[0m | \u001B[1mINFO    \u001B[0m | \u001B[36msrc.vrp_study.pdptw_model.routing_model\u001B[0m:\u001B[36mdo_solve\u001B[0m:\u001B[36m407\u001B[0m - \u001B[1mНачало решения\u001B[0m\n",
      "\u001B[32m2025-08-06 15:53:54.950\u001B[0m | \u001B[1mINFO    \u001B[0m | \u001B[36msrc.vrp_study.pdptw_model.routing_model\u001B[0m:\u001B[36mdo_solve\u001B[0m:\u001B[36m410\u001B[0m - \u001B[1muse initial_solution: 1\u001B[0m\n",
      "\u001B[32m2025-08-06 15:53:54.951\u001B[0m | \u001B[34m\u001B[1mDEBUG   \u001B[0m | \u001B[36msrc.vrp_study.pdptw_model.routing_model\u001B[0m:\u001B[36m__call__\u001B[0m:\u001B[36m40\u001B[0m - \u001B[34m\u001B[1mtime: 0.001; new solution (1): 4416; best solution: 4416\u001B[0m\n",
      "\u001B[32m2025-08-06 15:53:54.951\u001B[0m | \u001B[34m\u001B[1mDEBUG   \u001B[0m | \u001B[36msrc.vrp_study.pdptw_model.routing_model\u001B[0m:\u001B[36m__call__\u001B[0m:\u001B[36m40\u001B[0m - \u001B[34m\u001B[1mtime: 0.001; new solution (2): 4416; best solution: 4416\u001B[0m\n",
      "\u001B[32m2025-08-06 15:53:54.952\u001B[0m | \u001B[1mINFO    \u001B[0m | \u001B[36msrc.vrp_study.pdptw_model.routing_model\u001B[0m:\u001B[36mdo_solve\u001B[0m:\u001B[36m423\u001B[0m - \u001B[1mfind solution\u001B[0m\n",
      "\u001B[32m2025-08-06 15:53:54.953\u001B[0m | \u001B[1mINFO    \u001B[0m | \u001B[36msrc.vrp_study.pdptw_model.routing_model\u001B[0m:\u001B[36mfind_optimal_paths\u001B[0m:\u001B[36m464\u001B[0m - \u001B[1mbest_score: 44.16\u001B[0m\n",
      "\u001B[32m2025-08-06 15:53:54.954\u001B[0m | \u001B[1mINFO    \u001B[0m | \u001B[36msrc.vrp_study.pdptw_model.solution_builder\u001B[0m:\u001B[36mget_initial_solution\u001B[0m:\u001B[36m138\u001B[0m - \u001B[1m[[0, 3, 1, 4, 2, 0], [], [], [], [], [], [], [], [], [], [], [], [], [], [], [], [], [], [], []]\u001B[0m\n",
      "\u001B[32m2025-08-06 15:53:54.956\u001B[0m | \u001B[1mINFO    \u001B[0m | \u001B[36msrc.vrp_study.pdptw_model.solution_builder\u001B[0m:\u001B[36mget_initial_solution\u001B[0m:\u001B[36m118\u001B[0m - \u001B[1m(1, 32.074999999999996)\u001B[0m\n",
      "\u001B[32m2025-08-06 15:53:54.957\u001B[0m | \u001B[1mINFO    \u001B[0m | \u001B[36msrc.vrp_study.pdptw_model.solution_builder\u001B[0m:\u001B[36mget_initial_solution\u001B[0m:\u001B[36m118\u001B[0m - \u001B[1m(1, 16.0875)\u001B[0m\n",
      "\u001B[32m2025-08-06 15:53:54.958\u001B[0m | \u001B[1mINFO    \u001B[0m | \u001B[36msrc.vrp_study.pdptw_model.solution_builder\u001B[0m:\u001B[36mget_initial_solution\u001B[0m:\u001B[36m118\u001B[0m - \u001B[1m(1, 8.09375)\u001B[0m\n",
      "\u001B[32m2025-08-06 15:53:54.959\u001B[0m | \u001B[1mINFO    \u001B[0m | \u001B[36msrc.vrp_study.pdptw_model.solution_builder\u001B[0m:\u001B[36mget_initial_solution\u001B[0m:\u001B[36m118\u001B[0m - \u001B[1m(1, 4.096875)\u001B[0m\n",
      "\u001B[32m2025-08-06 15:53:54.959\u001B[0m | \u001B[1mINFO    \u001B[0m | \u001B[36msrc.vrp_study.pdptw_model.solution_builder\u001B[0m:\u001B[36mget_initial_solution\u001B[0m:\u001B[36m118\u001B[0m - \u001B[1m(1, 2.0984374999999997)\u001B[0m\n",
      "\u001B[32m2025-08-06 15:53:54.960\u001B[0m | \u001B[1mINFO    \u001B[0m | \u001B[36msrc.vrp_study.pdptw_model.solution_builder\u001B[0m:\u001B[36mget_initial_solution\u001B[0m:\u001B[36m118\u001B[0m - \u001B[1m(1, 1.09921875)\u001B[0m\n",
      "\u001B[32m2025-08-06 15:53:54.960\u001B[0m | \u001B[1mINFO    \u001B[0m | \u001B[36msrc.vrp_study.pdptw_model.solution_builder\u001B[0m:\u001B[36mget_initial_solution\u001B[0m:\u001B[36m118\u001B[0m - \u001B[1m(2, 0.599609375)\u001B[0m\n",
      "\u001B[32m2025-08-06 15:53:54.961\u001B[0m | \u001B[1mINFO    \u001B[0m | \u001B[36msrc.vrp_study.pdptw_model.solution_builder\u001B[0m:\u001B[36mget_initial_solution\u001B[0m:\u001B[36m118\u001B[0m - \u001B[1m(2, 0.3498046875)\u001B[0m\n",
      "\u001B[32m2025-08-06 15:53:54.962\u001B[0m | \u001B[1mINFO    \u001B[0m | \u001B[36msrc.vrp_study.pdptw_model.solution_builder\u001B[0m:\u001B[36mget_initial_solution\u001B[0m:\u001B[36m118\u001B[0m - \u001B[1m(2, 0.22490234375)\u001B[0m\n",
      "\u001B[32m2025-08-06 15:53:54.962\u001B[0m | \u001B[1mINFO    \u001B[0m | \u001B[36msrc.vrp_study.pdptw_model.solution_builder\u001B[0m:\u001B[36mget_initial_solution\u001B[0m:\u001B[36m118\u001B[0m - \u001B[1m(2, 0.16245117187500002)\u001B[0m\n"
     ]
    },
    {
     "data": {
      "text/plain": "  0%|          | 0/1 [00:00<?, ?it/s]",
      "application/vnd.jupyter.widget-view+json": {
       "version_major": 2,
       "version_minor": 0,
       "model_id": "2f6c814fc06d4d478e8bda0c0e173ad6"
      }
     },
     "metadata": {},
     "output_type": "display_data"
    },
    {
     "name": "stderr",
     "output_type": "stream",
     "text": [
      "\u001B[32m2025-08-06 15:53:54.971\u001B[0m | \u001B[1mINFO    \u001B[0m | \u001B[36msrc.vrp_study.pdptw_model.routing_model\u001B[0m:\u001B[36mfind_optimal_paths\u001B[0m:\u001B[36m443\u001B[0m - \u001B[1mproblem size: 5\u001B[0m\n",
      "\u001B[32m2025-08-06 15:53:54.972\u001B[0m | \u001B[1mINFO    \u001B[0m | \u001B[36msrc.vrp_study.pdptw_model.routing_model\u001B[0m:\u001B[36mdo_solve\u001B[0m:\u001B[36m378\u001B[0m - \u001B[1mНачало создания модели\u001B[0m\n",
      "\u001B[32m2025-08-06 15:53:54.974\u001B[0m | \u001B[1mINFO    \u001B[0m | \u001B[36msrc.vrp_study.pdptw_model.routing_model\u001B[0m:\u001B[36madd_distance_dimension\u001B[0m:\u001B[36m299\u001B[0m - \u001B[1mДобавление размерности для расстояния\u001B[0m\n",
      "\u001B[32m2025-08-06 15:53:54.976\u001B[0m | \u001B[1mINFO    \u001B[0m | \u001B[36msrc.vrp_study.pdptw_model.routing_model\u001B[0m:\u001B[36madd_count_dimension\u001B[0m:\u001B[36m335\u001B[0m - \u001B[1mДобавление размерности для расстояния\u001B[0m\n",
      "\u001B[32m2025-08-06 15:53:54.977\u001B[0m | \u001B[1mINFO    \u001B[0m | \u001B[36msrc.vrp_study.pdptw_model.routing_model\u001B[0m:\u001B[36madd_pick_up_and_delivery\u001B[0m:\u001B[36m269\u001B[0m - \u001B[1mДобавление ограничения для порядка доставки\u001B[0m\n",
      "\u001B[32m2025-08-06 15:53:54.977\u001B[0m | \u001B[1mINFO    \u001B[0m | \u001B[36msrc.vrp_study.pdptw_model.routing_model\u001B[0m:\u001B[36madd_time_window\u001B[0m:\u001B[36m194\u001B[0m - \u001B[1madd time\u001B[0m\n",
      "\u001B[32m2025-08-06 15:53:54.977\u001B[0m | \u001B[1mINFO    \u001B[0m | \u001B[36msrc.vrp_study.pdptw_model.routing_model\u001B[0m:\u001B[36madd_mass_constraint\u001B[0m:\u001B[36m177\u001B[0m - \u001B[1mДобавление ограничений для массы\u001B[0m\n",
      "\u001B[32m2025-08-06 15:53:54.978\u001B[0m | \u001B[1mINFO    \u001B[0m | \u001B[36msrc.vrp_study.pdptw_model.routing_model\u001B[0m:\u001B[36mdo_solve\u001B[0m:\u001B[36m407\u001B[0m - \u001B[1mНачало решения\u001B[0m\n",
      "\u001B[32m2025-08-06 15:53:54.979\u001B[0m | \u001B[34m\u001B[1mDEBUG   \u001B[0m | \u001B[36msrc.vrp_study.pdptw_model.routing_model\u001B[0m:\u001B[36m__call__\u001B[0m:\u001B[36m40\u001B[0m - \u001B[34m\u001B[1mtime: 0.001; new solution (1): 1; best solution: 1\u001B[0m\n",
      "\u001B[32m2025-08-06 15:53:54.980\u001B[0m | \u001B[1mINFO    \u001B[0m | \u001B[36msrc.vrp_study.pdptw_model.routing_model\u001B[0m:\u001B[36mdo_solve\u001B[0m:\u001B[36m423\u001B[0m - \u001B[1mfind solution\u001B[0m\n",
      "\u001B[32m2025-08-06 15:53:54.980\u001B[0m | \u001B[1mINFO    \u001B[0m | \u001B[36msrc.vrp_study.pdptw_model.routing_model\u001B[0m:\u001B[36mfind_optimal_paths\u001B[0m:\u001B[36m451\u001B[0m - \u001B[1mbest_score: 1\u001B[0m\n",
      "\u001B[32m2025-08-06 15:53:54.981\u001B[0m | \u001B[1mINFO    \u001B[0m | \u001B[36msrc.vrp_study.pdptw_model.routing_model\u001B[0m:\u001B[36mdo_solve\u001B[0m:\u001B[36m378\u001B[0m - \u001B[1mНачало создания модели\u001B[0m\n",
      "\u001B[32m2025-08-06 15:53:54.981\u001B[0m | \u001B[1mINFO    \u001B[0m | \u001B[36msrc.vrp_study.pdptw_model.routing_model\u001B[0m:\u001B[36madd_distance_dimension\u001B[0m:\u001B[36m299\u001B[0m - \u001B[1mДобавление размерности для расстояния\u001B[0m\n",
      "\u001B[32m2025-08-06 15:53:54.981\u001B[0m | \u001B[1mINFO    \u001B[0m | \u001B[36msrc.vrp_study.pdptw_model.routing_model\u001B[0m:\u001B[36madd_count_dimension\u001B[0m:\u001B[36m335\u001B[0m - \u001B[1mДобавление размерности для расстояния\u001B[0m\n",
      "\u001B[32m2025-08-06 15:53:54.981\u001B[0m | \u001B[1mINFO    \u001B[0m | \u001B[36msrc.vrp_study.pdptw_model.routing_model\u001B[0m:\u001B[36madd_pick_up_and_delivery\u001B[0m:\u001B[36m269\u001B[0m - \u001B[1mДобавление ограничения для порядка доставки\u001B[0m\n",
      "\u001B[32m2025-08-06 15:53:54.982\u001B[0m | \u001B[1mINFO    \u001B[0m | \u001B[36msrc.vrp_study.pdptw_model.routing_model\u001B[0m:\u001B[36madd_vehicles_cost\u001B[0m:\u001B[36m243\u001B[0m - \u001B[1mДобавление стоимостей машин\u001B[0m\n",
      "\u001B[32m2025-08-06 15:53:54.982\u001B[0m | \u001B[1mINFO    \u001B[0m | \u001B[36msrc.vrp_study.pdptw_model.routing_model\u001B[0m:\u001B[36madd_time_window\u001B[0m:\u001B[36m194\u001B[0m - \u001B[1madd time\u001B[0m\n",
      "\u001B[32m2025-08-06 15:53:54.982\u001B[0m | \u001B[1mINFO    \u001B[0m | \u001B[36msrc.vrp_study.pdptw_model.routing_model\u001B[0m:\u001B[36madd_mass_constraint\u001B[0m:\u001B[36m177\u001B[0m - \u001B[1mДобавление ограничений для массы\u001B[0m\n",
      "\u001B[32m2025-08-06 15:53:54.982\u001B[0m | \u001B[1mINFO    \u001B[0m | \u001B[36msrc.vrp_study.pdptw_model.routing_model\u001B[0m:\u001B[36mdo_solve\u001B[0m:\u001B[36m407\u001B[0m - \u001B[1mНачало решения\u001B[0m\n",
      "\u001B[32m2025-08-06 15:53:54.983\u001B[0m | \u001B[1mINFO    \u001B[0m | \u001B[36msrc.vrp_study.pdptw_model.routing_model\u001B[0m:\u001B[36mdo_solve\u001B[0m:\u001B[36m410\u001B[0m - \u001B[1muse initial_solution: 1\u001B[0m\n",
      "\u001B[32m2025-08-06 15:53:54.983\u001B[0m | \u001B[34m\u001B[1mDEBUG   \u001B[0m | \u001B[36msrc.vrp_study.pdptw_model.routing_model\u001B[0m:\u001B[36m__call__\u001B[0m:\u001B[36m40\u001B[0m - \u001B[34m\u001B[1mtime: 0.001; new solution (1): 5168; best solution: 5168\u001B[0m\n",
      "\u001B[32m2025-08-06 15:53:54.983\u001B[0m | \u001B[34m\u001B[1mDEBUG   \u001B[0m | \u001B[36msrc.vrp_study.pdptw_model.routing_model\u001B[0m:\u001B[36m__call__\u001B[0m:\u001B[36m40\u001B[0m - \u001B[34m\u001B[1mtime: 0.001; new solution (2): 5168; best solution: 5168\u001B[0m\n",
      "\u001B[32m2025-08-06 15:53:54.984\u001B[0m | \u001B[1mINFO    \u001B[0m | \u001B[36msrc.vrp_study.pdptw_model.routing_model\u001B[0m:\u001B[36mdo_solve\u001B[0m:\u001B[36m423\u001B[0m - \u001B[1mfind solution\u001B[0m\n",
      "\u001B[32m2025-08-06 15:53:54.986\u001B[0m | \u001B[1mINFO    \u001B[0m | \u001B[36msrc.vrp_study.pdptw_model.routing_model\u001B[0m:\u001B[36mfind_optimal_paths\u001B[0m:\u001B[36m464\u001B[0m - \u001B[1mbest_score: 51.68\u001B[0m\n",
      "\u001B[32m2025-08-06 15:53:54.986\u001B[0m | \u001B[1mINFO    \u001B[0m | \u001B[36msrc.vrp_study.pdptw_model.solution_builder\u001B[0m:\u001B[36mget_initial_solution\u001B[0m:\u001B[36m138\u001B[0m - \u001B[1m[[0, 3, 4, 1, 2, 0], [], [], [], [], [], [], [], [], [], [], [], [], [], [], [], [], [], []]\u001B[0m\n"
     ]
    },
    {
     "data": {
      "text/plain": "  0%|          | 0/1 [00:00<?, ?it/s]",
      "application/vnd.jupyter.widget-view+json": {
       "version_major": 2,
       "version_minor": 0,
       "model_id": "7ed1f2746c694036ba0870b022ca638e"
      }
     },
     "metadata": {},
     "output_type": "display_data"
    },
    {
     "name": "stderr",
     "output_type": "stream",
     "text": [
      "\u001B[32m2025-08-06 15:53:54.992\u001B[0m | \u001B[1mINFO    \u001B[0m | \u001B[36msrc.vrp_study.pdptw_model.routing_model\u001B[0m:\u001B[36mfind_optimal_paths\u001B[0m:\u001B[36m443\u001B[0m - \u001B[1mproblem size: 3\u001B[0m\n",
      "\u001B[32m2025-08-06 15:53:54.992\u001B[0m | \u001B[1mINFO    \u001B[0m | \u001B[36msrc.vrp_study.pdptw_model.routing_model\u001B[0m:\u001B[36mdo_solve\u001B[0m:\u001B[36m378\u001B[0m - \u001B[1mНачало создания модели\u001B[0m\n",
      "\u001B[32m2025-08-06 15:53:54.993\u001B[0m | \u001B[1mINFO    \u001B[0m | \u001B[36msrc.vrp_study.pdptw_model.routing_model\u001B[0m:\u001B[36madd_distance_dimension\u001B[0m:\u001B[36m299\u001B[0m - \u001B[1mДобавление размерности для расстояния\u001B[0m\n",
      "\u001B[32m2025-08-06 15:53:54.993\u001B[0m | \u001B[1mINFO    \u001B[0m | \u001B[36msrc.vrp_study.pdptw_model.routing_model\u001B[0m:\u001B[36madd_count_dimension\u001B[0m:\u001B[36m335\u001B[0m - \u001B[1mДобавление размерности для расстояния\u001B[0m\n",
      "\u001B[32m2025-08-06 15:53:54.994\u001B[0m | \u001B[1mINFO    \u001B[0m | \u001B[36msrc.vrp_study.pdptw_model.routing_model\u001B[0m:\u001B[36madd_pick_up_and_delivery\u001B[0m:\u001B[36m269\u001B[0m - \u001B[1mДобавление ограничения для порядка доставки\u001B[0m\n",
      "\u001B[32m2025-08-06 15:53:54.994\u001B[0m | \u001B[1mINFO    \u001B[0m | \u001B[36msrc.vrp_study.pdptw_model.routing_model\u001B[0m:\u001B[36madd_time_window\u001B[0m:\u001B[36m194\u001B[0m - \u001B[1madd time\u001B[0m\n",
      "\u001B[32m2025-08-06 15:53:54.994\u001B[0m | \u001B[1mINFO    \u001B[0m | \u001B[36msrc.vrp_study.pdptw_model.routing_model\u001B[0m:\u001B[36madd_mass_constraint\u001B[0m:\u001B[36m177\u001B[0m - \u001B[1mДобавление ограничений для массы\u001B[0m\n",
      "\u001B[32m2025-08-06 15:53:54.995\u001B[0m | \u001B[1mINFO    \u001B[0m | \u001B[36msrc.vrp_study.pdptw_model.routing_model\u001B[0m:\u001B[36mdo_solve\u001B[0m:\u001B[36m407\u001B[0m - \u001B[1mНачало решения\u001B[0m\n",
      "\u001B[32m2025-08-06 15:53:54.996\u001B[0m | \u001B[34m\u001B[1mDEBUG   \u001B[0m | \u001B[36msrc.vrp_study.pdptw_model.routing_model\u001B[0m:\u001B[36m__call__\u001B[0m:\u001B[36m40\u001B[0m - \u001B[34m\u001B[1mtime: 0.001; new solution (1): 1; best solution: 1\u001B[0m\n",
      "\u001B[32m2025-08-06 15:53:54.997\u001B[0m | \u001B[1mINFO    \u001B[0m | \u001B[36msrc.vrp_study.pdptw_model.routing_model\u001B[0m:\u001B[36mdo_solve\u001B[0m:\u001B[36m423\u001B[0m - \u001B[1mfind solution\u001B[0m\n",
      "\u001B[32m2025-08-06 15:53:54.997\u001B[0m | \u001B[1mINFO    \u001B[0m | \u001B[36msrc.vrp_study.pdptw_model.routing_model\u001B[0m:\u001B[36mfind_optimal_paths\u001B[0m:\u001B[36m451\u001B[0m - \u001B[1mbest_score: 1\u001B[0m\n",
      "\u001B[32m2025-08-06 15:53:54.998\u001B[0m | \u001B[1mINFO    \u001B[0m | \u001B[36msrc.vrp_study.pdptw_model.routing_model\u001B[0m:\u001B[36mdo_solve\u001B[0m:\u001B[36m378\u001B[0m - \u001B[1mНачало создания модели\u001B[0m\n",
      "\u001B[32m2025-08-06 15:53:54.998\u001B[0m | \u001B[1mINFO    \u001B[0m | \u001B[36msrc.vrp_study.pdptw_model.routing_model\u001B[0m:\u001B[36madd_distance_dimension\u001B[0m:\u001B[36m299\u001B[0m - \u001B[1mДобавление размерности для расстояния\u001B[0m\n",
      "\u001B[32m2025-08-06 15:53:54.999\u001B[0m | \u001B[1mINFO    \u001B[0m | \u001B[36msrc.vrp_study.pdptw_model.routing_model\u001B[0m:\u001B[36madd_count_dimension\u001B[0m:\u001B[36m335\u001B[0m - \u001B[1mДобавление размерности для расстояния\u001B[0m\n",
      "\u001B[32m2025-08-06 15:53:54.999\u001B[0m | \u001B[1mINFO    \u001B[0m | \u001B[36msrc.vrp_study.pdptw_model.routing_model\u001B[0m:\u001B[36madd_pick_up_and_delivery\u001B[0m:\u001B[36m269\u001B[0m - \u001B[1mДобавление ограничения для порядка доставки\u001B[0m\n",
      "\u001B[32m2025-08-06 15:53:55.000\u001B[0m | \u001B[1mINFO    \u001B[0m | \u001B[36msrc.vrp_study.pdptw_model.routing_model\u001B[0m:\u001B[36madd_vehicles_cost\u001B[0m:\u001B[36m243\u001B[0m - \u001B[1mДобавление стоимостей машин\u001B[0m\n",
      "\u001B[32m2025-08-06 15:53:55.000\u001B[0m | \u001B[1mINFO    \u001B[0m | \u001B[36msrc.vrp_study.pdptw_model.routing_model\u001B[0m:\u001B[36madd_time_window\u001B[0m:\u001B[36m194\u001B[0m - \u001B[1madd time\u001B[0m\n",
      "\u001B[32m2025-08-06 15:53:55.000\u001B[0m | \u001B[1mINFO    \u001B[0m | \u001B[36msrc.vrp_study.pdptw_model.routing_model\u001B[0m:\u001B[36madd_mass_constraint\u001B[0m:\u001B[36m177\u001B[0m - \u001B[1mДобавление ограничений для массы\u001B[0m\n",
      "\u001B[32m2025-08-06 15:53:55.001\u001B[0m | \u001B[1mINFO    \u001B[0m | \u001B[36msrc.vrp_study.pdptw_model.routing_model\u001B[0m:\u001B[36mdo_solve\u001B[0m:\u001B[36m407\u001B[0m - \u001B[1mНачало решения\u001B[0m\n",
      "\u001B[32m2025-08-06 15:53:55.001\u001B[0m | \u001B[1mINFO    \u001B[0m | \u001B[36msrc.vrp_study.pdptw_model.routing_model\u001B[0m:\u001B[36mdo_solve\u001B[0m:\u001B[36m410\u001B[0m - \u001B[1muse initial_solution: 1\u001B[0m\n",
      "\u001B[32m2025-08-06 15:53:55.001\u001B[0m | \u001B[34m\u001B[1mDEBUG   \u001B[0m | \u001B[36msrc.vrp_study.pdptw_model.routing_model\u001B[0m:\u001B[36m__call__\u001B[0m:\u001B[36m40\u001B[0m - \u001B[34m\u001B[1mtime: 0.001; new solution (1): 3922; best solution: 3922\u001B[0m\n",
      "\u001B[32m2025-08-06 15:53:55.001\u001B[0m | \u001B[34m\u001B[1mDEBUG   \u001B[0m | \u001B[36msrc.vrp_study.pdptw_model.routing_model\u001B[0m:\u001B[36m__call__\u001B[0m:\u001B[36m40\u001B[0m - \u001B[34m\u001B[1mtime: 0.001; new solution (2): 3922; best solution: 3922\u001B[0m\n",
      "\u001B[32m2025-08-06 15:53:55.002\u001B[0m | \u001B[1mINFO    \u001B[0m | \u001B[36msrc.vrp_study.pdptw_model.routing_model\u001B[0m:\u001B[36mdo_solve\u001B[0m:\u001B[36m423\u001B[0m - \u001B[1mfind solution\u001B[0m\n",
      "\u001B[32m2025-08-06 15:53:55.002\u001B[0m | \u001B[1mINFO    \u001B[0m | \u001B[36msrc.vrp_study.pdptw_model.routing_model\u001B[0m:\u001B[36mfind_optimal_paths\u001B[0m:\u001B[36m464\u001B[0m - \u001B[1mbest_score: 39.22\u001B[0m\n",
      "\u001B[32m2025-08-06 15:53:55.003\u001B[0m | \u001B[1mINFO    \u001B[0m | \u001B[36msrc.vrp_study.pdptw_model.solution_builder\u001B[0m:\u001B[36mget_initial_solution\u001B[0m:\u001B[36m138\u001B[0m - \u001B[1m[[0, 1, 2, 0], [], [], [], [], [], [], [], [], [], [], [], [], [], [], [], [], []]\u001B[0m\n"
     ]
    },
    {
     "data": {
      "text/plain": "  0%|          | 0/1 [00:00<?, ?it/s]",
      "application/vnd.jupyter.widget-view+json": {
       "version_major": 2,
       "version_minor": 0,
       "model_id": "7a6758897baf4bc9bb0119090857607c"
      }
     },
     "metadata": {},
     "output_type": "display_data"
    },
    {
     "name": "stderr",
     "output_type": "stream",
     "text": [
      "\u001B[32m2025-08-06 15:53:55.009\u001B[0m | \u001B[1mINFO    \u001B[0m | \u001B[36msrc.vrp_study.pdptw_model.routing_model\u001B[0m:\u001B[36mfind_optimal_paths\u001B[0m:\u001B[36m443\u001B[0m - \u001B[1mproblem size: 3\u001B[0m\n",
      "\u001B[32m2025-08-06 15:53:55.009\u001B[0m | \u001B[1mINFO    \u001B[0m | \u001B[36msrc.vrp_study.pdptw_model.routing_model\u001B[0m:\u001B[36mdo_solve\u001B[0m:\u001B[36m378\u001B[0m - \u001B[1mНачало создания модели\u001B[0m\n",
      "\u001B[32m2025-08-06 15:53:55.010\u001B[0m | \u001B[1mINFO    \u001B[0m | \u001B[36msrc.vrp_study.pdptw_model.routing_model\u001B[0m:\u001B[36madd_distance_dimension\u001B[0m:\u001B[36m299\u001B[0m - \u001B[1mДобавление размерности для расстояния\u001B[0m\n",
      "\u001B[32m2025-08-06 15:53:55.010\u001B[0m | \u001B[1mINFO    \u001B[0m | \u001B[36msrc.vrp_study.pdptw_model.routing_model\u001B[0m:\u001B[36madd_count_dimension\u001B[0m:\u001B[36m335\u001B[0m - \u001B[1mДобавление размерности для расстояния\u001B[0m\n",
      "\u001B[32m2025-08-06 15:53:55.010\u001B[0m | \u001B[1mINFO    \u001B[0m | \u001B[36msrc.vrp_study.pdptw_model.routing_model\u001B[0m:\u001B[36madd_pick_up_and_delivery\u001B[0m:\u001B[36m269\u001B[0m - \u001B[1mДобавление ограничения для порядка доставки\u001B[0m\n",
      "\u001B[32m2025-08-06 15:53:55.010\u001B[0m | \u001B[1mINFO    \u001B[0m | \u001B[36msrc.vrp_study.pdptw_model.routing_model\u001B[0m:\u001B[36madd_time_window\u001B[0m:\u001B[36m194\u001B[0m - \u001B[1madd time\u001B[0m\n",
      "\u001B[32m2025-08-06 15:53:55.011\u001B[0m | \u001B[1mINFO    \u001B[0m | \u001B[36msrc.vrp_study.pdptw_model.routing_model\u001B[0m:\u001B[36madd_mass_constraint\u001B[0m:\u001B[36m177\u001B[0m - \u001B[1mДобавление ограничений для массы\u001B[0m\n",
      "\u001B[32m2025-08-06 15:53:55.011\u001B[0m | \u001B[1mINFO    \u001B[0m | \u001B[36msrc.vrp_study.pdptw_model.routing_model\u001B[0m:\u001B[36mdo_solve\u001B[0m:\u001B[36m407\u001B[0m - \u001B[1mНачало решения\u001B[0m\n",
      "\u001B[32m2025-08-06 15:53:55.012\u001B[0m | \u001B[34m\u001B[1mDEBUG   \u001B[0m | \u001B[36msrc.vrp_study.pdptw_model.routing_model\u001B[0m:\u001B[36m__call__\u001B[0m:\u001B[36m40\u001B[0m - \u001B[34m\u001B[1mtime: 0.001; new solution (1): 1; best solution: 1\u001B[0m\n",
      "\u001B[32m2025-08-06 15:53:55.013\u001B[0m | \u001B[1mINFO    \u001B[0m | \u001B[36msrc.vrp_study.pdptw_model.routing_model\u001B[0m:\u001B[36mdo_solve\u001B[0m:\u001B[36m423\u001B[0m - \u001B[1mfind solution\u001B[0m\n",
      "\u001B[32m2025-08-06 15:53:55.013\u001B[0m | \u001B[1mINFO    \u001B[0m | \u001B[36msrc.vrp_study.pdptw_model.routing_model\u001B[0m:\u001B[36mfind_optimal_paths\u001B[0m:\u001B[36m451\u001B[0m - \u001B[1mbest_score: 1\u001B[0m\n",
      "\u001B[32m2025-08-06 15:53:55.013\u001B[0m | \u001B[1mINFO    \u001B[0m | \u001B[36msrc.vrp_study.pdptw_model.routing_model\u001B[0m:\u001B[36mdo_solve\u001B[0m:\u001B[36m378\u001B[0m - \u001B[1mНачало создания модели\u001B[0m\n",
      "\u001B[32m2025-08-06 15:53:55.014\u001B[0m | \u001B[1mINFO    \u001B[0m | \u001B[36msrc.vrp_study.pdptw_model.routing_model\u001B[0m:\u001B[36madd_distance_dimension\u001B[0m:\u001B[36m299\u001B[0m - \u001B[1mДобавление размерности для расстояния\u001B[0m\n",
      "\u001B[32m2025-08-06 15:53:55.014\u001B[0m | \u001B[1mINFO    \u001B[0m | \u001B[36msrc.vrp_study.pdptw_model.routing_model\u001B[0m:\u001B[36madd_count_dimension\u001B[0m:\u001B[36m335\u001B[0m - \u001B[1mДобавление размерности для расстояния\u001B[0m\n",
      "\u001B[32m2025-08-06 15:53:55.014\u001B[0m | \u001B[1mINFO    \u001B[0m | \u001B[36msrc.vrp_study.pdptw_model.routing_model\u001B[0m:\u001B[36madd_pick_up_and_delivery\u001B[0m:\u001B[36m269\u001B[0m - \u001B[1mДобавление ограничения для порядка доставки\u001B[0m\n",
      "\u001B[32m2025-08-06 15:53:55.014\u001B[0m | \u001B[1mINFO    \u001B[0m | \u001B[36msrc.vrp_study.pdptw_model.routing_model\u001B[0m:\u001B[36madd_vehicles_cost\u001B[0m:\u001B[36m243\u001B[0m - \u001B[1mДобавление стоимостей машин\u001B[0m\n",
      "\u001B[32m2025-08-06 15:53:55.015\u001B[0m | \u001B[1mINFO    \u001B[0m | \u001B[36msrc.vrp_study.pdptw_model.routing_model\u001B[0m:\u001B[36madd_time_window\u001B[0m:\u001B[36m194\u001B[0m - \u001B[1madd time\u001B[0m\n",
      "\u001B[32m2025-08-06 15:53:55.015\u001B[0m | \u001B[1mINFO    \u001B[0m | \u001B[36msrc.vrp_study.pdptw_model.routing_model\u001B[0m:\u001B[36madd_mass_constraint\u001B[0m:\u001B[36m177\u001B[0m - \u001B[1mДобавление ограничений для массы\u001B[0m\n",
      "\u001B[32m2025-08-06 15:53:55.015\u001B[0m | \u001B[1mINFO    \u001B[0m | \u001B[36msrc.vrp_study.pdptw_model.routing_model\u001B[0m:\u001B[36mdo_solve\u001B[0m:\u001B[36m407\u001B[0m - \u001B[1mНачало решения\u001B[0m\n",
      "\u001B[32m2025-08-06 15:53:55.015\u001B[0m | \u001B[1mINFO    \u001B[0m | \u001B[36msrc.vrp_study.pdptw_model.routing_model\u001B[0m:\u001B[36mdo_solve\u001B[0m:\u001B[36m410\u001B[0m - \u001B[1muse initial_solution: 1\u001B[0m\n",
      "\u001B[32m2025-08-06 15:53:55.016\u001B[0m | \u001B[34m\u001B[1mDEBUG   \u001B[0m | \u001B[36msrc.vrp_study.pdptw_model.routing_model\u001B[0m:\u001B[36m__call__\u001B[0m:\u001B[36m40\u001B[0m - \u001B[34m\u001B[1mtime: 0.001; new solution (1): 4717; best solution: 4717\u001B[0m\n",
      "\u001B[32m2025-08-06 15:53:55.016\u001B[0m | \u001B[34m\u001B[1mDEBUG   \u001B[0m | \u001B[36msrc.vrp_study.pdptw_model.routing_model\u001B[0m:\u001B[36m__call__\u001B[0m:\u001B[36m40\u001B[0m - \u001B[34m\u001B[1mtime: 0.001; new solution (2): 4717; best solution: 4717\u001B[0m\n",
      "\u001B[32m2025-08-06 15:53:55.016\u001B[0m | \u001B[1mINFO    \u001B[0m | \u001B[36msrc.vrp_study.pdptw_model.routing_model\u001B[0m:\u001B[36mdo_solve\u001B[0m:\u001B[36m423\u001B[0m - \u001B[1mfind solution\u001B[0m\n",
      "\u001B[32m2025-08-06 15:53:55.017\u001B[0m | \u001B[1mINFO    \u001B[0m | \u001B[36msrc.vrp_study.pdptw_model.routing_model\u001B[0m:\u001B[36mfind_optimal_paths\u001B[0m:\u001B[36m464\u001B[0m - \u001B[1mbest_score: 47.17\u001B[0m\n",
      "\u001B[32m2025-08-06 15:53:55.017\u001B[0m | \u001B[1mINFO    \u001B[0m | \u001B[36msrc.vrp_study.pdptw_model.solution_builder\u001B[0m:\u001B[36mget_initial_solution\u001B[0m:\u001B[36m138\u001B[0m - \u001B[1m[[0, 1, 2, 0], [], [], [], [], [], [], [], [], [], [], [], [], [], [], [], []]\u001B[0m\n"
     ]
    },
    {
     "data": {
      "text/plain": "  0%|          | 0/1 [00:00<?, ?it/s]",
      "application/vnd.jupyter.widget-view+json": {
       "version_major": 2,
       "version_minor": 0,
       "model_id": "e88d5a7ef54149be94b3ff9f26a8d22c"
      }
     },
     "metadata": {},
     "output_type": "display_data"
    },
    {
     "name": "stderr",
     "output_type": "stream",
     "text": [
      "\u001B[32m2025-08-06 15:53:55.023\u001B[0m | \u001B[1mINFO    \u001B[0m | \u001B[36msrc.vrp_study.pdptw_model.routing_model\u001B[0m:\u001B[36mfind_optimal_paths\u001B[0m:\u001B[36m443\u001B[0m - \u001B[1mproblem size: 3\u001B[0m\n",
      "\u001B[32m2025-08-06 15:53:55.024\u001B[0m | \u001B[1mINFO    \u001B[0m | \u001B[36msrc.vrp_study.pdptw_model.routing_model\u001B[0m:\u001B[36mdo_solve\u001B[0m:\u001B[36m378\u001B[0m - \u001B[1mНачало создания модели\u001B[0m\n",
      "\u001B[32m2025-08-06 15:53:55.024\u001B[0m | \u001B[1mINFO    \u001B[0m | \u001B[36msrc.vrp_study.pdptw_model.routing_model\u001B[0m:\u001B[36madd_distance_dimension\u001B[0m:\u001B[36m299\u001B[0m - \u001B[1mДобавление размерности для расстояния\u001B[0m\n",
      "\u001B[32m2025-08-06 15:53:55.025\u001B[0m | \u001B[1mINFO    \u001B[0m | \u001B[36msrc.vrp_study.pdptw_model.routing_model\u001B[0m:\u001B[36madd_count_dimension\u001B[0m:\u001B[36m335\u001B[0m - \u001B[1mДобавление размерности для расстояния\u001B[0m\n",
      "\u001B[32m2025-08-06 15:53:55.025\u001B[0m | \u001B[1mINFO    \u001B[0m | \u001B[36msrc.vrp_study.pdptw_model.routing_model\u001B[0m:\u001B[36madd_pick_up_and_delivery\u001B[0m:\u001B[36m269\u001B[0m - \u001B[1mДобавление ограничения для порядка доставки\u001B[0m\n",
      "\u001B[32m2025-08-06 15:53:55.025\u001B[0m | \u001B[1mINFO    \u001B[0m | \u001B[36msrc.vrp_study.pdptw_model.routing_model\u001B[0m:\u001B[36madd_time_window\u001B[0m:\u001B[36m194\u001B[0m - \u001B[1madd time\u001B[0m\n",
      "\u001B[32m2025-08-06 15:53:55.025\u001B[0m | \u001B[1mINFO    \u001B[0m | \u001B[36msrc.vrp_study.pdptw_model.routing_model\u001B[0m:\u001B[36madd_mass_constraint\u001B[0m:\u001B[36m177\u001B[0m - \u001B[1mДобавление ограничений для массы\u001B[0m\n",
      "\u001B[32m2025-08-06 15:53:55.026\u001B[0m | \u001B[1mINFO    \u001B[0m | \u001B[36msrc.vrp_study.pdptw_model.routing_model\u001B[0m:\u001B[36mdo_solve\u001B[0m:\u001B[36m407\u001B[0m - \u001B[1mНачало решения\u001B[0m\n",
      "\u001B[32m2025-08-06 15:53:55.027\u001B[0m | \u001B[34m\u001B[1mDEBUG   \u001B[0m | \u001B[36msrc.vrp_study.pdptw_model.routing_model\u001B[0m:\u001B[36m__call__\u001B[0m:\u001B[36m40\u001B[0m - \u001B[34m\u001B[1mtime: 0.001; new solution (1): 1; best solution: 1\u001B[0m\n",
      "\u001B[32m2025-08-06 15:53:55.028\u001B[0m | \u001B[1mINFO    \u001B[0m | \u001B[36msrc.vrp_study.pdptw_model.routing_model\u001B[0m:\u001B[36mdo_solve\u001B[0m:\u001B[36m423\u001B[0m - \u001B[1mfind solution\u001B[0m\n",
      "\u001B[32m2025-08-06 15:53:55.028\u001B[0m | \u001B[1mINFO    \u001B[0m | \u001B[36msrc.vrp_study.pdptw_model.routing_model\u001B[0m:\u001B[36mfind_optimal_paths\u001B[0m:\u001B[36m451\u001B[0m - \u001B[1mbest_score: 1\u001B[0m\n",
      "\u001B[32m2025-08-06 15:53:55.028\u001B[0m | \u001B[1mINFO    \u001B[0m | \u001B[36msrc.vrp_study.pdptw_model.routing_model\u001B[0m:\u001B[36mdo_solve\u001B[0m:\u001B[36m378\u001B[0m - \u001B[1mНачало создания модели\u001B[0m\n",
      "\u001B[32m2025-08-06 15:53:55.029\u001B[0m | \u001B[1mINFO    \u001B[0m | \u001B[36msrc.vrp_study.pdptw_model.routing_model\u001B[0m:\u001B[36madd_distance_dimension\u001B[0m:\u001B[36m299\u001B[0m - \u001B[1mДобавление размерности для расстояния\u001B[0m\n",
      "\u001B[32m2025-08-06 15:53:55.029\u001B[0m | \u001B[1mINFO    \u001B[0m | \u001B[36msrc.vrp_study.pdptw_model.routing_model\u001B[0m:\u001B[36madd_count_dimension\u001B[0m:\u001B[36m335\u001B[0m - \u001B[1mДобавление размерности для расстояния\u001B[0m\n",
      "\u001B[32m2025-08-06 15:53:55.029\u001B[0m | \u001B[1mINFO    \u001B[0m | \u001B[36msrc.vrp_study.pdptw_model.routing_model\u001B[0m:\u001B[36madd_pick_up_and_delivery\u001B[0m:\u001B[36m269\u001B[0m - \u001B[1mДобавление ограничения для порядка доставки\u001B[0m\n",
      "\u001B[32m2025-08-06 15:53:55.030\u001B[0m | \u001B[1mINFO    \u001B[0m | \u001B[36msrc.vrp_study.pdptw_model.routing_model\u001B[0m:\u001B[36madd_vehicles_cost\u001B[0m:\u001B[36m243\u001B[0m - \u001B[1mДобавление стоимостей машин\u001B[0m\n",
      "\u001B[32m2025-08-06 15:53:55.030\u001B[0m | \u001B[1mINFO    \u001B[0m | \u001B[36msrc.vrp_study.pdptw_model.routing_model\u001B[0m:\u001B[36madd_time_window\u001B[0m:\u001B[36m194\u001B[0m - \u001B[1madd time\u001B[0m\n",
      "\u001B[32m2025-08-06 15:53:55.030\u001B[0m | \u001B[1mINFO    \u001B[0m | \u001B[36msrc.vrp_study.pdptw_model.routing_model\u001B[0m:\u001B[36madd_mass_constraint\u001B[0m:\u001B[36m177\u001B[0m - \u001B[1mДобавление ограничений для массы\u001B[0m\n",
      "\u001B[32m2025-08-06 15:53:55.031\u001B[0m | \u001B[1mINFO    \u001B[0m | \u001B[36msrc.vrp_study.pdptw_model.routing_model\u001B[0m:\u001B[36mdo_solve\u001B[0m:\u001B[36m407\u001B[0m - \u001B[1mНачало решения\u001B[0m\n",
      "\u001B[32m2025-08-06 15:53:55.031\u001B[0m | \u001B[1mINFO    \u001B[0m | \u001B[36msrc.vrp_study.pdptw_model.routing_model\u001B[0m:\u001B[36mdo_solve\u001B[0m:\u001B[36m410\u001B[0m - \u001B[1muse initial_solution: 1\u001B[0m\n",
      "\u001B[32m2025-08-06 15:53:55.031\u001B[0m | \u001B[34m\u001B[1mDEBUG   \u001B[0m | \u001B[36msrc.vrp_study.pdptw_model.routing_model\u001B[0m:\u001B[36m__call__\u001B[0m:\u001B[36m40\u001B[0m - \u001B[34m\u001B[1mtime: 0.001; new solution (1): 5000; best solution: 5000\u001B[0m\n",
      "\u001B[32m2025-08-06 15:53:55.032\u001B[0m | \u001B[34m\u001B[1mDEBUG   \u001B[0m | \u001B[36msrc.vrp_study.pdptw_model.routing_model\u001B[0m:\u001B[36m__call__\u001B[0m:\u001B[36m40\u001B[0m - \u001B[34m\u001B[1mtime: 0.001; new solution (2): 5000; best solution: 5000\u001B[0m\n",
      "\u001B[32m2025-08-06 15:53:55.032\u001B[0m | \u001B[1mINFO    \u001B[0m | \u001B[36msrc.vrp_study.pdptw_model.routing_model\u001B[0m:\u001B[36mdo_solve\u001B[0m:\u001B[36m423\u001B[0m - \u001B[1mfind solution\u001B[0m\n",
      "\u001B[32m2025-08-06 15:53:55.032\u001B[0m | \u001B[1mINFO    \u001B[0m | \u001B[36msrc.vrp_study.pdptw_model.routing_model\u001B[0m:\u001B[36mfind_optimal_paths\u001B[0m:\u001B[36m464\u001B[0m - \u001B[1mbest_score: 50.00\u001B[0m\n",
      "\u001B[32m2025-08-06 15:53:55.032\u001B[0m | \u001B[1mINFO    \u001B[0m | \u001B[36msrc.vrp_study.pdptw_model.solution_builder\u001B[0m:\u001B[36mget_initial_solution\u001B[0m:\u001B[36m138\u001B[0m - \u001B[1m[[0, 1, 2, 0], [], [], [], [], [], [], [], [], [], [], [], [], [], [], []]\u001B[0m\n",
      "\u001B[32m2025-08-06 15:53:55.033\u001B[0m | \u001B[1mINFO    \u001B[0m | \u001B[36msrc.vrp_study.pdptw_model.solution_builder\u001B[0m:\u001B[36mget_initial_solution\u001B[0m:\u001B[36m118\u001B[0m - \u001B[1m(1, 32.074999999999996)\u001B[0m\n",
      "\u001B[32m2025-08-06 15:53:55.034\u001B[0m | \u001B[1mINFO    \u001B[0m | \u001B[36msrc.vrp_study.pdptw_model.solution_builder\u001B[0m:\u001B[36mget_initial_solution\u001B[0m:\u001B[36m118\u001B[0m - \u001B[1m(1, 16.0875)\u001B[0m\n",
      "\u001B[32m2025-08-06 15:53:55.035\u001B[0m | \u001B[1mINFO    \u001B[0m | \u001B[36msrc.vrp_study.pdptw_model.solution_builder\u001B[0m:\u001B[36mget_initial_solution\u001B[0m:\u001B[36m118\u001B[0m - \u001B[1m(1, 8.09375)\u001B[0m\n",
      "\u001B[32m2025-08-06 15:53:55.035\u001B[0m | \u001B[1mINFO    \u001B[0m | \u001B[36msrc.vrp_study.pdptw_model.solution_builder\u001B[0m:\u001B[36mget_initial_solution\u001B[0m:\u001B[36m118\u001B[0m - \u001B[1m(1, 4.096875)\u001B[0m\n",
      "\u001B[32m2025-08-06 15:53:55.036\u001B[0m | \u001B[1mINFO    \u001B[0m | \u001B[36msrc.vrp_study.pdptw_model.solution_builder\u001B[0m:\u001B[36mget_initial_solution\u001B[0m:\u001B[36m118\u001B[0m - \u001B[1m(1, 2.0984374999999997)\u001B[0m\n",
      "\u001B[32m2025-08-06 15:53:55.037\u001B[0m | \u001B[1mINFO    \u001B[0m | \u001B[36msrc.vrp_study.pdptw_model.solution_builder\u001B[0m:\u001B[36mget_initial_solution\u001B[0m:\u001B[36m118\u001B[0m - \u001B[1m(1, 1.09921875)\u001B[0m\n",
      "\u001B[32m2025-08-06 15:53:55.038\u001B[0m | \u001B[1mINFO    \u001B[0m | \u001B[36msrc.vrp_study.pdptw_model.solution_builder\u001B[0m:\u001B[36mget_initial_solution\u001B[0m:\u001B[36m118\u001B[0m - \u001B[1m(3, 0.599609375)\u001B[0m\n",
      "\u001B[32m2025-08-06 15:53:55.038\u001B[0m | \u001B[1mINFO    \u001B[0m | \u001B[36msrc.vrp_study.pdptw_model.solution_builder\u001B[0m:\u001B[36mget_initial_solution\u001B[0m:\u001B[36m118\u001B[0m - \u001B[1m(3, 0.3498046875)\u001B[0m\n",
      "\u001B[32m2025-08-06 15:53:55.039\u001B[0m | \u001B[1mINFO    \u001B[0m | \u001B[36msrc.vrp_study.pdptw_model.solution_builder\u001B[0m:\u001B[36mget_initial_solution\u001B[0m:\u001B[36m118\u001B[0m - \u001B[1m(3, 0.22490234375)\u001B[0m\n",
      "\u001B[32m2025-08-06 15:53:55.039\u001B[0m | \u001B[1mINFO    \u001B[0m | \u001B[36msrc.vrp_study.pdptw_model.solution_builder\u001B[0m:\u001B[36mget_initial_solution\u001B[0m:\u001B[36m118\u001B[0m - \u001B[1m(3, 0.16245117187500002)\u001B[0m\n"
     ]
    },
    {
     "data": {
      "text/plain": "  0%|          | 0/1 [00:00<?, ?it/s]",
      "application/vnd.jupyter.widget-view+json": {
       "version_major": 2,
       "version_minor": 0,
       "model_id": "e510c9ed04a44142add50efbbacc9de7"
      }
     },
     "metadata": {},
     "output_type": "display_data"
    },
    {
     "name": "stderr",
     "output_type": "stream",
     "text": [
      "\u001B[32m2025-08-06 15:53:55.043\u001B[0m | \u001B[1mINFO    \u001B[0m | \u001B[36msrc.vrp_study.pdptw_model.routing_model\u001B[0m:\u001B[36mfind_optimal_paths\u001B[0m:\u001B[36m443\u001B[0m - \u001B[1mproblem size: 7\u001B[0m\n",
      "\u001B[32m2025-08-06 15:53:55.044\u001B[0m | \u001B[1mINFO    \u001B[0m | \u001B[36msrc.vrp_study.pdptw_model.routing_model\u001B[0m:\u001B[36mdo_solve\u001B[0m:\u001B[36m378\u001B[0m - \u001B[1mНачало создания модели\u001B[0m\n",
      "\u001B[32m2025-08-06 15:53:55.044\u001B[0m | \u001B[1mINFO    \u001B[0m | \u001B[36msrc.vrp_study.pdptw_model.routing_model\u001B[0m:\u001B[36madd_distance_dimension\u001B[0m:\u001B[36m299\u001B[0m - \u001B[1mДобавление размерности для расстояния\u001B[0m\n",
      "\u001B[32m2025-08-06 15:53:55.045\u001B[0m | \u001B[1mINFO    \u001B[0m | \u001B[36msrc.vrp_study.pdptw_model.routing_model\u001B[0m:\u001B[36madd_count_dimension\u001B[0m:\u001B[36m335\u001B[0m - \u001B[1mДобавление размерности для расстояния\u001B[0m\n",
      "\u001B[32m2025-08-06 15:53:55.045\u001B[0m | \u001B[1mINFO    \u001B[0m | \u001B[36msrc.vrp_study.pdptw_model.routing_model\u001B[0m:\u001B[36madd_pick_up_and_delivery\u001B[0m:\u001B[36m269\u001B[0m - \u001B[1mДобавление ограничения для порядка доставки\u001B[0m\n",
      "\u001B[32m2025-08-06 15:53:55.045\u001B[0m | \u001B[1mINFO    \u001B[0m | \u001B[36msrc.vrp_study.pdptw_model.routing_model\u001B[0m:\u001B[36madd_time_window\u001B[0m:\u001B[36m194\u001B[0m - \u001B[1madd time\u001B[0m\n",
      "\u001B[32m2025-08-06 15:53:55.045\u001B[0m | \u001B[1mINFO    \u001B[0m | \u001B[36msrc.vrp_study.pdptw_model.routing_model\u001B[0m:\u001B[36madd_mass_constraint\u001B[0m:\u001B[36m177\u001B[0m - \u001B[1mДобавление ограничений для массы\u001B[0m\n",
      "\u001B[32m2025-08-06 15:53:55.046\u001B[0m | \u001B[1mINFO    \u001B[0m | \u001B[36msrc.vrp_study.pdptw_model.routing_model\u001B[0m:\u001B[36mdo_solve\u001B[0m:\u001B[36m407\u001B[0m - \u001B[1mНачало решения\u001B[0m\n",
      "\u001B[32m2025-08-06 15:53:55.047\u001B[0m | \u001B[34m\u001B[1mDEBUG   \u001B[0m | \u001B[36msrc.vrp_study.pdptw_model.routing_model\u001B[0m:\u001B[36m__call__\u001B[0m:\u001B[36m40\u001B[0m - \u001B[34m\u001B[1mtime: 0.002; new solution (1): 1; best solution: 1\u001B[0m\n",
      "\u001B[32m2025-08-06 15:53:55.049\u001B[0m | \u001B[1mINFO    \u001B[0m | \u001B[36msrc.vrp_study.pdptw_model.routing_model\u001B[0m:\u001B[36mdo_solve\u001B[0m:\u001B[36m423\u001B[0m - \u001B[1mfind solution\u001B[0m\n",
      "\u001B[32m2025-08-06 15:53:55.050\u001B[0m | \u001B[1mINFO    \u001B[0m | \u001B[36msrc.vrp_study.pdptw_model.routing_model\u001B[0m:\u001B[36mfind_optimal_paths\u001B[0m:\u001B[36m451\u001B[0m - \u001B[1mbest_score: 1\u001B[0m\n",
      "\u001B[32m2025-08-06 15:53:55.050\u001B[0m | \u001B[1mINFO    \u001B[0m | \u001B[36msrc.vrp_study.pdptw_model.routing_model\u001B[0m:\u001B[36mdo_solve\u001B[0m:\u001B[36m378\u001B[0m - \u001B[1mНачало создания модели\u001B[0m\n",
      "\u001B[32m2025-08-06 15:53:55.050\u001B[0m | \u001B[1mINFO    \u001B[0m | \u001B[36msrc.vrp_study.pdptw_model.routing_model\u001B[0m:\u001B[36madd_distance_dimension\u001B[0m:\u001B[36m299\u001B[0m - \u001B[1mДобавление размерности для расстояния\u001B[0m\n",
      "\u001B[32m2025-08-06 15:53:55.050\u001B[0m | \u001B[1mINFO    \u001B[0m | \u001B[36msrc.vrp_study.pdptw_model.routing_model\u001B[0m:\u001B[36madd_count_dimension\u001B[0m:\u001B[36m335\u001B[0m - \u001B[1mДобавление размерности для расстояния\u001B[0m\n",
      "\u001B[32m2025-08-06 15:53:55.051\u001B[0m | \u001B[1mINFO    \u001B[0m | \u001B[36msrc.vrp_study.pdptw_model.routing_model\u001B[0m:\u001B[36madd_pick_up_and_delivery\u001B[0m:\u001B[36m269\u001B[0m - \u001B[1mДобавление ограничения для порядка доставки\u001B[0m\n",
      "\u001B[32m2025-08-06 15:53:55.051\u001B[0m | \u001B[1mINFO    \u001B[0m | \u001B[36msrc.vrp_study.pdptw_model.routing_model\u001B[0m:\u001B[36madd_vehicles_cost\u001B[0m:\u001B[36m243\u001B[0m - \u001B[1mДобавление стоимостей машин\u001B[0m\n",
      "\u001B[32m2025-08-06 15:53:55.051\u001B[0m | \u001B[1mINFO    \u001B[0m | \u001B[36msrc.vrp_study.pdptw_model.routing_model\u001B[0m:\u001B[36madd_time_window\u001B[0m:\u001B[36m194\u001B[0m - \u001B[1madd time\u001B[0m\n",
      "\u001B[32m2025-08-06 15:53:55.051\u001B[0m | \u001B[1mINFO    \u001B[0m | \u001B[36msrc.vrp_study.pdptw_model.routing_model\u001B[0m:\u001B[36madd_mass_constraint\u001B[0m:\u001B[36m177\u001B[0m - \u001B[1mДобавление ограничений для массы\u001B[0m\n",
      "\u001B[32m2025-08-06 15:53:55.053\u001B[0m | \u001B[1mINFO    \u001B[0m | \u001B[36msrc.vrp_study.pdptw_model.routing_model\u001B[0m:\u001B[36mdo_solve\u001B[0m:\u001B[36m407\u001B[0m - \u001B[1mНачало решения\u001B[0m\n",
      "\u001B[32m2025-08-06 15:53:55.054\u001B[0m | \u001B[1mINFO    \u001B[0m | \u001B[36msrc.vrp_study.pdptw_model.routing_model\u001B[0m:\u001B[36mdo_solve\u001B[0m:\u001B[36m410\u001B[0m - \u001B[1muse initial_solution: 1\u001B[0m\n",
      "\u001B[32m2025-08-06 15:53:55.055\u001B[0m | \u001B[34m\u001B[1mDEBUG   \u001B[0m | \u001B[36msrc.vrp_study.pdptw_model.routing_model\u001B[0m:\u001B[36m__call__\u001B[0m:\u001B[36m40\u001B[0m - \u001B[34m\u001B[1mtime: 0.002; new solution (1): 9991; best solution: 9991\u001B[0m\n",
      "\u001B[32m2025-08-06 15:53:55.056\u001B[0m | \u001B[34m\u001B[1mDEBUG   \u001B[0m | \u001B[36msrc.vrp_study.pdptw_model.routing_model\u001B[0m:\u001B[36m__call__\u001B[0m:\u001B[36m40\u001B[0m - \u001B[34m\u001B[1mtime: 0.003; new solution (2): 9991; best solution: 9991\u001B[0m\n",
      "\u001B[32m2025-08-06 15:53:55.058\u001B[0m | \u001B[1mINFO    \u001B[0m | \u001B[36msrc.vrp_study.pdptw_model.routing_model\u001B[0m:\u001B[36mdo_solve\u001B[0m:\u001B[36m423\u001B[0m - \u001B[1mfind solution\u001B[0m\n",
      "\u001B[32m2025-08-06 15:53:55.058\u001B[0m | \u001B[1mINFO    \u001B[0m | \u001B[36msrc.vrp_study.pdptw_model.routing_model\u001B[0m:\u001B[36mfind_optimal_paths\u001B[0m:\u001B[36m464\u001B[0m - \u001B[1mbest_score: 99.91\u001B[0m\n",
      "\u001B[32m2025-08-06 15:53:55.058\u001B[0m | \u001B[1mINFO    \u001B[0m | \u001B[36msrc.vrp_study.pdptw_model.solution_builder\u001B[0m:\u001B[36mget_initial_solution\u001B[0m:\u001B[36m138\u001B[0m - \u001B[1m[[0, 3, 1, 5, 2, 4, 6, 0], [], [], [], [], [], [], [], [], [], [], [], [], [], []]\u001B[0m\n"
     ]
    },
    {
     "data": {
      "text/plain": "  0%|          | 0/1 [00:00<?, ?it/s]",
      "application/vnd.jupyter.widget-view+json": {
       "version_major": 2,
       "version_minor": 0,
       "model_id": "6476726059424106b05b958fb5725ee7"
      }
     },
     "metadata": {},
     "output_type": "display_data"
    },
    {
     "name": "stderr",
     "output_type": "stream",
     "text": [
      "\u001B[32m2025-08-06 15:53:55.062\u001B[0m | \u001B[1mINFO    \u001B[0m | \u001B[36msrc.vrp_study.pdptw_model.routing_model\u001B[0m:\u001B[36mfind_optimal_paths\u001B[0m:\u001B[36m443\u001B[0m - \u001B[1mproblem size: 3\u001B[0m\n",
      "\u001B[32m2025-08-06 15:53:55.062\u001B[0m | \u001B[1mINFO    \u001B[0m | \u001B[36msrc.vrp_study.pdptw_model.routing_model\u001B[0m:\u001B[36mdo_solve\u001B[0m:\u001B[36m378\u001B[0m - \u001B[1mНачало создания модели\u001B[0m\n",
      "\u001B[32m2025-08-06 15:53:55.063\u001B[0m | \u001B[1mINFO    \u001B[0m | \u001B[36msrc.vrp_study.pdptw_model.routing_model\u001B[0m:\u001B[36madd_distance_dimension\u001B[0m:\u001B[36m299\u001B[0m - \u001B[1mДобавление размерности для расстояния\u001B[0m\n",
      "\u001B[32m2025-08-06 15:53:55.063\u001B[0m | \u001B[1mINFO    \u001B[0m | \u001B[36msrc.vrp_study.pdptw_model.routing_model\u001B[0m:\u001B[36madd_count_dimension\u001B[0m:\u001B[36m335\u001B[0m - \u001B[1mДобавление размерности для расстояния\u001B[0m\n",
      "\u001B[32m2025-08-06 15:53:55.063\u001B[0m | \u001B[1mINFO    \u001B[0m | \u001B[36msrc.vrp_study.pdptw_model.routing_model\u001B[0m:\u001B[36madd_pick_up_and_delivery\u001B[0m:\u001B[36m269\u001B[0m - \u001B[1mДобавление ограничения для порядка доставки\u001B[0m\n",
      "\u001B[32m2025-08-06 15:53:55.063\u001B[0m | \u001B[1mINFO    \u001B[0m | \u001B[36msrc.vrp_study.pdptw_model.routing_model\u001B[0m:\u001B[36madd_time_window\u001B[0m:\u001B[36m194\u001B[0m - \u001B[1madd time\u001B[0m\n",
      "\u001B[32m2025-08-06 15:53:55.064\u001B[0m | \u001B[1mINFO    \u001B[0m | \u001B[36msrc.vrp_study.pdptw_model.routing_model\u001B[0m:\u001B[36madd_mass_constraint\u001B[0m:\u001B[36m177\u001B[0m - \u001B[1mДобавление ограничений для массы\u001B[0m\n",
      "\u001B[32m2025-08-06 15:53:55.064\u001B[0m | \u001B[1mINFO    \u001B[0m | \u001B[36msrc.vrp_study.pdptw_model.routing_model\u001B[0m:\u001B[36mdo_solve\u001B[0m:\u001B[36m407\u001B[0m - \u001B[1mНачало решения\u001B[0m\n",
      "\u001B[32m2025-08-06 15:53:55.065\u001B[0m | \u001B[34m\u001B[1mDEBUG   \u001B[0m | \u001B[36msrc.vrp_study.pdptw_model.routing_model\u001B[0m:\u001B[36m__call__\u001B[0m:\u001B[36m40\u001B[0m - \u001B[34m\u001B[1mtime: 0.001; new solution (1): 1; best solution: 1\u001B[0m\n",
      "\u001B[32m2025-08-06 15:53:55.065\u001B[0m | \u001B[1mINFO    \u001B[0m | \u001B[36msrc.vrp_study.pdptw_model.routing_model\u001B[0m:\u001B[36mdo_solve\u001B[0m:\u001B[36m423\u001B[0m - \u001B[1mfind solution\u001B[0m\n",
      "\u001B[32m2025-08-06 15:53:55.066\u001B[0m | \u001B[1mINFO    \u001B[0m | \u001B[36msrc.vrp_study.pdptw_model.routing_model\u001B[0m:\u001B[36mfind_optimal_paths\u001B[0m:\u001B[36m451\u001B[0m - \u001B[1mbest_score: 1\u001B[0m\n",
      "\u001B[32m2025-08-06 15:53:55.066\u001B[0m | \u001B[1mINFO    \u001B[0m | \u001B[36msrc.vrp_study.pdptw_model.routing_model\u001B[0m:\u001B[36mdo_solve\u001B[0m:\u001B[36m378\u001B[0m - \u001B[1mНачало создания модели\u001B[0m\n",
      "\u001B[32m2025-08-06 15:53:55.067\u001B[0m | \u001B[1mINFO    \u001B[0m | \u001B[36msrc.vrp_study.pdptw_model.routing_model\u001B[0m:\u001B[36madd_distance_dimension\u001B[0m:\u001B[36m299\u001B[0m - \u001B[1mДобавление размерности для расстояния\u001B[0m\n",
      "\u001B[32m2025-08-06 15:53:55.067\u001B[0m | \u001B[1mINFO    \u001B[0m | \u001B[36msrc.vrp_study.pdptw_model.routing_model\u001B[0m:\u001B[36madd_count_dimension\u001B[0m:\u001B[36m335\u001B[0m - \u001B[1mДобавление размерности для расстояния\u001B[0m\n",
      "\u001B[32m2025-08-06 15:53:55.068\u001B[0m | \u001B[1mINFO    \u001B[0m | \u001B[36msrc.vrp_study.pdptw_model.routing_model\u001B[0m:\u001B[36madd_pick_up_and_delivery\u001B[0m:\u001B[36m269\u001B[0m - \u001B[1mДобавление ограничения для порядка доставки\u001B[0m\n",
      "\u001B[32m2025-08-06 15:53:55.068\u001B[0m | \u001B[1mINFO    \u001B[0m | \u001B[36msrc.vrp_study.pdptw_model.routing_model\u001B[0m:\u001B[36madd_vehicles_cost\u001B[0m:\u001B[36m243\u001B[0m - \u001B[1mДобавление стоимостей машин\u001B[0m\n",
      "\u001B[32m2025-08-06 15:53:55.068\u001B[0m | \u001B[1mINFO    \u001B[0m | \u001B[36msrc.vrp_study.pdptw_model.routing_model\u001B[0m:\u001B[36madd_time_window\u001B[0m:\u001B[36m194\u001B[0m - \u001B[1madd time\u001B[0m\n",
      "\u001B[32m2025-08-06 15:53:55.068\u001B[0m | \u001B[1mINFO    \u001B[0m | \u001B[36msrc.vrp_study.pdptw_model.routing_model\u001B[0m:\u001B[36madd_mass_constraint\u001B[0m:\u001B[36m177\u001B[0m - \u001B[1mДобавление ограничений для массы\u001B[0m\n",
      "\u001B[32m2025-08-06 15:53:55.069\u001B[0m | \u001B[1mINFO    \u001B[0m | \u001B[36msrc.vrp_study.pdptw_model.routing_model\u001B[0m:\u001B[36mdo_solve\u001B[0m:\u001B[36m407\u001B[0m - \u001B[1mНачало решения\u001B[0m\n",
      "\u001B[32m2025-08-06 15:53:55.069\u001B[0m | \u001B[1mINFO    \u001B[0m | \u001B[36msrc.vrp_study.pdptw_model.routing_model\u001B[0m:\u001B[36mdo_solve\u001B[0m:\u001B[36m410\u001B[0m - \u001B[1muse initial_solution: 1\u001B[0m\n",
      "\u001B[32m2025-08-06 15:53:55.070\u001B[0m | \u001B[34m\u001B[1mDEBUG   \u001B[0m | \u001B[36msrc.vrp_study.pdptw_model.routing_model\u001B[0m:\u001B[36m__call__\u001B[0m:\u001B[36m40\u001B[0m - \u001B[34m\u001B[1mtime: 0.001; new solution (1): 7205; best solution: 7205\u001B[0m\n",
      "\u001B[32m2025-08-06 15:53:55.070\u001B[0m | \u001B[34m\u001B[1mDEBUG   \u001B[0m | \u001B[36msrc.vrp_study.pdptw_model.routing_model\u001B[0m:\u001B[36m__call__\u001B[0m:\u001B[36m40\u001B[0m - \u001B[34m\u001B[1mtime: 0.002; new solution (2): 7205; best solution: 7205\u001B[0m\n",
      "\u001B[32m2025-08-06 15:53:55.072\u001B[0m | \u001B[1mINFO    \u001B[0m | \u001B[36msrc.vrp_study.pdptw_model.routing_model\u001B[0m:\u001B[36mdo_solve\u001B[0m:\u001B[36m423\u001B[0m - \u001B[1mfind solution\u001B[0m\n",
      "\u001B[32m2025-08-06 15:53:55.073\u001B[0m | \u001B[1mINFO    \u001B[0m | \u001B[36msrc.vrp_study.pdptw_model.routing_model\u001B[0m:\u001B[36mfind_optimal_paths\u001B[0m:\u001B[36m464\u001B[0m - \u001B[1mbest_score: 72.05\u001B[0m\n",
      "\u001B[32m2025-08-06 15:53:55.074\u001B[0m | \u001B[1mINFO    \u001B[0m | \u001B[36msrc.vrp_study.pdptw_model.solution_builder\u001B[0m:\u001B[36mget_initial_solution\u001B[0m:\u001B[36m138\u001B[0m - \u001B[1m[[0, 1, 2, 0], [], [], [], [], [], [], [], [], [], [], [], [], []]\u001B[0m\n",
      "\u001B[32m2025-08-06 15:53:55.075\u001B[0m | \u001B[1mINFO    \u001B[0m | \u001B[36msrc.vrp_study.pdptw_model.solution_builder\u001B[0m:\u001B[36mget_initial_solution\u001B[0m:\u001B[36m118\u001B[0m - \u001B[1m(1, 32.074999999999996)\u001B[0m\n",
      "\u001B[32m2025-08-06 15:53:55.076\u001B[0m | \u001B[1mINFO    \u001B[0m | \u001B[36msrc.vrp_study.pdptw_model.solution_builder\u001B[0m:\u001B[36mget_initial_solution\u001B[0m:\u001B[36m118\u001B[0m - \u001B[1m(1, 16.0875)\u001B[0m\n",
      "\u001B[32m2025-08-06 15:53:55.076\u001B[0m | \u001B[1mINFO    \u001B[0m | \u001B[36msrc.vrp_study.pdptw_model.solution_builder\u001B[0m:\u001B[36mget_initial_solution\u001B[0m:\u001B[36m118\u001B[0m - \u001B[1m(1, 8.09375)\u001B[0m\n",
      "\u001B[32m2025-08-06 15:53:55.076\u001B[0m | \u001B[1mINFO    \u001B[0m | \u001B[36msrc.vrp_study.pdptw_model.solution_builder\u001B[0m:\u001B[36mget_initial_solution\u001B[0m:\u001B[36m118\u001B[0m - \u001B[1m(1, 4.096875)\u001B[0m\n",
      "\u001B[32m2025-08-06 15:53:55.076\u001B[0m | \u001B[1mINFO    \u001B[0m | \u001B[36msrc.vrp_study.pdptw_model.solution_builder\u001B[0m:\u001B[36mget_initial_solution\u001B[0m:\u001B[36m118\u001B[0m - \u001B[1m(1, 2.0984374999999997)\u001B[0m\n",
      "\u001B[32m2025-08-06 15:53:55.077\u001B[0m | \u001B[1mINFO    \u001B[0m | \u001B[36msrc.vrp_study.pdptw_model.solution_builder\u001B[0m:\u001B[36mget_initial_solution\u001B[0m:\u001B[36m118\u001B[0m - \u001B[1m(3, 1.09921875)\u001B[0m\n",
      "\u001B[32m2025-08-06 15:53:55.077\u001B[0m | \u001B[1mINFO    \u001B[0m | \u001B[36msrc.vrp_study.pdptw_model.solution_builder\u001B[0m:\u001B[36mget_initial_solution\u001B[0m:\u001B[36m118\u001B[0m - \u001B[1m(4, 0.599609375)\u001B[0m\n",
      "\u001B[32m2025-08-06 15:53:55.078\u001B[0m | \u001B[1mINFO    \u001B[0m | \u001B[36msrc.vrp_study.pdptw_model.solution_builder\u001B[0m:\u001B[36mget_initial_solution\u001B[0m:\u001B[36m118\u001B[0m - \u001B[1m(5, 0.3498046875)\u001B[0m\n",
      "\u001B[32m2025-08-06 15:53:55.079\u001B[0m | \u001B[1mINFO    \u001B[0m | \u001B[36msrc.vrp_study.pdptw_model.solution_builder\u001B[0m:\u001B[36mget_initial_solution\u001B[0m:\u001B[36m118\u001B[0m - \u001B[1m(5, 0.22490234375)\u001B[0m\n",
      "\u001B[32m2025-08-06 15:53:55.079\u001B[0m | \u001B[1mINFO    \u001B[0m | \u001B[36msrc.vrp_study.pdptw_model.solution_builder\u001B[0m:\u001B[36mget_initial_solution\u001B[0m:\u001B[36m118\u001B[0m - \u001B[1m(5, 0.16245117187500002)\u001B[0m\n"
     ]
    },
    {
     "data": {
      "text/plain": "  0%|          | 0/2 [00:00<?, ?it/s]",
      "application/vnd.jupyter.widget-view+json": {
       "version_major": 2,
       "version_minor": 0,
       "model_id": "239f782185a84bbbb098d15ad32e2f5b"
      }
     },
     "metadata": {},
     "output_type": "display_data"
    },
    {
     "name": "stderr",
     "output_type": "stream",
     "text": [
      "\u001B[32m2025-08-06 15:53:55.083\u001B[0m | \u001B[1mINFO    \u001B[0m | \u001B[36msrc.vrp_study.pdptw_model.routing_model\u001B[0m:\u001B[36mfind_optimal_paths\u001B[0m:\u001B[36m443\u001B[0m - \u001B[1mproblem size: 11\u001B[0m\n",
      "\u001B[32m2025-08-06 15:53:55.083\u001B[0m | \u001B[1mINFO    \u001B[0m | \u001B[36msrc.vrp_study.pdptw_model.routing_model\u001B[0m:\u001B[36mdo_solve\u001B[0m:\u001B[36m378\u001B[0m - \u001B[1mНачало создания модели\u001B[0m\n",
      "\u001B[32m2025-08-06 15:53:55.083\u001B[0m | \u001B[1mINFO    \u001B[0m | \u001B[36msrc.vrp_study.pdptw_model.routing_model\u001B[0m:\u001B[36madd_distance_dimension\u001B[0m:\u001B[36m299\u001B[0m - \u001B[1mДобавление размерности для расстояния\u001B[0m\n",
      "\u001B[32m2025-08-06 15:53:55.084\u001B[0m | \u001B[1mINFO    \u001B[0m | \u001B[36msrc.vrp_study.pdptw_model.routing_model\u001B[0m:\u001B[36madd_count_dimension\u001B[0m:\u001B[36m335\u001B[0m - \u001B[1mДобавление размерности для расстояния\u001B[0m\n",
      "\u001B[32m2025-08-06 15:53:55.084\u001B[0m | \u001B[1mINFO    \u001B[0m | \u001B[36msrc.vrp_study.pdptw_model.routing_model\u001B[0m:\u001B[36madd_pick_up_and_delivery\u001B[0m:\u001B[36m269\u001B[0m - \u001B[1mДобавление ограничения для порядка доставки\u001B[0m\n",
      "\u001B[32m2025-08-06 15:53:55.084\u001B[0m | \u001B[1mINFO    \u001B[0m | \u001B[36msrc.vrp_study.pdptw_model.routing_model\u001B[0m:\u001B[36madd_time_window\u001B[0m:\u001B[36m194\u001B[0m - \u001B[1madd time\u001B[0m\n",
      "\u001B[32m2025-08-06 15:53:55.084\u001B[0m | \u001B[1mINFO    \u001B[0m | \u001B[36msrc.vrp_study.pdptw_model.routing_model\u001B[0m:\u001B[36madd_mass_constraint\u001B[0m:\u001B[36m177\u001B[0m - \u001B[1mДобавление ограничений для массы\u001B[0m\n",
      "\u001B[32m2025-08-06 15:53:55.086\u001B[0m | \u001B[1mINFO    \u001B[0m | \u001B[36msrc.vrp_study.pdptw_model.routing_model\u001B[0m:\u001B[36mdo_solve\u001B[0m:\u001B[36m407\u001B[0m - \u001B[1mНачало решения\u001B[0m\n",
      "\u001B[32m2025-08-06 15:53:55.090\u001B[0m | \u001B[34m\u001B[1mDEBUG   \u001B[0m | \u001B[36msrc.vrp_study.pdptw_model.routing_model\u001B[0m:\u001B[36m__call__\u001B[0m:\u001B[36m40\u001B[0m - \u001B[34m\u001B[1mtime: 0.005; new solution (1): 1; best solution: 1\u001B[0m\n",
      "\u001B[32m2025-08-06 15:53:55.095\u001B[0m | \u001B[1mINFO    \u001B[0m | \u001B[36msrc.vrp_study.pdptw_model.routing_model\u001B[0m:\u001B[36mdo_solve\u001B[0m:\u001B[36m423\u001B[0m - \u001B[1mfind solution\u001B[0m\n",
      "\u001B[32m2025-08-06 15:53:55.095\u001B[0m | \u001B[1mINFO    \u001B[0m | \u001B[36msrc.vrp_study.pdptw_model.routing_model\u001B[0m:\u001B[36mfind_optimal_paths\u001B[0m:\u001B[36m451\u001B[0m - \u001B[1mbest_score: 1\u001B[0m\n",
      "\u001B[32m2025-08-06 15:53:55.096\u001B[0m | \u001B[1mINFO    \u001B[0m | \u001B[36msrc.vrp_study.pdptw_model.routing_model\u001B[0m:\u001B[36mdo_solve\u001B[0m:\u001B[36m378\u001B[0m - \u001B[1mНачало создания модели\u001B[0m\n",
      "\u001B[32m2025-08-06 15:53:55.096\u001B[0m | \u001B[1mINFO    \u001B[0m | \u001B[36msrc.vrp_study.pdptw_model.routing_model\u001B[0m:\u001B[36madd_distance_dimension\u001B[0m:\u001B[36m299\u001B[0m - \u001B[1mДобавление размерности для расстояния\u001B[0m\n",
      "\u001B[32m2025-08-06 15:53:55.097\u001B[0m | \u001B[1mINFO    \u001B[0m | \u001B[36msrc.vrp_study.pdptw_model.routing_model\u001B[0m:\u001B[36madd_count_dimension\u001B[0m:\u001B[36m335\u001B[0m - \u001B[1mДобавление размерности для расстояния\u001B[0m\n",
      "\u001B[32m2025-08-06 15:53:55.097\u001B[0m | \u001B[1mINFO    \u001B[0m | \u001B[36msrc.vrp_study.pdptw_model.routing_model\u001B[0m:\u001B[36madd_pick_up_and_delivery\u001B[0m:\u001B[36m269\u001B[0m - \u001B[1mДобавление ограничения для порядка доставки\u001B[0m\n",
      "\u001B[32m2025-08-06 15:53:55.097\u001B[0m | \u001B[1mINFO    \u001B[0m | \u001B[36msrc.vrp_study.pdptw_model.routing_model\u001B[0m:\u001B[36madd_vehicles_cost\u001B[0m:\u001B[36m243\u001B[0m - \u001B[1mДобавление стоимостей машин\u001B[0m\n",
      "\u001B[32m2025-08-06 15:53:55.098\u001B[0m | \u001B[1mINFO    \u001B[0m | \u001B[36msrc.vrp_study.pdptw_model.routing_model\u001B[0m:\u001B[36madd_time_window\u001B[0m:\u001B[36m194\u001B[0m - \u001B[1madd time\u001B[0m\n",
      "\u001B[32m2025-08-06 15:53:55.098\u001B[0m | \u001B[1mINFO    \u001B[0m | \u001B[36msrc.vrp_study.pdptw_model.routing_model\u001B[0m:\u001B[36madd_mass_constraint\u001B[0m:\u001B[36m177\u001B[0m - \u001B[1mДобавление ограничений для массы\u001B[0m\n",
      "\u001B[32m2025-08-06 15:53:55.099\u001B[0m | \u001B[1mINFO    \u001B[0m | \u001B[36msrc.vrp_study.pdptw_model.routing_model\u001B[0m:\u001B[36mdo_solve\u001B[0m:\u001B[36m407\u001B[0m - \u001B[1mНачало решения\u001B[0m\n",
      "\u001B[32m2025-08-06 15:53:55.099\u001B[0m | \u001B[1mINFO    \u001B[0m | \u001B[36msrc.vrp_study.pdptw_model.routing_model\u001B[0m:\u001B[36mdo_solve\u001B[0m:\u001B[36m410\u001B[0m - \u001B[1muse initial_solution: 1\u001B[0m\n",
      "\u001B[32m2025-08-06 15:53:55.099\u001B[0m | \u001B[34m\u001B[1mDEBUG   \u001B[0m | \u001B[36msrc.vrp_study.pdptw_model.routing_model\u001B[0m:\u001B[36m__call__\u001B[0m:\u001B[36m40\u001B[0m - \u001B[34m\u001B[1mtime: 0.001; new solution (1): 5681; best solution: 5681\u001B[0m\n",
      "\u001B[32m2025-08-06 15:53:55.100\u001B[0m | \u001B[34m\u001B[1mDEBUG   \u001B[0m | \u001B[36msrc.vrp_study.pdptw_model.routing_model\u001B[0m:\u001B[36m__call__\u001B[0m:\u001B[36m40\u001B[0m - \u001B[34m\u001B[1mtime: 0.001; new solution (2): 5681; best solution: 5681\u001B[0m\n",
      "\u001B[32m2025-08-06 15:53:55.105\u001B[0m | \u001B[1mINFO    \u001B[0m | \u001B[36msrc.vrp_study.pdptw_model.routing_model\u001B[0m:\u001B[36mdo_solve\u001B[0m:\u001B[36m423\u001B[0m - \u001B[1mfind solution\u001B[0m\n",
      "\u001B[32m2025-08-06 15:53:55.106\u001B[0m | \u001B[1mINFO    \u001B[0m | \u001B[36msrc.vrp_study.pdptw_model.routing_model\u001B[0m:\u001B[36mfind_optimal_paths\u001B[0m:\u001B[36m464\u001B[0m - \u001B[1mbest_score: 56.81\u001B[0m\n",
      "\u001B[32m2025-08-06 15:53:55.107\u001B[0m | \u001B[1mINFO    \u001B[0m | \u001B[36msrc.vrp_study.pdptw_model.solution_builder\u001B[0m:\u001B[36mget_initial_solution\u001B[0m:\u001B[36m138\u001B[0m - \u001B[1m[[0, 1, 9, 5, 3, 6, 10, 2, 7, 8, 4, 0], [], [], [], [], [], [], [], [], [], [], [], []]\u001B[0m\n",
      "\u001B[32m2025-08-06 15:53:55.108\u001B[0m | \u001B[1mINFO    \u001B[0m | \u001B[36msrc.vrp_study.pdptw_model.routing_model\u001B[0m:\u001B[36mfind_optimal_paths\u001B[0m:\u001B[36m443\u001B[0m - \u001B[1mproblem size: 3\u001B[0m\n",
      "\u001B[32m2025-08-06 15:53:55.108\u001B[0m | \u001B[1mINFO    \u001B[0m | \u001B[36msrc.vrp_study.pdptw_model.routing_model\u001B[0m:\u001B[36mdo_solve\u001B[0m:\u001B[36m378\u001B[0m - \u001B[1mНачало создания модели\u001B[0m\n",
      "\u001B[32m2025-08-06 15:53:55.109\u001B[0m | \u001B[1mINFO    \u001B[0m | \u001B[36msrc.vrp_study.pdptw_model.routing_model\u001B[0m:\u001B[36madd_distance_dimension\u001B[0m:\u001B[36m299\u001B[0m - \u001B[1mДобавление размерности для расстояния\u001B[0m\n",
      "\u001B[32m2025-08-06 15:53:55.109\u001B[0m | \u001B[1mINFO    \u001B[0m | \u001B[36msrc.vrp_study.pdptw_model.routing_model\u001B[0m:\u001B[36madd_count_dimension\u001B[0m:\u001B[36m335\u001B[0m - \u001B[1mДобавление размерности для расстояния\u001B[0m\n",
      "\u001B[32m2025-08-06 15:53:55.109\u001B[0m | \u001B[1mINFO    \u001B[0m | \u001B[36msrc.vrp_study.pdptw_model.routing_model\u001B[0m:\u001B[36madd_pick_up_and_delivery\u001B[0m:\u001B[36m269\u001B[0m - \u001B[1mДобавление ограничения для порядка доставки\u001B[0m\n",
      "\u001B[32m2025-08-06 15:53:55.110\u001B[0m | \u001B[1mINFO    \u001B[0m | \u001B[36msrc.vrp_study.pdptw_model.routing_model\u001B[0m:\u001B[36madd_time_window\u001B[0m:\u001B[36m194\u001B[0m - \u001B[1madd time\u001B[0m\n",
      "\u001B[32m2025-08-06 15:53:55.110\u001B[0m | \u001B[1mINFO    \u001B[0m | \u001B[36msrc.vrp_study.pdptw_model.routing_model\u001B[0m:\u001B[36madd_mass_constraint\u001B[0m:\u001B[36m177\u001B[0m - \u001B[1mДобавление ограничений для массы\u001B[0m\n",
      "\u001B[32m2025-08-06 15:53:55.110\u001B[0m | \u001B[1mINFO    \u001B[0m | \u001B[36msrc.vrp_study.pdptw_model.routing_model\u001B[0m:\u001B[36mdo_solve\u001B[0m:\u001B[36m407\u001B[0m - \u001B[1mНачало решения\u001B[0m\n",
      "\u001B[32m2025-08-06 15:53:55.112\u001B[0m | \u001B[34m\u001B[1mDEBUG   \u001B[0m | \u001B[36msrc.vrp_study.pdptw_model.routing_model\u001B[0m:\u001B[36m__call__\u001B[0m:\u001B[36m40\u001B[0m - \u001B[34m\u001B[1mtime: 0.002; new solution (1): 1; best solution: 1\u001B[0m\n",
      "\u001B[32m2025-08-06 15:53:55.112\u001B[0m | \u001B[1mINFO    \u001B[0m | \u001B[36msrc.vrp_study.pdptw_model.routing_model\u001B[0m:\u001B[36mdo_solve\u001B[0m:\u001B[36m423\u001B[0m - \u001B[1mfind solution\u001B[0m\n",
      "\u001B[32m2025-08-06 15:53:55.113\u001B[0m | \u001B[1mINFO    \u001B[0m | \u001B[36msrc.vrp_study.pdptw_model.routing_model\u001B[0m:\u001B[36mfind_optimal_paths\u001B[0m:\u001B[36m451\u001B[0m - \u001B[1mbest_score: 1\u001B[0m\n",
      "\u001B[32m2025-08-06 15:53:55.113\u001B[0m | \u001B[1mINFO    \u001B[0m | \u001B[36msrc.vrp_study.pdptw_model.routing_model\u001B[0m:\u001B[36mdo_solve\u001B[0m:\u001B[36m378\u001B[0m - \u001B[1mНачало создания модели\u001B[0m\n",
      "\u001B[32m2025-08-06 15:53:55.113\u001B[0m | \u001B[1mINFO    \u001B[0m | \u001B[36msrc.vrp_study.pdptw_model.routing_model\u001B[0m:\u001B[36madd_distance_dimension\u001B[0m:\u001B[36m299\u001B[0m - \u001B[1mДобавление размерности для расстояния\u001B[0m\n",
      "\u001B[32m2025-08-06 15:53:55.114\u001B[0m | \u001B[1mINFO    \u001B[0m | \u001B[36msrc.vrp_study.pdptw_model.routing_model\u001B[0m:\u001B[36madd_count_dimension\u001B[0m:\u001B[36m335\u001B[0m - \u001B[1mДобавление размерности для расстояния\u001B[0m\n",
      "\u001B[32m2025-08-06 15:53:55.114\u001B[0m | \u001B[1mINFO    \u001B[0m | \u001B[36msrc.vrp_study.pdptw_model.routing_model\u001B[0m:\u001B[36madd_pick_up_and_delivery\u001B[0m:\u001B[36m269\u001B[0m - \u001B[1mДобавление ограничения для порядка доставки\u001B[0m\n",
      "\u001B[32m2025-08-06 15:53:55.114\u001B[0m | \u001B[1mINFO    \u001B[0m | \u001B[36msrc.vrp_study.pdptw_model.routing_model\u001B[0m:\u001B[36madd_vehicles_cost\u001B[0m:\u001B[36m243\u001B[0m - \u001B[1mДобавление стоимостей машин\u001B[0m\n",
      "\u001B[32m2025-08-06 15:53:55.114\u001B[0m | \u001B[1mINFO    \u001B[0m | \u001B[36msrc.vrp_study.pdptw_model.routing_model\u001B[0m:\u001B[36madd_time_window\u001B[0m:\u001B[36m194\u001B[0m - \u001B[1madd time\u001B[0m\n",
      "\u001B[32m2025-08-06 15:53:55.114\u001B[0m | \u001B[1mINFO    \u001B[0m | \u001B[36msrc.vrp_study.pdptw_model.routing_model\u001B[0m:\u001B[36madd_mass_constraint\u001B[0m:\u001B[36m177\u001B[0m - \u001B[1mДобавление ограничений для массы\u001B[0m\n",
      "\u001B[32m2025-08-06 15:53:55.115\u001B[0m | \u001B[1mINFO    \u001B[0m | \u001B[36msrc.vrp_study.pdptw_model.routing_model\u001B[0m:\u001B[36mdo_solve\u001B[0m:\u001B[36m407\u001B[0m - \u001B[1mНачало решения\u001B[0m\n",
      "\u001B[32m2025-08-06 15:53:55.115\u001B[0m | \u001B[1mINFO    \u001B[0m | \u001B[36msrc.vrp_study.pdptw_model.routing_model\u001B[0m:\u001B[36mdo_solve\u001B[0m:\u001B[36m410\u001B[0m - \u001B[1muse initial_solution: 1\u001B[0m\n",
      "\u001B[32m2025-08-06 15:53:55.116\u001B[0m | \u001B[34m\u001B[1mDEBUG   \u001B[0m | \u001B[36msrc.vrp_study.pdptw_model.routing_model\u001B[0m:\u001B[36m__call__\u001B[0m:\u001B[36m40\u001B[0m - \u001B[34m\u001B[1mtime: 0.001; new solution (1): 3436; best solution: 3436\u001B[0m\n",
      "\u001B[32m2025-08-06 15:53:55.116\u001B[0m | \u001B[34m\u001B[1mDEBUG   \u001B[0m | \u001B[36msrc.vrp_study.pdptw_model.routing_model\u001B[0m:\u001B[36m__call__\u001B[0m:\u001B[36m40\u001B[0m - \u001B[34m\u001B[1mtime: 0.001; new solution (2): 3436; best solution: 3436\u001B[0m\n",
      "\u001B[32m2025-08-06 15:53:55.116\u001B[0m | \u001B[1mINFO    \u001B[0m | \u001B[36msrc.vrp_study.pdptw_model.routing_model\u001B[0m:\u001B[36mdo_solve\u001B[0m:\u001B[36m423\u001B[0m - \u001B[1mfind solution\u001B[0m\n",
      "\u001B[32m2025-08-06 15:53:55.117\u001B[0m | \u001B[1mINFO    \u001B[0m | \u001B[36msrc.vrp_study.pdptw_model.routing_model\u001B[0m:\u001B[36mfind_optimal_paths\u001B[0m:\u001B[36m464\u001B[0m - \u001B[1mbest_score: 34.36\u001B[0m\n",
      "\u001B[32m2025-08-06 15:53:55.117\u001B[0m | \u001B[1mINFO    \u001B[0m | \u001B[36msrc.vrp_study.pdptw_model.solution_builder\u001B[0m:\u001B[36mget_initial_solution\u001B[0m:\u001B[36m138\u001B[0m - \u001B[1m[[0, 1, 2, 0], [], [], [], [], [], [], [], [], [], [], []]\u001B[0m\n",
      "\u001B[32m2025-08-06 15:53:55.118\u001B[0m | \u001B[1mINFO    \u001B[0m | \u001B[36msrc.vrp_study.pdptw_model.solution_builder\u001B[0m:\u001B[36mget_initial_solution\u001B[0m:\u001B[36m118\u001B[0m - \u001B[1m(1, 32.074999999999996)\u001B[0m\n",
      "\u001B[32m2025-08-06 15:53:55.118\u001B[0m | \u001B[1mINFO    \u001B[0m | \u001B[36msrc.vrp_study.pdptw_model.solution_builder\u001B[0m:\u001B[36mget_initial_solution\u001B[0m:\u001B[36m118\u001B[0m - \u001B[1m(1, 16.0875)\u001B[0m\n",
      "\u001B[32m2025-08-06 15:53:55.119\u001B[0m | \u001B[1mINFO    \u001B[0m | \u001B[36msrc.vrp_study.pdptw_model.solution_builder\u001B[0m:\u001B[36mget_initial_solution\u001B[0m:\u001B[36m118\u001B[0m - \u001B[1m(1, 8.09375)\u001B[0m\n",
      "\u001B[32m2025-08-06 15:53:55.119\u001B[0m | \u001B[1mINFO    \u001B[0m | \u001B[36msrc.vrp_study.pdptw_model.solution_builder\u001B[0m:\u001B[36mget_initial_solution\u001B[0m:\u001B[36m118\u001B[0m - \u001B[1m(1, 4.096875)\u001B[0m\n",
      "\u001B[32m2025-08-06 15:53:55.119\u001B[0m | \u001B[1mINFO    \u001B[0m | \u001B[36msrc.vrp_study.pdptw_model.solution_builder\u001B[0m:\u001B[36mget_initial_solution\u001B[0m:\u001B[36m118\u001B[0m - \u001B[1m(1, 2.0984374999999997)\u001B[0m\n",
      "\u001B[32m2025-08-06 15:53:55.120\u001B[0m | \u001B[1mINFO    \u001B[0m | \u001B[36msrc.vrp_study.pdptw_model.solution_builder\u001B[0m:\u001B[36mget_initial_solution\u001B[0m:\u001B[36m118\u001B[0m - \u001B[1m(1, 1.09921875)\u001B[0m\n",
      "\u001B[32m2025-08-06 15:53:55.120\u001B[0m | \u001B[1mINFO    \u001B[0m | \u001B[36msrc.vrp_study.pdptw_model.solution_builder\u001B[0m:\u001B[36mget_initial_solution\u001B[0m:\u001B[36m118\u001B[0m - \u001B[1m(3, 0.599609375)\u001B[0m\n",
      "\u001B[32m2025-08-06 15:53:55.121\u001B[0m | \u001B[1mINFO    \u001B[0m | \u001B[36msrc.vrp_study.pdptw_model.solution_builder\u001B[0m:\u001B[36mget_initial_solution\u001B[0m:\u001B[36m118\u001B[0m - \u001B[1m(5, 0.3498046875)\u001B[0m\n",
      "\u001B[32m2025-08-06 15:53:55.123\u001B[0m | \u001B[1mINFO    \u001B[0m | \u001B[36msrc.vrp_study.pdptw_model.solution_builder\u001B[0m:\u001B[36mget_initial_solution\u001B[0m:\u001B[36m118\u001B[0m - \u001B[1m(5, 0.22490234375)\u001B[0m\n",
      "\u001B[32m2025-08-06 15:53:55.124\u001B[0m | \u001B[1mINFO    \u001B[0m | \u001B[36msrc.vrp_study.pdptw_model.solution_builder\u001B[0m:\u001B[36mget_initial_solution\u001B[0m:\u001B[36m118\u001B[0m - \u001B[1m(5, 0.16245117187500002)\u001B[0m\n"
     ]
    },
    {
     "data": {
      "text/plain": "  0%|          | 0/1 [00:00<?, ?it/s]",
      "application/vnd.jupyter.widget-view+json": {
       "version_major": 2,
       "version_minor": 0,
       "model_id": "80011d8aa1f2410fb04555ca4bb9ed38"
      }
     },
     "metadata": {},
     "output_type": "display_data"
    },
    {
     "name": "stderr",
     "output_type": "stream",
     "text": [
      "\u001B[32m2025-08-06 15:53:55.129\u001B[0m | \u001B[1mINFO    \u001B[0m | \u001B[36msrc.vrp_study.pdptw_model.routing_model\u001B[0m:\u001B[36mfind_optimal_paths\u001B[0m:\u001B[36m443\u001B[0m - \u001B[1mproblem size: 11\u001B[0m\n",
      "\u001B[32m2025-08-06 15:53:55.129\u001B[0m | \u001B[1mINFO    \u001B[0m | \u001B[36msrc.vrp_study.pdptw_model.routing_model\u001B[0m:\u001B[36mdo_solve\u001B[0m:\u001B[36m378\u001B[0m - \u001B[1mНачало создания модели\u001B[0m\n",
      "\u001B[32m2025-08-06 15:53:55.130\u001B[0m | \u001B[1mINFO    \u001B[0m | \u001B[36msrc.vrp_study.pdptw_model.routing_model\u001B[0m:\u001B[36madd_distance_dimension\u001B[0m:\u001B[36m299\u001B[0m - \u001B[1mДобавление размерности для расстояния\u001B[0m\n",
      "\u001B[32m2025-08-06 15:53:55.130\u001B[0m | \u001B[1mINFO    \u001B[0m | \u001B[36msrc.vrp_study.pdptw_model.routing_model\u001B[0m:\u001B[36madd_count_dimension\u001B[0m:\u001B[36m335\u001B[0m - \u001B[1mДобавление размерности для расстояния\u001B[0m\n",
      "\u001B[32m2025-08-06 15:53:55.130\u001B[0m | \u001B[1mINFO    \u001B[0m | \u001B[36msrc.vrp_study.pdptw_model.routing_model\u001B[0m:\u001B[36madd_pick_up_and_delivery\u001B[0m:\u001B[36m269\u001B[0m - \u001B[1mДобавление ограничения для порядка доставки\u001B[0m\n",
      "\u001B[32m2025-08-06 15:53:55.130\u001B[0m | \u001B[1mINFO    \u001B[0m | \u001B[36msrc.vrp_study.pdptw_model.routing_model\u001B[0m:\u001B[36madd_time_window\u001B[0m:\u001B[36m194\u001B[0m - \u001B[1madd time\u001B[0m\n",
      "\u001B[32m2025-08-06 15:53:55.131\u001B[0m | \u001B[1mINFO    \u001B[0m | \u001B[36msrc.vrp_study.pdptw_model.routing_model\u001B[0m:\u001B[36madd_mass_constraint\u001B[0m:\u001B[36m177\u001B[0m - \u001B[1mДобавление ограничений для массы\u001B[0m\n",
      "\u001B[32m2025-08-06 15:53:55.131\u001B[0m | \u001B[1mINFO    \u001B[0m | \u001B[36msrc.vrp_study.pdptw_model.routing_model\u001B[0m:\u001B[36mdo_solve\u001B[0m:\u001B[36m407\u001B[0m - \u001B[1mНачало решения\u001B[0m\n",
      "\u001B[32m2025-08-06 15:53:55.133\u001B[0m | \u001B[34m\u001B[1mDEBUG   \u001B[0m | \u001B[36msrc.vrp_study.pdptw_model.routing_model\u001B[0m:\u001B[36m__call__\u001B[0m:\u001B[36m40\u001B[0m - \u001B[34m\u001B[1mtime: 0.002; new solution (1): 1; best solution: 1\u001B[0m\n",
      "\u001B[32m2025-08-06 15:53:55.137\u001B[0m | \u001B[1mINFO    \u001B[0m | \u001B[36msrc.vrp_study.pdptw_model.routing_model\u001B[0m:\u001B[36mdo_solve\u001B[0m:\u001B[36m423\u001B[0m - \u001B[1mfind solution\u001B[0m\n",
      "\u001B[32m2025-08-06 15:53:55.138\u001B[0m | \u001B[1mINFO    \u001B[0m | \u001B[36msrc.vrp_study.pdptw_model.routing_model\u001B[0m:\u001B[36mfind_optimal_paths\u001B[0m:\u001B[36m451\u001B[0m - \u001B[1mbest_score: 1\u001B[0m\n",
      "\u001B[32m2025-08-06 15:53:55.138\u001B[0m | \u001B[1mINFO    \u001B[0m | \u001B[36msrc.vrp_study.pdptw_model.routing_model\u001B[0m:\u001B[36mdo_solve\u001B[0m:\u001B[36m378\u001B[0m - \u001B[1mНачало создания модели\u001B[0m\n",
      "\u001B[32m2025-08-06 15:53:55.139\u001B[0m | \u001B[1mINFO    \u001B[0m | \u001B[36msrc.vrp_study.pdptw_model.routing_model\u001B[0m:\u001B[36madd_distance_dimension\u001B[0m:\u001B[36m299\u001B[0m - \u001B[1mДобавление размерности для расстояния\u001B[0m\n",
      "\u001B[32m2025-08-06 15:53:55.139\u001B[0m | \u001B[1mINFO    \u001B[0m | \u001B[36msrc.vrp_study.pdptw_model.routing_model\u001B[0m:\u001B[36madd_count_dimension\u001B[0m:\u001B[36m335\u001B[0m - \u001B[1mДобавление размерности для расстояния\u001B[0m\n",
      "\u001B[32m2025-08-06 15:53:55.139\u001B[0m | \u001B[1mINFO    \u001B[0m | \u001B[36msrc.vrp_study.pdptw_model.routing_model\u001B[0m:\u001B[36madd_pick_up_and_delivery\u001B[0m:\u001B[36m269\u001B[0m - \u001B[1mДобавление ограничения для порядка доставки\u001B[0m\n",
      "\u001B[32m2025-08-06 15:53:55.139\u001B[0m | \u001B[1mINFO    \u001B[0m | \u001B[36msrc.vrp_study.pdptw_model.routing_model\u001B[0m:\u001B[36madd_vehicles_cost\u001B[0m:\u001B[36m243\u001B[0m - \u001B[1mДобавление стоимостей машин\u001B[0m\n",
      "\u001B[32m2025-08-06 15:53:55.140\u001B[0m | \u001B[1mINFO    \u001B[0m | \u001B[36msrc.vrp_study.pdptw_model.routing_model\u001B[0m:\u001B[36madd_time_window\u001B[0m:\u001B[36m194\u001B[0m - \u001B[1madd time\u001B[0m\n",
      "\u001B[32m2025-08-06 15:53:55.140\u001B[0m | \u001B[1mINFO    \u001B[0m | \u001B[36msrc.vrp_study.pdptw_model.routing_model\u001B[0m:\u001B[36madd_mass_constraint\u001B[0m:\u001B[36m177\u001B[0m - \u001B[1mДобавление ограничений для массы\u001B[0m\n",
      "\u001B[32m2025-08-06 15:53:55.141\u001B[0m | \u001B[1mINFO    \u001B[0m | \u001B[36msrc.vrp_study.pdptw_model.routing_model\u001B[0m:\u001B[36mdo_solve\u001B[0m:\u001B[36m407\u001B[0m - \u001B[1mНачало решения\u001B[0m\n",
      "\u001B[32m2025-08-06 15:53:55.141\u001B[0m | \u001B[1mINFO    \u001B[0m | \u001B[36msrc.vrp_study.pdptw_model.routing_model\u001B[0m:\u001B[36mdo_solve\u001B[0m:\u001B[36m410\u001B[0m - \u001B[1muse initial_solution: 1\u001B[0m\n",
      "\u001B[32m2025-08-06 15:53:55.141\u001B[0m | \u001B[34m\u001B[1mDEBUG   \u001B[0m | \u001B[36msrc.vrp_study.pdptw_model.routing_model\u001B[0m:\u001B[36m__call__\u001B[0m:\u001B[36m40\u001B[0m - \u001B[34m\u001B[1mtime: 0.001; new solution (1): 12728; best solution: 12728\u001B[0m\n",
      "\u001B[32m2025-08-06 15:53:55.141\u001B[0m | \u001B[34m\u001B[1mDEBUG   \u001B[0m | \u001B[36msrc.vrp_study.pdptw_model.routing_model\u001B[0m:\u001B[36m__call__\u001B[0m:\u001B[36m40\u001B[0m - \u001B[34m\u001B[1mtime: 0.001; new solution (2): 12728; best solution: 12728\u001B[0m\n",
      "\u001B[32m2025-08-06 15:53:55.146\u001B[0m | \u001B[1mINFO    \u001B[0m | \u001B[36msrc.vrp_study.pdptw_model.routing_model\u001B[0m:\u001B[36mdo_solve\u001B[0m:\u001B[36m423\u001B[0m - \u001B[1mfind solution\u001B[0m\n",
      "\u001B[32m2025-08-06 15:53:55.147\u001B[0m | \u001B[1mINFO    \u001B[0m | \u001B[36msrc.vrp_study.pdptw_model.routing_model\u001B[0m:\u001B[36mfind_optimal_paths\u001B[0m:\u001B[36m464\u001B[0m - \u001B[1mbest_score: 127.28\u001B[0m\n",
      "\u001B[32m2025-08-06 15:53:55.148\u001B[0m | \u001B[1mINFO    \u001B[0m | \u001B[36msrc.vrp_study.pdptw_model.solution_builder\u001B[0m:\u001B[36mget_initial_solution\u001B[0m:\u001B[36m138\u001B[0m - \u001B[1m[[0, 1, 7, 8, 5, 3, 2, 6, 4, 9, 10, 0], [], [], [], [], [], [], [], [], [], []]\u001B[0m\n",
      "\u001B[32m2025-08-06 15:53:55.153\u001B[0m | \u001B[1mINFO    \u001B[0m | \u001B[36msrc.vrp_study.pdptw_model.solution_builder\u001B[0m:\u001B[36mget_initial_solution\u001B[0m:\u001B[36m118\u001B[0m - \u001B[1m(1, 32.074999999999996)\u001B[0m\n",
      "\u001B[32m2025-08-06 15:53:55.153\u001B[0m | \u001B[1mINFO    \u001B[0m | \u001B[36msrc.vrp_study.pdptw_model.solution_builder\u001B[0m:\u001B[36mget_initial_solution\u001B[0m:\u001B[36m118\u001B[0m - \u001B[1m(1, 16.0875)\u001B[0m\n",
      "\u001B[32m2025-08-06 15:53:55.154\u001B[0m | \u001B[1mINFO    \u001B[0m | \u001B[36msrc.vrp_study.pdptw_model.solution_builder\u001B[0m:\u001B[36mget_initial_solution\u001B[0m:\u001B[36m118\u001B[0m - \u001B[1m(1, 8.09375)\u001B[0m\n",
      "\u001B[32m2025-08-06 15:53:55.154\u001B[0m | \u001B[1mINFO    \u001B[0m | \u001B[36msrc.vrp_study.pdptw_model.solution_builder\u001B[0m:\u001B[36mget_initial_solution\u001B[0m:\u001B[36m118\u001B[0m - \u001B[1m(1, 4.096875)\u001B[0m\n",
      "\u001B[32m2025-08-06 15:53:55.154\u001B[0m | \u001B[1mINFO    \u001B[0m | \u001B[36msrc.vrp_study.pdptw_model.solution_builder\u001B[0m:\u001B[36mget_initial_solution\u001B[0m:\u001B[36m118\u001B[0m - \u001B[1m(1, 2.0984374999999997)\u001B[0m\n",
      "\u001B[32m2025-08-06 15:53:55.155\u001B[0m | \u001B[1mINFO    \u001B[0m | \u001B[36msrc.vrp_study.pdptw_model.solution_builder\u001B[0m:\u001B[36mget_initial_solution\u001B[0m:\u001B[36m118\u001B[0m - \u001B[1m(2, 1.09921875)\u001B[0m\n",
      "\u001B[32m2025-08-06 15:53:55.155\u001B[0m | \u001B[1mINFO    \u001B[0m | \u001B[36msrc.vrp_study.pdptw_model.solution_builder\u001B[0m:\u001B[36mget_initial_solution\u001B[0m:\u001B[36m118\u001B[0m - \u001B[1m(3, 0.599609375)\u001B[0m\n",
      "\u001B[32m2025-08-06 15:53:55.155\u001B[0m | \u001B[1mINFO    \u001B[0m | \u001B[36msrc.vrp_study.pdptw_model.solution_builder\u001B[0m:\u001B[36mget_initial_solution\u001B[0m:\u001B[36m118\u001B[0m - \u001B[1m(5, 0.3498046875)\u001B[0m\n",
      "\u001B[32m2025-08-06 15:53:55.155\u001B[0m | \u001B[1mINFO    \u001B[0m | \u001B[36msrc.vrp_study.pdptw_model.solution_builder\u001B[0m:\u001B[36mget_initial_solution\u001B[0m:\u001B[36m118\u001B[0m - \u001B[1m(5, 0.22490234375)\u001B[0m\n",
      "\u001B[32m2025-08-06 15:53:55.156\u001B[0m | \u001B[1mINFO    \u001B[0m | \u001B[36msrc.vrp_study.pdptw_model.solution_builder\u001B[0m:\u001B[36mget_initial_solution\u001B[0m:\u001B[36m118\u001B[0m - \u001B[1m(5, 0.16245117187500002)\u001B[0m\n"
     ]
    },
    {
     "data": {
      "text/plain": "  0%|          | 0/1 [00:00<?, ?it/s]",
      "application/vnd.jupyter.widget-view+json": {
       "version_major": 2,
       "version_minor": 0,
       "model_id": "fefa56e365264da08d9db0b33e0fac86"
      }
     },
     "metadata": {},
     "output_type": "display_data"
    },
    {
     "name": "stderr",
     "output_type": "stream",
     "text": [
      "\u001B[32m2025-08-06 15:53:55.161\u001B[0m | \u001B[1mINFO    \u001B[0m | \u001B[36msrc.vrp_study.pdptw_model.routing_model\u001B[0m:\u001B[36mfind_optimal_paths\u001B[0m:\u001B[36m443\u001B[0m - \u001B[1mproblem size: 11\u001B[0m\n",
      "\u001B[32m2025-08-06 15:53:55.161\u001B[0m | \u001B[1mINFO    \u001B[0m | \u001B[36msrc.vrp_study.pdptw_model.routing_model\u001B[0m:\u001B[36mdo_solve\u001B[0m:\u001B[36m378\u001B[0m - \u001B[1mНачало создания модели\u001B[0m\n",
      "\u001B[32m2025-08-06 15:53:55.162\u001B[0m | \u001B[1mINFO    \u001B[0m | \u001B[36msrc.vrp_study.pdptw_model.routing_model\u001B[0m:\u001B[36madd_distance_dimension\u001B[0m:\u001B[36m299\u001B[0m - \u001B[1mДобавление размерности для расстояния\u001B[0m\n",
      "\u001B[32m2025-08-06 15:53:55.162\u001B[0m | \u001B[1mINFO    \u001B[0m | \u001B[36msrc.vrp_study.pdptw_model.routing_model\u001B[0m:\u001B[36madd_count_dimension\u001B[0m:\u001B[36m335\u001B[0m - \u001B[1mДобавление размерности для расстояния\u001B[0m\n",
      "\u001B[32m2025-08-06 15:53:55.162\u001B[0m | \u001B[1mINFO    \u001B[0m | \u001B[36msrc.vrp_study.pdptw_model.routing_model\u001B[0m:\u001B[36madd_pick_up_and_delivery\u001B[0m:\u001B[36m269\u001B[0m - \u001B[1mДобавление ограничения для порядка доставки\u001B[0m\n",
      "\u001B[32m2025-08-06 15:53:55.163\u001B[0m | \u001B[1mINFO    \u001B[0m | \u001B[36msrc.vrp_study.pdptw_model.routing_model\u001B[0m:\u001B[36madd_time_window\u001B[0m:\u001B[36m194\u001B[0m - \u001B[1madd time\u001B[0m\n",
      "\u001B[32m2025-08-06 15:53:55.163\u001B[0m | \u001B[1mINFO    \u001B[0m | \u001B[36msrc.vrp_study.pdptw_model.routing_model\u001B[0m:\u001B[36madd_mass_constraint\u001B[0m:\u001B[36m177\u001B[0m - \u001B[1mДобавление ограничений для массы\u001B[0m\n",
      "\u001B[32m2025-08-06 15:53:55.164\u001B[0m | \u001B[1mINFO    \u001B[0m | \u001B[36msrc.vrp_study.pdptw_model.routing_model\u001B[0m:\u001B[36mdo_solve\u001B[0m:\u001B[36m407\u001B[0m - \u001B[1mНачало решения\u001B[0m\n",
      "\u001B[32m2025-08-06 15:53:55.165\u001B[0m | \u001B[34m\u001B[1mDEBUG   \u001B[0m | \u001B[36msrc.vrp_study.pdptw_model.routing_model\u001B[0m:\u001B[36m__call__\u001B[0m:\u001B[36m40\u001B[0m - \u001B[34m\u001B[1mtime: 0.002; new solution (1): 1; best solution: 1\u001B[0m\n",
      "\u001B[32m2025-08-06 15:53:55.169\u001B[0m | \u001B[1mINFO    \u001B[0m | \u001B[36msrc.vrp_study.pdptw_model.routing_model\u001B[0m:\u001B[36mdo_solve\u001B[0m:\u001B[36m423\u001B[0m - \u001B[1mfind solution\u001B[0m\n",
      "\u001B[32m2025-08-06 15:53:55.170\u001B[0m | \u001B[1mINFO    \u001B[0m | \u001B[36msrc.vrp_study.pdptw_model.routing_model\u001B[0m:\u001B[36mfind_optimal_paths\u001B[0m:\u001B[36m451\u001B[0m - \u001B[1mbest_score: 1\u001B[0m\n",
      "\u001B[32m2025-08-06 15:53:55.170\u001B[0m | \u001B[1mINFO    \u001B[0m | \u001B[36msrc.vrp_study.pdptw_model.routing_model\u001B[0m:\u001B[36mdo_solve\u001B[0m:\u001B[36m378\u001B[0m - \u001B[1mНачало создания модели\u001B[0m\n",
      "\u001B[32m2025-08-06 15:53:55.172\u001B[0m | \u001B[1mINFO    \u001B[0m | \u001B[36msrc.vrp_study.pdptw_model.routing_model\u001B[0m:\u001B[36madd_distance_dimension\u001B[0m:\u001B[36m299\u001B[0m - \u001B[1mДобавление размерности для расстояния\u001B[0m\n",
      "\u001B[32m2025-08-06 15:53:55.173\u001B[0m | \u001B[1mINFO    \u001B[0m | \u001B[36msrc.vrp_study.pdptw_model.routing_model\u001B[0m:\u001B[36madd_count_dimension\u001B[0m:\u001B[36m335\u001B[0m - \u001B[1mДобавление размерности для расстояния\u001B[0m\n",
      "\u001B[32m2025-08-06 15:53:55.173\u001B[0m | \u001B[1mINFO    \u001B[0m | \u001B[36msrc.vrp_study.pdptw_model.routing_model\u001B[0m:\u001B[36madd_pick_up_and_delivery\u001B[0m:\u001B[36m269\u001B[0m - \u001B[1mДобавление ограничения для порядка доставки\u001B[0m\n",
      "\u001B[32m2025-08-06 15:53:55.173\u001B[0m | \u001B[1mINFO    \u001B[0m | \u001B[36msrc.vrp_study.pdptw_model.routing_model\u001B[0m:\u001B[36madd_vehicles_cost\u001B[0m:\u001B[36m243\u001B[0m - \u001B[1mДобавление стоимостей машин\u001B[0m\n",
      "\u001B[32m2025-08-06 15:53:55.173\u001B[0m | \u001B[1mINFO    \u001B[0m | \u001B[36msrc.vrp_study.pdptw_model.routing_model\u001B[0m:\u001B[36madd_time_window\u001B[0m:\u001B[36m194\u001B[0m - \u001B[1madd time\u001B[0m\n",
      "\u001B[32m2025-08-06 15:53:55.174\u001B[0m | \u001B[1mINFO    \u001B[0m | \u001B[36msrc.vrp_study.pdptw_model.routing_model\u001B[0m:\u001B[36madd_mass_constraint\u001B[0m:\u001B[36m177\u001B[0m - \u001B[1mДобавление ограничений для массы\u001B[0m\n",
      "\u001B[32m2025-08-06 15:53:55.174\u001B[0m | \u001B[1mINFO    \u001B[0m | \u001B[36msrc.vrp_study.pdptw_model.routing_model\u001B[0m:\u001B[36mdo_solve\u001B[0m:\u001B[36m407\u001B[0m - \u001B[1mНачало решения\u001B[0m\n",
      "\u001B[32m2025-08-06 15:53:55.174\u001B[0m | \u001B[1mINFO    \u001B[0m | \u001B[36msrc.vrp_study.pdptw_model.routing_model\u001B[0m:\u001B[36mdo_solve\u001B[0m:\u001B[36m410\u001B[0m - \u001B[1muse initial_solution: 1\u001B[0m\n",
      "\u001B[32m2025-08-06 15:53:55.175\u001B[0m | \u001B[34m\u001B[1mDEBUG   \u001B[0m | \u001B[36msrc.vrp_study.pdptw_model.routing_model\u001B[0m:\u001B[36m__call__\u001B[0m:\u001B[36m40\u001B[0m - \u001B[34m\u001B[1mtime: 0.001; new solution (1): 7604; best solution: 7604\u001B[0m\n",
      "\u001B[32m2025-08-06 15:53:55.175\u001B[0m | \u001B[34m\u001B[1mDEBUG   \u001B[0m | \u001B[36msrc.vrp_study.pdptw_model.routing_model\u001B[0m:\u001B[36m__call__\u001B[0m:\u001B[36m40\u001B[0m - \u001B[34m\u001B[1mtime: 0.001; new solution (2): 7604; best solution: 7604\u001B[0m\n",
      "\u001B[32m2025-08-06 15:53:55.180\u001B[0m | \u001B[1mINFO    \u001B[0m | \u001B[36msrc.vrp_study.pdptw_model.routing_model\u001B[0m:\u001B[36mdo_solve\u001B[0m:\u001B[36m423\u001B[0m - \u001B[1mfind solution\u001B[0m\n",
      "\u001B[32m2025-08-06 15:53:55.180\u001B[0m | \u001B[1mINFO    \u001B[0m | \u001B[36msrc.vrp_study.pdptw_model.routing_model\u001B[0m:\u001B[36mfind_optimal_paths\u001B[0m:\u001B[36m464\u001B[0m - \u001B[1mbest_score: 76.04\u001B[0m\n",
      "\u001B[32m2025-08-06 15:53:55.180\u001B[0m | \u001B[1mINFO    \u001B[0m | \u001B[36msrc.vrp_study.pdptw_model.solution_builder\u001B[0m:\u001B[36mget_initial_solution\u001B[0m:\u001B[36m138\u001B[0m - \u001B[1m[[0, 9, 3, 7, 4, 1, 5, 2, 10, 6, 8, 0], [], [], [], [], [], [], [], [], []]\u001B[0m\n"
     ]
    },
    {
     "data": {
      "text/plain": "  0%|          | 0/1 [00:00<?, ?it/s]",
      "application/vnd.jupyter.widget-view+json": {
       "version_major": 2,
       "version_minor": 0,
       "model_id": "63cbf1e1cf084759aea6f3728c87d4b2"
      }
     },
     "metadata": {},
     "output_type": "display_data"
    },
    {
     "name": "stderr",
     "output_type": "stream",
     "text": [
      "\u001B[32m2025-08-06 15:53:55.186\u001B[0m | \u001B[1mINFO    \u001B[0m | \u001B[36msrc.vrp_study.pdptw_model.routing_model\u001B[0m:\u001B[36mfind_optimal_paths\u001B[0m:\u001B[36m443\u001B[0m - \u001B[1mproblem size: 3\u001B[0m\n",
      "\u001B[32m2025-08-06 15:53:55.187\u001B[0m | \u001B[1mINFO    \u001B[0m | \u001B[36msrc.vrp_study.pdptw_model.routing_model\u001B[0m:\u001B[36mdo_solve\u001B[0m:\u001B[36m378\u001B[0m - \u001B[1mНачало создания модели\u001B[0m\n",
      "\u001B[32m2025-08-06 15:53:55.187\u001B[0m | \u001B[1mINFO    \u001B[0m | \u001B[36msrc.vrp_study.pdptw_model.routing_model\u001B[0m:\u001B[36madd_distance_dimension\u001B[0m:\u001B[36m299\u001B[0m - \u001B[1mДобавление размерности для расстояния\u001B[0m\n",
      "\u001B[32m2025-08-06 15:53:55.187\u001B[0m | \u001B[1mINFO    \u001B[0m | \u001B[36msrc.vrp_study.pdptw_model.routing_model\u001B[0m:\u001B[36madd_count_dimension\u001B[0m:\u001B[36m335\u001B[0m - \u001B[1mДобавление размерности для расстояния\u001B[0m\n",
      "\u001B[32m2025-08-06 15:53:55.188\u001B[0m | \u001B[1mINFO    \u001B[0m | \u001B[36msrc.vrp_study.pdptw_model.routing_model\u001B[0m:\u001B[36madd_pick_up_and_delivery\u001B[0m:\u001B[36m269\u001B[0m - \u001B[1mДобавление ограничения для порядка доставки\u001B[0m\n",
      "\u001B[32m2025-08-06 15:53:55.188\u001B[0m | \u001B[1mINFO    \u001B[0m | \u001B[36msrc.vrp_study.pdptw_model.routing_model\u001B[0m:\u001B[36madd_time_window\u001B[0m:\u001B[36m194\u001B[0m - \u001B[1madd time\u001B[0m\n",
      "\u001B[32m2025-08-06 15:53:55.188\u001B[0m | \u001B[1mINFO    \u001B[0m | \u001B[36msrc.vrp_study.pdptw_model.routing_model\u001B[0m:\u001B[36madd_mass_constraint\u001B[0m:\u001B[36m177\u001B[0m - \u001B[1mДобавление ограничений для массы\u001B[0m\n",
      "\u001B[32m2025-08-06 15:53:55.189\u001B[0m | \u001B[1mINFO    \u001B[0m | \u001B[36msrc.vrp_study.pdptw_model.routing_model\u001B[0m:\u001B[36mdo_solve\u001B[0m:\u001B[36m407\u001B[0m - \u001B[1mНачало решения\u001B[0m\n",
      "\u001B[32m2025-08-06 15:53:55.189\u001B[0m | \u001B[34m\u001B[1mDEBUG   \u001B[0m | \u001B[36msrc.vrp_study.pdptw_model.routing_model\u001B[0m:\u001B[36m__call__\u001B[0m:\u001B[36m40\u001B[0m - \u001B[34m\u001B[1mtime: 0.001; new solution (1): 1; best solution: 1\u001B[0m\n",
      "\u001B[32m2025-08-06 15:53:55.190\u001B[0m | \u001B[1mINFO    \u001B[0m | \u001B[36msrc.vrp_study.pdptw_model.routing_model\u001B[0m:\u001B[36mdo_solve\u001B[0m:\u001B[36m423\u001B[0m - \u001B[1mfind solution\u001B[0m\n",
      "\u001B[32m2025-08-06 15:53:55.190\u001B[0m | \u001B[1mINFO    \u001B[0m | \u001B[36msrc.vrp_study.pdptw_model.routing_model\u001B[0m:\u001B[36mfind_optimal_paths\u001B[0m:\u001B[36m451\u001B[0m - \u001B[1mbest_score: 1\u001B[0m\n",
      "\u001B[32m2025-08-06 15:53:55.190\u001B[0m | \u001B[1mINFO    \u001B[0m | \u001B[36msrc.vrp_study.pdptw_model.routing_model\u001B[0m:\u001B[36mdo_solve\u001B[0m:\u001B[36m378\u001B[0m - \u001B[1mНачало создания модели\u001B[0m\n",
      "\u001B[32m2025-08-06 15:53:55.191\u001B[0m | \u001B[1mINFO    \u001B[0m | \u001B[36msrc.vrp_study.pdptw_model.routing_model\u001B[0m:\u001B[36madd_distance_dimension\u001B[0m:\u001B[36m299\u001B[0m - \u001B[1mДобавление размерности для расстояния\u001B[0m\n",
      "\u001B[32m2025-08-06 15:53:55.192\u001B[0m | \u001B[1mINFO    \u001B[0m | \u001B[36msrc.vrp_study.pdptw_model.routing_model\u001B[0m:\u001B[36madd_count_dimension\u001B[0m:\u001B[36m335\u001B[0m - \u001B[1mДобавление размерности для расстояния\u001B[0m\n",
      "\u001B[32m2025-08-06 15:53:55.192\u001B[0m | \u001B[1mINFO    \u001B[0m | \u001B[36msrc.vrp_study.pdptw_model.routing_model\u001B[0m:\u001B[36madd_pick_up_and_delivery\u001B[0m:\u001B[36m269\u001B[0m - \u001B[1mДобавление ограничения для порядка доставки\u001B[0m\n",
      "\u001B[32m2025-08-06 15:53:55.192\u001B[0m | \u001B[1mINFO    \u001B[0m | \u001B[36msrc.vrp_study.pdptw_model.routing_model\u001B[0m:\u001B[36madd_vehicles_cost\u001B[0m:\u001B[36m243\u001B[0m - \u001B[1mДобавление стоимостей машин\u001B[0m\n",
      "\u001B[32m2025-08-06 15:53:55.192\u001B[0m | \u001B[1mINFO    \u001B[0m | \u001B[36msrc.vrp_study.pdptw_model.routing_model\u001B[0m:\u001B[36madd_time_window\u001B[0m:\u001B[36m194\u001B[0m - \u001B[1madd time\u001B[0m\n",
      "\u001B[32m2025-08-06 15:53:55.192\u001B[0m | \u001B[1mINFO    \u001B[0m | \u001B[36msrc.vrp_study.pdptw_model.routing_model\u001B[0m:\u001B[36madd_mass_constraint\u001B[0m:\u001B[36m177\u001B[0m - \u001B[1mДобавление ограничений для массы\u001B[0m\n",
      "\u001B[32m2025-08-06 15:53:55.193\u001B[0m | \u001B[1mINFO    \u001B[0m | \u001B[36msrc.vrp_study.pdptw_model.routing_model\u001B[0m:\u001B[36mdo_solve\u001B[0m:\u001B[36m407\u001B[0m - \u001B[1mНачало решения\u001B[0m\n",
      "\u001B[32m2025-08-06 15:53:55.193\u001B[0m | \u001B[1mINFO    \u001B[0m | \u001B[36msrc.vrp_study.pdptw_model.routing_model\u001B[0m:\u001B[36mdo_solve\u001B[0m:\u001B[36m410\u001B[0m - \u001B[1muse initial_solution: 1\u001B[0m\n",
      "\u001B[32m2025-08-06 15:53:55.193\u001B[0m | \u001B[34m\u001B[1mDEBUG   \u001B[0m | \u001B[36msrc.vrp_study.pdptw_model.routing_model\u001B[0m:\u001B[36m__call__\u001B[0m:\u001B[36m40\u001B[0m - \u001B[34m\u001B[1mtime: 0.001; new solution (1): 8921; best solution: 8921\u001B[0m\n",
      "\u001B[32m2025-08-06 15:53:55.194\u001B[0m | \u001B[34m\u001B[1mDEBUG   \u001B[0m | \u001B[36msrc.vrp_study.pdptw_model.routing_model\u001B[0m:\u001B[36m__call__\u001B[0m:\u001B[36m40\u001B[0m - \u001B[34m\u001B[1mtime: 0.001; new solution (2): 8921; best solution: 8921\u001B[0m\n",
      "\u001B[32m2025-08-06 15:53:55.194\u001B[0m | \u001B[1mINFO    \u001B[0m | \u001B[36msrc.vrp_study.pdptw_model.routing_model\u001B[0m:\u001B[36mdo_solve\u001B[0m:\u001B[36m423\u001B[0m - \u001B[1mfind solution\u001B[0m\n",
      "\u001B[32m2025-08-06 15:53:55.194\u001B[0m | \u001B[1mINFO    \u001B[0m | \u001B[36msrc.vrp_study.pdptw_model.routing_model\u001B[0m:\u001B[36mfind_optimal_paths\u001B[0m:\u001B[36m464\u001B[0m - \u001B[1mbest_score: 89.21\u001B[0m\n",
      "\u001B[32m2025-08-06 15:53:55.194\u001B[0m | \u001B[1mINFO    \u001B[0m | \u001B[36msrc.vrp_study.pdptw_model.solution_builder\u001B[0m:\u001B[36mget_initial_solution\u001B[0m:\u001B[36m138\u001B[0m - \u001B[1m[[0, 1, 2, 0], [], [], [], [], [], [], [], []]\u001B[0m\n",
      "\u001B[32m2025-08-06 15:53:55.195\u001B[0m | \u001B[1mINFO    \u001B[0m | \u001B[36msrc.vrp_study.pdptw_model.solution_builder\u001B[0m:\u001B[36mget_initial_solution\u001B[0m:\u001B[36m118\u001B[0m - \u001B[1m(1, 32.074999999999996)\u001B[0m\n",
      "\u001B[32m2025-08-06 15:53:55.195\u001B[0m | \u001B[1mINFO    \u001B[0m | \u001B[36msrc.vrp_study.pdptw_model.solution_builder\u001B[0m:\u001B[36mget_initial_solution\u001B[0m:\u001B[36m118\u001B[0m - \u001B[1m(1, 16.0875)\u001B[0m\n",
      "\u001B[32m2025-08-06 15:53:55.196\u001B[0m | \u001B[1mINFO    \u001B[0m | \u001B[36msrc.vrp_study.pdptw_model.solution_builder\u001B[0m:\u001B[36mget_initial_solution\u001B[0m:\u001B[36m118\u001B[0m - \u001B[1m(1, 8.09375)\u001B[0m\n",
      "\u001B[32m2025-08-06 15:53:55.196\u001B[0m | \u001B[1mINFO    \u001B[0m | \u001B[36msrc.vrp_study.pdptw_model.solution_builder\u001B[0m:\u001B[36mget_initial_solution\u001B[0m:\u001B[36m118\u001B[0m - \u001B[1m(1, 4.096875)\u001B[0m\n",
      "\u001B[32m2025-08-06 15:53:55.196\u001B[0m | \u001B[1mINFO    \u001B[0m | \u001B[36msrc.vrp_study.pdptw_model.solution_builder\u001B[0m:\u001B[36mget_initial_solution\u001B[0m:\u001B[36m118\u001B[0m - \u001B[1m(1, 2.0984374999999997)\u001B[0m\n",
      "\u001B[32m2025-08-06 15:53:55.196\u001B[0m | \u001B[1mINFO    \u001B[0m | \u001B[36msrc.vrp_study.pdptw_model.solution_builder\u001B[0m:\u001B[36mget_initial_solution\u001B[0m:\u001B[36m118\u001B[0m - \u001B[1m(1, 1.09921875)\u001B[0m\n",
      "\u001B[32m2025-08-06 15:53:55.197\u001B[0m | \u001B[1mINFO    \u001B[0m | \u001B[36msrc.vrp_study.pdptw_model.solution_builder\u001B[0m:\u001B[36mget_initial_solution\u001B[0m:\u001B[36m118\u001B[0m - \u001B[1m(2, 0.599609375)\u001B[0m\n",
      "\u001B[32m2025-08-06 15:53:55.197\u001B[0m | \u001B[1mINFO    \u001B[0m | \u001B[36msrc.vrp_study.pdptw_model.solution_builder\u001B[0m:\u001B[36mget_initial_solution\u001B[0m:\u001B[36m118\u001B[0m - \u001B[1m(2, 0.3498046875)\u001B[0m\n",
      "\u001B[32m2025-08-06 15:53:55.197\u001B[0m | \u001B[1mINFO    \u001B[0m | \u001B[36msrc.vrp_study.pdptw_model.solution_builder\u001B[0m:\u001B[36mget_initial_solution\u001B[0m:\u001B[36m118\u001B[0m - \u001B[1m(2, 0.22490234375)\u001B[0m\n",
      "\u001B[32m2025-08-06 15:53:55.197\u001B[0m | \u001B[1mINFO    \u001B[0m | \u001B[36msrc.vrp_study.pdptw_model.solution_builder\u001B[0m:\u001B[36mget_initial_solution\u001B[0m:\u001B[36m118\u001B[0m - \u001B[1m(2, 0.16245117187500002)\u001B[0m\n"
     ]
    },
    {
     "data": {
      "text/plain": "  0%|          | 0/1 [00:00<?, ?it/s]",
      "application/vnd.jupyter.widget-view+json": {
       "version_major": 2,
       "version_minor": 0,
       "model_id": "ed840dbb72be442cab63e0473e17e0a4"
      }
     },
     "metadata": {},
     "output_type": "display_data"
    },
    {
     "name": "stderr",
     "output_type": "stream",
     "text": [
      "\u001B[32m2025-08-06 15:53:55.202\u001B[0m | \u001B[1mINFO    \u001B[0m | \u001B[36msrc.vrp_study.pdptw_model.routing_model\u001B[0m:\u001B[36mfind_optimal_paths\u001B[0m:\u001B[36m443\u001B[0m - \u001B[1mproblem size: 5\u001B[0m\n",
      "\u001B[32m2025-08-06 15:53:55.203\u001B[0m | \u001B[1mINFO    \u001B[0m | \u001B[36msrc.vrp_study.pdptw_model.routing_model\u001B[0m:\u001B[36mdo_solve\u001B[0m:\u001B[36m378\u001B[0m - \u001B[1mНачало создания модели\u001B[0m\n",
      "\u001B[32m2025-08-06 15:53:55.203\u001B[0m | \u001B[1mINFO    \u001B[0m | \u001B[36msrc.vrp_study.pdptw_model.routing_model\u001B[0m:\u001B[36madd_distance_dimension\u001B[0m:\u001B[36m299\u001B[0m - \u001B[1mДобавление размерности для расстояния\u001B[0m\n",
      "\u001B[32m2025-08-06 15:53:55.204\u001B[0m | \u001B[1mINFO    \u001B[0m | \u001B[36msrc.vrp_study.pdptw_model.routing_model\u001B[0m:\u001B[36madd_count_dimension\u001B[0m:\u001B[36m335\u001B[0m - \u001B[1mДобавление размерности для расстояния\u001B[0m\n",
      "\u001B[32m2025-08-06 15:53:55.204\u001B[0m | \u001B[1mINFO    \u001B[0m | \u001B[36msrc.vrp_study.pdptw_model.routing_model\u001B[0m:\u001B[36madd_pick_up_and_delivery\u001B[0m:\u001B[36m269\u001B[0m - \u001B[1mДобавление ограничения для порядка доставки\u001B[0m\n",
      "\u001B[32m2025-08-06 15:53:55.204\u001B[0m | \u001B[1mINFO    \u001B[0m | \u001B[36msrc.vrp_study.pdptw_model.routing_model\u001B[0m:\u001B[36madd_time_window\u001B[0m:\u001B[36m194\u001B[0m - \u001B[1madd time\u001B[0m\n",
      "\u001B[32m2025-08-06 15:53:55.204\u001B[0m | \u001B[1mINFO    \u001B[0m | \u001B[36msrc.vrp_study.pdptw_model.routing_model\u001B[0m:\u001B[36madd_mass_constraint\u001B[0m:\u001B[36m177\u001B[0m - \u001B[1mДобавление ограничений для массы\u001B[0m\n",
      "\u001B[32m2025-08-06 15:53:55.205\u001B[0m | \u001B[1mINFO    \u001B[0m | \u001B[36msrc.vrp_study.pdptw_model.routing_model\u001B[0m:\u001B[36mdo_solve\u001B[0m:\u001B[36m407\u001B[0m - \u001B[1mНачало решения\u001B[0m\n",
      "\u001B[32m2025-08-06 15:53:55.206\u001B[0m | \u001B[34m\u001B[1mDEBUG   \u001B[0m | \u001B[36msrc.vrp_study.pdptw_model.routing_model\u001B[0m:\u001B[36m__call__\u001B[0m:\u001B[36m40\u001B[0m - \u001B[34m\u001B[1mtime: 0.001; new solution (1): 1; best solution: 1\u001B[0m\n",
      "\u001B[32m2025-08-06 15:53:55.207\u001B[0m | \u001B[1mINFO    \u001B[0m | \u001B[36msrc.vrp_study.pdptw_model.routing_model\u001B[0m:\u001B[36mdo_solve\u001B[0m:\u001B[36m423\u001B[0m - \u001B[1mfind solution\u001B[0m\n",
      "\u001B[32m2025-08-06 15:53:55.208\u001B[0m | \u001B[1mINFO    \u001B[0m | \u001B[36msrc.vrp_study.pdptw_model.routing_model\u001B[0m:\u001B[36mfind_optimal_paths\u001B[0m:\u001B[36m451\u001B[0m - \u001B[1mbest_score: 1\u001B[0m\n",
      "\u001B[32m2025-08-06 15:53:55.208\u001B[0m | \u001B[1mINFO    \u001B[0m | \u001B[36msrc.vrp_study.pdptw_model.routing_model\u001B[0m:\u001B[36mdo_solve\u001B[0m:\u001B[36m378\u001B[0m - \u001B[1mНачало создания модели\u001B[0m\n",
      "\u001B[32m2025-08-06 15:53:55.210\u001B[0m | \u001B[1mINFO    \u001B[0m | \u001B[36msrc.vrp_study.pdptw_model.routing_model\u001B[0m:\u001B[36madd_distance_dimension\u001B[0m:\u001B[36m299\u001B[0m - \u001B[1mДобавление размерности для расстояния\u001B[0m\n",
      "\u001B[32m2025-08-06 15:53:55.211\u001B[0m | \u001B[1mINFO    \u001B[0m | \u001B[36msrc.vrp_study.pdptw_model.routing_model\u001B[0m:\u001B[36madd_count_dimension\u001B[0m:\u001B[36m335\u001B[0m - \u001B[1mДобавление размерности для расстояния\u001B[0m\n",
      "\u001B[32m2025-08-06 15:53:55.212\u001B[0m | \u001B[1mINFO    \u001B[0m | \u001B[36msrc.vrp_study.pdptw_model.routing_model\u001B[0m:\u001B[36madd_pick_up_and_delivery\u001B[0m:\u001B[36m269\u001B[0m - \u001B[1mДобавление ограничения для порядка доставки\u001B[0m\n",
      "\u001B[32m2025-08-06 15:53:55.212\u001B[0m | \u001B[1mINFO    \u001B[0m | \u001B[36msrc.vrp_study.pdptw_model.routing_model\u001B[0m:\u001B[36madd_vehicles_cost\u001B[0m:\u001B[36m243\u001B[0m - \u001B[1mДобавление стоимостей машин\u001B[0m\n",
      "\u001B[32m2025-08-06 15:53:55.212\u001B[0m | \u001B[1mINFO    \u001B[0m | \u001B[36msrc.vrp_study.pdptw_model.routing_model\u001B[0m:\u001B[36madd_time_window\u001B[0m:\u001B[36m194\u001B[0m - \u001B[1madd time\u001B[0m\n",
      "\u001B[32m2025-08-06 15:53:55.213\u001B[0m | \u001B[1mINFO    \u001B[0m | \u001B[36msrc.vrp_study.pdptw_model.routing_model\u001B[0m:\u001B[36madd_mass_constraint\u001B[0m:\u001B[36m177\u001B[0m - \u001B[1mДобавление ограничений для массы\u001B[0m\n",
      "\u001B[32m2025-08-06 15:53:55.213\u001B[0m | \u001B[1mINFO    \u001B[0m | \u001B[36msrc.vrp_study.pdptw_model.routing_model\u001B[0m:\u001B[36mdo_solve\u001B[0m:\u001B[36m407\u001B[0m - \u001B[1mНачало решения\u001B[0m\n",
      "\u001B[32m2025-08-06 15:53:55.216\u001B[0m | \u001B[1mINFO    \u001B[0m | \u001B[36msrc.vrp_study.pdptw_model.routing_model\u001B[0m:\u001B[36mdo_solve\u001B[0m:\u001B[36m410\u001B[0m - \u001B[1muse initial_solution: 1\u001B[0m\n",
      "\u001B[32m2025-08-06 15:53:55.216\u001B[0m | \u001B[34m\u001B[1mDEBUG   \u001B[0m | \u001B[36msrc.vrp_study.pdptw_model.routing_model\u001B[0m:\u001B[36m__call__\u001B[0m:\u001B[36m40\u001B[0m - \u001B[34m\u001B[1mtime: 0.003; new solution (1): 8238; best solution: 8238\u001B[0m\n",
      "\u001B[32m2025-08-06 15:53:55.216\u001B[0m | \u001B[34m\u001B[1mDEBUG   \u001B[0m | \u001B[36msrc.vrp_study.pdptw_model.routing_model\u001B[0m:\u001B[36m__call__\u001B[0m:\u001B[36m40\u001B[0m - \u001B[34m\u001B[1mtime: 0.003; new solution (2): 8238; best solution: 8238\u001B[0m\n",
      "\u001B[32m2025-08-06 15:53:55.217\u001B[0m | \u001B[1mINFO    \u001B[0m | \u001B[36msrc.vrp_study.pdptw_model.routing_model\u001B[0m:\u001B[36mdo_solve\u001B[0m:\u001B[36m423\u001B[0m - \u001B[1mfind solution\u001B[0m\n",
      "\u001B[32m2025-08-06 15:53:55.218\u001B[0m | \u001B[1mINFO    \u001B[0m | \u001B[36msrc.vrp_study.pdptw_model.routing_model\u001B[0m:\u001B[36mfind_optimal_paths\u001B[0m:\u001B[36m464\u001B[0m - \u001B[1mbest_score: 82.38\u001B[0m\n",
      "\u001B[32m2025-08-06 15:53:55.218\u001B[0m | \u001B[1mINFO    \u001B[0m | \u001B[36msrc.vrp_study.pdptw_model.solution_builder\u001B[0m:\u001B[36mget_initial_solution\u001B[0m:\u001B[36m138\u001B[0m - \u001B[1m[[0, 3, 1, 4, 2, 0], [], [], [], [], [], [], []]\u001B[0m\n"
     ]
    },
    {
     "data": {
      "text/plain": "  0%|          | 0/1 [00:00<?, ?it/s]",
      "application/vnd.jupyter.widget-view+json": {
       "version_major": 2,
       "version_minor": 0,
       "model_id": "d884e0654c544b9f8a909666a6794dd3"
      }
     },
     "metadata": {},
     "output_type": "display_data"
    },
    {
     "name": "stderr",
     "output_type": "stream",
     "text": [
      "\u001B[32m2025-08-06 15:53:55.222\u001B[0m | \u001B[1mINFO    \u001B[0m | \u001B[36msrc.vrp_study.pdptw_model.routing_model\u001B[0m:\u001B[36mfind_optimal_paths\u001B[0m:\u001B[36m443\u001B[0m - \u001B[1mproblem size: 3\u001B[0m\n",
      "\u001B[32m2025-08-06 15:53:55.222\u001B[0m | \u001B[1mINFO    \u001B[0m | \u001B[36msrc.vrp_study.pdptw_model.routing_model\u001B[0m:\u001B[36mdo_solve\u001B[0m:\u001B[36m378\u001B[0m - \u001B[1mНачало создания модели\u001B[0m\n",
      "\u001B[32m2025-08-06 15:53:55.223\u001B[0m | \u001B[1mINFO    \u001B[0m | \u001B[36msrc.vrp_study.pdptw_model.routing_model\u001B[0m:\u001B[36madd_distance_dimension\u001B[0m:\u001B[36m299\u001B[0m - \u001B[1mДобавление размерности для расстояния\u001B[0m\n",
      "\u001B[32m2025-08-06 15:53:55.223\u001B[0m | \u001B[1mINFO    \u001B[0m | \u001B[36msrc.vrp_study.pdptw_model.routing_model\u001B[0m:\u001B[36madd_count_dimension\u001B[0m:\u001B[36m335\u001B[0m - \u001B[1mДобавление размерности для расстояния\u001B[0m\n",
      "\u001B[32m2025-08-06 15:53:55.223\u001B[0m | \u001B[1mINFO    \u001B[0m | \u001B[36msrc.vrp_study.pdptw_model.routing_model\u001B[0m:\u001B[36madd_pick_up_and_delivery\u001B[0m:\u001B[36m269\u001B[0m - \u001B[1mДобавление ограничения для порядка доставки\u001B[0m\n",
      "\u001B[32m2025-08-06 15:53:55.224\u001B[0m | \u001B[1mINFO    \u001B[0m | \u001B[36msrc.vrp_study.pdptw_model.routing_model\u001B[0m:\u001B[36madd_time_window\u001B[0m:\u001B[36m194\u001B[0m - \u001B[1madd time\u001B[0m\n",
      "\u001B[32m2025-08-06 15:53:55.224\u001B[0m | \u001B[1mINFO    \u001B[0m | \u001B[36msrc.vrp_study.pdptw_model.routing_model\u001B[0m:\u001B[36madd_mass_constraint\u001B[0m:\u001B[36m177\u001B[0m - \u001B[1mДобавление ограничений для массы\u001B[0m\n",
      "\u001B[32m2025-08-06 15:53:55.226\u001B[0m | \u001B[1mINFO    \u001B[0m | \u001B[36msrc.vrp_study.pdptw_model.routing_model\u001B[0m:\u001B[36mdo_solve\u001B[0m:\u001B[36m407\u001B[0m - \u001B[1mНачало решения\u001B[0m\n",
      "\u001B[32m2025-08-06 15:53:55.227\u001B[0m | \u001B[34m\u001B[1mDEBUG   \u001B[0m | \u001B[36msrc.vrp_study.pdptw_model.routing_model\u001B[0m:\u001B[36m__call__\u001B[0m:\u001B[36m40\u001B[0m - \u001B[34m\u001B[1mtime: 0.002; new solution (1): 1; best solution: 1\u001B[0m\n",
      "\u001B[32m2025-08-06 15:53:55.228\u001B[0m | \u001B[1mINFO    \u001B[0m | \u001B[36msrc.vrp_study.pdptw_model.routing_model\u001B[0m:\u001B[36mdo_solve\u001B[0m:\u001B[36m423\u001B[0m - \u001B[1mfind solution\u001B[0m\n",
      "\u001B[32m2025-08-06 15:53:55.229\u001B[0m | \u001B[1mINFO    \u001B[0m | \u001B[36msrc.vrp_study.pdptw_model.routing_model\u001B[0m:\u001B[36mfind_optimal_paths\u001B[0m:\u001B[36m451\u001B[0m - \u001B[1mbest_score: 1\u001B[0m\n",
      "\u001B[32m2025-08-06 15:53:55.229\u001B[0m | \u001B[1mINFO    \u001B[0m | \u001B[36msrc.vrp_study.pdptw_model.routing_model\u001B[0m:\u001B[36mdo_solve\u001B[0m:\u001B[36m378\u001B[0m - \u001B[1mНачало создания модели\u001B[0m\n",
      "\u001B[32m2025-08-06 15:53:55.230\u001B[0m | \u001B[1mINFO    \u001B[0m | \u001B[36msrc.vrp_study.pdptw_model.routing_model\u001B[0m:\u001B[36madd_distance_dimension\u001B[0m:\u001B[36m299\u001B[0m - \u001B[1mДобавление размерности для расстояния\u001B[0m\n",
      "\u001B[32m2025-08-06 15:53:55.231\u001B[0m | \u001B[1mINFO    \u001B[0m | \u001B[36msrc.vrp_study.pdptw_model.routing_model\u001B[0m:\u001B[36madd_count_dimension\u001B[0m:\u001B[36m335\u001B[0m - \u001B[1mДобавление размерности для расстояния\u001B[0m\n",
      "\u001B[32m2025-08-06 15:53:55.231\u001B[0m | \u001B[1mINFO    \u001B[0m | \u001B[36msrc.vrp_study.pdptw_model.routing_model\u001B[0m:\u001B[36madd_pick_up_and_delivery\u001B[0m:\u001B[36m269\u001B[0m - \u001B[1mДобавление ограничения для порядка доставки\u001B[0m\n",
      "\u001B[32m2025-08-06 15:53:55.231\u001B[0m | \u001B[1mINFO    \u001B[0m | \u001B[36msrc.vrp_study.pdptw_model.routing_model\u001B[0m:\u001B[36madd_vehicles_cost\u001B[0m:\u001B[36m243\u001B[0m - \u001B[1mДобавление стоимостей машин\u001B[0m\n",
      "\u001B[32m2025-08-06 15:53:55.232\u001B[0m | \u001B[1mINFO    \u001B[0m | \u001B[36msrc.vrp_study.pdptw_model.routing_model\u001B[0m:\u001B[36madd_time_window\u001B[0m:\u001B[36m194\u001B[0m - \u001B[1madd time\u001B[0m\n",
      "\u001B[32m2025-08-06 15:53:55.232\u001B[0m | \u001B[1mINFO    \u001B[0m | \u001B[36msrc.vrp_study.pdptw_model.routing_model\u001B[0m:\u001B[36madd_mass_constraint\u001B[0m:\u001B[36m177\u001B[0m - \u001B[1mДобавление ограничений для массы\u001B[0m\n",
      "\u001B[32m2025-08-06 15:53:55.233\u001B[0m | \u001B[1mINFO    \u001B[0m | \u001B[36msrc.vrp_study.pdptw_model.routing_model\u001B[0m:\u001B[36mdo_solve\u001B[0m:\u001B[36m407\u001B[0m - \u001B[1mНачало решения\u001B[0m\n",
      "\u001B[32m2025-08-06 15:53:55.233\u001B[0m | \u001B[1mINFO    \u001B[0m | \u001B[36msrc.vrp_study.pdptw_model.routing_model\u001B[0m:\u001B[36mdo_solve\u001B[0m:\u001B[36m410\u001B[0m - \u001B[1muse initial_solution: 1\u001B[0m\n",
      "\u001B[32m2025-08-06 15:53:55.234\u001B[0m | \u001B[34m\u001B[1mDEBUG   \u001B[0m | \u001B[36msrc.vrp_study.pdptw_model.routing_model\u001B[0m:\u001B[36m__call__\u001B[0m:\u001B[36m40\u001B[0m - \u001B[34m\u001B[1mtime: 0.001; new solution (1): 8062; best solution: 8062\u001B[0m\n",
      "\u001B[32m2025-08-06 15:53:55.234\u001B[0m | \u001B[34m\u001B[1mDEBUG   \u001B[0m | \u001B[36msrc.vrp_study.pdptw_model.routing_model\u001B[0m:\u001B[36m__call__\u001B[0m:\u001B[36m40\u001B[0m - \u001B[34m\u001B[1mtime: 0.001; new solution (2): 8062; best solution: 8062\u001B[0m\n",
      "\u001B[32m2025-08-06 15:53:55.235\u001B[0m | \u001B[1mINFO    \u001B[0m | \u001B[36msrc.vrp_study.pdptw_model.routing_model\u001B[0m:\u001B[36mdo_solve\u001B[0m:\u001B[36m423\u001B[0m - \u001B[1mfind solution\u001B[0m\n",
      "\u001B[32m2025-08-06 15:53:55.235\u001B[0m | \u001B[1mINFO    \u001B[0m | \u001B[36msrc.vrp_study.pdptw_model.routing_model\u001B[0m:\u001B[36mfind_optimal_paths\u001B[0m:\u001B[36m464\u001B[0m - \u001B[1mbest_score: 80.62\u001B[0m\n",
      "\u001B[32m2025-08-06 15:53:55.235\u001B[0m | \u001B[1mINFO    \u001B[0m | \u001B[36msrc.vrp_study.pdptw_model.solution_builder\u001B[0m:\u001B[36mget_initial_solution\u001B[0m:\u001B[36m138\u001B[0m - \u001B[1m[[0, 1, 2, 0], [], [], [], [], [], []]\u001B[0m\n"
     ]
    },
    {
     "data": {
      "text/plain": "  0%|          | 0/1 [00:00<?, ?it/s]",
      "application/vnd.jupyter.widget-view+json": {
       "version_major": 2,
       "version_minor": 0,
       "model_id": "3e604ccdec734da98429a8ced61f06de"
      }
     },
     "metadata": {},
     "output_type": "display_data"
    },
    {
     "name": "stderr",
     "output_type": "stream",
     "text": [
      "\u001B[32m2025-08-06 15:53:55.238\u001B[0m | \u001B[1mINFO    \u001B[0m | \u001B[36msrc.vrp_study.pdptw_model.routing_model\u001B[0m:\u001B[36mfind_optimal_paths\u001B[0m:\u001B[36m443\u001B[0m - \u001B[1mproblem size: 3\u001B[0m\n",
      "\u001B[32m2025-08-06 15:53:55.239\u001B[0m | \u001B[1mINFO    \u001B[0m | \u001B[36msrc.vrp_study.pdptw_model.routing_model\u001B[0m:\u001B[36mdo_solve\u001B[0m:\u001B[36m378\u001B[0m - \u001B[1mНачало создания модели\u001B[0m\n",
      "\u001B[32m2025-08-06 15:53:55.239\u001B[0m | \u001B[1mINFO    \u001B[0m | \u001B[36msrc.vrp_study.pdptw_model.routing_model\u001B[0m:\u001B[36madd_distance_dimension\u001B[0m:\u001B[36m299\u001B[0m - \u001B[1mДобавление размерности для расстояния\u001B[0m\n",
      "\u001B[32m2025-08-06 15:53:55.239\u001B[0m | \u001B[1mINFO    \u001B[0m | \u001B[36msrc.vrp_study.pdptw_model.routing_model\u001B[0m:\u001B[36madd_count_dimension\u001B[0m:\u001B[36m335\u001B[0m - \u001B[1mДобавление размерности для расстояния\u001B[0m\n",
      "\u001B[32m2025-08-06 15:53:55.239\u001B[0m | \u001B[1mINFO    \u001B[0m | \u001B[36msrc.vrp_study.pdptw_model.routing_model\u001B[0m:\u001B[36madd_pick_up_and_delivery\u001B[0m:\u001B[36m269\u001B[0m - \u001B[1mДобавление ограничения для порядка доставки\u001B[0m\n",
      "\u001B[32m2025-08-06 15:53:55.240\u001B[0m | \u001B[1mINFO    \u001B[0m | \u001B[36msrc.vrp_study.pdptw_model.routing_model\u001B[0m:\u001B[36madd_time_window\u001B[0m:\u001B[36m194\u001B[0m - \u001B[1madd time\u001B[0m\n",
      "\u001B[32m2025-08-06 15:53:55.240\u001B[0m | \u001B[1mINFO    \u001B[0m | \u001B[36msrc.vrp_study.pdptw_model.routing_model\u001B[0m:\u001B[36madd_mass_constraint\u001B[0m:\u001B[36m177\u001B[0m - \u001B[1mДобавление ограничений для массы\u001B[0m\n",
      "\u001B[32m2025-08-06 15:53:55.241\u001B[0m | \u001B[1mINFO    \u001B[0m | \u001B[36msrc.vrp_study.pdptw_model.routing_model\u001B[0m:\u001B[36mdo_solve\u001B[0m:\u001B[36m407\u001B[0m - \u001B[1mНачало решения\u001B[0m\n",
      "\u001B[32m2025-08-06 15:53:55.243\u001B[0m | \u001B[34m\u001B[1mDEBUG   \u001B[0m | \u001B[36msrc.vrp_study.pdptw_model.routing_model\u001B[0m:\u001B[36m__call__\u001B[0m:\u001B[36m40\u001B[0m - \u001B[34m\u001B[1mtime: 0.002; new solution (1): 1; best solution: 1\u001B[0m\n",
      "\u001B[32m2025-08-06 15:53:55.244\u001B[0m | \u001B[1mINFO    \u001B[0m | \u001B[36msrc.vrp_study.pdptw_model.routing_model\u001B[0m:\u001B[36mdo_solve\u001B[0m:\u001B[36m423\u001B[0m - \u001B[1mfind solution\u001B[0m\n",
      "\u001B[32m2025-08-06 15:53:55.245\u001B[0m | \u001B[1mINFO    \u001B[0m | \u001B[36msrc.vrp_study.pdptw_model.routing_model\u001B[0m:\u001B[36mfind_optimal_paths\u001B[0m:\u001B[36m451\u001B[0m - \u001B[1mbest_score: 1\u001B[0m\n",
      "\u001B[32m2025-08-06 15:53:55.245\u001B[0m | \u001B[1mINFO    \u001B[0m | \u001B[36msrc.vrp_study.pdptw_model.routing_model\u001B[0m:\u001B[36mdo_solve\u001B[0m:\u001B[36m378\u001B[0m - \u001B[1mНачало создания модели\u001B[0m\n",
      "\u001B[32m2025-08-06 15:53:55.246\u001B[0m | \u001B[1mINFO    \u001B[0m | \u001B[36msrc.vrp_study.pdptw_model.routing_model\u001B[0m:\u001B[36madd_distance_dimension\u001B[0m:\u001B[36m299\u001B[0m - \u001B[1mДобавление размерности для расстояния\u001B[0m\n",
      "\u001B[32m2025-08-06 15:53:55.246\u001B[0m | \u001B[1mINFO    \u001B[0m | \u001B[36msrc.vrp_study.pdptw_model.routing_model\u001B[0m:\u001B[36madd_count_dimension\u001B[0m:\u001B[36m335\u001B[0m - \u001B[1mДобавление размерности для расстояния\u001B[0m\n",
      "\u001B[32m2025-08-06 15:53:55.247\u001B[0m | \u001B[1mINFO    \u001B[0m | \u001B[36msrc.vrp_study.pdptw_model.routing_model\u001B[0m:\u001B[36madd_pick_up_and_delivery\u001B[0m:\u001B[36m269\u001B[0m - \u001B[1mДобавление ограничения для порядка доставки\u001B[0m\n",
      "\u001B[32m2025-08-06 15:53:55.247\u001B[0m | \u001B[1mINFO    \u001B[0m | \u001B[36msrc.vrp_study.pdptw_model.routing_model\u001B[0m:\u001B[36madd_vehicles_cost\u001B[0m:\u001B[36m243\u001B[0m - \u001B[1mДобавление стоимостей машин\u001B[0m\n",
      "\u001B[32m2025-08-06 15:53:55.247\u001B[0m | \u001B[1mINFO    \u001B[0m | \u001B[36msrc.vrp_study.pdptw_model.routing_model\u001B[0m:\u001B[36madd_time_window\u001B[0m:\u001B[36m194\u001B[0m - \u001B[1madd time\u001B[0m\n",
      "\u001B[32m2025-08-06 15:53:55.247\u001B[0m | \u001B[1mINFO    \u001B[0m | \u001B[36msrc.vrp_study.pdptw_model.routing_model\u001B[0m:\u001B[36madd_mass_constraint\u001B[0m:\u001B[36m177\u001B[0m - \u001B[1mДобавление ограничений для массы\u001B[0m\n",
      "\u001B[32m2025-08-06 15:53:55.248\u001B[0m | \u001B[1mINFO    \u001B[0m | \u001B[36msrc.vrp_study.pdptw_model.routing_model\u001B[0m:\u001B[36mdo_solve\u001B[0m:\u001B[36m407\u001B[0m - \u001B[1mНачало решения\u001B[0m\n",
      "\u001B[32m2025-08-06 15:53:55.248\u001B[0m | \u001B[1mINFO    \u001B[0m | \u001B[36msrc.vrp_study.pdptw_model.routing_model\u001B[0m:\u001B[36mdo_solve\u001B[0m:\u001B[36m410\u001B[0m - \u001B[1muse initial_solution: 1\u001B[0m\n",
      "\u001B[32m2025-08-06 15:53:55.249\u001B[0m | \u001B[34m\u001B[1mDEBUG   \u001B[0m | \u001B[36msrc.vrp_study.pdptw_model.routing_model\u001B[0m:\u001B[36m__call__\u001B[0m:\u001B[36m40\u001B[0m - \u001B[34m\u001B[1mtime: 0.001; new solution (1): 7661; best solution: 7661\u001B[0m\n",
      "\u001B[32m2025-08-06 15:53:55.249\u001B[0m | \u001B[34m\u001B[1mDEBUG   \u001B[0m | \u001B[36msrc.vrp_study.pdptw_model.routing_model\u001B[0m:\u001B[36m__call__\u001B[0m:\u001B[36m40\u001B[0m - \u001B[34m\u001B[1mtime: 0.001; new solution (2): 7661; best solution: 7661\u001B[0m\n",
      "\u001B[32m2025-08-06 15:53:55.249\u001B[0m | \u001B[1mINFO    \u001B[0m | \u001B[36msrc.vrp_study.pdptw_model.routing_model\u001B[0m:\u001B[36mdo_solve\u001B[0m:\u001B[36m423\u001B[0m - \u001B[1mfind solution\u001B[0m\n",
      "\u001B[32m2025-08-06 15:53:55.249\u001B[0m | \u001B[1mINFO    \u001B[0m | \u001B[36msrc.vrp_study.pdptw_model.routing_model\u001B[0m:\u001B[36mfind_optimal_paths\u001B[0m:\u001B[36m464\u001B[0m - \u001B[1mbest_score: 76.61\u001B[0m\n",
      "\u001B[32m2025-08-06 15:53:55.250\u001B[0m | \u001B[1mINFO    \u001B[0m | \u001B[36msrc.vrp_study.pdptw_model.solution_builder\u001B[0m:\u001B[36mget_initial_solution\u001B[0m:\u001B[36m138\u001B[0m - \u001B[1m[[0, 1, 2, 0], [], [], [], [], []]\u001B[0m\n",
      "\u001B[32m2025-08-06 15:53:55.250\u001B[0m | \u001B[1mINFO    \u001B[0m | \u001B[36msrc.vrp_study.pdptw_model.routing_model\u001B[0m:\u001B[36mfind_optimal_paths\u001B[0m:\u001B[36m438\u001B[0m - \u001B[1muse initial_solution: 25\u001B[0m\n",
      "\u001B[32m2025-08-06 15:53:55.250\u001B[0m | \u001B[1mINFO    \u001B[0m | \u001B[36msrc.vrp_study.pdptw_model.routing_model\u001B[0m:\u001B[36mfind_optimal_paths\u001B[0m:\u001B[36m443\u001B[0m - \u001B[1mproblem size: 107\u001B[0m\n",
      "\u001B[32m2025-08-06 15:53:55.250\u001B[0m | \u001B[1mINFO    \u001B[0m | \u001B[36msrc.vrp_study.pdptw_model.routing_model\u001B[0m:\u001B[36mdo_solve\u001B[0m:\u001B[36m378\u001B[0m - \u001B[1mНачало создания модели\u001B[0m\n",
      "\u001B[32m2025-08-06 15:53:55.251\u001B[0m | \u001B[1mINFO    \u001B[0m | \u001B[36msrc.vrp_study.pdptw_model.routing_model\u001B[0m:\u001B[36madd_distance_dimension\u001B[0m:\u001B[36m299\u001B[0m - \u001B[1mДобавление размерности для расстояния\u001B[0m\n",
      "\u001B[32m2025-08-06 15:53:55.251\u001B[0m | \u001B[1mINFO    \u001B[0m | \u001B[36msrc.vrp_study.pdptw_model.routing_model\u001B[0m:\u001B[36madd_count_dimension\u001B[0m:\u001B[36m335\u001B[0m - \u001B[1mДобавление размерности для расстояния\u001B[0m\n",
      "\u001B[32m2025-08-06 15:53:55.251\u001B[0m | \u001B[1mINFO    \u001B[0m | \u001B[36msrc.vrp_study.pdptw_model.routing_model\u001B[0m:\u001B[36madd_pick_up_and_delivery\u001B[0m:\u001B[36m269\u001B[0m - \u001B[1mДобавление ограничения для порядка доставки\u001B[0m\n",
      "\u001B[32m2025-08-06 15:53:55.252\u001B[0m | \u001B[1mINFO    \u001B[0m | \u001B[36msrc.vrp_study.pdptw_model.routing_model\u001B[0m:\u001B[36madd_time_window\u001B[0m:\u001B[36m194\u001B[0m - \u001B[1madd time\u001B[0m\n",
      "\u001B[32m2025-08-06 15:53:55.252\u001B[0m | \u001B[1mINFO    \u001B[0m | \u001B[36msrc.vrp_study.pdptw_model.routing_model\u001B[0m:\u001B[36madd_mass_constraint\u001B[0m:\u001B[36m177\u001B[0m - \u001B[1mДобавление ограничений для массы\u001B[0m\n",
      "\u001B[32m2025-08-06 15:53:55.254\u001B[0m | \u001B[1mINFO    \u001B[0m | \u001B[36msrc.vrp_study.pdptw_model.routing_model\u001B[0m:\u001B[36mdo_solve\u001B[0m:\u001B[36m407\u001B[0m - \u001B[1mНачало решения\u001B[0m\n",
      "\u001B[32m2025-08-06 15:53:55.254\u001B[0m | \u001B[1mINFO    \u001B[0m | \u001B[36msrc.vrp_study.pdptw_model.routing_model\u001B[0m:\u001B[36mdo_solve\u001B[0m:\u001B[36m410\u001B[0m - \u001B[1muse initial_solution: 25\u001B[0m\n",
      "\u001B[32m2025-08-06 15:53:55.255\u001B[0m | \u001B[34m\u001B[1mDEBUG   \u001B[0m | \u001B[36msrc.vrp_study.pdptw_model.routing_model\u001B[0m:\u001B[36m__call__\u001B[0m:\u001B[36m40\u001B[0m - \u001B[34m\u001B[1mtime: 0.003; new solution (1): 20; best solution: 20\u001B[0m\n",
      "\u001B[32m2025-08-06 15:53:55.257\u001B[0m | \u001B[34m\u001B[1mDEBUG   \u001B[0m | \u001B[36msrc.vrp_study.pdptw_model.routing_model\u001B[0m:\u001B[36m__call__\u001B[0m:\u001B[36m40\u001B[0m - \u001B[34m\u001B[1mtime: 0.004; new solution (2): 20; best solution: 20\u001B[0m\n",
      "\u001B[32m2025-08-06 15:53:55.259\u001B[0m | \u001B[34m\u001B[1mDEBUG   \u001B[0m | \u001B[36msrc.vrp_study.pdptw_model.routing_model\u001B[0m:\u001B[36m__call__\u001B[0m:\u001B[36m40\u001B[0m - \u001B[34m\u001B[1mtime: 0.007; new solution (3): 19; best solution: 19\u001B[0m\n",
      "\u001B[32m2025-08-06 15:53:55.266\u001B[0m | \u001B[34m\u001B[1mDEBUG   \u001B[0m | \u001B[36msrc.vrp_study.pdptw_model.routing_model\u001B[0m:\u001B[36m__call__\u001B[0m:\u001B[36m40\u001B[0m - \u001B[34m\u001B[1mtime: 0.013; new solution (4): 18; best solution: 18\u001B[0m\n",
      "\u001B[32m2025-08-06 15:53:55.273\u001B[0m | \u001B[34m\u001B[1mDEBUG   \u001B[0m | \u001B[36msrc.vrp_study.pdptw_model.routing_model\u001B[0m:\u001B[36m__call__\u001B[0m:\u001B[36m40\u001B[0m - \u001B[34m\u001B[1mtime: 0.020; new solution (5): 17; best solution: 17\u001B[0m\n",
      "\u001B[32m2025-08-06 15:53:55.280\u001B[0m | \u001B[34m\u001B[1mDEBUG   \u001B[0m | \u001B[36msrc.vrp_study.pdptw_model.routing_model\u001B[0m:\u001B[36m__call__\u001B[0m:\u001B[36m40\u001B[0m - \u001B[34m\u001B[1mtime: 0.027; new solution (6): 16; best solution: 16\u001B[0m\n",
      "\u001B[32m2025-08-06 15:53:55.283\u001B[0m | \u001B[34m\u001B[1mDEBUG   \u001B[0m | \u001B[36msrc.vrp_study.pdptw_model.routing_model\u001B[0m:\u001B[36m__call__\u001B[0m:\u001B[36m40\u001B[0m - \u001B[34m\u001B[1mtime: 0.030; new solution (7): 15; best solution: 15\u001B[0m\n",
      "\u001B[32m2025-08-06 15:53:55.291\u001B[0m | \u001B[34m\u001B[1mDEBUG   \u001B[0m | \u001B[36msrc.vrp_study.pdptw_model.routing_model\u001B[0m:\u001B[36m__call__\u001B[0m:\u001B[36m40\u001B[0m - \u001B[34m\u001B[1mtime: 0.038; new solution (8): 14; best solution: 14\u001B[0m\n",
      "\u001B[32m2025-08-06 15:53:55.298\u001B[0m | \u001B[34m\u001B[1mDEBUG   \u001B[0m | \u001B[36msrc.vrp_study.pdptw_model.routing_model\u001B[0m:\u001B[36m__call__\u001B[0m:\u001B[36m40\u001B[0m - \u001B[34m\u001B[1mtime: 0.046; new solution (9): 13; best solution: 13\u001B[0m\n",
      "\u001B[32m2025-08-06 15:53:55.301\u001B[0m | \u001B[34m\u001B[1mDEBUG   \u001B[0m | \u001B[36msrc.vrp_study.pdptw_model.routing_model\u001B[0m:\u001B[36m__call__\u001B[0m:\u001B[36m40\u001B[0m - \u001B[34m\u001B[1mtime: 0.049; new solution (10): 12; best solution: 12\u001B[0m\n",
      "\u001B[32m2025-08-06 15:53:55.310\u001B[0m | \u001B[34m\u001B[1mDEBUG   \u001B[0m | \u001B[36msrc.vrp_study.pdptw_model.routing_model\u001B[0m:\u001B[36m__call__\u001B[0m:\u001B[36m40\u001B[0m - \u001B[34m\u001B[1mtime: 0.058; new solution (11): 11; best solution: 11\u001B[0m\n",
      "\u001B[32m2025-08-06 15:53:55.661\u001B[0m | \u001B[1mINFO    \u001B[0m | \u001B[36msrc.vrp_study.pdptw_model.routing_model\u001B[0m:\u001B[36mdo_solve\u001B[0m:\u001B[36m423\u001B[0m - \u001B[1mfind solution\u001B[0m\n",
      "\u001B[32m2025-08-06 15:53:55.663\u001B[0m | \u001B[1mINFO    \u001B[0m | \u001B[36msrc.vrp_study.pdptw_model.routing_model\u001B[0m:\u001B[36mfind_optimal_paths\u001B[0m:\u001B[36m451\u001B[0m - \u001B[1mbest_score: 11\u001B[0m\n",
      "\u001B[32m2025-08-06 15:53:55.663\u001B[0m | \u001B[1mINFO    \u001B[0m | \u001B[36msrc.vrp_study.pdptw_model.routing_model\u001B[0m:\u001B[36mdo_solve\u001B[0m:\u001B[36m378\u001B[0m - \u001B[1mНачало создания модели\u001B[0m\n",
      "\u001B[32m2025-08-06 15:53:55.664\u001B[0m | \u001B[1mINFO    \u001B[0m | \u001B[36msrc.vrp_study.pdptw_model.routing_model\u001B[0m:\u001B[36madd_distance_dimension\u001B[0m:\u001B[36m299\u001B[0m - \u001B[1mДобавление размерности для расстояния\u001B[0m\n",
      "\u001B[32m2025-08-06 15:53:55.665\u001B[0m | \u001B[1mINFO    \u001B[0m | \u001B[36msrc.vrp_study.pdptw_model.routing_model\u001B[0m:\u001B[36madd_count_dimension\u001B[0m:\u001B[36m335\u001B[0m - \u001B[1mДобавление размерности для расстояния\u001B[0m\n",
      "\u001B[32m2025-08-06 15:53:55.665\u001B[0m | \u001B[1mINFO    \u001B[0m | \u001B[36msrc.vrp_study.pdptw_model.routing_model\u001B[0m:\u001B[36madd_pick_up_and_delivery\u001B[0m:\u001B[36m269\u001B[0m - \u001B[1mДобавление ограничения для порядка доставки\u001B[0m\n",
      "\u001B[32m2025-08-06 15:53:55.665\u001B[0m | \u001B[1mINFO    \u001B[0m | \u001B[36msrc.vrp_study.pdptw_model.routing_model\u001B[0m:\u001B[36madd_vehicles_cost\u001B[0m:\u001B[36m243\u001B[0m - \u001B[1mДобавление стоимостей машин\u001B[0m\n",
      "\u001B[32m2025-08-06 15:53:55.666\u001B[0m | \u001B[1mINFO    \u001B[0m | \u001B[36msrc.vrp_study.pdptw_model.routing_model\u001B[0m:\u001B[36madd_time_window\u001B[0m:\u001B[36m194\u001B[0m - \u001B[1madd time\u001B[0m\n",
      "\u001B[32m2025-08-06 15:53:55.666\u001B[0m | \u001B[1mINFO    \u001B[0m | \u001B[36msrc.vrp_study.pdptw_model.routing_model\u001B[0m:\u001B[36madd_mass_constraint\u001B[0m:\u001B[36m177\u001B[0m - \u001B[1mДобавление ограничений для массы\u001B[0m\n",
      "\u001B[32m2025-08-06 15:53:55.667\u001B[0m | \u001B[1mINFO    \u001B[0m | \u001B[36msrc.vrp_study.pdptw_model.routing_model\u001B[0m:\u001B[36mdo_solve\u001B[0m:\u001B[36m407\u001B[0m - \u001B[1mНачало решения\u001B[0m\n",
      "\u001B[32m2025-08-06 15:53:55.668\u001B[0m | \u001B[1mINFO    \u001B[0m | \u001B[36msrc.vrp_study.pdptw_model.routing_model\u001B[0m:\u001B[36mdo_solve\u001B[0m:\u001B[36m410\u001B[0m - \u001B[1muse initial_solution: 11\u001B[0m\n",
      "\u001B[32m2025-08-06 15:53:55.669\u001B[0m | \u001B[34m\u001B[1mDEBUG   \u001B[0m | \u001B[36msrc.vrp_study.pdptw_model.routing_model\u001B[0m:\u001B[36m__call__\u001B[0m:\u001B[36m40\u001B[0m - \u001B[34m\u001B[1mtime: 0.002; new solution (1): 107520; best solution: 107520\u001B[0m\n",
      "\u001B[32m2025-08-06 15:53:55.670\u001B[0m | \u001B[34m\u001B[1mDEBUG   \u001B[0m | \u001B[36msrc.vrp_study.pdptw_model.routing_model\u001B[0m:\u001B[36m__call__\u001B[0m:\u001B[36m40\u001B[0m - \u001B[34m\u001B[1mtime: 0.004; new solution (2): 107520; best solution: 107520\u001B[0m\n",
      "\u001B[32m2025-08-06 15:53:55.681\u001B[0m | \u001B[34m\u001B[1mDEBUG   \u001B[0m | \u001B[36msrc.vrp_study.pdptw_model.routing_model\u001B[0m:\u001B[36m__call__\u001B[0m:\u001B[36m40\u001B[0m - \u001B[34m\u001B[1mtime: 0.015; new solution (3): 106999; best solution: 106999\u001B[0m\n",
      "\u001B[32m2025-08-06 15:53:55.683\u001B[0m | \u001B[34m\u001B[1mDEBUG   \u001B[0m | \u001B[36msrc.vrp_study.pdptw_model.routing_model\u001B[0m:\u001B[36m__call__\u001B[0m:\u001B[36m40\u001B[0m - \u001B[34m\u001B[1mtime: 0.016; new solution (4): 103847; best solution: 103847\u001B[0m\n",
      "\u001B[32m2025-08-06 15:53:55.714\u001B[0m | \u001B[34m\u001B[1mDEBUG   \u001B[0m | \u001B[36msrc.vrp_study.pdptw_model.routing_model\u001B[0m:\u001B[36m__call__\u001B[0m:\u001B[36m40\u001B[0m - \u001B[34m\u001B[1mtime: 0.048; new solution (5): 101644; best solution: 101644\u001B[0m\n",
      "\u001B[32m2025-08-06 15:53:55.717\u001B[0m | \u001B[34m\u001B[1mDEBUG   \u001B[0m | \u001B[36msrc.vrp_study.pdptw_model.routing_model\u001B[0m:\u001B[36m__call__\u001B[0m:\u001B[36m40\u001B[0m - \u001B[34m\u001B[1mtime: 0.051; new solution (6): 100825; best solution: 100825\u001B[0m\n",
      "\u001B[32m2025-08-06 15:53:55.769\u001B[0m | \u001B[34m\u001B[1mDEBUG   \u001B[0m | \u001B[36msrc.vrp_study.pdptw_model.routing_model\u001B[0m:\u001B[36m__call__\u001B[0m:\u001B[36m40\u001B[0m - \u001B[34m\u001B[1mtime: 0.103; new solution (7): 100663; best solution: 100663\u001B[0m\n",
      "\u001B[32m2025-08-06 15:53:55.821\u001B[0m | \u001B[34m\u001B[1mDEBUG   \u001B[0m | \u001B[36msrc.vrp_study.pdptw_model.routing_model\u001B[0m:\u001B[36m__call__\u001B[0m:\u001B[36m40\u001B[0m - \u001B[34m\u001B[1mtime: 0.155; new solution (8): 96961; best solution: 96961\u001B[0m\n",
      "\u001B[32m2025-08-06 15:53:55.875\u001B[0m | \u001B[34m\u001B[1mDEBUG   \u001B[0m | \u001B[36msrc.vrp_study.pdptw_model.routing_model\u001B[0m:\u001B[36m__call__\u001B[0m:\u001B[36m40\u001B[0m - \u001B[34m\u001B[1mtime: 0.209; new solution (9): 93593; best solution: 93593\u001B[0m\n",
      "\u001B[32m2025-08-06 15:53:55.929\u001B[0m | \u001B[34m\u001B[1mDEBUG   \u001B[0m | \u001B[36msrc.vrp_study.pdptw_model.routing_model\u001B[0m:\u001B[36m__call__\u001B[0m:\u001B[36m40\u001B[0m - \u001B[34m\u001B[1mtime: 0.262; new solution (10): 91146; best solution: 91146\u001B[0m\n",
      "\u001B[32m2025-08-06 15:53:55.931\u001B[0m | \u001B[34m\u001B[1mDEBUG   \u001B[0m | \u001B[36msrc.vrp_study.pdptw_model.routing_model\u001B[0m:\u001B[36m__call__\u001B[0m:\u001B[36m40\u001B[0m - \u001B[34m\u001B[1mtime: 0.264; new solution (11): 90935; best solution: 90935\u001B[0m\n",
      "\u001B[32m2025-08-06 15:53:55.948\u001B[0m | \u001B[34m\u001B[1mDEBUG   \u001B[0m | \u001B[36msrc.vrp_study.pdptw_model.routing_model\u001B[0m:\u001B[36m__call__\u001B[0m:\u001B[36m40\u001B[0m - \u001B[34m\u001B[1mtime: 0.282; new solution (12): 90705; best solution: 90705\u001B[0m\n",
      "\u001B[32m2025-08-06 15:53:55.952\u001B[0m | \u001B[34m\u001B[1mDEBUG   \u001B[0m | \u001B[36msrc.vrp_study.pdptw_model.routing_model\u001B[0m:\u001B[36m__call__\u001B[0m:\u001B[36m40\u001B[0m - \u001B[34m\u001B[1mtime: 0.285; new solution (13): 90211; best solution: 90211\u001B[0m\n",
      "\u001B[32m2025-08-06 15:53:55.979\u001B[0m | \u001B[34m\u001B[1mDEBUG   \u001B[0m | \u001B[36msrc.vrp_study.pdptw_model.routing_model\u001B[0m:\u001B[36m__call__\u001B[0m:\u001B[36m40\u001B[0m - \u001B[34m\u001B[1mtime: 0.313; new solution (14): 82873; best solution: 82873\u001B[0m\n",
      "\u001B[32m2025-08-06 15:53:56.409\u001B[0m | \u001B[1mINFO    \u001B[0m | \u001B[36msrc.vrp_study.pdptw_model.routing_model\u001B[0m:\u001B[36mdo_solve\u001B[0m:\u001B[36m423\u001B[0m - \u001B[1mfind solution\u001B[0m\n",
      "\u001B[32m2025-08-06 15:53:56.410\u001B[0m | \u001B[1mINFO    \u001B[0m | \u001B[36msrc.vrp_study.pdptw_model.routing_model\u001B[0m:\u001B[36mfind_optimal_paths\u001B[0m:\u001B[36m464\u001B[0m - \u001B[1mbest_score: 828.73\u001B[0m\n"
     ]
    }
   ],
   "source": [
    "from src.vrp_study.pdptw_model.solution_builder import SolutionBuilder\n",
    "\n",
    "sol = find_optimal_paths(routing_manager, SolutionBuilder())[0]"
   ],
   "metadata": {
    "collapsed": false,
    "ExecuteTime": {
     "end_time": "2025-08-06T12:53:56.411645Z",
     "start_time": "2025-08-06T12:53:54.241198Z"
    }
   },
   "id": "b952626eb97b3ae5",
   "execution_count": 13
  },
  {
   "cell_type": "code",
   "outputs": [],
   "source": [
    "# sol"
   ],
   "metadata": {
    "collapsed": false,
    "ExecuteTime": {
     "end_time": "2025-08-06T12:53:56.414271Z",
     "start_time": "2025-08-06T12:53:56.412518Z"
    }
   },
   "id": "965629f893e35eb7",
   "execution_count": 14
  },
  {
   "cell_type": "markdown",
   "source": [
    "# Генерация столбцов"
   ],
   "metadata": {
    "collapsed": false
   },
   "id": "5705b91af98cf08a"
  },
  {
   "cell_type": "code",
   "outputs": [],
   "source": [
    "@dataclass\n",
    "class Route:\n",
    "    \"\"\"\n",
    "        Описание маршрута\n",
    "    \"\"\"\n",
    "    cost: int  # цена\n",
    "    path: list[int]  # маршрут\n",
    "    path_set: Optional[set[int]] = None  # множество для блейзинговости\n",
    "\n",
    "    def __post_init__(self):\n",
    "        self.path_set = set(self.path)"
   ],
   "metadata": {
    "collapsed": false,
    "ExecuteTime": {
     "end_time": "2025-08-06T12:53:56.423387Z",
     "start_time": "2025-08-06T12:53:56.414755Z"
    }
   },
   "id": "129f3de9cf71c6f3",
   "execution_count": 15
  },
  {
   "cell_type": "code",
   "outputs": [],
   "source": [
    "class SelectModelCpSat:\n",
    "    \"\"\"\n",
    "        модель выбора самых дешевых маршрутов через cp_sat\n",
    "    \"\"\"\n",
    "\n",
    "    def __init__(self, _routes: list[Route], _nodes: set[int]):\n",
    "        self.routes = _routes  # все маршруты\n",
    "        self.nodes = _nodes  # все ноды\n",
    "\n",
    "        self.model = CpModel()\n",
    "        self.Z = {}\n",
    "        self._build()\n",
    "\n",
    "    def _build(self):\n",
    "        routes = self.routes\n",
    "        Z = self.Z\n",
    "        model = self.model\n",
    "\n",
    "        for i, r in enumerate(routes):\n",
    "            Z[i] = model.new_bool_var(name=f'Z_{i}')  # брать или не брать маррут\n",
    "        for n in self.nodes:\n",
    "            model.add(\n",
    "                sum(Z[i] for i, route in enumerate(routes) if n in route.path_set) == 1)  # каждая точка посещена 1 раз\n",
    "\n",
    "    def optimize(self, solver: CpSolver) -> Optional[list[Route]]:\n",
    "        self.model.clear_objective()\n",
    "        self.model.minimize(sum(self.Z[i] * r.cost for i, r in enumerate(self.routes)))\n",
    "\n",
    "        status = solver.solve(self.model)\n",
    "\n",
    "        log.info(f'model solve with status: {status}')\n",
    "\n",
    "        if status == CpSolverStatus.OPTIMAL or status == CpSolverStatus.FEASIBLE:\n",
    "            return [r for i, r in enumerate(self.routes) if solver.Value(self.Z[i]) == 1]\n",
    "        return None"
   ],
   "metadata": {
    "collapsed": false,
    "ExecuteTime": {
     "end_time": "2025-08-06T12:53:56.429744Z",
     "start_time": "2025-08-06T12:53:56.423843Z"
    }
   },
   "id": "60d51bbd959d7bcc",
   "execution_count": 16
  },
  {
   "cell_type": "code",
   "outputs": [],
   "source": [
    "class PulpSelectModelLP:\n",
    "    \"\"\"\n",
    "       Тоже самое, что выше только в терминах LP для поиска дуальных переменных\n",
    "    \"\"\"\n",
    "\n",
    "    def __init__(self, _routes: list[Route], _nodes: set[int]):\n",
    "        self.model = pulp.LpProblem(f\"MasterProblem_{uuid.uuid4()}\", pulp.LpMinimize)\n",
    "        self.routes = _routes\n",
    "        self.Z = {}\n",
    "        self.nodes = _nodes\n",
    "        self._build()\n",
    "\n",
    "    def _build(self):\n",
    "        routes = self.routes\n",
    "        Z = self.Z\n",
    "        model = self.model\n",
    "\n",
    "        for i, r in enumerate(routes):\n",
    "            Z[i] = pulp.LpVariable(name=f'z_{i}', lowBound=0, upBound=1)\n",
    "\n",
    "        for n in self.nodes:\n",
    "            model.addConstraint(\n",
    "                pulp.lpSum(Z[i] for i, route in enumerate(routes) if n in route.path_set) == 1,\n",
    "                name=f'cover_{n}'\n",
    "            )\n",
    "\n",
    "    def get_dual_variables(self) -> Optional[list[float]]:\n",
    "        model = self.model\n",
    "        model.setObjective(pulp.lpSum(self.Z[i] * r.cost for i, r in enumerate(self.routes)))\n",
    "\n",
    "        model.solve(PULP_CBC_CMD(msg=0))\n",
    "        # print(model.sol_status)\n",
    "        if model.sol_status == 1:\n",
    "            vals = [model.variables()[i].value() for i in range(len(self.routes))]\n",
    "            log.info(f'master_prob all_int:{all(v in {0.0,0,1.0,1} for v in vals)}')\n",
    "            duals = {n: model.constraints[f\"cover_{n}\"].pi for n in self.nodes}\n",
    "            return duals\n",
    "        return None"
   ],
   "metadata": {
    "collapsed": false,
    "ExecuteTime": {
     "end_time": "2025-08-06T12:53:56.435869Z",
     "start_time": "2025-08-06T12:53:56.431358Z"
    }
   },
   "id": "a548b54eef789bb3",
   "execution_count": 17
  },
  {
   "cell_type": "code",
   "outputs": [],
   "source": [
    "NODES = set(n.id for n in routing_manager.nodes() if n.is_transit)"
   ],
   "metadata": {
    "collapsed": false,
    "ExecuteTime": {
     "end_time": "2025-08-06T12:53:56.440654Z",
     "start_time": "2025-08-06T12:53:56.436532Z"
    }
   },
   "id": "2a02f30c3ace48d5",
   "execution_count": 18
  },
  {
   "cell_type": "code",
   "outputs": [],
   "source": [
    "routes: list[Route] = []\n",
    "for nodes in routing_manager.get_pick_up_and_delivery_nodes():\n",
    "    q = [routing_manager.get_depo_index()] + nodes + [routing_manager.get_depo_index()]\n",
    "    routes.append(\n",
    "        Route(\n",
    "            cost=int(\n",
    "                sum(routing_manager.get_distance(\n",
    "                    routing_manager.nodes()[q[i]],\n",
    "                    routing_manager.nodes()[q[i + 1]]\n",
    "                ) for i in range(len(q) - 1))\n",
    "            ),\n",
    "            path=nodes\n",
    "        )\n",
    "    )\n",
    "\n",
    "# for nodes in sol:\n",
    "#     if len(nodes) == 0:\n",
    "#         continue\n",
    "#     routes.append(\n",
    "#         Route(\n",
    "#             cost=int(\n",
    "#                 sum(routing_manager.get_distance(\n",
    "#                     routing_manager.nodes()[nodes[i]],\n",
    "#                     routing_manager.nodes()[nodes[i + 1]]\n",
    "#                 ) for i in range(len(nodes) - 1))\n",
    "#             ),\n",
    "#             path=nodes[1:-1]\n",
    "#         )\n",
    "#     )"
   ],
   "metadata": {
    "collapsed": false,
    "ExecuteTime": {
     "end_time": "2025-08-06T12:53:56.444679Z",
     "start_time": "2025-08-06T12:53:56.441153Z"
    }
   },
   "id": "fd3e50fd85025399",
   "execution_count": 19
  },
  {
   "cell_type": "code",
   "outputs": [],
   "source": [
    "from src.vrp_study.routing_manager import RoutingManager\n",
    "\n",
    "\n",
    "class PDPTWModel:\n",
    "    \"\"\"\n",
    "        \n",
    "        Модель pdptw.\n",
    "        Оставлю это пока без комментариев\n",
    "        По сути VRP с доп констрейнтами.\n",
    "    \n",
    "    \"\"\"\n",
    "\n",
    "    def __init__(self, routing_manager: RoutingManager, cost: dict[float], ignore_routes: list[Route]):\n",
    "        self.routing_manager = routing_manager\n",
    "        self.cost = cost\n",
    "\n",
    "        self.model = CpModel()\n",
    "        self.X = {}\n",
    "        self.T = {}\n",
    "        self.Q = {}\n",
    "        self.ignore_routes = ignore_routes\n",
    "        self._build()\n",
    "\n",
    "    def _build(self):\n",
    "        routing_manager = self.routing_manager\n",
    "        log.info(f'problem size: {len(routing_manager.nodes())}')\n",
    "\n",
    "        N = len(routing_manager.nodes())\n",
    "        M = 1_000_000\n",
    "\n",
    "        X = self.X\n",
    "        T = self.T\n",
    "        Q = self.Q\n",
    "\n",
    "        model = self.model\n",
    "        depo = routing_manager.get_depo_index()\n",
    "\n",
    "        for i in range(N):\n",
    "            for j in range(N):\n",
    "                if i == j:\n",
    "                    X[i, j] = model.new_constant(0)\n",
    "                else:\n",
    "                    X[i, j] = model.new_bool_var(f'x_{i, j}')\n",
    "\n",
    "        max_time = max(n.end_time for n in routing_manager.nodes())\n",
    "        max_mass = max(car.capacity for car in routing_manager.cars())\n",
    "\n",
    "        log.debug(f'max_time: {max_time}, max_mass: {max_mass}')\n",
    "        for i in range(N):\n",
    "            T[i] = model.new_int_var(lb=0, ub=max_time * 2, name=f'time_{i}')\n",
    "            Q[i] = model.new_int_var(lb=0, ub=max_mass, name=f'mass_{i}')\n",
    "\n",
    "        model.add(sum(X[depo, i] for i in range(N)) == 1)\n",
    "\n",
    "        for i, node in enumerate(routing_manager.nodes()):\n",
    "            model.add(\n",
    "                sum(X[i, j] for j in range(N)) == sum(X[j, i] for j in range(N))\n",
    "            )\n",
    "            if i == 0:\n",
    "                continue\n",
    "            model.add(sum(X[i, j] for j in range(N)) <= 1)\n",
    "            for j in range(N):\n",
    "                if i == j:\n",
    "                    continue\n",
    "                ni = routing_manager.nodes()[i]\n",
    "                nj = routing_manager.nodes()[j]\n",
    "\n",
    "                model.add(\n",
    "                    T[i] + int(routing_manager.get_time(ni, nj) + routing_manager.nodes()[i].service_time) <=\n",
    "                    T[j] + M * (1 - X[i, j]))\n",
    "\n",
    "                model.add(\n",
    "                    Q[i] + routing_manager.nodes()[i].demand <=\n",
    "                    Q[j] + M * (1 - X[i, j]))\n",
    "\n",
    "        for node_a, node_b in routing_manager.get_pick_up_and_delivery_nodes():\n",
    "            a, b = node_a, node_b\n",
    "            model.add(T[a] <= T[b])\n",
    "            model.add(sum(X[k, a] + X[k, b] for k in range(N)) == 2 * sum(X[k, a] for k in range(N)))\n",
    "\n",
    "        for i, node in enumerate(routing_manager.nodes()):\n",
    "            model.add(node.start_time <= T[i])\n",
    "            model.add(T[i] <= node.end_time)\n",
    "\n",
    "        for route in self.ignore_routes:\n",
    "            route = route.path\n",
    "            self.ignore_path(route)\n",
    "\n",
    "    def ignore_path(self, route: list[int]):\n",
    "        model = self.model\n",
    "        X = self.X\n",
    "        v = X[0, route[0]] + X[route[-1], 0]\n",
    "        for i in range(len(route) - 1):\n",
    "            v += X[route[i], route[i + 1]]\n",
    "        model.add(v != len(route) + 1)\n",
    "\n",
    "    def optimize(self, solver: CpSolver):\n",
    "        self.model.clear_objective()\n",
    "        N = len(self.routing_manager.nodes())\n",
    "        r = self.routing_manager\n",
    "        dst = sum(self.X[i, j] * r.get_distance(r.nodes()[i], r.nodes()[j]) for i in range(N) for j in range(N))\n",
    "        delta = sum(self.cost[r.nodes()[i].id] * sum(self.X[j, i] for j in range(N)) for i in range(1, N))\n",
    "        self.model.minimize(dst - delta)\n",
    "\n",
    "        status = solver.solve(self.model)\n",
    "\n",
    "        log.info(f'model solve with status: {status}')\n",
    "\n",
    "        if status == CpSolverStatus.OPTIMAL or status == CpSolverStatus.FEASIBLE:\n",
    "            start = 0\n",
    "            path = []\n",
    "            while True:\n",
    "                next_node = next(iter(n for n in range(N) if solver.Value(self.X[start, n]) == 1))\n",
    "                if next_node == 0:\n",
    "                    if path[0] == 0:\n",
    "                        path = path[1:]\n",
    "                    return path\n",
    "                else:\n",
    "                    start = next_node\n",
    "                    path.append(start)\n",
    "\n",
    "        #     return [r for i, r in enumerate(self.routes) if solver.Value(self.Z[i]) == 1]\n",
    "        # return None"
   ],
   "metadata": {
    "collapsed": false,
    "ExecuteTime": {
     "end_time": "2025-08-06T12:53:56.453111Z",
     "start_time": "2025-08-06T12:53:56.445394Z"
    }
   },
   "id": "5f271bfc8fc47411",
   "execution_count": 20
  },
  {
   "cell_type": "code",
   "outputs": [],
   "source": [],
   "metadata": {
    "collapsed": false,
    "ExecuteTime": {
     "end_time": "2025-08-06T12:53:56.454606Z",
     "start_time": "2025-08-06T12:53:56.453588Z"
    }
   },
   "id": "a1f0efcfd2ba61a9",
   "execution_count": 20
  },
  {
   "cell_type": "code",
   "outputs": [],
   "source": [
    "\n",
    "best = {'preferred_variable_order': 2,\n",
    "        'clause_cleanup_protection': 1,\n",
    "        'max_presolve_iterations': 5,\n",
    "        'cp_model_probing_level': 1,\n",
    "        'presolve_probing_deterministic_time_limit': 10.0,\n",
    "        'search_branching': 2,\n",
    "        'feasibility_jump_linearization_level': 0,\n",
    "        'fp_rounding': 0,\n",
    "        'polish_lp_solution': True,\n",
    "        'linearization_level': 0,\n",
    "        'cut_level': 2,\n",
    "        'max_all_diff_cut_size': 128,\n",
    "        'symmetry_level': 0,\n",
    "        'num_workers': 4}\n",
    "\n",
    "\n",
    "def get_solver():\n",
    "    solver = CpSolver()\n",
    "\n",
    "    for k, v in best.items():\n",
    "        if isinstance(v, list):\n",
    "            for ss in v:\n",
    "                solver.parameters.ignore_subsolvers.append(ss)\n",
    "        else:\n",
    "            if 'ignore_subsolvers' in k:\n",
    "                if v:\n",
    "                    solver.parameters.ignore_subsolvers.append(k.split(':')[1])\n",
    "            else:\n",
    "                exec(f'solver.parameters.{k} = {v}')\n",
    "    # solver.parameters.use_lns = True\n",
    "    # solver.parameters.lns_num_threads = 4\n",
    "    solver.parameters.log_search_progress = False\n",
    "    solver.parameters.max_time_in_seconds = 60.0 * 10\n",
    "\n",
    "    # packing_subsolver = sat_parameters_pb2.SatParameters()\n",
    "    # packing_subsolver.name = \"MyPackingSubsolver\"\n",
    "    # packing_subsolver.use_area_energetic_reasoning_in_no_overlap_2d = False\n",
    "    # packing_subsolver.use_energetic_reasoning_in_no_overlap_2d = False\n",
    "    # packing_subsolver.use_timetabling_in_no_overlap_2d = False\n",
    "    # packing_subsolver.max_pairs_pairwise_reasoning_in_no_overlap_2d = 5_000\n",
    "    # packing_subsolver.\n",
    "    # # Add the subsolver to the portfolio\n",
    "    # solver.parameters.subsolver_params.append(packing_subsolver)  # Define the subsolver\n",
    "    # solver.parameters.extra_subsolvers.append(\n",
    "    #     packing_subsolver.name\n",
    "    # )  # Activate the subsolver\n",
    "\n",
    "    return solver"
   ],
   "metadata": {
    "collapsed": false,
    "ExecuteTime": {
     "end_time": "2025-08-06T12:53:56.460034Z",
     "start_time": "2025-08-06T12:53:56.455394Z"
    }
   },
   "id": "75b548f7fae3e3b4",
   "execution_count": 21
  },
  {
   "cell_type": "code",
   "outputs": [],
   "source": [
    "solver = get_solver()"
   ],
   "metadata": {
    "collapsed": false,
    "ExecuteTime": {
     "end_time": "2025-08-06T12:53:56.464197Z",
     "start_time": "2025-08-06T12:53:56.461200Z"
    }
   },
   "id": "6841a9294eb18446",
   "execution_count": 22
  },
  {
   "cell_type": "code",
   "outputs": [
    {
     "name": "stderr",
     "output_type": "stream",
     "text": [
      "\u001B[32m2025-08-06 15:53:56.473\u001B[0m | \u001B[1mINFO    \u001B[0m | \u001B[36m__main__\u001B[0m:\u001B[36moptimize\u001B[0m:\u001B[36m31\u001B[0m - \u001B[1mmodel solve with status: 4\u001B[0m\n"
     ]
    },
    {
     "data": {
      "text/plain": "3329"
     },
     "execution_count": 23,
     "metadata": {},
     "output_type": "execute_result"
    }
   ],
   "source": [
    "cp_select_model = SelectModelCpSat(routes, NODES)\n",
    "sum(r.cost for r in cp_select_model.optimize(solver))"
   ],
   "metadata": {
    "collapsed": false,
    "ExecuteTime": {
     "end_time": "2025-08-06T12:53:56.477751Z",
     "start_time": "2025-08-06T12:53:56.464753Z"
    }
   },
   "id": "1d98aa99350580cd",
   "execution_count": 23
  },
  {
   "cell_type": "code",
   "outputs": [],
   "source": [],
   "metadata": {
    "collapsed": false,
    "ExecuteTime": {
     "end_time": "2025-08-06T12:53:56.479339Z",
     "start_time": "2025-08-06T12:53:56.478280Z"
    }
   },
   "id": "2b2c2239f887cb7",
   "execution_count": 23
  },
  {
   "cell_type": "code",
   "outputs": [
    {
     "name": "stderr",
     "output_type": "stream",
     "text": [
      "\u001B[32m2025-08-06 15:53:56.487\u001B[0m | \u001B[1mINFO    \u001B[0m | \u001B[36m__main__\u001B[0m:\u001B[36mget_dual_variables\u001B[0m:\u001B[36m35\u001B[0m - \u001B[1mmaster_prob all_int:True\u001B[0m\n",
      "\u001B[32m2025-08-06 15:53:56.488\u001B[0m | \u001B[1mINFO    \u001B[0m | \u001B[36m__main__\u001B[0m:\u001B[36m_build\u001B[0m:\u001B[36m26\u001B[0m - \u001B[1mproblem size: 107\u001B[0m\n",
      "\u001B[32m2025-08-06 15:53:56.525\u001B[0m | \u001B[34m\u001B[1mDEBUG   \u001B[0m | \u001B[36m__main__\u001B[0m:\u001B[36m_build\u001B[0m:\u001B[36m48\u001B[0m - \u001B[34m\u001B[1mmax_time: 1236, max_mass: 200\u001B[0m\n"
     ]
    },
    {
     "data": {
      "text/plain": "  0%|          | 0/30 [00:00<?, ?it/s]",
      "application/vnd.jupyter.widget-view+json": {
       "version_major": 2,
       "version_minor": 0,
       "model_id": "34d9709636a94294bc6e2dc9acdf8c2d"
      }
     },
     "metadata": {},
     "output_type": "display_data"
    },
    {
     "name": "stderr",
     "output_type": "stream",
     "text": [
      "\u001B[32m2025-08-06 15:53:56.778\u001B[0m | \u001B[1mINFO    \u001B[0m | \u001B[36m__main__\u001B[0m:\u001B[36mget_dual_variables\u001B[0m:\u001B[36m35\u001B[0m - \u001B[1mmaster_prob all_int:True\u001B[0m\n",
      "\u001B[32m2025-08-06 15:53:59.382\u001B[0m | \u001B[1mINFO    \u001B[0m | \u001B[36m__main__\u001B[0m:\u001B[36moptimize\u001B[0m:\u001B[36m107\u001B[0m - \u001B[1mmodel solve with status: 4\u001B[0m\n",
      "\u001B[32m2025-08-06 15:53:59.384\u001B[0m | \u001B[1mINFO    \u001B[0m | \u001B[36m__main__\u001B[0m:\u001B[36m<module>\u001B[0m:\u001B[36m24\u001B[0m - \u001B[1m[77, 83, 84, 81, 79, 78, 82, 80, 85, 86, 51, 52]; -439.28236872809873\u001B[0m\n",
      "\u001B[32m2025-08-06 15:53:59.387\u001B[0m | \u001B[1mINFO    \u001B[0m | \u001B[36m__main__\u001B[0m:\u001B[36moptimize\u001B[0m:\u001B[36m31\u001B[0m - \u001B[1mmodel solve with status: 4\u001B[0m\n",
      "\u001B[32m2025-08-06 15:53:59.387\u001B[0m | \u001B[1mINFO    \u001B[0m | \u001B[36m__main__\u001B[0m:\u001B[36m<module>\u001B[0m:\u001B[36m38\u001B[0m - \u001B[1mbest_score: 2889\u001B[0m\n",
      "\u001B[32m2025-08-06 15:53:59.395\u001B[0m | \u001B[1mINFO    \u001B[0m | \u001B[36m__main__\u001B[0m:\u001B[36mget_dual_variables\u001B[0m:\u001B[36m35\u001B[0m - \u001B[1mmaster_prob all_int:True\u001B[0m\n",
      "\u001B[32m2025-08-06 15:54:01.827\u001B[0m | \u001B[1mINFO    \u001B[0m | \u001B[36m__main__\u001B[0m:\u001B[36moptimize\u001B[0m:\u001B[36m107\u001B[0m - \u001B[1mmodel solve with status: 4\u001B[0m\n",
      "\u001B[32m2025-08-06 15:54:01.829\u001B[0m | \u001B[1mINFO    \u001B[0m | \u001B[36m__main__\u001B[0m:\u001B[36m<module>\u001B[0m:\u001B[36m24\u001B[0m - \u001B[1m[77, 83, 84, 81, 79, 78, 82, 80, 85, 86]; -426.7025195854048\u001B[0m\n",
      "\u001B[32m2025-08-06 15:54:01.833\u001B[0m | \u001B[1mINFO    \u001B[0m | \u001B[36m__main__\u001B[0m:\u001B[36moptimize\u001B[0m:\u001B[36m31\u001B[0m - \u001B[1mmodel solve with status: 4\u001B[0m\n",
      "\u001B[32m2025-08-06 15:54:01.834\u001B[0m | \u001B[1mINFO    \u001B[0m | \u001B[36m__main__\u001B[0m:\u001B[36m<module>\u001B[0m:\u001B[36m38\u001B[0m - \u001B[1mbest_score: 2889\u001B[0m\n",
      "\u001B[32m2025-08-06 15:54:01.841\u001B[0m | \u001B[1mINFO    \u001B[0m | \u001B[36m__main__\u001B[0m:\u001B[36mget_dual_variables\u001B[0m:\u001B[36m35\u001B[0m - \u001B[1mmaster_prob all_int:True\u001B[0m\n",
      "\u001B[32m2025-08-06 15:54:04.473\u001B[0m | \u001B[1mINFO    \u001B[0m | \u001B[36m__main__\u001B[0m:\u001B[36moptimize\u001B[0m:\u001B[36m107\u001B[0m - \u001B[1mmodel solve with status: 4\u001B[0m\n",
      "\u001B[32m2025-08-06 15:54:04.474\u001B[0m | \u001B[1mINFO    \u001B[0m | \u001B[36m__main__\u001B[0m:\u001B[36m<module>\u001B[0m:\u001B[36m24\u001B[0m - \u001B[1m[77, 83, 84, 81, 79, 78, 82, 80, 55, 56, 53, 54]; -384.95428602420975\u001B[0m\n",
      "\u001B[32m2025-08-06 15:54:04.478\u001B[0m | \u001B[1mINFO    \u001B[0m | \u001B[36m__main__\u001B[0m:\u001B[36moptimize\u001B[0m:\u001B[36m31\u001B[0m - \u001B[1mmodel solve with status: 4\u001B[0m\n",
      "\u001B[32m2025-08-06 15:54:04.479\u001B[0m | \u001B[1mINFO    \u001B[0m | \u001B[36m__main__\u001B[0m:\u001B[36m<module>\u001B[0m:\u001B[36m38\u001B[0m - \u001B[1mbest_score: 2889\u001B[0m\n",
      "\u001B[32m2025-08-06 15:54:04.485\u001B[0m | \u001B[1mINFO    \u001B[0m | \u001B[36m__main__\u001B[0m:\u001B[36mget_dual_variables\u001B[0m:\u001B[36m35\u001B[0m - \u001B[1mmaster_prob all_int:True\u001B[0m\n",
      "\u001B[32m2025-08-06 15:54:07.062\u001B[0m | \u001B[1mINFO    \u001B[0m | \u001B[36m__main__\u001B[0m:\u001B[36moptimize\u001B[0m:\u001B[36m107\u001B[0m - \u001B[1mmodel solve with status: 4\u001B[0m\n",
      "\u001B[32m2025-08-06 15:54:07.063\u001B[0m | \u001B[1mINFO    \u001B[0m | \u001B[36m__main__\u001B[0m:\u001B[36m<module>\u001B[0m:\u001B[36m24\u001B[0m - \u001B[1m[61, 62, 59, 57, 63, 58, 60, 64, 53, 54, 51, 52]; -323.1758425997818\u001B[0m\n",
      "\u001B[32m2025-08-06 15:54:07.066\u001B[0m | \u001B[1mINFO    \u001B[0m | \u001B[36m__main__\u001B[0m:\u001B[36moptimize\u001B[0m:\u001B[36m31\u001B[0m - \u001B[1mmodel solve with status: 4\u001B[0m\n",
      "\u001B[32m2025-08-06 15:54:07.067\u001B[0m | \u001B[1mINFO    \u001B[0m | \u001B[36m__main__\u001B[0m:\u001B[36m<module>\u001B[0m:\u001B[36m38\u001B[0m - \u001B[1mbest_score: 2578\u001B[0m\n",
      "\u001B[32m2025-08-06 15:54:07.073\u001B[0m | \u001B[1mINFO    \u001B[0m | \u001B[36m__main__\u001B[0m:\u001B[36mget_dual_variables\u001B[0m:\u001B[36m35\u001B[0m - \u001B[1mmaster_prob all_int:True\u001B[0m\n",
      "\u001B[32m2025-08-06 15:54:09.610\u001B[0m | \u001B[1mINFO    \u001B[0m | \u001B[36m__main__\u001B[0m:\u001B[36moptimize\u001B[0m:\u001B[36m107\u001B[0m - \u001B[1mmodel solve with status: 4\u001B[0m\n",
      "\u001B[32m2025-08-06 15:54:09.612\u001B[0m | \u001B[1mINFO    \u001B[0m | \u001B[36m__main__\u001B[0m:\u001B[36m<module>\u001B[0m:\u001B[36m24\u001B[0m - \u001B[1m[101, 99, 102, 100, 97, 98, 103, 104, 105, 106]; -305.0568693779419\u001B[0m\n",
      "\u001B[32m2025-08-06 15:54:09.616\u001B[0m | \u001B[1mINFO    \u001B[0m | \u001B[36m__main__\u001B[0m:\u001B[36moptimize\u001B[0m:\u001B[36m31\u001B[0m - \u001B[1mmodel solve with status: 4\u001B[0m\n",
      "\u001B[32m2025-08-06 15:54:09.616\u001B[0m | \u001B[1mINFO    \u001B[0m | \u001B[36m__main__\u001B[0m:\u001B[36m<module>\u001B[0m:\u001B[36m38\u001B[0m - \u001B[1mbest_score: 2272\u001B[0m\n",
      "\u001B[32m2025-08-06 15:54:09.623\u001B[0m | \u001B[1mINFO    \u001B[0m | \u001B[36m__main__\u001B[0m:\u001B[36mget_dual_variables\u001B[0m:\u001B[36m35\u001B[0m - \u001B[1mmaster_prob all_int:True\u001B[0m\n",
      "\u001B[32m2025-08-06 15:54:12.047\u001B[0m | \u001B[1mINFO    \u001B[0m | \u001B[36m__main__\u001B[0m:\u001B[36moptimize\u001B[0m:\u001B[36m107\u001B[0m - \u001B[1mmodel solve with status: 4\u001B[0m\n",
      "\u001B[32m2025-08-06 15:54:12.049\u001B[0m | \u001B[1mINFO    \u001B[0m | \u001B[36m__main__\u001B[0m:\u001B[36m<module>\u001B[0m:\u001B[36m24\u001B[0m - \u001B[1m[33, 35, 34, 39, 36, 37, 40, 41, 42, 38]; -292.77283721493313\u001B[0m\n",
      "\u001B[32m2025-08-06 15:54:12.053\u001B[0m | \u001B[1mINFO    \u001B[0m | \u001B[36m__main__\u001B[0m:\u001B[36moptimize\u001B[0m:\u001B[36m31\u001B[0m - \u001B[1mmodel solve with status: 4\u001B[0m\n",
      "\u001B[32m2025-08-06 15:54:12.053\u001B[0m | \u001B[1mINFO    \u001B[0m | \u001B[36m__main__\u001B[0m:\u001B[36m<module>\u001B[0m:\u001B[36m38\u001B[0m - \u001B[1mbest_score: 1979\u001B[0m\n",
      "\u001B[32m2025-08-06 15:54:12.060\u001B[0m | \u001B[1mINFO    \u001B[0m | \u001B[36m__main__\u001B[0m:\u001B[36mget_dual_variables\u001B[0m:\u001B[36m35\u001B[0m - \u001B[1mmaster_prob all_int:True\u001B[0m\n"
     ]
    }
   ],
   "source": [
    "# решаем мастер проблему и тащим из нее дуальные переменные\n",
    "# в данном контексте под дуальными переменными можно понимать \"сколько стоит посетить точку\".\n",
    "pulp_model = PulpSelectModelLP(_routes=routes, _nodes=NODES)\n",
    "res = pulp_model.get_dual_variables()\n",
    "pdptw_model = PDPTWModel(routing_manager, cost=res, ignore_routes=routes)\n",
    "\n",
    "set_paths = set(tuple(r.path) for r in routes)\n",
    "\n",
    "for _ in trange(30):\n",
    "\n",
    "    pulp_model = PulpSelectModelLP(_routes=routes, _nodes=NODES)\n",
    "    res = pulp_model.get_dual_variables()\n",
    "    pdptw_model.cost = res\n",
    "    path = pdptw_model.optimize(solver)\n",
    "\n",
    "    if path is None or solver.objective_value > 0:\n",
    "        # если ничего не нашли или нет путей, которые могут улучшить маршрут\n",
    "        break\n",
    "    # чек на то, что не генерируем то, чот уже ест\n",
    "    assert tuple(path) not in set_paths\n",
    "    set_paths.add(tuple(path))\n",
    "    pdptw_model.ignore_path(path)\n",
    "\n",
    "    log.info(f'{path}; {solver.objective_value}')\n",
    "\n",
    "    nodes = [0] + path + [0]\n",
    "    # добавляем путь\n",
    "    routes.append(Route(\n",
    "        cost=int(\n",
    "            sum(routing_manager.get_distance(\n",
    "                routing_manager.nodes()[nodes[i]],\n",
    "                routing_manager.nodes()[nodes[i + 1]]\n",
    "            ) for i in range(len(nodes) - 1))\n",
    "        ),\n",
    "        path=path\n",
    "    ))\n",
    "    cp_select_model = SelectModelCpSat(routes, NODES)\n",
    "    log.info(f'best_score: {sum(r.cost for r in  cp_select_model.optimize(solver))}')"
   ],
   "metadata": {
    "collapsed": false,
    "ExecuteTime": {
     "start_time": "2025-08-06T12:53:56.479867Z"
    }
   },
   "id": "738f5a3eed36924e",
   "execution_count": null
  },
  {
   "cell_type": "code",
   "outputs": [],
   "source": [
    "cp_select_model = SelectModelCpSat(routes, NODES)\n",
    "log.info(f'best_score: {sum(r.cost for r in  cp_select_model.optimize(solver))}')"
   ],
   "metadata": {
    "collapsed": false
   },
   "id": "4def13866fae3b26",
   "execution_count": null
  }
 ],
 "metadata": {
  "kernelspec": {
   "display_name": "Python 3",
   "language": "python",
   "name": "python3"
  },
  "language_info": {
   "codemirror_mode": {
    "name": "ipython",
    "version": 2
   },
   "file_extension": ".py",
   "mimetype": "text/x-python",
   "name": "python",
   "nbconvert_exporter": "python",
   "pygments_lexer": "ipython2",
   "version": "2.7.6"
  }
 },
 "nbformat": 4,
 "nbformat_minor": 5
}
