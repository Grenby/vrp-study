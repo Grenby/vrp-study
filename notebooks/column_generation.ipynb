{
 "cells": [
  {
   "cell_type": "code",
   "execution_count": 1,
   "id": "initial_id",
   "metadata": {
    "collapsed": true,
    "ExecuteTime": {
     "end_time": "2025-07-18T10:08:02.957438Z",
     "start_time": "2025-07-18T10:08:02.663821Z"
    }
   },
   "outputs": [],
   "source": [
    "from ortools.sat.cp_model_pb2 import CpSolverStatus\n",
    "from pulp import PULP_CBC_CMD\n",
    "from tqdm.notebook import tqdm, trange\n",
    "import uuid"
   ]
  },
  {
   "cell_type": "code",
   "outputs": [],
   "source": [
    "from loguru import logger as log"
   ],
   "metadata": {
    "collapsed": false,
    "ExecuteTime": {
     "end_time": "2025-07-18T10:08:03.051762Z",
     "start_time": "2025-07-18T10:08:03.003198Z"
    }
   },
   "id": "2672db95c0053ca4",
   "execution_count": 2
  },
  {
   "cell_type": "code",
   "outputs": [],
   "source": [
    "import numpy as np\n",
    "from vrp_study.data_model import Tariff, Cargo, Node\n",
    "from vrp_study.data_model import TariffCost\n",
    "from vrp_study.pdptw_model.pdptw_routing_manager_builder import PDRoutingManagerBuilder\n",
    "from vrp_study.configs import ModelConfig\n",
    "\n",
    "from vrp_study.pdptw_model.routing_model import find_optimal_paths\n",
    "from typing import Optional\n",
    "from dataclasses import dataclass"
   ],
   "metadata": {
    "collapsed": false,
    "ExecuteTime": {
     "end_time": "2025-07-18T10:08:03.165361Z",
     "start_time": "2025-07-18T10:08:03.078771Z"
    }
   },
   "id": "bb73d26d29a2755b",
   "execution_count": 3
  },
  {
   "cell_type": "code",
   "outputs": [],
   "source": [
    "from ortools.sat.python.cp_model import CpModel, CpSolver\n",
    "from ortools.sat import sat_parameters_pb2\n",
    "\n",
    "# from pyscipopt import Model, quicksum\n",
    "# import pyscipopt\n",
    "import pulp"
   ],
   "metadata": {
    "collapsed": false,
    "ExecuteTime": {
     "end_time": "2025-07-18T10:08:03.401861Z",
     "start_time": "2025-07-18T10:08:03.167316Z"
    }
   },
   "id": "bcb3c10994c17f75",
   "execution_count": 4
  },
  {
   "cell_type": "markdown",
   "source": [
    "# Подготовка данных"
   ],
   "metadata": {
    "collapsed": false
   },
   "id": "e4f5931367711da8"
  },
  {
   "cell_type": "code",
   "outputs": [],
   "source": [
    "benchmark_type = 'pdp_100'\n",
    "name = 'lc101.txt'"
   ],
   "metadata": {
    "collapsed": false,
    "ExecuteTime": {
     "end_time": "2025-07-18T10:08:03.406537Z",
     "start_time": "2025-07-18T10:08:03.403510Z"
    }
   },
   "id": "2fff3b944da4481b",
   "execution_count": 5
  },
  {
   "cell_type": "code",
   "outputs": [],
   "source": [
    "tariff = None\n",
    "cargos: list[Cargo] = []\n",
    "depo: Optional[Node] = None"
   ],
   "metadata": {
    "collapsed": false,
    "ExecuteTime": {
     "end_time": "2025-07-18T10:08:03.413321Z",
     "start_time": "2025-07-18T10:08:03.408099Z"
    }
   },
   "id": "31230f98dd3fad5d",
   "execution_count": 6
  },
  {
   "cell_type": "code",
   "outputs": [],
   "source": [
    "id2info = {}\n",
    "p2coordinates = {}\n",
    "with open(f'../data/Li & Lim benchmark/{benchmark_type}/{name}', 'r') as file:\n",
    "    for i, line in enumerate(file):\n",
    "        line = line.split('\\t')\n",
    "        if i == 0:\n",
    "            tariff = Tariff(\n",
    "                id='car',\n",
    "                capacity=int(line[1]),\n",
    "                max_count=int(line[0]),\n",
    "                cost_per_distance=[TariffCost(\n",
    "                    min_dst_km=0,\n",
    "                    max_dst_km=10000,\n",
    "                    cost_per_km=1,\n",
    "                    fixed_cost=0\n",
    "                )]\n",
    "            )\n",
    "        else:\n",
    "            c_id = int(line[0])\n",
    "            x = int(line[1])\n",
    "            y = int(line[2])\n",
    "\n",
    "            mass = int(line[3])\n",
    "\n",
    "            et = int(line[4])\n",
    "            lt = int(line[5])\n",
    "            st = int(line[6])\n",
    "\n",
    "            pick_up = int(line[7])\n",
    "            delivery = int(line[8])\n",
    "            if pick_up == delivery:\n",
    "                # print(12)\n",
    "                depo = Node(\n",
    "                    id=0,\n",
    "                    cargo_id=c_id,\n",
    "                    capacity=0,\n",
    "                    service_time=0,\n",
    "                    start_time=0,\n",
    "                    end_time=lt,\n",
    "                    coordinates=(x, y)\n",
    "                )\n",
    "                continue\n",
    "            if pick_up == 0:\n",
    "                if c_id not in id2info:\n",
    "                    id2info[c_id] = {}\n",
    "                id2info[c_id][0] = (x, y, mass, et, lt, st, c_id, delivery)\n",
    "            else:\n",
    "                delivery = c_id\n",
    "                c_id = pick_up\n",
    "                if c_id not in id2info:\n",
    "                    id2info[c_id] = {}\n",
    "                id2info[c_id][1] = (x, y, mass, et, lt, st, pick_up, delivery)\n"
   ],
   "metadata": {
    "collapsed": false,
    "ExecuteTime": {
     "end_time": "2025-07-18T10:08:03.426393Z",
     "start_time": "2025-07-18T10:08:03.415763Z"
    }
   },
   "id": "187c79fcb87c74b0",
   "execution_count": 7
  },
  {
   "cell_type": "code",
   "outputs": [
    {
     "data": {
      "text/plain": "Node(id=0, cargo_id=0, capacity=0, start_time=0, end_time=1236, service_time=0, coordinates=(40, 50))"
     },
     "execution_count": 8,
     "metadata": {},
     "output_type": "execute_result"
    }
   ],
   "source": [
    "depo"
   ],
   "metadata": {
    "collapsed": false,
    "ExecuteTime": {
     "end_time": "2025-07-18T10:08:03.439087Z",
     "start_time": "2025-07-18T10:08:03.428050Z"
    }
   },
   "id": "b809a58457c1cfc",
   "execution_count": 8
  },
  {
   "cell_type": "code",
   "outputs": [],
   "source": [
    "\n",
    "for k, v in id2info.items():\n",
    "    cargos.append(\n",
    "        Cargo(\n",
    "            id=k,\n",
    "            nodes=[\n",
    "                Node(\n",
    "                    cargo_id=k,\n",
    "                    id=v[i][6] if i == 0 else v[i][7],\n",
    "                    capacity=v[i][2],\n",
    "                    service_time=v[i][5],\n",
    "                    start_time=v[i][3],\n",
    "                    end_time=v[i][4],\n",
    "                    coordinates=(v[i][0], v[i][1])\n",
    "                )\n",
    "                for i in range(2)\n",
    "            ]\n",
    "        )\n",
    "    )"
   ],
   "metadata": {
    "collapsed": false,
    "ExecuteTime": {
     "end_time": "2025-07-18T10:08:03.446548Z",
     "start_time": "2025-07-18T10:08:03.440839Z"
    }
   },
   "id": "29705f90cfd83d36",
   "execution_count": 9
  },
  {
   "cell_type": "code",
   "outputs": [],
   "source": [
    "# cargos = cargos[:10]"
   ],
   "metadata": {
    "collapsed": false,
    "ExecuteTime": {
     "end_time": "2025-07-18T10:08:03.455412Z",
     "start_time": "2025-07-18T10:08:03.449217Z"
    }
   },
   "id": "c81c3a446e9f7ff4",
   "execution_count": 10
  },
  {
   "cell_type": "code",
   "outputs": [],
   "source": [
    "p2coordinates.update({\n",
    "    crg.nodes[i].id: crg.nodes[i].coordinates for crg in cargos for i in range(2)\n",
    "})\n",
    "p2coordinates[depo.id] = depo.coordinates\n",
    "distance_matrix = {(u, v): np.sqrt((du[0] - dv[0]) ** 2 + (du[1] - dv[1]) ** 2) for u, du in\n",
    "                   p2coordinates.items() for\n",
    "                   v, dv in p2coordinates.items()}\n",
    "time_matrix = {(u, v): np.sqrt((du[0] - dv[0]) ** 2 + (du[1] - dv[1]) ** 2) for u, du in p2coordinates.items() for\n",
    "               v, dv in p2coordinates.items()}"
   ],
   "metadata": {
    "collapsed": false,
    "ExecuteTime": {
     "end_time": "2025-07-18T10:08:03.556565Z",
     "start_time": "2025-07-18T10:08:03.489185Z"
    }
   },
   "id": "19e61fa36a51a2de",
   "execution_count": 11
  },
  {
   "cell_type": "code",
   "outputs": [],
   "source": [
    "\n",
    "\n",
    "routing_manager = PDRoutingManagerBuilder(\n",
    "    distance_matrix=distance_matrix,\n",
    "    time_matrix=time_matrix,\n",
    "    model_config=ModelConfig(max_execution_time_minutes=1)\n",
    ")\n",
    "\n",
    "routing_manager.add_cargos(cargos)\n",
    "routing_manager.add_tariff(tariff)\n",
    "\n",
    "routing_manager.add_depo(depo)\n",
    "\n",
    "# routing_manager.distance_matrix = distance_matrix\n",
    "# routing_manager.time_matrix = time_matrix\n",
    "\n",
    "\n",
    "routing_manager = routing_manager.build()"
   ],
   "metadata": {
    "collapsed": false,
    "ExecuteTime": {
     "end_time": "2025-07-18T10:08:03.577830Z",
     "start_time": "2025-07-18T10:08:03.558434Z"
    }
   },
   "id": "fe35819237497aa",
   "execution_count": 12
  },
  {
   "cell_type": "code",
   "outputs": [
    {
     "name": "stderr",
     "output_type": "stream",
     "text": [
      "\u001B[32m2025-07-18 13:08:04.393\u001B[0m | \u001B[1mINFO    \u001B[0m | \u001B[36mvrp_study.pdptw_model.solution_builder\u001B[0m:\u001B[36mget_initial_solution\u001B[0m:\u001B[36m122\u001B[0m - \u001B[1m(1, 32.074999999999996)\u001B[0m\n",
      "\u001B[32m2025-07-18 13:08:04.394\u001B[0m | \u001B[1mINFO    \u001B[0m | \u001B[36mvrp_study.pdptw_model.solution_builder\u001B[0m:\u001B[36mget_initial_solution\u001B[0m:\u001B[36m122\u001B[0m - \u001B[1m(1, 16.0875)\u001B[0m\n",
      "\u001B[32m2025-07-18 13:08:04.396\u001B[0m | \u001B[1mINFO    \u001B[0m | \u001B[36mvrp_study.pdptw_model.solution_builder\u001B[0m:\u001B[36mget_initial_solution\u001B[0m:\u001B[36m122\u001B[0m - \u001B[1m(1, 8.09375)\u001B[0m\n",
      "\u001B[32m2025-07-18 13:08:04.397\u001B[0m | \u001B[1mINFO    \u001B[0m | \u001B[36mvrp_study.pdptw_model.solution_builder\u001B[0m:\u001B[36mget_initial_solution\u001B[0m:\u001B[36m122\u001B[0m - \u001B[1m(1, 4.096875)\u001B[0m\n",
      "\u001B[32m2025-07-18 13:08:04.398\u001B[0m | \u001B[1mINFO    \u001B[0m | \u001B[36mvrp_study.pdptw_model.solution_builder\u001B[0m:\u001B[36mget_initial_solution\u001B[0m:\u001B[36m122\u001B[0m - \u001B[1m(1, 2.0984374999999997)\u001B[0m\n",
      "\u001B[32m2025-07-18 13:08:04.399\u001B[0m | \u001B[1mINFO    \u001B[0m | \u001B[36mvrp_study.pdptw_model.solution_builder\u001B[0m:\u001B[36mget_initial_solution\u001B[0m:\u001B[36m122\u001B[0m - \u001B[1m(1, 1.09921875)\u001B[0m\n",
      "\u001B[32m2025-07-18 13:08:04.400\u001B[0m | \u001B[1mINFO    \u001B[0m | \u001B[36mvrp_study.pdptw_model.solution_builder\u001B[0m:\u001B[36mget_initial_solution\u001B[0m:\u001B[36m122\u001B[0m - \u001B[1m(3, 0.599609375)\u001B[0m\n",
      "\u001B[32m2025-07-18 13:08:04.402\u001B[0m | \u001B[1mINFO    \u001B[0m | \u001B[36mvrp_study.pdptw_model.solution_builder\u001B[0m:\u001B[36mget_initial_solution\u001B[0m:\u001B[36m122\u001B[0m - \u001B[1m(3, 0.3498046875)\u001B[0m\n",
      "\u001B[32m2025-07-18 13:08:04.403\u001B[0m | \u001B[1mINFO    \u001B[0m | \u001B[36mvrp_study.pdptw_model.solution_builder\u001B[0m:\u001B[36mget_initial_solution\u001B[0m:\u001B[36m122\u001B[0m - \u001B[1m(5, 0.22490234375)\u001B[0m\n",
      "\u001B[32m2025-07-18 13:08:04.404\u001B[0m | \u001B[1mINFO    \u001B[0m | \u001B[36mvrp_study.pdptw_model.solution_builder\u001B[0m:\u001B[36mget_initial_solution\u001B[0m:\u001B[36m122\u001B[0m - \u001B[1m(5, 0.16245117187500002)\u001B[0m\n"
     ]
    },
    {
     "data": {
      "text/plain": "  0%|          | 0/1 [00:00<?, ?it/s]",
      "application/vnd.jupyter.widget-view+json": {
       "version_major": 2,
       "version_minor": 0,
       "model_id": "9d3f980e063b4349b66a7be7a79e75fb"
      }
     },
     "metadata": {},
     "output_type": "display_data"
    },
    {
     "name": "stderr",
     "output_type": "stream",
     "text": [
      "\u001B[32m2025-07-18 13:08:04.418\u001B[0m | \u001B[1mINFO    \u001B[0m | \u001B[36mvrp_study.pdptw_model.routing_model\u001B[0m:\u001B[36mfind_optimal_paths\u001B[0m:\u001B[36m443\u001B[0m - \u001B[1mproblem size: 11\u001B[0m\n",
      "\u001B[32m2025-07-18 13:08:04.420\u001B[0m | \u001B[1mINFO    \u001B[0m | \u001B[36mvrp_study.pdptw_model.routing_model\u001B[0m:\u001B[36mdo_solve\u001B[0m:\u001B[36m378\u001B[0m - \u001B[1mНачало создания модели\u001B[0m\n",
      "\u001B[32m2025-07-18 13:08:04.424\u001B[0m | \u001B[1mINFO    \u001B[0m | \u001B[36mvrp_study.pdptw_model.routing_model\u001B[0m:\u001B[36madd_distance_dimension\u001B[0m:\u001B[36m299\u001B[0m - \u001B[1mДобавление размерности для расстояния\u001B[0m\n",
      "\u001B[32m2025-07-18 13:08:04.425\u001B[0m | \u001B[1mINFO    \u001B[0m | \u001B[36mvrp_study.pdptw_model.routing_model\u001B[0m:\u001B[36madd_count_dimension\u001B[0m:\u001B[36m335\u001B[0m - \u001B[1mДобавление размерности для расстояния\u001B[0m\n",
      "\u001B[32m2025-07-18 13:08:04.427\u001B[0m | \u001B[1mINFO    \u001B[0m | \u001B[36mvrp_study.pdptw_model.routing_model\u001B[0m:\u001B[36madd_pick_up_and_delivery\u001B[0m:\u001B[36m269\u001B[0m - \u001B[1mДобавление ограничения для порядка доставки\u001B[0m\n",
      "\u001B[32m2025-07-18 13:08:04.428\u001B[0m | \u001B[1mINFO    \u001B[0m | \u001B[36mvrp_study.pdptw_model.routing_model\u001B[0m:\u001B[36madd_time_window\u001B[0m:\u001B[36m194\u001B[0m - \u001B[1madd time\u001B[0m\n",
      "\u001B[32m2025-07-18 13:08:04.429\u001B[0m | \u001B[1mINFO    \u001B[0m | \u001B[36mvrp_study.pdptw_model.routing_model\u001B[0m:\u001B[36madd_mass_constraint\u001B[0m:\u001B[36m177\u001B[0m - \u001B[1mДобавление ограничений для массы\u001B[0m\n",
      "\u001B[32m2025-07-18 13:08:04.437\u001B[0m | \u001B[1mINFO    \u001B[0m | \u001B[36mvrp_study.pdptw_model.routing_model\u001B[0m:\u001B[36mdo_solve\u001B[0m:\u001B[36m407\u001B[0m - \u001B[1mНачало решения\u001B[0m\n",
      "\u001B[32m2025-07-18 13:08:04.442\u001B[0m | \u001B[34m\u001B[1mDEBUG   \u001B[0m | \u001B[36mvrp_study.pdptw_model.routing_model\u001B[0m:\u001B[36m__call__\u001B[0m:\u001B[36m40\u001B[0m - \u001B[34m\u001B[1mtime: 0.008; new solution (1): 1; best solution: 1\u001B[0m\n",
      "\u001B[32m2025-07-18 13:08:04.458\u001B[0m | \u001B[1mINFO    \u001B[0m | \u001B[36mvrp_study.pdptw_model.routing_model\u001B[0m:\u001B[36mdo_solve\u001B[0m:\u001B[36m423\u001B[0m - \u001B[1mfind solution\u001B[0m\n",
      "\u001B[32m2025-07-18 13:08:04.459\u001B[0m | \u001B[1mINFO    \u001B[0m | \u001B[36mvrp_study.pdptw_model.routing_model\u001B[0m:\u001B[36mfind_optimal_paths\u001B[0m:\u001B[36m451\u001B[0m - \u001B[1mbest_score: 1\u001B[0m\n",
      "\u001B[32m2025-07-18 13:08:04.459\u001B[0m | \u001B[1mINFO    \u001B[0m | \u001B[36mvrp_study.pdptw_model.routing_model\u001B[0m:\u001B[36mdo_solve\u001B[0m:\u001B[36m378\u001B[0m - \u001B[1mНачало создания модели\u001B[0m\n",
      "\u001B[32m2025-07-18 13:08:04.462\u001B[0m | \u001B[1mINFO    \u001B[0m | \u001B[36mvrp_study.pdptw_model.routing_model\u001B[0m:\u001B[36madd_distance_dimension\u001B[0m:\u001B[36m299\u001B[0m - \u001B[1mДобавление размерности для расстояния\u001B[0m\n",
      "\u001B[32m2025-07-18 13:08:04.462\u001B[0m | \u001B[1mINFO    \u001B[0m | \u001B[36mvrp_study.pdptw_model.routing_model\u001B[0m:\u001B[36madd_count_dimension\u001B[0m:\u001B[36m335\u001B[0m - \u001B[1mДобавление размерности для расстояния\u001B[0m\n",
      "\u001B[32m2025-07-18 13:08:04.463\u001B[0m | \u001B[1mINFO    \u001B[0m | \u001B[36mvrp_study.pdptw_model.routing_model\u001B[0m:\u001B[36madd_pick_up_and_delivery\u001B[0m:\u001B[36m269\u001B[0m - \u001B[1mДобавление ограничения для порядка доставки\u001B[0m\n",
      "\u001B[32m2025-07-18 13:08:04.464\u001B[0m | \u001B[1mINFO    \u001B[0m | \u001B[36mvrp_study.pdptw_model.routing_model\u001B[0m:\u001B[36madd_vehicles_cost\u001B[0m:\u001B[36m243\u001B[0m - \u001B[1mДобавление стоимостей машин\u001B[0m\n",
      "\u001B[32m2025-07-18 13:08:04.466\u001B[0m | \u001B[1mINFO    \u001B[0m | \u001B[36mvrp_study.pdptw_model.routing_model\u001B[0m:\u001B[36madd_time_window\u001B[0m:\u001B[36m194\u001B[0m - \u001B[1madd time\u001B[0m\n",
      "\u001B[32m2025-07-18 13:08:04.467\u001B[0m | \u001B[1mINFO    \u001B[0m | \u001B[36mvrp_study.pdptw_model.routing_model\u001B[0m:\u001B[36madd_mass_constraint\u001B[0m:\u001B[36m177\u001B[0m - \u001B[1mДобавление ограничений для массы\u001B[0m\n",
      "\u001B[32m2025-07-18 13:08:04.469\u001B[0m | \u001B[1mINFO    \u001B[0m | \u001B[36mvrp_study.pdptw_model.routing_model\u001B[0m:\u001B[36mdo_solve\u001B[0m:\u001B[36m407\u001B[0m - \u001B[1mНачало решения\u001B[0m\n",
      "\u001B[32m2025-07-18 13:08:04.470\u001B[0m | \u001B[1mINFO    \u001B[0m | \u001B[36mvrp_study.pdptw_model.routing_model\u001B[0m:\u001B[36mdo_solve\u001B[0m:\u001B[36m410\u001B[0m - \u001B[1muse initial_solution: 1\u001B[0m\n",
      "\u001B[32m2025-07-18 13:08:04.472\u001B[0m | \u001B[34m\u001B[1mDEBUG   \u001B[0m | \u001B[36mvrp_study.pdptw_model.routing_model\u001B[0m:\u001B[36m__call__\u001B[0m:\u001B[36m40\u001B[0m - \u001B[34m\u001B[1mtime: 0.003; new solution (1): 5868; best solution: 5868\u001B[0m\n",
      "\u001B[32m2025-07-18 13:08:04.473\u001B[0m | \u001B[34m\u001B[1mDEBUG   \u001B[0m | \u001B[36mvrp_study.pdptw_model.routing_model\u001B[0m:\u001B[36m__call__\u001B[0m:\u001B[36m40\u001B[0m - \u001B[34m\u001B[1mtime: 0.005; new solution (2): 5868; best solution: 5868\u001B[0m\n",
      "\u001B[32m2025-07-18 13:08:04.494\u001B[0m | \u001B[1mINFO    \u001B[0m | \u001B[36mvrp_study.pdptw_model.routing_model\u001B[0m:\u001B[36mdo_solve\u001B[0m:\u001B[36m423\u001B[0m - \u001B[1mfind solution\u001B[0m\n",
      "\u001B[32m2025-07-18 13:08:04.495\u001B[0m | \u001B[1mINFO    \u001B[0m | \u001B[36mvrp_study.pdptw_model.routing_model\u001B[0m:\u001B[36mfind_optimal_paths\u001B[0m:\u001B[36m464\u001B[0m - \u001B[1mbest_score: 58.68\u001B[0m\n",
      "\u001B[32m2025-07-18 13:08:04.496\u001B[0m | \u001B[1mINFO    \u001B[0m | \u001B[36mvrp_study.pdptw_model.solution_builder\u001B[0m:\u001B[36mget_initial_solution\u001B[0m:\u001B[36m142\u001B[0m - \u001B[1m[[0, 7, 8, 9, 10, 1, 5, 3, 6, 4, 2, 0], [], [], [], [], [], [], [], [], [], [], [], [], [], [], [], [], [], [], [], [], [], [], [], []]\u001B[0m\n"
     ]
    },
    {
     "data": {
      "text/plain": "  0%|          | 0/1 [00:00<?, ?it/s]",
      "application/vnd.jupyter.widget-view+json": {
       "version_major": 2,
       "version_minor": 0,
       "model_id": "bd9255474cf144f483f4fbfbd926d434"
      }
     },
     "metadata": {},
     "output_type": "display_data"
    },
    {
     "name": "stderr",
     "output_type": "stream",
     "text": [
      "\u001B[32m2025-07-18 13:08:04.508\u001B[0m | \u001B[1mINFO    \u001B[0m | \u001B[36mvrp_study.pdptw_model.routing_model\u001B[0m:\u001B[36mfind_optimal_paths\u001B[0m:\u001B[36m443\u001B[0m - \u001B[1mproblem size: 3\u001B[0m\n",
      "\u001B[32m2025-07-18 13:08:04.509\u001B[0m | \u001B[1mINFO    \u001B[0m | \u001B[36mvrp_study.pdptw_model.routing_model\u001B[0m:\u001B[36mdo_solve\u001B[0m:\u001B[36m378\u001B[0m - \u001B[1mНачало создания модели\u001B[0m\n",
      "\u001B[32m2025-07-18 13:08:04.511\u001B[0m | \u001B[1mINFO    \u001B[0m | \u001B[36mvrp_study.pdptw_model.routing_model\u001B[0m:\u001B[36madd_distance_dimension\u001B[0m:\u001B[36m299\u001B[0m - \u001B[1mДобавление размерности для расстояния\u001B[0m\n",
      "\u001B[32m2025-07-18 13:08:04.512\u001B[0m | \u001B[1mINFO    \u001B[0m | \u001B[36mvrp_study.pdptw_model.routing_model\u001B[0m:\u001B[36madd_count_dimension\u001B[0m:\u001B[36m335\u001B[0m - \u001B[1mДобавление размерности для расстояния\u001B[0m\n",
      "\u001B[32m2025-07-18 13:08:04.513\u001B[0m | \u001B[1mINFO    \u001B[0m | \u001B[36mvrp_study.pdptw_model.routing_model\u001B[0m:\u001B[36madd_pick_up_and_delivery\u001B[0m:\u001B[36m269\u001B[0m - \u001B[1mДобавление ограничения для порядка доставки\u001B[0m\n",
      "\u001B[32m2025-07-18 13:08:04.514\u001B[0m | \u001B[1mINFO    \u001B[0m | \u001B[36mvrp_study.pdptw_model.routing_model\u001B[0m:\u001B[36madd_time_window\u001B[0m:\u001B[36m194\u001B[0m - \u001B[1madd time\u001B[0m\n",
      "\u001B[32m2025-07-18 13:08:04.516\u001B[0m | \u001B[1mINFO    \u001B[0m | \u001B[36mvrp_study.pdptw_model.routing_model\u001B[0m:\u001B[36madd_mass_constraint\u001B[0m:\u001B[36m177\u001B[0m - \u001B[1mДобавление ограничений для массы\u001B[0m\n",
      "\u001B[32m2025-07-18 13:08:04.520\u001B[0m | \u001B[1mINFO    \u001B[0m | \u001B[36mvrp_study.pdptw_model.routing_model\u001B[0m:\u001B[36mdo_solve\u001B[0m:\u001B[36m407\u001B[0m - \u001B[1mНачало решения\u001B[0m\n",
      "\u001B[32m2025-07-18 13:08:04.524\u001B[0m | \u001B[34m\u001B[1mDEBUG   \u001B[0m | \u001B[36mvrp_study.pdptw_model.routing_model\u001B[0m:\u001B[36m__call__\u001B[0m:\u001B[36m40\u001B[0m - \u001B[34m\u001B[1mtime: 0.007; new solution (1): 1; best solution: 1\u001B[0m\n",
      "\u001B[32m2025-07-18 13:08:04.527\u001B[0m | \u001B[1mINFO    \u001B[0m | \u001B[36mvrp_study.pdptw_model.routing_model\u001B[0m:\u001B[36mdo_solve\u001B[0m:\u001B[36m423\u001B[0m - \u001B[1mfind solution\u001B[0m\n",
      "\u001B[32m2025-07-18 13:08:04.528\u001B[0m | \u001B[1mINFO    \u001B[0m | \u001B[36mvrp_study.pdptw_model.routing_model\u001B[0m:\u001B[36mfind_optimal_paths\u001B[0m:\u001B[36m451\u001B[0m - \u001B[1mbest_score: 1\u001B[0m\n",
      "\u001B[32m2025-07-18 13:08:04.529\u001B[0m | \u001B[1mINFO    \u001B[0m | \u001B[36mvrp_study.pdptw_model.routing_model\u001B[0m:\u001B[36mdo_solve\u001B[0m:\u001B[36m378\u001B[0m - \u001B[1mНачало создания модели\u001B[0m\n",
      "\u001B[32m2025-07-18 13:08:04.534\u001B[0m | \u001B[1mINFO    \u001B[0m | \u001B[36mvrp_study.pdptw_model.routing_model\u001B[0m:\u001B[36madd_distance_dimension\u001B[0m:\u001B[36m299\u001B[0m - \u001B[1mДобавление размерности для расстояния\u001B[0m\n",
      "\u001B[32m2025-07-18 13:08:04.535\u001B[0m | \u001B[1mINFO    \u001B[0m | \u001B[36mvrp_study.pdptw_model.routing_model\u001B[0m:\u001B[36madd_count_dimension\u001B[0m:\u001B[36m335\u001B[0m - \u001B[1mДобавление размерности для расстояния\u001B[0m\n",
      "\u001B[32m2025-07-18 13:08:04.536\u001B[0m | \u001B[1mINFO    \u001B[0m | \u001B[36mvrp_study.pdptw_model.routing_model\u001B[0m:\u001B[36madd_pick_up_and_delivery\u001B[0m:\u001B[36m269\u001B[0m - \u001B[1mДобавление ограничения для порядка доставки\u001B[0m\n",
      "\u001B[32m2025-07-18 13:08:04.537\u001B[0m | \u001B[1mINFO    \u001B[0m | \u001B[36mvrp_study.pdptw_model.routing_model\u001B[0m:\u001B[36madd_vehicles_cost\u001B[0m:\u001B[36m243\u001B[0m - \u001B[1mДобавление стоимостей машин\u001B[0m\n",
      "\u001B[32m2025-07-18 13:08:04.538\u001B[0m | \u001B[1mINFO    \u001B[0m | \u001B[36mvrp_study.pdptw_model.routing_model\u001B[0m:\u001B[36madd_time_window\u001B[0m:\u001B[36m194\u001B[0m - \u001B[1madd time\u001B[0m\n",
      "\u001B[32m2025-07-18 13:08:04.540\u001B[0m | \u001B[1mINFO    \u001B[0m | \u001B[36mvrp_study.pdptw_model.routing_model\u001B[0m:\u001B[36madd_mass_constraint\u001B[0m:\u001B[36m177\u001B[0m - \u001B[1mДобавление ограничений для массы\u001B[0m\n",
      "\u001B[32m2025-07-18 13:08:04.542\u001B[0m | \u001B[1mINFO    \u001B[0m | \u001B[36mvrp_study.pdptw_model.routing_model\u001B[0m:\u001B[36mdo_solve\u001B[0m:\u001B[36m407\u001B[0m - \u001B[1mНачало решения\u001B[0m\n",
      "\u001B[32m2025-07-18 13:08:04.544\u001B[0m | \u001B[1mINFO    \u001B[0m | \u001B[36mvrp_study.pdptw_model.routing_model\u001B[0m:\u001B[36mdo_solve\u001B[0m:\u001B[36m410\u001B[0m - \u001B[1muse initial_solution: 1\u001B[0m\n",
      "\u001B[32m2025-07-18 13:08:04.545\u001B[0m | \u001B[34m\u001B[1mDEBUG   \u001B[0m | \u001B[36mvrp_study.pdptw_model.routing_model\u001B[0m:\u001B[36m__call__\u001B[0m:\u001B[36m40\u001B[0m - \u001B[34m\u001B[1mtime: 0.003; new solution (1): 3509; best solution: 3509\u001B[0m\n",
      "\u001B[32m2025-07-18 13:08:04.547\u001B[0m | \u001B[34m\u001B[1mDEBUG   \u001B[0m | \u001B[36mvrp_study.pdptw_model.routing_model\u001B[0m:\u001B[36m__call__\u001B[0m:\u001B[36m40\u001B[0m - \u001B[34m\u001B[1mtime: 0.005; new solution (2): 3509; best solution: 3509\u001B[0m\n",
      "\u001B[32m2025-07-18 13:08:04.549\u001B[0m | \u001B[1mINFO    \u001B[0m | \u001B[36mvrp_study.pdptw_model.routing_model\u001B[0m:\u001B[36mdo_solve\u001B[0m:\u001B[36m423\u001B[0m - \u001B[1mfind solution\u001B[0m\n",
      "\u001B[32m2025-07-18 13:08:04.550\u001B[0m | \u001B[1mINFO    \u001B[0m | \u001B[36mvrp_study.pdptw_model.routing_model\u001B[0m:\u001B[36mfind_optimal_paths\u001B[0m:\u001B[36m464\u001B[0m - \u001B[1mbest_score: 35.09\u001B[0m\n",
      "\u001B[32m2025-07-18 13:08:04.551\u001B[0m | \u001B[1mINFO    \u001B[0m | \u001B[36mvrp_study.pdptw_model.solution_builder\u001B[0m:\u001B[36mget_initial_solution\u001B[0m:\u001B[36m142\u001B[0m - \u001B[1m[[0, 1, 2, 0], [], [], [], [], [], [], [], [], [], [], [], [], [], [], [], [], [], [], [], [], [], [], []]\u001B[0m\n",
      "\u001B[32m2025-07-18 13:08:04.557\u001B[0m | \u001B[1mINFO    \u001B[0m | \u001B[36mvrp_study.pdptw_model.solution_builder\u001B[0m:\u001B[36mget_initial_solution\u001B[0m:\u001B[36m122\u001B[0m - \u001B[1m(1, 32.074999999999996)\u001B[0m\n",
      "\u001B[32m2025-07-18 13:08:04.560\u001B[0m | \u001B[1mINFO    \u001B[0m | \u001B[36mvrp_study.pdptw_model.solution_builder\u001B[0m:\u001B[36mget_initial_solution\u001B[0m:\u001B[36m122\u001B[0m - \u001B[1m(1, 16.0875)\u001B[0m\n",
      "\u001B[32m2025-07-18 13:08:04.562\u001B[0m | \u001B[1mINFO    \u001B[0m | \u001B[36mvrp_study.pdptw_model.solution_builder\u001B[0m:\u001B[36mget_initial_solution\u001B[0m:\u001B[36m122\u001B[0m - \u001B[1m(1, 8.09375)\u001B[0m\n",
      "\u001B[32m2025-07-18 13:08:04.563\u001B[0m | \u001B[1mINFO    \u001B[0m | \u001B[36mvrp_study.pdptw_model.solution_builder\u001B[0m:\u001B[36mget_initial_solution\u001B[0m:\u001B[36m122\u001B[0m - \u001B[1m(1, 4.096875)\u001B[0m\n",
      "\u001B[32m2025-07-18 13:08:04.565\u001B[0m | \u001B[1mINFO    \u001B[0m | \u001B[36mvrp_study.pdptw_model.solution_builder\u001B[0m:\u001B[36mget_initial_solution\u001B[0m:\u001B[36m122\u001B[0m - \u001B[1m(1, 2.0984374999999997)\u001B[0m\n",
      "\u001B[32m2025-07-18 13:08:04.567\u001B[0m | \u001B[1mINFO    \u001B[0m | \u001B[36mvrp_study.pdptw_model.solution_builder\u001B[0m:\u001B[36mget_initial_solution\u001B[0m:\u001B[36m122\u001B[0m - \u001B[1m(1, 1.09921875)\u001B[0m\n",
      "\u001B[32m2025-07-18 13:08:04.568\u001B[0m | \u001B[1mINFO    \u001B[0m | \u001B[36mvrp_study.pdptw_model.solution_builder\u001B[0m:\u001B[36mget_initial_solution\u001B[0m:\u001B[36m122\u001B[0m - \u001B[1m(2, 0.599609375)\u001B[0m\n",
      "\u001B[32m2025-07-18 13:08:04.571\u001B[0m | \u001B[1mINFO    \u001B[0m | \u001B[36mvrp_study.pdptw_model.solution_builder\u001B[0m:\u001B[36mget_initial_solution\u001B[0m:\u001B[36m122\u001B[0m - \u001B[1m(3, 0.3498046875)\u001B[0m\n",
      "\u001B[32m2025-07-18 13:08:04.573\u001B[0m | \u001B[1mINFO    \u001B[0m | \u001B[36mvrp_study.pdptw_model.solution_builder\u001B[0m:\u001B[36mget_initial_solution\u001B[0m:\u001B[36m122\u001B[0m - \u001B[1m(4, 0.22490234375)\u001B[0m\n",
      "\u001B[32m2025-07-18 13:08:04.574\u001B[0m | \u001B[1mINFO    \u001B[0m | \u001B[36mvrp_study.pdptw_model.solution_builder\u001B[0m:\u001B[36mget_initial_solution\u001B[0m:\u001B[36m122\u001B[0m - \u001B[1m(4, 0.16245117187500002)\u001B[0m\n"
     ]
    },
    {
     "data": {
      "text/plain": "  0%|          | 0/1 [00:00<?, ?it/s]",
      "application/vnd.jupyter.widget-view+json": {
       "version_major": 2,
       "version_minor": 0,
       "model_id": "1882afa6a27940498f1a70985014e246"
      }
     },
     "metadata": {},
     "output_type": "display_data"
    },
    {
     "name": "stderr",
     "output_type": "stream",
     "text": [
      "\u001B[32m2025-07-18 13:08:04.586\u001B[0m | \u001B[1mINFO    \u001B[0m | \u001B[36mvrp_study.pdptw_model.routing_model\u001B[0m:\u001B[36mfind_optimal_paths\u001B[0m:\u001B[36m443\u001B[0m - \u001B[1mproblem size: 9\u001B[0m\n",
      "\u001B[32m2025-07-18 13:08:04.587\u001B[0m | \u001B[1mINFO    \u001B[0m | \u001B[36mvrp_study.pdptw_model.routing_model\u001B[0m:\u001B[36mdo_solve\u001B[0m:\u001B[36m378\u001B[0m - \u001B[1mНачало создания модели\u001B[0m\n",
      "\u001B[32m2025-07-18 13:08:04.589\u001B[0m | \u001B[1mINFO    \u001B[0m | \u001B[36mvrp_study.pdptw_model.routing_model\u001B[0m:\u001B[36madd_distance_dimension\u001B[0m:\u001B[36m299\u001B[0m - \u001B[1mДобавление размерности для расстояния\u001B[0m\n",
      "\u001B[32m2025-07-18 13:08:04.591\u001B[0m | \u001B[1mINFO    \u001B[0m | \u001B[36mvrp_study.pdptw_model.routing_model\u001B[0m:\u001B[36madd_count_dimension\u001B[0m:\u001B[36m335\u001B[0m - \u001B[1mДобавление размерности для расстояния\u001B[0m\n",
      "\u001B[32m2025-07-18 13:08:04.592\u001B[0m | \u001B[1mINFO    \u001B[0m | \u001B[36mvrp_study.pdptw_model.routing_model\u001B[0m:\u001B[36madd_pick_up_and_delivery\u001B[0m:\u001B[36m269\u001B[0m - \u001B[1mДобавление ограничения для порядка доставки\u001B[0m\n",
      "\u001B[32m2025-07-18 13:08:04.594\u001B[0m | \u001B[1mINFO    \u001B[0m | \u001B[36mvrp_study.pdptw_model.routing_model\u001B[0m:\u001B[36madd_time_window\u001B[0m:\u001B[36m194\u001B[0m - \u001B[1madd time\u001B[0m\n",
      "\u001B[32m2025-07-18 13:08:04.597\u001B[0m | \u001B[1mINFO    \u001B[0m | \u001B[36mvrp_study.pdptw_model.routing_model\u001B[0m:\u001B[36madd_mass_constraint\u001B[0m:\u001B[36m177\u001B[0m - \u001B[1mДобавление ограничений для массы\u001B[0m\n",
      "\u001B[32m2025-07-18 13:08:04.601\u001B[0m | \u001B[1mINFO    \u001B[0m | \u001B[36mvrp_study.pdptw_model.routing_model\u001B[0m:\u001B[36mdo_solve\u001B[0m:\u001B[36m407\u001B[0m - \u001B[1mНачало решения\u001B[0m\n",
      "\u001B[32m2025-07-18 13:08:04.605\u001B[0m | \u001B[34m\u001B[1mDEBUG   \u001B[0m | \u001B[36mvrp_study.pdptw_model.routing_model\u001B[0m:\u001B[36m__call__\u001B[0m:\u001B[36m40\u001B[0m - \u001B[34m\u001B[1mtime: 0.007; new solution (1): 1; best solution: 1\u001B[0m\n",
      "\u001B[32m2025-07-18 13:08:04.619\u001B[0m | \u001B[1mINFO    \u001B[0m | \u001B[36mvrp_study.pdptw_model.routing_model\u001B[0m:\u001B[36mdo_solve\u001B[0m:\u001B[36m423\u001B[0m - \u001B[1mfind solution\u001B[0m\n",
      "\u001B[32m2025-07-18 13:08:04.620\u001B[0m | \u001B[1mINFO    \u001B[0m | \u001B[36mvrp_study.pdptw_model.routing_model\u001B[0m:\u001B[36mfind_optimal_paths\u001B[0m:\u001B[36m451\u001B[0m - \u001B[1mbest_score: 1\u001B[0m\n",
      "\u001B[32m2025-07-18 13:08:04.621\u001B[0m | \u001B[1mINFO    \u001B[0m | \u001B[36mvrp_study.pdptw_model.routing_model\u001B[0m:\u001B[36mdo_solve\u001B[0m:\u001B[36m378\u001B[0m - \u001B[1mНачало создания модели\u001B[0m\n",
      "\u001B[32m2025-07-18 13:08:04.624\u001B[0m | \u001B[1mINFO    \u001B[0m | \u001B[36mvrp_study.pdptw_model.routing_model\u001B[0m:\u001B[36madd_distance_dimension\u001B[0m:\u001B[36m299\u001B[0m - \u001B[1mДобавление размерности для расстояния\u001B[0m\n",
      "\u001B[32m2025-07-18 13:08:04.626\u001B[0m | \u001B[1mINFO    \u001B[0m | \u001B[36mvrp_study.pdptw_model.routing_model\u001B[0m:\u001B[36madd_count_dimension\u001B[0m:\u001B[36m335\u001B[0m - \u001B[1mДобавление размерности для расстояния\u001B[0m\n",
      "\u001B[32m2025-07-18 13:08:04.627\u001B[0m | \u001B[1mINFO    \u001B[0m | \u001B[36mvrp_study.pdptw_model.routing_model\u001B[0m:\u001B[36madd_pick_up_and_delivery\u001B[0m:\u001B[36m269\u001B[0m - \u001B[1mДобавление ограничения для порядка доставки\u001B[0m\n",
      "\u001B[32m2025-07-18 13:08:04.628\u001B[0m | \u001B[1mINFO    \u001B[0m | \u001B[36mvrp_study.pdptw_model.routing_model\u001B[0m:\u001B[36madd_vehicles_cost\u001B[0m:\u001B[36m243\u001B[0m - \u001B[1mДобавление стоимостей машин\u001B[0m\n",
      "\u001B[32m2025-07-18 13:08:04.629\u001B[0m | \u001B[1mINFO    \u001B[0m | \u001B[36mvrp_study.pdptw_model.routing_model\u001B[0m:\u001B[36madd_time_window\u001B[0m:\u001B[36m194\u001B[0m - \u001B[1madd time\u001B[0m\n",
      "\u001B[32m2025-07-18 13:08:04.631\u001B[0m | \u001B[1mINFO    \u001B[0m | \u001B[36mvrp_study.pdptw_model.routing_model\u001B[0m:\u001B[36madd_mass_constraint\u001B[0m:\u001B[36m177\u001B[0m - \u001B[1mДобавление ограничений для массы\u001B[0m\n",
      "\u001B[32m2025-07-18 13:08:04.633\u001B[0m | \u001B[1mINFO    \u001B[0m | \u001B[36mvrp_study.pdptw_model.routing_model\u001B[0m:\u001B[36mdo_solve\u001B[0m:\u001B[36m407\u001B[0m - \u001B[1mНачало решения\u001B[0m\n",
      "\u001B[32m2025-07-18 13:08:04.634\u001B[0m | \u001B[1mINFO    \u001B[0m | \u001B[36mvrp_study.pdptw_model.routing_model\u001B[0m:\u001B[36mdo_solve\u001B[0m:\u001B[36m410\u001B[0m - \u001B[1muse initial_solution: 1\u001B[0m\n",
      "\u001B[32m2025-07-18 13:08:04.635\u001B[0m | \u001B[34m\u001B[1mDEBUG   \u001B[0m | \u001B[36mvrp_study.pdptw_model.routing_model\u001B[0m:\u001B[36m__call__\u001B[0m:\u001B[36m40\u001B[0m - \u001B[34m\u001B[1mtime: 0.004; new solution (1): 9587; best solution: 9587\u001B[0m\n",
      "\u001B[32m2025-07-18 13:08:04.637\u001B[0m | \u001B[34m\u001B[1mDEBUG   \u001B[0m | \u001B[36mvrp_study.pdptw_model.routing_model\u001B[0m:\u001B[36m__call__\u001B[0m:\u001B[36m40\u001B[0m - \u001B[34m\u001B[1mtime: 0.005; new solution (2): 9587; best solution: 9587\u001B[0m\n",
      "\u001B[32m2025-07-18 13:08:04.647\u001B[0m | \u001B[1mINFO    \u001B[0m | \u001B[36mvrp_study.pdptw_model.routing_model\u001B[0m:\u001B[36mdo_solve\u001B[0m:\u001B[36m423\u001B[0m - \u001B[1mfind solution\u001B[0m\n",
      "\u001B[32m2025-07-18 13:08:04.648\u001B[0m | \u001B[1mINFO    \u001B[0m | \u001B[36mvrp_study.pdptw_model.routing_model\u001B[0m:\u001B[36mfind_optimal_paths\u001B[0m:\u001B[36m464\u001B[0m - \u001B[1mbest_score: 95.87\u001B[0m\n",
      "\u001B[32m2025-07-18 13:08:04.649\u001B[0m | \u001B[1mINFO    \u001B[0m | \u001B[36mvrp_study.pdptw_model.solution_builder\u001B[0m:\u001B[36mget_initial_solution\u001B[0m:\u001B[36m142\u001B[0m - \u001B[1m[[0, 7, 8, 5, 3, 4, 1, 2, 6, 0], [], [], [], [], [], [], [], [], [], [], [], [], [], [], [], [], [], [], [], [], [], []]\u001B[0m\n",
      "\u001B[32m2025-07-18 13:08:04.655\u001B[0m | \u001B[1mINFO    \u001B[0m | \u001B[36mvrp_study.pdptw_model.solution_builder\u001B[0m:\u001B[36mget_initial_solution\u001B[0m:\u001B[36m122\u001B[0m - \u001B[1m(1, 32.074999999999996)\u001B[0m\n",
      "\u001B[32m2025-07-18 13:08:04.723\u001B[0m | \u001B[1mINFO    \u001B[0m | \u001B[36mvrp_study.pdptw_model.solution_builder\u001B[0m:\u001B[36mget_initial_solution\u001B[0m:\u001B[36m122\u001B[0m - \u001B[1m(1, 16.0875)\u001B[0m\n",
      "\u001B[32m2025-07-18 13:08:04.725\u001B[0m | \u001B[1mINFO    \u001B[0m | \u001B[36mvrp_study.pdptw_model.solution_builder\u001B[0m:\u001B[36mget_initial_solution\u001B[0m:\u001B[36m122\u001B[0m - \u001B[1m(1, 8.09375)\u001B[0m\n",
      "\u001B[32m2025-07-18 13:08:04.727\u001B[0m | \u001B[1mINFO    \u001B[0m | \u001B[36mvrp_study.pdptw_model.solution_builder\u001B[0m:\u001B[36mget_initial_solution\u001B[0m:\u001B[36m122\u001B[0m - \u001B[1m(1, 4.096875)\u001B[0m\n",
      "\u001B[32m2025-07-18 13:08:04.729\u001B[0m | \u001B[1mINFO    \u001B[0m | \u001B[36mvrp_study.pdptw_model.solution_builder\u001B[0m:\u001B[36mget_initial_solution\u001B[0m:\u001B[36m122\u001B[0m - \u001B[1m(1, 2.0984374999999997)\u001B[0m\n",
      "\u001B[32m2025-07-18 13:08:04.730\u001B[0m | \u001B[1mINFO    \u001B[0m | \u001B[36mvrp_study.pdptw_model.solution_builder\u001B[0m:\u001B[36mget_initial_solution\u001B[0m:\u001B[36m122\u001B[0m - \u001B[1m(1, 1.09921875)\u001B[0m\n",
      "\u001B[32m2025-07-18 13:08:04.733\u001B[0m | \u001B[1mINFO    \u001B[0m | \u001B[36mvrp_study.pdptw_model.solution_builder\u001B[0m:\u001B[36mget_initial_solution\u001B[0m:\u001B[36m122\u001B[0m - \u001B[1m(6, 0.599609375)\u001B[0m\n",
      "\u001B[32m2025-07-18 13:08:04.735\u001B[0m | \u001B[1mINFO    \u001B[0m | \u001B[36mvrp_study.pdptw_model.solution_builder\u001B[0m:\u001B[36mget_initial_solution\u001B[0m:\u001B[36m122\u001B[0m - \u001B[1m(6, 0.3498046875)\u001B[0m\n",
      "\u001B[32m2025-07-18 13:08:04.737\u001B[0m | \u001B[1mINFO    \u001B[0m | \u001B[36mvrp_study.pdptw_model.solution_builder\u001B[0m:\u001B[36mget_initial_solution\u001B[0m:\u001B[36m122\u001B[0m - \u001B[1m(6, 0.22490234375)\u001B[0m\n",
      "\u001B[32m2025-07-18 13:08:04.740\u001B[0m | \u001B[1mINFO    \u001B[0m | \u001B[36mvrp_study.pdptw_model.solution_builder\u001B[0m:\u001B[36mget_initial_solution\u001B[0m:\u001B[36m122\u001B[0m - \u001B[1m(6, 0.16245117187500002)\u001B[0m\n"
     ]
    },
    {
     "data": {
      "text/plain": "  0%|          | 0/1 [00:00<?, ?it/s]",
      "application/vnd.jupyter.widget-view+json": {
       "version_major": 2,
       "version_minor": 0,
       "model_id": "a699668451e8408c8bcbc2fd0c6fe9f3"
      }
     },
     "metadata": {},
     "output_type": "display_data"
    },
    {
     "name": "stderr",
     "output_type": "stream",
     "text": [
      "\u001B[32m2025-07-18 13:08:04.753\u001B[0m | \u001B[1mINFO    \u001B[0m | \u001B[36mvrp_study.pdptw_model.routing_model\u001B[0m:\u001B[36mfind_optimal_paths\u001B[0m:\u001B[36m443\u001B[0m - \u001B[1mproblem size: 13\u001B[0m\n",
      "\u001B[32m2025-07-18 13:08:04.754\u001B[0m | \u001B[1mINFO    \u001B[0m | \u001B[36mvrp_study.pdptw_model.routing_model\u001B[0m:\u001B[36mdo_solve\u001B[0m:\u001B[36m378\u001B[0m - \u001B[1mНачало создания модели\u001B[0m\n",
      "\u001B[32m2025-07-18 13:08:04.756\u001B[0m | \u001B[1mINFO    \u001B[0m | \u001B[36mvrp_study.pdptw_model.routing_model\u001B[0m:\u001B[36madd_distance_dimension\u001B[0m:\u001B[36m299\u001B[0m - \u001B[1mДобавление размерности для расстояния\u001B[0m\n",
      "\u001B[32m2025-07-18 13:08:04.758\u001B[0m | \u001B[1mINFO    \u001B[0m | \u001B[36mvrp_study.pdptw_model.routing_model\u001B[0m:\u001B[36madd_count_dimension\u001B[0m:\u001B[36m335\u001B[0m - \u001B[1mДобавление размерности для расстояния\u001B[0m\n",
      "\u001B[32m2025-07-18 13:08:04.759\u001B[0m | \u001B[1mINFO    \u001B[0m | \u001B[36mvrp_study.pdptw_model.routing_model\u001B[0m:\u001B[36madd_pick_up_and_delivery\u001B[0m:\u001B[36m269\u001B[0m - \u001B[1mДобавление ограничения для порядка доставки\u001B[0m\n",
      "\u001B[32m2025-07-18 13:08:04.760\u001B[0m | \u001B[1mINFO    \u001B[0m | \u001B[36mvrp_study.pdptw_model.routing_model\u001B[0m:\u001B[36madd_time_window\u001B[0m:\u001B[36m194\u001B[0m - \u001B[1madd time\u001B[0m\n",
      "\u001B[32m2025-07-18 13:08:04.762\u001B[0m | \u001B[1mINFO    \u001B[0m | \u001B[36mvrp_study.pdptw_model.routing_model\u001B[0m:\u001B[36madd_mass_constraint\u001B[0m:\u001B[36m177\u001B[0m - \u001B[1mДобавление ограничений для массы\u001B[0m\n",
      "\u001B[32m2025-07-18 13:08:04.766\u001B[0m | \u001B[1mINFO    \u001B[0m | \u001B[36mvrp_study.pdptw_model.routing_model\u001B[0m:\u001B[36mdo_solve\u001B[0m:\u001B[36m407\u001B[0m - \u001B[1mНачало решения\u001B[0m\n",
      "\u001B[32m2025-07-18 13:08:04.774\u001B[0m | \u001B[34m\u001B[1mDEBUG   \u001B[0m | \u001B[36mvrp_study.pdptw_model.routing_model\u001B[0m:\u001B[36m__call__\u001B[0m:\u001B[36m40\u001B[0m - \u001B[34m\u001B[1mtime: 0.011; new solution (1): 1; best solution: 1\u001B[0m\n",
      "\u001B[32m2025-07-18 13:08:04.803\u001B[0m | \u001B[1mINFO    \u001B[0m | \u001B[36mvrp_study.pdptw_model.routing_model\u001B[0m:\u001B[36mdo_solve\u001B[0m:\u001B[36m423\u001B[0m - \u001B[1mfind solution\u001B[0m\n",
      "\u001B[32m2025-07-18 13:08:04.805\u001B[0m | \u001B[1mINFO    \u001B[0m | \u001B[36mvrp_study.pdptw_model.routing_model\u001B[0m:\u001B[36mfind_optimal_paths\u001B[0m:\u001B[36m451\u001B[0m - \u001B[1mbest_score: 1\u001B[0m\n",
      "\u001B[32m2025-07-18 13:08:04.805\u001B[0m | \u001B[1mINFO    \u001B[0m | \u001B[36mvrp_study.pdptw_model.routing_model\u001B[0m:\u001B[36mdo_solve\u001B[0m:\u001B[36m378\u001B[0m - \u001B[1mНачало создания модели\u001B[0m\n",
      "\u001B[32m2025-07-18 13:08:04.808\u001B[0m | \u001B[1mINFO    \u001B[0m | \u001B[36mvrp_study.pdptw_model.routing_model\u001B[0m:\u001B[36madd_distance_dimension\u001B[0m:\u001B[36m299\u001B[0m - \u001B[1mДобавление размерности для расстояния\u001B[0m\n",
      "\u001B[32m2025-07-18 13:08:04.809\u001B[0m | \u001B[1mINFO    \u001B[0m | \u001B[36mvrp_study.pdptw_model.routing_model\u001B[0m:\u001B[36madd_count_dimension\u001B[0m:\u001B[36m335\u001B[0m - \u001B[1mДобавление размерности для расстояния\u001B[0m\n",
      "\u001B[32m2025-07-18 13:08:04.810\u001B[0m | \u001B[1mINFO    \u001B[0m | \u001B[36mvrp_study.pdptw_model.routing_model\u001B[0m:\u001B[36madd_pick_up_and_delivery\u001B[0m:\u001B[36m269\u001B[0m - \u001B[1mДобавление ограничения для порядка доставки\u001B[0m\n",
      "\u001B[32m2025-07-18 13:08:04.811\u001B[0m | \u001B[1mINFO    \u001B[0m | \u001B[36mvrp_study.pdptw_model.routing_model\u001B[0m:\u001B[36madd_vehicles_cost\u001B[0m:\u001B[36m243\u001B[0m - \u001B[1mДобавление стоимостей машин\u001B[0m\n",
      "\u001B[32m2025-07-18 13:08:04.812\u001B[0m | \u001B[1mINFO    \u001B[0m | \u001B[36mvrp_study.pdptw_model.routing_model\u001B[0m:\u001B[36madd_time_window\u001B[0m:\u001B[36m194\u001B[0m - \u001B[1madd time\u001B[0m\n",
      "\u001B[32m2025-07-18 13:08:04.813\u001B[0m | \u001B[1mINFO    \u001B[0m | \u001B[36mvrp_study.pdptw_model.routing_model\u001B[0m:\u001B[36madd_mass_constraint\u001B[0m:\u001B[36m177\u001B[0m - \u001B[1mДобавление ограничений для массы\u001B[0m\n",
      "\u001B[32m2025-07-18 13:08:04.816\u001B[0m | \u001B[1mINFO    \u001B[0m | \u001B[36mvrp_study.pdptw_model.routing_model\u001B[0m:\u001B[36mdo_solve\u001B[0m:\u001B[36m407\u001B[0m - \u001B[1mНачало решения\u001B[0m\n",
      "\u001B[32m2025-07-18 13:08:04.818\u001B[0m | \u001B[1mINFO    \u001B[0m | \u001B[36mvrp_study.pdptw_model.routing_model\u001B[0m:\u001B[36mdo_solve\u001B[0m:\u001B[36m410\u001B[0m - \u001B[1muse initial_solution: 1\u001B[0m\n",
      "\u001B[32m2025-07-18 13:08:04.819\u001B[0m | \u001B[34m\u001B[1mDEBUG   \u001B[0m | \u001B[36mvrp_study.pdptw_model.routing_model\u001B[0m:\u001B[36m__call__\u001B[0m:\u001B[36m40\u001B[0m - \u001B[34m\u001B[1mtime: 0.005; new solution (1): 5079; best solution: 5079\u001B[0m\n",
      "\u001B[32m2025-07-18 13:08:04.822\u001B[0m | \u001B[34m\u001B[1mDEBUG   \u001B[0m | \u001B[36mvrp_study.pdptw_model.routing_model\u001B[0m:\u001B[36m__call__\u001B[0m:\u001B[36m40\u001B[0m - \u001B[34m\u001B[1mtime: 0.007; new solution (2): 5079; best solution: 5079\u001B[0m\n",
      "\u001B[32m2025-07-18 13:08:04.854\u001B[0m | \u001B[1mINFO    \u001B[0m | \u001B[36mvrp_study.pdptw_model.routing_model\u001B[0m:\u001B[36mdo_solve\u001B[0m:\u001B[36m423\u001B[0m - \u001B[1mfind solution\u001B[0m\n",
      "\u001B[32m2025-07-18 13:08:04.855\u001B[0m | \u001B[1mINFO    \u001B[0m | \u001B[36mvrp_study.pdptw_model.routing_model\u001B[0m:\u001B[36mfind_optimal_paths\u001B[0m:\u001B[36m464\u001B[0m - \u001B[1mbest_score: 50.79\u001B[0m\n",
      "\u001B[32m2025-07-18 13:08:04.856\u001B[0m | \u001B[1mINFO    \u001B[0m | \u001B[36mvrp_study.pdptw_model.solution_builder\u001B[0m:\u001B[36mget_initial_solution\u001B[0m:\u001B[36m142\u001B[0m - \u001B[1m[[0, 1, 2, 9, 10, 11, 3, 5, 12, 7, 8, 6, 4, 0], [], [], [], [], [], [], [], [], [], [], [], [], [], [], [], [], [], [], [], [], []]\u001B[0m\n",
      "\u001B[32m2025-07-18 13:08:04.861\u001B[0m | \u001B[1mINFO    \u001B[0m | \u001B[36mvrp_study.pdptw_model.solution_builder\u001B[0m:\u001B[36mget_initial_solution\u001B[0m:\u001B[36m122\u001B[0m - \u001B[1m(1, 32.074999999999996)\u001B[0m\n",
      "\u001B[32m2025-07-18 13:08:04.864\u001B[0m | \u001B[1mINFO    \u001B[0m | \u001B[36mvrp_study.pdptw_model.solution_builder\u001B[0m:\u001B[36mget_initial_solution\u001B[0m:\u001B[36m122\u001B[0m - \u001B[1m(1, 16.0875)\u001B[0m\n",
      "\u001B[32m2025-07-18 13:08:04.866\u001B[0m | \u001B[1mINFO    \u001B[0m | \u001B[36mvrp_study.pdptw_model.solution_builder\u001B[0m:\u001B[36mget_initial_solution\u001B[0m:\u001B[36m122\u001B[0m - \u001B[1m(1, 8.09375)\u001B[0m\n",
      "\u001B[32m2025-07-18 13:08:04.867\u001B[0m | \u001B[1mINFO    \u001B[0m | \u001B[36mvrp_study.pdptw_model.solution_builder\u001B[0m:\u001B[36mget_initial_solution\u001B[0m:\u001B[36m122\u001B[0m - \u001B[1m(1, 4.096875)\u001B[0m\n",
      "\u001B[32m2025-07-18 13:08:04.869\u001B[0m | \u001B[1mINFO    \u001B[0m | \u001B[36mvrp_study.pdptw_model.solution_builder\u001B[0m:\u001B[36mget_initial_solution\u001B[0m:\u001B[36m122\u001B[0m - \u001B[1m(1, 2.0984374999999997)\u001B[0m\n",
      "\u001B[32m2025-07-18 13:08:04.871\u001B[0m | \u001B[1mINFO    \u001B[0m | \u001B[36mvrp_study.pdptw_model.solution_builder\u001B[0m:\u001B[36mget_initial_solution\u001B[0m:\u001B[36m122\u001B[0m - \u001B[1m(1, 1.09921875)\u001B[0m\n",
      "\u001B[32m2025-07-18 13:08:04.873\u001B[0m | \u001B[1mINFO    \u001B[0m | \u001B[36mvrp_study.pdptw_model.solution_builder\u001B[0m:\u001B[36mget_initial_solution\u001B[0m:\u001B[36m122\u001B[0m - \u001B[1m(4, 0.599609375)\u001B[0m\n",
      "\u001B[32m2025-07-18 13:08:04.875\u001B[0m | \u001B[1mINFO    \u001B[0m | \u001B[36mvrp_study.pdptw_model.solution_builder\u001B[0m:\u001B[36mget_initial_solution\u001B[0m:\u001B[36m122\u001B[0m - \u001B[1m(4, 0.3498046875)\u001B[0m\n",
      "\u001B[32m2025-07-18 13:08:04.878\u001B[0m | \u001B[1mINFO    \u001B[0m | \u001B[36mvrp_study.pdptw_model.solution_builder\u001B[0m:\u001B[36mget_initial_solution\u001B[0m:\u001B[36m122\u001B[0m - \u001B[1m(5, 0.22490234375)\u001B[0m\n",
      "\u001B[32m2025-07-18 13:08:04.880\u001B[0m | \u001B[1mINFO    \u001B[0m | \u001B[36mvrp_study.pdptw_model.solution_builder\u001B[0m:\u001B[36mget_initial_solution\u001B[0m:\u001B[36m122\u001B[0m - \u001B[1m(5, 0.16245117187500002)\u001B[0m\n"
     ]
    },
    {
     "data": {
      "text/plain": "  0%|          | 0/1 [00:00<?, ?it/s]",
      "application/vnd.jupyter.widget-view+json": {
       "version_major": 2,
       "version_minor": 0,
       "model_id": "203fd35bc32e4216939ce38d5d18c10b"
      }
     },
     "metadata": {},
     "output_type": "display_data"
    },
    {
     "name": "stderr",
     "output_type": "stream",
     "text": [
      "\u001B[32m2025-07-18 13:08:04.895\u001B[0m | \u001B[1mINFO    \u001B[0m | \u001B[36mvrp_study.pdptw_model.routing_model\u001B[0m:\u001B[36mfind_optimal_paths\u001B[0m:\u001B[36m443\u001B[0m - \u001B[1mproblem size: 11\u001B[0m\n",
      "\u001B[32m2025-07-18 13:08:04.896\u001B[0m | \u001B[1mINFO    \u001B[0m | \u001B[36mvrp_study.pdptw_model.routing_model\u001B[0m:\u001B[36mdo_solve\u001B[0m:\u001B[36m378\u001B[0m - \u001B[1mНачало создания модели\u001B[0m\n",
      "\u001B[32m2025-07-18 13:08:04.900\u001B[0m | \u001B[1mINFO    \u001B[0m | \u001B[36mvrp_study.pdptw_model.routing_model\u001B[0m:\u001B[36madd_distance_dimension\u001B[0m:\u001B[36m299\u001B[0m - \u001B[1mДобавление размерности для расстояния\u001B[0m\n",
      "\u001B[32m2025-07-18 13:08:04.901\u001B[0m | \u001B[1mINFO    \u001B[0m | \u001B[36mvrp_study.pdptw_model.routing_model\u001B[0m:\u001B[36madd_count_dimension\u001B[0m:\u001B[36m335\u001B[0m - \u001B[1mДобавление размерности для расстояния\u001B[0m\n",
      "\u001B[32m2025-07-18 13:08:04.903\u001B[0m | \u001B[1mINFO    \u001B[0m | \u001B[36mvrp_study.pdptw_model.routing_model\u001B[0m:\u001B[36madd_pick_up_and_delivery\u001B[0m:\u001B[36m269\u001B[0m - \u001B[1mДобавление ограничения для порядка доставки\u001B[0m\n",
      "\u001B[32m2025-07-18 13:08:04.905\u001B[0m | \u001B[1mINFO    \u001B[0m | \u001B[36mvrp_study.pdptw_model.routing_model\u001B[0m:\u001B[36madd_time_window\u001B[0m:\u001B[36m194\u001B[0m - \u001B[1madd time\u001B[0m\n",
      "\u001B[32m2025-07-18 13:08:04.906\u001B[0m | \u001B[1mINFO    \u001B[0m | \u001B[36mvrp_study.pdptw_model.routing_model\u001B[0m:\u001B[36madd_mass_constraint\u001B[0m:\u001B[36m177\u001B[0m - \u001B[1mДобавление ограничений для массы\u001B[0m\n",
      "\u001B[32m2025-07-18 13:08:04.911\u001B[0m | \u001B[1mINFO    \u001B[0m | \u001B[36mvrp_study.pdptw_model.routing_model\u001B[0m:\u001B[36mdo_solve\u001B[0m:\u001B[36m407\u001B[0m - \u001B[1mНачало решения\u001B[0m\n",
      "\u001B[32m2025-07-18 13:08:04.917\u001B[0m | \u001B[34m\u001B[1mDEBUG   \u001B[0m | \u001B[36mvrp_study.pdptw_model.routing_model\u001B[0m:\u001B[36m__call__\u001B[0m:\u001B[36m40\u001B[0m - \u001B[34m\u001B[1mtime: 0.009; new solution (1): 1; best solution: 1\u001B[0m\n",
      "\u001B[32m2025-07-18 13:08:04.952\u001B[0m | \u001B[1mINFO    \u001B[0m | \u001B[36mvrp_study.pdptw_model.routing_model\u001B[0m:\u001B[36mdo_solve\u001B[0m:\u001B[36m423\u001B[0m - \u001B[1mfind solution\u001B[0m\n",
      "\u001B[32m2025-07-18 13:08:04.956\u001B[0m | \u001B[1mINFO    \u001B[0m | \u001B[36mvrp_study.pdptw_model.routing_model\u001B[0m:\u001B[36mfind_optimal_paths\u001B[0m:\u001B[36m451\u001B[0m - \u001B[1mbest_score: 1\u001B[0m\n",
      "\u001B[32m2025-07-18 13:08:04.957\u001B[0m | \u001B[1mINFO    \u001B[0m | \u001B[36mvrp_study.pdptw_model.routing_model\u001B[0m:\u001B[36mdo_solve\u001B[0m:\u001B[36m378\u001B[0m - \u001B[1mНачало создания модели\u001B[0m\n",
      "\u001B[32m2025-07-18 13:08:04.961\u001B[0m | \u001B[1mINFO    \u001B[0m | \u001B[36mvrp_study.pdptw_model.routing_model\u001B[0m:\u001B[36madd_distance_dimension\u001B[0m:\u001B[36m299\u001B[0m - \u001B[1mДобавление размерности для расстояния\u001B[0m\n",
      "\u001B[32m2025-07-18 13:08:04.962\u001B[0m | \u001B[1mINFO    \u001B[0m | \u001B[36mvrp_study.pdptw_model.routing_model\u001B[0m:\u001B[36madd_count_dimension\u001B[0m:\u001B[36m335\u001B[0m - \u001B[1mДобавление размерности для расстояния\u001B[0m\n",
      "\u001B[32m2025-07-18 13:08:04.963\u001B[0m | \u001B[1mINFO    \u001B[0m | \u001B[36mvrp_study.pdptw_model.routing_model\u001B[0m:\u001B[36madd_pick_up_and_delivery\u001B[0m:\u001B[36m269\u001B[0m - \u001B[1mДобавление ограничения для порядка доставки\u001B[0m\n",
      "\u001B[32m2025-07-18 13:08:04.964\u001B[0m | \u001B[1mINFO    \u001B[0m | \u001B[36mvrp_study.pdptw_model.routing_model\u001B[0m:\u001B[36madd_vehicles_cost\u001B[0m:\u001B[36m243\u001B[0m - \u001B[1mДобавление стоимостей машин\u001B[0m\n",
      "\u001B[32m2025-07-18 13:08:04.965\u001B[0m | \u001B[1mINFO    \u001B[0m | \u001B[36mvrp_study.pdptw_model.routing_model\u001B[0m:\u001B[36madd_time_window\u001B[0m:\u001B[36m194\u001B[0m - \u001B[1madd time\u001B[0m\n",
      "\u001B[32m2025-07-18 13:08:04.968\u001B[0m | \u001B[1mINFO    \u001B[0m | \u001B[36mvrp_study.pdptw_model.routing_model\u001B[0m:\u001B[36madd_mass_constraint\u001B[0m:\u001B[36m177\u001B[0m - \u001B[1mДобавление ограничений для массы\u001B[0m\n",
      "\u001B[32m2025-07-18 13:08:04.970\u001B[0m | \u001B[1mINFO    \u001B[0m | \u001B[36mvrp_study.pdptw_model.routing_model\u001B[0m:\u001B[36mdo_solve\u001B[0m:\u001B[36m407\u001B[0m - \u001B[1mНачало решения\u001B[0m\n",
      "\u001B[32m2025-07-18 13:08:04.971\u001B[0m | \u001B[1mINFO    \u001B[0m | \u001B[36mvrp_study.pdptw_model.routing_model\u001B[0m:\u001B[36mdo_solve\u001B[0m:\u001B[36m410\u001B[0m - \u001B[1muse initial_solution: 1\u001B[0m\n",
      "\u001B[32m2025-07-18 13:08:04.974\u001B[0m | \u001B[34m\u001B[1mDEBUG   \u001B[0m | \u001B[36mvrp_study.pdptw_model.routing_model\u001B[0m:\u001B[36m__call__\u001B[0m:\u001B[36m40\u001B[0m - \u001B[34m\u001B[1mtime: 0.005; new solution (1): 9721; best solution: 9721\u001B[0m\n",
      "\u001B[32m2025-07-18 13:08:04.976\u001B[0m | \u001B[34m\u001B[1mDEBUG   \u001B[0m | \u001B[36mvrp_study.pdptw_model.routing_model\u001B[0m:\u001B[36m__call__\u001B[0m:\u001B[36m40\u001B[0m - \u001B[34m\u001B[1mtime: 0.007; new solution (2): 9721; best solution: 9721\u001B[0m\n",
      "\u001B[32m2025-07-18 13:08:04.998\u001B[0m | \u001B[1mINFO    \u001B[0m | \u001B[36mvrp_study.pdptw_model.routing_model\u001B[0m:\u001B[36mdo_solve\u001B[0m:\u001B[36m423\u001B[0m - \u001B[1mfind solution\u001B[0m\n",
      "\u001B[32m2025-07-18 13:08:04.999\u001B[0m | \u001B[1mINFO    \u001B[0m | \u001B[36mvrp_study.pdptw_model.routing_model\u001B[0m:\u001B[36mfind_optimal_paths\u001B[0m:\u001B[36m464\u001B[0m - \u001B[1mbest_score: 97.21\u001B[0m\n",
      "\u001B[32m2025-07-18 13:08:05.001\u001B[0m | \u001B[1mINFO    \u001B[0m | \u001B[36mvrp_study.pdptw_model.solution_builder\u001B[0m:\u001B[36mget_initial_solution\u001B[0m:\u001B[36m142\u001B[0m - \u001B[1m[[0, 1, 3, 2, 7, 4, 5, 8, 9, 10, 6, 0], [], [], [], [], [], [], [], [], [], [], [], [], [], [], [], [], [], [], [], []]\u001B[0m\n",
      "\u001B[32m2025-07-18 13:08:05.007\u001B[0m | \u001B[1mINFO    \u001B[0m | \u001B[36mvrp_study.pdptw_model.solution_builder\u001B[0m:\u001B[36mget_initial_solution\u001B[0m:\u001B[36m122\u001B[0m - \u001B[1m(1, 32.074999999999996)\u001B[0m\n",
      "\u001B[32m2025-07-18 13:08:05.010\u001B[0m | \u001B[1mINFO    \u001B[0m | \u001B[36mvrp_study.pdptw_model.solution_builder\u001B[0m:\u001B[36mget_initial_solution\u001B[0m:\u001B[36m122\u001B[0m - \u001B[1m(1, 16.0875)\u001B[0m\n",
      "\u001B[32m2025-07-18 13:08:05.015\u001B[0m | \u001B[1mINFO    \u001B[0m | \u001B[36mvrp_study.pdptw_model.solution_builder\u001B[0m:\u001B[36mget_initial_solution\u001B[0m:\u001B[36m122\u001B[0m - \u001B[1m(1, 8.09375)\u001B[0m\n",
      "\u001B[32m2025-07-18 13:08:05.017\u001B[0m | \u001B[1mINFO    \u001B[0m | \u001B[36mvrp_study.pdptw_model.solution_builder\u001B[0m:\u001B[36mget_initial_solution\u001B[0m:\u001B[36m122\u001B[0m - \u001B[1m(1, 4.096875)\u001B[0m\n",
      "\u001B[32m2025-07-18 13:08:05.019\u001B[0m | \u001B[1mINFO    \u001B[0m | \u001B[36mvrp_study.pdptw_model.solution_builder\u001B[0m:\u001B[36mget_initial_solution\u001B[0m:\u001B[36m122\u001B[0m - \u001B[1m(1, 2.0984374999999997)\u001B[0m\n",
      "\u001B[32m2025-07-18 13:08:05.021\u001B[0m | \u001B[1mINFO    \u001B[0m | \u001B[36mvrp_study.pdptw_model.solution_builder\u001B[0m:\u001B[36mget_initial_solution\u001B[0m:\u001B[36m122\u001B[0m - \u001B[1m(1, 1.09921875)\u001B[0m\n",
      "\u001B[32m2025-07-18 13:08:05.024\u001B[0m | \u001B[1mINFO    \u001B[0m | \u001B[36mvrp_study.pdptw_model.solution_builder\u001B[0m:\u001B[36mget_initial_solution\u001B[0m:\u001B[36m122\u001B[0m - \u001B[1m(2, 0.599609375)\u001B[0m\n",
      "\u001B[32m2025-07-18 13:08:05.026\u001B[0m | \u001B[1mINFO    \u001B[0m | \u001B[36mvrp_study.pdptw_model.solution_builder\u001B[0m:\u001B[36mget_initial_solution\u001B[0m:\u001B[36m122\u001B[0m - \u001B[1m(2, 0.3498046875)\u001B[0m\n",
      "\u001B[32m2025-07-18 13:08:05.027\u001B[0m | \u001B[1mINFO    \u001B[0m | \u001B[36mvrp_study.pdptw_model.solution_builder\u001B[0m:\u001B[36mget_initial_solution\u001B[0m:\u001B[36m122\u001B[0m - \u001B[1m(2, 0.22490234375)\u001B[0m\n",
      "\u001B[32m2025-07-18 13:08:05.029\u001B[0m | \u001B[1mINFO    \u001B[0m | \u001B[36mvrp_study.pdptw_model.solution_builder\u001B[0m:\u001B[36mget_initial_solution\u001B[0m:\u001B[36m122\u001B[0m - \u001B[1m(2, 0.16245117187500002)\u001B[0m\n"
     ]
    },
    {
     "data": {
      "text/plain": "  0%|          | 0/1 [00:00<?, ?it/s]",
      "application/vnd.jupyter.widget-view+json": {
       "version_major": 2,
       "version_minor": 0,
       "model_id": "81d70c9920004c79afe202dab7743ce4"
      }
     },
     "metadata": {},
     "output_type": "display_data"
    },
    {
     "name": "stderr",
     "output_type": "stream",
     "text": [
      "\u001B[32m2025-07-18 13:08:05.040\u001B[0m | \u001B[1mINFO    \u001B[0m | \u001B[36mvrp_study.pdptw_model.routing_model\u001B[0m:\u001B[36mfind_optimal_paths\u001B[0m:\u001B[36m443\u001B[0m - \u001B[1mproblem size: 5\u001B[0m\n",
      "\u001B[32m2025-07-18 13:08:05.042\u001B[0m | \u001B[1mINFO    \u001B[0m | \u001B[36mvrp_study.pdptw_model.routing_model\u001B[0m:\u001B[36mdo_solve\u001B[0m:\u001B[36m378\u001B[0m - \u001B[1mНачало создания модели\u001B[0m\n",
      "\u001B[32m2025-07-18 13:08:05.045\u001B[0m | \u001B[1mINFO    \u001B[0m | \u001B[36mvrp_study.pdptw_model.routing_model\u001B[0m:\u001B[36madd_distance_dimension\u001B[0m:\u001B[36m299\u001B[0m - \u001B[1mДобавление размерности для расстояния\u001B[0m\n",
      "\u001B[32m2025-07-18 13:08:05.046\u001B[0m | \u001B[1mINFO    \u001B[0m | \u001B[36mvrp_study.pdptw_model.routing_model\u001B[0m:\u001B[36madd_count_dimension\u001B[0m:\u001B[36m335\u001B[0m - \u001B[1mДобавление размерности для расстояния\u001B[0m\n",
      "\u001B[32m2025-07-18 13:08:05.049\u001B[0m | \u001B[1mINFO    \u001B[0m | \u001B[36mvrp_study.pdptw_model.routing_model\u001B[0m:\u001B[36madd_pick_up_and_delivery\u001B[0m:\u001B[36m269\u001B[0m - \u001B[1mДобавление ограничения для порядка доставки\u001B[0m\n",
      "\u001B[32m2025-07-18 13:08:05.050\u001B[0m | \u001B[1mINFO    \u001B[0m | \u001B[36mvrp_study.pdptw_model.routing_model\u001B[0m:\u001B[36madd_time_window\u001B[0m:\u001B[36m194\u001B[0m - \u001B[1madd time\u001B[0m\n",
      "\u001B[32m2025-07-18 13:08:05.051\u001B[0m | \u001B[1mINFO    \u001B[0m | \u001B[36mvrp_study.pdptw_model.routing_model\u001B[0m:\u001B[36madd_mass_constraint\u001B[0m:\u001B[36m177\u001B[0m - \u001B[1mДобавление ограничений для массы\u001B[0m\n",
      "\u001B[32m2025-07-18 13:08:05.056\u001B[0m | \u001B[1mINFO    \u001B[0m | \u001B[36mvrp_study.pdptw_model.routing_model\u001B[0m:\u001B[36mdo_solve\u001B[0m:\u001B[36m407\u001B[0m - \u001B[1mНачало решения\u001B[0m\n",
      "\u001B[32m2025-07-18 13:08:05.060\u001B[0m | \u001B[34m\u001B[1mDEBUG   \u001B[0m | \u001B[36mvrp_study.pdptw_model.routing_model\u001B[0m:\u001B[36m__call__\u001B[0m:\u001B[36m40\u001B[0m - \u001B[34m\u001B[1mtime: 0.007; new solution (1): 1; best solution: 1\u001B[0m\n",
      "\u001B[32m2025-07-18 13:08:05.065\u001B[0m | \u001B[1mINFO    \u001B[0m | \u001B[36mvrp_study.pdptw_model.routing_model\u001B[0m:\u001B[36mdo_solve\u001B[0m:\u001B[36m423\u001B[0m - \u001B[1mfind solution\u001B[0m\n",
      "\u001B[32m2025-07-18 13:08:05.068\u001B[0m | \u001B[1mINFO    \u001B[0m | \u001B[36mvrp_study.pdptw_model.routing_model\u001B[0m:\u001B[36mfind_optimal_paths\u001B[0m:\u001B[36m451\u001B[0m - \u001B[1mbest_score: 1\u001B[0m\n",
      "\u001B[32m2025-07-18 13:08:05.069\u001B[0m | \u001B[1mINFO    \u001B[0m | \u001B[36mvrp_study.pdptw_model.routing_model\u001B[0m:\u001B[36mdo_solve\u001B[0m:\u001B[36m378\u001B[0m - \u001B[1mНачало создания модели\u001B[0m\n",
      "\u001B[32m2025-07-18 13:08:05.071\u001B[0m | \u001B[1mINFO    \u001B[0m | \u001B[36mvrp_study.pdptw_model.routing_model\u001B[0m:\u001B[36madd_distance_dimension\u001B[0m:\u001B[36m299\u001B[0m - \u001B[1mДобавление размерности для расстояния\u001B[0m\n",
      "\u001B[32m2025-07-18 13:08:05.072\u001B[0m | \u001B[1mINFO    \u001B[0m | \u001B[36mvrp_study.pdptw_model.routing_model\u001B[0m:\u001B[36madd_count_dimension\u001B[0m:\u001B[36m335\u001B[0m - \u001B[1mДобавление размерности для расстояния\u001B[0m\n",
      "\u001B[32m2025-07-18 13:08:05.073\u001B[0m | \u001B[1mINFO    \u001B[0m | \u001B[36mvrp_study.pdptw_model.routing_model\u001B[0m:\u001B[36madd_pick_up_and_delivery\u001B[0m:\u001B[36m269\u001B[0m - \u001B[1mДобавление ограничения для порядка доставки\u001B[0m\n",
      "\u001B[32m2025-07-18 13:08:05.073\u001B[0m | \u001B[1mINFO    \u001B[0m | \u001B[36mvrp_study.pdptw_model.routing_model\u001B[0m:\u001B[36madd_vehicles_cost\u001B[0m:\u001B[36m243\u001B[0m - \u001B[1mДобавление стоимостей машин\u001B[0m\n",
      "\u001B[32m2025-07-18 13:08:05.074\u001B[0m | \u001B[1mINFO    \u001B[0m | \u001B[36mvrp_study.pdptw_model.routing_model\u001B[0m:\u001B[36madd_time_window\u001B[0m:\u001B[36m194\u001B[0m - \u001B[1madd time\u001B[0m\n",
      "\u001B[32m2025-07-18 13:08:05.075\u001B[0m | \u001B[1mINFO    \u001B[0m | \u001B[36mvrp_study.pdptw_model.routing_model\u001B[0m:\u001B[36madd_mass_constraint\u001B[0m:\u001B[36m177\u001B[0m - \u001B[1mДобавление ограничений для массы\u001B[0m\n",
      "\u001B[32m2025-07-18 13:08:05.077\u001B[0m | \u001B[1mINFO    \u001B[0m | \u001B[36mvrp_study.pdptw_model.routing_model\u001B[0m:\u001B[36mdo_solve\u001B[0m:\u001B[36m407\u001B[0m - \u001B[1mНачало решения\u001B[0m\n",
      "\u001B[32m2025-07-18 13:08:05.081\u001B[0m | \u001B[1mINFO    \u001B[0m | \u001B[36mvrp_study.pdptw_model.routing_model\u001B[0m:\u001B[36mdo_solve\u001B[0m:\u001B[36m410\u001B[0m - \u001B[1muse initial_solution: 1\u001B[0m\n",
      "\u001B[32m2025-07-18 13:08:05.082\u001B[0m | \u001B[34m\u001B[1mDEBUG   \u001B[0m | \u001B[36mvrp_study.pdptw_model.routing_model\u001B[0m:\u001B[36m__call__\u001B[0m:\u001B[36m40\u001B[0m - \u001B[34m\u001B[1mtime: 0.006; new solution (1): 4416; best solution: 4416\u001B[0m\n",
      "\u001B[32m2025-07-18 13:08:05.084\u001B[0m | \u001B[34m\u001B[1mDEBUG   \u001B[0m | \u001B[36mvrp_study.pdptw_model.routing_model\u001B[0m:\u001B[36m__call__\u001B[0m:\u001B[36m40\u001B[0m - \u001B[34m\u001B[1mtime: 0.008; new solution (2): 4416; best solution: 4416\u001B[0m\n",
      "\u001B[32m2025-07-18 13:08:05.088\u001B[0m | \u001B[1mINFO    \u001B[0m | \u001B[36mvrp_study.pdptw_model.routing_model\u001B[0m:\u001B[36mdo_solve\u001B[0m:\u001B[36m423\u001B[0m - \u001B[1mfind solution\u001B[0m\n",
      "\u001B[32m2025-07-18 13:08:05.089\u001B[0m | \u001B[1mINFO    \u001B[0m | \u001B[36mvrp_study.pdptw_model.routing_model\u001B[0m:\u001B[36mfind_optimal_paths\u001B[0m:\u001B[36m464\u001B[0m - \u001B[1mbest_score: 44.16\u001B[0m\n",
      "\u001B[32m2025-07-18 13:08:05.090\u001B[0m | \u001B[1mINFO    \u001B[0m | \u001B[36mvrp_study.pdptw_model.solution_builder\u001B[0m:\u001B[36mget_initial_solution\u001B[0m:\u001B[36m142\u001B[0m - \u001B[1m[[0, 3, 1, 4, 2, 0], [], [], [], [], [], [], [], [], [], [], [], [], [], [], [], [], [], [], []]\u001B[0m\n",
      "\u001B[32m2025-07-18 13:08:05.096\u001B[0m | \u001B[1mINFO    \u001B[0m | \u001B[36mvrp_study.pdptw_model.solution_builder\u001B[0m:\u001B[36mget_initial_solution\u001B[0m:\u001B[36m122\u001B[0m - \u001B[1m(1, 32.074999999999996)\u001B[0m\n",
      "\u001B[32m2025-07-18 13:08:05.098\u001B[0m | \u001B[1mINFO    \u001B[0m | \u001B[36mvrp_study.pdptw_model.solution_builder\u001B[0m:\u001B[36mget_initial_solution\u001B[0m:\u001B[36m122\u001B[0m - \u001B[1m(1, 16.0875)\u001B[0m\n",
      "\u001B[32m2025-07-18 13:08:05.099\u001B[0m | \u001B[1mINFO    \u001B[0m | \u001B[36mvrp_study.pdptw_model.solution_builder\u001B[0m:\u001B[36mget_initial_solution\u001B[0m:\u001B[36m122\u001B[0m - \u001B[1m(1, 8.09375)\u001B[0m\n",
      "\u001B[32m2025-07-18 13:08:05.101\u001B[0m | \u001B[1mINFO    \u001B[0m | \u001B[36mvrp_study.pdptw_model.solution_builder\u001B[0m:\u001B[36mget_initial_solution\u001B[0m:\u001B[36m122\u001B[0m - \u001B[1m(1, 4.096875)\u001B[0m\n",
      "\u001B[32m2025-07-18 13:08:05.103\u001B[0m | \u001B[1mINFO    \u001B[0m | \u001B[36mvrp_study.pdptw_model.solution_builder\u001B[0m:\u001B[36mget_initial_solution\u001B[0m:\u001B[36m122\u001B[0m - \u001B[1m(1, 2.0984374999999997)\u001B[0m\n",
      "\u001B[32m2025-07-18 13:08:05.104\u001B[0m | \u001B[1mINFO    \u001B[0m | \u001B[36mvrp_study.pdptw_model.solution_builder\u001B[0m:\u001B[36mget_initial_solution\u001B[0m:\u001B[36m122\u001B[0m - \u001B[1m(1, 1.09921875)\u001B[0m\n",
      "\u001B[32m2025-07-18 13:08:05.106\u001B[0m | \u001B[1mINFO    \u001B[0m | \u001B[36mvrp_study.pdptw_model.solution_builder\u001B[0m:\u001B[36mget_initial_solution\u001B[0m:\u001B[36m122\u001B[0m - \u001B[1m(2, 0.599609375)\u001B[0m\n",
      "\u001B[32m2025-07-18 13:08:05.108\u001B[0m | \u001B[1mINFO    \u001B[0m | \u001B[36mvrp_study.pdptw_model.solution_builder\u001B[0m:\u001B[36mget_initial_solution\u001B[0m:\u001B[36m122\u001B[0m - \u001B[1m(2, 0.3498046875)\u001B[0m\n",
      "\u001B[32m2025-07-18 13:08:05.109\u001B[0m | \u001B[1mINFO    \u001B[0m | \u001B[36mvrp_study.pdptw_model.solution_builder\u001B[0m:\u001B[36mget_initial_solution\u001B[0m:\u001B[36m122\u001B[0m - \u001B[1m(2, 0.22490234375)\u001B[0m\n",
      "\u001B[32m2025-07-18 13:08:05.111\u001B[0m | \u001B[1mINFO    \u001B[0m | \u001B[36mvrp_study.pdptw_model.solution_builder\u001B[0m:\u001B[36mget_initial_solution\u001B[0m:\u001B[36m122\u001B[0m - \u001B[1m(2, 0.16245117187500002)\u001B[0m\n"
     ]
    },
    {
     "data": {
      "text/plain": "  0%|          | 0/1 [00:00<?, ?it/s]",
      "application/vnd.jupyter.widget-view+json": {
       "version_major": 2,
       "version_minor": 0,
       "model_id": "ae66a44071ff4ae49455d8d751e70376"
      }
     },
     "metadata": {},
     "output_type": "display_data"
    },
    {
     "name": "stderr",
     "output_type": "stream",
     "text": [
      "\u001B[32m2025-07-18 13:08:05.123\u001B[0m | \u001B[1mINFO    \u001B[0m | \u001B[36mvrp_study.pdptw_model.routing_model\u001B[0m:\u001B[36mfind_optimal_paths\u001B[0m:\u001B[36m443\u001B[0m - \u001B[1mproblem size: 5\u001B[0m\n",
      "\u001B[32m2025-07-18 13:08:05.124\u001B[0m | \u001B[1mINFO    \u001B[0m | \u001B[36mvrp_study.pdptw_model.routing_model\u001B[0m:\u001B[36mdo_solve\u001B[0m:\u001B[36m378\u001B[0m - \u001B[1mНачало создания модели\u001B[0m\n",
      "\u001B[32m2025-07-18 13:08:05.126\u001B[0m | \u001B[1mINFO    \u001B[0m | \u001B[36mvrp_study.pdptw_model.routing_model\u001B[0m:\u001B[36madd_distance_dimension\u001B[0m:\u001B[36m299\u001B[0m - \u001B[1mДобавление размерности для расстояния\u001B[0m\n",
      "\u001B[32m2025-07-18 13:08:05.127\u001B[0m | \u001B[1mINFO    \u001B[0m | \u001B[36mvrp_study.pdptw_model.routing_model\u001B[0m:\u001B[36madd_count_dimension\u001B[0m:\u001B[36m335\u001B[0m - \u001B[1mДобавление размерности для расстояния\u001B[0m\n",
      "\u001B[32m2025-07-18 13:08:05.129\u001B[0m | \u001B[1mINFO    \u001B[0m | \u001B[36mvrp_study.pdptw_model.routing_model\u001B[0m:\u001B[36madd_pick_up_and_delivery\u001B[0m:\u001B[36m269\u001B[0m - \u001B[1mДобавление ограничения для порядка доставки\u001B[0m\n",
      "\u001B[32m2025-07-18 13:08:05.129\u001B[0m | \u001B[1mINFO    \u001B[0m | \u001B[36mvrp_study.pdptw_model.routing_model\u001B[0m:\u001B[36madd_time_window\u001B[0m:\u001B[36m194\u001B[0m - \u001B[1madd time\u001B[0m\n",
      "\u001B[32m2025-07-18 13:08:05.131\u001B[0m | \u001B[1mINFO    \u001B[0m | \u001B[36mvrp_study.pdptw_model.routing_model\u001B[0m:\u001B[36madd_mass_constraint\u001B[0m:\u001B[36m177\u001B[0m - \u001B[1mДобавление ограничений для массы\u001B[0m\n",
      "\u001B[32m2025-07-18 13:08:05.134\u001B[0m | \u001B[1mINFO    \u001B[0m | \u001B[36mvrp_study.pdptw_model.routing_model\u001B[0m:\u001B[36mdo_solve\u001B[0m:\u001B[36m407\u001B[0m - \u001B[1mНачало решения\u001B[0m\n",
      "\u001B[32m2025-07-18 13:08:05.137\u001B[0m | \u001B[34m\u001B[1mDEBUG   \u001B[0m | \u001B[36mvrp_study.pdptw_model.routing_model\u001B[0m:\u001B[36m__call__\u001B[0m:\u001B[36m40\u001B[0m - \u001B[34m\u001B[1mtime: 0.005; new solution (1): 1; best solution: 1\u001B[0m\n",
      "\u001B[32m2025-07-18 13:08:05.143\u001B[0m | \u001B[1mINFO    \u001B[0m | \u001B[36mvrp_study.pdptw_model.routing_model\u001B[0m:\u001B[36mdo_solve\u001B[0m:\u001B[36m423\u001B[0m - \u001B[1mfind solution\u001B[0m\n",
      "\u001B[32m2025-07-18 13:08:05.144\u001B[0m | \u001B[1mINFO    \u001B[0m | \u001B[36mvrp_study.pdptw_model.routing_model\u001B[0m:\u001B[36mfind_optimal_paths\u001B[0m:\u001B[36m451\u001B[0m - \u001B[1mbest_score: 1\u001B[0m\n",
      "\u001B[32m2025-07-18 13:08:05.145\u001B[0m | \u001B[1mINFO    \u001B[0m | \u001B[36mvrp_study.pdptw_model.routing_model\u001B[0m:\u001B[36mdo_solve\u001B[0m:\u001B[36m378\u001B[0m - \u001B[1mНачало создания модели\u001B[0m\n",
      "\u001B[32m2025-07-18 13:08:05.147\u001B[0m | \u001B[1mINFO    \u001B[0m | \u001B[36mvrp_study.pdptw_model.routing_model\u001B[0m:\u001B[36madd_distance_dimension\u001B[0m:\u001B[36m299\u001B[0m - \u001B[1mДобавление размерности для расстояния\u001B[0m\n",
      "\u001B[32m2025-07-18 13:08:05.148\u001B[0m | \u001B[1mINFO    \u001B[0m | \u001B[36mvrp_study.pdptw_model.routing_model\u001B[0m:\u001B[36madd_count_dimension\u001B[0m:\u001B[36m335\u001B[0m - \u001B[1mДобавление размерности для расстояния\u001B[0m\n",
      "\u001B[32m2025-07-18 13:08:05.149\u001B[0m | \u001B[1mINFO    \u001B[0m | \u001B[36mvrp_study.pdptw_model.routing_model\u001B[0m:\u001B[36madd_pick_up_and_delivery\u001B[0m:\u001B[36m269\u001B[0m - \u001B[1mДобавление ограничения для порядка доставки\u001B[0m\n",
      "\u001B[32m2025-07-18 13:08:05.149\u001B[0m | \u001B[1mINFO    \u001B[0m | \u001B[36mvrp_study.pdptw_model.routing_model\u001B[0m:\u001B[36madd_vehicles_cost\u001B[0m:\u001B[36m243\u001B[0m - \u001B[1mДобавление стоимостей машин\u001B[0m\n",
      "\u001B[32m2025-07-18 13:08:05.150\u001B[0m | \u001B[1mINFO    \u001B[0m | \u001B[36mvrp_study.pdptw_model.routing_model\u001B[0m:\u001B[36madd_time_window\u001B[0m:\u001B[36m194\u001B[0m - \u001B[1madd time\u001B[0m\n",
      "\u001B[32m2025-07-18 13:08:05.151\u001B[0m | \u001B[1mINFO    \u001B[0m | \u001B[36mvrp_study.pdptw_model.routing_model\u001B[0m:\u001B[36madd_mass_constraint\u001B[0m:\u001B[36m177\u001B[0m - \u001B[1mДобавление ограничений для массы\u001B[0m\n",
      "\u001B[32m2025-07-18 13:08:05.153\u001B[0m | \u001B[1mINFO    \u001B[0m | \u001B[36mvrp_study.pdptw_model.routing_model\u001B[0m:\u001B[36mdo_solve\u001B[0m:\u001B[36m407\u001B[0m - \u001B[1mНачало решения\u001B[0m\n",
      "\u001B[32m2025-07-18 13:08:05.154\u001B[0m | \u001B[1mINFO    \u001B[0m | \u001B[36mvrp_study.pdptw_model.routing_model\u001B[0m:\u001B[36mdo_solve\u001B[0m:\u001B[36m410\u001B[0m - \u001B[1muse initial_solution: 1\u001B[0m\n",
      "\u001B[32m2025-07-18 13:08:05.155\u001B[0m | \u001B[34m\u001B[1mDEBUG   \u001B[0m | \u001B[36mvrp_study.pdptw_model.routing_model\u001B[0m:\u001B[36m__call__\u001B[0m:\u001B[36m40\u001B[0m - \u001B[34m\u001B[1mtime: 0.003; new solution (1): 5168; best solution: 5168\u001B[0m\n",
      "\u001B[32m2025-07-18 13:08:05.156\u001B[0m | \u001B[34m\u001B[1mDEBUG   \u001B[0m | \u001B[36mvrp_study.pdptw_model.routing_model\u001B[0m:\u001B[36m__call__\u001B[0m:\u001B[36m40\u001B[0m - \u001B[34m\u001B[1mtime: 0.004; new solution (2): 5168; best solution: 5168\u001B[0m\n",
      "\u001B[32m2025-07-18 13:08:05.159\u001B[0m | \u001B[1mINFO    \u001B[0m | \u001B[36mvrp_study.pdptw_model.routing_model\u001B[0m:\u001B[36mdo_solve\u001B[0m:\u001B[36m423\u001B[0m - \u001B[1mfind solution\u001B[0m\n",
      "\u001B[32m2025-07-18 13:08:05.159\u001B[0m | \u001B[1mINFO    \u001B[0m | \u001B[36mvrp_study.pdptw_model.routing_model\u001B[0m:\u001B[36mfind_optimal_paths\u001B[0m:\u001B[36m464\u001B[0m - \u001B[1mbest_score: 51.68\u001B[0m\n",
      "\u001B[32m2025-07-18 13:08:05.160\u001B[0m | \u001B[1mINFO    \u001B[0m | \u001B[36mvrp_study.pdptw_model.solution_builder\u001B[0m:\u001B[36mget_initial_solution\u001B[0m:\u001B[36m142\u001B[0m - \u001B[1m[[0, 3, 4, 1, 2, 0], [], [], [], [], [], [], [], [], [], [], [], [], [], [], [], [], [], []]\u001B[0m\n"
     ]
    },
    {
     "data": {
      "text/plain": "  0%|          | 0/1 [00:00<?, ?it/s]",
      "application/vnd.jupyter.widget-view+json": {
       "version_major": 2,
       "version_minor": 0,
       "model_id": "b1dad38e6df64269b694a1eef94fbab6"
      }
     },
     "metadata": {},
     "output_type": "display_data"
    },
    {
     "name": "stderr",
     "output_type": "stream",
     "text": [
      "\u001B[32m2025-07-18 13:08:05.178\u001B[0m | \u001B[1mINFO    \u001B[0m | \u001B[36mvrp_study.pdptw_model.routing_model\u001B[0m:\u001B[36mfind_optimal_paths\u001B[0m:\u001B[36m443\u001B[0m - \u001B[1mproblem size: 3\u001B[0m\n",
      "\u001B[32m2025-07-18 13:08:05.179\u001B[0m | \u001B[1mINFO    \u001B[0m | \u001B[36mvrp_study.pdptw_model.routing_model\u001B[0m:\u001B[36mdo_solve\u001B[0m:\u001B[36m378\u001B[0m - \u001B[1mНачало создания модели\u001B[0m\n",
      "\u001B[32m2025-07-18 13:08:05.181\u001B[0m | \u001B[1mINFO    \u001B[0m | \u001B[36mvrp_study.pdptw_model.routing_model\u001B[0m:\u001B[36madd_distance_dimension\u001B[0m:\u001B[36m299\u001B[0m - \u001B[1mДобавление размерности для расстояния\u001B[0m\n",
      "\u001B[32m2025-07-18 13:08:05.182\u001B[0m | \u001B[1mINFO    \u001B[0m | \u001B[36mvrp_study.pdptw_model.routing_model\u001B[0m:\u001B[36madd_count_dimension\u001B[0m:\u001B[36m335\u001B[0m - \u001B[1mДобавление размерности для расстояния\u001B[0m\n",
      "\u001B[32m2025-07-18 13:08:05.183\u001B[0m | \u001B[1mINFO    \u001B[0m | \u001B[36mvrp_study.pdptw_model.routing_model\u001B[0m:\u001B[36madd_pick_up_and_delivery\u001B[0m:\u001B[36m269\u001B[0m - \u001B[1mДобавление ограничения для порядка доставки\u001B[0m\n",
      "\u001B[32m2025-07-18 13:08:05.184\u001B[0m | \u001B[1mINFO    \u001B[0m | \u001B[36mvrp_study.pdptw_model.routing_model\u001B[0m:\u001B[36madd_time_window\u001B[0m:\u001B[36m194\u001B[0m - \u001B[1madd time\u001B[0m\n",
      "\u001B[32m2025-07-18 13:08:05.185\u001B[0m | \u001B[1mINFO    \u001B[0m | \u001B[36mvrp_study.pdptw_model.routing_model\u001B[0m:\u001B[36madd_mass_constraint\u001B[0m:\u001B[36m177\u001B[0m - \u001B[1mДобавление ограничений для массы\u001B[0m\n",
      "\u001B[32m2025-07-18 13:08:05.189\u001B[0m | \u001B[1mINFO    \u001B[0m | \u001B[36mvrp_study.pdptw_model.routing_model\u001B[0m:\u001B[36mdo_solve\u001B[0m:\u001B[36m407\u001B[0m - \u001B[1mНачало решения\u001B[0m\n",
      "\u001B[32m2025-07-18 13:08:05.192\u001B[0m | \u001B[34m\u001B[1mDEBUG   \u001B[0m | \u001B[36mvrp_study.pdptw_model.routing_model\u001B[0m:\u001B[36m__call__\u001B[0m:\u001B[36m40\u001B[0m - \u001B[34m\u001B[1mtime: 0.006; new solution (1): 1; best solution: 1\u001B[0m\n",
      "\u001B[32m2025-07-18 13:08:05.195\u001B[0m | \u001B[1mINFO    \u001B[0m | \u001B[36mvrp_study.pdptw_model.routing_model\u001B[0m:\u001B[36mdo_solve\u001B[0m:\u001B[36m423\u001B[0m - \u001B[1mfind solution\u001B[0m\n",
      "\u001B[32m2025-07-18 13:08:05.196\u001B[0m | \u001B[1mINFO    \u001B[0m | \u001B[36mvrp_study.pdptw_model.routing_model\u001B[0m:\u001B[36mfind_optimal_paths\u001B[0m:\u001B[36m451\u001B[0m - \u001B[1mbest_score: 1\u001B[0m\n",
      "\u001B[32m2025-07-18 13:08:05.197\u001B[0m | \u001B[1mINFO    \u001B[0m | \u001B[36mvrp_study.pdptw_model.routing_model\u001B[0m:\u001B[36mdo_solve\u001B[0m:\u001B[36m378\u001B[0m - \u001B[1mНачало создания модели\u001B[0m\n",
      "\u001B[32m2025-07-18 13:08:05.199\u001B[0m | \u001B[1mINFO    \u001B[0m | \u001B[36mvrp_study.pdptw_model.routing_model\u001B[0m:\u001B[36madd_distance_dimension\u001B[0m:\u001B[36m299\u001B[0m - \u001B[1mДобавление размерности для расстояния\u001B[0m\n",
      "\u001B[32m2025-07-18 13:08:05.200\u001B[0m | \u001B[1mINFO    \u001B[0m | \u001B[36mvrp_study.pdptw_model.routing_model\u001B[0m:\u001B[36madd_count_dimension\u001B[0m:\u001B[36m335\u001B[0m - \u001B[1mДобавление размерности для расстояния\u001B[0m\n",
      "\u001B[32m2025-07-18 13:08:05.201\u001B[0m | \u001B[1mINFO    \u001B[0m | \u001B[36mvrp_study.pdptw_model.routing_model\u001B[0m:\u001B[36madd_pick_up_and_delivery\u001B[0m:\u001B[36m269\u001B[0m - \u001B[1mДобавление ограничения для порядка доставки\u001B[0m\n",
      "\u001B[32m2025-07-18 13:08:05.202\u001B[0m | \u001B[1mINFO    \u001B[0m | \u001B[36mvrp_study.pdptw_model.routing_model\u001B[0m:\u001B[36madd_vehicles_cost\u001B[0m:\u001B[36m243\u001B[0m - \u001B[1mДобавление стоимостей машин\u001B[0m\n",
      "\u001B[32m2025-07-18 13:08:05.204\u001B[0m | \u001B[1mINFO    \u001B[0m | \u001B[36mvrp_study.pdptw_model.routing_model\u001B[0m:\u001B[36madd_time_window\u001B[0m:\u001B[36m194\u001B[0m - \u001B[1madd time\u001B[0m\n",
      "\u001B[32m2025-07-18 13:08:05.206\u001B[0m | \u001B[1mINFO    \u001B[0m | \u001B[36mvrp_study.pdptw_model.routing_model\u001B[0m:\u001B[36madd_mass_constraint\u001B[0m:\u001B[36m177\u001B[0m - \u001B[1mДобавление ограничений для массы\u001B[0m\n",
      "\u001B[32m2025-07-18 13:08:05.208\u001B[0m | \u001B[1mINFO    \u001B[0m | \u001B[36mvrp_study.pdptw_model.routing_model\u001B[0m:\u001B[36mdo_solve\u001B[0m:\u001B[36m407\u001B[0m - \u001B[1mНачало решения\u001B[0m\n",
      "\u001B[32m2025-07-18 13:08:05.209\u001B[0m | \u001B[1mINFO    \u001B[0m | \u001B[36mvrp_study.pdptw_model.routing_model\u001B[0m:\u001B[36mdo_solve\u001B[0m:\u001B[36m410\u001B[0m - \u001B[1muse initial_solution: 1\u001B[0m\n",
      "\u001B[32m2025-07-18 13:08:05.210\u001B[0m | \u001B[34m\u001B[1mDEBUG   \u001B[0m | \u001B[36mvrp_study.pdptw_model.routing_model\u001B[0m:\u001B[36m__call__\u001B[0m:\u001B[36m40\u001B[0m - \u001B[34m\u001B[1mtime: 0.003; new solution (1): 3922; best solution: 3922\u001B[0m\n",
      "\u001B[32m2025-07-18 13:08:05.212\u001B[0m | \u001B[34m\u001B[1mDEBUG   \u001B[0m | \u001B[36mvrp_study.pdptw_model.routing_model\u001B[0m:\u001B[36m__call__\u001B[0m:\u001B[36m40\u001B[0m - \u001B[34m\u001B[1mtime: 0.005; new solution (2): 3922; best solution: 3922\u001B[0m\n",
      "\u001B[32m2025-07-18 13:08:05.213\u001B[0m | \u001B[1mINFO    \u001B[0m | \u001B[36mvrp_study.pdptw_model.routing_model\u001B[0m:\u001B[36mdo_solve\u001B[0m:\u001B[36m423\u001B[0m - \u001B[1mfind solution\u001B[0m\n",
      "\u001B[32m2025-07-18 13:08:05.215\u001B[0m | \u001B[1mINFO    \u001B[0m | \u001B[36mvrp_study.pdptw_model.routing_model\u001B[0m:\u001B[36mfind_optimal_paths\u001B[0m:\u001B[36m464\u001B[0m - \u001B[1mbest_score: 39.22\u001B[0m\n",
      "\u001B[32m2025-07-18 13:08:05.215\u001B[0m | \u001B[1mINFO    \u001B[0m | \u001B[36mvrp_study.pdptw_model.solution_builder\u001B[0m:\u001B[36mget_initial_solution\u001B[0m:\u001B[36m142\u001B[0m - \u001B[1m[[0, 1, 2, 0], [], [], [], [], [], [], [], [], [], [], [], [], [], [], [], [], []]\u001B[0m\n"
     ]
    },
    {
     "data": {
      "text/plain": "  0%|          | 0/1 [00:00<?, ?it/s]",
      "application/vnd.jupyter.widget-view+json": {
       "version_major": 2,
       "version_minor": 0,
       "model_id": "3052fbc003084d03933ce2867afd51d1"
      }
     },
     "metadata": {},
     "output_type": "display_data"
    },
    {
     "name": "stderr",
     "output_type": "stream",
     "text": [
      "\u001B[32m2025-07-18 13:08:05.238\u001B[0m | \u001B[1mINFO    \u001B[0m | \u001B[36mvrp_study.pdptw_model.routing_model\u001B[0m:\u001B[36mfind_optimal_paths\u001B[0m:\u001B[36m443\u001B[0m - \u001B[1mproblem size: 3\u001B[0m\n",
      "\u001B[32m2025-07-18 13:08:05.239\u001B[0m | \u001B[1mINFO    \u001B[0m | \u001B[36mvrp_study.pdptw_model.routing_model\u001B[0m:\u001B[36mdo_solve\u001B[0m:\u001B[36m378\u001B[0m - \u001B[1mНачало создания модели\u001B[0m\n",
      "\u001B[32m2025-07-18 13:08:05.242\u001B[0m | \u001B[1mINFO    \u001B[0m | \u001B[36mvrp_study.pdptw_model.routing_model\u001B[0m:\u001B[36madd_distance_dimension\u001B[0m:\u001B[36m299\u001B[0m - \u001B[1mДобавление размерности для расстояния\u001B[0m\n",
      "\u001B[32m2025-07-18 13:08:05.243\u001B[0m | \u001B[1mINFO    \u001B[0m | \u001B[36mvrp_study.pdptw_model.routing_model\u001B[0m:\u001B[36madd_count_dimension\u001B[0m:\u001B[36m335\u001B[0m - \u001B[1mДобавление размерности для расстояния\u001B[0m\n",
      "\u001B[32m2025-07-18 13:08:05.244\u001B[0m | \u001B[1mINFO    \u001B[0m | \u001B[36mvrp_study.pdptw_model.routing_model\u001B[0m:\u001B[36madd_pick_up_and_delivery\u001B[0m:\u001B[36m269\u001B[0m - \u001B[1mДобавление ограничения для порядка доставки\u001B[0m\n",
      "\u001B[32m2025-07-18 13:08:05.245\u001B[0m | \u001B[1mINFO    \u001B[0m | \u001B[36mvrp_study.pdptw_model.routing_model\u001B[0m:\u001B[36madd_time_window\u001B[0m:\u001B[36m194\u001B[0m - \u001B[1madd time\u001B[0m\n",
      "\u001B[32m2025-07-18 13:08:05.248\u001B[0m | \u001B[1mINFO    \u001B[0m | \u001B[36mvrp_study.pdptw_model.routing_model\u001B[0m:\u001B[36madd_mass_constraint\u001B[0m:\u001B[36m177\u001B[0m - \u001B[1mДобавление ограничений для массы\u001B[0m\n",
      "\u001B[32m2025-07-18 13:08:05.251\u001B[0m | \u001B[1mINFO    \u001B[0m | \u001B[36mvrp_study.pdptw_model.routing_model\u001B[0m:\u001B[36mdo_solve\u001B[0m:\u001B[36m407\u001B[0m - \u001B[1mНачало решения\u001B[0m\n",
      "\u001B[32m2025-07-18 13:08:05.255\u001B[0m | \u001B[34m\u001B[1mDEBUG   \u001B[0m | \u001B[36mvrp_study.pdptw_model.routing_model\u001B[0m:\u001B[36m__call__\u001B[0m:\u001B[36m40\u001B[0m - \u001B[34m\u001B[1mtime: 0.005; new solution (1): 1; best solution: 1\u001B[0m\n",
      "\u001B[32m2025-07-18 13:08:05.258\u001B[0m | \u001B[1mINFO    \u001B[0m | \u001B[36mvrp_study.pdptw_model.routing_model\u001B[0m:\u001B[36mdo_solve\u001B[0m:\u001B[36m423\u001B[0m - \u001B[1mfind solution\u001B[0m\n",
      "\u001B[32m2025-07-18 13:08:05.260\u001B[0m | \u001B[1mINFO    \u001B[0m | \u001B[36mvrp_study.pdptw_model.routing_model\u001B[0m:\u001B[36mfind_optimal_paths\u001B[0m:\u001B[36m451\u001B[0m - \u001B[1mbest_score: 1\u001B[0m\n",
      "\u001B[32m2025-07-18 13:08:05.261\u001B[0m | \u001B[1mINFO    \u001B[0m | \u001B[36mvrp_study.pdptw_model.routing_model\u001B[0m:\u001B[36mdo_solve\u001B[0m:\u001B[36m378\u001B[0m - \u001B[1mНачало создания модели\u001B[0m\n",
      "\u001B[32m2025-07-18 13:08:05.264\u001B[0m | \u001B[1mINFO    \u001B[0m | \u001B[36mvrp_study.pdptw_model.routing_model\u001B[0m:\u001B[36madd_distance_dimension\u001B[0m:\u001B[36m299\u001B[0m - \u001B[1mДобавление размерности для расстояния\u001B[0m\n",
      "\u001B[32m2025-07-18 13:08:05.265\u001B[0m | \u001B[1mINFO    \u001B[0m | \u001B[36mvrp_study.pdptw_model.routing_model\u001B[0m:\u001B[36madd_count_dimension\u001B[0m:\u001B[36m335\u001B[0m - \u001B[1mДобавление размерности для расстояния\u001B[0m\n",
      "\u001B[32m2025-07-18 13:08:05.266\u001B[0m | \u001B[1mINFO    \u001B[0m | \u001B[36mvrp_study.pdptw_model.routing_model\u001B[0m:\u001B[36madd_pick_up_and_delivery\u001B[0m:\u001B[36m269\u001B[0m - \u001B[1mДобавление ограничения для порядка доставки\u001B[0m\n",
      "\u001B[32m2025-07-18 13:08:05.267\u001B[0m | \u001B[1mINFO    \u001B[0m | \u001B[36mvrp_study.pdptw_model.routing_model\u001B[0m:\u001B[36madd_vehicles_cost\u001B[0m:\u001B[36m243\u001B[0m - \u001B[1mДобавление стоимостей машин\u001B[0m\n",
      "\u001B[32m2025-07-18 13:08:05.268\u001B[0m | \u001B[1mINFO    \u001B[0m | \u001B[36mvrp_study.pdptw_model.routing_model\u001B[0m:\u001B[36madd_time_window\u001B[0m:\u001B[36m194\u001B[0m - \u001B[1madd time\u001B[0m\n",
      "\u001B[32m2025-07-18 13:08:05.269\u001B[0m | \u001B[1mINFO    \u001B[0m | \u001B[36mvrp_study.pdptw_model.routing_model\u001B[0m:\u001B[36madd_mass_constraint\u001B[0m:\u001B[36m177\u001B[0m - \u001B[1mДобавление ограничений для массы\u001B[0m\n",
      "\u001B[32m2025-07-18 13:08:05.271\u001B[0m | \u001B[1mINFO    \u001B[0m | \u001B[36mvrp_study.pdptw_model.routing_model\u001B[0m:\u001B[36mdo_solve\u001B[0m:\u001B[36m407\u001B[0m - \u001B[1mНачало решения\u001B[0m\n",
      "\u001B[32m2025-07-18 13:08:05.272\u001B[0m | \u001B[1mINFO    \u001B[0m | \u001B[36mvrp_study.pdptw_model.routing_model\u001B[0m:\u001B[36mdo_solve\u001B[0m:\u001B[36m410\u001B[0m - \u001B[1muse initial_solution: 1\u001B[0m\n",
      "\u001B[32m2025-07-18 13:08:05.275\u001B[0m | \u001B[34m\u001B[1mDEBUG   \u001B[0m | \u001B[36mvrp_study.pdptw_model.routing_model\u001B[0m:\u001B[36m__call__\u001B[0m:\u001B[36m40\u001B[0m - \u001B[34m\u001B[1mtime: 0.005; new solution (1): 4717; best solution: 4717\u001B[0m\n",
      "\u001B[32m2025-07-18 13:08:05.276\u001B[0m | \u001B[34m\u001B[1mDEBUG   \u001B[0m | \u001B[36mvrp_study.pdptw_model.routing_model\u001B[0m:\u001B[36m__call__\u001B[0m:\u001B[36m40\u001B[0m - \u001B[34m\u001B[1mtime: 0.006; new solution (2): 4717; best solution: 4717\u001B[0m\n",
      "\u001B[32m2025-07-18 13:08:05.277\u001B[0m | \u001B[1mINFO    \u001B[0m | \u001B[36mvrp_study.pdptw_model.routing_model\u001B[0m:\u001B[36mdo_solve\u001B[0m:\u001B[36m423\u001B[0m - \u001B[1mfind solution\u001B[0m\n",
      "\u001B[32m2025-07-18 13:08:05.278\u001B[0m | \u001B[1mINFO    \u001B[0m | \u001B[36mvrp_study.pdptw_model.routing_model\u001B[0m:\u001B[36mfind_optimal_paths\u001B[0m:\u001B[36m464\u001B[0m - \u001B[1mbest_score: 47.17\u001B[0m\n",
      "\u001B[32m2025-07-18 13:08:05.281\u001B[0m | \u001B[1mINFO    \u001B[0m | \u001B[36mvrp_study.pdptw_model.solution_builder\u001B[0m:\u001B[36mget_initial_solution\u001B[0m:\u001B[36m142\u001B[0m - \u001B[1m[[0, 1, 2, 0], [], [], [], [], [], [], [], [], [], [], [], [], [], [], [], []]\u001B[0m\n"
     ]
    },
    {
     "data": {
      "text/plain": "  0%|          | 0/1 [00:00<?, ?it/s]",
      "application/vnd.jupyter.widget-view+json": {
       "version_major": 2,
       "version_minor": 0,
       "model_id": "b7d5b0c956714a9d93e0cca5378c14cd"
      }
     },
     "metadata": {},
     "output_type": "display_data"
    },
    {
     "name": "stderr",
     "output_type": "stream",
     "text": [
      "\u001B[32m2025-07-18 13:08:05.298\u001B[0m | \u001B[1mINFO    \u001B[0m | \u001B[36mvrp_study.pdptw_model.routing_model\u001B[0m:\u001B[36mfind_optimal_paths\u001B[0m:\u001B[36m443\u001B[0m - \u001B[1mproblem size: 3\u001B[0m\n",
      "\u001B[32m2025-07-18 13:08:05.300\u001B[0m | \u001B[1mINFO    \u001B[0m | \u001B[36mvrp_study.pdptw_model.routing_model\u001B[0m:\u001B[36mdo_solve\u001B[0m:\u001B[36m378\u001B[0m - \u001B[1mНачало создания модели\u001B[0m\n",
      "\u001B[32m2025-07-18 13:08:05.303\u001B[0m | \u001B[1mINFO    \u001B[0m | \u001B[36mvrp_study.pdptw_model.routing_model\u001B[0m:\u001B[36madd_distance_dimension\u001B[0m:\u001B[36m299\u001B[0m - \u001B[1mДобавление размерности для расстояния\u001B[0m\n",
      "\u001B[32m2025-07-18 13:08:05.304\u001B[0m | \u001B[1mINFO    \u001B[0m | \u001B[36mvrp_study.pdptw_model.routing_model\u001B[0m:\u001B[36madd_count_dimension\u001B[0m:\u001B[36m335\u001B[0m - \u001B[1mДобавление размерности для расстояния\u001B[0m\n",
      "\u001B[32m2025-07-18 13:08:05.305\u001B[0m | \u001B[1mINFO    \u001B[0m | \u001B[36mvrp_study.pdptw_model.routing_model\u001B[0m:\u001B[36madd_pick_up_and_delivery\u001B[0m:\u001B[36m269\u001B[0m - \u001B[1mДобавление ограничения для порядка доставки\u001B[0m\n",
      "\u001B[32m2025-07-18 13:08:05.306\u001B[0m | \u001B[1mINFO    \u001B[0m | \u001B[36mvrp_study.pdptw_model.routing_model\u001B[0m:\u001B[36madd_time_window\u001B[0m:\u001B[36m194\u001B[0m - \u001B[1madd time\u001B[0m\n",
      "\u001B[32m2025-07-18 13:08:05.307\u001B[0m | \u001B[1mINFO    \u001B[0m | \u001B[36mvrp_study.pdptw_model.routing_model\u001B[0m:\u001B[36madd_mass_constraint\u001B[0m:\u001B[36m177\u001B[0m - \u001B[1mДобавление ограничений для массы\u001B[0m\n",
      "\u001B[32m2025-07-18 13:08:05.311\u001B[0m | \u001B[1mINFO    \u001B[0m | \u001B[36mvrp_study.pdptw_model.routing_model\u001B[0m:\u001B[36mdo_solve\u001B[0m:\u001B[36m407\u001B[0m - \u001B[1mНачало решения\u001B[0m\n",
      "\u001B[32m2025-07-18 13:08:05.314\u001B[0m | \u001B[34m\u001B[1mDEBUG   \u001B[0m | \u001B[36mvrp_study.pdptw_model.routing_model\u001B[0m:\u001B[36m__call__\u001B[0m:\u001B[36m40\u001B[0m - \u001B[34m\u001B[1mtime: 0.005; new solution (1): 1; best solution: 1\u001B[0m\n",
      "\u001B[32m2025-07-18 13:08:05.316\u001B[0m | \u001B[1mINFO    \u001B[0m | \u001B[36mvrp_study.pdptw_model.routing_model\u001B[0m:\u001B[36mdo_solve\u001B[0m:\u001B[36m423\u001B[0m - \u001B[1mfind solution\u001B[0m\n",
      "\u001B[32m2025-07-18 13:08:05.317\u001B[0m | \u001B[1mINFO    \u001B[0m | \u001B[36mvrp_study.pdptw_model.routing_model\u001B[0m:\u001B[36mfind_optimal_paths\u001B[0m:\u001B[36m451\u001B[0m - \u001B[1mbest_score: 1\u001B[0m\n",
      "\u001B[32m2025-07-18 13:08:05.320\u001B[0m | \u001B[1mINFO    \u001B[0m | \u001B[36mvrp_study.pdptw_model.routing_model\u001B[0m:\u001B[36mdo_solve\u001B[0m:\u001B[36m378\u001B[0m - \u001B[1mНачало создания модели\u001B[0m\n",
      "\u001B[32m2025-07-18 13:08:05.322\u001B[0m | \u001B[1mINFO    \u001B[0m | \u001B[36mvrp_study.pdptw_model.routing_model\u001B[0m:\u001B[36madd_distance_dimension\u001B[0m:\u001B[36m299\u001B[0m - \u001B[1mДобавление размерности для расстояния\u001B[0m\n",
      "\u001B[32m2025-07-18 13:08:05.324\u001B[0m | \u001B[1mINFO    \u001B[0m | \u001B[36mvrp_study.pdptw_model.routing_model\u001B[0m:\u001B[36madd_count_dimension\u001B[0m:\u001B[36m335\u001B[0m - \u001B[1mДобавление размерности для расстояния\u001B[0m\n",
      "\u001B[32m2025-07-18 13:08:05.325\u001B[0m | \u001B[1mINFO    \u001B[0m | \u001B[36mvrp_study.pdptw_model.routing_model\u001B[0m:\u001B[36madd_pick_up_and_delivery\u001B[0m:\u001B[36m269\u001B[0m - \u001B[1mДобавление ограничения для порядка доставки\u001B[0m\n",
      "\u001B[32m2025-07-18 13:08:05.326\u001B[0m | \u001B[1mINFO    \u001B[0m | \u001B[36mvrp_study.pdptw_model.routing_model\u001B[0m:\u001B[36madd_vehicles_cost\u001B[0m:\u001B[36m243\u001B[0m - \u001B[1mДобавление стоимостей машин\u001B[0m\n",
      "\u001B[32m2025-07-18 13:08:05.327\u001B[0m | \u001B[1mINFO    \u001B[0m | \u001B[36mvrp_study.pdptw_model.routing_model\u001B[0m:\u001B[36madd_time_window\u001B[0m:\u001B[36m194\u001B[0m - \u001B[1madd time\u001B[0m\n",
      "\u001B[32m2025-07-18 13:08:05.329\u001B[0m | \u001B[1mINFO    \u001B[0m | \u001B[36mvrp_study.pdptw_model.routing_model\u001B[0m:\u001B[36madd_mass_constraint\u001B[0m:\u001B[36m177\u001B[0m - \u001B[1mДобавление ограничений для массы\u001B[0m\n",
      "\u001B[32m2025-07-18 13:08:05.331\u001B[0m | \u001B[1mINFO    \u001B[0m | \u001B[36mvrp_study.pdptw_model.routing_model\u001B[0m:\u001B[36mdo_solve\u001B[0m:\u001B[36m407\u001B[0m - \u001B[1mНачало решения\u001B[0m\n",
      "\u001B[32m2025-07-18 13:08:05.332\u001B[0m | \u001B[1mINFO    \u001B[0m | \u001B[36mvrp_study.pdptw_model.routing_model\u001B[0m:\u001B[36mdo_solve\u001B[0m:\u001B[36m410\u001B[0m - \u001B[1muse initial_solution: 1\u001B[0m\n",
      "\u001B[32m2025-07-18 13:08:05.334\u001B[0m | \u001B[34m\u001B[1mDEBUG   \u001B[0m | \u001B[36mvrp_study.pdptw_model.routing_model\u001B[0m:\u001B[36m__call__\u001B[0m:\u001B[36m40\u001B[0m - \u001B[34m\u001B[1mtime: 0.003; new solution (1): 5000; best solution: 5000\u001B[0m\n",
      "\u001B[32m2025-07-18 13:08:05.335\u001B[0m | \u001B[34m\u001B[1mDEBUG   \u001B[0m | \u001B[36mvrp_study.pdptw_model.routing_model\u001B[0m:\u001B[36m__call__\u001B[0m:\u001B[36m40\u001B[0m - \u001B[34m\u001B[1mtime: 0.005; new solution (2): 5000; best solution: 5000\u001B[0m\n",
      "\u001B[32m2025-07-18 13:08:05.337\u001B[0m | \u001B[1mINFO    \u001B[0m | \u001B[36mvrp_study.pdptw_model.routing_model\u001B[0m:\u001B[36mdo_solve\u001B[0m:\u001B[36m423\u001B[0m - \u001B[1mfind solution\u001B[0m\n",
      "\u001B[32m2025-07-18 13:08:05.339\u001B[0m | \u001B[1mINFO    \u001B[0m | \u001B[36mvrp_study.pdptw_model.routing_model\u001B[0m:\u001B[36mfind_optimal_paths\u001B[0m:\u001B[36m464\u001B[0m - \u001B[1mbest_score: 50.00\u001B[0m\n",
      "\u001B[32m2025-07-18 13:08:05.340\u001B[0m | \u001B[1mINFO    \u001B[0m | \u001B[36mvrp_study.pdptw_model.solution_builder\u001B[0m:\u001B[36mget_initial_solution\u001B[0m:\u001B[36m142\u001B[0m - \u001B[1m[[0, 1, 2, 0], [], [], [], [], [], [], [], [], [], [], [], [], [], [], []]\u001B[0m\n",
      "\u001B[32m2025-07-18 13:08:05.350\u001B[0m | \u001B[1mINFO    \u001B[0m | \u001B[36mvrp_study.pdptw_model.solution_builder\u001B[0m:\u001B[36mget_initial_solution\u001B[0m:\u001B[36m122\u001B[0m - \u001B[1m(1, 32.074999999999996)\u001B[0m\n",
      "\u001B[32m2025-07-18 13:08:05.352\u001B[0m | \u001B[1mINFO    \u001B[0m | \u001B[36mvrp_study.pdptw_model.solution_builder\u001B[0m:\u001B[36mget_initial_solution\u001B[0m:\u001B[36m122\u001B[0m - \u001B[1m(1, 16.0875)\u001B[0m\n",
      "\u001B[32m2025-07-18 13:08:05.353\u001B[0m | \u001B[1mINFO    \u001B[0m | \u001B[36mvrp_study.pdptw_model.solution_builder\u001B[0m:\u001B[36mget_initial_solution\u001B[0m:\u001B[36m122\u001B[0m - \u001B[1m(1, 8.09375)\u001B[0m\n",
      "\u001B[32m2025-07-18 13:08:05.355\u001B[0m | \u001B[1mINFO    \u001B[0m | \u001B[36mvrp_study.pdptw_model.solution_builder\u001B[0m:\u001B[36mget_initial_solution\u001B[0m:\u001B[36m122\u001B[0m - \u001B[1m(1, 4.096875)\u001B[0m\n",
      "\u001B[32m2025-07-18 13:08:05.357\u001B[0m | \u001B[1mINFO    \u001B[0m | \u001B[36mvrp_study.pdptw_model.solution_builder\u001B[0m:\u001B[36mget_initial_solution\u001B[0m:\u001B[36m122\u001B[0m - \u001B[1m(1, 2.0984374999999997)\u001B[0m\n",
      "\u001B[32m2025-07-18 13:08:05.359\u001B[0m | \u001B[1mINFO    \u001B[0m | \u001B[36mvrp_study.pdptw_model.solution_builder\u001B[0m:\u001B[36mget_initial_solution\u001B[0m:\u001B[36m122\u001B[0m - \u001B[1m(1, 1.09921875)\u001B[0m\n",
      "\u001B[32m2025-07-18 13:08:05.361\u001B[0m | \u001B[1mINFO    \u001B[0m | \u001B[36mvrp_study.pdptw_model.solution_builder\u001B[0m:\u001B[36mget_initial_solution\u001B[0m:\u001B[36m122\u001B[0m - \u001B[1m(3, 0.599609375)\u001B[0m\n",
      "\u001B[32m2025-07-18 13:08:05.364\u001B[0m | \u001B[1mINFO    \u001B[0m | \u001B[36mvrp_study.pdptw_model.solution_builder\u001B[0m:\u001B[36mget_initial_solution\u001B[0m:\u001B[36m122\u001B[0m - \u001B[1m(3, 0.3498046875)\u001B[0m\n",
      "\u001B[32m2025-07-18 13:08:05.366\u001B[0m | \u001B[1mINFO    \u001B[0m | \u001B[36mvrp_study.pdptw_model.solution_builder\u001B[0m:\u001B[36mget_initial_solution\u001B[0m:\u001B[36m122\u001B[0m - \u001B[1m(3, 0.22490234375)\u001B[0m\n",
      "\u001B[32m2025-07-18 13:08:05.368\u001B[0m | \u001B[1mINFO    \u001B[0m | \u001B[36mvrp_study.pdptw_model.solution_builder\u001B[0m:\u001B[36mget_initial_solution\u001B[0m:\u001B[36m122\u001B[0m - \u001B[1m(3, 0.16245117187500002)\u001B[0m\n"
     ]
    },
    {
     "data": {
      "text/plain": "  0%|          | 0/1 [00:00<?, ?it/s]",
      "application/vnd.jupyter.widget-view+json": {
       "version_major": 2,
       "version_minor": 0,
       "model_id": "43005bdd51cb490c8afd44c35be09811"
      }
     },
     "metadata": {},
     "output_type": "display_data"
    },
    {
     "name": "stderr",
     "output_type": "stream",
     "text": [
      "\u001B[32m2025-07-18 13:08:05.384\u001B[0m | \u001B[1mINFO    \u001B[0m | \u001B[36mvrp_study.pdptw_model.routing_model\u001B[0m:\u001B[36mfind_optimal_paths\u001B[0m:\u001B[36m443\u001B[0m - \u001B[1mproblem size: 7\u001B[0m\n",
      "\u001B[32m2025-07-18 13:08:05.385\u001B[0m | \u001B[1mINFO    \u001B[0m | \u001B[36mvrp_study.pdptw_model.routing_model\u001B[0m:\u001B[36mdo_solve\u001B[0m:\u001B[36m378\u001B[0m - \u001B[1mНачало создания модели\u001B[0m\n",
      "\u001B[32m2025-07-18 13:08:05.388\u001B[0m | \u001B[1mINFO    \u001B[0m | \u001B[36mvrp_study.pdptw_model.routing_model\u001B[0m:\u001B[36madd_distance_dimension\u001B[0m:\u001B[36m299\u001B[0m - \u001B[1mДобавление размерности для расстояния\u001B[0m\n",
      "\u001B[32m2025-07-18 13:08:05.390\u001B[0m | \u001B[1mINFO    \u001B[0m | \u001B[36mvrp_study.pdptw_model.routing_model\u001B[0m:\u001B[36madd_count_dimension\u001B[0m:\u001B[36m335\u001B[0m - \u001B[1mДобавление размерности для расстояния\u001B[0m\n",
      "\u001B[32m2025-07-18 13:08:05.391\u001B[0m | \u001B[1mINFO    \u001B[0m | \u001B[36mvrp_study.pdptw_model.routing_model\u001B[0m:\u001B[36madd_pick_up_and_delivery\u001B[0m:\u001B[36m269\u001B[0m - \u001B[1mДобавление ограничения для порядка доставки\u001B[0m\n",
      "\u001B[32m2025-07-18 13:08:05.392\u001B[0m | \u001B[1mINFO    \u001B[0m | \u001B[36mvrp_study.pdptw_model.routing_model\u001B[0m:\u001B[36madd_time_window\u001B[0m:\u001B[36m194\u001B[0m - \u001B[1madd time\u001B[0m\n",
      "\u001B[32m2025-07-18 13:08:05.393\u001B[0m | \u001B[1mINFO    \u001B[0m | \u001B[36mvrp_study.pdptw_model.routing_model\u001B[0m:\u001B[36madd_mass_constraint\u001B[0m:\u001B[36m177\u001B[0m - \u001B[1mДобавление ограничений для массы\u001B[0m\n",
      "\u001B[32m2025-07-18 13:08:05.399\u001B[0m | \u001B[1mINFO    \u001B[0m | \u001B[36mvrp_study.pdptw_model.routing_model\u001B[0m:\u001B[36mdo_solve\u001B[0m:\u001B[36m407\u001B[0m - \u001B[1mНачало решения\u001B[0m\n",
      "\u001B[32m2025-07-18 13:08:05.403\u001B[0m | \u001B[34m\u001B[1mDEBUG   \u001B[0m | \u001B[36mvrp_study.pdptw_model.routing_model\u001B[0m:\u001B[36m__call__\u001B[0m:\u001B[36m40\u001B[0m - \u001B[34m\u001B[1mtime: 0.007; new solution (1): 1; best solution: 1\u001B[0m\n",
      "\u001B[32m2025-07-18 13:08:05.414\u001B[0m | \u001B[1mINFO    \u001B[0m | \u001B[36mvrp_study.pdptw_model.routing_model\u001B[0m:\u001B[36mdo_solve\u001B[0m:\u001B[36m423\u001B[0m - \u001B[1mfind solution\u001B[0m\n",
      "\u001B[32m2025-07-18 13:08:05.416\u001B[0m | \u001B[1mINFO    \u001B[0m | \u001B[36mvrp_study.pdptw_model.routing_model\u001B[0m:\u001B[36mfind_optimal_paths\u001B[0m:\u001B[36m451\u001B[0m - \u001B[1mbest_score: 1\u001B[0m\n",
      "\u001B[32m2025-07-18 13:08:05.416\u001B[0m | \u001B[1mINFO    \u001B[0m | \u001B[36mvrp_study.pdptw_model.routing_model\u001B[0m:\u001B[36mdo_solve\u001B[0m:\u001B[36m378\u001B[0m - \u001B[1mНачало создания модели\u001B[0m\n",
      "\u001B[32m2025-07-18 13:08:05.420\u001B[0m | \u001B[1mINFO    \u001B[0m | \u001B[36mvrp_study.pdptw_model.routing_model\u001B[0m:\u001B[36madd_distance_dimension\u001B[0m:\u001B[36m299\u001B[0m - \u001B[1mДобавление размерности для расстояния\u001B[0m\n",
      "\u001B[32m2025-07-18 13:08:05.421\u001B[0m | \u001B[1mINFO    \u001B[0m | \u001B[36mvrp_study.pdptw_model.routing_model\u001B[0m:\u001B[36madd_count_dimension\u001B[0m:\u001B[36m335\u001B[0m - \u001B[1mДобавление размерности для расстояния\u001B[0m\n",
      "\u001B[32m2025-07-18 13:08:05.422\u001B[0m | \u001B[1mINFO    \u001B[0m | \u001B[36mvrp_study.pdptw_model.routing_model\u001B[0m:\u001B[36madd_pick_up_and_delivery\u001B[0m:\u001B[36m269\u001B[0m - \u001B[1mДобавление ограничения для порядка доставки\u001B[0m\n",
      "\u001B[32m2025-07-18 13:08:05.423\u001B[0m | \u001B[1mINFO    \u001B[0m | \u001B[36mvrp_study.pdptw_model.routing_model\u001B[0m:\u001B[36madd_vehicles_cost\u001B[0m:\u001B[36m243\u001B[0m - \u001B[1mДобавление стоимостей машин\u001B[0m\n",
      "\u001B[32m2025-07-18 13:08:05.424\u001B[0m | \u001B[1mINFO    \u001B[0m | \u001B[36mvrp_study.pdptw_model.routing_model\u001B[0m:\u001B[36madd_time_window\u001B[0m:\u001B[36m194\u001B[0m - \u001B[1madd time\u001B[0m\n",
      "\u001B[32m2025-07-18 13:08:05.425\u001B[0m | \u001B[1mINFO    \u001B[0m | \u001B[36mvrp_study.pdptw_model.routing_model\u001B[0m:\u001B[36madd_mass_constraint\u001B[0m:\u001B[36m177\u001B[0m - \u001B[1mДобавление ограничений для массы\u001B[0m\n",
      "\u001B[32m2025-07-18 13:08:05.428\u001B[0m | \u001B[1mINFO    \u001B[0m | \u001B[36mvrp_study.pdptw_model.routing_model\u001B[0m:\u001B[36mdo_solve\u001B[0m:\u001B[36m407\u001B[0m - \u001B[1mНачало решения\u001B[0m\n",
      "\u001B[32m2025-07-18 13:08:05.428\u001B[0m | \u001B[1mINFO    \u001B[0m | \u001B[36mvrp_study.pdptw_model.routing_model\u001B[0m:\u001B[36mdo_solve\u001B[0m:\u001B[36m410\u001B[0m - \u001B[1muse initial_solution: 1\u001B[0m\n",
      "\u001B[32m2025-07-18 13:08:05.430\u001B[0m | \u001B[34m\u001B[1mDEBUG   \u001B[0m | \u001B[36mvrp_study.pdptw_model.routing_model\u001B[0m:\u001B[36m__call__\u001B[0m:\u001B[36m40\u001B[0m - \u001B[34m\u001B[1mtime: 0.003; new solution (1): 9991; best solution: 9991\u001B[0m\n",
      "\u001B[32m2025-07-18 13:08:05.431\u001B[0m | \u001B[34m\u001B[1mDEBUG   \u001B[0m | \u001B[36mvrp_study.pdptw_model.routing_model\u001B[0m:\u001B[36m__call__\u001B[0m:\u001B[36m40\u001B[0m - \u001B[34m\u001B[1mtime: 0.005; new solution (2): 9991; best solution: 9991\u001B[0m\n",
      "\u001B[32m2025-07-18 13:08:05.440\u001B[0m | \u001B[1mINFO    \u001B[0m | \u001B[36mvrp_study.pdptw_model.routing_model\u001B[0m:\u001B[36mdo_solve\u001B[0m:\u001B[36m423\u001B[0m - \u001B[1mfind solution\u001B[0m\n",
      "\u001B[32m2025-07-18 13:08:05.442\u001B[0m | \u001B[1mINFO    \u001B[0m | \u001B[36mvrp_study.pdptw_model.routing_model\u001B[0m:\u001B[36mfind_optimal_paths\u001B[0m:\u001B[36m464\u001B[0m - \u001B[1mbest_score: 99.91\u001B[0m\n",
      "\u001B[32m2025-07-18 13:08:05.443\u001B[0m | \u001B[1mINFO    \u001B[0m | \u001B[36mvrp_study.pdptw_model.solution_builder\u001B[0m:\u001B[36mget_initial_solution\u001B[0m:\u001B[36m142\u001B[0m - \u001B[1m[[0, 3, 1, 5, 2, 4, 6, 0], [], [], [], [], [], [], [], [], [], [], [], [], [], []]\u001B[0m\n"
     ]
    },
    {
     "data": {
      "text/plain": "  0%|          | 0/1 [00:00<?, ?it/s]",
      "application/vnd.jupyter.widget-view+json": {
       "version_major": 2,
       "version_minor": 0,
       "model_id": "7a78e8ea97524bf38af8dfb5afb6ecc7"
      }
     },
     "metadata": {},
     "output_type": "display_data"
    },
    {
     "name": "stderr",
     "output_type": "stream",
     "text": [
      "\u001B[32m2025-07-18 13:08:05.460\u001B[0m | \u001B[1mINFO    \u001B[0m | \u001B[36mvrp_study.pdptw_model.routing_model\u001B[0m:\u001B[36mfind_optimal_paths\u001B[0m:\u001B[36m443\u001B[0m - \u001B[1mproblem size: 3\u001B[0m\n",
      "\u001B[32m2025-07-18 13:08:05.461\u001B[0m | \u001B[1mINFO    \u001B[0m | \u001B[36mvrp_study.pdptw_model.routing_model\u001B[0m:\u001B[36mdo_solve\u001B[0m:\u001B[36m378\u001B[0m - \u001B[1mНачало создания модели\u001B[0m\n",
      "\u001B[32m2025-07-18 13:08:05.464\u001B[0m | \u001B[1mINFO    \u001B[0m | \u001B[36mvrp_study.pdptw_model.routing_model\u001B[0m:\u001B[36madd_distance_dimension\u001B[0m:\u001B[36m299\u001B[0m - \u001B[1mДобавление размерности для расстояния\u001B[0m\n",
      "\u001B[32m2025-07-18 13:08:05.465\u001B[0m | \u001B[1mINFO    \u001B[0m | \u001B[36mvrp_study.pdptw_model.routing_model\u001B[0m:\u001B[36madd_count_dimension\u001B[0m:\u001B[36m335\u001B[0m - \u001B[1mДобавление размерности для расстояния\u001B[0m\n",
      "\u001B[32m2025-07-18 13:08:05.466\u001B[0m | \u001B[1mINFO    \u001B[0m | \u001B[36mvrp_study.pdptw_model.routing_model\u001B[0m:\u001B[36madd_pick_up_and_delivery\u001B[0m:\u001B[36m269\u001B[0m - \u001B[1mДобавление ограничения для порядка доставки\u001B[0m\n",
      "\u001B[32m2025-07-18 13:08:05.467\u001B[0m | \u001B[1mINFO    \u001B[0m | \u001B[36mvrp_study.pdptw_model.routing_model\u001B[0m:\u001B[36madd_time_window\u001B[0m:\u001B[36m194\u001B[0m - \u001B[1madd time\u001B[0m\n",
      "\u001B[32m2025-07-18 13:08:05.468\u001B[0m | \u001B[1mINFO    \u001B[0m | \u001B[36mvrp_study.pdptw_model.routing_model\u001B[0m:\u001B[36madd_mass_constraint\u001B[0m:\u001B[36m177\u001B[0m - \u001B[1mДобавление ограничений для массы\u001B[0m\n",
      "\u001B[32m2025-07-18 13:08:05.472\u001B[0m | \u001B[1mINFO    \u001B[0m | \u001B[36mvrp_study.pdptw_model.routing_model\u001B[0m:\u001B[36mdo_solve\u001B[0m:\u001B[36m407\u001B[0m - \u001B[1mНачало решения\u001B[0m\n",
      "\u001B[32m2025-07-18 13:08:05.475\u001B[0m | \u001B[34m\u001B[1mDEBUG   \u001B[0m | \u001B[36mvrp_study.pdptw_model.routing_model\u001B[0m:\u001B[36m__call__\u001B[0m:\u001B[36m40\u001B[0m - \u001B[34m\u001B[1mtime: 0.005; new solution (1): 1; best solution: 1\u001B[0m\n",
      "\u001B[32m2025-07-18 13:08:05.478\u001B[0m | \u001B[1mINFO    \u001B[0m | \u001B[36mvrp_study.pdptw_model.routing_model\u001B[0m:\u001B[36mdo_solve\u001B[0m:\u001B[36m423\u001B[0m - \u001B[1mfind solution\u001B[0m\n",
      "\u001B[32m2025-07-18 13:08:05.479\u001B[0m | \u001B[1mINFO    \u001B[0m | \u001B[36mvrp_study.pdptw_model.routing_model\u001B[0m:\u001B[36mfind_optimal_paths\u001B[0m:\u001B[36m451\u001B[0m - \u001B[1mbest_score: 1\u001B[0m\n",
      "\u001B[32m2025-07-18 13:08:05.480\u001B[0m | \u001B[1mINFO    \u001B[0m | \u001B[36mvrp_study.pdptw_model.routing_model\u001B[0m:\u001B[36mdo_solve\u001B[0m:\u001B[36m378\u001B[0m - \u001B[1mНачало создания модели\u001B[0m\n",
      "\u001B[32m2025-07-18 13:08:05.482\u001B[0m | \u001B[1mINFO    \u001B[0m | \u001B[36mvrp_study.pdptw_model.routing_model\u001B[0m:\u001B[36madd_distance_dimension\u001B[0m:\u001B[36m299\u001B[0m - \u001B[1mДобавление размерности для расстояния\u001B[0m\n",
      "\u001B[32m2025-07-18 13:08:05.487\u001B[0m | \u001B[1mINFO    \u001B[0m | \u001B[36mvrp_study.pdptw_model.routing_model\u001B[0m:\u001B[36madd_count_dimension\u001B[0m:\u001B[36m335\u001B[0m - \u001B[1mДобавление размерности для расстояния\u001B[0m\n",
      "\u001B[32m2025-07-18 13:08:05.487\u001B[0m | \u001B[1mINFO    \u001B[0m | \u001B[36mvrp_study.pdptw_model.routing_model\u001B[0m:\u001B[36madd_pick_up_and_delivery\u001B[0m:\u001B[36m269\u001B[0m - \u001B[1mДобавление ограничения для порядка доставки\u001B[0m\n",
      "\u001B[32m2025-07-18 13:08:05.489\u001B[0m | \u001B[1mINFO    \u001B[0m | \u001B[36mvrp_study.pdptw_model.routing_model\u001B[0m:\u001B[36madd_vehicles_cost\u001B[0m:\u001B[36m243\u001B[0m - \u001B[1mДобавление стоимостей машин\u001B[0m\n",
      "\u001B[32m2025-07-18 13:08:05.490\u001B[0m | \u001B[1mINFO    \u001B[0m | \u001B[36mvrp_study.pdptw_model.routing_model\u001B[0m:\u001B[36madd_time_window\u001B[0m:\u001B[36m194\u001B[0m - \u001B[1madd time\u001B[0m\n",
      "\u001B[32m2025-07-18 13:08:05.491\u001B[0m | \u001B[1mINFO    \u001B[0m | \u001B[36mvrp_study.pdptw_model.routing_model\u001B[0m:\u001B[36madd_mass_constraint\u001B[0m:\u001B[36m177\u001B[0m - \u001B[1mДобавление ограничений для массы\u001B[0m\n",
      "\u001B[32m2025-07-18 13:08:05.494\u001B[0m | \u001B[1mINFO    \u001B[0m | \u001B[36mvrp_study.pdptw_model.routing_model\u001B[0m:\u001B[36mdo_solve\u001B[0m:\u001B[36m407\u001B[0m - \u001B[1mНачало решения\u001B[0m\n",
      "\u001B[32m2025-07-18 13:08:05.495\u001B[0m | \u001B[1mINFO    \u001B[0m | \u001B[36mvrp_study.pdptw_model.routing_model\u001B[0m:\u001B[36mdo_solve\u001B[0m:\u001B[36m410\u001B[0m - \u001B[1muse initial_solution: 1\u001B[0m\n",
      "\u001B[32m2025-07-18 13:08:05.497\u001B[0m | \u001B[34m\u001B[1mDEBUG   \u001B[0m | \u001B[36mvrp_study.pdptw_model.routing_model\u001B[0m:\u001B[36m__call__\u001B[0m:\u001B[36m40\u001B[0m - \u001B[34m\u001B[1mtime: 0.004; new solution (1): 7205; best solution: 7205\u001B[0m\n",
      "\u001B[32m2025-07-18 13:08:05.498\u001B[0m | \u001B[34m\u001B[1mDEBUG   \u001B[0m | \u001B[36mvrp_study.pdptw_model.routing_model\u001B[0m:\u001B[36m__call__\u001B[0m:\u001B[36m40\u001B[0m - \u001B[34m\u001B[1mtime: 0.005; new solution (2): 7205; best solution: 7205\u001B[0m\n",
      "\u001B[32m2025-07-18 13:08:05.500\u001B[0m | \u001B[1mINFO    \u001B[0m | \u001B[36mvrp_study.pdptw_model.routing_model\u001B[0m:\u001B[36mdo_solve\u001B[0m:\u001B[36m423\u001B[0m - \u001B[1mfind solution\u001B[0m\n",
      "\u001B[32m2025-07-18 13:08:05.501\u001B[0m | \u001B[1mINFO    \u001B[0m | \u001B[36mvrp_study.pdptw_model.routing_model\u001B[0m:\u001B[36mfind_optimal_paths\u001B[0m:\u001B[36m464\u001B[0m - \u001B[1mbest_score: 72.05\u001B[0m\n",
      "\u001B[32m2025-07-18 13:08:05.502\u001B[0m | \u001B[1mINFO    \u001B[0m | \u001B[36mvrp_study.pdptw_model.solution_builder\u001B[0m:\u001B[36mget_initial_solution\u001B[0m:\u001B[36m142\u001B[0m - \u001B[1m[[0, 1, 2, 0], [], [], [], [], [], [], [], [], [], [], [], [], []]\u001B[0m\n",
      "\u001B[32m2025-07-18 13:08:05.510\u001B[0m | \u001B[1mINFO    \u001B[0m | \u001B[36mvrp_study.pdptw_model.solution_builder\u001B[0m:\u001B[36mget_initial_solution\u001B[0m:\u001B[36m122\u001B[0m - \u001B[1m(1, 32.074999999999996)\u001B[0m\n",
      "\u001B[32m2025-07-18 13:08:05.514\u001B[0m | \u001B[1mINFO    \u001B[0m | \u001B[36mvrp_study.pdptw_model.solution_builder\u001B[0m:\u001B[36mget_initial_solution\u001B[0m:\u001B[36m122\u001B[0m - \u001B[1m(1, 16.0875)\u001B[0m\n",
      "\u001B[32m2025-07-18 13:08:05.515\u001B[0m | \u001B[1mINFO    \u001B[0m | \u001B[36mvrp_study.pdptw_model.solution_builder\u001B[0m:\u001B[36mget_initial_solution\u001B[0m:\u001B[36m122\u001B[0m - \u001B[1m(1, 8.09375)\u001B[0m\n",
      "\u001B[32m2025-07-18 13:08:05.517\u001B[0m | \u001B[1mINFO    \u001B[0m | \u001B[36mvrp_study.pdptw_model.solution_builder\u001B[0m:\u001B[36mget_initial_solution\u001B[0m:\u001B[36m122\u001B[0m - \u001B[1m(1, 4.096875)\u001B[0m\n",
      "\u001B[32m2025-07-18 13:08:05.519\u001B[0m | \u001B[1mINFO    \u001B[0m | \u001B[36mvrp_study.pdptw_model.solution_builder\u001B[0m:\u001B[36mget_initial_solution\u001B[0m:\u001B[36m122\u001B[0m - \u001B[1m(1, 2.0984374999999997)\u001B[0m\n",
      "\u001B[32m2025-07-18 13:08:05.521\u001B[0m | \u001B[1mINFO    \u001B[0m | \u001B[36mvrp_study.pdptw_model.solution_builder\u001B[0m:\u001B[36mget_initial_solution\u001B[0m:\u001B[36m122\u001B[0m - \u001B[1m(1, 1.09921875)\u001B[0m\n",
      "\u001B[32m2025-07-18 13:08:05.523\u001B[0m | \u001B[1mINFO    \u001B[0m | \u001B[36mvrp_study.pdptw_model.solution_builder\u001B[0m:\u001B[36mget_initial_solution\u001B[0m:\u001B[36m122\u001B[0m - \u001B[1m(5, 0.599609375)\u001B[0m\n",
      "\u001B[32m2025-07-18 13:08:05.525\u001B[0m | \u001B[1mINFO    \u001B[0m | \u001B[36mvrp_study.pdptw_model.solution_builder\u001B[0m:\u001B[36mget_initial_solution\u001B[0m:\u001B[36m122\u001B[0m - \u001B[1m(5, 0.3498046875)\u001B[0m\n",
      "\u001B[32m2025-07-18 13:08:05.528\u001B[0m | \u001B[1mINFO    \u001B[0m | \u001B[36mvrp_study.pdptw_model.solution_builder\u001B[0m:\u001B[36mget_initial_solution\u001B[0m:\u001B[36m122\u001B[0m - \u001B[1m(5, 0.22490234375)\u001B[0m\n",
      "\u001B[32m2025-07-18 13:08:05.530\u001B[0m | \u001B[1mINFO    \u001B[0m | \u001B[36mvrp_study.pdptw_model.solution_builder\u001B[0m:\u001B[36mget_initial_solution\u001B[0m:\u001B[36m122\u001B[0m - \u001B[1m(6, 0.16245117187500002)\u001B[0m\n"
     ]
    },
    {
     "data": {
      "text/plain": "  0%|          | 0/1 [00:00<?, ?it/s]",
      "application/vnd.jupyter.widget-view+json": {
       "version_major": 2,
       "version_minor": 0,
       "model_id": "2902024b8b2044cd911eac1da457ce2d"
      }
     },
     "metadata": {},
     "output_type": "display_data"
    },
    {
     "name": "stderr",
     "output_type": "stream",
     "text": [
      "\u001B[32m2025-07-18 13:08:05.546\u001B[0m | \u001B[1mINFO    \u001B[0m | \u001B[36mvrp_study.pdptw_model.routing_model\u001B[0m:\u001B[36mfind_optimal_paths\u001B[0m:\u001B[36m443\u001B[0m - \u001B[1mproblem size: 13\u001B[0m\n",
      "\u001B[32m2025-07-18 13:08:05.547\u001B[0m | \u001B[1mINFO    \u001B[0m | \u001B[36mvrp_study.pdptw_model.routing_model\u001B[0m:\u001B[36mdo_solve\u001B[0m:\u001B[36m378\u001B[0m - \u001B[1mНачало создания модели\u001B[0m\n",
      "\u001B[32m2025-07-18 13:08:05.550\u001B[0m | \u001B[1mINFO    \u001B[0m | \u001B[36mvrp_study.pdptw_model.routing_model\u001B[0m:\u001B[36madd_distance_dimension\u001B[0m:\u001B[36m299\u001B[0m - \u001B[1mДобавление размерности для расстояния\u001B[0m\n",
      "\u001B[32m2025-07-18 13:08:05.552\u001B[0m | \u001B[1mINFO    \u001B[0m | \u001B[36mvrp_study.pdptw_model.routing_model\u001B[0m:\u001B[36madd_count_dimension\u001B[0m:\u001B[36m335\u001B[0m - \u001B[1mДобавление размерности для расстояния\u001B[0m\n",
      "\u001B[32m2025-07-18 13:08:05.554\u001B[0m | \u001B[1mINFO    \u001B[0m | \u001B[36mvrp_study.pdptw_model.routing_model\u001B[0m:\u001B[36madd_pick_up_and_delivery\u001B[0m:\u001B[36m269\u001B[0m - \u001B[1mДобавление ограничения для порядка доставки\u001B[0m\n",
      "\u001B[32m2025-07-18 13:08:05.555\u001B[0m | \u001B[1mINFO    \u001B[0m | \u001B[36mvrp_study.pdptw_model.routing_model\u001B[0m:\u001B[36madd_time_window\u001B[0m:\u001B[36m194\u001B[0m - \u001B[1madd time\u001B[0m\n",
      "\u001B[32m2025-07-18 13:08:05.557\u001B[0m | \u001B[1mINFO    \u001B[0m | \u001B[36mvrp_study.pdptw_model.routing_model\u001B[0m:\u001B[36madd_mass_constraint\u001B[0m:\u001B[36m177\u001B[0m - \u001B[1mДобавление ограничений для массы\u001B[0m\n",
      "\u001B[32m2025-07-18 13:08:05.561\u001B[0m | \u001B[1mINFO    \u001B[0m | \u001B[36mvrp_study.pdptw_model.routing_model\u001B[0m:\u001B[36mdo_solve\u001B[0m:\u001B[36m407\u001B[0m - \u001B[1mНачало решения\u001B[0m\n",
      "\u001B[32m2025-07-18 13:08:05.565\u001B[0m | \u001B[34m\u001B[1mDEBUG   \u001B[0m | \u001B[36mvrp_study.pdptw_model.routing_model\u001B[0m:\u001B[36m__call__\u001B[0m:\u001B[36m40\u001B[0m - \u001B[34m\u001B[1mtime: 0.006; new solution (1): 1; best solution: 1\u001B[0m\n",
      "\u001B[32m2025-07-18 13:08:05.586\u001B[0m | \u001B[1mINFO    \u001B[0m | \u001B[36mvrp_study.pdptw_model.routing_model\u001B[0m:\u001B[36mdo_solve\u001B[0m:\u001B[36m423\u001B[0m - \u001B[1mfind solution\u001B[0m\n",
      "\u001B[32m2025-07-18 13:08:05.587\u001B[0m | \u001B[1mINFO    \u001B[0m | \u001B[36mvrp_study.pdptw_model.routing_model\u001B[0m:\u001B[36mfind_optimal_paths\u001B[0m:\u001B[36m451\u001B[0m - \u001B[1mbest_score: 1\u001B[0m\n",
      "\u001B[32m2025-07-18 13:08:05.588\u001B[0m | \u001B[1mINFO    \u001B[0m | \u001B[36mvrp_study.pdptw_model.routing_model\u001B[0m:\u001B[36mdo_solve\u001B[0m:\u001B[36m378\u001B[0m - \u001B[1mНачало создания модели\u001B[0m\n",
      "\u001B[32m2025-07-18 13:08:05.591\u001B[0m | \u001B[1mINFO    \u001B[0m | \u001B[36mvrp_study.pdptw_model.routing_model\u001B[0m:\u001B[36madd_distance_dimension\u001B[0m:\u001B[36m299\u001B[0m - \u001B[1mДобавление размерности для расстояния\u001B[0m\n",
      "\u001B[32m2025-07-18 13:08:05.592\u001B[0m | \u001B[1mINFO    \u001B[0m | \u001B[36mvrp_study.pdptw_model.routing_model\u001B[0m:\u001B[36madd_count_dimension\u001B[0m:\u001B[36m335\u001B[0m - \u001B[1mДобавление размерности для расстояния\u001B[0m\n",
      "\u001B[32m2025-07-18 13:08:05.593\u001B[0m | \u001B[1mINFO    \u001B[0m | \u001B[36mvrp_study.pdptw_model.routing_model\u001B[0m:\u001B[36madd_pick_up_and_delivery\u001B[0m:\u001B[36m269\u001B[0m - \u001B[1mДобавление ограничения для порядка доставки\u001B[0m\n",
      "\u001B[32m2025-07-18 13:08:05.595\u001B[0m | \u001B[1mINFO    \u001B[0m | \u001B[36mvrp_study.pdptw_model.routing_model\u001B[0m:\u001B[36madd_vehicles_cost\u001B[0m:\u001B[36m243\u001B[0m - \u001B[1mДобавление стоимостей машин\u001B[0m\n",
      "\u001B[32m2025-07-18 13:08:05.596\u001B[0m | \u001B[1mINFO    \u001B[0m | \u001B[36mvrp_study.pdptw_model.routing_model\u001B[0m:\u001B[36madd_time_window\u001B[0m:\u001B[36m194\u001B[0m - \u001B[1madd time\u001B[0m\n",
      "\u001B[32m2025-07-18 13:08:05.597\u001B[0m | \u001B[1mINFO    \u001B[0m | \u001B[36mvrp_study.pdptw_model.routing_model\u001B[0m:\u001B[36madd_mass_constraint\u001B[0m:\u001B[36m177\u001B[0m - \u001B[1mДобавление ограничений для массы\u001B[0m\n",
      "\u001B[32m2025-07-18 13:08:05.600\u001B[0m | \u001B[1mINFO    \u001B[0m | \u001B[36mvrp_study.pdptw_model.routing_model\u001B[0m:\u001B[36mdo_solve\u001B[0m:\u001B[36m407\u001B[0m - \u001B[1mНачало решения\u001B[0m\n",
      "\u001B[32m2025-07-18 13:08:05.600\u001B[0m | \u001B[1mINFO    \u001B[0m | \u001B[36mvrp_study.pdptw_model.routing_model\u001B[0m:\u001B[36mdo_solve\u001B[0m:\u001B[36m410\u001B[0m - \u001B[1muse initial_solution: 1\u001B[0m\n",
      "\u001B[32m2025-07-18 13:08:05.602\u001B[0m | \u001B[34m\u001B[1mDEBUG   \u001B[0m | \u001B[36mvrp_study.pdptw_model.routing_model\u001B[0m:\u001B[36m__call__\u001B[0m:\u001B[36m40\u001B[0m - \u001B[34m\u001B[1mtime: 0.004; new solution (1): 5939; best solution: 5939\u001B[0m\n",
      "\u001B[32m2025-07-18 13:08:05.604\u001B[0m | \u001B[34m\u001B[1mDEBUG   \u001B[0m | \u001B[36mvrp_study.pdptw_model.routing_model\u001B[0m:\u001B[36m__call__\u001B[0m:\u001B[36m40\u001B[0m - \u001B[34m\u001B[1mtime: 0.006; new solution (2): 5939; best solution: 5939\u001B[0m\n",
      "\u001B[32m2025-07-18 13:08:05.634\u001B[0m | \u001B[1mINFO    \u001B[0m | \u001B[36mvrp_study.pdptw_model.routing_model\u001B[0m:\u001B[36mdo_solve\u001B[0m:\u001B[36m423\u001B[0m - \u001B[1mfind solution\u001B[0m\n",
      "\u001B[32m2025-07-18 13:08:05.636\u001B[0m | \u001B[1mINFO    \u001B[0m | \u001B[36mvrp_study.pdptw_model.routing_model\u001B[0m:\u001B[36mfind_optimal_paths\u001B[0m:\u001B[36m464\u001B[0m - \u001B[1mbest_score: 59.39\u001B[0m\n",
      "\u001B[32m2025-07-18 13:08:05.636\u001B[0m | \u001B[1mINFO    \u001B[0m | \u001B[36mvrp_study.pdptw_model.solution_builder\u001B[0m:\u001B[36mget_initial_solution\u001B[0m:\u001B[36m142\u001B[0m - \u001B[1m[[0, 1, 9, 5, 3, 6, 10, 2, 7, 8, 4, 11, 12, 0], [], [], [], [], [], [], [], [], [], [], [], []]\u001B[0m\n",
      "\u001B[32m2025-07-18 13:08:05.642\u001B[0m | \u001B[1mINFO    \u001B[0m | \u001B[36mvrp_study.pdptw_model.solution_builder\u001B[0m:\u001B[36mget_initial_solution\u001B[0m:\u001B[36m122\u001B[0m - \u001B[1m(1, 32.074999999999996)\u001B[0m\n",
      "\u001B[32m2025-07-18 13:08:05.644\u001B[0m | \u001B[1mINFO    \u001B[0m | \u001B[36mvrp_study.pdptw_model.solution_builder\u001B[0m:\u001B[36mget_initial_solution\u001B[0m:\u001B[36m122\u001B[0m - \u001B[1m(1, 16.0875)\u001B[0m\n",
      "\u001B[32m2025-07-18 13:08:05.646\u001B[0m | \u001B[1mINFO    \u001B[0m | \u001B[36mvrp_study.pdptw_model.solution_builder\u001B[0m:\u001B[36mget_initial_solution\u001B[0m:\u001B[36m122\u001B[0m - \u001B[1m(1, 8.09375)\u001B[0m\n",
      "\u001B[32m2025-07-18 13:08:05.648\u001B[0m | \u001B[1mINFO    \u001B[0m | \u001B[36mvrp_study.pdptw_model.solution_builder\u001B[0m:\u001B[36mget_initial_solution\u001B[0m:\u001B[36m122\u001B[0m - \u001B[1m(1, 4.096875)\u001B[0m\n",
      "\u001B[32m2025-07-18 13:08:05.649\u001B[0m | \u001B[1mINFO    \u001B[0m | \u001B[36mvrp_study.pdptw_model.solution_builder\u001B[0m:\u001B[36mget_initial_solution\u001B[0m:\u001B[36m122\u001B[0m - \u001B[1m(1, 2.0984374999999997)\u001B[0m\n",
      "\u001B[32m2025-07-18 13:08:05.650\u001B[0m | \u001B[1mINFO    \u001B[0m | \u001B[36mvrp_study.pdptw_model.solution_builder\u001B[0m:\u001B[36mget_initial_solution\u001B[0m:\u001B[36m122\u001B[0m - \u001B[1m(1, 1.09921875)\u001B[0m\n",
      "\u001B[32m2025-07-18 13:08:05.652\u001B[0m | \u001B[1mINFO    \u001B[0m | \u001B[36mvrp_study.pdptw_model.solution_builder\u001B[0m:\u001B[36mget_initial_solution\u001B[0m:\u001B[36m122\u001B[0m - \u001B[1m(3, 0.599609375)\u001B[0m\n",
      "\u001B[32m2025-07-18 13:08:05.653\u001B[0m | \u001B[1mINFO    \u001B[0m | \u001B[36mvrp_study.pdptw_model.solution_builder\u001B[0m:\u001B[36mget_initial_solution\u001B[0m:\u001B[36m122\u001B[0m - \u001B[1m(5, 0.3498046875)\u001B[0m\n",
      "\u001B[32m2025-07-18 13:08:05.655\u001B[0m | \u001B[1mINFO    \u001B[0m | \u001B[36mvrp_study.pdptw_model.solution_builder\u001B[0m:\u001B[36mget_initial_solution\u001B[0m:\u001B[36m122\u001B[0m - \u001B[1m(5, 0.22490234375)\u001B[0m\n",
      "\u001B[32m2025-07-18 13:08:05.656\u001B[0m | \u001B[1mINFO    \u001B[0m | \u001B[36mvrp_study.pdptw_model.solution_builder\u001B[0m:\u001B[36mget_initial_solution\u001B[0m:\u001B[36m122\u001B[0m - \u001B[1m(5, 0.16245117187500002)\u001B[0m\n"
     ]
    },
    {
     "data": {
      "text/plain": "  0%|          | 0/1 [00:00<?, ?it/s]",
      "application/vnd.jupyter.widget-view+json": {
       "version_major": 2,
       "version_minor": 0,
       "model_id": "697d868dbcbb498b8074dae71f28811c"
      }
     },
     "metadata": {},
     "output_type": "display_data"
    },
    {
     "name": "stderr",
     "output_type": "stream",
     "text": [
      "\u001B[32m2025-07-18 13:08:05.668\u001B[0m | \u001B[1mINFO    \u001B[0m | \u001B[36mvrp_study.pdptw_model.routing_model\u001B[0m:\u001B[36mfind_optimal_paths\u001B[0m:\u001B[36m443\u001B[0m - \u001B[1mproblem size: 11\u001B[0m\n",
      "\u001B[32m2025-07-18 13:08:05.669\u001B[0m | \u001B[1mINFO    \u001B[0m | \u001B[36mvrp_study.pdptw_model.routing_model\u001B[0m:\u001B[36mdo_solve\u001B[0m:\u001B[36m378\u001B[0m - \u001B[1mНачало создания модели\u001B[0m\n",
      "\u001B[32m2025-07-18 13:08:05.672\u001B[0m | \u001B[1mINFO    \u001B[0m | \u001B[36mvrp_study.pdptw_model.routing_model\u001B[0m:\u001B[36madd_distance_dimension\u001B[0m:\u001B[36m299\u001B[0m - \u001B[1mДобавление размерности для расстояния\u001B[0m\n",
      "\u001B[32m2025-07-18 13:08:05.673\u001B[0m | \u001B[1mINFO    \u001B[0m | \u001B[36mvrp_study.pdptw_model.routing_model\u001B[0m:\u001B[36madd_count_dimension\u001B[0m:\u001B[36m335\u001B[0m - \u001B[1mДобавление размерности для расстояния\u001B[0m\n",
      "\u001B[32m2025-07-18 13:08:05.674\u001B[0m | \u001B[1mINFO    \u001B[0m | \u001B[36mvrp_study.pdptw_model.routing_model\u001B[0m:\u001B[36madd_pick_up_and_delivery\u001B[0m:\u001B[36m269\u001B[0m - \u001B[1mДобавление ограничения для порядка доставки\u001B[0m\n",
      "\u001B[32m2025-07-18 13:08:05.675\u001B[0m | \u001B[1mINFO    \u001B[0m | \u001B[36mvrp_study.pdptw_model.routing_model\u001B[0m:\u001B[36madd_time_window\u001B[0m:\u001B[36m194\u001B[0m - \u001B[1madd time\u001B[0m\n",
      "\u001B[32m2025-07-18 13:08:05.676\u001B[0m | \u001B[1mINFO    \u001B[0m | \u001B[36mvrp_study.pdptw_model.routing_model\u001B[0m:\u001B[36madd_mass_constraint\u001B[0m:\u001B[36m177\u001B[0m - \u001B[1mДобавление ограничений для массы\u001B[0m\n",
      "\u001B[32m2025-07-18 13:08:05.679\u001B[0m | \u001B[1mINFO    \u001B[0m | \u001B[36mvrp_study.pdptw_model.routing_model\u001B[0m:\u001B[36mdo_solve\u001B[0m:\u001B[36m407\u001B[0m - \u001B[1mНачало решения\u001B[0m\n",
      "\u001B[32m2025-07-18 13:08:05.682\u001B[0m | \u001B[34m\u001B[1mDEBUG   \u001B[0m | \u001B[36mvrp_study.pdptw_model.routing_model\u001B[0m:\u001B[36m__call__\u001B[0m:\u001B[36m40\u001B[0m - \u001B[34m\u001B[1mtime: 0.004; new solution (1): 1; best solution: 1\u001B[0m\n",
      "\u001B[32m2025-07-18 13:08:05.696\u001B[0m | \u001B[1mINFO    \u001B[0m | \u001B[36mvrp_study.pdptw_model.routing_model\u001B[0m:\u001B[36mdo_solve\u001B[0m:\u001B[36m423\u001B[0m - \u001B[1mfind solution\u001B[0m\n",
      "\u001B[32m2025-07-18 13:08:05.697\u001B[0m | \u001B[1mINFO    \u001B[0m | \u001B[36mvrp_study.pdptw_model.routing_model\u001B[0m:\u001B[36mfind_optimal_paths\u001B[0m:\u001B[36m451\u001B[0m - \u001B[1mbest_score: 1\u001B[0m\n",
      "\u001B[32m2025-07-18 13:08:05.698\u001B[0m | \u001B[1mINFO    \u001B[0m | \u001B[36mvrp_study.pdptw_model.routing_model\u001B[0m:\u001B[36mdo_solve\u001B[0m:\u001B[36m378\u001B[0m - \u001B[1mНачало создания модели\u001B[0m\n",
      "\u001B[32m2025-07-18 13:08:05.700\u001B[0m | \u001B[1mINFO    \u001B[0m | \u001B[36mvrp_study.pdptw_model.routing_model\u001B[0m:\u001B[36madd_distance_dimension\u001B[0m:\u001B[36m299\u001B[0m - \u001B[1mДобавление размерности для расстояния\u001B[0m\n",
      "\u001B[32m2025-07-18 13:08:05.701\u001B[0m | \u001B[1mINFO    \u001B[0m | \u001B[36mvrp_study.pdptw_model.routing_model\u001B[0m:\u001B[36madd_count_dimension\u001B[0m:\u001B[36m335\u001B[0m - \u001B[1mДобавление размерности для расстояния\u001B[0m\n",
      "\u001B[32m2025-07-18 13:08:05.701\u001B[0m | \u001B[1mINFO    \u001B[0m | \u001B[36mvrp_study.pdptw_model.routing_model\u001B[0m:\u001B[36madd_pick_up_and_delivery\u001B[0m:\u001B[36m269\u001B[0m - \u001B[1mДобавление ограничения для порядка доставки\u001B[0m\n",
      "\u001B[32m2025-07-18 13:08:05.702\u001B[0m | \u001B[1mINFO    \u001B[0m | \u001B[36mvrp_study.pdptw_model.routing_model\u001B[0m:\u001B[36madd_vehicles_cost\u001B[0m:\u001B[36m243\u001B[0m - \u001B[1mДобавление стоимостей машин\u001B[0m\n",
      "\u001B[32m2025-07-18 13:08:05.703\u001B[0m | \u001B[1mINFO    \u001B[0m | \u001B[36mvrp_study.pdptw_model.routing_model\u001B[0m:\u001B[36madd_time_window\u001B[0m:\u001B[36m194\u001B[0m - \u001B[1madd time\u001B[0m\n",
      "\u001B[32m2025-07-18 13:08:05.704\u001B[0m | \u001B[1mINFO    \u001B[0m | \u001B[36mvrp_study.pdptw_model.routing_model\u001B[0m:\u001B[36madd_mass_constraint\u001B[0m:\u001B[36m177\u001B[0m - \u001B[1mДобавление ограничений для массы\u001B[0m\n",
      "\u001B[32m2025-07-18 13:08:05.706\u001B[0m | \u001B[1mINFO    \u001B[0m | \u001B[36mvrp_study.pdptw_model.routing_model\u001B[0m:\u001B[36mdo_solve\u001B[0m:\u001B[36m407\u001B[0m - \u001B[1mНачало решения\u001B[0m\n",
      "\u001B[32m2025-07-18 13:08:05.707\u001B[0m | \u001B[1mINFO    \u001B[0m | \u001B[36mvrp_study.pdptw_model.routing_model\u001B[0m:\u001B[36mdo_solve\u001B[0m:\u001B[36m410\u001B[0m - \u001B[1muse initial_solution: 1\u001B[0m\n",
      "\u001B[32m2025-07-18 13:08:05.709\u001B[0m | \u001B[34m\u001B[1mDEBUG   \u001B[0m | \u001B[36mvrp_study.pdptw_model.routing_model\u001B[0m:\u001B[36m__call__\u001B[0m:\u001B[36m40\u001B[0m - \u001B[34m\u001B[1mtime: 0.003; new solution (1): 12728; best solution: 12728\u001B[0m\n",
      "\u001B[32m2025-07-18 13:08:05.710\u001B[0m | \u001B[34m\u001B[1mDEBUG   \u001B[0m | \u001B[36mvrp_study.pdptw_model.routing_model\u001B[0m:\u001B[36m__call__\u001B[0m:\u001B[36m40\u001B[0m - \u001B[34m\u001B[1mtime: 0.005; new solution (2): 12728; best solution: 12728\u001B[0m\n",
      "\u001B[32m2025-07-18 13:08:05.733\u001B[0m | \u001B[1mINFO    \u001B[0m | \u001B[36mvrp_study.pdptw_model.routing_model\u001B[0m:\u001B[36mdo_solve\u001B[0m:\u001B[36m423\u001B[0m - \u001B[1mfind solution\u001B[0m\n",
      "\u001B[32m2025-07-18 13:08:05.735\u001B[0m | \u001B[1mINFO    \u001B[0m | \u001B[36mvrp_study.pdptw_model.routing_model\u001B[0m:\u001B[36mfind_optimal_paths\u001B[0m:\u001B[36m464\u001B[0m - \u001B[1mbest_score: 127.28\u001B[0m\n",
      "\u001B[32m2025-07-18 13:08:05.736\u001B[0m | \u001B[1mINFO    \u001B[0m | \u001B[36mvrp_study.pdptw_model.solution_builder\u001B[0m:\u001B[36mget_initial_solution\u001B[0m:\u001B[36m142\u001B[0m - \u001B[1m[[0, 1, 7, 8, 5, 3, 2, 6, 4, 9, 10, 0], [], [], [], [], [], [], [], [], [], [], []]\u001B[0m\n",
      "\u001B[32m2025-07-18 13:08:05.741\u001B[0m | \u001B[1mINFO    \u001B[0m | \u001B[36mvrp_study.pdptw_model.solution_builder\u001B[0m:\u001B[36mget_initial_solution\u001B[0m:\u001B[36m122\u001B[0m - \u001B[1m(1, 32.074999999999996)\u001B[0m\n",
      "\u001B[32m2025-07-18 13:08:05.743\u001B[0m | \u001B[1mINFO    \u001B[0m | \u001B[36mvrp_study.pdptw_model.solution_builder\u001B[0m:\u001B[36mget_initial_solution\u001B[0m:\u001B[36m122\u001B[0m - \u001B[1m(1, 16.0875)\u001B[0m\n",
      "\u001B[32m2025-07-18 13:08:05.745\u001B[0m | \u001B[1mINFO    \u001B[0m | \u001B[36mvrp_study.pdptw_model.solution_builder\u001B[0m:\u001B[36mget_initial_solution\u001B[0m:\u001B[36m122\u001B[0m - \u001B[1m(1, 8.09375)\u001B[0m\n",
      "\u001B[32m2025-07-18 13:08:05.747\u001B[0m | \u001B[1mINFO    \u001B[0m | \u001B[36mvrp_study.pdptw_model.solution_builder\u001B[0m:\u001B[36mget_initial_solution\u001B[0m:\u001B[36m122\u001B[0m - \u001B[1m(1, 4.096875)\u001B[0m\n",
      "\u001B[32m2025-07-18 13:08:05.749\u001B[0m | \u001B[1mINFO    \u001B[0m | \u001B[36mvrp_study.pdptw_model.solution_builder\u001B[0m:\u001B[36mget_initial_solution\u001B[0m:\u001B[36m122\u001B[0m - \u001B[1m(1, 2.0984374999999997)\u001B[0m\n",
      "\u001B[32m2025-07-18 13:08:05.751\u001B[0m | \u001B[1mINFO    \u001B[0m | \u001B[36mvrp_study.pdptw_model.solution_builder\u001B[0m:\u001B[36mget_initial_solution\u001B[0m:\u001B[36m122\u001B[0m - \u001B[1m(1, 1.09921875)\u001B[0m\n",
      "\u001B[32m2025-07-18 13:08:05.753\u001B[0m | \u001B[1mINFO    \u001B[0m | \u001B[36mvrp_study.pdptw_model.solution_builder\u001B[0m:\u001B[36mget_initial_solution\u001B[0m:\u001B[36m122\u001B[0m - \u001B[1m(4, 0.599609375)\u001B[0m\n",
      "\u001B[32m2025-07-18 13:08:05.755\u001B[0m | \u001B[1mINFO    \u001B[0m | \u001B[36mvrp_study.pdptw_model.solution_builder\u001B[0m:\u001B[36mget_initial_solution\u001B[0m:\u001B[36m122\u001B[0m - \u001B[1m(5, 0.3498046875)\u001B[0m\n",
      "\u001B[32m2025-07-18 13:08:05.756\u001B[0m | \u001B[1mINFO    \u001B[0m | \u001B[36mvrp_study.pdptw_model.solution_builder\u001B[0m:\u001B[36mget_initial_solution\u001B[0m:\u001B[36m122\u001B[0m - \u001B[1m(5, 0.22490234375)\u001B[0m\n",
      "\u001B[32m2025-07-18 13:08:05.759\u001B[0m | \u001B[1mINFO    \u001B[0m | \u001B[36mvrp_study.pdptw_model.solution_builder\u001B[0m:\u001B[36mget_initial_solution\u001B[0m:\u001B[36m122\u001B[0m - \u001B[1m(5, 0.16245117187500002)\u001B[0m\n"
     ]
    },
    {
     "data": {
      "text/plain": "  0%|          | 0/1 [00:00<?, ?it/s]",
      "application/vnd.jupyter.widget-view+json": {
       "version_major": 2,
       "version_minor": 0,
       "model_id": "3fb33035a41a4d1eaf2e012e9fdd616b"
      }
     },
     "metadata": {},
     "output_type": "display_data"
    },
    {
     "name": "stderr",
     "output_type": "stream",
     "text": [
      "\u001B[32m2025-07-18 13:08:05.770\u001B[0m | \u001B[1mINFO    \u001B[0m | \u001B[36mvrp_study.pdptw_model.routing_model\u001B[0m:\u001B[36mfind_optimal_paths\u001B[0m:\u001B[36m443\u001B[0m - \u001B[1mproblem size: 11\u001B[0m\n",
      "\u001B[32m2025-07-18 13:08:05.771\u001B[0m | \u001B[1mINFO    \u001B[0m | \u001B[36mvrp_study.pdptw_model.routing_model\u001B[0m:\u001B[36mdo_solve\u001B[0m:\u001B[36m378\u001B[0m - \u001B[1mНачало создания модели\u001B[0m\n",
      "\u001B[32m2025-07-18 13:08:05.773\u001B[0m | \u001B[1mINFO    \u001B[0m | \u001B[36mvrp_study.pdptw_model.routing_model\u001B[0m:\u001B[36madd_distance_dimension\u001B[0m:\u001B[36m299\u001B[0m - \u001B[1mДобавление размерности для расстояния\u001B[0m\n",
      "\u001B[32m2025-07-18 13:08:05.775\u001B[0m | \u001B[1mINFO    \u001B[0m | \u001B[36mvrp_study.pdptw_model.routing_model\u001B[0m:\u001B[36madd_count_dimension\u001B[0m:\u001B[36m335\u001B[0m - \u001B[1mДобавление размерности для расстояния\u001B[0m\n",
      "\u001B[32m2025-07-18 13:08:05.776\u001B[0m | \u001B[1mINFO    \u001B[0m | \u001B[36mvrp_study.pdptw_model.routing_model\u001B[0m:\u001B[36madd_pick_up_and_delivery\u001B[0m:\u001B[36m269\u001B[0m - \u001B[1mДобавление ограничения для порядка доставки\u001B[0m\n",
      "\u001B[32m2025-07-18 13:08:05.779\u001B[0m | \u001B[1mINFO    \u001B[0m | \u001B[36mvrp_study.pdptw_model.routing_model\u001B[0m:\u001B[36madd_time_window\u001B[0m:\u001B[36m194\u001B[0m - \u001B[1madd time\u001B[0m\n",
      "\u001B[32m2025-07-18 13:08:05.784\u001B[0m | \u001B[1mINFO    \u001B[0m | \u001B[36mvrp_study.pdptw_model.routing_model\u001B[0m:\u001B[36madd_mass_constraint\u001B[0m:\u001B[36m177\u001B[0m - \u001B[1mДобавление ограничений для массы\u001B[0m\n",
      "\u001B[32m2025-07-18 13:08:05.787\u001B[0m | \u001B[1mINFO    \u001B[0m | \u001B[36mvrp_study.pdptw_model.routing_model\u001B[0m:\u001B[36mdo_solve\u001B[0m:\u001B[36m407\u001B[0m - \u001B[1mНачало решения\u001B[0m\n",
      "\u001B[32m2025-07-18 13:08:05.793\u001B[0m | \u001B[34m\u001B[1mDEBUG   \u001B[0m | \u001B[36mvrp_study.pdptw_model.routing_model\u001B[0m:\u001B[36m__call__\u001B[0m:\u001B[36m40\u001B[0m - \u001B[34m\u001B[1mtime: 0.008; new solution (1): 1; best solution: 1\u001B[0m\n",
      "\u001B[32m2025-07-18 13:08:05.818\u001B[0m | \u001B[1mINFO    \u001B[0m | \u001B[36mvrp_study.pdptw_model.routing_model\u001B[0m:\u001B[36mdo_solve\u001B[0m:\u001B[36m423\u001B[0m - \u001B[1mfind solution\u001B[0m\n",
      "\u001B[32m2025-07-18 13:08:05.823\u001B[0m | \u001B[1mINFO    \u001B[0m | \u001B[36mvrp_study.pdptw_model.routing_model\u001B[0m:\u001B[36mfind_optimal_paths\u001B[0m:\u001B[36m451\u001B[0m - \u001B[1mbest_score: 1\u001B[0m\n",
      "\u001B[32m2025-07-18 13:08:05.824\u001B[0m | \u001B[1mINFO    \u001B[0m | \u001B[36mvrp_study.pdptw_model.routing_model\u001B[0m:\u001B[36mdo_solve\u001B[0m:\u001B[36m378\u001B[0m - \u001B[1mНачало создания модели\u001B[0m\n",
      "\u001B[32m2025-07-18 13:08:05.827\u001B[0m | \u001B[1mINFO    \u001B[0m | \u001B[36mvrp_study.pdptw_model.routing_model\u001B[0m:\u001B[36madd_distance_dimension\u001B[0m:\u001B[36m299\u001B[0m - \u001B[1mДобавление размерности для расстояния\u001B[0m\n",
      "\u001B[32m2025-07-18 13:08:05.828\u001B[0m | \u001B[1mINFO    \u001B[0m | \u001B[36mvrp_study.pdptw_model.routing_model\u001B[0m:\u001B[36madd_count_dimension\u001B[0m:\u001B[36m335\u001B[0m - \u001B[1mДобавление размерности для расстояния\u001B[0m\n",
      "\u001B[32m2025-07-18 13:08:05.829\u001B[0m | \u001B[1mINFO    \u001B[0m | \u001B[36mvrp_study.pdptw_model.routing_model\u001B[0m:\u001B[36madd_pick_up_and_delivery\u001B[0m:\u001B[36m269\u001B[0m - \u001B[1mДобавление ограничения для порядка доставки\u001B[0m\n",
      "\u001B[32m2025-07-18 13:08:05.830\u001B[0m | \u001B[1mINFO    \u001B[0m | \u001B[36mvrp_study.pdptw_model.routing_model\u001B[0m:\u001B[36madd_vehicles_cost\u001B[0m:\u001B[36m243\u001B[0m - \u001B[1mДобавление стоимостей машин\u001B[0m\n",
      "\u001B[32m2025-07-18 13:08:05.831\u001B[0m | \u001B[1mINFO    \u001B[0m | \u001B[36mvrp_study.pdptw_model.routing_model\u001B[0m:\u001B[36madd_time_window\u001B[0m:\u001B[36m194\u001B[0m - \u001B[1madd time\u001B[0m\n",
      "\u001B[32m2025-07-18 13:08:05.833\u001B[0m | \u001B[1mINFO    \u001B[0m | \u001B[36mvrp_study.pdptw_model.routing_model\u001B[0m:\u001B[36madd_mass_constraint\u001B[0m:\u001B[36m177\u001B[0m - \u001B[1mДобавление ограничений для массы\u001B[0m\n",
      "\u001B[32m2025-07-18 13:08:05.835\u001B[0m | \u001B[1mINFO    \u001B[0m | \u001B[36mvrp_study.pdptw_model.routing_model\u001B[0m:\u001B[36mdo_solve\u001B[0m:\u001B[36m407\u001B[0m - \u001B[1mНачало решения\u001B[0m\n",
      "\u001B[32m2025-07-18 13:08:05.836\u001B[0m | \u001B[1mINFO    \u001B[0m | \u001B[36mvrp_study.pdptw_model.routing_model\u001B[0m:\u001B[36mdo_solve\u001B[0m:\u001B[36m410\u001B[0m - \u001B[1muse initial_solution: 1\u001B[0m\n",
      "\u001B[32m2025-07-18 13:08:05.837\u001B[0m | \u001B[34m\u001B[1mDEBUG   \u001B[0m | \u001B[36mvrp_study.pdptw_model.routing_model\u001B[0m:\u001B[36m__call__\u001B[0m:\u001B[36m40\u001B[0m - \u001B[34m\u001B[1mtime: 0.004; new solution (1): 7604; best solution: 7604\u001B[0m\n",
      "\u001B[32m2025-07-18 13:08:05.839\u001B[0m | \u001B[34m\u001B[1mDEBUG   \u001B[0m | \u001B[36mvrp_study.pdptw_model.routing_model\u001B[0m:\u001B[36m__call__\u001B[0m:\u001B[36m40\u001B[0m - \u001B[34m\u001B[1mtime: 0.005; new solution (2): 7604; best solution: 7604\u001B[0m\n",
      "\u001B[32m2025-07-18 13:08:05.854\u001B[0m | \u001B[1mINFO    \u001B[0m | \u001B[36mvrp_study.pdptw_model.routing_model\u001B[0m:\u001B[36mdo_solve\u001B[0m:\u001B[36m423\u001B[0m - \u001B[1mfind solution\u001B[0m\n",
      "\u001B[32m2025-07-18 13:08:05.856\u001B[0m | \u001B[1mINFO    \u001B[0m | \u001B[36mvrp_study.pdptw_model.routing_model\u001B[0m:\u001B[36mfind_optimal_paths\u001B[0m:\u001B[36m464\u001B[0m - \u001B[1mbest_score: 76.04\u001B[0m\n",
      "\u001B[32m2025-07-18 13:08:05.857\u001B[0m | \u001B[1mINFO    \u001B[0m | \u001B[36mvrp_study.pdptw_model.solution_builder\u001B[0m:\u001B[36mget_initial_solution\u001B[0m:\u001B[36m142\u001B[0m - \u001B[1m[[0, 9, 3, 7, 4, 1, 5, 2, 10, 6, 8, 0], [], [], [], [], [], [], [], [], [], []]\u001B[0m\n"
     ]
    },
    {
     "data": {
      "text/plain": "  0%|          | 0/1 [00:00<?, ?it/s]",
      "application/vnd.jupyter.widget-view+json": {
       "version_major": 2,
       "version_minor": 0,
       "model_id": "be16c84d484f4abb8a2fed665d758101"
      }
     },
     "metadata": {},
     "output_type": "display_data"
    },
    {
     "name": "stderr",
     "output_type": "stream",
     "text": [
      "\u001B[32m2025-07-18 13:08:05.870\u001B[0m | \u001B[1mINFO    \u001B[0m | \u001B[36mvrp_study.pdptw_model.routing_model\u001B[0m:\u001B[36mfind_optimal_paths\u001B[0m:\u001B[36m443\u001B[0m - \u001B[1mproblem size: 3\u001B[0m\n",
      "\u001B[32m2025-07-18 13:08:05.872\u001B[0m | \u001B[1mINFO    \u001B[0m | \u001B[36mvrp_study.pdptw_model.routing_model\u001B[0m:\u001B[36mdo_solve\u001B[0m:\u001B[36m378\u001B[0m - \u001B[1mНачало создания модели\u001B[0m\n",
      "\u001B[32m2025-07-18 13:08:05.874\u001B[0m | \u001B[1mINFO    \u001B[0m | \u001B[36mvrp_study.pdptw_model.routing_model\u001B[0m:\u001B[36madd_distance_dimension\u001B[0m:\u001B[36m299\u001B[0m - \u001B[1mДобавление размерности для расстояния\u001B[0m\n",
      "\u001B[32m2025-07-18 13:08:05.875\u001B[0m | \u001B[1mINFO    \u001B[0m | \u001B[36mvrp_study.pdptw_model.routing_model\u001B[0m:\u001B[36madd_count_dimension\u001B[0m:\u001B[36m335\u001B[0m - \u001B[1mДобавление размерности для расстояния\u001B[0m\n",
      "\u001B[32m2025-07-18 13:08:05.876\u001B[0m | \u001B[1mINFO    \u001B[0m | \u001B[36mvrp_study.pdptw_model.routing_model\u001B[0m:\u001B[36madd_pick_up_and_delivery\u001B[0m:\u001B[36m269\u001B[0m - \u001B[1mДобавление ограничения для порядка доставки\u001B[0m\n",
      "\u001B[32m2025-07-18 13:08:05.877\u001B[0m | \u001B[1mINFO    \u001B[0m | \u001B[36mvrp_study.pdptw_model.routing_model\u001B[0m:\u001B[36madd_time_window\u001B[0m:\u001B[36m194\u001B[0m - \u001B[1madd time\u001B[0m\n",
      "\u001B[32m2025-07-18 13:08:05.878\u001B[0m | \u001B[1mINFO    \u001B[0m | \u001B[36mvrp_study.pdptw_model.routing_model\u001B[0m:\u001B[36madd_mass_constraint\u001B[0m:\u001B[36m177\u001B[0m - \u001B[1mДобавление ограничений для массы\u001B[0m\n",
      "\u001B[32m2025-07-18 13:08:05.881\u001B[0m | \u001B[1mINFO    \u001B[0m | \u001B[36mvrp_study.pdptw_model.routing_model\u001B[0m:\u001B[36mdo_solve\u001B[0m:\u001B[36m407\u001B[0m - \u001B[1mНачало решения\u001B[0m\n",
      "\u001B[32m2025-07-18 13:08:05.883\u001B[0m | \u001B[34m\u001B[1mDEBUG   \u001B[0m | \u001B[36mvrp_study.pdptw_model.routing_model\u001B[0m:\u001B[36m__call__\u001B[0m:\u001B[36m40\u001B[0m - \u001B[34m\u001B[1mtime: 0.004; new solution (1): 1; best solution: 1\u001B[0m\n",
      "\u001B[32m2025-07-18 13:08:05.885\u001B[0m | \u001B[1mINFO    \u001B[0m | \u001B[36mvrp_study.pdptw_model.routing_model\u001B[0m:\u001B[36mdo_solve\u001B[0m:\u001B[36m423\u001B[0m - \u001B[1mfind solution\u001B[0m\n",
      "\u001B[32m2025-07-18 13:08:05.886\u001B[0m | \u001B[1mINFO    \u001B[0m | \u001B[36mvrp_study.pdptw_model.routing_model\u001B[0m:\u001B[36mfind_optimal_paths\u001B[0m:\u001B[36m451\u001B[0m - \u001B[1mbest_score: 1\u001B[0m\n",
      "\u001B[32m2025-07-18 13:08:05.887\u001B[0m | \u001B[1mINFO    \u001B[0m | \u001B[36mvrp_study.pdptw_model.routing_model\u001B[0m:\u001B[36mdo_solve\u001B[0m:\u001B[36m378\u001B[0m - \u001B[1mНачало создания модели\u001B[0m\n",
      "\u001B[32m2025-07-18 13:08:05.893\u001B[0m | \u001B[1mINFO    \u001B[0m | \u001B[36mvrp_study.pdptw_model.routing_model\u001B[0m:\u001B[36madd_distance_dimension\u001B[0m:\u001B[36m299\u001B[0m - \u001B[1mДобавление размерности для расстояния\u001B[0m\n",
      "\u001B[32m2025-07-18 13:08:05.894\u001B[0m | \u001B[1mINFO    \u001B[0m | \u001B[36mvrp_study.pdptw_model.routing_model\u001B[0m:\u001B[36madd_count_dimension\u001B[0m:\u001B[36m335\u001B[0m - \u001B[1mДобавление размерности для расстояния\u001B[0m\n",
      "\u001B[32m2025-07-18 13:08:05.895\u001B[0m | \u001B[1mINFO    \u001B[0m | \u001B[36mvrp_study.pdptw_model.routing_model\u001B[0m:\u001B[36madd_pick_up_and_delivery\u001B[0m:\u001B[36m269\u001B[0m - \u001B[1mДобавление ограничения для порядка доставки\u001B[0m\n",
      "\u001B[32m2025-07-18 13:08:05.896\u001B[0m | \u001B[1mINFO    \u001B[0m | \u001B[36mvrp_study.pdptw_model.routing_model\u001B[0m:\u001B[36madd_vehicles_cost\u001B[0m:\u001B[36m243\u001B[0m - \u001B[1mДобавление стоимостей машин\u001B[0m\n",
      "\u001B[32m2025-07-18 13:08:05.897\u001B[0m | \u001B[1mINFO    \u001B[0m | \u001B[36mvrp_study.pdptw_model.routing_model\u001B[0m:\u001B[36madd_time_window\u001B[0m:\u001B[36m194\u001B[0m - \u001B[1madd time\u001B[0m\n",
      "\u001B[32m2025-07-18 13:08:05.898\u001B[0m | \u001B[1mINFO    \u001B[0m | \u001B[36mvrp_study.pdptw_model.routing_model\u001B[0m:\u001B[36madd_mass_constraint\u001B[0m:\u001B[36m177\u001B[0m - \u001B[1mДобавление ограничений для массы\u001B[0m\n",
      "\u001B[32m2025-07-18 13:08:05.899\u001B[0m | \u001B[1mINFO    \u001B[0m | \u001B[36mvrp_study.pdptw_model.routing_model\u001B[0m:\u001B[36mdo_solve\u001B[0m:\u001B[36m407\u001B[0m - \u001B[1mНачало решения\u001B[0m\n",
      "\u001B[32m2025-07-18 13:08:05.900\u001B[0m | \u001B[1mINFO    \u001B[0m | \u001B[36mvrp_study.pdptw_model.routing_model\u001B[0m:\u001B[36mdo_solve\u001B[0m:\u001B[36m410\u001B[0m - \u001B[1muse initial_solution: 1\u001B[0m\n",
      "\u001B[32m2025-07-18 13:08:05.901\u001B[0m | \u001B[34m\u001B[1mDEBUG   \u001B[0m | \u001B[36mvrp_study.pdptw_model.routing_model\u001B[0m:\u001B[36m__call__\u001B[0m:\u001B[36m40\u001B[0m - \u001B[34m\u001B[1mtime: 0.003; new solution (1): 8921; best solution: 8921\u001B[0m\n",
      "\u001B[32m2025-07-18 13:08:05.903\u001B[0m | \u001B[34m\u001B[1mDEBUG   \u001B[0m | \u001B[36mvrp_study.pdptw_model.routing_model\u001B[0m:\u001B[36m__call__\u001B[0m:\u001B[36m40\u001B[0m - \u001B[34m\u001B[1mtime: 0.004; new solution (2): 8921; best solution: 8921\u001B[0m\n",
      "\u001B[32m2025-07-18 13:08:05.904\u001B[0m | \u001B[1mINFO    \u001B[0m | \u001B[36mvrp_study.pdptw_model.routing_model\u001B[0m:\u001B[36mdo_solve\u001B[0m:\u001B[36m423\u001B[0m - \u001B[1mfind solution\u001B[0m\n",
      "\u001B[32m2025-07-18 13:08:05.905\u001B[0m | \u001B[1mINFO    \u001B[0m | \u001B[36mvrp_study.pdptw_model.routing_model\u001B[0m:\u001B[36mfind_optimal_paths\u001B[0m:\u001B[36m464\u001B[0m - \u001B[1mbest_score: 89.21\u001B[0m\n",
      "\u001B[32m2025-07-18 13:08:05.906\u001B[0m | \u001B[1mINFO    \u001B[0m | \u001B[36mvrp_study.pdptw_model.solution_builder\u001B[0m:\u001B[36mget_initial_solution\u001B[0m:\u001B[36m142\u001B[0m - \u001B[1m[[0, 1, 2, 0], [], [], [], [], [], [], [], [], []]\u001B[0m\n",
      "\u001B[32m2025-07-18 13:08:05.915\u001B[0m | \u001B[1mINFO    \u001B[0m | \u001B[36mvrp_study.pdptw_model.solution_builder\u001B[0m:\u001B[36mget_initial_solution\u001B[0m:\u001B[36m122\u001B[0m - \u001B[1m(1, 32.074999999999996)\u001B[0m\n",
      "\u001B[32m2025-07-18 13:08:05.917\u001B[0m | \u001B[1mINFO    \u001B[0m | \u001B[36mvrp_study.pdptw_model.solution_builder\u001B[0m:\u001B[36mget_initial_solution\u001B[0m:\u001B[36m122\u001B[0m - \u001B[1m(1, 16.0875)\u001B[0m\n",
      "\u001B[32m2025-07-18 13:08:05.918\u001B[0m | \u001B[1mINFO    \u001B[0m | \u001B[36mvrp_study.pdptw_model.solution_builder\u001B[0m:\u001B[36mget_initial_solution\u001B[0m:\u001B[36m122\u001B[0m - \u001B[1m(1, 8.09375)\u001B[0m\n",
      "\u001B[32m2025-07-18 13:08:05.920\u001B[0m | \u001B[1mINFO    \u001B[0m | \u001B[36mvrp_study.pdptw_model.solution_builder\u001B[0m:\u001B[36mget_initial_solution\u001B[0m:\u001B[36m122\u001B[0m - \u001B[1m(1, 4.096875)\u001B[0m\n",
      "\u001B[32m2025-07-18 13:08:05.921\u001B[0m | \u001B[1mINFO    \u001B[0m | \u001B[36mvrp_study.pdptw_model.solution_builder\u001B[0m:\u001B[36mget_initial_solution\u001B[0m:\u001B[36m122\u001B[0m - \u001B[1m(1, 2.0984374999999997)\u001B[0m\n",
      "\u001B[32m2025-07-18 13:08:05.923\u001B[0m | \u001B[1mINFO    \u001B[0m | \u001B[36mvrp_study.pdptw_model.solution_builder\u001B[0m:\u001B[36mget_initial_solution\u001B[0m:\u001B[36m122\u001B[0m - \u001B[1m(1, 1.09921875)\u001B[0m\n",
      "\u001B[32m2025-07-18 13:08:05.924\u001B[0m | \u001B[1mINFO    \u001B[0m | \u001B[36mvrp_study.pdptw_model.solution_builder\u001B[0m:\u001B[36mget_initial_solution\u001B[0m:\u001B[36m122\u001B[0m - \u001B[1m(2, 0.599609375)\u001B[0m\n",
      "\u001B[32m2025-07-18 13:08:05.926\u001B[0m | \u001B[1mINFO    \u001B[0m | \u001B[36mvrp_study.pdptw_model.solution_builder\u001B[0m:\u001B[36mget_initial_solution\u001B[0m:\u001B[36m122\u001B[0m - \u001B[1m(2, 0.3498046875)\u001B[0m\n",
      "\u001B[32m2025-07-18 13:08:05.927\u001B[0m | \u001B[1mINFO    \u001B[0m | \u001B[36mvrp_study.pdptw_model.solution_builder\u001B[0m:\u001B[36mget_initial_solution\u001B[0m:\u001B[36m122\u001B[0m - \u001B[1m(2, 0.22490234375)\u001B[0m\n",
      "\u001B[32m2025-07-18 13:08:05.929\u001B[0m | \u001B[1mINFO    \u001B[0m | \u001B[36mvrp_study.pdptw_model.solution_builder\u001B[0m:\u001B[36mget_initial_solution\u001B[0m:\u001B[36m122\u001B[0m - \u001B[1m(2, 0.16245117187500002)\u001B[0m\n"
     ]
    },
    {
     "data": {
      "text/plain": "  0%|          | 0/1 [00:00<?, ?it/s]",
      "application/vnd.jupyter.widget-view+json": {
       "version_major": 2,
       "version_minor": 0,
       "model_id": "c38662ce5ba94ddc9058b9e0a7e1c88c"
      }
     },
     "metadata": {},
     "output_type": "display_data"
    },
    {
     "name": "stderr",
     "output_type": "stream",
     "text": [
      "\u001B[32m2025-07-18 13:08:05.939\u001B[0m | \u001B[1mINFO    \u001B[0m | \u001B[36mvrp_study.pdptw_model.routing_model\u001B[0m:\u001B[36mfind_optimal_paths\u001B[0m:\u001B[36m443\u001B[0m - \u001B[1mproblem size: 5\u001B[0m\n",
      "\u001B[32m2025-07-18 13:08:05.940\u001B[0m | \u001B[1mINFO    \u001B[0m | \u001B[36mvrp_study.pdptw_model.routing_model\u001B[0m:\u001B[36mdo_solve\u001B[0m:\u001B[36m378\u001B[0m - \u001B[1mНачало создания модели\u001B[0m\n",
      "\u001B[32m2025-07-18 13:08:05.942\u001B[0m | \u001B[1mINFO    \u001B[0m | \u001B[36mvrp_study.pdptw_model.routing_model\u001B[0m:\u001B[36madd_distance_dimension\u001B[0m:\u001B[36m299\u001B[0m - \u001B[1mДобавление размерности для расстояния\u001B[0m\n",
      "\u001B[32m2025-07-18 13:08:05.943\u001B[0m | \u001B[1mINFO    \u001B[0m | \u001B[36mvrp_study.pdptw_model.routing_model\u001B[0m:\u001B[36madd_count_dimension\u001B[0m:\u001B[36m335\u001B[0m - \u001B[1mДобавление размерности для расстояния\u001B[0m\n",
      "\u001B[32m2025-07-18 13:08:05.945\u001B[0m | \u001B[1mINFO    \u001B[0m | \u001B[36mvrp_study.pdptw_model.routing_model\u001B[0m:\u001B[36madd_pick_up_and_delivery\u001B[0m:\u001B[36m269\u001B[0m - \u001B[1mДобавление ограничения для порядка доставки\u001B[0m\n",
      "\u001B[32m2025-07-18 13:08:05.947\u001B[0m | \u001B[1mINFO    \u001B[0m | \u001B[36mvrp_study.pdptw_model.routing_model\u001B[0m:\u001B[36madd_time_window\u001B[0m:\u001B[36m194\u001B[0m - \u001B[1madd time\u001B[0m\n",
      "\u001B[32m2025-07-18 13:08:05.948\u001B[0m | \u001B[1mINFO    \u001B[0m | \u001B[36mvrp_study.pdptw_model.routing_model\u001B[0m:\u001B[36madd_mass_constraint\u001B[0m:\u001B[36m177\u001B[0m - \u001B[1mДобавление ограничений для массы\u001B[0m\n",
      "\u001B[32m2025-07-18 13:08:05.951\u001B[0m | \u001B[1mINFO    \u001B[0m | \u001B[36mvrp_study.pdptw_model.routing_model\u001B[0m:\u001B[36mdo_solve\u001B[0m:\u001B[36m407\u001B[0m - \u001B[1mНачало решения\u001B[0m\n",
      "\u001B[32m2025-07-18 13:08:05.953\u001B[0m | \u001B[34m\u001B[1mDEBUG   \u001B[0m | \u001B[36mvrp_study.pdptw_model.routing_model\u001B[0m:\u001B[36m__call__\u001B[0m:\u001B[36m40\u001B[0m - \u001B[34m\u001B[1mtime: 0.004; new solution (1): 1; best solution: 1\u001B[0m\n",
      "\u001B[32m2025-07-18 13:08:05.956\u001B[0m | \u001B[1mINFO    \u001B[0m | \u001B[36mvrp_study.pdptw_model.routing_model\u001B[0m:\u001B[36mdo_solve\u001B[0m:\u001B[36m423\u001B[0m - \u001B[1mfind solution\u001B[0m\n",
      "\u001B[32m2025-07-18 13:08:05.957\u001B[0m | \u001B[1mINFO    \u001B[0m | \u001B[36mvrp_study.pdptw_model.routing_model\u001B[0m:\u001B[36mfind_optimal_paths\u001B[0m:\u001B[36m451\u001B[0m - \u001B[1mbest_score: 1\u001B[0m\n",
      "\u001B[32m2025-07-18 13:08:05.958\u001B[0m | \u001B[1mINFO    \u001B[0m | \u001B[36mvrp_study.pdptw_model.routing_model\u001B[0m:\u001B[36mdo_solve\u001B[0m:\u001B[36m378\u001B[0m - \u001B[1mНачало создания модели\u001B[0m\n",
      "\u001B[32m2025-07-18 13:08:05.961\u001B[0m | \u001B[1mINFO    \u001B[0m | \u001B[36mvrp_study.pdptw_model.routing_model\u001B[0m:\u001B[36madd_distance_dimension\u001B[0m:\u001B[36m299\u001B[0m - \u001B[1mДобавление размерности для расстояния\u001B[0m\n",
      "\u001B[32m2025-07-18 13:08:05.962\u001B[0m | \u001B[1mINFO    \u001B[0m | \u001B[36mvrp_study.pdptw_model.routing_model\u001B[0m:\u001B[36madd_count_dimension\u001B[0m:\u001B[36m335\u001B[0m - \u001B[1mДобавление размерности для расстояния\u001B[0m\n",
      "\u001B[32m2025-07-18 13:08:05.964\u001B[0m | \u001B[1mINFO    \u001B[0m | \u001B[36mvrp_study.pdptw_model.routing_model\u001B[0m:\u001B[36madd_pick_up_and_delivery\u001B[0m:\u001B[36m269\u001B[0m - \u001B[1mДобавление ограничения для порядка доставки\u001B[0m\n",
      "\u001B[32m2025-07-18 13:08:05.964\u001B[0m | \u001B[1mINFO    \u001B[0m | \u001B[36mvrp_study.pdptw_model.routing_model\u001B[0m:\u001B[36madd_vehicles_cost\u001B[0m:\u001B[36m243\u001B[0m - \u001B[1mДобавление стоимостей машин\u001B[0m\n",
      "\u001B[32m2025-07-18 13:08:05.965\u001B[0m | \u001B[1mINFO    \u001B[0m | \u001B[36mvrp_study.pdptw_model.routing_model\u001B[0m:\u001B[36madd_time_window\u001B[0m:\u001B[36m194\u001B[0m - \u001B[1madd time\u001B[0m\n",
      "\u001B[32m2025-07-18 13:08:05.966\u001B[0m | \u001B[1mINFO    \u001B[0m | \u001B[36mvrp_study.pdptw_model.routing_model\u001B[0m:\u001B[36madd_mass_constraint\u001B[0m:\u001B[36m177\u001B[0m - \u001B[1mДобавление ограничений для массы\u001B[0m\n",
      "\u001B[32m2025-07-18 13:08:05.968\u001B[0m | \u001B[1mINFO    \u001B[0m | \u001B[36mvrp_study.pdptw_model.routing_model\u001B[0m:\u001B[36mdo_solve\u001B[0m:\u001B[36m407\u001B[0m - \u001B[1mНачало решения\u001B[0m\n",
      "\u001B[32m2025-07-18 13:08:05.968\u001B[0m | \u001B[1mINFO    \u001B[0m | \u001B[36mvrp_study.pdptw_model.routing_model\u001B[0m:\u001B[36mdo_solve\u001B[0m:\u001B[36m410\u001B[0m - \u001B[1muse initial_solution: 1\u001B[0m\n",
      "\u001B[32m2025-07-18 13:08:05.969\u001B[0m | \u001B[34m\u001B[1mDEBUG   \u001B[0m | \u001B[36mvrp_study.pdptw_model.routing_model\u001B[0m:\u001B[36m__call__\u001B[0m:\u001B[36m40\u001B[0m - \u001B[34m\u001B[1mtime: 0.002; new solution (1): 8238; best solution: 8238\u001B[0m\n",
      "\u001B[32m2025-07-18 13:08:05.970\u001B[0m | \u001B[34m\u001B[1mDEBUG   \u001B[0m | \u001B[36mvrp_study.pdptw_model.routing_model\u001B[0m:\u001B[36m__call__\u001B[0m:\u001B[36m40\u001B[0m - \u001B[34m\u001B[1mtime: 0.003; new solution (2): 8238; best solution: 8238\u001B[0m\n",
      "\u001B[32m2025-07-18 13:08:05.974\u001B[0m | \u001B[1mINFO    \u001B[0m | \u001B[36mvrp_study.pdptw_model.routing_model\u001B[0m:\u001B[36mdo_solve\u001B[0m:\u001B[36m423\u001B[0m - \u001B[1mfind solution\u001B[0m\n",
      "\u001B[32m2025-07-18 13:08:05.975\u001B[0m | \u001B[1mINFO    \u001B[0m | \u001B[36mvrp_study.pdptw_model.routing_model\u001B[0m:\u001B[36mfind_optimal_paths\u001B[0m:\u001B[36m464\u001B[0m - \u001B[1mbest_score: 82.38\u001B[0m\n",
      "\u001B[32m2025-07-18 13:08:05.976\u001B[0m | \u001B[1mINFO    \u001B[0m | \u001B[36mvrp_study.pdptw_model.solution_builder\u001B[0m:\u001B[36mget_initial_solution\u001B[0m:\u001B[36m142\u001B[0m - \u001B[1m[[0, 3, 1, 4, 2, 0], [], [], [], [], [], [], [], []]\u001B[0m\n"
     ]
    },
    {
     "data": {
      "text/plain": "  0%|          | 0/1 [00:00<?, ?it/s]",
      "application/vnd.jupyter.widget-view+json": {
       "version_major": 2,
       "version_minor": 0,
       "model_id": "ac36a52ed66b4cf28d02192d66adef8e"
      }
     },
     "metadata": {},
     "output_type": "display_data"
    },
    {
     "name": "stderr",
     "output_type": "stream",
     "text": [
      "\u001B[32m2025-07-18 13:08:05.995\u001B[0m | \u001B[1mINFO    \u001B[0m | \u001B[36mvrp_study.pdptw_model.routing_model\u001B[0m:\u001B[36mfind_optimal_paths\u001B[0m:\u001B[36m443\u001B[0m - \u001B[1mproblem size: 3\u001B[0m\n",
      "\u001B[32m2025-07-18 13:08:05.996\u001B[0m | \u001B[1mINFO    \u001B[0m | \u001B[36mvrp_study.pdptw_model.routing_model\u001B[0m:\u001B[36mdo_solve\u001B[0m:\u001B[36m378\u001B[0m - \u001B[1mНачало создания модели\u001B[0m\n",
      "\u001B[32m2025-07-18 13:08:05.998\u001B[0m | \u001B[1mINFO    \u001B[0m | \u001B[36mvrp_study.pdptw_model.routing_model\u001B[0m:\u001B[36madd_distance_dimension\u001B[0m:\u001B[36m299\u001B[0m - \u001B[1mДобавление размерности для расстояния\u001B[0m\n",
      "\u001B[32m2025-07-18 13:08:05.999\u001B[0m | \u001B[1mINFO    \u001B[0m | \u001B[36mvrp_study.pdptw_model.routing_model\u001B[0m:\u001B[36madd_count_dimension\u001B[0m:\u001B[36m335\u001B[0m - \u001B[1mДобавление размерности для расстояния\u001B[0m\n",
      "\u001B[32m2025-07-18 13:08:06.000\u001B[0m | \u001B[1mINFO    \u001B[0m | \u001B[36mvrp_study.pdptw_model.routing_model\u001B[0m:\u001B[36madd_pick_up_and_delivery\u001B[0m:\u001B[36m269\u001B[0m - \u001B[1mДобавление ограничения для порядка доставки\u001B[0m\n",
      "\u001B[32m2025-07-18 13:08:06.001\u001B[0m | \u001B[1mINFO    \u001B[0m | \u001B[36mvrp_study.pdptw_model.routing_model\u001B[0m:\u001B[36madd_time_window\u001B[0m:\u001B[36m194\u001B[0m - \u001B[1madd time\u001B[0m\n",
      "\u001B[32m2025-07-18 13:08:06.002\u001B[0m | \u001B[1mINFO    \u001B[0m | \u001B[36mvrp_study.pdptw_model.routing_model\u001B[0m:\u001B[36madd_mass_constraint\u001B[0m:\u001B[36m177\u001B[0m - \u001B[1mДобавление ограничений для массы\u001B[0m\n",
      "\u001B[32m2025-07-18 13:08:06.004\u001B[0m | \u001B[1mINFO    \u001B[0m | \u001B[36mvrp_study.pdptw_model.routing_model\u001B[0m:\u001B[36mdo_solve\u001B[0m:\u001B[36m407\u001B[0m - \u001B[1mНачало решения\u001B[0m\n",
      "\u001B[32m2025-07-18 13:08:06.006\u001B[0m | \u001B[34m\u001B[1mDEBUG   \u001B[0m | \u001B[36mvrp_study.pdptw_model.routing_model\u001B[0m:\u001B[36m__call__\u001B[0m:\u001B[36m40\u001B[0m - \u001B[34m\u001B[1mtime: 0.004; new solution (1): 1; best solution: 1\u001B[0m\n",
      "\u001B[32m2025-07-18 13:08:06.008\u001B[0m | \u001B[1mINFO    \u001B[0m | \u001B[36mvrp_study.pdptw_model.routing_model\u001B[0m:\u001B[36mdo_solve\u001B[0m:\u001B[36m423\u001B[0m - \u001B[1mfind solution\u001B[0m\n",
      "\u001B[32m2025-07-18 13:08:06.009\u001B[0m | \u001B[1mINFO    \u001B[0m | \u001B[36mvrp_study.pdptw_model.routing_model\u001B[0m:\u001B[36mfind_optimal_paths\u001B[0m:\u001B[36m451\u001B[0m - \u001B[1mbest_score: 1\u001B[0m\n",
      "\u001B[32m2025-07-18 13:08:06.010\u001B[0m | \u001B[1mINFO    \u001B[0m | \u001B[36mvrp_study.pdptw_model.routing_model\u001B[0m:\u001B[36mdo_solve\u001B[0m:\u001B[36m378\u001B[0m - \u001B[1mНачало создания модели\u001B[0m\n",
      "\u001B[32m2025-07-18 13:08:06.012\u001B[0m | \u001B[1mINFO    \u001B[0m | \u001B[36mvrp_study.pdptw_model.routing_model\u001B[0m:\u001B[36madd_distance_dimension\u001B[0m:\u001B[36m299\u001B[0m - \u001B[1mДобавление размерности для расстояния\u001B[0m\n",
      "\u001B[32m2025-07-18 13:08:06.013\u001B[0m | \u001B[1mINFO    \u001B[0m | \u001B[36mvrp_study.pdptw_model.routing_model\u001B[0m:\u001B[36madd_count_dimension\u001B[0m:\u001B[36m335\u001B[0m - \u001B[1mДобавление размерности для расстояния\u001B[0m\n",
      "\u001B[32m2025-07-18 13:08:06.013\u001B[0m | \u001B[1mINFO    \u001B[0m | \u001B[36mvrp_study.pdptw_model.routing_model\u001B[0m:\u001B[36madd_pick_up_and_delivery\u001B[0m:\u001B[36m269\u001B[0m - \u001B[1mДобавление ограничения для порядка доставки\u001B[0m\n",
      "\u001B[32m2025-07-18 13:08:06.016\u001B[0m | \u001B[1mINFO    \u001B[0m | \u001B[36mvrp_study.pdptw_model.routing_model\u001B[0m:\u001B[36madd_vehicles_cost\u001B[0m:\u001B[36m243\u001B[0m - \u001B[1mДобавление стоимостей машин\u001B[0m\n",
      "\u001B[32m2025-07-18 13:08:06.017\u001B[0m | \u001B[1mINFO    \u001B[0m | \u001B[36mvrp_study.pdptw_model.routing_model\u001B[0m:\u001B[36madd_time_window\u001B[0m:\u001B[36m194\u001B[0m - \u001B[1madd time\u001B[0m\n",
      "\u001B[32m2025-07-18 13:08:06.018\u001B[0m | \u001B[1mINFO    \u001B[0m | \u001B[36mvrp_study.pdptw_model.routing_model\u001B[0m:\u001B[36madd_mass_constraint\u001B[0m:\u001B[36m177\u001B[0m - \u001B[1mДобавление ограничений для массы\u001B[0m\n",
      "\u001B[32m2025-07-18 13:08:06.020\u001B[0m | \u001B[1mINFO    \u001B[0m | \u001B[36mvrp_study.pdptw_model.routing_model\u001B[0m:\u001B[36mdo_solve\u001B[0m:\u001B[36m407\u001B[0m - \u001B[1mНачало решения\u001B[0m\n",
      "\u001B[32m2025-07-18 13:08:06.021\u001B[0m | \u001B[1mINFO    \u001B[0m | \u001B[36mvrp_study.pdptw_model.routing_model\u001B[0m:\u001B[36mdo_solve\u001B[0m:\u001B[36m410\u001B[0m - \u001B[1muse initial_solution: 1\u001B[0m\n",
      "\u001B[32m2025-07-18 13:08:06.022\u001B[0m | \u001B[34m\u001B[1mDEBUG   \u001B[0m | \u001B[36mvrp_study.pdptw_model.routing_model\u001B[0m:\u001B[36m__call__\u001B[0m:\u001B[36m40\u001B[0m - \u001B[34m\u001B[1mtime: 0.003; new solution (1): 8062; best solution: 8062\u001B[0m\n",
      "\u001B[32m2025-07-18 13:08:06.023\u001B[0m | \u001B[34m\u001B[1mDEBUG   \u001B[0m | \u001B[36mvrp_study.pdptw_model.routing_model\u001B[0m:\u001B[36m__call__\u001B[0m:\u001B[36m40\u001B[0m - \u001B[34m\u001B[1mtime: 0.005; new solution (2): 8062; best solution: 8062\u001B[0m\n",
      "\u001B[32m2025-07-18 13:08:06.025\u001B[0m | \u001B[1mINFO    \u001B[0m | \u001B[36mvrp_study.pdptw_model.routing_model\u001B[0m:\u001B[36mdo_solve\u001B[0m:\u001B[36m423\u001B[0m - \u001B[1mfind solution\u001B[0m\n",
      "\u001B[32m2025-07-18 13:08:06.026\u001B[0m | \u001B[1mINFO    \u001B[0m | \u001B[36mvrp_study.pdptw_model.routing_model\u001B[0m:\u001B[36mfind_optimal_paths\u001B[0m:\u001B[36m464\u001B[0m - \u001B[1mbest_score: 80.62\u001B[0m\n",
      "\u001B[32m2025-07-18 13:08:06.027\u001B[0m | \u001B[1mINFO    \u001B[0m | \u001B[36mvrp_study.pdptw_model.solution_builder\u001B[0m:\u001B[36mget_initial_solution\u001B[0m:\u001B[36m142\u001B[0m - \u001B[1m[[0, 1, 2, 0], [], [], [], [], [], [], []]\u001B[0m\n"
     ]
    },
    {
     "data": {
      "text/plain": "  0%|          | 0/1 [00:00<?, ?it/s]",
      "application/vnd.jupyter.widget-view+json": {
       "version_major": 2,
       "version_minor": 0,
       "model_id": "6223caf0079a4f6f9e1b256454c83eb6"
      }
     },
     "metadata": {},
     "output_type": "display_data"
    },
    {
     "name": "stderr",
     "output_type": "stream",
     "text": [
      "\u001B[32m2025-07-18 13:08:06.039\u001B[0m | \u001B[1mINFO    \u001B[0m | \u001B[36mvrp_study.pdptw_model.routing_model\u001B[0m:\u001B[36mfind_optimal_paths\u001B[0m:\u001B[36m443\u001B[0m - \u001B[1mproblem size: 3\u001B[0m\n",
      "\u001B[32m2025-07-18 13:08:06.040\u001B[0m | \u001B[1mINFO    \u001B[0m | \u001B[36mvrp_study.pdptw_model.routing_model\u001B[0m:\u001B[36mdo_solve\u001B[0m:\u001B[36m378\u001B[0m - \u001B[1mНачало создания модели\u001B[0m\n",
      "\u001B[32m2025-07-18 13:08:06.042\u001B[0m | \u001B[1mINFO    \u001B[0m | \u001B[36mvrp_study.pdptw_model.routing_model\u001B[0m:\u001B[36madd_distance_dimension\u001B[0m:\u001B[36m299\u001B[0m - \u001B[1mДобавление размерности для расстояния\u001B[0m\n",
      "\u001B[32m2025-07-18 13:08:06.043\u001B[0m | \u001B[1mINFO    \u001B[0m | \u001B[36mvrp_study.pdptw_model.routing_model\u001B[0m:\u001B[36madd_count_dimension\u001B[0m:\u001B[36m335\u001B[0m - \u001B[1mДобавление размерности для расстояния\u001B[0m\n",
      "\u001B[32m2025-07-18 13:08:06.044\u001B[0m | \u001B[1mINFO    \u001B[0m | \u001B[36mvrp_study.pdptw_model.routing_model\u001B[0m:\u001B[36madd_pick_up_and_delivery\u001B[0m:\u001B[36m269\u001B[0m - \u001B[1mДобавление ограничения для порядка доставки\u001B[0m\n",
      "\u001B[32m2025-07-18 13:08:06.045\u001B[0m | \u001B[1mINFO    \u001B[0m | \u001B[36mvrp_study.pdptw_model.routing_model\u001B[0m:\u001B[36madd_time_window\u001B[0m:\u001B[36m194\u001B[0m - \u001B[1madd time\u001B[0m\n",
      "\u001B[32m2025-07-18 13:08:06.046\u001B[0m | \u001B[1mINFO    \u001B[0m | \u001B[36mvrp_study.pdptw_model.routing_model\u001B[0m:\u001B[36madd_mass_constraint\u001B[0m:\u001B[36m177\u001B[0m - \u001B[1mДобавление ограничений для массы\u001B[0m\n",
      "\u001B[32m2025-07-18 13:08:06.048\u001B[0m | \u001B[1mINFO    \u001B[0m | \u001B[36mvrp_study.pdptw_model.routing_model\u001B[0m:\u001B[36mdo_solve\u001B[0m:\u001B[36m407\u001B[0m - \u001B[1mНачало решения\u001B[0m\n",
      "\u001B[32m2025-07-18 13:08:06.049\u001B[0m | \u001B[34m\u001B[1mDEBUG   \u001B[0m | \u001B[36mvrp_study.pdptw_model.routing_model\u001B[0m:\u001B[36m__call__\u001B[0m:\u001B[36m40\u001B[0m - \u001B[34m\u001B[1mtime: 0.003; new solution (1): 1; best solution: 1\u001B[0m\n",
      "\u001B[32m2025-07-18 13:08:06.051\u001B[0m | \u001B[1mINFO    \u001B[0m | \u001B[36mvrp_study.pdptw_model.routing_model\u001B[0m:\u001B[36mdo_solve\u001B[0m:\u001B[36m423\u001B[0m - \u001B[1mfind solution\u001B[0m\n",
      "\u001B[32m2025-07-18 13:08:06.052\u001B[0m | \u001B[1mINFO    \u001B[0m | \u001B[36mvrp_study.pdptw_model.routing_model\u001B[0m:\u001B[36mfind_optimal_paths\u001B[0m:\u001B[36m451\u001B[0m - \u001B[1mbest_score: 1\u001B[0m\n",
      "\u001B[32m2025-07-18 13:08:06.053\u001B[0m | \u001B[1mINFO    \u001B[0m | \u001B[36mvrp_study.pdptw_model.routing_model\u001B[0m:\u001B[36mdo_solve\u001B[0m:\u001B[36m378\u001B[0m - \u001B[1mНачало создания модели\u001B[0m\n",
      "\u001B[32m2025-07-18 13:08:06.055\u001B[0m | \u001B[1mINFO    \u001B[0m | \u001B[36mvrp_study.pdptw_model.routing_model\u001B[0m:\u001B[36madd_distance_dimension\u001B[0m:\u001B[36m299\u001B[0m - \u001B[1mДобавление размерности для расстояния\u001B[0m\n",
      "\u001B[32m2025-07-18 13:08:06.056\u001B[0m | \u001B[1mINFO    \u001B[0m | \u001B[36mvrp_study.pdptw_model.routing_model\u001B[0m:\u001B[36madd_count_dimension\u001B[0m:\u001B[36m335\u001B[0m - \u001B[1mДобавление размерности для расстояния\u001B[0m\n",
      "\u001B[32m2025-07-18 13:08:06.057\u001B[0m | \u001B[1mINFO    \u001B[0m | \u001B[36mvrp_study.pdptw_model.routing_model\u001B[0m:\u001B[36madd_pick_up_and_delivery\u001B[0m:\u001B[36m269\u001B[0m - \u001B[1mДобавление ограничения для порядка доставки\u001B[0m\n",
      "\u001B[32m2025-07-18 13:08:06.057\u001B[0m | \u001B[1mINFO    \u001B[0m | \u001B[36mvrp_study.pdptw_model.routing_model\u001B[0m:\u001B[36madd_vehicles_cost\u001B[0m:\u001B[36m243\u001B[0m - \u001B[1mДобавление стоимостей машин\u001B[0m\n",
      "\u001B[32m2025-07-18 13:08:06.058\u001B[0m | \u001B[1mINFO    \u001B[0m | \u001B[36mvrp_study.pdptw_model.routing_model\u001B[0m:\u001B[36madd_time_window\u001B[0m:\u001B[36m194\u001B[0m - \u001B[1madd time\u001B[0m\n",
      "\u001B[32m2025-07-18 13:08:06.059\u001B[0m | \u001B[1mINFO    \u001B[0m | \u001B[36mvrp_study.pdptw_model.routing_model\u001B[0m:\u001B[36madd_mass_constraint\u001B[0m:\u001B[36m177\u001B[0m - \u001B[1mДобавление ограничений для массы\u001B[0m\n",
      "\u001B[32m2025-07-18 13:08:06.061\u001B[0m | \u001B[1mINFO    \u001B[0m | \u001B[36mvrp_study.pdptw_model.routing_model\u001B[0m:\u001B[36mdo_solve\u001B[0m:\u001B[36m407\u001B[0m - \u001B[1mНачало решения\u001B[0m\n",
      "\u001B[32m2025-07-18 13:08:06.062\u001B[0m | \u001B[1mINFO    \u001B[0m | \u001B[36mvrp_study.pdptw_model.routing_model\u001B[0m:\u001B[36mdo_solve\u001B[0m:\u001B[36m410\u001B[0m - \u001B[1muse initial_solution: 1\u001B[0m\n",
      "\u001B[32m2025-07-18 13:08:06.063\u001B[0m | \u001B[34m\u001B[1mDEBUG   \u001B[0m | \u001B[36mvrp_study.pdptw_model.routing_model\u001B[0m:\u001B[36m__call__\u001B[0m:\u001B[36m40\u001B[0m - \u001B[34m\u001B[1mtime: 0.003; new solution (1): 7661; best solution: 7661\u001B[0m\n",
      "\u001B[32m2025-07-18 13:08:06.064\u001B[0m | \u001B[34m\u001B[1mDEBUG   \u001B[0m | \u001B[36mvrp_study.pdptw_model.routing_model\u001B[0m:\u001B[36m__call__\u001B[0m:\u001B[36m40\u001B[0m - \u001B[34m\u001B[1mtime: 0.004; new solution (2): 7661; best solution: 7661\u001B[0m\n",
      "\u001B[32m2025-07-18 13:08:06.066\u001B[0m | \u001B[1mINFO    \u001B[0m | \u001B[36mvrp_study.pdptw_model.routing_model\u001B[0m:\u001B[36mdo_solve\u001B[0m:\u001B[36m423\u001B[0m - \u001B[1mfind solution\u001B[0m\n",
      "\u001B[32m2025-07-18 13:08:06.067\u001B[0m | \u001B[1mINFO    \u001B[0m | \u001B[36mvrp_study.pdptw_model.routing_model\u001B[0m:\u001B[36mfind_optimal_paths\u001B[0m:\u001B[36m464\u001B[0m - \u001B[1mbest_score: 76.61\u001B[0m\n",
      "\u001B[32m2025-07-18 13:08:06.073\u001B[0m | \u001B[1mINFO    \u001B[0m | \u001B[36mvrp_study.pdptw_model.solution_builder\u001B[0m:\u001B[36mget_initial_solution\u001B[0m:\u001B[36m142\u001B[0m - \u001B[1m[[0, 1, 2, 0], [], [], [], [], [], []]\u001B[0m\n",
      "\u001B[32m2025-07-18 13:08:06.078\u001B[0m | \u001B[1mINFO    \u001B[0m | \u001B[36mvrp_study.pdptw_model.routing_model\u001B[0m:\u001B[36mfind_optimal_paths\u001B[0m:\u001B[36m438\u001B[0m - \u001B[1muse initial_solution: 25\u001B[0m\n",
      "\u001B[32m2025-07-18 13:08:06.079\u001B[0m | \u001B[1mINFO    \u001B[0m | \u001B[36mvrp_study.pdptw_model.routing_model\u001B[0m:\u001B[36mfind_optimal_paths\u001B[0m:\u001B[36m443\u001B[0m - \u001B[1mproblem size: 107\u001B[0m\n",
      "\u001B[32m2025-07-18 13:08:06.080\u001B[0m | \u001B[1mINFO    \u001B[0m | \u001B[36mvrp_study.pdptw_model.routing_model\u001B[0m:\u001B[36mdo_solve\u001B[0m:\u001B[36m378\u001B[0m - \u001B[1mНачало создания модели\u001B[0m\n",
      "\u001B[32m2025-07-18 13:08:06.082\u001B[0m | \u001B[1mINFO    \u001B[0m | \u001B[36mvrp_study.pdptw_model.routing_model\u001B[0m:\u001B[36madd_distance_dimension\u001B[0m:\u001B[36m299\u001B[0m - \u001B[1mДобавление размерности для расстояния\u001B[0m\n",
      "\u001B[32m2025-07-18 13:08:06.084\u001B[0m | \u001B[1mINFO    \u001B[0m | \u001B[36mvrp_study.pdptw_model.routing_model\u001B[0m:\u001B[36madd_count_dimension\u001B[0m:\u001B[36m335\u001B[0m - \u001B[1mДобавление размерности для расстояния\u001B[0m\n",
      "\u001B[32m2025-07-18 13:08:06.085\u001B[0m | \u001B[1mINFO    \u001B[0m | \u001B[36mvrp_study.pdptw_model.routing_model\u001B[0m:\u001B[36madd_pick_up_and_delivery\u001B[0m:\u001B[36m269\u001B[0m - \u001B[1mДобавление ограничения для порядка доставки\u001B[0m\n",
      "\u001B[32m2025-07-18 13:08:06.087\u001B[0m | \u001B[1mINFO    \u001B[0m | \u001B[36mvrp_study.pdptw_model.routing_model\u001B[0m:\u001B[36madd_time_window\u001B[0m:\u001B[36m194\u001B[0m - \u001B[1madd time\u001B[0m\n",
      "\u001B[32m2025-07-18 13:08:06.089\u001B[0m | \u001B[1mINFO    \u001B[0m | \u001B[36mvrp_study.pdptw_model.routing_model\u001B[0m:\u001B[36madd_mass_constraint\u001B[0m:\u001B[36m177\u001B[0m - \u001B[1mДобавление ограничений для массы\u001B[0m\n",
      "\u001B[32m2025-07-18 13:08:06.097\u001B[0m | \u001B[1mINFO    \u001B[0m | \u001B[36mvrp_study.pdptw_model.routing_model\u001B[0m:\u001B[36mdo_solve\u001B[0m:\u001B[36m407\u001B[0m - \u001B[1mНачало решения\u001B[0m\n",
      "\u001B[32m2025-07-18 13:08:06.098\u001B[0m | \u001B[1mINFO    \u001B[0m | \u001B[36mvrp_study.pdptw_model.routing_model\u001B[0m:\u001B[36mdo_solve\u001B[0m:\u001B[36m410\u001B[0m - \u001B[1muse initial_solution: 25\u001B[0m\n",
      "\u001B[32m2025-07-18 13:08:06.103\u001B[0m | \u001B[34m\u001B[1mDEBUG   \u001B[0m | \u001B[36mvrp_study.pdptw_model.routing_model\u001B[0m:\u001B[36m__call__\u001B[0m:\u001B[36m40\u001B[0m - \u001B[34m\u001B[1mtime: 0.012; new solution (1): 19; best solution: 19\u001B[0m\n",
      "\u001B[32m2025-07-18 13:08:06.112\u001B[0m | \u001B[34m\u001B[1mDEBUG   \u001B[0m | \u001B[36mvrp_study.pdptw_model.routing_model\u001B[0m:\u001B[36m__call__\u001B[0m:\u001B[36m40\u001B[0m - \u001B[34m\u001B[1mtime: 0.021; new solution (2): 19; best solution: 19\u001B[0m\n",
      "\u001B[32m2025-07-18 13:08:06.125\u001B[0m | \u001B[34m\u001B[1mDEBUG   \u001B[0m | \u001B[36mvrp_study.pdptw_model.routing_model\u001B[0m:\u001B[36m__call__\u001B[0m:\u001B[36m40\u001B[0m - \u001B[34m\u001B[1mtime: 0.035; new solution (3): 18; best solution: 18\u001B[0m\n",
      "\u001B[32m2025-07-18 13:08:06.148\u001B[0m | \u001B[34m\u001B[1mDEBUG   \u001B[0m | \u001B[36mvrp_study.pdptw_model.routing_model\u001B[0m:\u001B[36m__call__\u001B[0m:\u001B[36m40\u001B[0m - \u001B[34m\u001B[1mtime: 0.058; new solution (4): 17; best solution: 17\u001B[0m\n",
      "\u001B[32m2025-07-18 13:08:06.166\u001B[0m | \u001B[34m\u001B[1mDEBUG   \u001B[0m | \u001B[36mvrp_study.pdptw_model.routing_model\u001B[0m:\u001B[36m__call__\u001B[0m:\u001B[36m40\u001B[0m - \u001B[34m\u001B[1mtime: 0.075; new solution (5): 16; best solution: 16\u001B[0m\n",
      "\u001B[32m2025-07-18 13:08:06.194\u001B[0m | \u001B[34m\u001B[1mDEBUG   \u001B[0m | \u001B[36mvrp_study.pdptw_model.routing_model\u001B[0m:\u001B[36m__call__\u001B[0m:\u001B[36m40\u001B[0m - \u001B[34m\u001B[1mtime: 0.104; new solution (6): 15; best solution: 15\u001B[0m\n",
      "\u001B[32m2025-07-18 13:08:06.212\u001B[0m | \u001B[34m\u001B[1mDEBUG   \u001B[0m | \u001B[36mvrp_study.pdptw_model.routing_model\u001B[0m:\u001B[36m__call__\u001B[0m:\u001B[36m40\u001B[0m - \u001B[34m\u001B[1mtime: 0.121; new solution (7): 14; best solution: 14\u001B[0m\n",
      "\u001B[32m2025-07-18 13:08:06.234\u001B[0m | \u001B[34m\u001B[1mDEBUG   \u001B[0m | \u001B[36mvrp_study.pdptw_model.routing_model\u001B[0m:\u001B[36m__call__\u001B[0m:\u001B[36m40\u001B[0m - \u001B[34m\u001B[1mtime: 0.144; new solution (8): 13; best solution: 13\u001B[0m\n",
      "\u001B[32m2025-07-18 13:08:06.243\u001B[0m | \u001B[34m\u001B[1mDEBUG   \u001B[0m | \u001B[36mvrp_study.pdptw_model.routing_model\u001B[0m:\u001B[36m__call__\u001B[0m:\u001B[36m40\u001B[0m - \u001B[34m\u001B[1mtime: 0.153; new solution (9): 12; best solution: 12\u001B[0m\n",
      "\u001B[32m2025-07-18 13:08:06.273\u001B[0m | \u001B[34m\u001B[1mDEBUG   \u001B[0m | \u001B[36mvrp_study.pdptw_model.routing_model\u001B[0m:\u001B[36m__call__\u001B[0m:\u001B[36m40\u001B[0m - \u001B[34m\u001B[1mtime: 0.183; new solution (10): 11; best solution: 11\u001B[0m\n",
      "\u001B[32m2025-07-18 13:08:07.252\u001B[0m | \u001B[1mINFO    \u001B[0m | \u001B[36mvrp_study.pdptw_model.routing_model\u001B[0m:\u001B[36mdo_solve\u001B[0m:\u001B[36m423\u001B[0m - \u001B[1mfind solution\u001B[0m\n",
      "\u001B[32m2025-07-18 13:08:07.255\u001B[0m | \u001B[1mINFO    \u001B[0m | \u001B[36mvrp_study.pdptw_model.routing_model\u001B[0m:\u001B[36mfind_optimal_paths\u001B[0m:\u001B[36m451\u001B[0m - \u001B[1mbest_score: 11\u001B[0m\n",
      "\u001B[32m2025-07-18 13:08:07.255\u001B[0m | \u001B[1mINFO    \u001B[0m | \u001B[36mvrp_study.pdptw_model.routing_model\u001B[0m:\u001B[36mdo_solve\u001B[0m:\u001B[36m378\u001B[0m - \u001B[1mНачало создания модели\u001B[0m\n",
      "\u001B[32m2025-07-18 13:08:07.257\u001B[0m | \u001B[1mINFO    \u001B[0m | \u001B[36mvrp_study.pdptw_model.routing_model\u001B[0m:\u001B[36madd_distance_dimension\u001B[0m:\u001B[36m299\u001B[0m - \u001B[1mДобавление размерности для расстояния\u001B[0m\n",
      "\u001B[32m2025-07-18 13:08:07.258\u001B[0m | \u001B[1mINFO    \u001B[0m | \u001B[36mvrp_study.pdptw_model.routing_model\u001B[0m:\u001B[36madd_count_dimension\u001B[0m:\u001B[36m335\u001B[0m - \u001B[1mДобавление размерности для расстояния\u001B[0m\n",
      "\u001B[32m2025-07-18 13:08:07.259\u001B[0m | \u001B[1mINFO    \u001B[0m | \u001B[36mvrp_study.pdptw_model.routing_model\u001B[0m:\u001B[36madd_pick_up_and_delivery\u001B[0m:\u001B[36m269\u001B[0m - \u001B[1mДобавление ограничения для порядка доставки\u001B[0m\n",
      "\u001B[32m2025-07-18 13:08:07.261\u001B[0m | \u001B[1mINFO    \u001B[0m | \u001B[36mvrp_study.pdptw_model.routing_model\u001B[0m:\u001B[36madd_vehicles_cost\u001B[0m:\u001B[36m243\u001B[0m - \u001B[1mДобавление стоимостей машин\u001B[0m\n",
      "\u001B[32m2025-07-18 13:08:07.262\u001B[0m | \u001B[1mINFO    \u001B[0m | \u001B[36mvrp_study.pdptw_model.routing_model\u001B[0m:\u001B[36madd_time_window\u001B[0m:\u001B[36m194\u001B[0m - \u001B[1madd time\u001B[0m\n",
      "\u001B[32m2025-07-18 13:08:07.263\u001B[0m | \u001B[1mINFO    \u001B[0m | \u001B[36mvrp_study.pdptw_model.routing_model\u001B[0m:\u001B[36madd_mass_constraint\u001B[0m:\u001B[36m177\u001B[0m - \u001B[1mДобавление ограничений для массы\u001B[0m\n",
      "\u001B[32m2025-07-18 13:08:07.268\u001B[0m | \u001B[1mINFO    \u001B[0m | \u001B[36mvrp_study.pdptw_model.routing_model\u001B[0m:\u001B[36mdo_solve\u001B[0m:\u001B[36m407\u001B[0m - \u001B[1mНачало решения\u001B[0m\n",
      "\u001B[32m2025-07-18 13:08:07.269\u001B[0m | \u001B[1mINFO    \u001B[0m | \u001B[36mvrp_study.pdptw_model.routing_model\u001B[0m:\u001B[36mdo_solve\u001B[0m:\u001B[36m410\u001B[0m - \u001B[1muse initial_solution: 11\u001B[0m\n",
      "\u001B[32m2025-07-18 13:08:07.273\u001B[0m | \u001B[34m\u001B[1mDEBUG   \u001B[0m | \u001B[36mvrp_study.pdptw_model.routing_model\u001B[0m:\u001B[36m__call__\u001B[0m:\u001B[36m40\u001B[0m - \u001B[34m\u001B[1mtime: 0.009; new solution (1): 106241; best solution: 106241\u001B[0m\n",
      "\u001B[32m2025-07-18 13:08:07.278\u001B[0m | \u001B[34m\u001B[1mDEBUG   \u001B[0m | \u001B[36mvrp_study.pdptw_model.routing_model\u001B[0m:\u001B[36m__call__\u001B[0m:\u001B[36m40\u001B[0m - \u001B[34m\u001B[1mtime: 0.014; new solution (2): 106241; best solution: 106241\u001B[0m\n",
      "\u001B[32m2025-07-18 13:08:07.327\u001B[0m | \u001B[34m\u001B[1mDEBUG   \u001B[0m | \u001B[36mvrp_study.pdptw_model.routing_model\u001B[0m:\u001B[36m__call__\u001B[0m:\u001B[36m40\u001B[0m - \u001B[34m\u001B[1mtime: 0.062; new solution (3): 105493; best solution: 105493\u001B[0m\n",
      "\u001B[32m2025-07-18 13:08:07.346\u001B[0m | \u001B[34m\u001B[1mDEBUG   \u001B[0m | \u001B[36mvrp_study.pdptw_model.routing_model\u001B[0m:\u001B[36m__call__\u001B[0m:\u001B[36m40\u001B[0m - \u001B[34m\u001B[1mtime: 0.082; new solution (4): 93933; best solution: 93933\u001B[0m\n",
      "\u001B[32m2025-07-18 13:08:07.393\u001B[0m | \u001B[34m\u001B[1mDEBUG   \u001B[0m | \u001B[36mvrp_study.pdptw_model.routing_model\u001B[0m:\u001B[36m__call__\u001B[0m:\u001B[36m40\u001B[0m - \u001B[34m\u001B[1mtime: 0.129; new solution (5): 91730; best solution: 91730\u001B[0m\n",
      "\u001B[32m2025-07-18 13:08:07.401\u001B[0m | \u001B[34m\u001B[1mDEBUG   \u001B[0m | \u001B[36mvrp_study.pdptw_model.routing_model\u001B[0m:\u001B[36m__call__\u001B[0m:\u001B[36m40\u001B[0m - \u001B[34m\u001B[1mtime: 0.136; new solution (6): 90911; best solution: 90911\u001B[0m\n",
      "\u001B[32m2025-07-18 13:08:07.408\u001B[0m | \u001B[34m\u001B[1mDEBUG   \u001B[0m | \u001B[36mvrp_study.pdptw_model.routing_model\u001B[0m:\u001B[36m__call__\u001B[0m:\u001B[36m40\u001B[0m - \u001B[34m\u001B[1mtime: 0.143; new solution (7): 90900; best solution: 90900\u001B[0m\n",
      "\u001B[32m2025-07-18 13:08:07.412\u001B[0m | \u001B[34m\u001B[1mDEBUG   \u001B[0m | \u001B[36mvrp_study.pdptw_model.routing_model\u001B[0m:\u001B[36m__call__\u001B[0m:\u001B[36m40\u001B[0m - \u001B[34m\u001B[1mtime: 0.148; new solution (8): 87748; best solution: 87748\u001B[0m\n",
      "\u001B[32m2025-07-18 13:08:07.611\u001B[0m | \u001B[34m\u001B[1mDEBUG   \u001B[0m | \u001B[36mvrp_study.pdptw_model.routing_model\u001B[0m:\u001B[36m__call__\u001B[0m:\u001B[36m40\u001B[0m - \u001B[34m\u001B[1mtime: 0.346; new solution (9): 87468; best solution: 87468\u001B[0m\n",
      "\u001B[32m2025-07-18 13:08:07.628\u001B[0m | \u001B[34m\u001B[1mDEBUG   \u001B[0m | \u001B[36mvrp_study.pdptw_model.routing_model\u001B[0m:\u001B[36m__call__\u001B[0m:\u001B[36m40\u001B[0m - \u001B[34m\u001B[1mtime: 0.363; new solution (10): 86614; best solution: 86614\u001B[0m\n",
      "\u001B[32m2025-07-18 13:08:07.645\u001B[0m | \u001B[34m\u001B[1mDEBUG   \u001B[0m | \u001B[36mvrp_study.pdptw_model.routing_model\u001B[0m:\u001B[36m__call__\u001B[0m:\u001B[36m40\u001B[0m - \u001B[34m\u001B[1mtime: 0.381; new solution (11): 85895; best solution: 85895\u001B[0m\n",
      "\u001B[32m2025-07-18 13:08:07.657\u001B[0m | \u001B[34m\u001B[1mDEBUG   \u001B[0m | \u001B[36mvrp_study.pdptw_model.routing_model\u001B[0m:\u001B[36m__call__\u001B[0m:\u001B[36m40\u001B[0m - \u001B[34m\u001B[1mtime: 0.393; new solution (12): 83692; best solution: 83692\u001B[0m\n",
      "\u001B[32m2025-07-18 13:08:07.666\u001B[0m | \u001B[34m\u001B[1mDEBUG   \u001B[0m | \u001B[36mvrp_study.pdptw_model.routing_model\u001B[0m:\u001B[36m__call__\u001B[0m:\u001B[36m40\u001B[0m - \u001B[34m\u001B[1mtime: 0.401; new solution (13): 82873; best solution: 82873\u001B[0m\n",
      "\u001B[32m2025-07-18 13:08:09.526\u001B[0m | \u001B[1mINFO    \u001B[0m | \u001B[36mvrp_study.pdptw_model.routing_model\u001B[0m:\u001B[36mdo_solve\u001B[0m:\u001B[36m423\u001B[0m - \u001B[1mfind solution\u001B[0m\n",
      "\u001B[32m2025-07-18 13:08:09.531\u001B[0m | \u001B[1mINFO    \u001B[0m | \u001B[36mvrp_study.pdptw_model.routing_model\u001B[0m:\u001B[36mfind_optimal_paths\u001B[0m:\u001B[36m464\u001B[0m - \u001B[1mbest_score: 828.73\u001B[0m\n"
     ]
    }
   ],
   "source": [
    "from vrp_study.pdptw_model.solution_builder import SolutionBuilder\n",
    "\n",
    "sol = find_optimal_paths(routing_manager, SolutionBuilder())[0]"
   ],
   "metadata": {
    "collapsed": false,
    "ExecuteTime": {
     "end_time": "2025-07-18T10:08:09.535704Z",
     "start_time": "2025-07-18T10:08:03.650936Z"
    }
   },
   "id": "b952626eb97b3ae5",
   "execution_count": 13
  },
  {
   "cell_type": "code",
   "outputs": [],
   "source": [
    "# sol"
   ],
   "metadata": {
    "collapsed": false
   },
   "id": "965629f893e35eb7",
   "execution_count": 14
  },
  {
   "cell_type": "markdown",
   "source": [
    "# Генерация столбцов"
   ],
   "metadata": {
    "collapsed": false
   },
   "id": "5705b91af98cf08a"
  },
  {
   "cell_type": "code",
   "outputs": [],
   "source": [
    "@dataclass\n",
    "class Route:\n",
    "    \"\"\"\n",
    "        Описание маршрута\n",
    "    \"\"\"\n",
    "    cost: int  # цена\n",
    "    path: list[int]  # маршрут\n",
    "    path_set: Optional[set[int]] = None  # множество для блейзинговости\n",
    "\n",
    "    def __post_init__(self):\n",
    "        self.path_set = set(self.path)"
   ],
   "metadata": {
    "collapsed": false
   },
   "id": "129f3de9cf71c6f3",
   "execution_count": 15
  },
  {
   "cell_type": "code",
   "outputs": [],
   "source": [
    "class SelectModelCpSat:\n",
    "    \"\"\"\n",
    "        модель выбора самых дешевых маршрутов через cp_sat\n",
    "    \"\"\"\n",
    "\n",
    "    def __init__(self, _routes: list[Route], _nodes: set[int]):\n",
    "        self.routes = _routes  # все маршруты\n",
    "        self.nodes = _nodes  # все ноды\n",
    "\n",
    "        self.model = CpModel()\n",
    "        self.Z = {}\n",
    "        self._build()\n",
    "\n",
    "    def _build(self):\n",
    "        routes = self.routes\n",
    "        Z = self.Z\n",
    "        model = self.model\n",
    "\n",
    "        for i, r in enumerate(routes):\n",
    "            Z[i] = model.new_bool_var(name=f'Z_{i}')  # брать или не брать маррут\n",
    "        for n in self.nodes:\n",
    "            model.add(\n",
    "                sum(Z[i] for i, route in enumerate(routes) if n in route.path_set) == 1)  # каждая точка посещена 1 раз\n",
    "\n",
    "    def optimize(self, solver: CpSolver) -> Optional[list[Route]]:\n",
    "        self.model.clear_objective()\n",
    "        self.model.minimize(sum(self.Z[i] * r.cost for i, r in enumerate(self.routes)))\n",
    "\n",
    "        status = solver.solve(self.model)\n",
    "\n",
    "        log.info(f'model solve with status: {status}')\n",
    "\n",
    "        if status == CpSolverStatus.OPTIMAL or status == CpSolverStatus.FEASIBLE:\n",
    "            return [r for i, r in enumerate(self.routes) if solver.Value(self.Z[i]) == 1]\n",
    "        return None"
   ],
   "metadata": {
    "collapsed": false,
    "ExecuteTime": {
     "end_time": "2025-07-18T10:08:09.574171Z",
     "start_time": "2025-07-18T10:08:09.563886Z"
    }
   },
   "id": "60d51bbd959d7bcc",
   "execution_count": 16
  },
  {
   "cell_type": "code",
   "outputs": [],
   "source": [
    "class PulpSelectModelLP:\n",
    "    \"\"\"\n",
    "       Тоже самое, что выше только в терминах LP для поиска дуальных переменных\n",
    "    \"\"\"\n",
    "\n",
    "    def __init__(self, _routes: list[Route], _nodes: set[int]):\n",
    "        self.model = pulp.LpProblem(f\"MasterProblem_{uuid.uuid4()}\", pulp.LpMinimize)\n",
    "        self.routes = _routes\n",
    "        self.Z = {}\n",
    "        self.nodes = _nodes\n",
    "        self._build()\n",
    "\n",
    "    def _build(self):\n",
    "        routes = self.routes\n",
    "        Z = self.Z\n",
    "        model = self.model\n",
    "\n",
    "        for i, r in enumerate(routes):\n",
    "            Z[i] = pulp.LpVariable(name=f'z_{i}', lowBound=0, upBound=1)\n",
    "\n",
    "        for n in self.nodes:\n",
    "            model.addConstraint(\n",
    "                pulp.lpSum(Z[i] for i, route in enumerate(routes) if n in route.path_set) == 1,\n",
    "                name=f'cover_{n}'\n",
    "            )\n",
    "\n",
    "    def get_dual_variables(self) -> Optional[list[float]]:\n",
    "        model = self.model\n",
    "        model.setObjective(pulp.lpSum(self.Z[i] * r.cost for i, r in enumerate(self.routes)))\n",
    "\n",
    "        model.solve(PULP_CBC_CMD(msg=0))\n",
    "        # print(model.sol_status)\n",
    "        if model.sol_status == 1:\n",
    "            vals = [model.variables()[i].value() for i in range(len(self.routes))]\n",
    "            log.info(f'master_prob all_int:{all(v in {0.0,0,1.0,1} for v in vals)}')\n",
    "            duals = {n: model.constraints[f\"cover_{n}\"].pi for n in self.nodes}\n",
    "            return duals\n",
    "        return None"
   ],
   "metadata": {
    "collapsed": false,
    "ExecuteTime": {
     "end_time": "2025-07-18T10:08:09.587627Z",
     "start_time": "2025-07-18T10:08:09.576060Z"
    }
   },
   "id": "a548b54eef789bb3",
   "execution_count": 17
  },
  {
   "cell_type": "code",
   "outputs": [],
   "source": [
    "NODES = set(n.id for n in routing_manager.nodes() if n.is_transit)"
   ],
   "metadata": {
    "collapsed": false,
    "ExecuteTime": {
     "end_time": "2025-07-18T10:08:09.595681Z",
     "start_time": "2025-07-18T10:08:09.589241Z"
    }
   },
   "id": "2a02f30c3ace48d5",
   "execution_count": 18
  },
  {
   "cell_type": "code",
   "outputs": [],
   "source": [
    "routes: list[Route] = []\n",
    "for nodes in routing_manager.get_pick_up_and_delivery_nodes():\n",
    "    q = [routing_manager.get_depo_index()] + nodes + [routing_manager.get_depo_index()]\n",
    "    routes.append(\n",
    "        Route(\n",
    "            cost=int(\n",
    "                sum(routing_manager.get_distance(\n",
    "                    routing_manager.nodes()[q[i]],\n",
    "                    routing_manager.nodes()[q[i + 1]]\n",
    "                ) for i in range(len(q) - 1))\n",
    "            ),\n",
    "            path=nodes\n",
    "        )\n",
    "    )\n",
    "\n",
    "# for nodes in sol:\n",
    "#     if len(nodes) == 0:\n",
    "#         continue\n",
    "#     routes.append(\n",
    "#         Route(\n",
    "#             cost=int(\n",
    "#                 sum(routing_manager.get_distance(\n",
    "#                     routing_manager.nodes()[nodes[i]],\n",
    "#                     routing_manager.nodes()[nodes[i + 1]]\n",
    "#                 ) for i in range(len(nodes) - 1))\n",
    "#             ),\n",
    "#             path=nodes[1:-1]\n",
    "#         )\n",
    "#     )"
   ],
   "metadata": {
    "collapsed": false,
    "ExecuteTime": {
     "end_time": "2025-07-18T10:08:09.605312Z",
     "start_time": "2025-07-18T10:08:09.597249Z"
    }
   },
   "id": "fd3e50fd85025399",
   "execution_count": 19
  },
  {
   "cell_type": "code",
   "outputs": [],
   "source": [
    "from vrp_study.routing_manager import RoutingManager\n",
    "\n",
    "\n",
    "class PDPTWModel:\n",
    "    \"\"\"\n",
    "        \n",
    "        Модель pdptw.\n",
    "        Оставлю это пока без комментариев\n",
    "        По сути VRP с доп констрейнтами.\n",
    "    \n",
    "    \"\"\"\n",
    "\n",
    "    def __init__(self, routing_manager: RoutingManager, cost: dict[float], ignore_routes: list[Route]):\n",
    "        self.routing_manager = routing_manager\n",
    "        self.cost = cost\n",
    "\n",
    "        self.model = CpModel()\n",
    "        self.X = {}\n",
    "        self.T = {}\n",
    "        self.Q = {}\n",
    "        self.ignore_routes = ignore_routes\n",
    "        self._build()\n",
    "\n",
    "    def _build(self):\n",
    "        routing_manager = self.routing_manager\n",
    "        log.info(f'problem size: {len(routing_manager.nodes())}')\n",
    "\n",
    "        N = len(routing_manager.nodes())\n",
    "        M = 1_000_000\n",
    "\n",
    "        X = self.X\n",
    "        T = self.T\n",
    "        Q = self.Q\n",
    "\n",
    "        model = self.model\n",
    "        depo = routing_manager.get_depo_index()\n",
    "\n",
    "        for i in range(N):\n",
    "            for j in range(N):\n",
    "                if i == j:\n",
    "                    X[i, j] = model.new_constant(0)\n",
    "                else:\n",
    "                    X[i, j] = model.new_bool_var(f'x_{i, j}')\n",
    "\n",
    "        max_time = max(n.end_time for n in routing_manager.nodes())\n",
    "        max_mass = max(car.capacity for car in routing_manager.cars())\n",
    "\n",
    "        log.debug(f'max_time: {max_time}, max_mass: {max_mass}')\n",
    "        for i in range(N):\n",
    "            T[i] = model.new_int_var(lb=0, ub=max_time * 2, name=f'time_{i}')\n",
    "            Q[i] = model.new_int_var(lb=0, ub=max_mass, name=f'mass_{i}')\n",
    "\n",
    "        model.add(sum(X[depo, i] for i in range(N)) == 1)\n",
    "\n",
    "        for i, node in enumerate(routing_manager.nodes()):\n",
    "            model.add(\n",
    "                sum(X[i, j] for j in range(N)) == sum(X[j, i] for j in range(N))\n",
    "            )\n",
    "            if i == 0:\n",
    "                continue\n",
    "            model.add(sum(X[i, j] for j in range(N)) <= 1)\n",
    "            for j in range(N):\n",
    "                if i == j:\n",
    "                    continue\n",
    "                ni = routing_manager.nodes()[i]\n",
    "                nj = routing_manager.nodes()[j]\n",
    "\n",
    "                model.add(\n",
    "                    T[i] + int(routing_manager.get_time(ni, nj) + routing_manager.nodes()[i].service_time) <=\n",
    "                    T[j] + M * (1 - X[i, j]))\n",
    "\n",
    "                model.add(\n",
    "                    Q[i] + routing_manager.nodes()[i].demand <=\n",
    "                    Q[j] + M * (1 - X[i, j]))\n",
    "\n",
    "        for node_a, node_b in routing_manager.get_pick_up_and_delivery_nodes():\n",
    "            a, b = node_a, node_b\n",
    "            model.add(T[a] <= T[b])\n",
    "            model.add(sum(X[k, a] + X[k, b] for k in range(N)) == 2 * sum(X[k, a] for k in range(N)))\n",
    "\n",
    "        for i, node in enumerate(routing_manager.nodes()):\n",
    "            model.add(node.start_time <= T[i])\n",
    "            model.add(T[i] <= node.end_time)\n",
    "\n",
    "        for route in self.ignore_routes:\n",
    "            route = route.path\n",
    "            self.ignore_path(route)\n",
    "\n",
    "    def ignore_path(self, route: list[int]):\n",
    "        model = self.model\n",
    "        X = self.X\n",
    "        v = X[0, route[0]] + X[route[-1], 0]\n",
    "        for i in range(len(route) - 1):\n",
    "            v += X[route[i], route[i + 1]]\n",
    "        model.add(v != len(route) + 1)\n",
    "\n",
    "    def optimize(self, solver: CpSolver):\n",
    "        self.model.clear_objective()\n",
    "        N = len(self.routing_manager.nodes())\n",
    "        r = self.routing_manager\n",
    "        dst = sum(self.X[i, j] * r.get_distance(r.nodes()[i], r.nodes()[j]) for i in range(N) for j in range(N))\n",
    "        delta = sum(self.cost[r.nodes()[i].id] * sum(self.X[j, i] for j in range(N)) for i in range(1, N))\n",
    "        self.model.minimize(dst - delta)\n",
    "\n",
    "        status = solver.solve(self.model)\n",
    "\n",
    "        log.info(f'model solve with status: {status}')\n",
    "\n",
    "        if status == CpSolverStatus.OPTIMAL or status == CpSolverStatus.FEASIBLE:\n",
    "            start = 0\n",
    "            path = []\n",
    "            while True:\n",
    "                next_node = next(iter(n for n in range(N) if solver.Value(self.X[start, n]) == 1))\n",
    "                if next_node == 0:\n",
    "                    if path[0] == 0:\n",
    "                        path = path[1:]\n",
    "                    return path\n",
    "                else:\n",
    "                    start = next_node\n",
    "                    path.append(start)\n",
    "\n",
    "        #     return [r for i, r in enumerate(self.routes) if solver.Value(self.Z[i]) == 1]\n",
    "        # return None"
   ],
   "metadata": {
    "collapsed": false,
    "ExecuteTime": {
     "end_time": "2025-07-18T10:08:09.631080Z",
     "start_time": "2025-07-18T10:08:09.607153Z"
    }
   },
   "id": "5f271bfc8fc47411",
   "execution_count": 20
  },
  {
   "cell_type": "code",
   "outputs": [],
   "source": [],
   "metadata": {
    "collapsed": false,
    "ExecuteTime": {
     "end_time": "2025-07-18T10:08:09.636083Z",
     "start_time": "2025-07-18T10:08:09.632851Z"
    }
   },
   "id": "a1f0efcfd2ba61a9",
   "execution_count": 20
  },
  {
   "cell_type": "code",
   "outputs": [],
   "source": [
    "\n",
    "best = {'preferred_variable_order': 2,\n",
    "        'clause_cleanup_protection': 1,\n",
    "        'max_presolve_iterations': 5,\n",
    "        'cp_model_probing_level': 1,\n",
    "        'presolve_probing_deterministic_time_limit': 10.0,\n",
    "        'search_branching': 2,\n",
    "        'feasibility_jump_linearization_level': 0,\n",
    "        'fp_rounding': 0,\n",
    "        'polish_lp_solution': True,\n",
    "        'linearization_level': 0,\n",
    "        'cut_level': 2,\n",
    "        'max_all_diff_cut_size': 128,\n",
    "        'symmetry_level': 0,\n",
    "        'num_workers': 4}\n",
    "\n",
    "\n",
    "def get_solver():\n",
    "    solver = CpSolver()\n",
    "\n",
    "    for k, v in best.items():\n",
    "        if isinstance(v, list):\n",
    "            for ss in v:\n",
    "                solver.parameters.ignore_subsolvers.append(ss)\n",
    "        else:\n",
    "            if 'ignore_subsolvers' in k:\n",
    "                if v:\n",
    "                    solver.parameters.ignore_subsolvers.append(k.split(':')[1])\n",
    "            else:\n",
    "                exec(f'solver.parameters.{k} = {v}')\n",
    "    # solver.parameters.use_lns = True\n",
    "    # solver.parameters.lns_num_threads = 4\n",
    "    solver.parameters.log_search_progress = False\n",
    "    solver.parameters.max_time_in_seconds = 60.0 * 10\n",
    "\n",
    "    # packing_subsolver = sat_parameters_pb2.SatParameters()\n",
    "    # packing_subsolver.name = \"MyPackingSubsolver\"\n",
    "    # packing_subsolver.use_area_energetic_reasoning_in_no_overlap_2d = False\n",
    "    # packing_subsolver.use_energetic_reasoning_in_no_overlap_2d = False\n",
    "    # packing_subsolver.use_timetabling_in_no_overlap_2d = False\n",
    "    # packing_subsolver.max_pairs_pairwise_reasoning_in_no_overlap_2d = 5_000\n",
    "    # packing_subsolver.\n",
    "    # # Add the subsolver to the portfolio\n",
    "    # solver.parameters.subsolver_params.append(packing_subsolver)  # Define the subsolver\n",
    "    # solver.parameters.extra_subsolvers.append(\n",
    "    #     packing_subsolver.name\n",
    "    # )  # Activate the subsolver\n",
    "\n",
    "    return solver"
   ],
   "metadata": {
    "collapsed": false,
    "ExecuteTime": {
     "end_time": "2025-07-18T10:08:09.646889Z",
     "start_time": "2025-07-18T10:08:09.640085Z"
    }
   },
   "id": "75b548f7fae3e3b4",
   "execution_count": 21
  },
  {
   "cell_type": "code",
   "outputs": [],
   "source": [
    "solver = get_solver()"
   ],
   "metadata": {
    "collapsed": false,
    "ExecuteTime": {
     "end_time": "2025-07-18T10:08:09.655459Z",
     "start_time": "2025-07-18T10:08:09.649003Z"
    }
   },
   "id": "6841a9294eb18446",
   "execution_count": 22
  },
  {
   "cell_type": "code",
   "outputs": [
    {
     "name": "stderr",
     "output_type": "stream",
     "text": [
      "\u001B[32m2025-07-18 13:08:09.668\u001B[0m | \u001B[1mINFO    \u001B[0m | \u001B[36m__main__\u001B[0m:\u001B[36moptimize\u001B[0m:\u001B[36m31\u001B[0m - \u001B[1mmodel solve with status: 4\u001B[0m\n"
     ]
    },
    {
     "data": {
      "text/plain": "3329"
     },
     "execution_count": 23,
     "metadata": {},
     "output_type": "execute_result"
    }
   ],
   "source": [
    "cp_select_model = SelectModelCpSat(routes, NODES)\n",
    "sum(r.cost for r in cp_select_model.optimize(solver))"
   ],
   "metadata": {
    "collapsed": false,
    "ExecuteTime": {
     "end_time": "2025-07-18T10:08:09.672602Z",
     "start_time": "2025-07-18T10:08:09.657506Z"
    }
   },
   "id": "1d98aa99350580cd",
   "execution_count": 23
  },
  {
   "cell_type": "code",
   "outputs": [],
   "source": [],
   "metadata": {
    "collapsed": false,
    "ExecuteTime": {
     "end_time": "2025-07-18T10:08:09.677175Z",
     "start_time": "2025-07-18T10:08:09.674419Z"
    }
   },
   "id": "2b2c2239f887cb7",
   "execution_count": 23
  },
  {
   "cell_type": "code",
   "outputs": [
    {
     "name": "stderr",
     "output_type": "stream",
     "text": [
      "\u001B[32m2025-07-18 13:08:09.703\u001B[0m | \u001B[1mINFO    \u001B[0m | \u001B[36m__main__\u001B[0m:\u001B[36mget_dual_variables\u001B[0m:\u001B[36m35\u001B[0m - \u001B[1mmaster_prob all_int:True\u001B[0m\n",
      "\u001B[32m2025-07-18 13:08:09.704\u001B[0m | \u001B[1mINFO    \u001B[0m | \u001B[36m__main__\u001B[0m:\u001B[36m_build\u001B[0m:\u001B[36m26\u001B[0m - \u001B[1mproblem size: 107\u001B[0m\n",
      "\u001B[32m2025-07-18 13:08:09.824\u001B[0m | \u001B[34m\u001B[1mDEBUG   \u001B[0m | \u001B[36m__main__\u001B[0m:\u001B[36m_build\u001B[0m:\u001B[36m48\u001B[0m - \u001B[34m\u001B[1mmax_time: 1236, max_mass: 200\u001B[0m\n"
     ]
    },
    {
     "data": {
      "text/plain": "  0%|          | 0/30 [00:00<?, ?it/s]",
      "application/vnd.jupyter.widget-view+json": {
       "version_major": 2,
       "version_minor": 0,
       "model_id": "6cc72fd3de3a4164a6fd233798ae9ede"
      }
     },
     "metadata": {},
     "output_type": "display_data"
    },
    {
     "name": "stderr",
     "output_type": "stream",
     "text": [
      "\u001B[32m2025-07-18 13:08:10.865\u001B[0m | \u001B[1mINFO    \u001B[0m | \u001B[36m__main__\u001B[0m:\u001B[36mget_dual_variables\u001B[0m:\u001B[36m35\u001B[0m - \u001B[1mmaster_prob all_int:True\u001B[0m\n",
      "\u001B[32m2025-07-18 13:08:17.265\u001B[0m | \u001B[1mINFO    \u001B[0m | \u001B[36m__main__\u001B[0m:\u001B[36moptimize\u001B[0m:\u001B[36m107\u001B[0m - \u001B[1mmodel solve with status: 4\u001B[0m\n",
      "\u001B[32m2025-07-18 13:08:17.269\u001B[0m | \u001B[1mINFO    \u001B[0m | \u001B[36m__main__\u001B[0m:\u001B[36m<module>\u001B[0m:\u001B[36m24\u001B[0m - \u001B[1m[77, 83, 84, 81, 79, 78, 82, 80, 85, 86, 51, 52]; -439.28236872809873\u001B[0m\n",
      "\u001B[32m2025-07-18 13:08:17.276\u001B[0m | \u001B[1mINFO    \u001B[0m | \u001B[36m__main__\u001B[0m:\u001B[36moptimize\u001B[0m:\u001B[36m31\u001B[0m - \u001B[1mmodel solve with status: 4\u001B[0m\n",
      "\u001B[32m2025-07-18 13:08:17.278\u001B[0m | \u001B[1mINFO    \u001B[0m | \u001B[36m__main__\u001B[0m:\u001B[36m<module>\u001B[0m:\u001B[36m38\u001B[0m - \u001B[1mbest_score: 2889\u001B[0m\n",
      "\u001B[32m2025-07-18 13:08:17.301\u001B[0m | \u001B[1mINFO    \u001B[0m | \u001B[36m__main__\u001B[0m:\u001B[36mget_dual_variables\u001B[0m:\u001B[36m35\u001B[0m - \u001B[1mmaster_prob all_int:True\u001B[0m\n",
      "\u001B[32m2025-07-18 13:08:22.585\u001B[0m | \u001B[1mINFO    \u001B[0m | \u001B[36m__main__\u001B[0m:\u001B[36moptimize\u001B[0m:\u001B[36m107\u001B[0m - \u001B[1mmodel solve with status: 4\u001B[0m\n",
      "\u001B[32m2025-07-18 13:08:22.588\u001B[0m | \u001B[1mINFO    \u001B[0m | \u001B[36m__main__\u001B[0m:\u001B[36m<module>\u001B[0m:\u001B[36m24\u001B[0m - \u001B[1m[77, 83, 84, 81, 79, 78, 82, 80, 85, 86]; -426.7025195854048\u001B[0m\n",
      "\u001B[32m2025-07-18 13:08:22.595\u001B[0m | \u001B[1mINFO    \u001B[0m | \u001B[36m__main__\u001B[0m:\u001B[36moptimize\u001B[0m:\u001B[36m31\u001B[0m - \u001B[1mmodel solve with status: 4\u001B[0m\n",
      "\u001B[32m2025-07-18 13:08:22.595\u001B[0m | \u001B[1mINFO    \u001B[0m | \u001B[36m__main__\u001B[0m:\u001B[36m<module>\u001B[0m:\u001B[36m38\u001B[0m - \u001B[1mbest_score: 2889\u001B[0m\n",
      "\u001B[32m2025-07-18 13:08:22.616\u001B[0m | \u001B[1mINFO    \u001B[0m | \u001B[36m__main__\u001B[0m:\u001B[36mget_dual_variables\u001B[0m:\u001B[36m35\u001B[0m - \u001B[1mmaster_prob all_int:True\u001B[0m\n"
     ]
    }
   ],
   "source": [
    "# решаем мастер проблему и тащим из нее дуальные переменные\n",
    "# в данном контексте под дуальными переменными можно понимать \"сколько стоит посетить точку\".\n",
    "pulp_model = PulpSelectModelLP(_routes=routes, _nodes=NODES)\n",
    "res = pulp_model.get_dual_variables()\n",
    "pdptw_model = PDPTWModel(routing_manager, cost=res, ignore_routes=routes)\n",
    "\n",
    "set_paths = set(tuple(r.path) for r in routes)\n",
    "\n",
    "for _ in trange(30):\n",
    "\n",
    "    pulp_model = PulpSelectModelLP(_routes=routes, _nodes=NODES)\n",
    "    res = pulp_model.get_dual_variables()\n",
    "    pdptw_model.cost = res\n",
    "    path = pdptw_model.optimize(solver)\n",
    "\n",
    "    if path is None or solver.objective_value > 0:\n",
    "        # если ничего не нашли или нет путей, которые могут улучшить маршрут\n",
    "        break\n",
    "    # чек на то, что не генерируем то, чот уже ест\n",
    "    assert tuple(path) not in set_paths\n",
    "    set_paths.add(tuple(path))\n",
    "    pdptw_model.ignore_path(path)\n",
    "\n",
    "    log.info(f'{path}; {solver.objective_value}')\n",
    "\n",
    "    nodes = [0] + path + [0]\n",
    "    # добавляем путь\n",
    "    routes.append(Route(\n",
    "        cost=int(\n",
    "            sum(routing_manager.get_distance(\n",
    "                routing_manager.nodes()[nodes[i]],\n",
    "                routing_manager.nodes()[nodes[i + 1]]\n",
    "            ) for i in range(len(nodes) - 1))\n",
    "        ),\n",
    "        path=path\n",
    "    ))\n",
    "    cp_select_model = SelectModelCpSat(routes, NODES)\n",
    "    log.info(f'best_score: {sum(r.cost for r in  cp_select_model.optimize(solver))}')"
   ],
   "metadata": {
    "collapsed": false,
    "is_executing": true,
    "ExecuteTime": {
     "start_time": "2025-07-18T10:08:09.679205Z"
    }
   },
   "id": "738f5a3eed36924e",
   "execution_count": null
  },
  {
   "cell_type": "code",
   "outputs": [],
   "source": [
    "cp_select_model = SelectModelCpSat(routes, NODES)\n",
    "log.info(f'best_score: {sum(r.cost for r in  cp_select_model.optimize(solver))}')"
   ],
   "metadata": {
    "collapsed": false,
    "is_executing": true
   },
   "id": "4def13866fae3b26",
   "execution_count": null
  }
 ],
 "metadata": {
  "kernelspec": {
   "display_name": "Python 3",
   "language": "python",
   "name": "python3"
  },
  "language_info": {
   "codemirror_mode": {
    "name": "ipython",
    "version": 2
   },
   "file_extension": ".py",
   "mimetype": "text/x-python",
   "name": "python",
   "nbconvert_exporter": "python",
   "pygments_lexer": "ipython2",
   "version": "2.7.6"
  }
 },
 "nbformat": 4,
 "nbformat_minor": 5
}
