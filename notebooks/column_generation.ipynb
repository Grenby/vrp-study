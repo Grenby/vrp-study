{
 "cells": [
  {
   "cell_type": "code",
   "execution_count": 1,
   "id": "initial_id",
   "metadata": {
    "collapsed": true,
    "ExecuteTime": {
     "end_time": "2025-07-22T13:43:44.814077Z",
     "start_time": "2025-07-22T13:43:44.519128Z"
    }
   },
   "outputs": [],
   "source": [
    "from ortools.sat.cp_model_pb2 import CpSolverStatus\n",
    "from pulp import PULP_CBC_CMD\n",
    "from tqdm.notebook import tqdm, trange\n",
    "import uuid"
   ]
  },
  {
   "cell_type": "code",
   "outputs": [],
   "source": [
    "from loguru import logger as log"
   ],
   "metadata": {
    "collapsed": false,
    "ExecuteTime": {
     "end_time": "2025-07-22T13:43:44.834422Z",
     "start_time": "2025-07-22T13:43:44.815514Z"
    }
   },
   "id": "2672db95c0053ca4",
   "execution_count": 2
  },
  {
   "cell_type": "code",
   "outputs": [],
   "source": [
    "import numpy as np\n",
    "from src.vrp_study.data_model import Tariff, Cargo, Node\n",
    "from src.vrp_study.data_model import TariffCost\n",
    "from src.vrp_study.pdptw_model.pdptw_routing_manager_builder import PDRoutingManagerBuilder\n",
    "from src.vrp_study.configs import ModelConfig\n",
    "\n",
    "from src.vrp_study.pdptw_model.routing_model import find_optimal_paths\n",
    "from typing import Optional\n",
    "from dataclasses import dataclass"
   ],
   "metadata": {
    "collapsed": false,
    "ExecuteTime": {
     "end_time": "2025-07-22T13:43:45.044805Z",
     "start_time": "2025-07-22T13:43:44.837059Z"
    }
   },
   "id": "bb73d26d29a2755b",
   "execution_count": 3
  },
  {
   "cell_type": "code",
   "outputs": [],
   "source": [
    "from ortools.sat.python.cp_model import CpModel, CpSolver\n",
    "from ortools.sat import sat_parameters_pb2\n",
    "\n",
    "# from pyscipopt import Model, quicksum\n",
    "# import pyscipopt\n",
    "import pulp"
   ],
   "metadata": {
    "collapsed": false,
    "ExecuteTime": {
     "end_time": "2025-07-22T13:43:46.794348Z",
     "start_time": "2025-07-22T13:43:45.046004Z"
    }
   },
   "id": "bcb3c10994c17f75",
   "execution_count": 4
  },
  {
   "cell_type": "markdown",
   "source": [
    "# Подготовка данных"
   ],
   "metadata": {
    "collapsed": false
   },
   "id": "e4f5931367711da8"
  },
  {
   "cell_type": "code",
   "outputs": [],
   "source": [
    "benchmark_type = 'pdp_100'\n",
    "name = 'lc101.txt'"
   ],
   "metadata": {
    "collapsed": false,
    "ExecuteTime": {
     "end_time": "2025-07-22T13:43:46.799631Z",
     "start_time": "2025-07-22T13:43:46.796246Z"
    }
   },
   "id": "2fff3b944da4481b",
   "execution_count": 5
  },
  {
   "cell_type": "code",
   "outputs": [],
   "source": [
    "tariff = None\n",
    "cargos: list[Cargo] = []\n",
    "depo: Optional[Node] = None"
   ],
   "metadata": {
    "collapsed": false,
    "ExecuteTime": {
     "end_time": "2025-07-22T13:43:46.813502Z",
     "start_time": "2025-07-22T13:43:46.801399Z"
    }
   },
   "id": "31230f98dd3fad5d",
   "execution_count": 6
  },
  {
   "cell_type": "code",
   "outputs": [],
   "source": [
    "id2info = {}\n",
    "p2coordinates = {}\n",
    "with open(f'../data/Li & Lim benchmark/{benchmark_type}/{name}', 'r') as file:\n",
    "    for i, line in enumerate(file):\n",
    "        line = line.split('\\t')\n",
    "        if i == 0:\n",
    "            tariff = Tariff(\n",
    "                id='car',\n",
    "                capacity=int(line[1]),\n",
    "                max_count=int(line[0]),\n",
    "                cost_per_distance=[TariffCost(\n",
    "                    min_dst_km=0,\n",
    "                    max_dst_km=10000,\n",
    "                    cost_per_km=1,\n",
    "                    fixed_cost=0\n",
    "                )]\n",
    "            )\n",
    "        else:\n",
    "            c_id = int(line[0])\n",
    "            x = int(line[1])\n",
    "            y = int(line[2])\n",
    "\n",
    "            mass = int(line[3])\n",
    "\n",
    "            et = int(line[4])\n",
    "            lt = int(line[5])\n",
    "            st = int(line[6])\n",
    "\n",
    "            pick_up = int(line[7])\n",
    "            delivery = int(line[8])\n",
    "            if pick_up == delivery:\n",
    "                # print(12)\n",
    "                depo = Node(\n",
    "                    id=0,\n",
    "                    cargo_id=c_id,\n",
    "                    capacity=0,\n",
    "                    service_time=0,\n",
    "                    start_time=0,\n",
    "                    end_time=lt,\n",
    "                    coordinates=(x, y)\n",
    "                )\n",
    "                continue\n",
    "            if pick_up == 0:\n",
    "                if c_id not in id2info:\n",
    "                    id2info[c_id] = {}\n",
    "                id2info[c_id][0] = (x, y, mass, et, lt, st, c_id, delivery)\n",
    "            else:\n",
    "                delivery = c_id\n",
    "                c_id = pick_up\n",
    "                if c_id not in id2info:\n",
    "                    id2info[c_id] = {}\n",
    "                id2info[c_id][1] = (x, y, mass, et, lt, st, pick_up, delivery)\n"
   ],
   "metadata": {
    "collapsed": false,
    "ExecuteTime": {
     "end_time": "2025-07-22T13:43:46.828318Z",
     "start_time": "2025-07-22T13:43:46.815779Z"
    }
   },
   "id": "187c79fcb87c74b0",
   "execution_count": 7
  },
  {
   "cell_type": "code",
   "outputs": [
    {
     "data": {
      "text/plain": "Node(id=0, cargo_id=0, capacity=0, start_time=0, end_time=1236, service_time=0, coordinates=(40, 50))"
     },
     "execution_count": 8,
     "metadata": {},
     "output_type": "execute_result"
    }
   ],
   "source": [
    "depo"
   ],
   "metadata": {
    "collapsed": false,
    "ExecuteTime": {
     "end_time": "2025-07-22T13:43:46.844391Z",
     "start_time": "2025-07-22T13:43:46.834109Z"
    }
   },
   "id": "b809a58457c1cfc",
   "execution_count": 8
  },
  {
   "cell_type": "code",
   "outputs": [],
   "source": [
    "\n",
    "for k, v in id2info.items():\n",
    "    cargos.append(\n",
    "        Cargo(\n",
    "            id=k,\n",
    "            nodes=[\n",
    "                Node(\n",
    "                    cargo_id=k,\n",
    "                    id=v[i][6] if i == 0 else v[i][7],\n",
    "                    capacity=v[i][2],\n",
    "                    service_time=v[i][5],\n",
    "                    start_time=v[i][3],\n",
    "                    end_time=v[i][4],\n",
    "                    coordinates=(v[i][0], v[i][1])\n",
    "                )\n",
    "                for i in range(2)\n",
    "            ]\n",
    "        )\n",
    "    )"
   ],
   "metadata": {
    "collapsed": false,
    "ExecuteTime": {
     "end_time": "2025-07-22T13:43:46.853729Z",
     "start_time": "2025-07-22T13:43:46.846230Z"
    }
   },
   "id": "29705f90cfd83d36",
   "execution_count": 9
  },
  {
   "cell_type": "code",
   "outputs": [],
   "source": [
    "# cargos = cargos[:10]"
   ],
   "metadata": {
    "collapsed": false,
    "ExecuteTime": {
     "end_time": "2025-07-22T13:43:46.861582Z",
     "start_time": "2025-07-22T13:43:46.855186Z"
    }
   },
   "id": "c81c3a446e9f7ff4",
   "execution_count": 10
  },
  {
   "cell_type": "code",
   "outputs": [],
   "source": [
    "p2coordinates.update({\n",
    "    crg.nodes[i].id: crg.nodes[i].coordinates for crg in cargos for i in range(2)\n",
    "})\n",
    "p2coordinates[depo.id] = depo.coordinates\n",
    "distance_matrix = {(u, v): np.sqrt((du[0] - dv[0]) ** 2 + (du[1] - dv[1]) ** 2) for u, du in\n",
    "                   p2coordinates.items() for\n",
    "                   v, dv in p2coordinates.items()}\n",
    "time_matrix = {(u, v): np.sqrt((du[0] - dv[0]) ** 2 + (du[1] - dv[1]) ** 2) for u, du in p2coordinates.items() for\n",
    "               v, dv in p2coordinates.items()}"
   ],
   "metadata": {
    "collapsed": false,
    "ExecuteTime": {
     "end_time": "2025-07-22T13:43:46.931608Z",
     "start_time": "2025-07-22T13:43:46.863196Z"
    }
   },
   "id": "19e61fa36a51a2de",
   "execution_count": 11
  },
  {
   "cell_type": "code",
   "outputs": [],
   "source": [
    "\n",
    "\n",
    "routing_manager = PDRoutingManagerBuilder(\n",
    "    distance_matrix=distance_matrix,\n",
    "    time_matrix=time_matrix,\n",
    "    model_config=ModelConfig(max_execution_time_minutes=1)\n",
    ")\n",
    "\n",
    "routing_manager.add_cargos(cargos)\n",
    "routing_manager.add_tariff(tariff)\n",
    "\n",
    "routing_manager.add_depo(depo)\n",
    "\n",
    "# routing_manager.distance_matrix = distance_matrix\n",
    "# routing_manager.time_matrix = time_matrix\n",
    "\n",
    "\n",
    "routing_manager = routing_manager.build()"
   ],
   "metadata": {
    "collapsed": false,
    "ExecuteTime": {
     "end_time": "2025-07-22T13:43:46.957443Z",
     "start_time": "2025-07-22T13:43:46.933099Z"
    }
   },
   "id": "fe35819237497aa",
   "execution_count": 12
  },
  {
   "cell_type": "code",
   "outputs": [
    {
     "name": "stderr",
     "output_type": "stream",
     "text": [
      "\u001B[32m2025-07-22 16:43:47.189\u001B[0m | \u001B[1mINFO    \u001B[0m | \u001B[36msrc.vrp_study.pdptw_model.solution_builder\u001B[0m:\u001B[36mget_initial_solution\u001B[0m:\u001B[36m118\u001B[0m - \u001B[1m(1, 32.074999999999996)\u001B[0m\n",
      "\u001B[32m2025-07-22 16:43:47.191\u001B[0m | \u001B[1mINFO    \u001B[0m | \u001B[36msrc.vrp_study.pdptw_model.solution_builder\u001B[0m:\u001B[36mget_initial_solution\u001B[0m:\u001B[36m118\u001B[0m - \u001B[1m(1, 16.0875)\u001B[0m\n",
      "\u001B[32m2025-07-22 16:43:47.192\u001B[0m | \u001B[1mINFO    \u001B[0m | \u001B[36msrc.vrp_study.pdptw_model.solution_builder\u001B[0m:\u001B[36mget_initial_solution\u001B[0m:\u001B[36m118\u001B[0m - \u001B[1m(1, 8.09375)\u001B[0m\n",
      "\u001B[32m2025-07-22 16:43:47.194\u001B[0m | \u001B[1mINFO    \u001B[0m | \u001B[36msrc.vrp_study.pdptw_model.solution_builder\u001B[0m:\u001B[36mget_initial_solution\u001B[0m:\u001B[36m118\u001B[0m - \u001B[1m(1, 4.096875)\u001B[0m\n",
      "\u001B[32m2025-07-22 16:43:47.196\u001B[0m | \u001B[1mINFO    \u001B[0m | \u001B[36msrc.vrp_study.pdptw_model.solution_builder\u001B[0m:\u001B[36mget_initial_solution\u001B[0m:\u001B[36m118\u001B[0m - \u001B[1m(1, 2.0984374999999997)\u001B[0m\n",
      "\u001B[32m2025-07-22 16:43:47.197\u001B[0m | \u001B[1mINFO    \u001B[0m | \u001B[36msrc.vrp_study.pdptw_model.solution_builder\u001B[0m:\u001B[36mget_initial_solution\u001B[0m:\u001B[36m118\u001B[0m - \u001B[1m(1, 1.09921875)\u001B[0m\n",
      "\u001B[32m2025-07-22 16:43:47.198\u001B[0m | \u001B[1mINFO    \u001B[0m | \u001B[36msrc.vrp_study.pdptw_model.solution_builder\u001B[0m:\u001B[36mget_initial_solution\u001B[0m:\u001B[36m118\u001B[0m - \u001B[1m(3, 0.599609375)\u001B[0m\n",
      "\u001B[32m2025-07-22 16:43:47.199\u001B[0m | \u001B[1mINFO    \u001B[0m | \u001B[36msrc.vrp_study.pdptw_model.solution_builder\u001B[0m:\u001B[36mget_initial_solution\u001B[0m:\u001B[36m118\u001B[0m - \u001B[1m(3, 0.3498046875)\u001B[0m\n",
      "\u001B[32m2025-07-22 16:43:47.201\u001B[0m | \u001B[1mINFO    \u001B[0m | \u001B[36msrc.vrp_study.pdptw_model.solution_builder\u001B[0m:\u001B[36mget_initial_solution\u001B[0m:\u001B[36m118\u001B[0m - \u001B[1m(5, 0.22490234375)\u001B[0m\n",
      "\u001B[32m2025-07-22 16:43:47.202\u001B[0m | \u001B[1mINFO    \u001B[0m | \u001B[36msrc.vrp_study.pdptw_model.solution_builder\u001B[0m:\u001B[36mget_initial_solution\u001B[0m:\u001B[36m118\u001B[0m - \u001B[1m(5, 0.16245117187500002)\u001B[0m\n"
     ]
    },
    {
     "data": {
      "text/plain": "  0%|          | 0/1 [00:00<?, ?it/s]",
      "application/vnd.jupyter.widget-view+json": {
       "version_major": 2,
       "version_minor": 0,
       "model_id": "3099115caa1f4415b8336b492d729b8a"
      }
     },
     "metadata": {},
     "output_type": "display_data"
    },
    {
     "name": "stderr",
     "output_type": "stream",
     "text": [
      "\u001B[32m2025-07-22 16:43:47.218\u001B[0m | \u001B[1mINFO    \u001B[0m | \u001B[36msrc.vrp_study.pdptw_model.routing_model\u001B[0m:\u001B[36mfind_optimal_paths\u001B[0m:\u001B[36m443\u001B[0m - \u001B[1mproblem size: 11\u001B[0m\n",
      "\u001B[32m2025-07-22 16:43:47.219\u001B[0m | \u001B[1mINFO    \u001B[0m | \u001B[36msrc.vrp_study.pdptw_model.routing_model\u001B[0m:\u001B[36mdo_solve\u001B[0m:\u001B[36m378\u001B[0m - \u001B[1mНачало создания модели\u001B[0m\n",
      "\u001B[32m2025-07-22 16:43:47.223\u001B[0m | \u001B[1mINFO    \u001B[0m | \u001B[36msrc.vrp_study.pdptw_model.routing_model\u001B[0m:\u001B[36madd_distance_dimension\u001B[0m:\u001B[36m299\u001B[0m - \u001B[1mДобавление размерности для расстояния\u001B[0m\n",
      "\u001B[32m2025-07-22 16:43:47.224\u001B[0m | \u001B[1mINFO    \u001B[0m | \u001B[36msrc.vrp_study.pdptw_model.routing_model\u001B[0m:\u001B[36madd_count_dimension\u001B[0m:\u001B[36m335\u001B[0m - \u001B[1mДобавление размерности для расстояния\u001B[0m\n",
      "\u001B[32m2025-07-22 16:43:47.225\u001B[0m | \u001B[1mINFO    \u001B[0m | \u001B[36msrc.vrp_study.pdptw_model.routing_model\u001B[0m:\u001B[36madd_pick_up_and_delivery\u001B[0m:\u001B[36m269\u001B[0m - \u001B[1mДобавление ограничения для порядка доставки\u001B[0m\n",
      "\u001B[32m2025-07-22 16:43:47.226\u001B[0m | \u001B[1mINFO    \u001B[0m | \u001B[36msrc.vrp_study.pdptw_model.routing_model\u001B[0m:\u001B[36madd_time_window\u001B[0m:\u001B[36m194\u001B[0m - \u001B[1madd time\u001B[0m\n",
      "\u001B[32m2025-07-22 16:43:47.228\u001B[0m | \u001B[1mINFO    \u001B[0m | \u001B[36msrc.vrp_study.pdptw_model.routing_model\u001B[0m:\u001B[36madd_mass_constraint\u001B[0m:\u001B[36m177\u001B[0m - \u001B[1mДобавление ограничений для массы\u001B[0m\n",
      "\u001B[32m2025-07-22 16:43:47.236\u001B[0m | \u001B[1mINFO    \u001B[0m | \u001B[36msrc.vrp_study.pdptw_model.routing_model\u001B[0m:\u001B[36mdo_solve\u001B[0m:\u001B[36m407\u001B[0m - \u001B[1mНачало решения\u001B[0m\n",
      "\u001B[32m2025-07-22 16:43:47.241\u001B[0m | \u001B[34m\u001B[1mDEBUG   \u001B[0m | \u001B[36msrc.vrp_study.pdptw_model.routing_model\u001B[0m:\u001B[36m__call__\u001B[0m:\u001B[36m40\u001B[0m - \u001B[34m\u001B[1mtime: 0.009; new solution (1): 1; best solution: 1\u001B[0m\n",
      "\u001B[32m2025-07-22 16:43:47.258\u001B[0m | \u001B[1mINFO    \u001B[0m | \u001B[36msrc.vrp_study.pdptw_model.routing_model\u001B[0m:\u001B[36mdo_solve\u001B[0m:\u001B[36m423\u001B[0m - \u001B[1mfind solution\u001B[0m\n",
      "\u001B[32m2025-07-22 16:43:47.258\u001B[0m | \u001B[1mINFO    \u001B[0m | \u001B[36msrc.vrp_study.pdptw_model.routing_model\u001B[0m:\u001B[36mfind_optimal_paths\u001B[0m:\u001B[36m451\u001B[0m - \u001B[1mbest_score: 1\u001B[0m\n",
      "\u001B[32m2025-07-22 16:43:47.259\u001B[0m | \u001B[1mINFO    \u001B[0m | \u001B[36msrc.vrp_study.pdptw_model.routing_model\u001B[0m:\u001B[36mdo_solve\u001B[0m:\u001B[36m378\u001B[0m - \u001B[1mНачало создания модели\u001B[0m\n",
      "\u001B[32m2025-07-22 16:43:47.320\u001B[0m | \u001B[1mINFO    \u001B[0m | \u001B[36msrc.vrp_study.pdptw_model.routing_model\u001B[0m:\u001B[36madd_distance_dimension\u001B[0m:\u001B[36m299\u001B[0m - \u001B[1mДобавление размерности для расстояния\u001B[0m\n",
      "\u001B[32m2025-07-22 16:43:47.322\u001B[0m | \u001B[1mINFO    \u001B[0m | \u001B[36msrc.vrp_study.pdptw_model.routing_model\u001B[0m:\u001B[36madd_count_dimension\u001B[0m:\u001B[36m335\u001B[0m - \u001B[1mДобавление размерности для расстояния\u001B[0m\n",
      "\u001B[32m2025-07-22 16:43:47.323\u001B[0m | \u001B[1mINFO    \u001B[0m | \u001B[36msrc.vrp_study.pdptw_model.routing_model\u001B[0m:\u001B[36madd_pick_up_and_delivery\u001B[0m:\u001B[36m269\u001B[0m - \u001B[1mДобавление ограничения для порядка доставки\u001B[0m\n",
      "\u001B[32m2025-07-22 16:43:47.324\u001B[0m | \u001B[1mINFO    \u001B[0m | \u001B[36msrc.vrp_study.pdptw_model.routing_model\u001B[0m:\u001B[36madd_vehicles_cost\u001B[0m:\u001B[36m243\u001B[0m - \u001B[1mДобавление стоимостей машин\u001B[0m\n",
      "\u001B[32m2025-07-22 16:43:47.325\u001B[0m | \u001B[1mINFO    \u001B[0m | \u001B[36msrc.vrp_study.pdptw_model.routing_model\u001B[0m:\u001B[36madd_time_window\u001B[0m:\u001B[36m194\u001B[0m - \u001B[1madd time\u001B[0m\n",
      "\u001B[32m2025-07-22 16:43:47.327\u001B[0m | \u001B[1mINFO    \u001B[0m | \u001B[36msrc.vrp_study.pdptw_model.routing_model\u001B[0m:\u001B[36madd_mass_constraint\u001B[0m:\u001B[36m177\u001B[0m - \u001B[1mДобавление ограничений для массы\u001B[0m\n",
      "\u001B[32m2025-07-22 16:43:47.329\u001B[0m | \u001B[1mINFO    \u001B[0m | \u001B[36msrc.vrp_study.pdptw_model.routing_model\u001B[0m:\u001B[36mdo_solve\u001B[0m:\u001B[36m407\u001B[0m - \u001B[1mНачало решения\u001B[0m\n",
      "\u001B[32m2025-07-22 16:43:47.332\u001B[0m | \u001B[1mINFO    \u001B[0m | \u001B[36msrc.vrp_study.pdptw_model.routing_model\u001B[0m:\u001B[36mdo_solve\u001B[0m:\u001B[36m410\u001B[0m - \u001B[1muse initial_solution: 1\u001B[0m\n",
      "\u001B[32m2025-07-22 16:43:47.334\u001B[0m | \u001B[34m\u001B[1mDEBUG   \u001B[0m | \u001B[36msrc.vrp_study.pdptw_model.routing_model\u001B[0m:\u001B[36m__call__\u001B[0m:\u001B[36m40\u001B[0m - \u001B[34m\u001B[1mtime: 0.006; new solution (1): 5868; best solution: 5868\u001B[0m\n",
      "\u001B[32m2025-07-22 16:43:47.337\u001B[0m | \u001B[34m\u001B[1mDEBUG   \u001B[0m | \u001B[36msrc.vrp_study.pdptw_model.routing_model\u001B[0m:\u001B[36m__call__\u001B[0m:\u001B[36m40\u001B[0m - \u001B[34m\u001B[1mtime: 0.009; new solution (2): 5868; best solution: 5868\u001B[0m\n",
      "\u001B[32m2025-07-22 16:43:47.359\u001B[0m | \u001B[1mINFO    \u001B[0m | \u001B[36msrc.vrp_study.pdptw_model.routing_model\u001B[0m:\u001B[36mdo_solve\u001B[0m:\u001B[36m423\u001B[0m - \u001B[1mfind solution\u001B[0m\n",
      "\u001B[32m2025-07-22 16:43:47.360\u001B[0m | \u001B[1mINFO    \u001B[0m | \u001B[36msrc.vrp_study.pdptw_model.routing_model\u001B[0m:\u001B[36mfind_optimal_paths\u001B[0m:\u001B[36m464\u001B[0m - \u001B[1mbest_score: 58.68\u001B[0m\n",
      "\u001B[32m2025-07-22 16:43:47.362\u001B[0m | \u001B[1mINFO    \u001B[0m | \u001B[36msrc.vrp_study.pdptw_model.solution_builder\u001B[0m:\u001B[36mget_initial_solution\u001B[0m:\u001B[36m138\u001B[0m - \u001B[1m[[0, 7, 8, 9, 10, 1, 5, 3, 6, 4, 2, 0], [], [], [], [], [], [], [], [], [], [], [], [], [], [], [], [], [], [], [], [], [], [], [], []]\u001B[0m\n"
     ]
    },
    {
     "data": {
      "text/plain": "  0%|          | 0/1 [00:00<?, ?it/s]",
      "application/vnd.jupyter.widget-view+json": {
       "version_major": 2,
       "version_minor": 0,
       "model_id": "ee83c0d812b148ffbe99b31bdda7807f"
      }
     },
     "metadata": {},
     "output_type": "display_data"
    },
    {
     "name": "stderr",
     "output_type": "stream",
     "text": [
      "\u001B[32m2025-07-22 16:43:47.379\u001B[0m | \u001B[1mINFO    \u001B[0m | \u001B[36msrc.vrp_study.pdptw_model.routing_model\u001B[0m:\u001B[36mfind_optimal_paths\u001B[0m:\u001B[36m443\u001B[0m - \u001B[1mproblem size: 3\u001B[0m\n",
      "\u001B[32m2025-07-22 16:43:47.380\u001B[0m | \u001B[1mINFO    \u001B[0m | \u001B[36msrc.vrp_study.pdptw_model.routing_model\u001B[0m:\u001B[36mdo_solve\u001B[0m:\u001B[36m378\u001B[0m - \u001B[1mНачало создания модели\u001B[0m\n",
      "\u001B[32m2025-07-22 16:43:47.383\u001B[0m | \u001B[1mINFO    \u001B[0m | \u001B[36msrc.vrp_study.pdptw_model.routing_model\u001B[0m:\u001B[36madd_distance_dimension\u001B[0m:\u001B[36m299\u001B[0m - \u001B[1mДобавление размерности для расстояния\u001B[0m\n",
      "\u001B[32m2025-07-22 16:43:47.387\u001B[0m | \u001B[1mINFO    \u001B[0m | \u001B[36msrc.vrp_study.pdptw_model.routing_model\u001B[0m:\u001B[36madd_count_dimension\u001B[0m:\u001B[36m335\u001B[0m - \u001B[1mДобавление размерности для расстояния\u001B[0m\n",
      "\u001B[32m2025-07-22 16:43:47.388\u001B[0m | \u001B[1mINFO    \u001B[0m | \u001B[36msrc.vrp_study.pdptw_model.routing_model\u001B[0m:\u001B[36madd_pick_up_and_delivery\u001B[0m:\u001B[36m269\u001B[0m - \u001B[1mДобавление ограничения для порядка доставки\u001B[0m\n",
      "\u001B[32m2025-07-22 16:43:47.390\u001B[0m | \u001B[1mINFO    \u001B[0m | \u001B[36msrc.vrp_study.pdptw_model.routing_model\u001B[0m:\u001B[36madd_time_window\u001B[0m:\u001B[36m194\u001B[0m - \u001B[1madd time\u001B[0m\n",
      "\u001B[32m2025-07-22 16:43:47.392\u001B[0m | \u001B[1mINFO    \u001B[0m | \u001B[36msrc.vrp_study.pdptw_model.routing_model\u001B[0m:\u001B[36madd_mass_constraint\u001B[0m:\u001B[36m177\u001B[0m - \u001B[1mДобавление ограничений для массы\u001B[0m\n",
      "\u001B[32m2025-07-22 16:43:47.397\u001B[0m | \u001B[1mINFO    \u001B[0m | \u001B[36msrc.vrp_study.pdptw_model.routing_model\u001B[0m:\u001B[36mdo_solve\u001B[0m:\u001B[36m407\u001B[0m - \u001B[1mНачало решения\u001B[0m\n",
      "\u001B[32m2025-07-22 16:43:47.401\u001B[0m | \u001B[34m\u001B[1mDEBUG   \u001B[0m | \u001B[36msrc.vrp_study.pdptw_model.routing_model\u001B[0m:\u001B[36m__call__\u001B[0m:\u001B[36m40\u001B[0m - \u001B[34m\u001B[1mtime: 0.006; new solution (1): 1; best solution: 1\u001B[0m\n",
      "\u001B[32m2025-07-22 16:43:47.405\u001B[0m | \u001B[1mINFO    \u001B[0m | \u001B[36msrc.vrp_study.pdptw_model.routing_model\u001B[0m:\u001B[36mdo_solve\u001B[0m:\u001B[36m423\u001B[0m - \u001B[1mfind solution\u001B[0m\n",
      "\u001B[32m2025-07-22 16:43:47.406\u001B[0m | \u001B[1mINFO    \u001B[0m | \u001B[36msrc.vrp_study.pdptw_model.routing_model\u001B[0m:\u001B[36mfind_optimal_paths\u001B[0m:\u001B[36m451\u001B[0m - \u001B[1mbest_score: 1\u001B[0m\n",
      "\u001B[32m2025-07-22 16:43:47.408\u001B[0m | \u001B[1mINFO    \u001B[0m | \u001B[36msrc.vrp_study.pdptw_model.routing_model\u001B[0m:\u001B[36mdo_solve\u001B[0m:\u001B[36m378\u001B[0m - \u001B[1mНачало создания модели\u001B[0m\n",
      "\u001B[32m2025-07-22 16:43:47.410\u001B[0m | \u001B[1mINFO    \u001B[0m | \u001B[36msrc.vrp_study.pdptw_model.routing_model\u001B[0m:\u001B[36madd_distance_dimension\u001B[0m:\u001B[36m299\u001B[0m - \u001B[1mДобавление размерности для расстояния\u001B[0m\n",
      "\u001B[32m2025-07-22 16:43:47.412\u001B[0m | \u001B[1mINFO    \u001B[0m | \u001B[36msrc.vrp_study.pdptw_model.routing_model\u001B[0m:\u001B[36madd_count_dimension\u001B[0m:\u001B[36m335\u001B[0m - \u001B[1mДобавление размерности для расстояния\u001B[0m\n",
      "\u001B[32m2025-07-22 16:43:47.414\u001B[0m | \u001B[1mINFO    \u001B[0m | \u001B[36msrc.vrp_study.pdptw_model.routing_model\u001B[0m:\u001B[36madd_pick_up_and_delivery\u001B[0m:\u001B[36m269\u001B[0m - \u001B[1mДобавление ограничения для порядка доставки\u001B[0m\n",
      "\u001B[32m2025-07-22 16:43:47.414\u001B[0m | \u001B[1mINFO    \u001B[0m | \u001B[36msrc.vrp_study.pdptw_model.routing_model\u001B[0m:\u001B[36madd_vehicles_cost\u001B[0m:\u001B[36m243\u001B[0m - \u001B[1mДобавление стоимостей машин\u001B[0m\n",
      "\u001B[32m2025-07-22 16:43:47.416\u001B[0m | \u001B[1mINFO    \u001B[0m | \u001B[36msrc.vrp_study.pdptw_model.routing_model\u001B[0m:\u001B[36madd_time_window\u001B[0m:\u001B[36m194\u001B[0m - \u001B[1madd time\u001B[0m\n",
      "\u001B[32m2025-07-22 16:43:47.417\u001B[0m | \u001B[1mINFO    \u001B[0m | \u001B[36msrc.vrp_study.pdptw_model.routing_model\u001B[0m:\u001B[36madd_mass_constraint\u001B[0m:\u001B[36m177\u001B[0m - \u001B[1mДобавление ограничений для массы\u001B[0m\n",
      "\u001B[32m2025-07-22 16:43:47.419\u001B[0m | \u001B[1mINFO    \u001B[0m | \u001B[36msrc.vrp_study.pdptw_model.routing_model\u001B[0m:\u001B[36mdo_solve\u001B[0m:\u001B[36m407\u001B[0m - \u001B[1mНачало решения\u001B[0m\n",
      "\u001B[32m2025-07-22 16:43:47.420\u001B[0m | \u001B[1mINFO    \u001B[0m | \u001B[36msrc.vrp_study.pdptw_model.routing_model\u001B[0m:\u001B[36mdo_solve\u001B[0m:\u001B[36m410\u001B[0m - \u001B[1muse initial_solution: 1\u001B[0m\n",
      "\u001B[32m2025-07-22 16:43:47.421\u001B[0m | \u001B[34m\u001B[1mDEBUG   \u001B[0m | \u001B[36msrc.vrp_study.pdptw_model.routing_model\u001B[0m:\u001B[36m__call__\u001B[0m:\u001B[36m40\u001B[0m - \u001B[34m\u001B[1mtime: 0.003; new solution (1): 3509; best solution: 3509\u001B[0m\n",
      "\u001B[32m2025-07-22 16:43:47.423\u001B[0m | \u001B[34m\u001B[1mDEBUG   \u001B[0m | \u001B[36msrc.vrp_study.pdptw_model.routing_model\u001B[0m:\u001B[36m__call__\u001B[0m:\u001B[36m40\u001B[0m - \u001B[34m\u001B[1mtime: 0.005; new solution (2): 3509; best solution: 3509\u001B[0m\n",
      "\u001B[32m2025-07-22 16:43:47.425\u001B[0m | \u001B[1mINFO    \u001B[0m | \u001B[36msrc.vrp_study.pdptw_model.routing_model\u001B[0m:\u001B[36mdo_solve\u001B[0m:\u001B[36m423\u001B[0m - \u001B[1mfind solution\u001B[0m\n",
      "\u001B[32m2025-07-22 16:43:47.426\u001B[0m | \u001B[1mINFO    \u001B[0m | \u001B[36msrc.vrp_study.pdptw_model.routing_model\u001B[0m:\u001B[36mfind_optimal_paths\u001B[0m:\u001B[36m464\u001B[0m - \u001B[1mbest_score: 35.09\u001B[0m\n",
      "\u001B[32m2025-07-22 16:43:47.427\u001B[0m | \u001B[1mINFO    \u001B[0m | \u001B[36msrc.vrp_study.pdptw_model.solution_builder\u001B[0m:\u001B[36mget_initial_solution\u001B[0m:\u001B[36m138\u001B[0m - \u001B[1m[[0, 1, 2, 0], [], [], [], [], [], [], [], [], [], [], [], [], [], [], [], [], [], [], [], [], [], [], []]\u001B[0m\n",
      "\u001B[32m2025-07-22 16:43:47.432\u001B[0m | \u001B[1mINFO    \u001B[0m | \u001B[36msrc.vrp_study.pdptw_model.solution_builder\u001B[0m:\u001B[36mget_initial_solution\u001B[0m:\u001B[36m118\u001B[0m - \u001B[1m(1, 32.074999999999996)\u001B[0m\n",
      "\u001B[32m2025-07-22 16:43:47.435\u001B[0m | \u001B[1mINFO    \u001B[0m | \u001B[36msrc.vrp_study.pdptw_model.solution_builder\u001B[0m:\u001B[36mget_initial_solution\u001B[0m:\u001B[36m118\u001B[0m - \u001B[1m(1, 16.0875)\u001B[0m\n",
      "\u001B[32m2025-07-22 16:43:47.437\u001B[0m | \u001B[1mINFO    \u001B[0m | \u001B[36msrc.vrp_study.pdptw_model.solution_builder\u001B[0m:\u001B[36mget_initial_solution\u001B[0m:\u001B[36m118\u001B[0m - \u001B[1m(1, 8.09375)\u001B[0m\n",
      "\u001B[32m2025-07-22 16:43:47.440\u001B[0m | \u001B[1mINFO    \u001B[0m | \u001B[36msrc.vrp_study.pdptw_model.solution_builder\u001B[0m:\u001B[36mget_initial_solution\u001B[0m:\u001B[36m118\u001B[0m - \u001B[1m(1, 4.096875)\u001B[0m\n",
      "\u001B[32m2025-07-22 16:43:47.443\u001B[0m | \u001B[1mINFO    \u001B[0m | \u001B[36msrc.vrp_study.pdptw_model.solution_builder\u001B[0m:\u001B[36mget_initial_solution\u001B[0m:\u001B[36m118\u001B[0m - \u001B[1m(1, 2.0984374999999997)\u001B[0m\n",
      "\u001B[32m2025-07-22 16:43:47.445\u001B[0m | \u001B[1mINFO    \u001B[0m | \u001B[36msrc.vrp_study.pdptw_model.solution_builder\u001B[0m:\u001B[36mget_initial_solution\u001B[0m:\u001B[36m118\u001B[0m - \u001B[1m(1, 1.09921875)\u001B[0m\n",
      "\u001B[32m2025-07-22 16:43:47.447\u001B[0m | \u001B[1mINFO    \u001B[0m | \u001B[36msrc.vrp_study.pdptw_model.solution_builder\u001B[0m:\u001B[36mget_initial_solution\u001B[0m:\u001B[36m118\u001B[0m - \u001B[1m(2, 0.599609375)\u001B[0m\n",
      "\u001B[32m2025-07-22 16:43:47.450\u001B[0m | \u001B[1mINFO    \u001B[0m | \u001B[36msrc.vrp_study.pdptw_model.solution_builder\u001B[0m:\u001B[36mget_initial_solution\u001B[0m:\u001B[36m118\u001B[0m - \u001B[1m(3, 0.3498046875)\u001B[0m\n",
      "\u001B[32m2025-07-22 16:43:47.452\u001B[0m | \u001B[1mINFO    \u001B[0m | \u001B[36msrc.vrp_study.pdptw_model.solution_builder\u001B[0m:\u001B[36mget_initial_solution\u001B[0m:\u001B[36m118\u001B[0m - \u001B[1m(4, 0.22490234375)\u001B[0m\n",
      "\u001B[32m2025-07-22 16:43:47.454\u001B[0m | \u001B[1mINFO    \u001B[0m | \u001B[36msrc.vrp_study.pdptw_model.solution_builder\u001B[0m:\u001B[36mget_initial_solution\u001B[0m:\u001B[36m118\u001B[0m - \u001B[1m(4, 0.16245117187500002)\u001B[0m\n"
     ]
    },
    {
     "data": {
      "text/plain": "  0%|          | 0/1 [00:00<?, ?it/s]",
      "application/vnd.jupyter.widget-view+json": {
       "version_major": 2,
       "version_minor": 0,
       "model_id": "94594d19179a46f6b81f0cb41b81ca9c"
      }
     },
     "metadata": {},
     "output_type": "display_data"
    },
    {
     "name": "stderr",
     "output_type": "stream",
     "text": [
      "\u001B[32m2025-07-22 16:43:47.470\u001B[0m | \u001B[1mINFO    \u001B[0m | \u001B[36msrc.vrp_study.pdptw_model.routing_model\u001B[0m:\u001B[36mfind_optimal_paths\u001B[0m:\u001B[36m443\u001B[0m - \u001B[1mproblem size: 9\u001B[0m\n",
      "\u001B[32m2025-07-22 16:43:47.471\u001B[0m | \u001B[1mINFO    \u001B[0m | \u001B[36msrc.vrp_study.pdptw_model.routing_model\u001B[0m:\u001B[36mdo_solve\u001B[0m:\u001B[36m378\u001B[0m - \u001B[1mНачало создания модели\u001B[0m\n",
      "\u001B[32m2025-07-22 16:43:47.473\u001B[0m | \u001B[1mINFO    \u001B[0m | \u001B[36msrc.vrp_study.pdptw_model.routing_model\u001B[0m:\u001B[36madd_distance_dimension\u001B[0m:\u001B[36m299\u001B[0m - \u001B[1mДобавление размерности для расстояния\u001B[0m\n",
      "\u001B[32m2025-07-22 16:43:47.475\u001B[0m | \u001B[1mINFO    \u001B[0m | \u001B[36msrc.vrp_study.pdptw_model.routing_model\u001B[0m:\u001B[36madd_count_dimension\u001B[0m:\u001B[36m335\u001B[0m - \u001B[1mДобавление размерности для расстояния\u001B[0m\n",
      "\u001B[32m2025-07-22 16:43:47.477\u001B[0m | \u001B[1mINFO    \u001B[0m | \u001B[36msrc.vrp_study.pdptw_model.routing_model\u001B[0m:\u001B[36madd_pick_up_and_delivery\u001B[0m:\u001B[36m269\u001B[0m - \u001B[1mДобавление ограничения для порядка доставки\u001B[0m\n",
      "\u001B[32m2025-07-22 16:43:47.478\u001B[0m | \u001B[1mINFO    \u001B[0m | \u001B[36msrc.vrp_study.pdptw_model.routing_model\u001B[0m:\u001B[36madd_time_window\u001B[0m:\u001B[36m194\u001B[0m - \u001B[1madd time\u001B[0m\n",
      "\u001B[32m2025-07-22 16:43:47.479\u001B[0m | \u001B[1mINFO    \u001B[0m | \u001B[36msrc.vrp_study.pdptw_model.routing_model\u001B[0m:\u001B[36madd_mass_constraint\u001B[0m:\u001B[36m177\u001B[0m - \u001B[1mДобавление ограничений для массы\u001B[0m\n",
      "\u001B[32m2025-07-22 16:43:47.484\u001B[0m | \u001B[1mINFO    \u001B[0m | \u001B[36msrc.vrp_study.pdptw_model.routing_model\u001B[0m:\u001B[36mdo_solve\u001B[0m:\u001B[36m407\u001B[0m - \u001B[1mНачало решения\u001B[0m\n",
      "\u001B[32m2025-07-22 16:43:47.489\u001B[0m | \u001B[34m\u001B[1mDEBUG   \u001B[0m | \u001B[36msrc.vrp_study.pdptw_model.routing_model\u001B[0m:\u001B[36m__call__\u001B[0m:\u001B[36m40\u001B[0m - \u001B[34m\u001B[1mtime: 0.008; new solution (1): 1; best solution: 1\u001B[0m\n",
      "\u001B[32m2025-07-22 16:43:47.504\u001B[0m | \u001B[1mINFO    \u001B[0m | \u001B[36msrc.vrp_study.pdptw_model.routing_model\u001B[0m:\u001B[36mdo_solve\u001B[0m:\u001B[36m423\u001B[0m - \u001B[1mfind solution\u001B[0m\n",
      "\u001B[32m2025-07-22 16:43:47.505\u001B[0m | \u001B[1mINFO    \u001B[0m | \u001B[36msrc.vrp_study.pdptw_model.routing_model\u001B[0m:\u001B[36mfind_optimal_paths\u001B[0m:\u001B[36m451\u001B[0m - \u001B[1mbest_score: 1\u001B[0m\n",
      "\u001B[32m2025-07-22 16:43:47.506\u001B[0m | \u001B[1mINFO    \u001B[0m | \u001B[36msrc.vrp_study.pdptw_model.routing_model\u001B[0m:\u001B[36mdo_solve\u001B[0m:\u001B[36m378\u001B[0m - \u001B[1mНачало создания модели\u001B[0m\n",
      "\u001B[32m2025-07-22 16:43:47.509\u001B[0m | \u001B[1mINFO    \u001B[0m | \u001B[36msrc.vrp_study.pdptw_model.routing_model\u001B[0m:\u001B[36madd_distance_dimension\u001B[0m:\u001B[36m299\u001B[0m - \u001B[1mДобавление размерности для расстояния\u001B[0m\n",
      "\u001B[32m2025-07-22 16:43:47.510\u001B[0m | \u001B[1mINFO    \u001B[0m | \u001B[36msrc.vrp_study.pdptw_model.routing_model\u001B[0m:\u001B[36madd_count_dimension\u001B[0m:\u001B[36m335\u001B[0m - \u001B[1mДобавление размерности для расстояния\u001B[0m\n",
      "\u001B[32m2025-07-22 16:43:47.511\u001B[0m | \u001B[1mINFO    \u001B[0m | \u001B[36msrc.vrp_study.pdptw_model.routing_model\u001B[0m:\u001B[36madd_pick_up_and_delivery\u001B[0m:\u001B[36m269\u001B[0m - \u001B[1mДобавление ограничения для порядка доставки\u001B[0m\n",
      "\u001B[32m2025-07-22 16:43:47.512\u001B[0m | \u001B[1mINFO    \u001B[0m | \u001B[36msrc.vrp_study.pdptw_model.routing_model\u001B[0m:\u001B[36madd_vehicles_cost\u001B[0m:\u001B[36m243\u001B[0m - \u001B[1mДобавление стоимостей машин\u001B[0m\n",
      "\u001B[32m2025-07-22 16:43:47.514\u001B[0m | \u001B[1mINFO    \u001B[0m | \u001B[36msrc.vrp_study.pdptw_model.routing_model\u001B[0m:\u001B[36madd_time_window\u001B[0m:\u001B[36m194\u001B[0m - \u001B[1madd time\u001B[0m\n",
      "\u001B[32m2025-07-22 16:43:47.515\u001B[0m | \u001B[1mINFO    \u001B[0m | \u001B[36msrc.vrp_study.pdptw_model.routing_model\u001B[0m:\u001B[36madd_mass_constraint\u001B[0m:\u001B[36m177\u001B[0m - \u001B[1mДобавление ограничений для массы\u001B[0m\n",
      "\u001B[32m2025-07-22 16:43:47.517\u001B[0m | \u001B[1mINFO    \u001B[0m | \u001B[36msrc.vrp_study.pdptw_model.routing_model\u001B[0m:\u001B[36mdo_solve\u001B[0m:\u001B[36m407\u001B[0m - \u001B[1mНачало решения\u001B[0m\n",
      "\u001B[32m2025-07-22 16:43:47.519\u001B[0m | \u001B[1mINFO    \u001B[0m | \u001B[36msrc.vrp_study.pdptw_model.routing_model\u001B[0m:\u001B[36mdo_solve\u001B[0m:\u001B[36m410\u001B[0m - \u001B[1muse initial_solution: 1\u001B[0m\n",
      "\u001B[32m2025-07-22 16:43:47.520\u001B[0m | \u001B[34m\u001B[1mDEBUG   \u001B[0m | \u001B[36msrc.vrp_study.pdptw_model.routing_model\u001B[0m:\u001B[36m__call__\u001B[0m:\u001B[36m40\u001B[0m - \u001B[34m\u001B[1mtime: 0.004; new solution (1): 9587; best solution: 9587\u001B[0m\n",
      "\u001B[32m2025-07-22 16:43:47.522\u001B[0m | \u001B[34m\u001B[1mDEBUG   \u001B[0m | \u001B[36msrc.vrp_study.pdptw_model.routing_model\u001B[0m:\u001B[36m__call__\u001B[0m:\u001B[36m40\u001B[0m - \u001B[34m\u001B[1mtime: 0.006; new solution (2): 9587; best solution: 9587\u001B[0m\n",
      "\u001B[32m2025-07-22 16:43:47.536\u001B[0m | \u001B[1mINFO    \u001B[0m | \u001B[36msrc.vrp_study.pdptw_model.routing_model\u001B[0m:\u001B[36mdo_solve\u001B[0m:\u001B[36m423\u001B[0m - \u001B[1mfind solution\u001B[0m\n",
      "\u001B[32m2025-07-22 16:43:47.537\u001B[0m | \u001B[1mINFO    \u001B[0m | \u001B[36msrc.vrp_study.pdptw_model.routing_model\u001B[0m:\u001B[36mfind_optimal_paths\u001B[0m:\u001B[36m464\u001B[0m - \u001B[1mbest_score: 95.87\u001B[0m\n",
      "\u001B[32m2025-07-22 16:43:47.538\u001B[0m | \u001B[1mINFO    \u001B[0m | \u001B[36msrc.vrp_study.pdptw_model.solution_builder\u001B[0m:\u001B[36mget_initial_solution\u001B[0m:\u001B[36m138\u001B[0m - \u001B[1m[[0, 7, 8, 5, 3, 4, 1, 2, 6, 0], [], [], [], [], [], [], [], [], [], [], [], [], [], [], [], [], [], [], [], [], [], []]\u001B[0m\n",
      "\u001B[32m2025-07-22 16:43:47.543\u001B[0m | \u001B[1mINFO    \u001B[0m | \u001B[36msrc.vrp_study.pdptw_model.solution_builder\u001B[0m:\u001B[36mget_initial_solution\u001B[0m:\u001B[36m118\u001B[0m - \u001B[1m(1, 32.074999999999996)\u001B[0m\n",
      "\u001B[32m2025-07-22 16:43:47.546\u001B[0m | \u001B[1mINFO    \u001B[0m | \u001B[36msrc.vrp_study.pdptw_model.solution_builder\u001B[0m:\u001B[36mget_initial_solution\u001B[0m:\u001B[36m118\u001B[0m - \u001B[1m(1, 16.0875)\u001B[0m\n",
      "\u001B[32m2025-07-22 16:43:47.548\u001B[0m | \u001B[1mINFO    \u001B[0m | \u001B[36msrc.vrp_study.pdptw_model.solution_builder\u001B[0m:\u001B[36mget_initial_solution\u001B[0m:\u001B[36m118\u001B[0m - \u001B[1m(1, 8.09375)\u001B[0m\n",
      "\u001B[32m2025-07-22 16:43:47.550\u001B[0m | \u001B[1mINFO    \u001B[0m | \u001B[36msrc.vrp_study.pdptw_model.solution_builder\u001B[0m:\u001B[36mget_initial_solution\u001B[0m:\u001B[36m118\u001B[0m - \u001B[1m(1, 4.096875)\u001B[0m\n",
      "\u001B[32m2025-07-22 16:43:47.551\u001B[0m | \u001B[1mINFO    \u001B[0m | \u001B[36msrc.vrp_study.pdptw_model.solution_builder\u001B[0m:\u001B[36mget_initial_solution\u001B[0m:\u001B[36m118\u001B[0m - \u001B[1m(1, 2.0984374999999997)\u001B[0m\n",
      "\u001B[32m2025-07-22 16:43:47.554\u001B[0m | \u001B[1mINFO    \u001B[0m | \u001B[36msrc.vrp_study.pdptw_model.solution_builder\u001B[0m:\u001B[36mget_initial_solution\u001B[0m:\u001B[36m118\u001B[0m - \u001B[1m(1, 1.09921875)\u001B[0m\n",
      "\u001B[32m2025-07-22 16:43:47.556\u001B[0m | \u001B[1mINFO    \u001B[0m | \u001B[36msrc.vrp_study.pdptw_model.solution_builder\u001B[0m:\u001B[36mget_initial_solution\u001B[0m:\u001B[36m118\u001B[0m - \u001B[1m(6, 0.599609375)\u001B[0m\n",
      "\u001B[32m2025-07-22 16:43:47.559\u001B[0m | \u001B[1mINFO    \u001B[0m | \u001B[36msrc.vrp_study.pdptw_model.solution_builder\u001B[0m:\u001B[36mget_initial_solution\u001B[0m:\u001B[36m118\u001B[0m - \u001B[1m(6, 0.3498046875)\u001B[0m\n",
      "\u001B[32m2025-07-22 16:43:47.561\u001B[0m | \u001B[1mINFO    \u001B[0m | \u001B[36msrc.vrp_study.pdptw_model.solution_builder\u001B[0m:\u001B[36mget_initial_solution\u001B[0m:\u001B[36m118\u001B[0m - \u001B[1m(6, 0.22490234375)\u001B[0m\n",
      "\u001B[32m2025-07-22 16:43:47.565\u001B[0m | \u001B[1mINFO    \u001B[0m | \u001B[36msrc.vrp_study.pdptw_model.solution_builder\u001B[0m:\u001B[36mget_initial_solution\u001B[0m:\u001B[36m118\u001B[0m - \u001B[1m(6, 0.16245117187500002)\u001B[0m\n"
     ]
    },
    {
     "data": {
      "text/plain": "  0%|          | 0/1 [00:00<?, ?it/s]",
      "application/vnd.jupyter.widget-view+json": {
       "version_major": 2,
       "version_minor": 0,
       "model_id": "6bd3e9091a014db2a1dcb599117836e3"
      }
     },
     "metadata": {},
     "output_type": "display_data"
    },
    {
     "name": "stderr",
     "output_type": "stream",
     "text": [
      "\u001B[32m2025-07-22 16:43:47.580\u001B[0m | \u001B[1mINFO    \u001B[0m | \u001B[36msrc.vrp_study.pdptw_model.routing_model\u001B[0m:\u001B[36mfind_optimal_paths\u001B[0m:\u001B[36m443\u001B[0m - \u001B[1mproblem size: 13\u001B[0m\n",
      "\u001B[32m2025-07-22 16:43:47.582\u001B[0m | \u001B[1mINFO    \u001B[0m | \u001B[36msrc.vrp_study.pdptw_model.routing_model\u001B[0m:\u001B[36mdo_solve\u001B[0m:\u001B[36m378\u001B[0m - \u001B[1mНачало создания модели\u001B[0m\n",
      "\u001B[32m2025-07-22 16:43:47.584\u001B[0m | \u001B[1mINFO    \u001B[0m | \u001B[36msrc.vrp_study.pdptw_model.routing_model\u001B[0m:\u001B[36madd_distance_dimension\u001B[0m:\u001B[36m299\u001B[0m - \u001B[1mДобавление размерности для расстояния\u001B[0m\n",
      "\u001B[32m2025-07-22 16:43:47.586\u001B[0m | \u001B[1mINFO    \u001B[0m | \u001B[36msrc.vrp_study.pdptw_model.routing_model\u001B[0m:\u001B[36madd_count_dimension\u001B[0m:\u001B[36m335\u001B[0m - \u001B[1mДобавление размерности для расстояния\u001B[0m\n",
      "\u001B[32m2025-07-22 16:43:47.587\u001B[0m | \u001B[1mINFO    \u001B[0m | \u001B[36msrc.vrp_study.pdptw_model.routing_model\u001B[0m:\u001B[36madd_pick_up_and_delivery\u001B[0m:\u001B[36m269\u001B[0m - \u001B[1mДобавление ограничения для порядка доставки\u001B[0m\n",
      "\u001B[32m2025-07-22 16:43:47.588\u001B[0m | \u001B[1mINFO    \u001B[0m | \u001B[36msrc.vrp_study.pdptw_model.routing_model\u001B[0m:\u001B[36madd_time_window\u001B[0m:\u001B[36m194\u001B[0m - \u001B[1madd time\u001B[0m\n",
      "\u001B[32m2025-07-22 16:43:47.590\u001B[0m | \u001B[1mINFO    \u001B[0m | \u001B[36msrc.vrp_study.pdptw_model.routing_model\u001B[0m:\u001B[36madd_mass_constraint\u001B[0m:\u001B[36m177\u001B[0m - \u001B[1mДобавление ограничений для массы\u001B[0m\n",
      "\u001B[32m2025-07-22 16:43:47.594\u001B[0m | \u001B[1mINFO    \u001B[0m | \u001B[36msrc.vrp_study.pdptw_model.routing_model\u001B[0m:\u001B[36mdo_solve\u001B[0m:\u001B[36m407\u001B[0m - \u001B[1mНачало решения\u001B[0m\n",
      "\u001B[32m2025-07-22 16:43:47.602\u001B[0m | \u001B[34m\u001B[1mDEBUG   \u001B[0m | \u001B[36msrc.vrp_study.pdptw_model.routing_model\u001B[0m:\u001B[36m__call__\u001B[0m:\u001B[36m40\u001B[0m - \u001B[34m\u001B[1mtime: 0.011; new solution (1): 1; best solution: 1\u001B[0m\n",
      "\u001B[32m2025-07-22 16:43:47.634\u001B[0m | \u001B[1mINFO    \u001B[0m | \u001B[36msrc.vrp_study.pdptw_model.routing_model\u001B[0m:\u001B[36mdo_solve\u001B[0m:\u001B[36m423\u001B[0m - \u001B[1mfind solution\u001B[0m\n",
      "\u001B[32m2025-07-22 16:43:47.637\u001B[0m | \u001B[1mINFO    \u001B[0m | \u001B[36msrc.vrp_study.pdptw_model.routing_model\u001B[0m:\u001B[36mfind_optimal_paths\u001B[0m:\u001B[36m451\u001B[0m - \u001B[1mbest_score: 1\u001B[0m\n",
      "\u001B[32m2025-07-22 16:43:47.638\u001B[0m | \u001B[1mINFO    \u001B[0m | \u001B[36msrc.vrp_study.pdptw_model.routing_model\u001B[0m:\u001B[36mdo_solve\u001B[0m:\u001B[36m378\u001B[0m - \u001B[1mНачало создания модели\u001B[0m\n",
      "\u001B[32m2025-07-22 16:43:47.640\u001B[0m | \u001B[1mINFO    \u001B[0m | \u001B[36msrc.vrp_study.pdptw_model.routing_model\u001B[0m:\u001B[36madd_distance_dimension\u001B[0m:\u001B[36m299\u001B[0m - \u001B[1mДобавление размерности для расстояния\u001B[0m\n",
      "\u001B[32m2025-07-22 16:43:47.642\u001B[0m | \u001B[1mINFO    \u001B[0m | \u001B[36msrc.vrp_study.pdptw_model.routing_model\u001B[0m:\u001B[36madd_count_dimension\u001B[0m:\u001B[36m335\u001B[0m - \u001B[1mДобавление размерности для расстояния\u001B[0m\n",
      "\u001B[32m2025-07-22 16:43:47.643\u001B[0m | \u001B[1mINFO    \u001B[0m | \u001B[36msrc.vrp_study.pdptw_model.routing_model\u001B[0m:\u001B[36madd_pick_up_and_delivery\u001B[0m:\u001B[36m269\u001B[0m - \u001B[1mДобавление ограничения для порядка доставки\u001B[0m\n",
      "\u001B[32m2025-07-22 16:43:47.644\u001B[0m | \u001B[1mINFO    \u001B[0m | \u001B[36msrc.vrp_study.pdptw_model.routing_model\u001B[0m:\u001B[36madd_vehicles_cost\u001B[0m:\u001B[36m243\u001B[0m - \u001B[1mДобавление стоимостей машин\u001B[0m\n",
      "\u001B[32m2025-07-22 16:43:47.645\u001B[0m | \u001B[1mINFO    \u001B[0m | \u001B[36msrc.vrp_study.pdptw_model.routing_model\u001B[0m:\u001B[36madd_time_window\u001B[0m:\u001B[36m194\u001B[0m - \u001B[1madd time\u001B[0m\n",
      "\u001B[32m2025-07-22 16:43:47.647\u001B[0m | \u001B[1mINFO    \u001B[0m | \u001B[36msrc.vrp_study.pdptw_model.routing_model\u001B[0m:\u001B[36madd_mass_constraint\u001B[0m:\u001B[36m177\u001B[0m - \u001B[1mДобавление ограничений для массы\u001B[0m\n",
      "\u001B[32m2025-07-22 16:43:47.648\u001B[0m | \u001B[1mINFO    \u001B[0m | \u001B[36msrc.vrp_study.pdptw_model.routing_model\u001B[0m:\u001B[36mdo_solve\u001B[0m:\u001B[36m407\u001B[0m - \u001B[1mНачало решения\u001B[0m\n",
      "\u001B[32m2025-07-22 16:43:47.650\u001B[0m | \u001B[1mINFO    \u001B[0m | \u001B[36msrc.vrp_study.pdptw_model.routing_model\u001B[0m:\u001B[36mdo_solve\u001B[0m:\u001B[36m410\u001B[0m - \u001B[1muse initial_solution: 1\u001B[0m\n",
      "\u001B[32m2025-07-22 16:43:47.652\u001B[0m | \u001B[34m\u001B[1mDEBUG   \u001B[0m | \u001B[36msrc.vrp_study.pdptw_model.routing_model\u001B[0m:\u001B[36m__call__\u001B[0m:\u001B[36m40\u001B[0m - \u001B[34m\u001B[1mtime: 0.005; new solution (1): 5079; best solution: 5079\u001B[0m\n",
      "\u001B[32m2025-07-22 16:43:47.654\u001B[0m | \u001B[34m\u001B[1mDEBUG   \u001B[0m | \u001B[36msrc.vrp_study.pdptw_model.routing_model\u001B[0m:\u001B[36m__call__\u001B[0m:\u001B[36m40\u001B[0m - \u001B[34m\u001B[1mtime: 0.007; new solution (2): 5079; best solution: 5079\u001B[0m\n",
      "\u001B[32m2025-07-22 16:43:47.686\u001B[0m | \u001B[1mINFO    \u001B[0m | \u001B[36msrc.vrp_study.pdptw_model.routing_model\u001B[0m:\u001B[36mdo_solve\u001B[0m:\u001B[36m423\u001B[0m - \u001B[1mfind solution\u001B[0m\n",
      "\u001B[32m2025-07-22 16:43:47.688\u001B[0m | \u001B[1mINFO    \u001B[0m | \u001B[36msrc.vrp_study.pdptw_model.routing_model\u001B[0m:\u001B[36mfind_optimal_paths\u001B[0m:\u001B[36m464\u001B[0m - \u001B[1mbest_score: 50.79\u001B[0m\n",
      "\u001B[32m2025-07-22 16:43:47.689\u001B[0m | \u001B[1mINFO    \u001B[0m | \u001B[36msrc.vrp_study.pdptw_model.solution_builder\u001B[0m:\u001B[36mget_initial_solution\u001B[0m:\u001B[36m138\u001B[0m - \u001B[1m[[0, 1, 2, 9, 10, 11, 3, 5, 12, 7, 8, 6, 4, 0], [], [], [], [], [], [], [], [], [], [], [], [], [], [], [], [], [], [], [], [], []]\u001B[0m\n",
      "\u001B[32m2025-07-22 16:43:47.693\u001B[0m | \u001B[1mINFO    \u001B[0m | \u001B[36msrc.vrp_study.pdptw_model.solution_builder\u001B[0m:\u001B[36mget_initial_solution\u001B[0m:\u001B[36m118\u001B[0m - \u001B[1m(1, 32.074999999999996)\u001B[0m\n",
      "\u001B[32m2025-07-22 16:43:47.695\u001B[0m | \u001B[1mINFO    \u001B[0m | \u001B[36msrc.vrp_study.pdptw_model.solution_builder\u001B[0m:\u001B[36mget_initial_solution\u001B[0m:\u001B[36m118\u001B[0m - \u001B[1m(1, 16.0875)\u001B[0m\n",
      "\u001B[32m2025-07-22 16:43:47.697\u001B[0m | \u001B[1mINFO    \u001B[0m | \u001B[36msrc.vrp_study.pdptw_model.solution_builder\u001B[0m:\u001B[36mget_initial_solution\u001B[0m:\u001B[36m118\u001B[0m - \u001B[1m(1, 8.09375)\u001B[0m\n",
      "\u001B[32m2025-07-22 16:43:47.698\u001B[0m | \u001B[1mINFO    \u001B[0m | \u001B[36msrc.vrp_study.pdptw_model.solution_builder\u001B[0m:\u001B[36mget_initial_solution\u001B[0m:\u001B[36m118\u001B[0m - \u001B[1m(1, 4.096875)\u001B[0m\n",
      "\u001B[32m2025-07-22 16:43:47.700\u001B[0m | \u001B[1mINFO    \u001B[0m | \u001B[36msrc.vrp_study.pdptw_model.solution_builder\u001B[0m:\u001B[36mget_initial_solution\u001B[0m:\u001B[36m118\u001B[0m - \u001B[1m(1, 2.0984374999999997)\u001B[0m\n",
      "\u001B[32m2025-07-22 16:43:47.701\u001B[0m | \u001B[1mINFO    \u001B[0m | \u001B[36msrc.vrp_study.pdptw_model.solution_builder\u001B[0m:\u001B[36mget_initial_solution\u001B[0m:\u001B[36m118\u001B[0m - \u001B[1m(1, 1.09921875)\u001B[0m\n",
      "\u001B[32m2025-07-22 16:43:47.703\u001B[0m | \u001B[1mINFO    \u001B[0m | \u001B[36msrc.vrp_study.pdptw_model.solution_builder\u001B[0m:\u001B[36mget_initial_solution\u001B[0m:\u001B[36m118\u001B[0m - \u001B[1m(4, 0.599609375)\u001B[0m\n",
      "\u001B[32m2025-07-22 16:43:47.706\u001B[0m | \u001B[1mINFO    \u001B[0m | \u001B[36msrc.vrp_study.pdptw_model.solution_builder\u001B[0m:\u001B[36mget_initial_solution\u001B[0m:\u001B[36m118\u001B[0m - \u001B[1m(4, 0.3498046875)\u001B[0m\n",
      "\u001B[32m2025-07-22 16:43:47.710\u001B[0m | \u001B[1mINFO    \u001B[0m | \u001B[36msrc.vrp_study.pdptw_model.solution_builder\u001B[0m:\u001B[36mget_initial_solution\u001B[0m:\u001B[36m118\u001B[0m - \u001B[1m(5, 0.22490234375)\u001B[0m\n",
      "\u001B[32m2025-07-22 16:43:47.714\u001B[0m | \u001B[1mINFO    \u001B[0m | \u001B[36msrc.vrp_study.pdptw_model.solution_builder\u001B[0m:\u001B[36mget_initial_solution\u001B[0m:\u001B[36m118\u001B[0m - \u001B[1m(5, 0.16245117187500002)\u001B[0m\n"
     ]
    },
    {
     "data": {
      "text/plain": "  0%|          | 0/1 [00:00<?, ?it/s]",
      "application/vnd.jupyter.widget-view+json": {
       "version_major": 2,
       "version_minor": 0,
       "model_id": "2f17dfc376e1492abf5c9e1aaf6d3c2e"
      }
     },
     "metadata": {},
     "output_type": "display_data"
    },
    {
     "name": "stderr",
     "output_type": "stream",
     "text": [
      "\u001B[32m2025-07-22 16:43:47.731\u001B[0m | \u001B[1mINFO    \u001B[0m | \u001B[36msrc.vrp_study.pdptw_model.routing_model\u001B[0m:\u001B[36mfind_optimal_paths\u001B[0m:\u001B[36m443\u001B[0m - \u001B[1mproblem size: 11\u001B[0m\n",
      "\u001B[32m2025-07-22 16:43:47.732\u001B[0m | \u001B[1mINFO    \u001B[0m | \u001B[36msrc.vrp_study.pdptw_model.routing_model\u001B[0m:\u001B[36mdo_solve\u001B[0m:\u001B[36m378\u001B[0m - \u001B[1mНачало создания модели\u001B[0m\n",
      "\u001B[32m2025-07-22 16:43:47.734\u001B[0m | \u001B[1mINFO    \u001B[0m | \u001B[36msrc.vrp_study.pdptw_model.routing_model\u001B[0m:\u001B[36madd_distance_dimension\u001B[0m:\u001B[36m299\u001B[0m - \u001B[1mДобавление размерности для расстояния\u001B[0m\n",
      "\u001B[32m2025-07-22 16:43:47.736\u001B[0m | \u001B[1mINFO    \u001B[0m | \u001B[36msrc.vrp_study.pdptw_model.routing_model\u001B[0m:\u001B[36madd_count_dimension\u001B[0m:\u001B[36m335\u001B[0m - \u001B[1mДобавление размерности для расстояния\u001B[0m\n",
      "\u001B[32m2025-07-22 16:43:47.737\u001B[0m | \u001B[1mINFO    \u001B[0m | \u001B[36msrc.vrp_study.pdptw_model.routing_model\u001B[0m:\u001B[36madd_pick_up_and_delivery\u001B[0m:\u001B[36m269\u001B[0m - \u001B[1mДобавление ограничения для порядка доставки\u001B[0m\n",
      "\u001B[32m2025-07-22 16:43:47.739\u001B[0m | \u001B[1mINFO    \u001B[0m | \u001B[36msrc.vrp_study.pdptw_model.routing_model\u001B[0m:\u001B[36madd_time_window\u001B[0m:\u001B[36m194\u001B[0m - \u001B[1madd time\u001B[0m\n",
      "\u001B[32m2025-07-22 16:43:47.740\u001B[0m | \u001B[1mINFO    \u001B[0m | \u001B[36msrc.vrp_study.pdptw_model.routing_model\u001B[0m:\u001B[36madd_mass_constraint\u001B[0m:\u001B[36m177\u001B[0m - \u001B[1mДобавление ограничений для массы\u001B[0m\n",
      "\u001B[32m2025-07-22 16:43:47.744\u001B[0m | \u001B[1mINFO    \u001B[0m | \u001B[36msrc.vrp_study.pdptw_model.routing_model\u001B[0m:\u001B[36mdo_solve\u001B[0m:\u001B[36m407\u001B[0m - \u001B[1mНачало решения\u001B[0m\n",
      "\u001B[32m2025-07-22 16:43:47.751\u001B[0m | \u001B[34m\u001B[1mDEBUG   \u001B[0m | \u001B[36msrc.vrp_study.pdptw_model.routing_model\u001B[0m:\u001B[36m__call__\u001B[0m:\u001B[36m40\u001B[0m - \u001B[34m\u001B[1mtime: 0.010; new solution (1): 1; best solution: 1\u001B[0m\n",
      "\u001B[32m2025-07-22 16:43:47.775\u001B[0m | \u001B[1mINFO    \u001B[0m | \u001B[36msrc.vrp_study.pdptw_model.routing_model\u001B[0m:\u001B[36mdo_solve\u001B[0m:\u001B[36m423\u001B[0m - \u001B[1mfind solution\u001B[0m\n",
      "\u001B[32m2025-07-22 16:43:47.776\u001B[0m | \u001B[1mINFO    \u001B[0m | \u001B[36msrc.vrp_study.pdptw_model.routing_model\u001B[0m:\u001B[36mfind_optimal_paths\u001B[0m:\u001B[36m451\u001B[0m - \u001B[1mbest_score: 1\u001B[0m\n",
      "\u001B[32m2025-07-22 16:43:47.778\u001B[0m | \u001B[1mINFO    \u001B[0m | \u001B[36msrc.vrp_study.pdptw_model.routing_model\u001B[0m:\u001B[36mdo_solve\u001B[0m:\u001B[36m378\u001B[0m - \u001B[1mНачало создания модели\u001B[0m\n",
      "\u001B[32m2025-07-22 16:43:47.781\u001B[0m | \u001B[1mINFO    \u001B[0m | \u001B[36msrc.vrp_study.pdptw_model.routing_model\u001B[0m:\u001B[36madd_distance_dimension\u001B[0m:\u001B[36m299\u001B[0m - \u001B[1mДобавление размерности для расстояния\u001B[0m\n",
      "\u001B[32m2025-07-22 16:43:47.783\u001B[0m | \u001B[1mINFO    \u001B[0m | \u001B[36msrc.vrp_study.pdptw_model.routing_model\u001B[0m:\u001B[36madd_count_dimension\u001B[0m:\u001B[36m335\u001B[0m - \u001B[1mДобавление размерности для расстояния\u001B[0m\n",
      "\u001B[32m2025-07-22 16:43:47.784\u001B[0m | \u001B[1mINFO    \u001B[0m | \u001B[36msrc.vrp_study.pdptw_model.routing_model\u001B[0m:\u001B[36madd_pick_up_and_delivery\u001B[0m:\u001B[36m269\u001B[0m - \u001B[1mДобавление ограничения для порядка доставки\u001B[0m\n",
      "\u001B[32m2025-07-22 16:43:47.786\u001B[0m | \u001B[1mINFO    \u001B[0m | \u001B[36msrc.vrp_study.pdptw_model.routing_model\u001B[0m:\u001B[36madd_vehicles_cost\u001B[0m:\u001B[36m243\u001B[0m - \u001B[1mДобавление стоимостей машин\u001B[0m\n",
      "\u001B[32m2025-07-22 16:43:47.787\u001B[0m | \u001B[1mINFO    \u001B[0m | \u001B[36msrc.vrp_study.pdptw_model.routing_model\u001B[0m:\u001B[36madd_time_window\u001B[0m:\u001B[36m194\u001B[0m - \u001B[1madd time\u001B[0m\n",
      "\u001B[32m2025-07-22 16:43:47.788\u001B[0m | \u001B[1mINFO    \u001B[0m | \u001B[36msrc.vrp_study.pdptw_model.routing_model\u001B[0m:\u001B[36madd_mass_constraint\u001B[0m:\u001B[36m177\u001B[0m - \u001B[1mДобавление ограничений для массы\u001B[0m\n",
      "\u001B[32m2025-07-22 16:43:47.792\u001B[0m | \u001B[1mINFO    \u001B[0m | \u001B[36msrc.vrp_study.pdptw_model.routing_model\u001B[0m:\u001B[36mdo_solve\u001B[0m:\u001B[36m407\u001B[0m - \u001B[1mНачало решения\u001B[0m\n",
      "\u001B[32m2025-07-22 16:43:47.796\u001B[0m | \u001B[1mINFO    \u001B[0m | \u001B[36msrc.vrp_study.pdptw_model.routing_model\u001B[0m:\u001B[36mdo_solve\u001B[0m:\u001B[36m410\u001B[0m - \u001B[1muse initial_solution: 1\u001B[0m\n",
      "\u001B[32m2025-07-22 16:43:47.798\u001B[0m | \u001B[34m\u001B[1mDEBUG   \u001B[0m | \u001B[36msrc.vrp_study.pdptw_model.routing_model\u001B[0m:\u001B[36m__call__\u001B[0m:\u001B[36m40\u001B[0m - \u001B[34m\u001B[1mtime: 0.007; new solution (1): 9721; best solution: 9721\u001B[0m\n",
      "\u001B[32m2025-07-22 16:43:47.801\u001B[0m | \u001B[34m\u001B[1mDEBUG   \u001B[0m | \u001B[36msrc.vrp_study.pdptw_model.routing_model\u001B[0m:\u001B[36m__call__\u001B[0m:\u001B[36m40\u001B[0m - \u001B[34m\u001B[1mtime: 0.009; new solution (2): 9721; best solution: 9721\u001B[0m\n",
      "\u001B[32m2025-07-22 16:43:47.821\u001B[0m | \u001B[1mINFO    \u001B[0m | \u001B[36msrc.vrp_study.pdptw_model.routing_model\u001B[0m:\u001B[36mdo_solve\u001B[0m:\u001B[36m423\u001B[0m - \u001B[1mfind solution\u001B[0m\n",
      "\u001B[32m2025-07-22 16:43:47.822\u001B[0m | \u001B[1mINFO    \u001B[0m | \u001B[36msrc.vrp_study.pdptw_model.routing_model\u001B[0m:\u001B[36mfind_optimal_paths\u001B[0m:\u001B[36m464\u001B[0m - \u001B[1mbest_score: 97.21\u001B[0m\n",
      "\u001B[32m2025-07-22 16:43:47.824\u001B[0m | \u001B[1mINFO    \u001B[0m | \u001B[36msrc.vrp_study.pdptw_model.solution_builder\u001B[0m:\u001B[36mget_initial_solution\u001B[0m:\u001B[36m138\u001B[0m - \u001B[1m[[0, 1, 3, 2, 7, 4, 5, 8, 9, 10, 6, 0], [], [], [], [], [], [], [], [], [], [], [], [], [], [], [], [], [], [], [], []]\u001B[0m\n",
      "\u001B[32m2025-07-22 16:43:47.829\u001B[0m | \u001B[1mINFO    \u001B[0m | \u001B[36msrc.vrp_study.pdptw_model.solution_builder\u001B[0m:\u001B[36mget_initial_solution\u001B[0m:\u001B[36m118\u001B[0m - \u001B[1m(1, 32.074999999999996)\u001B[0m\n",
      "\u001B[32m2025-07-22 16:43:47.831\u001B[0m | \u001B[1mINFO    \u001B[0m | \u001B[36msrc.vrp_study.pdptw_model.solution_builder\u001B[0m:\u001B[36mget_initial_solution\u001B[0m:\u001B[36m118\u001B[0m - \u001B[1m(1, 16.0875)\u001B[0m\n",
      "\u001B[32m2025-07-22 16:43:47.833\u001B[0m | \u001B[1mINFO    \u001B[0m | \u001B[36msrc.vrp_study.pdptw_model.solution_builder\u001B[0m:\u001B[36mget_initial_solution\u001B[0m:\u001B[36m118\u001B[0m - \u001B[1m(1, 8.09375)\u001B[0m\n",
      "\u001B[32m2025-07-22 16:43:47.835\u001B[0m | \u001B[1mINFO    \u001B[0m | \u001B[36msrc.vrp_study.pdptw_model.solution_builder\u001B[0m:\u001B[36mget_initial_solution\u001B[0m:\u001B[36m118\u001B[0m - \u001B[1m(1, 4.096875)\u001B[0m\n",
      "\u001B[32m2025-07-22 16:43:47.836\u001B[0m | \u001B[1mINFO    \u001B[0m | \u001B[36msrc.vrp_study.pdptw_model.solution_builder\u001B[0m:\u001B[36mget_initial_solution\u001B[0m:\u001B[36m118\u001B[0m - \u001B[1m(1, 2.0984374999999997)\u001B[0m\n",
      "\u001B[32m2025-07-22 16:43:47.839\u001B[0m | \u001B[1mINFO    \u001B[0m | \u001B[36msrc.vrp_study.pdptw_model.solution_builder\u001B[0m:\u001B[36mget_initial_solution\u001B[0m:\u001B[36m118\u001B[0m - \u001B[1m(1, 1.09921875)\u001B[0m\n",
      "\u001B[32m2025-07-22 16:43:47.840\u001B[0m | \u001B[1mINFO    \u001B[0m | \u001B[36msrc.vrp_study.pdptw_model.solution_builder\u001B[0m:\u001B[36mget_initial_solution\u001B[0m:\u001B[36m118\u001B[0m - \u001B[1m(2, 0.599609375)\u001B[0m\n",
      "\u001B[32m2025-07-22 16:43:47.842\u001B[0m | \u001B[1mINFO    \u001B[0m | \u001B[36msrc.vrp_study.pdptw_model.solution_builder\u001B[0m:\u001B[36mget_initial_solution\u001B[0m:\u001B[36m118\u001B[0m - \u001B[1m(2, 0.3498046875)\u001B[0m\n",
      "\u001B[32m2025-07-22 16:43:47.844\u001B[0m | \u001B[1mINFO    \u001B[0m | \u001B[36msrc.vrp_study.pdptw_model.solution_builder\u001B[0m:\u001B[36mget_initial_solution\u001B[0m:\u001B[36m118\u001B[0m - \u001B[1m(2, 0.22490234375)\u001B[0m\n",
      "\u001B[32m2025-07-22 16:43:47.846\u001B[0m | \u001B[1mINFO    \u001B[0m | \u001B[36msrc.vrp_study.pdptw_model.solution_builder\u001B[0m:\u001B[36mget_initial_solution\u001B[0m:\u001B[36m118\u001B[0m - \u001B[1m(2, 0.16245117187500002)\u001B[0m\n"
     ]
    },
    {
     "data": {
      "text/plain": "  0%|          | 0/1 [00:00<?, ?it/s]",
      "application/vnd.jupyter.widget-view+json": {
       "version_major": 2,
       "version_minor": 0,
       "model_id": "5f1d0c24111a4b7ba2002659c10e8e40"
      }
     },
     "metadata": {},
     "output_type": "display_data"
    },
    {
     "name": "stderr",
     "output_type": "stream",
     "text": [
      "\u001B[32m2025-07-22 16:43:47.861\u001B[0m | \u001B[1mINFO    \u001B[0m | \u001B[36msrc.vrp_study.pdptw_model.routing_model\u001B[0m:\u001B[36mfind_optimal_paths\u001B[0m:\u001B[36m443\u001B[0m - \u001B[1mproblem size: 5\u001B[0m\n",
      "\u001B[32m2025-07-22 16:43:47.863\u001B[0m | \u001B[1mINFO    \u001B[0m | \u001B[36msrc.vrp_study.pdptw_model.routing_model\u001B[0m:\u001B[36mdo_solve\u001B[0m:\u001B[36m378\u001B[0m - \u001B[1mНачало создания модели\u001B[0m\n",
      "\u001B[32m2025-07-22 16:43:47.865\u001B[0m | \u001B[1mINFO    \u001B[0m | \u001B[36msrc.vrp_study.pdptw_model.routing_model\u001B[0m:\u001B[36madd_distance_dimension\u001B[0m:\u001B[36m299\u001B[0m - \u001B[1mДобавление размерности для расстояния\u001B[0m\n",
      "\u001B[32m2025-07-22 16:43:47.867\u001B[0m | \u001B[1mINFO    \u001B[0m | \u001B[36msrc.vrp_study.pdptw_model.routing_model\u001B[0m:\u001B[36madd_count_dimension\u001B[0m:\u001B[36m335\u001B[0m - \u001B[1mДобавление размерности для расстояния\u001B[0m\n",
      "\u001B[32m2025-07-22 16:43:47.868\u001B[0m | \u001B[1mINFO    \u001B[0m | \u001B[36msrc.vrp_study.pdptw_model.routing_model\u001B[0m:\u001B[36madd_pick_up_and_delivery\u001B[0m:\u001B[36m269\u001B[0m - \u001B[1mДобавление ограничения для порядка доставки\u001B[0m\n",
      "\u001B[32m2025-07-22 16:43:47.869\u001B[0m | \u001B[1mINFO    \u001B[0m | \u001B[36msrc.vrp_study.pdptw_model.routing_model\u001B[0m:\u001B[36madd_time_window\u001B[0m:\u001B[36m194\u001B[0m - \u001B[1madd time\u001B[0m\n",
      "\u001B[32m2025-07-22 16:43:47.871\u001B[0m | \u001B[1mINFO    \u001B[0m | \u001B[36msrc.vrp_study.pdptw_model.routing_model\u001B[0m:\u001B[36madd_mass_constraint\u001B[0m:\u001B[36m177\u001B[0m - \u001B[1mДобавление ограничений для массы\u001B[0m\n",
      "\u001B[32m2025-07-22 16:43:47.876\u001B[0m | \u001B[1mINFO    \u001B[0m | \u001B[36msrc.vrp_study.pdptw_model.routing_model\u001B[0m:\u001B[36mdo_solve\u001B[0m:\u001B[36m407\u001B[0m - \u001B[1mНачало решения\u001B[0m\n",
      "\u001B[32m2025-07-22 16:43:47.880\u001B[0m | \u001B[34m\u001B[1mDEBUG   \u001B[0m | \u001B[36msrc.vrp_study.pdptw_model.routing_model\u001B[0m:\u001B[36m__call__\u001B[0m:\u001B[36m40\u001B[0m - \u001B[34m\u001B[1mtime: 0.009; new solution (1): 1; best solution: 1\u001B[0m\n",
      "\u001B[32m2025-07-22 16:43:47.886\u001B[0m | \u001B[1mINFO    \u001B[0m | \u001B[36msrc.vrp_study.pdptw_model.routing_model\u001B[0m:\u001B[36mdo_solve\u001B[0m:\u001B[36m423\u001B[0m - \u001B[1mfind solution\u001B[0m\n",
      "\u001B[32m2025-07-22 16:43:47.888\u001B[0m | \u001B[1mINFO    \u001B[0m | \u001B[36msrc.vrp_study.pdptw_model.routing_model\u001B[0m:\u001B[36mfind_optimal_paths\u001B[0m:\u001B[36m451\u001B[0m - \u001B[1mbest_score: 1\u001B[0m\n",
      "\u001B[32m2025-07-22 16:43:47.889\u001B[0m | \u001B[1mINFO    \u001B[0m | \u001B[36msrc.vrp_study.pdptw_model.routing_model\u001B[0m:\u001B[36mdo_solve\u001B[0m:\u001B[36m378\u001B[0m - \u001B[1mНачало создания модели\u001B[0m\n",
      "\u001B[32m2025-07-22 16:43:47.891\u001B[0m | \u001B[1mINFO    \u001B[0m | \u001B[36msrc.vrp_study.pdptw_model.routing_model\u001B[0m:\u001B[36madd_distance_dimension\u001B[0m:\u001B[36m299\u001B[0m - \u001B[1mДобавление размерности для расстояния\u001B[0m\n",
      "\u001B[32m2025-07-22 16:43:47.893\u001B[0m | \u001B[1mINFO    \u001B[0m | \u001B[36msrc.vrp_study.pdptw_model.routing_model\u001B[0m:\u001B[36madd_count_dimension\u001B[0m:\u001B[36m335\u001B[0m - \u001B[1mДобавление размерности для расстояния\u001B[0m\n",
      "\u001B[32m2025-07-22 16:43:47.894\u001B[0m | \u001B[1mINFO    \u001B[0m | \u001B[36msrc.vrp_study.pdptw_model.routing_model\u001B[0m:\u001B[36madd_pick_up_and_delivery\u001B[0m:\u001B[36m269\u001B[0m - \u001B[1mДобавление ограничения для порядка доставки\u001B[0m\n",
      "\u001B[32m2025-07-22 16:43:47.895\u001B[0m | \u001B[1mINFO    \u001B[0m | \u001B[36msrc.vrp_study.pdptw_model.routing_model\u001B[0m:\u001B[36madd_vehicles_cost\u001B[0m:\u001B[36m243\u001B[0m - \u001B[1mДобавление стоимостей машин\u001B[0m\n",
      "\u001B[32m2025-07-22 16:43:47.896\u001B[0m | \u001B[1mINFO    \u001B[0m | \u001B[36msrc.vrp_study.pdptw_model.routing_model\u001B[0m:\u001B[36madd_time_window\u001B[0m:\u001B[36m194\u001B[0m - \u001B[1madd time\u001B[0m\n",
      "\u001B[32m2025-07-22 16:43:47.897\u001B[0m | \u001B[1mINFO    \u001B[0m | \u001B[36msrc.vrp_study.pdptw_model.routing_model\u001B[0m:\u001B[36madd_mass_constraint\u001B[0m:\u001B[36m177\u001B[0m - \u001B[1mДобавление ограничений для массы\u001B[0m\n",
      "\u001B[32m2025-07-22 16:43:47.899\u001B[0m | \u001B[1mINFO    \u001B[0m | \u001B[36msrc.vrp_study.pdptw_model.routing_model\u001B[0m:\u001B[36mdo_solve\u001B[0m:\u001B[36m407\u001B[0m - \u001B[1mНачало решения\u001B[0m\n",
      "\u001B[32m2025-07-22 16:43:47.902\u001B[0m | \u001B[1mINFO    \u001B[0m | \u001B[36msrc.vrp_study.pdptw_model.routing_model\u001B[0m:\u001B[36mdo_solve\u001B[0m:\u001B[36m410\u001B[0m - \u001B[1muse initial_solution: 1\u001B[0m\n",
      "\u001B[32m2025-07-22 16:43:47.904\u001B[0m | \u001B[34m\u001B[1mDEBUG   \u001B[0m | \u001B[36msrc.vrp_study.pdptw_model.routing_model\u001B[0m:\u001B[36m__call__\u001B[0m:\u001B[36m40\u001B[0m - \u001B[34m\u001B[1mtime: 0.006; new solution (1): 4416; best solution: 4416\u001B[0m\n",
      "\u001B[32m2025-07-22 16:43:47.906\u001B[0m | \u001B[34m\u001B[1mDEBUG   \u001B[0m | \u001B[36msrc.vrp_study.pdptw_model.routing_model\u001B[0m:\u001B[36m__call__\u001B[0m:\u001B[36m40\u001B[0m - \u001B[34m\u001B[1mtime: 0.007; new solution (2): 4416; best solution: 4416\u001B[0m\n",
      "\u001B[32m2025-07-22 16:43:47.912\u001B[0m | \u001B[1mINFO    \u001B[0m | \u001B[36msrc.vrp_study.pdptw_model.routing_model\u001B[0m:\u001B[36mdo_solve\u001B[0m:\u001B[36m423\u001B[0m - \u001B[1mfind solution\u001B[0m\n",
      "\u001B[32m2025-07-22 16:43:47.913\u001B[0m | \u001B[1mINFO    \u001B[0m | \u001B[36msrc.vrp_study.pdptw_model.routing_model\u001B[0m:\u001B[36mfind_optimal_paths\u001B[0m:\u001B[36m464\u001B[0m - \u001B[1mbest_score: 44.16\u001B[0m\n",
      "\u001B[32m2025-07-22 16:43:47.916\u001B[0m | \u001B[1mINFO    \u001B[0m | \u001B[36msrc.vrp_study.pdptw_model.solution_builder\u001B[0m:\u001B[36mget_initial_solution\u001B[0m:\u001B[36m138\u001B[0m - \u001B[1m[[0, 3, 1, 4, 2, 0], [], [], [], [], [], [], [], [], [], [], [], [], [], [], [], [], [], [], []]\u001B[0m\n",
      "\u001B[32m2025-07-22 16:43:47.919\u001B[0m | \u001B[1mINFO    \u001B[0m | \u001B[36msrc.vrp_study.pdptw_model.solution_builder\u001B[0m:\u001B[36mget_initial_solution\u001B[0m:\u001B[36m118\u001B[0m - \u001B[1m(1, 32.074999999999996)\u001B[0m\n",
      "\u001B[32m2025-07-22 16:43:47.921\u001B[0m | \u001B[1mINFO    \u001B[0m | \u001B[36msrc.vrp_study.pdptw_model.solution_builder\u001B[0m:\u001B[36mget_initial_solution\u001B[0m:\u001B[36m118\u001B[0m - \u001B[1m(1, 16.0875)\u001B[0m\n",
      "\u001B[32m2025-07-22 16:43:47.922\u001B[0m | \u001B[1mINFO    \u001B[0m | \u001B[36msrc.vrp_study.pdptw_model.solution_builder\u001B[0m:\u001B[36mget_initial_solution\u001B[0m:\u001B[36m118\u001B[0m - \u001B[1m(1, 8.09375)\u001B[0m\n",
      "\u001B[32m2025-07-22 16:43:47.924\u001B[0m | \u001B[1mINFO    \u001B[0m | \u001B[36msrc.vrp_study.pdptw_model.solution_builder\u001B[0m:\u001B[36mget_initial_solution\u001B[0m:\u001B[36m118\u001B[0m - \u001B[1m(1, 4.096875)\u001B[0m\n",
      "\u001B[32m2025-07-22 16:43:47.925\u001B[0m | \u001B[1mINFO    \u001B[0m | \u001B[36msrc.vrp_study.pdptw_model.solution_builder\u001B[0m:\u001B[36mget_initial_solution\u001B[0m:\u001B[36m118\u001B[0m - \u001B[1m(1, 2.0984374999999997)\u001B[0m\n",
      "\u001B[32m2025-07-22 16:43:47.927\u001B[0m | \u001B[1mINFO    \u001B[0m | \u001B[36msrc.vrp_study.pdptw_model.solution_builder\u001B[0m:\u001B[36mget_initial_solution\u001B[0m:\u001B[36m118\u001B[0m - \u001B[1m(1, 1.09921875)\u001B[0m\n",
      "\u001B[32m2025-07-22 16:43:47.929\u001B[0m | \u001B[1mINFO    \u001B[0m | \u001B[36msrc.vrp_study.pdptw_model.solution_builder\u001B[0m:\u001B[36mget_initial_solution\u001B[0m:\u001B[36m118\u001B[0m - \u001B[1m(2, 0.599609375)\u001B[0m\n",
      "\u001B[32m2025-07-22 16:43:47.931\u001B[0m | \u001B[1mINFO    \u001B[0m | \u001B[36msrc.vrp_study.pdptw_model.solution_builder\u001B[0m:\u001B[36mget_initial_solution\u001B[0m:\u001B[36m118\u001B[0m - \u001B[1m(2, 0.3498046875)\u001B[0m\n",
      "\u001B[32m2025-07-22 16:43:47.932\u001B[0m | \u001B[1mINFO    \u001B[0m | \u001B[36msrc.vrp_study.pdptw_model.solution_builder\u001B[0m:\u001B[36mget_initial_solution\u001B[0m:\u001B[36m118\u001B[0m - \u001B[1m(2, 0.22490234375)\u001B[0m\n",
      "\u001B[32m2025-07-22 16:43:47.934\u001B[0m | \u001B[1mINFO    \u001B[0m | \u001B[36msrc.vrp_study.pdptw_model.solution_builder\u001B[0m:\u001B[36mget_initial_solution\u001B[0m:\u001B[36m118\u001B[0m - \u001B[1m(2, 0.16245117187500002)\u001B[0m\n"
     ]
    },
    {
     "data": {
      "text/plain": "  0%|          | 0/1 [00:00<?, ?it/s]",
      "application/vnd.jupyter.widget-view+json": {
       "version_major": 2,
       "version_minor": 0,
       "model_id": "471ce8d190c64c9b8b8c5ebddc593599"
      }
     },
     "metadata": {},
     "output_type": "display_data"
    },
    {
     "name": "stderr",
     "output_type": "stream",
     "text": [
      "\u001B[32m2025-07-22 16:43:47.952\u001B[0m | \u001B[1mINFO    \u001B[0m | \u001B[36msrc.vrp_study.pdptw_model.routing_model\u001B[0m:\u001B[36mfind_optimal_paths\u001B[0m:\u001B[36m443\u001B[0m - \u001B[1mproblem size: 5\u001B[0m\n",
      "\u001B[32m2025-07-22 16:43:47.955\u001B[0m | \u001B[1mINFO    \u001B[0m | \u001B[36msrc.vrp_study.pdptw_model.routing_model\u001B[0m:\u001B[36mdo_solve\u001B[0m:\u001B[36m378\u001B[0m - \u001B[1mНачало создания модели\u001B[0m\n",
      "\u001B[32m2025-07-22 16:43:47.958\u001B[0m | \u001B[1mINFO    \u001B[0m | \u001B[36msrc.vrp_study.pdptw_model.routing_model\u001B[0m:\u001B[36madd_distance_dimension\u001B[0m:\u001B[36m299\u001B[0m - \u001B[1mДобавление размерности для расстояния\u001B[0m\n",
      "\u001B[32m2025-07-22 16:43:47.960\u001B[0m | \u001B[1mINFO    \u001B[0m | \u001B[36msrc.vrp_study.pdptw_model.routing_model\u001B[0m:\u001B[36madd_count_dimension\u001B[0m:\u001B[36m335\u001B[0m - \u001B[1mДобавление размерности для расстояния\u001B[0m\n",
      "\u001B[32m2025-07-22 16:43:47.961\u001B[0m | \u001B[1mINFO    \u001B[0m | \u001B[36msrc.vrp_study.pdptw_model.routing_model\u001B[0m:\u001B[36madd_pick_up_and_delivery\u001B[0m:\u001B[36m269\u001B[0m - \u001B[1mДобавление ограничения для порядка доставки\u001B[0m\n",
      "\u001B[32m2025-07-22 16:43:47.962\u001B[0m | \u001B[1mINFO    \u001B[0m | \u001B[36msrc.vrp_study.pdptw_model.routing_model\u001B[0m:\u001B[36madd_time_window\u001B[0m:\u001B[36m194\u001B[0m - \u001B[1madd time\u001B[0m\n",
      "\u001B[32m2025-07-22 16:43:47.965\u001B[0m | \u001B[1mINFO    \u001B[0m | \u001B[36msrc.vrp_study.pdptw_model.routing_model\u001B[0m:\u001B[36madd_mass_constraint\u001B[0m:\u001B[36m177\u001B[0m - \u001B[1mДобавление ограничений для массы\u001B[0m\n",
      "\u001B[32m2025-07-22 16:43:47.969\u001B[0m | \u001B[1mINFO    \u001B[0m | \u001B[36msrc.vrp_study.pdptw_model.routing_model\u001B[0m:\u001B[36mdo_solve\u001B[0m:\u001B[36m407\u001B[0m - \u001B[1mНачало решения\u001B[0m\n",
      "\u001B[32m2025-07-22 16:43:47.973\u001B[0m | \u001B[34m\u001B[1mDEBUG   \u001B[0m | \u001B[36msrc.vrp_study.pdptw_model.routing_model\u001B[0m:\u001B[36m__call__\u001B[0m:\u001B[36m40\u001B[0m - \u001B[34m\u001B[1mtime: 0.008; new solution (1): 1; best solution: 1\u001B[0m\n",
      "\u001B[32m2025-07-22 16:43:47.981\u001B[0m | \u001B[1mINFO    \u001B[0m | \u001B[36msrc.vrp_study.pdptw_model.routing_model\u001B[0m:\u001B[36mdo_solve\u001B[0m:\u001B[36m423\u001B[0m - \u001B[1mfind solution\u001B[0m\n",
      "\u001B[32m2025-07-22 16:43:47.983\u001B[0m | \u001B[1mINFO    \u001B[0m | \u001B[36msrc.vrp_study.pdptw_model.routing_model\u001B[0m:\u001B[36mfind_optimal_paths\u001B[0m:\u001B[36m451\u001B[0m - \u001B[1mbest_score: 1\u001B[0m\n",
      "\u001B[32m2025-07-22 16:43:47.984\u001B[0m | \u001B[1mINFO    \u001B[0m | \u001B[36msrc.vrp_study.pdptw_model.routing_model\u001B[0m:\u001B[36mdo_solve\u001B[0m:\u001B[36m378\u001B[0m - \u001B[1mНачало создания модели\u001B[0m\n",
      "\u001B[32m2025-07-22 16:43:47.986\u001B[0m | \u001B[1mINFO    \u001B[0m | \u001B[36msrc.vrp_study.pdptw_model.routing_model\u001B[0m:\u001B[36madd_distance_dimension\u001B[0m:\u001B[36m299\u001B[0m - \u001B[1mДобавление размерности для расстояния\u001B[0m\n",
      "\u001B[32m2025-07-22 16:43:47.988\u001B[0m | \u001B[1mINFO    \u001B[0m | \u001B[36msrc.vrp_study.pdptw_model.routing_model\u001B[0m:\u001B[36madd_count_dimension\u001B[0m:\u001B[36m335\u001B[0m - \u001B[1mДобавление размерности для расстояния\u001B[0m\n",
      "\u001B[32m2025-07-22 16:43:47.989\u001B[0m | \u001B[1mINFO    \u001B[0m | \u001B[36msrc.vrp_study.pdptw_model.routing_model\u001B[0m:\u001B[36madd_pick_up_and_delivery\u001B[0m:\u001B[36m269\u001B[0m - \u001B[1mДобавление ограничения для порядка доставки\u001B[0m\n",
      "\u001B[32m2025-07-22 16:43:47.991\u001B[0m | \u001B[1mINFO    \u001B[0m | \u001B[36msrc.vrp_study.pdptw_model.routing_model\u001B[0m:\u001B[36madd_vehicles_cost\u001B[0m:\u001B[36m243\u001B[0m - \u001B[1mДобавление стоимостей машин\u001B[0m\n",
      "\u001B[32m2025-07-22 16:43:47.991\u001B[0m | \u001B[1mINFO    \u001B[0m | \u001B[36msrc.vrp_study.pdptw_model.routing_model\u001B[0m:\u001B[36madd_time_window\u001B[0m:\u001B[36m194\u001B[0m - \u001B[1madd time\u001B[0m\n",
      "\u001B[32m2025-07-22 16:43:47.994\u001B[0m | \u001B[1mINFO    \u001B[0m | \u001B[36msrc.vrp_study.pdptw_model.routing_model\u001B[0m:\u001B[36madd_mass_constraint\u001B[0m:\u001B[36m177\u001B[0m - \u001B[1mДобавление ограничений для массы\u001B[0m\n",
      "\u001B[32m2025-07-22 16:43:47.996\u001B[0m | \u001B[1mINFO    \u001B[0m | \u001B[36msrc.vrp_study.pdptw_model.routing_model\u001B[0m:\u001B[36mdo_solve\u001B[0m:\u001B[36m407\u001B[0m - \u001B[1mНачало решения\u001B[0m\n",
      "\u001B[32m2025-07-22 16:43:47.998\u001B[0m | \u001B[1mINFO    \u001B[0m | \u001B[36msrc.vrp_study.pdptw_model.routing_model\u001B[0m:\u001B[36mdo_solve\u001B[0m:\u001B[36m410\u001B[0m - \u001B[1muse initial_solution: 1\u001B[0m\n",
      "\u001B[32m2025-07-22 16:43:48.000\u001B[0m | \u001B[34m\u001B[1mDEBUG   \u001B[0m | \u001B[36msrc.vrp_study.pdptw_model.routing_model\u001B[0m:\u001B[36m__call__\u001B[0m:\u001B[36m40\u001B[0m - \u001B[34m\u001B[1mtime: 0.005; new solution (1): 5168; best solution: 5168\u001B[0m\n",
      "\u001B[32m2025-07-22 16:43:48.002\u001B[0m | \u001B[34m\u001B[1mDEBUG   \u001B[0m | \u001B[36msrc.vrp_study.pdptw_model.routing_model\u001B[0m:\u001B[36m__call__\u001B[0m:\u001B[36m40\u001B[0m - \u001B[34m\u001B[1mtime: 0.007; new solution (2): 5168; best solution: 5168\u001B[0m\n",
      "\u001B[32m2025-07-22 16:43:48.006\u001B[0m | \u001B[1mINFO    \u001B[0m | \u001B[36msrc.vrp_study.pdptw_model.routing_model\u001B[0m:\u001B[36mdo_solve\u001B[0m:\u001B[36m423\u001B[0m - \u001B[1mfind solution\u001B[0m\n",
      "\u001B[32m2025-07-22 16:43:48.008\u001B[0m | \u001B[1mINFO    \u001B[0m | \u001B[36msrc.vrp_study.pdptw_model.routing_model\u001B[0m:\u001B[36mfind_optimal_paths\u001B[0m:\u001B[36m464\u001B[0m - \u001B[1mbest_score: 51.68\u001B[0m\n",
      "\u001B[32m2025-07-22 16:43:48.009\u001B[0m | \u001B[1mINFO    \u001B[0m | \u001B[36msrc.vrp_study.pdptw_model.solution_builder\u001B[0m:\u001B[36mget_initial_solution\u001B[0m:\u001B[36m138\u001B[0m - \u001B[1m[[0, 3, 4, 1, 2, 0], [], [], [], [], [], [], [], [], [], [], [], [], [], [], [], [], [], []]\u001B[0m\n"
     ]
    },
    {
     "data": {
      "text/plain": "  0%|          | 0/1 [00:00<?, ?it/s]",
      "application/vnd.jupyter.widget-view+json": {
       "version_major": 2,
       "version_minor": 0,
       "model_id": "abd13c4abafc4ad59603187874e00d9c"
      }
     },
     "metadata": {},
     "output_type": "display_data"
    },
    {
     "name": "stderr",
     "output_type": "stream",
     "text": [
      "\u001B[32m2025-07-22 16:43:48.027\u001B[0m | \u001B[1mINFO    \u001B[0m | \u001B[36msrc.vrp_study.pdptw_model.routing_model\u001B[0m:\u001B[36mfind_optimal_paths\u001B[0m:\u001B[36m443\u001B[0m - \u001B[1mproblem size: 3\u001B[0m\n",
      "\u001B[32m2025-07-22 16:43:48.029\u001B[0m | \u001B[1mINFO    \u001B[0m | \u001B[36msrc.vrp_study.pdptw_model.routing_model\u001B[0m:\u001B[36mdo_solve\u001B[0m:\u001B[36m378\u001B[0m - \u001B[1mНачало создания модели\u001B[0m\n",
      "\u001B[32m2025-07-22 16:43:48.031\u001B[0m | \u001B[1mINFO    \u001B[0m | \u001B[36msrc.vrp_study.pdptw_model.routing_model\u001B[0m:\u001B[36madd_distance_dimension\u001B[0m:\u001B[36m299\u001B[0m - \u001B[1mДобавление размерности для расстояния\u001B[0m\n",
      "\u001B[32m2025-07-22 16:43:48.033\u001B[0m | \u001B[1mINFO    \u001B[0m | \u001B[36msrc.vrp_study.pdptw_model.routing_model\u001B[0m:\u001B[36madd_count_dimension\u001B[0m:\u001B[36m335\u001B[0m - \u001B[1mДобавление размерности для расстояния\u001B[0m\n",
      "\u001B[32m2025-07-22 16:43:48.034\u001B[0m | \u001B[1mINFO    \u001B[0m | \u001B[36msrc.vrp_study.pdptw_model.routing_model\u001B[0m:\u001B[36madd_pick_up_and_delivery\u001B[0m:\u001B[36m269\u001B[0m - \u001B[1mДобавление ограничения для порядка доставки\u001B[0m\n",
      "\u001B[32m2025-07-22 16:43:48.036\u001B[0m | \u001B[1mINFO    \u001B[0m | \u001B[36msrc.vrp_study.pdptw_model.routing_model\u001B[0m:\u001B[36madd_time_window\u001B[0m:\u001B[36m194\u001B[0m - \u001B[1madd time\u001B[0m\n",
      "\u001B[32m2025-07-22 16:43:48.037\u001B[0m | \u001B[1mINFO    \u001B[0m | \u001B[36msrc.vrp_study.pdptw_model.routing_model\u001B[0m:\u001B[36madd_mass_constraint\u001B[0m:\u001B[36m177\u001B[0m - \u001B[1mДобавление ограничений для массы\u001B[0m\n",
      "\u001B[32m2025-07-22 16:43:48.042\u001B[0m | \u001B[1mINFO    \u001B[0m | \u001B[36msrc.vrp_study.pdptw_model.routing_model\u001B[0m:\u001B[36mdo_solve\u001B[0m:\u001B[36m407\u001B[0m - \u001B[1mНачало решения\u001B[0m\n",
      "\u001B[32m2025-07-22 16:43:48.046\u001B[0m | \u001B[34m\u001B[1mDEBUG   \u001B[0m | \u001B[36msrc.vrp_study.pdptw_model.routing_model\u001B[0m:\u001B[36m__call__\u001B[0m:\u001B[36m40\u001B[0m - \u001B[34m\u001B[1mtime: 0.006; new solution (1): 1; best solution: 1\u001B[0m\n",
      "\u001B[32m2025-07-22 16:43:48.050\u001B[0m | \u001B[1mINFO    \u001B[0m | \u001B[36msrc.vrp_study.pdptw_model.routing_model\u001B[0m:\u001B[36mdo_solve\u001B[0m:\u001B[36m423\u001B[0m - \u001B[1mfind solution\u001B[0m\n",
      "\u001B[32m2025-07-22 16:43:48.051\u001B[0m | \u001B[1mINFO    \u001B[0m | \u001B[36msrc.vrp_study.pdptw_model.routing_model\u001B[0m:\u001B[36mfind_optimal_paths\u001B[0m:\u001B[36m451\u001B[0m - \u001B[1mbest_score: 1\u001B[0m\n",
      "\u001B[32m2025-07-22 16:43:48.052\u001B[0m | \u001B[1mINFO    \u001B[0m | \u001B[36msrc.vrp_study.pdptw_model.routing_model\u001B[0m:\u001B[36mdo_solve\u001B[0m:\u001B[36m378\u001B[0m - \u001B[1mНачало создания модели\u001B[0m\n",
      "\u001B[32m2025-07-22 16:43:48.055\u001B[0m | \u001B[1mINFO    \u001B[0m | \u001B[36msrc.vrp_study.pdptw_model.routing_model\u001B[0m:\u001B[36madd_distance_dimension\u001B[0m:\u001B[36m299\u001B[0m - \u001B[1mДобавление размерности для расстояния\u001B[0m\n",
      "\u001B[32m2025-07-22 16:43:48.057\u001B[0m | \u001B[1mINFO    \u001B[0m | \u001B[36msrc.vrp_study.pdptw_model.routing_model\u001B[0m:\u001B[36madd_count_dimension\u001B[0m:\u001B[36m335\u001B[0m - \u001B[1mДобавление размерности для расстояния\u001B[0m\n",
      "\u001B[32m2025-07-22 16:43:48.060\u001B[0m | \u001B[1mINFO    \u001B[0m | \u001B[36msrc.vrp_study.pdptw_model.routing_model\u001B[0m:\u001B[36madd_pick_up_and_delivery\u001B[0m:\u001B[36m269\u001B[0m - \u001B[1mДобавление ограничения для порядка доставки\u001B[0m\n",
      "\u001B[32m2025-07-22 16:43:48.061\u001B[0m | \u001B[1mINFO    \u001B[0m | \u001B[36msrc.vrp_study.pdptw_model.routing_model\u001B[0m:\u001B[36madd_vehicles_cost\u001B[0m:\u001B[36m243\u001B[0m - \u001B[1mДобавление стоимостей машин\u001B[0m\n",
      "\u001B[32m2025-07-22 16:43:48.062\u001B[0m | \u001B[1mINFO    \u001B[0m | \u001B[36msrc.vrp_study.pdptw_model.routing_model\u001B[0m:\u001B[36madd_time_window\u001B[0m:\u001B[36m194\u001B[0m - \u001B[1madd time\u001B[0m\n",
      "\u001B[32m2025-07-22 16:43:48.065\u001B[0m | \u001B[1mINFO    \u001B[0m | \u001B[36msrc.vrp_study.pdptw_model.routing_model\u001B[0m:\u001B[36madd_mass_constraint\u001B[0m:\u001B[36m177\u001B[0m - \u001B[1mДобавление ограничений для массы\u001B[0m\n",
      "\u001B[32m2025-07-22 16:43:48.067\u001B[0m | \u001B[1mINFO    \u001B[0m | \u001B[36msrc.vrp_study.pdptw_model.routing_model\u001B[0m:\u001B[36mdo_solve\u001B[0m:\u001B[36m407\u001B[0m - \u001B[1mНачало решения\u001B[0m\n",
      "\u001B[32m2025-07-22 16:43:48.068\u001B[0m | \u001B[1mINFO    \u001B[0m | \u001B[36msrc.vrp_study.pdptw_model.routing_model\u001B[0m:\u001B[36mdo_solve\u001B[0m:\u001B[36m410\u001B[0m - \u001B[1muse initial_solution: 1\u001B[0m\n",
      "\u001B[32m2025-07-22 16:43:48.070\u001B[0m | \u001B[34m\u001B[1mDEBUG   \u001B[0m | \u001B[36msrc.vrp_study.pdptw_model.routing_model\u001B[0m:\u001B[36m__call__\u001B[0m:\u001B[36m40\u001B[0m - \u001B[34m\u001B[1mtime: 0.004; new solution (1): 3922; best solution: 3922\u001B[0m\n",
      "\u001B[32m2025-07-22 16:43:48.073\u001B[0m | \u001B[34m\u001B[1mDEBUG   \u001B[0m | \u001B[36msrc.vrp_study.pdptw_model.routing_model\u001B[0m:\u001B[36m__call__\u001B[0m:\u001B[36m40\u001B[0m - \u001B[34m\u001B[1mtime: 0.007; new solution (2): 3922; best solution: 3922\u001B[0m\n",
      "\u001B[32m2025-07-22 16:43:48.076\u001B[0m | \u001B[1mINFO    \u001B[0m | \u001B[36msrc.vrp_study.pdptw_model.routing_model\u001B[0m:\u001B[36mdo_solve\u001B[0m:\u001B[36m423\u001B[0m - \u001B[1mfind solution\u001B[0m\n",
      "\u001B[32m2025-07-22 16:43:48.078\u001B[0m | \u001B[1mINFO    \u001B[0m | \u001B[36msrc.vrp_study.pdptw_model.routing_model\u001B[0m:\u001B[36mfind_optimal_paths\u001B[0m:\u001B[36m464\u001B[0m - \u001B[1mbest_score: 39.22\u001B[0m\n",
      "\u001B[32m2025-07-22 16:43:48.081\u001B[0m | \u001B[1mINFO    \u001B[0m | \u001B[36msrc.vrp_study.pdptw_model.solution_builder\u001B[0m:\u001B[36mget_initial_solution\u001B[0m:\u001B[36m138\u001B[0m - \u001B[1m[[0, 1, 2, 0], [], [], [], [], [], [], [], [], [], [], [], [], [], [], [], [], []]\u001B[0m\n"
     ]
    },
    {
     "data": {
      "text/plain": "  0%|          | 0/1 [00:00<?, ?it/s]",
      "application/vnd.jupyter.widget-view+json": {
       "version_major": 2,
       "version_minor": 0,
       "model_id": "3337d6e9e7244893a6d1575257d095be"
      }
     },
     "metadata": {},
     "output_type": "display_data"
    },
    {
     "name": "stderr",
     "output_type": "stream",
     "text": [
      "\u001B[32m2025-07-22 16:43:48.098\u001B[0m | \u001B[1mINFO    \u001B[0m | \u001B[36msrc.vrp_study.pdptw_model.routing_model\u001B[0m:\u001B[36mfind_optimal_paths\u001B[0m:\u001B[36m443\u001B[0m - \u001B[1mproblem size: 3\u001B[0m\n",
      "\u001B[32m2025-07-22 16:43:48.100\u001B[0m | \u001B[1mINFO    \u001B[0m | \u001B[36msrc.vrp_study.pdptw_model.routing_model\u001B[0m:\u001B[36mdo_solve\u001B[0m:\u001B[36m378\u001B[0m - \u001B[1mНачало создания модели\u001B[0m\n",
      "\u001B[32m2025-07-22 16:43:48.103\u001B[0m | \u001B[1mINFO    \u001B[0m | \u001B[36msrc.vrp_study.pdptw_model.routing_model\u001B[0m:\u001B[36madd_distance_dimension\u001B[0m:\u001B[36m299\u001B[0m - \u001B[1mДобавление размерности для расстояния\u001B[0m\n",
      "\u001B[32m2025-07-22 16:43:48.105\u001B[0m | \u001B[1mINFO    \u001B[0m | \u001B[36msrc.vrp_study.pdptw_model.routing_model\u001B[0m:\u001B[36madd_count_dimension\u001B[0m:\u001B[36m335\u001B[0m - \u001B[1mДобавление размерности для расстояния\u001B[0m\n",
      "\u001B[32m2025-07-22 16:43:48.106\u001B[0m | \u001B[1mINFO    \u001B[0m | \u001B[36msrc.vrp_study.pdptw_model.routing_model\u001B[0m:\u001B[36madd_pick_up_and_delivery\u001B[0m:\u001B[36m269\u001B[0m - \u001B[1mДобавление ограничения для порядка доставки\u001B[0m\n",
      "\u001B[32m2025-07-22 16:43:48.108\u001B[0m | \u001B[1mINFO    \u001B[0m | \u001B[36msrc.vrp_study.pdptw_model.routing_model\u001B[0m:\u001B[36madd_time_window\u001B[0m:\u001B[36m194\u001B[0m - \u001B[1madd time\u001B[0m\n",
      "\u001B[32m2025-07-22 16:43:48.109\u001B[0m | \u001B[1mINFO    \u001B[0m | \u001B[36msrc.vrp_study.pdptw_model.routing_model\u001B[0m:\u001B[36madd_mass_constraint\u001B[0m:\u001B[36m177\u001B[0m - \u001B[1mДобавление ограничений для массы\u001B[0m\n",
      "\u001B[32m2025-07-22 16:43:48.113\u001B[0m | \u001B[1mINFO    \u001B[0m | \u001B[36msrc.vrp_study.pdptw_model.routing_model\u001B[0m:\u001B[36mdo_solve\u001B[0m:\u001B[36m407\u001B[0m - \u001B[1mНачало решения\u001B[0m\n",
      "\u001B[32m2025-07-22 16:43:48.116\u001B[0m | \u001B[34m\u001B[1mDEBUG   \u001B[0m | \u001B[36msrc.vrp_study.pdptw_model.routing_model\u001B[0m:\u001B[36m__call__\u001B[0m:\u001B[36m40\u001B[0m - \u001B[34m\u001B[1mtime: 0.005; new solution (1): 1; best solution: 1\u001B[0m\n",
      "\u001B[32m2025-07-22 16:43:48.120\u001B[0m | \u001B[1mINFO    \u001B[0m | \u001B[36msrc.vrp_study.pdptw_model.routing_model\u001B[0m:\u001B[36mdo_solve\u001B[0m:\u001B[36m423\u001B[0m - \u001B[1mfind solution\u001B[0m\n",
      "\u001B[32m2025-07-22 16:43:48.121\u001B[0m | \u001B[1mINFO    \u001B[0m | \u001B[36msrc.vrp_study.pdptw_model.routing_model\u001B[0m:\u001B[36mfind_optimal_paths\u001B[0m:\u001B[36m451\u001B[0m - \u001B[1mbest_score: 1\u001B[0m\n",
      "\u001B[32m2025-07-22 16:43:48.123\u001B[0m | \u001B[1mINFO    \u001B[0m | \u001B[36msrc.vrp_study.pdptw_model.routing_model\u001B[0m:\u001B[36mdo_solve\u001B[0m:\u001B[36m378\u001B[0m - \u001B[1mНачало создания модели\u001B[0m\n",
      "\u001B[32m2025-07-22 16:43:48.125\u001B[0m | \u001B[1mINFO    \u001B[0m | \u001B[36msrc.vrp_study.pdptw_model.routing_model\u001B[0m:\u001B[36madd_distance_dimension\u001B[0m:\u001B[36m299\u001B[0m - \u001B[1mДобавление размерности для расстояния\u001B[0m\n",
      "\u001B[32m2025-07-22 16:43:48.127\u001B[0m | \u001B[1mINFO    \u001B[0m | \u001B[36msrc.vrp_study.pdptw_model.routing_model\u001B[0m:\u001B[36madd_count_dimension\u001B[0m:\u001B[36m335\u001B[0m - \u001B[1mДобавление размерности для расстояния\u001B[0m\n",
      "\u001B[32m2025-07-22 16:43:48.129\u001B[0m | \u001B[1mINFO    \u001B[0m | \u001B[36msrc.vrp_study.pdptw_model.routing_model\u001B[0m:\u001B[36madd_pick_up_and_delivery\u001B[0m:\u001B[36m269\u001B[0m - \u001B[1mДобавление ограничения для порядка доставки\u001B[0m\n",
      "\u001B[32m2025-07-22 16:43:48.130\u001B[0m | \u001B[1mINFO    \u001B[0m | \u001B[36msrc.vrp_study.pdptw_model.routing_model\u001B[0m:\u001B[36madd_vehicles_cost\u001B[0m:\u001B[36m243\u001B[0m - \u001B[1mДобавление стоимостей машин\u001B[0m\n",
      "\u001B[32m2025-07-22 16:43:48.132\u001B[0m | \u001B[1mINFO    \u001B[0m | \u001B[36msrc.vrp_study.pdptw_model.routing_model\u001B[0m:\u001B[36madd_time_window\u001B[0m:\u001B[36m194\u001B[0m - \u001B[1madd time\u001B[0m\n",
      "\u001B[32m2025-07-22 16:43:48.133\u001B[0m | \u001B[1mINFO    \u001B[0m | \u001B[36msrc.vrp_study.pdptw_model.routing_model\u001B[0m:\u001B[36madd_mass_constraint\u001B[0m:\u001B[36m177\u001B[0m - \u001B[1mДобавление ограничений для массы\u001B[0m\n",
      "\u001B[32m2025-07-22 16:43:48.135\u001B[0m | \u001B[1mINFO    \u001B[0m | \u001B[36msrc.vrp_study.pdptw_model.routing_model\u001B[0m:\u001B[36mdo_solve\u001B[0m:\u001B[36m407\u001B[0m - \u001B[1mНачало решения\u001B[0m\n",
      "\u001B[32m2025-07-22 16:43:48.137\u001B[0m | \u001B[1mINFO    \u001B[0m | \u001B[36msrc.vrp_study.pdptw_model.routing_model\u001B[0m:\u001B[36mdo_solve\u001B[0m:\u001B[36m410\u001B[0m - \u001B[1muse initial_solution: 1\u001B[0m\n",
      "\u001B[32m2025-07-22 16:43:48.139\u001B[0m | \u001B[34m\u001B[1mDEBUG   \u001B[0m | \u001B[36msrc.vrp_study.pdptw_model.routing_model\u001B[0m:\u001B[36m__call__\u001B[0m:\u001B[36m40\u001B[0m - \u001B[34m\u001B[1mtime: 0.005; new solution (1): 4717; best solution: 4717\u001B[0m\n",
      "\u001B[32m2025-07-22 16:43:48.142\u001B[0m | \u001B[34m\u001B[1mDEBUG   \u001B[0m | \u001B[36msrc.vrp_study.pdptw_model.routing_model\u001B[0m:\u001B[36m__call__\u001B[0m:\u001B[36m40\u001B[0m - \u001B[34m\u001B[1mtime: 0.007; new solution (2): 4717; best solution: 4717\u001B[0m\n",
      "\u001B[32m2025-07-22 16:43:48.144\u001B[0m | \u001B[1mINFO    \u001B[0m | \u001B[36msrc.vrp_study.pdptw_model.routing_model\u001B[0m:\u001B[36mdo_solve\u001B[0m:\u001B[36m423\u001B[0m - \u001B[1mfind solution\u001B[0m\n",
      "\u001B[32m2025-07-22 16:43:48.145\u001B[0m | \u001B[1mINFO    \u001B[0m | \u001B[36msrc.vrp_study.pdptw_model.routing_model\u001B[0m:\u001B[36mfind_optimal_paths\u001B[0m:\u001B[36m464\u001B[0m - \u001B[1mbest_score: 47.17\u001B[0m\n",
      "\u001B[32m2025-07-22 16:43:48.146\u001B[0m | \u001B[1mINFO    \u001B[0m | \u001B[36msrc.vrp_study.pdptw_model.solution_builder\u001B[0m:\u001B[36mget_initial_solution\u001B[0m:\u001B[36m138\u001B[0m - \u001B[1m[[0, 1, 2, 0], [], [], [], [], [], [], [], [], [], [], [], [], [], [], [], []]\u001B[0m\n"
     ]
    },
    {
     "data": {
      "text/plain": "  0%|          | 0/1 [00:00<?, ?it/s]",
      "application/vnd.jupyter.widget-view+json": {
       "version_major": 2,
       "version_minor": 0,
       "model_id": "547287a8f44146c7bc56141a34ea8be3"
      }
     },
     "metadata": {},
     "output_type": "display_data"
    },
    {
     "name": "stderr",
     "output_type": "stream",
     "text": [
      "\u001B[32m2025-07-22 16:43:48.164\u001B[0m | \u001B[1mINFO    \u001B[0m | \u001B[36msrc.vrp_study.pdptw_model.routing_model\u001B[0m:\u001B[36mfind_optimal_paths\u001B[0m:\u001B[36m443\u001B[0m - \u001B[1mproblem size: 3\u001B[0m\n",
      "\u001B[32m2025-07-22 16:43:48.165\u001B[0m | \u001B[1mINFO    \u001B[0m | \u001B[36msrc.vrp_study.pdptw_model.routing_model\u001B[0m:\u001B[36mdo_solve\u001B[0m:\u001B[36m378\u001B[0m - \u001B[1mНачало создания модели\u001B[0m\n",
      "\u001B[32m2025-07-22 16:43:48.167\u001B[0m | \u001B[1mINFO    \u001B[0m | \u001B[36msrc.vrp_study.pdptw_model.routing_model\u001B[0m:\u001B[36madd_distance_dimension\u001B[0m:\u001B[36m299\u001B[0m - \u001B[1mДобавление размерности для расстояния\u001B[0m\n",
      "\u001B[32m2025-07-22 16:43:48.170\u001B[0m | \u001B[1mINFO    \u001B[0m | \u001B[36msrc.vrp_study.pdptw_model.routing_model\u001B[0m:\u001B[36madd_count_dimension\u001B[0m:\u001B[36m335\u001B[0m - \u001B[1mДобавление размерности для расстояния\u001B[0m\n",
      "\u001B[32m2025-07-22 16:43:48.171\u001B[0m | \u001B[1mINFO    \u001B[0m | \u001B[36msrc.vrp_study.pdptw_model.routing_model\u001B[0m:\u001B[36madd_pick_up_and_delivery\u001B[0m:\u001B[36m269\u001B[0m - \u001B[1mДобавление ограничения для порядка доставки\u001B[0m\n",
      "\u001B[32m2025-07-22 16:43:48.173\u001B[0m | \u001B[1mINFO    \u001B[0m | \u001B[36msrc.vrp_study.pdptw_model.routing_model\u001B[0m:\u001B[36madd_time_window\u001B[0m:\u001B[36m194\u001B[0m - \u001B[1madd time\u001B[0m\n",
      "\u001B[32m2025-07-22 16:43:48.174\u001B[0m | \u001B[1mINFO    \u001B[0m | \u001B[36msrc.vrp_study.pdptw_model.routing_model\u001B[0m:\u001B[36madd_mass_constraint\u001B[0m:\u001B[36m177\u001B[0m - \u001B[1mДобавление ограничений для массы\u001B[0m\n",
      "\u001B[32m2025-07-22 16:43:48.178\u001B[0m | \u001B[1mINFO    \u001B[0m | \u001B[36msrc.vrp_study.pdptw_model.routing_model\u001B[0m:\u001B[36mdo_solve\u001B[0m:\u001B[36m407\u001B[0m - \u001B[1mНачало решения\u001B[0m\n",
      "\u001B[32m2025-07-22 16:43:48.182\u001B[0m | \u001B[34m\u001B[1mDEBUG   \u001B[0m | \u001B[36msrc.vrp_study.pdptw_model.routing_model\u001B[0m:\u001B[36m__call__\u001B[0m:\u001B[36m40\u001B[0m - \u001B[34m\u001B[1mtime: 0.006; new solution (1): 1; best solution: 1\u001B[0m\n",
      "\u001B[32m2025-07-22 16:43:48.186\u001B[0m | \u001B[1mINFO    \u001B[0m | \u001B[36msrc.vrp_study.pdptw_model.routing_model\u001B[0m:\u001B[36mdo_solve\u001B[0m:\u001B[36m423\u001B[0m - \u001B[1mfind solution\u001B[0m\n",
      "\u001B[32m2025-07-22 16:43:48.188\u001B[0m | \u001B[1mINFO    \u001B[0m | \u001B[36msrc.vrp_study.pdptw_model.routing_model\u001B[0m:\u001B[36mfind_optimal_paths\u001B[0m:\u001B[36m451\u001B[0m - \u001B[1mbest_score: 1\u001B[0m\n",
      "\u001B[32m2025-07-22 16:43:48.190\u001B[0m | \u001B[1mINFO    \u001B[0m | \u001B[36msrc.vrp_study.pdptw_model.routing_model\u001B[0m:\u001B[36mdo_solve\u001B[0m:\u001B[36m378\u001B[0m - \u001B[1mНачало создания модели\u001B[0m\n",
      "\u001B[32m2025-07-22 16:43:48.192\u001B[0m | \u001B[1mINFO    \u001B[0m | \u001B[36msrc.vrp_study.pdptw_model.routing_model\u001B[0m:\u001B[36madd_distance_dimension\u001B[0m:\u001B[36m299\u001B[0m - \u001B[1mДобавление размерности для расстояния\u001B[0m\n",
      "\u001B[32m2025-07-22 16:43:48.194\u001B[0m | \u001B[1mINFO    \u001B[0m | \u001B[36msrc.vrp_study.pdptw_model.routing_model\u001B[0m:\u001B[36madd_count_dimension\u001B[0m:\u001B[36m335\u001B[0m - \u001B[1mДобавление размерности для расстояния\u001B[0m\n",
      "\u001B[32m2025-07-22 16:43:48.195\u001B[0m | \u001B[1mINFO    \u001B[0m | \u001B[36msrc.vrp_study.pdptw_model.routing_model\u001B[0m:\u001B[36madd_pick_up_and_delivery\u001B[0m:\u001B[36m269\u001B[0m - \u001B[1mДобавление ограничения для порядка доставки\u001B[0m\n",
      "\u001B[32m2025-07-22 16:43:48.197\u001B[0m | \u001B[1mINFO    \u001B[0m | \u001B[36msrc.vrp_study.pdptw_model.routing_model\u001B[0m:\u001B[36madd_vehicles_cost\u001B[0m:\u001B[36m243\u001B[0m - \u001B[1mДобавление стоимостей машин\u001B[0m\n",
      "\u001B[32m2025-07-22 16:43:48.198\u001B[0m | \u001B[1mINFO    \u001B[0m | \u001B[36msrc.vrp_study.pdptw_model.routing_model\u001B[0m:\u001B[36madd_time_window\u001B[0m:\u001B[36m194\u001B[0m - \u001B[1madd time\u001B[0m\n",
      "\u001B[32m2025-07-22 16:43:48.199\u001B[0m | \u001B[1mINFO    \u001B[0m | \u001B[36msrc.vrp_study.pdptw_model.routing_model\u001B[0m:\u001B[36madd_mass_constraint\u001B[0m:\u001B[36m177\u001B[0m - \u001B[1mДобавление ограничений для массы\u001B[0m\n",
      "\u001B[32m2025-07-22 16:43:48.202\u001B[0m | \u001B[1mINFO    \u001B[0m | \u001B[36msrc.vrp_study.pdptw_model.routing_model\u001B[0m:\u001B[36mdo_solve\u001B[0m:\u001B[36m407\u001B[0m - \u001B[1mНачало решения\u001B[0m\n",
      "\u001B[32m2025-07-22 16:43:48.204\u001B[0m | \u001B[1mINFO    \u001B[0m | \u001B[36msrc.vrp_study.pdptw_model.routing_model\u001B[0m:\u001B[36mdo_solve\u001B[0m:\u001B[36m410\u001B[0m - \u001B[1muse initial_solution: 1\u001B[0m\n",
      "\u001B[32m2025-07-22 16:43:48.206\u001B[0m | \u001B[34m\u001B[1mDEBUG   \u001B[0m | \u001B[36msrc.vrp_study.pdptw_model.routing_model\u001B[0m:\u001B[36m__call__\u001B[0m:\u001B[36m40\u001B[0m - \u001B[34m\u001B[1mtime: 0.005; new solution (1): 5000; best solution: 5000\u001B[0m\n",
      "\u001B[32m2025-07-22 16:43:48.207\u001B[0m | \u001B[34m\u001B[1mDEBUG   \u001B[0m | \u001B[36msrc.vrp_study.pdptw_model.routing_model\u001B[0m:\u001B[36m__call__\u001B[0m:\u001B[36m40\u001B[0m - \u001B[34m\u001B[1mtime: 0.006; new solution (2): 5000; best solution: 5000\u001B[0m\n",
      "\u001B[32m2025-07-22 16:43:48.210\u001B[0m | \u001B[1mINFO    \u001B[0m | \u001B[36msrc.vrp_study.pdptw_model.routing_model\u001B[0m:\u001B[36mdo_solve\u001B[0m:\u001B[36m423\u001B[0m - \u001B[1mfind solution\u001B[0m\n",
      "\u001B[32m2025-07-22 16:43:48.212\u001B[0m | \u001B[1mINFO    \u001B[0m | \u001B[36msrc.vrp_study.pdptw_model.routing_model\u001B[0m:\u001B[36mfind_optimal_paths\u001B[0m:\u001B[36m464\u001B[0m - \u001B[1mbest_score: 50.00\u001B[0m\n",
      "\u001B[32m2025-07-22 16:43:48.213\u001B[0m | \u001B[1mINFO    \u001B[0m | \u001B[36msrc.vrp_study.pdptw_model.solution_builder\u001B[0m:\u001B[36mget_initial_solution\u001B[0m:\u001B[36m138\u001B[0m - \u001B[1m[[0, 1, 2, 0], [], [], [], [], [], [], [], [], [], [], [], [], [], [], []]\u001B[0m\n",
      "\u001B[32m2025-07-22 16:43:48.219\u001B[0m | \u001B[1mINFO    \u001B[0m | \u001B[36msrc.vrp_study.pdptw_model.solution_builder\u001B[0m:\u001B[36mget_initial_solution\u001B[0m:\u001B[36m118\u001B[0m - \u001B[1m(1, 32.074999999999996)\u001B[0m\n",
      "\u001B[32m2025-07-22 16:43:48.221\u001B[0m | \u001B[1mINFO    \u001B[0m | \u001B[36msrc.vrp_study.pdptw_model.solution_builder\u001B[0m:\u001B[36mget_initial_solution\u001B[0m:\u001B[36m118\u001B[0m - \u001B[1m(1, 16.0875)\u001B[0m\n",
      "\u001B[32m2025-07-22 16:43:48.223\u001B[0m | \u001B[1mINFO    \u001B[0m | \u001B[36msrc.vrp_study.pdptw_model.solution_builder\u001B[0m:\u001B[36mget_initial_solution\u001B[0m:\u001B[36m118\u001B[0m - \u001B[1m(1, 8.09375)\u001B[0m\n",
      "\u001B[32m2025-07-22 16:43:48.226\u001B[0m | \u001B[1mINFO    \u001B[0m | \u001B[36msrc.vrp_study.pdptw_model.solution_builder\u001B[0m:\u001B[36mget_initial_solution\u001B[0m:\u001B[36m118\u001B[0m - \u001B[1m(1, 4.096875)\u001B[0m\n",
      "\u001B[32m2025-07-22 16:43:48.227\u001B[0m | \u001B[1mINFO    \u001B[0m | \u001B[36msrc.vrp_study.pdptw_model.solution_builder\u001B[0m:\u001B[36mget_initial_solution\u001B[0m:\u001B[36m118\u001B[0m - \u001B[1m(1, 2.0984374999999997)\u001B[0m\n",
      "\u001B[32m2025-07-22 16:43:48.230\u001B[0m | \u001B[1mINFO    \u001B[0m | \u001B[36msrc.vrp_study.pdptw_model.solution_builder\u001B[0m:\u001B[36mget_initial_solution\u001B[0m:\u001B[36m118\u001B[0m - \u001B[1m(1, 1.09921875)\u001B[0m\n",
      "\u001B[32m2025-07-22 16:43:48.232\u001B[0m | \u001B[1mINFO    \u001B[0m | \u001B[36msrc.vrp_study.pdptw_model.solution_builder\u001B[0m:\u001B[36mget_initial_solution\u001B[0m:\u001B[36m118\u001B[0m - \u001B[1m(3, 0.599609375)\u001B[0m\n",
      "\u001B[32m2025-07-22 16:43:48.234\u001B[0m | \u001B[1mINFO    \u001B[0m | \u001B[36msrc.vrp_study.pdptw_model.solution_builder\u001B[0m:\u001B[36mget_initial_solution\u001B[0m:\u001B[36m118\u001B[0m - \u001B[1m(3, 0.3498046875)\u001B[0m\n",
      "\u001B[32m2025-07-22 16:43:48.236\u001B[0m | \u001B[1mINFO    \u001B[0m | \u001B[36msrc.vrp_study.pdptw_model.solution_builder\u001B[0m:\u001B[36mget_initial_solution\u001B[0m:\u001B[36m118\u001B[0m - \u001B[1m(3, 0.22490234375)\u001B[0m\n",
      "\u001B[32m2025-07-22 16:43:48.239\u001B[0m | \u001B[1mINFO    \u001B[0m | \u001B[36msrc.vrp_study.pdptw_model.solution_builder\u001B[0m:\u001B[36mget_initial_solution\u001B[0m:\u001B[36m118\u001B[0m - \u001B[1m(3, 0.16245117187500002)\u001B[0m\n"
     ]
    },
    {
     "data": {
      "text/plain": "  0%|          | 0/1 [00:00<?, ?it/s]",
      "application/vnd.jupyter.widget-view+json": {
       "version_major": 2,
       "version_minor": 0,
       "model_id": "c20fe3f05fc24b7a9c9e2dcb14b22524"
      }
     },
     "metadata": {},
     "output_type": "display_data"
    },
    {
     "name": "stderr",
     "output_type": "stream",
     "text": [
      "\u001B[32m2025-07-22 16:43:48.255\u001B[0m | \u001B[1mINFO    \u001B[0m | \u001B[36msrc.vrp_study.pdptw_model.routing_model\u001B[0m:\u001B[36mfind_optimal_paths\u001B[0m:\u001B[36m443\u001B[0m - \u001B[1mproblem size: 7\u001B[0m\n",
      "\u001B[32m2025-07-22 16:43:48.257\u001B[0m | \u001B[1mINFO    \u001B[0m | \u001B[36msrc.vrp_study.pdptw_model.routing_model\u001B[0m:\u001B[36mdo_solve\u001B[0m:\u001B[36m378\u001B[0m - \u001B[1mНачало создания модели\u001B[0m\n",
      "\u001B[32m2025-07-22 16:43:48.261\u001B[0m | \u001B[1mINFO    \u001B[0m | \u001B[36msrc.vrp_study.pdptw_model.routing_model\u001B[0m:\u001B[36madd_distance_dimension\u001B[0m:\u001B[36m299\u001B[0m - \u001B[1mДобавление размерности для расстояния\u001B[0m\n",
      "\u001B[32m2025-07-22 16:43:48.263\u001B[0m | \u001B[1mINFO    \u001B[0m | \u001B[36msrc.vrp_study.pdptw_model.routing_model\u001B[0m:\u001B[36madd_count_dimension\u001B[0m:\u001B[36m335\u001B[0m - \u001B[1mДобавление размерности для расстояния\u001B[0m\n",
      "\u001B[32m2025-07-22 16:43:48.265\u001B[0m | \u001B[1mINFO    \u001B[0m | \u001B[36msrc.vrp_study.pdptw_model.routing_model\u001B[0m:\u001B[36madd_pick_up_and_delivery\u001B[0m:\u001B[36m269\u001B[0m - \u001B[1mДобавление ограничения для порядка доставки\u001B[0m\n",
      "\u001B[32m2025-07-22 16:43:48.267\u001B[0m | \u001B[1mINFO    \u001B[0m | \u001B[36msrc.vrp_study.pdptw_model.routing_model\u001B[0m:\u001B[36madd_time_window\u001B[0m:\u001B[36m194\u001B[0m - \u001B[1madd time\u001B[0m\n",
      "\u001B[32m2025-07-22 16:43:48.268\u001B[0m | \u001B[1mINFO    \u001B[0m | \u001B[36msrc.vrp_study.pdptw_model.routing_model\u001B[0m:\u001B[36madd_mass_constraint\u001B[0m:\u001B[36m177\u001B[0m - \u001B[1mДобавление ограничений для массы\u001B[0m\n",
      "\u001B[32m2025-07-22 16:43:48.275\u001B[0m | \u001B[1mINFO    \u001B[0m | \u001B[36msrc.vrp_study.pdptw_model.routing_model\u001B[0m:\u001B[36mdo_solve\u001B[0m:\u001B[36m407\u001B[0m - \u001B[1mНачало решения\u001B[0m\n",
      "\u001B[32m2025-07-22 16:43:48.280\u001B[0m | \u001B[34m\u001B[1mDEBUG   \u001B[0m | \u001B[36msrc.vrp_study.pdptw_model.routing_model\u001B[0m:\u001B[36m__call__\u001B[0m:\u001B[36m40\u001B[0m - \u001B[34m\u001B[1mtime: 0.008; new solution (1): 1; best solution: 1\u001B[0m\n",
      "\u001B[32m2025-07-22 16:43:48.293\u001B[0m | \u001B[1mINFO    \u001B[0m | \u001B[36msrc.vrp_study.pdptw_model.routing_model\u001B[0m:\u001B[36mdo_solve\u001B[0m:\u001B[36m423\u001B[0m - \u001B[1mfind solution\u001B[0m\n",
      "\u001B[32m2025-07-22 16:43:48.294\u001B[0m | \u001B[1mINFO    \u001B[0m | \u001B[36msrc.vrp_study.pdptw_model.routing_model\u001B[0m:\u001B[36mfind_optimal_paths\u001B[0m:\u001B[36m451\u001B[0m - \u001B[1mbest_score: 1\u001B[0m\n",
      "\u001B[32m2025-07-22 16:43:48.296\u001B[0m | \u001B[1mINFO    \u001B[0m | \u001B[36msrc.vrp_study.pdptw_model.routing_model\u001B[0m:\u001B[36mdo_solve\u001B[0m:\u001B[36m378\u001B[0m - \u001B[1mНачало создания модели\u001B[0m\n",
      "\u001B[32m2025-07-22 16:43:48.298\u001B[0m | \u001B[1mINFO    \u001B[0m | \u001B[36msrc.vrp_study.pdptw_model.routing_model\u001B[0m:\u001B[36madd_distance_dimension\u001B[0m:\u001B[36m299\u001B[0m - \u001B[1mДобавление размерности для расстояния\u001B[0m\n",
      "\u001B[32m2025-07-22 16:43:48.301\u001B[0m | \u001B[1mINFO    \u001B[0m | \u001B[36msrc.vrp_study.pdptw_model.routing_model\u001B[0m:\u001B[36madd_count_dimension\u001B[0m:\u001B[36m335\u001B[0m - \u001B[1mДобавление размерности для расстояния\u001B[0m\n",
      "\u001B[32m2025-07-22 16:43:48.302\u001B[0m | \u001B[1mINFO    \u001B[0m | \u001B[36msrc.vrp_study.pdptw_model.routing_model\u001B[0m:\u001B[36madd_pick_up_and_delivery\u001B[0m:\u001B[36m269\u001B[0m - \u001B[1mДобавление ограничения для порядка доставки\u001B[0m\n",
      "\u001B[32m2025-07-22 16:43:48.304\u001B[0m | \u001B[1mINFO    \u001B[0m | \u001B[36msrc.vrp_study.pdptw_model.routing_model\u001B[0m:\u001B[36madd_vehicles_cost\u001B[0m:\u001B[36m243\u001B[0m - \u001B[1mДобавление стоимостей машин\u001B[0m\n",
      "\u001B[32m2025-07-22 16:43:48.305\u001B[0m | \u001B[1mINFO    \u001B[0m | \u001B[36msrc.vrp_study.pdptw_model.routing_model\u001B[0m:\u001B[36madd_time_window\u001B[0m:\u001B[36m194\u001B[0m - \u001B[1madd time\u001B[0m\n",
      "\u001B[32m2025-07-22 16:43:48.307\u001B[0m | \u001B[1mINFO    \u001B[0m | \u001B[36msrc.vrp_study.pdptw_model.routing_model\u001B[0m:\u001B[36madd_mass_constraint\u001B[0m:\u001B[36m177\u001B[0m - \u001B[1mДобавление ограничений для массы\u001B[0m\n",
      "\u001B[32m2025-07-22 16:43:48.309\u001B[0m | \u001B[1mINFO    \u001B[0m | \u001B[36msrc.vrp_study.pdptw_model.routing_model\u001B[0m:\u001B[36mdo_solve\u001B[0m:\u001B[36m407\u001B[0m - \u001B[1mНачало решения\u001B[0m\n",
      "\u001B[32m2025-07-22 16:43:48.312\u001B[0m | \u001B[1mINFO    \u001B[0m | \u001B[36msrc.vrp_study.pdptw_model.routing_model\u001B[0m:\u001B[36mdo_solve\u001B[0m:\u001B[36m410\u001B[0m - \u001B[1muse initial_solution: 1\u001B[0m\n",
      "\u001B[32m2025-07-22 16:43:48.313\u001B[0m | \u001B[34m\u001B[1mDEBUG   \u001B[0m | \u001B[36msrc.vrp_study.pdptw_model.routing_model\u001B[0m:\u001B[36m__call__\u001B[0m:\u001B[36m40\u001B[0m - \u001B[34m\u001B[1mtime: 0.005; new solution (1): 9991; best solution: 9991\u001B[0m\n",
      "\u001B[32m2025-07-22 16:43:48.316\u001B[0m | \u001B[34m\u001B[1mDEBUG   \u001B[0m | \u001B[36msrc.vrp_study.pdptw_model.routing_model\u001B[0m:\u001B[36m__call__\u001B[0m:\u001B[36m40\u001B[0m - \u001B[34m\u001B[1mtime: 0.007; new solution (2): 9991; best solution: 9991\u001B[0m\n",
      "\u001B[32m2025-07-22 16:43:48.326\u001B[0m | \u001B[1mINFO    \u001B[0m | \u001B[36msrc.vrp_study.pdptw_model.routing_model\u001B[0m:\u001B[36mdo_solve\u001B[0m:\u001B[36m423\u001B[0m - \u001B[1mfind solution\u001B[0m\n",
      "\u001B[32m2025-07-22 16:43:48.328\u001B[0m | \u001B[1mINFO    \u001B[0m | \u001B[36msrc.vrp_study.pdptw_model.routing_model\u001B[0m:\u001B[36mfind_optimal_paths\u001B[0m:\u001B[36m464\u001B[0m - \u001B[1mbest_score: 99.91\u001B[0m\n",
      "\u001B[32m2025-07-22 16:43:48.330\u001B[0m | \u001B[1mINFO    \u001B[0m | \u001B[36msrc.vrp_study.pdptw_model.solution_builder\u001B[0m:\u001B[36mget_initial_solution\u001B[0m:\u001B[36m138\u001B[0m - \u001B[1m[[0, 3, 1, 5, 2, 4, 6, 0], [], [], [], [], [], [], [], [], [], [], [], [], [], []]\u001B[0m\n"
     ]
    },
    {
     "data": {
      "text/plain": "  0%|          | 0/1 [00:00<?, ?it/s]",
      "application/vnd.jupyter.widget-view+json": {
       "version_major": 2,
       "version_minor": 0,
       "model_id": "ebcaccfbc4de4141b2a217881f507776"
      }
     },
     "metadata": {},
     "output_type": "display_data"
    },
    {
     "name": "stderr",
     "output_type": "stream",
     "text": [
      "\u001B[32m2025-07-22 16:43:48.352\u001B[0m | \u001B[1mINFO    \u001B[0m | \u001B[36msrc.vrp_study.pdptw_model.routing_model\u001B[0m:\u001B[36mfind_optimal_paths\u001B[0m:\u001B[36m443\u001B[0m - \u001B[1mproblem size: 3\u001B[0m\n",
      "\u001B[32m2025-07-22 16:43:48.353\u001B[0m | \u001B[1mINFO    \u001B[0m | \u001B[36msrc.vrp_study.pdptw_model.routing_model\u001B[0m:\u001B[36mdo_solve\u001B[0m:\u001B[36m378\u001B[0m - \u001B[1mНачало создания модели\u001B[0m\n",
      "\u001B[32m2025-07-22 16:43:48.356\u001B[0m | \u001B[1mINFO    \u001B[0m | \u001B[36msrc.vrp_study.pdptw_model.routing_model\u001B[0m:\u001B[36madd_distance_dimension\u001B[0m:\u001B[36m299\u001B[0m - \u001B[1mДобавление размерности для расстояния\u001B[0m\n",
      "\u001B[32m2025-07-22 16:43:48.363\u001B[0m | \u001B[1mINFO    \u001B[0m | \u001B[36msrc.vrp_study.pdptw_model.routing_model\u001B[0m:\u001B[36madd_count_dimension\u001B[0m:\u001B[36m335\u001B[0m - \u001B[1mДобавление размерности для расстояния\u001B[0m\n",
      "\u001B[32m2025-07-22 16:43:48.366\u001B[0m | \u001B[1mINFO    \u001B[0m | \u001B[36msrc.vrp_study.pdptw_model.routing_model\u001B[0m:\u001B[36madd_pick_up_and_delivery\u001B[0m:\u001B[36m269\u001B[0m - \u001B[1mДобавление ограничения для порядка доставки\u001B[0m\n",
      "\u001B[32m2025-07-22 16:43:48.368\u001B[0m | \u001B[1mINFO    \u001B[0m | \u001B[36msrc.vrp_study.pdptw_model.routing_model\u001B[0m:\u001B[36madd_time_window\u001B[0m:\u001B[36m194\u001B[0m - \u001B[1madd time\u001B[0m\n",
      "\u001B[32m2025-07-22 16:43:48.369\u001B[0m | \u001B[1mINFO    \u001B[0m | \u001B[36msrc.vrp_study.pdptw_model.routing_model\u001B[0m:\u001B[36madd_mass_constraint\u001B[0m:\u001B[36m177\u001B[0m - \u001B[1mДобавление ограничений для массы\u001B[0m\n",
      "\u001B[32m2025-07-22 16:43:48.373\u001B[0m | \u001B[1mINFO    \u001B[0m | \u001B[36msrc.vrp_study.pdptw_model.routing_model\u001B[0m:\u001B[36mdo_solve\u001B[0m:\u001B[36m407\u001B[0m - \u001B[1mНачало решения\u001B[0m\n",
      "\u001B[32m2025-07-22 16:43:48.377\u001B[0m | \u001B[34m\u001B[1mDEBUG   \u001B[0m | \u001B[36msrc.vrp_study.pdptw_model.routing_model\u001B[0m:\u001B[36m__call__\u001B[0m:\u001B[36m40\u001B[0m - \u001B[34m\u001B[1mtime: 0.006; new solution (1): 1; best solution: 1\u001B[0m\n",
      "\u001B[32m2025-07-22 16:43:48.381\u001B[0m | \u001B[1mINFO    \u001B[0m | \u001B[36msrc.vrp_study.pdptw_model.routing_model\u001B[0m:\u001B[36mdo_solve\u001B[0m:\u001B[36m423\u001B[0m - \u001B[1mfind solution\u001B[0m\n",
      "\u001B[32m2025-07-22 16:43:48.382\u001B[0m | \u001B[1mINFO    \u001B[0m | \u001B[36msrc.vrp_study.pdptw_model.routing_model\u001B[0m:\u001B[36mfind_optimal_paths\u001B[0m:\u001B[36m451\u001B[0m - \u001B[1mbest_score: 1\u001B[0m\n",
      "\u001B[32m2025-07-22 16:43:48.384\u001B[0m | \u001B[1mINFO    \u001B[0m | \u001B[36msrc.vrp_study.pdptw_model.routing_model\u001B[0m:\u001B[36mdo_solve\u001B[0m:\u001B[36m378\u001B[0m - \u001B[1mНачало создания модели\u001B[0m\n",
      "\u001B[32m2025-07-22 16:43:48.387\u001B[0m | \u001B[1mINFO    \u001B[0m | \u001B[36msrc.vrp_study.pdptw_model.routing_model\u001B[0m:\u001B[36madd_distance_dimension\u001B[0m:\u001B[36m299\u001B[0m - \u001B[1mДобавление размерности для расстояния\u001B[0m\n",
      "\u001B[32m2025-07-22 16:43:48.389\u001B[0m | \u001B[1mINFO    \u001B[0m | \u001B[36msrc.vrp_study.pdptw_model.routing_model\u001B[0m:\u001B[36madd_count_dimension\u001B[0m:\u001B[36m335\u001B[0m - \u001B[1mДобавление размерности для расстояния\u001B[0m\n",
      "\u001B[32m2025-07-22 16:43:48.391\u001B[0m | \u001B[1mINFO    \u001B[0m | \u001B[36msrc.vrp_study.pdptw_model.routing_model\u001B[0m:\u001B[36madd_pick_up_and_delivery\u001B[0m:\u001B[36m269\u001B[0m - \u001B[1mДобавление ограничения для порядка доставки\u001B[0m\n",
      "\u001B[32m2025-07-22 16:43:48.393\u001B[0m | \u001B[1mINFO    \u001B[0m | \u001B[36msrc.vrp_study.pdptw_model.routing_model\u001B[0m:\u001B[36madd_vehicles_cost\u001B[0m:\u001B[36m243\u001B[0m - \u001B[1mДобавление стоимостей машин\u001B[0m\n",
      "\u001B[32m2025-07-22 16:43:48.394\u001B[0m | \u001B[1mINFO    \u001B[0m | \u001B[36msrc.vrp_study.pdptw_model.routing_model\u001B[0m:\u001B[36madd_time_window\u001B[0m:\u001B[36m194\u001B[0m - \u001B[1madd time\u001B[0m\n",
      "\u001B[32m2025-07-22 16:43:48.396\u001B[0m | \u001B[1mINFO    \u001B[0m | \u001B[36msrc.vrp_study.pdptw_model.routing_model\u001B[0m:\u001B[36madd_mass_constraint\u001B[0m:\u001B[36m177\u001B[0m - \u001B[1mДобавление ограничений для массы\u001B[0m\n",
      "\u001B[32m2025-07-22 16:43:48.398\u001B[0m | \u001B[1mINFO    \u001B[0m | \u001B[36msrc.vrp_study.pdptw_model.routing_model\u001B[0m:\u001B[36mdo_solve\u001B[0m:\u001B[36m407\u001B[0m - \u001B[1mНачало решения\u001B[0m\n",
      "\u001B[32m2025-07-22 16:43:48.400\u001B[0m | \u001B[1mINFO    \u001B[0m | \u001B[36msrc.vrp_study.pdptw_model.routing_model\u001B[0m:\u001B[36mdo_solve\u001B[0m:\u001B[36m410\u001B[0m - \u001B[1muse initial_solution: 1\u001B[0m\n",
      "\u001B[32m2025-07-22 16:43:48.401\u001B[0m | \u001B[34m\u001B[1mDEBUG   \u001B[0m | \u001B[36msrc.vrp_study.pdptw_model.routing_model\u001B[0m:\u001B[36m__call__\u001B[0m:\u001B[36m40\u001B[0m - \u001B[34m\u001B[1mtime: 0.004; new solution (1): 7205; best solution: 7205\u001B[0m\n",
      "\u001B[32m2025-07-22 16:43:48.404\u001B[0m | \u001B[34m\u001B[1mDEBUG   \u001B[0m | \u001B[36msrc.vrp_study.pdptw_model.routing_model\u001B[0m:\u001B[36m__call__\u001B[0m:\u001B[36m40\u001B[0m - \u001B[34m\u001B[1mtime: 0.007; new solution (2): 7205; best solution: 7205\u001B[0m\n",
      "\u001B[32m2025-07-22 16:43:48.406\u001B[0m | \u001B[1mINFO    \u001B[0m | \u001B[36msrc.vrp_study.pdptw_model.routing_model\u001B[0m:\u001B[36mdo_solve\u001B[0m:\u001B[36m423\u001B[0m - \u001B[1mfind solution\u001B[0m\n",
      "\u001B[32m2025-07-22 16:43:48.409\u001B[0m | \u001B[1mINFO    \u001B[0m | \u001B[36msrc.vrp_study.pdptw_model.routing_model\u001B[0m:\u001B[36mfind_optimal_paths\u001B[0m:\u001B[36m464\u001B[0m - \u001B[1mbest_score: 72.05\u001B[0m\n",
      "\u001B[32m2025-07-22 16:43:48.410\u001B[0m | \u001B[1mINFO    \u001B[0m | \u001B[36msrc.vrp_study.pdptw_model.solution_builder\u001B[0m:\u001B[36mget_initial_solution\u001B[0m:\u001B[36m138\u001B[0m - \u001B[1m[[0, 1, 2, 0], [], [], [], [], [], [], [], [], [], [], [], [], []]\u001B[0m\n",
      "\u001B[32m2025-07-22 16:43:48.417\u001B[0m | \u001B[1mINFO    \u001B[0m | \u001B[36msrc.vrp_study.pdptw_model.solution_builder\u001B[0m:\u001B[36mget_initial_solution\u001B[0m:\u001B[36m118\u001B[0m - \u001B[1m(1, 32.074999999999996)\u001B[0m\n",
      "\u001B[32m2025-07-22 16:43:48.420\u001B[0m | \u001B[1mINFO    \u001B[0m | \u001B[36msrc.vrp_study.pdptw_model.solution_builder\u001B[0m:\u001B[36mget_initial_solution\u001B[0m:\u001B[36m118\u001B[0m - \u001B[1m(1, 16.0875)\u001B[0m\n",
      "\u001B[32m2025-07-22 16:43:48.422\u001B[0m | \u001B[1mINFO    \u001B[0m | \u001B[36msrc.vrp_study.pdptw_model.solution_builder\u001B[0m:\u001B[36mget_initial_solution\u001B[0m:\u001B[36m118\u001B[0m - \u001B[1m(1, 8.09375)\u001B[0m\n",
      "\u001B[32m2025-07-22 16:43:48.424\u001B[0m | \u001B[1mINFO    \u001B[0m | \u001B[36msrc.vrp_study.pdptw_model.solution_builder\u001B[0m:\u001B[36mget_initial_solution\u001B[0m:\u001B[36m118\u001B[0m - \u001B[1m(1, 4.096875)\u001B[0m\n",
      "\u001B[32m2025-07-22 16:43:48.427\u001B[0m | \u001B[1mINFO    \u001B[0m | \u001B[36msrc.vrp_study.pdptw_model.solution_builder\u001B[0m:\u001B[36mget_initial_solution\u001B[0m:\u001B[36m118\u001B[0m - \u001B[1m(1, 2.0984374999999997)\u001B[0m\n",
      "\u001B[32m2025-07-22 16:43:48.429\u001B[0m | \u001B[1mINFO    \u001B[0m | \u001B[36msrc.vrp_study.pdptw_model.solution_builder\u001B[0m:\u001B[36mget_initial_solution\u001B[0m:\u001B[36m118\u001B[0m - \u001B[1m(1, 1.09921875)\u001B[0m\n",
      "\u001B[32m2025-07-22 16:43:48.432\u001B[0m | \u001B[1mINFO    \u001B[0m | \u001B[36msrc.vrp_study.pdptw_model.solution_builder\u001B[0m:\u001B[36mget_initial_solution\u001B[0m:\u001B[36m118\u001B[0m - \u001B[1m(5, 0.599609375)\u001B[0m\n",
      "\u001B[32m2025-07-22 16:43:48.434\u001B[0m | \u001B[1mINFO    \u001B[0m | \u001B[36msrc.vrp_study.pdptw_model.solution_builder\u001B[0m:\u001B[36mget_initial_solution\u001B[0m:\u001B[36m118\u001B[0m - \u001B[1m(5, 0.3498046875)\u001B[0m\n",
      "\u001B[32m2025-07-22 16:43:48.438\u001B[0m | \u001B[1mINFO    \u001B[0m | \u001B[36msrc.vrp_study.pdptw_model.solution_builder\u001B[0m:\u001B[36mget_initial_solution\u001B[0m:\u001B[36m118\u001B[0m - \u001B[1m(5, 0.22490234375)\u001B[0m\n",
      "\u001B[32m2025-07-22 16:43:48.441\u001B[0m | \u001B[1mINFO    \u001B[0m | \u001B[36msrc.vrp_study.pdptw_model.solution_builder\u001B[0m:\u001B[36mget_initial_solution\u001B[0m:\u001B[36m118\u001B[0m - \u001B[1m(6, 0.16245117187500002)\u001B[0m\n"
     ]
    },
    {
     "data": {
      "text/plain": "  0%|          | 0/1 [00:00<?, ?it/s]",
      "application/vnd.jupyter.widget-view+json": {
       "version_major": 2,
       "version_minor": 0,
       "model_id": "638ef9d608be4bd9be42169a1214a3d0"
      }
     },
     "metadata": {},
     "output_type": "display_data"
    },
    {
     "name": "stderr",
     "output_type": "stream",
     "text": [
      "\u001B[32m2025-07-22 16:43:48.459\u001B[0m | \u001B[1mINFO    \u001B[0m | \u001B[36msrc.vrp_study.pdptw_model.routing_model\u001B[0m:\u001B[36mfind_optimal_paths\u001B[0m:\u001B[36m443\u001B[0m - \u001B[1mproblem size: 13\u001B[0m\n",
      "\u001B[32m2025-07-22 16:43:48.461\u001B[0m | \u001B[1mINFO    \u001B[0m | \u001B[36msrc.vrp_study.pdptw_model.routing_model\u001B[0m:\u001B[36mdo_solve\u001B[0m:\u001B[36m378\u001B[0m - \u001B[1mНачало создания модели\u001B[0m\n",
      "\u001B[32m2025-07-22 16:43:48.464\u001B[0m | \u001B[1mINFO    \u001B[0m | \u001B[36msrc.vrp_study.pdptw_model.routing_model\u001B[0m:\u001B[36madd_distance_dimension\u001B[0m:\u001B[36m299\u001B[0m - \u001B[1mДобавление размерности для расстояния\u001B[0m\n",
      "\u001B[32m2025-07-22 16:43:48.466\u001B[0m | \u001B[1mINFO    \u001B[0m | \u001B[36msrc.vrp_study.pdptw_model.routing_model\u001B[0m:\u001B[36madd_count_dimension\u001B[0m:\u001B[36m335\u001B[0m - \u001B[1mДобавление размерности для расстояния\u001B[0m\n",
      "\u001B[32m2025-07-22 16:43:48.471\u001B[0m | \u001B[1mINFO    \u001B[0m | \u001B[36msrc.vrp_study.pdptw_model.routing_model\u001B[0m:\u001B[36madd_pick_up_and_delivery\u001B[0m:\u001B[36m269\u001B[0m - \u001B[1mДобавление ограничения для порядка доставки\u001B[0m\n",
      "\u001B[32m2025-07-22 16:43:48.473\u001B[0m | \u001B[1mINFO    \u001B[0m | \u001B[36msrc.vrp_study.pdptw_model.routing_model\u001B[0m:\u001B[36madd_time_window\u001B[0m:\u001B[36m194\u001B[0m - \u001B[1madd time\u001B[0m\n",
      "\u001B[32m2025-07-22 16:43:48.475\u001B[0m | \u001B[1mINFO    \u001B[0m | \u001B[36msrc.vrp_study.pdptw_model.routing_model\u001B[0m:\u001B[36madd_mass_constraint\u001B[0m:\u001B[36m177\u001B[0m - \u001B[1mДобавление ограничений для массы\u001B[0m\n",
      "\u001B[32m2025-07-22 16:43:48.484\u001B[0m | \u001B[1mINFO    \u001B[0m | \u001B[36msrc.vrp_study.pdptw_model.routing_model\u001B[0m:\u001B[36mdo_solve\u001B[0m:\u001B[36m407\u001B[0m - \u001B[1mНачало решения\u001B[0m\n",
      "\u001B[32m2025-07-22 16:43:48.494\u001B[0m | \u001B[34m\u001B[1mDEBUG   \u001B[0m | \u001B[36msrc.vrp_study.pdptw_model.routing_model\u001B[0m:\u001B[36m__call__\u001B[0m:\u001B[36m40\u001B[0m - \u001B[34m\u001B[1mtime: 0.013; new solution (1): 1; best solution: 1\u001B[0m\n",
      "\u001B[32m2025-07-22 16:43:48.545\u001B[0m | \u001B[1mINFO    \u001B[0m | \u001B[36msrc.vrp_study.pdptw_model.routing_model\u001B[0m:\u001B[36mdo_solve\u001B[0m:\u001B[36m423\u001B[0m - \u001B[1mfind solution\u001B[0m\n",
      "\u001B[32m2025-07-22 16:43:48.547\u001B[0m | \u001B[1mINFO    \u001B[0m | \u001B[36msrc.vrp_study.pdptw_model.routing_model\u001B[0m:\u001B[36mfind_optimal_paths\u001B[0m:\u001B[36m451\u001B[0m - \u001B[1mbest_score: 1\u001B[0m\n",
      "\u001B[32m2025-07-22 16:43:48.549\u001B[0m | \u001B[1mINFO    \u001B[0m | \u001B[36msrc.vrp_study.pdptw_model.routing_model\u001B[0m:\u001B[36mdo_solve\u001B[0m:\u001B[36m378\u001B[0m - \u001B[1mНачало создания модели\u001B[0m\n",
      "\u001B[32m2025-07-22 16:43:48.552\u001B[0m | \u001B[1mINFO    \u001B[0m | \u001B[36msrc.vrp_study.pdptw_model.routing_model\u001B[0m:\u001B[36madd_distance_dimension\u001B[0m:\u001B[36m299\u001B[0m - \u001B[1mДобавление размерности для расстояния\u001B[0m\n",
      "\u001B[32m2025-07-22 16:43:48.553\u001B[0m | \u001B[1mINFO    \u001B[0m | \u001B[36msrc.vrp_study.pdptw_model.routing_model\u001B[0m:\u001B[36madd_count_dimension\u001B[0m:\u001B[36m335\u001B[0m - \u001B[1mДобавление размерности для расстояния\u001B[0m\n",
      "\u001B[32m2025-07-22 16:43:48.555\u001B[0m | \u001B[1mINFO    \u001B[0m | \u001B[36msrc.vrp_study.pdptw_model.routing_model\u001B[0m:\u001B[36madd_pick_up_and_delivery\u001B[0m:\u001B[36m269\u001B[0m - \u001B[1mДобавление ограничения для порядка доставки\u001B[0m\n",
      "\u001B[32m2025-07-22 16:43:48.557\u001B[0m | \u001B[1mINFO    \u001B[0m | \u001B[36msrc.vrp_study.pdptw_model.routing_model\u001B[0m:\u001B[36madd_vehicles_cost\u001B[0m:\u001B[36m243\u001B[0m - \u001B[1mДобавление стоимостей машин\u001B[0m\n",
      "\u001B[32m2025-07-22 16:43:48.559\u001B[0m | \u001B[1mINFO    \u001B[0m | \u001B[36msrc.vrp_study.pdptw_model.routing_model\u001B[0m:\u001B[36madd_time_window\u001B[0m:\u001B[36m194\u001B[0m - \u001B[1madd time\u001B[0m\n",
      "\u001B[32m2025-07-22 16:43:48.561\u001B[0m | \u001B[1mINFO    \u001B[0m | \u001B[36msrc.vrp_study.pdptw_model.routing_model\u001B[0m:\u001B[36madd_mass_constraint\u001B[0m:\u001B[36m177\u001B[0m - \u001B[1mДобавление ограничений для массы\u001B[0m\n",
      "\u001B[32m2025-07-22 16:43:48.564\u001B[0m | \u001B[1mINFO    \u001B[0m | \u001B[36msrc.vrp_study.pdptw_model.routing_model\u001B[0m:\u001B[36mdo_solve\u001B[0m:\u001B[36m407\u001B[0m - \u001B[1mНачало решения\u001B[0m\n",
      "\u001B[32m2025-07-22 16:43:48.565\u001B[0m | \u001B[1mINFO    \u001B[0m | \u001B[36msrc.vrp_study.pdptw_model.routing_model\u001B[0m:\u001B[36mdo_solve\u001B[0m:\u001B[36m410\u001B[0m - \u001B[1muse initial_solution: 1\u001B[0m\n",
      "\u001B[32m2025-07-22 16:43:48.568\u001B[0m | \u001B[34m\u001B[1mDEBUG   \u001B[0m | \u001B[36msrc.vrp_study.pdptw_model.routing_model\u001B[0m:\u001B[36m__call__\u001B[0m:\u001B[36m40\u001B[0m - \u001B[34m\u001B[1mtime: 0.005; new solution (1): 5939; best solution: 5939\u001B[0m\n",
      "\u001B[32m2025-07-22 16:43:48.570\u001B[0m | \u001B[34m\u001B[1mDEBUG   \u001B[0m | \u001B[36msrc.vrp_study.pdptw_model.routing_model\u001B[0m:\u001B[36m__call__\u001B[0m:\u001B[36m40\u001B[0m - \u001B[34m\u001B[1mtime: 0.007; new solution (2): 5939; best solution: 5939\u001B[0m\n",
      "\u001B[32m2025-07-22 16:43:48.615\u001B[0m | \u001B[1mINFO    \u001B[0m | \u001B[36msrc.vrp_study.pdptw_model.routing_model\u001B[0m:\u001B[36mdo_solve\u001B[0m:\u001B[36m423\u001B[0m - \u001B[1mfind solution\u001B[0m\n",
      "\u001B[32m2025-07-22 16:43:48.616\u001B[0m | \u001B[1mINFO    \u001B[0m | \u001B[36msrc.vrp_study.pdptw_model.routing_model\u001B[0m:\u001B[36mfind_optimal_paths\u001B[0m:\u001B[36m464\u001B[0m - \u001B[1mbest_score: 59.39\u001B[0m\n",
      "\u001B[32m2025-07-22 16:43:48.618\u001B[0m | \u001B[1mINFO    \u001B[0m | \u001B[36msrc.vrp_study.pdptw_model.solution_builder\u001B[0m:\u001B[36mget_initial_solution\u001B[0m:\u001B[36m138\u001B[0m - \u001B[1m[[0, 1, 9, 5, 3, 6, 10, 2, 7, 8, 4, 11, 12, 0], [], [], [], [], [], [], [], [], [], [], [], []]\u001B[0m\n",
      "\u001B[32m2025-07-22 16:43:48.625\u001B[0m | \u001B[1mINFO    \u001B[0m | \u001B[36msrc.vrp_study.pdptw_model.solution_builder\u001B[0m:\u001B[36mget_initial_solution\u001B[0m:\u001B[36m118\u001B[0m - \u001B[1m(1, 32.074999999999996)\u001B[0m\n",
      "\u001B[32m2025-07-22 16:43:48.630\u001B[0m | \u001B[1mINFO    \u001B[0m | \u001B[36msrc.vrp_study.pdptw_model.solution_builder\u001B[0m:\u001B[36mget_initial_solution\u001B[0m:\u001B[36m118\u001B[0m - \u001B[1m(1, 16.0875)\u001B[0m\n",
      "\u001B[32m2025-07-22 16:43:48.632\u001B[0m | \u001B[1mINFO    \u001B[0m | \u001B[36msrc.vrp_study.pdptw_model.solution_builder\u001B[0m:\u001B[36mget_initial_solution\u001B[0m:\u001B[36m118\u001B[0m - \u001B[1m(1, 8.09375)\u001B[0m\n",
      "\u001B[32m2025-07-22 16:43:48.635\u001B[0m | \u001B[1mINFO    \u001B[0m | \u001B[36msrc.vrp_study.pdptw_model.solution_builder\u001B[0m:\u001B[36mget_initial_solution\u001B[0m:\u001B[36m118\u001B[0m - \u001B[1m(1, 4.096875)\u001B[0m\n",
      "\u001B[32m2025-07-22 16:43:48.637\u001B[0m | \u001B[1mINFO    \u001B[0m | \u001B[36msrc.vrp_study.pdptw_model.solution_builder\u001B[0m:\u001B[36mget_initial_solution\u001B[0m:\u001B[36m118\u001B[0m - \u001B[1m(1, 2.0984374999999997)\u001B[0m\n",
      "\u001B[32m2025-07-22 16:43:48.641\u001B[0m | \u001B[1mINFO    \u001B[0m | \u001B[36msrc.vrp_study.pdptw_model.solution_builder\u001B[0m:\u001B[36mget_initial_solution\u001B[0m:\u001B[36m118\u001B[0m - \u001B[1m(1, 1.09921875)\u001B[0m\n",
      "\u001B[32m2025-07-22 16:43:48.645\u001B[0m | \u001B[1mINFO    \u001B[0m | \u001B[36msrc.vrp_study.pdptw_model.solution_builder\u001B[0m:\u001B[36mget_initial_solution\u001B[0m:\u001B[36m118\u001B[0m - \u001B[1m(3, 0.599609375)\u001B[0m\n",
      "\u001B[32m2025-07-22 16:43:48.650\u001B[0m | \u001B[1mINFO    \u001B[0m | \u001B[36msrc.vrp_study.pdptw_model.solution_builder\u001B[0m:\u001B[36mget_initial_solution\u001B[0m:\u001B[36m118\u001B[0m - \u001B[1m(5, 0.3498046875)\u001B[0m\n",
      "\u001B[32m2025-07-22 16:43:48.654\u001B[0m | \u001B[1mINFO    \u001B[0m | \u001B[36msrc.vrp_study.pdptw_model.solution_builder\u001B[0m:\u001B[36mget_initial_solution\u001B[0m:\u001B[36m118\u001B[0m - \u001B[1m(5, 0.22490234375)\u001B[0m\n",
      "\u001B[32m2025-07-22 16:43:48.656\u001B[0m | \u001B[1mINFO    \u001B[0m | \u001B[36msrc.vrp_study.pdptw_model.solution_builder\u001B[0m:\u001B[36mget_initial_solution\u001B[0m:\u001B[36m118\u001B[0m - \u001B[1m(5, 0.16245117187500002)\u001B[0m\n"
     ]
    },
    {
     "data": {
      "text/plain": "  0%|          | 0/1 [00:00<?, ?it/s]",
      "application/vnd.jupyter.widget-view+json": {
       "version_major": 2,
       "version_minor": 0,
       "model_id": "ada4d69679d2490cbbeab7296295f83d"
      }
     },
     "metadata": {},
     "output_type": "display_data"
    },
    {
     "name": "stderr",
     "output_type": "stream",
     "text": [
      "\u001B[32m2025-07-22 16:43:48.678\u001B[0m | \u001B[1mINFO    \u001B[0m | \u001B[36msrc.vrp_study.pdptw_model.routing_model\u001B[0m:\u001B[36mfind_optimal_paths\u001B[0m:\u001B[36m443\u001B[0m - \u001B[1mproblem size: 11\u001B[0m\n",
      "\u001B[32m2025-07-22 16:43:48.680\u001B[0m | \u001B[1mINFO    \u001B[0m | \u001B[36msrc.vrp_study.pdptw_model.routing_model\u001B[0m:\u001B[36mdo_solve\u001B[0m:\u001B[36m378\u001B[0m - \u001B[1mНачало создания модели\u001B[0m\n",
      "\u001B[32m2025-07-22 16:43:48.683\u001B[0m | \u001B[1mINFO    \u001B[0m | \u001B[36msrc.vrp_study.pdptw_model.routing_model\u001B[0m:\u001B[36madd_distance_dimension\u001B[0m:\u001B[36m299\u001B[0m - \u001B[1mДобавление размерности для расстояния\u001B[0m\n",
      "\u001B[32m2025-07-22 16:43:48.685\u001B[0m | \u001B[1mINFO    \u001B[0m | \u001B[36msrc.vrp_study.pdptw_model.routing_model\u001B[0m:\u001B[36madd_count_dimension\u001B[0m:\u001B[36m335\u001B[0m - \u001B[1mДобавление размерности для расстояния\u001B[0m\n",
      "\u001B[32m2025-07-22 16:43:48.688\u001B[0m | \u001B[1mINFO    \u001B[0m | \u001B[36msrc.vrp_study.pdptw_model.routing_model\u001B[0m:\u001B[36madd_pick_up_and_delivery\u001B[0m:\u001B[36m269\u001B[0m - \u001B[1mДобавление ограничения для порядка доставки\u001B[0m\n",
      "\u001B[32m2025-07-22 16:43:48.693\u001B[0m | \u001B[1mINFO    \u001B[0m | \u001B[36msrc.vrp_study.pdptw_model.routing_model\u001B[0m:\u001B[36madd_time_window\u001B[0m:\u001B[36m194\u001B[0m - \u001B[1madd time\u001B[0m\n",
      "\u001B[32m2025-07-22 16:43:48.695\u001B[0m | \u001B[1mINFO    \u001B[0m | \u001B[36msrc.vrp_study.pdptw_model.routing_model\u001B[0m:\u001B[36madd_mass_constraint\u001B[0m:\u001B[36m177\u001B[0m - \u001B[1mДобавление ограничений для массы\u001B[0m\n",
      "\u001B[32m2025-07-22 16:43:48.703\u001B[0m | \u001B[1mINFO    \u001B[0m | \u001B[36msrc.vrp_study.pdptw_model.routing_model\u001B[0m:\u001B[36mdo_solve\u001B[0m:\u001B[36m407\u001B[0m - \u001B[1mНачало решения\u001B[0m\n",
      "\u001B[32m2025-07-22 16:43:48.710\u001B[0m | \u001B[34m\u001B[1mDEBUG   \u001B[0m | \u001B[36msrc.vrp_study.pdptw_model.routing_model\u001B[0m:\u001B[36m__call__\u001B[0m:\u001B[36m40\u001B[0m - \u001B[34m\u001B[1mtime: 0.009; new solution (1): 1; best solution: 1\u001B[0m\n",
      "\u001B[32m2025-07-22 16:43:48.732\u001B[0m | \u001B[1mINFO    \u001B[0m | \u001B[36msrc.vrp_study.pdptw_model.routing_model\u001B[0m:\u001B[36mdo_solve\u001B[0m:\u001B[36m423\u001B[0m - \u001B[1mfind solution\u001B[0m\n",
      "\u001B[32m2025-07-22 16:43:48.733\u001B[0m | \u001B[1mINFO    \u001B[0m | \u001B[36msrc.vrp_study.pdptw_model.routing_model\u001B[0m:\u001B[36mfind_optimal_paths\u001B[0m:\u001B[36m451\u001B[0m - \u001B[1mbest_score: 1\u001B[0m\n",
      "\u001B[32m2025-07-22 16:43:48.735\u001B[0m | \u001B[1mINFO    \u001B[0m | \u001B[36msrc.vrp_study.pdptw_model.routing_model\u001B[0m:\u001B[36mdo_solve\u001B[0m:\u001B[36m378\u001B[0m - \u001B[1mНачало создания модели\u001B[0m\n",
      "\u001B[32m2025-07-22 16:43:48.737\u001B[0m | \u001B[1mINFO    \u001B[0m | \u001B[36msrc.vrp_study.pdptw_model.routing_model\u001B[0m:\u001B[36madd_distance_dimension\u001B[0m:\u001B[36m299\u001B[0m - \u001B[1mДобавление размерности для расстояния\u001B[0m\n",
      "\u001B[32m2025-07-22 16:43:48.739\u001B[0m | \u001B[1mINFO    \u001B[0m | \u001B[36msrc.vrp_study.pdptw_model.routing_model\u001B[0m:\u001B[36madd_count_dimension\u001B[0m:\u001B[36m335\u001B[0m - \u001B[1mДобавление размерности для расстояния\u001B[0m\n",
      "\u001B[32m2025-07-22 16:43:48.740\u001B[0m | \u001B[1mINFO    \u001B[0m | \u001B[36msrc.vrp_study.pdptw_model.routing_model\u001B[0m:\u001B[36madd_pick_up_and_delivery\u001B[0m:\u001B[36m269\u001B[0m - \u001B[1mДобавление ограничения для порядка доставки\u001B[0m\n",
      "\u001B[32m2025-07-22 16:43:48.744\u001B[0m | \u001B[1mINFO    \u001B[0m | \u001B[36msrc.vrp_study.pdptw_model.routing_model\u001B[0m:\u001B[36madd_vehicles_cost\u001B[0m:\u001B[36m243\u001B[0m - \u001B[1mДобавление стоимостей машин\u001B[0m\n",
      "\u001B[32m2025-07-22 16:43:48.745\u001B[0m | \u001B[1mINFO    \u001B[0m | \u001B[36msrc.vrp_study.pdptw_model.routing_model\u001B[0m:\u001B[36madd_time_window\u001B[0m:\u001B[36m194\u001B[0m - \u001B[1madd time\u001B[0m\n",
      "\u001B[32m2025-07-22 16:43:48.747\u001B[0m | \u001B[1mINFO    \u001B[0m | \u001B[36msrc.vrp_study.pdptw_model.routing_model\u001B[0m:\u001B[36madd_mass_constraint\u001B[0m:\u001B[36m177\u001B[0m - \u001B[1mДобавление ограничений для массы\u001B[0m\n",
      "\u001B[32m2025-07-22 16:43:48.749\u001B[0m | \u001B[1mINFO    \u001B[0m | \u001B[36msrc.vrp_study.pdptw_model.routing_model\u001B[0m:\u001B[36mdo_solve\u001B[0m:\u001B[36m407\u001B[0m - \u001B[1mНачало решения\u001B[0m\n",
      "\u001B[32m2025-07-22 16:43:48.750\u001B[0m | \u001B[1mINFO    \u001B[0m | \u001B[36msrc.vrp_study.pdptw_model.routing_model\u001B[0m:\u001B[36mdo_solve\u001B[0m:\u001B[36m410\u001B[0m - \u001B[1muse initial_solution: 1\u001B[0m\n",
      "\u001B[32m2025-07-22 16:43:48.752\u001B[0m | \u001B[34m\u001B[1mDEBUG   \u001B[0m | \u001B[36msrc.vrp_study.pdptw_model.routing_model\u001B[0m:\u001B[36m__call__\u001B[0m:\u001B[36m40\u001B[0m - \u001B[34m\u001B[1mtime: 0.004; new solution (1): 12728; best solution: 12728\u001B[0m\n",
      "\u001B[32m2025-07-22 16:43:48.754\u001B[0m | \u001B[34m\u001B[1mDEBUG   \u001B[0m | \u001B[36msrc.vrp_study.pdptw_model.routing_model\u001B[0m:\u001B[36m__call__\u001B[0m:\u001B[36m40\u001B[0m - \u001B[34m\u001B[1mtime: 0.006; new solution (2): 12728; best solution: 12728\u001B[0m\n",
      "\u001B[32m2025-07-22 16:43:48.779\u001B[0m | \u001B[1mINFO    \u001B[0m | \u001B[36msrc.vrp_study.pdptw_model.routing_model\u001B[0m:\u001B[36mdo_solve\u001B[0m:\u001B[36m423\u001B[0m - \u001B[1mfind solution\u001B[0m\n",
      "\u001B[32m2025-07-22 16:43:48.781\u001B[0m | \u001B[1mINFO    \u001B[0m | \u001B[36msrc.vrp_study.pdptw_model.routing_model\u001B[0m:\u001B[36mfind_optimal_paths\u001B[0m:\u001B[36m464\u001B[0m - \u001B[1mbest_score: 127.28\u001B[0m\n",
      "\u001B[32m2025-07-22 16:43:48.784\u001B[0m | \u001B[1mINFO    \u001B[0m | \u001B[36msrc.vrp_study.pdptw_model.solution_builder\u001B[0m:\u001B[36mget_initial_solution\u001B[0m:\u001B[36m138\u001B[0m - \u001B[1m[[0, 1, 7, 8, 5, 3, 2, 6, 4, 9, 10, 0], [], [], [], [], [], [], [], [], [], [], []]\u001B[0m\n",
      "\u001B[32m2025-07-22 16:43:48.792\u001B[0m | \u001B[1mINFO    \u001B[0m | \u001B[36msrc.vrp_study.pdptw_model.solution_builder\u001B[0m:\u001B[36mget_initial_solution\u001B[0m:\u001B[36m118\u001B[0m - \u001B[1m(1, 32.074999999999996)\u001B[0m\n",
      "\u001B[32m2025-07-22 16:43:48.795\u001B[0m | \u001B[1mINFO    \u001B[0m | \u001B[36msrc.vrp_study.pdptw_model.solution_builder\u001B[0m:\u001B[36mget_initial_solution\u001B[0m:\u001B[36m118\u001B[0m - \u001B[1m(1, 16.0875)\u001B[0m\n",
      "\u001B[32m2025-07-22 16:43:48.798\u001B[0m | \u001B[1mINFO    \u001B[0m | \u001B[36msrc.vrp_study.pdptw_model.solution_builder\u001B[0m:\u001B[36mget_initial_solution\u001B[0m:\u001B[36m118\u001B[0m - \u001B[1m(1, 8.09375)\u001B[0m\n",
      "\u001B[32m2025-07-22 16:43:48.800\u001B[0m | \u001B[1mINFO    \u001B[0m | \u001B[36msrc.vrp_study.pdptw_model.solution_builder\u001B[0m:\u001B[36mget_initial_solution\u001B[0m:\u001B[36m118\u001B[0m - \u001B[1m(1, 4.096875)\u001B[0m\n",
      "\u001B[32m2025-07-22 16:43:48.803\u001B[0m | \u001B[1mINFO    \u001B[0m | \u001B[36msrc.vrp_study.pdptw_model.solution_builder\u001B[0m:\u001B[36mget_initial_solution\u001B[0m:\u001B[36m118\u001B[0m - \u001B[1m(1, 2.0984374999999997)\u001B[0m\n",
      "\u001B[32m2025-07-22 16:43:48.805\u001B[0m | \u001B[1mINFO    \u001B[0m | \u001B[36msrc.vrp_study.pdptw_model.solution_builder\u001B[0m:\u001B[36mget_initial_solution\u001B[0m:\u001B[36m118\u001B[0m - \u001B[1m(1, 1.09921875)\u001B[0m\n",
      "\u001B[32m2025-07-22 16:43:48.808\u001B[0m | \u001B[1mINFO    \u001B[0m | \u001B[36msrc.vrp_study.pdptw_model.solution_builder\u001B[0m:\u001B[36mget_initial_solution\u001B[0m:\u001B[36m118\u001B[0m - \u001B[1m(4, 0.599609375)\u001B[0m\n",
      "\u001B[32m2025-07-22 16:43:48.811\u001B[0m | \u001B[1mINFO    \u001B[0m | \u001B[36msrc.vrp_study.pdptw_model.solution_builder\u001B[0m:\u001B[36mget_initial_solution\u001B[0m:\u001B[36m118\u001B[0m - \u001B[1m(5, 0.3498046875)\u001B[0m\n",
      "\u001B[32m2025-07-22 16:43:48.815\u001B[0m | \u001B[1mINFO    \u001B[0m | \u001B[36msrc.vrp_study.pdptw_model.solution_builder\u001B[0m:\u001B[36mget_initial_solution\u001B[0m:\u001B[36m118\u001B[0m - \u001B[1m(5, 0.22490234375)\u001B[0m\n",
      "\u001B[32m2025-07-22 16:43:48.818\u001B[0m | \u001B[1mINFO    \u001B[0m | \u001B[36msrc.vrp_study.pdptw_model.solution_builder\u001B[0m:\u001B[36mget_initial_solution\u001B[0m:\u001B[36m118\u001B[0m - \u001B[1m(5, 0.16245117187500002)\u001B[0m\n"
     ]
    },
    {
     "data": {
      "text/plain": "  0%|          | 0/1 [00:00<?, ?it/s]",
      "application/vnd.jupyter.widget-view+json": {
       "version_major": 2,
       "version_minor": 0,
       "model_id": "edcfedfd85004472ae42ae46cce94b11"
      }
     },
     "metadata": {},
     "output_type": "display_data"
    },
    {
     "name": "stderr",
     "output_type": "stream",
     "text": [
      "\u001B[32m2025-07-22 16:43:48.835\u001B[0m | \u001B[1mINFO    \u001B[0m | \u001B[36msrc.vrp_study.pdptw_model.routing_model\u001B[0m:\u001B[36mfind_optimal_paths\u001B[0m:\u001B[36m443\u001B[0m - \u001B[1mproblem size: 11\u001B[0m\n",
      "\u001B[32m2025-07-22 16:43:48.836\u001B[0m | \u001B[1mINFO    \u001B[0m | \u001B[36msrc.vrp_study.pdptw_model.routing_model\u001B[0m:\u001B[36mdo_solve\u001B[0m:\u001B[36m378\u001B[0m - \u001B[1mНачало создания модели\u001B[0m\n",
      "\u001B[32m2025-07-22 16:43:48.841\u001B[0m | \u001B[1mINFO    \u001B[0m | \u001B[36msrc.vrp_study.pdptw_model.routing_model\u001B[0m:\u001B[36madd_distance_dimension\u001B[0m:\u001B[36m299\u001B[0m - \u001B[1mДобавление размерности для расстояния\u001B[0m\n",
      "\u001B[32m2025-07-22 16:43:48.842\u001B[0m | \u001B[1mINFO    \u001B[0m | \u001B[36msrc.vrp_study.pdptw_model.routing_model\u001B[0m:\u001B[36madd_count_dimension\u001B[0m:\u001B[36m335\u001B[0m - \u001B[1mДобавление размерности для расстояния\u001B[0m\n",
      "\u001B[32m2025-07-22 16:43:48.844\u001B[0m | \u001B[1mINFO    \u001B[0m | \u001B[36msrc.vrp_study.pdptw_model.routing_model\u001B[0m:\u001B[36madd_pick_up_and_delivery\u001B[0m:\u001B[36m269\u001B[0m - \u001B[1mДобавление ограничения для порядка доставки\u001B[0m\n",
      "\u001B[32m2025-07-22 16:43:48.846\u001B[0m | \u001B[1mINFO    \u001B[0m | \u001B[36msrc.vrp_study.pdptw_model.routing_model\u001B[0m:\u001B[36madd_time_window\u001B[0m:\u001B[36m194\u001B[0m - \u001B[1madd time\u001B[0m\n",
      "\u001B[32m2025-07-22 16:43:48.847\u001B[0m | \u001B[1mINFO    \u001B[0m | \u001B[36msrc.vrp_study.pdptw_model.routing_model\u001B[0m:\u001B[36madd_mass_constraint\u001B[0m:\u001B[36m177\u001B[0m - \u001B[1mДобавление ограничений для массы\u001B[0m\n",
      "\u001B[32m2025-07-22 16:43:48.855\u001B[0m | \u001B[1mINFO    \u001B[0m | \u001B[36msrc.vrp_study.pdptw_model.routing_model\u001B[0m:\u001B[36mdo_solve\u001B[0m:\u001B[36m407\u001B[0m - \u001B[1mНачало решения\u001B[0m\n",
      "\u001B[32m2025-07-22 16:43:48.862\u001B[0m | \u001B[34m\u001B[1mDEBUG   \u001B[0m | \u001B[36msrc.vrp_study.pdptw_model.routing_model\u001B[0m:\u001B[36m__call__\u001B[0m:\u001B[36m40\u001B[0m - \u001B[34m\u001B[1mtime: 0.009; new solution (1): 1; best solution: 1\u001B[0m\n",
      "\u001B[32m2025-07-22 16:43:48.887\u001B[0m | \u001B[1mINFO    \u001B[0m | \u001B[36msrc.vrp_study.pdptw_model.routing_model\u001B[0m:\u001B[36mdo_solve\u001B[0m:\u001B[36m423\u001B[0m - \u001B[1mfind solution\u001B[0m\n",
      "\u001B[32m2025-07-22 16:43:48.889\u001B[0m | \u001B[1mINFO    \u001B[0m | \u001B[36msrc.vrp_study.pdptw_model.routing_model\u001B[0m:\u001B[36mfind_optimal_paths\u001B[0m:\u001B[36m451\u001B[0m - \u001B[1mbest_score: 1\u001B[0m\n",
      "\u001B[32m2025-07-22 16:43:48.891\u001B[0m | \u001B[1mINFO    \u001B[0m | \u001B[36msrc.vrp_study.pdptw_model.routing_model\u001B[0m:\u001B[36mdo_solve\u001B[0m:\u001B[36m378\u001B[0m - \u001B[1mНачало создания модели\u001B[0m\n",
      "\u001B[32m2025-07-22 16:43:48.894\u001B[0m | \u001B[1mINFO    \u001B[0m | \u001B[36msrc.vrp_study.pdptw_model.routing_model\u001B[0m:\u001B[36madd_distance_dimension\u001B[0m:\u001B[36m299\u001B[0m - \u001B[1mДобавление размерности для расстояния\u001B[0m\n",
      "\u001B[32m2025-07-22 16:43:48.896\u001B[0m | \u001B[1mINFO    \u001B[0m | \u001B[36msrc.vrp_study.pdptw_model.routing_model\u001B[0m:\u001B[36madd_count_dimension\u001B[0m:\u001B[36m335\u001B[0m - \u001B[1mДобавление размерности для расстояния\u001B[0m\n",
      "\u001B[32m2025-07-22 16:43:48.898\u001B[0m | \u001B[1mINFO    \u001B[0m | \u001B[36msrc.vrp_study.pdptw_model.routing_model\u001B[0m:\u001B[36madd_pick_up_and_delivery\u001B[0m:\u001B[36m269\u001B[0m - \u001B[1mДобавление ограничения для порядка доставки\u001B[0m\n",
      "\u001B[32m2025-07-22 16:43:48.900\u001B[0m | \u001B[1mINFO    \u001B[0m | \u001B[36msrc.vrp_study.pdptw_model.routing_model\u001B[0m:\u001B[36madd_vehicles_cost\u001B[0m:\u001B[36m243\u001B[0m - \u001B[1mДобавление стоимостей машин\u001B[0m\n",
      "\u001B[32m2025-07-22 16:43:48.902\u001B[0m | \u001B[1mINFO    \u001B[0m | \u001B[36msrc.vrp_study.pdptw_model.routing_model\u001B[0m:\u001B[36madd_time_window\u001B[0m:\u001B[36m194\u001B[0m - \u001B[1madd time\u001B[0m\n",
      "\u001B[32m2025-07-22 16:43:48.903\u001B[0m | \u001B[1mINFO    \u001B[0m | \u001B[36msrc.vrp_study.pdptw_model.routing_model\u001B[0m:\u001B[36madd_mass_constraint\u001B[0m:\u001B[36m177\u001B[0m - \u001B[1mДобавление ограничений для массы\u001B[0m\n",
      "\u001B[32m2025-07-22 16:43:48.907\u001B[0m | \u001B[1mINFO    \u001B[0m | \u001B[36msrc.vrp_study.pdptw_model.routing_model\u001B[0m:\u001B[36mdo_solve\u001B[0m:\u001B[36m407\u001B[0m - \u001B[1mНачало решения\u001B[0m\n",
      "\u001B[32m2025-07-22 16:43:48.908\u001B[0m | \u001B[1mINFO    \u001B[0m | \u001B[36msrc.vrp_study.pdptw_model.routing_model\u001B[0m:\u001B[36mdo_solve\u001B[0m:\u001B[36m410\u001B[0m - \u001B[1muse initial_solution: 1\u001B[0m\n",
      "\u001B[32m2025-07-22 16:43:48.910\u001B[0m | \u001B[34m\u001B[1mDEBUG   \u001B[0m | \u001B[36msrc.vrp_study.pdptw_model.routing_model\u001B[0m:\u001B[36m__call__\u001B[0m:\u001B[36m40\u001B[0m - \u001B[34m\u001B[1mtime: 0.004; new solution (1): 7604; best solution: 7604\u001B[0m\n",
      "\u001B[32m2025-07-22 16:43:48.913\u001B[0m | \u001B[34m\u001B[1mDEBUG   \u001B[0m | \u001B[36msrc.vrp_study.pdptw_model.routing_model\u001B[0m:\u001B[36m__call__\u001B[0m:\u001B[36m40\u001B[0m - \u001B[34m\u001B[1mtime: 0.007; new solution (2): 7604; best solution: 7604\u001B[0m\n",
      "\u001B[32m2025-07-22 16:43:48.940\u001B[0m | \u001B[1mINFO    \u001B[0m | \u001B[36msrc.vrp_study.pdptw_model.routing_model\u001B[0m:\u001B[36mdo_solve\u001B[0m:\u001B[36m423\u001B[0m - \u001B[1mfind solution\u001B[0m\n",
      "\u001B[32m2025-07-22 16:43:48.942\u001B[0m | \u001B[1mINFO    \u001B[0m | \u001B[36msrc.vrp_study.pdptw_model.routing_model\u001B[0m:\u001B[36mfind_optimal_paths\u001B[0m:\u001B[36m464\u001B[0m - \u001B[1mbest_score: 76.04\u001B[0m\n",
      "\u001B[32m2025-07-22 16:43:48.943\u001B[0m | \u001B[1mINFO    \u001B[0m | \u001B[36msrc.vrp_study.pdptw_model.solution_builder\u001B[0m:\u001B[36mget_initial_solution\u001B[0m:\u001B[36m138\u001B[0m - \u001B[1m[[0, 9, 3, 7, 4, 1, 5, 2, 10, 6, 8, 0], [], [], [], [], [], [], [], [], [], []]\u001B[0m\n"
     ]
    },
    {
     "data": {
      "text/plain": "  0%|          | 0/1 [00:00<?, ?it/s]",
      "application/vnd.jupyter.widget-view+json": {
       "version_major": 2,
       "version_minor": 0,
       "model_id": "1e015a83d172458081ef0fc156267a14"
      }
     },
     "metadata": {},
     "output_type": "display_data"
    },
    {
     "name": "stderr",
     "output_type": "stream",
     "text": [
      "\u001B[32m2025-07-22 16:43:48.963\u001B[0m | \u001B[1mINFO    \u001B[0m | \u001B[36msrc.vrp_study.pdptw_model.routing_model\u001B[0m:\u001B[36mfind_optimal_paths\u001B[0m:\u001B[36m443\u001B[0m - \u001B[1mproblem size: 3\u001B[0m\n",
      "\u001B[32m2025-07-22 16:43:48.965\u001B[0m | \u001B[1mINFO    \u001B[0m | \u001B[36msrc.vrp_study.pdptw_model.routing_model\u001B[0m:\u001B[36mdo_solve\u001B[0m:\u001B[36m378\u001B[0m - \u001B[1mНачало создания модели\u001B[0m\n",
      "\u001B[32m2025-07-22 16:43:48.972\u001B[0m | \u001B[1mINFO    \u001B[0m | \u001B[36msrc.vrp_study.pdptw_model.routing_model\u001B[0m:\u001B[36madd_distance_dimension\u001B[0m:\u001B[36m299\u001B[0m - \u001B[1mДобавление размерности для расстояния\u001B[0m\n",
      "\u001B[32m2025-07-22 16:43:48.974\u001B[0m | \u001B[1mINFO    \u001B[0m | \u001B[36msrc.vrp_study.pdptw_model.routing_model\u001B[0m:\u001B[36madd_count_dimension\u001B[0m:\u001B[36m335\u001B[0m - \u001B[1mДобавление размерности для расстояния\u001B[0m\n",
      "\u001B[32m2025-07-22 16:43:48.976\u001B[0m | \u001B[1mINFO    \u001B[0m | \u001B[36msrc.vrp_study.pdptw_model.routing_model\u001B[0m:\u001B[36madd_pick_up_and_delivery\u001B[0m:\u001B[36m269\u001B[0m - \u001B[1mДобавление ограничения для порядка доставки\u001B[0m\n",
      "\u001B[32m2025-07-22 16:43:48.979\u001B[0m | \u001B[1mINFO    \u001B[0m | \u001B[36msrc.vrp_study.pdptw_model.routing_model\u001B[0m:\u001B[36madd_time_window\u001B[0m:\u001B[36m194\u001B[0m - \u001B[1madd time\u001B[0m\n",
      "\u001B[32m2025-07-22 16:43:48.981\u001B[0m | \u001B[1mINFO    \u001B[0m | \u001B[36msrc.vrp_study.pdptw_model.routing_model\u001B[0m:\u001B[36madd_mass_constraint\u001B[0m:\u001B[36m177\u001B[0m - \u001B[1mДобавление ограничений для массы\u001B[0m\n",
      "\u001B[32m2025-07-22 16:43:48.986\u001B[0m | \u001B[1mINFO    \u001B[0m | \u001B[36msrc.vrp_study.pdptw_model.routing_model\u001B[0m:\u001B[36mdo_solve\u001B[0m:\u001B[36m407\u001B[0m - \u001B[1mНачало решения\u001B[0m\n",
      "\u001B[32m2025-07-22 16:43:48.989\u001B[0m | \u001B[34m\u001B[1mDEBUG   \u001B[0m | \u001B[36msrc.vrp_study.pdptw_model.routing_model\u001B[0m:\u001B[36m__call__\u001B[0m:\u001B[36m40\u001B[0m - \u001B[34m\u001B[1mtime: 0.005; new solution (1): 1; best solution: 1\u001B[0m\n",
      "\u001B[32m2025-07-22 16:43:48.993\u001B[0m | \u001B[1mINFO    \u001B[0m | \u001B[36msrc.vrp_study.pdptw_model.routing_model\u001B[0m:\u001B[36mdo_solve\u001B[0m:\u001B[36m423\u001B[0m - \u001B[1mfind solution\u001B[0m\n",
      "\u001B[32m2025-07-22 16:43:48.996\u001B[0m | \u001B[1mINFO    \u001B[0m | \u001B[36msrc.vrp_study.pdptw_model.routing_model\u001B[0m:\u001B[36mfind_optimal_paths\u001B[0m:\u001B[36m451\u001B[0m - \u001B[1mbest_score: 1\u001B[0m\n",
      "\u001B[32m2025-07-22 16:43:48.998\u001B[0m | \u001B[1mINFO    \u001B[0m | \u001B[36msrc.vrp_study.pdptw_model.routing_model\u001B[0m:\u001B[36mdo_solve\u001B[0m:\u001B[36m378\u001B[0m - \u001B[1mНачало создания модели\u001B[0m\n",
      "\u001B[32m2025-07-22 16:43:49.001\u001B[0m | \u001B[1mINFO    \u001B[0m | \u001B[36msrc.vrp_study.pdptw_model.routing_model\u001B[0m:\u001B[36madd_distance_dimension\u001B[0m:\u001B[36m299\u001B[0m - \u001B[1mДобавление размерности для расстояния\u001B[0m\n",
      "\u001B[32m2025-07-22 16:43:49.003\u001B[0m | \u001B[1mINFO    \u001B[0m | \u001B[36msrc.vrp_study.pdptw_model.routing_model\u001B[0m:\u001B[36madd_count_dimension\u001B[0m:\u001B[36m335\u001B[0m - \u001B[1mДобавление размерности для расстояния\u001B[0m\n",
      "\u001B[32m2025-07-22 16:43:49.005\u001B[0m | \u001B[1mINFO    \u001B[0m | \u001B[36msrc.vrp_study.pdptw_model.routing_model\u001B[0m:\u001B[36madd_pick_up_and_delivery\u001B[0m:\u001B[36m269\u001B[0m - \u001B[1mДобавление ограничения для порядка доставки\u001B[0m\n",
      "\u001B[32m2025-07-22 16:43:49.007\u001B[0m | \u001B[1mINFO    \u001B[0m | \u001B[36msrc.vrp_study.pdptw_model.routing_model\u001B[0m:\u001B[36madd_vehicles_cost\u001B[0m:\u001B[36m243\u001B[0m - \u001B[1mДобавление стоимостей машин\u001B[0m\n",
      "\u001B[32m2025-07-22 16:43:49.008\u001B[0m | \u001B[1mINFO    \u001B[0m | \u001B[36msrc.vrp_study.pdptw_model.routing_model\u001B[0m:\u001B[36madd_time_window\u001B[0m:\u001B[36m194\u001B[0m - \u001B[1madd time\u001B[0m\n",
      "\u001B[32m2025-07-22 16:43:49.010\u001B[0m | \u001B[1mINFO    \u001B[0m | \u001B[36msrc.vrp_study.pdptw_model.routing_model\u001B[0m:\u001B[36madd_mass_constraint\u001B[0m:\u001B[36m177\u001B[0m - \u001B[1mДобавление ограничений для массы\u001B[0m\n",
      "\u001B[32m2025-07-22 16:43:49.012\u001B[0m | \u001B[1mINFO    \u001B[0m | \u001B[36msrc.vrp_study.pdptw_model.routing_model\u001B[0m:\u001B[36mdo_solve\u001B[0m:\u001B[36m407\u001B[0m - \u001B[1mНачало решения\u001B[0m\n",
      "\u001B[32m2025-07-22 16:43:49.015\u001B[0m | \u001B[1mINFO    \u001B[0m | \u001B[36msrc.vrp_study.pdptw_model.routing_model\u001B[0m:\u001B[36mdo_solve\u001B[0m:\u001B[36m410\u001B[0m - \u001B[1muse initial_solution: 1\u001B[0m\n",
      "\u001B[32m2025-07-22 16:43:49.017\u001B[0m | \u001B[34m\u001B[1mDEBUG   \u001B[0m | \u001B[36msrc.vrp_study.pdptw_model.routing_model\u001B[0m:\u001B[36m__call__\u001B[0m:\u001B[36m40\u001B[0m - \u001B[34m\u001B[1mtime: 0.005; new solution (1): 8921; best solution: 8921\u001B[0m\n",
      "\u001B[32m2025-07-22 16:43:49.020\u001B[0m | \u001B[34m\u001B[1mDEBUG   \u001B[0m | \u001B[36msrc.vrp_study.pdptw_model.routing_model\u001B[0m:\u001B[36m__call__\u001B[0m:\u001B[36m40\u001B[0m - \u001B[34m\u001B[1mtime: 0.009; new solution (2): 8921; best solution: 8921\u001B[0m\n",
      "\u001B[32m2025-07-22 16:43:49.022\u001B[0m | \u001B[1mINFO    \u001B[0m | \u001B[36msrc.vrp_study.pdptw_model.routing_model\u001B[0m:\u001B[36mdo_solve\u001B[0m:\u001B[36m423\u001B[0m - \u001B[1mfind solution\u001B[0m\n",
      "\u001B[32m2025-07-22 16:43:49.024\u001B[0m | \u001B[1mINFO    \u001B[0m | \u001B[36msrc.vrp_study.pdptw_model.routing_model\u001B[0m:\u001B[36mfind_optimal_paths\u001B[0m:\u001B[36m464\u001B[0m - \u001B[1mbest_score: 89.21\u001B[0m\n",
      "\u001B[32m2025-07-22 16:43:49.026\u001B[0m | \u001B[1mINFO    \u001B[0m | \u001B[36msrc.vrp_study.pdptw_model.solution_builder\u001B[0m:\u001B[36mget_initial_solution\u001B[0m:\u001B[36m138\u001B[0m - \u001B[1m[[0, 1, 2, 0], [], [], [], [], [], [], [], [], []]\u001B[0m\n",
      "\u001B[32m2025-07-22 16:43:49.032\u001B[0m | \u001B[1mINFO    \u001B[0m | \u001B[36msrc.vrp_study.pdptw_model.solution_builder\u001B[0m:\u001B[36mget_initial_solution\u001B[0m:\u001B[36m118\u001B[0m - \u001B[1m(1, 32.074999999999996)\u001B[0m\n",
      "\u001B[32m2025-07-22 16:43:49.035\u001B[0m | \u001B[1mINFO    \u001B[0m | \u001B[36msrc.vrp_study.pdptw_model.solution_builder\u001B[0m:\u001B[36mget_initial_solution\u001B[0m:\u001B[36m118\u001B[0m - \u001B[1m(1, 16.0875)\u001B[0m\n",
      "\u001B[32m2025-07-22 16:43:49.038\u001B[0m | \u001B[1mINFO    \u001B[0m | \u001B[36msrc.vrp_study.pdptw_model.solution_builder\u001B[0m:\u001B[36mget_initial_solution\u001B[0m:\u001B[36m118\u001B[0m - \u001B[1m(1, 8.09375)\u001B[0m\n",
      "\u001B[32m2025-07-22 16:43:49.040\u001B[0m | \u001B[1mINFO    \u001B[0m | \u001B[36msrc.vrp_study.pdptw_model.solution_builder\u001B[0m:\u001B[36mget_initial_solution\u001B[0m:\u001B[36m118\u001B[0m - \u001B[1m(1, 4.096875)\u001B[0m\n",
      "\u001B[32m2025-07-22 16:43:49.043\u001B[0m | \u001B[1mINFO    \u001B[0m | \u001B[36msrc.vrp_study.pdptw_model.solution_builder\u001B[0m:\u001B[36mget_initial_solution\u001B[0m:\u001B[36m118\u001B[0m - \u001B[1m(1, 2.0984374999999997)\u001B[0m\n",
      "\u001B[32m2025-07-22 16:43:49.046\u001B[0m | \u001B[1mINFO    \u001B[0m | \u001B[36msrc.vrp_study.pdptw_model.solution_builder\u001B[0m:\u001B[36mget_initial_solution\u001B[0m:\u001B[36m118\u001B[0m - \u001B[1m(1, 1.09921875)\u001B[0m\n",
      "\u001B[32m2025-07-22 16:43:49.049\u001B[0m | \u001B[1mINFO    \u001B[0m | \u001B[36msrc.vrp_study.pdptw_model.solution_builder\u001B[0m:\u001B[36mget_initial_solution\u001B[0m:\u001B[36m118\u001B[0m - \u001B[1m(2, 0.599609375)\u001B[0m\n",
      "\u001B[32m2025-07-22 16:43:49.052\u001B[0m | \u001B[1mINFO    \u001B[0m | \u001B[36msrc.vrp_study.pdptw_model.solution_builder\u001B[0m:\u001B[36mget_initial_solution\u001B[0m:\u001B[36m118\u001B[0m - \u001B[1m(2, 0.3498046875)\u001B[0m\n",
      "\u001B[32m2025-07-22 16:43:49.054\u001B[0m | \u001B[1mINFO    \u001B[0m | \u001B[36msrc.vrp_study.pdptw_model.solution_builder\u001B[0m:\u001B[36mget_initial_solution\u001B[0m:\u001B[36m118\u001B[0m - \u001B[1m(2, 0.22490234375)\u001B[0m\n",
      "\u001B[32m2025-07-22 16:43:49.057\u001B[0m | \u001B[1mINFO    \u001B[0m | \u001B[36msrc.vrp_study.pdptw_model.solution_builder\u001B[0m:\u001B[36mget_initial_solution\u001B[0m:\u001B[36m118\u001B[0m - \u001B[1m(2, 0.16245117187500002)\u001B[0m\n"
     ]
    },
    {
     "data": {
      "text/plain": "  0%|          | 0/1 [00:00<?, ?it/s]",
      "application/vnd.jupyter.widget-view+json": {
       "version_major": 2,
       "version_minor": 0,
       "model_id": "4a9ab662f05843399d257cadea14db1c"
      }
     },
     "metadata": {},
     "output_type": "display_data"
    },
    {
     "name": "stderr",
     "output_type": "stream",
     "text": [
      "\u001B[32m2025-07-22 16:43:49.079\u001B[0m | \u001B[1mINFO    \u001B[0m | \u001B[36msrc.vrp_study.pdptw_model.routing_model\u001B[0m:\u001B[36mfind_optimal_paths\u001B[0m:\u001B[36m443\u001B[0m - \u001B[1mproblem size: 5\u001B[0m\n",
      "\u001B[32m2025-07-22 16:43:49.084\u001B[0m | \u001B[1mINFO    \u001B[0m | \u001B[36msrc.vrp_study.pdptw_model.routing_model\u001B[0m:\u001B[36mdo_solve\u001B[0m:\u001B[36m378\u001B[0m - \u001B[1mНачало создания модели\u001B[0m\n",
      "\u001B[32m2025-07-22 16:43:49.089\u001B[0m | \u001B[1mINFO    \u001B[0m | \u001B[36msrc.vrp_study.pdptw_model.routing_model\u001B[0m:\u001B[36madd_distance_dimension\u001B[0m:\u001B[36m299\u001B[0m - \u001B[1mДобавление размерности для расстояния\u001B[0m\n",
      "\u001B[32m2025-07-22 16:43:49.091\u001B[0m | \u001B[1mINFO    \u001B[0m | \u001B[36msrc.vrp_study.pdptw_model.routing_model\u001B[0m:\u001B[36madd_count_dimension\u001B[0m:\u001B[36m335\u001B[0m - \u001B[1mДобавление размерности для расстояния\u001B[0m\n",
      "\u001B[32m2025-07-22 16:43:49.093\u001B[0m | \u001B[1mINFO    \u001B[0m | \u001B[36msrc.vrp_study.pdptw_model.routing_model\u001B[0m:\u001B[36madd_pick_up_and_delivery\u001B[0m:\u001B[36m269\u001B[0m - \u001B[1mДобавление ограничения для порядка доставки\u001B[0m\n",
      "\u001B[32m2025-07-22 16:43:49.094\u001B[0m | \u001B[1mINFO    \u001B[0m | \u001B[36msrc.vrp_study.pdptw_model.routing_model\u001B[0m:\u001B[36madd_time_window\u001B[0m:\u001B[36m194\u001B[0m - \u001B[1madd time\u001B[0m\n",
      "\u001B[32m2025-07-22 16:43:49.097\u001B[0m | \u001B[1mINFO    \u001B[0m | \u001B[36msrc.vrp_study.pdptw_model.routing_model\u001B[0m:\u001B[36madd_mass_constraint\u001B[0m:\u001B[36m177\u001B[0m - \u001B[1mДобавление ограничений для массы\u001B[0m\n",
      "\u001B[32m2025-07-22 16:43:49.101\u001B[0m | \u001B[1mINFO    \u001B[0m | \u001B[36msrc.vrp_study.pdptw_model.routing_model\u001B[0m:\u001B[36mdo_solve\u001B[0m:\u001B[36m407\u001B[0m - \u001B[1mНачало решения\u001B[0m\n",
      "\u001B[32m2025-07-22 16:43:49.107\u001B[0m | \u001B[34m\u001B[1mDEBUG   \u001B[0m | \u001B[36msrc.vrp_study.pdptw_model.routing_model\u001B[0m:\u001B[36m__call__\u001B[0m:\u001B[36m40\u001B[0m - \u001B[34m\u001B[1mtime: 0.008; new solution (1): 1; best solution: 1\u001B[0m\n",
      "\u001B[32m2025-07-22 16:43:49.113\u001B[0m | \u001B[1mINFO    \u001B[0m | \u001B[36msrc.vrp_study.pdptw_model.routing_model\u001B[0m:\u001B[36mdo_solve\u001B[0m:\u001B[36m423\u001B[0m - \u001B[1mfind solution\u001B[0m\n",
      "\u001B[32m2025-07-22 16:43:49.115\u001B[0m | \u001B[1mINFO    \u001B[0m | \u001B[36msrc.vrp_study.pdptw_model.routing_model\u001B[0m:\u001B[36mfind_optimal_paths\u001B[0m:\u001B[36m451\u001B[0m - \u001B[1mbest_score: 1\u001B[0m\n",
      "\u001B[32m2025-07-22 16:43:49.117\u001B[0m | \u001B[1mINFO    \u001B[0m | \u001B[36msrc.vrp_study.pdptw_model.routing_model\u001B[0m:\u001B[36mdo_solve\u001B[0m:\u001B[36m378\u001B[0m - \u001B[1mНачало создания модели\u001B[0m\n",
      "\u001B[32m2025-07-22 16:43:49.119\u001B[0m | \u001B[1mINFO    \u001B[0m | \u001B[36msrc.vrp_study.pdptw_model.routing_model\u001B[0m:\u001B[36madd_distance_dimension\u001B[0m:\u001B[36m299\u001B[0m - \u001B[1mДобавление размерности для расстояния\u001B[0m\n",
      "\u001B[32m2025-07-22 16:43:49.122\u001B[0m | \u001B[1mINFO    \u001B[0m | \u001B[36msrc.vrp_study.pdptw_model.routing_model\u001B[0m:\u001B[36madd_count_dimension\u001B[0m:\u001B[36m335\u001B[0m - \u001B[1mДобавление размерности для расстояния\u001B[0m\n",
      "\u001B[32m2025-07-22 16:43:49.124\u001B[0m | \u001B[1mINFO    \u001B[0m | \u001B[36msrc.vrp_study.pdptw_model.routing_model\u001B[0m:\u001B[36madd_pick_up_and_delivery\u001B[0m:\u001B[36m269\u001B[0m - \u001B[1mДобавление ограничения для порядка доставки\u001B[0m\n",
      "\u001B[32m2025-07-22 16:43:49.126\u001B[0m | \u001B[1mINFO    \u001B[0m | \u001B[36msrc.vrp_study.pdptw_model.routing_model\u001B[0m:\u001B[36madd_vehicles_cost\u001B[0m:\u001B[36m243\u001B[0m - \u001B[1mДобавление стоимостей машин\u001B[0m\n",
      "\u001B[32m2025-07-22 16:43:49.127\u001B[0m | \u001B[1mINFO    \u001B[0m | \u001B[36msrc.vrp_study.pdptw_model.routing_model\u001B[0m:\u001B[36madd_time_window\u001B[0m:\u001B[36m194\u001B[0m - \u001B[1madd time\u001B[0m\n",
      "\u001B[32m2025-07-22 16:43:49.129\u001B[0m | \u001B[1mINFO    \u001B[0m | \u001B[36msrc.vrp_study.pdptw_model.routing_model\u001B[0m:\u001B[36madd_mass_constraint\u001B[0m:\u001B[36m177\u001B[0m - \u001B[1mДобавление ограничений для массы\u001B[0m\n",
      "\u001B[32m2025-07-22 16:43:49.133\u001B[0m | \u001B[1mINFO    \u001B[0m | \u001B[36msrc.vrp_study.pdptw_model.routing_model\u001B[0m:\u001B[36mdo_solve\u001B[0m:\u001B[36m407\u001B[0m - \u001B[1mНачало решения\u001B[0m\n",
      "\u001B[32m2025-07-22 16:43:49.134\u001B[0m | \u001B[1mINFO    \u001B[0m | \u001B[36msrc.vrp_study.pdptw_model.routing_model\u001B[0m:\u001B[36mdo_solve\u001B[0m:\u001B[36m410\u001B[0m - \u001B[1muse initial_solution: 1\u001B[0m\n",
      "\u001B[32m2025-07-22 16:43:49.136\u001B[0m | \u001B[34m\u001B[1mDEBUG   \u001B[0m | \u001B[36msrc.vrp_study.pdptw_model.routing_model\u001B[0m:\u001B[36m__call__\u001B[0m:\u001B[36m40\u001B[0m - \u001B[34m\u001B[1mtime: 0.005; new solution (1): 8238; best solution: 8238\u001B[0m\n",
      "\u001B[32m2025-07-22 16:43:49.140\u001B[0m | \u001B[34m\u001B[1mDEBUG   \u001B[0m | \u001B[36msrc.vrp_study.pdptw_model.routing_model\u001B[0m:\u001B[36m__call__\u001B[0m:\u001B[36m40\u001B[0m - \u001B[34m\u001B[1mtime: 0.008; new solution (2): 8238; best solution: 8238\u001B[0m\n",
      "\u001B[32m2025-07-22 16:43:49.145\u001B[0m | \u001B[1mINFO    \u001B[0m | \u001B[36msrc.vrp_study.pdptw_model.routing_model\u001B[0m:\u001B[36mdo_solve\u001B[0m:\u001B[36m423\u001B[0m - \u001B[1mfind solution\u001B[0m\n",
      "\u001B[32m2025-07-22 16:43:49.148\u001B[0m | \u001B[1mINFO    \u001B[0m | \u001B[36msrc.vrp_study.pdptw_model.routing_model\u001B[0m:\u001B[36mfind_optimal_paths\u001B[0m:\u001B[36m464\u001B[0m - \u001B[1mbest_score: 82.38\u001B[0m\n",
      "\u001B[32m2025-07-22 16:43:49.149\u001B[0m | \u001B[1mINFO    \u001B[0m | \u001B[36msrc.vrp_study.pdptw_model.solution_builder\u001B[0m:\u001B[36mget_initial_solution\u001B[0m:\u001B[36m138\u001B[0m - \u001B[1m[[0, 3, 1, 4, 2, 0], [], [], [], [], [], [], [], []]\u001B[0m\n"
     ]
    },
    {
     "data": {
      "text/plain": "  0%|          | 0/1 [00:00<?, ?it/s]",
      "application/vnd.jupyter.widget-view+json": {
       "version_major": 2,
       "version_minor": 0,
       "model_id": "f2cc52a58eba4a8a9ed43305a48338c5"
      }
     },
     "metadata": {},
     "output_type": "display_data"
    },
    {
     "name": "stderr",
     "output_type": "stream",
     "text": [
      "\u001B[32m2025-07-22 16:43:49.173\u001B[0m | \u001B[1mINFO    \u001B[0m | \u001B[36msrc.vrp_study.pdptw_model.routing_model\u001B[0m:\u001B[36mfind_optimal_paths\u001B[0m:\u001B[36m443\u001B[0m - \u001B[1mproblem size: 3\u001B[0m\n",
      "\u001B[32m2025-07-22 16:43:49.175\u001B[0m | \u001B[1mINFO    \u001B[0m | \u001B[36msrc.vrp_study.pdptw_model.routing_model\u001B[0m:\u001B[36mdo_solve\u001B[0m:\u001B[36m378\u001B[0m - \u001B[1mНачало создания модели\u001B[0m\n",
      "\u001B[32m2025-07-22 16:43:49.178\u001B[0m | \u001B[1mINFO    \u001B[0m | \u001B[36msrc.vrp_study.pdptw_model.routing_model\u001B[0m:\u001B[36madd_distance_dimension\u001B[0m:\u001B[36m299\u001B[0m - \u001B[1mДобавление размерности для расстояния\u001B[0m\n",
      "\u001B[32m2025-07-22 16:43:49.181\u001B[0m | \u001B[1mINFO    \u001B[0m | \u001B[36msrc.vrp_study.pdptw_model.routing_model\u001B[0m:\u001B[36madd_count_dimension\u001B[0m:\u001B[36m335\u001B[0m - \u001B[1mДобавление размерности для расстояния\u001B[0m\n",
      "\u001B[32m2025-07-22 16:43:49.183\u001B[0m | \u001B[1mINFO    \u001B[0m | \u001B[36msrc.vrp_study.pdptw_model.routing_model\u001B[0m:\u001B[36madd_pick_up_and_delivery\u001B[0m:\u001B[36m269\u001B[0m - \u001B[1mДобавление ограничения для порядка доставки\u001B[0m\n",
      "\u001B[32m2025-07-22 16:43:49.184\u001B[0m | \u001B[1mINFO    \u001B[0m | \u001B[36msrc.vrp_study.pdptw_model.routing_model\u001B[0m:\u001B[36madd_time_window\u001B[0m:\u001B[36m194\u001B[0m - \u001B[1madd time\u001B[0m\n",
      "\u001B[32m2025-07-22 16:43:49.186\u001B[0m | \u001B[1mINFO    \u001B[0m | \u001B[36msrc.vrp_study.pdptw_model.routing_model\u001B[0m:\u001B[36madd_mass_constraint\u001B[0m:\u001B[36m177\u001B[0m - \u001B[1mДобавление ограничений для массы\u001B[0m\n",
      "\u001B[32m2025-07-22 16:43:49.191\u001B[0m | \u001B[1mINFO    \u001B[0m | \u001B[36msrc.vrp_study.pdptw_model.routing_model\u001B[0m:\u001B[36mdo_solve\u001B[0m:\u001B[36m407\u001B[0m - \u001B[1mНачало решения\u001B[0m\n",
      "\u001B[32m2025-07-22 16:43:49.196\u001B[0m | \u001B[34m\u001B[1mDEBUG   \u001B[0m | \u001B[36msrc.vrp_study.pdptw_model.routing_model\u001B[0m:\u001B[36m__call__\u001B[0m:\u001B[36m40\u001B[0m - \u001B[34m\u001B[1mtime: 0.006; new solution (1): 1; best solution: 1\u001B[0m\n",
      "\u001B[32m2025-07-22 16:43:49.199\u001B[0m | \u001B[1mINFO    \u001B[0m | \u001B[36msrc.vrp_study.pdptw_model.routing_model\u001B[0m:\u001B[36mdo_solve\u001B[0m:\u001B[36m423\u001B[0m - \u001B[1mfind solution\u001B[0m\n",
      "\u001B[32m2025-07-22 16:43:49.202\u001B[0m | \u001B[1mINFO    \u001B[0m | \u001B[36msrc.vrp_study.pdptw_model.routing_model\u001B[0m:\u001B[36mfind_optimal_paths\u001B[0m:\u001B[36m451\u001B[0m - \u001B[1mbest_score: 1\u001B[0m\n",
      "\u001B[32m2025-07-22 16:43:49.203\u001B[0m | \u001B[1mINFO    \u001B[0m | \u001B[36msrc.vrp_study.pdptw_model.routing_model\u001B[0m:\u001B[36mdo_solve\u001B[0m:\u001B[36m378\u001B[0m - \u001B[1mНачало создания модели\u001B[0m\n",
      "\u001B[32m2025-07-22 16:43:49.207\u001B[0m | \u001B[1mINFO    \u001B[0m | \u001B[36msrc.vrp_study.pdptw_model.routing_model\u001B[0m:\u001B[36madd_distance_dimension\u001B[0m:\u001B[36m299\u001B[0m - \u001B[1mДобавление размерности для расстояния\u001B[0m\n",
      "\u001B[32m2025-07-22 16:43:49.209\u001B[0m | \u001B[1mINFO    \u001B[0m | \u001B[36msrc.vrp_study.pdptw_model.routing_model\u001B[0m:\u001B[36madd_count_dimension\u001B[0m:\u001B[36m335\u001B[0m - \u001B[1mДобавление размерности для расстояния\u001B[0m\n",
      "\u001B[32m2025-07-22 16:43:49.212\u001B[0m | \u001B[1mINFO    \u001B[0m | \u001B[36msrc.vrp_study.pdptw_model.routing_model\u001B[0m:\u001B[36madd_pick_up_and_delivery\u001B[0m:\u001B[36m269\u001B[0m - \u001B[1mДобавление ограничения для порядка доставки\u001B[0m\n",
      "\u001B[32m2025-07-22 16:43:49.213\u001B[0m | \u001B[1mINFO    \u001B[0m | \u001B[36msrc.vrp_study.pdptw_model.routing_model\u001B[0m:\u001B[36madd_vehicles_cost\u001B[0m:\u001B[36m243\u001B[0m - \u001B[1mДобавление стоимостей машин\u001B[0m\n",
      "\u001B[32m2025-07-22 16:43:49.215\u001B[0m | \u001B[1mINFO    \u001B[0m | \u001B[36msrc.vrp_study.pdptw_model.routing_model\u001B[0m:\u001B[36madd_time_window\u001B[0m:\u001B[36m194\u001B[0m - \u001B[1madd time\u001B[0m\n",
      "\u001B[32m2025-07-22 16:43:49.216\u001B[0m | \u001B[1mINFO    \u001B[0m | \u001B[36msrc.vrp_study.pdptw_model.routing_model\u001B[0m:\u001B[36madd_mass_constraint\u001B[0m:\u001B[36m177\u001B[0m - \u001B[1mДобавление ограничений для массы\u001B[0m\n",
      "\u001B[32m2025-07-22 16:43:49.221\u001B[0m | \u001B[1mINFO    \u001B[0m | \u001B[36msrc.vrp_study.pdptw_model.routing_model\u001B[0m:\u001B[36mdo_solve\u001B[0m:\u001B[36m407\u001B[0m - \u001B[1mНачало решения\u001B[0m\n",
      "\u001B[32m2025-07-22 16:43:49.223\u001B[0m | \u001B[1mINFO    \u001B[0m | \u001B[36msrc.vrp_study.pdptw_model.routing_model\u001B[0m:\u001B[36mdo_solve\u001B[0m:\u001B[36m410\u001B[0m - \u001B[1muse initial_solution: 1\u001B[0m\n",
      "\u001B[32m2025-07-22 16:43:49.224\u001B[0m | \u001B[34m\u001B[1mDEBUG   \u001B[0m | \u001B[36msrc.vrp_study.pdptw_model.routing_model\u001B[0m:\u001B[36m__call__\u001B[0m:\u001B[36m40\u001B[0m - \u001B[34m\u001B[1mtime: 0.005; new solution (1): 8062; best solution: 8062\u001B[0m\n",
      "\u001B[32m2025-07-22 16:43:49.228\u001B[0m | \u001B[34m\u001B[1mDEBUG   \u001B[0m | \u001B[36msrc.vrp_study.pdptw_model.routing_model\u001B[0m:\u001B[36m__call__\u001B[0m:\u001B[36m40\u001B[0m - \u001B[34m\u001B[1mtime: 0.008; new solution (2): 8062; best solution: 8062\u001B[0m\n",
      "\u001B[32m2025-07-22 16:43:49.231\u001B[0m | \u001B[1mINFO    \u001B[0m | \u001B[36msrc.vrp_study.pdptw_model.routing_model\u001B[0m:\u001B[36mdo_solve\u001B[0m:\u001B[36m423\u001B[0m - \u001B[1mfind solution\u001B[0m\n",
      "\u001B[32m2025-07-22 16:43:49.233\u001B[0m | \u001B[1mINFO    \u001B[0m | \u001B[36msrc.vrp_study.pdptw_model.routing_model\u001B[0m:\u001B[36mfind_optimal_paths\u001B[0m:\u001B[36m464\u001B[0m - \u001B[1mbest_score: 80.62\u001B[0m\n",
      "\u001B[32m2025-07-22 16:43:49.234\u001B[0m | \u001B[1mINFO    \u001B[0m | \u001B[36msrc.vrp_study.pdptw_model.solution_builder\u001B[0m:\u001B[36mget_initial_solution\u001B[0m:\u001B[36m138\u001B[0m - \u001B[1m[[0, 1, 2, 0], [], [], [], [], [], [], []]\u001B[0m\n"
     ]
    },
    {
     "data": {
      "text/plain": "  0%|          | 0/1 [00:00<?, ?it/s]",
      "application/vnd.jupyter.widget-view+json": {
       "version_major": 2,
       "version_minor": 0,
       "model_id": "7e58235e617f4f879978973e5cc43807"
      }
     },
     "metadata": {},
     "output_type": "display_data"
    },
    {
     "name": "stderr",
     "output_type": "stream",
     "text": [
      "\u001B[32m2025-07-22 16:43:49.261\u001B[0m | \u001B[1mINFO    \u001B[0m | \u001B[36msrc.vrp_study.pdptw_model.routing_model\u001B[0m:\u001B[36mfind_optimal_paths\u001B[0m:\u001B[36m443\u001B[0m - \u001B[1mproblem size: 3\u001B[0m\n",
      "\u001B[32m2025-07-22 16:43:49.263\u001B[0m | \u001B[1mINFO    \u001B[0m | \u001B[36msrc.vrp_study.pdptw_model.routing_model\u001B[0m:\u001B[36mdo_solve\u001B[0m:\u001B[36m378\u001B[0m - \u001B[1mНачало создания модели\u001B[0m\n",
      "\u001B[32m2025-07-22 16:43:49.266\u001B[0m | \u001B[1mINFO    \u001B[0m | \u001B[36msrc.vrp_study.pdptw_model.routing_model\u001B[0m:\u001B[36madd_distance_dimension\u001B[0m:\u001B[36m299\u001B[0m - \u001B[1mДобавление размерности для расстояния\u001B[0m\n",
      "\u001B[32m2025-07-22 16:43:49.268\u001B[0m | \u001B[1mINFO    \u001B[0m | \u001B[36msrc.vrp_study.pdptw_model.routing_model\u001B[0m:\u001B[36madd_count_dimension\u001B[0m:\u001B[36m335\u001B[0m - \u001B[1mДобавление размерности для расстояния\u001B[0m\n",
      "\u001B[32m2025-07-22 16:43:49.274\u001B[0m | \u001B[1mINFO    \u001B[0m | \u001B[36msrc.vrp_study.pdptw_model.routing_model\u001B[0m:\u001B[36madd_pick_up_and_delivery\u001B[0m:\u001B[36m269\u001B[0m - \u001B[1mДобавление ограничения для порядка доставки\u001B[0m\n",
      "\u001B[32m2025-07-22 16:43:49.276\u001B[0m | \u001B[1mINFO    \u001B[0m | \u001B[36msrc.vrp_study.pdptw_model.routing_model\u001B[0m:\u001B[36madd_time_window\u001B[0m:\u001B[36m194\u001B[0m - \u001B[1madd time\u001B[0m\n",
      "\u001B[32m2025-07-22 16:43:49.278\u001B[0m | \u001B[1mINFO    \u001B[0m | \u001B[36msrc.vrp_study.pdptw_model.routing_model\u001B[0m:\u001B[36madd_mass_constraint\u001B[0m:\u001B[36m177\u001B[0m - \u001B[1mДобавление ограничений для массы\u001B[0m\n",
      "\u001B[32m2025-07-22 16:43:49.282\u001B[0m | \u001B[1mINFO    \u001B[0m | \u001B[36msrc.vrp_study.pdptw_model.routing_model\u001B[0m:\u001B[36mdo_solve\u001B[0m:\u001B[36m407\u001B[0m - \u001B[1mНачало решения\u001B[0m\n",
      "\u001B[32m2025-07-22 16:43:49.285\u001B[0m | \u001B[34m\u001B[1mDEBUG   \u001B[0m | \u001B[36msrc.vrp_study.pdptw_model.routing_model\u001B[0m:\u001B[36m__call__\u001B[0m:\u001B[36m40\u001B[0m - \u001B[34m\u001B[1mtime: 0.005; new solution (1): 1; best solution: 1\u001B[0m\n",
      "\u001B[32m2025-07-22 16:43:49.289\u001B[0m | \u001B[1mINFO    \u001B[0m | \u001B[36msrc.vrp_study.pdptw_model.routing_model\u001B[0m:\u001B[36mdo_solve\u001B[0m:\u001B[36m423\u001B[0m - \u001B[1mfind solution\u001B[0m\n",
      "\u001B[32m2025-07-22 16:43:49.293\u001B[0m | \u001B[1mINFO    \u001B[0m | \u001B[36msrc.vrp_study.pdptw_model.routing_model\u001B[0m:\u001B[36mfind_optimal_paths\u001B[0m:\u001B[36m451\u001B[0m - \u001B[1mbest_score: 1\u001B[0m\n",
      "\u001B[32m2025-07-22 16:43:49.295\u001B[0m | \u001B[1mINFO    \u001B[0m | \u001B[36msrc.vrp_study.pdptw_model.routing_model\u001B[0m:\u001B[36mdo_solve\u001B[0m:\u001B[36m378\u001B[0m - \u001B[1mНачало создания модели\u001B[0m\n",
      "\u001B[32m2025-07-22 16:43:49.298\u001B[0m | \u001B[1mINFO    \u001B[0m | \u001B[36msrc.vrp_study.pdptw_model.routing_model\u001B[0m:\u001B[36madd_distance_dimension\u001B[0m:\u001B[36m299\u001B[0m - \u001B[1mДобавление размерности для расстояния\u001B[0m\n",
      "\u001B[32m2025-07-22 16:43:49.303\u001B[0m | \u001B[1mINFO    \u001B[0m | \u001B[36msrc.vrp_study.pdptw_model.routing_model\u001B[0m:\u001B[36madd_count_dimension\u001B[0m:\u001B[36m335\u001B[0m - \u001B[1mДобавление размерности для расстояния\u001B[0m\n",
      "\u001B[32m2025-07-22 16:43:49.305\u001B[0m | \u001B[1mINFO    \u001B[0m | \u001B[36msrc.vrp_study.pdptw_model.routing_model\u001B[0m:\u001B[36madd_pick_up_and_delivery\u001B[0m:\u001B[36m269\u001B[0m - \u001B[1mДобавление ограничения для порядка доставки\u001B[0m\n",
      "\u001B[32m2025-07-22 16:43:49.307\u001B[0m | \u001B[1mINFO    \u001B[0m | \u001B[36msrc.vrp_study.pdptw_model.routing_model\u001B[0m:\u001B[36madd_vehicles_cost\u001B[0m:\u001B[36m243\u001B[0m - \u001B[1mДобавление стоимостей машин\u001B[0m\n",
      "\u001B[32m2025-07-22 16:43:49.309\u001B[0m | \u001B[1mINFO    \u001B[0m | \u001B[36msrc.vrp_study.pdptw_model.routing_model\u001B[0m:\u001B[36madd_time_window\u001B[0m:\u001B[36m194\u001B[0m - \u001B[1madd time\u001B[0m\n",
      "\u001B[32m2025-07-22 16:43:49.312\u001B[0m | \u001B[1mINFO    \u001B[0m | \u001B[36msrc.vrp_study.pdptw_model.routing_model\u001B[0m:\u001B[36madd_mass_constraint\u001B[0m:\u001B[36m177\u001B[0m - \u001B[1mДобавление ограничений для массы\u001B[0m\n",
      "\u001B[32m2025-07-22 16:43:49.314\u001B[0m | \u001B[1mINFO    \u001B[0m | \u001B[36msrc.vrp_study.pdptw_model.routing_model\u001B[0m:\u001B[36mdo_solve\u001B[0m:\u001B[36m407\u001B[0m - \u001B[1mНачало решения\u001B[0m\n",
      "\u001B[32m2025-07-22 16:43:49.317\u001B[0m | \u001B[1mINFO    \u001B[0m | \u001B[36msrc.vrp_study.pdptw_model.routing_model\u001B[0m:\u001B[36mdo_solve\u001B[0m:\u001B[36m410\u001B[0m - \u001B[1muse initial_solution: 1\u001B[0m\n",
      "\u001B[32m2025-07-22 16:43:49.318\u001B[0m | \u001B[34m\u001B[1mDEBUG   \u001B[0m | \u001B[36msrc.vrp_study.pdptw_model.routing_model\u001B[0m:\u001B[36m__call__\u001B[0m:\u001B[36m40\u001B[0m - \u001B[34m\u001B[1mtime: 0.005; new solution (1): 7661; best solution: 7661\u001B[0m\n",
      "\u001B[32m2025-07-22 16:43:49.320\u001B[0m | \u001B[34m\u001B[1mDEBUG   \u001B[0m | \u001B[36msrc.vrp_study.pdptw_model.routing_model\u001B[0m:\u001B[36m__call__\u001B[0m:\u001B[36m40\u001B[0m - \u001B[34m\u001B[1mtime: 0.007; new solution (2): 7661; best solution: 7661\u001B[0m\n",
      "\u001B[32m2025-07-22 16:43:49.324\u001B[0m | \u001B[1mINFO    \u001B[0m | \u001B[36msrc.vrp_study.pdptw_model.routing_model\u001B[0m:\u001B[36mdo_solve\u001B[0m:\u001B[36m423\u001B[0m - \u001B[1mfind solution\u001B[0m\n",
      "\u001B[32m2025-07-22 16:43:49.327\u001B[0m | \u001B[1mINFO    \u001B[0m | \u001B[36msrc.vrp_study.pdptw_model.routing_model\u001B[0m:\u001B[36mfind_optimal_paths\u001B[0m:\u001B[36m464\u001B[0m - \u001B[1mbest_score: 76.61\u001B[0m\n",
      "\u001B[32m2025-07-22 16:43:49.329\u001B[0m | \u001B[1mINFO    \u001B[0m | \u001B[36msrc.vrp_study.pdptw_model.solution_builder\u001B[0m:\u001B[36mget_initial_solution\u001B[0m:\u001B[36m138\u001B[0m - \u001B[1m[[0, 1, 2, 0], [], [], [], [], [], []]\u001B[0m\n",
      "\u001B[32m2025-07-22 16:43:49.332\u001B[0m | \u001B[1mINFO    \u001B[0m | \u001B[36msrc.vrp_study.pdptw_model.routing_model\u001B[0m:\u001B[36mfind_optimal_paths\u001B[0m:\u001B[36m438\u001B[0m - \u001B[1muse initial_solution: 25\u001B[0m\n",
      "\u001B[32m2025-07-22 16:43:49.335\u001B[0m | \u001B[1mINFO    \u001B[0m | \u001B[36msrc.vrp_study.pdptw_model.routing_model\u001B[0m:\u001B[36mfind_optimal_paths\u001B[0m:\u001B[36m443\u001B[0m - \u001B[1mproblem size: 107\u001B[0m\n",
      "\u001B[32m2025-07-22 16:43:49.337\u001B[0m | \u001B[1mINFO    \u001B[0m | \u001B[36msrc.vrp_study.pdptw_model.routing_model\u001B[0m:\u001B[36mdo_solve\u001B[0m:\u001B[36m378\u001B[0m - \u001B[1mНачало создания модели\u001B[0m\n",
      "\u001B[32m2025-07-22 16:43:49.340\u001B[0m | \u001B[1mINFO    \u001B[0m | \u001B[36msrc.vrp_study.pdptw_model.routing_model\u001B[0m:\u001B[36madd_distance_dimension\u001B[0m:\u001B[36m299\u001B[0m - \u001B[1mДобавление размерности для расстояния\u001B[0m\n",
      "\u001B[32m2025-07-22 16:43:49.343\u001B[0m | \u001B[1mINFO    \u001B[0m | \u001B[36msrc.vrp_study.pdptw_model.routing_model\u001B[0m:\u001B[36madd_count_dimension\u001B[0m:\u001B[36m335\u001B[0m - \u001B[1mДобавление размерности для расстояния\u001B[0m\n",
      "\u001B[32m2025-07-22 16:43:49.345\u001B[0m | \u001B[1mINFO    \u001B[0m | \u001B[36msrc.vrp_study.pdptw_model.routing_model\u001B[0m:\u001B[36madd_pick_up_and_delivery\u001B[0m:\u001B[36m269\u001B[0m - \u001B[1mДобавление ограничения для порядка доставки\u001B[0m\n",
      "\u001B[32m2025-07-22 16:43:49.349\u001B[0m | \u001B[1mINFO    \u001B[0m | \u001B[36msrc.vrp_study.pdptw_model.routing_model\u001B[0m:\u001B[36madd_time_window\u001B[0m:\u001B[36m194\u001B[0m - \u001B[1madd time\u001B[0m\n",
      "\u001B[32m2025-07-22 16:43:49.352\u001B[0m | \u001B[1mINFO    \u001B[0m | \u001B[36msrc.vrp_study.pdptw_model.routing_model\u001B[0m:\u001B[36madd_mass_constraint\u001B[0m:\u001B[36m177\u001B[0m - \u001B[1mДобавление ограничений для массы\u001B[0m\n",
      "\u001B[32m2025-07-22 16:43:49.362\u001B[0m | \u001B[1mINFO    \u001B[0m | \u001B[36msrc.vrp_study.pdptw_model.routing_model\u001B[0m:\u001B[36mdo_solve\u001B[0m:\u001B[36m407\u001B[0m - \u001B[1mНачало решения\u001B[0m\n",
      "\u001B[32m2025-07-22 16:43:49.365\u001B[0m | \u001B[1mINFO    \u001B[0m | \u001B[36msrc.vrp_study.pdptw_model.routing_model\u001B[0m:\u001B[36mdo_solve\u001B[0m:\u001B[36m410\u001B[0m - \u001B[1muse initial_solution: 25\u001B[0m\n",
      "\u001B[32m2025-07-22 16:43:49.371\u001B[0m | \u001B[34m\u001B[1mDEBUG   \u001B[0m | \u001B[36msrc.vrp_study.pdptw_model.routing_model\u001B[0m:\u001B[36m__call__\u001B[0m:\u001B[36m40\u001B[0m - \u001B[34m\u001B[1mtime: 0.016; new solution (1): 19; best solution: 19\u001B[0m\n",
      "\u001B[32m2025-07-22 16:43:49.382\u001B[0m | \u001B[34m\u001B[1mDEBUG   \u001B[0m | \u001B[36msrc.vrp_study.pdptw_model.routing_model\u001B[0m:\u001B[36m__call__\u001B[0m:\u001B[36m40\u001B[0m - \u001B[34m\u001B[1mtime: 0.027; new solution (2): 19; best solution: 19\u001B[0m\n",
      "\u001B[32m2025-07-22 16:43:49.399\u001B[0m | \u001B[34m\u001B[1mDEBUG   \u001B[0m | \u001B[36msrc.vrp_study.pdptw_model.routing_model\u001B[0m:\u001B[36m__call__\u001B[0m:\u001B[36m40\u001B[0m - \u001B[34m\u001B[1mtime: 0.044; new solution (3): 18; best solution: 18\u001B[0m\n",
      "\u001B[32m2025-07-22 16:43:49.445\u001B[0m | \u001B[34m\u001B[1mDEBUG   \u001B[0m | \u001B[36msrc.vrp_study.pdptw_model.routing_model\u001B[0m:\u001B[36m__call__\u001B[0m:\u001B[36m40\u001B[0m - \u001B[34m\u001B[1mtime: 0.091; new solution (4): 17; best solution: 17\u001B[0m\n",
      "\u001B[32m2025-07-22 16:43:49.488\u001B[0m | \u001B[34m\u001B[1mDEBUG   \u001B[0m | \u001B[36msrc.vrp_study.pdptw_model.routing_model\u001B[0m:\u001B[36m__call__\u001B[0m:\u001B[36m40\u001B[0m - \u001B[34m\u001B[1mtime: 0.133; new solution (5): 16; best solution: 16\u001B[0m\n",
      "\u001B[32m2025-07-22 16:43:49.537\u001B[0m | \u001B[34m\u001B[1mDEBUG   \u001B[0m | \u001B[36msrc.vrp_study.pdptw_model.routing_model\u001B[0m:\u001B[36m__call__\u001B[0m:\u001B[36m40\u001B[0m - \u001B[34m\u001B[1mtime: 0.183; new solution (6): 15; best solution: 15\u001B[0m\n",
      "\u001B[32m2025-07-22 16:43:49.570\u001B[0m | \u001B[34m\u001B[1mDEBUG   \u001B[0m | \u001B[36msrc.vrp_study.pdptw_model.routing_model\u001B[0m:\u001B[36m__call__\u001B[0m:\u001B[36m40\u001B[0m - \u001B[34m\u001B[1mtime: 0.215; new solution (7): 14; best solution: 14\u001B[0m\n",
      "\u001B[32m2025-07-22 16:43:49.619\u001B[0m | \u001B[34m\u001B[1mDEBUG   \u001B[0m | \u001B[36msrc.vrp_study.pdptw_model.routing_model\u001B[0m:\u001B[36m__call__\u001B[0m:\u001B[36m40\u001B[0m - \u001B[34m\u001B[1mtime: 0.264; new solution (8): 13; best solution: 13\u001B[0m\n",
      "\u001B[32m2025-07-22 16:43:49.640\u001B[0m | \u001B[34m\u001B[1mDEBUG   \u001B[0m | \u001B[36msrc.vrp_study.pdptw_model.routing_model\u001B[0m:\u001B[36m__call__\u001B[0m:\u001B[36m40\u001B[0m - \u001B[34m\u001B[1mtime: 0.285; new solution (9): 12; best solution: 12\u001B[0m\n",
      "\u001B[32m2025-07-22 16:43:49.696\u001B[0m | \u001B[34m\u001B[1mDEBUG   \u001B[0m | \u001B[36msrc.vrp_study.pdptw_model.routing_model\u001B[0m:\u001B[36m__call__\u001B[0m:\u001B[36m40\u001B[0m - \u001B[34m\u001B[1mtime: 0.342; new solution (10): 11; best solution: 11\u001B[0m\n",
      "\u001B[32m2025-07-22 16:43:50.815\u001B[0m | \u001B[1mINFO    \u001B[0m | \u001B[36msrc.vrp_study.pdptw_model.routing_model\u001B[0m:\u001B[36mdo_solve\u001B[0m:\u001B[36m423\u001B[0m - \u001B[1mfind solution\u001B[0m\n",
      "\u001B[32m2025-07-22 16:43:50.817\u001B[0m | \u001B[1mINFO    \u001B[0m | \u001B[36msrc.vrp_study.pdptw_model.routing_model\u001B[0m:\u001B[36mfind_optimal_paths\u001B[0m:\u001B[36m451\u001B[0m - \u001B[1mbest_score: 11\u001B[0m\n",
      "\u001B[32m2025-07-22 16:43:50.818\u001B[0m | \u001B[1mINFO    \u001B[0m | \u001B[36msrc.vrp_study.pdptw_model.routing_model\u001B[0m:\u001B[36mdo_solve\u001B[0m:\u001B[36m378\u001B[0m - \u001B[1mНачало создания модели\u001B[0m\n",
      "\u001B[32m2025-07-22 16:43:50.819\u001B[0m | \u001B[1mINFO    \u001B[0m | \u001B[36msrc.vrp_study.pdptw_model.routing_model\u001B[0m:\u001B[36madd_distance_dimension\u001B[0m:\u001B[36m299\u001B[0m - \u001B[1mДобавление размерности для расстояния\u001B[0m\n",
      "\u001B[32m2025-07-22 16:43:50.820\u001B[0m | \u001B[1mINFO    \u001B[0m | \u001B[36msrc.vrp_study.pdptw_model.routing_model\u001B[0m:\u001B[36madd_count_dimension\u001B[0m:\u001B[36m335\u001B[0m - \u001B[1mДобавление размерности для расстояния\u001B[0m\n",
      "\u001B[32m2025-07-22 16:43:50.822\u001B[0m | \u001B[1mINFO    \u001B[0m | \u001B[36msrc.vrp_study.pdptw_model.routing_model\u001B[0m:\u001B[36madd_pick_up_and_delivery\u001B[0m:\u001B[36m269\u001B[0m - \u001B[1mДобавление ограничения для порядка доставки\u001B[0m\n",
      "\u001B[32m2025-07-22 16:43:50.824\u001B[0m | \u001B[1mINFO    \u001B[0m | \u001B[36msrc.vrp_study.pdptw_model.routing_model\u001B[0m:\u001B[36madd_vehicles_cost\u001B[0m:\u001B[36m243\u001B[0m - \u001B[1mДобавление стоимостей машин\u001B[0m\n",
      "\u001B[32m2025-07-22 16:43:50.824\u001B[0m | \u001B[1mINFO    \u001B[0m | \u001B[36msrc.vrp_study.pdptw_model.routing_model\u001B[0m:\u001B[36madd_time_window\u001B[0m:\u001B[36m194\u001B[0m - \u001B[1madd time\u001B[0m\n",
      "\u001B[32m2025-07-22 16:43:50.826\u001B[0m | \u001B[1mINFO    \u001B[0m | \u001B[36msrc.vrp_study.pdptw_model.routing_model\u001B[0m:\u001B[36madd_mass_constraint\u001B[0m:\u001B[36m177\u001B[0m - \u001B[1mДобавление ограничений для массы\u001B[0m\n",
      "\u001B[32m2025-07-22 16:43:50.831\u001B[0m | \u001B[1mINFO    \u001B[0m | \u001B[36msrc.vrp_study.pdptw_model.routing_model\u001B[0m:\u001B[36mdo_solve\u001B[0m:\u001B[36m407\u001B[0m - \u001B[1mНачало решения\u001B[0m\n",
      "\u001B[32m2025-07-22 16:43:50.832\u001B[0m | \u001B[1mINFO    \u001B[0m | \u001B[36msrc.vrp_study.pdptw_model.routing_model\u001B[0m:\u001B[36mdo_solve\u001B[0m:\u001B[36m410\u001B[0m - \u001B[1muse initial_solution: 11\u001B[0m\n",
      "\u001B[32m2025-07-22 16:43:50.835\u001B[0m | \u001B[34m\u001B[1mDEBUG   \u001B[0m | \u001B[36msrc.vrp_study.pdptw_model.routing_model\u001B[0m:\u001B[36m__call__\u001B[0m:\u001B[36m40\u001B[0m - \u001B[34m\u001B[1mtime: 0.008; new solution (1): 106241; best solution: 106241\u001B[0m\n",
      "\u001B[32m2025-07-22 16:43:50.840\u001B[0m | \u001B[34m\u001B[1mDEBUG   \u001B[0m | \u001B[36msrc.vrp_study.pdptw_model.routing_model\u001B[0m:\u001B[36m__call__\u001B[0m:\u001B[36m40\u001B[0m - \u001B[34m\u001B[1mtime: 0.013; new solution (2): 106241; best solution: 106241\u001B[0m\n",
      "\u001B[32m2025-07-22 16:43:50.885\u001B[0m | \u001B[34m\u001B[1mDEBUG   \u001B[0m | \u001B[36msrc.vrp_study.pdptw_model.routing_model\u001B[0m:\u001B[36m__call__\u001B[0m:\u001B[36m40\u001B[0m - \u001B[34m\u001B[1mtime: 0.058; new solution (3): 105493; best solution: 105493\u001B[0m\n",
      "\u001B[32m2025-07-22 16:43:50.902\u001B[0m | \u001B[34m\u001B[1mDEBUG   \u001B[0m | \u001B[36msrc.vrp_study.pdptw_model.routing_model\u001B[0m:\u001B[36m__call__\u001B[0m:\u001B[36m40\u001B[0m - \u001B[34m\u001B[1mtime: 0.074; new solution (4): 93933; best solution: 93933\u001B[0m\n",
      "\u001B[32m2025-07-22 16:43:50.935\u001B[0m | \u001B[34m\u001B[1mDEBUG   \u001B[0m | \u001B[36msrc.vrp_study.pdptw_model.routing_model\u001B[0m:\u001B[36m__call__\u001B[0m:\u001B[36m40\u001B[0m - \u001B[34m\u001B[1mtime: 0.108; new solution (5): 91730; best solution: 91730\u001B[0m\n",
      "\u001B[32m2025-07-22 16:43:50.950\u001B[0m | \u001B[34m\u001B[1mDEBUG   \u001B[0m | \u001B[36msrc.vrp_study.pdptw_model.routing_model\u001B[0m:\u001B[36m__call__\u001B[0m:\u001B[36m40\u001B[0m - \u001B[34m\u001B[1mtime: 0.123; new solution (6): 90911; best solution: 90911\u001B[0m\n",
      "\u001B[32m2025-07-22 16:43:50.958\u001B[0m | \u001B[34m\u001B[1mDEBUG   \u001B[0m | \u001B[36msrc.vrp_study.pdptw_model.routing_model\u001B[0m:\u001B[36m__call__\u001B[0m:\u001B[36m40\u001B[0m - \u001B[34m\u001B[1mtime: 0.130; new solution (7): 90900; best solution: 90900\u001B[0m\n",
      "\u001B[32m2025-07-22 16:43:50.967\u001B[0m | \u001B[34m\u001B[1mDEBUG   \u001B[0m | \u001B[36msrc.vrp_study.pdptw_model.routing_model\u001B[0m:\u001B[36m__call__\u001B[0m:\u001B[36m40\u001B[0m - \u001B[34m\u001B[1mtime: 0.139; new solution (8): 87748; best solution: 87748\u001B[0m\n",
      "\u001B[32m2025-07-22 16:43:51.221\u001B[0m | \u001B[34m\u001B[1mDEBUG   \u001B[0m | \u001B[36msrc.vrp_study.pdptw_model.routing_model\u001B[0m:\u001B[36m__call__\u001B[0m:\u001B[36m40\u001B[0m - \u001B[34m\u001B[1mtime: 0.394; new solution (9): 87468; best solution: 87468\u001B[0m\n",
      "\u001B[32m2025-07-22 16:43:51.252\u001B[0m | \u001B[34m\u001B[1mDEBUG   \u001B[0m | \u001B[36msrc.vrp_study.pdptw_model.routing_model\u001B[0m:\u001B[36m__call__\u001B[0m:\u001B[36m40\u001B[0m - \u001B[34m\u001B[1mtime: 0.425; new solution (10): 86614; best solution: 86614\u001B[0m\n",
      "\u001B[32m2025-07-22 16:43:51.275\u001B[0m | \u001B[34m\u001B[1mDEBUG   \u001B[0m | \u001B[36msrc.vrp_study.pdptw_model.routing_model\u001B[0m:\u001B[36m__call__\u001B[0m:\u001B[36m40\u001B[0m - \u001B[34m\u001B[1mtime: 0.448; new solution (11): 85895; best solution: 85895\u001B[0m\n",
      "\u001B[32m2025-07-22 16:43:51.289\u001B[0m | \u001B[34m\u001B[1mDEBUG   \u001B[0m | \u001B[36msrc.vrp_study.pdptw_model.routing_model\u001B[0m:\u001B[36m__call__\u001B[0m:\u001B[36m40\u001B[0m - \u001B[34m\u001B[1mtime: 0.461; new solution (12): 83692; best solution: 83692\u001B[0m\n",
      "\u001B[32m2025-07-22 16:43:51.302\u001B[0m | \u001B[34m\u001B[1mDEBUG   \u001B[0m | \u001B[36msrc.vrp_study.pdptw_model.routing_model\u001B[0m:\u001B[36m__call__\u001B[0m:\u001B[36m40\u001B[0m - \u001B[34m\u001B[1mtime: 0.475; new solution (13): 82873; best solution: 82873\u001B[0m\n",
      "\u001B[32m2025-07-22 16:43:52.680\u001B[0m | \u001B[1mINFO    \u001B[0m | \u001B[36msrc.vrp_study.pdptw_model.routing_model\u001B[0m:\u001B[36mdo_solve\u001B[0m:\u001B[36m423\u001B[0m - \u001B[1mfind solution\u001B[0m\n",
      "\u001B[32m2025-07-22 16:43:52.682\u001B[0m | \u001B[1mINFO    \u001B[0m | \u001B[36msrc.vrp_study.pdptw_model.routing_model\u001B[0m:\u001B[36mfind_optimal_paths\u001B[0m:\u001B[36m464\u001B[0m - \u001B[1mbest_score: 828.73\u001B[0m\n"
     ]
    }
   ],
   "source": [
    "from src.vrp_study.pdptw_model.solution_builder import SolutionBuilder\n",
    "\n",
    "sol = find_optimal_paths(routing_manager, SolutionBuilder())[0]"
   ],
   "metadata": {
    "collapsed": false,
    "ExecuteTime": {
     "end_time": "2025-07-22T13:43:52.685907Z",
     "start_time": "2025-07-22T13:43:46.958790Z"
    }
   },
   "id": "b952626eb97b3ae5",
   "execution_count": 13
  },
  {
   "cell_type": "code",
   "outputs": [],
   "source": [
    "# sol"
   ],
   "metadata": {
    "collapsed": false,
    "ExecuteTime": {
     "end_time": "2025-07-22T13:43:52.692235Z",
     "start_time": "2025-07-22T13:43:52.687716Z"
    }
   },
   "id": "965629f893e35eb7",
   "execution_count": 14
  },
  {
   "cell_type": "markdown",
   "source": [
    "# Генерация столбцов"
   ],
   "metadata": {
    "collapsed": false
   },
   "id": "5705b91af98cf08a"
  },
  {
   "cell_type": "code",
   "outputs": [],
   "source": [
    "@dataclass\n",
    "class Route:\n",
    "    \"\"\"\n",
    "        Описание маршрута\n",
    "    \"\"\"\n",
    "    cost: int  # цена\n",
    "    path: list[int]  # маршрут\n",
    "    path_set: Optional[set[int]] = None  # множество для блейзинговости\n",
    "\n",
    "    def __post_init__(self):\n",
    "        self.path_set = set(self.path)"
   ],
   "metadata": {
    "collapsed": false,
    "ExecuteTime": {
     "end_time": "2025-07-22T13:43:52.708783Z",
     "start_time": "2025-07-22T13:43:52.694852Z"
    }
   },
   "id": "129f3de9cf71c6f3",
   "execution_count": 15
  },
  {
   "cell_type": "code",
   "outputs": [],
   "source": [
    "class SelectModelCpSat:\n",
    "    \"\"\"\n",
    "        модель выбора самых дешевых маршрутов через cp_sat\n",
    "    \"\"\"\n",
    "\n",
    "    def __init__(self, _routes: list[Route], _nodes: set[int]):\n",
    "        self.routes = _routes  # все маршруты\n",
    "        self.nodes = _nodes  # все ноды\n",
    "\n",
    "        self.model = CpModel()\n",
    "        self.Z = {}\n",
    "        self._build()\n",
    "\n",
    "    def _build(self):\n",
    "        routes = self.routes\n",
    "        Z = self.Z\n",
    "        model = self.model\n",
    "\n",
    "        for i, r in enumerate(routes):\n",
    "            Z[i] = model.new_bool_var(name=f'Z_{i}')  # брать или не брать маррут\n",
    "        for n in self.nodes:\n",
    "            model.add(\n",
    "                sum(Z[i] for i, route in enumerate(routes) if n in route.path_set) == 1)  # каждая точка посещена 1 раз\n",
    "\n",
    "    def optimize(self, solver: CpSolver) -> Optional[list[Route]]:\n",
    "        self.model.clear_objective()\n",
    "        self.model.minimize(sum(self.Z[i] * r.cost for i, r in enumerate(self.routes)))\n",
    "\n",
    "        status = solver.solve(self.model)\n",
    "\n",
    "        log.info(f'model solve with status: {status}')\n",
    "\n",
    "        if status == CpSolverStatus.OPTIMAL or status == CpSolverStatus.FEASIBLE:\n",
    "            return [r for i, r in enumerate(self.routes) if solver.Value(self.Z[i]) == 1]\n",
    "        return None"
   ],
   "metadata": {
    "collapsed": false,
    "ExecuteTime": {
     "end_time": "2025-07-22T13:43:52.722920Z",
     "start_time": "2025-07-22T13:43:52.710973Z"
    }
   },
   "id": "60d51bbd959d7bcc",
   "execution_count": 16
  },
  {
   "cell_type": "code",
   "outputs": [],
   "source": [
    "class PulpSelectModelLP:\n",
    "    \"\"\"\n",
    "       Тоже самое, что выше только в терминах LP для поиска дуальных переменных\n",
    "    \"\"\"\n",
    "\n",
    "    def __init__(self, _routes: list[Route], _nodes: set[int]):\n",
    "        self.model = pulp.LpProblem(f\"MasterProblem_{uuid.uuid4()}\", pulp.LpMinimize)\n",
    "        self.routes = _routes\n",
    "        self.Z = {}\n",
    "        self.nodes = _nodes\n",
    "        self._build()\n",
    "\n",
    "    def _build(self):\n",
    "        routes = self.routes\n",
    "        Z = self.Z\n",
    "        model = self.model\n",
    "\n",
    "        for i, r in enumerate(routes):\n",
    "            Z[i] = pulp.LpVariable(name=f'z_{i}', lowBound=0, upBound=1)\n",
    "\n",
    "        for n in self.nodes:\n",
    "            model.addConstraint(\n",
    "                pulp.lpSum(Z[i] for i, route in enumerate(routes) if n in route.path_set) == 1,\n",
    "                name=f'cover_{n}'\n",
    "            )\n",
    "\n",
    "    def get_dual_variables(self) -> Optional[list[float]]:\n",
    "        model = self.model\n",
    "        model.setObjective(pulp.lpSum(self.Z[i] * r.cost for i, r in enumerate(self.routes)))\n",
    "\n",
    "        model.solve(PULP_CBC_CMD(msg=0))\n",
    "        # print(model.sol_status)\n",
    "        if model.sol_status == 1:\n",
    "            vals = [model.variables()[i].value() for i in range(len(self.routes))]\n",
    "            log.info(f'master_prob all_int:{all(v in {0.0,0,1.0,1} for v in vals)}')\n",
    "            duals = {n: model.constraints[f\"cover_{n}\"].pi for n in self.nodes}\n",
    "            return duals\n",
    "        return None"
   ],
   "metadata": {
    "collapsed": false,
    "ExecuteTime": {
     "end_time": "2025-07-22T13:43:52.735366Z",
     "start_time": "2025-07-22T13:43:52.724623Z"
    }
   },
   "id": "a548b54eef789bb3",
   "execution_count": 17
  },
  {
   "cell_type": "code",
   "outputs": [],
   "source": [
    "NODES = set(n.id for n in routing_manager.nodes() if n.is_transit)"
   ],
   "metadata": {
    "collapsed": false,
    "ExecuteTime": {
     "end_time": "2025-07-22T13:43:52.743419Z",
     "start_time": "2025-07-22T13:43:52.736822Z"
    }
   },
   "id": "2a02f30c3ace48d5",
   "execution_count": 18
  },
  {
   "cell_type": "code",
   "outputs": [],
   "source": [
    "routes: list[Route] = []\n",
    "for nodes in routing_manager.get_pick_up_and_delivery_nodes():\n",
    "    q = [routing_manager.get_depo_index()] + nodes + [routing_manager.get_depo_index()]\n",
    "    routes.append(\n",
    "        Route(\n",
    "            cost=int(\n",
    "                sum(routing_manager.get_distance(\n",
    "                    routing_manager.nodes()[q[i]],\n",
    "                    routing_manager.nodes()[q[i + 1]]\n",
    "                ) for i in range(len(q) - 1))\n",
    "            ),\n",
    "            path=nodes\n",
    "        )\n",
    "    )\n",
    "\n",
    "# for nodes in sol:\n",
    "#     if len(nodes) == 0:\n",
    "#         continue\n",
    "#     routes.append(\n",
    "#         Route(\n",
    "#             cost=int(\n",
    "#                 sum(routing_manager.get_distance(\n",
    "#                     routing_manager.nodes()[nodes[i]],\n",
    "#                     routing_manager.nodes()[nodes[i + 1]]\n",
    "#                 ) for i in range(len(nodes) - 1))\n",
    "#             ),\n",
    "#             path=nodes[1:-1]\n",
    "#         )\n",
    "#     )"
   ],
   "metadata": {
    "collapsed": false,
    "ExecuteTime": {
     "end_time": "2025-07-22T13:43:52.750909Z",
     "start_time": "2025-07-22T13:43:52.744933Z"
    }
   },
   "id": "fd3e50fd85025399",
   "execution_count": 19
  },
  {
   "cell_type": "code",
   "outputs": [],
   "source": [
    "from src.vrp_study.routing_manager import RoutingManager\n",
    "\n",
    "\n",
    "class PDPTWModel:\n",
    "    \"\"\"\n",
    "        \n",
    "        Модель pdptw.\n",
    "        Оставлю это пока без комментариев\n",
    "        По сути VRP с доп констрейнтами.\n",
    "    \n",
    "    \"\"\"\n",
    "\n",
    "    def __init__(self, routing_manager: RoutingManager, cost: dict[float], ignore_routes: list[Route]):\n",
    "        self.routing_manager = routing_manager\n",
    "        self.cost = cost\n",
    "\n",
    "        self.model = CpModel()\n",
    "        self.X = {}\n",
    "        self.T = {}\n",
    "        self.Q = {}\n",
    "        self.ignore_routes = ignore_routes\n",
    "        self._build()\n",
    "\n",
    "    def _build(self):\n",
    "        routing_manager = self.routing_manager\n",
    "        log.info(f'problem size: {len(routing_manager.nodes())}')\n",
    "\n",
    "        N = len(routing_manager.nodes())\n",
    "        M = 1_000_000\n",
    "\n",
    "        X = self.X\n",
    "        T = self.T\n",
    "        Q = self.Q\n",
    "\n",
    "        model = self.model\n",
    "        depo = routing_manager.get_depo_index()\n",
    "\n",
    "        for i in range(N):\n",
    "            for j in range(N):\n",
    "                if i == j:\n",
    "                    X[i, j] = model.new_constant(0)\n",
    "                else:\n",
    "                    X[i, j] = model.new_bool_var(f'x_{i, j}')\n",
    "\n",
    "        max_time = max(n.end_time for n in routing_manager.nodes())\n",
    "        max_mass = max(car.capacity for car in routing_manager.cars())\n",
    "\n",
    "        log.debug(f'max_time: {max_time}, max_mass: {max_mass}')\n",
    "        for i in range(N):\n",
    "            T[i] = model.new_int_var(lb=0, ub=max_time * 2, name=f'time_{i}')\n",
    "            Q[i] = model.new_int_var(lb=0, ub=max_mass, name=f'mass_{i}')\n",
    "\n",
    "        model.add(sum(X[depo, i] for i in range(N)) == 1)\n",
    "\n",
    "        for i, node in enumerate(routing_manager.nodes()):\n",
    "            model.add(\n",
    "                sum(X[i, j] for j in range(N)) == sum(X[j, i] for j in range(N))\n",
    "            )\n",
    "            if i == 0:\n",
    "                continue\n",
    "            model.add(sum(X[i, j] for j in range(N)) <= 1)\n",
    "            for j in range(N):\n",
    "                if i == j:\n",
    "                    continue\n",
    "                ni = routing_manager.nodes()[i]\n",
    "                nj = routing_manager.nodes()[j]\n",
    "\n",
    "                model.add(\n",
    "                    T[i] + int(routing_manager.get_time(ni, nj) + routing_manager.nodes()[i].service_time) <=\n",
    "                    T[j] + M * (1 - X[i, j]))\n",
    "\n",
    "                model.add(\n",
    "                    Q[i] + routing_manager.nodes()[i].demand <=\n",
    "                    Q[j] + M * (1 - X[i, j]))\n",
    "\n",
    "        for node_a, node_b in routing_manager.get_pick_up_and_delivery_nodes():\n",
    "            a, b = node_a, node_b\n",
    "            model.add(T[a] <= T[b])\n",
    "            model.add(sum(X[k, a] + X[k, b] for k in range(N)) == 2 * sum(X[k, a] for k in range(N)))\n",
    "\n",
    "        for i, node in enumerate(routing_manager.nodes()):\n",
    "            model.add(node.start_time <= T[i])\n",
    "            model.add(T[i] <= node.end_time)\n",
    "\n",
    "        for route in self.ignore_routes:\n",
    "            route = route.path\n",
    "            self.ignore_path(route)\n",
    "\n",
    "    def ignore_path(self, route: list[int]):\n",
    "        model = self.model\n",
    "        X = self.X\n",
    "        v = X[0, route[0]] + X[route[-1], 0]\n",
    "        for i in range(len(route) - 1):\n",
    "            v += X[route[i], route[i + 1]]\n",
    "        model.add(v != len(route) + 1)\n",
    "\n",
    "    def optimize(self, solver: CpSolver):\n",
    "        self.model.clear_objective()\n",
    "        N = len(self.routing_manager.nodes())\n",
    "        r = self.routing_manager\n",
    "        dst = sum(self.X[i, j] * r.get_distance(r.nodes()[i], r.nodes()[j]) for i in range(N) for j in range(N))\n",
    "        delta = sum(self.cost[r.nodes()[i].id] * sum(self.X[j, i] for j in range(N)) for i in range(1, N))\n",
    "        self.model.minimize(dst - delta)\n",
    "\n",
    "        status = solver.solve(self.model)\n",
    "\n",
    "        log.info(f'model solve with status: {status}')\n",
    "\n",
    "        if status == CpSolverStatus.OPTIMAL or status == CpSolverStatus.FEASIBLE:\n",
    "            start = 0\n",
    "            path = []\n",
    "            while True:\n",
    "                next_node = next(iter(n for n in range(N) if solver.Value(self.X[start, n]) == 1))\n",
    "                if next_node == 0:\n",
    "                    if path[0] == 0:\n",
    "                        path = path[1:]\n",
    "                    return path\n",
    "                else:\n",
    "                    start = next_node\n",
    "                    path.append(start)\n",
    "\n",
    "        #     return [r for i, r in enumerate(self.routes) if solver.Value(self.Z[i]) == 1]\n",
    "        # return None"
   ],
   "metadata": {
    "collapsed": false,
    "ExecuteTime": {
     "end_time": "2025-07-22T13:43:52.774435Z",
     "start_time": "2025-07-22T13:43:52.752708Z"
    }
   },
   "id": "5f271bfc8fc47411",
   "execution_count": 20
  },
  {
   "cell_type": "code",
   "outputs": [],
   "source": [],
   "metadata": {
    "collapsed": false,
    "ExecuteTime": {
     "end_time": "2025-07-22T13:43:52.779843Z",
     "start_time": "2025-07-22T13:43:52.776857Z"
    }
   },
   "id": "a1f0efcfd2ba61a9",
   "execution_count": 20
  },
  {
   "cell_type": "code",
   "outputs": [],
   "source": [
    "\n",
    "best = {'preferred_variable_order': 2,\n",
    "        'clause_cleanup_protection': 1,\n",
    "        'max_presolve_iterations': 5,\n",
    "        'cp_model_probing_level': 1,\n",
    "        'presolve_probing_deterministic_time_limit': 10.0,\n",
    "        'search_branching': 2,\n",
    "        'feasibility_jump_linearization_level': 0,\n",
    "        'fp_rounding': 0,\n",
    "        'polish_lp_solution': True,\n",
    "        'linearization_level': 0,\n",
    "        'cut_level': 2,\n",
    "        'max_all_diff_cut_size': 128,\n",
    "        'symmetry_level': 0,\n",
    "        'num_workers': 4}\n",
    "\n",
    "\n",
    "def get_solver():\n",
    "    solver = CpSolver()\n",
    "\n",
    "    for k, v in best.items():\n",
    "        if isinstance(v, list):\n",
    "            for ss in v:\n",
    "                solver.parameters.ignore_subsolvers.append(ss)\n",
    "        else:\n",
    "            if 'ignore_subsolvers' in k:\n",
    "                if v:\n",
    "                    solver.parameters.ignore_subsolvers.append(k.split(':')[1])\n",
    "            else:\n",
    "                exec(f'solver.parameters.{k} = {v}')\n",
    "    # solver.parameters.use_lns = True\n",
    "    # solver.parameters.lns_num_threads = 4\n",
    "    solver.parameters.log_search_progress = False\n",
    "    solver.parameters.max_time_in_seconds = 60.0 * 10\n",
    "\n",
    "    # packing_subsolver = sat_parameters_pb2.SatParameters()\n",
    "    # packing_subsolver.name = \"MyPackingSubsolver\"\n",
    "    # packing_subsolver.use_area_energetic_reasoning_in_no_overlap_2d = False\n",
    "    # packing_subsolver.use_energetic_reasoning_in_no_overlap_2d = False\n",
    "    # packing_subsolver.use_timetabling_in_no_overlap_2d = False\n",
    "    # packing_subsolver.max_pairs_pairwise_reasoning_in_no_overlap_2d = 5_000\n",
    "    # packing_subsolver.\n",
    "    # # Add the subsolver to the portfolio\n",
    "    # solver.parameters.subsolver_params.append(packing_subsolver)  # Define the subsolver\n",
    "    # solver.parameters.extra_subsolvers.append(\n",
    "    #     packing_subsolver.name\n",
    "    # )  # Activate the subsolver\n",
    "\n",
    "    return solver"
   ],
   "metadata": {
    "collapsed": false,
    "ExecuteTime": {
     "end_time": "2025-07-22T13:43:52.789381Z",
     "start_time": "2025-07-22T13:43:52.782182Z"
    }
   },
   "id": "75b548f7fae3e3b4",
   "execution_count": 21
  },
  {
   "cell_type": "code",
   "outputs": [],
   "source": [
    "solver = get_solver()"
   ],
   "metadata": {
    "collapsed": false,
    "ExecuteTime": {
     "end_time": "2025-07-22T13:43:52.798954Z",
     "start_time": "2025-07-22T13:43:52.794630Z"
    }
   },
   "id": "6841a9294eb18446",
   "execution_count": 22
  },
  {
   "cell_type": "code",
   "outputs": [
    {
     "name": "stderr",
     "output_type": "stream",
     "text": [
      "\u001B[32m2025-07-22 16:43:52.815\u001B[0m | \u001B[1mINFO    \u001B[0m | \u001B[36m__main__\u001B[0m:\u001B[36moptimize\u001B[0m:\u001B[36m31\u001B[0m - \u001B[1mmodel solve with status: 4\u001B[0m\n"
     ]
    },
    {
     "data": {
      "text/plain": "3329"
     },
     "execution_count": 23,
     "metadata": {},
     "output_type": "execute_result"
    }
   ],
   "source": [
    "cp_select_model = SelectModelCpSat(routes, NODES)\n",
    "sum(r.cost for r in cp_select_model.optimize(solver))"
   ],
   "metadata": {
    "collapsed": false,
    "ExecuteTime": {
     "end_time": "2025-07-22T13:43:52.819806Z",
     "start_time": "2025-07-22T13:43:52.800695Z"
    }
   },
   "id": "1d98aa99350580cd",
   "execution_count": 23
  },
  {
   "cell_type": "code",
   "outputs": [],
   "source": [],
   "metadata": {
    "collapsed": false,
    "ExecuteTime": {
     "end_time": "2025-07-22T13:43:52.824659Z",
     "start_time": "2025-07-22T13:43:52.821924Z"
    }
   },
   "id": "2b2c2239f887cb7",
   "execution_count": 23
  },
  {
   "cell_type": "code",
   "outputs": [
    {
     "name": "stderr",
     "output_type": "stream",
     "text": [
      "\u001B[32m2025-07-22 16:43:52.849\u001B[0m | \u001B[1mINFO    \u001B[0m | \u001B[36m__main__\u001B[0m:\u001B[36mget_dual_variables\u001B[0m:\u001B[36m35\u001B[0m - \u001B[1mmaster_prob all_int:True\u001B[0m\n",
      "\u001B[32m2025-07-22 16:43:52.850\u001B[0m | \u001B[1mINFO    \u001B[0m | \u001B[36m__main__\u001B[0m:\u001B[36m_build\u001B[0m:\u001B[36m26\u001B[0m - \u001B[1mproblem size: 107\u001B[0m\n",
      "\u001B[32m2025-07-22 16:43:53.003\u001B[0m | \u001B[34m\u001B[1mDEBUG   \u001B[0m | \u001B[36m__main__\u001B[0m:\u001B[36m_build\u001B[0m:\u001B[36m48\u001B[0m - \u001B[34m\u001B[1mmax_time: 1236, max_mass: 200\u001B[0m\n"
     ]
    },
    {
     "data": {
      "text/plain": "  0%|          | 0/30 [00:00<?, ?it/s]",
      "application/vnd.jupyter.widget-view+json": {
       "version_major": 2,
       "version_minor": 0,
       "model_id": "91c617766ccb492499afe8bb8f2412ca"
      }
     },
     "metadata": {},
     "output_type": "display_data"
    },
    {
     "name": "stderr",
     "output_type": "stream",
     "text": [
      "\u001B[32m2025-07-22 16:43:53.873\u001B[0m | \u001B[1mINFO    \u001B[0m | \u001B[36m__main__\u001B[0m:\u001B[36mget_dual_variables\u001B[0m:\u001B[36m35\u001B[0m - \u001B[1mmaster_prob all_int:True\u001B[0m\n"
     ]
    }
   ],
   "source": [
    "# решаем мастер проблему и тащим из нее дуальные переменные\n",
    "# в данном контексте под дуальными переменными можно понимать \"сколько стоит посетить точку\".\n",
    "pulp_model = PulpSelectModelLP(_routes=routes, _nodes=NODES)\n",
    "res = pulp_model.get_dual_variables()\n",
    "pdptw_model = PDPTWModel(routing_manager, cost=res, ignore_routes=routes)\n",
    "\n",
    "set_paths = set(tuple(r.path) for r in routes)\n",
    "\n",
    "for _ in trange(30):\n",
    "\n",
    "    pulp_model = PulpSelectModelLP(_routes=routes, _nodes=NODES)\n",
    "    res = pulp_model.get_dual_variables()\n",
    "    pdptw_model.cost = res\n",
    "    path = pdptw_model.optimize(solver)\n",
    "\n",
    "    if path is None or solver.objective_value > 0:\n",
    "        # если ничего не нашли или нет путей, которые могут улучшить маршрут\n",
    "        break\n",
    "    # чек на то, что не генерируем то, чот уже ест\n",
    "    assert tuple(path) not in set_paths\n",
    "    set_paths.add(tuple(path))\n",
    "    pdptw_model.ignore_path(path)\n",
    "\n",
    "    log.info(f'{path}; {solver.objective_value}')\n",
    "\n",
    "    nodes = [0] + path + [0]\n",
    "    # добавляем путь\n",
    "    routes.append(Route(\n",
    "        cost=int(\n",
    "            sum(routing_manager.get_distance(\n",
    "                routing_manager.nodes()[nodes[i]],\n",
    "                routing_manager.nodes()[nodes[i + 1]]\n",
    "            ) for i in range(len(nodes) - 1))\n",
    "        ),\n",
    "        path=path\n",
    "    ))\n",
    "    cp_select_model = SelectModelCpSat(routes, NODES)\n",
    "    log.info(f'best_score: {sum(r.cost for r in  cp_select_model.optimize(solver))}')"
   ],
   "metadata": {
    "collapsed": false,
    "ExecuteTime": {
     "start_time": "2025-07-22T13:43:52.826233Z"
    }
   },
   "id": "738f5a3eed36924e",
   "execution_count": null
  },
  {
   "cell_type": "code",
   "outputs": [],
   "source": [
    "cp_select_model = SelectModelCpSat(routes, NODES)\n",
    "log.info(f'best_score: {sum(r.cost for r in  cp_select_model.optimize(solver))}')"
   ],
   "metadata": {
    "collapsed": false
   },
   "id": "4def13866fae3b26",
   "execution_count": null
  }
 ],
 "metadata": {
  "kernelspec": {
   "display_name": "Python 3",
   "language": "python",
   "name": "python3"
  },
  "language_info": {
   "codemirror_mode": {
    "name": "ipython",
    "version": 2
   },
   "file_extension": ".py",
   "mimetype": "text/x-python",
   "name": "python",
   "nbconvert_exporter": "python",
   "pygments_lexer": "ipython2",
   "version": "2.7.6"
  }
 },
 "nbformat": 4,
 "nbformat_minor": 5
}
