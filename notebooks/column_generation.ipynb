{
 "cells": [
  {
   "cell_type": "code",
   "execution_count": null,
   "id": "initial_id",
   "metadata": {
    "collapsed": true
   },
   "outputs": [],
   "source": [
    "from ortools.sat.cp_model_pb2 import CpSolverStatus\n",
    "from tqdm import tqdm\n",
    "from pyscipopt import Model, quicksum\n",
    "import uuid\n",
    "\n",
    "from ortools.sat.python.cp_model import CpModel, CpSolver"
   ]
  },
  {
   "cell_type": "code",
   "outputs": [],
   "source": [
    "from loguru import logger as log"
   ],
   "metadata": {
    "collapsed": false
   },
   "id": "2672db95c0053ca4",
   "execution_count": null
  },
  {
   "cell_type": "code",
   "outputs": [],
   "source": [
    "import numpy as np\n",
    "from vrp_study.data_model import Tariff, Cargo, Node\n",
    "from vrp_study.data_model import TariffCost\n",
    "from vrp_study.pdptw_model.pdptw_routing_manager_builder import PDRoutingManagerBuilder\n",
    "from vrp_study.pdptw_model.routing_model import find_optimal_paths\n",
    "\n",
    "from dataclasses import dataclass"
   ],
   "metadata": {
    "collapsed": false
   },
   "id": "bb73d26d29a2755b",
   "execution_count": null
  },
  {
   "cell_type": "code",
   "outputs": [],
   "source": [
    "# lc1_10_8\t98\t42949.56\tShobb\t31-mar-18"
   ],
   "metadata": {
    "collapsed": false
   },
   "id": "1a4f62c0844892af",
   "execution_count": null
  },
  {
   "cell_type": "code",
   "outputs": [],
   "source": [
    "benchmark_type = 'pdp_100'\n",
    "name = 'lc101.txt'"
   ],
   "metadata": {
    "collapsed": false
   },
   "id": "2fff3b944da4481b",
   "execution_count": null
  },
  {
   "cell_type": "code",
   "outputs": [],
   "source": [
    "from typing import Optional\n",
    "\n",
    "tariff = None\n",
    "cargos: list[Cargo] = []\n",
    "depo: Optional[Node] = None"
   ],
   "metadata": {
    "collapsed": false
   },
   "id": "31230f98dd3fad5d",
   "execution_count": null
  },
  {
   "cell_type": "code",
   "outputs": [],
   "source": [
    "id2info = {}\n",
    "p2coordinates = {}\n",
    "with open(f'../data/Li & Lim benchmark/{benchmark_type}/{name}', 'r') as file:\n",
    "    for i, line in enumerate(file):\n",
    "        line = line.split('\\t')\n",
    "        if i == 0:\n",
    "            tariff = Tariff(\n",
    "                id='car',\n",
    "                capacity=int(line[1]),\n",
    "                max_count=int(line[0]),\n",
    "                cost_per_distance=[TariffCost(\n",
    "                    min_dst_km=0,\n",
    "                    max_dst_km=10000,\n",
    "                    cost_per_km=1,\n",
    "                    fixed_cost=0\n",
    "                )]\n",
    "            )\n",
    "        else:\n",
    "            c_id = int(line[0])\n",
    "            x = int(line[1])\n",
    "            y = int(line[2])\n",
    "\n",
    "            mass = int(line[3])\n",
    "\n",
    "            et = int(line[4])\n",
    "            lt = int(line[5])\n",
    "            st = int(line[6])\n",
    "\n",
    "            pick_up = int(line[7])\n",
    "            delivery = int(line[8])\n",
    "            if pick_up == delivery:\n",
    "                # print(12)\n",
    "                depo = Node(\n",
    "                    id=0,\n",
    "                    cargo_id=c_id,\n",
    "                    capacity=0,\n",
    "                    service_time=0,\n",
    "                    start_time=0,\n",
    "                    end_time=lt,\n",
    "                    coordinates=(x, y)\n",
    "                )\n",
    "                continue\n",
    "            if pick_up == 0:\n",
    "                if c_id not in id2info:\n",
    "                    id2info[c_id] = {}\n",
    "                id2info[c_id][0] = (x, y, mass, et, lt, st, c_id, delivery)\n",
    "            else:\n",
    "                delivery = c_id\n",
    "                c_id = pick_up\n",
    "                if c_id not in id2info:\n",
    "                    id2info[c_id] = {}\n",
    "                id2info[c_id][1] = (x, y, mass, et, lt, st, pick_up, delivery)\n"
   ],
   "metadata": {
    "collapsed": false
   },
   "id": "187c79fcb87c74b0",
   "execution_count": null
  },
  {
   "cell_type": "code",
   "outputs": [],
   "source": [
    "depo"
   ],
   "metadata": {
    "collapsed": false
   },
   "id": "b809a58457c1cfc",
   "execution_count": null
  },
  {
   "cell_type": "code",
   "outputs": [],
   "source": [
    "\n",
    "for k, v in id2info.items():\n",
    "    cargos.append(\n",
    "        Cargo(\n",
    "            id=k,\n",
    "            nodes=[\n",
    "                Node(\n",
    "                    cargo_id=k,\n",
    "                    id=v[i][6] if i == 0 else v[i][7],\n",
    "                    capacity=v[i][2],\n",
    "                    service_time=v[i][5],\n",
    "                    start_time=v[i][3],\n",
    "                    end_time=v[i][4],\n",
    "                    coordinates=(v[i][0], v[i][1])\n",
    "                )\n",
    "                for i in range(2)\n",
    "            ]\n",
    "        )\n",
    "    )"
   ],
   "metadata": {
    "collapsed": false
   },
   "id": "29705f90cfd83d36",
   "execution_count": null
  },
  {
   "cell_type": "code",
   "outputs": [],
   "source": [
    "# cargos = cargos[:10]"
   ],
   "metadata": {
    "collapsed": false
   },
   "id": "c81c3a446e9f7ff4",
   "execution_count": null
  },
  {
   "cell_type": "code",
   "outputs": [],
   "source": [
    "p2coordinates.update({\n",
    "    crg.nodes[i].id: crg.nodes[i].coordinates for crg in cargos for i in range(2)\n",
    "})\n",
    "p2coordinates[depo.id] = depo.coordinates\n",
    "distance_matrix = {(u, v): np.sqrt((du[0] - dv[0]) ** 2 + (du[1] - dv[1]) ** 2) for u, du in\n",
    "                   p2coordinates.items() for\n",
    "                   v, dv in p2coordinates.items()}\n",
    "time_matrix = {(u, v): np.sqrt((du[0] - dv[0]) ** 2 + (du[1] - dv[1]) ** 2) for u, du in p2coordinates.items() for\n",
    "               v, dv in p2coordinates.items()}"
   ],
   "metadata": {
    "collapsed": false
   },
   "id": "19e61fa36a51a2de",
   "execution_count": null
  },
  {
   "cell_type": "code",
   "outputs": [],
   "source": [
    "\n",
    "from vrp_study.configs import ModelConfig\n",
    "\n",
    "routing_manager = PDRoutingManagerBuilder(\n",
    "    distance_matrix=distance_matrix,\n",
    "    time_matrix=time_matrix,\n",
    "    model_config=ModelConfig(max_execution_time_minutes=1)\n",
    ")\n",
    "\n",
    "routing_manager.add_cargos(cargos)\n",
    "routing_manager.add_tariff(tariff)\n",
    "\n",
    "routing_manager.add_depo(depo)\n",
    "\n",
    "# routing_manager.distance_matrix = distance_matrix\n",
    "# routing_manager.time_matrix = time_matrix\n",
    "\n",
    "\n",
    "routing_manager = routing_manager.build()"
   ],
   "metadata": {
    "collapsed": false
   },
   "id": "fe35819237497aa",
   "execution_count": null
  },
  {
   "cell_type": "code",
   "outputs": [],
   "source": [
    "from vrp_study.pdptw_model.solution_builder import SolutionBuilder\n",
    "\n",
    "# sol = find_optimal_paths(routing_manager, SolutionBuilder())[0]"
   ],
   "metadata": {
    "collapsed": false
   },
   "id": "b952626eb97b3ae5",
   "execution_count": null
  },
  {
   "cell_type": "code",
   "outputs": [],
   "source": [
    "# sol"
   ],
   "metadata": {
    "collapsed": false
   },
   "id": "965629f893e35eb7",
   "execution_count": null
  },
  {
   "cell_type": "code",
   "outputs": [],
   "source": [
    "@dataclass\n",
    "class Route:\n",
    "    cost: int\n",
    "    path: list[int]\n",
    "    path_set: Optional[set[int]] = None\n",
    "\n",
    "    def __post_init__(self):\n",
    "        self.path_set = set(self.path)"
   ],
   "metadata": {
    "collapsed": false
   },
   "id": "129f3de9cf71c6f3",
   "execution_count": null
  },
  {
   "cell_type": "code",
   "outputs": [],
   "source": [
    "class SelectModelCpSat:\n",
    "    def __init__(self, routes: list[Route], nodes: set[int]):\n",
    "        self.model = CpModel()\n",
    "        self.routes = routes\n",
    "        self.Z = {}\n",
    "        self.nodes = nodes\n",
    "        self._build()\n",
    "\n",
    "    def _build(self):\n",
    "        routes = self.routes\n",
    "        Z = self.Z\n",
    "        model = self.model\n",
    "        for i, r in enumerate(routes):\n",
    "            Z[i] = model.new_bool_var(name=f'Z_{i}')\n",
    "\n",
    "        for n in self.nodes:\n",
    "            model.add(sum(Z[i] for i, route in enumerate(routes) if n in route.path_set) == 1)\n",
    "\n",
    "    def optimize(self, solver: CpSolver) -> Optional[list[Route]]:\n",
    "        self.model.clear_objective()\n",
    "        self.model.minimize(sum(self.Z[i] * r.cost for i, r in enumerate(self.routes)))\n",
    "\n",
    "        status = solver.solve(self.model)\n",
    "\n",
    "        log.info(f'model solve with status: {status}')\n",
    "\n",
    "        if status == CpSolverStatus.OPTIMAL or status == CpSolverStatus.FEASIBLE:\n",
    "            return [r for i, r in enumerate(self.routes) if solver.Value(self.Z[i]) == 1]\n",
    "        return None"
   ],
   "metadata": {
    "collapsed": false
   },
   "id": "60d51bbd959d7bcc",
   "execution_count": null
  },
  {
   "cell_type": "code",
   "outputs": [],
   "source": [
    "import pyscipopt\n",
    "\n",
    "\n",
    "class SelectModelLP:\n",
    "    def __init__(self, routes: list[Route], nodes: set[int]):\n",
    "        self.model = Model(f\"Simple_LP_Problem_{uuid.uuid4()}\")\n",
    "        self.routes = routes\n",
    "        self.Z = {}\n",
    "        self.nodes = nodes\n",
    "        self._build()\n",
    "\n",
    "    def _build(self):\n",
    "        routes = self.routes\n",
    "        Z = self.Z\n",
    "        model = self.model\n",
    "\n",
    "        for i, r in enumerate(routes):\n",
    "            Z[i] = model.addVar(name=f'Z_{i}', lb=0, ub=1, vtype='C')\n",
    "\n",
    "        for n in self.nodes:\n",
    "            model.addCons(quicksum(Z[i] for i, route in enumerate(routes) if n in route.path_set) == 1, name=f'my_{n}')\n",
    "\n",
    "    def get_dual_variables(self) -> Optional[list[float]]:\n",
    "        model = self.model\n",
    "        model.setObjective(quicksum(self.Z[i] * r.cost for i, r in enumerate(self.routes)), 'minimize')\n",
    "\n",
    "        model.setParam('presolving/maxrounds', 0)\n",
    "        model.setParam('lp/solvefreq', 1)\n",
    "        model.setParam('display/verblevel', 0)  # Suppress output\n",
    "        model.setHeuristics(pyscipopt.SCIP_PARAMSETTING.OFF)\n",
    "        model.disablePropagation()\n",
    "\n",
    "        model.optimize()\n",
    "\n",
    "        if model.getStatus() == 'optimal':\n",
    "            res = []\n",
    "            for k, v in self.Z.items():\n",
    "                res.append(model.getVal(v))\n",
    "            log.info(res)\n",
    "            result = {}\n",
    "            for cons in model.getConss():\n",
    "                name = cons.name\n",
    "                if 'my' in name:\n",
    "                    dual_value = model.getDualsolLinear(cons)\n",
    "                    idx = int(name.split('_')[1])\n",
    "                    result[idx] = dual_value\n",
    "            return result\n",
    "        return None"
   ],
   "metadata": {
    "collapsed": false
   },
   "id": "72548190efc7d1b0",
   "execution_count": null
  },
  {
   "cell_type": "code",
   "outputs": [],
   "source": [
    "import pyscipopt\n",
    "\n",
    "\n",
    "class SelectModelDualLP:\n",
    "    def __init__(self, routes: list[Route], nodes: set[int]):\n",
    "        self.model = Model(f\"Simple_LP_Problem_{uuid.uuid4()}\")\n",
    "        self.routes = routes\n",
    "        self.Z = {}\n",
    "        self.Y = {}\n",
    "\n",
    "        self.nodes = nodes\n",
    "        self._build()\n",
    "\n",
    "    def _build(self):\n",
    "\n",
    "        routes = self.routes\n",
    "        Y = self.Y\n",
    "\n",
    "        model = self.model\n",
    "\n",
    "        N = len(self.nodes)\n",
    "        R = len(routes)\n",
    "\n",
    "        A = np.zeros((N, R))\n",
    "        C = np.array([r.cost for r in routes])\n",
    "        for i, n in enumerate(self.nodes):\n",
    "            for j, route in enumerate(routes):\n",
    "                if n in route.path_set:\n",
    "                    A[i, j] = 1\n",
    "\n",
    "        inf = model.infinity()\n",
    "\n",
    "        for i in range(N):\n",
    "            Y[i] = model.addVar(name=f'Y_{i}', lb=-inf, ub=inf, vtype='C')\n",
    "\n",
    "        at = A.T\n",
    "\n",
    "        for r in range(R):\n",
    "            model.addCons(quicksum(at[r, i] * Y[i] for i in range(N)) <= C[r])\n",
    "\n",
    "    def get_dual_variables(self) -> Optional[list[float]]:\n",
    "        model = self.model\n",
    "\n",
    "        model.setObjective(quicksum(self.Y[i] for i in range(len(self.nodes))), 'maximize')\n",
    "\n",
    "        # model.setParam('presolving/maxrounds', 0)\n",
    "        # model.setParam('lp/solvefreq', 1)\n",
    "        model.setParam('display/verblevel', 0)  # Suppress output\n",
    "        # model.setHeuristics(pyscipopt.SCIP_PARAMSETTING.OFF)\n",
    "        # model.disablePropagation()\n",
    "\n",
    "        model.optimize()\n",
    "\n",
    "        if model.getStatus() == 'optimal':\n",
    "            res = {}\n",
    "            for k, v in self.Y.items():\n",
    "                res[k + 1] = model.getVal(v)\n",
    "            # log.info(res)\n",
    "            # result = {}\n",
    "            # for cons in model.getConss():\n",
    "            #     name = cons.name\n",
    "            #     if 'my' in name:\n",
    "            #         dual_value = model.getDualsolLinear(cons)\n",
    "            #         idx = int(name.split('_')[1])\n",
    "            #         result[idx] = dual_value\n",
    "            return res\n",
    "        return None"
   ],
   "metadata": {
    "collapsed": false
   },
   "id": "e9c57b58bdbcc3fe",
   "execution_count": null
  },
  {
   "cell_type": "code",
   "outputs": [],
   "source": [],
   "metadata": {
    "collapsed": false
   },
   "id": "f18b31f28b9f70e7",
   "execution_count": null
  },
  {
   "cell_type": "code",
   "outputs": [],
   "source": [
    "NODES = set(n.id for n in routing_manager.nodes() if n.is_transit)"
   ],
   "metadata": {
    "collapsed": false
   },
   "id": "2a02f30c3ace48d5",
   "execution_count": null
  },
  {
   "cell_type": "code",
   "outputs": [],
   "source": [
    "routes: list[Route] = []\n",
    "for nodes in routing_manager.get_pick_up_and_delivery_nodes():\n",
    "    q = [routing_manager.get_depo_index()] + nodes + [routing_manager.get_depo_index()]\n",
    "    routes.append(\n",
    "        Route(\n",
    "            cost=int(\n",
    "                sum(routing_manager.get_distance(\n",
    "                    routing_manager.nodes()[q[i]],\n",
    "                    routing_manager.nodes()[q[i + 1]]\n",
    "                ) for i in range(len(q) - 1))\n",
    "            ),\n",
    "            path=nodes\n",
    "        )\n",
    "    )\n",
    "\n",
    "# for nodes in sol:\n",
    "#     if len(nodes) == 0:\n",
    "#         continue\n",
    "#     routes.append(\n",
    "#         Route(\n",
    "#             cost=int(\n",
    "#                 sum(routing_manager.get_distance(\n",
    "#                     routing_manager.nodes()[nodes[i]],\n",
    "#                     routing_manager.nodes()[nodes[i + 1]]\n",
    "#                 ) for i in range(len(nodes) - 1))\n",
    "#             ),\n",
    "#             path=nodes[1:-1]\n",
    "#         )\n",
    "#     )"
   ],
   "metadata": {
    "collapsed": false
   },
   "id": "fd3e50fd85025399",
   "execution_count": null
  },
  {
   "cell_type": "code",
   "outputs": [],
   "source": [
    "dual_lp = SelectModelDualLP(routes=routes, nodes=NODES)\n",
    "res = dual_lp.get_dual_variables()\n",
    "len(res)"
   ],
   "metadata": {
    "collapsed": false
   },
   "id": "b97266e7654a8caa",
   "execution_count": null
  },
  {
   "cell_type": "code",
   "outputs": [],
   "source": [
    "len(NODES)"
   ],
   "metadata": {
    "collapsed": false
   },
   "id": "b60ddc430de4e7ab",
   "execution_count": null
  },
  {
   "cell_type": "code",
   "outputs": [],
   "source": [
    "sum(r.cost for r in routes)"
   ],
   "metadata": {
    "collapsed": false
   },
   "id": "46a02a38ae249bbc",
   "execution_count": null
  },
  {
   "cell_type": "code",
   "outputs": [],
   "source": [
    "dual_lp = SelectModelDualLP(routes=routes, nodes=NODES)\n",
    "res = dual_lp.get_dual_variables()"
   ],
   "metadata": {
    "collapsed": false
   },
   "id": "8805056abd3ba2fc",
   "execution_count": null
  },
  {
   "cell_type": "code",
   "outputs": [],
   "source": [
    "res"
   ],
   "metadata": {
    "collapsed": false
   },
   "id": "11acab100cc58dd5",
   "execution_count": null
  },
  {
   "cell_type": "code",
   "outputs": [],
   "source": [
    "from vrp_study.routing_manager import RoutingManager\n",
    "\n",
    "\n",
    "class PDPTWModel:\n",
    "    def __init__(self, routing_manager: RoutingManager, cost: dict[float], ignore_routes: list[Route]):\n",
    "        self.routing_manager = routing_manager\n",
    "        self.cost = cost\n",
    "\n",
    "        self.model = CpModel()\n",
    "        self.X = {}\n",
    "        self.T = {}\n",
    "        self.Q = {}\n",
    "        self.ignore_routes = ignore_routes\n",
    "        self._build()\n",
    "\n",
    "    def _build(self):\n",
    "        routing_manager = self.routing_manager\n",
    "        log.info(f'problem size: {len(routing_manager.nodes())}')\n",
    "\n",
    "        N = len(routing_manager.nodes())\n",
    "        M = 1_000_000\n",
    "\n",
    "        X = self.X\n",
    "        T = self.T\n",
    "        Q = self.Q\n",
    "\n",
    "        model = self.model\n",
    "        depo = routing_manager.get_depo_index()\n",
    "\n",
    "        for i in range(N):\n",
    "            for j in range(N):\n",
    "                if i == j:\n",
    "                    X[i, j] = model.new_constant(0)\n",
    "                else:\n",
    "                    X[i, j] = model.new_bool_var(f'x_{i, j}')\n",
    "\n",
    "        max_time = max(n.end_time for n in routing_manager.nodes())\n",
    "        max_mass = max(car.capacity for car in routing_manager.cars())\n",
    "\n",
    "        log.debug(f'max_time: {max_time}, max_mass: {max_mass}')\n",
    "        for i in range(N):\n",
    "            T[i] = model.new_int_var(lb=0, ub=max_time * 2, name=f'time_{i}')\n",
    "            Q[i] = model.new_int_var(lb=0, ub=max_mass, name=f'mass_{i}')\n",
    "\n",
    "        model.add(sum(X[depo, i] for i in range(N)) == 1)\n",
    "\n",
    "        for i, node in enumerate(routing_manager.nodes()):\n",
    "            model.add(\n",
    "                sum(X[i, j] for j in range(N)) == sum(X[j, i] for j in range(N))\n",
    "            ) \n",
    "            if i == 0:\n",
    "                continue\n",
    "            model.add(sum(X[i, j] for j in range(N)) <= 1)\n",
    "            for j in range(N):\n",
    "                if i == j:\n",
    "                    continue\n",
    "                ni = routing_manager.nodes()[i]\n",
    "                nj = routing_manager.nodes()[j]\n",
    "\n",
    "                model.add(\n",
    "                    T[i] + int(routing_manager.get_time(ni, nj) + routing_manager.nodes()[i].service_time) <=\n",
    "                    T[j] + M * (1 - X[i, j]))\n",
    "\n",
    "                model.add(\n",
    "                    Q[i] + routing_manager.nodes()[i].demand <=\n",
    "                    Q[j] + M * (1 - X[i, j]))\n",
    "\n",
    "        for node_a, node_b in routing_manager.get_pick_up_and_delivery_nodes():\n",
    "            a, b = node_a, node_b\n",
    "            model.add(T[a] <= T[b])\n",
    "            model.add(sum(X[k, a] + X[k, b] for k in range(N)) == 2 * sum(X[k, a] for k in range(N)))\n",
    " \n",
    "        for i, node in enumerate(routing_manager.nodes()):\n",
    "            model.add(node.start_time <= T[i])\n",
    "            model.add(T[i] <= node.end_time)\n",
    "\n",
    "        for route in self.ignore_routes:\n",
    "            route = route.path\n",
    "            self.ignore_path(route)\n",
    "\n",
    "    def ignore_path(self, route: list[int]):\n",
    "        model = self.model\n",
    "        X = self.X\n",
    "        v = X[0, route[0]] + X[route[-1], 0]\n",
    "        for i in range(len(route) - 1):\n",
    "            v += X[route[i], route[i + 1]]\n",
    "        model.add(v != len(route) + 1)\n",
    "\n",
    "    def optimize(self, solver: CpSolver):\n",
    "        self.model.clear_objective()\n",
    "        N = len(self.routing_manager.nodes())\n",
    "        r = self.routing_manager\n",
    "        dst = sum(self.X[i, j] * r.get_distance(r.nodes()[i], r.nodes()[j]) for i in range(N) for j in range(N))\n",
    "        delta = sum(self.cost[r.nodes()[i].id] * sum(self.X[j, i] for j in range(N)) for i in range(1, N))\n",
    "        self.model.minimize(dst - delta)\n",
    "\n",
    "        status = solver.solve(self.model)\n",
    "\n",
    "        log.info(f'model solve with status: {status}')\n",
    "\n",
    "        if status == CpSolverStatus.OPTIMAL or status == CpSolverStatus.FEASIBLE:\n",
    "            start = 0\n",
    "            path = []\n",
    "            while True:\n",
    "                next_node = next(iter(n for n in range(N) if solver.Value(self.X[start, n]) == 1))\n",
    "                if next_node == 0:\n",
    "                    if path[0] == 0:\n",
    "                        path = path[1:]\n",
    "                    return path\n",
    "                else:\n",
    "                    start = next_node\n",
    "                    path.append(start)\n",
    "\n",
    "        #     return [r for i, r in enumerate(self.routes) if solver.Value(self.Z[i]) == 1]\n",
    "        # return None"
   ],
   "metadata": {
    "collapsed": false
   },
   "id": "5f271bfc8fc47411",
   "execution_count": null
  },
  {
   "cell_type": "code",
   "outputs": [],
   "source": [],
   "metadata": {
    "collapsed": false
   },
   "id": "a1f0efcfd2ba61a9",
   "execution_count": null
  },
  {
   "cell_type": "code",
   "outputs": [],
   "source": [
    "from ortools.sat import sat_parameters_pb2\n",
    "\n",
    "best = {'preferred_variable_order': 2,\n",
    "        'clause_cleanup_protection': 1,\n",
    "        'max_presolve_iterations': 5,\n",
    "        'cp_model_probing_level': 1,\n",
    "        'presolve_probing_deterministic_time_limit': 10.0,\n",
    "        'search_branching': 2,\n",
    "        'feasibility_jump_linearization_level': 0,\n",
    "        'fp_rounding': 0,\n",
    "        'polish_lp_solution': True,\n",
    "        'linearization_level': 0,\n",
    "        'cut_level': 2,\n",
    "        'max_all_diff_cut_size': 128,\n",
    "        'symmetry_level': 0,\n",
    "        'num_workers': 4}\n",
    "\n",
    "\n",
    "def get_solver():\n",
    "    solver = CpSolver()\n",
    "\n",
    "    for k, v in best.items():\n",
    "        if isinstance(v, list):\n",
    "            for ss in v:\n",
    "                solver.parameters.ignore_subsolvers.append(ss)\n",
    "        else:\n",
    "            if 'ignore_subsolvers' in k:\n",
    "                if v:\n",
    "                    solver.parameters.ignore_subsolvers.append(k.split(':')[1])\n",
    "            else:\n",
    "                exec(f'solver.parameters.{k} = {v}')\n",
    "    # solver.parameters.use_lns = True\n",
    "    # solver.parameters.lns_num_threads = 4\n",
    "    solver.parameters.log_search_progress = False\n",
    "    solver.parameters.max_time_in_seconds = 60.0 * 10\n",
    "\n",
    "    # packing_subsolver = sat_parameters_pb2.SatParameters()\n",
    "    # packing_subsolver.name = \"MyPackingSubsolver\"\n",
    "    # packing_subsolver.use_area_energetic_reasoning_in_no_overlap_2d = False\n",
    "    # packing_subsolver.use_energetic_reasoning_in_no_overlap_2d = False\n",
    "    # packing_subsolver.use_timetabling_in_no_overlap_2d = False\n",
    "    # packing_subsolver.max_pairs_pairwise_reasoning_in_no_overlap_2d = 5_000\n",
    "    # packing_subsolver.\n",
    "    # # Add the subsolver to the portfolio\n",
    "    # solver.parameters.subsolver_params.append(packing_subsolver)  # Define the subsolver\n",
    "    # solver.parameters.extra_subsolvers.append(\n",
    "    #     packing_subsolver.name\n",
    "    # )  # Activate the subsolver\n",
    "\n",
    "    return solver"
   ],
   "metadata": {
    "collapsed": false
   },
   "id": "75b548f7fae3e3b4",
   "execution_count": null
  },
  {
   "cell_type": "code",
   "outputs": [],
   "source": [
    "import pulp\n",
    "# \n",
    "# # Начальные маршруты — просто отдельные поездки (0 -> i -> 0)\n",
    "# clients = [1, 2, 3, 4]\n",
    "# costs = {\n",
    "#     (0,1): 10, (1,0): 10,\n",
    "#     (0,2): 8,  (2,0): 8,\n",
    "#     (0,3): 9,  (3,0): 9,\n",
    "#     (0,4): 7,  (4,0): 7\n",
    "# }\n",
    "# routes = {\n",
    "#     \"r1\": {\"clients\": [1], \"cost\": 20},\n",
    "#     \"r2\": {\"clients\": [2], \"cost\": 16},\n",
    "#     \"r3\": {\"clients\": [3], \"cost\": 18},\n",
    "#     \"r4\": {\"clients\": [4], \"cost\": 14},\n",
    "# }\n",
    "# \n",
    "# # Инициализируем задачу\n",
    "# model = pulp.LpProblem(\"MasterProblem\", pulp.LpMinimize)\n",
    "# \n",
    "# # Переменные: использовать маршрут или нет\n",
    "# lambda_vars = {r: pulp.LpVariable(r, lowBound=0, upBound=1, cat=\"Continuous\")\n",
    "#                for r in routes}\n",
    "# \n",
    "# # Целевая функция\n",
    "# model += pulp.lpSum(lambda_vars[r] * routes[r][\"cost\"] for r in routes)\n",
    "# \n",
    "# # Ограничения: каждый клиент должен быть обслужен ровно один раз\n",
    "# for i in clients:\n",
    "#     model += pulp.lpSum(lambda_vars[r] for r in routes if i in routes[r][\"clients\"]) == 1, f\"cover_{i}\"\n",
    "# \n",
    "# model.solve()\n",
    "# \n",
    "# # Получим двойственные переменные (π_i)\n",
    "# duals = {i: model.constraints[f\"cover_{i}\"].pi for i in clients}\n",
    "# print(\"Dual values:\", duals)\n"
   ],
   "metadata": {
    "collapsed": false
   },
   "id": "5a8a42867da952db",
   "execution_count": null
  },
  {
   "cell_type": "code",
   "outputs": [],
   "source": [
    "class PulpSelectModelLP:\n",
    "    def __init__(self, routes: list[Route], nodes: set[int]):\n",
    "        self.model = pulp.LpProblem(f\"MasterProblem_{uuid.uuid4()}\", pulp.LpMinimize)\n",
    "        self.routes = routes\n",
    "        self.Z = {}\n",
    "        self.nodes = nodes\n",
    "        self._build()\n",
    "\n",
    "    def _build(self):\n",
    "        routes = self.routes\n",
    "        Z = self.Z\n",
    "        model = self.model\n",
    "\n",
    "        for i, r in enumerate(routes):\n",
    "            Z[i] = pulp.LpVariable(name=f'z_{i}', lowBound=0, upBound=1)\n",
    "\n",
    "        for n in self.nodes:\n",
    "            model.addConstraint(\n",
    "                pulp.lpSum(Z[i] for i, route in enumerate(routes) if n in route.path_set) == 1,\n",
    "                name=f'cover_{n}'\n",
    "            )\n",
    "\n",
    "    def get_dual_variables(self) -> Optional[list[float]]:\n",
    "        model = self.model\n",
    "        model.setObjective(pulp.lpSum(self.Z[i] * r.cost for i, r in enumerate(self.routes)))\n",
    "        # model.setObjective(quicksum(), 'minimize')\n",
    "\n",
    "        # model.setParam('presolving/maxrounds', 0)\n",
    "        # model.setParam('lp/solvefreq', 1)\n",
    "        # model.setParam('display/verblevel', 0)  # Suppress output\n",
    "        # model.setHeuristics(pyscipopt.SCIP_PARAMSETTING.OFF)\n",
    "        # model.disablePropagation()\n",
    "\n",
    "        model.solve()\n",
    "        # print(model.sol_status)\n",
    "        if model.sol_status == 1:\n",
    "            duals = {n: model.constraints[f\"cover_{n}\"].pi for n in self.nodes}\n",
    "            return duals\n",
    "        return None"
   ],
   "metadata": {
    "collapsed": false
   },
   "id": "50b9f36259889d4d",
   "execution_count": null
  },
  {
   "cell_type": "code",
   "outputs": [],
   "source": [],
   "metadata": {
    "collapsed": false
   },
   "id": "4e757791abb8b92a",
   "execution_count": null
  },
  {
   "cell_type": "code",
   "outputs": [],
   "source": [
    "solver = get_solver()"
   ],
   "metadata": {
    "collapsed": false
   },
   "id": "6841a9294eb18446",
   "execution_count": null
  },
  {
   "cell_type": "code",
   "outputs": [],
   "source": [
    "routes"
   ],
   "metadata": {
    "collapsed": false
   },
   "id": "a94f36c0d1b59111",
   "execution_count": null
  },
  {
   "cell_type": "code",
   "outputs": [],
   "source": [
    "# pdptw_model = PDPTWModel(routing_manager, cost=res, ignore_routes=routes)\n",
    "# path = pdptw_model.optimize(solver)\n",
    "# path"
   ],
   "metadata": {
    "collapsed": false
   },
   "id": "6528e1a6725e62ce",
   "execution_count": null
  },
  {
   "cell_type": "code",
   "outputs": [],
   "source": [
    "cp_select_model = SelectModelCpSat(routes, NODES)\n",
    "routes = cp_select_model.optimize(solver)"
   ],
   "metadata": {
    "collapsed": false
   },
   "id": "1d98aa99350580cd",
   "execution_count": null
  },
  {
   "cell_type": "code",
   "outputs": [],
   "source": [
    "sum(r.cost for r in routes)"
   ],
   "metadata": {
    "collapsed": false
   },
   "id": "7068f958f1e20efb",
   "execution_count": null
  },
  {
   "cell_type": "code",
   "outputs": [],
   "source": [
    "from tqdm.notebook import trange\n",
    "\n",
    "pdptw_model = PDPTWModel(routing_manager, cost=res, ignore_routes=routes)\n",
    "set_paths = set(tuple(r.path) for r in routes)\n",
    "for _ in trange(30):\n",
    "    pulp_model = PulpSelectModelLP(routes= routes, nodes=NODES)\n",
    "    res = pulp_model.get_dual_variables()\n",
    "    pdptw_model.cost = res\n",
    "    path = pdptw_model.optimize(solver)\n",
    "    if path is None or solver.objective_value > 0:\n",
    "        break\n",
    "    assert tuple(path) not in set_paths\n",
    "    set_paths.add(tuple(path))\n",
    "    pdptw_model.ignore_path(path)\n",
    "    log.info(f'{path}; {solver.objective_value}')\n",
    "    nodes = [0] + path + [0]\n",
    "    routes.append(Route(\n",
    "        cost=int(\n",
    "            sum(routing_manager.get_distance(\n",
    "                routing_manager.nodes()[nodes[i]],\n",
    "                routing_manager.nodes()[nodes[i + 1]]\n",
    "            ) for i in range(len(nodes) - 1))\n",
    "        ),\n",
    "        path=path\n",
    "    ))"
   ],
   "metadata": {
    "collapsed": false
   },
   "id": "738f5a3eed36924e",
   "execution_count": null
  },
  {
   "cell_type": "code",
   "outputs": [],
   "source": [
    "cp_select_model = SelectModelCpSat(routes, NODES)\n",
    "routes = cp_select_model.optimize(solver)"
   ],
   "metadata": {
    "collapsed": false
   },
   "id": "4def13866fae3b26",
   "execution_count": null
  },
  {
   "cell_type": "code",
   "outputs": [],
   "source": [
    "sum(r.cost for r in routes)"
   ],
   "metadata": {
    "collapsed": false
   },
   "id": "e37cdb76df046e16",
   "execution_count": null
  },
  {
   "cell_type": "code",
   "outputs": [],
   "source": [
    "routes"
   ],
   "metadata": {
    "collapsed": false
   },
   "id": "cf54b864d358969",
   "execution_count": null
  },
  {
   "cell_type": "code",
   "outputs": [],
   "source": [],
   "metadata": {
    "collapsed": false
   },
   "id": "ad758ab66abe6910",
   "execution_count": null
  }
 ],
 "metadata": {
  "kernelspec": {
   "display_name": "Python 3",
   "language": "python",
   "name": "python3"
  },
  "language_info": {
   "codemirror_mode": {
    "name": "ipython",
    "version": 2
   },
   "file_extension": ".py",
   "mimetype": "text/x-python",
   "name": "python",
   "nbconvert_exporter": "python",
   "pygments_lexer": "ipython2",
   "version": "2.7.6"
  }
 },
 "nbformat": 4,
 "nbformat_minor": 5
}
