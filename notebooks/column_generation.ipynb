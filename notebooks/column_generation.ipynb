{
 "cells": [
  {
   "cell_type": "code",
   "execution_count": null,
   "id": "initial_id",
   "metadata": {
    "collapsed": true
   },
   "outputs": [],
   "source": [
    "from ortools.sat.cp_model_pb2 import CpSolverStatus\n",
    "from pulp import PULP_CBC_CMD\n",
    "from tqdm.notebook import tqdm, trange\n",
    "import uuid"
   ]
  },
  {
   "cell_type": "code",
   "outputs": [],
   "source": [
    "from loguru import logger as log"
   ],
   "metadata": {
    "collapsed": false
   },
   "id": "2672db95c0053ca4",
   "execution_count": null
  },
  {
   "cell_type": "code",
   "outputs": [],
   "source": [
    "import numpy as np\n",
    "from vrp_study.data_model import Tariff, Cargo, Node\n",
    "from vrp_study.data_model import TariffCost\n",
    "from vrp_study.pdptw_model.pdptw_routing_manager_builder import PDRoutingManagerBuilder\n",
    "from vrp_study.configs import ModelConfig\n",
    "\n",
    "from vrp_study.pdptw_model.routing_model import find_optimal_paths\n",
    "from typing import Optional\n",
    "from dataclasses import dataclass"
   ],
   "metadata": {
    "collapsed": false
   },
   "id": "bb73d26d29a2755b",
   "execution_count": null
  },
  {
   "cell_type": "code",
   "outputs": [],
   "source": [
    "from ortools.sat.python.cp_model import CpModel, CpSolver\n",
    "from ortools.sat import sat_parameters_pb2\n",
    "\n",
    "# from pyscipopt import Model, quicksum\n",
    "# import pyscipopt\n",
    "import pulp"
   ],
   "metadata": {
    "collapsed": false
   },
   "id": "bcb3c10994c17f75",
   "execution_count": null
  },
  {
   "cell_type": "markdown",
   "source": [
    "# Подготовка данных"
   ],
   "metadata": {
    "collapsed": false
   },
   "id": "e4f5931367711da8"
  },
  {
   "cell_type": "code",
   "outputs": [],
   "source": [
    "benchmark_type = 'pdp_100'\n",
    "name = 'lc101.txt'"
   ],
   "metadata": {
    "collapsed": false
   },
   "id": "2fff3b944da4481b",
   "execution_count": null
  },
  {
   "cell_type": "code",
   "outputs": [],
   "source": [
    "tariff = None\n",
    "cargos: list[Cargo] = []\n",
    "depo: Optional[Node] = None"
   ],
   "metadata": {
    "collapsed": false
   },
   "id": "31230f98dd3fad5d",
   "execution_count": null
  },
  {
   "cell_type": "code",
   "outputs": [],
   "source": [
    "id2info = {}\n",
    "p2coordinates = {}\n",
    "with open(f'../data/Li & Lim benchmark/{benchmark_type}/{name}', 'r') as file:\n",
    "    for i, line in enumerate(file):\n",
    "        line = line.split('\\t')\n",
    "        if i == 0:\n",
    "            tariff = Tariff(\n",
    "                id='car',\n",
    "                capacity=int(line[1]),\n",
    "                max_count=int(line[0]),\n",
    "                cost_per_distance=[TariffCost(\n",
    "                    min_dst_km=0,\n",
    "                    max_dst_km=10000,\n",
    "                    cost_per_km=1,\n",
    "                    fixed_cost=0\n",
    "                )]\n",
    "            )\n",
    "        else:\n",
    "            c_id = int(line[0])\n",
    "            x = int(line[1])\n",
    "            y = int(line[2])\n",
    "\n",
    "            mass = int(line[3])\n",
    "\n",
    "            et = int(line[4])\n",
    "            lt = int(line[5])\n",
    "            st = int(line[6])\n",
    "\n",
    "            pick_up = int(line[7])\n",
    "            delivery = int(line[8])\n",
    "            if pick_up == delivery:\n",
    "                # print(12)\n",
    "                depo = Node(\n",
    "                    id=0,\n",
    "                    cargo_id=c_id,\n",
    "                    capacity=0,\n",
    "                    service_time=0,\n",
    "                    start_time=0,\n",
    "                    end_time=lt,\n",
    "                    coordinates=(x, y)\n",
    "                )\n",
    "                continue\n",
    "            if pick_up == 0:\n",
    "                if c_id not in id2info:\n",
    "                    id2info[c_id] = {}\n",
    "                id2info[c_id][0] = (x, y, mass, et, lt, st, c_id, delivery)\n",
    "            else:\n",
    "                delivery = c_id\n",
    "                c_id = pick_up\n",
    "                if c_id not in id2info:\n",
    "                    id2info[c_id] = {}\n",
    "                id2info[c_id][1] = (x, y, mass, et, lt, st, pick_up, delivery)\n"
   ],
   "metadata": {
    "collapsed": false
   },
   "id": "187c79fcb87c74b0",
   "execution_count": null
  },
  {
   "cell_type": "code",
   "outputs": [],
   "source": [
    "depo"
   ],
   "metadata": {
    "collapsed": false
   },
   "id": "b809a58457c1cfc",
   "execution_count": null
  },
  {
   "cell_type": "code",
   "outputs": [],
   "source": [
    "\n",
    "for k, v in id2info.items():\n",
    "    cargos.append(\n",
    "        Cargo(\n",
    "            id=k,\n",
    "            nodes=[\n",
    "                Node(\n",
    "                    cargo_id=k,\n",
    "                    id=v[i][6] if i == 0 else v[i][7],\n",
    "                    capacity=v[i][2],\n",
    "                    service_time=v[i][5],\n",
    "                    start_time=v[i][3],\n",
    "                    end_time=v[i][4],\n",
    "                    coordinates=(v[i][0], v[i][1])\n",
    "                )\n",
    "                for i in range(2)\n",
    "            ]\n",
    "        )\n",
    "    )"
   ],
   "metadata": {
    "collapsed": false
   },
   "id": "29705f90cfd83d36",
   "execution_count": null
  },
  {
   "cell_type": "code",
   "outputs": [],
   "source": [
    "# cargos = cargos[:10]"
   ],
   "metadata": {
    "collapsed": false
   },
   "id": "c81c3a446e9f7ff4",
   "execution_count": null
  },
  {
   "cell_type": "code",
   "outputs": [],
   "source": [
    "p2coordinates.update({\n",
    "    crg.nodes[i].id: crg.nodes[i].coordinates for crg in cargos for i in range(2)\n",
    "})\n",
    "p2coordinates[depo.id] = depo.coordinates\n",
    "distance_matrix = {(u, v): np.sqrt((du[0] - dv[0]) ** 2 + (du[1] - dv[1]) ** 2) for u, du in\n",
    "                   p2coordinates.items() for\n",
    "                   v, dv in p2coordinates.items()}\n",
    "time_matrix = {(u, v): np.sqrt((du[0] - dv[0]) ** 2 + (du[1] - dv[1]) ** 2) for u, du in p2coordinates.items() for\n",
    "               v, dv in p2coordinates.items()}"
   ],
   "metadata": {
    "collapsed": false
   },
   "id": "19e61fa36a51a2de",
   "execution_count": null
  },
  {
   "cell_type": "code",
   "outputs": [],
   "source": [
    "\n",
    "\n",
    "routing_manager = PDRoutingManagerBuilder(\n",
    "    distance_matrix=distance_matrix,\n",
    "    time_matrix=time_matrix,\n",
    "    model_config=ModelConfig(max_execution_time_minutes=1)\n",
    ")\n",
    "\n",
    "routing_manager.add_cargos(cargos)\n",
    "routing_manager.add_tariff(tariff)\n",
    "\n",
    "routing_manager.add_depo(depo)\n",
    "\n",
    "# routing_manager.distance_matrix = distance_matrix\n",
    "# routing_manager.time_matrix = time_matrix\n",
    "\n",
    "\n",
    "routing_manager = routing_manager.build()"
   ],
   "metadata": {
    "collapsed": false
   },
   "id": "fe35819237497aa",
   "execution_count": null
  },
  {
   "cell_type": "code",
   "outputs": [],
   "source": [
    "from vrp_study.pdptw_model.solution_builder import SolutionBuilder\n",
    "\n",
    "# sol = find_optimal_paths(routing_manager, SolutionBuilder())[0]"
   ],
   "metadata": {
    "collapsed": false
   },
   "id": "b952626eb97b3ae5",
   "execution_count": null
  },
  {
   "cell_type": "code",
   "outputs": [],
   "source": [
    "# sol"
   ],
   "metadata": {
    "collapsed": false
   },
   "id": "965629f893e35eb7",
   "execution_count": null
  },
  {
   "cell_type": "markdown",
   "source": [
    "# Генерация столбцов"
   ],
   "metadata": {
    "collapsed": false
   },
   "id": "5705b91af98cf08a"
  },
  {
   "cell_type": "code",
   "outputs": [],
   "source": [
    "@dataclass\n",
    "class Route:\n",
    "    \"\"\"\n",
    "        Описание маршрута\n",
    "    \"\"\"\n",
    "    cost: int  # цена\n",
    "    path: list[int]  # маршрут\n",
    "    path_set: Optional[set[int]] = None  # множество для блейзинговости\n",
    "\n",
    "    def __post_init__(self):\n",
    "        self.path_set = set(self.path)"
   ],
   "metadata": {
    "collapsed": false
   },
   "id": "129f3de9cf71c6f3",
   "execution_count": null
  },
  {
   "cell_type": "code",
   "outputs": [],
   "source": [
    "class SelectModelCpSat:\n",
    "    \"\"\"\n",
    "        модель выбора самых дешевых маршрутов через cp_sat\n",
    "    \"\"\"\n",
    "\n",
    "    def __init__(self, _routes: list[Route], _nodes: set[int]):\n",
    "        self.routes = _routes  # все маршруты\n",
    "        self.nodes = _nodes  # все ноды\n",
    "\n",
    "        self.model = CpModel()\n",
    "        self.Z = {}\n",
    "        self._build()\n",
    "\n",
    "    def _build(self):\n",
    "        routes = self.routes\n",
    "        Z = self.Z\n",
    "        model = self.model\n",
    "\n",
    "        for i, r in enumerate(routes):\n",
    "            Z[i] = model.new_bool_var(name=f'Z_{i}')  # брать или не брать маррут\n",
    "        for n in self.nodes:\n",
    "            model.add(\n",
    "                sum(Z[i] for i, route in enumerate(routes) if n in route.path_set) == 1)  # каждая точка посещена 1 раз\n",
    "\n",
    "    def optimize(self, solver: CpSolver) -> Optional[list[Route]]:\n",
    "        self.model.clear_objective()\n",
    "        self.model.minimize(sum(self.Z[i] * r.cost for i, r in enumerate(self.routes)))\n",
    "\n",
    "        status = solver.solve(self.model)\n",
    "\n",
    "        log.info(f'model solve with status: {status}')\n",
    "\n",
    "        if status == CpSolverStatus.OPTIMAL or status == CpSolverStatus.FEASIBLE:\n",
    "            return [r for i, r in enumerate(self.routes) if solver.Value(self.Z[i]) == 1]\n",
    "        return None"
   ],
   "metadata": {
    "collapsed": false
   },
   "id": "60d51bbd959d7bcc",
   "execution_count": null
  },
  {
   "cell_type": "code",
   "outputs": [],
   "source": [
    "class PulpSelectModelLP:\n",
    "    \"\"\"\n",
    "       Тоже самое, что выше только в терминах LP для поиска дуальных переменных\n",
    "    \"\"\"\n",
    "\n",
    "    def __init__(self, _routes: list[Route], _nodes: set[int]):\n",
    "        self.model = pulp.LpProblem(f\"MasterProblem_{uuid.uuid4()}\", pulp.LpMinimize)\n",
    "        self.routes = _routes\n",
    "        self.Z = {}\n",
    "        self.nodes = _nodes\n",
    "        self._build()\n",
    "\n",
    "    def _build(self):\n",
    "        routes = self.routes\n",
    "        Z = self.Z\n",
    "        model = self.model\n",
    "\n",
    "        for i, r in enumerate(routes):\n",
    "            Z[i] = pulp.LpVariable(name=f'z_{i}', lowBound=0, upBound=1)\n",
    "\n",
    "        for n in self.nodes:\n",
    "            model.addConstraint(\n",
    "                pulp.lpSum(Z[i] for i, route in enumerate(routes) if n in route.path_set) == 1,\n",
    "                name=f'cover_{n}'\n",
    "            )\n",
    "\n",
    "    def get_dual_variables(self) -> Optional[list[float]]:\n",
    "        model = self.model\n",
    "        model.setObjective(pulp.lpSum(self.Z[i] * r.cost for i, r in enumerate(self.routes)))\n",
    "\n",
    "        model.solve(PULP_CBC_CMD(msg=0))\n",
    "        # print(model.sol_status)\n",
    "        if model.sol_status == 1:\n",
    "            duals = {n: model.constraints[f\"cover_{n}\"].pi for n in self.nodes}\n",
    "            return duals\n",
    "        return None"
   ],
   "metadata": {
    "collapsed": false
   },
   "id": "a548b54eef789bb3",
   "execution_count": null
  },
  {
   "cell_type": "code",
   "outputs": [],
   "source": [
    "NODES = set(n.id for n in routing_manager.nodes() if n.is_transit)"
   ],
   "metadata": {
    "collapsed": false
   },
   "id": "2a02f30c3ace48d5",
   "execution_count": null
  },
  {
   "cell_type": "code",
   "outputs": [],
   "source": [
    "routes: list[Route] = []\n",
    "for nodes in routing_manager.get_pick_up_and_delivery_nodes():\n",
    "    q = [routing_manager.get_depo_index()] + nodes + [routing_manager.get_depo_index()]\n",
    "    routes.append(\n",
    "        Route(\n",
    "            cost=int(\n",
    "                sum(routing_manager.get_distance(\n",
    "                    routing_manager.nodes()[q[i]],\n",
    "                    routing_manager.nodes()[q[i + 1]]\n",
    "                ) for i in range(len(q) - 1))\n",
    "            ),\n",
    "            path=nodes\n",
    "        )\n",
    "    )\n",
    "\n",
    "# for nodes in sol:\n",
    "#     if len(nodes) == 0:\n",
    "#         continue\n",
    "#     routes.append(\n",
    "#         Route(\n",
    "#             cost=int(\n",
    "#                 sum(routing_manager.get_distance(\n",
    "#                     routing_manager.nodes()[nodes[i]],\n",
    "#                     routing_manager.nodes()[nodes[i + 1]]\n",
    "#                 ) for i in range(len(nodes) - 1))\n",
    "#             ),\n",
    "#             path=nodes[1:-1]\n",
    "#         )\n",
    "#     )"
   ],
   "metadata": {
    "collapsed": false
   },
   "id": "fd3e50fd85025399",
   "execution_count": null
  },
  {
   "cell_type": "code",
   "outputs": [],
   "source": [
    "from vrp_study.routing_manager import RoutingManager\n",
    "\n",
    "\n",
    "class PDPTWModel:\n",
    "    \"\"\"\n",
    "        \n",
    "        Модель pdptw.\n",
    "        Оставлю это пока без комментариев\n",
    "        По сути VRP с доп констрейнтами.\n",
    "    \n",
    "    \"\"\"\n",
    "\n",
    "    def __init__(self, routing_manager: RoutingManager, cost: dict[float], ignore_routes: list[Route]):\n",
    "        self.routing_manager = routing_manager\n",
    "        self.cost = cost\n",
    "\n",
    "        self.model = CpModel()\n",
    "        self.X = {}\n",
    "        self.T = {}\n",
    "        self.Q = {}\n",
    "        self.ignore_routes = ignore_routes\n",
    "        self._build()\n",
    "\n",
    "    def _build(self):\n",
    "        routing_manager = self.routing_manager\n",
    "        log.info(f'problem size: {len(routing_manager.nodes())}')\n",
    "\n",
    "        N = len(routing_manager.nodes())\n",
    "        M = 1_000_000\n",
    "\n",
    "        X = self.X\n",
    "        T = self.T\n",
    "        Q = self.Q\n",
    "\n",
    "        model = self.model\n",
    "        depo = routing_manager.get_depo_index()\n",
    "\n",
    "        for i in range(N):\n",
    "            for j in range(N):\n",
    "                if i == j:\n",
    "                    X[i, j] = model.new_constant(0)\n",
    "                else:\n",
    "                    X[i, j] = model.new_bool_var(f'x_{i, j}')\n",
    "\n",
    "        max_time = max(n.end_time for n in routing_manager.nodes())\n",
    "        max_mass = max(car.capacity for car in routing_manager.cars())\n",
    "\n",
    "        log.debug(f'max_time: {max_time}, max_mass: {max_mass}')\n",
    "        for i in range(N):\n",
    "            T[i] = model.new_int_var(lb=0, ub=max_time * 2, name=f'time_{i}')\n",
    "            Q[i] = model.new_int_var(lb=0, ub=max_mass, name=f'mass_{i}')\n",
    "\n",
    "        model.add(sum(X[depo, i] for i in range(N)) == 1)\n",
    "\n",
    "        for i, node in enumerate(routing_manager.nodes()):\n",
    "            model.add(\n",
    "                sum(X[i, j] for j in range(N)) == sum(X[j, i] for j in range(N))\n",
    "            )\n",
    "            if i == 0:\n",
    "                continue\n",
    "            model.add(sum(X[i, j] for j in range(N)) <= 1)\n",
    "            for j in range(N):\n",
    "                if i == j:\n",
    "                    continue\n",
    "                ni = routing_manager.nodes()[i]\n",
    "                nj = routing_manager.nodes()[j]\n",
    "\n",
    "                model.add(\n",
    "                    T[i] + int(routing_manager.get_time(ni, nj) + routing_manager.nodes()[i].service_time) <=\n",
    "                    T[j] + M * (1 - X[i, j]))\n",
    "\n",
    "                model.add(\n",
    "                    Q[i] + routing_manager.nodes()[i].demand <=\n",
    "                    Q[j] + M * (1 - X[i, j]))\n",
    "\n",
    "        for node_a, node_b in routing_manager.get_pick_up_and_delivery_nodes():\n",
    "            a, b = node_a, node_b\n",
    "            model.add(T[a] <= T[b])\n",
    "            model.add(sum(X[k, a] + X[k, b] for k in range(N)) == 2 * sum(X[k, a] for k in range(N)))\n",
    "\n",
    "        for i, node in enumerate(routing_manager.nodes()):\n",
    "            model.add(node.start_time <= T[i])\n",
    "            model.add(T[i] <= node.end_time)\n",
    "\n",
    "        for route in self.ignore_routes:\n",
    "            route = route.path\n",
    "            self.ignore_path(route)\n",
    "\n",
    "    def ignore_path(self, route: list[int]):\n",
    "        model = self.model\n",
    "        X = self.X\n",
    "        v = X[0, route[0]] + X[route[-1], 0]\n",
    "        for i in range(len(route) - 1):\n",
    "            v += X[route[i], route[i + 1]]\n",
    "        model.add(v != len(route) + 1)\n",
    "\n",
    "    def optimize(self, solver: CpSolver):\n",
    "        self.model.clear_objective()\n",
    "        N = len(self.routing_manager.nodes())\n",
    "        r = self.routing_manager\n",
    "        dst = sum(self.X[i, j] * r.get_distance(r.nodes()[i], r.nodes()[j]) for i in range(N) for j in range(N))\n",
    "        delta = sum(self.cost[r.nodes()[i].id] * sum(self.X[j, i] for j in range(N)) for i in range(1, N))\n",
    "        self.model.minimize(dst - delta)\n",
    "\n",
    "        status = solver.solve(self.model)\n",
    "\n",
    "        log.info(f'model solve with status: {status}')\n",
    "\n",
    "        if status == CpSolverStatus.OPTIMAL or status == CpSolverStatus.FEASIBLE:\n",
    "            start = 0\n",
    "            path = []\n",
    "            while True:\n",
    "                next_node = next(iter(n for n in range(N) if solver.Value(self.X[start, n]) == 1))\n",
    "                if next_node == 0:\n",
    "                    if path[0] == 0:\n",
    "                        path = path[1:]\n",
    "                    return path\n",
    "                else:\n",
    "                    start = next_node\n",
    "                    path.append(start)\n",
    "\n",
    "        #     return [r for i, r in enumerate(self.routes) if solver.Value(self.Z[i]) == 1]\n",
    "        # return None"
   ],
   "metadata": {
    "collapsed": false
   },
   "id": "5f271bfc8fc47411",
   "execution_count": null
  },
  {
   "cell_type": "code",
   "outputs": [],
   "source": [],
   "metadata": {
    "collapsed": false
   },
   "id": "a1f0efcfd2ba61a9",
   "execution_count": null
  },
  {
   "cell_type": "code",
   "outputs": [],
   "source": [
    "\n",
    "best = {'preferred_variable_order': 2,\n",
    "        'clause_cleanup_protection': 1,\n",
    "        'max_presolve_iterations': 5,\n",
    "        'cp_model_probing_level': 1,\n",
    "        'presolve_probing_deterministic_time_limit': 10.0,\n",
    "        'search_branching': 2,\n",
    "        'feasibility_jump_linearization_level': 0,\n",
    "        'fp_rounding': 0,\n",
    "        'polish_lp_solution': True,\n",
    "        'linearization_level': 0,\n",
    "        'cut_level': 2,\n",
    "        'max_all_diff_cut_size': 128,\n",
    "        'symmetry_level': 0,\n",
    "        'num_workers': 4}\n",
    "\n",
    "\n",
    "def get_solver():\n",
    "    solver = CpSolver()\n",
    "\n",
    "    for k, v in best.items():\n",
    "        if isinstance(v, list):\n",
    "            for ss in v:\n",
    "                solver.parameters.ignore_subsolvers.append(ss)\n",
    "        else:\n",
    "            if 'ignore_subsolvers' in k:\n",
    "                if v:\n",
    "                    solver.parameters.ignore_subsolvers.append(k.split(':')[1])\n",
    "            else:\n",
    "                exec(f'solver.parameters.{k} = {v}')\n",
    "    # solver.parameters.use_lns = True\n",
    "    # solver.parameters.lns_num_threads = 4\n",
    "    solver.parameters.log_search_progress = False\n",
    "    solver.parameters.max_time_in_seconds = 60.0 * 10\n",
    "\n",
    "    # packing_subsolver = sat_parameters_pb2.SatParameters()\n",
    "    # packing_subsolver.name = \"MyPackingSubsolver\"\n",
    "    # packing_subsolver.use_area_energetic_reasoning_in_no_overlap_2d = False\n",
    "    # packing_subsolver.use_energetic_reasoning_in_no_overlap_2d = False\n",
    "    # packing_subsolver.use_timetabling_in_no_overlap_2d = False\n",
    "    # packing_subsolver.max_pairs_pairwise_reasoning_in_no_overlap_2d = 5_000\n",
    "    # packing_subsolver.\n",
    "    # # Add the subsolver to the portfolio\n",
    "    # solver.parameters.subsolver_params.append(packing_subsolver)  # Define the subsolver\n",
    "    # solver.parameters.extra_subsolvers.append(\n",
    "    #     packing_subsolver.name\n",
    "    # )  # Activate the subsolver\n",
    "\n",
    "    return solver"
   ],
   "metadata": {
    "collapsed": false
   },
   "id": "75b548f7fae3e3b4",
   "execution_count": null
  },
  {
   "cell_type": "code",
   "outputs": [],
   "source": [
    "solver = get_solver()"
   ],
   "metadata": {
    "collapsed": false
   },
   "id": "6841a9294eb18446",
   "execution_count": null
  },
  {
   "cell_type": "code",
   "outputs": [],
   "source": [
    "cp_select_model = SelectModelCpSat(routes, NODES)\n",
    "sum(r.cost for r in cp_select_model.optimize(solver))"
   ],
   "metadata": {
    "collapsed": false
   },
   "id": "1d98aa99350580cd",
   "execution_count": null
  },
  {
   "cell_type": "code",
   "outputs": [],
   "source": [],
   "metadata": {
    "collapsed": false
   },
   "id": "2b2c2239f887cb7",
   "execution_count": null
  },
  {
   "cell_type": "code",
   "outputs": [],
   "source": [
    "# решаем мастер проблему и тащим из нее дуальные переменные\n",
    "# в данном контексте под дуальными переменными можно понимать \"сколько стоит посетить точку\".\n",
    "pulp_model = PulpSelectModelLP(_routes=routes, _nodes=NODES)\n",
    "res = pulp_model.get_dual_variables()\n",
    "pdptw_model = PDPTWModel(routing_manager, cost=res, ignore_routes=routes)\n",
    "\n",
    "set_paths = set(tuple(r.path) for r in routes)\n",
    "\n",
    "for _ in trange(30):\n",
    "\n",
    "    pulp_model = PulpSelectModelLP(_routes=routes, _nodes=NODES)\n",
    "    res = pulp_model.get_dual_variables()\n",
    "    pdptw_model.cost = res\n",
    "    path = pdptw_model.optimize(solver)\n",
    "\n",
    "    if path is None or solver.objective_value > 0:\n",
    "        # если ничего не нашли или нет путей, которые могут улучшить маршрут\n",
    "        break\n",
    "    # чек на то, что не генерируем то, чот уже ест\n",
    "    assert tuple(path) not in set_paths\n",
    "    set_paths.add(tuple(path))\n",
    "    pdptw_model.ignore_path(path)\n",
    "\n",
    "    log.info(f'{path}; {solver.objective_value}')\n",
    "\n",
    "    nodes = [0] + path + [0]\n",
    "    # добавляем путь\n",
    "    routes.append(Route(\n",
    "        cost=int(\n",
    "            sum(routing_manager.get_distance(\n",
    "                routing_manager.nodes()[nodes[i]],\n",
    "                routing_manager.nodes()[nodes[i + 1]]\n",
    "            ) for i in range(len(nodes) - 1))\n",
    "        ),\n",
    "        path=path\n",
    "    ))"
   ],
   "metadata": {
    "collapsed": false
   },
   "id": "738f5a3eed36924e",
   "execution_count": null
  },
  {
   "cell_type": "code",
   "outputs": [],
   "source": [
    "cp_select_model = SelectModelCpSat(routes, NODES)\n",
    "routes = cp_select_model.optimize(solver)"
   ],
   "metadata": {
    "collapsed": false
   },
   "id": "4def13866fae3b26",
   "execution_count": null
  },
  {
   "cell_type": "code",
   "outputs": [],
   "source": [
    "sum(r.cost for r in routes)"
   ],
   "metadata": {
    "collapsed": false
   },
   "id": "e37cdb76df046e16",
   "execution_count": null
  },
  {
   "cell_type": "code",
   "outputs": [],
   "source": [
    "routes"
   ],
   "metadata": {
    "collapsed": false
   },
   "id": "cf54b864d358969",
   "execution_count": null
  },
  {
   "cell_type": "code",
   "outputs": [],
   "source": [],
   "metadata": {
    "collapsed": false
   },
   "id": "ad758ab66abe6910",
   "execution_count": null
  }
 ],
 "metadata": {
  "kernelspec": {
   "display_name": "Python 3",
   "language": "python",
   "name": "python3"
  },
  "language_info": {
   "codemirror_mode": {
    "name": "ipython",
    "version": 2
   },
   "file_extension": ".py",
   "mimetype": "text/x-python",
   "name": "python",
   "nbconvert_exporter": "python",
   "pygments_lexer": "ipython2",
   "version": "2.7.6"
  }
 },
 "nbformat": 4,
 "nbformat_minor": 5
}
